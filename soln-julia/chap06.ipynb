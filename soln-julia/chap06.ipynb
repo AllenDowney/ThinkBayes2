{
 "cells": [
  {
   "cell_type": "markdown",
   "id": "a823af9f-cdc3-44f6-84ac-5404c42c8166",
   "metadata": {},
   "source": [
    "# Odds and Addends"
   ]
  },
  {
   "cell_type": "code",
   "execution_count": 1,
   "id": "f6fee0ce-322b-4b1f-a359-e0c8c6adef26",
   "metadata": {},
   "outputs": [],
   "source": [
    "include(\"utils.jl\"); using .Utils\n",
    "checkpkgs(\"Plots\", \"DataFrames\", \"Statistics\")\n",
    "using Plots, DataFrames, Statistics"
   ]
  },
  {
   "cell_type": "markdown",
   "id": "81ae0921-5874-47c7-b5e6-4d3c746587d0",
   "metadata": {},
   "source": [
    "## Odds"
   ]
  },
  {
   "cell_type": "code",
   "execution_count": 2,
   "id": "a7c0310b-1cae-46f9-afc4-3470b3ad8a6b",
   "metadata": {},
   "outputs": [
    {
     "data": {
      "text/plain": [
       "odds (generic function with 1 method)"
      ]
     },
     "execution_count": 2,
     "metadata": {},
     "output_type": "execute_result"
    }
   ],
   "source": [
    "odds(p) = p / (1-p)"
   ]
  },
  {
   "cell_type": "code",
   "execution_count": 3,
   "id": "df1b3a52-48df-4de2-a0a3-af45879c539f",
   "metadata": {},
   "outputs": [
    {
     "data": {
      "text/plain": [
       "3.0"
      ]
     },
     "execution_count": 3,
     "metadata": {},
     "output_type": "execute_result"
    }
   ],
   "source": [
    "odds(0.75)"
   ]
  },
  {
   "cell_type": "code",
   "execution_count": 4,
   "id": "578a5c31-a9ba-4a67-8cc5-e8abb9c20f13",
   "metadata": {},
   "outputs": [
    {
     "data": {
      "text/plain": [
       "0.11111111111111112"
      ]
     },
     "execution_count": 4,
     "metadata": {},
     "output_type": "execute_result"
    }
   ],
   "source": [
    "odds(0.1)"
   ]
  },
  {
   "cell_type": "code",
   "execution_count": 5,
   "id": "39f89820-cd24-4aa5-8ec1-cb895714e14a",
   "metadata": {},
   "outputs": [
    {
     "data": {
      "text/plain": [
       "9.000000000000002"
      ]
     },
     "execution_count": 5,
     "metadata": {},
     "output_type": "execute_result"
    }
   ],
   "source": [
    "odds(0.9)"
   ]
  },
  {
   "cell_type": "code",
   "execution_count": 6,
   "id": "4c145b11-1992-4bda-939e-48848eadb6c6",
   "metadata": {},
   "outputs": [
    {
     "data": {
      "text/plain": [
       "prob (generic function with 1 method)"
      ]
     },
     "execution_count": 6,
     "metadata": {},
     "output_type": "execute_result"
    }
   ],
   "source": [
    "prob(o) = o / (o+1)"
   ]
  },
  {
   "cell_type": "code",
   "execution_count": 7,
   "id": "438fbd00-a3bc-467b-881e-3898af3d1150",
   "metadata": {},
   "outputs": [
    {
     "data": {
      "text/plain": [
       "0.6"
      ]
     },
     "execution_count": 7,
     "metadata": {},
     "output_type": "execute_result"
    }
   ],
   "source": [
    "prob(3/2)"
   ]
  },
  {
   "cell_type": "code",
   "execution_count": 8,
   "id": "64606858-97aa-413b-898a-a4dc19fcdfa1",
   "metadata": {},
   "outputs": [
    {
     "data": {
      "text/plain": [
       "prob2 (generic function with 1 method)"
      ]
     },
     "execution_count": 8,
     "metadata": {},
     "output_type": "execute_result"
    }
   ],
   "source": [
    "prob2(yes, no) = yes / (yes + no)"
   ]
  },
  {
   "cell_type": "code",
   "execution_count": 9,
   "id": "688fc0eb-a77e-476f-9551-31e31cf6afce",
   "metadata": {},
   "outputs": [
    {
     "data": {
      "text/plain": [
       "0.6"
      ]
     },
     "execution_count": 9,
     "metadata": {},
     "output_type": "execute_result"
    }
   ],
   "source": [
    "prob2(3, 2)"
   ]
  },
  {
   "cell_type": "markdown",
   "id": "d4b784f9-e967-49e0-ad15-b88a29b5c28f",
   "metadata": {},
   "source": [
    "## Bayes's Rule"
   ]
  },
  {
   "cell_type": "code",
   "execution_count": 10,
   "id": "4247f360-41f6-4dae-b388-cd4e37d59e0a",
   "metadata": {},
   "outputs": [
    {
     "data": {
      "text/plain": [
       "1.5"
      ]
     },
     "execution_count": 10,
     "metadata": {},
     "output_type": "execute_result"
    }
   ],
   "source": [
    "prior_odds = 1\n",
    "likelihood_ratio = (3/4) / (1/2)\n",
    "post_odds = prior_odds * likelihood_ratio\n",
    "post_odds"
   ]
  },
  {
   "cell_type": "code",
   "execution_count": 11,
   "id": "985b85e9-f564-451b-990e-4d85323a7eb3",
   "metadata": {},
   "outputs": [
    {
     "data": {
      "text/plain": [
       "0.6"
      ]
     },
     "execution_count": 11,
     "metadata": {},
     "output_type": "execute_result"
    }
   ],
   "source": [
    "post_prob = prob(post_odds)\n",
    "post_prob"
   ]
  },
  {
   "cell_type": "code",
   "execution_count": 12,
   "id": "fbfdac07-1986-4502-baaf-a52e3c57ec3a",
   "metadata": {},
   "outputs": [
    {
     "data": {
      "text/plain": [
       "0.75"
      ]
     },
     "execution_count": 12,
     "metadata": {},
     "output_type": "execute_result"
    }
   ],
   "source": [
    "likelihood_ratio = (1/4) / (1/2)\n",
    "post_odds *= likelihood_ratio\n",
    "post_odds"
   ]
  },
  {
   "cell_type": "code",
   "execution_count": 13,
   "id": "5ca5010c-47fe-451a-9cc7-9b99b3ed13a3",
   "metadata": {},
   "outputs": [
    {
     "data": {
      "text/plain": [
       "0.42857142857142855"
      ]
     },
     "execution_count": 13,
     "metadata": {},
     "output_type": "execute_result"
    }
   ],
   "source": [
    "post_prob = prob(post_odds)\n",
    "post_prob"
   ]
  },
  {
   "cell_type": "markdown",
   "id": "661f3bf6-ea25-4c49-959f-c7e1f0fe8ffa",
   "metadata": {},
   "source": [
    "## Oliver's Blood"
   ]
  },
  {
   "cell_type": "code",
   "execution_count": 14,
   "id": "deefeece-ae24-4f80-9b7d-255c781fb881",
   "metadata": {},
   "outputs": [
    {
     "data": {
      "text/plain": [
       "0.8333333333333334"
      ]
     },
     "execution_count": 14,
     "metadata": {},
     "output_type": "execute_result"
    }
   ],
   "source": [
    "like1 = 0.01\n",
    "like2 = 2 * 0.6 * 0.01\n",
    "\n",
    "likelihood_ratio = like1 / like2\n",
    "likelihood_ratio"
   ]
  },
  {
   "cell_type": "code",
   "execution_count": 15,
   "id": "073c0368-3381-45d5-9a29-368285a1feab",
   "metadata": {},
   "outputs": [
    {
     "data": {
      "text/plain": [
       "0.45454545454545453"
      ]
     },
     "execution_count": 15,
     "metadata": {},
     "output_type": "execute_result"
    }
   ],
   "source": [
    "post_odds = 1 * like1 / like2\n",
    "prob(post_odds)"
   ]
  },
  {
   "cell_type": "code",
   "execution_count": 16,
   "id": "b14a051d-c14b-4fd6-85fb-65adc2748be6",
   "metadata": {},
   "outputs": [
    {
     "data": {
      "text/plain": [
       "0.8823529411764706"
      ]
     },
     "execution_count": 16,
     "metadata": {},
     "output_type": "execute_result"
    }
   ],
   "source": [
    "# Ex 6.1\n",
    "post_odds = odds(0.9) * like1 / like2\n",
    "prob(post_odds)"
   ]
  },
  {
   "cell_type": "code",
   "execution_count": 17,
   "id": "63fb6c92-90e2-4999-a124-7e6389951b3e",
   "metadata": {},
   "outputs": [
    {
     "data": {
      "text/plain": [
       "0.0847457627118644"
      ]
     },
     "execution_count": 17,
     "metadata": {},
     "output_type": "execute_result"
    }
   ],
   "source": [
    "post_odds = odds(0.1) * like1 / like2\n",
    "prob(post_odds)"
   ]
  },
  {
   "cell_type": "markdown",
   "id": "c8543e90-311d-4a57-9920-2c9661f27da8",
   "metadata": {},
   "source": [
    "## Addends"
   ]
  },
  {
   "cell_type": "code",
   "execution_count": 18,
   "id": "76f8f8cc-4d60-4ea9-bd03-0f224018e6fe",
   "metadata": {},
   "outputs": [
    {
     "data": {
      "text/plain": [
       "make_die (generic function with 1 method)"
      ]
     },
     "execution_count": 18,
     "metadata": {},
     "output_type": "execute_result"
    }
   ],
   "source": [
    "include(\"empiricaldist.jl\"); using .EmpiricalDist\n",
    "function make_die(sides)\n",
    "    outcomes = 1:sides\n",
    "    die = Pmf(1/sides, outcomes)\n",
    "    return die\n",
    "end"
   ]
  },
  {
   "cell_type": "code",
   "execution_count": 19,
   "id": "3511ab29-862f-44e3-ab59-761717cb8274",
   "metadata": {},
   "outputs": [],
   "source": [
    "die = make_die(6);"
   ]
  },
  {
   "cell_type": "code",
   "execution_count": 20,
   "id": "2c236851-543c-4639-908f-36020dd4e740",
   "metadata": {},
   "outputs": [
    {
     "data": {
      "image/svg+xml": [
       "<?xml version=\"1.0\" encoding=\"utf-8\"?>\n",
       "<svg xmlns=\"http://www.w3.org/2000/svg\" xmlns:xlink=\"http://www.w3.org/1999/xlink\" width=\"480\" height=\"320\" viewBox=\"0 0 1920 1280\">\n",
       "<defs>\n",
       "  <clipPath id=\"clip200\">\n",
       "    <rect x=\"0\" y=\"0\" width=\"1920\" height=\"1280\"/>\n",
       "  </clipPath>\n",
       "</defs>\n",
       "<path clip-path=\"url(#clip200)\" d=\"\n",
       "M0 1280 L1920 1280 L1920 0 L0 0  Z\n",
       "  \" fill=\"#ffffff\" fill-rule=\"evenodd\" fill-opacity=\"1\"/>\n",
       "<defs>\n",
       "  <clipPath id=\"clip201\">\n",
       "    <rect x=\"384\" y=\"0\" width=\"1345\" height=\"1280\"/>\n",
       "  </clipPath>\n",
       "</defs>\n",
       "<path clip-path=\"url(#clip200)\" d=\"\n",
       "M244.742 1106.38 L1872.76 1106.38 L1872.76 47.2441 L244.742 47.2441  Z\n",
       "  \" fill=\"#ffffff\" fill-rule=\"evenodd\" fill-opacity=\"1\"/>\n",
       "<defs>\n",
       "  <clipPath id=\"clip202\">\n",
       "    <rect x=\"244\" y=\"47\" width=\"1629\" height=\"1060\"/>\n",
       "  </clipPath>\n",
       "</defs>\n",
       "<polyline clip-path=\"url(#clip202)\" style=\"stroke:#000000; stroke-linecap:butt; stroke-linejoin:round; stroke-width:2; stroke-opacity:0.1; fill:none\" points=\"\n",
       "  434.212,1106.38 434.212,47.2441 \n",
       "  \"/>\n",
       "<polyline clip-path=\"url(#clip202)\" style=\"stroke:#000000; stroke-linecap:butt; stroke-linejoin:round; stroke-width:2; stroke-opacity:0.1; fill:none\" points=\"\n",
       "  684.027,1106.38 684.027,47.2441 \n",
       "  \"/>\n",
       "<polyline clip-path=\"url(#clip202)\" style=\"stroke:#000000; stroke-linecap:butt; stroke-linejoin:round; stroke-width:2; stroke-opacity:0.1; fill:none\" points=\"\n",
       "  933.842,1106.38 933.842,47.2441 \n",
       "  \"/>\n",
       "<polyline clip-path=\"url(#clip202)\" style=\"stroke:#000000; stroke-linecap:butt; stroke-linejoin:round; stroke-width:2; stroke-opacity:0.1; fill:none\" points=\"\n",
       "  1183.66,1106.38 1183.66,47.2441 \n",
       "  \"/>\n",
       "<polyline clip-path=\"url(#clip202)\" style=\"stroke:#000000; stroke-linecap:butt; stroke-linejoin:round; stroke-width:2; stroke-opacity:0.1; fill:none\" points=\"\n",
       "  1433.47,1106.38 1433.47,47.2441 \n",
       "  \"/>\n",
       "<polyline clip-path=\"url(#clip202)\" style=\"stroke:#000000; stroke-linecap:butt; stroke-linejoin:round; stroke-width:2; stroke-opacity:0.1; fill:none\" points=\"\n",
       "  1683.29,1106.38 1683.29,47.2441 \n",
       "  \"/>\n",
       "<polyline clip-path=\"url(#clip200)\" style=\"stroke:#000000; stroke-linecap:butt; stroke-linejoin:round; stroke-width:4; stroke-opacity:1; fill:none\" points=\"\n",
       "  244.742,1106.38 1872.76,1106.38 \n",
       "  \"/>\n",
       "<polyline clip-path=\"url(#clip200)\" style=\"stroke:#000000; stroke-linecap:butt; stroke-linejoin:round; stroke-width:4; stroke-opacity:1; fill:none\" points=\"\n",
       "  434.212,1106.38 434.212,1087.48 \n",
       "  \"/>\n",
       "<polyline clip-path=\"url(#clip200)\" style=\"stroke:#000000; stroke-linecap:butt; stroke-linejoin:round; stroke-width:4; stroke-opacity:1; fill:none\" points=\"\n",
       "  684.027,1106.38 684.027,1087.48 \n",
       "  \"/>\n",
       "<polyline clip-path=\"url(#clip200)\" style=\"stroke:#000000; stroke-linecap:butt; stroke-linejoin:round; stroke-width:4; stroke-opacity:1; fill:none\" points=\"\n",
       "  933.842,1106.38 933.842,1087.48 \n",
       "  \"/>\n",
       "<polyline clip-path=\"url(#clip200)\" style=\"stroke:#000000; stroke-linecap:butt; stroke-linejoin:round; stroke-width:4; stroke-opacity:1; fill:none\" points=\"\n",
       "  1183.66,1106.38 1183.66,1087.48 \n",
       "  \"/>\n",
       "<polyline clip-path=\"url(#clip200)\" style=\"stroke:#000000; stroke-linecap:butt; stroke-linejoin:round; stroke-width:4; stroke-opacity:1; fill:none\" points=\"\n",
       "  1433.47,1106.38 1433.47,1087.48 \n",
       "  \"/>\n",
       "<polyline clip-path=\"url(#clip200)\" style=\"stroke:#000000; stroke-linecap:butt; stroke-linejoin:round; stroke-width:4; stroke-opacity:1; fill:none\" points=\"\n",
       "  1683.29,1106.38 1683.29,1087.48 \n",
       "  \"/>\n",
       "<path clip-path=\"url(#clip200)\" d=\"M424.594 1161 L432.233 1161 L432.233 1134.64 L423.922 1136.31 L423.922 1132.05 L432.186 1130.38 L436.862 1130.38 L436.862 1161 L444.501 1161 L444.501 1164.94 L424.594 1164.94 L424.594 1161 Z\" fill=\"#000000\" fill-rule=\"evenodd\" fill-opacity=\"1\" /><path clip-path=\"url(#clip200)\" d=\"M678.679 1161 L694.999 1161 L694.999 1164.94 L673.054 1164.94 L673.054 1161 Q675.716 1158.25 680.3 1153.62 Q684.906 1148.97 686.087 1147.63 Q688.332 1145.1 689.212 1143.37 Q690.115 1141.61 690.115 1139.92 Q690.115 1137.16 688.17 1135.43 Q686.249 1133.69 683.147 1133.69 Q680.948 1133.69 678.494 1134.45 Q676.064 1135.22 673.286 1136.77 L673.286 1132.05 Q676.11 1130.91 678.564 1130.33 Q681.017 1129.75 683.054 1129.75 Q688.425 1129.75 691.619 1132.44 Q694.814 1135.13 694.814 1139.62 Q694.814 1141.75 694.003 1143.67 Q693.216 1145.56 691.11 1148.16 Q690.531 1148.83 687.429 1152.05 Q684.328 1155.24 678.679 1161 Z\" fill=\"#000000\" fill-rule=\"evenodd\" fill-opacity=\"1\" /><path clip-path=\"url(#clip200)\" d=\"M938.089 1146.31 Q941.446 1147.02 943.321 1149.29 Q945.219 1151.56 945.219 1154.89 Q945.219 1160.01 941.7 1162.81 Q938.182 1165.61 931.7 1165.61 Q929.524 1165.61 927.21 1165.17 Q924.918 1164.75 922.464 1163.9 L922.464 1159.38 Q924.409 1160.52 926.723 1161.1 Q929.038 1161.68 931.561 1161.68 Q935.96 1161.68 938.251 1159.94 Q940.566 1158.2 940.566 1154.89 Q940.566 1151.84 938.413 1150.13 Q936.284 1148.39 932.464 1148.39 L928.436 1148.39 L928.436 1144.55 L932.649 1144.55 Q936.098 1144.55 937.927 1143.18 Q939.756 1141.79 939.756 1139.2 Q939.756 1136.54 937.858 1135.13 Q935.983 1133.69 932.464 1133.69 Q930.543 1133.69 928.344 1134.11 Q926.145 1134.52 923.506 1135.4 L923.506 1131.24 Q926.168 1130.5 928.483 1130.13 Q930.821 1129.75 932.881 1129.75 Q938.205 1129.75 941.307 1132.19 Q944.409 1134.59 944.409 1138.71 Q944.409 1141.58 942.765 1143.57 Q941.122 1145.54 938.089 1146.31 Z\" fill=\"#000000\" fill-rule=\"evenodd\" fill-opacity=\"1\" /><path clip-path=\"url(#clip200)\" d=\"M1186.67 1134.45 L1174.86 1152.9 L1186.67 1152.9 L1186.67 1134.45 M1185.44 1130.38 L1191.32 1130.38 L1191.32 1152.9 L1196.25 1152.9 L1196.25 1156.79 L1191.32 1156.79 L1191.32 1164.94 L1186.67 1164.94 L1186.67 1156.79 L1171.06 1156.79 L1171.06 1152.28 L1185.44 1130.38 Z\" fill=\"#000000\" fill-rule=\"evenodd\" fill-opacity=\"1\" /><path clip-path=\"url(#clip200)\" d=\"M1423.75 1130.38 L1442.11 1130.38 L1442.11 1134.32 L1428.03 1134.32 L1428.03 1142.79 Q1429.05 1142.44 1430.07 1142.28 Q1431.09 1142.09 1432.11 1142.09 Q1437.89 1142.09 1441.27 1145.26 Q1444.65 1148.44 1444.65 1153.85 Q1444.65 1159.43 1441.18 1162.53 Q1437.71 1165.61 1431.39 1165.61 Q1429.21 1165.61 1426.94 1165.24 Q1424.7 1164.87 1422.29 1164.13 L1422.29 1159.43 Q1424.37 1160.56 1426.6 1161.12 Q1428.82 1161.68 1431.3 1161.68 Q1435.3 1161.68 1437.64 1159.57 Q1439.98 1157.46 1439.98 1153.85 Q1439.98 1150.24 1437.64 1148.13 Q1435.3 1146.03 1431.3 1146.03 Q1429.42 1146.03 1427.55 1146.44 Q1425.69 1146.86 1423.75 1147.74 L1423.75 1130.38 Z\" fill=\"#000000\" fill-rule=\"evenodd\" fill-opacity=\"1\" /><path clip-path=\"url(#clip200)\" d=\"M1683.69 1145.8 Q1680.54 1145.8 1678.69 1147.95 Q1676.86 1150.1 1676.86 1153.85 Q1676.86 1157.58 1678.69 1159.75 Q1680.54 1161.91 1683.69 1161.91 Q1686.84 1161.91 1688.67 1159.75 Q1690.52 1157.58 1690.52 1153.85 Q1690.52 1150.1 1688.67 1147.95 Q1686.84 1145.8 1683.69 1145.8 M1692.97 1131.14 L1692.97 1135.4 Q1691.21 1134.57 1689.41 1134.13 Q1687.63 1133.69 1685.87 1133.69 Q1681.24 1133.69 1678.78 1136.81 Q1676.35 1139.94 1676.01 1146.26 Q1677.37 1144.25 1679.43 1143.18 Q1681.49 1142.09 1683.97 1142.09 Q1689.18 1142.09 1692.19 1145.26 Q1695.22 1148.41 1695.22 1153.85 Q1695.22 1159.18 1692.07 1162.39 Q1688.92 1165.61 1683.69 1165.61 Q1677.7 1165.61 1674.52 1161.03 Q1671.35 1156.42 1671.35 1147.69 Q1671.35 1139.5 1675.24 1134.64 Q1679.13 1129.75 1685.68 1129.75 Q1687.44 1129.75 1689.22 1130.1 Q1691.03 1130.45 1692.97 1131.14 Z\" fill=\"#000000\" fill-rule=\"evenodd\" fill-opacity=\"1\" /><path clip-path=\"url(#clip200)\" d=\"M935.588 1200.88 Q928.586 1200.88 924.448 1206.1 Q920.343 1211.32 920.343 1220.33 Q920.343 1229.31 924.448 1234.53 Q928.586 1239.75 935.588 1239.75 Q942.591 1239.75 946.665 1234.53 Q950.771 1229.31 950.771 1220.33 Q950.771 1211.32 946.665 1206.1 Q942.591 1200.88 935.588 1200.88 M935.588 1195.66 Q945.583 1195.66 951.566 1202.38 Q957.55 1209.06 957.55 1220.33 Q957.55 1231.57 951.566 1238.28 Q945.583 1244.97 935.588 1244.97 Q925.562 1244.97 919.547 1238.28 Q913.563 1231.6 913.563 1220.33 Q913.563 1209.06 919.547 1202.38 Q925.562 1195.66 935.588 1195.66 Z\" fill=\"#000000\" fill-rule=\"evenodd\" fill-opacity=\"1\" /><path clip-path=\"url(#clip200)\" d=\"M966.749 1229.98 L966.749 1208.4 L972.605 1208.4 L972.605 1229.75 Q972.605 1234.81 974.578 1237.36 Q976.552 1239.87 980.499 1239.87 Q985.241 1239.87 987.978 1236.85 Q990.747 1233.83 990.747 1228.61 L990.747 1208.4 L996.604 1208.4 L996.604 1244.04 L990.747 1244.04 L990.747 1238.57 Q988.615 1241.82 985.782 1243.41 Q982.981 1244.97 979.257 1244.97 Q973.114 1244.97 969.931 1241.15 Q966.749 1237.33 966.749 1229.98 M981.485 1207.54 L981.485 1207.54 Z\" fill=\"#000000\" fill-rule=\"evenodd\" fill-opacity=\"1\" /><path clip-path=\"url(#clip200)\" d=\"M1014.46 1198.27 L1014.46 1208.4 L1026.52 1208.4 L1026.52 1212.95 L1014.46 1212.95 L1014.46 1232.3 Q1014.46 1236.66 1015.64 1237.9 Q1016.85 1239.14 1020.51 1239.14 L1026.52 1239.14 L1026.52 1244.04 L1020.51 1244.04 Q1013.73 1244.04 1011.15 1241.53 Q1008.57 1238.98 1008.57 1232.3 L1008.57 1212.95 L1004.27 1212.95 L1004.27 1208.4 L1008.57 1208.4 L1008.57 1198.27 L1014.46 1198.27 Z\" fill=\"#000000\" fill-rule=\"evenodd\" fill-opacity=\"1\" /><path clip-path=\"url(#clip200)\" d=\"M1059.88 1209.76 L1059.88 1215.24 Q1057.4 1213.87 1054.88 1213.2 Q1052.4 1212.5 1049.85 1212.5 Q1044.16 1212.5 1041 1216.13 Q1037.85 1219.73 1037.85 1226.25 Q1037.85 1232.78 1041 1236.4 Q1044.16 1240 1049.85 1240 Q1052.4 1240 1054.88 1239.33 Q1057.4 1238.63 1059.88 1237.26 L1059.88 1242.68 Q1057.43 1243.82 1054.79 1244.39 Q1052.18 1244.97 1049.22 1244.97 Q1041.16 1244.97 1036.42 1239.91 Q1031.68 1234.85 1031.68 1226.25 Q1031.68 1217.53 1036.45 1212.53 Q1041.26 1207.54 1049.6 1207.54 Q1052.3 1207.54 1054.88 1208.11 Q1057.46 1208.65 1059.88 1209.76 Z\" fill=\"#000000\" fill-rule=\"evenodd\" fill-opacity=\"1\" /><path clip-path=\"url(#clip200)\" d=\"M1083.88 1212.5 Q1079.17 1212.5 1076.43 1216.19 Q1073.69 1219.85 1073.69 1226.25 Q1073.69 1232.65 1076.4 1236.34 Q1079.14 1240 1083.88 1240 Q1088.56 1240 1091.29 1236.31 Q1094.03 1232.62 1094.03 1226.25 Q1094.03 1219.92 1091.29 1216.23 Q1088.56 1212.5 1083.88 1212.5 M1083.88 1207.54 Q1091.52 1207.54 1095.88 1212.5 Q1100.24 1217.47 1100.24 1226.25 Q1100.24 1235 1095.88 1240 Q1091.52 1244.97 1083.88 1244.97 Q1076.21 1244.97 1071.85 1240 Q1067.52 1235 1067.52 1226.25 Q1067.52 1217.47 1071.85 1212.5 Q1076.21 1207.54 1083.88 1207.54 Z\" fill=\"#000000\" fill-rule=\"evenodd\" fill-opacity=\"1\" /><path clip-path=\"url(#clip200)\" d=\"M1137.7 1215.24 Q1139.9 1211.29 1142.95 1209.41 Q1146.01 1207.54 1150.14 1207.54 Q1155.71 1207.54 1158.74 1211.45 Q1161.76 1215.33 1161.76 1222.53 L1161.76 1244.04 L1155.87 1244.04 L1155.87 1222.72 Q1155.87 1217.59 1154.06 1215.11 Q1152.25 1212.63 1148.52 1212.63 Q1143.97 1212.63 1141.33 1215.65 Q1138.69 1218.68 1138.69 1223.9 L1138.69 1244.04 L1132.8 1244.04 L1132.8 1222.72 Q1132.8 1217.56 1130.98 1215.11 Q1129.17 1212.63 1125.38 1212.63 Q1120.89 1212.63 1118.25 1215.68 Q1115.61 1218.71 1115.61 1223.9 L1115.61 1244.04 L1109.72 1244.04 L1109.72 1208.4 L1115.61 1208.4 L1115.61 1213.93 Q1117.62 1210.66 1120.42 1209.1 Q1123.22 1207.54 1127.07 1207.54 Q1130.95 1207.54 1133.66 1209.51 Q1136.39 1211.48 1137.7 1215.24 Z\" fill=\"#000000\" fill-rule=\"evenodd\" fill-opacity=\"1\" /><path clip-path=\"url(#clip200)\" d=\"M1203.93 1224.76 L1203.93 1227.62 L1177.01 1227.62 Q1177.39 1233.67 1180.64 1236.85 Q1183.91 1240 1189.74 1240 Q1193.11 1240 1196.26 1239.17 Q1199.45 1238.35 1202.57 1236.69 L1202.57 1242.23 Q1199.42 1243.57 1196.11 1244.27 Q1192.79 1244.97 1189.39 1244.97 Q1180.86 1244.97 1175.86 1240 Q1170.9 1235.04 1170.9 1226.57 Q1170.9 1217.82 1175.61 1212.69 Q1180.35 1207.54 1188.37 1207.54 Q1195.56 1207.54 1199.73 1212.18 Q1203.93 1216.8 1203.93 1224.76 M1198.08 1223.04 Q1198.01 1218.23 1195.37 1215.37 Q1192.76 1212.5 1188.43 1212.5 Q1183.53 1212.5 1180.57 1215.27 Q1177.64 1218.04 1177.2 1223.07 L1198.08 1223.04 Z\" fill=\"#000000\" fill-rule=\"evenodd\" fill-opacity=\"1\" /><polyline clip-path=\"url(#clip202)\" style=\"stroke:#000000; stroke-linecap:butt; stroke-linejoin:round; stroke-width:2; stroke-opacity:0.1; fill:none\" points=\"\n",
       "  244.742,1076.4 1872.76,1076.4 \n",
       "  \"/>\n",
       "<polyline clip-path=\"url(#clip202)\" style=\"stroke:#000000; stroke-linecap:butt; stroke-linejoin:round; stroke-width:2; stroke-opacity:0.1; fill:none\" points=\"\n",
       "  244.742,776.649 1872.76,776.649 \n",
       "  \"/>\n",
       "<polyline clip-path=\"url(#clip202)\" style=\"stroke:#000000; stroke-linecap:butt; stroke-linejoin:round; stroke-width:2; stroke-opacity:0.1; fill:none\" points=\"\n",
       "  244.742,476.894 1872.76,476.894 \n",
       "  \"/>\n",
       "<polyline clip-path=\"url(#clip202)\" style=\"stroke:#000000; stroke-linecap:butt; stroke-linejoin:round; stroke-width:2; stroke-opacity:0.1; fill:none\" points=\"\n",
       "  244.742,177.138 1872.76,177.138 \n",
       "  \"/>\n",
       "<polyline clip-path=\"url(#clip200)\" style=\"stroke:#000000; stroke-linecap:butt; stroke-linejoin:round; stroke-width:4; stroke-opacity:1; fill:none\" points=\"\n",
       "  244.742,1106.38 244.742,47.2441 \n",
       "  \"/>\n",
       "<polyline clip-path=\"url(#clip200)\" style=\"stroke:#000000; stroke-linecap:butt; stroke-linejoin:round; stroke-width:4; stroke-opacity:1; fill:none\" points=\"\n",
       "  244.742,1076.4 263.64,1076.4 \n",
       "  \"/>\n",
       "<polyline clip-path=\"url(#clip200)\" style=\"stroke:#000000; stroke-linecap:butt; stroke-linejoin:round; stroke-width:4; stroke-opacity:1; fill:none\" points=\"\n",
       "  244.742,776.649 263.64,776.649 \n",
       "  \"/>\n",
       "<polyline clip-path=\"url(#clip200)\" style=\"stroke:#000000; stroke-linecap:butt; stroke-linejoin:round; stroke-width:4; stroke-opacity:1; fill:none\" points=\"\n",
       "  244.742,476.894 263.64,476.894 \n",
       "  \"/>\n",
       "<polyline clip-path=\"url(#clip200)\" style=\"stroke:#000000; stroke-linecap:butt; stroke-linejoin:round; stroke-width:4; stroke-opacity:1; fill:none\" points=\"\n",
       "  244.742,177.138 263.64,177.138 \n",
       "  \"/>\n",
       "<path clip-path=\"url(#clip200)\" d=\"M128.605 1062.2 Q124.993 1062.2 123.165 1065.77 Q121.359 1069.31 121.359 1076.44 Q121.359 1083.55 123.165 1087.11 Q124.993 1090.65 128.605 1090.65 Q132.239 1090.65 134.044 1087.11 Q135.873 1083.55 135.873 1076.44 Q135.873 1069.31 134.044 1065.77 Q132.239 1062.2 128.605 1062.2 M128.605 1058.5 Q134.415 1058.5 137.47 1063.11 Q140.549 1067.69 140.549 1076.44 Q140.549 1085.17 137.47 1089.77 Q134.415 1094.36 128.605 1094.36 Q122.794 1094.36 119.716 1089.77 Q116.66 1085.17 116.66 1076.44 Q116.66 1067.69 119.716 1063.11 Q122.794 1058.5 128.605 1058.5 Z\" fill=\"#000000\" fill-rule=\"evenodd\" fill-opacity=\"1\" /><path clip-path=\"url(#clip200)\" d=\"M148.766 1087.8 L153.651 1087.8 L153.651 1093.68 L148.766 1093.68 L148.766 1087.8 Z\" fill=\"#000000\" fill-rule=\"evenodd\" fill-opacity=\"1\" /><path clip-path=\"url(#clip200)\" d=\"M173.836 1062.2 Q170.225 1062.2 168.396 1065.77 Q166.59 1069.31 166.59 1076.44 Q166.59 1083.55 168.396 1087.11 Q170.225 1090.65 173.836 1090.65 Q177.47 1090.65 179.276 1087.11 Q181.104 1083.55 181.104 1076.44 Q181.104 1069.31 179.276 1065.77 Q177.47 1062.2 173.836 1062.2 M173.836 1058.5 Q179.646 1058.5 182.701 1063.11 Q185.78 1067.69 185.78 1076.44 Q185.78 1085.17 182.701 1089.77 Q179.646 1094.36 173.836 1094.36 Q168.026 1094.36 164.947 1089.77 Q161.891 1085.17 161.891 1076.44 Q161.891 1067.69 164.947 1063.11 Q168.026 1058.5 173.836 1058.5 Z\" fill=\"#000000\" fill-rule=\"evenodd\" fill-opacity=\"1\" /><path clip-path=\"url(#clip200)\" d=\"M203.998 1062.2 Q200.387 1062.2 198.558 1065.77 Q196.752 1069.31 196.752 1076.44 Q196.752 1083.55 198.558 1087.11 Q200.387 1090.65 203.998 1090.65 Q207.632 1090.65 209.437 1087.11 Q211.266 1083.55 211.266 1076.44 Q211.266 1069.31 209.437 1065.77 Q207.632 1062.2 203.998 1062.2 M203.998 1058.5 Q209.808 1058.5 212.863 1063.11 Q215.942 1067.69 215.942 1076.44 Q215.942 1085.17 212.863 1089.77 Q209.808 1094.36 203.998 1094.36 Q198.187 1094.36 195.109 1089.77 Q192.053 1085.17 192.053 1076.44 Q192.053 1067.69 195.109 1063.11 Q198.187 1058.5 203.998 1058.5 Z\" fill=\"#000000\" fill-rule=\"evenodd\" fill-opacity=\"1\" /><path clip-path=\"url(#clip200)\" d=\"M129.6 762.448 Q125.989 762.448 124.16 766.012 Q122.355 769.554 122.355 776.684 Q122.355 783.79 124.16 787.355 Q125.989 790.897 129.6 790.897 Q133.234 790.897 135.04 787.355 Q136.868 783.79 136.868 776.684 Q136.868 769.554 135.04 766.012 Q133.234 762.448 129.6 762.448 M129.6 758.744 Q135.41 758.744 138.466 763.35 Q141.544 767.934 141.544 776.684 Q141.544 785.41 138.466 790.017 Q135.41 794.6 129.6 794.6 Q123.79 794.6 120.711 790.017 Q117.656 785.41 117.656 776.684 Q117.656 767.934 120.711 763.35 Q123.79 758.744 129.6 758.744 Z\" fill=\"#000000\" fill-rule=\"evenodd\" fill-opacity=\"1\" /><path clip-path=\"url(#clip200)\" d=\"M149.762 788.049 L154.646 788.049 L154.646 793.929 L149.762 793.929 L149.762 788.049 Z\" fill=\"#000000\" fill-rule=\"evenodd\" fill-opacity=\"1\" /><path clip-path=\"url(#clip200)\" d=\"M174.831 762.448 Q171.22 762.448 169.391 766.012 Q167.586 769.554 167.586 776.684 Q167.586 783.79 169.391 787.355 Q171.22 790.897 174.831 790.897 Q178.465 790.897 180.271 787.355 Q182.1 783.79 182.1 776.684 Q182.1 769.554 180.271 766.012 Q178.465 762.448 174.831 762.448 M174.831 758.744 Q180.641 758.744 183.697 763.35 Q186.776 767.934 186.776 776.684 Q186.776 785.41 183.697 790.017 Q180.641 794.6 174.831 794.6 Q169.021 794.6 165.942 790.017 Q162.887 785.41 162.887 776.684 Q162.887 767.934 165.942 763.35 Q169.021 758.744 174.831 758.744 Z\" fill=\"#000000\" fill-rule=\"evenodd\" fill-opacity=\"1\" /><path clip-path=\"url(#clip200)\" d=\"M195.039 759.369 L213.396 759.369 L213.396 763.304 L199.322 763.304 L199.322 771.776 Q200.34 771.429 201.359 771.267 Q202.377 771.082 203.396 771.082 Q209.183 771.082 212.562 774.253 Q215.942 777.424 215.942 782.841 Q215.942 788.42 212.47 791.522 Q208.998 794.6 202.678 794.6 Q200.502 794.6 198.234 794.23 Q195.988 793.859 193.581 793.119 L193.581 788.42 Q195.664 789.554 197.887 790.109 Q200.109 790.665 202.586 790.665 Q206.59 790.665 208.928 788.559 Q211.266 786.452 211.266 782.841 Q211.266 779.23 208.928 777.123 Q206.59 775.017 202.586 775.017 Q200.711 775.017 198.836 775.434 Q196.984 775.85 195.039 776.73 L195.039 759.369 Z\" fill=\"#000000\" fill-rule=\"evenodd\" fill-opacity=\"1\" /><path clip-path=\"url(#clip200)\" d=\"M128.605 462.692 Q124.993 462.692 123.165 466.257 Q121.359 469.799 121.359 476.928 Q121.359 484.035 123.165 487.599 Q124.993 491.141 128.605 491.141 Q132.239 491.141 134.044 487.599 Q135.873 484.035 135.873 476.928 Q135.873 469.799 134.044 466.257 Q132.239 462.692 128.605 462.692 M128.605 458.989 Q134.415 458.989 137.47 463.595 Q140.549 468.178 140.549 476.928 Q140.549 485.655 137.47 490.261 Q134.415 494.845 128.605 494.845 Q122.794 494.845 119.716 490.261 Q116.66 485.655 116.66 476.928 Q116.66 468.178 119.716 463.595 Q122.794 458.989 128.605 458.989 Z\" fill=\"#000000\" fill-rule=\"evenodd\" fill-opacity=\"1\" /><path clip-path=\"url(#clip200)\" d=\"M148.766 488.294 L153.651 488.294 L153.651 494.174 L148.766 494.174 L148.766 488.294 Z\" fill=\"#000000\" fill-rule=\"evenodd\" fill-opacity=\"1\" /><path clip-path=\"url(#clip200)\" d=\"M164.646 490.238 L172.285 490.238 L172.285 463.873 L163.975 465.539 L163.975 461.28 L172.239 459.614 L176.914 459.614 L176.914 490.238 L184.553 490.238 L184.553 494.174 L164.646 494.174 L164.646 490.238 Z\" fill=\"#000000\" fill-rule=\"evenodd\" fill-opacity=\"1\" /><path clip-path=\"url(#clip200)\" d=\"M203.998 462.692 Q200.387 462.692 198.558 466.257 Q196.752 469.799 196.752 476.928 Q196.752 484.035 198.558 487.599 Q200.387 491.141 203.998 491.141 Q207.632 491.141 209.437 487.599 Q211.266 484.035 211.266 476.928 Q211.266 469.799 209.437 466.257 Q207.632 462.692 203.998 462.692 M203.998 458.989 Q209.808 458.989 212.863 463.595 Q215.942 468.178 215.942 476.928 Q215.942 485.655 212.863 490.261 Q209.808 494.845 203.998 494.845 Q198.187 494.845 195.109 490.261 Q192.053 485.655 192.053 476.928 Q192.053 468.178 195.109 463.595 Q198.187 458.989 203.998 458.989 Z\" fill=\"#000000\" fill-rule=\"evenodd\" fill-opacity=\"1\" /><path clip-path=\"url(#clip200)\" d=\"M129.6 162.937 Q125.989 162.937 124.16 166.502 Q122.355 170.043 122.355 177.173 Q122.355 184.279 124.16 187.844 Q125.989 191.386 129.6 191.386 Q133.234 191.386 135.04 187.844 Q136.868 184.279 136.868 177.173 Q136.868 170.043 135.04 166.502 Q133.234 162.937 129.6 162.937 M129.6 159.233 Q135.41 159.233 138.466 163.84 Q141.544 168.423 141.544 177.173 Q141.544 185.9 138.466 190.506 Q135.41 195.089 129.6 195.089 Q123.79 195.089 120.711 190.506 Q117.656 185.9 117.656 177.173 Q117.656 168.423 120.711 163.84 Q123.79 159.233 129.6 159.233 Z\" fill=\"#000000\" fill-rule=\"evenodd\" fill-opacity=\"1\" /><path clip-path=\"url(#clip200)\" d=\"M149.762 188.539 L154.646 188.539 L154.646 194.418 L149.762 194.418 L149.762 188.539 Z\" fill=\"#000000\" fill-rule=\"evenodd\" fill-opacity=\"1\" /><path clip-path=\"url(#clip200)\" d=\"M165.641 190.483 L173.28 190.483 L173.28 164.117 L164.97 165.784 L164.97 161.525 L173.234 159.858 L177.91 159.858 L177.91 190.483 L185.549 190.483 L185.549 194.418 L165.641 194.418 L165.641 190.483 Z\" fill=\"#000000\" fill-rule=\"evenodd\" fill-opacity=\"1\" /><path clip-path=\"url(#clip200)\" d=\"M195.039 159.858 L213.396 159.858 L213.396 163.793 L199.322 163.793 L199.322 172.265 Q200.34 171.918 201.359 171.756 Q202.377 171.571 203.396 171.571 Q209.183 171.571 212.562 174.742 Q215.942 177.914 215.942 183.33 Q215.942 188.909 212.47 192.011 Q208.998 195.089 202.678 195.089 Q200.502 195.089 198.234 194.719 Q195.988 194.349 193.581 193.608 L193.581 188.909 Q195.664 190.043 197.887 190.599 Q200.109 191.154 202.586 191.154 Q206.59 191.154 208.928 189.048 Q211.266 186.941 211.266 183.33 Q211.266 179.719 208.928 177.613 Q206.59 175.506 202.586 175.506 Q200.711 175.506 198.836 175.923 Q196.984 176.339 195.039 177.219 L195.039 159.858 Z\" fill=\"#000000\" fill-rule=\"evenodd\" fill-opacity=\"1\" /><path clip-path=\"url(#clip200)\" d=\"M31.3677 631.812 L49.2235 631.812 L49.2235 623.727 Q49.2235 619.239 46.9 616.789 Q44.5765 614.338 40.2797 614.338 Q36.0147 614.338 33.6912 616.789 Q31.3677 619.239 31.3677 623.727 L31.3677 631.812 M26.0842 638.241 L26.0842 623.727 Q26.0842 615.738 29.7126 611.664 Q33.3092 607.558 40.2797 607.558 Q47.3138 607.558 50.9104 611.664 Q54.507 615.738 54.507 623.727 L54.507 631.812 L73.6042 631.812 L73.6042 638.241 L26.0842 638.241 Z\" fill=\"#000000\" fill-rule=\"evenodd\" fill-opacity=\"1\" /><path clip-path=\"url(#clip200)\" d=\"M26.0842 598.933 L26.0842 589.352 L58.4219 577.226 L26.0842 565.035 L26.0842 555.455 L73.6042 555.455 L73.6042 561.725 L31.877 561.725 L64.4694 573.979 L64.4694 580.44 L31.877 592.694 L73.6042 592.694 L73.6042 598.933 L26.0842 598.933 Z\" fill=\"#000000\" fill-rule=\"evenodd\" fill-opacity=\"1\" /><path clip-path=\"url(#clip200)\" d=\"M26.0842 542.692 L26.0842 515.383 L31.495 515.383 L31.495 536.262 L45.4996 536.262 L45.4996 517.42 L50.9104 517.42 L50.9104 536.262 L73.6042 536.262 L73.6042 542.692 L26.0842 542.692 Z\" fill=\"#000000\" fill-rule=\"evenodd\" fill-opacity=\"1\" /><path clip-path=\"url(#clip202)\" d=\"\n",
       "M334.286 77.2196 L334.286 1076.4 L534.138 1076.4 L534.138 77.2196 L334.286 77.2196 L334.286 77.2196  Z\n",
       "  \" fill=\"#009af9\" fill-rule=\"evenodd\" fill-opacity=\"0.4\"/>\n",
       "<polyline clip-path=\"url(#clip202)\" style=\"stroke:#000000; stroke-linecap:butt; stroke-linejoin:round; stroke-width:8; stroke-opacity:0.4; fill:none\" points=\"\n",
       "  334.286,77.2196 334.286,1076.4 534.138,1076.4 534.138,77.2196 334.286,77.2196 \n",
       "  \"/>\n",
       "<path clip-path=\"url(#clip202)\" d=\"\n",
       "M584.101 77.2196 L584.101 1076.4 L783.953 1076.4 L783.953 77.2196 L584.101 77.2196 L584.101 77.2196  Z\n",
       "  \" fill=\"#009af9\" fill-rule=\"evenodd\" fill-opacity=\"0.4\"/>\n",
       "<polyline clip-path=\"url(#clip202)\" style=\"stroke:#000000; stroke-linecap:butt; stroke-linejoin:round; stroke-width:8; stroke-opacity:0.4; fill:none\" points=\"\n",
       "  584.101,77.2196 584.101,1076.4 783.953,1076.4 783.953,77.2196 584.101,77.2196 \n",
       "  \"/>\n",
       "<path clip-path=\"url(#clip202)\" d=\"\n",
       "M833.916 77.2196 L833.916 1076.4 L1033.77 1076.4 L1033.77 77.2196 L833.916 77.2196 L833.916 77.2196  Z\n",
       "  \" fill=\"#009af9\" fill-rule=\"evenodd\" fill-opacity=\"0.4\"/>\n",
       "<polyline clip-path=\"url(#clip202)\" style=\"stroke:#000000; stroke-linecap:butt; stroke-linejoin:round; stroke-width:8; stroke-opacity:0.4; fill:none\" points=\"\n",
       "  833.916,77.2196 833.916,1076.4 1033.77,1076.4 1033.77,77.2196 833.916,77.2196 \n",
       "  \"/>\n",
       "<path clip-path=\"url(#clip202)\" d=\"\n",
       "M1083.73 77.2196 L1083.73 1076.4 L1283.58 1076.4 L1283.58 77.2196 L1083.73 77.2196 L1083.73 77.2196  Z\n",
       "  \" fill=\"#009af9\" fill-rule=\"evenodd\" fill-opacity=\"0.4\"/>\n",
       "<polyline clip-path=\"url(#clip202)\" style=\"stroke:#000000; stroke-linecap:butt; stroke-linejoin:round; stroke-width:8; stroke-opacity:0.4; fill:none\" points=\"\n",
       "  1083.73,77.2196 1083.73,1076.4 1283.58,1076.4 1283.58,77.2196 1083.73,77.2196 \n",
       "  \"/>\n",
       "<path clip-path=\"url(#clip202)\" d=\"\n",
       "M1333.55 77.2196 L1333.55 1076.4 L1533.4 1076.4 L1533.4 77.2196 L1333.55 77.2196 L1333.55 77.2196  Z\n",
       "  \" fill=\"#009af9\" fill-rule=\"evenodd\" fill-opacity=\"0.4\"/>\n",
       "<polyline clip-path=\"url(#clip202)\" style=\"stroke:#000000; stroke-linecap:butt; stroke-linejoin:round; stroke-width:8; stroke-opacity:0.4; fill:none\" points=\"\n",
       "  1333.55,77.2196 1333.55,1076.4 1533.4,1076.4 1533.4,77.2196 1333.55,77.2196 \n",
       "  \"/>\n",
       "<path clip-path=\"url(#clip202)\" d=\"\n",
       "M1583.36 77.2196 L1583.36 1076.4 L1783.21 1076.4 L1783.21 77.2196 L1583.36 77.2196 L1583.36 77.2196  Z\n",
       "  \" fill=\"#009af9\" fill-rule=\"evenodd\" fill-opacity=\"0.4\"/>\n",
       "<polyline clip-path=\"url(#clip202)\" style=\"stroke:#000000; stroke-linecap:butt; stroke-linejoin:round; stroke-width:8; stroke-opacity:0.4; fill:none\" points=\"\n",
       "  1583.36,77.2196 1583.36,1076.4 1783.21,1076.4 1783.21,77.2196 1583.36,77.2196 \n",
       "  \"/>\n",
       "<circle clip-path=\"url(#clip202)\" style=\"fill:#009af9; stroke:none; fill-opacity:0\" cx=\"434.212\" cy=\"77.2196\" r=\"2\"/>\n",
       "<circle clip-path=\"url(#clip202)\" style=\"fill:#009af9; stroke:none; fill-opacity:0\" cx=\"684.027\" cy=\"77.2196\" r=\"2\"/>\n",
       "<circle clip-path=\"url(#clip202)\" style=\"fill:#009af9; stroke:none; fill-opacity:0\" cx=\"933.842\" cy=\"77.2196\" r=\"2\"/>\n",
       "<circle clip-path=\"url(#clip202)\" style=\"fill:#009af9; stroke:none; fill-opacity:0\" cx=\"1183.66\" cy=\"77.2196\" r=\"2\"/>\n",
       "<circle clip-path=\"url(#clip202)\" style=\"fill:#009af9; stroke:none; fill-opacity:0\" cx=\"1433.47\" cy=\"77.2196\" r=\"2\"/>\n",
       "<circle clip-path=\"url(#clip202)\" style=\"fill:#009af9; stroke:none; fill-opacity:0\" cx=\"1683.29\" cy=\"77.2196\" r=\"2\"/>\n",
       "</svg>\n"
      ]
     },
     "execution_count": 20,
     "metadata": {},
     "output_type": "execute_result"
    }
   ],
   "source": [
    "bar(die, alpha=0.4)\n",
    "xlabel!(\"Outcome\")\n",
    "ylabel!(\"PMF\")"
   ]
  },
  {
   "cell_type": "code",
   "execution_count": 21,
   "id": "83f7cd40-696f-4237-a852-dead71caf60b",
   "metadata": {},
   "outputs": [
    {
     "data": {
      "text/plain": [
       "add_dist"
      ]
     },
     "execution_count": 21,
     "metadata": {},
     "output_type": "execute_result"
    }
   ],
   "source": [
    "\"\"\"Compute the distribution of a sum.\"\"\"\n",
    "function add_dist(pmf1, pmf2)\n",
    "    res = Pmf()\n",
    "    for (q1, p1) in pairs(pmf1)\n",
    "        for (q2, p2) in pairs(pmf2)\n",
    "            q = q1 + q2\n",
    "            p = p1 * p2\n",
    "            res[q] = res(q) + p\n",
    "        end\n",
    "    end\n",
    "    return res\n",
    "end"
   ]
  },
  {
   "cell_type": "code",
   "execution_count": 22,
   "id": "0d3b38e0-35ee-405e-8f76-2a1d255133a1",
   "metadata": {},
   "outputs": [],
   "source": [
    "twice = add_dist(die, die);"
   ]
  },
  {
   "cell_type": "code",
   "execution_count": 23,
   "id": "b82dbf2e-1fcf-4a61-aaa9-bebebafd78eb",
   "metadata": {},
   "outputs": [
    {
     "data": {
      "text/plain": [
       "decorate_dice! (generic function with 2 methods)"
      ]
     },
     "execution_count": 23,
     "metadata": {},
     "output_type": "execute_result"
    }
   ],
   "source": [
    "function decorate_dice!(title=\"\")\n",
    "    xlabel!(\"Outcome\")\n",
    "    ylabel!(\"PMF\")\n",
    "    title!(title)\n",
    "end\n",
    "decorate_dice!(;title=\"\") = decorate_dice!(title)"
   ]
  },
  {
   "cell_type": "code",
   "execution_count": 24,
   "id": "c34d4544-2979-4932-bbaa-88f1098f8ab7",
   "metadata": {},
   "outputs": [
    {
     "data": {
      "image/svg+xml": [
       "<?xml version=\"1.0\" encoding=\"utf-8\"?>\n",
       "<svg xmlns=\"http://www.w3.org/2000/svg\" xmlns:xlink=\"http://www.w3.org/1999/xlink\" width=\"480\" height=\"320\" viewBox=\"0 0 1920 1280\">\n",
       "<defs>\n",
       "  <clipPath id=\"clip240\">\n",
       "    <rect x=\"0\" y=\"0\" width=\"1920\" height=\"1280\"/>\n",
       "  </clipPath>\n",
       "</defs>\n",
       "<path clip-path=\"url(#clip240)\" d=\"\n",
       "M0 1280 L1920 1280 L1920 0 L0 0  Z\n",
       "  \" fill=\"#ffffff\" fill-rule=\"evenodd\" fill-opacity=\"1\"/>\n",
       "<defs>\n",
       "  <clipPath id=\"clip241\">\n",
       "    <rect x=\"384\" y=\"0\" width=\"1345\" height=\"1280\"/>\n",
       "  </clipPath>\n",
       "</defs>\n",
       "<path clip-path=\"url(#clip240)\" d=\"\n",
       "M244.742 1106.38 L1872.76 1106.38 L1872.76 47.2441 L244.742 47.2441  Z\n",
       "  \" fill=\"#ffffff\" fill-rule=\"evenodd\" fill-opacity=\"1\"/>\n",
       "<defs>\n",
       "  <clipPath id=\"clip242\">\n",
       "    <rect x=\"244\" y=\"47\" width=\"1629\" height=\"1060\"/>\n",
       "  </clipPath>\n",
       "</defs>\n",
       "<polyline clip-path=\"url(#clip242)\" style=\"stroke:#000000; stroke-linecap:butt; stroke-linejoin:round; stroke-width:2; stroke-opacity:0.1; fill:none\" points=\"\n",
       "  455.03,1106.38 455.03,47.2441 \n",
       "  \"/>\n",
       "<polyline clip-path=\"url(#clip242)\" style=\"stroke:#000000; stroke-linecap:butt; stroke-linejoin:round; stroke-width:2; stroke-opacity:0.1; fill:none\" points=\"\n",
       "  790.429,1106.38 790.429,47.2441 \n",
       "  \"/>\n",
       "<polyline clip-path=\"url(#clip242)\" style=\"stroke:#000000; stroke-linecap:butt; stroke-linejoin:round; stroke-width:2; stroke-opacity:0.1; fill:none\" points=\"\n",
       "  1125.83,1106.38 1125.83,47.2441 \n",
       "  \"/>\n",
       "<polyline clip-path=\"url(#clip242)\" style=\"stroke:#000000; stroke-linecap:butt; stroke-linejoin:round; stroke-width:2; stroke-opacity:0.1; fill:none\" points=\"\n",
       "  1461.23,1106.38 1461.23,47.2441 \n",
       "  \"/>\n",
       "<polyline clip-path=\"url(#clip242)\" style=\"stroke:#000000; stroke-linecap:butt; stroke-linejoin:round; stroke-width:2; stroke-opacity:0.1; fill:none\" points=\"\n",
       "  1796.63,1106.38 1796.63,47.2441 \n",
       "  \"/>\n",
       "<polyline clip-path=\"url(#clip240)\" style=\"stroke:#000000; stroke-linecap:butt; stroke-linejoin:round; stroke-width:4; stroke-opacity:1; fill:none\" points=\"\n",
       "  244.742,1106.38 1872.76,1106.38 \n",
       "  \"/>\n",
       "<polyline clip-path=\"url(#clip240)\" style=\"stroke:#000000; stroke-linecap:butt; stroke-linejoin:round; stroke-width:4; stroke-opacity:1; fill:none\" points=\"\n",
       "  455.03,1106.38 455.03,1087.48 \n",
       "  \"/>\n",
       "<polyline clip-path=\"url(#clip240)\" style=\"stroke:#000000; stroke-linecap:butt; stroke-linejoin:round; stroke-width:4; stroke-opacity:1; fill:none\" points=\"\n",
       "  790.429,1106.38 790.429,1087.48 \n",
       "  \"/>\n",
       "<polyline clip-path=\"url(#clip240)\" style=\"stroke:#000000; stroke-linecap:butt; stroke-linejoin:round; stroke-width:4; stroke-opacity:1; fill:none\" points=\"\n",
       "  1125.83,1106.38 1125.83,1087.48 \n",
       "  \"/>\n",
       "<polyline clip-path=\"url(#clip240)\" style=\"stroke:#000000; stroke-linecap:butt; stroke-linejoin:round; stroke-width:4; stroke-opacity:1; fill:none\" points=\"\n",
       "  1461.23,1106.38 1461.23,1087.48 \n",
       "  \"/>\n",
       "<polyline clip-path=\"url(#clip240)\" style=\"stroke:#000000; stroke-linecap:butt; stroke-linejoin:round; stroke-width:4; stroke-opacity:1; fill:none\" points=\"\n",
       "  1796.63,1106.38 1796.63,1087.48 \n",
       "  \"/>\n",
       "<path clip-path=\"url(#clip240)\" d=\"M426.766 1161 L443.085 1161 L443.085 1164.94 L421.141 1164.94 L421.141 1161 Q423.803 1158.25 428.386 1153.62 Q432.993 1148.97 434.173 1147.63 Q436.419 1145.1 437.298 1143.37 Q438.201 1141.61 438.201 1139.92 Q438.201 1137.16 436.257 1135.43 Q434.335 1133.69 431.233 1133.69 Q429.034 1133.69 426.581 1134.45 Q424.15 1135.22 421.372 1136.77 L421.372 1132.05 Q424.196 1130.91 426.65 1130.33 Q429.104 1129.75 431.141 1129.75 Q436.511 1129.75 439.706 1132.44 Q442.9 1135.13 442.9 1139.62 Q442.9 1141.75 442.09 1143.67 Q441.303 1145.56 439.196 1148.16 Q438.618 1148.83 435.516 1152.05 Q432.414 1155.24 426.766 1161 Z\" fill=\"#000000\" fill-rule=\"evenodd\" fill-opacity=\"1\" /><path clip-path=\"url(#clip240)\" d=\"M452.9 1159.06 L457.784 1159.06 L457.784 1164.94 L452.9 1164.94 L452.9 1159.06 Z\" fill=\"#000000\" fill-rule=\"evenodd\" fill-opacity=\"1\" /><path clip-path=\"url(#clip240)\" d=\"M468.016 1130.38 L486.372 1130.38 L486.372 1134.32 L472.298 1134.32 L472.298 1142.79 Q473.317 1142.44 474.335 1142.28 Q475.354 1142.09 476.372 1142.09 Q482.159 1142.09 485.539 1145.26 Q488.918 1148.44 488.918 1153.85 Q488.918 1159.43 485.446 1162.53 Q481.974 1165.61 475.654 1165.61 Q473.479 1165.61 471.21 1165.24 Q468.965 1164.87 466.557 1164.13 L466.557 1159.43 Q468.641 1160.56 470.863 1161.12 Q473.085 1161.68 475.562 1161.68 Q479.566 1161.68 481.904 1159.57 Q484.242 1157.46 484.242 1153.85 Q484.242 1150.24 481.904 1148.13 Q479.566 1146.03 475.562 1146.03 Q473.687 1146.03 471.812 1146.44 Q469.96 1146.86 468.016 1147.74 L468.016 1130.38 Z\" fill=\"#000000\" fill-rule=\"evenodd\" fill-opacity=\"1\" /><path clip-path=\"url(#clip240)\" d=\"M757.594 1130.38 L775.95 1130.38 L775.95 1134.32 L761.876 1134.32 L761.876 1142.79 Q762.895 1142.44 763.913 1142.28 Q764.932 1142.09 765.95 1142.09 Q771.737 1142.09 775.117 1145.26 Q778.496 1148.44 778.496 1153.85 Q778.496 1159.43 775.024 1162.53 Q771.552 1165.61 765.233 1165.61 Q763.057 1165.61 760.788 1165.24 Q758.543 1164.87 756.135 1164.13 L756.135 1159.43 Q758.219 1160.56 760.441 1161.12 Q762.663 1161.68 765.14 1161.68 Q769.145 1161.68 771.483 1159.57 Q773.821 1157.46 773.821 1153.85 Q773.821 1150.24 771.483 1148.13 Q769.145 1146.03 765.14 1146.03 Q763.265 1146.03 761.39 1146.44 Q759.538 1146.86 757.594 1147.74 L757.594 1130.38 Z\" fill=\"#000000\" fill-rule=\"evenodd\" fill-opacity=\"1\" /><path clip-path=\"url(#clip240)\" d=\"M787.709 1159.06 L792.594 1159.06 L792.594 1164.94 L787.709 1164.94 L787.709 1159.06 Z\" fill=\"#000000\" fill-rule=\"evenodd\" fill-opacity=\"1\" /><path clip-path=\"url(#clip240)\" d=\"M812.779 1133.46 Q809.168 1133.46 807.339 1137.02 Q805.533 1140.56 805.533 1147.69 Q805.533 1154.8 807.339 1158.37 Q809.168 1161.91 812.779 1161.91 Q816.413 1161.91 818.218 1158.37 Q820.047 1154.8 820.047 1147.69 Q820.047 1140.56 818.218 1137.02 Q816.413 1133.46 812.779 1133.46 M812.779 1129.75 Q818.589 1129.75 821.644 1134.36 Q824.723 1138.94 824.723 1147.69 Q824.723 1156.42 821.644 1161.03 Q818.589 1165.61 812.779 1165.61 Q806.969 1165.61 803.89 1161.03 Q800.834 1156.42 800.834 1147.69 Q800.834 1138.94 803.89 1134.36 Q806.969 1129.75 812.779 1129.75 Z\" fill=\"#000000\" fill-rule=\"evenodd\" fill-opacity=\"1\" /><path clip-path=\"url(#clip240)\" d=\"M1092.15 1130.38 L1114.37 1130.38 L1114.37 1132.37 L1101.82 1164.94 L1096.94 1164.94 L1108.75 1134.32 L1092.15 1134.32 L1092.15 1130.38 Z\" fill=\"#000000\" fill-rule=\"evenodd\" fill-opacity=\"1\" /><path clip-path=\"url(#clip240)\" d=\"M1123.49 1159.06 L1128.38 1159.06 L1128.38 1164.94 L1123.49 1164.94 L1123.49 1159.06 Z\" fill=\"#000000\" fill-rule=\"evenodd\" fill-opacity=\"1\" /><path clip-path=\"url(#clip240)\" d=\"M1138.61 1130.38 L1156.96 1130.38 L1156.96 1134.32 L1142.89 1134.32 L1142.89 1142.79 Q1143.91 1142.44 1144.93 1142.28 Q1145.94 1142.09 1146.96 1142.09 Q1152.75 1142.09 1156.13 1145.26 Q1159.51 1148.44 1159.51 1153.85 Q1159.51 1159.43 1156.04 1162.53 Q1152.56 1165.61 1146.25 1165.61 Q1144.07 1165.61 1141.8 1165.24 Q1139.56 1164.87 1137.15 1164.13 L1137.15 1159.43 Q1139.23 1160.56 1141.45 1161.12 Q1143.68 1161.68 1146.15 1161.68 Q1150.16 1161.68 1152.5 1159.57 Q1154.83 1157.46 1154.83 1153.85 Q1154.83 1150.24 1152.5 1148.13 Q1150.16 1146.03 1146.15 1146.03 Q1144.28 1146.03 1142.4 1146.44 Q1140.55 1146.86 1138.61 1147.74 L1138.61 1130.38 Z\" fill=\"#000000\" fill-rule=\"evenodd\" fill-opacity=\"1\" /><path clip-path=\"url(#clip240)\" d=\"M1413.3 1161 L1420.94 1161 L1420.94 1134.64 L1412.63 1136.31 L1412.63 1132.05 L1420.89 1130.38 L1425.57 1130.38 L1425.57 1161 L1433.21 1161 L1433.21 1164.94 L1413.3 1164.94 L1413.3 1161 Z\" fill=\"#000000\" fill-rule=\"evenodd\" fill-opacity=\"1\" /><path clip-path=\"url(#clip240)\" d=\"M1452.65 1133.46 Q1449.04 1133.46 1447.21 1137.02 Q1445.41 1140.56 1445.41 1147.69 Q1445.41 1154.8 1447.21 1158.37 Q1449.04 1161.91 1452.65 1161.91 Q1456.29 1161.91 1458.09 1158.37 Q1459.92 1154.8 1459.92 1147.69 Q1459.92 1140.56 1458.09 1137.02 Q1456.29 1133.46 1452.65 1133.46 M1452.65 1129.75 Q1458.46 1129.75 1461.52 1134.36 Q1464.6 1138.94 1464.6 1147.69 Q1464.6 1156.42 1461.52 1161.03 Q1458.46 1165.61 1452.65 1165.61 Q1446.84 1165.61 1443.76 1161.03 Q1440.71 1156.42 1440.71 1147.69 Q1440.71 1138.94 1443.76 1134.36 Q1446.84 1129.75 1452.65 1129.75 Z\" fill=\"#000000\" fill-rule=\"evenodd\" fill-opacity=\"1\" /><path clip-path=\"url(#clip240)\" d=\"M1472.81 1159.06 L1477.7 1159.06 L1477.7 1164.94 L1472.81 1164.94 L1472.81 1159.06 Z\" fill=\"#000000\" fill-rule=\"evenodd\" fill-opacity=\"1\" /><path clip-path=\"url(#clip240)\" d=\"M1497.88 1133.46 Q1494.27 1133.46 1492.44 1137.02 Q1490.64 1140.56 1490.64 1147.69 Q1490.64 1154.8 1492.44 1158.37 Q1494.27 1161.91 1497.88 1161.91 Q1501.52 1161.91 1503.32 1158.37 Q1505.15 1154.8 1505.15 1147.69 Q1505.15 1140.56 1503.32 1137.02 Q1501.52 1133.46 1497.88 1133.46 M1497.88 1129.75 Q1503.69 1129.75 1506.75 1134.36 Q1509.83 1138.94 1509.83 1147.69 Q1509.83 1156.42 1506.75 1161.03 Q1503.69 1165.61 1497.88 1165.61 Q1492.07 1165.61 1488.99 1161.03 Q1485.94 1156.42 1485.94 1147.69 Q1485.94 1138.94 1488.99 1134.36 Q1492.07 1129.75 1497.88 1129.75 Z\" fill=\"#000000\" fill-rule=\"evenodd\" fill-opacity=\"1\" /><path clip-path=\"url(#clip240)\" d=\"M1749.2 1161 L1756.84 1161 L1756.84 1134.64 L1748.53 1136.31 L1748.53 1132.05 L1756.79 1130.38 L1761.47 1130.38 L1761.47 1161 L1769.11 1161 L1769.11 1164.94 L1749.2 1164.94 L1749.2 1161 Z\" fill=\"#000000\" fill-rule=\"evenodd\" fill-opacity=\"1\" /><path clip-path=\"url(#clip240)\" d=\"M1782.58 1161 L1798.9 1161 L1798.9 1164.94 L1776.95 1164.94 L1776.95 1161 Q1779.61 1158.25 1784.2 1153.62 Q1788.8 1148.97 1789.98 1147.63 Q1792.23 1145.1 1793.11 1143.37 Q1794.01 1141.61 1794.01 1139.92 Q1794.01 1137.16 1792.07 1135.43 Q1790.15 1133.69 1787.04 1133.69 Q1784.85 1133.69 1782.39 1134.45 Q1779.96 1135.22 1777.18 1136.77 L1777.18 1132.05 Q1780.01 1130.91 1782.46 1130.33 Q1784.92 1129.75 1786.95 1129.75 Q1792.32 1129.75 1795.52 1132.44 Q1798.71 1135.13 1798.71 1139.62 Q1798.71 1141.75 1797.9 1143.67 Q1797.11 1145.56 1795.01 1148.16 Q1794.43 1148.83 1791.33 1152.05 Q1788.23 1155.24 1782.58 1161 Z\" fill=\"#000000\" fill-rule=\"evenodd\" fill-opacity=\"1\" /><path clip-path=\"url(#clip240)\" d=\"M1808.71 1159.06 L1813.6 1159.06 L1813.6 1164.94 L1808.71 1164.94 L1808.71 1159.06 Z\" fill=\"#000000\" fill-rule=\"evenodd\" fill-opacity=\"1\" /><path clip-path=\"url(#clip240)\" d=\"M1823.83 1130.38 L1842.18 1130.38 L1842.18 1134.32 L1828.11 1134.32 L1828.11 1142.79 Q1829.13 1142.44 1830.15 1142.28 Q1831.17 1142.09 1832.18 1142.09 Q1837.97 1142.09 1841.35 1145.26 Q1844.73 1148.44 1844.73 1153.85 Q1844.73 1159.43 1841.26 1162.53 Q1837.79 1165.61 1831.47 1165.61 Q1829.29 1165.61 1827.02 1165.24 Q1824.78 1164.87 1822.37 1164.13 L1822.37 1159.43 Q1824.45 1160.56 1826.67 1161.12 Q1828.9 1161.68 1831.37 1161.68 Q1835.38 1161.68 1837.72 1159.57 Q1840.05 1157.46 1840.05 1153.85 Q1840.05 1150.24 1837.72 1148.13 Q1835.38 1146.03 1831.37 1146.03 Q1829.5 1146.03 1827.62 1146.44 Q1825.77 1146.86 1823.83 1147.74 L1823.83 1130.38 Z\" fill=\"#000000\" fill-rule=\"evenodd\" fill-opacity=\"1\" /><path clip-path=\"url(#clip240)\" d=\"M935.588 1200.88 Q928.586 1200.88 924.448 1206.1 Q920.343 1211.32 920.343 1220.33 Q920.343 1229.31 924.448 1234.53 Q928.586 1239.75 935.588 1239.75 Q942.591 1239.75 946.665 1234.53 Q950.771 1229.31 950.771 1220.33 Q950.771 1211.32 946.665 1206.1 Q942.591 1200.88 935.588 1200.88 M935.588 1195.66 Q945.583 1195.66 951.566 1202.38 Q957.55 1209.06 957.55 1220.33 Q957.55 1231.57 951.566 1238.28 Q945.583 1244.97 935.588 1244.97 Q925.562 1244.97 919.547 1238.28 Q913.563 1231.6 913.563 1220.33 Q913.563 1209.06 919.547 1202.38 Q925.562 1195.66 935.588 1195.66 Z\" fill=\"#000000\" fill-rule=\"evenodd\" fill-opacity=\"1\" /><path clip-path=\"url(#clip240)\" d=\"M966.749 1229.98 L966.749 1208.4 L972.605 1208.4 L972.605 1229.75 Q972.605 1234.81 974.578 1237.36 Q976.552 1239.87 980.499 1239.87 Q985.241 1239.87 987.978 1236.85 Q990.747 1233.83 990.747 1228.61 L990.747 1208.4 L996.604 1208.4 L996.604 1244.04 L990.747 1244.04 L990.747 1238.57 Q988.615 1241.82 985.782 1243.41 Q982.981 1244.97 979.257 1244.97 Q973.114 1244.97 969.931 1241.15 Q966.749 1237.33 966.749 1229.98 M981.485 1207.54 L981.485 1207.54 Z\" fill=\"#000000\" fill-rule=\"evenodd\" fill-opacity=\"1\" /><path clip-path=\"url(#clip240)\" d=\"M1014.46 1198.27 L1014.46 1208.4 L1026.52 1208.4 L1026.52 1212.95 L1014.46 1212.95 L1014.46 1232.3 Q1014.46 1236.66 1015.64 1237.9 Q1016.85 1239.14 1020.51 1239.14 L1026.52 1239.14 L1026.52 1244.04 L1020.51 1244.04 Q1013.73 1244.04 1011.15 1241.53 Q1008.57 1238.98 1008.57 1232.3 L1008.57 1212.95 L1004.27 1212.95 L1004.27 1208.4 L1008.57 1208.4 L1008.57 1198.27 L1014.46 1198.27 Z\" fill=\"#000000\" fill-rule=\"evenodd\" fill-opacity=\"1\" /><path clip-path=\"url(#clip240)\" d=\"M1059.88 1209.76 L1059.88 1215.24 Q1057.4 1213.87 1054.88 1213.2 Q1052.4 1212.5 1049.85 1212.5 Q1044.16 1212.5 1041 1216.13 Q1037.85 1219.73 1037.85 1226.25 Q1037.85 1232.78 1041 1236.4 Q1044.16 1240 1049.85 1240 Q1052.4 1240 1054.88 1239.33 Q1057.4 1238.63 1059.88 1237.26 L1059.88 1242.68 Q1057.43 1243.82 1054.79 1244.39 Q1052.18 1244.97 1049.22 1244.97 Q1041.16 1244.97 1036.42 1239.91 Q1031.68 1234.85 1031.68 1226.25 Q1031.68 1217.53 1036.45 1212.53 Q1041.26 1207.54 1049.6 1207.54 Q1052.3 1207.54 1054.88 1208.11 Q1057.46 1208.65 1059.88 1209.76 Z\" fill=\"#000000\" fill-rule=\"evenodd\" fill-opacity=\"1\" /><path clip-path=\"url(#clip240)\" d=\"M1083.88 1212.5 Q1079.17 1212.5 1076.43 1216.19 Q1073.69 1219.85 1073.69 1226.25 Q1073.69 1232.65 1076.4 1236.34 Q1079.14 1240 1083.88 1240 Q1088.56 1240 1091.29 1236.31 Q1094.03 1232.62 1094.03 1226.25 Q1094.03 1219.92 1091.29 1216.23 Q1088.56 1212.5 1083.88 1212.5 M1083.88 1207.54 Q1091.52 1207.54 1095.88 1212.5 Q1100.24 1217.47 1100.24 1226.25 Q1100.24 1235 1095.88 1240 Q1091.52 1244.97 1083.88 1244.97 Q1076.21 1244.97 1071.85 1240 Q1067.52 1235 1067.52 1226.25 Q1067.52 1217.47 1071.85 1212.5 Q1076.21 1207.54 1083.88 1207.54 Z\" fill=\"#000000\" fill-rule=\"evenodd\" fill-opacity=\"1\" /><path clip-path=\"url(#clip240)\" d=\"M1137.7 1215.24 Q1139.9 1211.29 1142.95 1209.41 Q1146.01 1207.54 1150.14 1207.54 Q1155.71 1207.54 1158.74 1211.45 Q1161.76 1215.33 1161.76 1222.53 L1161.76 1244.04 L1155.87 1244.04 L1155.87 1222.72 Q1155.87 1217.59 1154.06 1215.11 Q1152.25 1212.63 1148.52 1212.63 Q1143.97 1212.63 1141.33 1215.65 Q1138.69 1218.68 1138.69 1223.9 L1138.69 1244.04 L1132.8 1244.04 L1132.8 1222.72 Q1132.8 1217.56 1130.98 1215.11 Q1129.17 1212.63 1125.38 1212.63 Q1120.89 1212.63 1118.25 1215.68 Q1115.61 1218.71 1115.61 1223.9 L1115.61 1244.04 L1109.72 1244.04 L1109.72 1208.4 L1115.61 1208.4 L1115.61 1213.93 Q1117.62 1210.66 1120.42 1209.1 Q1123.22 1207.54 1127.07 1207.54 Q1130.95 1207.54 1133.66 1209.51 Q1136.39 1211.48 1137.7 1215.24 Z\" fill=\"#000000\" fill-rule=\"evenodd\" fill-opacity=\"1\" /><path clip-path=\"url(#clip240)\" d=\"M1203.93 1224.76 L1203.93 1227.62 L1177.01 1227.62 Q1177.39 1233.67 1180.64 1236.85 Q1183.91 1240 1189.74 1240 Q1193.11 1240 1196.26 1239.17 Q1199.45 1238.35 1202.57 1236.69 L1202.57 1242.23 Q1199.42 1243.57 1196.11 1244.27 Q1192.79 1244.97 1189.39 1244.97 Q1180.86 1244.97 1175.86 1240 Q1170.9 1235.04 1170.9 1226.57 Q1170.9 1217.82 1175.61 1212.69 Q1180.35 1207.54 1188.37 1207.54 Q1195.56 1207.54 1199.73 1212.18 Q1203.93 1216.8 1203.93 1224.76 M1198.08 1223.04 Q1198.01 1218.23 1195.37 1215.37 Q1192.76 1212.5 1188.43 1212.5 Q1183.53 1212.5 1180.57 1215.27 Q1177.64 1218.04 1177.2 1223.07 L1198.08 1223.04 Z\" fill=\"#000000\" fill-rule=\"evenodd\" fill-opacity=\"1\" /><polyline clip-path=\"url(#clip242)\" style=\"stroke:#000000; stroke-linecap:butt; stroke-linejoin:round; stroke-width:2; stroke-opacity:0.1; fill:none\" points=\"\n",
       "  244.742,1076.4 1872.76,1076.4 \n",
       "  \"/>\n",
       "<polyline clip-path=\"url(#clip242)\" style=\"stroke:#000000; stroke-linecap:butt; stroke-linejoin:round; stroke-width:2; stroke-opacity:0.1; fill:none\" points=\"\n",
       "  244.742,776.649 1872.76,776.649 \n",
       "  \"/>\n",
       "<polyline clip-path=\"url(#clip242)\" style=\"stroke:#000000; stroke-linecap:butt; stroke-linejoin:round; stroke-width:2; stroke-opacity:0.1; fill:none\" points=\"\n",
       "  244.742,476.894 1872.76,476.894 \n",
       "  \"/>\n",
       "<polyline clip-path=\"url(#clip242)\" style=\"stroke:#000000; stroke-linecap:butt; stroke-linejoin:round; stroke-width:2; stroke-opacity:0.1; fill:none\" points=\"\n",
       "  244.742,177.138 1872.76,177.138 \n",
       "  \"/>\n",
       "<polyline clip-path=\"url(#clip240)\" style=\"stroke:#000000; stroke-linecap:butt; stroke-linejoin:round; stroke-width:4; stroke-opacity:1; fill:none\" points=\"\n",
       "  244.742,1106.38 244.742,47.2441 \n",
       "  \"/>\n",
       "<polyline clip-path=\"url(#clip240)\" style=\"stroke:#000000; stroke-linecap:butt; stroke-linejoin:round; stroke-width:4; stroke-opacity:1; fill:none\" points=\"\n",
       "  244.742,1076.4 263.64,1076.4 \n",
       "  \"/>\n",
       "<polyline clip-path=\"url(#clip240)\" style=\"stroke:#000000; stroke-linecap:butt; stroke-linejoin:round; stroke-width:4; stroke-opacity:1; fill:none\" points=\"\n",
       "  244.742,776.649 263.64,776.649 \n",
       "  \"/>\n",
       "<polyline clip-path=\"url(#clip240)\" style=\"stroke:#000000; stroke-linecap:butt; stroke-linejoin:round; stroke-width:4; stroke-opacity:1; fill:none\" points=\"\n",
       "  244.742,476.894 263.64,476.894 \n",
       "  \"/>\n",
       "<polyline clip-path=\"url(#clip240)\" style=\"stroke:#000000; stroke-linecap:butt; stroke-linejoin:round; stroke-width:4; stroke-opacity:1; fill:none\" points=\"\n",
       "  244.742,177.138 263.64,177.138 \n",
       "  \"/>\n",
       "<path clip-path=\"url(#clip240)\" d=\"M128.605 1062.2 Q124.993 1062.2 123.165 1065.77 Q121.359 1069.31 121.359 1076.44 Q121.359 1083.55 123.165 1087.11 Q124.993 1090.65 128.605 1090.65 Q132.239 1090.65 134.044 1087.11 Q135.873 1083.55 135.873 1076.44 Q135.873 1069.31 134.044 1065.77 Q132.239 1062.2 128.605 1062.2 M128.605 1058.5 Q134.415 1058.5 137.47 1063.11 Q140.549 1067.69 140.549 1076.44 Q140.549 1085.17 137.47 1089.77 Q134.415 1094.36 128.605 1094.36 Q122.794 1094.36 119.716 1089.77 Q116.66 1085.17 116.66 1076.44 Q116.66 1067.69 119.716 1063.11 Q122.794 1058.5 128.605 1058.5 Z\" fill=\"#000000\" fill-rule=\"evenodd\" fill-opacity=\"1\" /><path clip-path=\"url(#clip240)\" d=\"M148.766 1087.8 L153.651 1087.8 L153.651 1093.68 L148.766 1093.68 L148.766 1087.8 Z\" fill=\"#000000\" fill-rule=\"evenodd\" fill-opacity=\"1\" /><path clip-path=\"url(#clip240)\" d=\"M173.836 1062.2 Q170.225 1062.2 168.396 1065.77 Q166.59 1069.31 166.59 1076.44 Q166.59 1083.55 168.396 1087.11 Q170.225 1090.65 173.836 1090.65 Q177.47 1090.65 179.276 1087.11 Q181.104 1083.55 181.104 1076.44 Q181.104 1069.31 179.276 1065.77 Q177.47 1062.2 173.836 1062.2 M173.836 1058.5 Q179.646 1058.5 182.701 1063.11 Q185.78 1067.69 185.78 1076.44 Q185.78 1085.17 182.701 1089.77 Q179.646 1094.36 173.836 1094.36 Q168.026 1094.36 164.947 1089.77 Q161.891 1085.17 161.891 1076.44 Q161.891 1067.69 164.947 1063.11 Q168.026 1058.5 173.836 1058.5 Z\" fill=\"#000000\" fill-rule=\"evenodd\" fill-opacity=\"1\" /><path clip-path=\"url(#clip240)\" d=\"M203.998 1062.2 Q200.387 1062.2 198.558 1065.77 Q196.752 1069.31 196.752 1076.44 Q196.752 1083.55 198.558 1087.11 Q200.387 1090.65 203.998 1090.65 Q207.632 1090.65 209.437 1087.11 Q211.266 1083.55 211.266 1076.44 Q211.266 1069.31 209.437 1065.77 Q207.632 1062.2 203.998 1062.2 M203.998 1058.5 Q209.808 1058.5 212.863 1063.11 Q215.942 1067.69 215.942 1076.44 Q215.942 1085.17 212.863 1089.77 Q209.808 1094.36 203.998 1094.36 Q198.187 1094.36 195.109 1089.77 Q192.053 1085.17 192.053 1076.44 Q192.053 1067.69 195.109 1063.11 Q198.187 1058.5 203.998 1058.5 Z\" fill=\"#000000\" fill-rule=\"evenodd\" fill-opacity=\"1\" /><path clip-path=\"url(#clip240)\" d=\"M129.6 762.448 Q125.989 762.448 124.16 766.012 Q122.355 769.554 122.355 776.684 Q122.355 783.79 124.16 787.355 Q125.989 790.897 129.6 790.897 Q133.234 790.897 135.04 787.355 Q136.868 783.79 136.868 776.684 Q136.868 769.554 135.04 766.012 Q133.234 762.448 129.6 762.448 M129.6 758.744 Q135.41 758.744 138.466 763.35 Q141.544 767.934 141.544 776.684 Q141.544 785.41 138.466 790.017 Q135.41 794.6 129.6 794.6 Q123.79 794.6 120.711 790.017 Q117.656 785.41 117.656 776.684 Q117.656 767.934 120.711 763.35 Q123.79 758.744 129.6 758.744 Z\" fill=\"#000000\" fill-rule=\"evenodd\" fill-opacity=\"1\" /><path clip-path=\"url(#clip240)\" d=\"M149.762 788.049 L154.646 788.049 L154.646 793.929 L149.762 793.929 L149.762 788.049 Z\" fill=\"#000000\" fill-rule=\"evenodd\" fill-opacity=\"1\" /><path clip-path=\"url(#clip240)\" d=\"M174.831 762.448 Q171.22 762.448 169.391 766.012 Q167.586 769.554 167.586 776.684 Q167.586 783.79 169.391 787.355 Q171.22 790.897 174.831 790.897 Q178.465 790.897 180.271 787.355 Q182.1 783.79 182.1 776.684 Q182.1 769.554 180.271 766.012 Q178.465 762.448 174.831 762.448 M174.831 758.744 Q180.641 758.744 183.697 763.35 Q186.776 767.934 186.776 776.684 Q186.776 785.41 183.697 790.017 Q180.641 794.6 174.831 794.6 Q169.021 794.6 165.942 790.017 Q162.887 785.41 162.887 776.684 Q162.887 767.934 165.942 763.35 Q169.021 758.744 174.831 758.744 Z\" fill=\"#000000\" fill-rule=\"evenodd\" fill-opacity=\"1\" /><path clip-path=\"url(#clip240)\" d=\"M195.039 759.369 L213.396 759.369 L213.396 763.304 L199.322 763.304 L199.322 771.776 Q200.34 771.429 201.359 771.267 Q202.377 771.082 203.396 771.082 Q209.183 771.082 212.562 774.253 Q215.942 777.424 215.942 782.841 Q215.942 788.42 212.47 791.522 Q208.998 794.6 202.678 794.6 Q200.502 794.6 198.234 794.23 Q195.988 793.859 193.581 793.119 L193.581 788.42 Q195.664 789.554 197.887 790.109 Q200.109 790.665 202.586 790.665 Q206.59 790.665 208.928 788.559 Q211.266 786.452 211.266 782.841 Q211.266 779.23 208.928 777.123 Q206.59 775.017 202.586 775.017 Q200.711 775.017 198.836 775.434 Q196.984 775.85 195.039 776.73 L195.039 759.369 Z\" fill=\"#000000\" fill-rule=\"evenodd\" fill-opacity=\"1\" /><path clip-path=\"url(#clip240)\" d=\"M128.605 462.692 Q124.993 462.692 123.165 466.257 Q121.359 469.799 121.359 476.928 Q121.359 484.035 123.165 487.599 Q124.993 491.141 128.605 491.141 Q132.239 491.141 134.044 487.599 Q135.873 484.035 135.873 476.928 Q135.873 469.799 134.044 466.257 Q132.239 462.692 128.605 462.692 M128.605 458.989 Q134.415 458.989 137.47 463.595 Q140.549 468.178 140.549 476.928 Q140.549 485.655 137.47 490.261 Q134.415 494.845 128.605 494.845 Q122.794 494.845 119.716 490.261 Q116.66 485.655 116.66 476.928 Q116.66 468.178 119.716 463.595 Q122.794 458.989 128.605 458.989 Z\" fill=\"#000000\" fill-rule=\"evenodd\" fill-opacity=\"1\" /><path clip-path=\"url(#clip240)\" d=\"M148.766 488.294 L153.651 488.294 L153.651 494.174 L148.766 494.174 L148.766 488.294 Z\" fill=\"#000000\" fill-rule=\"evenodd\" fill-opacity=\"1\" /><path clip-path=\"url(#clip240)\" d=\"M164.646 490.238 L172.285 490.238 L172.285 463.873 L163.975 465.539 L163.975 461.28 L172.239 459.614 L176.914 459.614 L176.914 490.238 L184.553 490.238 L184.553 494.174 L164.646 494.174 L164.646 490.238 Z\" fill=\"#000000\" fill-rule=\"evenodd\" fill-opacity=\"1\" /><path clip-path=\"url(#clip240)\" d=\"M203.998 462.692 Q200.387 462.692 198.558 466.257 Q196.752 469.799 196.752 476.928 Q196.752 484.035 198.558 487.599 Q200.387 491.141 203.998 491.141 Q207.632 491.141 209.437 487.599 Q211.266 484.035 211.266 476.928 Q211.266 469.799 209.437 466.257 Q207.632 462.692 203.998 462.692 M203.998 458.989 Q209.808 458.989 212.863 463.595 Q215.942 468.178 215.942 476.928 Q215.942 485.655 212.863 490.261 Q209.808 494.845 203.998 494.845 Q198.187 494.845 195.109 490.261 Q192.053 485.655 192.053 476.928 Q192.053 468.178 195.109 463.595 Q198.187 458.989 203.998 458.989 Z\" fill=\"#000000\" fill-rule=\"evenodd\" fill-opacity=\"1\" /><path clip-path=\"url(#clip240)\" d=\"M129.6 162.937 Q125.989 162.937 124.16 166.502 Q122.355 170.043 122.355 177.173 Q122.355 184.279 124.16 187.844 Q125.989 191.386 129.6 191.386 Q133.234 191.386 135.04 187.844 Q136.868 184.279 136.868 177.173 Q136.868 170.043 135.04 166.502 Q133.234 162.937 129.6 162.937 M129.6 159.233 Q135.41 159.233 138.466 163.84 Q141.544 168.423 141.544 177.173 Q141.544 185.9 138.466 190.506 Q135.41 195.089 129.6 195.089 Q123.79 195.089 120.711 190.506 Q117.656 185.9 117.656 177.173 Q117.656 168.423 120.711 163.84 Q123.79 159.233 129.6 159.233 Z\" fill=\"#000000\" fill-rule=\"evenodd\" fill-opacity=\"1\" /><path clip-path=\"url(#clip240)\" d=\"M149.762 188.539 L154.646 188.539 L154.646 194.418 L149.762 194.418 L149.762 188.539 Z\" fill=\"#000000\" fill-rule=\"evenodd\" fill-opacity=\"1\" /><path clip-path=\"url(#clip240)\" d=\"M165.641 190.483 L173.28 190.483 L173.28 164.117 L164.97 165.784 L164.97 161.525 L173.234 159.858 L177.91 159.858 L177.91 190.483 L185.549 190.483 L185.549 194.418 L165.641 194.418 L165.641 190.483 Z\" fill=\"#000000\" fill-rule=\"evenodd\" fill-opacity=\"1\" /><path clip-path=\"url(#clip240)\" d=\"M195.039 159.858 L213.396 159.858 L213.396 163.793 L199.322 163.793 L199.322 172.265 Q200.34 171.918 201.359 171.756 Q202.377 171.571 203.396 171.571 Q209.183 171.571 212.562 174.742 Q215.942 177.914 215.942 183.33 Q215.942 188.909 212.47 192.011 Q208.998 195.089 202.678 195.089 Q200.502 195.089 198.234 194.719 Q195.988 194.349 193.581 193.608 L193.581 188.909 Q195.664 190.043 197.887 190.599 Q200.109 191.154 202.586 191.154 Q206.59 191.154 208.928 189.048 Q211.266 186.941 211.266 183.33 Q211.266 179.719 208.928 177.613 Q206.59 175.506 202.586 175.506 Q200.711 175.506 198.836 175.923 Q196.984 176.339 195.039 177.219 L195.039 159.858 Z\" fill=\"#000000\" fill-rule=\"evenodd\" fill-opacity=\"1\" /><path clip-path=\"url(#clip240)\" d=\"M31.3677 631.812 L49.2235 631.812 L49.2235 623.727 Q49.2235 619.239 46.9 616.789 Q44.5765 614.338 40.2797 614.338 Q36.0147 614.338 33.6912 616.789 Q31.3677 619.239 31.3677 623.727 L31.3677 631.812 M26.0842 638.241 L26.0842 623.727 Q26.0842 615.738 29.7126 611.664 Q33.3092 607.558 40.2797 607.558 Q47.3138 607.558 50.9104 611.664 Q54.507 615.738 54.507 623.727 L54.507 631.812 L73.6042 631.812 L73.6042 638.241 L26.0842 638.241 Z\" fill=\"#000000\" fill-rule=\"evenodd\" fill-opacity=\"1\" /><path clip-path=\"url(#clip240)\" d=\"M26.0842 598.933 L26.0842 589.352 L58.4219 577.226 L26.0842 565.035 L26.0842 555.455 L73.6042 555.455 L73.6042 561.725 L31.877 561.725 L64.4694 573.979 L64.4694 580.44 L31.877 592.694 L73.6042 592.694 L73.6042 598.933 L26.0842 598.933 Z\" fill=\"#000000\" fill-rule=\"evenodd\" fill-opacity=\"1\" /><path clip-path=\"url(#clip240)\" d=\"M26.0842 542.692 L26.0842 515.383 L31.495 515.383 L31.495 536.262 L45.4996 536.262 L45.4996 517.42 L50.9104 517.42 L50.9104 536.262 L73.6042 536.262 L73.6042 542.692 L26.0842 542.692 Z\" fill=\"#000000\" fill-rule=\"evenodd\" fill-opacity=\"1\" /><path clip-path=\"url(#clip242)\" d=\"\n",
       "M334.286 909.874 L334.286 1076.4 L441.614 1076.4 L441.614 909.874 L334.286 909.874 L334.286 909.874  Z\n",
       "  \" fill=\"#009af9\" fill-rule=\"evenodd\" fill-opacity=\"0.5\"/>\n",
       "<polyline clip-path=\"url(#clip242)\" style=\"stroke:#000000; stroke-linecap:butt; stroke-linejoin:round; stroke-width:8; stroke-opacity:0.5; fill:none\" points=\"\n",
       "  334.286,909.874 334.286,1076.4 441.614,1076.4 441.614,909.874 334.286,909.874 \n",
       "  \"/>\n",
       "<path clip-path=\"url(#clip242)\" d=\"\n",
       "M468.446 743.343 L468.446 1076.4 L575.773 1076.4 L575.773 743.343 L468.446 743.343 L468.446 743.343  Z\n",
       "  \" fill=\"#009af9\" fill-rule=\"evenodd\" fill-opacity=\"0.5\"/>\n",
       "<polyline clip-path=\"url(#clip242)\" style=\"stroke:#000000; stroke-linecap:butt; stroke-linejoin:round; stroke-width:8; stroke-opacity:0.5; fill:none\" points=\"\n",
       "  468.446,743.343 468.446,1076.4 575.773,1076.4 575.773,743.343 468.446,743.343 \n",
       "  \"/>\n",
       "<path clip-path=\"url(#clip242)\" d=\"\n",
       "M602.605 576.812 L602.605 1076.4 L709.933 1076.4 L709.933 576.812 L602.605 576.812 L602.605 576.812  Z\n",
       "  \" fill=\"#009af9\" fill-rule=\"evenodd\" fill-opacity=\"0.5\"/>\n",
       "<polyline clip-path=\"url(#clip242)\" style=\"stroke:#000000; stroke-linecap:butt; stroke-linejoin:round; stroke-width:8; stroke-opacity:0.5; fill:none\" points=\"\n",
       "  602.605,576.812 602.605,1076.4 709.933,1076.4 709.933,576.812 602.605,576.812 \n",
       "  \"/>\n",
       "<path clip-path=\"url(#clip242)\" d=\"\n",
       "M736.765 410.281 L736.765 1076.4 L844.093 1076.4 L844.093 410.281 L736.765 410.281 L736.765 410.281  Z\n",
       "  \" fill=\"#009af9\" fill-rule=\"evenodd\" fill-opacity=\"0.5\"/>\n",
       "<polyline clip-path=\"url(#clip242)\" style=\"stroke:#000000; stroke-linecap:butt; stroke-linejoin:round; stroke-width:8; stroke-opacity:0.5; fill:none\" points=\"\n",
       "  736.765,410.281 736.765,1076.4 844.093,1076.4 844.093,410.281 736.765,410.281 \n",
       "  \"/>\n",
       "<path clip-path=\"url(#clip242)\" d=\"\n",
       "M870.925 243.75 L870.925 1076.4 L978.253 1076.4 L978.253 243.75 L870.925 243.75 L870.925 243.75  Z\n",
       "  \" fill=\"#009af9\" fill-rule=\"evenodd\" fill-opacity=\"0.5\"/>\n",
       "<polyline clip-path=\"url(#clip242)\" style=\"stroke:#000000; stroke-linecap:butt; stroke-linejoin:round; stroke-width:8; stroke-opacity:0.5; fill:none\" points=\"\n",
       "  870.925,243.75 870.925,1076.4 978.253,1076.4 978.253,243.75 870.925,243.75 \n",
       "  \"/>\n",
       "<path clip-path=\"url(#clip242)\" d=\"\n",
       "M1005.09 77.2196 L1005.09 1076.4 L1112.41 1076.4 L1112.41 77.2196 L1005.09 77.2196 L1005.09 77.2196  Z\n",
       "  \" fill=\"#009af9\" fill-rule=\"evenodd\" fill-opacity=\"0.5\"/>\n",
       "<polyline clip-path=\"url(#clip242)\" style=\"stroke:#000000; stroke-linecap:butt; stroke-linejoin:round; stroke-width:8; stroke-opacity:0.5; fill:none\" points=\"\n",
       "  1005.09,77.2196 1005.09,1076.4 1112.41,1076.4 1112.41,77.2196 1005.09,77.2196 \n",
       "  \"/>\n",
       "<path clip-path=\"url(#clip242)\" d=\"\n",
       "M1139.24 243.75 L1139.24 1076.4 L1246.57 1076.4 L1246.57 243.75 L1139.24 243.75 L1139.24 243.75  Z\n",
       "  \" fill=\"#009af9\" fill-rule=\"evenodd\" fill-opacity=\"0.5\"/>\n",
       "<polyline clip-path=\"url(#clip242)\" style=\"stroke:#000000; stroke-linecap:butt; stroke-linejoin:round; stroke-width:8; stroke-opacity:0.5; fill:none\" points=\"\n",
       "  1139.24,243.75 1139.24,1076.4 1246.57,1076.4 1246.57,243.75 1139.24,243.75 \n",
       "  \"/>\n",
       "<path clip-path=\"url(#clip242)\" d=\"\n",
       "M1273.4 410.281 L1273.4 1076.4 L1380.73 1076.4 L1380.73 410.281 L1273.4 410.281 L1273.4 410.281  Z\n",
       "  \" fill=\"#009af9\" fill-rule=\"evenodd\" fill-opacity=\"0.5\"/>\n",
       "<polyline clip-path=\"url(#clip242)\" style=\"stroke:#000000; stroke-linecap:butt; stroke-linejoin:round; stroke-width:8; stroke-opacity:0.5; fill:none\" points=\"\n",
       "  1273.4,410.281 1273.4,1076.4 1380.73,1076.4 1380.73,410.281 1273.4,410.281 \n",
       "  \"/>\n",
       "<path clip-path=\"url(#clip242)\" d=\"\n",
       "M1407.56 576.812 L1407.56 1076.4 L1514.89 1076.4 L1514.89 576.812 L1407.56 576.812 L1407.56 576.812  Z\n",
       "  \" fill=\"#009af9\" fill-rule=\"evenodd\" fill-opacity=\"0.5\"/>\n",
       "<polyline clip-path=\"url(#clip242)\" style=\"stroke:#000000; stroke-linecap:butt; stroke-linejoin:round; stroke-width:8; stroke-opacity:0.5; fill:none\" points=\"\n",
       "  1407.56,576.812 1407.56,1076.4 1514.89,1076.4 1514.89,576.812 1407.56,576.812 \n",
       "  \"/>\n",
       "<path clip-path=\"url(#clip242)\" d=\"\n",
       "M1541.72 743.343 L1541.72 1076.4 L1649.05 1076.4 L1649.05 743.343 L1541.72 743.343 L1541.72 743.343  Z\n",
       "  \" fill=\"#009af9\" fill-rule=\"evenodd\" fill-opacity=\"0.5\"/>\n",
       "<polyline clip-path=\"url(#clip242)\" style=\"stroke:#000000; stroke-linecap:butt; stroke-linejoin:round; stroke-width:8; stroke-opacity:0.5; fill:none\" points=\"\n",
       "  1541.72,743.343 1541.72,1076.4 1649.05,1076.4 1649.05,743.343 1541.72,743.343 \n",
       "  \"/>\n",
       "<path clip-path=\"url(#clip242)\" d=\"\n",
       "M1675.88 909.874 L1675.88 1076.4 L1783.21 1076.4 L1783.21 909.874 L1675.88 909.874 L1675.88 909.874  Z\n",
       "  \" fill=\"#009af9\" fill-rule=\"evenodd\" fill-opacity=\"0.5\"/>\n",
       "<polyline clip-path=\"url(#clip242)\" style=\"stroke:#000000; stroke-linecap:butt; stroke-linejoin:round; stroke-width:8; stroke-opacity:0.5; fill:none\" points=\"\n",
       "  1675.88,909.874 1675.88,1076.4 1783.21,1076.4 1783.21,909.874 1675.88,909.874 \n",
       "  \"/>\n",
       "<circle clip-path=\"url(#clip242)\" style=\"fill:#009af9; stroke:none; fill-opacity:0\" cx=\"387.95\" cy=\"909.874\" r=\"2\"/>\n",
       "<circle clip-path=\"url(#clip242)\" style=\"fill:#009af9; stroke:none; fill-opacity:0\" cx=\"522.11\" cy=\"743.343\" r=\"2\"/>\n",
       "<circle clip-path=\"url(#clip242)\" style=\"fill:#009af9; stroke:none; fill-opacity:0\" cx=\"656.269\" cy=\"576.812\" r=\"2\"/>\n",
       "<circle clip-path=\"url(#clip242)\" style=\"fill:#009af9; stroke:none; fill-opacity:0\" cx=\"790.429\" cy=\"410.281\" r=\"2\"/>\n",
       "<circle clip-path=\"url(#clip242)\" style=\"fill:#009af9; stroke:none; fill-opacity:0\" cx=\"924.589\" cy=\"243.75\" r=\"2\"/>\n",
       "<circle clip-path=\"url(#clip242)\" style=\"fill:#009af9; stroke:none; fill-opacity:0\" cx=\"1058.75\" cy=\"77.2196\" r=\"2\"/>\n",
       "<circle clip-path=\"url(#clip242)\" style=\"fill:#009af9; stroke:none; fill-opacity:0\" cx=\"1192.91\" cy=\"243.75\" r=\"2\"/>\n",
       "<circle clip-path=\"url(#clip242)\" style=\"fill:#009af9; stroke:none; fill-opacity:0\" cx=\"1327.07\" cy=\"410.281\" r=\"2\"/>\n",
       "<circle clip-path=\"url(#clip242)\" style=\"fill:#009af9; stroke:none; fill-opacity:0\" cx=\"1461.23\" cy=\"576.812\" r=\"2\"/>\n",
       "<circle clip-path=\"url(#clip242)\" style=\"fill:#009af9; stroke:none; fill-opacity:0\" cx=\"1595.39\" cy=\"743.343\" r=\"2\"/>\n",
       "<circle clip-path=\"url(#clip242)\" style=\"fill:#009af9; stroke:none; fill-opacity:0\" cx=\"1729.55\" cy=\"909.874\" r=\"2\"/>\n",
       "</svg>\n"
      ]
     },
     "execution_count": 24,
     "metadata": {},
     "output_type": "execute_result"
    }
   ],
   "source": [
    "twice = adddist(die, die) # from EmpiricalDist\n",
    "bar(twice, alpha=0.5)\n",
    "decorate_dice!()"
   ]
  },
  {
   "cell_type": "code",
   "execution_count": 25,
   "id": "2db561f4-7e03-46e4-b4dd-653b1e5c28ff",
   "metadata": {},
   "outputs": [
    {
     "data": {
      "text/plain": [
       "add_dist_seq"
      ]
     },
     "execution_count": 25,
     "metadata": {},
     "output_type": "execute_result"
    }
   ],
   "source": [
    "\"\"\"Compute Pmf of the sum of values from seq.\"\"\"\n",
    "function add_dist_seq(seq)\n",
    "    total = seq[1]\n",
    "    for other in seq[2:end]\n",
    "        total = add_dist(total, other)\n",
    "    end\n",
    "    return total\n",
    "end"
   ]
  },
  {
   "cell_type": "code",
   "execution_count": 26,
   "id": "74ab038f-ff48-4982-8f77-971bde8400d0",
   "metadata": {},
   "outputs": [],
   "source": [
    "dice = repeat([die], 3);"
   ]
  },
  {
   "cell_type": "code",
   "execution_count": 27,
   "id": "d87f7467-c22a-4d6e-a206-7af9baadebb3",
   "metadata": {},
   "outputs": [],
   "source": [
    "thrice = add_dist_seq(dice);"
   ]
  },
  {
   "cell_type": "code",
   "execution_count": 28,
   "id": "76a5b386-c888-49b4-b312-5fcde739de7b",
   "metadata": {},
   "outputs": [
    {
     "data": {
      "image/svg+xml": [
       "<?xml version=\"1.0\" encoding=\"utf-8\"?>\n",
       "<svg xmlns=\"http://www.w3.org/2000/svg\" xmlns:xlink=\"http://www.w3.org/1999/xlink\" width=\"480\" height=\"320\" viewBox=\"0 0 1920 1280\">\n",
       "<defs>\n",
       "  <clipPath id=\"clip280\">\n",
       "    <rect x=\"0\" y=\"0\" width=\"1920\" height=\"1280\"/>\n",
       "  </clipPath>\n",
       "</defs>\n",
       "<path clip-path=\"url(#clip280)\" d=\"\n",
       "M0 1280 L1920 1280 L1920 0 L0 0  Z\n",
       "  \" fill=\"#ffffff\" fill-rule=\"evenodd\" fill-opacity=\"1\"/>\n",
       "<defs>\n",
       "  <clipPath id=\"clip281\">\n",
       "    <rect x=\"384\" y=\"0\" width=\"1345\" height=\"1280\"/>\n",
       "  </clipPath>\n",
       "</defs>\n",
       "<path clip-path=\"url(#clip280)\" d=\"\n",
       "M244.742 1106.38 L1872.76 1106.38 L1872.76 123.472 L244.742 123.472  Z\n",
       "  \" fill=\"#ffffff\" fill-rule=\"evenodd\" fill-opacity=\"1\"/>\n",
       "<defs>\n",
       "  <clipPath id=\"clip282\">\n",
       "    <rect x=\"244\" y=\"123\" width=\"1629\" height=\"984\"/>\n",
       "  </clipPath>\n",
       "</defs>\n",
       "<polyline clip-path=\"url(#clip282)\" style=\"stroke:#000000; stroke-linecap:butt; stroke-linejoin:round; stroke-width:2; stroke-opacity:0.1; fill:none\" points=\"\n",
       "  471.508,1106.38 471.508,123.472 \n",
       "  \"/>\n",
       "<polyline clip-path=\"url(#clip282)\" style=\"stroke:#000000; stroke-linecap:butt; stroke-linejoin:round; stroke-width:2; stroke-opacity:0.1; fill:none\" points=\"\n",
       "  742.542,1106.38 742.542,123.472 \n",
       "  \"/>\n",
       "<polyline clip-path=\"url(#clip282)\" style=\"stroke:#000000; stroke-linecap:butt; stroke-linejoin:round; stroke-width:2; stroke-opacity:0.1; fill:none\" points=\"\n",
       "  1013.58,1106.38 1013.58,123.472 \n",
       "  \"/>\n",
       "<polyline clip-path=\"url(#clip282)\" style=\"stroke:#000000; stroke-linecap:butt; stroke-linejoin:round; stroke-width:2; stroke-opacity:0.1; fill:none\" points=\"\n",
       "  1284.61,1106.38 1284.61,123.472 \n",
       "  \"/>\n",
       "<polyline clip-path=\"url(#clip282)\" style=\"stroke:#000000; stroke-linecap:butt; stroke-linejoin:round; stroke-width:2; stroke-opacity:0.1; fill:none\" points=\"\n",
       "  1555.65,1106.38 1555.65,123.472 \n",
       "  \"/>\n",
       "<polyline clip-path=\"url(#clip282)\" style=\"stroke:#000000; stroke-linecap:butt; stroke-linejoin:round; stroke-width:2; stroke-opacity:0.1; fill:none\" points=\"\n",
       "  1826.68,1106.38 1826.68,123.472 \n",
       "  \"/>\n",
       "<polyline clip-path=\"url(#clip280)\" style=\"stroke:#000000; stroke-linecap:butt; stroke-linejoin:round; stroke-width:4; stroke-opacity:1; fill:none\" points=\"\n",
       "  244.742,1106.38 1872.76,1106.38 \n",
       "  \"/>\n",
       "<polyline clip-path=\"url(#clip280)\" style=\"stroke:#000000; stroke-linecap:butt; stroke-linejoin:round; stroke-width:4; stroke-opacity:1; fill:none\" points=\"\n",
       "  471.508,1106.38 471.508,1087.48 \n",
       "  \"/>\n",
       "<polyline clip-path=\"url(#clip280)\" style=\"stroke:#000000; stroke-linecap:butt; stroke-linejoin:round; stroke-width:4; stroke-opacity:1; fill:none\" points=\"\n",
       "  742.542,1106.38 742.542,1087.48 \n",
       "  \"/>\n",
       "<polyline clip-path=\"url(#clip280)\" style=\"stroke:#000000; stroke-linecap:butt; stroke-linejoin:round; stroke-width:4; stroke-opacity:1; fill:none\" points=\"\n",
       "  1013.58,1106.38 1013.58,1087.48 \n",
       "  \"/>\n",
       "<polyline clip-path=\"url(#clip280)\" style=\"stroke:#000000; stroke-linecap:butt; stroke-linejoin:round; stroke-width:4; stroke-opacity:1; fill:none\" points=\"\n",
       "  1284.61,1106.38 1284.61,1087.48 \n",
       "  \"/>\n",
       "<polyline clip-path=\"url(#clip280)\" style=\"stroke:#000000; stroke-linecap:butt; stroke-linejoin:round; stroke-width:4; stroke-opacity:1; fill:none\" points=\"\n",
       "  1555.65,1106.38 1555.65,1087.48 \n",
       "  \"/>\n",
       "<polyline clip-path=\"url(#clip280)\" style=\"stroke:#000000; stroke-linecap:butt; stroke-linejoin:round; stroke-width:4; stroke-opacity:1; fill:none\" points=\"\n",
       "  1826.68,1106.38 1826.68,1087.48 \n",
       "  \"/>\n",
       "<path clip-path=\"url(#clip280)\" d=\"M475.755 1146.31 Q479.112 1147.02 480.987 1149.29 Q482.885 1151.56 482.885 1154.89 Q482.885 1160.01 479.366 1162.81 Q475.848 1165.61 469.366 1165.61 Q467.19 1165.61 464.876 1165.17 Q462.584 1164.75 460.13 1163.9 L460.13 1159.38 Q462.075 1160.52 464.39 1161.1 Q466.704 1161.68 469.227 1161.68 Q473.626 1161.68 475.917 1159.94 Q478.232 1158.2 478.232 1154.89 Q478.232 1151.84 476.079 1150.13 Q473.95 1148.39 470.13 1148.39 L466.102 1148.39 L466.102 1144.55 L470.315 1144.55 Q473.764 1144.55 475.593 1143.18 Q477.422 1141.79 477.422 1139.2 Q477.422 1136.54 475.524 1135.13 Q473.649 1133.69 470.13 1133.69 Q468.209 1133.69 466.01 1134.11 Q463.811 1134.52 461.172 1135.4 L461.172 1131.24 Q463.834 1130.5 466.149 1130.13 Q468.487 1129.75 470.547 1129.75 Q475.871 1129.75 478.973 1132.19 Q482.075 1134.59 482.075 1138.71 Q482.075 1141.58 480.431 1143.57 Q478.788 1145.54 475.755 1146.31 Z\" fill=\"#000000\" fill-rule=\"evenodd\" fill-opacity=\"1\" /><path clip-path=\"url(#clip280)\" d=\"M742.947 1145.8 Q739.799 1145.8 737.947 1147.95 Q736.118 1150.1 736.118 1153.85 Q736.118 1157.58 737.947 1159.75 Q739.799 1161.91 742.947 1161.91 Q746.095 1161.91 747.924 1159.75 Q749.776 1157.58 749.776 1153.85 Q749.776 1150.1 747.924 1147.95 Q746.095 1145.8 742.947 1145.8 M752.23 1131.14 L752.23 1135.4 Q750.47 1134.57 748.665 1134.13 Q746.882 1133.69 745.123 1133.69 Q740.493 1133.69 738.04 1136.81 Q735.609 1139.94 735.262 1146.26 Q736.628 1144.25 738.688 1143.18 Q740.748 1142.09 743.225 1142.09 Q748.433 1142.09 751.442 1145.26 Q754.475 1148.41 754.475 1153.85 Q754.475 1159.18 751.327 1162.39 Q748.179 1165.61 742.947 1165.61 Q736.952 1165.61 733.781 1161.03 Q730.609 1156.42 730.609 1147.69 Q730.609 1139.5 734.498 1134.64 Q738.387 1129.75 744.938 1129.75 Q746.697 1129.75 748.48 1130.1 Q750.285 1130.45 752.23 1131.14 Z\" fill=\"#000000\" fill-rule=\"evenodd\" fill-opacity=\"1\" /><path clip-path=\"url(#clip280)\" d=\"M1003.88 1164.22 L1003.88 1159.96 Q1005.64 1160.8 1007.44 1161.24 Q1009.25 1161.68 1010.98 1161.68 Q1015.61 1161.68 1018.04 1158.57 Q1020.5 1155.45 1020.85 1149.11 Q1019.5 1151.1 1017.44 1152.16 Q1015.38 1153.23 1012.88 1153.23 Q1007.7 1153.23 1004.66 1150.1 Q1001.66 1146.95 1001.66 1141.51 Q1001.66 1136.19 1004.8 1132.97 Q1007.95 1129.75 1013.18 1129.75 Q1019.18 1129.75 1022.33 1134.36 Q1025.5 1138.94 1025.5 1147.69 Q1025.5 1155.87 1021.61 1160.75 Q1017.74 1165.61 1011.19 1165.61 Q1009.43 1165.61 1007.63 1165.26 Q1005.82 1164.92 1003.88 1164.22 M1013.18 1149.57 Q1016.33 1149.57 1018.16 1147.42 Q1020.01 1145.26 1020.01 1141.51 Q1020.01 1137.79 1018.16 1135.63 Q1016.33 1133.46 1013.18 1133.46 Q1010.03 1133.46 1008.18 1135.63 Q1006.35 1137.79 1006.35 1141.51 Q1006.35 1145.26 1008.18 1147.42 Q1010.03 1149.57 1013.18 1149.57 Z\" fill=\"#000000\" fill-rule=\"evenodd\" fill-opacity=\"1\" /><path clip-path=\"url(#clip280)\" d=\"M1260.1 1161 L1267.74 1161 L1267.74 1134.64 L1259.43 1136.31 L1259.43 1132.05 L1267.69 1130.38 L1272.37 1130.38 L1272.37 1161 L1280 1161 L1280 1164.94 L1260.1 1164.94 L1260.1 1161 Z\" fill=\"#000000\" fill-rule=\"evenodd\" fill-opacity=\"1\" /><path clip-path=\"url(#clip280)\" d=\"M1293.48 1161 L1309.8 1161 L1309.8 1164.94 L1287.85 1164.94 L1287.85 1161 Q1290.51 1158.25 1295.1 1153.62 Q1299.7 1148.97 1300.88 1147.63 Q1303.13 1145.1 1304.01 1143.37 Q1304.91 1141.61 1304.91 1139.92 Q1304.91 1137.16 1302.97 1135.43 Q1301.05 1133.69 1297.94 1133.69 Q1295.75 1133.69 1293.29 1134.45 Q1290.86 1135.22 1288.08 1136.77 L1288.08 1132.05 Q1290.91 1130.91 1293.36 1130.33 Q1295.81 1129.75 1297.85 1129.75 Q1303.22 1129.75 1306.42 1132.44 Q1309.61 1135.13 1309.61 1139.62 Q1309.61 1141.75 1308.8 1143.67 Q1308.01 1145.56 1305.91 1148.16 Q1305.33 1148.83 1302.23 1152.05 Q1299.12 1155.24 1293.48 1161 Z\" fill=\"#000000\" fill-rule=\"evenodd\" fill-opacity=\"1\" /><path clip-path=\"url(#clip280)\" d=\"M1530.83 1161 L1538.47 1161 L1538.47 1134.64 L1530.16 1136.31 L1530.16 1132.05 L1538.42 1130.38 L1543.1 1130.38 L1543.1 1161 L1550.74 1161 L1550.74 1164.94 L1530.83 1164.94 L1530.83 1161 Z\" fill=\"#000000\" fill-rule=\"evenodd\" fill-opacity=\"1\" /><path clip-path=\"url(#clip280)\" d=\"M1560.23 1130.38 L1578.59 1130.38 L1578.59 1134.32 L1564.51 1134.32 L1564.51 1142.79 Q1565.53 1142.44 1566.55 1142.28 Q1567.57 1142.09 1568.59 1142.09 Q1574.37 1142.09 1577.75 1145.26 Q1581.13 1148.44 1581.13 1153.85 Q1581.13 1159.43 1577.66 1162.53 Q1574.19 1165.61 1567.87 1165.61 Q1565.69 1165.61 1563.42 1165.24 Q1561.18 1164.87 1558.77 1164.13 L1558.77 1159.43 Q1560.85 1160.56 1563.08 1161.12 Q1565.3 1161.68 1567.78 1161.68 Q1571.78 1161.68 1574.12 1159.57 Q1576.46 1157.46 1576.46 1153.85 Q1576.46 1150.24 1574.12 1148.13 Q1571.78 1146.03 1567.78 1146.03 Q1565.9 1146.03 1564.03 1146.44 Q1562.17 1146.86 1560.23 1147.74 L1560.23 1130.38 Z\" fill=\"#000000\" fill-rule=\"evenodd\" fill-opacity=\"1\" /><path clip-path=\"url(#clip280)\" d=\"M1801.41 1161 L1809.05 1161 L1809.05 1134.64 L1800.74 1136.31 L1800.74 1132.05 L1809.01 1130.38 L1813.68 1130.38 L1813.68 1161 L1821.32 1161 L1821.32 1164.94 L1801.41 1164.94 L1801.41 1161 Z\" fill=\"#000000\" fill-rule=\"evenodd\" fill-opacity=\"1\" /><path clip-path=\"url(#clip280)\" d=\"M1840.77 1148.53 Q1837.43 1148.53 1835.51 1150.31 Q1833.61 1152.09 1833.61 1155.22 Q1833.61 1158.34 1835.51 1160.13 Q1837.43 1161.91 1840.77 1161.91 Q1844.1 1161.91 1846.02 1160.13 Q1847.94 1158.32 1847.94 1155.22 Q1847.94 1152.09 1846.02 1150.31 Q1844.12 1148.53 1840.77 1148.53 M1836.09 1146.54 Q1833.08 1145.8 1831.39 1143.74 Q1829.72 1141.68 1829.72 1138.71 Q1829.72 1134.57 1832.66 1132.16 Q1835.63 1129.75 1840.77 1129.75 Q1845.93 1129.75 1848.87 1132.16 Q1851.81 1134.57 1851.81 1138.71 Q1851.81 1141.68 1850.12 1143.74 Q1848.45 1145.8 1845.46 1146.54 Q1848.84 1147.32 1850.72 1149.62 Q1852.62 1151.91 1852.62 1155.22 Q1852.62 1160.24 1849.54 1162.93 Q1846.48 1165.61 1840.77 1165.61 Q1835.05 1165.61 1831.97 1162.93 Q1828.91 1160.24 1828.91 1155.22 Q1828.91 1151.91 1830.81 1149.62 Q1832.71 1147.32 1836.09 1146.54 M1834.38 1139.15 Q1834.38 1141.84 1836.04 1143.34 Q1837.73 1144.85 1840.77 1144.85 Q1843.77 1144.85 1845.46 1143.34 Q1847.18 1141.84 1847.18 1139.15 Q1847.18 1136.47 1845.46 1134.96 Q1843.77 1133.46 1840.77 1133.46 Q1837.73 1133.46 1836.04 1134.96 Q1834.38 1136.47 1834.38 1139.15 Z\" fill=\"#000000\" fill-rule=\"evenodd\" fill-opacity=\"1\" /><path clip-path=\"url(#clip280)\" d=\"M935.588 1200.88 Q928.586 1200.88 924.448 1206.1 Q920.343 1211.32 920.343 1220.33 Q920.343 1229.31 924.448 1234.53 Q928.586 1239.75 935.588 1239.75 Q942.591 1239.75 946.665 1234.53 Q950.771 1229.31 950.771 1220.33 Q950.771 1211.32 946.665 1206.1 Q942.591 1200.88 935.588 1200.88 M935.588 1195.66 Q945.583 1195.66 951.566 1202.38 Q957.55 1209.06 957.55 1220.33 Q957.55 1231.57 951.566 1238.28 Q945.583 1244.97 935.588 1244.97 Q925.562 1244.97 919.547 1238.28 Q913.563 1231.6 913.563 1220.33 Q913.563 1209.06 919.547 1202.38 Q925.562 1195.66 935.588 1195.66 Z\" fill=\"#000000\" fill-rule=\"evenodd\" fill-opacity=\"1\" /><path clip-path=\"url(#clip280)\" d=\"M966.749 1229.98 L966.749 1208.4 L972.605 1208.4 L972.605 1229.75 Q972.605 1234.81 974.578 1237.36 Q976.552 1239.87 980.499 1239.87 Q985.241 1239.87 987.978 1236.85 Q990.747 1233.83 990.747 1228.61 L990.747 1208.4 L996.604 1208.4 L996.604 1244.04 L990.747 1244.04 L990.747 1238.57 Q988.615 1241.82 985.782 1243.41 Q982.981 1244.97 979.257 1244.97 Q973.114 1244.97 969.931 1241.15 Q966.749 1237.33 966.749 1229.98 M981.485 1207.54 L981.485 1207.54 Z\" fill=\"#000000\" fill-rule=\"evenodd\" fill-opacity=\"1\" /><path clip-path=\"url(#clip280)\" d=\"M1014.46 1198.27 L1014.46 1208.4 L1026.52 1208.4 L1026.52 1212.95 L1014.46 1212.95 L1014.46 1232.3 Q1014.46 1236.66 1015.64 1237.9 Q1016.85 1239.14 1020.51 1239.14 L1026.52 1239.14 L1026.52 1244.04 L1020.51 1244.04 Q1013.73 1244.04 1011.15 1241.53 Q1008.57 1238.98 1008.57 1232.3 L1008.57 1212.95 L1004.27 1212.95 L1004.27 1208.4 L1008.57 1208.4 L1008.57 1198.27 L1014.46 1198.27 Z\" fill=\"#000000\" fill-rule=\"evenodd\" fill-opacity=\"1\" /><path clip-path=\"url(#clip280)\" d=\"M1059.88 1209.76 L1059.88 1215.24 Q1057.4 1213.87 1054.88 1213.2 Q1052.4 1212.5 1049.85 1212.5 Q1044.16 1212.5 1041 1216.13 Q1037.85 1219.73 1037.85 1226.25 Q1037.85 1232.78 1041 1236.4 Q1044.16 1240 1049.85 1240 Q1052.4 1240 1054.88 1239.33 Q1057.4 1238.63 1059.88 1237.26 L1059.88 1242.68 Q1057.43 1243.82 1054.79 1244.39 Q1052.18 1244.97 1049.22 1244.97 Q1041.16 1244.97 1036.42 1239.91 Q1031.68 1234.85 1031.68 1226.25 Q1031.68 1217.53 1036.45 1212.53 Q1041.26 1207.54 1049.6 1207.54 Q1052.3 1207.54 1054.88 1208.11 Q1057.46 1208.65 1059.88 1209.76 Z\" fill=\"#000000\" fill-rule=\"evenodd\" fill-opacity=\"1\" /><path clip-path=\"url(#clip280)\" d=\"M1083.88 1212.5 Q1079.17 1212.5 1076.43 1216.19 Q1073.69 1219.85 1073.69 1226.25 Q1073.69 1232.65 1076.4 1236.34 Q1079.14 1240 1083.88 1240 Q1088.56 1240 1091.29 1236.31 Q1094.03 1232.62 1094.03 1226.25 Q1094.03 1219.92 1091.29 1216.23 Q1088.56 1212.5 1083.88 1212.5 M1083.88 1207.54 Q1091.52 1207.54 1095.88 1212.5 Q1100.24 1217.47 1100.24 1226.25 Q1100.24 1235 1095.88 1240 Q1091.52 1244.97 1083.88 1244.97 Q1076.21 1244.97 1071.85 1240 Q1067.52 1235 1067.52 1226.25 Q1067.52 1217.47 1071.85 1212.5 Q1076.21 1207.54 1083.88 1207.54 Z\" fill=\"#000000\" fill-rule=\"evenodd\" fill-opacity=\"1\" /><path clip-path=\"url(#clip280)\" d=\"M1137.7 1215.24 Q1139.9 1211.29 1142.95 1209.41 Q1146.01 1207.54 1150.14 1207.54 Q1155.71 1207.54 1158.74 1211.45 Q1161.76 1215.33 1161.76 1222.53 L1161.76 1244.04 L1155.87 1244.04 L1155.87 1222.72 Q1155.87 1217.59 1154.06 1215.11 Q1152.25 1212.63 1148.52 1212.63 Q1143.97 1212.63 1141.33 1215.65 Q1138.69 1218.68 1138.69 1223.9 L1138.69 1244.04 L1132.8 1244.04 L1132.8 1222.72 Q1132.8 1217.56 1130.98 1215.11 Q1129.17 1212.63 1125.38 1212.63 Q1120.89 1212.63 1118.25 1215.68 Q1115.61 1218.71 1115.61 1223.9 L1115.61 1244.04 L1109.72 1244.04 L1109.72 1208.4 L1115.61 1208.4 L1115.61 1213.93 Q1117.62 1210.66 1120.42 1209.1 Q1123.22 1207.54 1127.07 1207.54 Q1130.95 1207.54 1133.66 1209.51 Q1136.39 1211.48 1137.7 1215.24 Z\" fill=\"#000000\" fill-rule=\"evenodd\" fill-opacity=\"1\" /><path clip-path=\"url(#clip280)\" d=\"M1203.93 1224.76 L1203.93 1227.62 L1177.01 1227.62 Q1177.39 1233.67 1180.64 1236.85 Q1183.91 1240 1189.74 1240 Q1193.11 1240 1196.26 1239.17 Q1199.45 1238.35 1202.57 1236.69 L1202.57 1242.23 Q1199.42 1243.57 1196.11 1244.27 Q1192.79 1244.97 1189.39 1244.97 Q1180.86 1244.97 1175.86 1240 Q1170.9 1235.04 1170.9 1226.57 Q1170.9 1217.82 1175.61 1212.69 Q1180.35 1207.54 1188.37 1207.54 Q1195.56 1207.54 1199.73 1212.18 Q1203.93 1216.8 1203.93 1224.76 M1198.08 1223.04 Q1198.01 1218.23 1195.37 1215.37 Q1192.76 1212.5 1188.43 1212.5 Q1183.53 1212.5 1180.57 1215.27 Q1177.64 1218.04 1177.2 1223.07 L1198.08 1223.04 Z\" fill=\"#000000\" fill-rule=\"evenodd\" fill-opacity=\"1\" /><polyline clip-path=\"url(#clip282)\" style=\"stroke:#000000; stroke-linecap:butt; stroke-linejoin:round; stroke-width:2; stroke-opacity:0.1; fill:none\" points=\"\n",
       "  244.742,1105.06 1872.76,1105.06 \n",
       "  \"/>\n",
       "<polyline clip-path=\"url(#clip282)\" style=\"stroke:#000000; stroke-linecap:butt; stroke-linejoin:round; stroke-width:2; stroke-opacity:0.1; fill:none\" points=\"\n",
       "  244.742,818.926 1872.76,818.926 \n",
       "  \"/>\n",
       "<polyline clip-path=\"url(#clip282)\" style=\"stroke:#000000; stroke-linecap:butt; stroke-linejoin:round; stroke-width:2; stroke-opacity:0.1; fill:none\" points=\"\n",
       "  244.742,532.796 1872.76,532.796 \n",
       "  \"/>\n",
       "<polyline clip-path=\"url(#clip282)\" style=\"stroke:#000000; stroke-linecap:butt; stroke-linejoin:round; stroke-width:2; stroke-opacity:0.1; fill:none\" points=\"\n",
       "  244.742,246.667 1872.76,246.667 \n",
       "  \"/>\n",
       "<polyline clip-path=\"url(#clip280)\" style=\"stroke:#000000; stroke-linecap:butt; stroke-linejoin:round; stroke-width:4; stroke-opacity:1; fill:none\" points=\"\n",
       "  244.742,1106.38 244.742,123.472 \n",
       "  \"/>\n",
       "<polyline clip-path=\"url(#clip280)\" style=\"stroke:#000000; stroke-linecap:butt; stroke-linejoin:round; stroke-width:4; stroke-opacity:1; fill:none\" points=\"\n",
       "  244.742,1105.06 263.64,1105.06 \n",
       "  \"/>\n",
       "<polyline clip-path=\"url(#clip280)\" style=\"stroke:#000000; stroke-linecap:butt; stroke-linejoin:round; stroke-width:4; stroke-opacity:1; fill:none\" points=\"\n",
       "  244.742,818.926 263.64,818.926 \n",
       "  \"/>\n",
       "<polyline clip-path=\"url(#clip280)\" style=\"stroke:#000000; stroke-linecap:butt; stroke-linejoin:round; stroke-width:4; stroke-opacity:1; fill:none\" points=\"\n",
       "  244.742,532.796 263.64,532.796 \n",
       "  \"/>\n",
       "<polyline clip-path=\"url(#clip280)\" style=\"stroke:#000000; stroke-linecap:butt; stroke-linejoin:round; stroke-width:4; stroke-opacity:1; fill:none\" points=\"\n",
       "  244.742,246.667 263.64,246.667 \n",
       "  \"/>\n",
       "<path clip-path=\"url(#clip280)\" d=\"M128.605 1090.85 Q124.993 1090.85 123.165 1094.42 Q121.359 1097.96 121.359 1105.09 Q121.359 1112.2 123.165 1115.76 Q124.993 1119.3 128.605 1119.3 Q132.239 1119.3 134.044 1115.76 Q135.873 1112.2 135.873 1105.09 Q135.873 1097.96 134.044 1094.42 Q132.239 1090.85 128.605 1090.85 M128.605 1087.15 Q134.415 1087.15 137.47 1091.76 Q140.549 1096.34 140.549 1105.09 Q140.549 1113.82 137.47 1118.42 Q134.415 1123.01 128.605 1123.01 Q122.794 1123.01 119.716 1118.42 Q116.66 1113.82 116.66 1105.09 Q116.66 1096.34 119.716 1091.76 Q122.794 1087.15 128.605 1087.15 Z\" fill=\"#000000\" fill-rule=\"evenodd\" fill-opacity=\"1\" /><path clip-path=\"url(#clip280)\" d=\"M148.766 1116.46 L153.651 1116.46 L153.651 1122.34 L148.766 1122.34 L148.766 1116.46 Z\" fill=\"#000000\" fill-rule=\"evenodd\" fill-opacity=\"1\" /><path clip-path=\"url(#clip280)\" d=\"M173.836 1090.85 Q170.225 1090.85 168.396 1094.42 Q166.59 1097.96 166.59 1105.09 Q166.59 1112.2 168.396 1115.76 Q170.225 1119.3 173.836 1119.3 Q177.47 1119.3 179.276 1115.76 Q181.104 1112.2 181.104 1105.09 Q181.104 1097.96 179.276 1094.42 Q177.47 1090.85 173.836 1090.85 M173.836 1087.15 Q179.646 1087.15 182.701 1091.76 Q185.78 1096.34 185.78 1105.09 Q185.78 1113.82 182.701 1118.42 Q179.646 1123.01 173.836 1123.01 Q168.026 1123.01 164.947 1118.42 Q161.891 1113.82 161.891 1105.09 Q161.891 1096.34 164.947 1091.76 Q168.026 1087.15 173.836 1087.15 Z\" fill=\"#000000\" fill-rule=\"evenodd\" fill-opacity=\"1\" /><path clip-path=\"url(#clip280)\" d=\"M203.998 1090.85 Q200.387 1090.85 198.558 1094.42 Q196.752 1097.96 196.752 1105.09 Q196.752 1112.2 198.558 1115.76 Q200.387 1119.3 203.998 1119.3 Q207.632 1119.3 209.437 1115.76 Q211.266 1112.2 211.266 1105.09 Q211.266 1097.96 209.437 1094.42 Q207.632 1090.85 203.998 1090.85 M203.998 1087.15 Q209.808 1087.15 212.863 1091.76 Q215.942 1096.34 215.942 1105.09 Q215.942 1113.82 212.863 1118.42 Q209.808 1123.01 203.998 1123.01 Q198.187 1123.01 195.109 1118.42 Q192.053 1113.82 192.053 1105.09 Q192.053 1096.34 195.109 1091.76 Q198.187 1087.15 203.998 1087.15 Z\" fill=\"#000000\" fill-rule=\"evenodd\" fill-opacity=\"1\" /><path clip-path=\"url(#clip280)\" d=\"M129.6 804.724 Q125.989 804.724 124.16 808.289 Q122.355 811.831 122.355 818.96 Q122.355 826.067 124.16 829.632 Q125.989 833.173 129.6 833.173 Q133.234 833.173 135.04 829.632 Q136.868 826.067 136.868 818.96 Q136.868 811.831 135.04 808.289 Q133.234 804.724 129.6 804.724 M129.6 801.021 Q135.41 801.021 138.466 805.627 Q141.544 810.21 141.544 818.96 Q141.544 827.687 138.466 832.294 Q135.41 836.877 129.6 836.877 Q123.79 836.877 120.711 832.294 Q117.656 827.687 117.656 818.96 Q117.656 810.21 120.711 805.627 Q123.79 801.021 129.6 801.021 Z\" fill=\"#000000\" fill-rule=\"evenodd\" fill-opacity=\"1\" /><path clip-path=\"url(#clip280)\" d=\"M149.762 830.326 L154.646 830.326 L154.646 836.206 L149.762 836.206 L149.762 830.326 Z\" fill=\"#000000\" fill-rule=\"evenodd\" fill-opacity=\"1\" /><path clip-path=\"url(#clip280)\" d=\"M174.831 804.724 Q171.22 804.724 169.391 808.289 Q167.586 811.831 167.586 818.96 Q167.586 826.067 169.391 829.632 Q171.22 833.173 174.831 833.173 Q178.465 833.173 180.271 829.632 Q182.1 826.067 182.1 818.96 Q182.1 811.831 180.271 808.289 Q178.465 804.724 174.831 804.724 M174.831 801.021 Q180.641 801.021 183.697 805.627 Q186.776 810.21 186.776 818.96 Q186.776 827.687 183.697 832.294 Q180.641 836.877 174.831 836.877 Q169.021 836.877 165.942 832.294 Q162.887 827.687 162.887 818.96 Q162.887 810.21 165.942 805.627 Q169.021 801.021 174.831 801.021 Z\" fill=\"#000000\" fill-rule=\"evenodd\" fill-opacity=\"1\" /><path clip-path=\"url(#clip280)\" d=\"M195.039 801.646 L213.396 801.646 L213.396 805.581 L199.322 805.581 L199.322 814.053 Q200.34 813.706 201.359 813.544 Q202.377 813.359 203.396 813.359 Q209.183 813.359 212.562 816.53 Q215.942 819.701 215.942 825.118 Q215.942 830.696 212.47 833.798 Q208.998 836.877 202.678 836.877 Q200.502 836.877 198.234 836.507 Q195.988 836.136 193.581 835.396 L193.581 830.696 Q195.664 831.831 197.887 832.386 Q200.109 832.942 202.586 832.942 Q206.59 832.942 208.928 830.835 Q211.266 828.729 211.266 825.118 Q211.266 821.507 208.928 819.4 Q206.59 817.294 202.586 817.294 Q200.711 817.294 198.836 817.71 Q196.984 818.127 195.039 819.007 L195.039 801.646 Z\" fill=\"#000000\" fill-rule=\"evenodd\" fill-opacity=\"1\" /><path clip-path=\"url(#clip280)\" d=\"M128.605 518.595 Q124.993 518.595 123.165 522.16 Q121.359 525.701 121.359 532.831 Q121.359 539.937 123.165 543.502 Q124.993 547.044 128.605 547.044 Q132.239 547.044 134.044 543.502 Q135.873 539.937 135.873 532.831 Q135.873 525.701 134.044 522.16 Q132.239 518.595 128.605 518.595 M128.605 514.891 Q134.415 514.891 137.47 519.498 Q140.549 524.081 140.549 532.831 Q140.549 541.558 137.47 546.164 Q134.415 550.748 128.605 550.748 Q122.794 550.748 119.716 546.164 Q116.66 541.558 116.66 532.831 Q116.66 524.081 119.716 519.498 Q122.794 514.891 128.605 514.891 Z\" fill=\"#000000\" fill-rule=\"evenodd\" fill-opacity=\"1\" /><path clip-path=\"url(#clip280)\" d=\"M148.766 544.197 L153.651 544.197 L153.651 550.076 L148.766 550.076 L148.766 544.197 Z\" fill=\"#000000\" fill-rule=\"evenodd\" fill-opacity=\"1\" /><path clip-path=\"url(#clip280)\" d=\"M164.646 546.141 L172.285 546.141 L172.285 519.775 L163.975 521.442 L163.975 517.183 L172.239 515.516 L176.914 515.516 L176.914 546.141 L184.553 546.141 L184.553 550.076 L164.646 550.076 L164.646 546.141 Z\" fill=\"#000000\" fill-rule=\"evenodd\" fill-opacity=\"1\" /><path clip-path=\"url(#clip280)\" d=\"M203.998 518.595 Q200.387 518.595 198.558 522.16 Q196.752 525.701 196.752 532.831 Q196.752 539.937 198.558 543.502 Q200.387 547.044 203.998 547.044 Q207.632 547.044 209.437 543.502 Q211.266 539.937 211.266 532.831 Q211.266 525.701 209.437 522.16 Q207.632 518.595 203.998 518.595 M203.998 514.891 Q209.808 514.891 212.863 519.498 Q215.942 524.081 215.942 532.831 Q215.942 541.558 212.863 546.164 Q209.808 550.748 203.998 550.748 Q198.187 550.748 195.109 546.164 Q192.053 541.558 192.053 532.831 Q192.053 524.081 195.109 519.498 Q198.187 514.891 203.998 514.891 Z\" fill=\"#000000\" fill-rule=\"evenodd\" fill-opacity=\"1\" /><path clip-path=\"url(#clip280)\" d=\"M129.6 232.465 Q125.989 232.465 124.16 236.03 Q122.355 239.572 122.355 246.701 Q122.355 253.808 124.16 257.373 Q125.989 260.914 129.6 260.914 Q133.234 260.914 135.04 257.373 Q136.868 253.808 136.868 246.701 Q136.868 239.572 135.04 236.03 Q133.234 232.465 129.6 232.465 M129.6 228.762 Q135.41 228.762 138.466 233.368 Q141.544 237.952 141.544 246.701 Q141.544 255.428 138.466 260.035 Q135.41 264.618 129.6 264.618 Q123.79 264.618 120.711 260.035 Q117.656 255.428 117.656 246.701 Q117.656 237.952 120.711 233.368 Q123.79 228.762 129.6 228.762 Z\" fill=\"#000000\" fill-rule=\"evenodd\" fill-opacity=\"1\" /><path clip-path=\"url(#clip280)\" d=\"M149.762 258.067 L154.646 258.067 L154.646 263.947 L149.762 263.947 L149.762 258.067 Z\" fill=\"#000000\" fill-rule=\"evenodd\" fill-opacity=\"1\" /><path clip-path=\"url(#clip280)\" d=\"M165.641 260.012 L173.28 260.012 L173.28 233.646 L164.97 235.313 L164.97 231.053 L173.234 229.387 L177.91 229.387 L177.91 260.012 L185.549 260.012 L185.549 263.947 L165.641 263.947 L165.641 260.012 Z\" fill=\"#000000\" fill-rule=\"evenodd\" fill-opacity=\"1\" /><path clip-path=\"url(#clip280)\" d=\"M195.039 229.387 L213.396 229.387 L213.396 233.322 L199.322 233.322 L199.322 241.794 Q200.34 241.447 201.359 241.285 Q202.377 241.1 203.396 241.1 Q209.183 241.1 212.562 244.271 Q215.942 247.442 215.942 252.859 Q215.942 258.438 212.47 261.539 Q208.998 264.618 202.678 264.618 Q200.502 264.618 198.234 264.248 Q195.988 263.877 193.581 263.137 L193.581 258.438 Q195.664 259.572 197.887 260.127 Q200.109 260.683 202.586 260.683 Q206.59 260.683 208.928 258.576 Q211.266 256.47 211.266 252.859 Q211.266 249.248 208.928 247.141 Q206.59 245.035 202.586 245.035 Q200.711 245.035 198.836 245.451 Q196.984 245.868 195.039 246.748 L195.039 229.387 Z\" fill=\"#000000\" fill-rule=\"evenodd\" fill-opacity=\"1\" /><path clip-path=\"url(#clip280)\" d=\"M31.3677 669.926 L49.2235 669.926 L49.2235 661.841 Q49.2235 657.353 46.9 654.903 Q44.5765 652.452 40.2797 652.452 Q36.0147 652.452 33.6912 654.903 Q31.3677 657.353 31.3677 661.841 L31.3677 669.926 M26.0842 676.355 L26.0842 661.841 Q26.0842 653.852 29.7126 649.778 Q33.3092 645.672 40.2797 645.672 Q47.3138 645.672 50.9104 649.778 Q54.507 653.852 54.507 661.841 L54.507 669.926 L73.6042 669.926 L73.6042 676.355 L26.0842 676.355 Z\" fill=\"#000000\" fill-rule=\"evenodd\" fill-opacity=\"1\" /><path clip-path=\"url(#clip280)\" d=\"M26.0842 637.047 L26.0842 627.466 L58.4219 615.34 L26.0842 603.149 L26.0842 593.569 L73.6042 593.569 L73.6042 599.839 L31.877 599.839 L64.4694 612.093 L64.4694 618.554 L31.877 630.808 L73.6042 630.808 L73.6042 637.047 L26.0842 637.047 Z\" fill=\"#000000\" fill-rule=\"evenodd\" fill-opacity=\"1\" /><path clip-path=\"url(#clip280)\" d=\"M26.0842 580.806 L26.0842 553.497 L31.495 553.497 L31.495 574.376 L45.4996 574.376 L45.4996 555.534 L50.9104 555.534 L50.9104 574.376 L73.6042 574.376 L73.6042 580.806 L26.0842 580.806 Z\" fill=\"#000000\" fill-rule=\"evenodd\" fill-opacity=\"1\" /><path clip-path=\"url(#clip280)\" d=\"M633.141 18.8205 L633.141 65.8515 L643.025 65.8515 Q655.542 65.8515 661.335 60.1802 Q667.168 54.509 667.168 42.2752 Q667.168 30.1225 661.335 24.4918 Q655.542 18.8205 643.025 18.8205 L633.141 18.8205 M624.958 12.096 L641.769 12.096 Q659.35 12.096 667.573 19.4281 Q675.797 26.7198 675.797 42.2752 Q675.797 57.9117 667.533 65.2439 Q659.269 72.576 641.769 72.576 L624.958 72.576 L624.958 12.096 Z\" fill=\"#000000\" fill-rule=\"evenodd\" fill-opacity=\"1\" /><path clip-path=\"url(#clip280)\" d=\"M688.517 27.2059 L695.97 27.2059 L695.97 72.576 L688.517 72.576 L688.517 27.2059 M688.517 9.54393 L695.97 9.54393 L695.97 18.9825 L688.517 18.9825 L688.517 9.54393 Z\" fill=\"#000000\" fill-rule=\"evenodd\" fill-opacity=\"1\" /><path clip-path=\"url(#clip280)\" d=\"M740.49 28.5427 L740.49 35.5912 Q737.33 33.9709 733.927 33.1607 Q730.524 32.3505 726.879 32.3505 Q721.329 32.3505 718.534 34.0519 Q715.779 35.7533 715.779 39.156 Q715.779 41.7486 717.764 43.2475 Q719.749 44.7058 725.744 46.0426 L728.296 46.6097 Q736.236 48.3111 739.558 51.4303 Q742.92 54.509 742.92 60.0587 Q742.92 66.3781 737.897 70.0644 Q732.914 73.7508 724.165 73.7508 Q720.519 73.7508 716.549 73.0216 Q712.619 72.3329 708.244 70.9151 L708.244 63.2184 Q712.376 65.3654 716.387 66.4591 Q720.397 67.5124 724.327 67.5124 Q729.593 67.5124 732.428 65.73 Q735.264 63.9071 735.264 60.6258 Q735.264 57.5877 733.198 55.9673 Q731.173 54.3469 724.246 52.8481 L721.653 52.2405 Q714.726 50.7821 711.647 47.7845 Q708.569 44.7463 708.569 39.4801 Q708.569 33.0797 713.106 29.5959 Q717.643 26.1121 725.987 26.1121 Q730.119 26.1121 733.765 26.7198 Q737.411 27.3274 740.49 28.5427 Z\" fill=\"#000000\" fill-rule=\"evenodd\" fill-opacity=\"1\" /><path clip-path=\"url(#clip280)\" d=\"M762.162 14.324 L762.162 27.2059 L777.515 27.2059 L777.515 32.9987 L762.162 32.9987 L762.162 57.6282 Q762.162 63.1779 763.661 64.7578 Q765.2 66.3376 769.859 66.3376 L777.515 66.3376 L777.515 72.576 L769.859 72.576 Q761.23 72.576 757.949 69.3758 Q754.668 66.1351 754.668 57.6282 L754.668 32.9987 L749.199 32.9987 L749.199 27.2059 L754.668 27.2059 L754.668 14.324 L762.162 14.324 Z\" fill=\"#000000\" fill-rule=\"evenodd\" fill-opacity=\"1\" /><path clip-path=\"url(#clip280)\" d=\"M813.609 34.1734 Q812.353 33.4443 810.854 33.1202 Q809.396 32.7556 807.613 32.7556 Q801.294 32.7556 797.891 36.8875 Q794.529 40.9789 794.529 48.6757 L794.529 72.576 L787.035 72.576 L787.035 27.2059 L794.529 27.2059 L794.529 34.2544 Q796.878 30.1225 800.646 28.1376 Q804.413 26.1121 809.801 26.1121 Q810.57 26.1121 811.502 26.2337 Q812.434 26.3147 813.568 26.5172 L813.609 34.1734 Z\" fill=\"#000000\" fill-rule=\"evenodd\" fill-opacity=\"1\" /><path clip-path=\"url(#clip280)\" d=\"M821.427 27.2059 L828.88 27.2059 L828.88 72.576 L821.427 72.576 L821.427 27.2059 M821.427 9.54393 L828.88 9.54393 L828.88 18.9825 L821.427 18.9825 L821.427 9.54393 Z\" fill=\"#000000\" fill-rule=\"evenodd\" fill-opacity=\"1\" /><path clip-path=\"url(#clip280)\" d=\"M877.046 49.9314 Q877.046 41.7081 873.643 37.0496 Q870.281 32.3505 864.366 32.3505 Q858.452 32.3505 855.049 37.0496 Q851.687 41.7081 851.687 49.9314 Q851.687 58.1548 855.049 62.8538 Q858.452 67.5124 864.366 67.5124 Q870.281 67.5124 873.643 62.8538 Q877.046 58.1548 877.046 49.9314 M851.687 34.0924 Q854.037 30.0415 857.601 28.0971 Q861.207 26.1121 866.189 26.1121 Q874.453 26.1121 879.598 32.6746 Q884.783 39.2371 884.783 49.9314 Q884.783 60.6258 879.598 67.1883 Q874.453 73.7508 866.189 73.7508 Q861.207 73.7508 857.601 71.8063 Q854.037 69.8214 851.687 65.7705 L851.687 72.576 L844.193 72.576 L844.193 9.54393 L851.687 9.54393 L851.687 34.0924 Z\" fill=\"#000000\" fill-rule=\"evenodd\" fill-opacity=\"1\" /><path clip-path=\"url(#clip280)\" d=\"M896.368 54.671 L896.368 27.2059 L903.822 27.2059 L903.822 54.3874 Q903.822 60.8284 906.334 64.0691 Q908.845 67.2693 913.868 67.2693 Q919.904 67.2693 923.388 63.421 Q926.912 59.5726 926.912 52.9291 L926.912 27.2059 L934.366 27.2059 L934.366 72.576 L926.912 72.576 L926.912 65.6084 Q924.198 69.7404 920.593 71.7658 Q917.028 73.7508 912.289 73.7508 Q904.47 73.7508 900.419 68.8897 Q896.368 64.0286 896.368 54.671 M915.124 26.1121 L915.124 26.1121 Z\" fill=\"#000000\" fill-rule=\"evenodd\" fill-opacity=\"1\" /><path clip-path=\"url(#clip280)\" d=\"M957.092 14.324 L957.092 27.2059 L972.444 27.2059 L972.444 32.9987 L957.092 32.9987 L957.092 57.6282 Q957.092 63.1779 958.59 64.7578 Q960.13 66.3376 964.788 66.3376 L972.444 66.3376 L972.444 72.576 L964.788 72.576 Q956.16 72.576 952.879 69.3758 Q949.597 66.1351 949.597 57.6282 L949.597 32.9987 L944.129 32.9987 L944.129 27.2059 L949.597 27.2059 L949.597 14.324 L957.092 14.324 Z\" fill=\"#000000\" fill-rule=\"evenodd\" fill-opacity=\"1\" /><path clip-path=\"url(#clip280)\" d=\"M982.248 27.2059 L989.701 27.2059 L989.701 72.576 L982.248 72.576 L982.248 27.2059 M982.248 9.54393 L989.701 9.54393 L989.701 18.9825 L982.248 18.9825 L982.248 9.54393 Z\" fill=\"#000000\" fill-rule=\"evenodd\" fill-opacity=\"1\" /><path clip-path=\"url(#clip280)\" d=\"M1022.88 32.4315 Q1016.88 32.4315 1013.4 37.1306 Q1009.92 41.7891 1009.92 49.9314 Q1009.92 58.0738 1013.36 62.7728 Q1016.84 67.4314 1022.88 67.4314 Q1028.83 67.4314 1032.32 62.7323 Q1035.8 58.0333 1035.8 49.9314 Q1035.8 41.8701 1032.32 37.1711 Q1028.83 32.4315 1022.88 32.4315 M1022.88 26.1121 Q1032.6 26.1121 1038.15 32.4315 Q1043.7 38.7509 1043.7 49.9314 Q1043.7 61.0714 1038.15 67.4314 Q1032.6 73.7508 1022.88 73.7508 Q1013.12 73.7508 1007.57 67.4314 Q1002.06 61.0714 1002.06 49.9314 Q1002.06 38.7509 1007.57 32.4315 Q1013.12 26.1121 1022.88 26.1121 Z\" fill=\"#000000\" fill-rule=\"evenodd\" fill-opacity=\"1\" /><path clip-path=\"url(#clip280)\" d=\"M1093.77 45.1919 L1093.77 72.576 L1086.32 72.576 L1086.32 45.4349 Q1086.32 38.994 1083.8 35.7938 Q1081.29 32.5936 1076.27 32.5936 Q1070.23 32.5936 1066.75 36.4419 Q1063.27 40.2903 1063.27 46.9338 L1063.27 72.576 L1055.77 72.576 L1055.77 27.2059 L1063.27 27.2059 L1063.27 34.2544 Q1065.94 30.163 1069.54 28.1376 Q1073.19 26.1121 1077.93 26.1121 Q1085.75 26.1121 1089.76 30.9732 Q1093.77 35.7938 1093.77 45.1919 Z\" fill=\"#000000\" fill-rule=\"evenodd\" fill-opacity=\"1\" /><path clip-path=\"url(#clip280)\" d=\"M1137.56 28.5427 L1137.56 35.5912 Q1134.4 33.9709 1131 33.1607 Q1127.59 32.3505 1123.95 32.3505 Q1118.4 32.3505 1115.6 34.0519 Q1112.85 35.7533 1112.85 39.156 Q1112.85 41.7486 1114.83 43.2475 Q1116.82 44.7058 1122.81 46.0426 L1125.37 46.6097 Q1133.31 48.3111 1136.63 51.4303 Q1139.99 54.509 1139.99 60.0587 Q1139.99 66.3781 1134.97 70.0644 Q1129.98 73.7508 1121.23 73.7508 Q1117.59 73.7508 1113.62 73.0216 Q1109.69 72.3329 1105.31 70.9151 L1105.31 63.2184 Q1109.45 65.3654 1113.46 66.4591 Q1117.47 67.5124 1121.4 67.5124 Q1126.66 67.5124 1129.5 65.73 Q1132.33 63.9071 1132.33 60.6258 Q1132.33 57.5877 1130.27 55.9673 Q1128.24 54.3469 1121.32 52.8481 L1118.72 52.2405 Q1111.8 50.7821 1108.72 47.7845 Q1105.64 44.7463 1105.64 39.4801 Q1105.64 33.0797 1110.18 29.5959 Q1114.71 26.1121 1123.06 26.1121 Q1127.19 26.1121 1130.83 26.7198 Q1134.48 27.3274 1137.56 28.5427 Z\" fill=\"#000000\" fill-rule=\"evenodd\" fill-opacity=\"1\" /><path clip-path=\"url(#clip280)\" d=\"M1195.81 32.4315 Q1189.82 32.4315 1186.33 37.1306 Q1182.85 41.7891 1182.85 49.9314 Q1182.85 58.0738 1186.29 62.7728 Q1189.78 67.4314 1195.81 67.4314 Q1201.77 67.4314 1205.25 62.7323 Q1208.73 58.0333 1208.73 49.9314 Q1208.73 41.8701 1205.25 37.1711 Q1201.77 32.4315 1195.81 32.4315 M1195.81 26.1121 Q1205.53 26.1121 1211.08 32.4315 Q1216.63 38.7509 1216.63 49.9314 Q1216.63 61.0714 1211.08 67.4314 Q1205.53 73.7508 1195.81 73.7508 Q1186.05 73.7508 1180.5 67.4314 Q1174.99 61.0714 1174.99 49.9314 Q1174.99 38.7509 1180.5 32.4315 Q1186.05 26.1121 1195.81 26.1121 Z\" fill=\"#000000\" fill-rule=\"evenodd\" fill-opacity=\"1\" /><path clip-path=\"url(#clip280)\" d=\"M1251.96 9.54393 L1251.96 15.7418 L1244.83 15.7418 Q1240.82 15.7418 1239.24 17.3622 Q1237.7 18.9825 1237.7 23.1955 L1237.7 27.2059 L1249.97 27.2059 L1249.97 32.9987 L1237.7 32.9987 L1237.7 72.576 L1230.2 72.576 L1230.2 32.9987 L1223.07 32.9987 L1223.07 27.2059 L1230.2 27.2059 L1230.2 24.0462 Q1230.2 16.471 1233.73 13.0277 Q1237.25 9.54393 1244.91 9.54393 L1251.96 9.54393 Z\" fill=\"#000000\" fill-rule=\"evenodd\" fill-opacity=\"1\" /><path clip-path=\"url(#clip280)\" d=\"M1313.49 28.5427 L1313.49 35.5912 Q1310.33 33.9709 1306.93 33.1607 Q1303.52 32.3505 1299.88 32.3505 Q1294.33 32.3505 1291.53 34.0519 Q1288.78 35.7533 1288.78 39.156 Q1288.78 41.7486 1290.76 43.2475 Q1292.75 44.7058 1298.74 46.0426 L1301.3 46.6097 Q1309.24 48.3111 1312.56 51.4303 Q1315.92 54.509 1315.92 60.0587 Q1315.92 66.3781 1310.9 70.0644 Q1305.91 73.7508 1297.16 73.7508 Q1293.52 73.7508 1289.55 73.0216 Q1285.62 72.3329 1281.24 70.9151 L1281.24 63.2184 Q1285.38 65.3654 1289.39 66.4591 Q1293.4 67.5124 1297.33 67.5124 Q1302.59 67.5124 1305.43 65.73 Q1308.26 63.9071 1308.26 60.6258 Q1308.26 57.5877 1306.2 55.9673 Q1304.17 54.3469 1297.25 52.8481 L1294.65 52.2405 Q1287.73 50.7821 1284.65 47.7845 Q1281.57 44.7463 1281.57 39.4801 Q1281.57 33.0797 1286.11 29.5959 Q1290.64 26.1121 1298.99 26.1121 Q1303.12 26.1121 1306.77 26.7198 Q1310.41 27.3274 1313.49 28.5427 Z\" fill=\"#000000\" fill-rule=\"evenodd\" fill-opacity=\"1\" /><path clip-path=\"url(#clip280)\" d=\"M1327.02 54.671 L1327.02 27.2059 L1334.47 27.2059 L1334.47 54.3874 Q1334.47 60.8284 1336.99 64.0691 Q1339.5 67.2693 1344.52 67.2693 Q1350.56 67.2693 1354.04 63.421 Q1357.56 59.5726 1357.56 52.9291 L1357.56 27.2059 L1365.02 27.2059 L1365.02 72.576 L1357.56 72.576 L1357.56 65.6084 Q1354.85 69.7404 1351.24 71.7658 Q1347.68 73.7508 1342.94 73.7508 Q1335.12 73.7508 1331.07 68.8897 Q1327.02 64.0286 1327.02 54.671 M1345.78 26.1121 L1345.78 26.1121 Z\" fill=\"#000000\" fill-rule=\"evenodd\" fill-opacity=\"1\" /><path clip-path=\"url(#clip280)\" d=\"M1415.69 35.9153 Q1418.49 30.8922 1422.38 28.5022 Q1426.27 26.1121 1431.53 26.1121 Q1438.62 26.1121 1442.47 31.0947 Q1446.32 36.0368 1446.32 45.1919 L1446.32 72.576 L1438.83 72.576 L1438.83 45.4349 Q1438.83 38.913 1436.52 35.7533 Q1434.21 32.5936 1429.47 32.5936 Q1423.67 32.5936 1420.31 36.4419 Q1416.95 40.2903 1416.95 46.9338 L1416.95 72.576 L1409.46 72.576 L1409.46 45.4349 Q1409.46 38.8725 1407.15 35.7533 Q1404.84 32.5936 1400.02 32.5936 Q1394.31 32.5936 1390.94 36.4824 Q1387.58 40.3308 1387.58 46.9338 L1387.58 72.576 L1380.09 72.576 L1380.09 27.2059 L1387.58 27.2059 L1387.58 34.2544 Q1390.13 30.082 1393.7 28.0971 Q1397.26 26.1121 1402.16 26.1121 Q1407.11 26.1121 1410.55 28.6237 Q1414.03 31.1352 1415.69 35.9153 Z\" fill=\"#000000\" fill-rule=\"evenodd\" fill-opacity=\"1\" /><path clip-path=\"url(#clip280)\" d=\"M1490.11 28.5427 L1490.11 35.5912 Q1486.95 33.9709 1483.55 33.1607 Q1480.14 32.3505 1476.5 32.3505 Q1470.95 32.3505 1468.15 34.0519 Q1465.4 35.7533 1465.4 39.156 Q1465.4 41.7486 1467.38 43.2475 Q1469.37 44.7058 1475.36 46.0426 L1477.92 46.6097 Q1485.86 48.3111 1489.18 51.4303 Q1492.54 54.509 1492.54 60.0587 Q1492.54 66.3781 1487.52 70.0644 Q1482.53 73.7508 1473.78 73.7508 Q1470.14 73.7508 1466.17 73.0216 Q1462.24 72.3329 1457.86 70.9151 L1457.86 63.2184 Q1462 65.3654 1466.01 66.4591 Q1470.02 67.5124 1473.95 67.5124 Q1479.21 67.5124 1482.05 65.73 Q1484.88 63.9071 1484.88 60.6258 Q1484.88 57.5877 1482.82 55.9673 Q1480.79 54.3469 1473.87 52.8481 L1471.27 52.2405 Q1464.35 50.7821 1461.27 47.7845 Q1458.19 44.7463 1458.19 39.4801 Q1458.19 33.0797 1462.73 29.5959 Q1467.26 26.1121 1475.61 26.1121 Q1479.74 26.1121 1483.39 26.7198 Q1487.03 27.3274 1490.11 28.5427 Z\" fill=\"#000000\" fill-rule=\"evenodd\" fill-opacity=\"1\" /><polyline clip-path=\"url(#clip282)\" style=\"stroke:#009af9; stroke-linecap:butt; stroke-linejoin:round; stroke-width:8; stroke-opacity:1; fill:none\" points=\"\n",
       "  290.818,151.29 381.163,151.29 471.508,151.29 561.852,151.29 652.197,151.29 742.542,151.29 \n",
       "  \"/>\n",
       "<polyline clip-path=\"url(#clip282)\" style=\"stroke:#e26f46; stroke-linecap:butt; stroke-linejoin:round; stroke-width:8; stroke-opacity:1; fill:none\" stroke-dasharray=\"32, 20\" points=\"\n",
       "  381.163,946.094 471.508,787.134 561.852,628.173 652.197,469.212 742.542,310.251 832.887,151.29 923.232,310.251 1013.58,469.212 1103.92,628.173 1194.27,787.134 \n",
       "  1284.61,946.094 \n",
       "  \"/>\n",
       "<polyline clip-path=\"url(#clip282)\" style=\"stroke:#3da44d; stroke-linecap:butt; stroke-linejoin:round; stroke-width:8; stroke-opacity:1; fill:none\" stroke-dasharray=\"4, 8\" points=\"\n",
       "  471.508,1078.56 561.852,1025.57 652.197,946.094 742.542,840.12 832.887,707.653 923.232,548.692 1013.58,442.718 1103.92,389.731 1194.27,389.731 1284.61,442.718 \n",
       "  1374.96,548.692 1465.3,707.653 1555.65,840.12 1645.99,946.094 1736.34,1025.57 1826.68,1078.56 \n",
       "  \"/>\n",
       "<path clip-path=\"url(#clip280)\" d=\"\n",
       "M1504.87 363.596 L1818.49 363.596 L1818.49 156.236 L1504.87 156.236  Z\n",
       "  \" fill=\"#ffffff\" fill-rule=\"evenodd\" fill-opacity=\"1\"/>\n",
       "<polyline clip-path=\"url(#clip280)\" style=\"stroke:#000000; stroke-linecap:butt; stroke-linejoin:round; stroke-width:4; stroke-opacity:1; fill:none\" points=\"\n",
       "  1504.87,363.596 1818.49,363.596 1818.49,156.236 1504.87,156.236 1504.87,363.596 \n",
       "  \"/>\n",
       "<polyline clip-path=\"url(#clip280)\" style=\"stroke:#009af9; stroke-linecap:butt; stroke-linejoin:round; stroke-width:4; stroke-opacity:1; fill:none\" points=\"\n",
       "  1522.96,208.076 1631.49,208.076 \n",
       "  \"/>\n",
       "<path clip-path=\"url(#clip280)\" d=\"M1661.48 202.416 Q1658.05 202.416 1656.06 205.101 Q1654.07 207.763 1654.07 212.416 Q1654.07 217.069 1656.04 219.754 Q1658.03 222.416 1661.48 222.416 Q1664.88 222.416 1666.87 219.731 Q1668.86 217.046 1668.86 212.416 Q1668.86 207.81 1666.87 205.124 Q1664.88 202.416 1661.48 202.416 M1661.48 198.805 Q1667.03 198.805 1670.2 202.416 Q1673.38 206.027 1673.38 212.416 Q1673.38 218.782 1670.2 222.416 Q1667.03 226.027 1661.48 226.027 Q1655.9 226.027 1652.73 222.416 Q1649.58 218.782 1649.58 212.416 Q1649.58 206.027 1652.73 202.416 Q1655.9 198.805 1661.48 198.805 Z\" fill=\"#000000\" fill-rule=\"evenodd\" fill-opacity=\"1\" /><path clip-path=\"url(#clip280)\" d=\"M1701.99 209.708 L1701.99 225.356 L1697.73 225.356 L1697.73 209.847 Q1697.73 206.166 1696.29 204.337 Q1694.86 202.509 1691.99 202.509 Q1688.54 202.509 1686.55 204.708 Q1684.56 206.907 1684.56 210.703 L1684.56 225.356 L1680.27 225.356 L1680.27 199.43 L1684.56 199.43 L1684.56 203.458 Q1686.08 201.12 1688.14 199.962 Q1690.23 198.805 1692.94 198.805 Q1697.4 198.805 1699.7 201.583 Q1701.99 204.337 1701.99 209.708 Z\" fill=\"#000000\" fill-rule=\"evenodd\" fill-opacity=\"1\" /><path clip-path=\"url(#clip280)\" d=\"M1729.14 200.425 L1729.14 204.407 Q1727.33 203.411 1725.51 202.925 Q1723.7 202.416 1721.85 202.416 Q1717.7 202.416 1715.41 205.055 Q1713.12 207.671 1713.12 212.416 Q1713.12 217.161 1715.41 219.8 Q1717.7 222.416 1721.85 222.416 Q1723.7 222.416 1725.51 221.93 Q1727.33 221.421 1729.14 220.425 L1729.14 224.36 Q1727.36 225.194 1725.44 225.61 Q1723.54 226.027 1721.39 226.027 Q1715.53 226.027 1712.08 222.346 Q1708.63 218.666 1708.63 212.416 Q1708.63 206.073 1712.1 202.439 Q1715.6 198.805 1721.66 198.805 Q1723.63 198.805 1725.51 199.222 Q1727.38 199.615 1729.14 200.425 Z\" fill=\"#000000\" fill-rule=\"evenodd\" fill-opacity=\"1\" /><path clip-path=\"url(#clip280)\" d=\"M1758.72 211.328 L1758.72 213.411 L1739.14 213.411 Q1739.42 217.809 1741.78 220.124 Q1744.16 222.416 1748.4 222.416 Q1750.85 222.416 1753.14 221.814 Q1755.46 221.212 1757.73 220.009 L1757.73 224.036 Q1755.44 225.008 1753.03 225.518 Q1750.62 226.027 1748.14 226.027 Q1741.94 226.027 1738.31 222.416 Q1734.7 218.805 1734.7 212.647 Q1734.7 206.282 1738.12 202.555 Q1741.57 198.805 1747.4 198.805 Q1752.63 198.805 1755.67 202.185 Q1758.72 205.541 1758.72 211.328 M1754.46 210.078 Q1754.42 206.583 1752.5 204.499 Q1750.6 202.416 1747.45 202.416 Q1743.88 202.416 1741.73 204.43 Q1739.6 206.444 1739.28 210.101 L1754.46 210.078 Z\" fill=\"#000000\" fill-rule=\"evenodd\" fill-opacity=\"1\" /><polyline clip-path=\"url(#clip280)\" style=\"stroke:#e26f46; stroke-linecap:butt; stroke-linejoin:round; stroke-width:4; stroke-opacity:1; fill:none\" stroke-dasharray=\"16, 10\" points=\"\n",
       "  1522.96,259.916 1631.49,259.916 \n",
       "  \"/>\n",
       "<path clip-path=\"url(#clip280)\" d=\"M1656.99 243.909 L1656.99 251.27 L1665.76 251.27 L1665.76 254.58 L1656.99 254.58 L1656.99 268.654 Q1656.99 271.825 1657.84 272.728 Q1658.72 273.631 1661.39 273.631 L1665.76 273.631 L1665.76 277.196 L1661.39 277.196 Q1656.45 277.196 1654.58 275.367 Q1652.7 273.515 1652.7 268.654 L1652.7 254.58 L1649.58 254.58 L1649.58 251.27 L1652.7 251.27 L1652.7 243.909 L1656.99 243.909 Z\" fill=\"#000000\" fill-rule=\"evenodd\" fill-opacity=\"1\" /><path clip-path=\"url(#clip280)\" d=\"M1668.89 251.27 L1673.14 251.27 L1678.47 271.501 L1683.77 251.27 L1688.79 251.27 L1694.12 271.501 L1699.42 251.27 L1703.68 251.27 L1696.89 277.196 L1691.87 277.196 L1686.29 255.946 L1680.69 277.196 L1675.67 277.196 L1668.89 251.27 Z\" fill=\"#000000\" fill-rule=\"evenodd\" fill-opacity=\"1\" /><path clip-path=\"url(#clip280)\" d=\"M1710.14 251.27 L1714.39 251.27 L1714.39 277.196 L1710.14 277.196 L1710.14 251.27 M1710.14 241.177 L1714.39 241.177 L1714.39 246.571 L1710.14 246.571 L1710.14 241.177 Z\" fill=\"#000000\" fill-rule=\"evenodd\" fill-opacity=\"1\" /><path clip-path=\"url(#clip280)\" d=\"M1741.96 252.265 L1741.96 256.247 Q1740.16 255.251 1738.33 254.765 Q1736.52 254.256 1734.67 254.256 Q1730.53 254.256 1728.24 256.895 Q1725.95 259.511 1725.95 264.256 Q1725.95 269.001 1728.24 271.64 Q1730.53 274.256 1734.67 274.256 Q1736.52 274.256 1738.33 273.77 Q1740.16 273.261 1741.96 272.265 L1741.96 276.2 Q1740.18 277.034 1738.26 277.45 Q1736.36 277.867 1734.21 277.867 Q1728.35 277.867 1724.9 274.186 Q1721.45 270.506 1721.45 264.256 Q1721.45 257.913 1724.93 254.279 Q1728.42 250.645 1734.49 250.645 Q1736.45 250.645 1738.33 251.062 Q1740.2 251.455 1741.96 252.265 Z\" fill=\"#000000\" fill-rule=\"evenodd\" fill-opacity=\"1\" /><path clip-path=\"url(#clip280)\" d=\"M1771.55 263.168 L1771.55 265.251 L1751.96 265.251 Q1752.24 269.649 1754.6 271.964 Q1756.99 274.256 1761.22 274.256 Q1763.68 274.256 1765.97 273.654 Q1768.28 273.052 1770.55 271.849 L1770.55 275.876 Q1768.26 276.848 1765.85 277.358 Q1763.45 277.867 1760.97 277.867 Q1754.76 277.867 1751.13 274.256 Q1747.52 270.645 1747.52 264.487 Q1747.52 258.122 1750.95 254.395 Q1754.39 250.645 1760.23 250.645 Q1765.46 250.645 1768.49 254.025 Q1771.55 257.381 1771.55 263.168 M1767.29 261.918 Q1767.24 258.423 1765.32 256.339 Q1763.42 254.256 1760.27 254.256 Q1756.71 254.256 1754.56 256.27 Q1752.43 258.284 1752.1 261.941 L1767.29 261.918 Z\" fill=\"#000000\" fill-rule=\"evenodd\" fill-opacity=\"1\" /><polyline clip-path=\"url(#clip280)\" style=\"stroke:#3da44d; stroke-linecap:butt; stroke-linejoin:round; stroke-width:4; stroke-opacity:1; fill:none\" stroke-dasharray=\"2, 4\" points=\"\n",
       "  1522.96,311.756 1631.49,311.756 \n",
       "  \"/>\n",
       "<path clip-path=\"url(#clip280)\" d=\"M1656.99 295.749 L1656.99 303.11 L1665.76 303.11 L1665.76 306.42 L1656.99 306.42 L1656.99 320.494 Q1656.99 323.665 1657.84 324.568 Q1658.72 325.471 1661.39 325.471 L1665.76 325.471 L1665.76 329.036 L1661.39 329.036 Q1656.45 329.036 1654.58 327.207 Q1652.7 325.355 1652.7 320.494 L1652.7 306.42 L1649.58 306.42 L1649.58 303.11 L1652.7 303.11 L1652.7 295.749 L1656.99 295.749 Z\" fill=\"#000000\" fill-rule=\"evenodd\" fill-opacity=\"1\" /><path clip-path=\"url(#clip280)\" d=\"M1692.91 313.388 L1692.91 329.036 L1688.65 329.036 L1688.65 313.527 Q1688.65 309.846 1687.22 308.017 Q1685.78 306.189 1682.91 306.189 Q1679.46 306.189 1677.47 308.388 Q1675.48 310.587 1675.48 314.383 L1675.48 329.036 L1671.2 329.036 L1671.2 293.017 L1675.48 293.017 L1675.48 307.138 Q1677.01 304.8 1679.07 303.642 Q1681.15 302.485 1683.86 302.485 Q1688.33 302.485 1690.62 305.263 Q1692.91 308.017 1692.91 313.388 Z\" fill=\"#000000\" fill-rule=\"evenodd\" fill-opacity=\"1\" /><path clip-path=\"url(#clip280)\" d=\"M1716.43 307.091 Q1715.71 306.675 1714.86 306.49 Q1714.02 306.281 1713.01 306.281 Q1709.39 306.281 1707.45 308.642 Q1705.53 310.98 1705.53 315.378 L1705.53 329.036 L1701.25 329.036 L1701.25 303.11 L1705.53 303.11 L1705.53 307.138 Q1706.87 304.777 1709.02 303.642 Q1711.18 302.485 1714.26 302.485 Q1714.7 302.485 1715.23 302.554 Q1715.76 302.601 1716.41 302.716 L1716.43 307.091 Z\" fill=\"#000000\" fill-rule=\"evenodd\" fill-opacity=\"1\" /><path clip-path=\"url(#clip280)\" d=\"M1720.9 303.11 L1725.16 303.11 L1725.16 329.036 L1720.9 329.036 L1720.9 303.11 M1720.9 293.017 L1725.16 293.017 L1725.16 298.411 L1720.9 298.411 L1720.9 293.017 Z\" fill=\"#000000\" fill-rule=\"evenodd\" fill-opacity=\"1\" /><path clip-path=\"url(#clip280)\" d=\"M1752.73 304.105 L1752.73 308.087 Q1750.92 307.091 1749.09 306.605 Q1747.29 306.096 1745.44 306.096 Q1741.29 306.096 1739 308.735 Q1736.71 311.351 1736.71 316.096 Q1736.71 320.841 1739 323.48 Q1741.29 326.096 1745.44 326.096 Q1747.29 326.096 1749.09 325.61 Q1750.92 325.101 1752.73 324.105 L1752.73 328.04 Q1750.95 328.874 1749.02 329.29 Q1747.13 329.707 1744.97 329.707 Q1739.12 329.707 1735.67 326.026 Q1732.22 322.346 1732.22 316.096 Q1732.22 309.753 1735.69 306.119 Q1739.19 302.485 1745.25 302.485 Q1747.22 302.485 1749.09 302.902 Q1750.97 303.295 1752.73 304.105 Z\" fill=\"#000000\" fill-rule=\"evenodd\" fill-opacity=\"1\" /><path clip-path=\"url(#clip280)\" d=\"M1782.31 315.008 L1782.31 317.091 L1762.73 317.091 Q1763.01 321.489 1765.37 323.804 Q1767.75 326.096 1771.99 326.096 Q1774.44 326.096 1776.73 325.494 Q1779.05 324.892 1781.32 323.689 L1781.32 327.716 Q1779.02 328.688 1776.62 329.198 Q1774.21 329.707 1771.73 329.707 Q1765.53 329.707 1761.89 326.096 Q1758.28 322.485 1758.28 316.327 Q1758.28 309.962 1761.71 306.235 Q1765.16 302.485 1770.99 302.485 Q1776.22 302.485 1779.26 305.865 Q1782.31 309.221 1782.31 315.008 M1778.05 313.758 Q1778.01 310.263 1776.08 308.179 Q1774.19 306.096 1771.04 306.096 Q1767.47 306.096 1765.32 308.11 Q1763.19 310.124 1762.87 313.781 L1778.05 313.758 Z\" fill=\"#000000\" fill-rule=\"evenodd\" fill-opacity=\"1\" /></svg>\n"
      ]
     },
     "execution_count": 28,
     "metadata": {},
     "output_type": "execute_result"
    }
   ],
   "source": [
    "plot(die, label=\"once\")\n",
    "plot!(twice, label=\"twice\", style=:dash)\n",
    "plot!(thrice, label=\"thrice\", style=:dot)\n",
    "xticks!([0,3,6,9,12,15,18])\n",
    "decorate_dice!(title=\"Distributions of sums\")"
   ]
  },
  {
   "cell_type": "markdown",
   "id": "1368b789-8920-4295-b90a-d43454b9a01f",
   "metadata": {},
   "source": [
    "## Gluten Sensitivity"
   ]
  },
  {
   "cell_type": "markdown",
   "id": "09696ac2-8bf2-4a49-8897-59a679e8327a",
   "metadata": {},
   "source": [
    "## The Forward Problem"
   ]
  },
  {
   "cell_type": "code",
   "execution_count": 29,
   "id": "f284ba77-c283-48fc-aa05-ec4ca7a04104",
   "metadata": {},
   "outputs": [],
   "source": [
    "n = 35\n",
    "num_sensitive = 10\n",
    "num_insensitive = n - num_sensitive;"
   ]
  },
  {
   "cell_type": "code",
   "execution_count": 30,
   "id": "8a2b05d9-c99c-41bd-88b1-b47f4b792250",
   "metadata": {},
   "outputs": [],
   "source": [
    "dist_sensitive = makebinomial(num_sensitive, 0.95);\n",
    "dist_insensitive = makebinomial(num_insensitive, 0.40);"
   ]
  },
  {
   "cell_type": "code",
   "execution_count": 31,
   "id": "f16b95c8-a0a7-4b2f-a65d-da5759c245e7",
   "metadata": {},
   "outputs": [],
   "source": [
    "dist_total = adddist(dist_sensitive, dist_insensitive);"
   ]
  },
  {
   "cell_type": "code",
   "execution_count": 32,
   "id": "32c6b515-6783-4dba-ad73-cdb2be7c83a9",
   "metadata": {},
   "outputs": [
    {
     "data": {
      "image/svg+xml": [
       "<?xml version=\"1.0\" encoding=\"utf-8\"?>\n",
       "<svg xmlns=\"http://www.w3.org/2000/svg\" xmlns:xlink=\"http://www.w3.org/1999/xlink\" width=\"480\" height=\"320\" viewBox=\"0 0 1920 1280\">\n",
       "<defs>\n",
       "  <clipPath id=\"clip320\">\n",
       "    <rect x=\"0\" y=\"0\" width=\"1920\" height=\"1280\"/>\n",
       "  </clipPath>\n",
       "</defs>\n",
       "<path clip-path=\"url(#clip320)\" d=\"\n",
       "M0 1280 L1920 1280 L1920 0 L0 0  Z\n",
       "  \" fill=\"#ffffff\" fill-rule=\"evenodd\" fill-opacity=\"1\"/>\n",
       "<defs>\n",
       "  <clipPath id=\"clip321\">\n",
       "    <rect x=\"384\" y=\"0\" width=\"1345\" height=\"1280\"/>\n",
       "  </clipPath>\n",
       "</defs>\n",
       "<path clip-path=\"url(#clip320)\" d=\"\n",
       "M215.066 1106.38 L1872.76 1106.38 L1872.76 47.2441 L215.066 47.2441  Z\n",
       "  \" fill=\"#ffffff\" fill-rule=\"evenodd\" fill-opacity=\"1\"/>\n",
       "<defs>\n",
       "  <clipPath id=\"clip322\">\n",
       "    <rect x=\"215\" y=\"47\" width=\"1659\" height=\"1060\"/>\n",
       "  </clipPath>\n",
       "</defs>\n",
       "<polyline clip-path=\"url(#clip322)\" style=\"stroke:#000000; stroke-linecap:butt; stroke-linejoin:round; stroke-width:2; stroke-opacity:0.1; fill:none\" points=\"\n",
       "  261.982,1106.38 261.982,47.2441 \n",
       "  \"/>\n",
       "<polyline clip-path=\"url(#clip322)\" style=\"stroke:#000000; stroke-linecap:butt; stroke-linejoin:round; stroke-width:2; stroke-opacity:0.1; fill:none\" points=\"\n",
       "  708.799,1106.38 708.799,47.2441 \n",
       "  \"/>\n",
       "<polyline clip-path=\"url(#clip322)\" style=\"stroke:#000000; stroke-linecap:butt; stroke-linejoin:round; stroke-width:2; stroke-opacity:0.1; fill:none\" points=\"\n",
       "  1155.62,1106.38 1155.62,47.2441 \n",
       "  \"/>\n",
       "<polyline clip-path=\"url(#clip322)\" style=\"stroke:#000000; stroke-linecap:butt; stroke-linejoin:round; stroke-width:2; stroke-opacity:0.1; fill:none\" points=\"\n",
       "  1602.43,1106.38 1602.43,47.2441 \n",
       "  \"/>\n",
       "<polyline clip-path=\"url(#clip320)\" style=\"stroke:#000000; stroke-linecap:butt; stroke-linejoin:round; stroke-width:4; stroke-opacity:1; fill:none\" points=\"\n",
       "  215.066,1106.38 1872.76,1106.38 \n",
       "  \"/>\n",
       "<polyline clip-path=\"url(#clip320)\" style=\"stroke:#000000; stroke-linecap:butt; stroke-linejoin:round; stroke-width:4; stroke-opacity:1; fill:none\" points=\"\n",
       "  261.982,1106.38 261.982,1087.48 \n",
       "  \"/>\n",
       "<polyline clip-path=\"url(#clip320)\" style=\"stroke:#000000; stroke-linecap:butt; stroke-linejoin:round; stroke-width:4; stroke-opacity:1; fill:none\" points=\"\n",
       "  708.799,1106.38 708.799,1087.48 \n",
       "  \"/>\n",
       "<polyline clip-path=\"url(#clip320)\" style=\"stroke:#000000; stroke-linecap:butt; stroke-linejoin:round; stroke-width:4; stroke-opacity:1; fill:none\" points=\"\n",
       "  1155.62,1106.38 1155.62,1087.48 \n",
       "  \"/>\n",
       "<polyline clip-path=\"url(#clip320)\" style=\"stroke:#000000; stroke-linecap:butt; stroke-linejoin:round; stroke-width:4; stroke-opacity:1; fill:none\" points=\"\n",
       "  1602.43,1106.38 1602.43,1087.48 \n",
       "  \"/>\n",
       "<path clip-path=\"url(#clip320)\" d=\"M261.982 1133.46 Q258.371 1133.46 256.542 1137.02 Q254.737 1140.56 254.737 1147.69 Q254.737 1154.8 256.542 1158.37 Q258.371 1161.91 261.982 1161.91 Q265.616 1161.91 267.422 1158.37 Q269.25 1154.8 269.25 1147.69 Q269.25 1140.56 267.422 1137.02 Q265.616 1133.46 261.982 1133.46 M261.982 1129.75 Q267.792 1129.75 270.848 1134.36 Q273.926 1138.94 273.926 1147.69 Q273.926 1156.42 270.848 1161.03 Q267.792 1165.61 261.982 1165.61 Q256.172 1165.61 253.093 1161.03 Q250.038 1156.42 250.038 1147.69 Q250.038 1138.94 253.093 1134.36 Q256.172 1129.75 261.982 1129.75 Z\" fill=\"#000000\" fill-rule=\"evenodd\" fill-opacity=\"1\" /><path clip-path=\"url(#clip320)\" d=\"M683.486 1161 L691.125 1161 L691.125 1134.64 L682.815 1136.31 L682.815 1132.05 L691.079 1130.38 L695.755 1130.38 L695.755 1161 L703.394 1161 L703.394 1164.94 L683.486 1164.94 L683.486 1161 Z\" fill=\"#000000\" fill-rule=\"evenodd\" fill-opacity=\"1\" /><path clip-path=\"url(#clip320)\" d=\"M722.838 1133.46 Q719.227 1133.46 717.398 1137.02 Q715.593 1140.56 715.593 1147.69 Q715.593 1154.8 717.398 1158.37 Q719.227 1161.91 722.838 1161.91 Q726.472 1161.91 728.278 1158.37 Q730.106 1154.8 730.106 1147.69 Q730.106 1140.56 728.278 1137.02 Q726.472 1133.46 722.838 1133.46 M722.838 1129.75 Q728.648 1129.75 731.704 1134.36 Q734.782 1138.94 734.782 1147.69 Q734.782 1156.42 731.704 1161.03 Q728.648 1165.61 722.838 1165.61 Q717.028 1165.61 713.949 1161.03 Q710.894 1156.42 710.894 1147.69 Q710.894 1138.94 713.949 1134.36 Q717.028 1129.75 722.838 1129.75 Z\" fill=\"#000000\" fill-rule=\"evenodd\" fill-opacity=\"1\" /><path clip-path=\"url(#clip320)\" d=\"M1134.39 1161 L1150.71 1161 L1150.71 1164.94 L1128.76 1164.94 L1128.76 1161 Q1131.43 1158.25 1136.01 1153.62 Q1140.62 1148.97 1141.8 1147.63 Q1144.04 1145.1 1144.92 1143.37 Q1145.82 1141.61 1145.82 1139.92 Q1145.82 1137.16 1143.88 1135.43 Q1141.96 1133.69 1138.86 1133.69 Q1136.66 1133.69 1134.2 1134.45 Q1131.77 1135.22 1129 1136.77 L1129 1132.05 Q1131.82 1130.91 1134.27 1130.33 Q1136.73 1129.75 1138.76 1129.75 Q1144.13 1129.75 1147.33 1132.44 Q1150.52 1135.13 1150.52 1139.62 Q1150.52 1141.75 1149.71 1143.67 Q1148.93 1145.56 1146.82 1148.16 Q1146.24 1148.83 1143.14 1152.05 Q1140.04 1155.24 1134.39 1161 Z\" fill=\"#000000\" fill-rule=\"evenodd\" fill-opacity=\"1\" /><path clip-path=\"url(#clip320)\" d=\"M1170.52 1133.46 Q1166.91 1133.46 1165.08 1137.02 Q1163.28 1140.56 1163.28 1147.69 Q1163.28 1154.8 1165.08 1158.37 Q1166.91 1161.91 1170.52 1161.91 Q1174.16 1161.91 1175.96 1158.37 Q1177.79 1154.8 1177.79 1147.69 Q1177.79 1140.56 1175.96 1137.02 Q1174.16 1133.46 1170.52 1133.46 M1170.52 1129.75 Q1176.33 1129.75 1179.39 1134.36 Q1182.47 1138.94 1182.47 1147.69 Q1182.47 1156.42 1179.39 1161.03 Q1176.33 1165.61 1170.52 1165.61 Q1164.71 1165.61 1161.63 1161.03 Q1158.58 1156.42 1158.58 1147.69 Q1158.58 1138.94 1161.63 1134.36 Q1164.71 1129.75 1170.52 1129.75 Z\" fill=\"#000000\" fill-rule=\"evenodd\" fill-opacity=\"1\" /><path clip-path=\"url(#clip320)\" d=\"M1591.27 1146.31 Q1594.63 1147.02 1596.51 1149.29 Q1598.4 1151.56 1598.4 1154.89 Q1598.4 1160.01 1594.89 1162.81 Q1591.37 1165.61 1584.89 1165.61 Q1582.71 1165.61 1580.39 1165.17 Q1578.1 1164.75 1575.65 1163.9 L1575.65 1159.38 Q1577.59 1160.52 1579.91 1161.1 Q1582.22 1161.68 1584.75 1161.68 Q1589.14 1161.68 1591.44 1159.94 Q1593.75 1158.2 1593.75 1154.89 Q1593.75 1151.84 1591.6 1150.13 Q1589.47 1148.39 1585.65 1148.39 L1581.62 1148.39 L1581.62 1144.55 L1585.83 1144.55 Q1589.28 1144.55 1591.11 1143.18 Q1592.94 1141.79 1592.94 1139.2 Q1592.94 1136.54 1591.04 1135.13 Q1589.17 1133.69 1585.65 1133.69 Q1583.73 1133.69 1581.53 1134.11 Q1579.33 1134.52 1576.69 1135.4 L1576.69 1131.24 Q1579.35 1130.5 1581.67 1130.13 Q1584.01 1129.75 1586.07 1129.75 Q1591.39 1129.75 1594.49 1132.19 Q1597.59 1134.59 1597.59 1138.71 Q1597.59 1141.58 1595.95 1143.57 Q1594.31 1145.54 1591.27 1146.31 Z\" fill=\"#000000\" fill-rule=\"evenodd\" fill-opacity=\"1\" /><path clip-path=\"url(#clip320)\" d=\"M1617.27 1133.46 Q1613.66 1133.46 1611.83 1137.02 Q1610.02 1140.56 1610.02 1147.69 Q1610.02 1154.8 1611.83 1158.37 Q1613.66 1161.91 1617.27 1161.91 Q1620.9 1161.91 1622.71 1158.37 Q1624.54 1154.8 1624.54 1147.69 Q1624.54 1140.56 1622.71 1137.02 Q1620.9 1133.46 1617.27 1133.46 M1617.27 1129.75 Q1623.08 1129.75 1626.14 1134.36 Q1629.21 1138.94 1629.21 1147.69 Q1629.21 1156.42 1626.14 1161.03 Q1623.08 1165.61 1617.27 1165.61 Q1611.46 1165.61 1608.38 1161.03 Q1605.33 1156.42 1605.33 1147.69 Q1605.33 1138.94 1608.38 1134.36 Q1611.46 1129.75 1617.27 1129.75 Z\" fill=\"#000000\" fill-rule=\"evenodd\" fill-opacity=\"1\" /><path clip-path=\"url(#clip320)\" d=\"M511.038 1196.52 L519.695 1196.52 L540.766 1236.28 L540.766 1196.52 L547.004 1196.52 L547.004 1244.04 L538.347 1244.04 L517.276 1204.29 L517.276 1244.04 L511.038 1244.04 L511.038 1196.52 Z\" fill=\"#000000\" fill-rule=\"evenodd\" fill-opacity=\"1\" /><path clip-path=\"url(#clip320)\" d=\"M558.94 1229.98 L558.94 1208.4 L564.796 1208.4 L564.796 1229.75 Q564.796 1234.81 566.77 1237.36 Q568.743 1239.87 572.69 1239.87 Q577.432 1239.87 580.169 1236.85 Q582.938 1233.83 582.938 1228.61 L582.938 1208.4 L588.795 1208.4 L588.795 1244.04 L582.938 1244.04 L582.938 1238.57 Q580.806 1241.82 577.973 1243.41 Q575.172 1244.97 571.448 1244.97 Q565.305 1244.97 562.123 1241.15 Q558.94 1237.33 558.94 1229.98 M573.676 1207.54 L573.676 1207.54 Z\" fill=\"#000000\" fill-rule=\"evenodd\" fill-opacity=\"1\" /><path clip-path=\"url(#clip320)\" d=\"M628.612 1215.24 Q630.809 1211.29 633.864 1209.41 Q636.92 1207.54 641.057 1207.54 Q646.627 1207.54 649.651 1211.45 Q652.675 1215.33 652.675 1222.53 L652.675 1244.04 L646.786 1244.04 L646.786 1222.72 Q646.786 1217.59 644.972 1215.11 Q643.158 1212.63 639.434 1212.63 Q634.883 1212.63 632.241 1215.65 Q629.599 1218.68 629.599 1223.9 L629.599 1244.04 L623.711 1244.04 L623.711 1222.72 Q623.711 1217.56 621.897 1215.11 Q620.082 1212.63 616.295 1212.63 Q611.807 1212.63 609.165 1215.68 Q606.523 1218.71 606.523 1223.9 L606.523 1244.04 L600.635 1244.04 L600.635 1208.4 L606.523 1208.4 L606.523 1213.93 Q608.529 1210.66 611.329 1209.1 Q614.13 1207.54 617.982 1207.54 Q621.865 1207.54 624.57 1209.51 Q627.307 1211.48 628.612 1215.24 Z\" fill=\"#000000\" fill-rule=\"evenodd\" fill-opacity=\"1\" /><path clip-path=\"url(#clip320)\" d=\"M689.946 1226.25 Q689.946 1219.79 687.272 1216.13 Q684.631 1212.44 679.984 1212.44 Q675.337 1212.44 672.663 1216.13 Q670.021 1219.79 670.021 1226.25 Q670.021 1232.71 672.663 1236.4 Q675.337 1240.07 679.984 1240.07 Q684.631 1240.07 687.272 1236.4 Q689.946 1232.71 689.946 1226.25 M670.021 1213.81 Q671.867 1210.62 674.668 1209.1 Q677.501 1207.54 681.416 1207.54 Q687.909 1207.54 691.951 1212.69 Q696.025 1217.85 696.025 1226.25 Q696.025 1234.65 691.951 1239.81 Q687.909 1244.97 681.416 1244.97 Q677.501 1244.97 674.668 1243.44 Q671.867 1241.88 670.021 1238.7 L670.021 1244.04 L664.133 1244.04 L664.133 1194.52 L670.021 1194.52 L670.021 1213.81 Z\" fill=\"#000000\" fill-rule=\"evenodd\" fill-opacity=\"1\" /><path clip-path=\"url(#clip320)\" d=\"M736.225 1224.76 L736.225 1227.62 L709.298 1227.62 Q709.68 1233.67 712.926 1236.85 Q716.205 1240 722.029 1240 Q725.403 1240 728.554 1239.17 Q731.737 1238.35 734.856 1236.69 L734.856 1242.23 Q731.705 1243.57 728.395 1244.27 Q725.085 1244.97 721.679 1244.97 Q713.149 1244.97 708.152 1240 Q703.187 1235.04 703.187 1226.57 Q703.187 1217.82 707.897 1212.69 Q712.64 1207.54 720.661 1207.54 Q727.854 1207.54 732.023 1212.18 Q736.225 1216.8 736.225 1224.76 M730.368 1223.04 Q730.305 1218.23 727.663 1215.37 Q725.053 1212.5 720.724 1212.5 Q715.823 1212.5 712.863 1215.27 Q709.934 1218.04 709.489 1223.07 L730.368 1223.04 Z\" fill=\"#000000\" fill-rule=\"evenodd\" fill-opacity=\"1\" /><path clip-path=\"url(#clip320)\" d=\"M766.494 1213.87 Q765.507 1213.3 764.329 1213.04 Q763.183 1212.76 761.783 1212.76 Q756.818 1212.76 754.144 1216 Q751.502 1219.22 751.502 1225.27 L751.502 1244.04 L745.614 1244.04 L745.614 1208.4 L751.502 1208.4 L751.502 1213.93 Q753.348 1210.69 756.308 1209.13 Q759.269 1207.54 763.502 1207.54 Q764.106 1207.54 764.839 1207.63 Q765.571 1207.7 766.462 1207.85 L766.494 1213.87 Z\" fill=\"#000000\" fill-rule=\"evenodd\" fill-opacity=\"1\" /><path clip-path=\"url(#clip320)\" d=\"M807.17 1212.5 Q802.46 1212.5 799.723 1216.19 Q796.985 1219.85 796.985 1226.25 Q796.985 1232.65 799.691 1236.34 Q802.428 1240 807.17 1240 Q811.849 1240 814.587 1236.31 Q817.324 1232.62 817.324 1226.25 Q817.324 1219.92 814.587 1216.23 Q811.849 1212.5 807.17 1212.5 M807.17 1207.54 Q814.809 1207.54 819.17 1212.5 Q823.53 1217.47 823.53 1226.25 Q823.53 1235 819.17 1240 Q814.809 1244.97 807.17 1244.97 Q799.5 1244.97 795.139 1240 Q790.811 1235 790.811 1226.25 Q790.811 1217.47 795.139 1212.5 Q799.5 1207.54 807.17 1207.54 Z\" fill=\"#000000\" fill-rule=\"evenodd\" fill-opacity=\"1\" /><path clip-path=\"url(#clip320)\" d=\"M851.285 1194.52 L851.285 1199.39 L845.683 1199.39 Q842.532 1199.39 841.291 1200.66 Q840.081 1201.93 840.081 1205.24 L840.081 1208.4 L849.725 1208.4 L849.725 1212.95 L840.081 1212.95 L840.081 1244.04 L834.193 1244.04 L834.193 1212.95 L828.591 1212.95 L828.591 1208.4 L834.193 1208.4 L834.193 1205.91 Q834.193 1199.96 836.962 1197.26 Q839.731 1194.52 845.747 1194.52 L851.285 1194.52 Z\" fill=\"#000000\" fill-rule=\"evenodd\" fill-opacity=\"1\" /><path clip-path=\"url(#clip320)\" d=\"M902.561 1209.76 L902.561 1215.24 Q900.078 1213.87 897.563 1213.2 Q895.081 1212.5 892.535 1212.5 Q886.837 1212.5 883.686 1216.13 Q880.535 1219.73 880.535 1226.25 Q880.535 1232.78 883.686 1236.4 Q886.837 1240 892.535 1240 Q895.081 1240 897.563 1239.33 Q900.078 1238.63 902.561 1237.26 L902.561 1242.68 Q900.11 1243.82 897.468 1244.39 Q894.858 1244.97 891.898 1244.97 Q883.845 1244.97 879.103 1239.91 Q874.36 1234.85 874.36 1226.25 Q874.36 1217.53 879.135 1212.53 Q883.941 1207.54 892.28 1207.54 Q894.985 1207.54 897.563 1208.11 Q900.142 1208.65 902.561 1209.76 Z\" fill=\"#000000\" fill-rule=\"evenodd\" fill-opacity=\"1\" /><path clip-path=\"url(#clip320)\" d=\"M926.559 1212.5 Q921.849 1212.5 919.111 1216.19 Q916.374 1219.85 916.374 1226.25 Q916.374 1232.65 919.08 1236.34 Q921.817 1240 926.559 1240 Q931.238 1240 933.975 1236.31 Q936.713 1232.62 936.713 1226.25 Q936.713 1219.92 933.975 1216.23 Q931.238 1212.5 926.559 1212.5 M926.559 1207.54 Q934.198 1207.54 938.559 1212.5 Q942.919 1217.47 942.919 1226.25 Q942.919 1235 938.559 1240 Q934.198 1244.97 926.559 1244.97 Q918.889 1244.97 914.528 1240 Q910.199 1235 910.199 1226.25 Q910.199 1217.47 914.528 1212.5 Q918.889 1207.54 926.559 1207.54 Z\" fill=\"#000000\" fill-rule=\"evenodd\" fill-opacity=\"1\" /><path clip-path=\"url(#clip320)\" d=\"M973.284 1213.87 Q972.297 1213.3 971.119 1213.04 Q969.973 1212.76 968.573 1212.76 Q963.608 1212.76 960.934 1216 Q958.292 1219.22 958.292 1225.27 L958.292 1244.04 L952.404 1244.04 L952.404 1208.4 L958.292 1208.4 L958.292 1213.93 Q960.138 1210.69 963.098 1209.13 Q966.058 1207.54 970.292 1207.54 Q970.896 1207.54 971.628 1207.63 Q972.361 1207.7 973.252 1207.85 L973.284 1213.87 Z\" fill=\"#000000\" fill-rule=\"evenodd\" fill-opacity=\"1\" /><path clip-path=\"url(#clip320)\" d=\"M998.937 1213.87 Q997.951 1213.3 996.773 1213.04 Q995.627 1212.76 994.227 1212.76 Q989.261 1212.76 986.588 1216 Q983.946 1219.22 983.946 1225.27 L983.946 1244.04 L978.058 1244.04 L978.058 1208.4 L983.946 1208.4 L983.946 1213.93 Q985.792 1210.69 988.752 1209.13 Q991.712 1207.54 995.945 1207.54 Q996.55 1207.54 997.282 1207.63 Q998.014 1207.7 998.906 1207.85 L998.937 1213.87 Z\" fill=\"#000000\" fill-rule=\"evenodd\" fill-opacity=\"1\" /><path clip-path=\"url(#clip320)\" d=\"M1034.14 1224.76 L1034.14 1227.62 L1007.21 1227.62 Q1007.59 1233.67 1010.84 1236.85 Q1014.12 1240 1019.94 1240 Q1023.32 1240 1026.47 1239.17 Q1029.65 1238.35 1032.77 1236.69 L1032.77 1242.23 Q1029.62 1243.57 1026.31 1244.27 Q1023 1244.97 1019.59 1244.97 Q1011.06 1244.97 1006.07 1240 Q1001.1 1235.04 1001.1 1226.57 Q1001.1 1217.82 1005.81 1212.69 Q1010.55 1207.54 1018.58 1207.54 Q1025.77 1207.54 1029.94 1212.18 Q1034.14 1216.8 1034.14 1224.76 M1028.28 1223.04 Q1028.22 1218.23 1025.58 1215.37 Q1022.97 1212.5 1018.64 1212.5 Q1013.74 1212.5 1010.78 1215.27 Q1007.85 1218.04 1007.4 1223.07 L1028.28 1223.04 Z\" fill=\"#000000\" fill-rule=\"evenodd\" fill-opacity=\"1\" /><path clip-path=\"url(#clip320)\" d=\"M1069.41 1209.76 L1069.41 1215.24 Q1066.92 1213.87 1064.41 1213.2 Q1061.93 1212.5 1059.38 1212.5 Q1053.68 1212.5 1050.53 1216.13 Q1047.38 1219.73 1047.38 1226.25 Q1047.38 1232.78 1050.53 1236.4 Q1053.68 1240 1059.38 1240 Q1061.93 1240 1064.41 1239.33 Q1066.92 1238.63 1069.41 1237.26 L1069.41 1242.68 Q1066.95 1243.82 1064.31 1244.39 Q1061.7 1244.97 1058.74 1244.97 Q1050.69 1244.97 1045.95 1239.91 Q1041.21 1234.85 1041.21 1226.25 Q1041.21 1217.53 1045.98 1212.53 Q1050.79 1207.54 1059.13 1207.54 Q1061.83 1207.54 1064.41 1208.11 Q1066.99 1208.65 1069.41 1209.76 Z\" fill=\"#000000\" fill-rule=\"evenodd\" fill-opacity=\"1\" /><path clip-path=\"url(#clip320)\" d=\"M1085.38 1198.27 L1085.38 1208.4 L1097.45 1208.4 L1097.45 1212.95 L1085.38 1212.95 L1085.38 1232.3 Q1085.38 1236.66 1086.56 1237.9 Q1087.77 1239.14 1091.43 1239.14 L1097.45 1239.14 L1097.45 1244.04 L1091.43 1244.04 Q1084.65 1244.04 1082.07 1241.53 Q1079.5 1238.98 1079.5 1232.3 L1079.5 1212.95 L1075.2 1212.95 L1075.2 1208.4 L1079.5 1208.4 L1079.5 1198.27 L1085.38 1198.27 Z\" fill=\"#000000\" fill-rule=\"evenodd\" fill-opacity=\"1\" /><path clip-path=\"url(#clip320)\" d=\"M1125.87 1208.4 L1131.73 1208.4 L1131.73 1244.04 L1125.87 1244.04 L1125.87 1208.4 M1125.87 1194.52 L1131.73 1194.52 L1131.73 1201.93 L1125.87 1201.93 L1125.87 1194.52 Z\" fill=\"#000000\" fill-rule=\"evenodd\" fill-opacity=\"1\" /><path clip-path=\"url(#clip320)\" d=\"M1167.44 1213.81 L1167.44 1194.52 L1173.29 1194.52 L1173.29 1244.04 L1167.44 1244.04 L1167.44 1238.7 Q1165.59 1241.88 1162.76 1243.44 Q1159.96 1244.97 1156.01 1244.97 Q1149.55 1244.97 1145.48 1239.81 Q1141.43 1234.65 1141.43 1226.25 Q1141.43 1217.85 1145.48 1212.69 Q1149.55 1207.54 1156.01 1207.54 Q1159.96 1207.54 1162.76 1209.1 Q1165.59 1210.62 1167.44 1213.81 M1147.48 1226.25 Q1147.48 1232.71 1150.12 1236.4 Q1152.8 1240.07 1157.44 1240.07 Q1162.09 1240.07 1164.76 1236.4 Q1167.44 1232.71 1167.44 1226.25 Q1167.44 1219.79 1164.76 1216.13 Q1162.09 1212.44 1157.44 1212.44 Q1152.8 1212.44 1150.12 1216.13 Q1147.48 1219.79 1147.48 1226.25 Z\" fill=\"#000000\" fill-rule=\"evenodd\" fill-opacity=\"1\" /><path clip-path=\"url(#clip320)\" d=\"M1215.85 1224.76 L1215.85 1227.62 L1188.92 1227.62 Q1189.3 1233.67 1192.55 1236.85 Q1195.83 1240 1201.65 1240 Q1205.03 1240 1208.18 1239.17 Q1211.36 1238.35 1214.48 1236.69 L1214.48 1242.23 Q1211.33 1243.57 1208.02 1244.27 Q1204.71 1244.97 1201.3 1244.97 Q1192.77 1244.97 1187.78 1240 Q1182.81 1235.04 1182.81 1226.57 Q1182.81 1217.82 1187.52 1212.69 Q1192.26 1207.54 1200.28 1207.54 Q1207.48 1207.54 1211.65 1212.18 Q1215.85 1216.8 1215.85 1224.76 M1209.99 1223.04 Q1209.93 1218.23 1207.29 1215.37 Q1204.68 1212.5 1200.35 1212.5 Q1195.45 1212.5 1192.49 1215.27 Q1189.56 1218.04 1189.11 1223.07 L1209.99 1223.04 Z\" fill=\"#000000\" fill-rule=\"evenodd\" fill-opacity=\"1\" /><path clip-path=\"url(#clip320)\" d=\"M1255.09 1222.53 L1255.09 1244.04 L1249.24 1244.04 L1249.24 1222.72 Q1249.24 1217.66 1247.26 1215.14 Q1245.29 1212.63 1241.34 1212.63 Q1236.6 1212.63 1233.86 1215.65 Q1231.13 1218.68 1231.13 1223.9 L1231.13 1244.04 L1225.24 1244.04 L1225.24 1208.4 L1231.13 1208.4 L1231.13 1213.93 Q1233.23 1210.72 1236.06 1209.13 Q1238.92 1207.54 1242.65 1207.54 Q1248.79 1207.54 1251.94 1211.36 Q1255.09 1215.14 1255.09 1222.53 Z\" fill=\"#000000\" fill-rule=\"evenodd\" fill-opacity=\"1\" /><path clip-path=\"url(#clip320)\" d=\"M1272.57 1198.27 L1272.57 1208.4 L1284.63 1208.4 L1284.63 1212.95 L1272.57 1212.95 L1272.57 1232.3 Q1272.57 1236.66 1273.74 1237.9 Q1274.95 1239.14 1278.61 1239.14 L1284.63 1239.14 L1284.63 1244.04 L1278.61 1244.04 Q1271.84 1244.04 1269.26 1241.53 Q1266.68 1238.98 1266.68 1232.3 L1266.68 1212.95 L1262.38 1212.95 L1262.38 1208.4 L1266.68 1208.4 L1266.68 1198.27 L1272.57 1198.27 Z\" fill=\"#000000\" fill-rule=\"evenodd\" fill-opacity=\"1\" /><path clip-path=\"url(#clip320)\" d=\"M1292.33 1208.4 L1298.19 1208.4 L1298.19 1244.04 L1292.33 1244.04 L1292.33 1208.4 M1292.33 1194.52 L1298.19 1194.52 L1298.19 1201.93 L1292.33 1201.93 L1292.33 1194.52 Z\" fill=\"#000000\" fill-rule=\"evenodd\" fill-opacity=\"1\" /><path clip-path=\"url(#clip320)\" d=\"M1328.49 1194.52 L1328.49 1199.39 L1322.89 1199.39 Q1319.74 1199.39 1318.5 1200.66 Q1317.29 1201.93 1317.29 1205.24 L1317.29 1208.4 L1326.93 1208.4 L1326.93 1212.95 L1317.29 1212.95 L1317.29 1244.04 L1311.4 1244.04 L1311.4 1212.95 L1305.8 1212.95 L1305.8 1208.4 L1311.4 1208.4 L1311.4 1205.91 Q1311.4 1199.96 1314.17 1197.26 Q1316.94 1194.52 1322.95 1194.52 L1328.49 1194.52 Z\" fill=\"#000000\" fill-rule=\"evenodd\" fill-opacity=\"1\" /><path clip-path=\"url(#clip320)\" d=\"M1333.39 1208.4 L1339.25 1208.4 L1339.25 1244.04 L1333.39 1244.04 L1333.39 1208.4 M1333.39 1194.52 L1339.25 1194.52 L1339.25 1201.93 L1333.39 1201.93 L1333.39 1194.52 Z\" fill=\"#000000\" fill-rule=\"evenodd\" fill-opacity=\"1\" /><path clip-path=\"url(#clip320)\" d=\"M1377.16 1209.76 L1377.16 1215.24 Q1374.67 1213.87 1372.16 1213.2 Q1369.68 1212.5 1367.13 1212.5 Q1361.43 1212.5 1358.28 1216.13 Q1355.13 1219.73 1355.13 1226.25 Q1355.13 1232.78 1358.28 1236.4 Q1361.43 1240 1367.13 1240 Q1369.68 1240 1372.16 1239.33 Q1374.67 1238.63 1377.16 1237.26 L1377.16 1242.68 Q1374.71 1243.82 1372.06 1244.39 Q1369.45 1244.97 1366.49 1244.97 Q1358.44 1244.97 1353.7 1239.91 Q1348.96 1234.85 1348.96 1226.25 Q1348.96 1217.53 1353.73 1212.53 Q1358.54 1207.54 1366.88 1207.54 Q1369.58 1207.54 1372.16 1208.11 Q1374.74 1208.65 1377.16 1209.76 Z\" fill=\"#000000\" fill-rule=\"evenodd\" fill-opacity=\"1\" /><path clip-path=\"url(#clip320)\" d=\"M1403.54 1226.12 Q1396.44 1226.12 1393.71 1227.75 Q1390.97 1229.37 1390.97 1233.29 Q1390.97 1236.4 1393.01 1238.25 Q1395.08 1240.07 1398.61 1240.07 Q1403.48 1240.07 1406.41 1236.63 Q1409.37 1233.16 1409.37 1227.43 L1409.37 1226.12 L1403.54 1226.12 M1415.22 1223.71 L1415.22 1244.04 L1409.37 1244.04 L1409.37 1238.63 Q1407.36 1241.88 1404.37 1243.44 Q1401.38 1244.97 1397.05 1244.97 Q1391.57 1244.97 1388.33 1241.91 Q1385.11 1238.82 1385.11 1233.67 Q1385.11 1227.65 1389.12 1224.6 Q1393.17 1221.54 1401.15 1221.54 L1409.37 1221.54 L1409.37 1220.97 Q1409.37 1216.93 1406.69 1214.73 Q1404.05 1212.5 1399.24 1212.5 Q1396.19 1212.5 1393.29 1213.23 Q1390.4 1213.97 1387.72 1215.43 L1387.72 1210.02 Q1390.94 1208.78 1393.96 1208.17 Q1396.99 1207.54 1399.85 1207.54 Q1407.58 1207.54 1411.4 1211.55 Q1415.22 1215.56 1415.22 1223.71 Z\" fill=\"#000000\" fill-rule=\"evenodd\" fill-opacity=\"1\" /><path clip-path=\"url(#clip320)\" d=\"M1433.08 1198.27 L1433.08 1208.4 L1445.14 1208.4 L1445.14 1212.95 L1433.08 1212.95 L1433.08 1232.3 Q1433.08 1236.66 1434.26 1237.9 Q1435.47 1239.14 1439.13 1239.14 L1445.14 1239.14 L1445.14 1244.04 L1439.13 1244.04 Q1432.35 1244.04 1429.77 1241.53 Q1427.19 1238.98 1427.19 1232.3 L1427.19 1212.95 L1422.89 1212.95 L1422.89 1208.4 L1427.19 1208.4 L1427.19 1198.27 L1433.08 1198.27 Z\" fill=\"#000000\" fill-rule=\"evenodd\" fill-opacity=\"1\" /><path clip-path=\"url(#clip320)\" d=\"M1452.84 1208.4 L1458.7 1208.4 L1458.7 1244.04 L1452.84 1244.04 L1452.84 1208.4 M1452.84 1194.52 L1458.7 1194.52 L1458.7 1201.93 L1452.84 1201.93 L1452.84 1194.52 Z\" fill=\"#000000\" fill-rule=\"evenodd\" fill-opacity=\"1\" /><path clip-path=\"url(#clip320)\" d=\"M1484.77 1212.5 Q1480.06 1212.5 1477.32 1216.19 Q1474.58 1219.85 1474.58 1226.25 Q1474.58 1232.65 1477.29 1236.34 Q1480.03 1240 1484.77 1240 Q1489.45 1240 1492.18 1236.31 Q1494.92 1232.62 1494.92 1226.25 Q1494.92 1219.92 1492.18 1216.23 Q1489.45 1212.5 1484.77 1212.5 M1484.77 1207.54 Q1492.41 1207.54 1496.77 1212.5 Q1501.13 1217.47 1501.13 1226.25 Q1501.13 1235 1496.77 1240 Q1492.41 1244.97 1484.77 1244.97 Q1477.1 1244.97 1472.74 1240 Q1468.41 1235 1468.41 1226.25 Q1468.41 1217.47 1472.74 1212.5 Q1477.1 1207.54 1484.77 1207.54 Z\" fill=\"#000000\" fill-rule=\"evenodd\" fill-opacity=\"1\" /><path clip-path=\"url(#clip320)\" d=\"M1540.47 1222.53 L1540.47 1244.04 L1534.61 1244.04 L1534.61 1222.72 Q1534.61 1217.66 1532.64 1215.14 Q1530.66 1212.63 1526.72 1212.63 Q1521.98 1212.63 1519.24 1215.65 Q1516.5 1218.68 1516.5 1223.9 L1516.5 1244.04 L1510.61 1244.04 L1510.61 1208.4 L1516.5 1208.4 L1516.5 1213.93 Q1518.6 1210.72 1521.43 1209.13 Q1524.3 1207.54 1528.02 1207.54 Q1534.17 1207.54 1537.32 1211.36 Q1540.47 1215.14 1540.47 1222.53 Z\" fill=\"#000000\" fill-rule=\"evenodd\" fill-opacity=\"1\" /><path clip-path=\"url(#clip320)\" d=\"M1574.87 1209.45 L1574.87 1214.98 Q1572.39 1213.71 1569.72 1213.07 Q1567.04 1212.44 1564.18 1212.44 Q1559.82 1212.44 1557.62 1213.77 Q1555.46 1215.11 1555.46 1217.79 Q1555.46 1219.82 1557.02 1221 Q1558.58 1222.15 1563.29 1223.2 L1565.29 1223.64 Q1571.53 1224.98 1574.14 1227.43 Q1576.78 1229.85 1576.78 1234.21 Q1576.78 1239.17 1572.84 1242.07 Q1568.92 1244.97 1562.05 1244.97 Q1559.18 1244.97 1556.06 1244.39 Q1552.98 1243.85 1549.54 1242.74 L1549.54 1236.69 Q1552.79 1238.38 1555.94 1239.24 Q1559.09 1240.07 1562.18 1240.07 Q1566.31 1240.07 1568.54 1238.66 Q1570.77 1237.23 1570.77 1234.65 Q1570.77 1232.27 1569.15 1230.99 Q1567.55 1229.72 1562.11 1228.54 L1560.07 1228.07 Q1554.63 1226.92 1552.21 1224.56 Q1549.79 1222.18 1549.79 1218.04 Q1549.79 1213.01 1553.36 1210.27 Q1556.92 1207.54 1563.48 1207.54 Q1566.73 1207.54 1569.59 1208.01 Q1572.46 1208.49 1574.87 1209.45 Z\" fill=\"#000000\" fill-rule=\"evenodd\" fill-opacity=\"1\" /><polyline clip-path=\"url(#clip322)\" style=\"stroke:#000000; stroke-linecap:butt; stroke-linejoin:round; stroke-width:2; stroke-opacity:0.1; fill:none\" points=\"\n",
       "  215.066,1076.4 1872.76,1076.4 \n",
       "  \"/>\n",
       "<polyline clip-path=\"url(#clip322)\" style=\"stroke:#000000; stroke-linecap:butt; stroke-linejoin:round; stroke-width:2; stroke-opacity:0.1; fill:none\" points=\"\n",
       "  215.066,909.522 1872.76,909.522 \n",
       "  \"/>\n",
       "<polyline clip-path=\"url(#clip322)\" style=\"stroke:#000000; stroke-linecap:butt; stroke-linejoin:round; stroke-width:2; stroke-opacity:0.1; fill:none\" points=\"\n",
       "  215.066,742.64 1872.76,742.64 \n",
       "  \"/>\n",
       "<polyline clip-path=\"url(#clip322)\" style=\"stroke:#000000; stroke-linecap:butt; stroke-linejoin:round; stroke-width:2; stroke-opacity:0.1; fill:none\" points=\"\n",
       "  215.066,575.758 1872.76,575.758 \n",
       "  \"/>\n",
       "<polyline clip-path=\"url(#clip322)\" style=\"stroke:#000000; stroke-linecap:butt; stroke-linejoin:round; stroke-width:2; stroke-opacity:0.1; fill:none\" points=\"\n",
       "  215.066,408.876 1872.76,408.876 \n",
       "  \"/>\n",
       "<polyline clip-path=\"url(#clip322)\" style=\"stroke:#000000; stroke-linecap:butt; stroke-linejoin:round; stroke-width:2; stroke-opacity:0.1; fill:none\" points=\"\n",
       "  215.066,241.994 1872.76,241.994 \n",
       "  \"/>\n",
       "<polyline clip-path=\"url(#clip322)\" style=\"stroke:#000000; stroke-linecap:butt; stroke-linejoin:round; stroke-width:2; stroke-opacity:0.1; fill:none\" points=\"\n",
       "  215.066,75.1118 1872.76,75.1118 \n",
       "  \"/>\n",
       "<polyline clip-path=\"url(#clip320)\" style=\"stroke:#000000; stroke-linecap:butt; stroke-linejoin:round; stroke-width:4; stroke-opacity:1; fill:none\" points=\"\n",
       "  215.066,1106.38 215.066,47.2441 \n",
       "  \"/>\n",
       "<polyline clip-path=\"url(#clip320)\" style=\"stroke:#000000; stroke-linecap:butt; stroke-linejoin:round; stroke-width:4; stroke-opacity:1; fill:none\" points=\"\n",
       "  215.066,1076.4 233.964,1076.4 \n",
       "  \"/>\n",
       "<polyline clip-path=\"url(#clip320)\" style=\"stroke:#000000; stroke-linecap:butt; stroke-linejoin:round; stroke-width:4; stroke-opacity:1; fill:none\" points=\"\n",
       "  215.066,909.522 233.964,909.522 \n",
       "  \"/>\n",
       "<polyline clip-path=\"url(#clip320)\" style=\"stroke:#000000; stroke-linecap:butt; stroke-linejoin:round; stroke-width:4; stroke-opacity:1; fill:none\" points=\"\n",
       "  215.066,742.64 233.964,742.64 \n",
       "  \"/>\n",
       "<polyline clip-path=\"url(#clip320)\" style=\"stroke:#000000; stroke-linecap:butt; stroke-linejoin:round; stroke-width:4; stroke-opacity:1; fill:none\" points=\"\n",
       "  215.066,575.758 233.964,575.758 \n",
       "  \"/>\n",
       "<polyline clip-path=\"url(#clip320)\" style=\"stroke:#000000; stroke-linecap:butt; stroke-linejoin:round; stroke-width:4; stroke-opacity:1; fill:none\" points=\"\n",
       "  215.066,408.876 233.964,408.876 \n",
       "  \"/>\n",
       "<polyline clip-path=\"url(#clip320)\" style=\"stroke:#000000; stroke-linecap:butt; stroke-linejoin:round; stroke-width:4; stroke-opacity:1; fill:none\" points=\"\n",
       "  215.066,241.994 233.964,241.994 \n",
       "  \"/>\n",
       "<polyline clip-path=\"url(#clip320)\" style=\"stroke:#000000; stroke-linecap:butt; stroke-linejoin:round; stroke-width:4; stroke-opacity:1; fill:none\" points=\"\n",
       "  215.066,75.1118 233.964,75.1118 \n",
       "  \"/>\n",
       "<path clip-path=\"url(#clip320)\" d=\"M129.091 1062.2 Q125.48 1062.2 123.651 1065.77 Q121.845 1069.31 121.845 1076.44 Q121.845 1083.55 123.651 1087.11 Q125.48 1090.65 129.091 1090.65 Q132.725 1090.65 134.53 1087.11 Q136.359 1083.55 136.359 1076.44 Q136.359 1069.31 134.53 1065.77 Q132.725 1062.2 129.091 1062.2 M129.091 1058.5 Q134.901 1058.5 137.956 1063.11 Q141.035 1067.69 141.035 1076.44 Q141.035 1085.17 137.956 1089.77 Q134.901 1094.36 129.091 1094.36 Q123.28 1094.36 120.202 1089.77 Q117.146 1085.17 117.146 1076.44 Q117.146 1067.69 120.202 1063.11 Q123.28 1058.5 129.091 1058.5 Z\" fill=\"#000000\" fill-rule=\"evenodd\" fill-opacity=\"1\" /><path clip-path=\"url(#clip320)\" d=\"M149.253 1087.8 L154.137 1087.8 L154.137 1093.68 L149.253 1093.68 L149.253 1087.8 Z\" fill=\"#000000\" fill-rule=\"evenodd\" fill-opacity=\"1\" /><path clip-path=\"url(#clip320)\" d=\"M174.322 1062.2 Q170.711 1062.2 168.882 1065.77 Q167.077 1069.31 167.077 1076.44 Q167.077 1083.55 168.882 1087.11 Q170.711 1090.65 174.322 1090.65 Q177.956 1090.65 179.762 1087.11 Q181.59 1083.55 181.59 1076.44 Q181.59 1069.31 179.762 1065.77 Q177.956 1062.2 174.322 1062.2 M174.322 1058.5 Q180.132 1058.5 183.188 1063.11 Q186.266 1067.69 186.266 1076.44 Q186.266 1085.17 183.188 1089.77 Q180.132 1094.36 174.322 1094.36 Q168.512 1094.36 165.433 1089.77 Q162.378 1085.17 162.378 1076.44 Q162.378 1067.69 165.433 1063.11 Q168.512 1058.5 174.322 1058.5 Z\" fill=\"#000000\" fill-rule=\"evenodd\" fill-opacity=\"1\" /><path clip-path=\"url(#clip320)\" d=\"M130.317 895.321 Q126.706 895.321 124.878 898.886 Q123.072 902.427 123.072 909.557 Q123.072 916.663 124.878 920.228 Q126.706 923.77 130.317 923.77 Q133.952 923.77 135.757 920.228 Q137.586 916.663 137.586 909.557 Q137.586 902.427 135.757 898.886 Q133.952 895.321 130.317 895.321 M130.317 891.617 Q136.128 891.617 139.183 896.224 Q142.262 900.807 142.262 909.557 Q142.262 918.284 139.183 922.89 Q136.128 927.474 130.317 927.474 Q124.507 927.474 121.429 922.89 Q118.373 918.284 118.373 909.557 Q118.373 900.807 121.429 896.224 Q124.507 891.617 130.317 891.617 Z\" fill=\"#000000\" fill-rule=\"evenodd\" fill-opacity=\"1\" /><path clip-path=\"url(#clip320)\" d=\"M150.479 920.923 L155.364 920.923 L155.364 926.802 L150.479 926.802 L150.479 920.923 Z\" fill=\"#000000\" fill-rule=\"evenodd\" fill-opacity=\"1\" /><path clip-path=\"url(#clip320)\" d=\"M166.359 922.867 L173.998 922.867 L173.998 896.501 L165.688 898.168 L165.688 893.909 L173.952 892.242 L178.627 892.242 L178.627 922.867 L186.266 922.867 L186.266 926.802 L166.359 926.802 L166.359 922.867 Z\" fill=\"#000000\" fill-rule=\"evenodd\" fill-opacity=\"1\" /><path clip-path=\"url(#clip320)\" d=\"M130.688 728.439 Q127.077 728.439 125.248 732.004 Q123.443 735.545 123.443 742.675 Q123.443 749.781 125.248 753.346 Q127.077 756.888 130.688 756.888 Q134.322 756.888 136.128 753.346 Q137.956 749.781 137.956 742.675 Q137.956 735.545 136.128 732.004 Q134.322 728.439 130.688 728.439 M130.688 724.735 Q136.498 724.735 139.554 729.342 Q142.632 733.925 142.632 742.675 Q142.632 751.402 139.554 756.008 Q136.498 760.591 130.688 760.591 Q124.878 760.591 121.799 756.008 Q118.743 751.402 118.743 742.675 Q118.743 733.925 121.799 729.342 Q124.878 724.735 130.688 724.735 Z\" fill=\"#000000\" fill-rule=\"evenodd\" fill-opacity=\"1\" /><path clip-path=\"url(#clip320)\" d=\"M150.85 754.041 L155.734 754.041 L155.734 759.92 L150.85 759.92 L150.85 754.041 Z\" fill=\"#000000\" fill-rule=\"evenodd\" fill-opacity=\"1\" /><path clip-path=\"url(#clip320)\" d=\"M169.947 755.985 L186.266 755.985 L186.266 759.92 L164.322 759.92 L164.322 755.985 Q166.984 753.23 171.567 748.601 Q176.174 743.948 177.354 742.605 Q179.6 740.082 180.479 738.346 Q181.382 736.587 181.382 734.897 Q181.382 732.143 179.438 730.406 Q177.516 728.67 174.414 728.67 Q172.215 728.67 169.762 729.434 Q167.331 730.198 164.553 731.749 L164.553 727.027 Q167.377 725.893 169.831 725.314 Q172.285 724.735 174.322 724.735 Q179.692 724.735 182.887 727.42 Q186.081 730.105 186.081 734.596 Q186.081 736.726 185.271 738.647 Q184.484 740.545 182.377 743.138 Q181.799 743.809 178.697 747.027 Q175.595 750.221 169.947 755.985 Z\" fill=\"#000000\" fill-rule=\"evenodd\" fill-opacity=\"1\" /><path clip-path=\"url(#clip320)\" d=\"M129.739 561.557 Q126.128 561.557 124.299 565.122 Q122.493 568.663 122.493 575.793 Q122.493 582.899 124.299 586.464 Q126.128 590.006 129.739 590.006 Q133.373 590.006 135.179 586.464 Q137.007 582.899 137.007 575.793 Q137.007 568.663 135.179 565.122 Q133.373 561.557 129.739 561.557 M129.739 557.853 Q135.549 557.853 138.604 562.46 Q141.683 567.043 141.683 575.793 Q141.683 584.52 138.604 589.126 Q135.549 593.709 129.739 593.709 Q123.929 593.709 120.85 589.126 Q117.794 584.52 117.794 575.793 Q117.794 567.043 120.85 562.46 Q123.929 557.853 129.739 557.853 Z\" fill=\"#000000\" fill-rule=\"evenodd\" fill-opacity=\"1\" /><path clip-path=\"url(#clip320)\" d=\"M149.901 587.158 L154.785 587.158 L154.785 593.038 L149.901 593.038 L149.901 587.158 Z\" fill=\"#000000\" fill-rule=\"evenodd\" fill-opacity=\"1\" /><path clip-path=\"url(#clip320)\" d=\"M179.137 574.404 Q182.493 575.121 184.368 577.39 Q186.266 579.658 186.266 582.992 Q186.266 588.108 182.748 590.908 Q179.229 593.709 172.748 593.709 Q170.572 593.709 168.257 593.27 Q165.965 592.853 163.512 591.996 L163.512 587.483 Q165.456 588.617 167.771 589.195 Q170.086 589.774 172.609 589.774 Q177.007 589.774 179.299 588.038 Q181.614 586.302 181.614 582.992 Q181.614 579.936 179.461 578.223 Q177.331 576.487 173.512 576.487 L169.484 576.487 L169.484 572.645 L173.697 572.645 Q177.146 572.645 178.975 571.279 Q180.803 569.89 180.803 567.297 Q180.803 564.635 178.905 563.223 Q177.03 561.788 173.512 561.788 Q171.59 561.788 169.391 562.205 Q167.192 562.622 164.553 563.501 L164.553 559.335 Q167.215 558.594 169.53 558.223 Q171.868 557.853 173.928 557.853 Q179.252 557.853 182.354 560.284 Q185.456 562.691 185.456 566.811 Q185.456 569.682 183.813 571.672 Q182.169 573.64 179.137 574.404 Z\" fill=\"#000000\" fill-rule=\"evenodd\" fill-opacity=\"1\" /><path clip-path=\"url(#clip320)\" d=\"M128.605 394.675 Q124.993 394.675 123.165 398.239 Q121.359 401.781 121.359 408.911 Q121.359 416.017 123.165 419.582 Q124.993 423.124 128.605 423.124 Q132.239 423.124 134.044 419.582 Q135.873 416.017 135.873 408.911 Q135.873 401.781 134.044 398.239 Q132.239 394.675 128.605 394.675 M128.605 390.971 Q134.415 390.971 137.47 395.577 Q140.549 400.161 140.549 408.911 Q140.549 417.638 137.47 422.244 Q134.415 426.827 128.605 426.827 Q122.794 426.827 119.716 422.244 Q116.66 417.638 116.66 408.911 Q116.66 400.161 119.716 395.577 Q122.794 390.971 128.605 390.971 Z\" fill=\"#000000\" fill-rule=\"evenodd\" fill-opacity=\"1\" /><path clip-path=\"url(#clip320)\" d=\"M148.766 420.276 L153.651 420.276 L153.651 426.156 L148.766 426.156 L148.766 420.276 Z\" fill=\"#000000\" fill-rule=\"evenodd\" fill-opacity=\"1\" /><path clip-path=\"url(#clip320)\" d=\"M176.683 395.67 L164.877 414.119 L176.683 414.119 L176.683 395.67 M175.456 391.596 L181.336 391.596 L181.336 414.119 L186.266 414.119 L186.266 418.008 L181.336 418.008 L181.336 426.156 L176.683 426.156 L176.683 418.008 L161.081 418.008 L161.081 413.494 L175.456 391.596 Z\" fill=\"#000000\" fill-rule=\"evenodd\" fill-opacity=\"1\" /><path clip-path=\"url(#clip320)\" d=\"M130.086 227.793 Q126.475 227.793 124.646 231.357 Q122.841 234.899 122.841 242.029 Q122.841 249.135 124.646 252.7 Q126.475 256.242 130.086 256.242 Q133.72 256.242 135.526 252.7 Q137.354 249.135 137.354 242.029 Q137.354 234.899 135.526 231.357 Q133.72 227.793 130.086 227.793 M130.086 224.089 Q135.896 224.089 138.952 228.695 Q142.03 233.279 142.03 242.029 Q142.03 250.755 138.952 255.362 Q135.896 259.945 130.086 259.945 Q124.276 259.945 121.197 255.362 Q118.142 250.755 118.142 242.029 Q118.142 233.279 121.197 228.695 Q124.276 224.089 130.086 224.089 Z\" fill=\"#000000\" fill-rule=\"evenodd\" fill-opacity=\"1\" /><path clip-path=\"url(#clip320)\" d=\"M150.248 253.394 L155.132 253.394 L155.132 259.274 L150.248 259.274 L150.248 253.394 Z\" fill=\"#000000\" fill-rule=\"evenodd\" fill-opacity=\"1\" /><path clip-path=\"url(#clip320)\" d=\"M165.364 224.714 L183.72 224.714 L183.72 228.649 L169.646 228.649 L169.646 237.121 Q170.664 236.774 171.683 236.612 Q172.702 236.427 173.72 236.427 Q179.507 236.427 182.887 239.598 Q186.266 242.769 186.266 248.186 Q186.266 253.765 182.794 256.866 Q179.322 259.945 173.002 259.945 Q170.827 259.945 168.558 259.575 Q166.313 259.204 163.905 258.464 L163.905 253.765 Q165.989 254.899 168.211 255.454 Q170.433 256.01 172.91 256.01 Q176.914 256.01 179.252 253.904 Q181.59 251.797 181.59 248.186 Q181.59 244.575 179.252 242.468 Q176.914 240.362 172.91 240.362 Q171.035 240.362 169.16 240.779 Q167.308 241.195 165.364 242.075 L165.364 224.714 Z\" fill=\"#000000\" fill-rule=\"evenodd\" fill-opacity=\"1\" /><path clip-path=\"url(#clip320)\" d=\"M128.929 60.9105 Q125.318 60.9105 123.489 64.4753 Q121.683 68.0169 121.683 75.1465 Q121.683 82.253 123.489 85.8178 Q125.318 89.3594 128.929 89.3594 Q132.563 89.3594 134.368 85.8178 Q136.197 82.253 136.197 75.1465 Q136.197 68.0169 134.368 64.4753 Q132.563 60.9105 128.929 60.9105 M128.929 57.2068 Q134.739 57.2068 137.794 61.8133 Q140.873 66.3966 140.873 75.1465 Q140.873 83.8733 137.794 88.4798 Q134.739 93.0631 128.929 93.0631 Q123.118 93.0631 120.04 88.4798 Q116.984 83.8733 116.984 75.1465 Q116.984 66.3966 120.04 61.8133 Q123.118 57.2068 128.929 57.2068 Z\" fill=\"#000000\" fill-rule=\"evenodd\" fill-opacity=\"1\" /><path clip-path=\"url(#clip320)\" d=\"M149.091 86.5122 L153.975 86.5122 L153.975 92.3918 L149.091 92.3918 L149.091 86.5122 Z\" fill=\"#000000\" fill-rule=\"evenodd\" fill-opacity=\"1\" /><path clip-path=\"url(#clip320)\" d=\"M174.739 73.2484 Q171.59 73.2484 169.739 75.4012 Q167.91 77.5539 167.91 81.3039 Q167.91 85.0307 169.739 87.2067 Q171.59 89.3594 174.739 89.3594 Q177.887 89.3594 179.715 87.2067 Q181.567 85.0307 181.567 81.3039 Q181.567 77.5539 179.715 75.4012 Q177.887 73.2484 174.739 73.2484 M184.021 58.5957 L184.021 62.8549 Q182.262 62.0216 180.456 61.5818 Q178.674 61.142 176.914 61.142 Q172.285 61.142 169.831 64.267 Q167.401 67.3919 167.053 73.7114 Q168.419 71.6975 170.479 70.6327 Q172.539 69.5447 175.016 69.5447 Q180.225 69.5447 183.234 72.716 Q186.266 75.8641 186.266 81.3039 Q186.266 86.628 183.118 89.8455 Q179.97 93.0631 174.739 93.0631 Q168.743 93.0631 165.572 88.4798 Q162.401 83.8733 162.401 75.1465 Q162.401 66.9521 166.29 62.091 Q170.178 57.2068 176.729 57.2068 Q178.489 57.2068 180.271 57.554 Q182.076 57.9013 184.021 58.5957 Z\" fill=\"#000000\" fill-rule=\"evenodd\" fill-opacity=\"1\" /><path clip-path=\"url(#clip320)\" d=\"M31.3677 631.812 L49.2235 631.812 L49.2235 623.727 Q49.2235 619.239 46.9 616.789 Q44.5765 614.338 40.2797 614.338 Q36.0147 614.338 33.6912 616.789 Q31.3677 619.239 31.3677 623.727 L31.3677 631.812 M26.0842 638.241 L26.0842 623.727 Q26.0842 615.738 29.7126 611.664 Q33.3092 607.558 40.2797 607.558 Q47.3138 607.558 50.9104 611.664 Q54.507 615.738 54.507 623.727 L54.507 631.812 L73.6042 631.812 L73.6042 638.241 L26.0842 638.241 Z\" fill=\"#000000\" fill-rule=\"evenodd\" fill-opacity=\"1\" /><path clip-path=\"url(#clip320)\" d=\"M26.0842 598.933 L26.0842 589.352 L58.4219 577.226 L26.0842 565.035 L26.0842 555.455 L73.6042 555.455 L73.6042 561.725 L31.877 561.725 L64.4694 573.979 L64.4694 580.44 L31.877 592.694 L73.6042 592.694 L73.6042 598.933 L26.0842 598.933 Z\" fill=\"#000000\" fill-rule=\"evenodd\" fill-opacity=\"1\" /><path clip-path=\"url(#clip320)\" d=\"M26.0842 542.692 L26.0842 515.383 L31.495 515.383 L31.495 536.262 L45.4996 536.262 L45.4996 517.42 L50.9104 517.42 L50.9104 536.262 L73.6042 536.262 L73.6042 542.692 L26.0842 542.692 Z\" fill=\"#000000\" fill-rule=\"evenodd\" fill-opacity=\"1\" /><polyline clip-path=\"url(#clip322)\" style=\"stroke:#009af9; stroke-linecap:butt; stroke-linejoin:round; stroke-width:8; stroke-opacity:1; fill:none\" stroke-dasharray=\"4, 8\" points=\"\n",
       "  261.982,1076.4 306.664,1076.4 351.345,1076.4 396.027,1076.4 440.709,1076.4 485.39,1076.3 530.072,1074.79 574.754,1058.92 619.435,951.852 664.117,550.518 \n",
       "  708.799,77.2196 \n",
       "  \"/>\n",
       "<polyline clip-path=\"url(#clip322)\" style=\"stroke:#e26f46; stroke-linecap:butt; stroke-linejoin:round; stroke-width:8; stroke-opacity:1; fill:none\" stroke-dasharray=\"32, 20\" points=\"\n",
       "  261.982,1076.4 306.664,1076.33 351.345,1075.77 396.027,1073.17 440.709,1064.55 485.39,1043.21 530.072,1002.64 574.754,942.921 619.435,876.18 664.117,824.27 \n",
       "  708.799,807.461 753.48,831.91 798.162,886.242 842.844,949.629 887.525,1003.96 932.207,1040.99 976.889,1061.65 1021.57,1071.2 1066.25,1074.86 1110.93,1076.03 \n",
       "  1155.62,1076.33 1200.3,1076.39 1244.98,1076.4 1289.66,1076.4 1334.34,1076.4 1379.02,1076.4 \n",
       "  \"/>\n",
       "<polyline clip-path=\"url(#clip322)\" style=\"stroke:#3da44d; stroke-linecap:butt; stroke-linejoin:round; stroke-width:8; stroke-opacity:1; fill:none\" points=\"\n",
       "  261.982,1076.4 306.664,1076.4 351.345,1076.4 396.027,1076.4 440.709,1076.4 485.39,1076.4 530.072,1076.4 574.754,1076.4 619.435,1076.4 664.117,1076.39 \n",
       "  708.799,1076.28 753.48,1075.76 798.162,1073.69 842.844,1067.34 887.525,1051.73 932.207,1020.96 976.889,972.314 1021.57,911.504 1066.25,854.243 1110.93,820.325 \n",
       "  1155.62,822.739 1200.3,859.836 1244.98,916.805 1289.66,974.868 1334.34,1020.71 1379.02,1050.14 1423.71,1065.81 1468.39,1072.77 1513.07,1075.36 1557.75,1076.15 \n",
       "  1602.43,1076.36 1647.11,1076.4 1691.8,1076.4 1736.48,1076.4 1781.16,1076.4 1825.84,1076.4 \n",
       "  \"/>\n",
       "<path clip-path=\"url(#clip320)\" d=\"\n",
       "M1386.32 289.909 L1817.5 289.909 L1817.5 82.5486 L1386.32 82.5486  Z\n",
       "  \" fill=\"#ffffff\" fill-rule=\"evenodd\" fill-opacity=\"1\"/>\n",
       "<polyline clip-path=\"url(#clip320)\" style=\"stroke:#000000; stroke-linecap:butt; stroke-linejoin:round; stroke-width:4; stroke-opacity:1; fill:none\" points=\"\n",
       "  1386.32,289.909 1817.5,289.909 1817.5,82.5486 1386.32,82.5486 1386.32,289.909 \n",
       "  \"/>\n",
       "<polyline clip-path=\"url(#clip320)\" style=\"stroke:#009af9; stroke-linecap:butt; stroke-linejoin:round; stroke-width:4; stroke-opacity:1; fill:none\" stroke-dasharray=\"2, 4\" points=\"\n",
       "  1404.74,134.389 1515.25,134.389 \n",
       "  \"/>\n",
       "<path clip-path=\"url(#clip320)\" d=\"M1552.1 126.507 L1552.1 130.534 Q1550.29 129.609 1548.35 129.146 Q1546.4 128.683 1544.32 128.683 Q1541.15 128.683 1539.55 129.655 Q1537.98 130.627 1537.98 132.571 Q1537.98 134.053 1539.11 134.909 Q1540.25 135.743 1543.67 136.507 L1545.13 136.831 Q1549.67 137.803 1551.57 139.585 Q1553.49 141.345 1553.49 144.516 Q1553.49 148.127 1550.62 150.233 Q1547.77 152.34 1542.77 152.34 Q1540.69 152.34 1538.42 151.923 Q1536.17 151.53 1533.67 150.72 L1533.67 146.321 Q1536.03 147.548 1538.33 148.173 Q1540.62 148.775 1542.86 148.775 Q1545.87 148.775 1547.49 147.757 Q1549.11 146.715 1549.11 144.84 Q1549.11 143.104 1547.93 142.178 Q1546.77 141.252 1542.82 140.396 L1541.33 140.048 Q1537.38 139.215 1535.62 137.502 Q1533.86 135.766 1533.86 132.757 Q1533.86 129.099 1536.45 127.109 Q1539.04 125.118 1543.81 125.118 Q1546.17 125.118 1548.26 125.465 Q1550.34 125.812 1552.1 126.507 Z\" fill=\"#000000\" fill-rule=\"evenodd\" fill-opacity=\"1\" /><path clip-path=\"url(#clip320)\" d=\"M1582.45 137.641 L1582.45 139.724 L1562.86 139.724 Q1563.14 144.122 1565.5 146.437 Q1567.89 148.729 1572.12 148.729 Q1574.58 148.729 1576.87 148.127 Q1579.18 147.525 1581.45 146.321 L1581.45 150.349 Q1579.16 151.321 1576.75 151.831 Q1574.34 152.34 1571.87 152.34 Q1565.66 152.34 1562.03 148.729 Q1558.42 145.118 1558.42 138.96 Q1558.42 132.595 1561.84 128.868 Q1565.29 125.118 1571.13 125.118 Q1576.36 125.118 1579.39 128.497 Q1582.45 131.854 1582.45 137.641 M1578.19 136.391 Q1578.14 132.896 1576.22 130.812 Q1574.32 128.729 1571.17 128.729 Q1567.61 128.729 1565.45 130.743 Q1563.33 132.757 1563 136.414 L1578.19 136.391 Z\" fill=\"#000000\" fill-rule=\"evenodd\" fill-opacity=\"1\" /><path clip-path=\"url(#clip320)\" d=\"M1610.99 136.021 L1610.99 151.669 L1606.73 151.669 L1606.73 136.159 Q1606.73 132.479 1605.29 130.65 Q1603.86 128.822 1600.99 128.822 Q1597.54 128.822 1595.55 131.021 Q1593.56 133.22 1593.56 137.016 L1593.56 151.669 L1589.27 151.669 L1589.27 125.743 L1593.56 125.743 L1593.56 129.771 Q1595.08 127.433 1597.14 126.275 Q1599.23 125.118 1601.94 125.118 Q1606.4 125.118 1608.7 127.896 Q1610.99 130.65 1610.99 136.021 Z\" fill=\"#000000\" fill-rule=\"evenodd\" fill-opacity=\"1\" /><path clip-path=\"url(#clip320)\" d=\"M1636.01 126.507 L1636.01 130.534 Q1634.2 129.609 1632.26 129.146 Q1630.32 128.683 1628.23 128.683 Q1625.06 128.683 1623.46 129.655 Q1621.89 130.627 1621.89 132.571 Q1621.89 134.053 1623.02 134.909 Q1624.16 135.743 1627.58 136.507 L1629.04 136.831 Q1633.58 137.803 1635.48 139.585 Q1637.4 141.345 1637.4 144.516 Q1637.4 148.127 1634.53 150.233 Q1631.68 152.34 1626.68 152.34 Q1624.6 152.34 1622.33 151.923 Q1620.08 151.53 1617.58 150.72 L1617.58 146.321 Q1619.95 147.548 1622.24 148.173 Q1624.53 148.775 1626.77 148.775 Q1629.78 148.775 1631.4 147.757 Q1633.02 146.715 1633.02 144.84 Q1633.02 143.104 1631.84 142.178 Q1630.69 141.252 1626.73 140.396 L1625.25 140.048 Q1621.29 139.215 1619.53 137.502 Q1617.77 135.766 1617.77 132.757 Q1617.77 129.099 1620.36 127.109 Q1622.95 125.118 1627.72 125.118 Q1630.08 125.118 1632.17 125.465 Q1634.25 125.812 1636.01 126.507 Z\" fill=\"#000000\" fill-rule=\"evenodd\" fill-opacity=\"1\" /><path clip-path=\"url(#clip320)\" d=\"M1644.18 125.743 L1648.44 125.743 L1648.44 151.669 L1644.18 151.669 L1644.18 125.743 M1644.18 115.65 L1648.44 115.65 L1648.44 121.044 L1644.18 121.044 L1644.18 115.65 Z\" fill=\"#000000\" fill-rule=\"evenodd\" fill-opacity=\"1\" /><path clip-path=\"url(#clip320)\" d=\"M1661.57 118.382 L1661.57 125.743 L1670.34 125.743 L1670.34 129.053 L1661.57 129.053 L1661.57 143.127 Q1661.57 146.298 1662.42 147.201 Q1663.3 148.104 1665.96 148.104 L1670.34 148.104 L1670.34 151.669 L1665.96 151.669 Q1661.03 151.669 1659.16 149.84 Q1657.28 147.988 1657.28 143.127 L1657.28 129.053 L1654.16 129.053 L1654.16 125.743 L1657.28 125.743 L1657.28 118.382 L1661.57 118.382 Z\" fill=\"#000000\" fill-rule=\"evenodd\" fill-opacity=\"1\" /><path clip-path=\"url(#clip320)\" d=\"M1675.94 125.743 L1680.2 125.743 L1680.2 151.669 L1675.94 151.669 L1675.94 125.743 M1675.94 115.65 L1680.2 115.65 L1680.2 121.044 L1675.94 121.044 L1675.94 115.65 Z\" fill=\"#000000\" fill-rule=\"evenodd\" fill-opacity=\"1\" /><path clip-path=\"url(#clip320)\" d=\"M1686.06 125.743 L1690.57 125.743 L1698.67 147.502 L1706.77 125.743 L1711.29 125.743 L1701.57 151.669 L1695.78 151.669 L1686.06 125.743 Z\" fill=\"#000000\" fill-rule=\"evenodd\" fill-opacity=\"1\" /><path clip-path=\"url(#clip320)\" d=\"M1739.34 137.641 L1739.34 139.724 L1719.76 139.724 Q1720.04 144.122 1722.4 146.437 Q1724.78 148.729 1729.02 148.729 Q1731.47 148.729 1733.76 148.127 Q1736.08 147.525 1738.35 146.321 L1738.35 150.349 Q1736.06 151.321 1733.65 151.831 Q1731.24 152.34 1728.76 152.34 Q1722.56 152.34 1718.93 148.729 Q1715.32 145.118 1715.32 138.96 Q1715.32 132.595 1718.74 128.868 Q1722.19 125.118 1728.02 125.118 Q1733.25 125.118 1736.29 128.497 Q1739.34 131.854 1739.34 137.641 M1735.08 136.391 Q1735.04 132.896 1733.12 130.812 Q1731.22 128.729 1728.07 128.729 Q1724.5 128.729 1722.35 130.743 Q1720.22 132.757 1719.9 136.414 L1735.08 136.391 Z\" fill=\"#000000\" fill-rule=\"evenodd\" fill-opacity=\"1\" /><polyline clip-path=\"url(#clip320)\" style=\"stroke:#e26f46; stroke-linecap:butt; stroke-linejoin:round; stroke-width:4; stroke-opacity:1; fill:none\" stroke-dasharray=\"16, 10\" points=\"\n",
       "  1404.74,186.229 1515.25,186.229 \n",
       "  \"/>\n",
       "<path clip-path=\"url(#clip320)\" d=\"M1533.67 177.583 L1537.93 177.583 L1537.93 203.509 L1533.67 203.509 L1533.67 177.583 M1533.67 167.49 L1537.93 167.49 L1537.93 172.884 L1533.67 172.884 L1533.67 167.49 Z\" fill=\"#000000\" fill-rule=\"evenodd\" fill-opacity=\"1\" /><path clip-path=\"url(#clip320)\" d=\"M1568.39 187.861 L1568.39 203.509 L1564.14 203.509 L1564.14 187.999 Q1564.14 184.319 1562.7 182.49 Q1561.27 180.662 1558.39 180.662 Q1554.95 180.662 1552.95 182.861 Q1550.96 185.06 1550.96 188.856 L1550.96 203.509 L1546.68 203.509 L1546.68 177.583 L1550.96 177.583 L1550.96 181.611 Q1552.49 179.273 1554.55 178.115 Q1556.64 176.958 1559.34 176.958 Q1563.81 176.958 1566.1 179.736 Q1568.39 182.49 1568.39 187.861 Z\" fill=\"#000000\" fill-rule=\"evenodd\" fill-opacity=\"1\" /><path clip-path=\"url(#clip320)\" d=\"M1593.42 178.347 L1593.42 182.374 Q1591.61 181.449 1589.67 180.986 Q1587.72 180.523 1585.64 180.523 Q1582.47 180.523 1580.87 181.495 Q1579.3 182.467 1579.3 184.411 Q1579.3 185.893 1580.43 186.749 Q1581.57 187.583 1584.99 188.347 L1586.45 188.671 Q1590.99 189.643 1592.89 191.425 Q1594.81 193.185 1594.81 196.356 Q1594.81 199.967 1591.94 202.073 Q1589.09 204.18 1584.09 204.18 Q1582.01 204.18 1579.74 203.763 Q1577.49 203.37 1574.99 202.56 L1574.99 198.161 Q1577.35 199.388 1579.64 200.013 Q1581.94 200.615 1584.18 200.615 Q1587.19 200.615 1588.81 199.597 Q1590.43 198.555 1590.43 196.68 Q1590.43 194.944 1589.25 194.018 Q1588.09 193.092 1584.14 192.236 L1582.65 191.888 Q1578.7 191.055 1576.94 189.342 Q1575.18 187.606 1575.18 184.597 Q1575.18 180.939 1577.77 178.949 Q1580.36 176.958 1585.13 176.958 Q1587.49 176.958 1589.58 177.305 Q1591.66 177.652 1593.42 178.347 Z\" fill=\"#000000\" fill-rule=\"evenodd\" fill-opacity=\"1\" /><path clip-path=\"url(#clip320)\" d=\"M1623.76 189.481 L1623.76 191.564 L1604.18 191.564 Q1604.46 195.962 1606.82 198.277 Q1609.2 200.569 1613.44 200.569 Q1615.89 200.569 1618.19 199.967 Q1620.5 199.365 1622.77 198.161 L1622.77 202.189 Q1620.48 203.161 1618.07 203.671 Q1615.66 204.18 1613.19 204.18 Q1606.98 204.18 1603.35 200.569 Q1599.74 196.958 1599.74 190.8 Q1599.74 184.435 1603.16 180.708 Q1606.61 176.958 1612.45 176.958 Q1617.68 176.958 1620.71 180.337 Q1623.76 183.694 1623.76 189.481 M1619.51 188.231 Q1619.46 184.736 1617.54 182.652 Q1615.64 180.569 1612.49 180.569 Q1608.93 180.569 1606.77 182.583 Q1604.64 184.597 1604.32 188.254 L1619.51 188.231 Z\" fill=\"#000000\" fill-rule=\"evenodd\" fill-opacity=\"1\" /><path clip-path=\"url(#clip320)\" d=\"M1652.31 187.861 L1652.31 203.509 L1648.05 203.509 L1648.05 187.999 Q1648.05 184.319 1646.61 182.49 Q1645.18 180.662 1642.31 180.662 Q1638.86 180.662 1636.87 182.861 Q1634.88 185.06 1634.88 188.856 L1634.88 203.509 L1630.59 203.509 L1630.59 177.583 L1634.88 177.583 L1634.88 181.611 Q1636.4 179.273 1638.46 178.115 Q1640.55 176.958 1643.26 176.958 Q1647.72 176.958 1650.01 179.736 Q1652.31 182.49 1652.31 187.861 Z\" fill=\"#000000\" fill-rule=\"evenodd\" fill-opacity=\"1\" /><path clip-path=\"url(#clip320)\" d=\"M1677.33 178.347 L1677.33 182.374 Q1675.52 181.449 1673.58 180.986 Q1671.63 180.523 1669.55 180.523 Q1666.38 180.523 1664.78 181.495 Q1663.21 182.467 1663.21 184.411 Q1663.21 185.893 1664.34 186.749 Q1665.48 187.583 1668.9 188.347 L1670.36 188.671 Q1674.9 189.643 1676.8 191.425 Q1678.72 193.185 1678.72 196.356 Q1678.72 199.967 1675.85 202.073 Q1673 204.18 1668 204.18 Q1665.92 204.18 1663.65 203.763 Q1661.4 203.37 1658.9 202.56 L1658.9 198.161 Q1661.26 199.388 1663.56 200.013 Q1665.85 200.615 1668.09 200.615 Q1671.1 200.615 1672.72 199.597 Q1674.34 198.555 1674.34 196.68 Q1674.34 194.944 1673.16 194.018 Q1672.01 193.092 1668.05 192.236 L1666.57 191.888 Q1662.61 191.055 1660.85 189.342 Q1659.09 187.606 1659.09 184.597 Q1659.09 180.939 1661.68 178.949 Q1664.27 176.958 1669.04 176.958 Q1671.4 176.958 1673.49 177.305 Q1675.57 177.652 1677.33 178.347 Z\" fill=\"#000000\" fill-rule=\"evenodd\" fill-opacity=\"1\" /><path clip-path=\"url(#clip320)\" d=\"M1685.5 177.583 L1689.76 177.583 L1689.76 203.509 L1685.5 203.509 L1685.5 177.583 M1685.5 167.49 L1689.76 167.49 L1689.76 172.884 L1685.5 172.884 L1685.5 167.49 Z\" fill=\"#000000\" fill-rule=\"evenodd\" fill-opacity=\"1\" /><path clip-path=\"url(#clip320)\" d=\"M1702.88 170.222 L1702.88 177.583 L1711.66 177.583 L1711.66 180.893 L1702.88 180.893 L1702.88 194.967 Q1702.88 198.138 1703.74 199.041 Q1704.62 199.944 1707.28 199.944 L1711.66 199.944 L1711.66 203.509 L1707.28 203.509 Q1702.35 203.509 1700.48 201.68 Q1698.6 199.828 1698.6 194.967 L1698.6 180.893 L1695.48 180.893 L1695.48 177.583 L1698.6 177.583 L1698.6 170.222 L1702.88 170.222 Z\" fill=\"#000000\" fill-rule=\"evenodd\" fill-opacity=\"1\" /><path clip-path=\"url(#clip320)\" d=\"M1717.26 177.583 L1721.52 177.583 L1721.52 203.509 L1717.26 203.509 L1717.26 177.583 M1717.26 167.49 L1721.52 167.49 L1721.52 172.884 L1717.26 172.884 L1717.26 167.49 Z\" fill=\"#000000\" fill-rule=\"evenodd\" fill-opacity=\"1\" /><path clip-path=\"url(#clip320)\" d=\"M1727.38 177.583 L1731.89 177.583 L1739.99 199.342 L1748.09 177.583 L1752.61 177.583 L1742.88 203.509 L1737.1 203.509 L1727.38 177.583 Z\" fill=\"#000000\" fill-rule=\"evenodd\" fill-opacity=\"1\" /><path clip-path=\"url(#clip320)\" d=\"M1780.66 189.481 L1780.66 191.564 L1761.08 191.564 Q1761.36 195.962 1763.72 198.277 Q1766.1 200.569 1770.34 200.569 Q1772.79 200.569 1775.08 199.967 Q1777.4 199.365 1779.67 198.161 L1779.67 202.189 Q1777.38 203.161 1774.97 203.671 Q1772.56 204.18 1770.08 204.18 Q1763.88 204.18 1760.25 200.569 Q1756.63 196.958 1756.63 190.8 Q1756.63 184.435 1760.06 180.708 Q1763.51 176.958 1769.34 176.958 Q1774.57 176.958 1777.61 180.337 Q1780.66 183.694 1780.66 189.481 M1776.4 188.231 Q1776.36 184.736 1774.44 182.652 Q1772.54 180.569 1769.39 180.569 Q1765.82 180.569 1763.67 182.583 Q1761.54 184.597 1761.22 188.254 L1776.4 188.231 Z\" fill=\"#000000\" fill-rule=\"evenodd\" fill-opacity=\"1\" /><polyline clip-path=\"url(#clip320)\" style=\"stroke:#3da44d; stroke-linecap:butt; stroke-linejoin:round; stroke-width:4; stroke-opacity:1; fill:none\" points=\"\n",
       "  1404.74,238.069 1515.25,238.069 \n",
       "  \"/>\n",
       "<path clip-path=\"url(#clip320)\" d=\"M1541.08 222.062 L1541.08 229.423 L1549.85 229.423 L1549.85 232.733 L1541.08 232.733 L1541.08 246.807 Q1541.08 249.978 1541.94 250.881 Q1542.82 251.784 1545.48 251.784 L1549.85 251.784 L1549.85 255.349 L1545.48 255.349 Q1540.55 255.349 1538.67 253.52 Q1536.8 251.668 1536.8 246.807 L1536.8 232.733 L1533.67 232.733 L1533.67 229.423 L1536.8 229.423 L1536.8 222.062 L1541.08 222.062 Z\" fill=\"#000000\" fill-rule=\"evenodd\" fill-opacity=\"1\" /><path clip-path=\"url(#clip320)\" d=\"M1565.5 232.409 Q1562.08 232.409 1560.08 235.094 Q1558.09 237.756 1558.09 242.409 Q1558.09 247.062 1560.06 249.747 Q1562.05 252.409 1565.5 252.409 Q1568.9 252.409 1570.89 249.724 Q1572.89 247.038 1572.89 242.409 Q1572.89 237.802 1570.89 235.117 Q1568.9 232.409 1565.5 232.409 M1565.5 228.798 Q1571.06 228.798 1574.23 232.409 Q1577.4 236.02 1577.4 242.409 Q1577.4 248.775 1574.23 252.409 Q1571.06 256.02 1565.5 256.02 Q1559.92 256.02 1556.75 252.409 Q1553.6 248.775 1553.6 242.409 Q1553.6 236.02 1556.75 232.409 Q1559.92 228.798 1565.5 228.798 Z\" fill=\"#000000\" fill-rule=\"evenodd\" fill-opacity=\"1\" /><path clip-path=\"url(#clip320)\" d=\"M1588.67 222.062 L1588.67 229.423 L1597.45 229.423 L1597.45 232.733 L1588.67 232.733 L1588.67 246.807 Q1588.67 249.978 1589.53 250.881 Q1590.41 251.784 1593.07 251.784 L1597.45 251.784 L1597.45 255.349 L1593.07 255.349 Q1588.14 255.349 1586.26 253.52 Q1584.39 251.668 1584.39 246.807 L1584.39 232.733 L1581.26 232.733 L1581.26 229.423 L1584.39 229.423 L1584.39 222.062 L1588.67 222.062 Z\" fill=\"#000000\" fill-rule=\"evenodd\" fill-opacity=\"1\" /><path clip-path=\"url(#clip320)\" d=\"M1614.83 242.316 Q1609.67 242.316 1607.68 243.497 Q1605.69 244.677 1605.69 247.525 Q1605.69 249.793 1607.17 251.136 Q1608.67 252.455 1611.24 252.455 Q1614.78 252.455 1616.91 249.955 Q1619.07 247.432 1619.07 243.265 L1619.07 242.316 L1614.83 242.316 M1623.32 240.557 L1623.32 255.349 L1619.07 255.349 L1619.07 251.413 Q1617.61 253.775 1615.43 254.909 Q1613.26 256.02 1610.11 256.02 Q1606.13 256.02 1603.76 253.798 Q1601.43 251.552 1601.43 247.802 Q1601.43 243.427 1604.34 241.205 Q1607.28 238.983 1613.09 238.983 L1619.07 238.983 L1619.07 238.566 Q1619.07 235.627 1617.12 234.029 Q1615.2 232.409 1611.7 232.409 Q1609.48 232.409 1607.38 232.941 Q1605.27 233.474 1603.33 234.539 L1603.33 230.603 Q1605.66 229.701 1607.86 229.261 Q1610.06 228.798 1612.14 228.798 Q1617.77 228.798 1620.55 231.714 Q1623.32 234.631 1623.32 240.557 Z\" fill=\"#000000\" fill-rule=\"evenodd\" fill-opacity=\"1\" /><path clip-path=\"url(#clip320)\" d=\"M1632.1 219.33 L1636.36 219.33 L1636.36 255.349 L1632.1 255.349 L1632.1 219.33 Z\" fill=\"#000000\" fill-rule=\"evenodd\" fill-opacity=\"1\" /></svg>\n"
      ]
     },
     "execution_count": 32,
     "metadata": {},
     "output_type": "execute_result"
    }
   ],
   "source": [
    "plot(dist_sensitive, label=\"sensitive\", style=:dot)\n",
    "plot!(dist_insensitive, label=\"insensitive\", style=:dash)\n",
    "plot!(dist_total, label=\"total\")\n",
    "\n",
    "xlabel!(\"Number of correct identifications\")\n",
    "ylabel!(\"PMF\")"
   ]
  },
  {
   "cell_type": "markdown",
   "id": "45b8b763-8d64-4a59-82a6-1169e5cade5a",
   "metadata": {},
   "source": [
    "## The Inverse Problem"
   ]
  },
  {
   "cell_type": "code",
   "execution_count": 33,
   "id": "b0cd20a5-f467-4e30-b413-7daee1d29c96",
   "metadata": {},
   "outputs": [],
   "source": [
    "table = DataFrame()\n",
    "for num_sensitive in 0:n\n",
    "    num_insensitive = n - num_sensitive\n",
    "    dist_sensitive = makebinomial(num_sensitive, 0.95)\n",
    "    dist_insensitive = makebinomial(num_insensitive, 0.4)\n",
    "    dist_total = adddist(dist_sensitive, dist_insensitive)\n",
    "    insert!(table, dist_total; colname=num_sensitive)\n",
    "end"
   ]
  },
  {
   "cell_type": "code",
   "execution_count": 34,
   "id": "0e03a5c3-5a61-4d26-980f-408571b264c7",
   "metadata": {},
   "outputs": [
    {
     "data": {
      "text/html": [
       "<div class=\"data-frame\"><p>3 rows × 37 columns (omitted printing of 30 columns)</p><table class=\"data-frame\"><thead><tr><th></th><th>index</th><th>0</th><th>1</th><th>2</th><th>3</th><th>4</th><th>5</th></tr><tr><th></th><th title=\"Int64\">Int64</th><th title=\"Float64\">Float64</th><th title=\"Float64\">Float64</th><th title=\"Float64\">Float64</th><th title=\"Float64\">Float64</th><th title=\"Float64\">Float64</th><th title=\"Float64\">Float64</th></tr></thead><tbody><tr><th>1</th><td>0</td><td>1.71907e-8</td><td>1.43256e-9</td><td>1.1938e-10</td><td>9.94833e-12</td><td>8.29027e-13</td><td>6.90856e-14</td></tr><tr><th>2</th><td>1</td><td>4.01117e-7</td><td>5.969e-8</td><td>7.16279e-9</td><td>7.79286e-10</td><td>8.01393e-11</td><td>7.94484e-12</td></tr><tr><th>3</th><td>2</td><td>4.54599e-6</td><td>9.7414e-7</td><td>1.70912e-7</td><td>2.50643e-8</td><td>3.26913e-9</td><td>3.94018e-10</td></tr></tbody></table></div>"
      ],
      "text/latex": [
       "\\begin{tabular}{r|cccccccc}\n",
       "\t& index & 0 & 1 & 2 & 3 & 4 & 5 & \\\\\n",
       "\t\\hline\n",
       "\t& Int64 & Float64 & Float64 & Float64 & Float64 & Float64 & Float64 & \\\\\n",
       "\t\\hline\n",
       "\t1 & 0 & 1.71907e-8 & 1.43256e-9 & 1.1938e-10 & 9.94833e-12 & 8.29027e-13 & 6.90856e-14 & $\\dots$ \\\\\n",
       "\t2 & 1 & 4.01117e-7 & 5.969e-8 & 7.16279e-9 & 7.79286e-10 & 8.01393e-11 & 7.94484e-12 & $\\dots$ \\\\\n",
       "\t3 & 2 & 4.54599e-6 & 9.7414e-7 & 1.70912e-7 & 2.50643e-8 & 3.26913e-9 & 3.94018e-10 & $\\dots$ \\\\\n",
       "\\end{tabular}\n"
      ],
      "text/plain": [
       "\u001b[1m3×37 DataFrame\u001b[0m\n",
       "\u001b[1m Row \u001b[0m│\u001b[1m index \u001b[0m\u001b[1m 0          \u001b[0m\u001b[1m 1          \u001b[0m\u001b[1m 2          \u001b[0m\u001b[1m 3           \u001b[0m\u001b[1m 4           \u001b[0m\u001b[1m 5 \u001b[0m ⋯\n",
       "\u001b[1m     \u001b[0m│\u001b[90m Int64 \u001b[0m\u001b[90m Float64    \u001b[0m\u001b[90m Float64    \u001b[0m\u001b[90m Float64    \u001b[0m\u001b[90m Float64     \u001b[0m\u001b[90m Float64     \u001b[0m\u001b[90m Fl\u001b[0m ⋯\n",
       "─────┼──────────────────────────────────────────────────────────────────────────\n",
       "   1 │     0  1.71907e-8  1.43256e-9  1.1938e-10  9.94833e-12  8.29027e-13  6. ⋯\n",
       "   2 │     1  4.01117e-7  5.969e-8    7.16279e-9  7.79286e-10  8.01393e-11  7.\n",
       "   3 │     2  4.54599e-6  9.7414e-7   1.70912e-7  2.50643e-8   3.26913e-9   3.\n",
       "\u001b[36m                                                              31 columns omitted\u001b[0m"
      ]
     },
     "execution_count": 34,
     "metadata": {},
     "output_type": "execute_result"
    }
   ],
   "source": [
    "first(table, 3)"
   ]
  },
  {
   "cell_type": "code",
   "execution_count": 35,
   "id": "894245a1-06aa-4cc1-b2b0-ebc0886f093c",
   "metadata": {},
   "outputs": [
    {
     "data": {
      "image/svg+xml": [
       "<?xml version=\"1.0\" encoding=\"utf-8\"?>\n",
       "<svg xmlns=\"http://www.w3.org/2000/svg\" xmlns:xlink=\"http://www.w3.org/1999/xlink\" width=\"480\" height=\"320\" viewBox=\"0 0 1920 1280\">\n",
       "<defs>\n",
       "  <clipPath id=\"clip360\">\n",
       "    <rect x=\"0\" y=\"0\" width=\"1920\" height=\"1280\"/>\n",
       "  </clipPath>\n",
       "</defs>\n",
       "<path clip-path=\"url(#clip360)\" d=\"\n",
       "M0 1280 L1920 1280 L1920 0 L0 0  Z\n",
       "  \" fill=\"#ffffff\" fill-rule=\"evenodd\" fill-opacity=\"1\"/>\n",
       "<defs>\n",
       "  <clipPath id=\"clip361\">\n",
       "    <rect x=\"384\" y=\"0\" width=\"1345\" height=\"1280\"/>\n",
       "  </clipPath>\n",
       "</defs>\n",
       "<path clip-path=\"url(#clip360)\" d=\"\n",
       "M244.742 1106.38 L1872.76 1106.38 L1872.76 123.472 L244.742 123.472  Z\n",
       "  \" fill=\"#ffffff\" fill-rule=\"evenodd\" fill-opacity=\"1\"/>\n",
       "<defs>\n",
       "  <clipPath id=\"clip362\">\n",
       "    <rect x=\"244\" y=\"123\" width=\"1629\" height=\"984\"/>\n",
       "  </clipPath>\n",
       "</defs>\n",
       "<polyline clip-path=\"url(#clip362)\" style=\"stroke:#000000; stroke-linecap:butt; stroke-linejoin:round; stroke-width:2; stroke-opacity:0.1; fill:none\" points=\"\n",
       "  246.936,1106.38 246.936,123.472 \n",
       "  \"/>\n",
       "<polyline clip-path=\"url(#clip362)\" style=\"stroke:#000000; stroke-linecap:butt; stroke-linejoin:round; stroke-width:2; stroke-opacity:0.1; fill:none\" points=\"\n",
       "  685.754,1106.38 685.754,123.472 \n",
       "  \"/>\n",
       "<polyline clip-path=\"url(#clip362)\" style=\"stroke:#000000; stroke-linecap:butt; stroke-linejoin:round; stroke-width:2; stroke-opacity:0.1; fill:none\" points=\"\n",
       "  1124.57,1106.38 1124.57,123.472 \n",
       "  \"/>\n",
       "<polyline clip-path=\"url(#clip362)\" style=\"stroke:#000000; stroke-linecap:butt; stroke-linejoin:round; stroke-width:2; stroke-opacity:0.1; fill:none\" points=\"\n",
       "  1563.39,1106.38 1563.39,123.472 \n",
       "  \"/>\n",
       "<polyline clip-path=\"url(#clip360)\" style=\"stroke:#000000; stroke-linecap:butt; stroke-linejoin:round; stroke-width:4; stroke-opacity:1; fill:none\" points=\"\n",
       "  244.742,1106.38 1872.76,1106.38 \n",
       "  \"/>\n",
       "<polyline clip-path=\"url(#clip360)\" style=\"stroke:#000000; stroke-linecap:butt; stroke-linejoin:round; stroke-width:4; stroke-opacity:1; fill:none\" points=\"\n",
       "  246.936,1106.38 246.936,1087.48 \n",
       "  \"/>\n",
       "<polyline clip-path=\"url(#clip360)\" style=\"stroke:#000000; stroke-linecap:butt; stroke-linejoin:round; stroke-width:4; stroke-opacity:1; fill:none\" points=\"\n",
       "  685.754,1106.38 685.754,1087.48 \n",
       "  \"/>\n",
       "<polyline clip-path=\"url(#clip360)\" style=\"stroke:#000000; stroke-linecap:butt; stroke-linejoin:round; stroke-width:4; stroke-opacity:1; fill:none\" points=\"\n",
       "  1124.57,1106.38 1124.57,1087.48 \n",
       "  \"/>\n",
       "<polyline clip-path=\"url(#clip360)\" style=\"stroke:#000000; stroke-linecap:butt; stroke-linejoin:round; stroke-width:4; stroke-opacity:1; fill:none\" points=\"\n",
       "  1563.39,1106.38 1563.39,1087.48 \n",
       "  \"/>\n",
       "<path clip-path=\"url(#clip360)\" d=\"M246.936 1133.46 Q243.325 1133.46 241.496 1137.02 Q239.691 1140.56 239.691 1147.69 Q239.691 1154.8 241.496 1158.37 Q243.325 1161.91 246.936 1161.91 Q250.57 1161.91 252.376 1158.37 Q254.205 1154.8 254.205 1147.69 Q254.205 1140.56 252.376 1137.02 Q250.57 1133.46 246.936 1133.46 M246.936 1129.75 Q252.746 1129.75 255.802 1134.36 Q258.881 1138.94 258.881 1147.69 Q258.881 1156.42 255.802 1161.03 Q252.746 1165.61 246.936 1165.61 Q241.126 1165.61 238.047 1161.03 Q234.992 1156.42 234.992 1147.69 Q234.992 1138.94 238.047 1134.36 Q241.126 1129.75 246.936 1129.75 Z\" fill=\"#000000\" fill-rule=\"evenodd\" fill-opacity=\"1\" /><path clip-path=\"url(#clip360)\" d=\"M660.442 1161 L668.08 1161 L668.08 1134.64 L659.77 1136.31 L659.77 1132.05 L668.034 1130.38 L672.71 1130.38 L672.71 1161 L680.349 1161 L680.349 1164.94 L660.442 1164.94 L660.442 1161 Z\" fill=\"#000000\" fill-rule=\"evenodd\" fill-opacity=\"1\" /><path clip-path=\"url(#clip360)\" d=\"M699.793 1133.46 Q696.182 1133.46 694.353 1137.02 Q692.548 1140.56 692.548 1147.69 Q692.548 1154.8 694.353 1158.37 Q696.182 1161.91 699.793 1161.91 Q703.427 1161.91 705.233 1158.37 Q707.062 1154.8 707.062 1147.69 Q707.062 1140.56 705.233 1137.02 Q703.427 1133.46 699.793 1133.46 M699.793 1129.75 Q705.603 1129.75 708.659 1134.36 Q711.738 1138.94 711.738 1147.69 Q711.738 1156.42 708.659 1161.03 Q705.603 1165.61 699.793 1165.61 Q693.983 1165.61 690.904 1161.03 Q687.849 1156.42 687.849 1147.69 Q687.849 1138.94 690.904 1134.36 Q693.983 1129.75 699.793 1129.75 Z\" fill=\"#000000\" fill-rule=\"evenodd\" fill-opacity=\"1\" /><path clip-path=\"url(#clip360)\" d=\"M1103.34 1161 L1119.66 1161 L1119.66 1164.94 L1097.72 1164.94 L1097.72 1161 Q1100.38 1158.25 1104.97 1153.62 Q1109.57 1148.97 1110.75 1147.63 Q1113 1145.1 1113.88 1143.37 Q1114.78 1141.61 1114.78 1139.92 Q1114.78 1137.16 1112.84 1135.43 Q1110.91 1133.69 1107.81 1133.69 Q1105.61 1133.69 1103.16 1134.45 Q1100.73 1135.22 1097.95 1136.77 L1097.95 1132.05 Q1100.78 1130.91 1103.23 1130.33 Q1105.68 1129.75 1107.72 1129.75 Q1113.09 1129.75 1116.28 1132.44 Q1119.48 1135.13 1119.48 1139.62 Q1119.48 1141.75 1118.67 1143.67 Q1117.88 1145.56 1115.78 1148.16 Q1115.2 1148.83 1112.09 1152.05 Q1108.99 1155.24 1103.34 1161 Z\" fill=\"#000000\" fill-rule=\"evenodd\" fill-opacity=\"1\" /><path clip-path=\"url(#clip360)\" d=\"M1139.48 1133.46 Q1135.87 1133.46 1134.04 1137.02 Q1132.23 1140.56 1132.23 1147.69 Q1132.23 1154.8 1134.04 1158.37 Q1135.87 1161.91 1139.48 1161.91 Q1143.11 1161.91 1144.92 1158.37 Q1146.75 1154.8 1146.75 1147.69 Q1146.75 1140.56 1144.92 1137.02 Q1143.11 1133.46 1139.48 1133.46 M1139.48 1129.75 Q1145.29 1129.75 1148.34 1134.36 Q1151.42 1138.94 1151.42 1147.69 Q1151.42 1156.42 1148.34 1161.03 Q1145.29 1165.61 1139.48 1165.61 Q1133.67 1165.61 1130.59 1161.03 Q1127.53 1156.42 1127.53 1147.69 Q1127.53 1138.94 1130.59 1134.36 Q1133.67 1129.75 1139.48 1129.75 Z\" fill=\"#000000\" fill-rule=\"evenodd\" fill-opacity=\"1\" /><path clip-path=\"url(#clip360)\" d=\"M1552.23 1146.31 Q1555.59 1147.02 1557.46 1149.29 Q1559.36 1151.56 1559.36 1154.89 Q1559.36 1160.01 1555.84 1162.81 Q1552.32 1165.61 1545.84 1165.61 Q1543.67 1165.61 1541.35 1165.17 Q1539.06 1164.75 1536.61 1163.9 L1536.61 1159.38 Q1538.55 1160.52 1540.87 1161.1 Q1543.18 1161.68 1545.7 1161.68 Q1550.1 1161.68 1552.39 1159.94 Q1554.71 1158.2 1554.71 1154.89 Q1554.71 1151.84 1552.56 1150.13 Q1550.43 1148.39 1546.61 1148.39 L1542.58 1148.39 L1542.58 1144.55 L1546.79 1144.55 Q1550.24 1144.55 1552.07 1143.18 Q1553.9 1141.79 1553.9 1139.2 Q1553.9 1136.54 1552 1135.13 Q1550.13 1133.69 1546.61 1133.69 Q1544.69 1133.69 1542.49 1134.11 Q1540.29 1134.52 1537.65 1135.4 L1537.65 1131.24 Q1540.31 1130.5 1542.63 1130.13 Q1544.96 1129.75 1547.02 1129.75 Q1552.35 1129.75 1555.45 1132.19 Q1558.55 1134.59 1558.55 1138.71 Q1558.55 1141.58 1556.91 1143.57 Q1555.26 1145.54 1552.23 1146.31 Z\" fill=\"#000000\" fill-rule=\"evenodd\" fill-opacity=\"1\" /><path clip-path=\"url(#clip360)\" d=\"M1578.23 1133.46 Q1574.62 1133.46 1572.79 1137.02 Q1570.98 1140.56 1570.98 1147.69 Q1570.98 1154.8 1572.79 1158.37 Q1574.62 1161.91 1578.23 1161.91 Q1581.86 1161.91 1583.67 1158.37 Q1585.5 1154.8 1585.5 1147.69 Q1585.5 1140.56 1583.67 1137.02 Q1581.86 1133.46 1578.23 1133.46 M1578.23 1129.75 Q1584.04 1129.75 1587.09 1134.36 Q1590.17 1138.94 1590.17 1147.69 Q1590.17 1156.42 1587.09 1161.03 Q1584.04 1165.61 1578.23 1165.61 Q1572.42 1165.61 1569.34 1161.03 Q1566.28 1156.42 1566.28 1147.69 Q1566.28 1138.94 1569.34 1134.36 Q1572.42 1129.75 1578.23 1129.75 Z\" fill=\"#000000\" fill-rule=\"evenodd\" fill-opacity=\"1\" /><path clip-path=\"url(#clip360)\" d=\"M525.876 1196.52 L534.533 1196.52 L555.604 1236.28 L555.604 1196.52 L561.842 1196.52 L561.842 1244.04 L553.185 1244.04 L532.114 1204.29 L532.114 1244.04 L525.876 1244.04 L525.876 1196.52 Z\" fill=\"#000000\" fill-rule=\"evenodd\" fill-opacity=\"1\" /><path clip-path=\"url(#clip360)\" d=\"M573.778 1229.98 L573.778 1208.4 L579.634 1208.4 L579.634 1229.75 Q579.634 1234.81 581.607 1237.36 Q583.581 1239.87 587.528 1239.87 Q592.27 1239.87 595.007 1236.85 Q597.776 1233.83 597.776 1228.61 L597.776 1208.4 L603.633 1208.4 L603.633 1244.04 L597.776 1244.04 L597.776 1238.57 Q595.644 1241.82 592.811 1243.41 Q590.01 1244.97 586.286 1244.97 Q580.143 1244.97 576.96 1241.15 Q573.778 1237.33 573.778 1229.98 M588.514 1207.54 L588.514 1207.54 Z\" fill=\"#000000\" fill-rule=\"evenodd\" fill-opacity=\"1\" /><path clip-path=\"url(#clip360)\" d=\"M643.45 1215.24 Q645.646 1211.29 648.702 1209.41 Q651.758 1207.54 655.895 1207.54 Q661.465 1207.54 664.489 1211.45 Q667.513 1215.33 667.513 1222.53 L667.513 1244.04 L661.624 1244.04 L661.624 1222.72 Q661.624 1217.59 659.81 1215.11 Q657.996 1212.63 654.272 1212.63 Q649.72 1212.63 647.079 1215.65 Q644.437 1218.68 644.437 1223.9 L644.437 1244.04 L638.549 1244.04 L638.549 1222.72 Q638.549 1217.56 636.734 1215.11 Q634.92 1212.63 631.133 1212.63 Q626.645 1212.63 624.003 1215.68 Q621.361 1218.71 621.361 1223.9 L621.361 1244.04 L615.473 1244.04 L615.473 1208.4 L621.361 1208.4 L621.361 1213.93 Q623.366 1210.66 626.167 1209.1 Q628.968 1207.54 632.82 1207.54 Q636.703 1207.54 639.408 1209.51 Q642.145 1211.48 643.45 1215.24 Z\" fill=\"#000000\" fill-rule=\"evenodd\" fill-opacity=\"1\" /><path clip-path=\"url(#clip360)\" d=\"M704.784 1226.25 Q704.784 1219.79 702.11 1216.13 Q699.468 1212.44 694.822 1212.44 Q690.175 1212.44 687.501 1216.13 Q684.859 1219.79 684.859 1226.25 Q684.859 1232.71 687.501 1236.4 Q690.175 1240.07 694.822 1240.07 Q699.468 1240.07 702.11 1236.4 Q704.784 1232.71 704.784 1226.25 M684.859 1213.81 Q686.705 1210.62 689.506 1209.1 Q692.339 1207.54 696.254 1207.54 Q702.747 1207.54 706.789 1212.69 Q710.863 1217.85 710.863 1226.25 Q710.863 1234.65 706.789 1239.81 Q702.747 1244.97 696.254 1244.97 Q692.339 1244.97 689.506 1243.44 Q686.705 1241.88 684.859 1238.7 L684.859 1244.04 L678.971 1244.04 L678.971 1194.52 L684.859 1194.52 L684.859 1213.81 Z\" fill=\"#000000\" fill-rule=\"evenodd\" fill-opacity=\"1\" /><path clip-path=\"url(#clip360)\" d=\"M751.063 1224.76 L751.063 1227.62 L724.136 1227.62 Q724.518 1233.67 727.764 1236.85 Q731.042 1240 736.867 1240 Q740.241 1240 743.392 1239.17 Q746.575 1238.35 749.694 1236.69 L749.694 1242.23 Q746.543 1243.57 743.233 1244.27 Q739.923 1244.97 736.517 1244.97 Q727.987 1244.97 722.99 1240 Q718.025 1235.04 718.025 1226.57 Q718.025 1217.82 722.735 1212.69 Q727.478 1207.54 735.498 1207.54 Q742.692 1207.54 746.861 1212.18 Q751.063 1216.8 751.063 1224.76 M745.206 1223.04 Q745.142 1218.23 742.501 1215.37 Q739.891 1212.5 735.562 1212.5 Q730.66 1212.5 727.7 1215.27 Q724.772 1218.04 724.327 1223.07 L745.206 1223.04 Z\" fill=\"#000000\" fill-rule=\"evenodd\" fill-opacity=\"1\" /><path clip-path=\"url(#clip360)\" d=\"M781.331 1213.87 Q780.345 1213.3 779.167 1213.04 Q778.021 1212.76 776.621 1212.76 Q771.656 1212.76 768.982 1216 Q766.34 1219.22 766.34 1225.27 L766.34 1244.04 L760.452 1244.04 L760.452 1208.4 L766.34 1208.4 L766.34 1213.93 Q768.186 1210.69 771.146 1209.13 Q774.106 1207.54 778.34 1207.54 Q778.944 1207.54 779.676 1207.63 Q780.408 1207.7 781.3 1207.85 L781.331 1213.87 Z\" fill=\"#000000\" fill-rule=\"evenodd\" fill-opacity=\"1\" /><path clip-path=\"url(#clip360)\" d=\"M822.008 1212.5 Q817.298 1212.5 814.56 1216.19 Q811.823 1219.85 811.823 1226.25 Q811.823 1232.65 814.529 1236.34 Q817.266 1240 822.008 1240 Q826.687 1240 829.424 1236.31 Q832.162 1232.62 832.162 1226.25 Q832.162 1219.92 829.424 1216.23 Q826.687 1212.5 822.008 1212.5 M822.008 1207.54 Q829.647 1207.54 834.008 1212.5 Q838.368 1217.47 838.368 1226.25 Q838.368 1235 834.008 1240 Q829.647 1244.97 822.008 1244.97 Q814.338 1244.97 809.977 1240 Q805.648 1235 805.648 1226.25 Q805.648 1217.47 809.977 1212.5 Q814.338 1207.54 822.008 1207.54 Z\" fill=\"#000000\" fill-rule=\"evenodd\" fill-opacity=\"1\" /><path clip-path=\"url(#clip360)\" d=\"M866.123 1194.52 L866.123 1199.39 L860.521 1199.39 Q857.37 1199.39 856.129 1200.66 Q854.919 1201.93 854.919 1205.24 L854.919 1208.4 L864.563 1208.4 L864.563 1212.95 L854.919 1212.95 L854.919 1244.04 L849.031 1244.04 L849.031 1212.95 L843.429 1212.95 L843.429 1208.4 L849.031 1208.4 L849.031 1205.91 Q849.031 1199.96 851.8 1197.26 Q854.569 1194.52 860.585 1194.52 L866.123 1194.52 Z\" fill=\"#000000\" fill-rule=\"evenodd\" fill-opacity=\"1\" /><path clip-path=\"url(#clip360)\" d=\"M917.398 1209.76 L917.398 1215.24 Q914.916 1213.87 912.401 1213.2 Q909.919 1212.5 907.372 1212.5 Q901.675 1212.5 898.524 1216.13 Q895.373 1219.73 895.373 1226.25 Q895.373 1232.78 898.524 1236.4 Q901.675 1240 907.372 1240 Q909.919 1240 912.401 1239.33 Q914.916 1238.63 917.398 1237.26 L917.398 1242.68 Q914.948 1243.82 912.306 1244.39 Q909.696 1244.97 906.736 1244.97 Q898.683 1244.97 893.941 1239.91 Q889.198 1234.85 889.198 1226.25 Q889.198 1217.53 893.973 1212.53 Q898.779 1207.54 907.118 1207.54 Q909.823 1207.54 912.401 1208.11 Q914.979 1208.65 917.398 1209.76 Z\" fill=\"#000000\" fill-rule=\"evenodd\" fill-opacity=\"1\" /><path clip-path=\"url(#clip360)\" d=\"M941.397 1212.5 Q936.687 1212.5 933.949 1216.19 Q931.212 1219.85 931.212 1226.25 Q931.212 1232.65 933.917 1236.34 Q936.655 1240 941.397 1240 Q946.076 1240 948.813 1236.31 Q951.55 1232.62 951.55 1226.25 Q951.55 1219.92 948.813 1216.23 Q946.076 1212.5 941.397 1212.5 M941.397 1207.54 Q949.036 1207.54 953.397 1212.5 Q957.757 1217.47 957.757 1226.25 Q957.757 1235 953.397 1240 Q949.036 1244.97 941.397 1244.97 Q933.726 1244.97 929.366 1240 Q925.037 1235 925.037 1226.25 Q925.037 1217.47 929.366 1212.5 Q933.726 1207.54 941.397 1207.54 Z\" fill=\"#000000\" fill-rule=\"evenodd\" fill-opacity=\"1\" /><path clip-path=\"url(#clip360)\" d=\"M988.121 1213.87 Q987.135 1213.3 985.957 1213.04 Q984.811 1212.76 983.411 1212.76 Q978.446 1212.76 975.772 1216 Q973.13 1219.22 973.13 1225.27 L973.13 1244.04 L967.242 1244.04 L967.242 1208.4 L973.13 1208.4 L973.13 1213.93 Q974.976 1210.69 977.936 1209.13 Q980.896 1207.54 985.13 1207.54 Q985.734 1207.54 986.466 1207.63 Q987.198 1207.7 988.09 1207.85 L988.121 1213.87 Z\" fill=\"#000000\" fill-rule=\"evenodd\" fill-opacity=\"1\" /><path clip-path=\"url(#clip360)\" d=\"M1013.78 1213.87 Q1012.79 1213.3 1011.61 1213.04 Q1010.47 1212.76 1009.06 1212.76 Q1004.1 1212.76 1001.43 1216 Q998.784 1219.22 998.784 1225.27 L998.784 1244.04 L992.896 1244.04 L992.896 1208.4 L998.784 1208.4 L998.784 1213.93 Q1000.63 1210.69 1003.59 1209.13 Q1006.55 1207.54 1010.78 1207.54 Q1011.39 1207.54 1012.12 1207.63 Q1012.85 1207.7 1013.74 1207.85 L1013.78 1213.87 Z\" fill=\"#000000\" fill-rule=\"evenodd\" fill-opacity=\"1\" /><path clip-path=\"url(#clip360)\" d=\"M1048.98 1224.76 L1048.98 1227.62 L1022.05 1227.62 Q1022.43 1233.67 1025.68 1236.85 Q1028.96 1240 1034.78 1240 Q1038.16 1240 1041.31 1239.17 Q1044.49 1238.35 1047.61 1236.69 L1047.61 1242.23 Q1044.46 1243.57 1041.15 1244.27 Q1037.84 1244.97 1034.43 1244.97 Q1025.9 1244.97 1020.9 1240 Q1015.94 1235.04 1015.94 1226.57 Q1015.94 1217.82 1020.65 1212.69 Q1025.39 1207.54 1033.41 1207.54 Q1040.61 1207.54 1044.78 1212.18 Q1048.98 1216.8 1048.98 1224.76 M1043.12 1223.04 Q1043.06 1218.23 1040.42 1215.37 Q1037.81 1212.5 1033.48 1212.5 Q1028.58 1212.5 1025.62 1215.27 Q1022.69 1218.04 1022.24 1223.07 L1043.12 1223.04 Z\" fill=\"#000000\" fill-rule=\"evenodd\" fill-opacity=\"1\" /><path clip-path=\"url(#clip360)\" d=\"M1084.24 1209.76 L1084.24 1215.24 Q1081.76 1213.87 1079.25 1213.2 Q1076.76 1212.5 1074.22 1212.5 Q1068.52 1212.5 1065.37 1216.13 Q1062.22 1219.73 1062.22 1226.25 Q1062.22 1232.78 1065.37 1236.4 Q1068.52 1240 1074.22 1240 Q1076.76 1240 1079.25 1239.33 Q1081.76 1238.63 1084.24 1237.26 L1084.24 1242.68 Q1081.79 1243.82 1079.15 1244.39 Q1076.54 1244.97 1073.58 1244.97 Q1065.53 1244.97 1060.79 1239.91 Q1056.04 1234.85 1056.04 1226.25 Q1056.04 1217.53 1060.82 1212.53 Q1065.62 1207.54 1073.96 1207.54 Q1076.67 1207.54 1079.25 1208.11 Q1081.82 1208.65 1084.24 1209.76 Z\" fill=\"#000000\" fill-rule=\"evenodd\" fill-opacity=\"1\" /><path clip-path=\"url(#clip360)\" d=\"M1100.22 1198.27 L1100.22 1208.4 L1112.28 1208.4 L1112.28 1212.95 L1100.22 1212.95 L1100.22 1232.3 Q1100.22 1236.66 1101.4 1237.9 Q1102.61 1239.14 1106.27 1239.14 L1112.28 1239.14 L1112.28 1244.04 L1106.27 1244.04 Q1099.49 1244.04 1096.91 1241.53 Q1094.33 1238.98 1094.33 1232.3 L1094.33 1212.95 L1090.04 1212.95 L1090.04 1208.4 L1094.33 1208.4 L1094.33 1198.27 L1100.22 1198.27 Z\" fill=\"#000000\" fill-rule=\"evenodd\" fill-opacity=\"1\" /><path clip-path=\"url(#clip360)\" d=\"M1140.71 1208.4 L1146.56 1208.4 L1146.56 1244.04 L1140.71 1244.04 L1140.71 1208.4 M1140.71 1194.52 L1146.56 1194.52 L1146.56 1201.93 L1140.71 1201.93 L1140.71 1194.52 Z\" fill=\"#000000\" fill-rule=\"evenodd\" fill-opacity=\"1\" /><path clip-path=\"url(#clip360)\" d=\"M1182.28 1213.81 L1182.28 1194.52 L1188.13 1194.52 L1188.13 1244.04 L1182.28 1244.04 L1182.28 1238.7 Q1180.43 1241.88 1177.6 1243.44 Q1174.8 1244.97 1170.85 1244.97 Q1164.39 1244.97 1160.31 1239.81 Q1156.27 1234.65 1156.27 1226.25 Q1156.27 1217.85 1160.31 1212.69 Q1164.39 1207.54 1170.85 1207.54 Q1174.8 1207.54 1177.6 1209.1 Q1180.43 1210.62 1182.28 1213.81 M1162.32 1226.25 Q1162.32 1232.71 1164.96 1236.4 Q1167.63 1240.07 1172.28 1240.07 Q1176.93 1240.07 1179.6 1236.4 Q1182.28 1232.71 1182.28 1226.25 Q1182.28 1219.79 1179.6 1216.13 Q1176.93 1212.44 1172.28 1212.44 Q1167.63 1212.44 1164.96 1216.13 Q1162.32 1219.79 1162.32 1226.25 Z\" fill=\"#000000\" fill-rule=\"evenodd\" fill-opacity=\"1\" /><path clip-path=\"url(#clip360)\" d=\"M1230.69 1224.76 L1230.69 1227.62 L1203.76 1227.62 Q1204.14 1233.67 1207.39 1236.85 Q1210.67 1240 1216.49 1240 Q1219.87 1240 1223.02 1239.17 Q1226.2 1238.35 1229.32 1236.69 L1229.32 1242.23 Q1226.17 1243.57 1222.86 1244.27 Q1219.55 1244.97 1216.14 1244.97 Q1207.61 1244.97 1202.61 1240 Q1197.65 1235.04 1197.65 1226.57 Q1197.65 1217.82 1202.36 1212.69 Q1207.1 1207.54 1215.12 1207.54 Q1222.32 1207.54 1226.49 1212.18 Q1230.69 1216.8 1230.69 1224.76 M1224.83 1223.04 Q1224.77 1218.23 1222.12 1215.37 Q1219.51 1212.5 1215.19 1212.5 Q1210.28 1212.5 1207.32 1215.27 Q1204.4 1218.04 1203.95 1223.07 L1224.83 1223.04 Z\" fill=\"#000000\" fill-rule=\"evenodd\" fill-opacity=\"1\" /><path clip-path=\"url(#clip360)\" d=\"M1269.93 1222.53 L1269.93 1244.04 L1264.07 1244.04 L1264.07 1222.72 Q1264.07 1217.66 1262.1 1215.14 Q1260.13 1212.63 1256.18 1212.63 Q1251.44 1212.63 1248.7 1215.65 Q1245.96 1218.68 1245.96 1223.9 L1245.96 1244.04 L1240.08 1244.04 L1240.08 1208.4 L1245.96 1208.4 L1245.96 1213.93 Q1248.07 1210.72 1250.9 1209.13 Q1253.76 1207.54 1257.49 1207.54 Q1263.63 1207.54 1266.78 1211.36 Q1269.93 1215.14 1269.93 1222.53 Z\" fill=\"#000000\" fill-rule=\"evenodd\" fill-opacity=\"1\" /><path clip-path=\"url(#clip360)\" d=\"M1287.41 1198.27 L1287.41 1208.4 L1299.47 1208.4 L1299.47 1212.95 L1287.41 1212.95 L1287.41 1232.3 Q1287.41 1236.66 1288.58 1237.9 Q1289.79 1239.14 1293.45 1239.14 L1299.47 1239.14 L1299.47 1244.04 L1293.45 1244.04 Q1286.67 1244.04 1284.09 1241.53 Q1281.52 1238.98 1281.52 1232.3 L1281.52 1212.95 L1277.22 1212.95 L1277.22 1208.4 L1281.52 1208.4 L1281.52 1198.27 L1287.41 1198.27 Z\" fill=\"#000000\" fill-rule=\"evenodd\" fill-opacity=\"1\" /><path clip-path=\"url(#clip360)\" d=\"M1307.17 1208.4 L1313.03 1208.4 L1313.03 1244.04 L1307.17 1244.04 L1307.17 1208.4 M1307.17 1194.52 L1313.03 1194.52 L1313.03 1201.93 L1307.17 1201.93 L1307.17 1194.52 Z\" fill=\"#000000\" fill-rule=\"evenodd\" fill-opacity=\"1\" /><path clip-path=\"url(#clip360)\" d=\"M1343.33 1194.52 L1343.33 1199.39 L1337.73 1199.39 Q1334.58 1199.39 1333.33 1200.66 Q1332.12 1201.93 1332.12 1205.24 L1332.12 1208.4 L1341.77 1208.4 L1341.77 1212.95 L1332.12 1212.95 L1332.12 1244.04 L1326.24 1244.04 L1326.24 1212.95 L1320.63 1212.95 L1320.63 1208.4 L1326.24 1208.4 L1326.24 1205.91 Q1326.24 1199.96 1329.01 1197.26 Q1331.77 1194.52 1337.79 1194.52 L1343.33 1194.52 Z\" fill=\"#000000\" fill-rule=\"evenodd\" fill-opacity=\"1\" /><path clip-path=\"url(#clip360)\" d=\"M1348.23 1208.4 L1354.09 1208.4 L1354.09 1244.04 L1348.23 1244.04 L1348.23 1208.4 M1348.23 1194.52 L1354.09 1194.52 L1354.09 1201.93 L1348.23 1201.93 L1348.23 1194.52 Z\" fill=\"#000000\" fill-rule=\"evenodd\" fill-opacity=\"1\" /><path clip-path=\"url(#clip360)\" d=\"M1391.99 1209.76 L1391.99 1215.24 Q1389.51 1213.87 1387 1213.2 Q1384.51 1212.5 1381.97 1212.5 Q1376.27 1212.5 1373.12 1216.13 Q1369.97 1219.73 1369.97 1226.25 Q1369.97 1232.78 1373.12 1236.4 Q1376.27 1240 1381.97 1240 Q1384.51 1240 1387 1239.33 Q1389.51 1238.63 1391.99 1237.26 L1391.99 1242.68 Q1389.54 1243.82 1386.9 1244.39 Q1384.29 1244.97 1381.33 1244.97 Q1373.28 1244.97 1368.54 1239.91 Q1363.79 1234.85 1363.79 1226.25 Q1363.79 1217.53 1368.57 1212.53 Q1373.37 1207.54 1381.71 1207.54 Q1384.42 1207.54 1387 1208.11 Q1389.57 1208.65 1391.99 1209.76 Z\" fill=\"#000000\" fill-rule=\"evenodd\" fill-opacity=\"1\" /><path clip-path=\"url(#clip360)\" d=\"M1418.38 1226.12 Q1411.28 1226.12 1408.54 1227.75 Q1405.81 1229.37 1405.81 1233.29 Q1405.81 1236.4 1407.84 1238.25 Q1409.91 1240.07 1413.45 1240.07 Q1418.32 1240.07 1421.24 1236.63 Q1424.2 1233.16 1424.2 1227.43 L1424.2 1226.12 L1418.38 1226.12 M1430.06 1223.71 L1430.06 1244.04 L1424.2 1244.04 L1424.2 1238.63 Q1422.2 1241.88 1419.21 1243.44 Q1416.22 1244.97 1411.89 1244.97 Q1406.41 1244.97 1403.17 1241.91 Q1399.95 1238.82 1399.95 1233.67 Q1399.95 1227.65 1403.96 1224.6 Q1408 1221.54 1415.99 1221.54 L1424.2 1221.54 L1424.2 1220.97 Q1424.2 1216.93 1421.53 1214.73 Q1418.89 1212.5 1414.08 1212.5 Q1411.03 1212.5 1408.13 1213.23 Q1405.23 1213.97 1402.56 1215.43 L1402.56 1210.02 Q1405.78 1208.78 1408.8 1208.17 Q1411.82 1207.54 1414.69 1207.54 Q1422.42 1207.54 1426.24 1211.55 Q1430.06 1215.56 1430.06 1223.71 Z\" fill=\"#000000\" fill-rule=\"evenodd\" fill-opacity=\"1\" /><path clip-path=\"url(#clip360)\" d=\"M1447.92 1198.27 L1447.92 1208.4 L1459.98 1208.4 L1459.98 1212.95 L1447.92 1212.95 L1447.92 1232.3 Q1447.92 1236.66 1449.09 1237.9 Q1450.3 1239.14 1453.96 1239.14 L1459.98 1239.14 L1459.98 1244.04 L1453.96 1244.04 Q1447.18 1244.04 1444.61 1241.53 Q1442.03 1238.98 1442.03 1232.3 L1442.03 1212.95 L1437.73 1212.95 L1437.73 1208.4 L1442.03 1208.4 L1442.03 1198.27 L1447.92 1198.27 Z\" fill=\"#000000\" fill-rule=\"evenodd\" fill-opacity=\"1\" /><path clip-path=\"url(#clip360)\" d=\"M1467.68 1208.4 L1473.54 1208.4 L1473.54 1244.04 L1467.68 1244.04 L1467.68 1208.4 M1467.68 1194.52 L1473.54 1194.52 L1473.54 1201.93 L1467.68 1201.93 L1467.68 1194.52 Z\" fill=\"#000000\" fill-rule=\"evenodd\" fill-opacity=\"1\" /><path clip-path=\"url(#clip360)\" d=\"M1499.61 1212.5 Q1494.9 1212.5 1492.16 1216.19 Q1489.42 1219.85 1489.42 1226.25 Q1489.42 1232.65 1492.13 1236.34 Q1494.86 1240 1499.61 1240 Q1504.28 1240 1507.02 1236.31 Q1509.76 1232.62 1509.76 1226.25 Q1509.76 1219.92 1507.02 1216.23 Q1504.28 1212.5 1499.61 1212.5 M1499.61 1207.54 Q1507.24 1207.54 1511.61 1212.5 Q1515.97 1217.47 1515.97 1226.25 Q1515.97 1235 1511.61 1240 Q1507.24 1244.97 1499.61 1244.97 Q1491.94 1244.97 1487.57 1240 Q1483.25 1235 1483.25 1226.25 Q1483.25 1217.47 1487.57 1212.5 Q1491.94 1207.54 1499.61 1207.54 Z\" fill=\"#000000\" fill-rule=\"evenodd\" fill-opacity=\"1\" /><path clip-path=\"url(#clip360)\" d=\"M1555.31 1222.53 L1555.31 1244.04 L1549.45 1244.04 L1549.45 1222.72 Q1549.45 1217.66 1547.48 1215.14 Q1545.5 1212.63 1541.56 1212.63 Q1536.81 1212.63 1534.08 1215.65 Q1531.34 1218.68 1531.34 1223.9 L1531.34 1244.04 L1525.45 1244.04 L1525.45 1208.4 L1531.34 1208.4 L1531.34 1213.93 Q1533.44 1210.72 1536.27 1209.13 Q1539.14 1207.54 1542.86 1207.54 Q1549 1207.54 1552.15 1211.36 Q1555.31 1215.14 1555.31 1222.53 Z\" fill=\"#000000\" fill-rule=\"evenodd\" fill-opacity=\"1\" /><path clip-path=\"url(#clip360)\" d=\"M1589.71 1209.45 L1589.71 1214.98 Q1587.23 1213.71 1584.56 1213.07 Q1581.88 1212.44 1579.02 1212.44 Q1574.66 1212.44 1572.46 1213.77 Q1570.3 1215.11 1570.3 1217.79 Q1570.3 1219.82 1571.86 1221 Q1573.42 1222.15 1578.13 1223.2 L1580.13 1223.64 Q1586.37 1224.98 1588.98 1227.43 Q1591.62 1229.85 1591.62 1234.21 Q1591.62 1239.17 1587.68 1242.07 Q1583.76 1244.97 1576.89 1244.97 Q1574.02 1244.97 1570.9 1244.39 Q1567.81 1243.85 1564.38 1242.74 L1564.38 1236.69 Q1567.62 1238.38 1570.77 1239.24 Q1573.93 1240.07 1577.01 1240.07 Q1581.15 1240.07 1583.38 1238.66 Q1585.61 1237.23 1585.61 1234.65 Q1585.61 1232.27 1583.98 1230.99 Q1582.39 1229.72 1576.95 1228.54 L1574.91 1228.07 Q1569.47 1226.92 1567.05 1224.56 Q1564.63 1222.18 1564.63 1218.04 Q1564.63 1213.01 1568.2 1210.27 Q1571.76 1207.54 1578.32 1207.54 Q1581.56 1207.54 1584.43 1208.01 Q1587.29 1208.49 1589.71 1209.45 Z\" fill=\"#000000\" fill-rule=\"evenodd\" fill-opacity=\"1\" /><polyline clip-path=\"url(#clip362)\" style=\"stroke:#000000; stroke-linecap:butt; stroke-linejoin:round; stroke-width:2; stroke-opacity:0.1; fill:none\" points=\"\n",
       "  244.742,1078.56 1872.76,1078.56 \n",
       "  \"/>\n",
       "<polyline clip-path=\"url(#clip362)\" style=\"stroke:#000000; stroke-linecap:butt; stroke-linejoin:round; stroke-width:2; stroke-opacity:0.1; fill:none\" points=\"\n",
       "  244.742,887.426 1872.76,887.426 \n",
       "  \"/>\n",
       "<polyline clip-path=\"url(#clip362)\" style=\"stroke:#000000; stroke-linecap:butt; stroke-linejoin:round; stroke-width:2; stroke-opacity:0.1; fill:none\" points=\"\n",
       "  244.742,696.29 1872.76,696.29 \n",
       "  \"/>\n",
       "<polyline clip-path=\"url(#clip362)\" style=\"stroke:#000000; stroke-linecap:butt; stroke-linejoin:round; stroke-width:2; stroke-opacity:0.1; fill:none\" points=\"\n",
       "  244.742,505.155 1872.76,505.155 \n",
       "  \"/>\n",
       "<polyline clip-path=\"url(#clip362)\" style=\"stroke:#000000; stroke-linecap:butt; stroke-linejoin:round; stroke-width:2; stroke-opacity:0.1; fill:none\" points=\"\n",
       "  244.742,314.019 1872.76,314.019 \n",
       "  \"/>\n",
       "<polyline clip-path=\"url(#clip360)\" style=\"stroke:#000000; stroke-linecap:butt; stroke-linejoin:round; stroke-width:4; stroke-opacity:1; fill:none\" points=\"\n",
       "  244.742,1106.38 244.742,123.472 \n",
       "  \"/>\n",
       "<polyline clip-path=\"url(#clip360)\" style=\"stroke:#000000; stroke-linecap:butt; stroke-linejoin:round; stroke-width:4; stroke-opacity:1; fill:none\" points=\"\n",
       "  244.742,1078.56 263.64,1078.56 \n",
       "  \"/>\n",
       "<polyline clip-path=\"url(#clip360)\" style=\"stroke:#000000; stroke-linecap:butt; stroke-linejoin:round; stroke-width:4; stroke-opacity:1; fill:none\" points=\"\n",
       "  244.742,887.426 263.64,887.426 \n",
       "  \"/>\n",
       "<polyline clip-path=\"url(#clip360)\" style=\"stroke:#000000; stroke-linecap:butt; stroke-linejoin:round; stroke-width:4; stroke-opacity:1; fill:none\" points=\"\n",
       "  244.742,696.29 263.64,696.29 \n",
       "  \"/>\n",
       "<polyline clip-path=\"url(#clip360)\" style=\"stroke:#000000; stroke-linecap:butt; stroke-linejoin:round; stroke-width:4; stroke-opacity:1; fill:none\" points=\"\n",
       "  244.742,505.155 263.64,505.155 \n",
       "  \"/>\n",
       "<polyline clip-path=\"url(#clip360)\" style=\"stroke:#000000; stroke-linecap:butt; stroke-linejoin:round; stroke-width:4; stroke-opacity:1; fill:none\" points=\"\n",
       "  244.742,314.019 263.64,314.019 \n",
       "  \"/>\n",
       "<path clip-path=\"url(#clip360)\" d=\"M128.605 1064.36 Q124.993 1064.36 123.165 1067.93 Q121.359 1071.47 121.359 1078.6 Q121.359 1085.7 123.165 1089.27 Q124.993 1092.81 128.605 1092.81 Q132.239 1092.81 134.044 1089.27 Q135.873 1085.7 135.873 1078.6 Q135.873 1071.47 134.044 1067.93 Q132.239 1064.36 128.605 1064.36 M128.605 1060.66 Q134.415 1060.66 137.47 1065.26 Q140.549 1069.85 140.549 1078.6 Q140.549 1087.32 137.47 1091.93 Q134.415 1096.51 128.605 1096.51 Q122.794 1096.51 119.716 1091.93 Q116.66 1087.32 116.66 1078.6 Q116.66 1069.85 119.716 1065.26 Q122.794 1060.66 128.605 1060.66 Z\" fill=\"#000000\" fill-rule=\"evenodd\" fill-opacity=\"1\" /><path clip-path=\"url(#clip360)\" d=\"M148.766 1089.96 L153.651 1089.96 L153.651 1095.84 L148.766 1095.84 L148.766 1089.96 Z\" fill=\"#000000\" fill-rule=\"evenodd\" fill-opacity=\"1\" /><path clip-path=\"url(#clip360)\" d=\"M173.836 1064.36 Q170.225 1064.36 168.396 1067.93 Q166.59 1071.47 166.59 1078.6 Q166.59 1085.7 168.396 1089.27 Q170.225 1092.81 173.836 1092.81 Q177.47 1092.81 179.276 1089.27 Q181.104 1085.7 181.104 1078.6 Q181.104 1071.47 179.276 1067.93 Q177.47 1064.36 173.836 1064.36 M173.836 1060.66 Q179.646 1060.66 182.701 1065.26 Q185.78 1069.85 185.78 1078.6 Q185.78 1087.32 182.701 1091.93 Q179.646 1096.51 173.836 1096.51 Q168.026 1096.51 164.947 1091.93 Q161.891 1087.32 161.891 1078.6 Q161.891 1069.85 164.947 1065.26 Q168.026 1060.66 173.836 1060.66 Z\" fill=\"#000000\" fill-rule=\"evenodd\" fill-opacity=\"1\" /><path clip-path=\"url(#clip360)\" d=\"M203.998 1064.36 Q200.387 1064.36 198.558 1067.93 Q196.752 1071.47 196.752 1078.6 Q196.752 1085.7 198.558 1089.27 Q200.387 1092.81 203.998 1092.81 Q207.632 1092.81 209.437 1089.27 Q211.266 1085.7 211.266 1078.6 Q211.266 1071.47 209.437 1067.93 Q207.632 1064.36 203.998 1064.36 M203.998 1060.66 Q209.808 1060.66 212.863 1065.26 Q215.942 1069.85 215.942 1078.6 Q215.942 1087.32 212.863 1091.93 Q209.808 1096.51 203.998 1096.51 Q198.187 1096.51 195.109 1091.93 Q192.053 1087.32 192.053 1078.6 Q192.053 1069.85 195.109 1065.26 Q198.187 1060.66 203.998 1060.66 Z\" fill=\"#000000\" fill-rule=\"evenodd\" fill-opacity=\"1\" /><path clip-path=\"url(#clip360)\" d=\"M129.6 873.225 Q125.989 873.225 124.16 876.789 Q122.355 880.331 122.355 887.461 Q122.355 894.567 124.16 898.132 Q125.989 901.674 129.6 901.674 Q133.234 901.674 135.04 898.132 Q136.868 894.567 136.868 887.461 Q136.868 880.331 135.04 876.789 Q133.234 873.225 129.6 873.225 M129.6 869.521 Q135.41 869.521 138.466 874.127 Q141.544 878.711 141.544 887.461 Q141.544 896.188 138.466 900.794 Q135.41 905.377 129.6 905.377 Q123.79 905.377 120.711 900.794 Q117.656 896.188 117.656 887.461 Q117.656 878.711 120.711 874.127 Q123.79 869.521 129.6 869.521 Z\" fill=\"#000000\" fill-rule=\"evenodd\" fill-opacity=\"1\" /><path clip-path=\"url(#clip360)\" d=\"M149.762 898.826 L154.646 898.826 L154.646 904.706 L149.762 904.706 L149.762 898.826 Z\" fill=\"#000000\" fill-rule=\"evenodd\" fill-opacity=\"1\" /><path clip-path=\"url(#clip360)\" d=\"M174.831 873.225 Q171.22 873.225 169.391 876.789 Q167.586 880.331 167.586 887.461 Q167.586 894.567 169.391 898.132 Q171.22 901.674 174.831 901.674 Q178.465 901.674 180.271 898.132 Q182.1 894.567 182.1 887.461 Q182.1 880.331 180.271 876.789 Q178.465 873.225 174.831 873.225 M174.831 869.521 Q180.641 869.521 183.697 874.127 Q186.776 878.711 186.776 887.461 Q186.776 896.188 183.697 900.794 Q180.641 905.377 174.831 905.377 Q169.021 905.377 165.942 900.794 Q162.887 896.188 162.887 887.461 Q162.887 878.711 165.942 874.127 Q169.021 869.521 174.831 869.521 Z\" fill=\"#000000\" fill-rule=\"evenodd\" fill-opacity=\"1\" /><path clip-path=\"url(#clip360)\" d=\"M195.039 870.146 L213.396 870.146 L213.396 874.081 L199.322 874.081 L199.322 882.553 Q200.34 882.206 201.359 882.044 Q202.377 881.859 203.396 881.859 Q209.183 881.859 212.562 885.03 Q215.942 888.201 215.942 893.618 Q215.942 899.197 212.47 902.299 Q208.998 905.377 202.678 905.377 Q200.502 905.377 198.234 905.007 Q195.988 904.637 193.581 903.896 L193.581 899.197 Q195.664 900.331 197.887 900.887 Q200.109 901.442 202.586 901.442 Q206.59 901.442 208.928 899.336 Q211.266 897.229 211.266 893.618 Q211.266 890.007 208.928 887.901 Q206.59 885.794 202.586 885.794 Q200.711 885.794 198.836 886.211 Q196.984 886.627 195.039 887.507 L195.039 870.146 Z\" fill=\"#000000\" fill-rule=\"evenodd\" fill-opacity=\"1\" /><path clip-path=\"url(#clip360)\" d=\"M128.605 682.089 Q124.993 682.089 123.165 685.654 Q121.359 689.195 121.359 696.325 Q121.359 703.431 123.165 706.996 Q124.993 710.538 128.605 710.538 Q132.239 710.538 134.044 706.996 Q135.873 703.431 135.873 696.325 Q135.873 689.195 134.044 685.654 Q132.239 682.089 128.605 682.089 M128.605 678.385 Q134.415 678.385 137.47 682.992 Q140.549 687.575 140.549 696.325 Q140.549 705.052 137.47 709.658 Q134.415 714.242 128.605 714.242 Q122.794 714.242 119.716 709.658 Q116.66 705.052 116.66 696.325 Q116.66 687.575 119.716 682.992 Q122.794 678.385 128.605 678.385 Z\" fill=\"#000000\" fill-rule=\"evenodd\" fill-opacity=\"1\" /><path clip-path=\"url(#clip360)\" d=\"M148.766 707.691 L153.651 707.691 L153.651 713.57 L148.766 713.57 L148.766 707.691 Z\" fill=\"#000000\" fill-rule=\"evenodd\" fill-opacity=\"1\" /><path clip-path=\"url(#clip360)\" d=\"M164.646 709.635 L172.285 709.635 L172.285 683.27 L163.975 684.936 L163.975 680.677 L172.239 679.01 L176.914 679.01 L176.914 709.635 L184.553 709.635 L184.553 713.57 L164.646 713.57 L164.646 709.635 Z\" fill=\"#000000\" fill-rule=\"evenodd\" fill-opacity=\"1\" /><path clip-path=\"url(#clip360)\" d=\"M203.998 682.089 Q200.387 682.089 198.558 685.654 Q196.752 689.195 196.752 696.325 Q196.752 703.431 198.558 706.996 Q200.387 710.538 203.998 710.538 Q207.632 710.538 209.437 706.996 Q211.266 703.431 211.266 696.325 Q211.266 689.195 209.437 685.654 Q207.632 682.089 203.998 682.089 M203.998 678.385 Q209.808 678.385 212.863 682.992 Q215.942 687.575 215.942 696.325 Q215.942 705.052 212.863 709.658 Q209.808 714.242 203.998 714.242 Q198.187 714.242 195.109 709.658 Q192.053 705.052 192.053 696.325 Q192.053 687.575 195.109 682.992 Q198.187 678.385 203.998 678.385 Z\" fill=\"#000000\" fill-rule=\"evenodd\" fill-opacity=\"1\" /><path clip-path=\"url(#clip360)\" d=\"M129.6 490.953 Q125.989 490.953 124.16 494.518 Q122.355 498.06 122.355 505.189 Q122.355 512.296 124.16 515.861 Q125.989 519.402 129.6 519.402 Q133.234 519.402 135.04 515.861 Q136.868 512.296 136.868 505.189 Q136.868 498.06 135.04 494.518 Q133.234 490.953 129.6 490.953 M129.6 487.25 Q135.41 487.25 138.466 491.856 Q141.544 496.439 141.544 505.189 Q141.544 513.916 138.466 518.523 Q135.41 523.106 129.6 523.106 Q123.79 523.106 120.711 518.523 Q117.656 513.916 117.656 505.189 Q117.656 496.439 120.711 491.856 Q123.79 487.25 129.6 487.25 Z\" fill=\"#000000\" fill-rule=\"evenodd\" fill-opacity=\"1\" /><path clip-path=\"url(#clip360)\" d=\"M149.762 516.555 L154.646 516.555 L154.646 522.435 L149.762 522.435 L149.762 516.555 Z\" fill=\"#000000\" fill-rule=\"evenodd\" fill-opacity=\"1\" /><path clip-path=\"url(#clip360)\" d=\"M165.641 518.499 L173.28 518.499 L173.28 492.134 L164.97 493.8 L164.97 489.541 L173.234 487.875 L177.91 487.875 L177.91 518.499 L185.549 518.499 L185.549 522.435 L165.641 522.435 L165.641 518.499 Z\" fill=\"#000000\" fill-rule=\"evenodd\" fill-opacity=\"1\" /><path clip-path=\"url(#clip360)\" d=\"M195.039 487.875 L213.396 487.875 L213.396 491.81 L199.322 491.81 L199.322 500.282 Q200.34 499.935 201.359 499.773 Q202.377 499.587 203.396 499.587 Q209.183 499.587 212.562 502.759 Q215.942 505.93 215.942 511.347 Q215.942 516.925 212.47 520.027 Q208.998 523.106 202.678 523.106 Q200.502 523.106 198.234 522.735 Q195.988 522.365 193.581 521.624 L193.581 516.925 Q195.664 518.06 197.887 518.615 Q200.109 519.171 202.586 519.171 Q206.59 519.171 208.928 517.064 Q211.266 514.958 211.266 511.347 Q211.266 507.736 208.928 505.629 Q206.59 503.523 202.586 503.523 Q200.711 503.523 198.836 503.939 Q196.984 504.356 195.039 505.236 L195.039 487.875 Z\" fill=\"#000000\" fill-rule=\"evenodd\" fill-opacity=\"1\" /><path clip-path=\"url(#clip360)\" d=\"M128.605 299.818 Q124.993 299.818 123.165 303.382 Q121.359 306.924 121.359 314.054 Q121.359 321.16 123.165 324.725 Q124.993 328.266 128.605 328.266 Q132.239 328.266 134.044 324.725 Q135.873 321.16 135.873 314.054 Q135.873 306.924 134.044 303.382 Q132.239 299.818 128.605 299.818 M128.605 296.114 Q134.415 296.114 137.47 300.72 Q140.549 305.304 140.549 314.054 Q140.549 322.78 137.47 327.387 Q134.415 331.97 128.605 331.97 Q122.794 331.97 119.716 327.387 Q116.66 322.78 116.66 314.054 Q116.66 305.304 119.716 300.72 Q122.794 296.114 128.605 296.114 Z\" fill=\"#000000\" fill-rule=\"evenodd\" fill-opacity=\"1\" /><path clip-path=\"url(#clip360)\" d=\"M148.766 325.419 L153.651 325.419 L153.651 331.299 L148.766 331.299 L148.766 325.419 Z\" fill=\"#000000\" fill-rule=\"evenodd\" fill-opacity=\"1\" /><path clip-path=\"url(#clip360)\" d=\"M167.864 327.364 L184.183 327.364 L184.183 331.299 L162.239 331.299 L162.239 327.364 Q164.901 324.609 169.484 319.979 Q174.09 315.327 175.271 313.984 Q177.516 311.461 178.396 309.725 Q179.299 307.966 179.299 306.276 Q179.299 303.521 177.354 301.785 Q175.433 300.049 172.331 300.049 Q170.132 300.049 167.678 300.813 Q165.248 301.577 162.47 303.128 L162.47 298.406 Q165.294 297.271 167.748 296.693 Q170.202 296.114 172.239 296.114 Q177.609 296.114 180.803 298.799 Q183.998 301.484 183.998 305.975 Q183.998 308.105 183.188 310.026 Q182.401 311.924 180.294 314.517 Q179.715 315.188 176.614 318.405 Q173.512 321.6 167.864 327.364 Z\" fill=\"#000000\" fill-rule=\"evenodd\" fill-opacity=\"1\" /><path clip-path=\"url(#clip360)\" d=\"M203.998 299.818 Q200.387 299.818 198.558 303.382 Q196.752 306.924 196.752 314.054 Q196.752 321.16 198.558 324.725 Q200.387 328.266 203.998 328.266 Q207.632 328.266 209.437 324.725 Q211.266 321.16 211.266 314.054 Q211.266 306.924 209.437 303.382 Q207.632 299.818 203.998 299.818 M203.998 296.114 Q209.808 296.114 212.863 300.72 Q215.942 305.304 215.942 314.054 Q215.942 322.78 212.863 327.387 Q209.808 331.97 203.998 331.97 Q198.187 331.97 195.109 327.387 Q192.053 322.78 192.053 314.054 Q192.053 305.304 195.109 300.72 Q198.187 296.114 203.998 296.114 Z\" fill=\"#000000\" fill-rule=\"evenodd\" fill-opacity=\"1\" /><path clip-path=\"url(#clip360)\" d=\"M31.3677 669.926 L49.2235 669.926 L49.2235 661.841 Q49.2235 657.353 46.9 654.903 Q44.5765 652.452 40.2797 652.452 Q36.0147 652.452 33.6912 654.903 Q31.3677 657.353 31.3677 661.841 L31.3677 669.926 M26.0842 676.355 L26.0842 661.841 Q26.0842 653.852 29.7126 649.778 Q33.3092 645.672 40.2797 645.672 Q47.3138 645.672 50.9104 649.778 Q54.507 653.852 54.507 661.841 L54.507 669.926 L73.6042 669.926 L73.6042 676.355 L26.0842 676.355 Z\" fill=\"#000000\" fill-rule=\"evenodd\" fill-opacity=\"1\" /><path clip-path=\"url(#clip360)\" d=\"M26.0842 637.047 L26.0842 627.466 L58.4219 615.34 L26.0842 603.149 L26.0842 593.569 L73.6042 593.569 L73.6042 599.839 L31.877 599.839 L64.4694 612.093 L64.4694 618.554 L31.877 630.808 L73.6042 630.808 L73.6042 637.047 L26.0842 637.047 Z\" fill=\"#000000\" fill-rule=\"evenodd\" fill-opacity=\"1\" /><path clip-path=\"url(#clip360)\" d=\"M26.0842 580.806 L26.0842 553.497 L31.495 553.497 L31.495 574.376 L45.4996 574.376 L45.4996 555.534 L50.9104 555.534 L50.9104 574.376 L73.6042 574.376 L73.6042 580.806 L26.0842 580.806 Z\" fill=\"#000000\" fill-rule=\"evenodd\" fill-opacity=\"1\" /><path clip-path=\"url(#clip360)\" d=\"M744.581 63.9476 L744.581 47.7034 L731.213 47.7034 L731.213 40.9789 L752.683 40.9789 L752.683 66.9452 Q747.943 70.3075 742.232 72.0494 Q736.52 73.7508 730.038 73.7508 Q715.86 73.7508 707.839 65.4869 Q699.859 57.1826 699.859 42.3968 Q699.859 27.5705 707.839 19.3066 Q715.86 11.0023 730.038 11.0023 Q735.953 11.0023 741.259 12.4606 Q746.607 13.9189 751.103 16.7545 L751.103 25.464 Q746.566 21.6156 741.462 19.6712 Q736.358 17.7268 730.727 17.7268 Q719.628 17.7268 714.037 23.9246 Q708.488 30.1225 708.488 42.3968 Q708.488 54.6305 714.037 60.8284 Q719.628 67.0263 730.727 67.0263 Q735.061 67.0263 738.464 66.2971 Q741.867 65.5274 744.581 63.9476 Z\" fill=\"#000000\" fill-rule=\"evenodd\" fill-opacity=\"1\" /><path clip-path=\"url(#clip360)\" d=\"M767.307 9.54393 L774.76 9.54393 L774.76 72.576 L767.307 72.576 L767.307 9.54393 Z\" fill=\"#000000\" fill-rule=\"evenodd\" fill-opacity=\"1\" /><path clip-path=\"url(#clip360)\" d=\"M789.587 54.671 L789.587 27.2059 L797.04 27.2059 L797.04 54.3874 Q797.04 60.8284 799.552 64.0691 Q802.063 67.2693 807.087 67.2693 Q813.122 67.2693 816.606 63.421 Q820.13 59.5726 820.13 52.9291 L820.13 27.2059 L827.584 27.2059 L827.584 72.576 L820.13 72.576 L820.13 65.6084 Q817.416 69.7404 813.811 71.7658 Q810.246 73.7508 805.507 73.7508 Q797.688 73.7508 793.638 68.8897 Q789.587 64.0286 789.587 54.671 M808.342 26.1121 L808.342 26.1121 Z\" fill=\"#000000\" fill-rule=\"evenodd\" fill-opacity=\"1\" /><path clip-path=\"url(#clip360)\" d=\"M850.31 14.324 L850.31 27.2059 L865.663 27.2059 L865.663 32.9987 L850.31 32.9987 L850.31 57.6282 Q850.31 63.1779 851.809 64.7578 Q853.348 66.3376 858.006 66.3376 L865.663 66.3376 L865.663 72.576 L858.006 72.576 Q849.378 72.576 846.097 69.3758 Q842.816 66.1351 842.816 57.6282 L842.816 32.9987 L837.347 32.9987 L837.347 27.2059 L842.816 27.2059 L842.816 14.324 L850.31 14.324 Z\" fill=\"#000000\" fill-rule=\"evenodd\" fill-opacity=\"1\" /><path clip-path=\"url(#clip360)\" d=\"M914.273 48.0275 L914.273 51.6733 L880.003 51.6733 Q880.489 59.3701 884.621 63.421 Q888.793 67.4314 896.206 67.4314 Q900.5 67.4314 904.511 66.3781 Q908.562 65.3249 912.532 63.2184 L912.532 70.267 Q908.521 71.9684 904.308 72.8596 Q900.095 73.7508 895.761 73.7508 Q884.904 73.7508 878.544 67.4314 Q872.225 61.1119 872.225 50.3365 Q872.225 39.1965 878.22 32.6746 Q884.256 26.1121 894.465 26.1121 Q903.62 26.1121 908.926 32.0264 Q914.273 37.9003 914.273 48.0275 M906.82 45.84 Q906.739 39.7232 903.377 36.0774 Q900.055 32.4315 894.546 32.4315 Q888.307 32.4315 884.54 35.9558 Q880.813 39.4801 880.246 45.8805 L906.82 45.84 Z\" fill=\"#000000\" fill-rule=\"evenodd\" fill-opacity=\"1\" /><path clip-path=\"url(#clip360)\" d=\"M964.221 45.1919 L964.221 72.576 L956.767 72.576 L956.767 45.4349 Q956.767 38.994 954.256 35.7938 Q951.744 32.5936 946.721 32.5936 Q940.685 32.5936 937.202 36.4419 Q933.718 40.2903 933.718 46.9338 L933.718 72.576 L926.224 72.576 L926.224 27.2059 L933.718 27.2059 L933.718 34.2544 Q936.391 30.163 939.997 28.1376 Q943.643 26.1121 948.382 26.1121 Q956.2 26.1121 960.211 30.9732 Q964.221 35.7938 964.221 45.1919 Z\" fill=\"#000000\" fill-rule=\"evenodd\" fill-opacity=\"1\" /><path clip-path=\"url(#clip360)\" d=\"M1034.38 28.5427 L1034.38 35.5912 Q1031.22 33.9709 1027.82 33.1607 Q1024.42 32.3505 1020.77 32.3505 Q1015.22 32.3505 1012.43 34.0519 Q1009.67 35.7533 1009.67 39.156 Q1009.67 41.7486 1011.66 43.2475 Q1013.64 44.7058 1019.64 46.0426 L1022.19 46.6097 Q1030.13 48.3111 1033.45 51.4303 Q1036.81 54.509 1036.81 60.0587 Q1036.81 66.3781 1031.79 70.0644 Q1026.81 73.7508 1018.06 73.7508 Q1014.41 73.7508 1010.44 73.0216 Q1006.51 72.3329 1002.14 70.9151 L1002.14 63.2184 Q1006.27 65.3654 1010.28 66.4591 Q1014.29 67.5124 1018.22 67.5124 Q1023.49 67.5124 1026.32 65.73 Q1029.16 63.9071 1029.16 60.6258 Q1029.16 57.5877 1027.09 55.9673 Q1025.07 54.3469 1018.14 52.8481 L1015.55 52.2405 Q1008.62 50.7821 1005.54 47.7845 Q1002.46 44.7463 1002.46 39.4801 Q1002.46 33.0797 1007 29.5959 Q1011.54 26.1121 1019.88 26.1121 Q1024.01 26.1121 1027.66 26.7198 Q1031.3 27.3274 1034.38 28.5427 Z\" fill=\"#000000\" fill-rule=\"evenodd\" fill-opacity=\"1\" /><path clip-path=\"url(#clip360)\" d=\"M1087.49 48.0275 L1087.49 51.6733 L1053.22 51.6733 Q1053.71 59.3701 1057.84 63.421 Q1062.01 67.4314 1069.42 67.4314 Q1073.72 67.4314 1077.73 66.3781 Q1081.78 65.3249 1085.75 63.2184 L1085.75 70.267 Q1081.74 71.9684 1077.52 72.8596 Q1073.31 73.7508 1068.98 73.7508 Q1058.12 73.7508 1051.76 67.4314 Q1045.44 61.1119 1045.44 50.3365 Q1045.44 39.1965 1051.44 32.6746 Q1057.47 26.1121 1067.68 26.1121 Q1076.84 26.1121 1082.14 32.0264 Q1087.49 37.9003 1087.49 48.0275 M1080.04 45.84 Q1079.96 39.7232 1076.59 36.0774 Q1073.27 32.4315 1067.76 32.4315 Q1061.52 32.4315 1057.76 35.9558 Q1054.03 39.4801 1053.46 45.8805 L1080.04 45.84 Z\" fill=\"#000000\" fill-rule=\"evenodd\" fill-opacity=\"1\" /><path clip-path=\"url(#clip360)\" d=\"M1137.44 45.1919 L1137.44 72.576 L1129.98 72.576 L1129.98 45.4349 Q1129.98 38.994 1127.47 35.7938 Q1124.96 32.5936 1119.94 32.5936 Q1113.9 32.5936 1110.42 36.4419 Q1106.93 40.2903 1106.93 46.9338 L1106.93 72.576 L1099.44 72.576 L1099.44 27.2059 L1106.93 27.2059 L1106.93 34.2544 Q1109.61 30.163 1113.21 28.1376 Q1116.86 26.1121 1121.6 26.1121 Q1129.42 26.1121 1133.43 30.9732 Q1137.44 35.7938 1137.44 45.1919 Z\" fill=\"#000000\" fill-rule=\"evenodd\" fill-opacity=\"1\" /><path clip-path=\"url(#clip360)\" d=\"M1181.23 28.5427 L1181.23 35.5912 Q1178.07 33.9709 1174.67 33.1607 Q1171.26 32.3505 1167.62 32.3505 Q1162.07 32.3505 1159.27 34.0519 Q1156.52 35.7533 1156.52 39.156 Q1156.52 41.7486 1158.5 43.2475 Q1160.49 44.7058 1166.48 46.0426 L1169.03 46.6097 Q1176.97 48.3111 1180.3 51.4303 Q1183.66 54.509 1183.66 60.0587 Q1183.66 66.3781 1178.64 70.0644 Q1173.65 73.7508 1164.9 73.7508 Q1161.26 73.7508 1157.29 73.0216 Q1153.36 72.3329 1148.98 70.9151 L1148.98 63.2184 Q1153.11 65.3654 1157.13 66.4591 Q1161.14 67.5124 1165.06 67.5124 Q1170.33 67.5124 1173.17 65.73 Q1176 63.9071 1176 60.6258 Q1176 57.5877 1173.94 55.9673 Q1171.91 54.3469 1164.98 52.8481 L1162.39 52.2405 Q1155.46 50.7821 1152.39 47.7845 Q1149.31 44.7463 1149.31 39.4801 Q1149.31 33.0797 1153.84 29.5959 Q1158.38 26.1121 1166.73 26.1121 Q1170.86 26.1121 1174.5 26.7198 Q1178.15 27.3274 1181.23 28.5427 Z\" fill=\"#000000\" fill-rule=\"evenodd\" fill-opacity=\"1\" /><path clip-path=\"url(#clip360)\" d=\"M1195.53 27.2059 L1202.98 27.2059 L1202.98 72.576 L1195.53 72.576 L1195.53 27.2059 M1195.53 9.54393 L1202.98 9.54393 L1202.98 18.9825 L1195.53 18.9825 L1195.53 9.54393 Z\" fill=\"#000000\" fill-rule=\"evenodd\" fill-opacity=\"1\" /><path clip-path=\"url(#clip360)\" d=\"M1225.95 14.324 L1225.95 27.2059 L1241.3 27.2059 L1241.3 32.9987 L1225.95 32.9987 L1225.95 57.6282 Q1225.95 63.1779 1227.45 64.7578 Q1228.99 66.3376 1233.65 66.3376 L1241.3 66.3376 L1241.3 72.576 L1233.65 72.576 Q1225.02 72.576 1221.74 69.3758 Q1218.46 66.1351 1218.46 57.6282 L1218.46 32.9987 L1212.99 32.9987 L1212.99 27.2059 L1218.46 27.2059 L1218.46 14.324 L1225.95 14.324 Z\" fill=\"#000000\" fill-rule=\"evenodd\" fill-opacity=\"1\" /><path clip-path=\"url(#clip360)\" d=\"M1251.11 27.2059 L1258.56 27.2059 L1258.56 72.576 L1251.11 72.576 L1251.11 27.2059 M1251.11 9.54393 L1258.56 9.54393 L1258.56 18.9825 L1251.11 18.9825 L1251.11 9.54393 Z\" fill=\"#000000\" fill-rule=\"evenodd\" fill-opacity=\"1\" /><path clip-path=\"url(#clip360)\" d=\"M1268.81 27.2059 L1276.71 27.2059 L1290.89 65.2844 L1305.06 27.2059 L1312.96 27.2059 L1295.95 72.576 L1285.82 72.576 L1268.81 27.2059 Z\" fill=\"#000000\" fill-rule=\"evenodd\" fill-opacity=\"1\" /><path clip-path=\"url(#clip360)\" d=\"M1323.25 27.2059 L1330.71 27.2059 L1330.71 72.576 L1323.25 72.576 L1323.25 27.2059 M1323.25 9.54393 L1330.71 9.54393 L1330.71 18.9825 L1323.25 18.9825 L1323.25 9.54393 Z\" fill=\"#000000\" fill-rule=\"evenodd\" fill-opacity=\"1\" /><path clip-path=\"url(#clip360)\" d=\"M1353.68 14.324 L1353.68 27.2059 L1369.03 27.2059 L1369.03 32.9987 L1353.68 32.9987 L1353.68 57.6282 Q1353.68 63.1779 1355.17 64.7578 Q1356.71 66.3376 1361.37 66.3376 L1369.03 66.3376 L1369.03 72.576 L1361.37 72.576 Q1352.74 72.576 1349.46 69.3758 Q1346.18 66.1351 1346.18 57.6282 L1346.18 32.9987 L1340.71 32.9987 L1340.71 27.2059 L1346.18 27.2059 L1346.18 14.324 L1353.68 14.324 Z\" fill=\"#000000\" fill-rule=\"evenodd\" fill-opacity=\"1\" /><path clip-path=\"url(#clip360)\" d=\"M1397.71 76.7889 Q1394.55 84.8907 1391.55 87.3618 Q1388.55 89.8329 1383.53 89.8329 L1377.58 89.8329 L1377.58 83.5945 L1381.95 83.5945 Q1385.03 83.5945 1386.73 82.1361 Q1388.43 80.6778 1390.5 75.2496 L1391.83 71.8468 L1373.48 27.2059 L1381.38 27.2059 L1395.56 62.6918 L1409.74 27.2059 L1417.64 27.2059 L1397.71 76.7889 Z\" fill=\"#000000\" fill-rule=\"evenodd\" fill-opacity=\"1\" /><polyline clip-path=\"url(#clip362)\" style=\"stroke:#009af9; stroke-linecap:butt; stroke-linejoin:round; stroke-width:8; stroke-opacity:1; fill:none\" points=\"\n",
       "  290.818,1078.56 334.7,1078.56 378.581,1078.54 422.463,1078.43 466.345,1077.88 510.227,1075.75 554.109,1069.2 597.99,1052.7 641.872,1018.21 685.754,957.865 \n",
       "  729.636,869.354 773.517,761.581 817.399,655.921 861.281,580.062 905.163,556.324 949.045,591.14 992.926,672.377 1036.81,775.914 1080.69,876.797 1124.57,958.211 \n",
       "  1168.45,1014.37 1212.34,1048 1256.22,1065.59 1300.1,1073.68 1343.98,1076.93 1387.86,1078.08 1431.74,1078.44 1475.63,1078.53 1519.51,1078.56 1563.39,1078.56 \n",
       "  1607.27,1078.56 1651.15,1078.56 1695.03,1078.56 1738.92,1078.56 1782.8,1078.56 1826.68,1078.56 \n",
       "  \"/>\n",
       "<polyline clip-path=\"url(#clip362)\" style=\"stroke:#e26f46; stroke-linecap:butt; stroke-linejoin:round; stroke-width:8; stroke-opacity:1; fill:none\" points=\"\n",
       "  290.818,1078.56 334.7,1078.56 378.581,1078.56 422.463,1078.56 466.345,1078.56 510.227,1078.56 554.109,1078.56 597.99,1078.56 641.872,1078.56 685.754,1078.52 \n",
       "  729.636,1078.28 773.517,1077.07 817.399,1072.35 861.281,1057.8 905.163,1022.05 949.045,951.565 992.926,840.125 1036.81,700.83 1080.69,569.665 1124.57,491.968 \n",
       "  1168.45,497.498 1212.34,582.476 1256.22,712.973 1300.1,845.976 1343.98,950.989 1387.86,1018.41 1431.74,1054.29 1475.63,1070.24 1519.51,1076.16 1563.39,1077.99 \n",
       "  1607.27,1078.45 1651.15,1078.54 1695.03,1078.56 1738.92,1078.56 1782.8,1078.56 1826.68,1078.56 \n",
       "  \"/>\n",
       "<polyline clip-path=\"url(#clip362)\" style=\"stroke:#3da44d; stroke-linecap:butt; stroke-linejoin:round; stroke-width:8; stroke-opacity:1; fill:none\" stroke-dasharray=\"32, 20\" points=\"\n",
       "  290.818,1078.56 334.7,1078.56 378.581,1078.56 422.463,1078.56 466.345,1078.56 510.227,1078.56 554.109,1078.56 597.99,1078.56 641.872,1078.56 685.754,1078.56 \n",
       "  729.636,1078.56 773.517,1078.56 817.399,1078.56 861.281,1078.56 905.163,1078.56 949.045,1078.55 992.926,1078.46 1036.81,1077.94 1080.69,1075.32 1124.57,1064.94 \n",
       "  1168.45,1032.56 1212.34,954.412 1256.22,811.08 1300.1,617.548 1343.98,440.699 1387.86,367.785 1431.74,439.593 1475.63,615.47 1519.51,809.04 1563.39,953.613 \n",
       "  1607.27,1033.06 1651.15,1065.83 1695.03,1075.92 1738.92,1078.18 1782.8,1078.53 1826.68,1078.56 \n",
       "  \"/>\n",
       "<polyline clip-path=\"url(#clip362)\" style=\"stroke:#c271d2; stroke-linecap:butt; stroke-linejoin:round; stroke-width:8; stroke-opacity:1; fill:none\" stroke-dasharray=\"4, 8\" points=\"\n",
       "  290.818,1078.56 334.7,1078.56 378.581,1078.56 422.463,1078.56 466.345,1078.56 510.227,1078.56 554.109,1078.56 597.99,1078.56 641.872,1078.56 685.754,1078.56 \n",
       "  729.636,1078.56 773.517,1078.56 817.399,1078.56 861.281,1078.56 905.163,1078.56 949.045,1078.56 992.926,1078.56 1036.81,1078.56 1080.69,1078.56 1124.57,1078.56 \n",
       "  1168.45,1078.56 1212.34,1078.56 1256.22,1078.53 1300.1,1078.33 1343.98,1077.17 1387.86,1071.49 1431.74,1048.87 1475.63,977.22 1519.51,804.469 1563.39,510.216 \n",
       "  1607.27,211.631 1651.15,151.29 1695.03,415.601 1738.92,779.897 1782.8,1002.28 1826.68,1070.16 \n",
       "  \"/>\n",
       "<path clip-path=\"url(#clip360)\" d=\"\n",
       "M299.009 415.436 L943.369 415.436 L943.369 156.236 L299.009 156.236  Z\n",
       "  \" fill=\"#ffffff\" fill-rule=\"evenodd\" fill-opacity=\"1\"/>\n",
       "<polyline clip-path=\"url(#clip360)\" style=\"stroke:#000000; stroke-linecap:butt; stroke-linejoin:round; stroke-width:4; stroke-opacity:1; fill:none\" points=\"\n",
       "  299.009,415.436 943.369,415.436 943.369,156.236 299.009,156.236 299.009,415.436 \n",
       "  \"/>\n",
       "<polyline clip-path=\"url(#clip360)\" style=\"stroke:#009af9; stroke-linecap:butt; stroke-linejoin:round; stroke-width:4; stroke-opacity:1; fill:none\" points=\"\n",
       "  317.098,208.076 425.632,208.076 \n",
       "  \"/>\n",
       "<path clip-path=\"url(#clip360)\" d=\"M465.434 209.708 L465.434 225.356 L461.175 225.356 L461.175 209.847 Q461.175 206.166 459.74 204.337 Q458.305 202.509 455.434 202.509 Q451.985 202.509 449.995 204.708 Q448.004 206.907 448.004 210.703 L448.004 225.356 L443.722 225.356 L443.722 199.43 L448.004 199.43 L448.004 203.458 Q449.532 201.12 451.592 199.962 Q453.675 198.805 456.383 198.805 Q460.851 198.805 463.143 201.583 Q465.434 204.337 465.434 209.708 Z\" fill=\"#000000\" fill-rule=\"evenodd\" fill-opacity=\"1\" /><path clip-path=\"url(#clip360)\" d=\"M473.49 215.124 L473.49 199.43 L477.749 199.43 L477.749 214.962 Q477.749 218.643 479.184 220.495 Q480.619 222.323 483.49 222.323 Q486.939 222.323 488.93 220.124 Q490.943 217.925 490.943 214.129 L490.943 199.43 L495.203 199.43 L495.203 225.356 L490.943 225.356 L490.943 221.374 Q489.393 223.735 487.332 224.893 Q485.295 226.027 482.587 226.027 Q478.119 226.027 475.805 223.249 Q473.49 220.471 473.49 215.124 M484.207 198.805 L484.207 198.805 Z\" fill=\"#000000\" fill-rule=\"evenodd\" fill-opacity=\"1\" /><path clip-path=\"url(#clip360)\" d=\"M524.161 204.407 Q525.758 201.536 527.98 200.171 Q530.203 198.805 533.212 198.805 Q537.263 198.805 539.462 201.652 Q541.661 204.476 541.661 209.708 L541.661 225.356 L537.378 225.356 L537.378 209.847 Q537.378 206.12 536.059 204.314 Q534.74 202.509 532.031 202.509 Q528.721 202.509 526.8 204.708 Q524.878 206.907 524.878 210.703 L524.878 225.356 L520.596 225.356 L520.596 209.847 Q520.596 206.097 519.277 204.314 Q517.957 202.509 515.203 202.509 Q511.939 202.509 510.017 204.731 Q508.096 206.93 508.096 210.703 L508.096 225.356 L503.814 225.356 L503.814 199.43 L508.096 199.43 L508.096 203.458 Q509.554 201.073 511.592 199.939 Q513.629 198.805 516.429 198.805 Q519.254 198.805 521.221 200.24 Q523.212 201.675 524.161 204.407 Z\" fill=\"#000000\" fill-rule=\"evenodd\" fill-opacity=\"1\" /><path clip-path=\"url(#clip360)\" d=\"M569.855 233.226 L569.855 236.536 L545.226 236.536 L545.226 233.226 L569.855 233.226 Z\" fill=\"#000000\" fill-rule=\"evenodd\" fill-opacity=\"1\" /><path clip-path=\"url(#clip360)\" d=\"M590.387 200.194 L590.387 204.222 Q588.582 203.296 586.637 202.833 Q584.693 202.37 582.61 202.37 Q579.438 202.37 577.841 203.342 Q576.267 204.314 576.267 206.259 Q576.267 207.74 577.401 208.597 Q578.536 209.43 581.962 210.194 L583.42 210.518 Q587.957 211.49 589.855 213.272 Q591.776 215.032 591.776 218.203 Q591.776 221.814 588.906 223.921 Q586.059 226.027 581.059 226.027 Q578.975 226.027 576.707 225.61 Q574.462 225.217 571.962 224.407 L571.962 220.009 Q574.323 221.235 576.614 221.86 Q578.906 222.462 581.151 222.462 Q584.161 222.462 585.781 221.444 Q587.401 220.402 587.401 218.527 Q587.401 216.791 586.221 215.865 Q585.063 214.939 581.105 214.083 L579.624 213.735 Q575.665 212.902 573.906 211.189 Q572.147 209.453 572.147 206.444 Q572.147 202.786 574.739 200.796 Q577.332 198.805 582.1 198.805 Q584.461 198.805 586.545 199.152 Q588.628 199.499 590.387 200.194 Z\" fill=\"#000000\" fill-rule=\"evenodd\" fill-opacity=\"1\" /><path clip-path=\"url(#clip360)\" d=\"M620.734 211.328 L620.734 213.411 L601.151 213.411 Q601.429 217.809 603.79 220.124 Q606.174 222.416 610.41 222.416 Q612.864 222.416 615.156 221.814 Q617.471 221.212 619.739 220.009 L619.739 224.036 Q617.447 225.008 615.04 225.518 Q612.633 226.027 610.156 226.027 Q603.952 226.027 600.318 222.416 Q596.707 218.805 596.707 212.647 Q596.707 206.282 600.133 202.555 Q603.582 198.805 609.415 198.805 Q614.647 198.805 617.679 202.185 Q620.734 205.541 620.734 211.328 M616.475 210.078 Q616.429 206.583 614.508 204.499 Q612.609 202.416 609.461 202.416 Q605.897 202.416 603.744 204.43 Q601.614 206.444 601.29 210.101 L616.475 210.078 Z\" fill=\"#000000\" fill-rule=\"evenodd\" fill-opacity=\"1\" /><path clip-path=\"url(#clip360)\" d=\"M649.276 209.708 L649.276 225.356 L645.017 225.356 L645.017 209.847 Q645.017 206.166 643.582 204.337 Q642.146 202.509 639.276 202.509 Q635.827 202.509 633.836 204.708 Q631.845 206.907 631.845 210.703 L631.845 225.356 L627.563 225.356 L627.563 199.43 L631.845 199.43 L631.845 203.458 Q633.373 201.12 635.433 199.962 Q637.517 198.805 640.225 198.805 Q644.693 198.805 646.984 201.583 Q649.276 204.337 649.276 209.708 Z\" fill=\"#000000\" fill-rule=\"evenodd\" fill-opacity=\"1\" /><path clip-path=\"url(#clip360)\" d=\"M674.299 200.194 L674.299 204.222 Q672.493 203.296 670.549 202.833 Q668.605 202.37 666.521 202.37 Q663.35 202.37 661.753 203.342 Q660.179 204.314 660.179 206.259 Q660.179 207.74 661.313 208.597 Q662.447 209.43 665.873 210.194 L667.331 210.518 Q671.868 211.49 673.767 213.272 Q675.688 215.032 675.688 218.203 Q675.688 221.814 672.818 223.921 Q669.97 226.027 664.97 226.027 Q662.887 226.027 660.618 225.61 Q658.373 225.217 655.873 224.407 L655.873 220.009 Q658.234 221.235 660.526 221.86 Q662.818 222.462 665.063 222.462 Q668.072 222.462 669.693 221.444 Q671.313 220.402 671.313 218.527 Q671.313 216.791 670.132 215.865 Q668.975 214.939 665.017 214.083 L663.535 213.735 Q659.577 212.902 657.818 211.189 Q656.058 209.453 656.058 206.444 Q656.058 202.786 658.651 200.796 Q661.243 198.805 666.012 198.805 Q668.373 198.805 670.456 199.152 Q672.54 199.499 674.299 200.194 Z\" fill=\"#000000\" fill-rule=\"evenodd\" fill-opacity=\"1\" /><path clip-path=\"url(#clip360)\" d=\"M682.47 199.43 L686.729 199.43 L686.729 225.356 L682.47 225.356 L682.47 199.43 M682.47 189.337 L686.729 189.337 L686.729 194.731 L682.47 194.731 L682.47 189.337 Z\" fill=\"#000000\" fill-rule=\"evenodd\" fill-opacity=\"1\" /><path clip-path=\"url(#clip360)\" d=\"M699.854 192.069 L699.854 199.43 L708.627 199.43 L708.627 202.74 L699.854 202.74 L699.854 216.814 Q699.854 219.985 700.711 220.888 Q701.59 221.791 704.253 221.791 L708.627 221.791 L708.627 225.356 L704.253 225.356 Q699.322 225.356 697.447 223.527 Q695.572 221.675 695.572 216.814 L695.572 202.74 L692.447 202.74 L692.447 199.43 L695.572 199.43 L695.572 192.069 L699.854 192.069 Z\" fill=\"#000000\" fill-rule=\"evenodd\" fill-opacity=\"1\" /><path clip-path=\"url(#clip360)\" d=\"M714.229 199.43 L718.489 199.43 L718.489 225.356 L714.229 225.356 L714.229 199.43 M714.229 189.337 L718.489 189.337 L718.489 194.731 L714.229 194.731 L714.229 189.337 Z\" fill=\"#000000\" fill-rule=\"evenodd\" fill-opacity=\"1\" /><path clip-path=\"url(#clip360)\" d=\"M724.345 199.43 L728.859 199.43 L736.961 221.189 L745.062 199.43 L749.576 199.43 L739.854 225.356 L734.067 225.356 L724.345 199.43 Z\" fill=\"#000000\" fill-rule=\"evenodd\" fill-opacity=\"1\" /><path clip-path=\"url(#clip360)\" d=\"M777.632 211.328 L777.632 213.411 L758.049 213.411 Q758.326 217.809 760.687 220.124 Q763.072 222.416 767.308 222.416 Q769.761 222.416 772.053 221.814 Q774.368 221.212 776.636 220.009 L776.636 224.036 Q774.345 225.008 771.937 225.518 Q769.53 226.027 767.053 226.027 Q760.849 226.027 757.215 222.416 Q753.604 218.805 753.604 212.647 Q753.604 206.282 757.03 202.555 Q760.479 198.805 766.312 198.805 Q771.544 198.805 774.576 202.185 Q777.632 205.541 777.632 211.328 M773.373 210.078 Q773.326 206.583 771.405 204.499 Q769.507 202.416 766.359 202.416 Q762.794 202.416 760.641 204.43 Q758.511 206.444 758.187 210.101 L773.373 210.078 Z\" fill=\"#000000\" fill-rule=\"evenodd\" fill-opacity=\"1\" /><path clip-path=\"url(#clip360)\" d=\"M800.247 203.828 L829.923 203.828 L829.923 207.717 L800.247 207.717 L800.247 203.828 M800.247 213.272 L829.923 213.272 L829.923 217.208 L800.247 217.208 L800.247 213.272 Z\" fill=\"#000000\" fill-rule=\"evenodd\" fill-opacity=\"1\" /><path clip-path=\"url(#clip360)\" d=\"M865.085 193.874 Q861.474 193.874 859.645 197.439 Q857.84 200.981 857.84 208.11 Q857.84 215.217 859.645 218.782 Q861.474 222.323 865.085 222.323 Q868.719 222.323 870.525 218.782 Q872.353 215.217 872.353 208.11 Q872.353 200.981 870.525 197.439 Q868.719 193.874 865.085 193.874 M865.085 190.171 Q870.895 190.171 873.951 194.777 Q877.029 199.36 877.029 208.11 Q877.029 216.837 873.951 221.444 Q870.895 226.027 865.085 226.027 Q859.275 226.027 856.196 221.444 Q853.141 216.837 853.141 208.11 Q853.141 199.36 856.196 194.777 Q859.275 190.171 865.085 190.171 Z\" fill=\"#000000\" fill-rule=\"evenodd\" fill-opacity=\"1\" /><polyline clip-path=\"url(#clip360)\" style=\"stroke:#e26f46; stroke-linecap:butt; stroke-linejoin:round; stroke-width:4; stroke-opacity:1; fill:none\" points=\"\n",
       "  317.098,259.916 425.632,259.916 \n",
       "  \"/>\n",
       "<path clip-path=\"url(#clip360)\" d=\"M465.434 261.548 L465.434 277.196 L461.175 277.196 L461.175 261.687 Q461.175 258.006 459.74 256.177 Q458.305 254.349 455.434 254.349 Q451.985 254.349 449.995 256.548 Q448.004 258.747 448.004 262.543 L448.004 277.196 L443.722 277.196 L443.722 251.27 L448.004 251.27 L448.004 255.298 Q449.532 252.96 451.592 251.802 Q453.675 250.645 456.383 250.645 Q460.851 250.645 463.143 253.423 Q465.434 256.177 465.434 261.548 Z\" fill=\"#000000\" fill-rule=\"evenodd\" fill-opacity=\"1\" /><path clip-path=\"url(#clip360)\" d=\"M473.49 266.964 L473.49 251.27 L477.749 251.27 L477.749 266.802 Q477.749 270.483 479.184 272.335 Q480.619 274.163 483.49 274.163 Q486.939 274.163 488.93 271.964 Q490.943 269.765 490.943 265.969 L490.943 251.27 L495.203 251.27 L495.203 277.196 L490.943 277.196 L490.943 273.214 Q489.393 275.575 487.332 276.733 Q485.295 277.867 482.587 277.867 Q478.119 277.867 475.805 275.089 Q473.49 272.311 473.49 266.964 M484.207 250.645 L484.207 250.645 Z\" fill=\"#000000\" fill-rule=\"evenodd\" fill-opacity=\"1\" /><path clip-path=\"url(#clip360)\" d=\"M524.161 256.247 Q525.758 253.376 527.98 252.011 Q530.203 250.645 533.212 250.645 Q537.263 250.645 539.462 253.492 Q541.661 256.316 541.661 261.548 L541.661 277.196 L537.378 277.196 L537.378 261.687 Q537.378 257.96 536.059 256.154 Q534.74 254.349 532.031 254.349 Q528.721 254.349 526.8 256.548 Q524.878 258.747 524.878 262.543 L524.878 277.196 L520.596 277.196 L520.596 261.687 Q520.596 257.937 519.277 256.154 Q517.957 254.349 515.203 254.349 Q511.939 254.349 510.017 256.571 Q508.096 258.77 508.096 262.543 L508.096 277.196 L503.814 277.196 L503.814 251.27 L508.096 251.27 L508.096 255.298 Q509.554 252.913 511.592 251.779 Q513.629 250.645 516.429 250.645 Q519.254 250.645 521.221 252.08 Q523.212 253.515 524.161 256.247 Z\" fill=\"#000000\" fill-rule=\"evenodd\" fill-opacity=\"1\" /><path clip-path=\"url(#clip360)\" d=\"M569.855 285.066 L569.855 288.376 L545.226 288.376 L545.226 285.066 L569.855 285.066 Z\" fill=\"#000000\" fill-rule=\"evenodd\" fill-opacity=\"1\" /><path clip-path=\"url(#clip360)\" d=\"M590.387 252.034 L590.387 256.062 Q588.582 255.136 586.637 254.673 Q584.693 254.21 582.61 254.21 Q579.438 254.21 577.841 255.182 Q576.267 256.154 576.267 258.099 Q576.267 259.58 577.401 260.437 Q578.536 261.27 581.962 262.034 L583.42 262.358 Q587.957 263.33 589.855 265.112 Q591.776 266.872 591.776 270.043 Q591.776 273.654 588.906 275.761 Q586.059 277.867 581.059 277.867 Q578.975 277.867 576.707 277.45 Q574.462 277.057 571.962 276.247 L571.962 271.849 Q574.323 273.075 576.614 273.7 Q578.906 274.302 581.151 274.302 Q584.161 274.302 585.781 273.284 Q587.401 272.242 587.401 270.367 Q587.401 268.631 586.221 267.705 Q585.063 266.779 581.105 265.923 L579.624 265.575 Q575.665 264.742 573.906 263.029 Q572.147 261.293 572.147 258.284 Q572.147 254.626 574.739 252.636 Q577.332 250.645 582.1 250.645 Q584.461 250.645 586.545 250.992 Q588.628 251.339 590.387 252.034 Z\" fill=\"#000000\" fill-rule=\"evenodd\" fill-opacity=\"1\" /><path clip-path=\"url(#clip360)\" d=\"M620.734 263.168 L620.734 265.251 L601.151 265.251 Q601.429 269.649 603.79 271.964 Q606.174 274.256 610.41 274.256 Q612.864 274.256 615.156 273.654 Q617.471 273.052 619.739 271.849 L619.739 275.876 Q617.447 276.848 615.04 277.358 Q612.633 277.867 610.156 277.867 Q603.952 277.867 600.318 274.256 Q596.707 270.645 596.707 264.487 Q596.707 258.122 600.133 254.395 Q603.582 250.645 609.415 250.645 Q614.647 250.645 617.679 254.025 Q620.734 257.381 620.734 263.168 M616.475 261.918 Q616.429 258.423 614.508 256.339 Q612.609 254.256 609.461 254.256 Q605.897 254.256 603.744 256.27 Q601.614 258.284 601.29 261.941 L616.475 261.918 Z\" fill=\"#000000\" fill-rule=\"evenodd\" fill-opacity=\"1\" /><path clip-path=\"url(#clip360)\" d=\"M649.276 261.548 L649.276 277.196 L645.017 277.196 L645.017 261.687 Q645.017 258.006 643.582 256.177 Q642.146 254.349 639.276 254.349 Q635.827 254.349 633.836 256.548 Q631.845 258.747 631.845 262.543 L631.845 277.196 L627.563 277.196 L627.563 251.27 L631.845 251.27 L631.845 255.298 Q633.373 252.96 635.433 251.802 Q637.517 250.645 640.225 250.645 Q644.693 250.645 646.984 253.423 Q649.276 256.177 649.276 261.548 Z\" fill=\"#000000\" fill-rule=\"evenodd\" fill-opacity=\"1\" /><path clip-path=\"url(#clip360)\" d=\"M674.299 252.034 L674.299 256.062 Q672.493 255.136 670.549 254.673 Q668.605 254.21 666.521 254.21 Q663.35 254.21 661.753 255.182 Q660.179 256.154 660.179 258.099 Q660.179 259.58 661.313 260.437 Q662.447 261.27 665.873 262.034 L667.331 262.358 Q671.868 263.33 673.767 265.112 Q675.688 266.872 675.688 270.043 Q675.688 273.654 672.818 275.761 Q669.97 277.867 664.97 277.867 Q662.887 277.867 660.618 277.45 Q658.373 277.057 655.873 276.247 L655.873 271.849 Q658.234 273.075 660.526 273.7 Q662.818 274.302 665.063 274.302 Q668.072 274.302 669.693 273.284 Q671.313 272.242 671.313 270.367 Q671.313 268.631 670.132 267.705 Q668.975 266.779 665.017 265.923 L663.535 265.575 Q659.577 264.742 657.818 263.029 Q656.058 261.293 656.058 258.284 Q656.058 254.626 658.651 252.636 Q661.243 250.645 666.012 250.645 Q668.373 250.645 670.456 250.992 Q672.54 251.339 674.299 252.034 Z\" fill=\"#000000\" fill-rule=\"evenodd\" fill-opacity=\"1\" /><path clip-path=\"url(#clip360)\" d=\"M682.47 251.27 L686.729 251.27 L686.729 277.196 L682.47 277.196 L682.47 251.27 M682.47 241.177 L686.729 241.177 L686.729 246.571 L682.47 246.571 L682.47 241.177 Z\" fill=\"#000000\" fill-rule=\"evenodd\" fill-opacity=\"1\" /><path clip-path=\"url(#clip360)\" d=\"M699.854 243.909 L699.854 251.27 L708.627 251.27 L708.627 254.58 L699.854 254.58 L699.854 268.654 Q699.854 271.825 700.711 272.728 Q701.59 273.631 704.253 273.631 L708.627 273.631 L708.627 277.196 L704.253 277.196 Q699.322 277.196 697.447 275.367 Q695.572 273.515 695.572 268.654 L695.572 254.58 L692.447 254.58 L692.447 251.27 L695.572 251.27 L695.572 243.909 L699.854 243.909 Z\" fill=\"#000000\" fill-rule=\"evenodd\" fill-opacity=\"1\" /><path clip-path=\"url(#clip360)\" d=\"M714.229 251.27 L718.489 251.27 L718.489 277.196 L714.229 277.196 L714.229 251.27 M714.229 241.177 L718.489 241.177 L718.489 246.571 L714.229 246.571 L714.229 241.177 Z\" fill=\"#000000\" fill-rule=\"evenodd\" fill-opacity=\"1\" /><path clip-path=\"url(#clip360)\" d=\"M724.345 251.27 L728.859 251.27 L736.961 273.029 L745.062 251.27 L749.576 251.27 L739.854 277.196 L734.067 277.196 L724.345 251.27 Z\" fill=\"#000000\" fill-rule=\"evenodd\" fill-opacity=\"1\" /><path clip-path=\"url(#clip360)\" d=\"M777.632 263.168 L777.632 265.251 L758.049 265.251 Q758.326 269.649 760.687 271.964 Q763.072 274.256 767.308 274.256 Q769.761 274.256 772.053 273.654 Q774.368 273.052 776.636 271.849 L776.636 275.876 Q774.345 276.848 771.937 277.358 Q769.53 277.867 767.053 277.867 Q760.849 277.867 757.215 274.256 Q753.604 270.645 753.604 264.487 Q753.604 258.122 757.03 254.395 Q760.479 250.645 766.312 250.645 Q771.544 250.645 774.576 254.025 Q777.632 257.381 777.632 263.168 M773.373 261.918 Q773.326 258.423 771.405 256.339 Q769.507 254.256 766.359 254.256 Q762.794 254.256 760.641 256.27 Q758.511 258.284 758.187 261.941 L773.373 261.918 Z\" fill=\"#000000\" fill-rule=\"evenodd\" fill-opacity=\"1\" /><path clip-path=\"url(#clip360)\" d=\"M800.247 255.668 L829.923 255.668 L829.923 259.557 L800.247 259.557 L800.247 255.668 M800.247 265.112 L829.923 265.112 L829.923 269.048 L800.247 269.048 L800.247 265.112 Z\" fill=\"#000000\" fill-rule=\"evenodd\" fill-opacity=\"1\" /><path clip-path=\"url(#clip360)\" d=\"M855.895 273.261 L863.534 273.261 L863.534 246.895 L855.224 248.562 L855.224 244.302 L863.488 242.636 L868.164 242.636 L868.164 273.261 L875.803 273.261 L875.803 277.196 L855.895 277.196 L855.895 273.261 Z\" fill=\"#000000\" fill-rule=\"evenodd\" fill-opacity=\"1\" /><path clip-path=\"url(#clip360)\" d=\"M895.247 245.714 Q891.636 245.714 889.807 249.279 Q888.002 252.821 888.002 259.95 Q888.002 267.057 889.807 270.622 Q891.636 274.163 895.247 274.163 Q898.881 274.163 900.687 270.622 Q902.515 267.057 902.515 259.95 Q902.515 252.821 900.687 249.279 Q898.881 245.714 895.247 245.714 M895.247 242.011 Q901.057 242.011 904.113 246.617 Q907.191 251.2 907.191 259.95 Q907.191 268.677 904.113 273.284 Q901.057 277.867 895.247 277.867 Q889.437 277.867 886.358 273.284 Q883.302 268.677 883.302 259.95 Q883.302 251.2 886.358 246.617 Q889.437 242.011 895.247 242.011 Z\" fill=\"#000000\" fill-rule=\"evenodd\" fill-opacity=\"1\" /><polyline clip-path=\"url(#clip360)\" style=\"stroke:#3da44d; stroke-linecap:butt; stroke-linejoin:round; stroke-width:4; stroke-opacity:1; fill:none\" stroke-dasharray=\"16, 10\" points=\"\n",
       "  317.098,311.756 425.632,311.756 \n",
       "  \"/>\n",
       "<path clip-path=\"url(#clip360)\" d=\"M465.434 313.388 L465.434 329.036 L461.175 329.036 L461.175 313.527 Q461.175 309.846 459.74 308.017 Q458.305 306.189 455.434 306.189 Q451.985 306.189 449.995 308.388 Q448.004 310.587 448.004 314.383 L448.004 329.036 L443.722 329.036 L443.722 303.11 L448.004 303.11 L448.004 307.138 Q449.532 304.8 451.592 303.642 Q453.675 302.485 456.383 302.485 Q460.851 302.485 463.143 305.263 Q465.434 308.017 465.434 313.388 Z\" fill=\"#000000\" fill-rule=\"evenodd\" fill-opacity=\"1\" /><path clip-path=\"url(#clip360)\" d=\"M473.49 318.804 L473.49 303.11 L477.749 303.11 L477.749 318.642 Q477.749 322.323 479.184 324.175 Q480.619 326.003 483.49 326.003 Q486.939 326.003 488.93 323.804 Q490.943 321.605 490.943 317.809 L490.943 303.11 L495.203 303.11 L495.203 329.036 L490.943 329.036 L490.943 325.054 Q489.393 327.415 487.332 328.573 Q485.295 329.707 482.587 329.707 Q478.119 329.707 475.805 326.929 Q473.49 324.151 473.49 318.804 M484.207 302.485 L484.207 302.485 Z\" fill=\"#000000\" fill-rule=\"evenodd\" fill-opacity=\"1\" /><path clip-path=\"url(#clip360)\" d=\"M524.161 308.087 Q525.758 305.216 527.98 303.851 Q530.203 302.485 533.212 302.485 Q537.263 302.485 539.462 305.332 Q541.661 308.156 541.661 313.388 L541.661 329.036 L537.378 329.036 L537.378 313.527 Q537.378 309.8 536.059 307.994 Q534.74 306.189 532.031 306.189 Q528.721 306.189 526.8 308.388 Q524.878 310.587 524.878 314.383 L524.878 329.036 L520.596 329.036 L520.596 313.527 Q520.596 309.777 519.277 307.994 Q517.957 306.189 515.203 306.189 Q511.939 306.189 510.017 308.411 Q508.096 310.61 508.096 314.383 L508.096 329.036 L503.814 329.036 L503.814 303.11 L508.096 303.11 L508.096 307.138 Q509.554 304.753 511.592 303.619 Q513.629 302.485 516.429 302.485 Q519.254 302.485 521.221 303.92 Q523.212 305.355 524.161 308.087 Z\" fill=\"#000000\" fill-rule=\"evenodd\" fill-opacity=\"1\" /><path clip-path=\"url(#clip360)\" d=\"M569.855 336.906 L569.855 340.216 L545.226 340.216 L545.226 336.906 L569.855 336.906 Z\" fill=\"#000000\" fill-rule=\"evenodd\" fill-opacity=\"1\" /><path clip-path=\"url(#clip360)\" d=\"M590.387 303.874 L590.387 307.902 Q588.582 306.976 586.637 306.513 Q584.693 306.05 582.61 306.05 Q579.438 306.05 577.841 307.022 Q576.267 307.994 576.267 309.939 Q576.267 311.42 577.401 312.277 Q578.536 313.11 581.962 313.874 L583.42 314.198 Q587.957 315.17 589.855 316.952 Q591.776 318.712 591.776 321.883 Q591.776 325.494 588.906 327.601 Q586.059 329.707 581.059 329.707 Q578.975 329.707 576.707 329.29 Q574.462 328.897 571.962 328.087 L571.962 323.689 Q574.323 324.915 576.614 325.54 Q578.906 326.142 581.151 326.142 Q584.161 326.142 585.781 325.124 Q587.401 324.082 587.401 322.207 Q587.401 320.471 586.221 319.545 Q585.063 318.619 581.105 317.763 L579.624 317.415 Q575.665 316.582 573.906 314.869 Q572.147 313.133 572.147 310.124 Q572.147 306.466 574.739 304.476 Q577.332 302.485 582.1 302.485 Q584.461 302.485 586.545 302.832 Q588.628 303.179 590.387 303.874 Z\" fill=\"#000000\" fill-rule=\"evenodd\" fill-opacity=\"1\" /><path clip-path=\"url(#clip360)\" d=\"M620.734 315.008 L620.734 317.091 L601.151 317.091 Q601.429 321.489 603.79 323.804 Q606.174 326.096 610.41 326.096 Q612.864 326.096 615.156 325.494 Q617.471 324.892 619.739 323.689 L619.739 327.716 Q617.447 328.688 615.04 329.198 Q612.633 329.707 610.156 329.707 Q603.952 329.707 600.318 326.096 Q596.707 322.485 596.707 316.327 Q596.707 309.962 600.133 306.235 Q603.582 302.485 609.415 302.485 Q614.647 302.485 617.679 305.865 Q620.734 309.221 620.734 315.008 M616.475 313.758 Q616.429 310.263 614.508 308.179 Q612.609 306.096 609.461 306.096 Q605.897 306.096 603.744 308.11 Q601.614 310.124 601.29 313.781 L616.475 313.758 Z\" fill=\"#000000\" fill-rule=\"evenodd\" fill-opacity=\"1\" /><path clip-path=\"url(#clip360)\" d=\"M649.276 313.388 L649.276 329.036 L645.017 329.036 L645.017 313.527 Q645.017 309.846 643.582 308.017 Q642.146 306.189 639.276 306.189 Q635.827 306.189 633.836 308.388 Q631.845 310.587 631.845 314.383 L631.845 329.036 L627.563 329.036 L627.563 303.11 L631.845 303.11 L631.845 307.138 Q633.373 304.8 635.433 303.642 Q637.517 302.485 640.225 302.485 Q644.693 302.485 646.984 305.263 Q649.276 308.017 649.276 313.388 Z\" fill=\"#000000\" fill-rule=\"evenodd\" fill-opacity=\"1\" /><path clip-path=\"url(#clip360)\" d=\"M674.299 303.874 L674.299 307.902 Q672.493 306.976 670.549 306.513 Q668.605 306.05 666.521 306.05 Q663.35 306.05 661.753 307.022 Q660.179 307.994 660.179 309.939 Q660.179 311.42 661.313 312.277 Q662.447 313.11 665.873 313.874 L667.331 314.198 Q671.868 315.17 673.767 316.952 Q675.688 318.712 675.688 321.883 Q675.688 325.494 672.818 327.601 Q669.97 329.707 664.97 329.707 Q662.887 329.707 660.618 329.29 Q658.373 328.897 655.873 328.087 L655.873 323.689 Q658.234 324.915 660.526 325.54 Q662.818 326.142 665.063 326.142 Q668.072 326.142 669.693 325.124 Q671.313 324.082 671.313 322.207 Q671.313 320.471 670.132 319.545 Q668.975 318.619 665.017 317.763 L663.535 317.415 Q659.577 316.582 657.818 314.869 Q656.058 313.133 656.058 310.124 Q656.058 306.466 658.651 304.476 Q661.243 302.485 666.012 302.485 Q668.373 302.485 670.456 302.832 Q672.54 303.179 674.299 303.874 Z\" fill=\"#000000\" fill-rule=\"evenodd\" fill-opacity=\"1\" /><path clip-path=\"url(#clip360)\" d=\"M682.47 303.11 L686.729 303.11 L686.729 329.036 L682.47 329.036 L682.47 303.11 M682.47 293.017 L686.729 293.017 L686.729 298.411 L682.47 298.411 L682.47 293.017 Z\" fill=\"#000000\" fill-rule=\"evenodd\" fill-opacity=\"1\" /><path clip-path=\"url(#clip360)\" d=\"M699.854 295.749 L699.854 303.11 L708.627 303.11 L708.627 306.42 L699.854 306.42 L699.854 320.494 Q699.854 323.665 700.711 324.568 Q701.59 325.471 704.253 325.471 L708.627 325.471 L708.627 329.036 L704.253 329.036 Q699.322 329.036 697.447 327.207 Q695.572 325.355 695.572 320.494 L695.572 306.42 L692.447 306.42 L692.447 303.11 L695.572 303.11 L695.572 295.749 L699.854 295.749 Z\" fill=\"#000000\" fill-rule=\"evenodd\" fill-opacity=\"1\" /><path clip-path=\"url(#clip360)\" d=\"M714.229 303.11 L718.489 303.11 L718.489 329.036 L714.229 329.036 L714.229 303.11 M714.229 293.017 L718.489 293.017 L718.489 298.411 L714.229 298.411 L714.229 293.017 Z\" fill=\"#000000\" fill-rule=\"evenodd\" fill-opacity=\"1\" /><path clip-path=\"url(#clip360)\" d=\"M724.345 303.11 L728.859 303.11 L736.961 324.869 L745.062 303.11 L749.576 303.11 L739.854 329.036 L734.067 329.036 L724.345 303.11 Z\" fill=\"#000000\" fill-rule=\"evenodd\" fill-opacity=\"1\" /><path clip-path=\"url(#clip360)\" d=\"M777.632 315.008 L777.632 317.091 L758.049 317.091 Q758.326 321.489 760.687 323.804 Q763.072 326.096 767.308 326.096 Q769.761 326.096 772.053 325.494 Q774.368 324.892 776.636 323.689 L776.636 327.716 Q774.345 328.688 771.937 329.198 Q769.53 329.707 767.053 329.707 Q760.849 329.707 757.215 326.096 Q753.604 322.485 753.604 316.327 Q753.604 309.962 757.03 306.235 Q760.479 302.485 766.312 302.485 Q771.544 302.485 774.576 305.865 Q777.632 309.221 777.632 315.008 M773.373 313.758 Q773.326 310.263 771.405 308.179 Q769.507 306.096 766.359 306.096 Q762.794 306.096 760.641 308.11 Q758.511 310.124 758.187 313.781 L773.373 313.758 Z\" fill=\"#000000\" fill-rule=\"evenodd\" fill-opacity=\"1\" /><path clip-path=\"url(#clip360)\" d=\"M800.247 307.508 L829.923 307.508 L829.923 311.397 L800.247 311.397 L800.247 307.508 M800.247 316.952 L829.923 316.952 L829.923 320.888 L800.247 320.888 L800.247 316.952 Z\" fill=\"#000000\" fill-rule=\"evenodd\" fill-opacity=\"1\" /><path clip-path=\"url(#clip360)\" d=\"M859.113 325.101 L875.432 325.101 L875.432 329.036 L853.488 329.036 L853.488 325.101 Q856.15 322.346 860.733 317.716 Q865.34 313.064 866.52 311.721 Q868.766 309.198 869.645 307.462 Q870.548 305.703 870.548 304.013 Q870.548 301.258 868.603 299.522 Q866.682 297.786 863.58 297.786 Q861.381 297.786 858.928 298.55 Q856.497 299.314 853.719 300.865 L853.719 296.142 Q856.543 295.008 858.997 294.429 Q861.451 293.851 863.488 293.851 Q868.858 293.851 872.053 296.536 Q875.247 299.221 875.247 303.712 Q875.247 305.841 874.437 307.763 Q873.65 309.661 871.543 312.253 Q870.965 312.925 867.863 316.142 Q864.761 319.337 859.113 325.101 Z\" fill=\"#000000\" fill-rule=\"evenodd\" fill-opacity=\"1\" /><path clip-path=\"url(#clip360)\" d=\"M895.247 297.554 Q891.636 297.554 889.807 301.119 Q888.002 304.661 888.002 311.79 Q888.002 318.897 889.807 322.462 Q891.636 326.003 895.247 326.003 Q898.881 326.003 900.687 322.462 Q902.515 318.897 902.515 311.79 Q902.515 304.661 900.687 301.119 Q898.881 297.554 895.247 297.554 M895.247 293.851 Q901.057 293.851 904.113 298.457 Q907.191 303.04 907.191 311.79 Q907.191 320.517 904.113 325.124 Q901.057 329.707 895.247 329.707 Q889.437 329.707 886.358 325.124 Q883.302 320.517 883.302 311.79 Q883.302 303.04 886.358 298.457 Q889.437 293.851 895.247 293.851 Z\" fill=\"#000000\" fill-rule=\"evenodd\" fill-opacity=\"1\" /><polyline clip-path=\"url(#clip360)\" style=\"stroke:#c271d2; stroke-linecap:butt; stroke-linejoin:round; stroke-width:4; stroke-opacity:1; fill:none\" stroke-dasharray=\"2, 4\" points=\"\n",
       "  317.098,363.596 425.632,363.596 \n",
       "  \"/>\n",
       "<path clip-path=\"url(#clip360)\" d=\"M465.434 365.228 L465.434 380.876 L461.175 380.876 L461.175 365.367 Q461.175 361.686 459.74 359.857 Q458.305 358.029 455.434 358.029 Q451.985 358.029 449.995 360.228 Q448.004 362.427 448.004 366.223 L448.004 380.876 L443.722 380.876 L443.722 354.95 L448.004 354.95 L448.004 358.978 Q449.532 356.64 451.592 355.482 Q453.675 354.325 456.383 354.325 Q460.851 354.325 463.143 357.103 Q465.434 359.857 465.434 365.228 Z\" fill=\"#000000\" fill-rule=\"evenodd\" fill-opacity=\"1\" /><path clip-path=\"url(#clip360)\" d=\"M473.49 370.644 L473.49 354.95 L477.749 354.95 L477.749 370.482 Q477.749 374.163 479.184 376.015 Q480.619 377.843 483.49 377.843 Q486.939 377.843 488.93 375.644 Q490.943 373.445 490.943 369.649 L490.943 354.95 L495.203 354.95 L495.203 380.876 L490.943 380.876 L490.943 376.894 Q489.393 379.255 487.332 380.413 Q485.295 381.547 482.587 381.547 Q478.119 381.547 475.805 378.769 Q473.49 375.991 473.49 370.644 M484.207 354.325 L484.207 354.325 Z\" fill=\"#000000\" fill-rule=\"evenodd\" fill-opacity=\"1\" /><path clip-path=\"url(#clip360)\" d=\"M524.161 359.927 Q525.758 357.056 527.98 355.691 Q530.203 354.325 533.212 354.325 Q537.263 354.325 539.462 357.172 Q541.661 359.996 541.661 365.228 L541.661 380.876 L537.378 380.876 L537.378 365.367 Q537.378 361.64 536.059 359.834 Q534.74 358.029 532.031 358.029 Q528.721 358.029 526.8 360.228 Q524.878 362.427 524.878 366.223 L524.878 380.876 L520.596 380.876 L520.596 365.367 Q520.596 361.617 519.277 359.834 Q517.957 358.029 515.203 358.029 Q511.939 358.029 510.017 360.251 Q508.096 362.45 508.096 366.223 L508.096 380.876 L503.814 380.876 L503.814 354.95 L508.096 354.95 L508.096 358.978 Q509.554 356.593 511.592 355.459 Q513.629 354.325 516.429 354.325 Q519.254 354.325 521.221 355.76 Q523.212 357.195 524.161 359.927 Z\" fill=\"#000000\" fill-rule=\"evenodd\" fill-opacity=\"1\" /><path clip-path=\"url(#clip360)\" d=\"M569.855 388.746 L569.855 392.056 L545.226 392.056 L545.226 388.746 L569.855 388.746 Z\" fill=\"#000000\" fill-rule=\"evenodd\" fill-opacity=\"1\" /><path clip-path=\"url(#clip360)\" d=\"M590.387 355.714 L590.387 359.742 Q588.582 358.816 586.637 358.353 Q584.693 357.89 582.61 357.89 Q579.438 357.89 577.841 358.862 Q576.267 359.834 576.267 361.779 Q576.267 363.26 577.401 364.117 Q578.536 364.95 581.962 365.714 L583.42 366.038 Q587.957 367.01 589.855 368.792 Q591.776 370.552 591.776 373.723 Q591.776 377.334 588.906 379.441 Q586.059 381.547 581.059 381.547 Q578.975 381.547 576.707 381.13 Q574.462 380.737 571.962 379.927 L571.962 375.529 Q574.323 376.755 576.614 377.38 Q578.906 377.982 581.151 377.982 Q584.161 377.982 585.781 376.964 Q587.401 375.922 587.401 374.047 Q587.401 372.311 586.221 371.385 Q585.063 370.459 581.105 369.603 L579.624 369.255 Q575.665 368.422 573.906 366.709 Q572.147 364.973 572.147 361.964 Q572.147 358.306 574.739 356.316 Q577.332 354.325 582.1 354.325 Q584.461 354.325 586.545 354.672 Q588.628 355.019 590.387 355.714 Z\" fill=\"#000000\" fill-rule=\"evenodd\" fill-opacity=\"1\" /><path clip-path=\"url(#clip360)\" d=\"M620.734 366.848 L620.734 368.931 L601.151 368.931 Q601.429 373.329 603.79 375.644 Q606.174 377.936 610.41 377.936 Q612.864 377.936 615.156 377.334 Q617.471 376.732 619.739 375.529 L619.739 379.556 Q617.447 380.528 615.04 381.038 Q612.633 381.547 610.156 381.547 Q603.952 381.547 600.318 377.936 Q596.707 374.325 596.707 368.167 Q596.707 361.802 600.133 358.075 Q603.582 354.325 609.415 354.325 Q614.647 354.325 617.679 357.705 Q620.734 361.061 620.734 366.848 M616.475 365.598 Q616.429 362.103 614.508 360.019 Q612.609 357.936 609.461 357.936 Q605.897 357.936 603.744 359.95 Q601.614 361.964 601.29 365.621 L616.475 365.598 Z\" fill=\"#000000\" fill-rule=\"evenodd\" fill-opacity=\"1\" /><path clip-path=\"url(#clip360)\" d=\"M649.276 365.228 L649.276 380.876 L645.017 380.876 L645.017 365.367 Q645.017 361.686 643.582 359.857 Q642.146 358.029 639.276 358.029 Q635.827 358.029 633.836 360.228 Q631.845 362.427 631.845 366.223 L631.845 380.876 L627.563 380.876 L627.563 354.95 L631.845 354.95 L631.845 358.978 Q633.373 356.64 635.433 355.482 Q637.517 354.325 640.225 354.325 Q644.693 354.325 646.984 357.103 Q649.276 359.857 649.276 365.228 Z\" fill=\"#000000\" fill-rule=\"evenodd\" fill-opacity=\"1\" /><path clip-path=\"url(#clip360)\" d=\"M674.299 355.714 L674.299 359.742 Q672.493 358.816 670.549 358.353 Q668.605 357.89 666.521 357.89 Q663.35 357.89 661.753 358.862 Q660.179 359.834 660.179 361.779 Q660.179 363.26 661.313 364.117 Q662.447 364.95 665.873 365.714 L667.331 366.038 Q671.868 367.01 673.767 368.792 Q675.688 370.552 675.688 373.723 Q675.688 377.334 672.818 379.441 Q669.97 381.547 664.97 381.547 Q662.887 381.547 660.618 381.13 Q658.373 380.737 655.873 379.927 L655.873 375.529 Q658.234 376.755 660.526 377.38 Q662.818 377.982 665.063 377.982 Q668.072 377.982 669.693 376.964 Q671.313 375.922 671.313 374.047 Q671.313 372.311 670.132 371.385 Q668.975 370.459 665.017 369.603 L663.535 369.255 Q659.577 368.422 657.818 366.709 Q656.058 364.973 656.058 361.964 Q656.058 358.306 658.651 356.316 Q661.243 354.325 666.012 354.325 Q668.373 354.325 670.456 354.672 Q672.54 355.019 674.299 355.714 Z\" fill=\"#000000\" fill-rule=\"evenodd\" fill-opacity=\"1\" /><path clip-path=\"url(#clip360)\" d=\"M682.47 354.95 L686.729 354.95 L686.729 380.876 L682.47 380.876 L682.47 354.95 M682.47 344.857 L686.729 344.857 L686.729 350.251 L682.47 350.251 L682.47 344.857 Z\" fill=\"#000000\" fill-rule=\"evenodd\" fill-opacity=\"1\" /><path clip-path=\"url(#clip360)\" d=\"M699.854 347.589 L699.854 354.95 L708.627 354.95 L708.627 358.26 L699.854 358.26 L699.854 372.334 Q699.854 375.505 700.711 376.408 Q701.59 377.311 704.253 377.311 L708.627 377.311 L708.627 380.876 L704.253 380.876 Q699.322 380.876 697.447 379.047 Q695.572 377.195 695.572 372.334 L695.572 358.26 L692.447 358.26 L692.447 354.95 L695.572 354.95 L695.572 347.589 L699.854 347.589 Z\" fill=\"#000000\" fill-rule=\"evenodd\" fill-opacity=\"1\" /><path clip-path=\"url(#clip360)\" d=\"M714.229 354.95 L718.489 354.95 L718.489 380.876 L714.229 380.876 L714.229 354.95 M714.229 344.857 L718.489 344.857 L718.489 350.251 L714.229 350.251 L714.229 344.857 Z\" fill=\"#000000\" fill-rule=\"evenodd\" fill-opacity=\"1\" /><path clip-path=\"url(#clip360)\" d=\"M724.345 354.95 L728.859 354.95 L736.961 376.709 L745.062 354.95 L749.576 354.95 L739.854 380.876 L734.067 380.876 L724.345 354.95 Z\" fill=\"#000000\" fill-rule=\"evenodd\" fill-opacity=\"1\" /><path clip-path=\"url(#clip360)\" d=\"M777.632 366.848 L777.632 368.931 L758.049 368.931 Q758.326 373.329 760.687 375.644 Q763.072 377.936 767.308 377.936 Q769.761 377.936 772.053 377.334 Q774.368 376.732 776.636 375.529 L776.636 379.556 Q774.345 380.528 771.937 381.038 Q769.53 381.547 767.053 381.547 Q760.849 381.547 757.215 377.936 Q753.604 374.325 753.604 368.167 Q753.604 361.802 757.03 358.075 Q760.479 354.325 766.312 354.325 Q771.544 354.325 774.576 357.705 Q777.632 361.061 777.632 366.848 M773.373 365.598 Q773.326 362.103 771.405 360.019 Q769.507 357.936 766.359 357.936 Q762.794 357.936 760.641 359.95 Q758.511 361.964 758.187 365.621 L773.373 365.598 Z\" fill=\"#000000\" fill-rule=\"evenodd\" fill-opacity=\"1\" /><path clip-path=\"url(#clip360)\" d=\"M800.247 359.348 L829.923 359.348 L829.923 363.237 L800.247 363.237 L800.247 359.348 M800.247 368.792 L829.923 368.792 L829.923 372.728 L800.247 372.728 L800.247 368.792 Z\" fill=\"#000000\" fill-rule=\"evenodd\" fill-opacity=\"1\" /><path clip-path=\"url(#clip360)\" d=\"M869.252 362.242 Q872.608 362.959 874.483 365.228 Q876.381 367.496 876.381 370.829 Q876.381 375.945 872.863 378.746 Q869.344 381.547 862.863 381.547 Q860.687 381.547 858.372 381.107 Q856.08 380.691 853.627 379.834 L853.627 375.32 Q855.571 376.454 857.886 377.033 Q860.201 377.612 862.724 377.612 Q867.122 377.612 869.414 375.876 Q871.728 374.14 871.728 370.829 Q871.728 367.774 869.576 366.061 Q867.446 364.325 863.627 364.325 L859.599 364.325 L859.599 360.482 L863.812 360.482 Q867.261 360.482 869.09 359.117 Q870.918 357.728 870.918 355.135 Q870.918 352.473 869.02 351.061 Q867.145 349.626 863.627 349.626 Q861.705 349.626 859.506 350.043 Q857.307 350.459 854.668 351.339 L854.668 347.172 Q857.33 346.431 859.645 346.061 Q861.983 345.691 864.043 345.691 Q869.367 345.691 872.469 348.121 Q875.571 350.529 875.571 354.649 Q875.571 357.519 873.928 359.51 Q872.284 361.478 869.252 362.242 Z\" fill=\"#000000\" fill-rule=\"evenodd\" fill-opacity=\"1\" /><path clip-path=\"url(#clip360)\" d=\"M895.247 349.394 Q891.636 349.394 889.807 352.959 Q888.002 356.501 888.002 363.63 Q888.002 370.737 889.807 374.302 Q891.636 377.843 895.247 377.843 Q898.881 377.843 900.687 374.302 Q902.515 370.737 902.515 363.63 Q902.515 356.501 900.687 352.959 Q898.881 349.394 895.247 349.394 M895.247 345.691 Q901.057 345.691 904.113 350.297 Q907.191 354.88 907.191 363.63 Q907.191 372.357 904.113 376.964 Q901.057 381.547 895.247 381.547 Q889.437 381.547 886.358 376.964 Q883.302 372.357 883.302 363.63 Q883.302 354.88 886.358 350.297 Q889.437 345.691 895.247 345.691 Z\" fill=\"#000000\" fill-rule=\"evenodd\" fill-opacity=\"1\" /></svg>\n"
      ]
     },
     "execution_count": 35,
     "metadata": {},
     "output_type": "execute_result"
    }
   ],
   "source": [
    "plot(table[!, \"0\"], label=\"num_sensitive = 0\", legend=:topleft)\n",
    "plot!(table[!, \"10\"], label=\"num_sensitive = 10\")\n",
    "plot!(table[!, \"20\"], label=\"num_sensitive = 20\", style=:dash)\n",
    "plot!(table[!, \"30\"], label=\"num_sensitive = 30\", style=:dot)\n",
    "xlabel!(\"Number of correct identifications\")\n",
    "ylabel!(\"PMF\")\n",
    "title!(\"Gluten sensitivity\")"
   ]
  },
  {
   "cell_type": "code",
   "execution_count": 36,
   "id": "f744300c-2dfd-43b2-a177-cb60a5d550da",
   "metadata": {},
   "outputs": [],
   "source": [
    "function dfrow(df, n)\n",
    "    # helper to get row with *index* `n` from `df`. Note this is not\n",
    "    # the same as the `n`-th *row*\n",
    "    # In addition, we want to drop the `index` column from the result.\n",
    "    # Not the prettiest sight :(\n",
    "    row = select(table, Not(:index))[findfirst(==(n), table.index), :]\n",
    "    return collect(row)\n",
    "end\n",
    "\n",
    "likelihood1 = dfrow(table, 12);"
   ]
  },
  {
   "cell_type": "code",
   "execution_count": 37,
   "id": "a4da051d-13a4-4078-aca2-a2e0b57381cb",
   "metadata": {},
   "outputs": [],
   "source": [
    "hypos = 0:n\n",
    "prior = Pmf(1, hypos);"
   ]
  },
  {
   "cell_type": "code",
   "execution_count": 38,
   "id": "53a6ae41-0b28-4677-9dc1-e1698b8d6b99",
   "metadata": {},
   "outputs": [
    {
     "data": {
      "text/plain": [
       "0.4754741648615129"
      ]
     },
     "execution_count": 38,
     "metadata": {},
     "output_type": "execute_result"
    }
   ],
   "source": [
    "posterior1 = prior .* likelihood1\n",
    "normalize!(posterior1)"
   ]
  },
  {
   "cell_type": "code",
   "execution_count": 39,
   "id": "d0a7ac6f-3751-4dc1-bf1b-a81e53a1e7d1",
   "metadata": {},
   "outputs": [
    {
     "data": {
      "text/plain": [
       "1.7818649765887364"
      ]
     },
     "execution_count": 39,
     "metadata": {},
     "output_type": "execute_result"
    }
   ],
   "source": [
    "likelihood2 = dfrow(table, 20)\n",
    "posterior2 = prior .* likelihood2\n",
    "normalize!(posterior2)"
   ]
  },
  {
   "cell_type": "code",
   "execution_count": 40,
   "id": "e4f5dc7e-031c-4ec7-b8da-43092b8344e0",
   "metadata": {},
   "outputs": [
    {
     "data": {
      "image/svg+xml": [
       "<?xml version=\"1.0\" encoding=\"utf-8\"?>\n",
       "<svg xmlns=\"http://www.w3.org/2000/svg\" xmlns:xlink=\"http://www.w3.org/1999/xlink\" width=\"480\" height=\"320\" viewBox=\"0 0 1920 1280\">\n",
       "<defs>\n",
       "  <clipPath id=\"clip400\">\n",
       "    <rect x=\"0\" y=\"0\" width=\"1920\" height=\"1280\"/>\n",
       "  </clipPath>\n",
       "</defs>\n",
       "<path clip-path=\"url(#clip400)\" d=\"\n",
       "M0 1280 L1920 1280 L1920 0 L0 0  Z\n",
       "  \" fill=\"#ffffff\" fill-rule=\"evenodd\" fill-opacity=\"1\"/>\n",
       "<defs>\n",
       "  <clipPath id=\"clip401\">\n",
       "    <rect x=\"384\" y=\"0\" width=\"1345\" height=\"1280\"/>\n",
       "  </clipPath>\n",
       "</defs>\n",
       "<path clip-path=\"url(#clip400)\" d=\"\n",
       "M244.742 1106.38 L1872.76 1106.38 L1872.76 123.472 L244.742 123.472  Z\n",
       "  \" fill=\"#ffffff\" fill-rule=\"evenodd\" fill-opacity=\"1\"/>\n",
       "<defs>\n",
       "  <clipPath id=\"clip402\">\n",
       "    <rect x=\"244\" y=\"123\" width=\"1629\" height=\"984\"/>\n",
       "  </clipPath>\n",
       "</defs>\n",
       "<polyline clip-path=\"url(#clip402)\" style=\"stroke:#000000; stroke-linecap:butt; stroke-linejoin:round; stroke-width:2; stroke-opacity:0.1; fill:none\" points=\"\n",
       "  290.818,1106.38 290.818,123.472 \n",
       "  \"/>\n",
       "<polyline clip-path=\"url(#clip402)\" style=\"stroke:#000000; stroke-linecap:butt; stroke-linejoin:round; stroke-width:2; stroke-opacity:0.1; fill:none\" points=\"\n",
       "  729.636,1106.38 729.636,123.472 \n",
       "  \"/>\n",
       "<polyline clip-path=\"url(#clip402)\" style=\"stroke:#000000; stroke-linecap:butt; stroke-linejoin:round; stroke-width:2; stroke-opacity:0.1; fill:none\" points=\"\n",
       "  1168.45,1106.38 1168.45,123.472 \n",
       "  \"/>\n",
       "<polyline clip-path=\"url(#clip402)\" style=\"stroke:#000000; stroke-linecap:butt; stroke-linejoin:round; stroke-width:2; stroke-opacity:0.1; fill:none\" points=\"\n",
       "  1607.27,1106.38 1607.27,123.472 \n",
       "  \"/>\n",
       "<polyline clip-path=\"url(#clip400)\" style=\"stroke:#000000; stroke-linecap:butt; stroke-linejoin:round; stroke-width:4; stroke-opacity:1; fill:none\" points=\"\n",
       "  244.742,1106.38 1872.76,1106.38 \n",
       "  \"/>\n",
       "<polyline clip-path=\"url(#clip400)\" style=\"stroke:#000000; stroke-linecap:butt; stroke-linejoin:round; stroke-width:4; stroke-opacity:1; fill:none\" points=\"\n",
       "  290.818,1106.38 290.818,1087.48 \n",
       "  \"/>\n",
       "<polyline clip-path=\"url(#clip400)\" style=\"stroke:#000000; stroke-linecap:butt; stroke-linejoin:round; stroke-width:4; stroke-opacity:1; fill:none\" points=\"\n",
       "  729.636,1106.38 729.636,1087.48 \n",
       "  \"/>\n",
       "<polyline clip-path=\"url(#clip400)\" style=\"stroke:#000000; stroke-linecap:butt; stroke-linejoin:round; stroke-width:4; stroke-opacity:1; fill:none\" points=\"\n",
       "  1168.45,1106.38 1168.45,1087.48 \n",
       "  \"/>\n",
       "<polyline clip-path=\"url(#clip400)\" style=\"stroke:#000000; stroke-linecap:butt; stroke-linejoin:round; stroke-width:4; stroke-opacity:1; fill:none\" points=\"\n",
       "  1607.27,1106.38 1607.27,1087.48 \n",
       "  \"/>\n",
       "<path clip-path=\"url(#clip400)\" d=\"M290.818 1133.46 Q287.207 1133.46 285.378 1137.02 Q283.573 1140.56 283.573 1147.69 Q283.573 1154.8 285.378 1158.37 Q287.207 1161.91 290.818 1161.91 Q294.452 1161.91 296.258 1158.37 Q298.086 1154.8 298.086 1147.69 Q298.086 1140.56 296.258 1137.02 Q294.452 1133.46 290.818 1133.46 M290.818 1129.75 Q296.628 1129.75 299.684 1134.36 Q302.762 1138.94 302.762 1147.69 Q302.762 1156.42 299.684 1161.03 Q296.628 1165.61 290.818 1165.61 Q285.008 1165.61 281.929 1161.03 Q278.874 1156.42 278.874 1147.69 Q278.874 1138.94 281.929 1134.36 Q285.008 1129.75 290.818 1129.75 Z\" fill=\"#000000\" fill-rule=\"evenodd\" fill-opacity=\"1\" /><path clip-path=\"url(#clip400)\" d=\"M704.323 1161 L711.962 1161 L711.962 1134.64 L703.652 1136.31 L703.652 1132.05 L711.916 1130.38 L716.592 1130.38 L716.592 1161 L724.231 1161 L724.231 1164.94 L704.323 1164.94 L704.323 1161 Z\" fill=\"#000000\" fill-rule=\"evenodd\" fill-opacity=\"1\" /><path clip-path=\"url(#clip400)\" d=\"M743.675 1133.46 Q740.064 1133.46 738.235 1137.02 Q736.43 1140.56 736.43 1147.69 Q736.43 1154.8 738.235 1158.37 Q740.064 1161.91 743.675 1161.91 Q747.309 1161.91 749.115 1158.37 Q750.943 1154.8 750.943 1147.69 Q750.943 1140.56 749.115 1137.02 Q747.309 1133.46 743.675 1133.46 M743.675 1129.75 Q749.485 1129.75 752.541 1134.36 Q755.619 1138.94 755.619 1147.69 Q755.619 1156.42 752.541 1161.03 Q749.485 1165.61 743.675 1165.61 Q737.865 1165.61 734.786 1161.03 Q731.731 1156.42 731.731 1147.69 Q731.731 1138.94 734.786 1134.36 Q737.865 1129.75 743.675 1129.75 Z\" fill=\"#000000\" fill-rule=\"evenodd\" fill-opacity=\"1\" /><path clip-path=\"url(#clip400)\" d=\"M1147.23 1161 L1163.55 1161 L1163.55 1164.94 L1141.6 1164.94 L1141.6 1161 Q1144.26 1158.25 1148.85 1153.62 Q1153.45 1148.97 1154.63 1147.63 Q1156.88 1145.1 1157.76 1143.37 Q1158.66 1141.61 1158.66 1139.92 Q1158.66 1137.16 1156.72 1135.43 Q1154.8 1133.69 1151.69 1133.69 Q1149.5 1133.69 1147.04 1134.45 Q1144.61 1135.22 1141.83 1136.77 L1141.83 1132.05 Q1144.66 1130.91 1147.11 1130.33 Q1149.56 1129.75 1151.6 1129.75 Q1156.97 1129.75 1160.17 1132.44 Q1163.36 1135.13 1163.36 1139.62 Q1163.36 1141.75 1162.55 1143.67 Q1161.76 1145.56 1159.66 1148.16 Q1159.08 1148.83 1155.98 1152.05 Q1152.87 1155.24 1147.23 1161 Z\" fill=\"#000000\" fill-rule=\"evenodd\" fill-opacity=\"1\" /><path clip-path=\"url(#clip400)\" d=\"M1183.36 1133.46 Q1179.75 1133.46 1177.92 1137.02 Q1176.12 1140.56 1176.12 1147.69 Q1176.12 1154.8 1177.92 1158.37 Q1179.75 1161.91 1183.36 1161.91 Q1186.99 1161.91 1188.8 1158.37 Q1190.63 1154.8 1190.63 1147.69 Q1190.63 1140.56 1188.8 1137.02 Q1186.99 1133.46 1183.36 1133.46 M1183.36 1129.75 Q1189.17 1129.75 1192.23 1134.36 Q1195.31 1138.94 1195.31 1147.69 Q1195.31 1156.42 1192.23 1161.03 Q1189.17 1165.61 1183.36 1165.61 Q1177.55 1165.61 1174.47 1161.03 Q1171.42 1156.42 1171.42 1147.69 Q1171.42 1138.94 1174.47 1134.36 Q1177.55 1129.75 1183.36 1129.75 Z\" fill=\"#000000\" fill-rule=\"evenodd\" fill-opacity=\"1\" /><path clip-path=\"url(#clip400)\" d=\"M1596.11 1146.31 Q1599.47 1147.02 1601.35 1149.29 Q1603.24 1151.56 1603.24 1154.89 Q1603.24 1160.01 1599.72 1162.81 Q1596.21 1165.61 1589.72 1165.61 Q1587.55 1165.61 1585.23 1165.17 Q1582.94 1164.75 1580.49 1163.9 L1580.49 1159.38 Q1582.43 1160.52 1584.75 1161.1 Q1587.06 1161.68 1589.59 1161.68 Q1593.98 1161.68 1596.28 1159.94 Q1598.59 1158.2 1598.59 1154.89 Q1598.59 1151.84 1596.44 1150.13 Q1594.31 1148.39 1590.49 1148.39 L1586.46 1148.39 L1586.46 1144.55 L1590.67 1144.55 Q1594.12 1144.55 1595.95 1143.18 Q1597.78 1141.79 1597.78 1139.2 Q1597.78 1136.54 1595.88 1135.13 Q1594.01 1133.69 1590.49 1133.69 Q1588.57 1133.69 1586.37 1134.11 Q1584.17 1134.52 1581.53 1135.4 L1581.53 1131.24 Q1584.19 1130.5 1586.51 1130.13 Q1588.85 1129.75 1590.91 1129.75 Q1596.23 1129.75 1599.33 1132.19 Q1602.43 1134.59 1602.43 1138.71 Q1602.43 1141.58 1600.79 1143.57 Q1599.15 1145.54 1596.11 1146.31 Z\" fill=\"#000000\" fill-rule=\"evenodd\" fill-opacity=\"1\" /><path clip-path=\"url(#clip400)\" d=\"M1622.11 1133.46 Q1618.5 1133.46 1616.67 1137.02 Q1614.86 1140.56 1614.86 1147.69 Q1614.86 1154.8 1616.67 1158.37 Q1618.5 1161.91 1622.11 1161.91 Q1625.74 1161.91 1627.55 1158.37 Q1629.38 1154.8 1629.38 1147.69 Q1629.38 1140.56 1627.55 1137.02 Q1625.74 1133.46 1622.11 1133.46 M1622.11 1129.75 Q1627.92 1129.75 1630.97 1134.36 Q1634.05 1138.94 1634.05 1147.69 Q1634.05 1156.42 1630.97 1161.03 Q1627.92 1165.61 1622.11 1165.61 Q1616.3 1165.61 1613.22 1161.03 Q1610.16 1156.42 1610.16 1147.69 Q1610.16 1138.94 1613.22 1134.36 Q1616.3 1129.75 1622.11 1129.75 Z\" fill=\"#000000\" fill-rule=\"evenodd\" fill-opacity=\"1\" /><path clip-path=\"url(#clip400)\" d=\"M590.106 1196.52 L598.763 1196.52 L619.833 1236.28 L619.833 1196.52 L626.072 1196.52 L626.072 1244.04 L617.415 1244.04 L596.344 1204.29 L596.344 1244.04 L590.106 1244.04 L590.106 1196.52 Z\" fill=\"#000000\" fill-rule=\"evenodd\" fill-opacity=\"1\" /><path clip-path=\"url(#clip400)\" d=\"M638.008 1229.98 L638.008 1208.4 L643.864 1208.4 L643.864 1229.75 Q643.864 1234.81 645.837 1237.36 Q647.811 1239.87 651.758 1239.87 Q656.5 1239.87 659.237 1236.85 Q662.006 1233.83 662.006 1228.61 L662.006 1208.4 L667.863 1208.4 L667.863 1244.04 L662.006 1244.04 L662.006 1238.57 Q659.874 1241.82 657.041 1243.41 Q654.24 1244.97 650.516 1244.97 Q644.373 1244.97 641.19 1241.15 Q638.008 1237.33 638.008 1229.98 M652.744 1207.54 L652.744 1207.54 Z\" fill=\"#000000\" fill-rule=\"evenodd\" fill-opacity=\"1\" /><path clip-path=\"url(#clip400)\" d=\"M707.68 1215.24 Q709.876 1211.29 712.932 1209.41 Q715.987 1207.54 720.125 1207.54 Q725.695 1207.54 728.719 1211.45 Q731.743 1215.33 731.743 1222.53 L731.743 1244.04 L725.854 1244.04 L725.854 1222.72 Q725.854 1217.59 724.04 1215.11 Q722.226 1212.63 718.502 1212.63 Q713.95 1212.63 711.309 1215.65 Q708.667 1218.68 708.667 1223.9 L708.667 1244.04 L702.779 1244.04 L702.779 1222.72 Q702.779 1217.56 700.964 1215.11 Q699.15 1212.63 695.363 1212.63 Q690.875 1212.63 688.233 1215.68 Q685.591 1218.71 685.591 1223.9 L685.591 1244.04 L679.703 1244.04 L679.703 1208.4 L685.591 1208.4 L685.591 1213.93 Q687.596 1210.66 690.397 1209.1 Q693.198 1207.54 697.05 1207.54 Q700.933 1207.54 703.638 1209.51 Q706.375 1211.48 707.68 1215.24 Z\" fill=\"#000000\" fill-rule=\"evenodd\" fill-opacity=\"1\" /><path clip-path=\"url(#clip400)\" d=\"M769.014 1226.25 Q769.014 1219.79 766.34 1216.13 Q763.698 1212.44 759.052 1212.44 Q754.405 1212.44 751.731 1216.13 Q749.089 1219.79 749.089 1226.25 Q749.089 1232.71 751.731 1236.4 Q754.405 1240.07 759.052 1240.07 Q763.698 1240.07 766.34 1236.4 Q769.014 1232.71 769.014 1226.25 M749.089 1213.81 Q750.935 1210.62 753.736 1209.1 Q756.569 1207.54 760.484 1207.54 Q766.977 1207.54 771.019 1212.69 Q775.093 1217.85 775.093 1226.25 Q775.093 1234.65 771.019 1239.81 Q766.977 1244.97 760.484 1244.97 Q756.569 1244.97 753.736 1243.44 Q750.935 1241.88 749.089 1238.7 L749.089 1244.04 L743.201 1244.04 L743.201 1194.52 L749.089 1194.52 L749.089 1213.81 Z\" fill=\"#000000\" fill-rule=\"evenodd\" fill-opacity=\"1\" /><path clip-path=\"url(#clip400)\" d=\"M815.293 1224.76 L815.293 1227.62 L788.366 1227.62 Q788.748 1233.67 791.994 1236.85 Q795.272 1240 801.097 1240 Q804.471 1240 807.622 1239.17 Q810.805 1238.35 813.924 1236.69 L813.924 1242.23 Q810.773 1243.57 807.463 1244.27 Q804.153 1244.97 800.747 1244.97 Q792.217 1244.97 787.22 1240 Q782.255 1235.04 782.255 1226.57 Q782.255 1217.82 786.965 1212.69 Q791.708 1207.54 799.728 1207.54 Q806.922 1207.54 811.091 1212.18 Q815.293 1216.8 815.293 1224.76 M809.436 1223.04 Q809.372 1218.23 806.731 1215.37 Q804.121 1212.5 799.792 1212.5 Q794.89 1212.5 791.93 1215.27 Q789.002 1218.04 788.557 1223.07 L809.436 1223.04 Z\" fill=\"#000000\" fill-rule=\"evenodd\" fill-opacity=\"1\" /><path clip-path=\"url(#clip400)\" d=\"M845.561 1213.87 Q844.575 1213.3 843.397 1213.04 Q842.251 1212.76 840.851 1212.76 Q835.886 1212.76 833.212 1216 Q830.57 1219.22 830.57 1225.27 L830.57 1244.04 L824.682 1244.04 L824.682 1208.4 L830.57 1208.4 L830.57 1213.93 Q832.416 1210.69 835.376 1209.13 Q838.336 1207.54 842.57 1207.54 Q843.174 1207.54 843.906 1207.63 Q844.638 1207.7 845.53 1207.85 L845.561 1213.87 Z\" fill=\"#000000\" fill-rule=\"evenodd\" fill-opacity=\"1\" /><path clip-path=\"url(#clip400)\" d=\"M886.238 1212.5 Q881.528 1212.5 878.79 1216.19 Q876.053 1219.85 876.053 1226.25 Q876.053 1232.65 878.759 1236.34 Q881.496 1240 886.238 1240 Q890.917 1240 893.654 1236.31 Q896.392 1232.62 896.392 1226.25 Q896.392 1219.92 893.654 1216.23 Q890.917 1212.5 886.238 1212.5 M886.238 1207.54 Q893.877 1207.54 898.238 1212.5 Q902.598 1217.47 902.598 1226.25 Q902.598 1235 898.238 1240 Q893.877 1244.97 886.238 1244.97 Q878.568 1244.97 874.207 1240 Q869.878 1235 869.878 1226.25 Q869.878 1217.47 874.207 1212.5 Q878.568 1207.54 886.238 1207.54 Z\" fill=\"#000000\" fill-rule=\"evenodd\" fill-opacity=\"1\" /><path clip-path=\"url(#clip400)\" d=\"M930.353 1194.52 L930.353 1199.39 L924.751 1199.39 Q921.6 1199.39 920.359 1200.66 Q919.149 1201.93 919.149 1205.24 L919.149 1208.4 L928.793 1208.4 L928.793 1212.95 L919.149 1212.95 L919.149 1244.04 L913.261 1244.04 L913.261 1212.95 L907.659 1212.95 L907.659 1208.4 L913.261 1208.4 L913.261 1205.91 Q913.261 1199.96 916.03 1197.26 Q918.799 1194.52 924.815 1194.52 L930.353 1194.52 Z\" fill=\"#000000\" fill-rule=\"evenodd\" fill-opacity=\"1\" /><path clip-path=\"url(#clip400)\" d=\"M978.7 1209.45 L978.7 1214.98 Q976.218 1213.71 973.544 1213.07 Q970.87 1212.44 968.006 1212.44 Q963.645 1212.44 961.449 1213.77 Q959.285 1215.11 959.285 1217.79 Q959.285 1219.82 960.844 1221 Q962.404 1222.15 967.115 1223.2 L969.12 1223.64 Q975.358 1224.98 977.968 1227.43 Q980.61 1229.85 980.61 1234.21 Q980.61 1239.17 976.663 1242.07 Q972.748 1244.97 965.873 1244.97 Q963.009 1244.97 959.89 1244.39 Q956.802 1243.85 953.365 1242.74 L953.365 1236.69 Q956.611 1238.38 959.762 1239.24 Q962.913 1240.07 966.001 1240.07 Q970.138 1240.07 972.366 1238.66 Q974.594 1237.23 974.594 1234.65 Q974.594 1232.27 972.971 1230.99 Q971.38 1229.72 965.937 1228.54 L963.9 1228.07 Q958.457 1226.92 956.038 1224.56 Q953.619 1222.18 953.619 1218.04 Q953.619 1213.01 957.184 1210.27 Q960.749 1207.54 967.306 1207.54 Q970.552 1207.54 973.417 1208.01 Q976.281 1208.49 978.7 1209.45 Z\" fill=\"#000000\" fill-rule=\"evenodd\" fill-opacity=\"1\" /><path clip-path=\"url(#clip400)\" d=\"M1020.43 1224.76 L1020.43 1227.62 L993.5 1227.62 Q993.882 1233.67 997.129 1236.85 Q1000.41 1240 1006.23 1240 Q1009.61 1240 1012.76 1239.17 Q1015.94 1238.35 1019.06 1236.69 L1019.06 1242.23 Q1015.91 1243.57 1012.6 1244.27 Q1009.29 1244.97 1005.88 1244.97 Q997.352 1244.97 992.355 1240 Q987.389 1235.04 987.389 1226.57 Q987.389 1217.82 992.1 1212.69 Q996.842 1207.54 1004.86 1207.54 Q1012.06 1207.54 1016.23 1212.18 Q1020.43 1216.8 1020.43 1224.76 M1014.57 1223.04 Q1014.51 1218.23 1011.87 1215.37 Q1009.26 1212.5 1004.93 1212.5 Q1000.03 1212.5 997.065 1215.27 Q994.137 1218.04 993.691 1223.07 L1014.57 1223.04 Z\" fill=\"#000000\" fill-rule=\"evenodd\" fill-opacity=\"1\" /><path clip-path=\"url(#clip400)\" d=\"M1059.67 1222.53 L1059.67 1244.04 L1053.82 1244.04 L1053.82 1222.72 Q1053.82 1217.66 1051.84 1215.14 Q1049.87 1212.63 1045.92 1212.63 Q1041.18 1212.63 1038.44 1215.65 Q1035.71 1218.68 1035.71 1223.9 L1035.71 1244.04 L1029.82 1244.04 L1029.82 1208.4 L1035.71 1208.4 L1035.71 1213.93 Q1037.81 1210.72 1040.64 1209.13 Q1043.5 1207.54 1047.23 1207.54 Q1053.37 1207.54 1056.52 1211.36 Q1059.67 1215.14 1059.67 1222.53 Z\" fill=\"#000000\" fill-rule=\"evenodd\" fill-opacity=\"1\" /><path clip-path=\"url(#clip400)\" d=\"M1094.08 1209.45 L1094.08 1214.98 Q1091.6 1213.71 1088.92 1213.07 Q1086.25 1212.44 1083.38 1212.44 Q1079.02 1212.44 1076.83 1213.77 Q1074.66 1215.11 1074.66 1217.79 Q1074.66 1219.82 1076.22 1221 Q1077.78 1222.15 1082.49 1223.2 L1084.5 1223.64 Q1090.74 1224.98 1093.35 1227.43 Q1095.99 1229.85 1095.99 1234.21 Q1095.99 1239.17 1092.04 1242.07 Q1088.13 1244.97 1081.25 1244.97 Q1078.39 1244.97 1075.27 1244.39 Q1072.18 1243.85 1068.74 1242.74 L1068.74 1236.69 Q1071.99 1238.38 1075.14 1239.24 Q1078.29 1240.07 1081.38 1240.07 Q1085.52 1240.07 1087.74 1238.66 Q1089.97 1237.23 1089.97 1234.65 Q1089.97 1232.27 1088.35 1230.99 Q1086.76 1229.72 1081.32 1228.54 L1079.28 1228.07 Q1073.84 1226.92 1071.42 1224.56 Q1069 1222.18 1069 1218.04 Q1069 1213.01 1072.56 1210.27 Q1076.13 1207.54 1082.68 1207.54 Q1085.93 1207.54 1088.8 1208.01 Q1091.66 1208.49 1094.08 1209.45 Z\" fill=\"#000000\" fill-rule=\"evenodd\" fill-opacity=\"1\" /><path clip-path=\"url(#clip400)\" d=\"M1105.31 1208.4 L1111.17 1208.4 L1111.17 1244.04 L1105.31 1244.04 L1105.31 1208.4 M1105.31 1194.52 L1111.17 1194.52 L1111.17 1201.93 L1105.31 1201.93 L1105.31 1194.52 Z\" fill=\"#000000\" fill-rule=\"evenodd\" fill-opacity=\"1\" /><path clip-path=\"url(#clip400)\" d=\"M1129.22 1198.27 L1129.22 1208.4 L1141.28 1208.4 L1141.28 1212.95 L1129.22 1212.95 L1129.22 1232.3 Q1129.22 1236.66 1130.39 1237.9 Q1131.6 1239.14 1135.26 1239.14 L1141.28 1239.14 L1141.28 1244.04 L1135.26 1244.04 Q1128.49 1244.04 1125.91 1241.53 Q1123.33 1238.98 1123.33 1232.3 L1123.33 1212.95 L1119.03 1212.95 L1119.03 1208.4 L1123.33 1208.4 L1123.33 1198.27 L1129.22 1198.27 Z\" fill=\"#000000\" fill-rule=\"evenodd\" fill-opacity=\"1\" /><path clip-path=\"url(#clip400)\" d=\"M1148.98 1208.4 L1154.84 1208.4 L1154.84 1244.04 L1148.98 1244.04 L1148.98 1208.4 M1148.98 1194.52 L1154.84 1194.52 L1154.84 1201.93 L1148.98 1201.93 L1148.98 1194.52 Z\" fill=\"#000000\" fill-rule=\"evenodd\" fill-opacity=\"1\" /><path clip-path=\"url(#clip400)\" d=\"M1162.89 1208.4 L1169.1 1208.4 L1180.24 1238.31 L1191.38 1208.4 L1197.59 1208.4 L1184.22 1244.04 L1176.26 1244.04 L1162.89 1208.4 Z\" fill=\"#000000\" fill-rule=\"evenodd\" fill-opacity=\"1\" /><path clip-path=\"url(#clip400)\" d=\"M1236.16 1224.76 L1236.16 1227.62 L1209.23 1227.62 Q1209.62 1233.67 1212.86 1236.85 Q1216.14 1240 1221.97 1240 Q1225.34 1240 1228.49 1239.17 Q1231.67 1238.35 1234.79 1236.69 L1234.79 1242.23 Q1231.64 1243.57 1228.33 1244.27 Q1225.02 1244.97 1221.62 1244.97 Q1213.09 1244.97 1208.09 1240 Q1203.12 1235.04 1203.12 1226.57 Q1203.12 1217.82 1207.83 1212.69 Q1212.58 1207.54 1220.6 1207.54 Q1227.79 1207.54 1231.96 1212.18 Q1236.16 1216.8 1236.16 1224.76 M1230.3 1223.04 Q1230.24 1218.23 1227.6 1215.37 Q1224.99 1212.5 1220.66 1212.5 Q1215.76 1212.5 1212.8 1215.27 Q1209.87 1218.04 1209.43 1223.07 L1230.3 1223.04 Z\" fill=\"#000000\" fill-rule=\"evenodd\" fill-opacity=\"1\" /><path clip-path=\"url(#clip400)\" d=\"M1289.22 1209.45 L1289.22 1214.98 Q1286.74 1213.71 1284.06 1213.07 Q1281.39 1212.44 1278.52 1212.44 Q1274.16 1212.44 1271.97 1213.77 Q1269.8 1215.11 1269.8 1217.79 Q1269.8 1219.82 1271.36 1221 Q1272.92 1222.15 1277.63 1223.2 L1279.64 1223.64 Q1285.88 1224.98 1288.49 1227.43 Q1291.13 1229.85 1291.13 1234.21 Q1291.13 1239.17 1287.18 1242.07 Q1283.27 1244.97 1276.39 1244.97 Q1273.53 1244.97 1270.41 1244.39 Q1267.32 1243.85 1263.88 1242.74 L1263.88 1236.69 Q1267.13 1238.38 1270.28 1239.24 Q1273.43 1240.07 1276.52 1240.07 Q1280.66 1240.07 1282.89 1238.66 Q1285.11 1237.23 1285.11 1234.65 Q1285.11 1232.27 1283.49 1230.99 Q1281.9 1229.72 1276.46 1228.54 L1274.42 1228.07 Q1268.98 1226.92 1266.56 1224.56 Q1264.14 1222.18 1264.14 1218.04 Q1264.14 1213.01 1267.7 1210.27 Q1271.27 1207.54 1277.82 1207.54 Q1281.07 1207.54 1283.94 1208.01 Q1286.8 1208.49 1289.22 1209.45 Z\" fill=\"#000000\" fill-rule=\"evenodd\" fill-opacity=\"1\" /><path clip-path=\"url(#clip400)\" d=\"M1299.85 1229.98 L1299.85 1208.4 L1305.71 1208.4 L1305.71 1229.75 Q1305.71 1234.81 1307.68 1237.36 Q1309.65 1239.87 1313.6 1239.87 Q1318.34 1239.87 1321.08 1236.85 Q1323.85 1233.83 1323.85 1228.61 L1323.85 1208.4 L1329.71 1208.4 L1329.71 1244.04 L1323.85 1244.04 L1323.85 1238.57 Q1321.72 1241.82 1318.88 1243.41 Q1316.08 1244.97 1312.36 1244.97 Q1306.22 1244.97 1303.03 1241.15 Q1299.85 1237.33 1299.85 1229.98 M1314.59 1207.54 L1314.59 1207.54 Z\" fill=\"#000000\" fill-rule=\"evenodd\" fill-opacity=\"1\" /><path clip-path=\"url(#clip400)\" d=\"M1367.36 1226.25 Q1367.36 1219.79 1364.68 1216.13 Q1362.04 1212.44 1357.4 1212.44 Q1352.75 1212.44 1350.08 1216.13 Q1347.43 1219.79 1347.43 1226.25 Q1347.43 1232.71 1350.08 1236.4 Q1352.75 1240.07 1357.4 1240.07 Q1362.04 1240.07 1364.68 1236.4 Q1367.36 1232.71 1367.36 1226.25 M1347.43 1213.81 Q1349.28 1210.62 1352.08 1209.1 Q1354.91 1207.54 1358.83 1207.54 Q1365.32 1207.54 1369.36 1212.69 Q1373.44 1217.85 1373.44 1226.25 Q1373.44 1234.65 1369.36 1239.81 Q1365.32 1244.97 1358.83 1244.97 Q1354.91 1244.97 1352.08 1243.44 Q1349.28 1241.88 1347.43 1238.7 L1347.43 1244.04 L1341.55 1244.04 L1341.55 1194.52 L1347.43 1194.52 L1347.43 1213.81 Z\" fill=\"#000000\" fill-rule=\"evenodd\" fill-opacity=\"1\" /><path clip-path=\"url(#clip400)\" d=\"M1383.15 1208.4 L1389 1208.4 L1389 1244.68 Q1389 1251.49 1386.39 1254.55 Q1383.81 1257.6 1378.05 1257.6 L1375.82 1257.6 L1375.82 1252.64 L1377.38 1252.64 Q1380.73 1252.64 1381.94 1251.08 Q1383.15 1249.55 1383.15 1244.68 L1383.15 1208.4 M1383.15 1194.52 L1389 1194.52 L1389 1201.93 L1383.15 1201.93 L1383.15 1194.52 Z\" fill=\"#000000\" fill-rule=\"evenodd\" fill-opacity=\"1\" /><path clip-path=\"url(#clip400)\" d=\"M1431.75 1224.76 L1431.75 1227.62 L1404.82 1227.62 Q1405.2 1233.67 1408.45 1236.85 Q1411.73 1240 1417.55 1240 Q1420.93 1240 1424.08 1239.17 Q1427.26 1238.35 1430.38 1236.69 L1430.38 1242.23 Q1427.23 1243.57 1423.92 1244.27 Q1420.61 1244.97 1417.2 1244.97 Q1408.67 1244.97 1403.67 1240 Q1398.71 1235.04 1398.71 1226.57 Q1398.71 1217.82 1403.42 1212.69 Q1408.16 1207.54 1416.18 1207.54 Q1423.38 1207.54 1427.55 1212.18 Q1431.75 1216.8 1431.75 1224.76 M1425.89 1223.04 Q1425.83 1218.23 1423.19 1215.37 Q1420.58 1212.5 1416.25 1212.5 Q1411.35 1212.5 1408.39 1215.27 Q1405.46 1218.04 1405.01 1223.07 L1425.89 1223.04 Z\" fill=\"#000000\" fill-rule=\"evenodd\" fill-opacity=\"1\" /><path clip-path=\"url(#clip400)\" d=\"M1467.01 1209.76 L1467.01 1215.24 Q1464.53 1213.87 1462.02 1213.2 Q1459.53 1212.5 1456.99 1212.5 Q1451.29 1212.5 1448.14 1216.13 Q1444.99 1219.73 1444.99 1226.25 Q1444.99 1232.78 1448.14 1236.4 Q1451.29 1240 1456.99 1240 Q1459.53 1240 1462.02 1239.33 Q1464.53 1238.63 1467.01 1237.26 L1467.01 1242.68 Q1464.56 1243.82 1461.92 1244.39 Q1459.31 1244.97 1456.35 1244.97 Q1448.3 1244.97 1443.56 1239.91 Q1438.81 1234.85 1438.81 1226.25 Q1438.81 1217.53 1443.59 1212.53 Q1448.39 1207.54 1456.73 1207.54 Q1459.44 1207.54 1462.02 1208.11 Q1464.59 1208.65 1467.01 1209.76 Z\" fill=\"#000000\" fill-rule=\"evenodd\" fill-opacity=\"1\" /><path clip-path=\"url(#clip400)\" d=\"M1482.99 1198.27 L1482.99 1208.4 L1495.05 1208.4 L1495.05 1212.95 L1482.99 1212.95 L1482.99 1232.3 Q1482.99 1236.66 1484.17 1237.9 Q1485.38 1239.14 1489.04 1239.14 L1495.05 1239.14 L1495.05 1244.04 L1489.04 1244.04 Q1482.26 1244.04 1479.68 1241.53 Q1477.1 1238.98 1477.1 1232.3 L1477.1 1212.95 L1472.81 1212.95 L1472.81 1208.4 L1477.1 1208.4 L1477.1 1198.27 L1482.99 1198.27 Z\" fill=\"#000000\" fill-rule=\"evenodd\" fill-opacity=\"1\" /><path clip-path=\"url(#clip400)\" d=\"M1525.48 1209.45 L1525.48 1214.98 Q1523 1213.71 1520.33 1213.07 Q1517.65 1212.44 1514.79 1212.44 Q1510.43 1212.44 1508.23 1213.77 Q1506.07 1215.11 1506.07 1217.79 Q1506.07 1219.82 1507.63 1221 Q1509.19 1222.15 1513.9 1223.2 L1515.9 1223.64 Q1522.14 1224.98 1524.75 1227.43 Q1527.39 1229.85 1527.39 1234.21 Q1527.39 1239.17 1523.45 1242.07 Q1519.53 1244.97 1512.66 1244.97 Q1509.79 1244.97 1506.67 1244.39 Q1503.58 1243.85 1500.15 1242.74 L1500.15 1236.69 Q1503.39 1238.38 1506.54 1239.24 Q1509.7 1240.07 1512.78 1240.07 Q1516.92 1240.07 1519.15 1238.66 Q1521.38 1237.23 1521.38 1234.65 Q1521.38 1232.27 1519.75 1230.99 Q1518.16 1229.72 1512.72 1228.54 L1510.68 1228.07 Q1505.24 1226.92 1502.82 1224.56 Q1500.4 1222.18 1500.4 1218.04 Q1500.4 1213.01 1503.97 1210.27 Q1507.53 1207.54 1514.09 1207.54 Q1517.33 1207.54 1520.2 1208.01 Q1523.06 1208.49 1525.48 1209.45 Z\" fill=\"#000000\" fill-rule=\"evenodd\" fill-opacity=\"1\" /><polyline clip-path=\"url(#clip402)\" style=\"stroke:#000000; stroke-linecap:butt; stroke-linejoin:round; stroke-width:2; stroke-opacity:0.1; fill:none\" points=\"\n",
       "  244.742,1078.56 1872.76,1078.56 \n",
       "  \"/>\n",
       "<polyline clip-path=\"url(#clip402)\" style=\"stroke:#000000; stroke-linecap:butt; stroke-linejoin:round; stroke-width:2; stroke-opacity:0.1; fill:none\" points=\"\n",
       "  244.742,879.171 1872.76,879.171 \n",
       "  \"/>\n",
       "<polyline clip-path=\"url(#clip402)\" style=\"stroke:#000000; stroke-linecap:butt; stroke-linejoin:round; stroke-width:2; stroke-opacity:0.1; fill:none\" points=\"\n",
       "  244.742,679.781 1872.76,679.781 \n",
       "  \"/>\n",
       "<polyline clip-path=\"url(#clip402)\" style=\"stroke:#000000; stroke-linecap:butt; stroke-linejoin:round; stroke-width:2; stroke-opacity:0.1; fill:none\" points=\"\n",
       "  244.742,480.391 1872.76,480.391 \n",
       "  \"/>\n",
       "<polyline clip-path=\"url(#clip402)\" style=\"stroke:#000000; stroke-linecap:butt; stroke-linejoin:round; stroke-width:2; stroke-opacity:0.1; fill:none\" points=\"\n",
       "  244.742,281.001 1872.76,281.001 \n",
       "  \"/>\n",
       "<polyline clip-path=\"url(#clip400)\" style=\"stroke:#000000; stroke-linecap:butt; stroke-linejoin:round; stroke-width:4; stroke-opacity:1; fill:none\" points=\"\n",
       "  244.742,1106.38 244.742,123.472 \n",
       "  \"/>\n",
       "<polyline clip-path=\"url(#clip400)\" style=\"stroke:#000000; stroke-linecap:butt; stroke-linejoin:round; stroke-width:4; stroke-opacity:1; fill:none\" points=\"\n",
       "  244.742,1078.56 263.64,1078.56 \n",
       "  \"/>\n",
       "<polyline clip-path=\"url(#clip400)\" style=\"stroke:#000000; stroke-linecap:butt; stroke-linejoin:round; stroke-width:4; stroke-opacity:1; fill:none\" points=\"\n",
       "  244.742,879.171 263.64,879.171 \n",
       "  \"/>\n",
       "<polyline clip-path=\"url(#clip400)\" style=\"stroke:#000000; stroke-linecap:butt; stroke-linejoin:round; stroke-width:4; stroke-opacity:1; fill:none\" points=\"\n",
       "  244.742,679.781 263.64,679.781 \n",
       "  \"/>\n",
       "<polyline clip-path=\"url(#clip400)\" style=\"stroke:#000000; stroke-linecap:butt; stroke-linejoin:round; stroke-width:4; stroke-opacity:1; fill:none\" points=\"\n",
       "  244.742,480.391 263.64,480.391 \n",
       "  \"/>\n",
       "<polyline clip-path=\"url(#clip400)\" style=\"stroke:#000000; stroke-linecap:butt; stroke-linejoin:round; stroke-width:4; stroke-opacity:1; fill:none\" points=\"\n",
       "  244.742,281.001 263.64,281.001 \n",
       "  \"/>\n",
       "<path clip-path=\"url(#clip400)\" d=\"M128.605 1064.36 Q124.993 1064.36 123.165 1067.93 Q121.359 1071.47 121.359 1078.6 Q121.359 1085.7 123.165 1089.27 Q124.993 1092.81 128.605 1092.81 Q132.239 1092.81 134.044 1089.27 Q135.873 1085.7 135.873 1078.6 Q135.873 1071.47 134.044 1067.93 Q132.239 1064.36 128.605 1064.36 M128.605 1060.66 Q134.415 1060.66 137.47 1065.26 Q140.549 1069.85 140.549 1078.6 Q140.549 1087.32 137.47 1091.93 Q134.415 1096.51 128.605 1096.51 Q122.794 1096.51 119.716 1091.93 Q116.66 1087.32 116.66 1078.6 Q116.66 1069.85 119.716 1065.26 Q122.794 1060.66 128.605 1060.66 Z\" fill=\"#000000\" fill-rule=\"evenodd\" fill-opacity=\"1\" /><path clip-path=\"url(#clip400)\" d=\"M148.766 1089.96 L153.651 1089.96 L153.651 1095.84 L148.766 1095.84 L148.766 1089.96 Z\" fill=\"#000000\" fill-rule=\"evenodd\" fill-opacity=\"1\" /><path clip-path=\"url(#clip400)\" d=\"M173.836 1064.36 Q170.225 1064.36 168.396 1067.93 Q166.59 1071.47 166.59 1078.6 Q166.59 1085.7 168.396 1089.27 Q170.225 1092.81 173.836 1092.81 Q177.47 1092.81 179.276 1089.27 Q181.104 1085.7 181.104 1078.6 Q181.104 1071.47 179.276 1067.93 Q177.47 1064.36 173.836 1064.36 M173.836 1060.66 Q179.646 1060.66 182.701 1065.26 Q185.78 1069.85 185.78 1078.6 Q185.78 1087.32 182.701 1091.93 Q179.646 1096.51 173.836 1096.51 Q168.026 1096.51 164.947 1091.93 Q161.891 1087.32 161.891 1078.6 Q161.891 1069.85 164.947 1065.26 Q168.026 1060.66 173.836 1060.66 Z\" fill=\"#000000\" fill-rule=\"evenodd\" fill-opacity=\"1\" /><path clip-path=\"url(#clip400)\" d=\"M203.998 1064.36 Q200.387 1064.36 198.558 1067.93 Q196.752 1071.47 196.752 1078.6 Q196.752 1085.7 198.558 1089.27 Q200.387 1092.81 203.998 1092.81 Q207.632 1092.81 209.437 1089.27 Q211.266 1085.7 211.266 1078.6 Q211.266 1071.47 209.437 1067.93 Q207.632 1064.36 203.998 1064.36 M203.998 1060.66 Q209.808 1060.66 212.863 1065.26 Q215.942 1069.85 215.942 1078.6 Q215.942 1087.32 212.863 1091.93 Q209.808 1096.51 203.998 1096.51 Q198.187 1096.51 195.109 1091.93 Q192.053 1087.32 192.053 1078.6 Q192.053 1069.85 195.109 1065.26 Q198.187 1060.66 203.998 1060.66 Z\" fill=\"#000000\" fill-rule=\"evenodd\" fill-opacity=\"1\" /><path clip-path=\"url(#clip400)\" d=\"M129.6 864.97 Q125.989 864.97 124.16 868.535 Q122.355 872.077 122.355 879.206 Q122.355 886.313 124.16 889.877 Q125.989 893.419 129.6 893.419 Q133.234 893.419 135.04 889.877 Q136.868 886.313 136.868 879.206 Q136.868 872.077 135.04 868.535 Q133.234 864.97 129.6 864.97 M129.6 861.266 Q135.41 861.266 138.466 865.873 Q141.544 870.456 141.544 879.206 Q141.544 887.933 138.466 892.539 Q135.41 897.123 129.6 897.123 Q123.79 897.123 120.711 892.539 Q117.656 887.933 117.656 879.206 Q117.656 870.456 120.711 865.873 Q123.79 861.266 129.6 861.266 Z\" fill=\"#000000\" fill-rule=\"evenodd\" fill-opacity=\"1\" /><path clip-path=\"url(#clip400)\" d=\"M149.762 890.572 L154.646 890.572 L154.646 896.451 L149.762 896.451 L149.762 890.572 Z\" fill=\"#000000\" fill-rule=\"evenodd\" fill-opacity=\"1\" /><path clip-path=\"url(#clip400)\" d=\"M174.831 864.97 Q171.22 864.97 169.391 868.535 Q167.586 872.077 167.586 879.206 Q167.586 886.313 169.391 889.877 Q171.22 893.419 174.831 893.419 Q178.465 893.419 180.271 889.877 Q182.1 886.313 182.1 879.206 Q182.1 872.077 180.271 868.535 Q178.465 864.97 174.831 864.97 M174.831 861.266 Q180.641 861.266 183.697 865.873 Q186.776 870.456 186.776 879.206 Q186.776 887.933 183.697 892.539 Q180.641 897.123 174.831 897.123 Q169.021 897.123 165.942 892.539 Q162.887 887.933 162.887 879.206 Q162.887 870.456 165.942 865.873 Q169.021 861.266 174.831 861.266 Z\" fill=\"#000000\" fill-rule=\"evenodd\" fill-opacity=\"1\" /><path clip-path=\"url(#clip400)\" d=\"M195.039 861.891 L213.396 861.891 L213.396 865.827 L199.322 865.827 L199.322 874.299 Q200.34 873.952 201.359 873.79 Q202.377 873.604 203.396 873.604 Q209.183 873.604 212.562 876.776 Q215.942 879.947 215.942 885.364 Q215.942 890.942 212.47 894.044 Q208.998 897.123 202.678 897.123 Q200.502 897.123 198.234 896.752 Q195.988 896.382 193.581 895.641 L193.581 890.942 Q195.664 892.076 197.887 892.632 Q200.109 893.188 202.586 893.188 Q206.59 893.188 208.928 891.081 Q211.266 888.975 211.266 885.364 Q211.266 881.752 208.928 879.646 Q206.59 877.54 202.586 877.54 Q200.711 877.54 198.836 877.956 Q196.984 878.373 195.039 879.252 L195.039 861.891 Z\" fill=\"#000000\" fill-rule=\"evenodd\" fill-opacity=\"1\" /><path clip-path=\"url(#clip400)\" d=\"M128.605 665.58 Q124.993 665.58 123.165 669.145 Q121.359 672.686 121.359 679.816 Q121.359 686.922 123.165 690.487 Q124.993 694.029 128.605 694.029 Q132.239 694.029 134.044 690.487 Q135.873 686.922 135.873 679.816 Q135.873 672.686 134.044 669.145 Q132.239 665.58 128.605 665.58 M128.605 661.876 Q134.415 661.876 137.47 666.483 Q140.549 671.066 140.549 679.816 Q140.549 688.543 137.47 693.149 Q134.415 697.733 128.605 697.733 Q122.794 697.733 119.716 693.149 Q116.66 688.543 116.66 679.816 Q116.66 671.066 119.716 666.483 Q122.794 661.876 128.605 661.876 Z\" fill=\"#000000\" fill-rule=\"evenodd\" fill-opacity=\"1\" /><path clip-path=\"url(#clip400)\" d=\"M148.766 691.182 L153.651 691.182 L153.651 697.061 L148.766 697.061 L148.766 691.182 Z\" fill=\"#000000\" fill-rule=\"evenodd\" fill-opacity=\"1\" /><path clip-path=\"url(#clip400)\" d=\"M164.646 693.126 L172.285 693.126 L172.285 666.76 L163.975 668.427 L163.975 664.168 L172.239 662.501 L176.914 662.501 L176.914 693.126 L184.553 693.126 L184.553 697.061 L164.646 697.061 L164.646 693.126 Z\" fill=\"#000000\" fill-rule=\"evenodd\" fill-opacity=\"1\" /><path clip-path=\"url(#clip400)\" d=\"M203.998 665.58 Q200.387 665.58 198.558 669.145 Q196.752 672.686 196.752 679.816 Q196.752 686.922 198.558 690.487 Q200.387 694.029 203.998 694.029 Q207.632 694.029 209.437 690.487 Q211.266 686.922 211.266 679.816 Q211.266 672.686 209.437 669.145 Q207.632 665.58 203.998 665.58 M203.998 661.876 Q209.808 661.876 212.863 666.483 Q215.942 671.066 215.942 679.816 Q215.942 688.543 212.863 693.149 Q209.808 697.733 203.998 697.733 Q198.187 697.733 195.109 693.149 Q192.053 688.543 192.053 679.816 Q192.053 671.066 195.109 666.483 Q198.187 661.876 203.998 661.876 Z\" fill=\"#000000\" fill-rule=\"evenodd\" fill-opacity=\"1\" /><path clip-path=\"url(#clip400)\" d=\"M129.6 466.19 Q125.989 466.19 124.16 469.754 Q122.355 473.296 122.355 480.426 Q122.355 487.532 124.16 491.097 Q125.989 494.639 129.6 494.639 Q133.234 494.639 135.04 491.097 Q136.868 487.532 136.868 480.426 Q136.868 473.296 135.04 469.754 Q133.234 466.19 129.6 466.19 M129.6 462.486 Q135.41 462.486 138.466 467.092 Q141.544 471.676 141.544 480.426 Q141.544 489.153 138.466 493.759 Q135.41 498.342 129.6 498.342 Q123.79 498.342 120.711 493.759 Q117.656 489.153 117.656 480.426 Q117.656 471.676 120.711 467.092 Q123.79 462.486 129.6 462.486 Z\" fill=\"#000000\" fill-rule=\"evenodd\" fill-opacity=\"1\" /><path clip-path=\"url(#clip400)\" d=\"M149.762 491.791 L154.646 491.791 L154.646 497.671 L149.762 497.671 L149.762 491.791 Z\" fill=\"#000000\" fill-rule=\"evenodd\" fill-opacity=\"1\" /><path clip-path=\"url(#clip400)\" d=\"M165.641 493.736 L173.28 493.736 L173.28 467.37 L164.97 469.037 L164.97 464.778 L173.234 463.111 L177.91 463.111 L177.91 493.736 L185.549 493.736 L185.549 497.671 L165.641 497.671 L165.641 493.736 Z\" fill=\"#000000\" fill-rule=\"evenodd\" fill-opacity=\"1\" /><path clip-path=\"url(#clip400)\" d=\"M195.039 463.111 L213.396 463.111 L213.396 467.046 L199.322 467.046 L199.322 475.518 Q200.34 475.171 201.359 475.009 Q202.377 474.824 203.396 474.824 Q209.183 474.824 212.562 477.995 Q215.942 481.166 215.942 486.583 Q215.942 492.162 212.47 495.264 Q208.998 498.342 202.678 498.342 Q200.502 498.342 198.234 497.972 Q195.988 497.602 193.581 496.861 L193.581 492.162 Q195.664 493.296 197.887 493.852 Q200.109 494.407 202.586 494.407 Q206.59 494.407 208.928 492.301 Q211.266 490.194 211.266 486.583 Q211.266 482.972 208.928 480.866 Q206.59 478.759 202.586 478.759 Q200.711 478.759 198.836 479.176 Q196.984 479.592 195.039 480.472 L195.039 463.111 Z\" fill=\"#000000\" fill-rule=\"evenodd\" fill-opacity=\"1\" /><path clip-path=\"url(#clip400)\" d=\"M128.605 266.799 Q124.993 266.799 123.165 270.364 Q121.359 273.906 121.359 281.035 Q121.359 288.142 123.165 291.707 Q124.993 295.248 128.605 295.248 Q132.239 295.248 134.044 291.707 Q135.873 288.142 135.873 281.035 Q135.873 273.906 134.044 270.364 Q132.239 266.799 128.605 266.799 M128.605 263.096 Q134.415 263.096 137.47 267.702 Q140.549 272.286 140.549 281.035 Q140.549 289.762 137.47 294.369 Q134.415 298.952 128.605 298.952 Q122.794 298.952 119.716 294.369 Q116.66 289.762 116.66 281.035 Q116.66 272.286 119.716 267.702 Q122.794 263.096 128.605 263.096 Z\" fill=\"#000000\" fill-rule=\"evenodd\" fill-opacity=\"1\" /><path clip-path=\"url(#clip400)\" d=\"M148.766 292.401 L153.651 292.401 L153.651 298.281 L148.766 298.281 L148.766 292.401 Z\" fill=\"#000000\" fill-rule=\"evenodd\" fill-opacity=\"1\" /><path clip-path=\"url(#clip400)\" d=\"M167.864 294.346 L184.183 294.346 L184.183 298.281 L162.239 298.281 L162.239 294.346 Q164.901 291.591 169.484 286.961 Q174.09 282.309 175.271 280.966 Q177.516 278.443 178.396 276.707 Q179.299 274.948 179.299 273.258 Q179.299 270.503 177.354 268.767 Q175.433 267.031 172.331 267.031 Q170.132 267.031 167.678 267.795 Q165.248 268.559 162.47 270.11 L162.47 265.387 Q165.294 264.253 167.748 263.674 Q170.202 263.096 172.239 263.096 Q177.609 263.096 180.803 265.781 Q183.998 268.466 183.998 272.957 Q183.998 275.086 183.188 277.008 Q182.401 278.906 180.294 281.498 Q179.715 282.17 176.614 285.387 Q173.512 288.582 167.864 294.346 Z\" fill=\"#000000\" fill-rule=\"evenodd\" fill-opacity=\"1\" /><path clip-path=\"url(#clip400)\" d=\"M203.998 266.799 Q200.387 266.799 198.558 270.364 Q196.752 273.906 196.752 281.035 Q196.752 288.142 198.558 291.707 Q200.387 295.248 203.998 295.248 Q207.632 295.248 209.437 291.707 Q211.266 288.142 211.266 281.035 Q211.266 273.906 209.437 270.364 Q207.632 266.799 203.998 266.799 M203.998 263.096 Q209.808 263.096 212.863 267.702 Q215.942 272.286 215.942 281.035 Q215.942 289.762 212.863 294.369 Q209.808 298.952 203.998 298.952 Q198.187 298.952 195.109 294.369 Q192.053 289.762 192.053 281.035 Q192.053 272.286 195.109 267.702 Q198.187 263.096 203.998 263.096 Z\" fill=\"#000000\" fill-rule=\"evenodd\" fill-opacity=\"1\" /><path clip-path=\"url(#clip400)\" d=\"M31.3677 669.926 L49.2235 669.926 L49.2235 661.841 Q49.2235 657.353 46.9 654.903 Q44.5765 652.452 40.2797 652.452 Q36.0147 652.452 33.6912 654.903 Q31.3677 657.353 31.3677 661.841 L31.3677 669.926 M26.0842 676.355 L26.0842 661.841 Q26.0842 653.852 29.7126 649.778 Q33.3092 645.672 40.2797 645.672 Q47.3138 645.672 50.9104 649.778 Q54.507 653.852 54.507 661.841 L54.507 669.926 L73.6042 669.926 L73.6042 676.355 L26.0842 676.355 Z\" fill=\"#000000\" fill-rule=\"evenodd\" fill-opacity=\"1\" /><path clip-path=\"url(#clip400)\" d=\"M26.0842 637.047 L26.0842 627.466 L58.4219 615.34 L26.0842 603.149 L26.0842 593.569 L73.6042 593.569 L73.6042 599.839 L31.877 599.839 L64.4694 612.093 L64.4694 618.554 L31.877 630.808 L73.6042 630.808 L73.6042 637.047 L26.0842 637.047 Z\" fill=\"#000000\" fill-rule=\"evenodd\" fill-opacity=\"1\" /><path clip-path=\"url(#clip400)\" d=\"M26.0842 580.806 L26.0842 553.497 L31.495 553.497 L31.495 574.376 L45.4996 574.376 L45.4996 555.534 L50.9104 555.534 L50.9104 574.376 L73.6042 574.376 L73.6042 580.806 L26.0842 580.806 Z\" fill=\"#000000\" fill-rule=\"evenodd\" fill-opacity=\"1\" /><path clip-path=\"url(#clip400)\" d=\"M618.517 18.8205 L618.517 41.5461 L628.806 41.5461 Q634.518 41.5461 637.637 38.5889 Q640.756 35.6318 640.756 30.163 Q640.756 24.7348 637.637 21.7777 Q634.518 18.8205 628.806 18.8205 L618.517 18.8205 M610.334 12.096 L628.806 12.096 Q638.974 12.096 644.159 16.714 Q649.385 21.2916 649.385 30.163 Q649.385 39.1155 644.159 43.6931 Q638.974 48.2706 628.806 48.2706 L618.517 48.2706 L618.517 72.576 L610.334 72.576 L610.334 12.096 Z\" fill=\"#000000\" fill-rule=\"evenodd\" fill-opacity=\"1\" /><path clip-path=\"url(#clip400)\" d=\"M674.662 32.4315 Q668.667 32.4315 665.183 37.1306 Q661.7 41.7891 661.7 49.9314 Q661.7 58.0738 665.143 62.7728 Q668.627 67.4314 674.662 67.4314 Q680.617 67.4314 684.101 62.7323 Q687.585 58.0333 687.585 49.9314 Q687.585 41.8701 684.101 37.1711 Q680.617 32.4315 674.662 32.4315 M674.662 26.1121 Q684.385 26.1121 689.934 32.4315 Q695.484 38.7509 695.484 49.9314 Q695.484 61.0714 689.934 67.4314 Q684.385 73.7508 674.662 73.7508 Q664.9 73.7508 659.35 67.4314 Q653.841 61.0714 653.841 49.9314 Q653.841 38.7509 659.35 32.4315 Q664.9 26.1121 674.662 26.1121 Z\" fill=\"#000000\" fill-rule=\"evenodd\" fill-opacity=\"1\" /><path clip-path=\"url(#clip400)\" d=\"M736.763 28.5427 L736.763 35.5912 Q733.603 33.9709 730.2 33.1607 Q726.798 32.3505 723.152 32.3505 Q717.602 32.3505 714.807 34.0519 Q712.052 35.7533 712.052 39.156 Q712.052 41.7486 714.037 43.2475 Q716.022 44.7058 722.018 46.0426 L724.57 46.6097 Q732.509 48.3111 735.831 51.4303 Q739.193 54.509 739.193 60.0587 Q739.193 66.3781 734.17 70.0644 Q729.188 73.7508 720.438 73.7508 Q716.792 73.7508 712.822 73.0216 Q708.893 72.3329 704.518 70.9151 L704.518 63.2184 Q708.65 65.3654 712.66 66.4591 Q716.67 67.5124 720.6 67.5124 Q725.866 67.5124 728.702 65.73 Q731.537 63.9071 731.537 60.6258 Q731.537 57.5877 729.471 55.9673 Q727.446 54.3469 720.519 52.8481 L717.926 52.2405 Q710.999 50.7821 707.92 47.7845 Q704.842 44.7463 704.842 39.4801 Q704.842 33.0797 709.379 29.5959 Q713.916 26.1121 722.261 26.1121 Q726.393 26.1121 730.038 26.7198 Q733.684 27.3274 736.763 28.5427 Z\" fill=\"#000000\" fill-rule=\"evenodd\" fill-opacity=\"1\" /><path clip-path=\"url(#clip400)\" d=\"M758.435 14.324 L758.435 27.2059 L773.788 27.2059 L773.788 32.9987 L758.435 32.9987 L758.435 57.6282 Q758.435 63.1779 759.934 64.7578 Q761.473 66.3376 766.132 66.3376 L773.788 66.3376 L773.788 72.576 L766.132 72.576 Q757.503 72.576 754.222 69.3758 Q750.941 66.1351 750.941 57.6282 L750.941 32.9987 L745.472 32.9987 L745.472 27.2059 L750.941 27.2059 L750.941 14.324 L758.435 14.324 Z\" fill=\"#000000\" fill-rule=\"evenodd\" fill-opacity=\"1\" /><path clip-path=\"url(#clip400)\" d=\"M822.399 48.0275 L822.399 51.6733 L788.128 51.6733 Q788.614 59.3701 792.746 63.421 Q796.919 67.4314 804.332 67.4314 Q808.626 67.4314 812.636 66.3781 Q816.687 65.3249 820.657 63.2184 L820.657 70.267 Q816.647 71.9684 812.434 72.8596 Q808.221 73.7508 803.886 73.7508 Q793.03 73.7508 786.67 67.4314 Q780.351 61.1119 780.351 50.3365 Q780.351 39.1965 786.346 32.6746 Q792.382 26.1121 802.59 26.1121 Q811.745 26.1121 817.052 32.0264 Q822.399 37.9003 822.399 48.0275 M814.945 45.84 Q814.864 39.7232 811.502 36.0774 Q808.18 32.4315 802.671 32.4315 Q796.433 32.4315 792.665 35.9558 Q788.938 39.4801 788.371 45.8805 L814.945 45.84 Z\" fill=\"#000000\" fill-rule=\"evenodd\" fill-opacity=\"1\" /><path clip-path=\"url(#clip400)\" d=\"M860.923 34.1734 Q859.667 33.4443 858.168 33.1202 Q856.71 32.7556 854.928 32.7556 Q848.608 32.7556 845.206 36.8875 Q841.843 40.9789 841.843 48.6757 L841.843 72.576 L834.349 72.576 L834.349 27.2059 L841.843 27.2059 L841.843 34.2544 Q844.193 30.1225 847.96 28.1376 Q851.728 26.1121 857.115 26.1121 Q857.885 26.1121 858.817 26.2337 Q859.748 26.3147 860.883 26.5172 L860.923 34.1734 Z\" fill=\"#000000\" fill-rule=\"evenodd\" fill-opacity=\"1\" /><path clip-path=\"url(#clip400)\" d=\"M868.741 27.2059 L876.195 27.2059 L876.195 72.576 L868.741 72.576 L868.741 27.2059 M868.741 9.54393 L876.195 9.54393 L876.195 18.9825 L868.741 18.9825 L868.741 9.54393 Z\" fill=\"#000000\" fill-rule=\"evenodd\" fill-opacity=\"1\" /><path clip-path=\"url(#clip400)\" d=\"M909.372 32.4315 Q903.377 32.4315 899.893 37.1306 Q896.409 41.7891 896.409 49.9314 Q896.409 58.0738 899.852 62.7728 Q903.336 67.4314 909.372 67.4314 Q915.327 67.4314 918.81 62.7323 Q922.294 58.0333 922.294 49.9314 Q922.294 41.8701 918.81 37.1711 Q915.327 32.4315 909.372 32.4315 M909.372 26.1121 Q919.094 26.1121 924.644 32.4315 Q930.194 38.7509 930.194 49.9314 Q930.194 61.0714 924.644 67.4314 Q919.094 73.7508 909.372 73.7508 Q899.609 73.7508 894.059 67.4314 Q888.55 61.0714 888.55 49.9314 Q888.55 38.7509 894.059 32.4315 Q899.609 26.1121 909.372 26.1121 Z\" fill=\"#000000\" fill-rule=\"evenodd\" fill-opacity=\"1\" /><path clip-path=\"url(#clip400)\" d=\"M968.839 34.1734 Q967.583 33.4443 966.085 33.1202 Q964.626 32.7556 962.844 32.7556 Q956.524 32.7556 953.122 36.8875 Q949.759 40.9789 949.759 48.6757 L949.759 72.576 L942.265 72.576 L942.265 27.2059 L949.759 27.2059 L949.759 34.2544 Q952.109 30.1225 955.876 28.1376 Q959.644 26.1121 965.031 26.1121 Q965.801 26.1121 966.733 26.2337 Q967.664 26.3147 968.799 26.5172 L968.839 34.1734 Z\" fill=\"#000000\" fill-rule=\"evenodd\" fill-opacity=\"1\" /><path clip-path=\"url(#clip400)\" d=\"M1032.88 34.0924 L1032.88 9.54393 L1040.34 9.54393 L1040.34 72.576 L1032.88 72.576 L1032.88 65.7705 Q1030.53 69.8214 1026.93 71.8063 Q1023.36 73.7508 1018.34 73.7508 Q1010.12 73.7508 1004.93 67.1883 Q999.788 60.6258 999.788 49.9314 Q999.788 39.2371 1004.93 32.6746 Q1010.12 26.1121 1018.34 26.1121 Q1023.36 26.1121 1026.93 28.0971 Q1030.53 30.0415 1032.88 34.0924 M1007.48 49.9314 Q1007.48 58.1548 1010.85 62.8538 Q1014.25 67.5124 1020.16 67.5124 Q1026.08 67.5124 1029.48 62.8538 Q1032.88 58.1548 1032.88 49.9314 Q1032.88 41.7081 1029.48 37.0496 Q1026.08 32.3505 1020.16 32.3505 Q1014.25 32.3505 1010.85 37.0496 Q1007.48 41.7081 1007.48 49.9314 Z\" fill=\"#000000\" fill-rule=\"evenodd\" fill-opacity=\"1\" /><path clip-path=\"url(#clip400)\" d=\"M1055.69 27.2059 L1063.14 27.2059 L1063.14 72.576 L1055.69 72.576 L1055.69 27.2059 M1055.69 9.54393 L1063.14 9.54393 L1063.14 18.9825 L1055.69 18.9825 L1055.69 9.54393 Z\" fill=\"#000000\" fill-rule=\"evenodd\" fill-opacity=\"1\" /><path clip-path=\"url(#clip400)\" d=\"M1107.66 28.5427 L1107.66 35.5912 Q1104.5 33.9709 1101.1 33.1607 Q1097.7 32.3505 1094.05 32.3505 Q1088.5 32.3505 1085.71 34.0519 Q1082.95 35.7533 1082.95 39.156 Q1082.95 41.7486 1084.94 43.2475 Q1086.92 44.7058 1092.92 46.0426 L1095.47 46.6097 Q1103.41 48.3111 1106.73 51.4303 Q1110.09 54.509 1110.09 60.0587 Q1110.09 66.3781 1105.07 70.0644 Q1100.09 73.7508 1091.34 73.7508 Q1087.69 73.7508 1083.72 73.0216 Q1079.79 72.3329 1075.42 70.9151 L1075.42 63.2184 Q1079.55 65.3654 1083.56 66.4591 Q1087.57 67.5124 1091.5 67.5124 Q1096.77 67.5124 1099.6 65.73 Q1102.44 63.9071 1102.44 60.6258 Q1102.44 57.5877 1100.37 55.9673 Q1098.35 54.3469 1091.42 52.8481 L1088.83 52.2405 Q1081.9 50.7821 1078.82 47.7845 Q1075.74 44.7463 1075.74 39.4801 Q1075.74 33.0797 1080.28 29.5959 Q1084.82 26.1121 1093.16 26.1121 Q1097.29 26.1121 1100.94 26.7198 Q1104.58 27.3274 1107.66 28.5427 Z\" fill=\"#000000\" fill-rule=\"evenodd\" fill-opacity=\"1\" /><path clip-path=\"url(#clip400)\" d=\"M1129.34 14.324 L1129.34 27.2059 L1144.69 27.2059 L1144.69 32.9987 L1129.34 32.9987 L1129.34 57.6282 Q1129.34 63.1779 1130.83 64.7578 Q1132.37 66.3376 1137.03 66.3376 L1144.69 66.3376 L1144.69 72.576 L1137.03 72.576 Q1128.4 72.576 1125.12 69.3758 Q1121.84 66.1351 1121.84 57.6282 L1121.84 32.9987 L1116.37 32.9987 L1116.37 27.2059 L1121.84 27.2059 L1121.84 14.324 L1129.34 14.324 Z\" fill=\"#000000\" fill-rule=\"evenodd\" fill-opacity=\"1\" /><path clip-path=\"url(#clip400)\" d=\"M1180.78 34.1734 Q1179.53 33.4443 1178.03 33.1202 Q1176.57 32.7556 1174.79 32.7556 Q1168.47 32.7556 1165.06 36.8875 Q1161.7 40.9789 1161.7 48.6757 L1161.7 72.576 L1154.21 72.576 L1154.21 27.2059 L1161.7 27.2059 L1161.7 34.2544 Q1164.05 30.1225 1167.82 28.1376 Q1171.59 26.1121 1176.97 26.1121 Q1177.74 26.1121 1178.68 26.2337 Q1179.61 26.3147 1180.74 26.5172 L1180.78 34.1734 Z\" fill=\"#000000\" fill-rule=\"evenodd\" fill-opacity=\"1\" /><path clip-path=\"url(#clip400)\" d=\"M1188.6 27.2059 L1196.05 27.2059 L1196.05 72.576 L1188.6 72.576 L1188.6 27.2059 M1188.6 9.54393 L1196.05 9.54393 L1196.05 18.9825 L1188.6 18.9825 L1188.6 9.54393 Z\" fill=\"#000000\" fill-rule=\"evenodd\" fill-opacity=\"1\" /><path clip-path=\"url(#clip400)\" d=\"M1244.22 49.9314 Q1244.22 41.7081 1240.82 37.0496 Q1237.45 32.3505 1231.54 32.3505 Q1225.63 32.3505 1222.22 37.0496 Q1218.86 41.7081 1218.86 49.9314 Q1218.86 58.1548 1222.22 62.8538 Q1225.63 67.5124 1231.54 67.5124 Q1237.45 67.5124 1240.82 62.8538 Q1244.22 58.1548 1244.22 49.9314 M1218.86 34.0924 Q1221.21 30.0415 1224.78 28.0971 Q1228.38 26.1121 1233.36 26.1121 Q1241.63 26.1121 1246.77 32.6746 Q1251.96 39.2371 1251.96 49.9314 Q1251.96 60.6258 1246.77 67.1883 Q1241.63 73.7508 1233.36 73.7508 Q1228.38 73.7508 1224.78 71.8063 Q1221.21 69.8214 1218.86 65.7705 L1218.86 72.576 L1211.37 72.576 L1211.37 9.54393 L1218.86 9.54393 L1218.86 34.0924 Z\" fill=\"#000000\" fill-rule=\"evenodd\" fill-opacity=\"1\" /><path clip-path=\"url(#clip400)\" d=\"M1263.54 54.671 L1263.54 27.2059 L1271 27.2059 L1271 54.3874 Q1271 60.8284 1273.51 64.0691 Q1276.02 67.2693 1281.04 67.2693 Q1287.08 67.2693 1290.56 63.421 Q1294.09 59.5726 1294.09 52.9291 L1294.09 27.2059 L1301.54 27.2059 L1301.54 72.576 L1294.09 72.576 L1294.09 65.6084 Q1291.37 69.7404 1287.77 71.7658 Q1284.2 73.7508 1279.46 73.7508 Q1271.64 73.7508 1267.59 68.8897 Q1263.54 64.0286 1263.54 54.671 M1282.3 26.1121 L1282.3 26.1121 Z\" fill=\"#000000\" fill-rule=\"evenodd\" fill-opacity=\"1\" /><path clip-path=\"url(#clip400)\" d=\"M1324.27 14.324 L1324.27 27.2059 L1339.62 27.2059 L1339.62 32.9987 L1324.27 32.9987 L1324.27 57.6282 Q1324.27 63.1779 1325.76 64.7578 Q1327.3 66.3376 1331.96 66.3376 L1339.62 66.3376 L1339.62 72.576 L1331.96 72.576 Q1323.33 72.576 1320.05 69.3758 Q1316.77 66.1351 1316.77 57.6282 L1316.77 32.9987 L1311.3 32.9987 L1311.3 27.2059 L1316.77 27.2059 L1316.77 14.324 L1324.27 14.324 Z\" fill=\"#000000\" fill-rule=\"evenodd\" fill-opacity=\"1\" /><path clip-path=\"url(#clip400)\" d=\"M1349.42 27.2059 L1356.88 27.2059 L1356.88 72.576 L1349.42 72.576 L1349.42 27.2059 M1349.42 9.54393 L1356.88 9.54393 L1356.88 18.9825 L1349.42 18.9825 L1349.42 9.54393 Z\" fill=\"#000000\" fill-rule=\"evenodd\" fill-opacity=\"1\" /><path clip-path=\"url(#clip400)\" d=\"M1390.05 32.4315 Q1384.06 32.4315 1380.57 37.1306 Q1377.09 41.7891 1377.09 49.9314 Q1377.09 58.0738 1380.53 62.7728 Q1384.02 67.4314 1390.05 67.4314 Q1396.01 67.4314 1399.49 62.7323 Q1402.97 58.0333 1402.97 49.9314 Q1402.97 41.8701 1399.49 37.1711 Q1396.01 32.4315 1390.05 32.4315 M1390.05 26.1121 Q1399.77 26.1121 1405.32 32.4315 Q1410.87 38.7509 1410.87 49.9314 Q1410.87 61.0714 1405.32 67.4314 Q1399.77 73.7508 1390.05 73.7508 Q1380.29 73.7508 1374.74 67.4314 Q1369.23 61.0714 1369.23 49.9314 Q1369.23 38.7509 1374.74 32.4315 Q1380.29 26.1121 1390.05 26.1121 Z\" fill=\"#000000\" fill-rule=\"evenodd\" fill-opacity=\"1\" /><path clip-path=\"url(#clip400)\" d=\"M1460.94 45.1919 L1460.94 72.576 L1453.49 72.576 L1453.49 45.4349 Q1453.49 38.994 1450.98 35.7938 Q1448.47 32.5936 1443.44 32.5936 Q1437.41 32.5936 1433.92 36.4419 Q1430.44 40.2903 1430.44 46.9338 L1430.44 72.576 L1422.95 72.576 L1422.95 27.2059 L1430.44 27.2059 L1430.44 34.2544 Q1433.11 30.163 1436.72 28.1376 Q1440.36 26.1121 1445.1 26.1121 Q1452.92 26.1121 1456.93 30.9732 Q1460.94 35.7938 1460.94 45.1919 Z\" fill=\"#000000\" fill-rule=\"evenodd\" fill-opacity=\"1\" /><path clip-path=\"url(#clip400)\" d=\"M1504.73 28.5427 L1504.73 35.5912 Q1501.57 33.9709 1498.17 33.1607 Q1494.77 32.3505 1491.12 32.3505 Q1485.57 32.3505 1482.78 34.0519 Q1480.02 35.7533 1480.02 39.156 Q1480.02 41.7486 1482.01 43.2475 Q1483.99 44.7058 1489.99 46.0426 L1492.54 46.6097 Q1500.48 48.3111 1503.8 51.4303 Q1507.16 54.509 1507.16 60.0587 Q1507.16 66.3781 1502.14 70.0644 Q1497.16 73.7508 1488.41 73.7508 Q1484.76 73.7508 1480.79 73.0216 Q1476.86 72.3329 1472.49 70.9151 L1472.49 63.2184 Q1476.62 65.3654 1480.63 66.4591 Q1484.64 67.5124 1488.57 67.5124 Q1493.84 67.5124 1496.67 65.73 Q1499.51 63.9071 1499.51 60.6258 Q1499.51 57.5877 1497.44 55.9673 Q1495.42 54.3469 1488.49 52.8481 L1485.9 52.2405 Q1478.97 50.7821 1475.89 47.7845 Q1472.81 44.7463 1472.81 39.4801 Q1472.81 33.0797 1477.35 29.5959 Q1481.89 26.1121 1490.23 26.1121 Q1494.36 26.1121 1498.01 26.7198 Q1501.65 27.3274 1504.73 28.5427 Z\" fill=\"#000000\" fill-rule=\"evenodd\" fill-opacity=\"1\" /><polyline clip-path=\"url(#clip402)\" style=\"stroke:#009af9; stroke-linecap:butt; stroke-linejoin:round; stroke-width:8; stroke-opacity:1; fill:none\" points=\"\n",
       "  290.818,151.29 334.7,272.719 378.581,410.516 422.463,552.679 466.345,687.503 510.227,805.477 554.109,900.674 597.99,971.279 641.872,1019.15 685.754,1048.62 \n",
       "  729.636,1064.94 773.517,1073.01 817.399,1076.55 861.281,1077.91 905.163,1078.37 949.045,1078.51 992.926,1078.55 1036.81,1078.56 1080.69,1078.56 1124.57,1078.56 \n",
       "  1168.45,1078.56 1212.34,1078.56 1256.22,1078.56 1300.1,1078.56 1343.98,1078.56 1387.86,1078.56 1431.74,1078.56 1475.63,1078.56 1519.51,1078.56 1563.39,1078.56 \n",
       "  1607.27,1078.56 1651.15,1078.56 1695.03,1078.56 1738.92,1078.56 1782.8,1078.56 1826.68,1078.56 \n",
       "  \"/>\n",
       "<polyline clip-path=\"url(#clip402)\" style=\"stroke:#e26f46; stroke-linecap:butt; stroke-linejoin:round; stroke-width:8; stroke-opacity:1; fill:none\" points=\"\n",
       "  290.818,1040.98 334.7,1026.22 378.581,1007.08 422.463,982.985 466.345,953.658 510.227,919.32 554.109,880.919 597.99,840.322 641.872,800.408 685.754,764.974 \n",
       "  729.636,738.38 773.517,724.894 817.399,727.806 861.281,748.474 905.163,785.599 949.045,835.05 992.926,890.49 1036.81,944.765 1080.69,991.685 1124.57,1027.53 \n",
       "  1168.45,1051.63 1212.34,1065.84 1256.22,1073.18 1300.1,1076.51 1343.98,1077.85 1387.86,1078.34 1431.74,1078.5 1475.63,1078.54 1519.51,1078.56 1563.39,1078.56 \n",
       "  1607.27,1078.56 1651.15,1078.56 1695.03,1078.56 1738.92,1078.56 1782.8,1078.56 1826.68,1078.56 \n",
       "  \"/>\n",
       "<path clip-path=\"url(#clip400)\" d=\"\n",
       "M1058.23 311.756 L1818.49 311.756 L1818.49 156.236 L1058.23 156.236  Z\n",
       "  \" fill=\"#ffffff\" fill-rule=\"evenodd\" fill-opacity=\"1\"/>\n",
       "<polyline clip-path=\"url(#clip400)\" style=\"stroke:#000000; stroke-linecap:butt; stroke-linejoin:round; stroke-width:4; stroke-opacity:1; fill:none\" points=\"\n",
       "  1058.23,311.756 1818.49,311.756 1818.49,156.236 1058.23,156.236 1058.23,311.756 \n",
       "  \"/>\n",
       "<polyline clip-path=\"url(#clip400)\" style=\"stroke:#009af9; stroke-linecap:butt; stroke-linejoin:round; stroke-width:4; stroke-opacity:1; fill:none\" points=\"\n",
       "  1076.32,208.076 1184.85,208.076 \n",
       "  \"/>\n",
       "<path clip-path=\"url(#clip400)\" d=\"M1207.22 221.467 L1207.22 235.217 L1202.94 235.217 L1202.94 199.43 L1207.22 199.43 L1207.22 203.365 Q1208.56 201.05 1210.6 199.939 Q1212.66 198.805 1215.51 198.805 Q1220.23 198.805 1223.17 202.555 Q1226.13 206.305 1226.13 212.416 Q1226.13 218.527 1223.17 222.277 Q1220.23 226.027 1215.51 226.027 Q1212.66 226.027 1210.6 224.916 Q1208.56 223.782 1207.22 221.467 M1221.71 212.416 Q1221.71 207.717 1219.77 205.055 Q1217.85 202.37 1214.47 202.37 Q1211.09 202.37 1209.14 205.055 Q1207.22 207.717 1207.22 212.416 Q1207.22 217.115 1209.14 219.8 Q1211.09 222.462 1214.47 222.462 Q1217.85 222.462 1219.77 219.8 Q1221.71 217.115 1221.71 212.416 Z\" fill=\"#000000\" fill-rule=\"evenodd\" fill-opacity=\"1\" /><path clip-path=\"url(#clip400)\" d=\"M1243.24 202.416 Q1239.81 202.416 1237.82 205.101 Q1235.83 207.763 1235.83 212.416 Q1235.83 217.069 1237.8 219.754 Q1239.79 222.416 1243.24 222.416 Q1246.64 222.416 1248.63 219.731 Q1250.62 217.046 1250.62 212.416 Q1250.62 207.81 1248.63 205.124 Q1246.64 202.416 1243.24 202.416 M1243.24 198.805 Q1248.8 198.805 1251.97 202.416 Q1255.14 206.027 1255.14 212.416 Q1255.14 218.782 1251.97 222.416 Q1248.8 226.027 1243.24 226.027 Q1237.66 226.027 1234.49 222.416 Q1231.34 218.782 1231.34 212.416 Q1231.34 206.027 1234.49 202.416 Q1237.66 198.805 1243.24 198.805 Z\" fill=\"#000000\" fill-rule=\"evenodd\" fill-opacity=\"1\" /><path clip-path=\"url(#clip400)\" d=\"M1278.73 200.194 L1278.73 204.222 Q1276.92 203.296 1274.98 202.833 Q1273.03 202.37 1270.95 202.37 Q1267.78 202.37 1266.18 203.342 Q1264.61 204.314 1264.61 206.259 Q1264.61 207.74 1265.74 208.597 Q1266.87 209.43 1270.3 210.194 L1271.76 210.518 Q1276.29 211.49 1278.19 213.272 Q1280.11 215.032 1280.11 218.203 Q1280.11 221.814 1277.24 223.921 Q1274.4 226.027 1269.4 226.027 Q1267.31 226.027 1265.04 225.61 Q1262.8 225.217 1260.3 224.407 L1260.3 220.009 Q1262.66 221.235 1264.95 221.86 Q1267.24 222.462 1269.49 222.462 Q1272.5 222.462 1274.12 221.444 Q1275.74 220.402 1275.74 218.527 Q1275.74 216.791 1274.56 215.865 Q1273.4 214.939 1269.44 214.083 L1267.96 213.735 Q1264 212.902 1262.24 211.189 Q1260.48 209.453 1260.48 206.444 Q1260.48 202.786 1263.08 200.796 Q1265.67 198.805 1270.44 198.805 Q1272.8 198.805 1274.88 199.152 Q1276.97 199.499 1278.73 200.194 Z\" fill=\"#000000\" fill-rule=\"evenodd\" fill-opacity=\"1\" /><path clip-path=\"url(#clip400)\" d=\"M1291.11 192.069 L1291.11 199.43 L1299.88 199.43 L1299.88 202.74 L1291.11 202.74 L1291.11 216.814 Q1291.11 219.985 1291.97 220.888 Q1292.85 221.791 1295.51 221.791 L1299.88 221.791 L1299.88 225.356 L1295.51 225.356 Q1290.58 225.356 1288.7 223.527 Q1286.83 221.675 1286.83 216.814 L1286.83 202.74 L1283.7 202.74 L1283.7 199.43 L1286.83 199.43 L1286.83 192.069 L1291.11 192.069 Z\" fill=\"#000000\" fill-rule=\"evenodd\" fill-opacity=\"1\" /><path clip-path=\"url(#clip400)\" d=\"M1327.66 211.328 L1327.66 213.411 L1308.08 213.411 Q1308.35 217.809 1310.72 220.124 Q1313.1 222.416 1317.34 222.416 Q1319.79 222.416 1322.08 221.814 Q1324.4 221.212 1326.66 220.009 L1326.66 224.036 Q1324.37 225.008 1321.97 225.518 Q1319.56 226.027 1317.08 226.027 Q1310.88 226.027 1307.24 222.416 Q1303.63 218.805 1303.63 212.647 Q1303.63 206.282 1307.06 202.555 Q1310.51 198.805 1316.34 198.805 Q1321.57 198.805 1324.6 202.185 Q1327.66 205.541 1327.66 211.328 M1323.4 210.078 Q1323.35 206.583 1321.43 204.499 Q1319.54 202.416 1316.39 202.416 Q1312.82 202.416 1310.67 204.43 Q1308.54 206.444 1308.22 210.101 L1323.4 210.078 Z\" fill=\"#000000\" fill-rule=\"evenodd\" fill-opacity=\"1\" /><path clip-path=\"url(#clip400)\" d=\"M1349.67 203.411 Q1348.96 202.995 1348.1 202.81 Q1347.27 202.601 1346.25 202.601 Q1342.64 202.601 1340.69 204.962 Q1338.77 207.3 1338.77 211.698 L1338.77 225.356 L1334.49 225.356 L1334.49 199.43 L1338.77 199.43 L1338.77 203.458 Q1340.11 201.097 1342.27 199.962 Q1344.42 198.805 1347.5 198.805 Q1347.94 198.805 1348.47 198.874 Q1349 198.921 1349.65 199.036 L1349.67 203.411 Z\" fill=\"#000000\" fill-rule=\"evenodd\" fill-opacity=\"1\" /><path clip-path=\"url(#clip400)\" d=\"M1354.14 199.43 L1358.4 199.43 L1358.4 225.356 L1354.14 225.356 L1354.14 199.43 M1354.14 189.337 L1358.4 189.337 L1358.4 194.731 L1354.14 194.731 L1354.14 189.337 Z\" fill=\"#000000\" fill-rule=\"evenodd\" fill-opacity=\"1\" /><path clip-path=\"url(#clip400)\" d=\"M1377.36 202.416 Q1373.93 202.416 1371.94 205.101 Q1369.95 207.763 1369.95 212.416 Q1369.95 217.069 1371.92 219.754 Q1373.91 222.416 1377.36 222.416 Q1380.76 222.416 1382.75 219.731 Q1384.74 217.046 1384.74 212.416 Q1384.74 207.81 1382.75 205.124 Q1380.76 202.416 1377.36 202.416 M1377.36 198.805 Q1382.91 198.805 1386.09 202.416 Q1389.26 206.027 1389.26 212.416 Q1389.26 218.782 1386.09 222.416 Q1382.91 226.027 1377.36 226.027 Q1371.78 226.027 1368.61 222.416 Q1365.46 218.782 1365.46 212.416 Q1365.46 206.027 1368.61 202.416 Q1371.78 198.805 1377.36 198.805 Z\" fill=\"#000000\" fill-rule=\"evenodd\" fill-opacity=\"1\" /><path clip-path=\"url(#clip400)\" d=\"M1411.34 203.411 Q1410.62 202.995 1409.77 202.81 Q1408.93 202.601 1407.91 202.601 Q1404.3 202.601 1402.36 204.962 Q1400.44 207.3 1400.44 211.698 L1400.44 225.356 L1396.16 225.356 L1396.16 199.43 L1400.44 199.43 L1400.44 203.458 Q1401.78 201.097 1403.93 199.962 Q1406.09 198.805 1409.16 198.805 Q1409.6 198.805 1410.14 198.874 Q1410.67 198.921 1411.32 199.036 L1411.34 203.411 Z\" fill=\"#000000\" fill-rule=\"evenodd\" fill-opacity=\"1\" /><path clip-path=\"url(#clip400)\" d=\"M1428.4 199.43 L1432.66 199.43 L1437.98 219.661 L1443.28 199.43 L1448.31 199.43 L1453.63 219.661 L1458.93 199.43 L1463.19 199.43 L1456.41 225.356 L1451.39 225.356 L1445.81 204.106 L1440.21 225.356 L1435.18 225.356 L1428.4 199.43 Z\" fill=\"#000000\" fill-rule=\"evenodd\" fill-opacity=\"1\" /><path clip-path=\"url(#clip400)\" d=\"M1469.65 199.43 L1473.91 199.43 L1473.91 225.356 L1469.65 225.356 L1469.65 199.43 M1469.65 189.337 L1473.91 189.337 L1473.91 194.731 L1469.65 194.731 L1469.65 189.337 Z\" fill=\"#000000\" fill-rule=\"evenodd\" fill-opacity=\"1\" /><path clip-path=\"url(#clip400)\" d=\"M1487.03 192.069 L1487.03 199.43 L1495.81 199.43 L1495.81 202.74 L1487.03 202.74 L1487.03 216.814 Q1487.03 219.985 1487.89 220.888 Q1488.77 221.791 1491.43 221.791 L1495.81 221.791 L1495.81 225.356 L1491.43 225.356 Q1486.5 225.356 1484.63 223.527 Q1482.75 221.675 1482.75 216.814 L1482.75 202.74 L1479.63 202.74 L1479.63 199.43 L1482.75 199.43 L1482.75 192.069 L1487.03 192.069 Z\" fill=\"#000000\" fill-rule=\"evenodd\" fill-opacity=\"1\" /><path clip-path=\"url(#clip400)\" d=\"M1522.96 209.708 L1522.96 225.356 L1518.7 225.356 L1518.7 209.847 Q1518.7 206.166 1517.27 204.337 Q1515.83 202.509 1512.96 202.509 Q1509.51 202.509 1507.52 204.708 Q1505.53 206.907 1505.53 210.703 L1505.53 225.356 L1501.25 225.356 L1501.25 189.337 L1505.53 189.337 L1505.53 203.458 Q1507.06 201.12 1509.12 199.962 Q1511.2 198.805 1513.91 198.805 Q1518.38 198.805 1520.67 201.583 Q1522.96 204.337 1522.96 209.708 Z\" fill=\"#000000\" fill-rule=\"evenodd\" fill-opacity=\"1\" /><path clip-path=\"url(#clip400)\" d=\"M1547.94 221.421 L1555.58 221.421 L1555.58 195.055 L1547.27 196.722 L1547.27 192.462 L1555.53 190.796 L1560.21 190.796 L1560.21 221.421 L1567.84 221.421 L1567.84 225.356 L1547.94 225.356 L1547.94 221.421 Z\" fill=\"#000000\" fill-rule=\"evenodd\" fill-opacity=\"1\" /><path clip-path=\"url(#clip400)\" d=\"M1581.32 221.421 L1597.64 221.421 L1597.64 225.356 L1575.69 225.356 L1575.69 221.421 Q1578.35 218.666 1582.94 214.036 Q1587.54 209.384 1588.72 208.041 Q1590.97 205.518 1591.85 203.782 Q1592.75 202.023 1592.75 200.333 Q1592.75 197.578 1590.81 195.842 Q1588.89 194.106 1585.78 194.106 Q1583.58 194.106 1581.13 194.87 Q1578.7 195.634 1575.92 197.185 L1575.92 192.462 Q1578.75 191.328 1581.2 190.749 Q1583.65 190.171 1585.69 190.171 Q1591.06 190.171 1594.26 192.856 Q1597.45 195.541 1597.45 200.032 Q1597.45 202.161 1596.64 204.083 Q1595.85 205.981 1593.75 208.573 Q1593.17 209.245 1590.07 212.462 Q1586.96 215.657 1581.32 221.421 Z\" fill=\"#000000\" fill-rule=\"evenodd\" fill-opacity=\"1\" /><path clip-path=\"url(#clip400)\" d=\"M1640.58 200.425 L1640.58 204.407 Q1638.77 203.411 1636.94 202.925 Q1635.14 202.416 1633.28 202.416 Q1629.14 202.416 1626.85 205.055 Q1624.56 207.671 1624.56 212.416 Q1624.56 217.161 1626.85 219.8 Q1629.14 222.416 1633.28 222.416 Q1635.14 222.416 1636.94 221.93 Q1638.77 221.421 1640.58 220.425 L1640.58 224.36 Q1638.79 225.194 1636.87 225.61 Q1634.97 226.027 1632.82 226.027 Q1626.96 226.027 1623.52 222.346 Q1620.07 218.666 1620.07 212.416 Q1620.07 206.073 1623.54 202.439 Q1627.03 198.805 1633.1 198.805 Q1635.07 198.805 1636.94 199.222 Q1638.82 199.615 1640.58 200.425 Z\" fill=\"#000000\" fill-rule=\"evenodd\" fill-opacity=\"1\" /><path clip-path=\"url(#clip400)\" d=\"M1658.03 202.416 Q1654.6 202.416 1652.61 205.101 Q1650.62 207.763 1650.62 212.416 Q1650.62 217.069 1652.59 219.754 Q1654.58 222.416 1658.03 222.416 Q1661.43 222.416 1663.42 219.731 Q1665.41 217.046 1665.41 212.416 Q1665.41 207.81 1663.42 205.124 Q1661.43 202.416 1658.03 202.416 M1658.03 198.805 Q1663.58 198.805 1666.76 202.416 Q1669.93 206.027 1669.93 212.416 Q1669.93 218.782 1666.76 222.416 Q1663.58 226.027 1658.03 226.027 Q1652.45 226.027 1649.28 222.416 Q1646.13 218.782 1646.13 212.416 Q1646.13 206.027 1649.28 202.416 Q1652.45 198.805 1658.03 198.805 Z\" fill=\"#000000\" fill-rule=\"evenodd\" fill-opacity=\"1\" /><path clip-path=\"url(#clip400)\" d=\"M1692.01 203.411 Q1691.29 202.995 1690.44 202.81 Q1689.6 202.601 1688.58 202.601 Q1684.97 202.601 1683.03 204.962 Q1681.11 207.3 1681.11 211.698 L1681.11 225.356 L1676.83 225.356 L1676.83 199.43 L1681.11 199.43 L1681.11 203.458 Q1682.45 201.097 1684.6 199.962 Q1686.76 198.805 1689.83 198.805 Q1690.27 198.805 1690.81 198.874 Q1691.34 198.921 1691.99 199.036 L1692.01 203.411 Z\" fill=\"#000000\" fill-rule=\"evenodd\" fill-opacity=\"1\" /><path clip-path=\"url(#clip400)\" d=\"M1710.67 203.411 Q1709.95 202.995 1709.09 202.81 Q1708.26 202.601 1707.24 202.601 Q1703.63 202.601 1701.69 204.962 Q1699.76 207.3 1699.76 211.698 L1699.76 225.356 L1695.48 225.356 L1695.48 199.43 L1699.76 199.43 L1699.76 203.458 Q1701.11 201.097 1703.26 199.962 Q1705.41 198.805 1708.49 198.805 Q1708.93 198.805 1709.46 198.874 Q1710 198.921 1710.64 199.036 L1710.67 203.411 Z\" fill=\"#000000\" fill-rule=\"evenodd\" fill-opacity=\"1\" /><path clip-path=\"url(#clip400)\" d=\"M1736.27 211.328 L1736.27 213.411 L1716.69 213.411 Q1716.96 217.809 1719.32 220.124 Q1721.71 222.416 1725.95 222.416 Q1728.4 222.416 1730.69 221.814 Q1733.01 221.212 1735.27 220.009 L1735.27 224.036 Q1732.98 225.008 1730.57 225.518 Q1728.17 226.027 1725.69 226.027 Q1719.49 226.027 1715.85 222.416 Q1712.24 218.805 1712.24 212.647 Q1712.24 206.282 1715.67 202.555 Q1719.12 198.805 1724.95 198.805 Q1730.18 198.805 1733.21 202.185 Q1736.27 205.541 1736.27 211.328 M1732.01 210.078 Q1731.96 206.583 1730.04 204.499 Q1728.14 202.416 1725 202.416 Q1721.43 202.416 1719.28 204.43 Q1717.15 206.444 1716.82 210.101 L1732.01 210.078 Z\" fill=\"#000000\" fill-rule=\"evenodd\" fill-opacity=\"1\" /><path clip-path=\"url(#clip400)\" d=\"M1761.92 200.425 L1761.92 204.407 Q1760.11 203.411 1758.28 202.925 Q1756.48 202.416 1754.63 202.416 Q1750.48 202.416 1748.19 205.055 Q1745.9 207.671 1745.9 212.416 Q1745.9 217.161 1748.19 219.8 Q1750.48 222.416 1754.63 222.416 Q1756.48 222.416 1758.28 221.93 Q1760.11 221.421 1761.92 220.425 L1761.92 224.36 Q1760.13 225.194 1758.21 225.61 Q1756.32 226.027 1754.16 226.027 Q1748.31 226.027 1744.86 222.346 Q1741.41 218.666 1741.41 212.416 Q1741.41 206.073 1744.88 202.439 Q1748.38 198.805 1754.44 198.805 Q1756.41 198.805 1758.28 199.222 Q1760.16 199.615 1761.92 200.425 Z\" fill=\"#000000\" fill-rule=\"evenodd\" fill-opacity=\"1\" /><path clip-path=\"url(#clip400)\" d=\"M1773.54 192.069 L1773.54 199.43 L1782.31 199.43 L1782.31 202.74 L1773.54 202.74 L1773.54 216.814 Q1773.54 219.985 1774.39 220.888 Q1775.27 221.791 1777.94 221.791 L1782.31 221.791 L1782.31 225.356 L1777.94 225.356 Q1773.01 225.356 1771.13 223.527 Q1769.26 221.675 1769.26 216.814 L1769.26 202.74 L1766.13 202.74 L1766.13 199.43 L1769.26 199.43 L1769.26 192.069 L1773.54 192.069 Z\" fill=\"#000000\" fill-rule=\"evenodd\" fill-opacity=\"1\" /><polyline clip-path=\"url(#clip400)\" style=\"stroke:#e26f46; stroke-linecap:butt; stroke-linejoin:round; stroke-width:4; stroke-opacity:1; fill:none\" points=\"\n",
       "  1076.32,259.916 1184.85,259.916 \n",
       "  \"/>\n",
       "<path clip-path=\"url(#clip400)\" d=\"M1207.22 273.307 L1207.22 287.057 L1202.94 287.057 L1202.94 251.27 L1207.22 251.27 L1207.22 255.205 Q1208.56 252.89 1210.6 251.779 Q1212.66 250.645 1215.51 250.645 Q1220.23 250.645 1223.17 254.395 Q1226.13 258.145 1226.13 264.256 Q1226.13 270.367 1223.17 274.117 Q1220.23 277.867 1215.51 277.867 Q1212.66 277.867 1210.6 276.756 Q1208.56 275.622 1207.22 273.307 M1221.71 264.256 Q1221.71 259.557 1219.77 256.895 Q1217.85 254.21 1214.47 254.21 Q1211.09 254.21 1209.14 256.895 Q1207.22 259.557 1207.22 264.256 Q1207.22 268.955 1209.14 271.64 Q1211.09 274.302 1214.47 274.302 Q1217.85 274.302 1219.77 271.64 Q1221.71 268.955 1221.71 264.256 Z\" fill=\"#000000\" fill-rule=\"evenodd\" fill-opacity=\"1\" /><path clip-path=\"url(#clip400)\" d=\"M1243.24 254.256 Q1239.81 254.256 1237.82 256.941 Q1235.83 259.603 1235.83 264.256 Q1235.83 268.909 1237.8 271.594 Q1239.79 274.256 1243.24 274.256 Q1246.64 274.256 1248.63 271.571 Q1250.62 268.886 1250.62 264.256 Q1250.62 259.65 1248.63 256.964 Q1246.64 254.256 1243.24 254.256 M1243.24 250.645 Q1248.8 250.645 1251.97 254.256 Q1255.14 257.867 1255.14 264.256 Q1255.14 270.622 1251.97 274.256 Q1248.8 277.867 1243.24 277.867 Q1237.66 277.867 1234.49 274.256 Q1231.34 270.622 1231.34 264.256 Q1231.34 257.867 1234.49 254.256 Q1237.66 250.645 1243.24 250.645 Z\" fill=\"#000000\" fill-rule=\"evenodd\" fill-opacity=\"1\" /><path clip-path=\"url(#clip400)\" d=\"M1278.73 252.034 L1278.73 256.062 Q1276.92 255.136 1274.98 254.673 Q1273.03 254.21 1270.95 254.21 Q1267.78 254.21 1266.18 255.182 Q1264.61 256.154 1264.61 258.099 Q1264.61 259.58 1265.74 260.437 Q1266.87 261.27 1270.3 262.034 L1271.76 262.358 Q1276.29 263.33 1278.19 265.112 Q1280.11 266.872 1280.11 270.043 Q1280.11 273.654 1277.24 275.761 Q1274.4 277.867 1269.4 277.867 Q1267.31 277.867 1265.04 277.45 Q1262.8 277.057 1260.3 276.247 L1260.3 271.849 Q1262.66 273.075 1264.95 273.7 Q1267.24 274.302 1269.49 274.302 Q1272.5 274.302 1274.12 273.284 Q1275.74 272.242 1275.74 270.367 Q1275.74 268.631 1274.56 267.705 Q1273.4 266.779 1269.44 265.923 L1267.96 265.575 Q1264 264.742 1262.24 263.029 Q1260.48 261.293 1260.48 258.284 Q1260.48 254.626 1263.08 252.636 Q1265.67 250.645 1270.44 250.645 Q1272.8 250.645 1274.88 250.992 Q1276.97 251.339 1278.73 252.034 Z\" fill=\"#000000\" fill-rule=\"evenodd\" fill-opacity=\"1\" /><path clip-path=\"url(#clip400)\" d=\"M1291.11 243.909 L1291.11 251.27 L1299.88 251.27 L1299.88 254.58 L1291.11 254.58 L1291.11 268.654 Q1291.11 271.825 1291.97 272.728 Q1292.85 273.631 1295.51 273.631 L1299.88 273.631 L1299.88 277.196 L1295.51 277.196 Q1290.58 277.196 1288.7 275.367 Q1286.83 273.515 1286.83 268.654 L1286.83 254.58 L1283.7 254.58 L1283.7 251.27 L1286.83 251.27 L1286.83 243.909 L1291.11 243.909 Z\" fill=\"#000000\" fill-rule=\"evenodd\" fill-opacity=\"1\" /><path clip-path=\"url(#clip400)\" d=\"M1327.66 263.168 L1327.66 265.251 L1308.08 265.251 Q1308.35 269.649 1310.72 271.964 Q1313.1 274.256 1317.34 274.256 Q1319.79 274.256 1322.08 273.654 Q1324.4 273.052 1326.66 271.849 L1326.66 275.876 Q1324.37 276.848 1321.97 277.358 Q1319.56 277.867 1317.08 277.867 Q1310.88 277.867 1307.24 274.256 Q1303.63 270.645 1303.63 264.487 Q1303.63 258.122 1307.06 254.395 Q1310.51 250.645 1316.34 250.645 Q1321.57 250.645 1324.6 254.025 Q1327.66 257.381 1327.66 263.168 M1323.4 261.918 Q1323.35 258.423 1321.43 256.339 Q1319.54 254.256 1316.39 254.256 Q1312.82 254.256 1310.67 256.27 Q1308.54 258.284 1308.22 261.941 L1323.4 261.918 Z\" fill=\"#000000\" fill-rule=\"evenodd\" fill-opacity=\"1\" /><path clip-path=\"url(#clip400)\" d=\"M1349.67 255.251 Q1348.96 254.835 1348.1 254.65 Q1347.27 254.441 1346.25 254.441 Q1342.64 254.441 1340.69 256.802 Q1338.77 259.14 1338.77 263.538 L1338.77 277.196 L1334.49 277.196 L1334.49 251.27 L1338.77 251.27 L1338.77 255.298 Q1340.11 252.937 1342.27 251.802 Q1344.42 250.645 1347.5 250.645 Q1347.94 250.645 1348.47 250.714 Q1349 250.761 1349.65 250.876 L1349.67 255.251 Z\" fill=\"#000000\" fill-rule=\"evenodd\" fill-opacity=\"1\" /><path clip-path=\"url(#clip400)\" d=\"M1354.14 251.27 L1358.4 251.27 L1358.4 277.196 L1354.14 277.196 L1354.14 251.27 M1354.14 241.177 L1358.4 241.177 L1358.4 246.571 L1354.14 246.571 L1354.14 241.177 Z\" fill=\"#000000\" fill-rule=\"evenodd\" fill-opacity=\"1\" /><path clip-path=\"url(#clip400)\" d=\"M1377.36 254.256 Q1373.93 254.256 1371.94 256.941 Q1369.95 259.603 1369.95 264.256 Q1369.95 268.909 1371.92 271.594 Q1373.91 274.256 1377.36 274.256 Q1380.76 274.256 1382.75 271.571 Q1384.74 268.886 1384.74 264.256 Q1384.74 259.65 1382.75 256.964 Q1380.76 254.256 1377.36 254.256 M1377.36 250.645 Q1382.91 250.645 1386.09 254.256 Q1389.26 257.867 1389.26 264.256 Q1389.26 270.622 1386.09 274.256 Q1382.91 277.867 1377.36 277.867 Q1371.78 277.867 1368.61 274.256 Q1365.46 270.622 1365.46 264.256 Q1365.46 257.867 1368.61 254.256 Q1371.78 250.645 1377.36 250.645 Z\" fill=\"#000000\" fill-rule=\"evenodd\" fill-opacity=\"1\" /><path clip-path=\"url(#clip400)\" d=\"M1411.34 255.251 Q1410.62 254.835 1409.77 254.65 Q1408.93 254.441 1407.91 254.441 Q1404.3 254.441 1402.36 256.802 Q1400.44 259.14 1400.44 263.538 L1400.44 277.196 L1396.16 277.196 L1396.16 251.27 L1400.44 251.27 L1400.44 255.298 Q1401.78 252.937 1403.93 251.802 Q1406.09 250.645 1409.16 250.645 Q1409.6 250.645 1410.14 250.714 Q1410.67 250.761 1411.32 250.876 L1411.34 255.251 Z\" fill=\"#000000\" fill-rule=\"evenodd\" fill-opacity=\"1\" /><path clip-path=\"url(#clip400)\" d=\"M1428.4 251.27 L1432.66 251.27 L1437.98 271.501 L1443.28 251.27 L1448.31 251.27 L1453.63 271.501 L1458.93 251.27 L1463.19 251.27 L1456.41 277.196 L1451.39 277.196 L1445.81 255.946 L1440.21 277.196 L1435.18 277.196 L1428.4 251.27 Z\" fill=\"#000000\" fill-rule=\"evenodd\" fill-opacity=\"1\" /><path clip-path=\"url(#clip400)\" d=\"M1469.65 251.27 L1473.91 251.27 L1473.91 277.196 L1469.65 277.196 L1469.65 251.27 M1469.65 241.177 L1473.91 241.177 L1473.91 246.571 L1469.65 246.571 L1469.65 241.177 Z\" fill=\"#000000\" fill-rule=\"evenodd\" fill-opacity=\"1\" /><path clip-path=\"url(#clip400)\" d=\"M1487.03 243.909 L1487.03 251.27 L1495.81 251.27 L1495.81 254.58 L1487.03 254.58 L1487.03 268.654 Q1487.03 271.825 1487.89 272.728 Q1488.77 273.631 1491.43 273.631 L1495.81 273.631 L1495.81 277.196 L1491.43 277.196 Q1486.5 277.196 1484.63 275.367 Q1482.75 273.515 1482.75 268.654 L1482.75 254.58 L1479.63 254.58 L1479.63 251.27 L1482.75 251.27 L1482.75 243.909 L1487.03 243.909 Z\" fill=\"#000000\" fill-rule=\"evenodd\" fill-opacity=\"1\" /><path clip-path=\"url(#clip400)\" d=\"M1522.96 261.548 L1522.96 277.196 L1518.7 277.196 L1518.7 261.687 Q1518.7 258.006 1517.27 256.177 Q1515.83 254.349 1512.96 254.349 Q1509.51 254.349 1507.52 256.548 Q1505.53 258.747 1505.53 262.543 L1505.53 277.196 L1501.25 277.196 L1501.25 241.177 L1505.53 241.177 L1505.53 255.298 Q1507.06 252.96 1509.12 251.802 Q1511.2 250.645 1513.91 250.645 Q1518.38 250.645 1520.67 253.423 Q1522.96 256.177 1522.96 261.548 Z\" fill=\"#000000\" fill-rule=\"evenodd\" fill-opacity=\"1\" /><path clip-path=\"url(#clip400)\" d=\"M1551.15 273.261 L1567.47 273.261 L1567.47 277.196 L1545.53 277.196 L1545.53 273.261 Q1548.19 270.506 1552.77 265.876 Q1557.38 261.224 1558.56 259.881 Q1560.81 257.358 1561.69 255.622 Q1562.59 253.863 1562.59 252.173 Q1562.59 249.418 1560.65 247.682 Q1558.72 245.946 1555.62 245.946 Q1553.42 245.946 1550.97 246.71 Q1548.54 247.474 1545.76 249.025 L1545.76 244.302 Q1548.59 243.168 1551.04 242.589 Q1553.49 242.011 1555.53 242.011 Q1560.9 242.011 1564.09 244.696 Q1567.29 247.381 1567.29 251.872 Q1567.29 254.001 1566.48 255.923 Q1565.69 257.821 1563.59 260.413 Q1563.01 261.085 1559.9 264.302 Q1556.8 267.497 1551.15 273.261 Z\" fill=\"#000000\" fill-rule=\"evenodd\" fill-opacity=\"1\" /><path clip-path=\"url(#clip400)\" d=\"M1587.29 245.714 Q1583.68 245.714 1581.85 249.279 Q1580.04 252.821 1580.04 259.95 Q1580.04 267.057 1581.85 270.622 Q1583.68 274.163 1587.29 274.163 Q1590.92 274.163 1592.73 270.622 Q1594.56 267.057 1594.56 259.95 Q1594.56 252.821 1592.73 249.279 Q1590.92 245.714 1587.29 245.714 M1587.29 242.011 Q1593.1 242.011 1596.15 246.617 Q1599.23 251.2 1599.23 259.95 Q1599.23 268.677 1596.15 273.284 Q1593.1 277.867 1587.29 277.867 Q1581.48 277.867 1578.4 273.284 Q1575.34 268.677 1575.34 259.95 Q1575.34 251.2 1578.4 246.617 Q1581.48 242.011 1587.29 242.011 Z\" fill=\"#000000\" fill-rule=\"evenodd\" fill-opacity=\"1\" /><path clip-path=\"url(#clip400)\" d=\"M1640.58 252.265 L1640.58 256.247 Q1638.77 255.251 1636.94 254.765 Q1635.14 254.256 1633.28 254.256 Q1629.14 254.256 1626.85 256.895 Q1624.56 259.511 1624.56 264.256 Q1624.56 269.001 1626.85 271.64 Q1629.14 274.256 1633.28 274.256 Q1635.14 274.256 1636.94 273.77 Q1638.77 273.261 1640.58 272.265 L1640.58 276.2 Q1638.79 277.034 1636.87 277.45 Q1634.97 277.867 1632.82 277.867 Q1626.96 277.867 1623.52 274.186 Q1620.07 270.506 1620.07 264.256 Q1620.07 257.913 1623.54 254.279 Q1627.03 250.645 1633.1 250.645 Q1635.07 250.645 1636.94 251.062 Q1638.82 251.455 1640.58 252.265 Z\" fill=\"#000000\" fill-rule=\"evenodd\" fill-opacity=\"1\" /><path clip-path=\"url(#clip400)\" d=\"M1658.03 254.256 Q1654.6 254.256 1652.61 256.941 Q1650.62 259.603 1650.62 264.256 Q1650.62 268.909 1652.59 271.594 Q1654.58 274.256 1658.03 274.256 Q1661.43 274.256 1663.42 271.571 Q1665.41 268.886 1665.41 264.256 Q1665.41 259.65 1663.42 256.964 Q1661.43 254.256 1658.03 254.256 M1658.03 250.645 Q1663.58 250.645 1666.76 254.256 Q1669.93 257.867 1669.93 264.256 Q1669.93 270.622 1666.76 274.256 Q1663.58 277.867 1658.03 277.867 Q1652.45 277.867 1649.28 274.256 Q1646.13 270.622 1646.13 264.256 Q1646.13 257.867 1649.28 254.256 Q1652.45 250.645 1658.03 250.645 Z\" fill=\"#000000\" fill-rule=\"evenodd\" fill-opacity=\"1\" /><path clip-path=\"url(#clip400)\" d=\"M1692.01 255.251 Q1691.29 254.835 1690.44 254.65 Q1689.6 254.441 1688.58 254.441 Q1684.97 254.441 1683.03 256.802 Q1681.11 259.14 1681.11 263.538 L1681.11 277.196 L1676.83 277.196 L1676.83 251.27 L1681.11 251.27 L1681.11 255.298 Q1682.45 252.937 1684.6 251.802 Q1686.76 250.645 1689.83 250.645 Q1690.27 250.645 1690.81 250.714 Q1691.34 250.761 1691.99 250.876 L1692.01 255.251 Z\" fill=\"#000000\" fill-rule=\"evenodd\" fill-opacity=\"1\" /><path clip-path=\"url(#clip400)\" d=\"M1710.67 255.251 Q1709.95 254.835 1709.09 254.65 Q1708.26 254.441 1707.24 254.441 Q1703.63 254.441 1701.69 256.802 Q1699.76 259.14 1699.76 263.538 L1699.76 277.196 L1695.48 277.196 L1695.48 251.27 L1699.76 251.27 L1699.76 255.298 Q1701.11 252.937 1703.26 251.802 Q1705.41 250.645 1708.49 250.645 Q1708.93 250.645 1709.46 250.714 Q1710 250.761 1710.64 250.876 L1710.67 255.251 Z\" fill=\"#000000\" fill-rule=\"evenodd\" fill-opacity=\"1\" /><path clip-path=\"url(#clip400)\" d=\"M1736.27 263.168 L1736.27 265.251 L1716.69 265.251 Q1716.96 269.649 1719.32 271.964 Q1721.71 274.256 1725.95 274.256 Q1728.4 274.256 1730.69 273.654 Q1733.01 273.052 1735.27 271.849 L1735.27 275.876 Q1732.98 276.848 1730.57 277.358 Q1728.17 277.867 1725.69 277.867 Q1719.49 277.867 1715.85 274.256 Q1712.24 270.645 1712.24 264.487 Q1712.24 258.122 1715.67 254.395 Q1719.12 250.645 1724.95 250.645 Q1730.18 250.645 1733.21 254.025 Q1736.27 257.381 1736.27 263.168 M1732.01 261.918 Q1731.96 258.423 1730.04 256.339 Q1728.14 254.256 1725 254.256 Q1721.43 254.256 1719.28 256.27 Q1717.15 258.284 1716.82 261.941 L1732.01 261.918 Z\" fill=\"#000000\" fill-rule=\"evenodd\" fill-opacity=\"1\" /><path clip-path=\"url(#clip400)\" d=\"M1761.92 252.265 L1761.92 256.247 Q1760.11 255.251 1758.28 254.765 Q1756.48 254.256 1754.63 254.256 Q1750.48 254.256 1748.19 256.895 Q1745.9 259.511 1745.9 264.256 Q1745.9 269.001 1748.19 271.64 Q1750.48 274.256 1754.63 274.256 Q1756.48 274.256 1758.28 273.77 Q1760.11 273.261 1761.92 272.265 L1761.92 276.2 Q1760.13 277.034 1758.21 277.45 Q1756.32 277.867 1754.16 277.867 Q1748.31 277.867 1744.86 274.186 Q1741.41 270.506 1741.41 264.256 Q1741.41 257.913 1744.88 254.279 Q1748.38 250.645 1754.44 250.645 Q1756.41 250.645 1758.28 251.062 Q1760.16 251.455 1761.92 252.265 Z\" fill=\"#000000\" fill-rule=\"evenodd\" fill-opacity=\"1\" /><path clip-path=\"url(#clip400)\" d=\"M1773.54 243.909 L1773.54 251.27 L1782.31 251.27 L1782.31 254.58 L1773.54 254.58 L1773.54 268.654 Q1773.54 271.825 1774.39 272.728 Q1775.27 273.631 1777.94 273.631 L1782.31 273.631 L1782.31 277.196 L1777.94 277.196 Q1773.01 277.196 1771.13 275.367 Q1769.26 273.515 1769.26 268.654 L1769.26 254.58 L1766.13 254.58 L1766.13 251.27 L1769.26 251.27 L1769.26 243.909 L1773.54 243.909 Z\" fill=\"#000000\" fill-rule=\"evenodd\" fill-opacity=\"1\" /></svg>\n"
      ]
     },
     "execution_count": 40,
     "metadata": {},
     "output_type": "execute_result"
    }
   ],
   "source": [
    "plot(posterior1, label=\"posterior with 12 correct\")\n",
    "plot!(posterior2, label=\"posterior with 20 correct\")\n",
    "\n",
    "xlabel!(\"Number of sensitive subjects\")\n",
    "ylabel!(\"PMF\")\n",
    "title!(\"Posterior distributions\")"
   ]
  },
  {
   "cell_type": "code",
   "execution_count": 41,
   "id": "ac3753dc-3203-49f2-9a54-6d32b7cad0b8",
   "metadata": {},
   "outputs": [
    {
     "data": {
      "text/plain": [
       "0"
      ]
     },
     "execution_count": 41,
     "metadata": {},
     "output_type": "execute_result"
    }
   ],
   "source": [
    "maxprob(posterior1)"
   ]
  },
  {
   "cell_type": "code",
   "execution_count": 42,
   "id": "df344a8b-bbec-44e1-a9be-ad5874240157",
   "metadata": {},
   "outputs": [
    {
     "data": {
      "text/plain": [
       "11"
      ]
     },
     "execution_count": 42,
     "metadata": {},
     "output_type": "execute_result"
    }
   ],
   "source": [
    "maxprob(posterior2)"
   ]
  },
  {
   "cell_type": "markdown",
   "id": "32cba941-b63b-4f74-bbbe-05ddfd5771d4",
   "metadata": {},
   "source": [
    "## Summary"
   ]
  },
  {
   "cell_type": "markdown",
   "id": "ca65cfca-9b15-476f-915d-e38ebc51a2e9",
   "metadata": {},
   "source": [
    "## Exercises"
   ]
  },
  {
   "cell_type": "code",
   "execution_count": 43,
   "id": "9465b50a-fd2e-4d1d-9e88-e29af19c9875",
   "metadata": {},
   "outputs": [],
   "source": [
    "# 6.2\n",
    "prior_odds = odds(1/3);"
   ]
  },
  {
   "cell_type": "code",
   "execution_count": 44,
   "id": "e9e0a13f-5ef9-4c5b-8f26-a5fe11af1530",
   "metadata": {},
   "outputs": [],
   "source": [
    "post_odds = prior_odds * 2 * 1.25;"
   ]
  },
  {
   "cell_type": "code",
   "execution_count": 45,
   "id": "0b410ac5-cfc6-4dbb-849a-7d7a2c5da124",
   "metadata": {},
   "outputs": [
    {
     "data": {
      "text/plain": [
       "0.5555555555555555"
      ]
     },
     "execution_count": 45,
     "metadata": {},
     "output_type": "execute_result"
    }
   ],
   "source": [
    "prob(post_odds)"
   ]
  },
  {
   "cell_type": "code",
   "execution_count": 46,
   "id": "dbf30541-fb83-461b-b31d-923121cb613f",
   "metadata": {},
   "outputs": [],
   "source": [
    "# 6.3\n",
    "prior_odds = odds(0.1);"
   ]
  },
  {
   "cell_type": "code",
   "execution_count": 47,
   "id": "24de7f7f-7c10-4e92-a9fa-82b2d53a2c82",
   "metadata": {},
   "outputs": [],
   "source": [
    "post_odds = prior_odds * 2 * 2 * 2;"
   ]
  },
  {
   "cell_type": "code",
   "execution_count": 48,
   "id": "3e39742f-e408-4690-b2a4-af8f10f7760d",
   "metadata": {},
   "outputs": [
    {
     "data": {
      "text/plain": [
       "0.4705882352941177"
      ]
     },
     "execution_count": 48,
     "metadata": {},
     "output_type": "execute_result"
    }
   ],
   "source": [
    "prob(post_odds)"
   ]
  },
  {
   "cell_type": "code",
   "execution_count": 49,
   "id": "93232c94-0d5a-4b2c-8ab7-a793d537cb92",
   "metadata": {},
   "outputs": [],
   "source": [
    "# 6.4\n",
    "prior_odds = odds(0.14);"
   ]
  },
  {
   "cell_type": "code",
   "execution_count": 50,
   "id": "71c77c88-c9be-4abf-829c-0215e65eb03f",
   "metadata": {},
   "outputs": [],
   "source": [
    "post_odds = prior_odds * 25;"
   ]
  },
  {
   "cell_type": "code",
   "execution_count": 51,
   "id": "55b52fec-56a1-4354-bca0-1cc37a28ee80",
   "metadata": {},
   "outputs": [
    {
     "data": {
      "text/plain": [
       "0.8027522935779816"
      ]
     },
     "execution_count": 51,
     "metadata": {},
     "output_type": "execute_result"
    }
   ],
   "source": [
    "prob(post_odds)"
   ]
  },
  {
   "cell_type": "code",
   "execution_count": 52,
   "id": "01840e7e-633f-4ac2-b08d-13bfc0462598",
   "metadata": {},
   "outputs": [],
   "source": [
    "# 6.5\n",
    "d6 = make_die(6);"
   ]
  },
  {
   "cell_type": "code",
   "execution_count": 53,
   "id": "f3307b51-b4e8-4e1e-8085-1e9996184632",
   "metadata": {},
   "outputs": [],
   "source": [
    "hit_points = adddist(d6, d6);"
   ]
  },
  {
   "cell_type": "code",
   "execution_count": 54,
   "id": "69e104cb-9e73-4e20-882f-7f3003166238",
   "metadata": {},
   "outputs": [],
   "source": [
    "damage = adddist(d6, 3);"
   ]
  },
  {
   "cell_type": "code",
   "execution_count": 55,
   "id": "3b262e45-659b-4445-b3ce-48d4e5041840",
   "metadata": {},
   "outputs": [
    {
     "data": {
      "text/plain": [
       "Pmf{Float64, Int64}"
      ]
     },
     "execution_count": 55,
     "metadata": {},
     "output_type": "execute_result"
    }
   ],
   "source": [
    "typeof(damage)"
   ]
  },
  {
   "cell_type": "code",
   "execution_count": 56,
   "id": "b1be0087-e07c-4cbf-a102-c600c17db72c",
   "metadata": {},
   "outputs": [
    {
     "data": {
      "image/svg+xml": [
       "<?xml version=\"1.0\" encoding=\"utf-8\"?>\n",
       "<svg xmlns=\"http://www.w3.org/2000/svg\" xmlns:xlink=\"http://www.w3.org/1999/xlink\" width=\"480\" height=\"320\" viewBox=\"0 0 1920 1280\">\n",
       "<defs>\n",
       "  <clipPath id=\"clip440\">\n",
       "    <rect x=\"0\" y=\"0\" width=\"1920\" height=\"1280\"/>\n",
       "  </clipPath>\n",
       "</defs>\n",
       "<path clip-path=\"url(#clip440)\" d=\"\n",
       "M0 1280 L1920 1280 L1920 0 L0 0  Z\n",
       "  \" fill=\"#ffffff\" fill-rule=\"evenodd\" fill-opacity=\"1\"/>\n",
       "<defs>\n",
       "  <clipPath id=\"clip441\">\n",
       "    <rect x=\"384\" y=\"0\" width=\"1345\" height=\"1280\"/>\n",
       "  </clipPath>\n",
       "</defs>\n",
       "<path clip-path=\"url(#clip440)\" d=\"\n",
       "M245.228 1106.38 L1872.76 1106.38 L1872.76 123.472 L245.228 123.472  Z\n",
       "  \" fill=\"#ffffff\" fill-rule=\"evenodd\" fill-opacity=\"1\"/>\n",
       "<defs>\n",
       "  <clipPath id=\"clip442\">\n",
       "    <rect x=\"245\" y=\"123\" width=\"1629\" height=\"984\"/>\n",
       "  </clipPath>\n",
       "</defs>\n",
       "<polyline clip-path=\"url(#clip442)\" style=\"stroke:#000000; stroke-linecap:butt; stroke-linejoin:round; stroke-width:2; stroke-opacity:0.1; fill:none\" points=\"\n",
       "  368.06,1106.38 368.06,123.472 \n",
       "  \"/>\n",
       "<polyline clip-path=\"url(#clip442)\" style=\"stroke:#000000; stroke-linecap:butt; stroke-linejoin:round; stroke-width:2; stroke-opacity:0.1; fill:none\" points=\"\n",
       "  751.911,1106.38 751.911,123.472 \n",
       "  \"/>\n",
       "<polyline clip-path=\"url(#clip442)\" style=\"stroke:#000000; stroke-linecap:butt; stroke-linejoin:round; stroke-width:2; stroke-opacity:0.1; fill:none\" points=\"\n",
       "  1135.76,1106.38 1135.76,123.472 \n",
       "  \"/>\n",
       "<polyline clip-path=\"url(#clip442)\" style=\"stroke:#000000; stroke-linecap:butt; stroke-linejoin:round; stroke-width:2; stroke-opacity:0.1; fill:none\" points=\"\n",
       "  1519.61,1106.38 1519.61,123.472 \n",
       "  \"/>\n",
       "<polyline clip-path=\"url(#clip440)\" style=\"stroke:#000000; stroke-linecap:butt; stroke-linejoin:round; stroke-width:4; stroke-opacity:1; fill:none\" points=\"\n",
       "  245.228,1106.38 1872.76,1106.38 \n",
       "  \"/>\n",
       "<polyline clip-path=\"url(#clip440)\" style=\"stroke:#000000; stroke-linecap:butt; stroke-linejoin:round; stroke-width:4; stroke-opacity:1; fill:none\" points=\"\n",
       "  368.06,1106.38 368.06,1087.48 \n",
       "  \"/>\n",
       "<polyline clip-path=\"url(#clip440)\" style=\"stroke:#000000; stroke-linecap:butt; stroke-linejoin:round; stroke-width:4; stroke-opacity:1; fill:none\" points=\"\n",
       "  751.911,1106.38 751.911,1087.48 \n",
       "  \"/>\n",
       "<polyline clip-path=\"url(#clip440)\" style=\"stroke:#000000; stroke-linecap:butt; stroke-linejoin:round; stroke-width:4; stroke-opacity:1; fill:none\" points=\"\n",
       "  1135.76,1106.38 1135.76,1087.48 \n",
       "  \"/>\n",
       "<polyline clip-path=\"url(#clip440)\" style=\"stroke:#000000; stroke-linecap:butt; stroke-linejoin:round; stroke-width:4; stroke-opacity:1; fill:none\" points=\"\n",
       "  1519.61,1106.38 1519.61,1087.48 \n",
       "  \"/>\n",
       "<path clip-path=\"url(#clip440)\" d=\"M339.797 1161 L356.116 1161 L356.116 1164.94 L334.172 1164.94 L334.172 1161 Q336.834 1158.25 341.417 1153.62 Q346.024 1148.97 347.204 1147.63 Q349.449 1145.1 350.329 1143.37 Q351.232 1141.61 351.232 1139.92 Q351.232 1137.16 349.287 1135.43 Q347.366 1133.69 344.264 1133.69 Q342.065 1133.69 339.612 1134.45 Q337.181 1135.22 334.403 1136.77 L334.403 1132.05 Q337.227 1130.91 339.681 1130.33 Q342.135 1129.75 344.172 1129.75 Q349.542 1129.75 352.736 1132.44 Q355.931 1135.13 355.931 1139.62 Q355.931 1141.75 355.121 1143.67 Q354.334 1145.56 352.227 1148.16 Q351.648 1148.83 348.547 1152.05 Q345.445 1155.24 339.797 1161 Z\" fill=\"#000000\" fill-rule=\"evenodd\" fill-opacity=\"1\" /><path clip-path=\"url(#clip440)\" d=\"M365.931 1159.06 L370.815 1159.06 L370.815 1164.94 L365.931 1164.94 L365.931 1159.06 Z\" fill=\"#000000\" fill-rule=\"evenodd\" fill-opacity=\"1\" /><path clip-path=\"url(#clip440)\" d=\"M381.046 1130.38 L399.403 1130.38 L399.403 1134.32 L385.329 1134.32 L385.329 1142.79 Q386.347 1142.44 387.366 1142.28 Q388.384 1142.09 389.403 1142.09 Q395.19 1142.09 398.57 1145.26 Q401.949 1148.44 401.949 1153.85 Q401.949 1159.43 398.477 1162.53 Q395.005 1165.61 388.685 1165.61 Q386.509 1165.61 384.241 1165.24 Q381.996 1164.87 379.588 1164.13 L379.588 1159.43 Q381.671 1160.56 383.894 1161.12 Q386.116 1161.68 388.593 1161.68 Q392.597 1161.68 394.935 1159.57 Q397.273 1157.46 397.273 1153.85 Q397.273 1150.24 394.935 1148.13 Q392.597 1146.03 388.593 1146.03 Q386.718 1146.03 384.843 1146.44 Q382.991 1146.86 381.046 1147.74 L381.046 1130.38 Z\" fill=\"#000000\" fill-rule=\"evenodd\" fill-opacity=\"1\" /><path clip-path=\"url(#clip440)\" d=\"M719.076 1130.38 L737.432 1130.38 L737.432 1134.32 L723.358 1134.32 L723.358 1142.79 Q724.377 1142.44 725.395 1142.28 Q726.414 1142.09 727.432 1142.09 Q733.219 1142.09 736.599 1145.26 Q739.979 1148.44 739.979 1153.85 Q739.979 1159.43 736.506 1162.53 Q733.034 1165.61 726.715 1165.61 Q724.539 1165.61 722.27 1165.24 Q720.025 1164.87 717.618 1164.13 L717.618 1159.43 Q719.701 1160.56 721.923 1161.12 Q724.145 1161.68 726.622 1161.68 Q730.627 1161.68 732.965 1159.57 Q735.303 1157.46 735.303 1153.85 Q735.303 1150.24 732.965 1148.13 Q730.627 1146.03 726.622 1146.03 Q724.747 1146.03 722.872 1146.44 Q721.02 1146.86 719.076 1147.74 L719.076 1130.38 Z\" fill=\"#000000\" fill-rule=\"evenodd\" fill-opacity=\"1\" /><path clip-path=\"url(#clip440)\" d=\"M749.191 1159.06 L754.076 1159.06 L754.076 1164.94 L749.191 1164.94 L749.191 1159.06 Z\" fill=\"#000000\" fill-rule=\"evenodd\" fill-opacity=\"1\" /><path clip-path=\"url(#clip440)\" d=\"M774.261 1133.46 Q770.65 1133.46 768.821 1137.02 Q767.015 1140.56 767.015 1147.69 Q767.015 1154.8 768.821 1158.37 Q770.65 1161.91 774.261 1161.91 Q777.895 1161.91 779.701 1158.37 Q781.529 1154.8 781.529 1147.69 Q781.529 1140.56 779.701 1137.02 Q777.895 1133.46 774.261 1133.46 M774.261 1129.75 Q780.071 1129.75 783.126 1134.36 Q786.205 1138.94 786.205 1147.69 Q786.205 1156.42 783.126 1161.03 Q780.071 1165.61 774.261 1165.61 Q768.451 1165.61 765.372 1161.03 Q762.316 1156.42 762.316 1147.69 Q762.316 1138.94 765.372 1134.36 Q768.451 1129.75 774.261 1129.75 Z\" fill=\"#000000\" fill-rule=\"evenodd\" fill-opacity=\"1\" /><path clip-path=\"url(#clip440)\" d=\"M1102.08 1130.38 L1124.3 1130.38 L1124.3 1132.37 L1111.76 1164.94 L1106.87 1164.94 L1118.68 1134.32 L1102.08 1134.32 L1102.08 1130.38 Z\" fill=\"#000000\" fill-rule=\"evenodd\" fill-opacity=\"1\" /><path clip-path=\"url(#clip440)\" d=\"M1133.42 1159.06 L1138.31 1159.06 L1138.31 1164.94 L1133.42 1164.94 L1133.42 1159.06 Z\" fill=\"#000000\" fill-rule=\"evenodd\" fill-opacity=\"1\" /><path clip-path=\"url(#clip440)\" d=\"M1148.54 1130.38 L1166.9 1130.38 L1166.9 1134.32 L1152.82 1134.32 L1152.82 1142.79 Q1153.84 1142.44 1154.86 1142.28 Q1155.88 1142.09 1156.9 1142.09 Q1162.68 1142.09 1166.06 1145.26 Q1169.44 1148.44 1169.44 1153.85 Q1169.44 1159.43 1165.97 1162.53 Q1162.5 1165.61 1156.18 1165.61 Q1154 1165.61 1151.73 1165.24 Q1149.49 1164.87 1147.08 1164.13 L1147.08 1159.43 Q1149.16 1160.56 1151.39 1161.12 Q1153.61 1161.68 1156.09 1161.68 Q1160.09 1161.68 1162.43 1159.57 Q1164.77 1157.46 1164.77 1153.85 Q1164.77 1150.24 1162.43 1148.13 Q1160.09 1146.03 1156.09 1146.03 Q1154.21 1146.03 1152.34 1146.44 Q1150.48 1146.86 1148.54 1147.74 L1148.54 1130.38 Z\" fill=\"#000000\" fill-rule=\"evenodd\" fill-opacity=\"1\" /><path clip-path=\"url(#clip440)\" d=\"M1471.69 1161 L1479.32 1161 L1479.32 1134.64 L1471.01 1136.31 L1471.01 1132.05 L1479.28 1130.38 L1483.95 1130.38 L1483.95 1161 L1491.59 1161 L1491.59 1164.94 L1471.69 1164.94 L1471.69 1161 Z\" fill=\"#000000\" fill-rule=\"evenodd\" fill-opacity=\"1\" /><path clip-path=\"url(#clip440)\" d=\"M1511.04 1133.46 Q1507.43 1133.46 1505.6 1137.02 Q1503.79 1140.56 1503.79 1147.69 Q1503.79 1154.8 1505.6 1158.37 Q1507.43 1161.91 1511.04 1161.91 Q1514.67 1161.91 1516.48 1158.37 Q1518.31 1154.8 1518.31 1147.69 Q1518.31 1140.56 1516.48 1137.02 Q1514.67 1133.46 1511.04 1133.46 M1511.04 1129.75 Q1516.85 1129.75 1519.9 1134.36 Q1522.98 1138.94 1522.98 1147.69 Q1522.98 1156.42 1519.9 1161.03 Q1516.85 1165.61 1511.04 1165.61 Q1505.23 1165.61 1502.15 1161.03 Q1499.09 1156.42 1499.09 1147.69 Q1499.09 1138.94 1502.15 1134.36 Q1505.23 1129.75 1511.04 1129.75 Z\" fill=\"#000000\" fill-rule=\"evenodd\" fill-opacity=\"1\" /><path clip-path=\"url(#clip440)\" d=\"M1531.2 1159.06 L1536.08 1159.06 L1536.08 1164.94 L1531.2 1164.94 L1531.2 1159.06 Z\" fill=\"#000000\" fill-rule=\"evenodd\" fill-opacity=\"1\" /><path clip-path=\"url(#clip440)\" d=\"M1556.27 1133.46 Q1552.66 1133.46 1550.83 1137.02 Q1549.02 1140.56 1549.02 1147.69 Q1549.02 1154.8 1550.83 1158.37 Q1552.66 1161.91 1556.27 1161.91 Q1559.9 1161.91 1561.71 1158.37 Q1563.54 1154.8 1563.54 1147.69 Q1563.54 1140.56 1561.71 1137.02 Q1559.9 1133.46 1556.27 1133.46 M1556.27 1129.75 Q1562.08 1129.75 1565.13 1134.36 Q1568.21 1138.94 1568.21 1147.69 Q1568.21 1156.42 1565.13 1161.03 Q1562.08 1165.61 1556.27 1165.61 Q1550.46 1165.61 1547.38 1161.03 Q1544.32 1156.42 1544.32 1147.69 Q1544.32 1138.94 1547.38 1134.36 Q1550.46 1129.75 1556.27 1129.75 Z\" fill=\"#000000\" fill-rule=\"evenodd\" fill-opacity=\"1\" /><path clip-path=\"url(#clip440)\" d=\"M935.832 1200.88 Q928.829 1200.88 924.692 1206.1 Q920.586 1211.32 920.586 1220.33 Q920.586 1229.31 924.692 1234.53 Q928.829 1239.75 935.832 1239.75 Q942.834 1239.75 946.908 1234.53 Q951.014 1229.31 951.014 1220.33 Q951.014 1211.32 946.908 1206.1 Q942.834 1200.88 935.832 1200.88 M935.832 1195.66 Q945.826 1195.66 951.809 1202.38 Q957.793 1209.06 957.793 1220.33 Q957.793 1231.57 951.809 1238.28 Q945.826 1244.97 935.832 1244.97 Q925.806 1244.97 919.79 1238.28 Q913.806 1231.6 913.806 1220.33 Q913.806 1209.06 919.79 1202.38 Q925.806 1195.66 935.832 1195.66 Z\" fill=\"#000000\" fill-rule=\"evenodd\" fill-opacity=\"1\" /><path clip-path=\"url(#clip440)\" d=\"M966.992 1229.98 L966.992 1208.4 L972.848 1208.4 L972.848 1229.75 Q972.848 1234.81 974.821 1237.36 Q976.795 1239.87 980.742 1239.87 Q985.484 1239.87 988.221 1236.85 Q990.99 1233.83 990.99 1228.61 L990.99 1208.4 L996.847 1208.4 L996.847 1244.04 L990.99 1244.04 L990.99 1238.57 Q988.858 1241.82 986.025 1243.41 Q983.224 1244.97 979.5 1244.97 Q973.357 1244.97 970.175 1241.15 Q966.992 1237.33 966.992 1229.98 M981.728 1207.54 L981.728 1207.54 Z\" fill=\"#000000\" fill-rule=\"evenodd\" fill-opacity=\"1\" /><path clip-path=\"url(#clip440)\" d=\"M1014.7 1198.27 L1014.7 1208.4 L1026.77 1208.4 L1026.77 1212.95 L1014.7 1212.95 L1014.7 1232.3 Q1014.7 1236.66 1015.88 1237.9 Q1017.09 1239.14 1020.75 1239.14 L1026.77 1239.14 L1026.77 1244.04 L1020.75 1244.04 Q1013.97 1244.04 1011.39 1241.53 Q1008.81 1238.98 1008.81 1232.3 L1008.81 1212.95 L1004.52 1212.95 L1004.52 1208.4 L1008.81 1208.4 L1008.81 1198.27 L1014.7 1198.27 Z\" fill=\"#000000\" fill-rule=\"evenodd\" fill-opacity=\"1\" /><path clip-path=\"url(#clip440)\" d=\"M1060.12 1209.76 L1060.12 1215.24 Q1057.64 1213.87 1055.12 1213.2 Q1052.64 1212.5 1050.1 1212.5 Q1044.4 1212.5 1041.25 1216.13 Q1038.1 1219.73 1038.1 1226.25 Q1038.1 1232.78 1041.25 1236.4 Q1044.4 1240 1050.1 1240 Q1052.64 1240 1055.12 1239.33 Q1057.64 1238.63 1060.12 1237.26 L1060.12 1242.68 Q1057.67 1243.82 1055.03 1244.39 Q1052.42 1244.97 1049.46 1244.97 Q1041.41 1244.97 1036.66 1239.91 Q1031.92 1234.85 1031.92 1226.25 Q1031.92 1217.53 1036.7 1212.53 Q1041.5 1207.54 1049.84 1207.54 Q1052.55 1207.54 1055.12 1208.11 Q1057.7 1208.65 1060.12 1209.76 Z\" fill=\"#000000\" fill-rule=\"evenodd\" fill-opacity=\"1\" /><path clip-path=\"url(#clip440)\" d=\"M1084.12 1212.5 Q1079.41 1212.5 1076.67 1216.19 Q1073.94 1219.85 1073.94 1226.25 Q1073.94 1232.65 1076.64 1236.34 Q1079.38 1240 1084.12 1240 Q1088.8 1240 1091.54 1236.31 Q1094.27 1232.62 1094.27 1226.25 Q1094.27 1219.92 1091.54 1216.23 Q1088.8 1212.5 1084.12 1212.5 M1084.12 1207.54 Q1091.76 1207.54 1096.12 1212.5 Q1100.48 1217.47 1100.48 1226.25 Q1100.48 1235 1096.12 1240 Q1091.76 1244.97 1084.12 1244.97 Q1076.45 1244.97 1072.09 1240 Q1067.76 1235 1067.76 1226.25 Q1067.76 1217.47 1072.09 1212.5 Q1076.45 1207.54 1084.12 1207.54 Z\" fill=\"#000000\" fill-rule=\"evenodd\" fill-opacity=\"1\" /><path clip-path=\"url(#clip440)\" d=\"M1137.94 1215.24 Q1140.14 1211.29 1143.19 1209.41 Q1146.25 1207.54 1150.39 1207.54 Q1155.96 1207.54 1158.98 1211.45 Q1162.01 1215.33 1162.01 1222.53 L1162.01 1244.04 L1156.12 1244.04 L1156.12 1222.72 Q1156.12 1217.59 1154.3 1215.11 Q1152.49 1212.63 1148.76 1212.63 Q1144.21 1212.63 1141.57 1215.65 Q1138.93 1218.68 1138.93 1223.9 L1138.93 1244.04 L1133.04 1244.04 L1133.04 1222.72 Q1133.04 1217.56 1131.23 1215.11 Q1129.41 1212.63 1125.63 1212.63 Q1121.14 1212.63 1118.5 1215.68 Q1115.85 1218.71 1115.85 1223.9 L1115.85 1244.04 L1109.97 1244.04 L1109.97 1208.4 L1115.85 1208.4 L1115.85 1213.93 Q1117.86 1210.66 1120.66 1209.1 Q1123.46 1207.54 1127.31 1207.54 Q1131.2 1207.54 1133.9 1209.51 Q1136.64 1211.48 1137.94 1215.24 Z\" fill=\"#000000\" fill-rule=\"evenodd\" fill-opacity=\"1\" /><path clip-path=\"url(#clip440)\" d=\"M1204.18 1224.76 L1204.18 1227.62 L1177.25 1227.62 Q1177.63 1233.67 1180.88 1236.85 Q1184.16 1240 1189.98 1240 Q1193.36 1240 1196.51 1239.17 Q1199.69 1238.35 1202.81 1236.69 L1202.81 1242.23 Q1199.66 1243.57 1196.35 1244.27 Q1193.04 1244.97 1189.63 1244.97 Q1181.1 1244.97 1176.11 1240 Q1171.14 1235.04 1171.14 1226.57 Q1171.14 1217.82 1175.85 1212.69 Q1180.59 1207.54 1188.61 1207.54 Q1195.81 1207.54 1199.98 1212.18 Q1204.18 1216.8 1204.18 1224.76 M1198.32 1223.04 Q1198.26 1218.23 1195.62 1215.37 Q1193.01 1212.5 1188.68 1212.5 Q1183.78 1212.5 1180.82 1215.27 Q1177.89 1218.04 1177.44 1223.07 L1198.32 1223.04 Z\" fill=\"#000000\" fill-rule=\"evenodd\" fill-opacity=\"1\" /><polyline clip-path=\"url(#clip442)\" style=\"stroke:#000000; stroke-linecap:butt; stroke-linejoin:round; stroke-width:2; stroke-opacity:0.1; fill:none\" points=\"\n",
       "  245.228,996.962 1872.76,996.962 \n",
       "  \"/>\n",
       "<polyline clip-path=\"url(#clip442)\" style=\"stroke:#000000; stroke-linecap:butt; stroke-linejoin:round; stroke-width:2; stroke-opacity:0.1; fill:none\" points=\"\n",
       "  245.228,863.435 1872.76,863.435 \n",
       "  \"/>\n",
       "<polyline clip-path=\"url(#clip442)\" style=\"stroke:#000000; stroke-linecap:butt; stroke-linejoin:round; stroke-width:2; stroke-opacity:0.1; fill:none\" points=\"\n",
       "  245.228,729.908 1872.76,729.908 \n",
       "  \"/>\n",
       "<polyline clip-path=\"url(#clip442)\" style=\"stroke:#000000; stroke-linecap:butt; stroke-linejoin:round; stroke-width:2; stroke-opacity:0.1; fill:none\" points=\"\n",
       "  245.228,596.381 1872.76,596.381 \n",
       "  \"/>\n",
       "<polyline clip-path=\"url(#clip442)\" style=\"stroke:#000000; stroke-linecap:butt; stroke-linejoin:round; stroke-width:2; stroke-opacity:0.1; fill:none\" points=\"\n",
       "  245.228,462.853 1872.76,462.853 \n",
       "  \"/>\n",
       "<polyline clip-path=\"url(#clip442)\" style=\"stroke:#000000; stroke-linecap:butt; stroke-linejoin:round; stroke-width:2; stroke-opacity:0.1; fill:none\" points=\"\n",
       "  245.228,329.326 1872.76,329.326 \n",
       "  \"/>\n",
       "<polyline clip-path=\"url(#clip442)\" style=\"stroke:#000000; stroke-linecap:butt; stroke-linejoin:round; stroke-width:2; stroke-opacity:0.1; fill:none\" points=\"\n",
       "  245.228,195.799 1872.76,195.799 \n",
       "  \"/>\n",
       "<polyline clip-path=\"url(#clip440)\" style=\"stroke:#000000; stroke-linecap:butt; stroke-linejoin:round; stroke-width:4; stroke-opacity:1; fill:none\" points=\"\n",
       "  245.228,1106.38 245.228,123.472 \n",
       "  \"/>\n",
       "<polyline clip-path=\"url(#clip440)\" style=\"stroke:#000000; stroke-linecap:butt; stroke-linejoin:round; stroke-width:4; stroke-opacity:1; fill:none\" points=\"\n",
       "  245.228,996.962 264.126,996.962 \n",
       "  \"/>\n",
       "<polyline clip-path=\"url(#clip440)\" style=\"stroke:#000000; stroke-linecap:butt; stroke-linejoin:round; stroke-width:4; stroke-opacity:1; fill:none\" points=\"\n",
       "  245.228,863.435 264.126,863.435 \n",
       "  \"/>\n",
       "<polyline clip-path=\"url(#clip440)\" style=\"stroke:#000000; stroke-linecap:butt; stroke-linejoin:round; stroke-width:4; stroke-opacity:1; fill:none\" points=\"\n",
       "  245.228,729.908 264.126,729.908 \n",
       "  \"/>\n",
       "<polyline clip-path=\"url(#clip440)\" style=\"stroke:#000000; stroke-linecap:butt; stroke-linejoin:round; stroke-width:4; stroke-opacity:1; fill:none\" points=\"\n",
       "  245.228,596.381 264.126,596.381 \n",
       "  \"/>\n",
       "<polyline clip-path=\"url(#clip440)\" style=\"stroke:#000000; stroke-linecap:butt; stroke-linejoin:round; stroke-width:4; stroke-opacity:1; fill:none\" points=\"\n",
       "  245.228,462.853 264.126,462.853 \n",
       "  \"/>\n",
       "<polyline clip-path=\"url(#clip440)\" style=\"stroke:#000000; stroke-linecap:butt; stroke-linejoin:round; stroke-width:4; stroke-opacity:1; fill:none\" points=\"\n",
       "  245.228,329.326 264.126,329.326 \n",
       "  \"/>\n",
       "<polyline clip-path=\"url(#clip440)\" style=\"stroke:#000000; stroke-linecap:butt; stroke-linejoin:round; stroke-width:4; stroke-opacity:1; fill:none\" points=\"\n",
       "  245.228,195.799 264.126,195.799 \n",
       "  \"/>\n",
       "<path clip-path=\"url(#clip440)\" d=\"M128.605 982.761 Q124.993 982.761 123.165 986.325 Q121.359 989.867 121.359 996.997 Q121.359 1004.1 123.165 1007.67 Q124.993 1011.21 128.605 1011.21 Q132.239 1011.21 134.044 1007.67 Q135.873 1004.1 135.873 996.997 Q135.873 989.867 134.044 986.325 Q132.239 982.761 128.605 982.761 M128.605 979.057 Q134.415 979.057 137.47 983.663 Q140.549 988.247 140.549 996.997 Q140.549 1005.72 137.47 1010.33 Q134.415 1014.91 128.605 1014.91 Q122.794 1014.91 119.716 1010.33 Q116.66 1005.72 116.66 996.997 Q116.66 988.247 119.716 983.663 Q122.794 979.057 128.605 979.057 Z\" fill=\"#000000\" fill-rule=\"evenodd\" fill-opacity=\"1\" /><path clip-path=\"url(#clip440)\" d=\"M148.766 1008.36 L153.651 1008.36 L153.651 1014.24 L148.766 1014.24 L148.766 1008.36 Z\" fill=\"#000000\" fill-rule=\"evenodd\" fill-opacity=\"1\" /><path clip-path=\"url(#clip440)\" d=\"M173.836 982.761 Q170.225 982.761 168.396 986.325 Q166.59 989.867 166.59 996.997 Q166.59 1004.1 168.396 1007.67 Q170.225 1011.21 173.836 1011.21 Q177.47 1011.21 179.276 1007.67 Q181.104 1004.1 181.104 996.997 Q181.104 989.867 179.276 986.325 Q177.47 982.761 173.836 982.761 M173.836 979.057 Q179.646 979.057 182.701 983.663 Q185.78 988.247 185.78 996.997 Q185.78 1005.72 182.701 1010.33 Q179.646 1014.91 173.836 1014.91 Q168.026 1014.91 164.947 1010.33 Q161.891 1005.72 161.891 996.997 Q161.891 988.247 164.947 983.663 Q168.026 979.057 173.836 979.057 Z\" fill=\"#000000\" fill-rule=\"evenodd\" fill-opacity=\"1\" /><path clip-path=\"url(#clip440)\" d=\"M206.845 983.756 L195.039 1002.2 L206.845 1002.2 L206.845 983.756 M205.618 979.682 L211.498 979.682 L211.498 1002.2 L216.428 1002.2 L216.428 1006.09 L211.498 1006.09 L211.498 1014.24 L206.845 1014.24 L206.845 1006.09 L191.243 1006.09 L191.243 1001.58 L205.618 979.682 Z\" fill=\"#000000\" fill-rule=\"evenodd\" fill-opacity=\"1\" /><path clip-path=\"url(#clip440)\" d=\"M128.929 849.233 Q125.318 849.233 123.489 852.798 Q121.683 856.34 121.683 863.469 Q121.683 870.576 123.489 874.141 Q125.318 877.682 128.929 877.682 Q132.563 877.682 134.368 874.141 Q136.197 870.576 136.197 863.469 Q136.197 856.34 134.368 852.798 Q132.563 849.233 128.929 849.233 M128.929 845.53 Q134.739 845.53 137.794 850.136 Q140.873 854.719 140.873 863.469 Q140.873 872.196 137.794 876.803 Q134.739 881.386 128.929 881.386 Q123.118 881.386 120.04 876.803 Q116.984 872.196 116.984 863.469 Q116.984 854.719 120.04 850.136 Q123.118 845.53 128.929 845.53 Z\" fill=\"#000000\" fill-rule=\"evenodd\" fill-opacity=\"1\" /><path clip-path=\"url(#clip440)\" d=\"M149.091 874.835 L153.975 874.835 L153.975 880.715 L149.091 880.715 L149.091 874.835 Z\" fill=\"#000000\" fill-rule=\"evenodd\" fill-opacity=\"1\" /><path clip-path=\"url(#clip440)\" d=\"M174.16 849.233 Q170.549 849.233 168.72 852.798 Q166.915 856.34 166.915 863.469 Q166.915 870.576 168.72 874.141 Q170.549 877.682 174.16 877.682 Q177.794 877.682 179.6 874.141 Q181.428 870.576 181.428 863.469 Q181.428 856.34 179.6 852.798 Q177.794 849.233 174.16 849.233 M174.16 845.53 Q179.97 845.53 183.026 850.136 Q186.104 854.719 186.104 863.469 Q186.104 872.196 183.026 876.803 Q179.97 881.386 174.16 881.386 Q168.35 881.386 165.271 876.803 Q162.215 872.196 162.215 863.469 Q162.215 854.719 165.271 850.136 Q168.35 845.53 174.16 845.53 Z\" fill=\"#000000\" fill-rule=\"evenodd\" fill-opacity=\"1\" /><path clip-path=\"url(#clip440)\" d=\"M204.9 861.571 Q201.752 861.571 199.9 863.724 Q198.072 865.877 198.072 869.627 Q198.072 873.354 199.9 875.53 Q201.752 877.682 204.9 877.682 Q208.049 877.682 209.877 875.53 Q211.729 873.354 211.729 869.627 Q211.729 865.877 209.877 863.724 Q208.049 861.571 204.9 861.571 M214.183 846.919 L214.183 851.178 Q212.424 850.345 210.618 849.905 Q208.836 849.465 207.076 849.465 Q202.447 849.465 199.993 852.59 Q197.563 855.715 197.215 862.034 Q198.581 860.02 200.641 858.956 Q202.701 857.868 205.178 857.868 Q210.387 857.868 213.396 861.039 Q216.428 864.187 216.428 869.627 Q216.428 874.951 213.28 878.168 Q210.132 881.386 204.9 881.386 Q198.905 881.386 195.734 876.803 Q192.563 872.196 192.563 863.469 Q192.563 855.275 196.451 850.414 Q200.34 845.53 206.891 845.53 Q208.65 845.53 210.433 845.877 Q212.238 846.224 214.183 846.919 Z\" fill=\"#000000\" fill-rule=\"evenodd\" fill-opacity=\"1\" /><path clip-path=\"url(#clip440)\" d=\"M129.183 715.706 Q125.572 715.706 123.743 719.271 Q121.938 722.813 121.938 729.942 Q121.938 737.049 123.743 740.614 Q125.572 744.155 129.183 744.155 Q132.817 744.155 134.623 740.614 Q136.452 737.049 136.452 729.942 Q136.452 722.813 134.623 719.271 Q132.817 715.706 129.183 715.706 M129.183 712.003 Q134.993 712.003 138.049 716.609 Q141.128 721.192 141.128 729.942 Q141.128 738.669 138.049 743.276 Q134.993 747.859 129.183 747.859 Q123.373 747.859 120.294 743.276 Q117.239 738.669 117.239 729.942 Q117.239 721.192 120.294 716.609 Q123.373 712.003 129.183 712.003 Z\" fill=\"#000000\" fill-rule=\"evenodd\" fill-opacity=\"1\" /><path clip-path=\"url(#clip440)\" d=\"M149.345 741.308 L154.229 741.308 L154.229 747.188 L149.345 747.188 L149.345 741.308 Z\" fill=\"#000000\" fill-rule=\"evenodd\" fill-opacity=\"1\" /><path clip-path=\"url(#clip440)\" d=\"M174.414 715.706 Q170.803 715.706 168.975 719.271 Q167.169 722.813 167.169 729.942 Q167.169 737.049 168.975 740.614 Q170.803 744.155 174.414 744.155 Q178.049 744.155 179.854 740.614 Q181.683 737.049 181.683 729.942 Q181.683 722.813 179.854 719.271 Q178.049 715.706 174.414 715.706 M174.414 712.003 Q180.225 712.003 183.28 716.609 Q186.359 721.192 186.359 729.942 Q186.359 738.669 183.28 743.276 Q180.225 747.859 174.414 747.859 Q168.604 747.859 165.526 743.276 Q162.47 738.669 162.47 729.942 Q162.47 721.192 165.526 716.609 Q168.604 712.003 174.414 712.003 Z\" fill=\"#000000\" fill-rule=\"evenodd\" fill-opacity=\"1\" /><path clip-path=\"url(#clip440)\" d=\"M204.576 730.776 Q201.243 730.776 199.322 732.558 Q197.424 734.34 197.424 737.465 Q197.424 740.59 199.322 742.373 Q201.243 744.155 204.576 744.155 Q207.91 744.155 209.831 742.373 Q211.752 740.567 211.752 737.465 Q211.752 734.34 209.831 732.558 Q207.933 730.776 204.576 730.776 M199.9 728.785 Q196.891 728.044 195.201 725.984 Q193.535 723.924 193.535 720.961 Q193.535 716.817 196.475 714.41 Q199.437 712.003 204.576 712.003 Q209.738 712.003 212.678 714.41 Q215.618 716.817 215.618 720.961 Q215.618 723.924 213.928 725.984 Q212.261 728.044 209.275 728.785 Q212.655 729.572 214.53 731.864 Q216.428 734.155 216.428 737.465 Q216.428 742.489 213.349 745.174 Q210.294 747.859 204.576 747.859 Q198.859 747.859 195.78 745.174 Q192.725 742.489 192.725 737.465 Q192.725 734.155 194.623 731.864 Q196.521 729.572 199.9 728.785 M198.187 721.401 Q198.187 724.086 199.854 725.591 Q201.544 727.095 204.576 727.095 Q207.586 727.095 209.275 725.591 Q210.988 724.086 210.988 721.401 Q210.988 718.716 209.275 717.211 Q207.586 715.706 204.576 715.706 Q201.544 715.706 199.854 717.211 Q198.187 718.716 198.187 721.401 Z\" fill=\"#000000\" fill-rule=\"evenodd\" fill-opacity=\"1\" /><path clip-path=\"url(#clip440)\" d=\"M129.091 582.179 Q125.48 582.179 123.651 585.744 Q121.845 589.286 121.845 596.415 Q121.845 603.522 123.651 607.087 Q125.48 610.628 129.091 610.628 Q132.725 610.628 134.53 607.087 Q136.359 603.522 136.359 596.415 Q136.359 589.286 134.53 585.744 Q132.725 582.179 129.091 582.179 M129.091 578.476 Q134.901 578.476 137.956 583.082 Q141.035 587.665 141.035 596.415 Q141.035 605.142 137.956 609.749 Q134.901 614.332 129.091 614.332 Q123.28 614.332 120.202 609.749 Q117.146 605.142 117.146 596.415 Q117.146 587.665 120.202 583.082 Q123.28 578.476 129.091 578.476 Z\" fill=\"#000000\" fill-rule=\"evenodd\" fill-opacity=\"1\" /><path clip-path=\"url(#clip440)\" d=\"M149.253 607.781 L154.137 607.781 L154.137 613.661 L149.253 613.661 L149.253 607.781 Z\" fill=\"#000000\" fill-rule=\"evenodd\" fill-opacity=\"1\" /><path clip-path=\"url(#clip440)\" d=\"M165.132 609.725 L172.771 609.725 L172.771 583.36 L164.461 585.026 L164.461 580.767 L172.725 579.101 L177.401 579.101 L177.401 609.725 L185.039 609.725 L185.039 613.661 L165.132 613.661 L165.132 609.725 Z\" fill=\"#000000\" fill-rule=\"evenodd\" fill-opacity=\"1\" /><path clip-path=\"url(#clip440)\" d=\"M204.484 582.179 Q200.873 582.179 199.044 585.744 Q197.238 589.286 197.238 596.415 Q197.238 603.522 199.044 607.087 Q200.873 610.628 204.484 610.628 Q208.118 610.628 209.924 607.087 Q211.752 603.522 211.752 596.415 Q211.752 589.286 209.924 585.744 Q208.118 582.179 204.484 582.179 M204.484 578.476 Q210.294 578.476 213.349 583.082 Q216.428 587.665 216.428 596.415 Q216.428 605.142 213.349 609.749 Q210.294 614.332 204.484 614.332 Q198.674 614.332 195.595 609.749 Q192.539 605.142 192.539 596.415 Q192.539 587.665 195.595 583.082 Q198.674 578.476 204.484 578.476 Z\" fill=\"#000000\" fill-rule=\"evenodd\" fill-opacity=\"1\" /><path clip-path=\"url(#clip440)\" d=\"M130.688 448.652 Q127.077 448.652 125.248 452.217 Q123.443 455.759 123.443 462.888 Q123.443 469.995 125.248 473.559 Q127.077 477.101 130.688 477.101 Q134.322 477.101 136.128 473.559 Q137.956 469.995 137.956 462.888 Q137.956 455.759 136.128 452.217 Q134.322 448.652 130.688 448.652 M130.688 444.948 Q136.498 444.948 139.554 449.555 Q142.632 454.138 142.632 462.888 Q142.632 471.615 139.554 476.221 Q136.498 480.805 130.688 480.805 Q124.878 480.805 121.799 476.221 Q118.743 471.615 118.743 462.888 Q118.743 454.138 121.799 449.555 Q124.878 444.948 130.688 444.948 Z\" fill=\"#000000\" fill-rule=\"evenodd\" fill-opacity=\"1\" /><path clip-path=\"url(#clip440)\" d=\"M150.85 474.254 L155.734 474.254 L155.734 480.133 L150.85 480.133 L150.85 474.254 Z\" fill=\"#000000\" fill-rule=\"evenodd\" fill-opacity=\"1\" /><path clip-path=\"url(#clip440)\" d=\"M166.729 476.198 L174.368 476.198 L174.368 449.833 L166.058 451.499 L166.058 447.24 L174.322 445.573 L178.998 445.573 L178.998 476.198 L186.637 476.198 L186.637 480.133 L166.729 480.133 L166.729 476.198 Z\" fill=\"#000000\" fill-rule=\"evenodd\" fill-opacity=\"1\" /><path clip-path=\"url(#clip440)\" d=\"M200.109 476.198 L216.428 476.198 L216.428 480.133 L194.484 480.133 L194.484 476.198 Q197.146 473.444 201.729 468.814 Q206.336 464.161 207.516 462.819 Q209.762 460.296 210.641 458.56 Q211.544 456.8 211.544 455.11 Q211.544 452.356 209.599 450.62 Q207.678 448.884 204.576 448.884 Q202.377 448.884 199.924 449.648 Q197.493 450.411 194.715 451.962 L194.715 447.24 Q197.539 446.106 199.993 445.527 Q202.447 444.948 204.484 444.948 Q209.854 444.948 213.049 447.634 Q216.243 450.319 216.243 454.81 Q216.243 456.939 215.433 458.86 Q214.646 460.759 212.539 463.351 Q211.961 464.022 208.859 467.24 Q205.757 470.434 200.109 476.198 Z\" fill=\"#000000\" fill-rule=\"evenodd\" fill-opacity=\"1\" /><path clip-path=\"url(#clip440)\" d=\"M128.605 315.125 Q124.993 315.125 123.165 318.69 Q121.359 322.232 121.359 329.361 Q121.359 336.468 123.165 340.032 Q124.993 343.574 128.605 343.574 Q132.239 343.574 134.044 340.032 Q135.873 336.468 135.873 329.361 Q135.873 322.232 134.044 318.69 Q132.239 315.125 128.605 315.125 M128.605 311.421 Q134.415 311.421 137.47 316.028 Q140.549 320.611 140.549 329.361 Q140.549 338.088 137.47 342.694 Q134.415 347.278 128.605 347.278 Q122.794 347.278 119.716 342.694 Q116.66 338.088 116.66 329.361 Q116.66 320.611 119.716 316.028 Q122.794 311.421 128.605 311.421 Z\" fill=\"#000000\" fill-rule=\"evenodd\" fill-opacity=\"1\" /><path clip-path=\"url(#clip440)\" d=\"M148.766 340.727 L153.651 340.727 L153.651 346.606 L148.766 346.606 L148.766 340.727 Z\" fill=\"#000000\" fill-rule=\"evenodd\" fill-opacity=\"1\" /><path clip-path=\"url(#clip440)\" d=\"M164.646 342.671 L172.285 342.671 L172.285 316.306 L163.975 317.972 L163.975 313.713 L172.239 312.046 L176.914 312.046 L176.914 342.671 L184.553 342.671 L184.553 346.606 L164.646 346.606 L164.646 342.671 Z\" fill=\"#000000\" fill-rule=\"evenodd\" fill-opacity=\"1\" /><path clip-path=\"url(#clip440)\" d=\"M206.845 316.12 L195.039 334.569 L206.845 334.569 L206.845 316.12 M205.618 312.046 L211.498 312.046 L211.498 334.569 L216.428 334.569 L216.428 338.458 L211.498 338.458 L211.498 346.606 L206.845 346.606 L206.845 338.458 L191.243 338.458 L191.243 333.944 L205.618 312.046 Z\" fill=\"#000000\" fill-rule=\"evenodd\" fill-opacity=\"1\" /><path clip-path=\"url(#clip440)\" d=\"M128.929 181.598 Q125.318 181.598 123.489 185.163 Q121.683 188.704 121.683 195.834 Q121.683 202.94 123.489 206.505 Q125.318 210.047 128.929 210.047 Q132.563 210.047 134.368 206.505 Q136.197 202.94 136.197 195.834 Q136.197 188.704 134.368 185.163 Q132.563 181.598 128.929 181.598 M128.929 177.894 Q134.739 177.894 137.794 182.501 Q140.873 187.084 140.873 195.834 Q140.873 204.561 137.794 209.167 Q134.739 213.751 128.929 213.751 Q123.118 213.751 120.04 209.167 Q116.984 204.561 116.984 195.834 Q116.984 187.084 120.04 182.501 Q123.118 177.894 128.929 177.894 Z\" fill=\"#000000\" fill-rule=\"evenodd\" fill-opacity=\"1\" /><path clip-path=\"url(#clip440)\" d=\"M149.091 207.2 L153.975 207.2 L153.975 213.079 L149.091 213.079 L149.091 207.2 Z\" fill=\"#000000\" fill-rule=\"evenodd\" fill-opacity=\"1\" /><path clip-path=\"url(#clip440)\" d=\"M164.97 209.144 L172.609 209.144 L172.609 182.779 L164.299 184.445 L164.299 180.186 L172.563 178.519 L177.239 178.519 L177.239 209.144 L184.877 209.144 L184.877 213.079 L164.97 213.079 L164.97 209.144 Z\" fill=\"#000000\" fill-rule=\"evenodd\" fill-opacity=\"1\" /><path clip-path=\"url(#clip440)\" d=\"M204.9 193.936 Q201.752 193.936 199.9 196.089 Q198.072 198.241 198.072 201.991 Q198.072 205.718 199.9 207.894 Q201.752 210.047 204.9 210.047 Q208.049 210.047 209.877 207.894 Q211.729 205.718 211.729 201.991 Q211.729 198.241 209.877 196.089 Q208.049 193.936 204.9 193.936 M214.183 179.283 L214.183 183.542 Q212.424 182.709 210.618 182.269 Q208.836 181.829 207.076 181.829 Q202.447 181.829 199.993 184.954 Q197.563 188.079 197.215 194.399 Q198.581 192.385 200.641 191.32 Q202.701 190.232 205.178 190.232 Q210.387 190.232 213.396 193.403 Q216.428 196.552 216.428 201.991 Q216.428 207.315 213.28 210.533 Q210.132 213.751 204.9 213.751 Q198.905 213.751 195.734 209.167 Q192.563 204.561 192.563 195.834 Q192.563 187.64 196.451 182.779 Q200.34 177.894 206.891 177.894 Q208.65 177.894 210.433 178.242 Q212.238 178.589 214.183 179.283 Z\" fill=\"#000000\" fill-rule=\"evenodd\" fill-opacity=\"1\" /><path clip-path=\"url(#clip440)\" d=\"M31.3677 669.926 L49.2235 669.926 L49.2235 661.841 Q49.2235 657.353 46.9 654.903 Q44.5765 652.452 40.2797 652.452 Q36.0147 652.452 33.6912 654.903 Q31.3677 657.353 31.3677 661.841 L31.3677 669.926 M26.0842 676.355 L26.0842 661.841 Q26.0842 653.852 29.7126 649.778 Q33.3092 645.672 40.2797 645.672 Q47.3138 645.672 50.9104 649.778 Q54.507 653.852 54.507 661.841 L54.507 669.926 L73.6042 669.926 L73.6042 676.355 L26.0842 676.355 Z\" fill=\"#000000\" fill-rule=\"evenodd\" fill-opacity=\"1\" /><path clip-path=\"url(#clip440)\" d=\"M26.0842 637.047 L26.0842 627.466 L58.4219 615.34 L26.0842 603.149 L26.0842 593.569 L73.6042 593.569 L73.6042 599.839 L31.877 599.839 L64.4694 612.093 L64.4694 618.554 L31.877 630.808 L73.6042 630.808 L73.6042 637.047 L26.0842 637.047 Z\" fill=\"#000000\" fill-rule=\"evenodd\" fill-opacity=\"1\" /><path clip-path=\"url(#clip440)\" d=\"M26.0842 580.806 L26.0842 553.497 L31.495 553.497 L31.495 574.376 L45.4996 574.376 L45.4996 555.534 L50.9104 555.534 L50.9104 574.376 L73.6042 574.376 L73.6042 580.806 L26.0842 580.806 Z\" fill=\"#000000\" fill-rule=\"evenodd\" fill-opacity=\"1\" /><path clip-path=\"url(#clip440)\" d=\"M656.089 12.096 L707.252 12.096 L707.252 18.9825 L685.782 18.9825 L685.782 72.576 L677.559 72.576 L677.559 18.9825 L656.089 18.9825 L656.089 12.096 Z\" fill=\"#000000\" fill-rule=\"evenodd\" fill-opacity=\"1\" /><path clip-path=\"url(#clip440)\" d=\"M752.541 45.1919 L752.541 72.576 L745.087 72.576 L745.087 45.4349 Q745.087 38.994 742.576 35.7938 Q740.064 32.5936 735.041 32.5936 Q729.005 32.5936 725.522 36.4419 Q722.038 40.2903 722.038 46.9338 L722.038 72.576 L714.544 72.576 L714.544 9.54393 L722.038 9.54393 L722.038 34.2544 Q724.711 30.163 728.317 28.1376 Q731.963 26.1121 736.702 26.1121 Q744.52 26.1121 748.531 30.9732 Q752.541 35.7938 752.541 45.1919 Z\" fill=\"#000000\" fill-rule=\"evenodd\" fill-opacity=\"1\" /><path clip-path=\"url(#clip440)\" d=\"M806.216 48.0275 L806.216 51.6733 L771.945 51.6733 Q772.431 59.3701 776.563 63.421 Q780.735 67.4314 788.149 67.4314 Q792.443 67.4314 796.453 66.3781 Q800.504 65.3249 804.474 63.2184 L804.474 70.267 Q800.463 71.9684 796.25 72.8596 Q792.037 73.7508 787.703 73.7508 Q776.847 73.7508 770.487 67.4314 Q764.167 61.1119 764.167 50.3365 Q764.167 39.1965 770.163 32.6746 Q776.198 26.1121 786.407 26.1121 Q795.562 26.1121 800.868 32.0264 Q806.216 37.9003 806.216 48.0275 M798.762 45.84 Q798.681 39.7232 795.319 36.0774 Q791.997 32.4315 786.488 32.4315 Q780.249 32.4315 776.482 35.9558 Q772.755 39.4801 772.188 45.8805 L798.762 45.84 Z\" fill=\"#000000\" fill-rule=\"evenodd\" fill-opacity=\"1\" /><path clip-path=\"url(#clip440)\" d=\"M886.383 63.9476 L886.383 47.7034 L873.015 47.7034 L873.015 40.9789 L894.485 40.9789 L894.485 66.9452 Q889.745 70.3075 884.033 72.0494 Q878.322 73.7508 871.84 73.7508 Q857.662 73.7508 849.641 65.4869 Q841.661 57.1826 841.661 42.3968 Q841.661 27.5705 849.641 19.3066 Q857.662 11.0023 871.84 11.0023 Q877.755 11.0023 883.061 12.4606 Q888.408 13.9189 892.905 16.7545 L892.905 25.464 Q888.368 21.6156 883.264 19.6712 Q878.16 17.7268 872.529 17.7268 Q861.429 17.7268 855.839 23.9246 Q850.289 30.1225 850.289 42.3968 Q850.289 54.6305 855.839 60.8284 Q861.429 67.0263 872.529 67.0263 Q876.863 67.0263 880.266 66.2971 Q883.669 65.5274 886.383 63.9476 Z\" fill=\"#000000\" fill-rule=\"evenodd\" fill-opacity=\"1\" /><path clip-path=\"url(#clip440)\" d=\"M926.689 32.4315 Q920.694 32.4315 917.21 37.1306 Q913.727 41.7891 913.727 49.9314 Q913.727 58.0738 917.17 62.7728 Q920.654 67.4314 926.689 67.4314 Q932.644 67.4314 936.128 62.7323 Q939.612 58.0333 939.612 49.9314 Q939.612 41.8701 936.128 37.1711 Q932.644 32.4315 926.689 32.4315 M926.689 26.1121 Q936.412 26.1121 941.961 32.4315 Q947.511 38.7509 947.511 49.9314 Q947.511 61.0714 941.961 67.4314 Q936.412 73.7508 926.689 73.7508 Q916.927 73.7508 911.377 67.4314 Q905.868 61.0714 905.868 49.9314 Q905.868 38.7509 911.377 32.4315 Q916.927 26.1121 926.689 26.1121 Z\" fill=\"#000000\" fill-rule=\"evenodd\" fill-opacity=\"1\" /><path clip-path=\"url(#clip440)\" d=\"M992.436 49.9314 Q992.436 41.7081 989.033 37.0496 Q985.671 32.3505 979.756 32.3505 Q973.842 32.3505 970.439 37.0496 Q967.077 41.7081 967.077 49.9314 Q967.077 58.1548 970.439 62.8538 Q973.842 67.5124 979.756 67.5124 Q985.671 67.5124 989.033 62.8538 Q992.436 58.1548 992.436 49.9314 M967.077 34.0924 Q969.427 30.0415 972.991 28.0971 Q976.597 26.1121 981.579 26.1121 Q989.843 26.1121 994.988 32.6746 Q1000.17 39.2371 1000.17 49.9314 Q1000.17 60.6258 994.988 67.1883 Q989.843 73.7508 981.579 73.7508 Q976.597 73.7508 972.991 71.8063 Q969.427 69.8214 967.077 65.7705 L967.077 72.576 L959.583 72.576 L959.583 9.54393 L967.077 9.54393 L967.077 34.0924 Z\" fill=\"#000000\" fill-rule=\"evenodd\" fill-opacity=\"1\" /><path clip-path=\"url(#clip440)\" d=\"M1012.53 9.54393 L1019.98 9.54393 L1019.98 72.576 L1012.53 72.576 L1012.53 9.54393 Z\" fill=\"#000000\" fill-rule=\"evenodd\" fill-opacity=\"1\" /><path clip-path=\"url(#clip440)\" d=\"M1035.58 27.2059 L1043.03 27.2059 L1043.03 72.576 L1035.58 72.576 L1035.58 27.2059 M1035.58 9.54393 L1043.03 9.54393 L1043.03 18.9825 L1035.58 18.9825 L1035.58 9.54393 Z\" fill=\"#000000\" fill-rule=\"evenodd\" fill-opacity=\"1\" /><path clip-path=\"url(#clip440)\" d=\"M1096.34 45.1919 L1096.34 72.576 L1088.89 72.576 L1088.89 45.4349 Q1088.89 38.994 1086.38 35.7938 Q1083.86 32.5936 1078.84 32.5936 Q1072.81 32.5936 1069.32 36.4419 Q1065.84 40.2903 1065.84 46.9338 L1065.84 72.576 L1058.34 72.576 L1058.34 27.2059 L1065.84 27.2059 L1065.84 34.2544 Q1068.51 30.163 1072.12 28.1376 Q1075.76 26.1121 1080.5 26.1121 Q1088.32 26.1121 1092.33 30.9732 Q1096.34 35.7938 1096.34 45.1919 Z\" fill=\"#000000\" fill-rule=\"evenodd\" fill-opacity=\"1\" /><path clip-path=\"url(#clip440)\" d=\"M1146.09 18.8205 L1146.09 41.5461 L1156.38 41.5461 Q1162.09 41.5461 1165.21 38.5889 Q1168.33 35.6318 1168.33 30.163 Q1168.33 24.7348 1165.21 21.7777 Q1162.09 18.8205 1156.38 18.8205 L1146.09 18.8205 M1137.9 12.096 L1156.38 12.096 Q1166.54 12.096 1171.73 16.714 Q1176.95 21.2916 1176.95 30.163 Q1176.95 39.1155 1171.73 43.6931 Q1166.54 48.2706 1156.38 48.2706 L1146.09 48.2706 L1146.09 72.576 L1137.9 72.576 L1137.9 12.096 Z\" fill=\"#000000\" fill-rule=\"evenodd\" fill-opacity=\"1\" /><path clip-path=\"url(#clip440)\" d=\"M1212.44 34.1734 Q1211.18 33.4443 1209.69 33.1202 Q1208.23 32.7556 1206.44 32.7556 Q1200.13 32.7556 1196.72 36.8875 Q1193.36 40.9789 1193.36 48.6757 L1193.36 72.576 L1185.87 72.576 L1185.87 27.2059 L1193.36 27.2059 L1193.36 34.2544 Q1195.71 30.1225 1199.48 28.1376 Q1203.24 26.1121 1208.63 26.1121 Q1209.4 26.1121 1210.33 26.2337 Q1211.27 26.3147 1212.4 26.5172 L1212.44 34.1734 Z\" fill=\"#000000\" fill-rule=\"evenodd\" fill-opacity=\"1\" /><path clip-path=\"url(#clip440)\" d=\"M1236.02 32.4315 Q1230.02 32.4315 1226.54 37.1306 Q1223.05 41.7891 1223.05 49.9314 Q1223.05 58.0738 1226.5 62.7728 Q1229.98 67.4314 1236.02 67.4314 Q1241.97 67.4314 1245.46 62.7323 Q1248.94 58.0333 1248.94 49.9314 Q1248.94 41.8701 1245.46 37.1711 Q1241.97 32.4315 1236.02 32.4315 M1236.02 26.1121 Q1245.74 26.1121 1251.29 32.4315 Q1256.84 38.7509 1256.84 49.9314 Q1256.84 61.0714 1251.29 67.4314 Q1245.74 73.7508 1236.02 73.7508 Q1226.25 73.7508 1220.7 67.4314 Q1215.19 61.0714 1215.19 49.9314 Q1215.19 38.7509 1220.7 32.4315 Q1226.25 26.1121 1236.02 26.1121 Z\" fill=\"#000000\" fill-rule=\"evenodd\" fill-opacity=\"1\" /><path clip-path=\"url(#clip440)\" d=\"M1301.76 49.9314 Q1301.76 41.7081 1298.36 37.0496 Q1295 32.3505 1289.08 32.3505 Q1283.17 32.3505 1279.77 37.0496 Q1276.4 41.7081 1276.4 49.9314 Q1276.4 58.1548 1279.77 62.8538 Q1283.17 67.5124 1289.08 67.5124 Q1295 67.5124 1298.36 62.8538 Q1301.76 58.1548 1301.76 49.9314 M1276.4 34.0924 Q1278.75 30.0415 1282.32 28.0971 Q1285.92 26.1121 1290.91 26.1121 Q1299.17 26.1121 1304.31 32.6746 Q1309.5 39.2371 1309.5 49.9314 Q1309.5 60.6258 1304.31 67.1883 Q1299.17 73.7508 1290.91 73.7508 Q1285.92 73.7508 1282.32 71.8063 Q1278.75 69.8214 1276.4 65.7705 L1276.4 72.576 L1268.91 72.576 L1268.91 9.54393 L1276.4 9.54393 L1276.4 34.0924 Z\" fill=\"#000000\" fill-rule=\"evenodd\" fill-opacity=\"1\" /><path clip-path=\"url(#clip440)\" d=\"M1321.86 9.54393 L1329.31 9.54393 L1329.31 72.576 L1321.86 72.576 L1321.86 9.54393 Z\" fill=\"#000000\" fill-rule=\"evenodd\" fill-opacity=\"1\" /><path clip-path=\"url(#clip440)\" d=\"M1383.71 48.0275 L1383.71 51.6733 L1349.44 51.6733 Q1349.93 59.3701 1354.06 63.421 Q1358.23 67.4314 1365.65 67.4314 Q1369.94 67.4314 1373.95 66.3781 Q1378 65.3249 1381.97 63.2184 L1381.97 70.267 Q1377.96 71.9684 1373.75 72.8596 Q1369.53 73.7508 1365.2 73.7508 Q1354.34 73.7508 1347.98 67.4314 Q1341.66 61.1119 1341.66 50.3365 Q1341.66 39.1965 1347.66 32.6746 Q1353.7 26.1121 1363.9 26.1121 Q1373.06 26.1121 1378.37 32.0264 Q1383.71 37.9003 1383.71 48.0275 M1376.26 45.84 Q1376.18 39.7232 1372.82 36.0774 Q1369.49 32.4315 1363.98 32.4315 Q1357.75 32.4315 1353.98 35.9558 Q1350.25 39.4801 1349.68 45.8805 L1376.26 45.84 Z\" fill=\"#000000\" fill-rule=\"evenodd\" fill-opacity=\"1\" /><path clip-path=\"url(#clip440)\" d=\"M1431.27 35.9153 Q1434.07 30.8922 1437.95 28.5022 Q1441.84 26.1121 1447.11 26.1121 Q1454.2 26.1121 1458.05 31.0947 Q1461.89 36.0368 1461.89 45.1919 L1461.89 72.576 L1454.4 72.576 L1454.4 45.4349 Q1454.4 38.913 1452.09 35.7533 Q1449.78 32.5936 1445.04 32.5936 Q1439.25 32.5936 1435.89 36.4419 Q1432.53 40.2903 1432.53 46.9338 L1432.53 72.576 L1425.03 72.576 L1425.03 45.4349 Q1425.03 38.8725 1422.72 35.7533 Q1420.41 32.5936 1415.59 32.5936 Q1409.88 32.5936 1406.52 36.4824 Q1403.16 40.3308 1403.16 46.9338 L1403.16 72.576 L1395.66 72.576 L1395.66 27.2059 L1403.16 27.2059 L1403.16 34.2544 Q1405.71 30.082 1409.27 28.0971 Q1412.84 26.1121 1417.74 26.1121 Q1422.68 26.1121 1426.13 28.6237 Q1429.61 31.1352 1431.27 35.9153 Z\" fill=\"#000000\" fill-rule=\"evenodd\" fill-opacity=\"1\" /><polyline clip-path=\"url(#clip442)\" style=\"stroke:#009af9; stroke-linecap:butt; stroke-linejoin:round; stroke-width:8; stroke-opacity:1; fill:none\" points=\"\n",
       "  291.29,1078.56 444.831,893.107 598.371,707.653 751.911,522.199 905.452,336.745 1058.99,151.29 1212.53,336.745 1366.07,522.199 1519.61,707.653 1673.15,893.107 \n",
       "  1826.69,1078.56 \n",
       "  \"/>\n",
       "<polyline clip-path=\"url(#clip442)\" style=\"stroke:#e26f46; stroke-linecap:butt; stroke-linejoin:round; stroke-width:8; stroke-opacity:1; fill:none\" points=\"\n",
       "  598.371,151.29 751.911,151.29 905.452,151.29 1058.99,151.29 1212.53,151.29 1366.07,151.29 \n",
       "  \"/>\n",
       "<path clip-path=\"url(#clip440)\" d=\"\n",
       "M1320.63 311.756 L1818.5 311.756 L1818.5 156.236 L1320.63 156.236  Z\n",
       "  \" fill=\"#ffffff\" fill-rule=\"evenodd\" fill-opacity=\"1\"/>\n",
       "<polyline clip-path=\"url(#clip440)\" style=\"stroke:#000000; stroke-linecap:butt; stroke-linejoin:round; stroke-width:4; stroke-opacity:1; fill:none\" points=\"\n",
       "  1320.63,311.756 1818.5,311.756 1818.5,156.236 1320.63,156.236 1320.63,311.756 \n",
       "  \"/>\n",
       "<polyline clip-path=\"url(#clip440)\" style=\"stroke:#009af9; stroke-linecap:butt; stroke-linejoin:round; stroke-width:4; stroke-opacity:1; fill:none\" points=\"\n",
       "  1338.72,208.076 1447.22,208.076 \n",
       "  \"/>\n",
       "<path clip-path=\"url(#clip440)\" d=\"M1465.3 190.796 L1469.98 190.796 L1469.98 204.962 L1486.97 204.962 L1486.97 190.796 L1491.64 190.796 L1491.64 225.356 L1486.97 225.356 L1486.97 208.897 L1469.98 208.897 L1469.98 225.356 L1465.3 225.356 L1465.3 190.796 Z\" fill=\"#000000\" fill-rule=\"evenodd\" fill-opacity=\"1\" /><path clip-path=\"url(#clip440)\" d=\"M1500.77 199.43 L1505.02 199.43 L1505.02 225.356 L1500.77 225.356 L1500.77 199.43 M1500.77 189.337 L1505.02 189.337 L1505.02 194.731 L1500.77 194.731 L1500.77 189.337 Z\" fill=\"#000000\" fill-rule=\"evenodd\" fill-opacity=\"1\" /><path clip-path=\"url(#clip440)\" d=\"M1518.15 192.069 L1518.15 199.43 L1526.92 199.43 L1526.92 202.74 L1518.15 202.74 L1518.15 216.814 Q1518.15 219.985 1519.01 220.888 Q1519.89 221.791 1522.55 221.791 L1526.92 221.791 L1526.92 225.356 L1522.55 225.356 Q1517.62 225.356 1515.74 223.527 Q1513.87 221.675 1513.87 216.814 L1513.87 202.74 L1510.74 202.74 L1510.74 199.43 L1513.87 199.43 L1513.87 192.069 L1518.15 192.069 Z\" fill=\"#000000\" fill-rule=\"evenodd\" fill-opacity=\"1\" /><path clip-path=\"url(#clip440)\" d=\"M1551.71 221.467 L1551.71 235.217 L1547.43 235.217 L1547.43 199.43 L1551.71 199.43 L1551.71 203.365 Q1553.06 201.05 1555.09 199.939 Q1557.15 198.805 1560 198.805 Q1564.72 198.805 1567.66 202.555 Q1570.63 206.305 1570.63 212.416 Q1570.63 218.527 1567.66 222.277 Q1564.72 226.027 1560 226.027 Q1557.15 226.027 1555.09 224.916 Q1553.06 223.782 1551.71 221.467 M1566.2 212.416 Q1566.2 207.717 1564.26 205.055 Q1562.34 202.37 1558.96 202.37 Q1555.58 202.37 1553.64 205.055 Q1551.71 207.717 1551.71 212.416 Q1551.71 217.115 1553.64 219.8 Q1555.58 222.462 1558.96 222.462 Q1562.34 222.462 1564.26 219.8 Q1566.2 217.115 1566.2 212.416 Z\" fill=\"#000000\" fill-rule=\"evenodd\" fill-opacity=\"1\" /><path clip-path=\"url(#clip440)\" d=\"M1587.73 202.416 Q1584.31 202.416 1582.32 205.101 Q1580.32 207.763 1580.32 212.416 Q1580.32 217.069 1582.29 219.754 Q1584.28 222.416 1587.73 222.416 Q1591.14 222.416 1593.13 219.731 Q1595.12 217.046 1595.12 212.416 Q1595.12 207.81 1593.13 205.124 Q1591.14 202.416 1587.73 202.416 M1587.73 198.805 Q1593.29 198.805 1596.46 202.416 Q1599.63 206.027 1599.63 212.416 Q1599.63 218.782 1596.46 222.416 Q1593.29 226.027 1587.73 226.027 Q1582.15 226.027 1578.98 222.416 Q1575.83 218.782 1575.83 212.416 Q1575.83 206.027 1578.98 202.416 Q1582.15 198.805 1587.73 198.805 Z\" fill=\"#000000\" fill-rule=\"evenodd\" fill-opacity=\"1\" /><path clip-path=\"url(#clip440)\" d=\"M1606.69 199.43 L1610.95 199.43 L1610.95 225.356 L1606.69 225.356 L1606.69 199.43 M1606.69 189.337 L1610.95 189.337 L1610.95 194.731 L1606.69 194.731 L1606.69 189.337 Z\" fill=\"#000000\" fill-rule=\"evenodd\" fill-opacity=\"1\" /><path clip-path=\"url(#clip440)\" d=\"M1641.41 209.708 L1641.41 225.356 L1637.15 225.356 L1637.15 209.847 Q1637.15 206.166 1635.72 204.337 Q1634.28 202.509 1631.41 202.509 Q1627.96 202.509 1625.97 204.708 Q1623.98 206.907 1623.98 210.703 L1623.98 225.356 L1619.7 225.356 L1619.7 199.43 L1623.98 199.43 L1623.98 203.458 Q1625.51 201.12 1627.57 199.962 Q1629.65 198.805 1632.36 198.805 Q1636.83 198.805 1639.12 201.583 Q1641.41 204.337 1641.41 209.708 Z\" fill=\"#000000\" fill-rule=\"evenodd\" fill-opacity=\"1\" /><path clip-path=\"url(#clip440)\" d=\"M1654.12 192.069 L1654.12 199.43 L1662.89 199.43 L1662.89 202.74 L1654.12 202.74 L1654.12 216.814 Q1654.12 219.985 1654.98 220.888 Q1655.86 221.791 1658.52 221.791 L1662.89 221.791 L1662.89 225.356 L1658.52 225.356 Q1653.59 225.356 1651.71 223.527 Q1649.84 221.675 1649.84 216.814 L1649.84 202.74 L1646.71 202.74 L1646.71 199.43 L1649.84 199.43 L1649.84 192.069 L1654.12 192.069 Z\" fill=\"#000000\" fill-rule=\"evenodd\" fill-opacity=\"1\" /><path clip-path=\"url(#clip440)\" d=\"M1685.02 200.194 L1685.02 204.222 Q1683.22 203.296 1681.27 202.833 Q1679.33 202.37 1677.25 202.37 Q1674.07 202.37 1672.48 203.342 Q1670.9 204.314 1670.9 206.259 Q1670.9 207.74 1672.04 208.597 Q1673.17 209.43 1676.6 210.194 L1678.06 210.518 Q1682.59 211.49 1684.49 213.272 Q1686.41 215.032 1686.41 218.203 Q1686.41 221.814 1683.54 223.921 Q1680.69 226.027 1675.69 226.027 Q1673.61 226.027 1671.34 225.61 Q1669.1 225.217 1666.6 224.407 L1666.6 220.009 Q1668.96 221.235 1671.25 221.86 Q1673.54 222.462 1675.79 222.462 Q1678.8 222.462 1680.42 221.444 Q1682.04 220.402 1682.04 218.527 Q1682.04 216.791 1680.86 215.865 Q1679.7 214.939 1675.74 214.083 L1674.26 213.735 Q1670.3 212.902 1668.54 211.189 Q1666.78 209.453 1666.78 206.444 Q1666.78 202.786 1669.38 200.796 Q1671.97 198.805 1676.74 198.805 Q1679.1 198.805 1681.18 199.152 Q1683.26 199.499 1685.02 200.194 Z\" fill=\"#000000\" fill-rule=\"evenodd\" fill-opacity=\"1\" /><polyline clip-path=\"url(#clip440)\" style=\"stroke:#e26f46; stroke-linecap:butt; stroke-linejoin:round; stroke-width:4; stroke-opacity:1; fill:none\" points=\"\n",
       "  1338.72,259.916 1447.22,259.916 \n",
       "  \"/>\n",
       "<path clip-path=\"url(#clip440)\" d=\"M1465.3 242.636 L1494.54 242.636 L1494.54 246.571 L1482.27 246.571 L1482.27 277.196 L1477.57 277.196 L1477.57 246.571 L1465.3 246.571 L1465.3 242.636 Z\" fill=\"#000000\" fill-rule=\"evenodd\" fill-opacity=\"1\" /><path clip-path=\"url(#clip440)\" d=\"M1500.86 254.256 Q1497.43 254.256 1495.44 256.941 Q1493.45 259.603 1493.45 264.256 Q1493.45 268.909 1495.42 271.594 Q1497.41 274.256 1500.86 274.256 Q1504.26 274.256 1506.25 271.571 Q1508.24 268.886 1508.24 264.256 Q1508.24 259.65 1506.25 256.964 Q1504.26 254.256 1500.86 254.256 M1500.86 250.645 Q1506.41 250.645 1509.58 254.256 Q1512.76 257.867 1512.76 264.256 Q1512.76 270.622 1509.58 274.256 Q1506.41 277.867 1500.86 277.867 Q1495.28 277.867 1492.11 274.256 Q1488.96 270.622 1488.96 264.256 Q1488.96 257.867 1492.11 254.256 Q1495.28 250.645 1500.86 250.645 Z\" fill=\"#000000\" fill-rule=\"evenodd\" fill-opacity=\"1\" /><path clip-path=\"url(#clip440)\" d=\"M1524.03 243.909 L1524.03 251.27 L1532.8 251.27 L1532.8 254.58 L1524.03 254.58 L1524.03 268.654 Q1524.03 271.825 1524.89 272.728 Q1525.76 273.631 1528.43 273.631 L1532.8 273.631 L1532.8 277.196 L1528.43 277.196 Q1523.5 277.196 1521.62 275.367 Q1519.75 273.515 1519.75 268.654 L1519.75 254.58 L1516.62 254.58 L1516.62 251.27 L1519.75 251.27 L1519.75 243.909 L1524.03 243.909 Z\" fill=\"#000000\" fill-rule=\"evenodd\" fill-opacity=\"1\" /><path clip-path=\"url(#clip440)\" d=\"M1550.19 264.163 Q1545.02 264.163 1543.03 265.344 Q1541.04 266.524 1541.04 269.372 Q1541.04 271.64 1542.52 272.983 Q1544.03 274.302 1546.6 274.302 Q1550.14 274.302 1552.27 271.802 Q1554.42 269.279 1554.42 265.112 L1554.42 264.163 L1550.19 264.163 M1558.68 262.404 L1558.68 277.196 L1554.42 277.196 L1554.42 273.261 Q1552.96 275.622 1550.79 276.756 Q1548.61 277.867 1545.46 277.867 Q1541.48 277.867 1539.12 275.645 Q1536.78 273.399 1536.78 269.649 Q1536.78 265.274 1539.7 263.052 Q1542.64 260.83 1548.45 260.83 L1554.42 260.83 L1554.42 260.413 Q1554.42 257.474 1552.48 255.876 Q1550.56 254.256 1547.06 254.256 Q1544.84 254.256 1542.73 254.788 Q1540.63 255.321 1538.68 256.386 L1538.68 252.45 Q1541.02 251.548 1543.22 251.108 Q1545.42 250.645 1547.5 250.645 Q1553.13 250.645 1555.9 253.562 Q1558.68 256.478 1558.68 262.404 Z\" fill=\"#000000\" fill-rule=\"evenodd\" fill-opacity=\"1\" /><path clip-path=\"url(#clip440)\" d=\"M1567.45 241.177 L1571.71 241.177 L1571.71 277.196 L1567.45 277.196 L1567.45 241.177 Z\" fill=\"#000000\" fill-rule=\"evenodd\" fill-opacity=\"1\" /><path clip-path=\"url(#clip440)\" d=\"M1612.76 255.205 L1612.76 241.177 L1617.01 241.177 L1617.01 277.196 L1612.76 277.196 L1612.76 273.307 Q1611.41 275.622 1609.35 276.756 Q1607.32 277.867 1604.45 277.867 Q1599.75 277.867 1596.78 274.117 Q1593.84 270.367 1593.84 264.256 Q1593.84 258.145 1596.78 254.395 Q1599.75 250.645 1604.45 250.645 Q1607.32 250.645 1609.35 251.779 Q1611.41 252.89 1612.76 255.205 M1598.24 264.256 Q1598.24 268.955 1600.16 271.64 Q1602.11 274.302 1605.49 274.302 Q1608.87 274.302 1610.81 271.64 Q1612.76 268.955 1612.76 264.256 Q1612.76 259.557 1610.81 256.895 Q1608.87 254.21 1605.49 254.21 Q1602.11 254.21 1600.16 256.895 Q1598.24 259.557 1598.24 264.256 Z\" fill=\"#000000\" fill-rule=\"evenodd\" fill-opacity=\"1\" /><path clip-path=\"url(#clip440)\" d=\"M1637.57 264.163 Q1632.41 264.163 1630.42 265.344 Q1628.43 266.524 1628.43 269.372 Q1628.43 271.64 1629.91 272.983 Q1631.41 274.302 1633.98 274.302 Q1637.52 274.302 1639.65 271.802 Q1641.81 269.279 1641.81 265.112 L1641.81 264.163 L1637.57 264.163 M1646.07 262.404 L1646.07 277.196 L1641.81 277.196 L1641.81 273.261 Q1640.35 275.622 1638.17 276.756 Q1636 277.867 1632.85 277.867 Q1628.87 277.867 1626.51 275.645 Q1624.17 273.399 1624.17 269.649 Q1624.17 265.274 1627.08 263.052 Q1630.02 260.83 1635.83 260.83 L1641.81 260.83 L1641.81 260.413 Q1641.81 257.474 1639.86 255.876 Q1637.94 254.256 1634.44 254.256 Q1632.22 254.256 1630.12 254.788 Q1628.01 255.321 1626.07 256.386 L1626.07 252.45 Q1628.4 251.548 1630.6 251.108 Q1632.8 250.645 1634.88 250.645 Q1640.51 250.645 1643.29 253.562 Q1646.07 256.478 1646.07 262.404 Z\" fill=\"#000000\" fill-rule=\"evenodd\" fill-opacity=\"1\" /><path clip-path=\"url(#clip440)\" d=\"M1675.02 256.247 Q1676.62 253.376 1678.84 252.011 Q1681.07 250.645 1684.07 250.645 Q1688.13 250.645 1690.32 253.492 Q1692.52 256.316 1692.52 261.548 L1692.52 277.196 L1688.24 277.196 L1688.24 261.687 Q1688.24 257.96 1686.92 256.154 Q1685.6 254.349 1682.89 254.349 Q1679.58 254.349 1677.66 256.548 Q1675.74 258.747 1675.74 262.543 L1675.74 277.196 L1671.46 277.196 L1671.46 261.687 Q1671.46 257.937 1670.14 256.154 Q1668.82 254.349 1666.07 254.349 Q1662.8 254.349 1660.88 256.571 Q1658.96 258.77 1658.96 262.543 L1658.96 277.196 L1654.68 277.196 L1654.68 251.27 L1658.96 251.27 L1658.96 255.298 Q1660.42 252.913 1662.45 251.779 Q1664.49 250.645 1667.29 250.645 Q1670.12 250.645 1672.08 252.08 Q1674.07 253.515 1675.02 256.247 Z\" fill=\"#000000\" fill-rule=\"evenodd\" fill-opacity=\"1\" /><path clip-path=\"url(#clip440)\" d=\"M1712.8 264.163 Q1707.64 264.163 1705.65 265.344 Q1703.66 266.524 1703.66 269.372 Q1703.66 271.64 1705.14 272.983 Q1706.64 274.302 1709.21 274.302 Q1712.75 274.302 1714.88 271.802 Q1717.04 269.279 1717.04 265.112 L1717.04 264.163 L1712.8 264.163 M1721.3 262.404 L1721.3 277.196 L1717.04 277.196 L1717.04 273.261 Q1715.58 275.622 1713.4 276.756 Q1711.23 277.867 1708.08 277.867 Q1704.1 277.867 1701.74 275.645 Q1699.4 273.399 1699.4 269.649 Q1699.4 265.274 1702.31 263.052 Q1705.25 260.83 1711.06 260.83 L1717.04 260.83 L1717.04 260.413 Q1717.04 257.474 1715.09 255.876 Q1713.17 254.256 1709.68 254.256 Q1707.45 254.256 1705.35 254.788 Q1703.24 255.321 1701.3 256.386 L1701.3 252.45 Q1703.63 251.548 1705.83 251.108 Q1708.03 250.645 1710.12 250.645 Q1715.74 250.645 1718.52 253.562 Q1721.3 256.478 1721.3 262.404 Z\" fill=\"#000000\" fill-rule=\"evenodd\" fill-opacity=\"1\" /><path clip-path=\"url(#clip440)\" d=\"M1747.13 263.932 Q1747.13 259.302 1745.21 256.756 Q1743.31 254.21 1739.86 254.21 Q1736.44 254.21 1734.51 256.756 Q1732.62 259.302 1732.62 263.932 Q1732.62 268.538 1734.51 271.085 Q1736.44 273.631 1739.86 273.631 Q1743.31 273.631 1745.21 271.085 Q1747.13 268.538 1747.13 263.932 M1751.39 273.978 Q1751.39 280.598 1748.45 283.816 Q1745.51 287.057 1739.44 287.057 Q1737.2 287.057 1735.21 286.71 Q1733.22 286.385 1731.34 285.691 L1731.34 281.548 Q1733.22 282.566 1735.05 283.052 Q1736.87 283.538 1738.77 283.538 Q1742.96 283.538 1745.05 281.339 Q1747.13 279.163 1747.13 274.742 L1747.13 272.636 Q1745.81 274.927 1743.75 276.061 Q1741.69 277.196 1738.82 277.196 Q1734.05 277.196 1731.13 273.561 Q1728.22 269.927 1728.22 263.932 Q1728.22 257.913 1731.13 254.279 Q1734.05 250.645 1738.82 250.645 Q1741.69 250.645 1743.75 251.779 Q1745.81 252.913 1747.13 255.205 L1747.13 251.27 L1751.39 251.27 L1751.39 273.978 Z\" fill=\"#000000\" fill-rule=\"evenodd\" fill-opacity=\"1\" /><path clip-path=\"url(#clip440)\" d=\"M1782.34 263.168 L1782.34 265.251 L1762.75 265.251 Q1763.03 269.649 1765.39 271.964 Q1767.78 274.256 1772.01 274.256 Q1774.47 274.256 1776.76 273.654 Q1779.07 273.052 1781.34 271.849 L1781.34 275.876 Q1779.05 276.848 1776.64 277.358 Q1774.24 277.867 1771.76 277.867 Q1765.56 277.867 1761.92 274.256 Q1758.31 270.645 1758.31 264.487 Q1758.31 258.122 1761.74 254.395 Q1765.19 250.645 1771.02 250.645 Q1776.25 250.645 1779.28 254.025 Q1782.34 257.381 1782.34 263.168 M1778.08 261.918 Q1778.03 258.423 1776.11 256.339 Q1774.21 254.256 1771.06 254.256 Q1767.5 254.256 1765.35 256.27 Q1763.22 258.284 1762.89 261.941 L1778.08 261.918 Z\" fill=\"#000000\" fill-rule=\"evenodd\" fill-opacity=\"1\" /></svg>\n"
      ]
     },
     "execution_count": 56,
     "metadata": {},
     "output_type": "execute_result"
    }
   ],
   "source": [
    "plot(hit_points, label=\"Hit points\")\n",
    "plot!(damage, label=\"Total damage\")\n",
    "decorate_dice!(\"The Goblin Problem\")"
   ]
  },
  {
   "cell_type": "code",
   "execution_count": 57,
   "id": "3e7c1816-6318-4536-8f7f-e7cbc3f6d2c2",
   "metadata": {},
   "outputs": [],
   "source": [
    "points_left = subdist(hit_points, damage);"
   ]
  },
  {
   "cell_type": "code",
   "execution_count": 58,
   "id": "79c3dbb5-d7a8-41b3-9c43-8254dec89f7c",
   "metadata": {},
   "outputs": [
    {
     "data": {
      "text/plain": [
       "0.5"
      ]
     },
     "execution_count": 58,
     "metadata": {},
     "output_type": "execute_result"
    }
   ],
   "source": [
    "prob_le(points_left, 0)"
   ]
  },
  {
   "cell_type": "code",
   "execution_count": 59,
   "id": "57d2a1c9-b3ab-4402-8f27-02b55eef8200",
   "metadata": {},
   "outputs": [],
   "source": [
    "# 6.6\n",
    "hypos = [6, 8, 12]\n",
    "prior = Pmf(1, hypos);"
   ]
  },
  {
   "cell_type": "code",
   "execution_count": 60,
   "id": "456dd846-86b1-416f-8527-a2f1ffcbc42b",
   "metadata": {},
   "outputs": [
    {
     "data": {
      "text/plain": [
       "┌────┬────────┐\n",
       "│\u001b[1m    \u001b[0m│\u001b[1m  probs \u001b[0m│\n",
       "├────┼────────┤\n",
       "│\u001b[1m  1 \u001b[0m│ 0.0625 │\n",
       "│\u001b[1m  2 \u001b[0m│  0.125 │\n",
       "│\u001b[1m  3 \u001b[0m│  0.125 │\n",
       "│\u001b[1m  4 \u001b[0m│ 0.1875 │\n",
       "│\u001b[1m  6 \u001b[0m│  0.125 │\n",
       "│\u001b[1m  8 \u001b[0m│  0.125 │\n",
       "│\u001b[1m  9 \u001b[0m│ 0.0625 │\n",
       "│\u001b[1m 12 \u001b[0m│  0.125 │\n",
       "│\u001b[1m 16 \u001b[0m│ 0.0625 │\n",
       "└────┴────────┘\n"
      ]
     },
     "execution_count": 60,
     "metadata": {},
     "output_type": "execute_result"
    }
   ],
   "source": [
    "d4 = make_die(4)\n",
    "muldist(d4, d4)"
   ]
  },
  {
   "cell_type": "code",
   "execution_count": 61,
   "id": "2a9c2eaa-cdaf-49c6-8801-dcad526d8d78",
   "metadata": {},
   "outputs": [
    {
     "data": {
      "text/plain": [
       "3-element Vector{Any}:\n",
       " 0.1111111111111111\n",
       " 0.0625\n",
       " 0.04166666666666667"
      ]
     },
     "execution_count": 61,
     "metadata": {},
     "output_type": "execute_result"
    }
   ],
   "source": [
    "likelihood = []\n",
    "for sides in hypos\n",
    "    die = make_die(sides)\n",
    "    d = muldist(die, die)\n",
    "    push!(likelihood, d[12])\n",
    "end\n",
    "\n",
    "likelihood"
   ]
  },
  {
   "cell_type": "code",
   "execution_count": 62,
   "id": "809ddfbe-c16e-4f66-9806-ffcb464f0951",
   "metadata": {},
   "outputs": [
    {
     "data": {
      "text/plain": [
       "┌────┬──────────┐\n",
       "│\u001b[1m    \u001b[0m│\u001b[1m    probs \u001b[0m│\n",
       "├────┼──────────┤\n",
       "│\u001b[1m  6 \u001b[0m│ 0.516129 │\n",
       "│\u001b[1m  8 \u001b[0m│ 0.290323 │\n",
       "│\u001b[1m 12 \u001b[0m│ 0.193548 │\n",
       "└────┴──────────┘\n"
      ]
     },
     "execution_count": 62,
     "metadata": {},
     "output_type": "execute_result"
    }
   ],
   "source": [
    "posterior = prior .* likelihood\n",
    "normalize!(posterior)\n",
    "posterior"
   ]
  },
  {
   "cell_type": "code",
   "execution_count": 63,
   "id": "5b678515-ad2d-4d81-9e3a-15e07ab5a15e",
   "metadata": {},
   "outputs": [],
   "source": [
    "# 6.7\n",
    "die = subdist(make_die(3), 1)\n",
    "pmfs = Dict()\n",
    "pmfs[\"Bellows\"] = adddist(repeat([die],3))\n",
    "pmfs[\"Zostra\"] = adddist(repeat([die],4))\n",
    "pmfs[\"Longfellow\"] = adddist(repeat([die],5));"
   ]
  },
  {
   "cell_type": "code",
   "execution_count": 64,
   "id": "07e05b28-6e29-4506-8468-e5708e9f6ceb",
   "metadata": {},
   "outputs": [
    {
     "data": {
      "text/plain": [
       "0.2345679012345679"
      ]
     },
     "execution_count": 64,
     "metadata": {},
     "output_type": "execute_result"
    }
   ],
   "source": [
    "pmfs[\"Zostra\"](4)"
   ]
  },
  {
   "cell_type": "code",
   "execution_count": 65,
   "id": "f3352d7c-7d80-4a5e-8f50-a6b8a9e35c7b",
   "metadata": {},
   "outputs": [
    {
     "data": {
      "text/plain": [
       "0.00915247412224499"
      ]
     },
     "execution_count": 65,
     "metadata": {},
     "output_type": "execute_result"
    }
   ],
   "source": [
    "prod(pmfs[\"Zostra\"]([3,4,5]))"
   ]
  },
  {
   "cell_type": "code",
   "execution_count": 66,
   "id": "67850b78-a82f-4a88-b5e9-b0499ba46c04",
   "metadata": {},
   "outputs": [
    {
     "data": {
      "text/plain": [
       "┌────────────┬──────────┐\n",
       "│\u001b[1m            \u001b[0m│\u001b[1m    probs \u001b[0m│\n",
       "├────────────┼──────────┤\n",
       "│\u001b[1m    Bellows \u001b[0m│ 0.333333 │\n",
       "│\u001b[1m Longfellow \u001b[0m│ 0.333333 │\n",
       "│\u001b[1m     Zostra \u001b[0m│ 0.333333 │\n",
       "└────────────┴──────────┘\n"
      ]
     },
     "execution_count": 66,
     "metadata": {},
     "output_type": "execute_result"
    }
   ],
   "source": [
    "hypos = collect(keys(pmfs))\n",
    "prior = Pmf(1/3, hypos)\n",
    "prior"
   ]
  },
  {
   "cell_type": "code",
   "execution_count": 67,
   "id": "6e0a4dea-d962-4c55-8b96-c2364c7cc7ce",
   "metadata": {},
   "outputs": [
    {
     "data": {
      "text/plain": [
       "┌────────────┬────────────┐\n",
       "│\u001b[1m            \u001b[0m│\u001b[1m      probs \u001b[0m│\n",
       "├────────────┼────────────┤\n",
       "│\u001b[1m    Bellows \u001b[0m│ 0.00640146 │\n",
       "│\u001b[1m Longfellow \u001b[0m│ 0.00479827 │\n",
       "│\u001b[1m     Zostra \u001b[0m│ 0.00915247 │\n",
       "└────────────┴────────────┘\n"
      ]
     },
     "execution_count": 67,
     "metadata": {},
     "output_type": "execute_result"
    }
   ],
   "source": [
    "likelihood = similar(prior) # create a new Pmf with same keys\n",
    "\n",
    "for hypo in hypos\n",
    "    likelihood[hypo] = prod(pmfs[hypo]([3,4,5]))\n",
    "end\n",
    "\n",
    "likelihood"
   ]
  },
  {
   "cell_type": "code",
   "execution_count": 68,
   "id": "e6e0914a-b511-4f36-bc34-531db8b0df39",
   "metadata": {},
   "outputs": [
    {
     "data": {
      "text/plain": [
       "┌────────────┬──────────┐\n",
       "│\u001b[1m            \u001b[0m│\u001b[1m    probs \u001b[0m│\n",
       "├────────────┼──────────┤\n",
       "│\u001b[1m    Bellows \u001b[0m│ 0.314534 │\n",
       "│\u001b[1m Longfellow \u001b[0m│ 0.235762 │\n",
       "│\u001b[1m     Zostra \u001b[0m│ 0.449704 │\n",
       "└────────────┴──────────┘\n"
      ]
     },
     "execution_count": 68,
     "metadata": {},
     "output_type": "execute_result"
    }
   ],
   "source": [
    "posterior = (prior .* likelihood)\n",
    "normalize!(posterior)\n",
    "posterior"
   ]
  },
  {
   "cell_type": "code",
   "execution_count": 69,
   "id": "cfa711c3-11ab-49c9-9882-cf9d69422892",
   "metadata": {},
   "outputs": [
    {
     "data": {
      "text/plain": [
       "(539, 540)"
      ]
     },
     "execution_count": 69,
     "metadata": {},
     "output_type": "execute_result"
    }
   ],
   "source": [
    "# 6.8\n",
    "n=538\n",
    "\n",
    "table = DataFrame()\n",
    "for n_honest in 0:n\n",
    "    n_dishonest = n - n_honest\n",
    "\n",
    "    dist_honest = makebinomial(n_honest, 0.5)\n",
    "    dist_dishonest = makebinomial(n_dishonest, 0.9)\n",
    "\n",
    "    dist_total = adddist(dist_honest, dist_dishonest)\n",
    "    insert!(table, dist_total; colname=n_honest)\n",
    "end\n",
    "size(table) # including the `index` column"
   ]
  },
  {
   "cell_type": "code",
   "execution_count": 70,
   "id": "d360c95b-1b6d-40da-9680-53af7d9769b4",
   "metadata": {},
   "outputs": [
    {
     "data": {
      "text/plain": [
       "539"
      ]
     },
     "execution_count": 70,
     "metadata": {},
     "output_type": "execute_result"
    }
   ],
   "source": [
    "data = 312\n",
    "likelihood = dfrow(table, data)\n",
    "length(likelihood)"
   ]
  },
  {
   "cell_type": "code",
   "execution_count": 71,
   "id": "2e7555c5-15e9-4f20-aa3c-daf54bce97c8",
   "metadata": {},
   "outputs": [
    {
     "data": {
      "text/plain": [
       "539"
      ]
     },
     "execution_count": 71,
     "metadata": {},
     "output_type": "execute_result"
    }
   ],
   "source": [
    "hypos = 0:n\n",
    "prior = Pmf(1, hypos)\n",
    "length(prior)"
   ]
  },
  {
   "cell_type": "code",
   "execution_count": 72,
   "id": "9596d225-3349-4b2b-9d25-d5894564a7d3",
   "metadata": {},
   "outputs": [
    {
     "data": {
      "text/plain": [
       "431.48821145019986"
      ]
     },
     "execution_count": 72,
     "metadata": {},
     "output_type": "execute_result"
    }
   ],
   "source": [
    "posterior = prior .* likelihood\n",
    "normalize!(posterior)\n",
    "mean(posterior)"
   ]
  },
  {
   "cell_type": "code",
   "execution_count": 73,
   "id": "57b73b78-56a5-438f-9285-48a930cf51cd",
   "metadata": {},
   "outputs": [
    {
     "data": {
      "image/svg+xml": [
       "<?xml version=\"1.0\" encoding=\"utf-8\"?>\n",
       "<svg xmlns=\"http://www.w3.org/2000/svg\" xmlns:xlink=\"http://www.w3.org/1999/xlink\" width=\"480\" height=\"320\" viewBox=\"0 0 1920 1280\">\n",
       "<defs>\n",
       "  <clipPath id=\"clip480\">\n",
       "    <rect x=\"0\" y=\"0\" width=\"1920\" height=\"1280\"/>\n",
       "  </clipPath>\n",
       "</defs>\n",
       "<path clip-path=\"url(#clip480)\" d=\"\n",
       "M0 1280 L1920 1280 L1920 0 L0 0  Z\n",
       "  \" fill=\"#ffffff\" fill-rule=\"evenodd\" fill-opacity=\"1\"/>\n",
       "<defs>\n",
       "  <clipPath id=\"clip481\">\n",
       "    <rect x=\"384\" y=\"0\" width=\"1345\" height=\"1280\"/>\n",
       "  </clipPath>\n",
       "</defs>\n",
       "<path clip-path=\"url(#clip480)\" d=\"\n",
       "M274.904 1106.38 L1872.76 1106.38 L1872.76 47.2441 L274.904 47.2441  Z\n",
       "  \" fill=\"#ffffff\" fill-rule=\"evenodd\" fill-opacity=\"1\"/>\n",
       "<defs>\n",
       "  <clipPath id=\"clip482\">\n",
       "    <rect x=\"274\" y=\"47\" width=\"1599\" height=\"1060\"/>\n",
       "  </clipPath>\n",
       "</defs>\n",
       "<polyline clip-path=\"url(#clip482)\" style=\"stroke:#000000; stroke-linecap:butt; stroke-linejoin:round; stroke-width:2; stroke-opacity:0.1; fill:none\" points=\"\n",
       "  320.126,1106.38 320.126,47.2441 \n",
       "  \"/>\n",
       "<polyline clip-path=\"url(#clip482)\" style=\"stroke:#000000; stroke-linecap:butt; stroke-linejoin:round; stroke-width:2; stroke-opacity:0.1; fill:none\" points=\"\n",
       "  600.313,1106.38 600.313,47.2441 \n",
       "  \"/>\n",
       "<polyline clip-path=\"url(#clip482)\" style=\"stroke:#000000; stroke-linecap:butt; stroke-linejoin:round; stroke-width:2; stroke-opacity:0.1; fill:none\" points=\"\n",
       "  880.501,1106.38 880.501,47.2441 \n",
       "  \"/>\n",
       "<polyline clip-path=\"url(#clip482)\" style=\"stroke:#000000; stroke-linecap:butt; stroke-linejoin:round; stroke-width:2; stroke-opacity:0.1; fill:none\" points=\"\n",
       "  1160.69,1106.38 1160.69,47.2441 \n",
       "  \"/>\n",
       "<polyline clip-path=\"url(#clip482)\" style=\"stroke:#000000; stroke-linecap:butt; stroke-linejoin:round; stroke-width:2; stroke-opacity:0.1; fill:none\" points=\"\n",
       "  1440.88,1106.38 1440.88,47.2441 \n",
       "  \"/>\n",
       "<polyline clip-path=\"url(#clip482)\" style=\"stroke:#000000; stroke-linecap:butt; stroke-linejoin:round; stroke-width:2; stroke-opacity:0.1; fill:none\" points=\"\n",
       "  1721.06,1106.38 1721.06,47.2441 \n",
       "  \"/>\n",
       "<polyline clip-path=\"url(#clip480)\" style=\"stroke:#000000; stroke-linecap:butt; stroke-linejoin:round; stroke-width:4; stroke-opacity:1; fill:none\" points=\"\n",
       "  274.904,1106.38 1872.76,1106.38 \n",
       "  \"/>\n",
       "<polyline clip-path=\"url(#clip480)\" style=\"stroke:#000000; stroke-linecap:butt; stroke-linejoin:round; stroke-width:4; stroke-opacity:1; fill:none\" points=\"\n",
       "  320.126,1106.38 320.126,1087.48 \n",
       "  \"/>\n",
       "<polyline clip-path=\"url(#clip480)\" style=\"stroke:#000000; stroke-linecap:butt; stroke-linejoin:round; stroke-width:4; stroke-opacity:1; fill:none\" points=\"\n",
       "  600.313,1106.38 600.313,1087.48 \n",
       "  \"/>\n",
       "<polyline clip-path=\"url(#clip480)\" style=\"stroke:#000000; stroke-linecap:butt; stroke-linejoin:round; stroke-width:4; stroke-opacity:1; fill:none\" points=\"\n",
       "  880.501,1106.38 880.501,1087.48 \n",
       "  \"/>\n",
       "<polyline clip-path=\"url(#clip480)\" style=\"stroke:#000000; stroke-linecap:butt; stroke-linejoin:round; stroke-width:4; stroke-opacity:1; fill:none\" points=\"\n",
       "  1160.69,1106.38 1160.69,1087.48 \n",
       "  \"/>\n",
       "<polyline clip-path=\"url(#clip480)\" style=\"stroke:#000000; stroke-linecap:butt; stroke-linejoin:round; stroke-width:4; stroke-opacity:1; fill:none\" points=\"\n",
       "  1440.88,1106.38 1440.88,1087.48 \n",
       "  \"/>\n",
       "<polyline clip-path=\"url(#clip480)\" style=\"stroke:#000000; stroke-linecap:butt; stroke-linejoin:round; stroke-width:4; stroke-opacity:1; fill:none\" points=\"\n",
       "  1721.06,1106.38 1721.06,1087.48 \n",
       "  \"/>\n",
       "<path clip-path=\"url(#clip480)\" d=\"M320.126 1133.46 Q316.515 1133.46 314.686 1137.02 Q312.881 1140.56 312.881 1147.69 Q312.881 1154.8 314.686 1158.37 Q316.515 1161.91 320.126 1161.91 Q323.76 1161.91 325.566 1158.37 Q327.395 1154.8 327.395 1147.69 Q327.395 1140.56 325.566 1137.02 Q323.76 1133.46 320.126 1133.46 M320.126 1129.75 Q325.936 1129.75 328.992 1134.36 Q332.071 1138.94 332.071 1147.69 Q332.071 1156.42 328.992 1161.03 Q325.936 1165.61 320.126 1165.61 Q314.316 1165.61 311.237 1161.03 Q308.182 1156.42 308.182 1147.69 Q308.182 1138.94 311.237 1134.36 Q314.316 1129.75 320.126 1129.75 Z\" fill=\"#000000\" fill-rule=\"evenodd\" fill-opacity=\"1\" /><path clip-path=\"url(#clip480)\" d=\"M559.92 1161 L567.559 1161 L567.559 1134.64 L559.249 1136.31 L559.249 1132.05 L567.513 1130.38 L572.189 1130.38 L572.189 1161 L579.827 1161 L579.827 1164.94 L559.92 1164.94 L559.92 1161 Z\" fill=\"#000000\" fill-rule=\"evenodd\" fill-opacity=\"1\" /><path clip-path=\"url(#clip480)\" d=\"M599.272 1133.46 Q595.661 1133.46 593.832 1137.02 Q592.026 1140.56 592.026 1147.69 Q592.026 1154.8 593.832 1158.37 Q595.661 1161.91 599.272 1161.91 Q602.906 1161.91 604.712 1158.37 Q606.54 1154.8 606.54 1147.69 Q606.54 1140.56 604.712 1137.02 Q602.906 1133.46 599.272 1133.46 M599.272 1129.75 Q605.082 1129.75 608.137 1134.36 Q611.216 1138.94 611.216 1147.69 Q611.216 1156.42 608.137 1161.03 Q605.082 1165.61 599.272 1165.61 Q593.462 1165.61 590.383 1161.03 Q587.327 1156.42 587.327 1147.69 Q587.327 1138.94 590.383 1134.36 Q593.462 1129.75 599.272 1129.75 Z\" fill=\"#000000\" fill-rule=\"evenodd\" fill-opacity=\"1\" /><path clip-path=\"url(#clip480)\" d=\"M629.434 1133.46 Q625.823 1133.46 623.994 1137.02 Q622.188 1140.56 622.188 1147.69 Q622.188 1154.8 623.994 1158.37 Q625.823 1161.91 629.434 1161.91 Q633.068 1161.91 634.873 1158.37 Q636.702 1154.8 636.702 1147.69 Q636.702 1140.56 634.873 1137.02 Q633.068 1133.46 629.434 1133.46 M629.434 1129.75 Q635.244 1129.75 638.299 1134.36 Q641.378 1138.94 641.378 1147.69 Q641.378 1156.42 638.299 1161.03 Q635.244 1165.61 629.434 1165.61 Q623.623 1165.61 620.545 1161.03 Q617.489 1156.42 617.489 1147.69 Q617.489 1138.94 620.545 1134.36 Q623.623 1129.75 629.434 1129.75 Z\" fill=\"#000000\" fill-rule=\"evenodd\" fill-opacity=\"1\" /><path clip-path=\"url(#clip480)\" d=\"M844.193 1161 L860.512 1161 L860.512 1164.94 L838.568 1164.94 L838.568 1161 Q841.23 1158.25 845.813 1153.62 Q850.42 1148.97 851.6 1147.63 Q853.846 1145.1 854.725 1143.37 Q855.628 1141.61 855.628 1139.92 Q855.628 1137.16 853.684 1135.43 Q851.762 1133.69 848.661 1133.69 Q846.462 1133.69 844.008 1134.45 Q841.577 1135.22 838.8 1136.77 L838.8 1132.05 Q841.624 1130.91 844.077 1130.33 Q846.531 1129.75 848.568 1129.75 Q853.938 1129.75 857.133 1132.44 Q860.327 1135.13 860.327 1139.62 Q860.327 1141.75 859.517 1143.67 Q858.73 1145.56 856.623 1148.16 Q856.045 1148.83 852.943 1152.05 Q849.841 1155.24 844.193 1161 Z\" fill=\"#000000\" fill-rule=\"evenodd\" fill-opacity=\"1\" /><path clip-path=\"url(#clip480)\" d=\"M880.327 1133.46 Q876.716 1133.46 874.887 1137.02 Q873.082 1140.56 873.082 1147.69 Q873.082 1154.8 874.887 1158.37 Q876.716 1161.91 880.327 1161.91 Q883.961 1161.91 885.767 1158.37 Q887.596 1154.8 887.596 1147.69 Q887.596 1140.56 885.767 1137.02 Q883.961 1133.46 880.327 1133.46 M880.327 1129.75 Q886.137 1129.75 889.193 1134.36 Q892.271 1138.94 892.271 1147.69 Q892.271 1156.42 889.193 1161.03 Q886.137 1165.61 880.327 1165.61 Q874.517 1165.61 871.438 1161.03 Q868.383 1156.42 868.383 1147.69 Q868.383 1138.94 871.438 1134.36 Q874.517 1129.75 880.327 1129.75 Z\" fill=\"#000000\" fill-rule=\"evenodd\" fill-opacity=\"1\" /><path clip-path=\"url(#clip480)\" d=\"M910.489 1133.46 Q906.878 1133.46 905.049 1137.02 Q903.244 1140.56 903.244 1147.69 Q903.244 1154.8 905.049 1158.37 Q906.878 1161.91 910.489 1161.91 Q914.123 1161.91 915.929 1158.37 Q917.757 1154.8 917.757 1147.69 Q917.757 1140.56 915.929 1137.02 Q914.123 1133.46 910.489 1133.46 M910.489 1129.75 Q916.299 1129.75 919.355 1134.36 Q922.433 1138.94 922.433 1147.69 Q922.433 1156.42 919.355 1161.03 Q916.299 1165.61 910.489 1165.61 Q904.679 1165.61 901.6 1161.03 Q898.545 1156.42 898.545 1147.69 Q898.545 1138.94 901.6 1134.36 Q904.679 1129.75 910.489 1129.75 Z\" fill=\"#000000\" fill-rule=\"evenodd\" fill-opacity=\"1\" /><path clip-path=\"url(#clip480)\" d=\"M1134.45 1146.31 Q1137.81 1147.02 1139.68 1149.29 Q1141.58 1151.56 1141.58 1154.89 Q1141.58 1160.01 1138.06 1162.81 Q1134.54 1165.61 1128.06 1165.61 Q1125.88 1165.61 1123.57 1165.17 Q1121.28 1164.75 1118.82 1163.9 L1118.82 1159.38 Q1120.77 1160.52 1123.08 1161.1 Q1125.4 1161.68 1127.92 1161.68 Q1132.32 1161.68 1134.61 1159.94 Q1136.93 1158.2 1136.93 1154.89 Q1136.93 1151.84 1134.77 1150.13 Q1132.64 1148.39 1128.82 1148.39 L1124.8 1148.39 L1124.8 1144.55 L1129.01 1144.55 Q1132.46 1144.55 1134.29 1143.18 Q1136.12 1141.79 1136.12 1139.2 Q1136.12 1136.54 1134.22 1135.13 Q1132.34 1133.69 1128.82 1133.69 Q1126.9 1133.69 1124.7 1134.11 Q1122.51 1134.52 1119.87 1135.4 L1119.87 1131.24 Q1122.53 1130.5 1124.84 1130.13 Q1127.18 1129.75 1129.24 1129.75 Q1134.57 1129.75 1137.67 1132.19 Q1140.77 1134.59 1140.77 1138.71 Q1140.77 1141.58 1139.13 1143.57 Q1137.48 1145.54 1134.45 1146.31 Z\" fill=\"#000000\" fill-rule=\"evenodd\" fill-opacity=\"1\" /><path clip-path=\"url(#clip480)\" d=\"M1160.44 1133.46 Q1156.83 1133.46 1155.01 1137.02 Q1153.2 1140.56 1153.2 1147.69 Q1153.2 1154.8 1155.01 1158.37 Q1156.83 1161.91 1160.44 1161.91 Q1164.08 1161.91 1165.88 1158.37 Q1167.71 1154.8 1167.71 1147.69 Q1167.71 1140.56 1165.88 1137.02 Q1164.08 1133.46 1160.44 1133.46 M1160.44 1129.75 Q1166.26 1129.75 1169.31 1134.36 Q1172.39 1138.94 1172.39 1147.69 Q1172.39 1156.42 1169.31 1161.03 Q1166.26 1165.61 1160.44 1165.61 Q1154.63 1165.61 1151.56 1161.03 Q1148.5 1156.42 1148.5 1147.69 Q1148.5 1138.94 1151.56 1134.36 Q1154.63 1129.75 1160.44 1129.75 Z\" fill=\"#000000\" fill-rule=\"evenodd\" fill-opacity=\"1\" /><path clip-path=\"url(#clip480)\" d=\"M1190.61 1133.46 Q1187 1133.46 1185.17 1137.02 Q1183.36 1140.56 1183.36 1147.69 Q1183.36 1154.8 1185.17 1158.37 Q1187 1161.91 1190.61 1161.91 Q1194.24 1161.91 1196.05 1158.37 Q1197.88 1154.8 1197.88 1147.69 Q1197.88 1140.56 1196.05 1137.02 Q1194.24 1133.46 1190.61 1133.46 M1190.61 1129.75 Q1196.42 1129.75 1199.47 1134.36 Q1202.55 1138.94 1202.55 1147.69 Q1202.55 1156.42 1199.47 1161.03 Q1196.42 1165.61 1190.61 1165.61 Q1184.8 1165.61 1181.72 1161.03 Q1178.66 1156.42 1178.66 1147.69 Q1178.66 1138.94 1181.72 1134.36 Q1184.8 1129.75 1190.61 1129.75 Z\" fill=\"#000000\" fill-rule=\"evenodd\" fill-opacity=\"1\" /><path clip-path=\"url(#clip480)\" d=\"M1413.97 1134.45 L1402.16 1152.9 L1413.97 1152.9 L1413.97 1134.45 M1412.74 1130.38 L1418.62 1130.38 L1418.62 1152.9 L1423.55 1152.9 L1423.55 1156.79 L1418.62 1156.79 L1418.62 1164.94 L1413.97 1164.94 L1413.97 1156.79 L1398.36 1156.79 L1398.36 1152.28 L1412.74 1130.38 Z\" fill=\"#000000\" fill-rule=\"evenodd\" fill-opacity=\"1\" /><path clip-path=\"url(#clip480)\" d=\"M1441.28 1133.46 Q1437.67 1133.46 1435.84 1137.02 Q1434.03 1140.56 1434.03 1147.69 Q1434.03 1154.8 1435.84 1158.37 Q1437.67 1161.91 1441.28 1161.91 Q1444.91 1161.91 1446.72 1158.37 Q1448.55 1154.8 1448.55 1147.69 Q1448.55 1140.56 1446.72 1137.02 Q1444.91 1133.46 1441.28 1133.46 M1441.28 1129.75 Q1447.09 1129.75 1450.15 1134.36 Q1453.22 1138.94 1453.22 1147.69 Q1453.22 1156.42 1450.15 1161.03 Q1447.09 1165.61 1441.28 1165.61 Q1435.47 1165.61 1432.39 1161.03 Q1429.34 1156.42 1429.34 1147.69 Q1429.34 1138.94 1432.39 1134.36 Q1435.47 1129.75 1441.28 1129.75 Z\" fill=\"#000000\" fill-rule=\"evenodd\" fill-opacity=\"1\" /><path clip-path=\"url(#clip480)\" d=\"M1471.44 1133.46 Q1467.83 1133.46 1466 1137.02 Q1464.2 1140.56 1464.2 1147.69 Q1464.2 1154.8 1466 1158.37 Q1467.83 1161.91 1471.44 1161.91 Q1475.08 1161.91 1476.88 1158.37 Q1478.71 1154.8 1478.71 1147.69 Q1478.71 1140.56 1476.88 1137.02 Q1475.08 1133.46 1471.44 1133.46 M1471.44 1129.75 Q1477.25 1129.75 1480.31 1134.36 Q1483.39 1138.94 1483.39 1147.69 Q1483.39 1156.42 1480.31 1161.03 Q1477.25 1165.61 1471.44 1165.61 Q1465.63 1165.61 1462.55 1161.03 Q1459.5 1156.42 1459.5 1147.69 Q1459.5 1138.94 1462.55 1134.36 Q1465.63 1129.75 1471.44 1129.75 Z\" fill=\"#000000\" fill-rule=\"evenodd\" fill-opacity=\"1\" /><path clip-path=\"url(#clip480)\" d=\"M1680.68 1130.38 L1699.04 1130.38 L1699.04 1134.32 L1684.96 1134.32 L1684.96 1142.79 Q1685.98 1142.44 1687 1142.28 Q1688.02 1142.09 1689.04 1142.09 Q1694.82 1142.09 1698.2 1145.26 Q1701.58 1148.44 1701.58 1153.85 Q1701.58 1159.43 1698.11 1162.53 Q1694.64 1165.61 1688.32 1165.61 Q1686.14 1165.61 1683.88 1165.24 Q1681.63 1164.87 1679.22 1164.13 L1679.22 1159.43 Q1681.31 1160.56 1683.53 1161.12 Q1685.75 1161.68 1688.23 1161.68 Q1692.23 1161.68 1694.57 1159.57 Q1696.91 1157.46 1696.91 1153.85 Q1696.91 1150.24 1694.57 1148.13 Q1692.23 1146.03 1688.23 1146.03 Q1686.35 1146.03 1684.48 1146.44 Q1682.63 1146.86 1680.68 1147.74 L1680.68 1130.38 Z\" fill=\"#000000\" fill-rule=\"evenodd\" fill-opacity=\"1\" /><path clip-path=\"url(#clip480)\" d=\"M1720.8 1133.46 Q1717.19 1133.46 1715.36 1137.02 Q1713.55 1140.56 1713.55 1147.69 Q1713.55 1154.8 1715.36 1158.37 Q1717.19 1161.91 1720.8 1161.91 Q1724.43 1161.91 1726.24 1158.37 Q1728.06 1154.8 1728.06 1147.69 Q1728.06 1140.56 1726.24 1137.02 Q1724.43 1133.46 1720.8 1133.46 M1720.8 1129.75 Q1726.61 1129.75 1729.66 1134.36 Q1732.74 1138.94 1732.74 1147.69 Q1732.74 1156.42 1729.66 1161.03 Q1726.61 1165.61 1720.8 1165.61 Q1714.99 1165.61 1711.91 1161.03 Q1708.85 1156.42 1708.85 1147.69 Q1708.85 1138.94 1711.91 1134.36 Q1714.99 1129.75 1720.8 1129.75 Z\" fill=\"#000000\" fill-rule=\"evenodd\" fill-opacity=\"1\" /><path clip-path=\"url(#clip480)\" d=\"M1750.96 1133.46 Q1747.35 1133.46 1745.52 1137.02 Q1743.71 1140.56 1743.71 1147.69 Q1743.71 1154.8 1745.52 1158.37 Q1747.35 1161.91 1750.96 1161.91 Q1754.59 1161.91 1756.4 1158.37 Q1758.23 1154.8 1758.23 1147.69 Q1758.23 1140.56 1756.4 1137.02 Q1754.59 1133.46 1750.96 1133.46 M1750.96 1129.75 Q1756.77 1129.75 1759.82 1134.36 Q1762.9 1138.94 1762.9 1147.69 Q1762.9 1156.42 1759.82 1161.03 Q1756.77 1165.61 1750.96 1165.61 Q1745.15 1165.61 1742.07 1161.03 Q1739.01 1156.42 1739.01 1147.69 Q1739.01 1138.94 1742.07 1134.36 Q1745.15 1129.75 1750.96 1129.75 Z\" fill=\"#000000\" fill-rule=\"evenodd\" fill-opacity=\"1\" /><path clip-path=\"url(#clip480)\" d=\"M416.587 1196.52 L425.244 1196.52 L446.314 1236.28 L446.314 1196.52 L452.553 1196.52 L452.553 1244.04 L443.895 1244.04 L422.825 1204.29 L422.825 1244.04 L416.587 1244.04 L416.587 1196.52 Z\" fill=\"#000000\" fill-rule=\"evenodd\" fill-opacity=\"1\" /><path clip-path=\"url(#clip480)\" d=\"M464.489 1229.98 L464.489 1208.4 L470.345 1208.4 L470.345 1229.75 Q470.345 1234.81 472.318 1237.36 Q474.292 1239.87 478.238 1239.87 Q482.981 1239.87 485.718 1236.85 Q488.487 1233.83 488.487 1228.61 L488.487 1208.4 L494.344 1208.4 L494.344 1244.04 L488.487 1244.04 L488.487 1238.57 Q486.355 1241.82 483.522 1243.41 Q480.721 1244.97 476.997 1244.97 Q470.854 1244.97 467.671 1241.15 Q464.489 1237.33 464.489 1229.98 M479.225 1207.54 L479.225 1207.54 Z\" fill=\"#000000\" fill-rule=\"evenodd\" fill-opacity=\"1\" /><path clip-path=\"url(#clip480)\" d=\"M534.161 1215.24 Q536.357 1211.29 539.413 1209.41 Q542.468 1207.54 546.606 1207.54 Q552.176 1207.54 555.2 1211.45 Q558.224 1215.33 558.224 1222.53 L558.224 1244.04 L552.335 1244.04 L552.335 1222.72 Q552.335 1217.59 550.521 1215.11 Q548.707 1212.63 544.983 1212.63 Q540.431 1212.63 537.79 1215.65 Q535.148 1218.68 535.148 1223.9 L535.148 1244.04 L529.26 1244.04 L529.26 1222.72 Q529.26 1217.56 527.445 1215.11 Q525.631 1212.63 521.844 1212.63 Q517.356 1212.63 514.714 1215.68 Q512.072 1218.71 512.072 1223.9 L512.072 1244.04 L506.184 1244.04 L506.184 1208.4 L512.072 1208.4 L512.072 1213.93 Q514.077 1210.66 516.878 1209.1 Q519.679 1207.54 523.53 1207.54 Q527.414 1207.54 530.119 1209.51 Q532.856 1211.48 534.161 1215.24 Z\" fill=\"#000000\" fill-rule=\"evenodd\" fill-opacity=\"1\" /><path clip-path=\"url(#clip480)\" d=\"M595.495 1226.25 Q595.495 1219.79 592.821 1216.13 Q590.179 1212.44 585.532 1212.44 Q580.885 1212.44 578.212 1216.13 Q575.57 1219.79 575.57 1226.25 Q575.57 1232.71 578.212 1236.4 Q580.885 1240.07 585.532 1240.07 Q590.179 1240.07 592.821 1236.4 Q595.495 1232.71 595.495 1226.25 M575.57 1213.81 Q577.416 1210.62 580.217 1209.1 Q583.05 1207.54 586.965 1207.54 Q593.458 1207.54 597.5 1212.69 Q601.574 1217.85 601.574 1226.25 Q601.574 1234.65 597.5 1239.81 Q593.458 1244.97 586.965 1244.97 Q583.05 1244.97 580.217 1243.44 Q577.416 1241.88 575.57 1238.7 L575.57 1244.04 L569.682 1244.04 L569.682 1194.52 L575.57 1194.52 L575.57 1213.81 Z\" fill=\"#000000\" fill-rule=\"evenodd\" fill-opacity=\"1\" /><path clip-path=\"url(#clip480)\" d=\"M641.773 1224.76 L641.773 1227.62 L614.847 1227.62 Q615.228 1233.67 618.475 1236.85 Q621.753 1240 627.578 1240 Q630.952 1240 634.103 1239.17 Q637.286 1238.35 640.405 1236.69 L640.405 1242.23 Q637.254 1243.57 633.944 1244.27 Q630.633 1244.97 627.228 1244.97 Q618.698 1244.97 613.701 1240 Q608.735 1235.04 608.735 1226.57 Q608.735 1217.82 613.446 1212.69 Q618.189 1207.54 626.209 1207.54 Q633.403 1207.54 637.572 1212.18 Q641.773 1216.8 641.773 1224.76 M635.917 1223.04 Q635.853 1218.23 633.212 1215.37 Q630.602 1212.5 626.273 1212.5 Q621.371 1212.5 618.411 1215.27 Q615.483 1218.04 615.038 1223.07 L635.917 1223.04 Z\" fill=\"#000000\" fill-rule=\"evenodd\" fill-opacity=\"1\" /><path clip-path=\"url(#clip480)\" d=\"M672.042 1213.87 Q671.056 1213.3 669.878 1213.04 Q668.732 1212.76 667.332 1212.76 Q662.367 1212.76 659.693 1216 Q657.051 1219.22 657.051 1225.27 L657.051 1244.04 L651.163 1244.04 L651.163 1208.4 L657.051 1208.4 L657.051 1213.93 Q658.897 1210.69 661.857 1209.13 Q664.817 1207.54 669.051 1207.54 Q669.655 1207.54 670.387 1207.63 Q671.119 1207.7 672.011 1207.85 L672.042 1213.87 Z\" fill=\"#000000\" fill-rule=\"evenodd\" fill-opacity=\"1\" /><path clip-path=\"url(#clip480)\" d=\"M712.719 1212.5 Q708.009 1212.5 705.271 1216.19 Q702.534 1219.85 702.534 1226.25 Q702.534 1232.65 705.24 1236.34 Q707.977 1240 712.719 1240 Q717.398 1240 720.135 1236.31 Q722.873 1232.62 722.873 1226.25 Q722.873 1219.92 720.135 1216.23 Q717.398 1212.5 712.719 1212.5 M712.719 1207.54 Q720.358 1207.54 724.719 1212.5 Q729.079 1217.47 729.079 1226.25 Q729.079 1235 724.719 1240 Q720.358 1244.97 712.719 1244.97 Q705.049 1244.97 700.688 1240 Q696.359 1235 696.359 1226.25 Q696.359 1217.47 700.688 1212.5 Q705.049 1207.54 712.719 1207.54 Z\" fill=\"#000000\" fill-rule=\"evenodd\" fill-opacity=\"1\" /><path clip-path=\"url(#clip480)\" d=\"M756.834 1194.52 L756.834 1199.39 L751.232 1199.39 Q748.081 1199.39 746.839 1200.66 Q745.63 1201.93 745.63 1205.24 L745.63 1208.4 L755.274 1208.4 L755.274 1212.95 L745.63 1212.95 L745.63 1244.04 L739.742 1244.04 L739.742 1212.95 L734.14 1212.95 L734.14 1208.4 L739.742 1208.4 L739.742 1205.91 Q739.742 1199.96 742.511 1197.26 Q745.28 1194.52 751.295 1194.52 L756.834 1194.52 Z\" fill=\"#000000\" fill-rule=\"evenodd\" fill-opacity=\"1\" /><path clip-path=\"url(#clip480)\" d=\"M812.088 1222.53 L812.088 1244.04 L806.232 1244.04 L806.232 1222.72 Q806.232 1217.66 804.258 1215.14 Q802.285 1212.63 798.338 1212.63 Q793.596 1212.63 790.858 1215.65 Q788.121 1218.68 788.121 1223.9 L788.121 1244.04 L782.233 1244.04 L782.233 1194.52 L788.121 1194.52 L788.121 1213.93 Q790.222 1210.72 793.055 1209.13 Q795.919 1207.54 799.643 1207.54 Q805.786 1207.54 808.937 1211.36 Q812.088 1215.14 812.088 1222.53 Z\" fill=\"#000000\" fill-rule=\"evenodd\" fill-opacity=\"1\" /><path clip-path=\"url(#clip480)\" d=\"M837.583 1212.5 Q832.872 1212.5 830.135 1216.19 Q827.397 1219.85 827.397 1226.25 Q827.397 1232.65 830.103 1236.34 Q832.84 1240 837.583 1240 Q842.261 1240 844.999 1236.31 Q847.736 1232.62 847.736 1226.25 Q847.736 1219.92 844.999 1216.23 Q842.261 1212.5 837.583 1212.5 M837.583 1207.54 Q845.221 1207.54 849.582 1212.5 Q853.942 1217.47 853.942 1226.25 Q853.942 1235 849.582 1240 Q845.221 1244.97 837.583 1244.97 Q829.912 1244.97 825.551 1240 Q821.223 1235 821.223 1226.25 Q821.223 1217.47 825.551 1212.5 Q829.912 1207.54 837.583 1207.54 Z\" fill=\"#000000\" fill-rule=\"evenodd\" fill-opacity=\"1\" /><path clip-path=\"url(#clip480)\" d=\"M893.283 1222.53 L893.283 1244.04 L887.426 1244.04 L887.426 1222.72 Q887.426 1217.66 885.453 1215.14 Q883.479 1212.63 879.533 1212.63 Q874.79 1212.63 872.053 1215.65 Q869.316 1218.68 869.316 1223.9 L869.316 1244.04 L863.427 1244.04 L863.427 1208.4 L869.316 1208.4 L869.316 1213.93 Q871.416 1210.72 874.249 1209.13 Q877.114 1207.54 880.838 1207.54 Q886.981 1207.54 890.132 1211.36 Q893.283 1215.14 893.283 1222.53 Z\" fill=\"#000000\" fill-rule=\"evenodd\" fill-opacity=\"1\" /><path clip-path=\"url(#clip480)\" d=\"M935.455 1224.76 L935.455 1227.62 L908.528 1227.62 Q908.91 1233.67 912.157 1236.85 Q915.435 1240 921.26 1240 Q924.634 1240 927.785 1239.17 Q930.968 1238.35 934.087 1236.69 L934.087 1242.23 Q930.936 1243.57 927.626 1244.27 Q924.315 1244.97 920.91 1244.97 Q912.38 1244.97 907.383 1240 Q902.417 1235.04 902.417 1226.57 Q902.417 1217.82 907.128 1212.69 Q911.87 1207.54 919.891 1207.54 Q927.084 1207.54 931.254 1212.18 Q935.455 1216.8 935.455 1224.76 M929.599 1223.04 Q929.535 1218.23 926.893 1215.37 Q924.284 1212.5 919.955 1212.5 Q915.053 1212.5 912.093 1215.27 Q909.165 1218.04 908.719 1223.07 L929.599 1223.04 Z\" fill=\"#000000\" fill-rule=\"evenodd\" fill-opacity=\"1\" /><path clip-path=\"url(#clip480)\" d=\"M967.793 1209.45 L967.793 1214.98 Q965.311 1213.71 962.637 1213.07 Q959.963 1212.44 957.099 1212.44 Q952.738 1212.44 950.542 1213.77 Q948.378 1215.11 948.378 1217.79 Q948.378 1219.82 949.937 1221 Q951.497 1222.15 956.208 1223.2 L958.213 1223.64 Q964.451 1224.98 967.061 1227.43 Q969.703 1229.85 969.703 1234.21 Q969.703 1239.17 965.756 1242.07 Q961.841 1244.97 954.966 1244.97 Q952.102 1244.97 948.982 1244.39 Q945.895 1243.85 942.458 1242.74 L942.458 1236.69 Q945.704 1238.38 948.855 1239.24 Q952.006 1240.07 955.094 1240.07 Q959.231 1240.07 961.459 1238.66 Q963.687 1237.23 963.687 1234.65 Q963.687 1232.27 962.064 1230.99 Q960.473 1229.72 955.03 1228.54 L952.993 1228.07 Q947.55 1226.92 945.131 1224.56 Q942.712 1222.18 942.712 1218.04 Q942.712 1213.01 946.277 1210.27 Q949.842 1207.54 956.399 1207.54 Q959.645 1207.54 962.51 1208.01 Q965.374 1208.49 967.793 1209.45 Z\" fill=\"#000000\" fill-rule=\"evenodd\" fill-opacity=\"1\" /><path clip-path=\"url(#clip480)\" d=\"M984.821 1198.27 L984.821 1208.4 L996.884 1208.4 L996.884 1212.95 L984.821 1212.95 L984.821 1232.3 Q984.821 1236.66 985.999 1237.9 Q987.209 1239.14 990.869 1239.14 L996.884 1239.14 L996.884 1244.04 L990.869 1244.04 Q984.089 1244.04 981.511 1241.53 Q978.933 1238.98 978.933 1232.3 L978.933 1212.95 L974.636 1212.95 L974.636 1208.4 L978.933 1208.4 L978.933 1198.27 L984.821 1198.27 Z\" fill=\"#000000\" fill-rule=\"evenodd\" fill-opacity=\"1\" /><path clip-path=\"url(#clip480)\" d=\"M1053.06 1215.24 Q1055.26 1211.29 1058.31 1209.41 Q1061.37 1207.54 1065.51 1207.54 Q1071.08 1207.54 1074.1 1211.45 Q1077.12 1215.33 1077.12 1222.53 L1077.12 1244.04 L1071.24 1244.04 L1071.24 1222.72 Q1071.24 1217.59 1069.42 1215.11 Q1067.61 1212.63 1063.88 1212.63 Q1059.33 1212.63 1056.69 1215.65 Q1054.05 1218.68 1054.05 1223.9 L1054.05 1244.04 L1048.16 1244.04 L1048.16 1222.72 Q1048.16 1217.56 1046.35 1215.11 Q1044.53 1212.63 1040.74 1212.63 Q1036.26 1212.63 1033.61 1215.68 Q1030.97 1218.71 1030.97 1223.9 L1030.97 1244.04 L1025.08 1244.04 L1025.08 1208.4 L1030.97 1208.4 L1030.97 1213.93 Q1032.98 1210.66 1035.78 1209.1 Q1038.58 1207.54 1042.43 1207.54 Q1046.31 1207.54 1049.02 1209.51 Q1051.76 1211.48 1053.06 1215.24 Z\" fill=\"#000000\" fill-rule=\"evenodd\" fill-opacity=\"1\" /><path clip-path=\"url(#clip480)\" d=\"M1119.3 1224.76 L1119.3 1227.62 L1092.37 1227.62 Q1092.75 1233.67 1096 1236.85 Q1099.28 1240 1105.1 1240 Q1108.48 1240 1111.63 1239.17 Q1114.81 1238.35 1117.93 1236.69 L1117.93 1242.23 Q1114.78 1243.57 1111.47 1244.27 Q1108.16 1244.97 1104.75 1244.97 Q1096.22 1244.97 1091.22 1240 Q1086.26 1235.04 1086.26 1226.57 Q1086.26 1217.82 1090.97 1212.69 Q1095.71 1207.54 1103.73 1207.54 Q1110.93 1207.54 1115.1 1212.18 Q1119.3 1216.8 1119.3 1224.76 M1113.44 1223.04 Q1113.38 1218.23 1110.74 1215.37 Q1108.13 1212.5 1103.8 1212.5 Q1098.89 1212.5 1095.93 1215.27 Q1093.01 1218.04 1092.56 1223.07 L1113.44 1223.04 Z\" fill=\"#000000\" fill-rule=\"evenodd\" fill-opacity=\"1\" /><path clip-path=\"url(#clip480)\" d=\"M1156.66 1215.24 Q1158.86 1211.29 1161.92 1209.41 Q1164.97 1207.54 1169.11 1207.54 Q1174.68 1207.54 1177.7 1211.45 Q1180.73 1215.33 1180.73 1222.53 L1180.73 1244.04 L1174.84 1244.04 L1174.84 1222.72 Q1174.84 1217.59 1173.02 1215.11 Q1171.21 1212.63 1167.49 1212.63 Q1162.93 1212.63 1160.29 1215.65 Q1157.65 1218.68 1157.65 1223.9 L1157.65 1244.04 L1151.76 1244.04 L1151.76 1222.72 Q1151.76 1217.56 1149.95 1215.11 Q1148.13 1212.63 1144.35 1212.63 Q1139.86 1212.63 1137.22 1215.68 Q1134.57 1218.71 1134.57 1223.9 L1134.57 1244.04 L1128.69 1244.04 L1128.69 1208.4 L1134.57 1208.4 L1134.57 1213.93 Q1136.58 1210.66 1139.38 1209.1 Q1142.18 1207.54 1146.03 1207.54 Q1149.92 1207.54 1152.62 1209.51 Q1155.36 1211.48 1156.66 1215.24 Z\" fill=\"#000000\" fill-rule=\"evenodd\" fill-opacity=\"1\" /><path clip-path=\"url(#clip480)\" d=\"M1218 1226.25 Q1218 1219.79 1215.32 1216.13 Q1212.68 1212.44 1208.03 1212.44 Q1203.39 1212.44 1200.71 1216.13 Q1198.07 1219.79 1198.07 1226.25 Q1198.07 1232.71 1200.71 1236.4 Q1203.39 1240.07 1208.03 1240.07 Q1212.68 1240.07 1215.32 1236.4 Q1218 1232.71 1218 1226.25 M1198.07 1213.81 Q1199.92 1210.62 1202.72 1209.1 Q1205.55 1207.54 1209.47 1207.54 Q1215.96 1207.54 1220 1212.69 Q1224.08 1217.85 1224.08 1226.25 Q1224.08 1234.65 1220 1239.81 Q1215.96 1244.97 1209.47 1244.97 Q1205.55 1244.97 1202.72 1243.44 Q1199.92 1241.88 1198.07 1238.7 L1198.07 1244.04 L1192.18 1244.04 L1192.18 1194.52 L1198.07 1194.52 L1198.07 1213.81 Z\" fill=\"#000000\" fill-rule=\"evenodd\" fill-opacity=\"1\" /><path clip-path=\"url(#clip480)\" d=\"M1264.28 1224.76 L1264.28 1227.62 L1237.35 1227.62 Q1237.73 1233.67 1240.98 1236.85 Q1244.26 1240 1250.08 1240 Q1253.45 1240 1256.61 1239.17 Q1259.79 1238.35 1262.91 1236.69 L1262.91 1242.23 Q1259.76 1243.57 1256.45 1244.27 Q1253.14 1244.97 1249.73 1244.97 Q1241.2 1244.97 1236.2 1240 Q1231.24 1235.04 1231.24 1226.57 Q1231.24 1217.82 1235.95 1212.69 Q1240.69 1207.54 1248.71 1207.54 Q1255.91 1207.54 1260.07 1212.18 Q1264.28 1216.8 1264.28 1224.76 M1258.42 1223.04 Q1258.36 1218.23 1255.71 1215.37 Q1253.1 1212.5 1248.78 1212.5 Q1243.87 1212.5 1240.91 1215.27 Q1237.99 1218.04 1237.54 1223.07 L1258.42 1223.04 Z\" fill=\"#000000\" fill-rule=\"evenodd\" fill-opacity=\"1\" /><path clip-path=\"url(#clip480)\" d=\"M1294.54 1213.87 Q1293.56 1213.3 1292.38 1213.04 Q1291.23 1212.76 1289.83 1212.76 Q1284.87 1212.76 1282.2 1216 Q1279.55 1219.22 1279.55 1225.27 L1279.55 1244.04 L1273.67 1244.04 L1273.67 1208.4 L1279.55 1208.4 L1279.55 1213.93 Q1281.4 1210.69 1284.36 1209.13 Q1287.32 1207.54 1291.55 1207.54 Q1292.16 1207.54 1292.89 1207.63 Q1293.62 1207.7 1294.51 1207.85 L1294.54 1213.87 Z\" fill=\"#000000\" fill-rule=\"evenodd\" fill-opacity=\"1\" /><path clip-path=\"url(#clip480)\" d=\"M1323.41 1209.45 L1323.41 1214.98 Q1320.93 1213.71 1318.26 1213.07 Q1315.58 1212.44 1312.72 1212.44 Q1308.36 1212.44 1306.16 1213.77 Q1304 1215.11 1304 1217.79 Q1304 1219.82 1305.56 1221 Q1307.12 1222.15 1311.83 1223.2 L1313.83 1223.64 Q1320.07 1224.98 1322.68 1227.43 Q1325.32 1229.85 1325.32 1234.21 Q1325.32 1239.17 1321.38 1242.07 Q1317.46 1244.97 1310.59 1244.97 Q1307.72 1244.97 1304.6 1244.39 Q1301.52 1243.85 1298.08 1242.74 L1298.08 1236.69 Q1301.32 1238.38 1304.48 1239.24 Q1307.63 1240.07 1310.71 1240.07 Q1314.85 1240.07 1317.08 1238.66 Q1319.31 1237.23 1319.31 1234.65 Q1319.31 1232.27 1317.68 1230.99 Q1316.09 1229.72 1310.65 1228.54 L1308.61 1228.07 Q1303.17 1226.92 1300.75 1224.56 Q1298.33 1222.18 1298.33 1218.04 Q1298.33 1213.01 1301.9 1210.27 Q1305.46 1207.54 1312.02 1207.54 Q1315.27 1207.54 1318.13 1208.01 Q1320.99 1208.49 1323.41 1209.45 Z\" fill=\"#000000\" fill-rule=\"evenodd\" fill-opacity=\"1\" /><path clip-path=\"url(#clip480)\" d=\"M1369.18 1212.5 Q1364.47 1212.5 1361.73 1216.19 Q1359 1219.85 1359 1226.25 Q1359 1232.65 1361.7 1236.34 Q1364.44 1240 1369.18 1240 Q1373.86 1240 1376.6 1236.31 Q1379.34 1232.62 1379.34 1226.25 Q1379.34 1219.92 1376.6 1216.23 Q1373.86 1212.5 1369.18 1212.5 M1369.18 1207.54 Q1376.82 1207.54 1381.18 1212.5 Q1385.54 1217.47 1385.54 1226.25 Q1385.54 1235 1381.18 1240 Q1376.82 1244.97 1369.18 1244.97 Q1361.51 1244.97 1357.15 1240 Q1352.82 1235 1352.82 1226.25 Q1352.82 1217.47 1357.15 1212.5 Q1361.51 1207.54 1369.18 1207.54 Z\" fill=\"#000000\" fill-rule=\"evenodd\" fill-opacity=\"1\" /><path clip-path=\"url(#clip480)\" d=\"M1413.3 1194.52 L1413.3 1199.39 L1407.7 1199.39 Q1404.54 1199.39 1403.3 1200.66 Q1402.09 1201.93 1402.09 1205.24 L1402.09 1208.4 L1411.74 1208.4 L1411.74 1212.95 L1402.09 1212.95 L1402.09 1244.04 L1396.21 1244.04 L1396.21 1212.95 L1390.6 1212.95 L1390.6 1208.4 L1396.21 1208.4 L1396.21 1205.91 Q1396.21 1199.96 1398.97 1197.26 Q1401.74 1194.52 1407.76 1194.52 L1413.3 1194.52 Z\" fill=\"#000000\" fill-rule=\"evenodd\" fill-opacity=\"1\" /><path clip-path=\"url(#clip480)\" d=\"M1474.76 1200.18 L1474.76 1206.96 Q1471.51 1203.94 1467.82 1202.44 Q1464.16 1200.95 1460.02 1200.95 Q1451.87 1200.95 1447.54 1205.95 Q1443.22 1210.91 1443.22 1220.33 Q1443.22 1229.72 1447.54 1234.72 Q1451.87 1239.68 1460.02 1239.68 Q1464.16 1239.68 1467.82 1238.19 Q1471.51 1236.69 1474.76 1233.67 L1474.76 1240.38 Q1471.38 1242.68 1467.6 1243.82 Q1463.84 1244.97 1459.64 1244.97 Q1448.85 1244.97 1442.64 1238.38 Q1436.44 1231.76 1436.44 1220.33 Q1436.44 1208.87 1442.64 1202.28 Q1448.85 1195.66 1459.64 1195.66 Q1463.9 1195.66 1467.66 1196.81 Q1471.45 1197.92 1474.76 1200.18 Z\" fill=\"#000000\" fill-rule=\"evenodd\" fill-opacity=\"1\" /><path clip-path=\"url(#clip480)\" d=\"M1498.25 1212.5 Q1493.54 1212.5 1490.8 1216.19 Q1488.06 1219.85 1488.06 1226.25 Q1488.06 1232.65 1490.77 1236.34 Q1493.51 1240 1498.25 1240 Q1502.93 1240 1505.66 1236.31 Q1508.4 1232.62 1508.4 1226.25 Q1508.4 1219.92 1505.66 1216.23 Q1502.93 1212.5 1498.25 1212.5 M1498.25 1207.54 Q1505.89 1207.54 1510.25 1212.5 Q1514.61 1217.47 1514.61 1226.25 Q1514.61 1235 1510.25 1240 Q1505.89 1244.97 1498.25 1244.97 Q1490.58 1244.97 1486.22 1240 Q1481.89 1235 1481.89 1226.25 Q1481.89 1217.47 1486.22 1212.5 Q1490.58 1207.54 1498.25 1207.54 Z\" fill=\"#000000\" fill-rule=\"evenodd\" fill-opacity=\"1\" /><path clip-path=\"url(#clip480)\" d=\"M1553.95 1222.53 L1553.95 1244.04 L1548.09 1244.04 L1548.09 1222.72 Q1548.09 1217.66 1546.12 1215.14 Q1544.14 1212.63 1540.2 1212.63 Q1535.46 1212.63 1532.72 1215.65 Q1529.98 1218.68 1529.98 1223.9 L1529.98 1244.04 L1524.09 1244.04 L1524.09 1208.4 L1529.98 1208.4 L1529.98 1213.93 Q1532.08 1210.72 1534.91 1209.13 Q1537.78 1207.54 1541.5 1207.54 Q1547.65 1207.54 1550.8 1211.36 Q1553.95 1215.14 1553.95 1222.53 Z\" fill=\"#000000\" fill-rule=\"evenodd\" fill-opacity=\"1\" /><path clip-path=\"url(#clip480)\" d=\"M1589.09 1225.81 Q1589.09 1219.44 1586.44 1215.94 Q1583.83 1212.44 1579.09 1212.44 Q1574.38 1212.44 1571.74 1215.94 Q1569.13 1219.44 1569.13 1225.81 Q1569.13 1232.14 1571.74 1235.64 Q1574.38 1239.14 1579.09 1239.14 Q1583.83 1239.14 1586.44 1235.64 Q1589.09 1232.14 1589.09 1225.81 M1594.94 1239.62 Q1594.94 1248.72 1590.9 1253.15 Q1586.86 1257.6 1578.52 1257.6 Q1575.43 1257.6 1572.69 1257.13 Q1569.96 1256.68 1567.38 1255.72 L1567.38 1250.03 Q1569.96 1251.43 1572.47 1252.1 Q1574.99 1252.76 1577.6 1252.76 Q1583.36 1252.76 1586.22 1249.74 Q1589.09 1246.75 1589.09 1240.67 L1589.09 1237.77 Q1587.27 1240.92 1584.44 1242.48 Q1581.61 1244.04 1577.66 1244.04 Q1571.1 1244.04 1567.09 1239.05 Q1563.08 1234.05 1563.08 1225.81 Q1563.08 1217.53 1567.09 1212.53 Q1571.1 1207.54 1577.66 1207.54 Q1581.61 1207.54 1584.44 1209.1 Q1587.27 1210.66 1589.09 1213.81 L1589.09 1208.4 L1594.94 1208.4 L1594.94 1239.62 Z\" fill=\"#000000\" fill-rule=\"evenodd\" fill-opacity=\"1\" /><path clip-path=\"url(#clip480)\" d=\"M1627.66 1213.87 Q1626.68 1213.3 1625.5 1213.04 Q1624.35 1212.76 1622.95 1212.76 Q1617.99 1212.76 1615.31 1216 Q1612.67 1219.22 1612.67 1225.27 L1612.67 1244.04 L1606.78 1244.04 L1606.78 1208.4 L1612.67 1208.4 L1612.67 1213.93 Q1614.52 1210.69 1617.48 1209.13 Q1620.44 1207.54 1624.67 1207.54 Q1625.28 1207.54 1626.01 1207.63 Q1626.74 1207.7 1627.63 1207.85 L1627.66 1213.87 Z\" fill=\"#000000\" fill-rule=\"evenodd\" fill-opacity=\"1\" /><path clip-path=\"url(#clip480)\" d=\"M1662.86 1224.76 L1662.86 1227.62 L1635.94 1227.62 Q1636.32 1233.67 1639.57 1236.85 Q1642.84 1240 1648.67 1240 Q1652.04 1240 1655.19 1239.17 Q1658.38 1238.35 1661.5 1236.69 L1661.5 1242.23 Q1658.35 1243.57 1655.03 1244.27 Q1651.72 1244.97 1648.32 1244.97 Q1639.79 1244.97 1634.79 1240 Q1629.83 1235.04 1629.83 1226.57 Q1629.83 1217.82 1634.54 1212.69 Q1639.28 1207.54 1647.3 1207.54 Q1654.49 1207.54 1658.66 1212.18 Q1662.86 1216.8 1662.86 1224.76 M1657.01 1223.04 Q1656.94 1218.23 1654.3 1215.37 Q1651.69 1212.5 1647.36 1212.5 Q1642.46 1212.5 1639.5 1215.27 Q1636.57 1218.04 1636.13 1223.07 L1657.01 1223.04 Z\" fill=\"#000000\" fill-rule=\"evenodd\" fill-opacity=\"1\" /><path clip-path=\"url(#clip480)\" d=\"M1695.2 1209.45 L1695.2 1214.98 Q1692.72 1213.71 1690.05 1213.07 Q1687.37 1212.44 1684.51 1212.44 Q1680.15 1212.44 1677.95 1213.77 Q1675.79 1215.11 1675.79 1217.79 Q1675.79 1219.82 1677.35 1221 Q1678.91 1222.15 1683.62 1223.2 L1685.62 1223.64 Q1691.86 1224.98 1694.47 1227.43 Q1697.11 1229.85 1697.11 1234.21 Q1697.11 1239.17 1693.17 1242.07 Q1689.25 1244.97 1682.38 1244.97 Q1679.51 1244.97 1676.39 1244.39 Q1673.3 1243.85 1669.87 1242.74 L1669.87 1236.69 Q1673.11 1238.38 1676.26 1239.24 Q1679.42 1240.07 1682.5 1240.07 Q1686.64 1240.07 1688.87 1238.66 Q1691.1 1237.23 1691.1 1234.65 Q1691.1 1232.27 1689.47 1230.99 Q1687.88 1229.72 1682.44 1228.54 L1680.4 1228.07 Q1674.96 1226.92 1672.54 1224.56 Q1670.12 1222.18 1670.12 1218.04 Q1670.12 1213.01 1673.69 1210.27 Q1677.25 1207.54 1683.81 1207.54 Q1687.05 1207.54 1689.92 1208.01 Q1692.78 1208.49 1695.2 1209.45 Z\" fill=\"#000000\" fill-rule=\"evenodd\" fill-opacity=\"1\" /><path clip-path=\"url(#clip480)\" d=\"M1729.16 1209.45 L1729.16 1214.98 Q1726.68 1213.71 1724.01 1213.07 Q1721.33 1212.44 1718.47 1212.44 Q1714.11 1212.44 1711.91 1213.77 Q1709.75 1215.11 1709.75 1217.79 Q1709.75 1219.82 1711.31 1221 Q1712.87 1222.15 1717.58 1223.2 L1719.58 1223.64 Q1725.82 1224.98 1728.43 1227.43 Q1731.07 1229.85 1731.07 1234.21 Q1731.07 1239.17 1727.13 1242.07 Q1723.21 1244.97 1716.34 1244.97 Q1713.47 1244.97 1710.35 1244.39 Q1707.27 1243.85 1703.83 1242.74 L1703.83 1236.69 Q1707.07 1238.38 1710.23 1239.24 Q1713.38 1240.07 1716.46 1240.07 Q1720.6 1240.07 1722.83 1238.66 Q1725.06 1237.23 1725.06 1234.65 Q1725.06 1232.27 1723.43 1230.99 Q1721.84 1229.72 1716.4 1228.54 L1714.36 1228.07 Q1708.92 1226.92 1706.5 1224.56 Q1704.08 1222.18 1704.08 1218.04 Q1704.08 1213.01 1707.65 1210.27 Q1711.21 1207.54 1717.77 1207.54 Q1721.02 1207.54 1723.88 1208.01 Q1726.74 1208.49 1729.16 1209.45 Z\" fill=\"#000000\" fill-rule=\"evenodd\" fill-opacity=\"1\" /><polyline clip-path=\"url(#clip482)\" style=\"stroke:#000000; stroke-linecap:butt; stroke-linejoin:round; stroke-width:2; stroke-opacity:0.1; fill:none\" points=\"\n",
       "  274.904,1076.4 1872.76,1076.4 \n",
       "  \"/>\n",
       "<polyline clip-path=\"url(#clip482)\" style=\"stroke:#000000; stroke-linecap:butt; stroke-linejoin:round; stroke-width:2; stroke-opacity:0.1; fill:none\" points=\"\n",
       "  274.904,737.249 1872.76,737.249 \n",
       "  \"/>\n",
       "<polyline clip-path=\"url(#clip482)\" style=\"stroke:#000000; stroke-linecap:butt; stroke-linejoin:round; stroke-width:2; stroke-opacity:0.1; fill:none\" points=\"\n",
       "  274.904,398.094 1872.76,398.094 \n",
       "  \"/>\n",
       "<polyline clip-path=\"url(#clip482)\" style=\"stroke:#000000; stroke-linecap:butt; stroke-linejoin:round; stroke-width:2; stroke-opacity:0.1; fill:none\" points=\"\n",
       "  274.904,58.9388 1872.76,58.9388 \n",
       "  \"/>\n",
       "<polyline clip-path=\"url(#clip480)\" style=\"stroke:#000000; stroke-linecap:butt; stroke-linejoin:round; stroke-width:4; stroke-opacity:1; fill:none\" points=\"\n",
       "  274.904,1106.38 274.904,47.2441 \n",
       "  \"/>\n",
       "<polyline clip-path=\"url(#clip480)\" style=\"stroke:#000000; stroke-linecap:butt; stroke-linejoin:round; stroke-width:4; stroke-opacity:1; fill:none\" points=\"\n",
       "  274.904,1076.4 293.802,1076.4 \n",
       "  \"/>\n",
       "<polyline clip-path=\"url(#clip480)\" style=\"stroke:#000000; stroke-linecap:butt; stroke-linejoin:round; stroke-width:4; stroke-opacity:1; fill:none\" points=\"\n",
       "  274.904,737.249 293.802,737.249 \n",
       "  \"/>\n",
       "<polyline clip-path=\"url(#clip480)\" style=\"stroke:#000000; stroke-linecap:butt; stroke-linejoin:round; stroke-width:4; stroke-opacity:1; fill:none\" points=\"\n",
       "  274.904,398.094 293.802,398.094 \n",
       "  \"/>\n",
       "<polyline clip-path=\"url(#clip480)\" style=\"stroke:#000000; stroke-linecap:butt; stroke-linejoin:round; stroke-width:4; stroke-opacity:1; fill:none\" points=\"\n",
       "  274.904,58.9388 293.802,58.9388 \n",
       "  \"/>\n",
       "<path clip-path=\"url(#clip480)\" d=\"M128.605 1062.2 Q124.993 1062.2 123.165 1065.77 Q121.359 1069.31 121.359 1076.44 Q121.359 1083.55 123.165 1087.11 Q124.993 1090.65 128.605 1090.65 Q132.239 1090.65 134.044 1087.11 Q135.873 1083.55 135.873 1076.44 Q135.873 1069.31 134.044 1065.77 Q132.239 1062.2 128.605 1062.2 M128.605 1058.5 Q134.415 1058.5 137.47 1063.11 Q140.549 1067.69 140.549 1076.44 Q140.549 1085.17 137.47 1089.77 Q134.415 1094.36 128.605 1094.36 Q122.794 1094.36 119.716 1089.77 Q116.66 1085.17 116.66 1076.44 Q116.66 1067.69 119.716 1063.11 Q122.794 1058.5 128.605 1058.5 Z\" fill=\"#000000\" fill-rule=\"evenodd\" fill-opacity=\"1\" /><path clip-path=\"url(#clip480)\" d=\"M148.766 1087.8 L153.651 1087.8 L153.651 1093.68 L148.766 1093.68 L148.766 1087.8 Z\" fill=\"#000000\" fill-rule=\"evenodd\" fill-opacity=\"1\" /><path clip-path=\"url(#clip480)\" d=\"M173.836 1062.2 Q170.225 1062.2 168.396 1065.77 Q166.59 1069.31 166.59 1076.44 Q166.59 1083.55 168.396 1087.11 Q170.225 1090.65 173.836 1090.65 Q177.47 1090.65 179.276 1087.11 Q181.104 1083.55 181.104 1076.44 Q181.104 1069.31 179.276 1065.77 Q177.47 1062.2 173.836 1062.2 M173.836 1058.5 Q179.646 1058.5 182.701 1063.11 Q185.78 1067.69 185.78 1076.44 Q185.78 1085.17 182.701 1089.77 Q179.646 1094.36 173.836 1094.36 Q168.026 1094.36 164.947 1089.77 Q161.891 1085.17 161.891 1076.44 Q161.891 1067.69 164.947 1063.11 Q168.026 1058.5 173.836 1058.5 Z\" fill=\"#000000\" fill-rule=\"evenodd\" fill-opacity=\"1\" /><path clip-path=\"url(#clip480)\" d=\"M203.998 1062.2 Q200.387 1062.2 198.558 1065.77 Q196.752 1069.31 196.752 1076.44 Q196.752 1083.55 198.558 1087.11 Q200.387 1090.65 203.998 1090.65 Q207.632 1090.65 209.437 1087.11 Q211.266 1083.55 211.266 1076.44 Q211.266 1069.31 209.437 1065.77 Q207.632 1062.2 203.998 1062.2 M203.998 1058.5 Q209.808 1058.5 212.863 1063.11 Q215.942 1067.69 215.942 1076.44 Q215.942 1085.17 212.863 1089.77 Q209.808 1094.36 203.998 1094.36 Q198.187 1094.36 195.109 1089.77 Q192.053 1085.17 192.053 1076.44 Q192.053 1067.69 195.109 1063.11 Q198.187 1058.5 203.998 1058.5 Z\" fill=\"#000000\" fill-rule=\"evenodd\" fill-opacity=\"1\" /><path clip-path=\"url(#clip480)\" d=\"M234.16 1062.2 Q230.548 1062.2 228.72 1065.77 Q226.914 1069.31 226.914 1076.44 Q226.914 1083.55 228.72 1087.11 Q230.548 1090.65 234.16 1090.65 Q237.794 1090.65 239.599 1087.11 Q241.428 1083.55 241.428 1076.44 Q241.428 1069.31 239.599 1065.77 Q237.794 1062.2 234.16 1062.2 M234.16 1058.5 Q239.97 1058.5 243.025 1063.11 Q246.104 1067.69 246.104 1076.44 Q246.104 1085.17 243.025 1089.77 Q239.97 1094.36 234.16 1094.36 Q228.349 1094.36 225.271 1089.77 Q222.215 1085.17 222.215 1076.44 Q222.215 1067.69 225.271 1063.11 Q228.349 1058.5 234.16 1058.5 Z\" fill=\"#000000\" fill-rule=\"evenodd\" fill-opacity=\"1\" /><path clip-path=\"url(#clip480)\" d=\"M129.6 723.048 Q125.989 723.048 124.16 726.613 Q122.355 730.154 122.355 737.284 Q122.355 744.39 124.16 747.955 Q125.989 751.497 129.6 751.497 Q133.234 751.497 135.04 747.955 Q136.868 744.39 136.868 737.284 Q136.868 730.154 135.04 726.613 Q133.234 723.048 129.6 723.048 M129.6 719.344 Q135.41 719.344 138.466 723.951 Q141.544 728.534 141.544 737.284 Q141.544 746.011 138.466 750.617 Q135.41 755.2 129.6 755.2 Q123.79 755.2 120.711 750.617 Q117.656 746.011 117.656 737.284 Q117.656 728.534 120.711 723.951 Q123.79 719.344 129.6 719.344 Z\" fill=\"#000000\" fill-rule=\"evenodd\" fill-opacity=\"1\" /><path clip-path=\"url(#clip480)\" d=\"M149.762 748.65 L154.646 748.65 L154.646 754.529 L149.762 754.529 L149.762 748.65 Z\" fill=\"#000000\" fill-rule=\"evenodd\" fill-opacity=\"1\" /><path clip-path=\"url(#clip480)\" d=\"M174.831 723.048 Q171.22 723.048 169.391 726.613 Q167.586 730.154 167.586 737.284 Q167.586 744.39 169.391 747.955 Q171.22 751.497 174.831 751.497 Q178.465 751.497 180.271 747.955 Q182.1 744.39 182.1 737.284 Q182.1 730.154 180.271 726.613 Q178.465 723.048 174.831 723.048 M174.831 719.344 Q180.641 719.344 183.697 723.951 Q186.776 728.534 186.776 737.284 Q186.776 746.011 183.697 750.617 Q180.641 755.2 174.831 755.2 Q169.021 755.2 165.942 750.617 Q162.887 746.011 162.887 737.284 Q162.887 728.534 165.942 723.951 Q169.021 719.344 174.831 719.344 Z\" fill=\"#000000\" fill-rule=\"evenodd\" fill-opacity=\"1\" /><path clip-path=\"url(#clip480)\" d=\"M204.993 723.048 Q201.382 723.048 199.553 726.613 Q197.748 730.154 197.748 737.284 Q197.748 744.39 199.553 747.955 Q201.382 751.497 204.993 751.497 Q208.627 751.497 210.433 747.955 Q212.261 744.39 212.261 737.284 Q212.261 730.154 210.433 726.613 Q208.627 723.048 204.993 723.048 M204.993 719.344 Q210.803 719.344 213.859 723.951 Q216.937 728.534 216.937 737.284 Q216.937 746.011 213.859 750.617 Q210.803 755.2 204.993 755.2 Q199.183 755.2 196.104 750.617 Q193.049 746.011 193.049 737.284 Q193.049 728.534 196.104 723.951 Q199.183 719.344 204.993 719.344 Z\" fill=\"#000000\" fill-rule=\"evenodd\" fill-opacity=\"1\" /><path clip-path=\"url(#clip480)\" d=\"M225.201 719.969 L243.558 719.969 L243.558 723.904 L229.484 723.904 L229.484 732.376 Q230.502 732.029 231.521 731.867 Q232.539 731.682 233.558 731.682 Q239.345 731.682 242.724 734.853 Q246.104 738.025 246.104 743.441 Q246.104 749.02 242.632 752.122 Q239.16 755.2 232.84 755.2 Q230.664 755.2 228.396 754.83 Q226.15 754.46 223.743 753.719 L223.743 749.02 Q225.826 750.154 228.048 750.71 Q230.271 751.265 232.747 751.265 Q236.752 751.265 239.09 749.159 Q241.428 747.052 241.428 743.441 Q241.428 739.83 239.09 737.724 Q236.752 735.617 232.747 735.617 Q230.873 735.617 228.998 736.034 Q227.146 736.451 225.201 737.33 L225.201 719.969 Z\" fill=\"#000000\" fill-rule=\"evenodd\" fill-opacity=\"1\" /><path clip-path=\"url(#clip480)\" d=\"M128.605 383.893 Q124.993 383.893 123.165 387.457 Q121.359 390.999 121.359 398.129 Q121.359 405.235 123.165 408.8 Q124.993 412.342 128.605 412.342 Q132.239 412.342 134.044 408.8 Q135.873 405.235 135.873 398.129 Q135.873 390.999 134.044 387.457 Q132.239 383.893 128.605 383.893 M128.605 380.189 Q134.415 380.189 137.47 384.795 Q140.549 389.379 140.549 398.129 Q140.549 406.856 137.47 411.462 Q134.415 416.045 128.605 416.045 Q122.794 416.045 119.716 411.462 Q116.66 406.856 116.66 398.129 Q116.66 389.379 119.716 384.795 Q122.794 380.189 128.605 380.189 Z\" fill=\"#000000\" fill-rule=\"evenodd\" fill-opacity=\"1\" /><path clip-path=\"url(#clip480)\" d=\"M148.766 409.494 L153.651 409.494 L153.651 415.374 L148.766 415.374 L148.766 409.494 Z\" fill=\"#000000\" fill-rule=\"evenodd\" fill-opacity=\"1\" /><path clip-path=\"url(#clip480)\" d=\"M173.836 383.893 Q170.225 383.893 168.396 387.457 Q166.59 390.999 166.59 398.129 Q166.59 405.235 168.396 408.8 Q170.225 412.342 173.836 412.342 Q177.47 412.342 179.276 408.8 Q181.104 405.235 181.104 398.129 Q181.104 390.999 179.276 387.457 Q177.47 383.893 173.836 383.893 M173.836 380.189 Q179.646 380.189 182.701 384.795 Q185.78 389.379 185.78 398.129 Q185.78 406.856 182.701 411.462 Q179.646 416.045 173.836 416.045 Q168.026 416.045 164.947 411.462 Q161.891 406.856 161.891 398.129 Q161.891 389.379 164.947 384.795 Q168.026 380.189 173.836 380.189 Z\" fill=\"#000000\" fill-rule=\"evenodd\" fill-opacity=\"1\" /><path clip-path=\"url(#clip480)\" d=\"M194.808 411.439 L202.447 411.439 L202.447 385.073 L194.137 386.74 L194.137 382.481 L202.4 380.814 L207.076 380.814 L207.076 411.439 L214.715 411.439 L214.715 415.374 L194.808 415.374 L194.808 411.439 Z\" fill=\"#000000\" fill-rule=\"evenodd\" fill-opacity=\"1\" /><path clip-path=\"url(#clip480)\" d=\"M234.16 383.893 Q230.548 383.893 228.72 387.457 Q226.914 390.999 226.914 398.129 Q226.914 405.235 228.72 408.8 Q230.548 412.342 234.16 412.342 Q237.794 412.342 239.599 408.8 Q241.428 405.235 241.428 398.129 Q241.428 390.999 239.599 387.457 Q237.794 383.893 234.16 383.893 M234.16 380.189 Q239.97 380.189 243.025 384.795 Q246.104 389.379 246.104 398.129 Q246.104 406.856 243.025 411.462 Q239.97 416.045 234.16 416.045 Q228.349 416.045 225.271 411.462 Q222.215 406.856 222.215 398.129 Q222.215 389.379 225.271 384.795 Q228.349 380.189 234.16 380.189 Z\" fill=\"#000000\" fill-rule=\"evenodd\" fill-opacity=\"1\" /><path clip-path=\"url(#clip480)\" d=\"M129.6 44.7375 Q125.989 44.7375 124.16 48.3023 Q122.355 51.8439 122.355 58.9735 Q122.355 66.08 124.16 69.6448 Q125.989 73.1864 129.6 73.1864 Q133.234 73.1864 135.04 69.6448 Q136.868 66.08 136.868 58.9735 Q136.868 51.8439 135.04 48.3023 Q133.234 44.7375 129.6 44.7375 M129.6 41.0338 Q135.41 41.0338 138.466 45.6403 Q141.544 50.2236 141.544 58.9735 Q141.544 67.7003 138.466 72.3068 Q135.41 76.8901 129.6 76.8901 Q123.79 76.8901 120.711 72.3068 Q117.656 67.7003 117.656 58.9735 Q117.656 50.2236 120.711 45.6403 Q123.79 41.0338 129.6 41.0338 Z\" fill=\"#000000\" fill-rule=\"evenodd\" fill-opacity=\"1\" /><path clip-path=\"url(#clip480)\" d=\"M149.762 70.3392 L154.646 70.3392 L154.646 76.2188 L149.762 76.2188 L149.762 70.3392 Z\" fill=\"#000000\" fill-rule=\"evenodd\" fill-opacity=\"1\" /><path clip-path=\"url(#clip480)\" d=\"M174.831 44.7375 Q171.22 44.7375 169.391 48.3023 Q167.586 51.8439 167.586 58.9735 Q167.586 66.08 169.391 69.6448 Q171.22 73.1864 174.831 73.1864 Q178.465 73.1864 180.271 69.6448 Q182.1 66.08 182.1 58.9735 Q182.1 51.8439 180.271 48.3023 Q178.465 44.7375 174.831 44.7375 M174.831 41.0338 Q180.641 41.0338 183.697 45.6403 Q186.776 50.2236 186.776 58.9735 Q186.776 67.7003 183.697 72.3068 Q180.641 76.8901 174.831 76.8901 Q169.021 76.8901 165.942 72.3068 Q162.887 67.7003 162.887 58.9735 Q162.887 50.2236 165.942 45.6403 Q169.021 41.0338 174.831 41.0338 Z\" fill=\"#000000\" fill-rule=\"evenodd\" fill-opacity=\"1\" /><path clip-path=\"url(#clip480)\" d=\"M195.803 72.2837 L203.442 72.2837 L203.442 45.9181 L195.132 47.5847 L195.132 43.3255 L203.396 41.6588 L208.072 41.6588 L208.072 72.2837 L215.711 72.2837 L215.711 76.2188 L195.803 76.2188 L195.803 72.2837 Z\" fill=\"#000000\" fill-rule=\"evenodd\" fill-opacity=\"1\" /><path clip-path=\"url(#clip480)\" d=\"M225.201 41.6588 L243.558 41.6588 L243.558 45.594 L229.484 45.594 L229.484 54.0662 Q230.502 53.7189 231.521 53.5569 Q232.539 53.3717 233.558 53.3717 Q239.345 53.3717 242.724 56.543 Q246.104 59.7143 246.104 65.1309 Q246.104 70.7096 242.632 73.8114 Q239.16 76.8901 232.84 76.8901 Q230.664 76.8901 228.396 76.5197 Q226.15 76.1494 223.743 75.4086 L223.743 70.7096 Q225.826 71.8438 228.048 72.3994 Q230.271 72.9549 232.747 72.9549 Q236.752 72.9549 239.09 70.8485 Q241.428 68.742 241.428 65.1309 Q241.428 61.5198 239.09 59.4133 Q236.752 57.3069 232.747 57.3069 Q230.873 57.3069 228.998 57.7235 Q227.146 58.1402 225.201 59.0198 L225.201 41.6588 Z\" fill=\"#000000\" fill-rule=\"evenodd\" fill-opacity=\"1\" /><path clip-path=\"url(#clip480)\" d=\"M31.3677 631.812 L49.2235 631.812 L49.2235 623.727 Q49.2235 619.239 46.9 616.789 Q44.5765 614.338 40.2797 614.338 Q36.0147 614.338 33.6912 616.789 Q31.3677 619.239 31.3677 623.727 L31.3677 631.812 M26.0842 638.241 L26.0842 623.727 Q26.0842 615.738 29.7126 611.664 Q33.3092 607.558 40.2797 607.558 Q47.3138 607.558 50.9104 611.664 Q54.507 615.738 54.507 623.727 L54.507 631.812 L73.6042 631.812 L73.6042 638.241 L26.0842 638.241 Z\" fill=\"#000000\" fill-rule=\"evenodd\" fill-opacity=\"1\" /><path clip-path=\"url(#clip480)\" d=\"M26.0842 598.933 L26.0842 589.352 L58.4219 577.226 L26.0842 565.035 L26.0842 555.455 L73.6042 555.455 L73.6042 561.725 L31.877 561.725 L64.4694 573.979 L64.4694 580.44 L31.877 592.694 L73.6042 592.694 L73.6042 598.933 L26.0842 598.933 Z\" fill=\"#000000\" fill-rule=\"evenodd\" fill-opacity=\"1\" /><path clip-path=\"url(#clip480)\" d=\"M26.0842 542.692 L26.0842 515.383 L31.495 515.383 L31.495 536.262 L45.4996 536.262 L45.4996 517.42 L50.9104 517.42 L50.9104 536.262 L73.6042 536.262 L73.6042 542.692 L26.0842 542.692 Z\" fill=\"#000000\" fill-rule=\"evenodd\" fill-opacity=\"1\" /><polyline clip-path=\"url(#clip482)\" style=\"stroke:#009af9; stroke-linecap:butt; stroke-linejoin:round; stroke-width:8; stroke-opacity:1; fill:none\" points=\"\n",
       "  320.126,1076.4 322.928,1076.4 325.73,1076.4 328.532,1076.4 331.334,1076.4 334.135,1076.4 336.937,1076.4 339.739,1076.4 342.541,1076.4 345.343,1076.4 \n",
       "  348.145,1076.4 350.947,1076.4 353.749,1076.4 356.55,1076.4 359.352,1076.4 362.154,1076.4 364.956,1076.4 367.758,1076.4 370.56,1076.4 373.362,1076.4 \n",
       "  376.164,1076.4 378.965,1076.4 381.767,1076.4 384.569,1076.4 387.371,1076.4 390.173,1076.4 392.975,1076.4 395.777,1076.4 398.579,1076.4 401.38,1076.4 \n",
       "  404.182,1076.4 406.984,1076.4 409.786,1076.4 412.588,1076.4 415.39,1076.4 418.192,1076.4 420.994,1076.4 423.795,1076.4 426.597,1076.4 429.399,1076.4 \n",
       "  432.201,1076.4 435.003,1076.4 437.805,1076.4 440.607,1076.4 443.409,1076.4 446.21,1076.4 449.012,1076.4 451.814,1076.4 454.616,1076.4 457.418,1076.4 \n",
       "  460.22,1076.4 463.022,1076.4 465.824,1076.4 468.625,1076.4 471.427,1076.4 474.229,1076.4 477.031,1076.4 479.833,1076.4 482.635,1076.4 485.437,1076.4 \n",
       "  488.239,1076.4 491.04,1076.4 493.842,1076.4 496.644,1076.4 499.446,1076.4 502.248,1076.4 505.05,1076.4 507.852,1076.4 510.653,1076.4 513.455,1076.4 \n",
       "  516.257,1076.4 519.059,1076.4 521.861,1076.4 524.663,1076.4 527.465,1076.4 530.267,1076.4 533.068,1076.4 535.87,1076.4 538.672,1076.4 541.474,1076.4 \n",
       "  544.276,1076.4 547.078,1076.4 549.88,1076.4 552.682,1076.4 555.483,1076.4 558.285,1076.4 561.087,1076.4 563.889,1076.4 566.691,1076.4 569.493,1076.4 \n",
       "  572.295,1076.4 575.097,1076.4 577.898,1076.4 580.7,1076.4 583.502,1076.4 586.304,1076.4 589.106,1076.4 591.908,1076.4 594.71,1076.4 597.512,1076.4 \n",
       "  600.313,1076.4 603.115,1076.4 605.917,1076.4 608.719,1076.4 611.521,1076.4 614.323,1076.4 617.125,1076.4 619.927,1076.4 622.728,1076.4 625.53,1076.4 \n",
       "  628.332,1076.4 631.134,1076.4 633.936,1076.4 636.738,1076.4 639.54,1076.4 642.342,1076.4 645.143,1076.4 647.945,1076.4 650.747,1076.4 653.549,1076.4 \n",
       "  656.351,1076.4 659.153,1076.4 661.955,1076.4 664.756,1076.4 667.558,1076.4 670.36,1076.4 673.162,1076.4 675.964,1076.4 678.766,1076.4 681.568,1076.4 \n",
       "  684.37,1076.4 687.171,1076.4 689.973,1076.4 692.775,1076.4 695.577,1076.4 698.379,1076.4 701.181,1076.4 703.983,1076.4 706.785,1076.4 709.586,1076.4 \n",
       "  712.388,1076.4 715.19,1076.4 717.992,1076.4 720.794,1076.4 723.596,1076.4 726.398,1076.4 729.2,1076.4 732.001,1076.4 734.803,1076.4 737.605,1076.4 \n",
       "  740.407,1076.4 743.209,1076.4 746.011,1076.4 748.813,1076.4 751.615,1076.4 754.416,1076.4 757.218,1076.4 760.02,1076.4 762.822,1076.4 765.624,1076.4 \n",
       "  768.426,1076.4 771.228,1076.4 774.03,1076.4 776.831,1076.4 779.633,1076.4 782.435,1076.4 785.237,1076.4 788.039,1076.4 790.841,1076.4 793.643,1076.4 \n",
       "  796.445,1076.4 799.246,1076.4 802.048,1076.4 804.85,1076.4 807.652,1076.4 810.454,1076.4 813.256,1076.4 816.058,1076.4 818.859,1076.4 821.661,1076.4 \n",
       "  824.463,1076.4 827.265,1076.4 830.067,1076.4 832.869,1076.4 835.671,1076.4 838.473,1076.4 841.274,1076.4 844.076,1076.4 846.878,1076.4 849.68,1076.4 \n",
       "  852.482,1076.4 855.284,1076.4 858.086,1076.4 860.888,1076.4 863.689,1076.4 866.491,1076.4 869.293,1076.4 872.095,1076.4 874.897,1076.4 877.699,1076.4 \n",
       "  880.501,1076.4 883.303,1076.4 886.104,1076.4 888.906,1076.4 891.708,1076.4 894.51,1076.4 897.312,1076.4 900.114,1076.4 902.916,1076.4 905.718,1076.4 \n",
       "  908.519,1076.4 911.321,1076.4 914.123,1076.4 916.925,1076.4 919.727,1076.4 922.529,1076.4 925.331,1076.4 928.133,1076.4 930.934,1076.4 933.736,1076.4 \n",
       "  936.538,1076.4 939.34,1076.4 942.142,1076.4 944.944,1076.4 947.746,1076.4 950.548,1076.4 953.349,1076.4 956.151,1076.4 958.953,1076.4 961.755,1076.4 \n",
       "  964.557,1076.4 967.359,1076.4 970.161,1076.4 972.962,1076.4 975.764,1076.4 978.566,1076.4 981.368,1076.4 984.17,1076.4 986.972,1076.4 989.774,1076.4 \n",
       "  992.576,1076.4 995.377,1076.4 998.179,1076.4 1000.98,1076.4 1003.78,1076.4 1006.58,1076.4 1009.39,1076.4 1012.19,1076.4 1014.99,1076.4 1017.79,1076.4 \n",
       "  1020.59,1076.4 1023.4,1076.4 1026.2,1076.4 1029,1076.4 1031.8,1076.4 1034.6,1076.4 1037.41,1076.4 1040.21,1076.4 1043.01,1076.4 1045.81,1076.4 \n",
       "  1048.61,1076.4 1051.41,1076.4 1054.22,1076.4 1057.02,1076.4 1059.82,1076.4 1062.62,1076.4 1065.42,1076.4 1068.23,1076.4 1071.03,1076.4 1073.83,1076.4 \n",
       "  1076.63,1076.4 1079.43,1076.4 1082.24,1076.4 1085.04,1076.4 1087.84,1076.4 1090.64,1076.4 1093.44,1076.4 1096.24,1076.4 1099.05,1076.4 1101.85,1076.4 \n",
       "  1104.65,1076.4 1107.45,1076.4 1110.25,1076.4 1113.06,1076.4 1115.86,1076.4 1118.66,1076.4 1121.46,1076.4 1124.26,1076.4 1127.07,1076.4 1129.87,1076.4 \n",
       "  1132.67,1076.4 1135.47,1076.4 1138.27,1076.4 1141.07,1076.4 1143.88,1076.4 1146.68,1076.4 1149.48,1076.4 1152.28,1076.4 1155.08,1076.4 1157.89,1076.4 \n",
       "  1160.69,1076.4 1163.49,1076.4 1166.29,1076.4 1169.09,1076.4 1171.9,1076.4 1174.7,1076.4 1177.5,1076.4 1180.3,1076.4 1183.1,1076.4 1185.9,1076.4 \n",
       "  1188.71,1076.39 1191.51,1076.39 1194.31,1076.39 1197.11,1076.39 1199.91,1076.38 1202.72,1076.38 1205.52,1076.37 1208.32,1076.36 1211.12,1076.36 1213.92,1076.35 \n",
       "  1216.73,1076.33 1219.53,1076.32 1222.33,1076.3 1225.13,1076.28 1227.93,1076.26 1230.73,1076.23 1233.54,1076.2 1236.34,1076.16 1239.14,1076.11 1241.94,1076.06 \n",
       "  1244.74,1076 1247.55,1075.92 1250.35,1075.84 1253.15,1075.74 1255.95,1075.63 1258.75,1075.49 1261.56,1075.34 1264.36,1075.16 1267.16,1074.96 1269.96,1074.72 \n",
       "  1272.76,1074.46 1275.56,1074.15 1278.37,1073.8 1281.17,1073.41 1283.97,1072.95 1286.77,1072.44 1289.57,1071.86 1292.38,1071.21 1295.18,1070.47 1297.98,1069.64 \n",
       "  1300.78,1068.71 1303.58,1067.67 1306.39,1066.5 1309.19,1065.2 1311.99,1063.75 1314.79,1062.14 1317.59,1060.36 1320.39,1058.38 1323.2,1056.2 1326,1053.79 \n",
       "  1328.8,1051.15 1331.6,1048.24 1334.4,1045.05 1337.21,1041.57 1340.01,1037.76 1342.81,1033.61 1345.61,1029.11 1348.41,1024.22 1351.22,1018.92 1354.02,1013.2 \n",
       "  1356.82,1007.02 1359.62,1000.38 1362.42,993.235 1365.22,985.579 1368.03,977.387 1370.83,968.638 1373.63,959.314 1376.43,949.397 1379.23,938.871 1382.04,927.721 \n",
       "  1384.84,915.934 1387.64,903.499 1390.44,890.408 1393.24,876.654 1396.05,862.234 1398.85,847.147 1401.65,831.396 1404.45,814.986 1407.25,797.927 1410.05,780.231 \n",
       "  1412.86,761.914 1415.66,742.996 1418.46,723.501 1421.26,703.457 1424.06,682.894 1426.87,661.85 1429.67,640.363 1432.47,618.476 1435.27,596.236 1438.07,573.694 \n",
       "  1440.88,550.904 1443.68,527.923 1446.48,504.811 1449.28,481.632 1452.08,458.45 1454.88,435.334 1457.69,412.354 1460.49,389.58 1463.29,367.085 1466.09,344.942 \n",
       "  1468.89,323.225 1471.7,302.007 1474.5,281.361 1477.3,261.36 1480.1,242.073 1482.9,223.571 1485.71,205.919 1488.51,189.183 1491.31,173.423 1494.11,158.697 \n",
       "  1496.91,145.06 1499.71,132.561 1502.52,121.247 1505.32,111.157 1508.12,102.33 1510.92,94.7948 1513.72,88.5782 1516.53,83.7004 1519.33,80.1761 1522.13,78.0147 \n",
       "  1524.93,77.2196 1527.73,77.7889 1530.54,79.715 1533.34,82.9847 1536.14,87.5796 1538.94,93.4761 1541.74,100.646 1544.54,109.055 1547.35,118.665 1550.15,129.435 \n",
       "  1552.95,141.318 1555.75,154.265 1558.55,168.222 1561.36,183.133 1564.16,198.939 1566.96,215.581 1569.76,232.994 1572.56,251.116 1575.37,269.88 1578.17,289.221 \n",
       "  1580.97,309.073 1583.77,329.369 1586.57,350.044 1589.37,371.032 1592.18,392.269 1594.98,413.692 1597.78,435.24 1600.58,456.853 1603.38,478.473 1606.19,500.046 \n",
       "  1608.99,521.519 1611.79,542.841 1614.59,563.966 1617.39,584.848 1620.2,605.445 1623,625.72 1625.8,645.636 1628.6,665.161 1631.4,684.266 1634.2,702.925 \n",
       "  1637.01,721.113 1639.81,738.811 1642.61,756.001 1645.41,772.67 1648.21,788.804 1651.02,804.395 1653.82,819.436 1656.62,833.923 1659.42,847.854 1662.22,861.229 \n",
       "  1665.03,874.051 1667.83,886.322 1670.63,898.05 1673.43,909.242 1676.23,919.906 1679.03,930.052 1681.84,939.691 1684.64,948.837 1687.44,957.501 1690.24,965.698 \n",
       "  1693.04,973.442 1695.85,980.748 1698.65,987.632 1701.45,994.109 1704.25,1000.2 1707.05,1005.91 1709.86,1011.26 1712.66,1016.27 1715.46,1020.95 1718.26,1025.33 \n",
       "  1721.06,1029.4 1723.86,1033.2 1726.67,1036.73 1729.47,1040.01 1732.27,1043.06 1735.07,1045.88 1737.87,1048.49 1740.68,1050.9 1743.48,1053.13 1746.28,1055.19 \n",
       "  1749.08,1057.08 1751.88,1058.82 1754.68,1060.42 1757.49,1061.89 1760.29,1063.24 1763.09,1064.48 1765.89,1065.6 1768.69,1066.64 1771.5,1067.58 1774.3,1068.44 \n",
       "  1777.1,1069.22 1779.9,1069.93 1782.7,1070.58 1785.51,1071.17 1788.31,1071.7 1791.11,1072.18 1793.91,1072.62 1796.71,1073.01 1799.51,1073.37 1802.32,1073.69 \n",
       "  1805.12,1073.98 1807.92,1074.24 1810.72,1074.48 1813.52,1074.69 1816.33,1074.88 1819.13,1075.05 1821.93,1075.2 1824.73,1075.33 1827.53,1075.45 \n",
       "  \"/>\n",
       "<path clip-path=\"url(#clip480)\" d=\"\n",
       "M328.166 186.229 L714.106 186.229 L714.106 82.5486 L328.166 82.5486  Z\n",
       "  \" fill=\"#ffffff\" fill-rule=\"evenodd\" fill-opacity=\"1\"/>\n",
       "<polyline clip-path=\"url(#clip480)\" style=\"stroke:#000000; stroke-linecap:butt; stroke-linejoin:round; stroke-width:4; stroke-opacity:1; fill:none\" points=\"\n",
       "  328.166,186.229 714.106,186.229 714.106,82.5486 328.166,82.5486 328.166,186.229 \n",
       "  \"/>\n",
       "<polyline clip-path=\"url(#clip480)\" style=\"stroke:#009af9; stroke-linecap:butt; stroke-linejoin:round; stroke-width:4; stroke-opacity:1; fill:none\" points=\"\n",
       "  345.92,134.389 452.443,134.389 \n",
       "  \"/>\n",
       "<path clip-path=\"url(#clip480)\" d=\"M474.479 147.78 L474.479 161.53 L470.197 161.53 L470.197 125.743 L474.479 125.743 L474.479 129.678 Q475.822 127.363 477.859 126.252 Q479.919 125.118 482.766 125.118 Q487.489 125.118 490.428 128.868 Q493.391 132.618 493.391 138.729 Q493.391 144.84 490.428 148.59 Q487.489 152.34 482.766 152.34 Q479.919 152.34 477.859 151.229 Q475.822 150.095 474.479 147.78 M488.97 138.729 Q488.97 134.03 487.026 131.368 Q485.104 128.683 481.725 128.683 Q478.345 128.683 476.401 131.368 Q474.479 134.03 474.479 138.729 Q474.479 143.428 476.401 146.113 Q478.345 148.775 481.725 148.775 Q485.104 148.775 487.026 146.113 Q488.97 143.428 488.97 138.729 Z\" fill=\"#000000\" fill-rule=\"evenodd\" fill-opacity=\"1\" /><path clip-path=\"url(#clip480)\" d=\"M510.498 128.729 Q507.072 128.729 505.081 131.414 Q503.09 134.076 503.09 138.729 Q503.09 143.382 505.058 146.067 Q507.049 148.729 510.498 148.729 Q513.9 148.729 515.891 146.044 Q517.882 143.358 517.882 138.729 Q517.882 134.122 515.891 131.437 Q513.9 128.729 510.498 128.729 M510.498 125.118 Q516.053 125.118 519.224 128.729 Q522.396 132.34 522.396 138.729 Q522.396 145.095 519.224 148.729 Q516.053 152.34 510.498 152.34 Q504.919 152.34 501.748 148.729 Q498.6 145.095 498.6 138.729 Q498.6 132.34 501.748 128.729 Q504.919 125.118 510.498 125.118 Z\" fill=\"#000000\" fill-rule=\"evenodd\" fill-opacity=\"1\" /><path clip-path=\"url(#clip480)\" d=\"M545.984 126.507 L545.984 130.534 Q544.178 129.609 542.234 129.146 Q540.289 128.683 538.206 128.683 Q535.035 128.683 533.437 129.655 Q531.863 130.627 531.863 132.571 Q531.863 134.053 532.998 134.909 Q534.132 135.743 537.558 136.507 L539.016 136.831 Q543.553 137.803 545.451 139.585 Q547.372 141.345 547.372 144.516 Q547.372 148.127 544.502 150.233 Q541.655 152.34 536.655 152.34 Q534.572 152.34 532.303 151.923 Q530.058 151.53 527.558 150.72 L527.558 146.321 Q529.919 147.548 532.21 148.173 Q534.502 148.775 536.747 148.775 Q539.757 148.775 541.377 147.757 Q542.997 146.715 542.997 144.84 Q542.997 143.104 541.817 142.178 Q540.66 141.252 536.701 140.396 L535.22 140.048 Q531.261 139.215 529.502 137.502 Q527.743 135.766 527.743 132.757 Q527.743 129.099 530.335 127.109 Q532.928 125.118 537.697 125.118 Q540.058 125.118 542.141 125.465 Q544.224 125.812 545.984 126.507 Z\" fill=\"#000000\" fill-rule=\"evenodd\" fill-opacity=\"1\" /><path clip-path=\"url(#clip480)\" d=\"M558.368 118.382 L558.368 125.743 L567.141 125.743 L567.141 129.053 L558.368 129.053 L558.368 143.127 Q558.368 146.298 559.224 147.201 Q560.104 148.104 562.766 148.104 L567.141 148.104 L567.141 151.669 L562.766 151.669 Q557.835 151.669 555.96 149.84 Q554.085 147.988 554.085 143.127 L554.085 129.053 L550.96 129.053 L550.96 125.743 L554.085 125.743 L554.085 118.382 L558.368 118.382 Z\" fill=\"#000000\" fill-rule=\"evenodd\" fill-opacity=\"1\" /><path clip-path=\"url(#clip480)\" d=\"M594.918 137.641 L594.918 139.724 L575.335 139.724 Q575.613 144.122 577.974 146.437 Q580.358 148.729 584.594 148.729 Q587.048 148.729 589.34 148.127 Q591.655 147.525 593.923 146.321 L593.923 150.349 Q591.631 151.321 589.224 151.831 Q586.817 152.34 584.34 152.34 Q578.136 152.34 574.502 148.729 Q570.891 145.118 570.891 138.96 Q570.891 132.595 574.317 128.868 Q577.766 125.118 583.599 125.118 Q588.831 125.118 591.863 128.497 Q594.918 131.854 594.918 137.641 M590.659 136.391 Q590.613 132.896 588.692 130.812 Q586.794 128.729 583.645 128.729 Q580.081 128.729 577.928 130.743 Q575.798 132.757 575.474 136.414 L590.659 136.391 Z\" fill=\"#000000\" fill-rule=\"evenodd\" fill-opacity=\"1\" /><path clip-path=\"url(#clip480)\" d=\"M616.932 129.724 Q616.215 129.308 615.358 129.122 Q614.525 128.914 613.506 128.914 Q609.895 128.914 607.951 131.275 Q606.03 133.613 606.03 138.011 L606.03 151.669 L601.747 151.669 L601.747 125.743 L606.03 125.743 L606.03 129.771 Q607.372 127.409 609.525 126.275 Q611.678 125.118 614.756 125.118 Q615.196 125.118 615.729 125.187 Q616.261 125.234 616.909 125.349 L616.932 129.724 Z\" fill=\"#000000\" fill-rule=\"evenodd\" fill-opacity=\"1\" /><path clip-path=\"url(#clip480)\" d=\"M621.4 125.743 L625.659 125.743 L625.659 151.669 L621.4 151.669 L621.4 125.743 M621.4 115.65 L625.659 115.65 L625.659 121.044 L621.4 121.044 L621.4 115.65 Z\" fill=\"#000000\" fill-rule=\"evenodd\" fill-opacity=\"1\" /><path clip-path=\"url(#clip480)\" d=\"M644.617 128.729 Q641.191 128.729 639.201 131.414 Q637.21 134.076 637.21 138.729 Q637.21 143.382 639.178 146.067 Q641.168 148.729 644.617 148.729 Q648.02 148.729 650.011 146.044 Q652.002 143.358 652.002 138.729 Q652.002 134.122 650.011 131.437 Q648.02 128.729 644.617 128.729 M644.617 125.118 Q650.173 125.118 653.344 128.729 Q656.515 132.34 656.515 138.729 Q656.515 145.095 653.344 148.729 Q650.173 152.34 644.617 152.34 Q639.039 152.34 635.867 148.729 Q632.719 145.095 632.719 138.729 Q632.719 132.34 635.867 128.729 Q639.039 125.118 644.617 125.118 Z\" fill=\"#000000\" fill-rule=\"evenodd\" fill-opacity=\"1\" /><path clip-path=\"url(#clip480)\" d=\"M678.599 129.724 Q677.881 129.308 677.025 129.122 Q676.191 128.914 675.173 128.914 Q671.562 128.914 669.617 131.275 Q667.696 133.613 667.696 138.011 L667.696 151.669 L663.413 151.669 L663.413 125.743 L667.696 125.743 L667.696 129.771 Q669.038 127.409 671.191 126.275 Q673.344 125.118 676.423 125.118 Q676.862 125.118 677.395 125.187 Q677.927 125.234 678.575 125.349 L678.599 129.724 Z\" fill=\"#000000\" fill-rule=\"evenodd\" fill-opacity=\"1\" /></svg>\n"
      ]
     },
     "execution_count": 73,
     "metadata": {},
     "output_type": "execute_result"
    }
   ],
   "source": [
    "# Solution\n",
    "plot(posterior, label=\"posterior\", legend=:topleft)\n",
    "xlabel!(\"Number of honest members of Congress\")\n",
    "ylabel!(\"PMF\")"
   ]
  },
  {
   "cell_type": "code",
   "execution_count": null,
   "id": "ddbf5c11-ae79-4576-aa6b-43153592f30e",
   "metadata": {},
   "outputs": [],
   "source": []
  }
 ],
 "metadata": {
  "kernelspec": {
   "display_name": "Julia 1.6.3",
   "language": "julia",
   "name": "julia-1.6"
  },
  "language_info": {
   "file_extension": ".jl",
   "mimetype": "application/julia",
   "name": "julia",
   "version": "1.6.3"
  }
 },
 "nbformat": 4,
 "nbformat_minor": 5
}
