{
 "cells": [
  {
   "cell_type": "markdown",
   "id": "6caac982-6115-4649-ab18-abe759f5bf5e",
   "metadata": {},
   "source": [
    "# Probability"
   ]
  },
  {
   "cell_type": "code",
   "execution_count": 1,
   "id": "fdb07b77-5670-499e-8f3a-77f21bd6dc3e",
   "metadata": {},
   "outputs": [],
   "source": [
    "include(\"utils.jl\")\n",
    "using .Utils\n",
    "checkpkgs(\"CSV\", \"DataFrames\", \"Statistics\")"
   ]
  },
  {
   "cell_type": "markdown",
   "id": "4b6c2861-0023-485d-8e93-cbffd122b425",
   "metadata": {},
   "source": [
    "## Linda the Banker"
   ]
  },
  {
   "cell_type": "markdown",
   "id": "07a13567-2c34-49bb-b32e-767eafb7459e",
   "metadata": {},
   "source": [
    "## Probability"
   ]
  },
  {
   "cell_type": "code",
   "execution_count": 2,
   "id": "c1e411cf-732d-431c-aba7-adea186f19d8",
   "metadata": {},
   "outputs": [],
   "source": [
    "getfile(\"https://github.com/AllenDowney/BiteSizeBayes/raw/master/gss_bayes.csv\")"
   ]
  },
  {
   "cell_type": "code",
   "execution_count": 3,
   "id": "567a2bdc-2a70-4926-a3fd-cd4f3213cf42",
   "metadata": {},
   "outputs": [
    {
     "data": {
      "text/html": [
       "<div class=\"data-frame\"><p>7 rows × 7 columns</p><table class=\"data-frame\"><thead><tr><th></th><th>caseid</th><th>year</th><th>age</th><th>sex</th><th>polviews</th><th>partyid</th><th>indus10</th></tr><tr><th></th><th title=\"Int64\">Int64</th><th title=\"Int64\">Int64</th><th title=\"Float64\">Float64</th><th title=\"Int64\">Int64</th><th title=\"Float64\">Float64</th><th title=\"Float64\">Float64</th><th title=\"Float64\">Float64</th></tr></thead><tbody><tr><th>1</th><td>1</td><td>1974</td><td>21.0</td><td>1</td><td>4.0</td><td>2.0</td><td>4970.0</td></tr><tr><th>2</th><td>2</td><td>1974</td><td>41.0</td><td>1</td><td>5.0</td><td>0.0</td><td>9160.0</td></tr><tr><th>3</th><td>5</td><td>1974</td><td>58.0</td><td>2</td><td>6.0</td><td>1.0</td><td>2670.0</td></tr><tr><th>4</th><td>6</td><td>1974</td><td>30.0</td><td>1</td><td>5.0</td><td>4.0</td><td>6870.0</td></tr><tr><th>5</th><td>7</td><td>1974</td><td>48.0</td><td>1</td><td>5.0</td><td>4.0</td><td>7860.0</td></tr><tr><th>6</th><td>8</td><td>1974</td><td>67.0</td><td>1</td><td>5.0</td><td>0.0</td><td>2870.0</td></tr><tr><th>7</th><td>10</td><td>1974</td><td>54.0</td><td>2</td><td>6.0</td><td>0.0</td><td>9470.0</td></tr></tbody></table></div>"
      ],
      "text/latex": [
       "\\begin{tabular}{r|ccccccc}\n",
       "\t& caseid & year & age & sex & polviews & partyid & indus10\\\\\n",
       "\t\\hline\n",
       "\t& Int64 & Int64 & Float64 & Int64 & Float64 & Float64 & Float64\\\\\n",
       "\t\\hline\n",
       "\t1 & 1 & 1974 & 21.0 & 1 & 4.0 & 2.0 & 4970.0 \\\\\n",
       "\t2 & 2 & 1974 & 41.0 & 1 & 5.0 & 0.0 & 9160.0 \\\\\n",
       "\t3 & 5 & 1974 & 58.0 & 2 & 6.0 & 1.0 & 2670.0 \\\\\n",
       "\t4 & 6 & 1974 & 30.0 & 1 & 5.0 & 4.0 & 6870.0 \\\\\n",
       "\t5 & 7 & 1974 & 48.0 & 1 & 5.0 & 4.0 & 7860.0 \\\\\n",
       "\t6 & 8 & 1974 & 67.0 & 1 & 5.0 & 0.0 & 2870.0 \\\\\n",
       "\t7 & 10 & 1974 & 54.0 & 2 & 6.0 & 0.0 & 9470.0 \\\\\n",
       "\\end{tabular}\n"
      ],
      "text/plain": [
       "\u001b[1m7×7 DataFrame\u001b[0m\n",
       "\u001b[1m Row \u001b[0m│\u001b[1m caseid \u001b[0m\u001b[1m year  \u001b[0m\u001b[1m age     \u001b[0m\u001b[1m sex   \u001b[0m\u001b[1m polviews \u001b[0m\u001b[1m partyid \u001b[0m\u001b[1m indus10 \u001b[0m\n",
       "\u001b[1m     \u001b[0m│\u001b[90m Int64  \u001b[0m\u001b[90m Int64 \u001b[0m\u001b[90m Float64 \u001b[0m\u001b[90m Int64 \u001b[0m\u001b[90m Float64  \u001b[0m\u001b[90m Float64 \u001b[0m\u001b[90m Float64 \u001b[0m\n",
       "─────┼───────────────────────────────────────────────────────────\n",
       "   1 │      1   1974     21.0      1       4.0      2.0   4970.0\n",
       "   2 │      2   1974     41.0      1       5.0      0.0   9160.0\n",
       "   3 │      5   1974     58.0      2       6.0      1.0   2670.0\n",
       "   4 │      6   1974     30.0      1       5.0      4.0   6870.0\n",
       "   5 │      7   1974     48.0      1       5.0      4.0   7860.0\n",
       "   6 │      8   1974     67.0      1       5.0      0.0   2870.0\n",
       "   7 │     10   1974     54.0      2       6.0      0.0   9470.0"
      ]
     },
     "execution_count": 3,
     "metadata": {},
     "output_type": "execute_result"
    }
   ],
   "source": [
    "import CSV\n",
    "using DataFrames\n",
    "\n",
    "gss = CSV.read(\"gss_bayes.csv\", DataFrame; header=1)\n",
    "first(gss, 7)"
   ]
  },
  {
   "cell_type": "code",
   "execution_count": 4,
   "id": "2c2f370e-bd1b-4cbf-a855-2c9bf0c8a9e0",
   "metadata": {},
   "outputs": [
    {
     "data": {
      "text/plain": [
       "10-element BitVector:\n",
       " 0\n",
       " 0\n",
       " 0\n",
       " 1\n",
       " 0\n",
       " 0\n",
       " 0\n",
       " 0\n",
       " 0\n",
       " 0"
      ]
     },
     "execution_count": 4,
     "metadata": {},
     "output_type": "execute_result"
    }
   ],
   "source": [
    "banker = gss.indus10 .== 6870\n",
    "first(banker, 10)"
   ]
  },
  {
   "cell_type": "code",
   "execution_count": 5,
   "id": "5f2fefc3-03db-4e94-815d-37d99d83ea10",
   "metadata": {},
   "outputs": [
    {
     "data": {
      "text/plain": [
       "728"
      ]
     },
     "execution_count": 5,
     "metadata": {},
     "output_type": "execute_result"
    }
   ],
   "source": [
    "sum(banker)"
   ]
  },
  {
   "cell_type": "code",
   "execution_count": 6,
   "id": "ac8ebdf2-a9bb-41d9-8e98-132bdc1b1785",
   "metadata": {},
   "outputs": [
    {
     "data": {
      "text/plain": [
       "0.014769730168391155"
      ]
     },
     "execution_count": 6,
     "metadata": {},
     "output_type": "execute_result"
    }
   ],
   "source": [
    "using Statistics # for `mean()`\n",
    "mean(banker)"
   ]
  },
  {
   "cell_type": "markdown",
   "id": "8ff054c0-ee6a-4721-ba66-220d96761d36",
   "metadata": {},
   "source": [
    "## The Probability Function"
   ]
  },
  {
   "cell_type": "code",
   "execution_count": 7,
   "id": "eb3fe4f8-d252-40b8-8ae2-50789a8a4711",
   "metadata": {},
   "outputs": [
    {
     "data": {
      "text/plain": [
       "prob (generic function with 1 method)"
      ]
     },
     "execution_count": 7,
     "metadata": {},
     "output_type": "execute_result"
    }
   ],
   "source": [
    "prob(A) = mean(A)"
   ]
  },
  {
   "cell_type": "code",
   "execution_count": 8,
   "id": "79fac778-1301-44ef-a6e7-a0812d476396",
   "metadata": {},
   "outputs": [],
   "source": [
    "female = gss.sex .== 2;"
   ]
  },
  {
   "cell_type": "code",
   "execution_count": 9,
   "id": "4b36fb9e-e98b-431e-8810-b09cbcc4c6fa",
   "metadata": {},
   "outputs": [
    {
     "data": {
      "text/plain": [
       "0.5378575776019476"
      ]
     },
     "execution_count": 9,
     "metadata": {},
     "output_type": "execute_result"
    }
   ],
   "source": [
    "prob(female)"
   ]
  },
  {
   "cell_type": "markdown",
   "id": "2d55cc20-6a94-4338-a174-f23d485bd6fc",
   "metadata": {},
   "source": [
    "## Political Views and Parties"
   ]
  },
  {
   "cell_type": "code",
   "execution_count": 10,
   "id": "e23487d2-894c-43d5-9313-09a2975aeb0f",
   "metadata": {},
   "outputs": [],
   "source": [
    "liberal = gss.polviews .<= 3;"
   ]
  },
  {
   "cell_type": "code",
   "execution_count": 11,
   "id": "01124334-fbf9-491b-8dc2-79b1b6e582d2",
   "metadata": {},
   "outputs": [
    {
     "data": {
      "text/plain": [
       "0.27374721038750255"
      ]
     },
     "execution_count": 11,
     "metadata": {},
     "output_type": "execute_result"
    }
   ],
   "source": [
    "prob(liberal)"
   ]
  },
  {
   "cell_type": "code",
   "execution_count": 12,
   "id": "7729ab76-4ba0-4e87-8bed-2813b8395cfc",
   "metadata": {},
   "outputs": [],
   "source": [
    "democrat = gss.partyid .<= 1;"
   ]
  },
  {
   "cell_type": "code",
   "execution_count": 13,
   "id": "da856b1c-5368-47d5-bd75-04fc83f246a0",
   "metadata": {},
   "outputs": [
    {
     "data": {
      "text/plain": [
       "0.3662609048488537"
      ]
     },
     "execution_count": 13,
     "metadata": {},
     "output_type": "execute_result"
    }
   ],
   "source": [
    "prob(democrat)"
   ]
  },
  {
   "cell_type": "markdown",
   "id": "f56f220d-b869-41b5-8100-01f2960024f2",
   "metadata": {},
   "source": [
    "## Conjunction"
   ]
  },
  {
   "cell_type": "code",
   "execution_count": 14,
   "id": "7ecff208-59e3-46e5-9e3d-7eedc37c4993",
   "metadata": {},
   "outputs": [
    {
     "data": {
      "text/plain": [
       "0.014769730168391155"
      ]
     },
     "execution_count": 14,
     "metadata": {},
     "output_type": "execute_result"
    }
   ],
   "source": [
    "prob(banker)"
   ]
  },
  {
   "cell_type": "code",
   "execution_count": 15,
   "id": "589c493f-ca3d-41bc-966c-a8d4a16ba177",
   "metadata": {},
   "outputs": [
    {
     "data": {
      "text/plain": [
       "0.3662609048488537"
      ]
     },
     "execution_count": 15,
     "metadata": {},
     "output_type": "execute_result"
    }
   ],
   "source": [
    "prob(democrat)"
   ]
  },
  {
   "cell_type": "code",
   "execution_count": 16,
   "id": "9c5392d0-71e0-4e1f-adb1-02446a74da85",
   "metadata": {},
   "outputs": [
    {
     "data": {
      "text/plain": [
       "0.004686548995739501"
      ]
     },
     "execution_count": 16,
     "metadata": {},
     "output_type": "execute_result"
    }
   ],
   "source": [
    "prob(banker .& democrat)"
   ]
  },
  {
   "cell_type": "code",
   "execution_count": 17,
   "id": "0efdd302-8a3f-4f80-9276-c2fa0eea653b",
   "metadata": {},
   "outputs": [
    {
     "data": {
      "text/plain": [
       "0.004686548995739501"
      ]
     },
     "execution_count": 17,
     "metadata": {},
     "output_type": "execute_result"
    }
   ],
   "source": [
    "prob(democrat .& banker)"
   ]
  },
  {
   "cell_type": "markdown",
   "id": "edd0d499-f9dd-412e-900a-3fe1138ed8c7",
   "metadata": {},
   "source": [
    "## Conditional Probability"
   ]
  },
  {
   "cell_type": "code",
   "execution_count": 18,
   "id": "0b74d9f0-22aa-4ee3-a961-72d26ec2eb59",
   "metadata": {},
   "outputs": [],
   "source": [
    "selected = democrat[liberal];"
   ]
  },
  {
   "cell_type": "code",
   "execution_count": 19,
   "id": "b2a0d37b-9376-41cf-adb1-1bd9d2bdd04a",
   "metadata": {},
   "outputs": [
    {
     "data": {
      "text/plain": [
       "0.5206403320240125"
      ]
     },
     "execution_count": 19,
     "metadata": {},
     "output_type": "execute_result"
    }
   ],
   "source": [
    "prob(selected)"
   ]
  },
  {
   "cell_type": "code",
   "execution_count": 20,
   "id": "af6e080e-3858-45ca-b92b-810ce8bee126",
   "metadata": {},
   "outputs": [
    {
     "data": {
      "text/plain": [
       "0.7706043956043956"
      ]
     },
     "execution_count": 20,
     "metadata": {},
     "output_type": "execute_result"
    }
   ],
   "source": [
    "selected = female[banker]\n",
    "prob(selected)"
   ]
  },
  {
   "cell_type": "code",
   "execution_count": 21,
   "id": "e8f446d0-5ced-41ee-b741-3dde2eb889ee",
   "metadata": {},
   "outputs": [
    {
     "data": {
      "text/plain": [
       "conditional (generic function with 2 methods)"
      ]
     },
     "execution_count": 21,
     "metadata": {},
     "output_type": "execute_result"
    }
   ],
   "source": [
    "conditional(proposition, given)= prob(proposition[given])\n",
    "conditional(proposition; given)= prob(proposition[given]) # to support either positional or keywork parameters"
   ]
  },
  {
   "cell_type": "code",
   "execution_count": 22,
   "id": "46372a7e-c362-48ff-bc29-3279ce240d4d",
   "metadata": {},
   "outputs": [
    {
     "data": {
      "text/plain": [
       "0.27581004111500884"
      ]
     },
     "execution_count": 22,
     "metadata": {},
     "output_type": "execute_result"
    }
   ],
   "source": [
    "conditional(liberal, given=female)"
   ]
  },
  {
   "cell_type": "markdown",
   "id": "d276f3a4-a9ae-4242-98ae-b14b2545bfae",
   "metadata": {},
   "source": [
    "## Conditional Probability Is Not Commutative"
   ]
  },
  {
   "cell_type": "code",
   "execution_count": 23,
   "id": "447dca63-b4e0-4aa4-a3c5-55ba44fd206f",
   "metadata": {},
   "outputs": [
    {
     "data": {
      "text/plain": [
       "0.7706043956043956"
      ]
     },
     "execution_count": 23,
     "metadata": {},
     "output_type": "execute_result"
    }
   ],
   "source": [
    "conditional(female, given=banker)"
   ]
  },
  {
   "cell_type": "code",
   "execution_count": 24,
   "id": "3b6ef398-0af0-475b-aec9-e6f9a6196b08",
   "metadata": {},
   "outputs": [
    {
     "data": {
      "text/plain": [
       "0.02116102749801969"
      ]
     },
     "execution_count": 24,
     "metadata": {},
     "output_type": "execute_result"
    }
   ],
   "source": [
    "conditional(banker, given=female)"
   ]
  },
  {
   "cell_type": "markdown",
   "id": "ecb2bb32-c422-4249-ac59-0ef5313a5925",
   "metadata": {},
   "source": [
    "## Condition and Conjunction"
   ]
  },
  {
   "cell_type": "code",
   "execution_count": 25,
   "id": "d0eeb4f9-feaf-45d8-9ead-6dc2606518ac",
   "metadata": {},
   "outputs": [
    {
     "data": {
      "text/plain": [
       "0.576085409252669"
      ]
     },
     "execution_count": 25,
     "metadata": {},
     "output_type": "execute_result"
    }
   ],
   "source": [
    "conditional(female, given=liberal .& democrat)"
   ]
  },
  {
   "cell_type": "code",
   "execution_count": 26,
   "id": "7f304f25-134e-4132-be31-69266c79c943",
   "metadata": {},
   "outputs": [
    {
     "data": {
      "text/plain": [
       "0.17307692307692307"
      ]
     },
     "execution_count": 26,
     "metadata": {},
     "output_type": "execute_result"
    }
   ],
   "source": [
    "conditional(liberal .& female, given=banker)"
   ]
  },
  {
   "cell_type": "markdown",
   "id": "93cb9183-06be-4408-824d-e12a962dd0c9",
   "metadata": {},
   "source": [
    "## Laws of Probability"
   ]
  },
  {
   "cell_type": "markdown",
   "id": "da5687f4-7f7b-43eb-be5e-d85074bb7bd9",
   "metadata": {},
   "source": [
    "### Theorem 1"
   ]
  },
  {
   "cell_type": "code",
   "execution_count": 27,
   "id": "09918c12-b501-488e-bbe8-c78d7f2e8892",
   "metadata": {},
   "outputs": [
    {
     "data": {
      "text/plain": [
       "0.7706043956043956"
      ]
     },
     "execution_count": 27,
     "metadata": {},
     "output_type": "execute_result"
    }
   ],
   "source": [
    "mean(female[banker])"
   ]
  },
  {
   "cell_type": "code",
   "execution_count": 28,
   "id": "20ea49b1-fede-402a-bcbf-863a3e0548a7",
   "metadata": {},
   "outputs": [
    {
     "data": {
      "text/plain": [
       "0.7706043956043956"
      ]
     },
     "execution_count": 28,
     "metadata": {},
     "output_type": "execute_result"
    }
   ],
   "source": [
    "conditional(female, given=banker)"
   ]
  },
  {
   "cell_type": "code",
   "execution_count": 29,
   "id": "6c9eb2a6-adea-4888-abeb-4e6b010b5909",
   "metadata": {},
   "outputs": [
    {
     "data": {
      "text/plain": [
       "0.7706043956043956"
      ]
     },
     "execution_count": 29,
     "metadata": {},
     "output_type": "execute_result"
    }
   ],
   "source": [
    "prob(female .& banker) ./ prob(banker)"
   ]
  },
  {
   "cell_type": "markdown",
   "id": "21a925e1-fd5f-4161-8d5d-6db5a70e4e91",
   "metadata": {},
   "source": [
    "### Theorem 2"
   ]
  },
  {
   "cell_type": "code",
   "execution_count": 30,
   "id": "cba5bd1b-ce93-4fde-bd35-0515e819098f",
   "metadata": {},
   "outputs": [
    {
     "data": {
      "text/plain": [
       "0.1425238385067965"
      ]
     },
     "execution_count": 30,
     "metadata": {},
     "output_type": "execute_result"
    }
   ],
   "source": [
    "prob(liberal .& democrat)"
   ]
  },
  {
   "cell_type": "code",
   "execution_count": 31,
   "id": "e59dab05-bd42-49d9-bb94-581ff1c90bf0",
   "metadata": {},
   "outputs": [
    {
     "data": {
      "text/plain": [
       "0.1425238385067965"
      ]
     },
     "execution_count": 31,
     "metadata": {},
     "output_type": "execute_result"
    }
   ],
   "source": [
    "prob(democrat) .* conditional(liberal, democrat)"
   ]
  },
  {
   "cell_type": "markdown",
   "id": "22520e20-58e7-4c3b-9bbd-af887550ae0a",
   "metadata": {},
   "source": [
    "### Theorem 3"
   ]
  },
  {
   "cell_type": "code",
   "execution_count": 32,
   "id": "528c283c-9ce5-4f40-be4d-f4118375a44d",
   "metadata": {},
   "outputs": [
    {
     "data": {
      "text/plain": [
       "0.2239010989010989"
      ]
     },
     "execution_count": 32,
     "metadata": {},
     "output_type": "execute_result"
    }
   ],
   "source": [
    "conditional(liberal, given=banker)"
   ]
  },
  {
   "cell_type": "code",
   "execution_count": 33,
   "id": "92f5c520-e539-45a3-be55-b35166fc2a3f",
   "metadata": {},
   "outputs": [
    {
     "data": {
      "text/plain": [
       "0.2239010989010989"
      ]
     },
     "execution_count": 33,
     "metadata": {},
     "output_type": "execute_result"
    }
   ],
   "source": [
    "prob(liberal) .* conditional(banker, liberal) / prob(banker)"
   ]
  },
  {
   "cell_type": "markdown",
   "id": "c9ab01fb-b97a-4bd1-a878-c99d846975c5",
   "metadata": {},
   "source": [
    "### The Law of Total Probability"
   ]
  },
  {
   "cell_type": "code",
   "execution_count": 34,
   "id": "b6949440-0169-45bf-94ec-7065298a1ad1",
   "metadata": {},
   "outputs": [
    {
     "data": {
      "text/plain": [
       "0.014769730168391155"
      ]
     },
     "execution_count": 34,
     "metadata": {},
     "output_type": "execute_result"
    }
   ],
   "source": [
    "prob(banker)"
   ]
  },
  {
   "cell_type": "code",
   "execution_count": 35,
   "id": "8e96f2e1-d315-4742-816c-dd3b2304c5c1",
   "metadata": {},
   "outputs": [],
   "source": [
    "male = gss.sex .== 1;"
   ]
  },
  {
   "cell_type": "code",
   "execution_count": 36,
   "id": "31badedc-b07f-4fb8-9433-ed0f22b65eb3",
   "metadata": {},
   "outputs": [
    {
     "data": {
      "text/plain": [
       "0.014769730168391155"
      ]
     },
     "execution_count": 36,
     "metadata": {},
     "output_type": "execute_result"
    }
   ],
   "source": [
    "prob(male .& banker) + prob(female .& banker)"
   ]
  },
  {
   "cell_type": "code",
   "execution_count": 37,
   "id": "c53e8232-b5bd-4b14-beb8-ce0152c41983",
   "metadata": {},
   "outputs": [
    {
     "data": {
      "text/plain": [
       "0.014769730168391153"
      ]
     },
     "execution_count": 37,
     "metadata": {},
     "output_type": "execute_result"
    }
   ],
   "source": [
    "(prob(male) * conditional(banker, given=male) +\n",
    "prob(female) * conditional(banker, given=female))"
   ]
  },
  {
   "cell_type": "code",
   "execution_count": 38,
   "id": "01ae5820-26fc-4ce0-b4f3-e7ccf433c21d",
   "metadata": {},
   "outputs": [
    {
     "data": {
      "text/html": [
       "<div class=\"data-frame\"><p>7 rows × 2 columns</p><table class=\"data-frame\"><thead><tr><th></th><th>polviews</th><th>nrow</th></tr><tr><th></th><th title=\"Float64\">Float64</th><th title=\"Int64\">Int64</th></tr></thead><tbody><tr><th>1</th><td>1.0</td><td>1442</td></tr><tr><th>2</th><td>2.0</td><td>5808</td></tr><tr><th>3</th><td>3.0</td><td>6243</td></tr><tr><th>4</th><td>4.0</td><td>18943</td></tr><tr><th>5</th><td>5.0</td><td>7940</td></tr><tr><th>6</th><td>6.0</td><td>7319</td></tr><tr><th>7</th><td>7.0</td><td>1595</td></tr></tbody></table></div>"
      ],
      "text/latex": [
       "\\begin{tabular}{r|cc}\n",
       "\t& polviews & nrow\\\\\n",
       "\t\\hline\n",
       "\t& Float64 & Int64\\\\\n",
       "\t\\hline\n",
       "\t1 & 1.0 & 1442 \\\\\n",
       "\t2 & 2.0 & 5808 \\\\\n",
       "\t3 & 3.0 & 6243 \\\\\n",
       "\t4 & 4.0 & 18943 \\\\\n",
       "\t5 & 5.0 & 7940 \\\\\n",
       "\t6 & 6.0 & 7319 \\\\\n",
       "\t7 & 7.0 & 1595 \\\\\n",
       "\\end{tabular}\n"
      ],
      "text/plain": [
       "\u001b[1m7×2 DataFrame\u001b[0m\n",
       "\u001b[1m Row \u001b[0m│\u001b[1m polviews \u001b[0m\u001b[1m nrow  \u001b[0m\n",
       "\u001b[1m     \u001b[0m│\u001b[90m Float64  \u001b[0m\u001b[90m Int64 \u001b[0m\n",
       "─────┼─────────────────\n",
       "   1 │      1.0   1442\n",
       "   2 │      2.0   5808\n",
       "   3 │      3.0   6243\n",
       "   4 │      4.0  18943\n",
       "   5 │      5.0   7940\n",
       "   6 │      6.0   7319\n",
       "   7 │      7.0   1595"
      ]
     },
     "execution_count": 38,
     "metadata": {},
     "output_type": "execute_result"
    }
   ],
   "source": [
    "B = gss.polviews\n",
    "sort(combine(groupby(gss, :polviews), nrow))"
   ]
  },
  {
   "cell_type": "code",
   "execution_count": 39,
   "id": "5c4e6fdd-9698-40f9-a3b3-59f02a5a3390",
   "metadata": {},
   "outputs": [
    {
     "data": {
      "text/plain": [
       "0.005822682085615744"
      ]
     },
     "execution_count": 39,
     "metadata": {},
     "output_type": "execute_result"
    }
   ],
   "source": [
    "i = 4\n",
    "prob(B.==i) * conditional(banker, B.==i)"
   ]
  },
  {
   "cell_type": "code",
   "execution_count": 40,
   "id": "b5c28187-6121-4125-8fd9-a48106d898a6",
   "metadata": {},
   "outputs": [
    {
     "data": {
      "text/plain": [
       "0.014769730168391157"
      ]
     },
     "execution_count": 40,
     "metadata": {},
     "output_type": "execute_result"
    }
   ],
   "source": [
    "sum(prob(B.==i) * conditional(banker, B.==i) \n",
    "    for i in 1:7)"
   ]
  },
  {
   "cell_type": "markdown",
   "id": "b7c6d4db-67f9-4c3a-aa52-f76dedaef9aa",
   "metadata": {},
   "source": [
    "## Exercises"
   ]
  },
  {
   "cell_type": "code",
   "execution_count": 41,
   "id": "2e6d21ed-87df-487b-b2a1-632d5150520b",
   "metadata": {},
   "outputs": [
    {
     "data": {
      "text/plain": [
       "0.011381618989653074"
      ]
     },
     "execution_count": 41,
     "metadata": {},
     "output_type": "execute_result"
    }
   ],
   "source": [
    "prob(female .& banker)"
   ]
  },
  {
   "cell_type": "code",
   "execution_count": 42,
   "id": "0bb7f041-5d1b-4075-a335-c49d69fb1358",
   "metadata": {},
   "outputs": [
    {
     "data": {
      "text/plain": [
       "0.002556299452221546"
      ]
     },
     "execution_count": 42,
     "metadata": {},
     "output_type": "execute_result"
    }
   ],
   "source": [
    "prob(female .& banker .& liberal)"
   ]
  },
  {
   "cell_type": "code",
   "execution_count": 43,
   "id": "44c346d4-4303-405c-9c82-7e6f701b15f3",
   "metadata": {},
   "outputs": [
    {
     "data": {
      "text/plain": [
       "0.0012375735443294787"
      ]
     },
     "execution_count": 43,
     "metadata": {},
     "output_type": "execute_result"
    }
   ],
   "source": [
    "prob(female .& banker .& liberal .& democrat)"
   ]
  },
  {
   "cell_type": "code",
   "execution_count": 44,
   "id": "adad9142-1c95-4006-b880-51f84bd167a4",
   "metadata": {},
   "outputs": [
    {
     "data": {
      "text/plain": [
       "0.3891320002215698"
      ]
     },
     "execution_count": 44,
     "metadata": {},
     "output_type": "execute_result"
    }
   ],
   "source": [
    "conditional(liberal, given=democrat)"
   ]
  },
  {
   "cell_type": "code",
   "execution_count": 45,
   "id": "cd3b1cb3-4d6b-481b-870a-9c64952bf995",
   "metadata": {},
   "outputs": [
    {
     "data": {
      "text/plain": [
       "0.19435991073240008"
      ]
     },
     "execution_count": 45,
     "metadata": {},
     "output_type": "execute_result"
    }
   ],
   "source": [
    "young = gss[!, \"age\"] .< 30\n",
    "prob(young)"
   ]
  },
  {
   "cell_type": "code",
   "execution_count": 46,
   "id": "90bb7490-d91c-4cb0-b22c-9536f27ce273",
   "metadata": {},
   "outputs": [
    {
     "data": {
      "text/plain": [
       "0.17328058429701765"
      ]
     },
     "execution_count": 46,
     "metadata": {},
     "output_type": "execute_result"
    }
   ],
   "source": [
    "old = gss[!, \"age\"] .>= 65\n",
    "prob(old)"
   ]
  },
  {
   "cell_type": "code",
   "execution_count": 47,
   "id": "6fd1c774-4f38-44eb-ac51-96d352743c97",
   "metadata": {},
   "outputs": [
    {
     "data": {
      "text/plain": [
       "0.3419354838709677"
      ]
     },
     "execution_count": 47,
     "metadata": {},
     "output_type": "execute_result"
    }
   ],
   "source": [
    "conservative = gss[!, \"polviews\"] .>= 5\n",
    "prob(conservative)"
   ]
  },
  {
   "cell_type": "code",
   "execution_count": 48,
   "id": "a1198fbb-df27-42df-ac42-cf4ddeada6d0",
   "metadata": {},
   "outputs": [
    {
     "data": {
      "text/plain": [
       "0.06579427875836884"
      ]
     },
     "execution_count": 48,
     "metadata": {},
     "output_type": "execute_result"
    }
   ],
   "source": [
    "# Solution\n",
    "\n",
    "prob(young .& liberal)"
   ]
  },
  {
   "cell_type": "code",
   "execution_count": 49,
   "id": "0d2fbc90-7b0f-435c-8d9c-058293d1a7ae",
   "metadata": {},
   "outputs": [
    {
     "data": {
      "text/plain": [
       "0.338517745302714"
      ]
     },
     "execution_count": 49,
     "metadata": {},
     "output_type": "execute_result"
    }
   ],
   "source": [
    "# Solution\n",
    "\n",
    "conditional(liberal, given=young)"
   ]
  },
  {
   "cell_type": "code",
   "execution_count": 50,
   "id": "5fd3626d-8cd0-49c9-8f6e-aeb4322b7ecf",
   "metadata": {},
   "outputs": [
    {
     "data": {
      "text/plain": [
       "0.06701156421180766"
      ]
     },
     "execution_count": 50,
     "metadata": {},
     "output_type": "execute_result"
    }
   ],
   "source": [
    "# Solution\n",
    "\n",
    "prob(old .& conservative)"
   ]
  },
  {
   "cell_type": "code",
   "execution_count": 51,
   "id": "359a3b08-f30e-47f6-b912-9116fdccd426",
   "metadata": {},
   "outputs": [
    {
     "data": {
      "text/plain": [
       "0.19597721609113564"
      ]
     },
     "execution_count": 51,
     "metadata": {},
     "output_type": "execute_result"
    }
   ],
   "source": [
    "# Solution\n",
    "\n",
    "conditional(old, given=conservative)"
   ]
  }
 ],
 "metadata": {
  "kernelspec": {
   "display_name": "Julia 1.6.3",
   "language": "julia",
   "name": "julia-1.6"
  },
  "language_info": {
   "file_extension": ".jl",
   "mimetype": "application/julia",
   "name": "julia",
   "version": "1.6.3"
  }
 },
 "nbformat": 4,
 "nbformat_minor": 5
}
