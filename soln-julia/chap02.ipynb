{
 "cells": [
  {
   "cell_type": "markdown",
   "id": "c142abd1-09e3-4681-8a40-9ec60d2e5282",
   "metadata": {},
   "source": [
    "# Bayes's Theorem"
   ]
  },
  {
   "cell_type": "markdown",
   "id": "c51c6937-e6b0-4c66-823d-090e6482fd0a",
   "metadata": {},
   "source": [
    "Download & install packages needed for this notebook"
   ]
  },
  {
   "cell_type": "code",
   "execution_count": 1,
   "id": "45e80837-3d96-49f1-998b-b716d45c440f",
   "metadata": {},
   "outputs": [],
   "source": [
    "include(\"utils.jl\")\n",
    "using .Utils\n",
    "\n",
    "checkpkgs(\"DataFrames\")"
   ]
  },
  {
   "cell_type": "markdown",
   "id": "2190f1fa-d799-401c-a55d-194af5acb0b3",
   "metadata": {},
   "source": [
    "## The Cookie Problem\n",
    "## Diachronic Bayes"
   ]
  },
  {
   "cell_type": "markdown",
   "id": "04af4a24-cbff-49b5-88a0-1924fd41825f",
   "metadata": {},
   "source": [
    "## Bayes Tables"
   ]
  },
  {
   "cell_type": "code",
   "execution_count": 2,
   "id": "3e54e7ab-511c-4315-b8e1-57d4cf083abf",
   "metadata": {},
   "outputs": [],
   "source": [
    "using DataFrames\n",
    "table = DataFrame(index=[\"Bowl 1\", \"Bowl 2\"]);"
   ]
  },
  {
   "cell_type": "code",
   "execution_count": 3,
   "id": "7d206454-d3b8-4909-9c01-fd95f834a1f5",
   "metadata": {},
   "outputs": [
    {
     "data": {
      "text/html": [
       "<div class=\"data-frame\"><p>2 rows × 2 columns</p><table class=\"data-frame\"><thead><tr><th></th><th>index</th><th>prior</th></tr><tr><th></th><th title=\"String\">String</th><th title=\"Float64\">Float64</th></tr></thead><tbody><tr><th>1</th><td>Bowl 1</td><td>0.5</td></tr><tr><th>2</th><td>Bowl 2</td><td>0.5</td></tr></tbody></table></div>"
      ],
      "text/latex": [
       "\\begin{tabular}{r|cc}\n",
       "\t& index & prior\\\\\n",
       "\t\\hline\n",
       "\t& String & Float64\\\\\n",
       "\t\\hline\n",
       "\t1 & Bowl 1 & 0.5 \\\\\n",
       "\t2 & Bowl 2 & 0.5 \\\\\n",
       "\\end{tabular}\n"
      ],
      "text/plain": [
       "\u001b[1m2×2 DataFrame\u001b[0m\n",
       "\u001b[1m Row \u001b[0m│\u001b[1m index  \u001b[0m\u001b[1m prior   \u001b[0m\n",
       "\u001b[1m     \u001b[0m│\u001b[90m String \u001b[0m\u001b[90m Float64 \u001b[0m\n",
       "─────┼─────────────────\n",
       "   1 │ Bowl 1      0.5\n",
       "   2 │ Bowl 2      0.5"
      ]
     },
     "execution_count": 3,
     "metadata": {},
     "output_type": "execute_result"
    }
   ],
   "source": [
    "table.prior = [1/2; 1/2]\n",
    "table"
   ]
  },
  {
   "cell_type": "code",
   "execution_count": 4,
   "id": "178e3c41-236d-46e7-b1e6-c85c05cfca09",
   "metadata": {},
   "outputs": [
    {
     "data": {
      "text/html": [
       "<div class=\"data-frame\"><p>2 rows × 3 columns</p><table class=\"data-frame\"><thead><tr><th></th><th>index</th><th>prior</th><th>likelihood</th></tr><tr><th></th><th title=\"String\">String</th><th title=\"Float64\">Float64</th><th title=\"Float64\">Float64</th></tr></thead><tbody><tr><th>1</th><td>Bowl 1</td><td>0.5</td><td>0.75</td></tr><tr><th>2</th><td>Bowl 2</td><td>0.5</td><td>0.5</td></tr></tbody></table></div>"
      ],
      "text/latex": [
       "\\begin{tabular}{r|ccc}\n",
       "\t& index & prior & likelihood\\\\\n",
       "\t\\hline\n",
       "\t& String & Float64 & Float64\\\\\n",
       "\t\\hline\n",
       "\t1 & Bowl 1 & 0.5 & 0.75 \\\\\n",
       "\t2 & Bowl 2 & 0.5 & 0.5 \\\\\n",
       "\\end{tabular}\n"
      ],
      "text/plain": [
       "\u001b[1m2×3 DataFrame\u001b[0m\n",
       "\u001b[1m Row \u001b[0m│\u001b[1m index  \u001b[0m\u001b[1m prior   \u001b[0m\u001b[1m likelihood \u001b[0m\n",
       "\u001b[1m     \u001b[0m│\u001b[90m String \u001b[0m\u001b[90m Float64 \u001b[0m\u001b[90m Float64    \u001b[0m\n",
       "─────┼─────────────────────────────\n",
       "   1 │ Bowl 1      0.5        0.75\n",
       "   2 │ Bowl 2      0.5        0.5"
      ]
     },
     "execution_count": 4,
     "metadata": {},
     "output_type": "execute_result"
    }
   ],
   "source": [
    "table.likelihood = [3/4; 1/2]\n",
    "table"
   ]
  },
  {
   "cell_type": "code",
   "execution_count": 5,
   "id": "22571388-eb06-497f-ba52-5a6c3c96ca76",
   "metadata": {},
   "outputs": [
    {
     "data": {
      "text/html": [
       "<div class=\"data-frame\"><p>2 rows × 4 columns</p><table class=\"data-frame\"><thead><tr><th></th><th>index</th><th>prior</th><th>likelihood</th><th>unnorm</th></tr><tr><th></th><th title=\"String\">String</th><th title=\"Float64\">Float64</th><th title=\"Float64\">Float64</th><th title=\"Float64\">Float64</th></tr></thead><tbody><tr><th>1</th><td>Bowl 1</td><td>0.5</td><td>0.75</td><td>0.375</td></tr><tr><th>2</th><td>Bowl 2</td><td>0.5</td><td>0.5</td><td>0.25</td></tr></tbody></table></div>"
      ],
      "text/latex": [
       "\\begin{tabular}{r|cccc}\n",
       "\t& index & prior & likelihood & unnorm\\\\\n",
       "\t\\hline\n",
       "\t& String & Float64 & Float64 & Float64\\\\\n",
       "\t\\hline\n",
       "\t1 & Bowl 1 & 0.5 & 0.75 & 0.375 \\\\\n",
       "\t2 & Bowl 2 & 0.5 & 0.5 & 0.25 \\\\\n",
       "\\end{tabular}\n"
      ],
      "text/plain": [
       "\u001b[1m2×4 DataFrame\u001b[0m\n",
       "\u001b[1m Row \u001b[0m│\u001b[1m index  \u001b[0m\u001b[1m prior   \u001b[0m\u001b[1m likelihood \u001b[0m\u001b[1m unnorm  \u001b[0m\n",
       "\u001b[1m     \u001b[0m│\u001b[90m String \u001b[0m\u001b[90m Float64 \u001b[0m\u001b[90m Float64    \u001b[0m\u001b[90m Float64 \u001b[0m\n",
       "─────┼──────────────────────────────────────\n",
       "   1 │ Bowl 1      0.5        0.75    0.375\n",
       "   2 │ Bowl 2      0.5        0.5     0.25"
      ]
     },
     "execution_count": 5,
     "metadata": {},
     "output_type": "execute_result"
    }
   ],
   "source": [
    "table.unnorm = table.prior .* table.likelihood\n",
    "table"
   ]
  },
  {
   "cell_type": "code",
   "execution_count": 6,
   "id": "dddb3183-e34d-4c29-9bf8-2f67e491c11d",
   "metadata": {},
   "outputs": [
    {
     "data": {
      "text/plain": [
       "0.625"
      ]
     },
     "execution_count": 6,
     "metadata": {},
     "output_type": "execute_result"
    }
   ],
   "source": [
    "prob_data = sum(table.unnorm)\n",
    "prob_data"
   ]
  },
  {
   "cell_type": "code",
   "execution_count": 7,
   "id": "78735954-8fb3-403f-8175-19a5feee34ca",
   "metadata": {},
   "outputs": [
    {
     "data": {
      "text/html": [
       "<div class=\"data-frame\"><p>2 rows × 5 columns</p><table class=\"data-frame\"><thead><tr><th></th><th>index</th><th>prior</th><th>likelihood</th><th>unnorm</th><th>posterior</th></tr><tr><th></th><th title=\"String\">String</th><th title=\"Float64\">Float64</th><th title=\"Float64\">Float64</th><th title=\"Float64\">Float64</th><th title=\"Float64\">Float64</th></tr></thead><tbody><tr><th>1</th><td>Bowl 1</td><td>0.5</td><td>0.75</td><td>0.375</td><td>0.6</td></tr><tr><th>2</th><td>Bowl 2</td><td>0.5</td><td>0.5</td><td>0.25</td><td>0.4</td></tr></tbody></table></div>"
      ],
      "text/latex": [
       "\\begin{tabular}{r|ccccc}\n",
       "\t& index & prior & likelihood & unnorm & posterior\\\\\n",
       "\t\\hline\n",
       "\t& String & Float64 & Float64 & Float64 & Float64\\\\\n",
       "\t\\hline\n",
       "\t1 & Bowl 1 & 0.5 & 0.75 & 0.375 & 0.6 \\\\\n",
       "\t2 & Bowl 2 & 0.5 & 0.5 & 0.25 & 0.4 \\\\\n",
       "\\end{tabular}\n"
      ],
      "text/plain": [
       "\u001b[1m2×5 DataFrame\u001b[0m\n",
       "\u001b[1m Row \u001b[0m│\u001b[1m index  \u001b[0m\u001b[1m prior   \u001b[0m\u001b[1m likelihood \u001b[0m\u001b[1m unnorm  \u001b[0m\u001b[1m posterior \u001b[0m\n",
       "\u001b[1m     \u001b[0m│\u001b[90m String \u001b[0m\u001b[90m Float64 \u001b[0m\u001b[90m Float64    \u001b[0m\u001b[90m Float64 \u001b[0m\u001b[90m Float64   \u001b[0m\n",
       "─────┼─────────────────────────────────────────────────\n",
       "   1 │ Bowl 1      0.5        0.75    0.375        0.6\n",
       "   2 │ Bowl 2      0.5        0.5     0.25         0.4"
      ]
     },
     "execution_count": 7,
     "metadata": {},
     "output_type": "execute_result"
    }
   ],
   "source": [
    "table.posterior = table.unnorm ./ prob_data\n",
    "table"
   ]
  },
  {
   "cell_type": "markdown",
   "id": "22454d48-9ecf-495a-9f82-fc2f4c6be134",
   "metadata": {},
   "source": [
    "## The Dice Problem"
   ]
  },
  {
   "cell_type": "code",
   "execution_count": 8,
   "id": "6246a6b9-4cf3-4388-95ea-8738c9f170cd",
   "metadata": {},
   "outputs": [],
   "source": [
    "table2 = DataFrame(index=[6, 8, 12]);"
   ]
  },
  {
   "cell_type": "code",
   "execution_count": 9,
   "id": "fb2ffdce-2b25-4651-ae97-e072a7a3f79a",
   "metadata": {},
   "outputs": [
    {
     "data": {
      "text/html": [
       "<div class=\"data-frame\"><p>3 rows × 3 columns</p><table class=\"data-frame\"><thead><tr><th></th><th>index</th><th>prior</th><th>likelihood</th></tr><tr><th></th><th title=\"Int64\">Int64</th><th title=\"Rational{Int64}\">Rationa…</th><th title=\"Rational{Int64}\">Rationa…</th></tr></thead><tbody><tr><th>1</th><td>6</td><td>1//3</td><td>1//6</td></tr><tr><th>2</th><td>8</td><td>1//3</td><td>1//8</td></tr><tr><th>3</th><td>12</td><td>1//3</td><td>1//12</td></tr></tbody></table></div>"
      ],
      "text/latex": [
       "\\begin{tabular}{r|ccc}\n",
       "\t& index & prior & likelihood\\\\\n",
       "\t\\hline\n",
       "\t& Int64 & Rationa… & Rationa…\\\\\n",
       "\t\\hline\n",
       "\t1 & 6 & 1//3 & 1//6 \\\\\n",
       "\t2 & 8 & 1//3 & 1//8 \\\\\n",
       "\t3 & 12 & 1//3 & 1//12 \\\\\n",
       "\\end{tabular}\n"
      ],
      "text/plain": [
       "\u001b[1m3×3 DataFrame\u001b[0m\n",
       "\u001b[1m Row \u001b[0m│\u001b[1m index \u001b[0m\u001b[1m prior     \u001b[0m\u001b[1m likelihood \u001b[0m\n",
       "\u001b[1m     \u001b[0m│\u001b[90m Int64 \u001b[0m\u001b[90m Rational… \u001b[0m\u001b[90m Rational…  \u001b[0m\n",
       "─────┼──────────────────────────────\n",
       "   1 │     6       1//3        1//6\n",
       "   2 │     8       1//3        1//8\n",
       "   3 │    12       1//3       1//12"
      ]
     },
     "execution_count": 9,
     "metadata": {},
     "output_type": "execute_result"
    }
   ],
   "source": [
    "table2[!,\"prior\"] .= 1//3\n",
    "table2[!, \"likelihood\"] = [1//6; 1//8; 1//12]\n",
    "table2"
   ]
  },
  {
   "cell_type": "code",
   "execution_count": 10,
   "id": "ea9827a8-f751-4b95-b49c-018b48454c0a",
   "metadata": {},
   "outputs": [
    {
     "data": {
      "text/plain": [
       "update"
      ]
     },
     "execution_count": 10,
     "metadata": {},
     "output_type": "execute_result"
    }
   ],
   "source": [
    "\"\"\"Compute the posterior probabilities.\"\"\" \n",
    "function update(table)\n",
    "    table.unnorm = table.prior .* table.likelihood\n",
    "    prob_data = sum(table.unnorm)\n",
    "    table.posterior = table.unnorm ./ prob_data\n",
    "    return prob_data\n",
    "end"
   ]
  },
  {
   "cell_type": "code",
   "execution_count": 11,
   "id": "cae4046b-867f-4d7d-bb13-2074efeaadd4",
   "metadata": {},
   "outputs": [],
   "source": [
    "prob_data = update(table2);"
   ]
  },
  {
   "cell_type": "code",
   "execution_count": 12,
   "id": "69ef0fc2-4bf5-4978-af83-232f5e6f3267",
   "metadata": {},
   "outputs": [
    {
     "data": {
      "text/html": [
       "<div class=\"data-frame\"><p>3 rows × 5 columns</p><table class=\"data-frame\"><thead><tr><th></th><th>index</th><th>prior</th><th>likelihood</th><th>unnorm</th><th>posterior</th></tr><tr><th></th><th title=\"Int64\">Int64</th><th title=\"Rational{Int64}\">Rationa…</th><th title=\"Rational{Int64}\">Rationa…</th><th title=\"Rational{Int64}\">Rationa…</th><th title=\"Rational{Int64}\">Rationa…</th></tr></thead><tbody><tr><th>1</th><td>6</td><td>1//3</td><td>1//6</td><td>1//18</td><td>4//9</td></tr><tr><th>2</th><td>8</td><td>1//3</td><td>1//8</td><td>1//24</td><td>1//3</td></tr><tr><th>3</th><td>12</td><td>1//3</td><td>1//12</td><td>1//36</td><td>2//9</td></tr></tbody></table></div>"
      ],
      "text/latex": [
       "\\begin{tabular}{r|ccccc}\n",
       "\t& index & prior & likelihood & unnorm & posterior\\\\\n",
       "\t\\hline\n",
       "\t& Int64 & Rationa… & Rationa… & Rationa… & Rationa…\\\\\n",
       "\t\\hline\n",
       "\t1 & 6 & 1//3 & 1//6 & 1//18 & 4//9 \\\\\n",
       "\t2 & 8 & 1//3 & 1//8 & 1//24 & 1//3 \\\\\n",
       "\t3 & 12 & 1//3 & 1//12 & 1//36 & 2//9 \\\\\n",
       "\\end{tabular}\n"
      ],
      "text/plain": [
       "\u001b[1m3×5 DataFrame\u001b[0m\n",
       "\u001b[1m Row \u001b[0m│\u001b[1m index \u001b[0m\u001b[1m prior     \u001b[0m\u001b[1m likelihood \u001b[0m\u001b[1m unnorm    \u001b[0m\u001b[1m posterior \u001b[0m\n",
       "\u001b[1m     \u001b[0m│\u001b[90m Int64 \u001b[0m\u001b[90m Rational… \u001b[0m\u001b[90m Rational…  \u001b[0m\u001b[90m Rational… \u001b[0m\u001b[90m Rational… \u001b[0m\n",
       "─────┼────────────────────────────────────────────────────\n",
       "   1 │     6       1//3        1//6      1//18       4//9\n",
       "   2 │     8       1//3        1//8      1//24       1//3\n",
       "   3 │    12       1//3       1//12      1//36       2//9"
      ]
     },
     "execution_count": 12,
     "metadata": {},
     "output_type": "execute_result"
    }
   ],
   "source": [
    "table2"
   ]
  },
  {
   "cell_type": "markdown",
   "id": "2638fa8a-c5c2-4a38-9a0f-b439690a5803",
   "metadata": {},
   "source": [
    "## The Monty Hall Problem"
   ]
  },
  {
   "cell_type": "code",
   "execution_count": 13,
   "id": "2e24235d-9dd0-495a-918b-9cfdb63ba778",
   "metadata": {},
   "outputs": [
    {
     "data": {
      "text/html": [
       "<div class=\"data-frame\"><p>3 rows × 2 columns</p><table class=\"data-frame\"><thead><tr><th></th><th>index</th><th>prior</th></tr><tr><th></th><th title=\"String\">String</th><th title=\"Rational{Int64}\">Rationa…</th></tr></thead><tbody><tr><th>1</th><td>Door 1</td><td>1//3</td></tr><tr><th>2</th><td>Door 2</td><td>1//3</td></tr><tr><th>3</th><td>Door 3</td><td>1//3</td></tr></tbody></table></div>"
      ],
      "text/latex": [
       "\\begin{tabular}{r|cc}\n",
       "\t& index & prior\\\\\n",
       "\t\\hline\n",
       "\t& String & Rationa…\\\\\n",
       "\t\\hline\n",
       "\t1 & Door 1 & 1//3 \\\\\n",
       "\t2 & Door 2 & 1//3 \\\\\n",
       "\t3 & Door 3 & 1//3 \\\\\n",
       "\\end{tabular}\n"
      ],
      "text/plain": [
       "\u001b[1m3×2 DataFrame\u001b[0m\n",
       "\u001b[1m Row \u001b[0m│\u001b[1m index  \u001b[0m\u001b[1m prior     \u001b[0m\n",
       "\u001b[1m     \u001b[0m│\u001b[90m String \u001b[0m\u001b[90m Rational… \u001b[0m\n",
       "─────┼───────────────────\n",
       "   1 │ Door 1       1//3\n",
       "   2 │ Door 2       1//3\n",
       "   3 │ Door 3       1//3"
      ]
     },
     "execution_count": 13,
     "metadata": {},
     "output_type": "execute_result"
    }
   ],
   "source": [
    "table3 = DataFrame(index=[\"Door 1\", \"Door 2\", \"Door 3\"])\n",
    "table3[!, \"prior\"] .= 1//3\n",
    "table3"
   ]
  },
  {
   "cell_type": "code",
   "execution_count": 14,
   "id": "22e7b553-b2c8-41b4-aa2e-56485ebac018",
   "metadata": {},
   "outputs": [
    {
     "data": {
      "text/html": [
       "<div class=\"data-frame\"><p>3 rows × 3 columns</p><table class=\"data-frame\"><thead><tr><th></th><th>index</th><th>prior</th><th>likelihood</th></tr><tr><th></th><th title=\"String\">String</th><th title=\"Rational{Int64}\">Rationa…</th><th title=\"Rational{Int64}\">Rationa…</th></tr></thead><tbody><tr><th>1</th><td>Door 1</td><td>1//3</td><td>1//2</td></tr><tr><th>2</th><td>Door 2</td><td>1//3</td><td>1//1</td></tr><tr><th>3</th><td>Door 3</td><td>1//3</td><td>0//1</td></tr></tbody></table></div>"
      ],
      "text/latex": [
       "\\begin{tabular}{r|ccc}\n",
       "\t& index & prior & likelihood\\\\\n",
       "\t\\hline\n",
       "\t& String & Rationa… & Rationa…\\\\\n",
       "\t\\hline\n",
       "\t1 & Door 1 & 1//3 & 1//2 \\\\\n",
       "\t2 & Door 2 & 1//3 & 1//1 \\\\\n",
       "\t3 & Door 3 & 1//3 & 0//1 \\\\\n",
       "\\end{tabular}\n"
      ],
      "text/plain": [
       "\u001b[1m3×3 DataFrame\u001b[0m\n",
       "\u001b[1m Row \u001b[0m│\u001b[1m index  \u001b[0m\u001b[1m prior     \u001b[0m\u001b[1m likelihood \u001b[0m\n",
       "\u001b[1m     \u001b[0m│\u001b[90m String \u001b[0m\u001b[90m Rational… \u001b[0m\u001b[90m Rational…  \u001b[0m\n",
       "─────┼───────────────────────────────\n",
       "   1 │ Door 1       1//3        1//2\n",
       "   2 │ Door 2       1//3        1//1\n",
       "   3 │ Door 3       1//3        0//1"
      ]
     },
     "execution_count": 14,
     "metadata": {},
     "output_type": "execute_result"
    }
   ],
   "source": [
    "table3.likelihood = [1//2; 1; 0]\n",
    "table3"
   ]
  },
  {
   "cell_type": "code",
   "execution_count": 15,
   "id": "ae460c56-75d4-4de2-b633-5048f042e5af",
   "metadata": {},
   "outputs": [
    {
     "data": {
      "text/html": [
       "<div class=\"data-frame\"><p>3 rows × 5 columns</p><table class=\"data-frame\"><thead><tr><th></th><th>index</th><th>prior</th><th>likelihood</th><th>unnorm</th><th>posterior</th></tr><tr><th></th><th title=\"String\">String</th><th title=\"Rational{Int64}\">Rationa…</th><th title=\"Rational{Int64}\">Rationa…</th><th title=\"Rational{Int64}\">Rationa…</th><th title=\"Rational{Int64}\">Rationa…</th></tr></thead><tbody><tr><th>1</th><td>Door 1</td><td>1//3</td><td>1//2</td><td>1//6</td><td>1//3</td></tr><tr><th>2</th><td>Door 2</td><td>1//3</td><td>1//1</td><td>1//3</td><td>2//3</td></tr><tr><th>3</th><td>Door 3</td><td>1//3</td><td>0//1</td><td>0//1</td><td>0//1</td></tr></tbody></table></div>"
      ],
      "text/latex": [
       "\\begin{tabular}{r|ccccc}\n",
       "\t& index & prior & likelihood & unnorm & posterior\\\\\n",
       "\t\\hline\n",
       "\t& String & Rationa… & Rationa… & Rationa… & Rationa…\\\\\n",
       "\t\\hline\n",
       "\t1 & Door 1 & 1//3 & 1//2 & 1//6 & 1//3 \\\\\n",
       "\t2 & Door 2 & 1//3 & 1//1 & 1//3 & 2//3 \\\\\n",
       "\t3 & Door 3 & 1//3 & 0//1 & 0//1 & 0//1 \\\\\n",
       "\\end{tabular}\n"
      ],
      "text/plain": [
       "\u001b[1m3×5 DataFrame\u001b[0m\n",
       "\u001b[1m Row \u001b[0m│\u001b[1m index  \u001b[0m\u001b[1m prior     \u001b[0m\u001b[1m likelihood \u001b[0m\u001b[1m unnorm    \u001b[0m\u001b[1m posterior \u001b[0m\n",
       "\u001b[1m     \u001b[0m│\u001b[90m String \u001b[0m\u001b[90m Rational… \u001b[0m\u001b[90m Rational…  \u001b[0m\u001b[90m Rational… \u001b[0m\u001b[90m Rational… \u001b[0m\n",
       "─────┼─────────────────────────────────────────────────────\n",
       "   1 │ Door 1       1//3        1//2       1//6       1//3\n",
       "   2 │ Door 2       1//3        1//1       1//3       2//3\n",
       "   3 │ Door 3       1//3        0//1       0//1       0//1"
      ]
     },
     "execution_count": 15,
     "metadata": {},
     "output_type": "execute_result"
    }
   ],
   "source": [
    "update(table3)\n",
    "table3"
   ]
  },
  {
   "cell_type": "markdown",
   "id": "fb5a1b3f-2443-4280-9517-d771c848adf0",
   "metadata": {},
   "source": [
    "## Exercises"
   ]
  },
  {
   "cell_type": "code",
   "execution_count": 16,
   "id": "2e0ef1f8-8f03-4bf2-9b93-06f45bcb2da0",
   "metadata": {},
   "outputs": [
    {
     "data": {
      "text/html": [
       "<div class=\"data-frame\"><p>2 rows × 5 columns</p><table class=\"data-frame\"><thead><tr><th></th><th>index</th><th>prior</th><th>likelihood</th><th>unnorm</th><th>posterior</th></tr><tr><th></th><th title=\"String\">String</th><th title=\"Float64\">Float64</th><th title=\"Float64\">Float64</th><th title=\"Float64\">Float64</th><th title=\"Float64\">Float64</th></tr></thead><tbody><tr><th>1</th><td>Normal</td><td>0.5</td><td>0.5</td><td>0.25</td><td>0.333333</td></tr><tr><th>2</th><td>Trick</td><td>0.5</td><td>1.0</td><td>0.5</td><td>0.666667</td></tr></tbody></table></div>"
      ],
      "text/latex": [
       "\\begin{tabular}{r|ccccc}\n",
       "\t& index & prior & likelihood & unnorm & posterior\\\\\n",
       "\t\\hline\n",
       "\t& String & Float64 & Float64 & Float64 & Float64\\\\\n",
       "\t\\hline\n",
       "\t1 & Normal & 0.5 & 0.5 & 0.25 & 0.333333 \\\\\n",
       "\t2 & Trick & 0.5 & 1.0 & 0.5 & 0.666667 \\\\\n",
       "\\end{tabular}\n"
      ],
      "text/plain": [
       "\u001b[1m2×5 DataFrame\u001b[0m\n",
       "\u001b[1m Row \u001b[0m│\u001b[1m index  \u001b[0m\u001b[1m prior   \u001b[0m\u001b[1m likelihood \u001b[0m\u001b[1m unnorm  \u001b[0m\u001b[1m posterior \u001b[0m\n",
       "\u001b[1m     \u001b[0m│\u001b[90m String \u001b[0m\u001b[90m Float64 \u001b[0m\u001b[90m Float64    \u001b[0m\u001b[90m Float64 \u001b[0m\u001b[90m Float64   \u001b[0m\n",
       "─────┼─────────────────────────────────────────────────\n",
       "   1 │ Normal      0.5         0.5     0.25   0.333333\n",
       "   2 │ Trick       0.5         1.0     0.5    0.666667"
      ]
     },
     "execution_count": 16,
     "metadata": {},
     "output_type": "execute_result"
    }
   ],
   "source": [
    "table4 = DataFrame(index=[\"Normal\", \"Trick\"], prior = 1/2, likelihood = [1/2, 1])\n",
    "\n",
    "update(table4)\n",
    "table4"
   ]
  },
  {
   "cell_type": "code",
   "execution_count": 17,
   "id": "5e2b6fda-50fd-4340-8a28-ce9dc189ad92",
   "metadata": {},
   "outputs": [
    {
     "data": {
      "text/html": [
       "<div class=\"data-frame\"><p>4 rows × 5 columns</p><table class=\"data-frame\"><thead><tr><th></th><th>index</th><th>prior</th><th>likelihood</th><th>unnorm</th><th>posterior</th></tr><tr><th></th><th title=\"String\">String</th><th title=\"Float64\">Float64</th><th title=\"Int64\">Int64</th><th title=\"Float64\">Float64</th><th title=\"Float64\">Float64</th></tr></thead><tbody><tr><th>1</th><td>GG</td><td>0.25</td><td>1</td><td>0.25</td><td>0.333333</td></tr><tr><th>2</th><td>GB</td><td>0.25</td><td>1</td><td>0.25</td><td>0.333333</td></tr><tr><th>3</th><td>BG</td><td>0.25</td><td>1</td><td>0.25</td><td>0.333333</td></tr><tr><th>4</th><td>BB</td><td>0.25</td><td>0</td><td>0.0</td><td>0.0</td></tr></tbody></table></div>"
      ],
      "text/latex": [
       "\\begin{tabular}{r|ccccc}\n",
       "\t& index & prior & likelihood & unnorm & posterior\\\\\n",
       "\t\\hline\n",
       "\t& String & Float64 & Int64 & Float64 & Float64\\\\\n",
       "\t\\hline\n",
       "\t1 & GG & 0.25 & 1 & 0.25 & 0.333333 \\\\\n",
       "\t2 & GB & 0.25 & 1 & 0.25 & 0.333333 \\\\\n",
       "\t3 & BG & 0.25 & 1 & 0.25 & 0.333333 \\\\\n",
       "\t4 & BB & 0.25 & 0 & 0.0 & 0.0 \\\\\n",
       "\\end{tabular}\n"
      ],
      "text/plain": [
       "\u001b[1m4×5 DataFrame\u001b[0m\n",
       "\u001b[1m Row \u001b[0m│\u001b[1m index  \u001b[0m\u001b[1m prior   \u001b[0m\u001b[1m likelihood \u001b[0m\u001b[1m unnorm  \u001b[0m\u001b[1m posterior \u001b[0m\n",
       "\u001b[1m     \u001b[0m│\u001b[90m String \u001b[0m\u001b[90m Float64 \u001b[0m\u001b[90m Int64      \u001b[0m\u001b[90m Float64 \u001b[0m\u001b[90m Float64   \u001b[0m\n",
       "─────┼─────────────────────────────────────────────────\n",
       "   1 │ GG         0.25           1     0.25   0.333333\n",
       "   2 │ GB         0.25           1     0.25   0.333333\n",
       "   3 │ BG         0.25           1     0.25   0.333333\n",
       "   4 │ BB         0.25           0     0.0    0.0"
      ]
     },
     "execution_count": 17,
     "metadata": {},
     "output_type": "execute_result"
    }
   ],
   "source": [
    "table5 = DataFrame(index=[\"GG\", \"GB\", \"BG\", \"BB\"], prior = 1/4, likelihood = [1, 1, 1, 0])\n",
    "update(table5)\n",
    "table5"
   ]
  },
  {
   "cell_type": "code",
   "execution_count": 18,
   "id": "820ffbad-1044-4672-bf30-cae0f0aabfe0",
   "metadata": {},
   "outputs": [
    {
     "data": {
      "text/html": [
       "<div class=\"data-frame\"><p>3 rows × 5 columns</p><table class=\"data-frame\"><thead><tr><th></th><th>index</th><th>prior</th><th>likelihood</th><th>unnorm</th><th>posterior</th></tr><tr><th></th><th title=\"String\">String</th><th title=\"Float64\">Float64</th><th title=\"Int64\">Int64</th><th title=\"Float64\">Float64</th><th title=\"Float64\">Float64</th></tr></thead><tbody><tr><th>1</th><td>Door 1</td><td>0.333333</td><td>1</td><td>0.333333</td><td>0.5</td></tr><tr><th>2</th><td>Door 2</td><td>0.333333</td><td>0</td><td>0.0</td><td>0.0</td></tr><tr><th>3</th><td>Door 3</td><td>0.333333</td><td>1</td><td>0.333333</td><td>0.5</td></tr></tbody></table></div>"
      ],
      "text/latex": [
       "\\begin{tabular}{r|ccccc}\n",
       "\t& index & prior & likelihood & unnorm & posterior\\\\\n",
       "\t\\hline\n",
       "\t& String & Float64 & Int64 & Float64 & Float64\\\\\n",
       "\t\\hline\n",
       "\t1 & Door 1 & 0.333333 & 1 & 0.333333 & 0.5 \\\\\n",
       "\t2 & Door 2 & 0.333333 & 0 & 0.0 & 0.0 \\\\\n",
       "\t3 & Door 3 & 0.333333 & 1 & 0.333333 & 0.5 \\\\\n",
       "\\end{tabular}\n"
      ],
      "text/plain": [
       "\u001b[1m3×5 DataFrame\u001b[0m\n",
       "\u001b[1m Row \u001b[0m│\u001b[1m index  \u001b[0m\u001b[1m prior    \u001b[0m\u001b[1m likelihood \u001b[0m\u001b[1m unnorm   \u001b[0m\u001b[1m posterior \u001b[0m\n",
       "\u001b[1m     \u001b[0m│\u001b[90m String \u001b[0m\u001b[90m Float64  \u001b[0m\u001b[90m Int64      \u001b[0m\u001b[90m Float64  \u001b[0m\u001b[90m Float64   \u001b[0m\n",
       "─────┼───────────────────────────────────────────────────\n",
       "   1 │ Door 1  0.333333           1  0.333333        0.5\n",
       "   2 │ Door 2  0.333333           0  0.0             0.0\n",
       "   3 │ Door 3  0.333333           1  0.333333        0.5"
      ]
     },
     "execution_count": 18,
     "metadata": {},
     "output_type": "execute_result"
    }
   ],
   "source": [
    "# If the car is behind Door 1, Monty would always open Door 2 \n",
    "# If the car was behind Door 2, Monty would have opened Door 3\n",
    "# If the car is behind Door 3, Monty would always open Door 2\n",
    "\n",
    "table6 = DataFrame(index=[\"Door 1\", \"Door 2\", \"Door 3\"], prior = 1/3, likelihood = [1, 0, 1])\n",
    "update(table6)\n",
    "table6"
   ]
  },
  {
   "cell_type": "code",
   "execution_count": 19,
   "id": "f83d2d0e-a2e7-4f02-849f-13dc1071650b",
   "metadata": {},
   "outputs": [
    {
     "data": {
      "text/html": [
       "<div class=\"data-frame\"><p>3 rows × 5 columns</p><table class=\"data-frame\"><thead><tr><th></th><th>index</th><th>prior</th><th>likelihood</th><th>unnorm</th><th>posterior</th></tr><tr><th></th><th title=\"String\">String</th><th title=\"Float64\">Float64</th><th title=\"Int64\">Int64</th><th title=\"Float64\">Float64</th><th title=\"Float64\">Float64</th></tr></thead><tbody><tr><th>1</th><td>Door 1</td><td>0.333333</td><td>0</td><td>0.0</td><td>0.0</td></tr><tr><th>2</th><td>Door 2</td><td>0.333333</td><td>1</td><td>0.333333</td><td>1.0</td></tr><tr><th>3</th><td>Door 3</td><td>0.333333</td><td>0</td><td>0.0</td><td>0.0</td></tr></tbody></table></div>"
      ],
      "text/latex": [
       "\\begin{tabular}{r|ccccc}\n",
       "\t& index & prior & likelihood & unnorm & posterior\\\\\n",
       "\t\\hline\n",
       "\t& String & Float64 & Int64 & Float64 & Float64\\\\\n",
       "\t\\hline\n",
       "\t1 & Door 1 & 0.333333 & 0 & 0.0 & 0.0 \\\\\n",
       "\t2 & Door 2 & 0.333333 & 1 & 0.333333 & 1.0 \\\\\n",
       "\t3 & Door 3 & 0.333333 & 0 & 0.0 & 0.0 \\\\\n",
       "\\end{tabular}\n"
      ],
      "text/plain": [
       "\u001b[1m3×5 DataFrame\u001b[0m\n",
       "\u001b[1m Row \u001b[0m│\u001b[1m index  \u001b[0m\u001b[1m prior    \u001b[0m\u001b[1m likelihood \u001b[0m\u001b[1m unnorm   \u001b[0m\u001b[1m posterior \u001b[0m\n",
       "\u001b[1m     \u001b[0m│\u001b[90m String \u001b[0m\u001b[90m Float64  \u001b[0m\u001b[90m Int64      \u001b[0m\u001b[90m Float64  \u001b[0m\u001b[90m Float64   \u001b[0m\n",
       "─────┼───────────────────────────────────────────────────\n",
       "   1 │ Door 1  0.333333           0  0.0             0.0\n",
       "   2 │ Door 2  0.333333           1  0.333333        1.0\n",
       "   3 │ Door 3  0.333333           0  0.0             0.0"
      ]
     },
     "execution_count": 19,
     "metadata": {},
     "output_type": "execute_result"
    }
   ],
   "source": [
    "# If the car is behind Door 1, Monty would have opened Door 2\n",
    "# If the car is behind Door 2, Monty would always open Door 3\n",
    "# If the car is behind Door 3, Monty would have opened Door 2\n",
    "\n",
    "table7 = DataFrame(index=[\"Door 1\", \"Door 2\", \"Door 3\"], prior = 1/3, likelihood = [0, 1, 0])\n",
    "update(table7)\n",
    "table7"
   ]
  },
  {
   "cell_type": "code",
   "execution_count": 20,
   "id": "dd8d05c6-cdcf-4dd4-8719-df5ccfd2d4b3",
   "metadata": {},
   "outputs": [
    {
     "data": {
      "text/html": [
       "<div class=\"data-frame\"><p>2 rows × 5 columns</p><table class=\"data-frame\"><thead><tr><th></th><th>index</th><th>prior</th><th>likelihood</th><th>unnorm</th><th>posterior</th></tr><tr><th></th><th title=\"String\">String</th><th title=\"Float64\">Float64</th><th title=\"Float64\">Float64</th><th title=\"Float64\">Float64</th><th title=\"Float64\">Float64</th></tr></thead><tbody><tr><th>1</th><td>A</td><td>0.5</td><td>0.04</td><td>0.02</td><td>0.740741</td></tr><tr><th>2</th><td>B</td><td>0.5</td><td>0.014</td><td>0.007</td><td>0.259259</td></tr></tbody></table></div>"
      ],
      "text/latex": [
       "\\begin{tabular}{r|ccccc}\n",
       "\t& index & prior & likelihood & unnorm & posterior\\\\\n",
       "\t\\hline\n",
       "\t& String & Float64 & Float64 & Float64 & Float64\\\\\n",
       "\t\\hline\n",
       "\t1 & A & 0.5 & 0.04 & 0.02 & 0.740741 \\\\\n",
       "\t2 & B & 0.5 & 0.014 & 0.007 & 0.259259 \\\\\n",
       "\\end{tabular}\n"
      ],
      "text/plain": [
       "\u001b[1m2×5 DataFrame\u001b[0m\n",
       "\u001b[1m Row \u001b[0m│\u001b[1m index  \u001b[0m\u001b[1m prior   \u001b[0m\u001b[1m likelihood \u001b[0m\u001b[1m unnorm  \u001b[0m\u001b[1m posterior \u001b[0m\n",
       "\u001b[1m     \u001b[0m│\u001b[90m String \u001b[0m\u001b[90m Float64 \u001b[0m\u001b[90m Float64    \u001b[0m\u001b[90m Float64 \u001b[0m\u001b[90m Float64   \u001b[0m\n",
       "─────┼─────────────────────────────────────────────────\n",
       "   1 │ A           0.5       0.04     0.02    0.740741\n",
       "   2 │ B           0.5       0.014    0.007   0.259259"
      ]
     },
     "execution_count": 20,
     "metadata": {},
     "output_type": "execute_result"
    }
   ],
   "source": [
    "# Hypotheses:\n",
    "# A: yellow from 94, green from 96\n",
    "# B: yellow from 96, green from 94\n",
    "\n",
    "table8 = DataFrame(index=[\"A\", \"B\"], prior = 1/2, likelihood = [0.2*0.2, 0.14*0.1])\n",
    "update(table8)\n",
    "table8"
   ]
  }
 ],
 "metadata": {
  "kernelspec": {
   "display_name": "Julia 1.6.3",
   "language": "julia",
   "name": "julia-1.6"
  },
  "language_info": {
   "file_extension": ".jl",
   "mimetype": "application/julia",
   "name": "julia",
   "version": "1.6.3"
  }
 },
 "nbformat": 4,
 "nbformat_minor": 5
}
