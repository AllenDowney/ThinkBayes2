{
 "cells": [
  {
   "cell_type": "markdown",
   "metadata": {},
   "source": [
    "# Approximate Bayesian Computation"
   ]
  },
  {
   "cell_type": "markdown",
   "metadata": {
    "tags": [
     "remove-cell"
    ]
   },
   "source": [
    "Think Bayes, Second Edition\n",
    "\n",
    "Copyright 2020 Allen B. Downey\n",
    "\n",
    "License: [Attribution-NonCommercial-ShareAlike 4.0 International (CC BY-NC-SA 4.0)](https://creativecommons.org/licenses/by-nc-sa/4.0/)"
   ]
  },
  {
   "cell_type": "code",
   "execution_count": 1,
   "metadata": {
    "execution": {
     "iopub.execute_input": "2021-04-16T19:41:51.844006Z",
     "iopub.status.busy": "2021-04-16T19:41:51.843315Z",
     "iopub.status.idle": "2021-04-16T19:41:51.846056Z",
     "shell.execute_reply": "2021-04-16T19:41:51.845531Z"
    },
    "tags": [
     "remove-cell"
    ]
   },
   "outputs": [],
   "source": [
    "# If we're running on Colab, install libraries\n",
    "\n",
    "import sys\n",
    "IN_COLAB = 'google.colab' in sys.modules\n",
    "\n",
    "if IN_COLAB:\n",
    "    !pip install empiricaldist"
   ]
  },
  {
   "cell_type": "code",
   "execution_count": 2,
   "metadata": {
    "execution": {
     "iopub.execute_input": "2021-04-16T19:41:51.850496Z",
     "iopub.status.busy": "2021-04-16T19:41:51.849719Z",
     "iopub.status.idle": "2021-04-16T19:41:51.852344Z",
     "shell.execute_reply": "2021-04-16T19:41:51.851813Z"
    },
    "tags": [
     "remove-cell"
    ]
   },
   "outputs": [],
   "source": [
    "# Get utils.py\n",
    "\n",
    "from os.path import basename, exists\n",
    "\n",
    "def download(url):\n",
    "    filename = basename(url)\n",
    "    if not exists(filename):\n",
    "        from urllib.request import urlretrieve\n",
    "        local, _ = urlretrieve(url, filename)\n",
    "        print('Downloaded ' + local)\n",
    "    \n",
    "download('https://github.com/AllenDowney/ThinkBayes2/raw/master/soln/utils.py')"
   ]
  },
  {
   "cell_type": "code",
   "execution_count": 3,
   "metadata": {
    "execution": {
     "iopub.execute_input": "2021-04-16T19:41:51.856461Z",
     "iopub.status.busy": "2021-04-16T19:41:51.855818Z",
     "iopub.status.idle": "2021-04-16T19:41:52.549587Z",
     "shell.execute_reply": "2021-04-16T19:41:52.548943Z"
    },
    "tags": [
     "remove-cell"
    ]
   },
   "outputs": [
    {
     "name": "stderr",
     "output_type": "stream",
     "text": [
      "In /home/downey/anaconda3/envs/ThinkBayes2/lib/python3.8/site-packages/matplotlib/mpl-data/stylelib/_classic_test.mplstyle: \n",
      "The text.latex.preview rcparam was deprecated in Matplotlib 3.3 and will be removed two minor releases later.\n",
      "In /home/downey/anaconda3/envs/ThinkBayes2/lib/python3.8/site-packages/matplotlib/mpl-data/stylelib/_classic_test.mplstyle: \n",
      "The mathtext.fallback_to_cm rcparam was deprecated in Matplotlib 3.3 and will be removed two minor releases later.\n",
      "In /home/downey/anaconda3/envs/ThinkBayes2/lib/python3.8/site-packages/matplotlib/mpl-data/stylelib/_classic_test.mplstyle: Support for setting the 'mathtext.fallback_to_cm' rcParam is deprecated since 3.3 and will be removed two minor releases later; use 'mathtext.fallback : 'cm' instead.\n",
      "In /home/downey/anaconda3/envs/ThinkBayes2/lib/python3.8/site-packages/matplotlib/mpl-data/stylelib/_classic_test.mplstyle: \n",
      "The validate_bool_maybe_none function was deprecated in Matplotlib 3.3 and will be removed two minor releases later.\n",
      "In /home/downey/anaconda3/envs/ThinkBayes2/lib/python3.8/site-packages/matplotlib/mpl-data/stylelib/_classic_test.mplstyle: \n",
      "The savefig.jpeg_quality rcparam was deprecated in Matplotlib 3.3 and will be removed two minor releases later.\n",
      "In /home/downey/anaconda3/envs/ThinkBayes2/lib/python3.8/site-packages/matplotlib/mpl-data/stylelib/_classic_test.mplstyle: \n",
      "The keymap.all_axes rcparam was deprecated in Matplotlib 3.3 and will be removed two minor releases later.\n",
      "In /home/downey/anaconda3/envs/ThinkBayes2/lib/python3.8/site-packages/matplotlib/mpl-data/stylelib/_classic_test.mplstyle: \n",
      "The animation.avconv_path rcparam was deprecated in Matplotlib 3.3 and will be removed two minor releases later.\n",
      "In /home/downey/anaconda3/envs/ThinkBayes2/lib/python3.8/site-packages/matplotlib/mpl-data/stylelib/_classic_test.mplstyle: \n",
      "The animation.avconv_args rcparam was deprecated in Matplotlib 3.3 and will be removed two minor releases later.\n"
     ]
    }
   ],
   "source": [
    "from utils import set_pyplot_params\n",
    "set_pyplot_params()"
   ]
  },
  {
   "cell_type": "markdown",
   "metadata": {},
   "source": [
    "This chapter introduces a method of last resort for the most complex problems, Approximate Bayesian Computation (ABC).\n",
    "I say it is a last resort because it usually requires more computation than other methods, so if you can solve a problem any other way, you should.\n",
    "However, for the examples in this chapter, ABC is not just easy to implement; it is also efficient.\n",
    "\n",
    "The first example is my solution to a problem posed by a patient\n",
    "with a kidney tumor.\n",
    "I use data from a medical journal to model tumor growth, and use simulations to estimate the age of a tumor based on its size.\n",
    "\n",
    "The second example is a model of cell counting, which has applications in biology, medicine, and zymurgy (beer-making).\n",
    "Given a cell count from a diluted sample, we estimate the concentration of cells.\n",
    "\n",
    "Finally, as an exercise, you'll have a chance to work on a fun sock-counting problem.\n"
   ]
  },
  {
   "cell_type": "markdown",
   "metadata": {},
   "source": [
    "## The Kidney Tumor Problem\n",
    "\n",
    "I am a frequent reader and occasional contributor to the online\n",
    "statistics forum at <http://reddit.com/r/statistics>. \n",
    "In November 2011, I read the following message:\n",
    "\n",
    "> \"I have Stage IV Kidney Cancer and am trying to determine if the cancer formed before I retired from the military. ... Given the dates of retirement and detection is it possible to determine when there was a 50/50 chance that I developed the disease? Is it possible to determine the probability on the retirement date? My tumor was 15.5 cm x 15 cm at detection. Grade II.\"\n",
    "\n",
    "I contacted the author of the message to get more information; I\n",
    "learned that veterans get different benefits if it is \"more likely than not\" that a tumor formed while they were in military service (among other considerations).\n",
    "So I agree to help him answer his question.\n",
    "\n",
    "Because renal tumors grow slowly, and often do not cause symptoms, they are sometimes left untreated. As a result, doctors can observe the rate of growth for untreated tumors by comparing scans from the same patient at different times. Several papers have reported these growth rates.\n",
    "\n",
    "For my analysis I used data from a paper by [Zhang et al](https://pubs.rsna.org/doi/full/10.1148/radiol.2501071712). \n",
    "They report growth rates in two forms:\n",
    "\n",
    "* Volumetric doubling time, which is the time it would take for a tumor to double in size.\n",
    "\n",
    "* Reciprocal doubling time (RDT), which is the number of doublings per year.\n",
    "\n",
    "The next section shows how we work with these growth rates."
   ]
  },
  {
   "cell_type": "markdown",
   "metadata": {
    "tags": [
     "hide-cell"
    ]
   },
   "source": [
    "Zhang et al, Distribution of Renal Tumor Growth Rates Determined\n",
    "    by Using Serial Volumetric CT Measurements, January 2009\n",
    "    *Radiology*, 250, 137-144.\n",
    "    \n",
    "https://pubs.rsna.org/doi/full/10.1148/radiol.2501071712"
   ]
  },
  {
   "cell_type": "markdown",
   "metadata": {},
   "source": [
    "## A Simple Growth Model\n",
    "\n",
    "We'll start with a simple model of tumor growth based on two assumptions:\n",
    "\n",
    "* Tumors grow with a constant doubling time, and \n",
    "\n",
    "* They are roughly spherical in shape.\n",
    "\n",
    "And I'll define two points in time:\n",
    "\n",
    "* `t1` is when my correspondent retired.\n",
    "\n",
    "* `t2` is when the tumor was detected.\n",
    "\n",
    "The time between `t1` and `t2` was about 9.0 years.\n",
    "As an example, let's assume that the diameter of the tumor was 1 cm at `t1`, and estimate its size at `t2`.\n",
    "\n",
    "I'll use the following function to compute the volume of a sphere with a given diameter."
   ]
  },
  {
   "cell_type": "code",
   "execution_count": 4,
   "metadata": {
    "execution": {
     "iopub.execute_input": "2021-04-16T19:41:52.553341Z",
     "iopub.status.busy": "2021-04-16T19:41:52.552758Z",
     "iopub.status.idle": "2021-04-16T19:41:52.555050Z",
     "shell.execute_reply": "2021-04-16T19:41:52.554605Z"
    }
   },
   "outputs": [],
   "source": [
    "import numpy as np\n",
    "\n",
    "def calc_volume(diameter):\n",
    "    \"\"\"Converts a diameter to a volume.\"\"\"\n",
    "    factor = 4 * np.pi / 3\n",
    "    return factor * (diameter/2.0)**3"
   ]
  },
  {
   "cell_type": "markdown",
   "metadata": {},
   "source": [
    "Assuming that the tumor is spherical, we can compute its volume at `t1`."
   ]
  },
  {
   "cell_type": "code",
   "execution_count": 5,
   "metadata": {
    "execution": {
     "iopub.execute_input": "2021-04-16T19:41:52.560317Z",
     "iopub.status.busy": "2021-04-16T19:41:52.559803Z",
     "iopub.status.idle": "2021-04-16T19:41:52.562340Z",
     "shell.execute_reply": "2021-04-16T19:41:52.562692Z"
    }
   },
   "outputs": [
    {
     "data": {
      "text/plain": [
       "0.5235987755982988"
      ]
     },
     "execution_count": 5,
     "metadata": {},
     "output_type": "execute_result"
    }
   ],
   "source": [
    "d1 = 1\n",
    "v1 = calc_volume(d1)\n",
    "v1"
   ]
  },
  {
   "cell_type": "markdown",
   "metadata": {},
   "source": [
    "The median volume doubling time reported by Zhang et al. is 811 days, which corresponds to an RDT of 0.45 doublings per year."
   ]
  },
  {
   "cell_type": "code",
   "execution_count": 6,
   "metadata": {
    "execution": {
     "iopub.execute_input": "2021-04-16T19:41:52.566541Z",
     "iopub.status.busy": "2021-04-16T19:41:52.565998Z",
     "iopub.status.idle": "2021-04-16T19:41:52.568663Z",
     "shell.execute_reply": "2021-04-16T19:41:52.568289Z"
    }
   },
   "outputs": [
    {
     "data": {
      "text/plain": [
       "0.45006165228113443"
      ]
     },
     "execution_count": 6,
     "metadata": {},
     "output_type": "execute_result"
    }
   ],
   "source": [
    "median_doubling_time = 811\n",
    "rdt = 365 / median_doubling_time\n",
    "rdt"
   ]
  },
  {
   "cell_type": "markdown",
   "metadata": {},
   "source": [
    "We can compute the number of doublings that would have happened in the interval between `t1` and `t2`:"
   ]
  },
  {
   "cell_type": "code",
   "execution_count": 7,
   "metadata": {
    "execution": {
     "iopub.execute_input": "2021-04-16T19:41:52.571772Z",
     "iopub.status.busy": "2021-04-16T19:41:52.571326Z",
     "iopub.status.idle": "2021-04-16T19:41:52.574266Z",
     "shell.execute_reply": "2021-04-16T19:41:52.573874Z"
    }
   },
   "outputs": [
    {
     "data": {
      "text/plain": [
       "4.05055487053021"
      ]
     },
     "execution_count": 7,
     "metadata": {},
     "output_type": "execute_result"
    }
   ],
   "source": [
    "interval = 9.0\n",
    "doublings = interval * rdt\n",
    "doublings"
   ]
  },
  {
   "cell_type": "markdown",
   "metadata": {},
   "source": [
    "Given `v1` and the number of doublings, we can compute the volume at `t2`."
   ]
  },
  {
   "cell_type": "code",
   "execution_count": 8,
   "metadata": {
    "execution": {
     "iopub.execute_input": "2021-04-16T19:41:52.577514Z",
     "iopub.status.busy": "2021-04-16T19:41:52.576916Z",
     "iopub.status.idle": "2021-04-16T19:41:52.579959Z",
     "shell.execute_reply": "2021-04-16T19:41:52.580427Z"
    }
   },
   "outputs": [
    {
     "data": {
      "text/plain": [
       "8.676351488087187"
      ]
     },
     "execution_count": 8,
     "metadata": {},
     "output_type": "execute_result"
    }
   ],
   "source": [
    "v2 = v1 * 2**doublings\n",
    "v2"
   ]
  },
  {
   "cell_type": "markdown",
   "metadata": {},
   "source": [
    "The following function computes the diameter of a sphere with the given volume."
   ]
  },
  {
   "cell_type": "code",
   "execution_count": 9,
   "metadata": {
    "execution": {
     "iopub.execute_input": "2021-04-16T19:41:52.584716Z",
     "iopub.status.busy": "2021-04-16T19:41:52.584090Z",
     "iopub.status.idle": "2021-04-16T19:41:52.586232Z",
     "shell.execute_reply": "2021-04-16T19:41:52.586737Z"
    }
   },
   "outputs": [],
   "source": [
    "def calc_diameter(volume):\n",
    "    \"\"\"Converts a volume to a diameter.\"\"\"\n",
    "    factor = 3 / np.pi / 4\n",
    "    return 2 * (factor * volume)**(1/3)"
   ]
  },
  {
   "cell_type": "markdown",
   "metadata": {},
   "source": [
    "So we can compute the diameter of the tumor at `t2`:"
   ]
  },
  {
   "cell_type": "code",
   "execution_count": 10,
   "metadata": {
    "execution": {
     "iopub.execute_input": "2021-04-16T19:41:52.591419Z",
     "iopub.status.busy": "2021-04-16T19:41:52.590657Z",
     "iopub.status.idle": "2021-04-16T19:41:52.593714Z",
     "shell.execute_reply": "2021-04-16T19:41:52.594212Z"
    }
   },
   "outputs": [
    {
     "data": {
      "text/plain": [
       "2.5494480788327483"
      ]
     },
     "execution_count": 10,
     "metadata": {},
     "output_type": "execute_result"
    }
   ],
   "source": [
    "d2 = calc_diameter(v2)\n",
    "d2"
   ]
  },
  {
   "cell_type": "markdown",
   "metadata": {},
   "source": [
    "If the diameter of the tumor was 1 cm at `t1`, and it grew at the median rate, the diameter would be about 2.5 cm at `t2`.\n",
    "\n",
    "This example demonstrates the growth model, but it doesn't answer the question my correspondent posed."
   ]
  },
  {
   "cell_type": "markdown",
   "metadata": {},
   "source": [
    "## A More General Model\n",
    "\n",
    "Given the size of a tumor at time of diagnosis, we would like to know the distribution of its age.\n",
    "To find it, we'll run simulations of tumor growth to get the distribution of size conditioned on age. \n",
    "Then we'll compute the distribution of age conditioned on size.\n",
    "\n",
    "The simulation starts with a small tumor and runs these steps:\n",
    "\n",
    "1.  Choose a value from the distribution of growth rates.\n",
    "\n",
    "2.  Compute the size of the tumor at the end of an interval.\n",
    "\n",
    "3.  Repeat until the tumor exceeds the maximum relevant size.\n",
    "\n",
    "So the first thing we need is the distribution of growth rates."
   ]
  },
  {
   "cell_type": "markdown",
   "metadata": {},
   "source": [
    "Using the figures in the paper by Zhange et al., I created an array, `rdt_sample`, that contains estimated values of RDT for the 53 patients in the study.\n",
    "\n",
    "Again, RDT stands for \"reciprocal doubling time\", which is in doublings per year.\n",
    "So if `rdt=1`, a tumor would double in volume in one year.\n",
    "If `rdt=2`, it would double twice; that is, the volume would quadruple.\n",
    "And if `rdt=-1`, it would halve in volume."
   ]
  },
  {
   "cell_type": "code",
   "execution_count": 11,
   "metadata": {
    "execution": {
     "iopub.execute_input": "2021-04-16T19:41:52.599936Z",
     "iopub.status.busy": "2021-04-16T19:41:52.599340Z",
     "iopub.status.idle": "2021-04-16T19:41:52.606276Z",
     "shell.execute_reply": "2021-04-16T19:41:52.606689Z"
    },
    "tags": [
     "remove-cell"
    ]
   },
   "outputs": [
    {
     "data": {
      "text/plain": [
       "53"
      ]
     },
     "execution_count": 11,
     "metadata": {},
     "output_type": "execute_result"
    }
   ],
   "source": [
    "# Data from the histogram in Figure 3\n",
    "\n",
    "import numpy as np\n",
    "from empiricaldist import Pmf\n",
    "\n",
    "counts = [2, 29, 11, 6, 3, 1, 1]\n",
    "rdts = np.arange(-1, 6) + 0.01\n",
    "pmf_rdt = Pmf(counts, rdts)\n",
    "pmf_rdt.normalize()"
   ]
  },
  {
   "cell_type": "code",
   "execution_count": 12,
   "metadata": {
    "execution": {
     "iopub.execute_input": "2021-04-16T19:41:52.612166Z",
     "iopub.status.busy": "2021-04-16T19:41:52.611547Z",
     "iopub.status.idle": "2021-04-16T19:41:52.614310Z",
     "shell.execute_reply": "2021-04-16T19:41:52.613940Z"
    },
    "tags": [
     "hide-cell"
    ]
   },
   "outputs": [
    {
     "data": {
      "text/plain": [
       "53"
      ]
     },
     "execution_count": 12,
     "metadata": {},
     "output_type": "execute_result"
    }
   ],
   "source": [
    "# Data from the scatter plot in Figure 4\n",
    "\n",
    "rdts = [5.089,  3.572,  3.242,  2.642,  1.982,  1.847,  1.908,  1.798,\n",
    "        1.798,  1.761,  2.703, -0.416,  0.024,  0.869,  0.746,  0.257,\n",
    "        0.269,  0.086,  0.086,  1.321,  1.052,  1.076,  0.758,  0.587,\n",
    "        0.367,  0.416,  0.073,  0.538,  0.281,  0.122, -0.869, -1.431,\n",
    "        0.012,  0.037, -0.135,  0.122,  0.208,  0.245,  0.404,  0.648,\n",
    "        0.673,  0.673,  0.563,  0.391,  0.049,  0.538,  0.514,  0.404,\n",
    "        0.404,  0.33,  -0.061,  0.538,  0.306]\n",
    "\n",
    "rdt_sample = np.array(rdts)\n",
    "len(rdt_sample)"
   ]
  },
  {
   "cell_type": "markdown",
   "metadata": {},
   "source": [
    "We can use the sample of RDTs to estimate the PDF of the distribution."
   ]
  },
  {
   "cell_type": "code",
   "execution_count": 13,
   "metadata": {
    "execution": {
     "iopub.execute_input": "2021-04-16T19:41:52.619256Z",
     "iopub.status.busy": "2021-04-16T19:41:52.618756Z",
     "iopub.status.idle": "2021-04-16T19:41:52.620385Z",
     "shell.execute_reply": "2021-04-16T19:41:52.620736Z"
    }
   },
   "outputs": [],
   "source": [
    "from utils import kde_from_sample\n",
    "\n",
    "qs = np.linspace(-2, 6, num=201)\n",
    "pmf_rdt = kde_from_sample(rdt_sample, qs)"
   ]
  },
  {
   "cell_type": "code",
   "execution_count": 14,
   "metadata": {
    "execution": {
     "iopub.execute_input": "2021-04-16T19:41:52.625269Z",
     "iopub.status.busy": "2021-04-16T19:41:52.624587Z",
     "iopub.status.idle": "2021-04-16T19:41:52.627265Z",
     "shell.execute_reply": "2021-04-16T19:41:52.627710Z"
    },
    "tags": [
     "remove-cell"
    ]
   },
   "outputs": [
    {
     "data": {
      "text/plain": [
       "651.7857142857142"
      ]
     },
     "execution_count": 14,
     "metadata": {},
     "output_type": "execute_result"
    }
   ],
   "source": [
    "1 / pmf_rdt.median() * 365"
   ]
  },
  {
   "cell_type": "markdown",
   "metadata": {},
   "source": [
    "Here's what it looks like."
   ]
  },
  {
   "cell_type": "code",
   "execution_count": 15,
   "metadata": {
    "execution": {
     "iopub.execute_input": "2021-04-16T19:41:52.632230Z",
     "iopub.status.busy": "2021-04-16T19:41:52.631295Z",
     "iopub.status.idle": "2021-04-16T19:41:52.839571Z",
     "shell.execute_reply": "2021-04-16T19:41:52.839060Z"
    },
    "tags": [
     "hide-input"
    ]
   },
   "outputs": [
    {
     "data": {
      "image/png": "[encoded data removed]",
      "text/plain": [
       "<Figure size 432x288 with 1 Axes>"
      ]
     },
     "metadata": {
      "needs_background": "light"
     },
     "output_type": "display_data"
    }
   ],
   "source": [
    "from utils import decorate\n",
    "\n",
    "pmf_rdt.plot(label='rdts')\n",
    "\n",
    "decorate(xlabel='Reciprocal doubling time (RDT)',\n",
    "         ylabel='PDF',\n",
    "         title='Distribution of growth rates')"
   ]
  },
  {
   "cell_type": "markdown",
   "metadata": {},
   "source": [
    "In the next section we will use this distribution to simulate tumor growth. "
   ]
  },
  {
   "cell_type": "markdown",
   "metadata": {},
   "source": [
    "## Simulation\n",
    "\n",
    "Now we're ready to run the simulations.\n",
    "Starting with a small tumor, we'll simulate a series of intervals until the tumor reaches a maximum size.\n",
    "\n",
    "At the beginning of each simulated interval, we'll choose a value from the distribution of growth rates and compute the size of the tumor at the end.\n",
    "\n",
    "I chose an interval of 245 days (about 8 months) because that is the\n",
    "median time between measurements in the data source\n",
    "\n",
    "For the initial diameter I chose 0.3 cm, because carcinomas smaller than that are less likely to be invasive and less likely to have the blood supply needed for rapid growth (see [this page on carcinoma](http://en.wikipedia.org/wiki/Carcinoma_in_situ)).\n",
    "For the maximum diameter I chose 20 cm. "
   ]
  },
  {
   "cell_type": "code",
   "execution_count": 16,
   "metadata": {
    "execution": {
     "iopub.execute_input": "2021-04-16T19:41:52.842953Z",
     "iopub.status.busy": "2021-04-16T19:41:52.842531Z",
     "iopub.status.idle": "2021-04-16T19:41:52.845337Z",
     "shell.execute_reply": "2021-04-16T19:41:52.844751Z"
    }
   },
   "outputs": [],
   "source": [
    "interval = 245 / 365      # year\n",
    "min_diameter = 0.3        # cm\n",
    "max_diameter = 20         # cm"
   ]
  },
  {
   "cell_type": "markdown",
   "metadata": {},
   "source": [
    "I'll use `calc_volume` to compute the initial and maximum volumes:"
   ]
  },
  {
   "cell_type": "code",
   "execution_count": 17,
   "metadata": {
    "execution": {
     "iopub.execute_input": "2021-04-16T19:41:52.850568Z",
     "iopub.status.busy": "2021-04-16T19:41:52.849935Z",
     "iopub.status.idle": "2021-04-16T19:41:52.855403Z",
     "shell.execute_reply": "2021-04-16T19:41:52.854810Z"
    }
   },
   "outputs": [
    {
     "data": {
      "text/plain": [
       "(0.014137166941154066, 4188.790204786391)"
      ]
     },
     "execution_count": 17,
     "metadata": {},
     "output_type": "execute_result"
    }
   ],
   "source": [
    "v0 = calc_volume(min_diameter)\n",
    "vmax = calc_volume(max_diameter)\n",
    "v0, vmax"
   ]
  },
  {
   "cell_type": "markdown",
   "metadata": {},
   "source": [
    "The following function runs the simulation."
   ]
  },
  {
   "cell_type": "code",
   "execution_count": 18,
   "metadata": {
    "execution": {
     "iopub.execute_input": "2021-04-16T19:41:52.861678Z",
     "iopub.status.busy": "2021-04-16T19:41:52.860787Z",
     "iopub.status.idle": "2021-04-16T19:41:52.863092Z",
     "shell.execute_reply": "2021-04-16T19:41:52.863555Z"
    }
   },
   "outputs": [],
   "source": [
    "import pandas as pd\n",
    "\n",
    "def simulate_growth(pmf_rdt):\n",
    "    \"\"\"Simulate the growth of a tumor.\"\"\"\n",
    "    age = 0\n",
    "    volume = v0\n",
    "    res = []\n",
    "    \n",
    "    while True:\n",
    "        res.append((age, volume))\n",
    "        if volume > vmax:\n",
    "            break\n",
    "\n",
    "        rdt = pmf_rdt.choice()\n",
    "        age += interval \n",
    "        doublings = rdt * interval\n",
    "        volume *= 2**doublings\n",
    "        \n",
    "    columns = ['age', 'volume']\n",
    "    sim = pd.DataFrame(res, columns=columns)\n",
    "    sim['diameter'] = calc_diameter(sim['volume'])\n",
    "    return sim"
   ]
  },
  {
   "cell_type": "markdown",
   "metadata": {},
   "source": [
    "`simulate_growth` takes as a parameter a `Pmf` that represents the distribution of RDT.\n",
    "It initializes the age and volume of the tumor, then runs a loop that simulates one interval at a time.\n",
    "\n",
    "Each time through the loop, it checks the volume of the tumor and exits if it exceeds `vmax`.\n",
    "\n",
    "Otherwise it chooses a value from `pmf_rdt` and updates `age` and `volume`.  Since `rdt` is in doublings per year, we multiply by `interval` to compute the number of doublings during each interval.\n",
    "\n",
    "At the end of the loop, `simulate_growth` puts the results in a `DataFrame` and computes the diameter that corresponds to each volume.\n",
    "\n",
    "Here's how we call this function:"
   ]
  },
  {
   "cell_type": "code",
   "execution_count": 19,
   "metadata": {
    "execution": {
     "iopub.execute_input": "2021-04-16T19:41:52.867352Z",
     "iopub.status.busy": "2021-04-16T19:41:52.866802Z",
     "iopub.status.idle": "2021-04-16T19:41:52.869469Z",
     "shell.execute_reply": "2021-04-16T19:41:52.868926Z"
    },
    "tags": [
     "remove-cell"
    ]
   },
   "outputs": [],
   "source": [
    "np.random.seed(17)"
   ]
  },
  {
   "cell_type": "code",
   "execution_count": 20,
   "metadata": {
    "execution": {
     "iopub.execute_input": "2021-04-16T19:41:52.874628Z",
     "iopub.status.busy": "2021-04-16T19:41:52.873934Z",
     "iopub.status.idle": "2021-04-16T19:41:52.883136Z",
     "shell.execute_reply": "2021-04-16T19:41:52.882586Z"
    }
   },
   "outputs": [],
   "source": [
    "sim = simulate_growth(pmf_rdt)"
   ]
  },
  {
   "cell_type": "markdown",
   "metadata": {},
   "source": [
    "Here are the results for the first few intervals:"
   ]
  },
  {
   "cell_type": "code",
   "execution_count": 21,
   "metadata": {
    "execution": {
     "iopub.execute_input": "2021-04-16T19:41:52.887549Z",
     "iopub.status.busy": "2021-04-16T19:41:52.887004Z",
     "iopub.status.idle": "2021-04-16T19:41:52.895537Z",
     "shell.execute_reply": "2021-04-16T19:41:52.895988Z"
    }
   },
   "outputs": [
    {
     "data": {
      "text/html": [
       "<div>\n",
       "<style scoped>\n",
       "    .dataframe tbody tr th:only-of-type {\n",
       "        vertical-align: middle;\n",
       "    }\n",
       "\n",
       "    .dataframe tbody tr th {\n",
       "        vertical-align: top;\n",
       "    }\n",
       "\n",
       "    .dataframe thead th {\n",
       "        text-align: right;\n",
       "    }\n",
       "</style>\n",
       "<table border=\"1\" class=\"dataframe\">\n",
       "  <thead>\n",
       "    <tr style=\"text-align: right;\">\n",
       "      <th></th>\n",
       "      <th>age</th>\n",
       "      <th>volume</th>\n",
       "      <th>diameter</th>\n",
       "    </tr>\n",
       "  </thead>\n",
       "  <tbody>\n",
       "    <tr>\n",
       "      <th>0</th>\n",
       "      <td>0.000000</td>\n",
       "      <td>0.014137</td>\n",
       "      <td>0.300000</td>\n",
       "    </tr>\n",
       "    <tr>\n",
       "      <th>1</th>\n",
       "      <td>0.671233</td>\n",
       "      <td>0.014949</td>\n",
       "      <td>0.305635</td>\n",
       "    </tr>\n",
       "    <tr>\n",
       "      <th>2</th>\n",
       "      <td>1.342466</td>\n",
       "      <td>0.019763</td>\n",
       "      <td>0.335441</td>\n",
       "    </tr>\n",
       "  </tbody>\n",
       "</table>\n",
       "</div>"
      ],
      "text/plain": [
       "        age    volume  diameter\n",
       "0  0.000000  0.014137  0.300000\n",
       "1  0.671233  0.014949  0.305635\n",
       "2  1.342466  0.019763  0.335441"
      ]
     },
     "execution_count": 21,
     "metadata": {},
     "output_type": "execute_result"
    }
   ],
   "source": [
    "sim.head(3)"
   ]
  },
  {
   "cell_type": "markdown",
   "metadata": {},
   "source": [
    "And the last few intervals."
   ]
  },
  {
   "cell_type": "code",
   "execution_count": 22,
   "metadata": {
    "execution": {
     "iopub.execute_input": "2021-04-16T19:41:52.902596Z",
     "iopub.status.busy": "2021-04-16T19:41:52.902080Z",
     "iopub.status.idle": "2021-04-16T19:41:52.904533Z",
     "shell.execute_reply": "2021-04-16T19:41:52.904879Z"
    }
   },
   "outputs": [
    {
     "data": {
      "text/html": [
       "<div>\n",
       "<style scoped>\n",
       "    .dataframe tbody tr th:only-of-type {\n",
       "        vertical-align: middle;\n",
       "    }\n",
       "\n",
       "    .dataframe tbody tr th {\n",
       "        vertical-align: top;\n",
       "    }\n",
       "\n",
       "    .dataframe thead th {\n",
       "        text-align: right;\n",
       "    }\n",
       "</style>\n",
       "<table border=\"1\" class=\"dataframe\">\n",
       "  <thead>\n",
       "    <tr style=\"text-align: right;\">\n",
       "      <th></th>\n",
       "      <th>age</th>\n",
       "      <th>volume</th>\n",
       "      <th>diameter</th>\n",
       "    </tr>\n",
       "  </thead>\n",
       "  <tbody>\n",
       "    <tr>\n",
       "      <th>43</th>\n",
       "      <td>28.863014</td>\n",
       "      <td>1882.067427</td>\n",
       "      <td>15.318357</td>\n",
       "    </tr>\n",
       "    <tr>\n",
       "      <th>44</th>\n",
       "      <td>29.534247</td>\n",
       "      <td>2887.563277</td>\n",
       "      <td>17.667603</td>\n",
       "    </tr>\n",
       "    <tr>\n",
       "      <th>45</th>\n",
       "      <td>30.205479</td>\n",
       "      <td>4953.618273</td>\n",
       "      <td>21.149883</td>\n",
       "    </tr>\n",
       "  </tbody>\n",
       "</table>\n",
       "</div>"
      ],
      "text/plain": [
       "          age       volume   diameter\n",
       "43  28.863014  1882.067427  15.318357\n",
       "44  29.534247  2887.563277  17.667603\n",
       "45  30.205479  4953.618273  21.149883"
      ]
     },
     "execution_count": 22,
     "metadata": {},
     "output_type": "execute_result"
    }
   ],
   "source": [
    "sim.tail(3)"
   ]
  },
  {
   "cell_type": "markdown",
   "metadata": {},
   "source": [
    "To show the results graphically, I'll run 101 simulations:"
   ]
  },
  {
   "cell_type": "code",
   "execution_count": 23,
   "metadata": {
    "execution": {
     "iopub.execute_input": "2021-04-16T19:41:52.908057Z",
     "iopub.status.busy": "2021-04-16T19:41:52.907618Z",
     "iopub.status.idle": "2021-04-16T19:41:52.909349Z",
     "shell.execute_reply": "2021-04-16T19:41:52.909718Z"
    },
    "tags": [
     "remove-cell"
    ]
   },
   "outputs": [],
   "source": [
    "np.random.seed(17)"
   ]
  },
  {
   "cell_type": "code",
   "execution_count": 24,
   "metadata": {
    "execution": {
     "iopub.execute_input": "2021-04-16T19:41:52.913652Z",
     "iopub.status.busy": "2021-04-16T19:41:52.913163Z",
     "iopub.status.idle": "2021-04-16T19:41:53.164914Z",
     "shell.execute_reply": "2021-04-16T19:41:53.165292Z"
    }
   },
   "outputs": [],
   "source": [
    "sims = [simulate_growth(pmf_rdt) for _ in range(101)]"
   ]
  },
  {
   "cell_type": "markdown",
   "metadata": {},
   "source": [
    "And plot the results."
   ]
  },
  {
   "cell_type": "code",
   "execution_count": 25,
   "metadata": {
    "execution": {
     "iopub.execute_input": "2021-04-16T19:41:53.189541Z",
     "iopub.status.busy": "2021-04-16T19:41:53.185173Z",
     "iopub.status.idle": "2021-04-16T19:41:53.780985Z",
     "shell.execute_reply": "2021-04-16T19:41:53.781369Z"
    },
    "tags": [
     "hide-input"
    ]
   },
   "outputs": [
    {
     "data": {
      "image/png": "[encoded data removed]",
      "text/plain": [
       "<Figure size 432x288 with 1 Axes>"
      ]
     },
     "metadata": {
      "needs_background": "light"
     },
     "output_type": "display_data"
    }
   ],
   "source": [
    "import matplotlib.pyplot as plt\n",
    "\n",
    "diameters = [4, 8, 16]\n",
    "for diameter in diameters:\n",
    "    plt.axhline(diameter,\n",
    "                color='C5', linewidth=2, ls=':')\n",
    "\n",
    "for sim in sims:\n",
    "    plt.plot(sim['age'], sim['diameter'],\n",
    "             color='C1', linewidth=0.5, alpha=0.5)\n",
    "    \n",
    "decorate(xlabel='Tumor age (years)',\n",
    "         ylabel='Diameter (cm, log scale)',\n",
    "         ylim=[0.2, 20],\n",
    "         yscale='log')\n",
    "\n",
    "yticks = [0.2, 0.5, 1, 2, 5, 10, 20]\n",
    "plt.yticks(yticks, yticks);"
   ]
  },
  {
   "cell_type": "markdown",
   "metadata": {},
   "source": [
    "In this figure, each thin, solid line shows the simulated growth of a tumor over time, with diameter on a log scale.\n",
    "The dotted lines are at 4, 8, and 16 cm.\n",
    "\n",
    "By reading across the dotted lines, you can get a sense of the distribution of age at each size.\n",
    "For example, reading across the top line, we see that the age of a 16 cm tumor might be as low 10 years or as high as 40 years, but it is most likely to be between 15 and 30.\n",
    "\n",
    "To compute this distribution more precisely, we can interpolate the growth curves to see when each one passes through a given size.\n",
    "The following function takes the results of the simulations and returns the age when each tumor reached a given diameter."
   ]
  },
  {
   "cell_type": "code",
   "execution_count": 26,
   "metadata": {
    "execution": {
     "iopub.execute_input": "2021-04-16T19:41:53.785378Z",
     "iopub.status.busy": "2021-04-16T19:41:53.784796Z",
     "iopub.status.idle": "2021-04-16T19:41:53.786486Z",
     "shell.execute_reply": "2021-04-16T19:41:53.786833Z"
    }
   },
   "outputs": [],
   "source": [
    "from scipy.interpolate import interp1d\n",
    "\n",
    "def interpolate_ages(sims, diameter):\n",
    "    \"\"\"Estimate the age when each tumor reached a given size.\"\"\"\n",
    "    ages = []\n",
    "    for sim in sims:\n",
    "        interp = interp1d(sim['diameter'], sim['age'])\n",
    "        age = interp(diameter)\n",
    "        ages.append(float(age))\n",
    "    return ages"
   ]
  },
  {
   "cell_type": "markdown",
   "metadata": {},
   "source": [
    "We can call this function like this:"
   ]
  },
  {
   "cell_type": "code",
   "execution_count": 27,
   "metadata": {
    "execution": {
     "iopub.execute_input": "2021-04-16T19:41:53.805598Z",
     "iopub.status.busy": "2021-04-16T19:41:53.805034Z",
     "iopub.status.idle": "2021-04-16T19:41:53.807918Z",
     "shell.execute_reply": "2021-04-16T19:41:53.808340Z"
    }
   },
   "outputs": [
    {
     "name": "stdout",
     "output_type": "stream",
     "text": [
      "22.31854530374061 [13.47056554 34.49632276]\n"
     ]
    }
   ],
   "source": [
    "from empiricaldist import Cdf\n",
    "\n",
    "ages = interpolate_ages(sims, 15)\n",
    "cdf = Cdf.from_seq(ages)\n",
    "print(cdf.median(), cdf.credible_interval(0.9))"
   ]
  },
  {
   "cell_type": "markdown",
   "metadata": {},
   "source": [
    "For a tumor 15 cm in diameter, the median age is about 22 years, the 90% credible interval is between 13 and 34 years, and the probability that it formed less than 9 years ago is less than 1%."
   ]
  },
  {
   "cell_type": "code",
   "execution_count": 28,
   "metadata": {
    "execution": {
     "iopub.execute_input": "2021-04-16T19:41:53.812244Z",
     "iopub.status.busy": "2021-04-16T19:41:53.811688Z",
     "iopub.status.idle": "2021-04-16T19:41:53.814099Z",
     "shell.execute_reply": "2021-04-16T19:41:53.814464Z"
    }
   },
   "outputs": [
    {
     "data": {
      "text/plain": [
       "0.9900990099009901"
      ]
     },
     "execution_count": 28,
     "metadata": {},
     "output_type": "execute_result"
    }
   ],
   "source": [
    "1 - cdf(9.0)"
   ]
  },
  {
   "cell_type": "markdown",
   "metadata": {},
   "source": [
    "But this result is based on two modeling decisions that are potentially problematic:\n",
    "\n",
    "* In the simulations, growth rate during each interval is independent of previous growth rates. In reality it is plausible that tumors that have grown quickly in the past are likely to grow quickly in the future. In other words, there is probably a serial correlation in growth rate.\n",
    "\n",
    "* To convert from linear measure to volume, we assume that tumors are approximately spherical.\n",
    "\n",
    "In additional experiments, I implemented a simulation that chooses growth rates with serial correlation; the effect is that the fast-growing tumors grow faster and the slow-growing tumors grow slower.\n",
    "Nevertheless, with moderate correlation (0.5), the probability that a 15 cm tumor is less than 9 years old is only about 1%. \n",
    "\n",
    "The assumption that tumors are spherical is probably fine for tumors up to a few centimeters, but not for a tumor with linear dimensions 15.5 x 15 cm.\n",
    "If, as seems likely, a tumor this size is relatively flat, it might have the same volume as a 6 cm sphere.\n",
    "But even with this smaller volume and correlation 0.5, the probability that this tumor is less than 9 years old is about 5%.\n",
    "\n",
    "So even taking into account modeling errors, it is unlikely that such a large tumor could have formed after my correspondent retired from military service."
   ]
  },
  {
   "cell_type": "markdown",
   "metadata": {
    "tags": [
     "hide-cell"
    ]
   },
   "source": [
    "The following figure shows the distribution of ages for tumors with diameters 4, 8, and 15 cm."
   ]
  },
  {
   "cell_type": "code",
   "execution_count": 29,
   "metadata": {
    "execution": {
     "iopub.execute_input": "2021-04-16T19:41:53.848074Z",
     "iopub.status.busy": "2021-04-16T19:41:53.824687Z",
     "iopub.status.idle": "2021-04-16T19:41:54.018702Z",
     "shell.execute_reply": "2021-04-16T19:41:54.018329Z"
    },
    "tags": [
     "hide-cell"
    ]
   },
   "outputs": [
    {
     "data": {
      "image/png": "[encoded data removed]",
      "text/plain": [
       "<Figure size 432x288 with 1 Axes>"
      ]
     },
     "metadata": {
      "needs_background": "light"
     },
     "output_type": "display_data"
    }
   ],
   "source": [
    "for diameter in diameters:\n",
    "    ages = interpolate_ages(sims, diameter)\n",
    "    cdf = Cdf.from_seq(ages)\n",
    "    cdf.plot(label=f'{diameter} cm')\n",
    "    \n",
    "decorate(xlabel='Tumor age (years)',\n",
    "         ylabel='CDF')"
   ]
  },
  {
   "cell_type": "markdown",
   "metadata": {},
   "source": [
    "## Approximate Bayesian Calculation\n",
    "\n",
    "At this point you might wonder why this example is in a book about Bayesian statistics.\n",
    "We never defined a prior distribution or did a Bayesian update.\n",
    "Why not? Because we didn't have to.\n",
    "\n",
    "Instead, we used simulations to compute ages and sizes for a collection of hypothetical tumors.\n",
    "Then, implicitly, we used the simulation results to form a joint distribution of age and size.\n",
    "If we select a column from the joint distribution, we get a distribution of size conditioned on age.\n",
    "If we select a row, we get a distribution of age conditioned on size.\n",
    "\n",
    "So this example is like the ones we saw in <<_Probability>>: if you have all of the data, you don't need Bayes's theorem; you can compute probabilities by counting.\n",
    "\n",
    "This example is a first step toward Approximate Bayesian Computation (ABC).\n",
    "The next example is a second step."
   ]
  },
  {
   "cell_type": "markdown",
   "metadata": {},
   "source": [
    "## Counting Cells\n",
    "\n",
    "This example comes from [this blog post](https://dataorigami.net/blogs/napkin-folding/bayesian-cell-counting), by Cameron Davidson-Pilon.\n",
    "In it, he models the process biologists use to estimate the concentration of cells in a sample of liquid.\n",
    "The example he presents is counting cells in a \"yeast slurry\", which is a mixture of yeast and water used in brewing beer.\n",
    "\n",
    "There are two steps in the process:\n",
    "\n",
    "* First, the slurry is diluted until the concentration is low enough that it is practical to count cells.\n",
    "\n",
    "* Then a small sample is put on a hemocytometer, which is a specialized microscope slide that holds a fixed amount of liquid on a rectangular grid.\n",
    "\n",
    "The cells and the grid are visible in a microscope, making it possible to count the cells accurately.\n",
    "\n",
    "As an example, suppose we start with a yeast slurry with unknown concentration of cells.\n",
    "Starting with a 1 mL sample, we dilute it by adding it to a shaker with 9 mL of water and mixing well.\n",
    "Then we dilute it again, and then a third time.\n",
    "Each dilution reduces the concentration by a factor of 10, so three dilutions reduces the concentration by a factor of 1000.\n",
    "\n",
    "Then we add the diluted sample to the hemocytometer, which has a capacity of 0.0001 mL spread over a 5x5 grid.\n",
    "Although the grid has 25 squares, it is standard practice to inspect only a few of them, say 5, and report the total number of cells in the inspected squares."
   ]
  },
  {
   "cell_type": "markdown",
   "metadata": {},
   "source": [
    "This process is simple enough, but at every stage there are sources of error:\n",
    "\n",
    "* During the dilution process, liquids are measured using pipettes that introduce measurement error.\n",
    "\n",
    "* The amount of liquid in the hemocytometer might vary from the specification.\n",
    "\n",
    "* During each step of the sampling process, we might select more or less than the average number of cells, due to random variation.\n",
    "\n",
    "Davidson-Pilon presents a PyMC model that describes these errors.\n",
    "I'll start by replicating his model; then we'll adapt it for ABC.\n",
    "\n",
    "Suppose there are 25 squares in the grid, we count 5 of them, and the total number of cells is 49."
   ]
  },
  {
   "cell_type": "code",
   "execution_count": 30,
   "metadata": {
    "execution": {
     "iopub.execute_input": "2021-04-16T19:41:54.021855Z",
     "iopub.status.busy": "2021-04-16T19:41:54.021429Z",
     "iopub.status.idle": "2021-04-16T19:41:54.024368Z",
     "shell.execute_reply": "2021-04-16T19:41:54.024023Z"
    }
   },
   "outputs": [],
   "source": [
    "total_squares = 25\n",
    "squares_counted = 5\n",
    "yeast_counted = 49"
   ]
  },
  {
   "cell_type": "markdown",
   "metadata": {},
   "source": [
    "Here's the first part of the model, which defines the prior distribution of `yeast_conc`, which is the concentration of yeast we're trying to estimate.\n",
    "\n",
    "`shaker1_vol` is the actual volume of water in the first shaker, which should be 9 mL, but might be higher or lower, with standard deviation 0.05 mL.\n",
    "`shaker2_vol` and `shaker3_vol` are the volumes in the second and third shakers."
   ]
  },
  {
   "cell_type": "code",
   "execution_count": 31,
   "metadata": {
    "execution": {
     "iopub.execute_input": "2021-04-16T19:41:54.028284Z",
     "iopub.status.busy": "2021-04-16T19:41:54.027782Z",
     "iopub.status.idle": "2021-04-16T19:41:55.599701Z",
     "shell.execute_reply": "2021-04-16T19:41:55.599305Z"
    }
   },
   "outputs": [],
   "source": [
    "import pymc3 as pm\n",
    "billion = 1e9\n",
    "\n",
    "with pm.Model() as model:\n",
    "    yeast_conc = pm.Normal(\"yeast conc\", \n",
    "                           mu=2 * billion, sd=0.4 * billion)\n",
    "\n",
    "    shaker1_vol = pm.Normal(\"shaker1 vol\", \n",
    "                               mu=9.0, sd=0.05)\n",
    "    shaker2_vol = pm.Normal(\"shaker2 vol\", \n",
    "                               mu=9.0, sd=0.05)\n",
    "    shaker3_vol = pm.Normal(\"shaker3 vol\", \n",
    "                               mu=9.0, sd=0.05)"
   ]
  },
  {
   "cell_type": "markdown",
   "metadata": {},
   "source": [
    "Now, the sample drawn from the yeast slurry is supposed to be 1 mL, but might be more or less.\n",
    "And similarly for the sample from the first shaker and from the second shaker.\n",
    "The following variables model these steps."
   ]
  },
  {
   "cell_type": "code",
   "execution_count": 32,
   "metadata": {
    "execution": {
     "iopub.execute_input": "2021-04-16T19:41:55.757355Z",
     "iopub.status.busy": "2021-04-16T19:41:55.721470Z",
     "iopub.status.idle": "2021-04-16T19:41:55.796399Z",
     "shell.execute_reply": "2021-04-16T19:41:55.795959Z"
    }
   },
   "outputs": [],
   "source": [
    "with model:\n",
    "    yeast_slurry_vol = pm.Normal(\"yeast slurry vol\",\n",
    "                                    mu=1.0, sd=0.01)\n",
    "    shaker1_to_shaker2_vol = pm.Normal(\"shaker1 to shaker2\",\n",
    "                                    mu=1.0, sd=0.01)\n",
    "    shaker2_to_shaker3_vol = pm.Normal(\"shaker2 to shaker3\",\n",
    "                                    mu=1.0, sd=0.01)"
   ]
  },
  {
   "cell_type": "markdown",
   "metadata": {},
   "source": [
    "Given the actual volumes in the samples and in the shakers, we can compute the effective dilution, `final_dilution`, which should be 1000, but might be higher or lower."
   ]
  },
  {
   "cell_type": "code",
   "execution_count": 33,
   "metadata": {
    "execution": {
     "iopub.execute_input": "2021-04-16T19:41:55.806783Z",
     "iopub.status.busy": "2021-04-16T19:41:55.800081Z",
     "iopub.status.idle": "2021-04-16T19:41:55.808781Z",
     "shell.execute_reply": "2021-04-16T19:41:55.808387Z"
    }
   },
   "outputs": [],
   "source": [
    "with model:\n",
    "    dilution_shaker1 = (yeast_slurry_vol / \n",
    "                        (yeast_slurry_vol + shaker1_vol))\n",
    "    dilution_shaker2 = (shaker1_to_shaker2_vol / \n",
    "                        (shaker1_to_shaker2_vol + shaker2_vol))\n",
    "    dilution_shaker3 = (shaker2_to_shaker3_vol / \n",
    "                        (shaker2_to_shaker3_vol + shaker3_vol))\n",
    "    \n",
    "    final_dilution = (dilution_shaker1 * \n",
    "                      dilution_shaker2 * \n",
    "                      dilution_shaker3)"
   ]
  },
  {
   "cell_type": "markdown",
   "metadata": {},
   "source": [
    "The next step is to place a sample from the third shaker in the chamber of the hemocytomer.\n",
    "The capacity of the chamber should be 0.0001 mL, but might vary; to describe this variance, we'll use a gamma distribution, which ensures that we don't generate negative values."
   ]
  },
  {
   "cell_type": "code",
   "execution_count": 34,
   "metadata": {
    "execution": {
     "iopub.execute_input": "2021-04-16T19:41:55.814594Z",
     "iopub.status.busy": "2021-04-16T19:41:55.813918Z",
     "iopub.status.idle": "2021-04-16T19:41:55.967345Z",
     "shell.execute_reply": "2021-04-16T19:41:55.966880Z"
    }
   },
   "outputs": [],
   "source": [
    "with model:\n",
    "    chamber_vol = pm.Gamma(\"chamber_vol\", \n",
    "                           mu=0.0001, sd=0.0001 / 20)"
   ]
  },
  {
   "cell_type": "markdown",
   "metadata": {},
   "source": [
    "On average, the number of cells in the chamber is the product of the actual concentration, final dilution, and chamber volume.\n",
    "But the actual number might vary; we'll use a Poisson distribution to model this variance."
   ]
  },
  {
   "cell_type": "code",
   "execution_count": 35,
   "metadata": {
    "execution": {
     "iopub.execute_input": "2021-04-16T19:41:55.972552Z",
     "iopub.status.busy": "2021-04-16T19:41:55.972041Z",
     "iopub.status.idle": "2021-04-16T19:41:56.039972Z",
     "shell.execute_reply": "2021-04-16T19:41:56.039599Z"
    }
   },
   "outputs": [],
   "source": [
    "with model:\n",
    "    yeast_in_chamber = pm.Poisson(\"yeast in chamber\", \n",
    "        mu=yeast_conc * final_dilution * chamber_vol)"
   ]
  },
  {
   "cell_type": "markdown",
   "metadata": {},
   "source": [
    "Finally, each cell in the chamber will be in one of the squares we count with probability `p=squares_counted/total_squares`.\n",
    "So the actual count follows a binomial distribution."
   ]
  },
  {
   "cell_type": "code",
   "execution_count": 36,
   "metadata": {
    "execution": {
     "iopub.execute_input": "2021-04-16T19:41:56.052542Z",
     "iopub.status.busy": "2021-04-16T19:41:56.051571Z",
     "iopub.status.idle": "2021-04-16T19:41:56.510543Z",
     "shell.execute_reply": "2021-04-16T19:41:56.510863Z"
    }
   },
   "outputs": [],
   "source": [
    "with model:\n",
    "    count = pm.Binomial(\"count\", \n",
    "                        n=yeast_in_chamber, \n",
    "                        p=squares_counted/total_squares,\n",
    "                        observed=yeast_counted)"
   ]
  },
  {
   "cell_type": "markdown",
   "metadata": {},
   "source": [
    "With the model specified, we can use `sample` to generate a sample from the posterior distribution."
   ]
  },
  {
   "cell_type": "code",
   "execution_count": 37,
   "metadata": {
    "execution": {
     "iopub.execute_input": "2021-04-16T19:41:56.515738Z",
     "iopub.status.busy": "2021-04-16T19:41:56.515055Z",
     "iopub.status.idle": "2021-04-16T19:42:06.933329Z",
     "shell.execute_reply": "2021-04-16T19:42:06.934337Z"
    },
    "tags": [
     "hide-output"
    ]
   },
   "outputs": [
    {
     "name": "stderr",
     "output_type": "stream",
     "text": [
      "Multiprocess sampling (2 chains in 2 jobs)\n",
      "CompoundStep\n",
      ">NUTS: [chamber_vol, shaker2 to shaker3, shaker1 to shaker2, yeast slurry vol, shaker3 vol, shaker2 vol, shaker1 vol, yeast conc]\n",
      ">Metropolis: [yeast in chamber]\n"
     ]
    },
    {
     "data": {
      "text/html": [
       "\n",
       "    <div>\n",
       "        <style>\n",
       "            /* Turns off some styling */\n",
       "            progress {\n",
       "                /* gets rid of default border in Firefox and Opera. */\n",
       "                border: none;\n",
       "                /* Needs to be in here for Safari polyfill so background images work as expected. */\n",
       "                background-size: auto;\n",
       "            }\n",
       "            .progress-bar-interrupted, .progress-bar-interrupted::-webkit-progress-bar {\n",
       "                background: #F44336;\n",
       "            }\n",
       "        </style>\n",
       "      <progress value='4000' class='' max='4000' style='width:300px; height:20px; vertical-align: middle;'></progress>\n",
       "      100.00% [4000/4000 00:03<00:00 Sampling 2 chains, 0 divergences]\n",
       "    </div>\n",
       "    "
      ],
      "text/plain": [
       "<IPython.core.display.HTML object>"
      ]
     },
     "metadata": {},
     "output_type": "display_data"
    },
    {
     "name": "stderr",
     "output_type": "stream",
     "text": [
      "Sampling 2 chains for 1_000 tune and 1_000 draw iterations (2_000 + 2_000 draws total) took 4 seconds.\n",
      "The estimated number of effective samples is smaller than 200 for some parameters.\n"
     ]
    }
   ],
   "source": [
    "options = dict(return_inferencedata=False)\n",
    "\n",
    "with model:\n",
    "    trace = pm.sample(1000, **options)"
   ]
  },
  {
   "cell_type": "markdown",
   "metadata": {},
   "source": [
    "And we can use the sample to estimate the posterior distribution of `yeast_conc` and compute summary statistics."
   ]
  },
  {
   "cell_type": "code",
   "execution_count": 38,
   "metadata": {
    "execution": {
     "iopub.execute_input": "2021-04-16T19:42:06.938492Z",
     "iopub.status.busy": "2021-04-16T19:42:06.938018Z",
     "iopub.status.idle": "2021-04-16T19:42:06.944515Z",
     "shell.execute_reply": "2021-04-16T19:42:06.943729Z"
    }
   },
   "outputs": [
    {
     "name": "stdout",
     "output_type": "stream",
     "text": [
      "2.2712488367301873 [1.8531491 2.7017654]\n"
     ]
    }
   ],
   "source": [
    "posterior_sample = trace['yeast conc'] / billion\n",
    "cdf_pymc = Cdf.from_seq(posterior_sample)\n",
    "print(cdf_pymc.mean(), cdf_pymc.credible_interval(0.9))"
   ]
  },
  {
   "cell_type": "markdown",
   "metadata": {},
   "source": [
    "The posterior mean is about 2.3 billion cells per mL, with a 90% credible interval from 1.8 and 2.7.\n",
    "\n",
    "So far we've been following in Davidson-Pilon's footsteps.\n",
    "And for this problem, the solution using MCMC is sufficient.\n",
    "But it also provides an opportunity to demonstrate ABC."
   ]
  },
  {
   "cell_type": "markdown",
   "metadata": {},
   "source": [
    "## Cell Counting with ABC\n",
    "\n",
    "The fundamental idea of ABC is that we use the prior distribution to generate a sample of the parameters, and then simulate the system for each set of parameters in the sample.\n",
    "\n",
    "In this case, since we already have a PyMC model, we can use `sample_prior_predictive` to do the sampling and the simulation."
   ]
  },
  {
   "cell_type": "code",
   "execution_count": 39,
   "metadata": {
    "execution": {
     "iopub.execute_input": "2021-04-16T19:42:06.948761Z",
     "iopub.status.busy": "2021-04-16T19:42:06.948266Z",
     "iopub.status.idle": "2021-04-16T19:42:07.487156Z",
     "shell.execute_reply": "2021-04-16T19:42:07.486684Z"
    }
   },
   "outputs": [],
   "source": [
    "with model:\n",
    "    prior_sample = pm.sample_prior_predictive(10000)"
   ]
  },
  {
   "cell_type": "markdown",
   "metadata": {},
   "source": [
    "The result is a dictionary that contains samples from the prior distribution of the parameters and the prior predictive distribution of `count`."
   ]
  },
  {
   "cell_type": "code",
   "execution_count": 40,
   "metadata": {
    "execution": {
     "iopub.execute_input": "2021-04-16T19:42:07.490679Z",
     "iopub.status.busy": "2021-04-16T19:42:07.490235Z",
     "iopub.status.idle": "2021-04-16T19:42:07.492457Z",
     "shell.execute_reply": "2021-04-16T19:42:07.492806Z"
    }
   },
   "outputs": [
    {
     "name": "stdout",
     "output_type": "stream",
     "text": [
      "40.1144\n"
     ]
    }
   ],
   "source": [
    "count = prior_sample['count']\n",
    "print(count.mean())"
   ]
  },
  {
   "cell_type": "markdown",
   "metadata": {},
   "source": [
    "Now, to generate a sample from the posterior distribution, we'll select only the elements in the prior sample where the output of the simulation, `count`, matches the observed data, 49."
   ]
  },
  {
   "cell_type": "code",
   "execution_count": 41,
   "metadata": {
    "execution": {
     "iopub.execute_input": "2021-04-16T19:42:07.496486Z",
     "iopub.status.busy": "2021-04-16T19:42:07.495613Z",
     "iopub.status.idle": "2021-04-16T19:42:07.498936Z",
     "shell.execute_reply": "2021-04-16T19:42:07.499282Z"
    }
   },
   "outputs": [
    {
     "data": {
      "text/plain": [
       "221"
      ]
     },
     "execution_count": 41,
     "metadata": {},
     "output_type": "execute_result"
    }
   ],
   "source": [
    "mask = (count == 49)\n",
    "mask.sum()"
   ]
  },
  {
   "cell_type": "markdown",
   "metadata": {},
   "source": [
    "We can use `mask` to select the values of `yeast_conc` for the simulations that yield the observed data."
   ]
  },
  {
   "cell_type": "code",
   "execution_count": 42,
   "metadata": {
    "execution": {
     "iopub.execute_input": "2021-04-16T19:42:07.503109Z",
     "iopub.status.busy": "2021-04-16T19:42:07.502604Z",
     "iopub.status.idle": "2021-04-16T19:42:07.504717Z",
     "shell.execute_reply": "2021-04-16T19:42:07.504277Z"
    }
   },
   "outputs": [],
   "source": [
    "posterior_sample2 = prior_sample['yeast conc'][mask] / billion"
   ]
  },
  {
   "cell_type": "markdown",
   "metadata": {},
   "source": [
    "And we can use the posterior sample to estimate the CDF of the posterior distribution."
   ]
  },
  {
   "cell_type": "code",
   "execution_count": 43,
   "metadata": {
    "execution": {
     "iopub.execute_input": "2021-04-16T19:42:07.509962Z",
     "iopub.status.busy": "2021-04-16T19:42:07.509535Z",
     "iopub.status.idle": "2021-04-16T19:42:07.511879Z",
     "shell.execute_reply": "2021-04-16T19:42:07.511516Z"
    }
   },
   "outputs": [
    {
     "name": "stdout",
     "output_type": "stream",
     "text": [
      "2.275872303142668 [1.87509925 2.72428803]\n"
     ]
    }
   ],
   "source": [
    "cdf_abc = Cdf.from_seq(posterior_sample2)\n",
    "print(cdf_abc.mean(), cdf_abc.credible_interval(0.9))"
   ]
  },
  {
   "cell_type": "markdown",
   "metadata": {},
   "source": [
    "The posterior mean and credible interval are similar to what we got with MCMC.\n",
    "Here's what the distributions look like."
   ]
  },
  {
   "cell_type": "code",
   "execution_count": 44,
   "metadata": {
    "execution": {
     "iopub.execute_input": "2021-04-16T19:42:07.531093Z",
     "iopub.status.busy": "2021-04-16T19:42:07.519716Z",
     "iopub.status.idle": "2021-04-16T19:42:07.720598Z",
     "shell.execute_reply": "2021-04-16T19:42:07.720179Z"
    },
    "tags": [
     "hide-input"
    ]
   },
   "outputs": [
    {
     "data": {
      "image/png": "[encoded data removed]",
      "text/plain": [
       "<Figure size 432x288 with 1 Axes>"
      ]
     },
     "metadata": {
      "needs_background": "light"
     },
     "output_type": "display_data"
    }
   ],
   "source": [
    "cdf_pymc.plot(label='MCMC', ls=':')\n",
    "cdf_abc.plot(label='ABC')\n",
    "\n",
    "decorate(xlabel='Yeast concentration (cells/mL)',\n",
    "         ylabel='CDF',\n",
    "         title='Posterior distribution',\n",
    "         xlim=(1.4, 3.4))"
   ]
  },
  {
   "cell_type": "markdown",
   "metadata": {},
   "source": [
    "The distributions are similar, but the results from ABC are noisier because the sample size is smaller."
   ]
  },
  {
   "cell_type": "markdown",
   "metadata": {},
   "source": [
    "## When Do We Get to the Approximate Part?\n",
    "\n",
    "The examples so far are similar to Approximate Bayesian Computation, but neither of them demonstrates all of the elements of ABC.\n",
    "More generally, ABC is characterized by:\n",
    "\n",
    "1. A prior distribution of parameters.\n",
    "\n",
    "2. A simulation of the system that generates the data.\n",
    "\n",
    "3. A criterion for when we should accept that the output of the simulation matches the data.\n",
    "\n",
    "The kidney tumor example was atypical because we didn't represent the prior distribution of age explicitly.\n",
    "Because the simulations generate a joint distribution of age and size, we we able to get the marginal posterior distribution of age directly from the results.\n",
    "\n",
    "The yeast example is more typical because we represented the distribution of the parameters explicitly.\n",
    "But we accepted only simulations where the output matches the data exactly.\n",
    "\n",
    "The result is approximate in the sense that we have a sample from the posterior distribution rather than the posterior distribution itself.\n",
    "But it is not approximate in the sense of Approximate Bayesian Computation, which typically accepts simulations where the output matches the data only approximately."
   ]
  },
  {
   "cell_type": "markdown",
   "metadata": {},
   "source": [
    "To show how that works, I will extend the yeast example with an approximate matching criterion.\n",
    "\n",
    "In the previous section, we accepted a simulation if the output is precisely 49 and rejected it otherwise.\n",
    "As a result, we got only a few hundred samples out of 10,000 simulations, so that's not very efficient.\n",
    "\n",
    "We can make better use of the simulations if we give \"partial credit\" when the output is close to 49.\n",
    "But how close?  And how much credit?\n",
    "\n",
    "One way to answer that is to back up to the second-to-last step of the simulation, where we know the number of cells in the chamber, and we use the binomial distribution to generate the final count.\n",
    "\n",
    "If there are `n` cells in the chamber, each has a probability `p` of being counted, depending on whether it falls in one of the squares in the grid that get counted.\n",
    "\n",
    "We can extract `n` from the prior sample, like this:"
   ]
  },
  {
   "cell_type": "code",
   "execution_count": 45,
   "metadata": {
    "execution": {
     "iopub.execute_input": "2021-04-16T19:42:07.724224Z",
     "iopub.status.busy": "2021-04-16T19:42:07.723759Z",
     "iopub.status.idle": "2021-04-16T19:42:07.726550Z",
     "shell.execute_reply": "2021-04-16T19:42:07.726183Z"
    }
   },
   "outputs": [
    {
     "data": {
      "text/plain": [
       "(10000,)"
      ]
     },
     "execution_count": 45,
     "metadata": {},
     "output_type": "execute_result"
    }
   ],
   "source": [
    "n = prior_sample['yeast in chamber']\n",
    "n.shape"
   ]
  },
  {
   "cell_type": "markdown",
   "metadata": {},
   "source": [
    "And compute `p` like this:"
   ]
  },
  {
   "cell_type": "code",
   "execution_count": 46,
   "metadata": {
    "execution": {
     "iopub.execute_input": "2021-04-16T19:42:07.730122Z",
     "iopub.status.busy": "2021-04-16T19:42:07.729489Z",
     "iopub.status.idle": "2021-04-16T19:42:07.731874Z",
     "shell.execute_reply": "2021-04-16T19:42:07.732357Z"
    }
   },
   "outputs": [
    {
     "data": {
      "text/plain": [
       "0.2"
      ]
     },
     "execution_count": 46,
     "metadata": {},
     "output_type": "execute_result"
    }
   ],
   "source": [
    "p = squares_counted/total_squares\n",
    "p"
   ]
  },
  {
   "cell_type": "markdown",
   "metadata": {},
   "source": [
    "Now here's the idea: we'll use the binomial distribution to compute the likelihood of the data, `yeast_counted`, for each value of `n` and the fixed value of `p`."
   ]
  },
  {
   "cell_type": "code",
   "execution_count": 47,
   "metadata": {
    "execution": {
     "iopub.execute_input": "2021-04-16T19:42:07.738178Z",
     "iopub.status.busy": "2021-04-16T19:42:07.737367Z",
     "iopub.status.idle": "2021-04-16T19:42:07.743134Z",
     "shell.execute_reply": "2021-04-16T19:42:07.742703Z"
    }
   },
   "outputs": [],
   "source": [
    "from scipy.stats import binom\n",
    "\n",
    "likelihood = binom(n, p).pmf(yeast_counted).flatten()"
   ]
  },
  {
   "cell_type": "code",
   "execution_count": 48,
   "metadata": {
    "execution": {
     "iopub.execute_input": "2021-04-16T19:42:07.746932Z",
     "iopub.status.busy": "2021-04-16T19:42:07.746395Z",
     "iopub.status.idle": "2021-04-16T19:42:07.748798Z",
     "shell.execute_reply": "2021-04-16T19:42:07.749215Z"
    },
    "tags": [
     "hide-cell"
    ]
   },
   "outputs": [
    {
     "data": {
      "text/plain": [
       "(10000,)"
      ]
     },
     "execution_count": 48,
     "metadata": {},
     "output_type": "execute_result"
    }
   ],
   "source": [
    "likelihood.shape"
   ]
  },
  {
   "cell_type": "markdown",
   "metadata": {},
   "source": [
    "When the expected count, `n * p`, is close to the actual count, `likelihood` is relatively high; when it is farther away, `likelihood` is lower.\n",
    "\n",
    "The following is a scatter plot of these likelihoods versus the expected counts."
   ]
  },
  {
   "cell_type": "code",
   "execution_count": 49,
   "metadata": {
    "execution": {
     "iopub.execute_input": "2021-04-16T19:42:07.768338Z",
     "iopub.status.busy": "2021-04-16T19:42:07.764397Z",
     "iopub.status.idle": "2021-04-16T19:42:07.898747Z",
     "shell.execute_reply": "2021-04-16T19:42:07.897763Z"
    },
    "tags": [
     "hide-input"
    ]
   },
   "outputs": [
    {
     "data": {
      "image/png": "[encoded data removed]",
      "text/plain": [
       "<Figure size 432x288 with 1 Axes>"
      ]
     },
     "metadata": {
      "needs_background": "light"
     },
     "output_type": "display_data"
    }
   ],
   "source": [
    "plt.plot(n*p, likelihood, '.', alpha=0.03, color='C2')\n",
    "\n",
    "decorate(xlabel='Expected count (number of cells)',\n",
    "         ylabel='Likelihood')"
   ]
  },
  {
   "cell_type": "markdown",
   "metadata": {},
   "source": [
    "We can't use these likelihoods to do a Bayesian update because they are incomplete; that is, each likelihood is the probability of the data given `n`, which is the result of a single simulation.\n",
    "\n",
    "But we *can* use them to weight the results of the simulations.\n",
    "Instead of requiring the output of the simulation to match the data exactly, we'll use the likelihoods to give partial credit when the output is close.\n",
    "\n",
    "Here's how: I'll construct a `Pmf` that contains yeast concentrations as quantities and the likelihoods as unnormalized probabilities."
   ]
  },
  {
   "cell_type": "code",
   "execution_count": 50,
   "metadata": {
    "execution": {
     "iopub.execute_input": "2021-04-16T19:42:07.904279Z",
     "iopub.status.busy": "2021-04-16T19:42:07.903638Z",
     "iopub.status.idle": "2021-04-16T19:42:07.906506Z",
     "shell.execute_reply": "2021-04-16T19:42:07.906861Z"
    }
   },
   "outputs": [],
   "source": [
    "qs = prior_sample['yeast conc'] / billion\n",
    "ps = likelihood\n",
    "posterior_pmf = Pmf(ps, qs)"
   ]
  },
  {
   "cell_type": "markdown",
   "metadata": {},
   "source": [
    "In this `Pmf`, values of `yeast_conc` that yield outputs close to the data map to higher probabilities.\n",
    "If we sort the quantities and normalize the probabilities, the result is an estimate of the posterior distribution."
   ]
  },
  {
   "cell_type": "code",
   "execution_count": 51,
   "metadata": {
    "execution": {
     "iopub.execute_input": "2021-04-16T19:42:07.911101Z",
     "iopub.status.busy": "2021-04-16T19:42:07.910407Z",
     "iopub.status.idle": "2021-04-16T19:42:07.916302Z",
     "shell.execute_reply": "2021-04-16T19:42:07.916646Z"
    }
   },
   "outputs": [
    {
     "name": "stdout",
     "output_type": "stream",
     "text": [
      "2.2723483584950497 [1.85449376 2.70563828]\n"
     ]
    }
   ],
   "source": [
    "posterior_pmf.sort_index(inplace=True)\n",
    "posterior_pmf.normalize()\n",
    "\n",
    "print(posterior_pmf.mean(), posterior_pmf.credible_interval(0.9)) "
   ]
  },
  {
   "cell_type": "markdown",
   "metadata": {},
   "source": [
    "The posterior mean and credible interval are similar to the values we got from MCMC.\n",
    "And here's what the posterior distributions look like."
   ]
  },
  {
   "cell_type": "code",
   "execution_count": 52,
   "metadata": {
    "execution": {
     "iopub.execute_input": "2021-04-16T19:42:07.940658Z",
     "iopub.status.busy": "2021-04-16T19:42:07.937661Z",
     "iopub.status.idle": "2021-04-16T19:42:08.102746Z",
     "shell.execute_reply": "2021-04-16T19:42:08.102213Z"
    },
    "tags": [
     "hide-input"
    ]
   },
   "outputs": [
    {
     "data": {
      "image/png": "[encoded data removed]",
      "text/plain": [
       "<Figure size 432x288 with 1 Axes>"
      ]
     },
     "metadata": {
      "needs_background": "light"
     },
     "output_type": "display_data"
    }
   ],
   "source": [
    "cdf_pymc.plot(label='MCMC', ls=':')\n",
    "#cdf_abc.plot(label='ABC')\n",
    "posterior_pmf.make_cdf().plot(label='ABC2')\n",
    "\n",
    "decorate(xlabel='Yeast concentration (cells/mL)',\n",
    "         ylabel='CDF',\n",
    "         title='Posterior distribution',\n",
    "         xlim=(1.4, 3.4))"
   ]
  },
  {
   "cell_type": "markdown",
   "metadata": {},
   "source": [
    "The distributions are similar, but the results from MCMC are a little noisier.\n",
    "In this example, ABC is more efficient than MCMC, requiring less computation to generate a better estimate of the posterior distribution.\n",
    "But that's unusual; usually ABC requires a lot of computation.\n",
    "For that reason, it is generally a method of last resort."
   ]
  },
  {
   "cell_type": "markdown",
   "metadata": {},
   "source": [
    "## Summary\n",
    "\n",
    "In this chapter we saw two examples of Approximate Bayesian Computation (ABC), based on simulations of tumor growth and cell counting.\n",
    "\n",
    "The definitive elements of ABC are:\n",
    "\n",
    "1. A prior distribution of parameters.\n",
    "\n",
    "2. A simulation of the system that generates the data.\n",
    "\n",
    "3. A criterion for when we should accept that the output of the simulation matches the data.\n",
    "\n",
    "ABC is particularly useful when the system is too complex to model with tools like PyMC.\n",
    "For example, it might involve a physical simulation based on differential equations.\n",
    "In that case, each simulation might require substantial computation, and many simulations might be needed to estimate the posterior distribution.\n",
    "\n",
    "Next, you'll have a chance to practice with one more example."
   ]
  },
  {
   "cell_type": "markdown",
   "metadata": {},
   "source": [
    "## Exercises"
   ]
  },
  {
   "cell_type": "markdown",
   "metadata": {},
   "source": [
    "**Exercise:** This exercise is based on [a blog post by Rasmus Bååth](http://www.sumsar.net/blog/2014/10/tiny-data-and-the-socks-of-karl-broman), which is motivated by a tweet from Karl Broman, who wrote:\n",
    "\n",
    "> That the first 11 socks in the laundry are distinct suggests that there are a lot of socks.\n",
    "\n",
    "Suppose you pull 11 socks out of the laundry and find that no two of them make a matched pair.  Estimate the number of socks in the laundry.\n",
    "\n",
    "To solve this problem, we'll use the model Bååth suggests, which is based on these assumptions:\n",
    "\n",
    "* The laundry contains some number of pairs of socks, `n_pairs`, plus some number of odd (unpaired) socks, `n_odds`.\n",
    "\n",
    "* The pairs of socks are different from each other and different from the unpaired socks; in other words, the number of socks of each type is either 1 or 2, never more.\n",
    "\n",
    "We'll use the prior distributions Bååth suggests, which are:\n",
    "\n",
    "* The number of socks follows a negative binomial distribution with mean 30 and standard deviation 15.\n",
    "\n",
    "* The proportion of socks that are paired follows a beta distribution with parameters `alpha=15` and `beta=2`.\n",
    "\n",
    "In the notebook for this chapter, I'll define these priors.  Then you can simulate the sampling process and use ABC to estimate the posterior distributions."
   ]
  },
  {
   "cell_type": "markdown",
   "metadata": {
    "tags": [
     "remove-cell"
    ]
   },
   "source": [
    "To get you started, I'll define the priors."
   ]
  },
  {
   "cell_type": "code",
   "execution_count": 53,
   "metadata": {
    "execution": {
     "iopub.execute_input": "2021-04-16T19:42:08.108208Z",
     "iopub.status.busy": "2021-04-16T19:42:08.107675Z",
     "iopub.status.idle": "2021-04-16T19:42:08.110553Z",
     "shell.execute_reply": "2021-04-16T19:42:08.110183Z"
    },
    "tags": [
     "remove-cell"
    ]
   },
   "outputs": [
    {
     "data": {
      "text/plain": [
       "(29.999999999999996, 14.999996250001402)"
      ]
     },
     "execution_count": 53,
     "metadata": {},
     "output_type": "execute_result"
    }
   ],
   "source": [
    "from scipy.stats import nbinom, beta\n",
    "\n",
    "mu = 30\n",
    "p = 0.8666666\n",
    "r = mu * (1-p) / p\n",
    "\n",
    "prior_n_socks = nbinom(r, 1-p)\n",
    "prior_n_socks.mean(), prior_n_socks.std()"
   ]
  },
  {
   "cell_type": "code",
   "execution_count": 54,
   "metadata": {
    "execution": {
     "iopub.execute_input": "2021-04-16T19:42:08.115392Z",
     "iopub.status.busy": "2021-04-16T19:42:08.114843Z",
     "iopub.status.idle": "2021-04-16T19:42:08.117801Z",
     "shell.execute_reply": "2021-04-16T19:42:08.117430Z"
    },
    "tags": [
     "remove-cell"
    ]
   },
   "outputs": [
    {
     "data": {
      "text/plain": [
       "0.8823529411764706"
      ]
     },
     "execution_count": 54,
     "metadata": {},
     "output_type": "execute_result"
    }
   ],
   "source": [
    "prior_prop_pair = beta(15, 2)\n",
    "prior_prop_pair.mean()"
   ]
  },
  {
   "cell_type": "code",
   "execution_count": 55,
   "metadata": {
    "execution": {
     "iopub.execute_input": "2021-04-16T19:42:08.140833Z",
     "iopub.status.busy": "2021-04-16T19:42:08.134898Z",
     "iopub.status.idle": "2021-04-16T19:42:08.255343Z",
     "shell.execute_reply": "2021-04-16T19:42:08.255871Z"
    },
    "tags": [
     "remove-cell"
    ]
   },
   "outputs": [
    {
     "data": {
      "image/png": "[encoded data removed]",
      "text/plain": [
       "<Figure size 432x288 with 1 Axes>"
      ]
     },
     "metadata": {
      "needs_background": "light"
     },
     "output_type": "display_data"
    }
   ],
   "source": [
    "qs = np.arange(90)\n",
    "ps = prior_n_socks.pmf(qs)\n",
    "pmf = Pmf(ps, qs)\n",
    "pmf.normalize()\n",
    "\n",
    "pmf.plot(label='prior', drawstyle='steps')\n",
    "\n",
    "decorate(xlabel='Number of socks',\n",
    "         ylabel='PMF')"
   ]
  },
  {
   "cell_type": "code",
   "execution_count": 56,
   "metadata": {
    "execution": {
     "iopub.execute_input": "2021-04-16T19:42:08.274344Z",
     "iopub.status.busy": "2021-04-16T19:42:08.259770Z",
     "iopub.status.idle": "2021-04-16T19:42:08.436751Z",
     "shell.execute_reply": "2021-04-16T19:42:08.437075Z"
    },
    "tags": [
     "remove-cell"
    ]
   },
   "outputs": [
    {
     "data": {
      "image/png": "[encoded data removed]",
      "text/plain": [
       "<Figure size 432x288 with 1 Axes>"
      ]
     },
     "metadata": {
      "needs_background": "light"
     },
     "output_type": "display_data"
    }
   ],
   "source": [
    "from utils import pmf_from_dist\n",
    "\n",
    "qs = np.linspace(0, 1, 101)\n",
    "pmf = pmf_from_dist(prior_prop_pair, qs)\n",
    "pmf.plot(label='prior', color='C1')\n",
    "\n",
    "decorate(xlabel='Proportion of socks in pairs',\n",
    "         ylabel='PDF')"
   ]
  },
  {
   "cell_type": "markdown",
   "metadata": {
    "tags": [
     "remove-cell"
    ]
   },
   "source": [
    "We can sample from the prior distributions like this:"
   ]
  },
  {
   "cell_type": "code",
   "execution_count": 57,
   "metadata": {
    "execution": {
     "iopub.execute_input": "2021-04-16T19:42:08.441478Z",
     "iopub.status.busy": "2021-04-16T19:42:08.440805Z",
     "iopub.status.idle": "2021-04-16T19:42:08.444064Z",
     "shell.execute_reply": "2021-04-16T19:42:08.443630Z"
    },
    "tags": [
     "remove-cell"
    ]
   },
   "outputs": [
    {
     "data": {
      "text/plain": [
       "(28, 0.9701935770106817)"
      ]
     },
     "execution_count": 57,
     "metadata": {},
     "output_type": "execute_result"
    }
   ],
   "source": [
    "n_socks = prior_n_socks.rvs()\n",
    "prop_pairs = prior_prop_pair.rvs()\n",
    "\n",
    "n_socks, prop_pairs"
   ]
  },
  {
   "cell_type": "markdown",
   "metadata": {
    "tags": [
     "remove-cell"
    ]
   },
   "source": [
    "And use the values to compute `n_pairs` and `n_odds`:"
   ]
  },
  {
   "cell_type": "code",
   "execution_count": 58,
   "metadata": {
    "execution": {
     "iopub.execute_input": "2021-04-16T19:42:08.448230Z",
     "iopub.status.busy": "2021-04-16T19:42:08.447541Z",
     "iopub.status.idle": "2021-04-16T19:42:08.450759Z",
     "shell.execute_reply": "2021-04-16T19:42:08.450369Z"
    },
    "tags": [
     "remove-cell"
    ]
   },
   "outputs": [
    {
     "data": {
      "text/plain": [
       "(14.0, 0.0)"
      ]
     },
     "execution_count": 58,
     "metadata": {},
     "output_type": "execute_result"
    }
   ],
   "source": [
    "n_pairs = np.round(n_socks//2 * prop_pairs)\n",
    "n_odds = n_socks - n_pairs*2\n",
    "\n",
    "n_pairs, n_odds"
   ]
  },
  {
   "cell_type": "markdown",
   "metadata": {
    "tags": [
     "remove-cell"
    ]
   },
   "source": [
    "Now you take it from there."
   ]
  },
  {
   "cell_type": "code",
   "execution_count": 59,
   "metadata": {
    "execution": {
     "iopub.execute_input": "2021-04-16T19:42:08.454626Z",
     "iopub.status.busy": "2021-04-16T19:42:08.454172Z",
     "iopub.status.idle": "2021-04-16T19:42:08.456306Z",
     "shell.execute_reply": "2021-04-16T19:42:08.456654Z"
    },
    "tags": [
     "hide-cell"
    ]
   },
   "outputs": [
    {
     "name": "stdout",
     "output_type": "stream",
     "text": [
      "[ 0  1  2  3  4  5  6  7  8  0  1  2  3  4  5  6  7  8  9 10 11 12 13]\n"
     ]
    }
   ],
   "source": [
    "# Solution\n",
    "\n",
    "n_pairs = 9\n",
    "n_odds = 5\n",
    "\n",
    "socks = np.append(np.arange(n_pairs), \n",
    "                  np.arange(n_pairs + n_odds))\n",
    "\n",
    "print(socks)"
   ]
  },
  {
   "cell_type": "code",
   "execution_count": 60,
   "metadata": {
    "execution": {
     "iopub.execute_input": "2021-04-16T19:42:08.461385Z",
     "iopub.status.busy": "2021-04-16T19:42:08.460694Z",
     "iopub.status.idle": "2021-04-16T19:42:08.463646Z",
     "shell.execute_reply": "2021-04-16T19:42:08.463281Z"
    },
    "tags": [
     "hide-cell"
    ]
   },
   "outputs": [
    {
     "data": {
      "text/plain": [
       "array([ 6,  5,  8,  7,  1,  0,  8,  5, 10, 12,  6])"
      ]
     },
     "execution_count": 60,
     "metadata": {},
     "output_type": "execute_result"
    }
   ],
   "source": [
    "# Solution\n",
    "\n",
    "picked_socks = np.random.choice(socks, size=11, replace=False)\n",
    "picked_socks"
   ]
  },
  {
   "cell_type": "code",
   "execution_count": 61,
   "metadata": {
    "execution": {
     "iopub.execute_input": "2021-04-16T19:42:08.467312Z",
     "iopub.status.busy": "2021-04-16T19:42:08.466789Z",
     "iopub.status.idle": "2021-04-16T19:42:08.469206Z",
     "shell.execute_reply": "2021-04-16T19:42:08.469556Z"
    },
    "tags": [
     "hide-cell"
    ]
   },
   "outputs": [
    {
     "data": {
      "text/plain": [
       "array([ 0,  1,  5,  6,  7,  8, 10, 12])"
      ]
     },
     "execution_count": 61,
     "metadata": {},
     "output_type": "execute_result"
    }
   ],
   "source": [
    "# Solution\n",
    "\n",
    "values, counts = np.unique(picked_socks, return_counts=True)\n",
    "values"
   ]
  },
  {
   "cell_type": "code",
   "execution_count": 62,
   "metadata": {
    "execution": {
     "iopub.execute_input": "2021-04-16T19:42:08.472963Z",
     "iopub.status.busy": "2021-04-16T19:42:08.472423Z",
     "iopub.status.idle": "2021-04-16T19:42:08.475583Z",
     "shell.execute_reply": "2021-04-16T19:42:08.475055Z"
    },
    "tags": [
     "hide-cell"
    ]
   },
   "outputs": [
    {
     "data": {
      "text/plain": [
       "array([1, 1, 2, 2, 1, 2, 1, 1])"
      ]
     },
     "execution_count": 62,
     "metadata": {},
     "output_type": "execute_result"
    }
   ],
   "source": [
    "# Solution\n",
    "\n",
    "counts"
   ]
  },
  {
   "cell_type": "code",
   "execution_count": 63,
   "metadata": {
    "execution": {
     "iopub.execute_input": "2021-04-16T19:42:08.479850Z",
     "iopub.status.busy": "2021-04-16T19:42:08.479136Z",
     "iopub.status.idle": "2021-04-16T19:42:08.481962Z",
     "shell.execute_reply": "2021-04-16T19:42:08.481538Z"
    },
    "tags": [
     "hide-cell"
    ]
   },
   "outputs": [
    {
     "data": {
      "text/plain": [
       "(5, 3)"
      ]
     },
     "execution_count": 63,
     "metadata": {},
     "output_type": "execute_result"
    }
   ],
   "source": [
    "# Solution\n",
    "\n",
    "solo = np.sum(counts==1)\n",
    "pairs = np.sum(counts==2)\n",
    "\n",
    "solo, pairs"
   ]
  },
  {
   "cell_type": "code",
   "execution_count": 64,
   "metadata": {
    "execution": {
     "iopub.execute_input": "2021-04-16T19:42:08.486360Z",
     "iopub.status.busy": "2021-04-16T19:42:08.485851Z",
     "iopub.status.idle": "2021-04-16T19:42:08.488237Z",
     "shell.execute_reply": "2021-04-16T19:42:08.487800Z"
    },
    "tags": [
     "hide-cell"
    ]
   },
   "outputs": [],
   "source": [
    "# Solution\n",
    "\n",
    "def pick_socks(n_pairs, n_odds, n_pick):\n",
    "    socks = np.append(np.arange(n_pairs), \n",
    "                      np.arange(n_pairs + n_odds))\n",
    "    \n",
    "    picked_socks = np.random.choice(socks, \n",
    "                                    size=n_pick, \n",
    "                                    replace=False)\n",
    "    \n",
    "    values, counts = np.unique(picked_socks, \n",
    "                               return_counts=True)\n",
    "    pairs = np.sum(counts==2)\n",
    "    odds = np.sum(counts==1)\n",
    "    return pairs, odds"
   ]
  },
  {
   "cell_type": "code",
   "execution_count": 65,
   "metadata": {
    "execution": {
     "iopub.execute_input": "2021-04-16T19:42:08.492100Z",
     "iopub.status.busy": "2021-04-16T19:42:08.491462Z",
     "iopub.status.idle": "2021-04-16T19:42:08.494263Z",
     "shell.execute_reply": "2021-04-16T19:42:08.493877Z"
    },
    "tags": [
     "hide-cell"
    ]
   },
   "outputs": [
    {
     "data": {
      "text/plain": [
       "(2, 7)"
      ]
     },
     "execution_count": 65,
     "metadata": {},
     "output_type": "execute_result"
    }
   ],
   "source": [
    "# Solution\n",
    "\n",
    "pick_socks(n_pairs, n_odds, 11)"
   ]
  },
  {
   "cell_type": "code",
   "execution_count": 66,
   "metadata": {
    "execution": {
     "iopub.execute_input": "2021-04-16T19:42:08.501495Z",
     "iopub.status.busy": "2021-04-16T19:42:08.500775Z",
     "iopub.status.idle": "2021-04-16T19:42:10.455065Z",
     "shell.execute_reply": "2021-04-16T19:42:10.455418Z"
    },
    "tags": [
     "hide-cell"
    ]
   },
   "outputs": [
    {
     "data": {
      "text/plain": [
       "1156"
      ]
     },
     "execution_count": 66,
     "metadata": {},
     "output_type": "execute_result"
    }
   ],
   "source": [
    "# Solution\n",
    "\n",
    "data = (0, 11)\n",
    "res = []\n",
    "for i in range(10000):\n",
    "    n_socks = prior_n_socks.rvs()\n",
    "    if n_socks < 11:\n",
    "        continue\n",
    "    prop_pairs = prior_prop_pair.rvs()\n",
    "    n_pairs = np.round(n_socks//2 * prop_pairs)\n",
    "    n_odds = n_socks - n_pairs*2\n",
    "    result = pick_socks(n_pairs, n_odds, 11)\n",
    "    if result == data:\n",
    "        res.append((n_socks, n_pairs, n_odds))\n",
    "\n",
    "len(res)"
   ]
  },
  {
   "cell_type": "code",
   "execution_count": 67,
   "metadata": {
    "execution": {
     "iopub.execute_input": "2021-04-16T19:42:10.464778Z",
     "iopub.status.busy": "2021-04-16T19:42:10.464087Z",
     "iopub.status.idle": "2021-04-16T19:42:10.467723Z",
     "shell.execute_reply": "2021-04-16T19:42:10.467177Z"
    },
    "tags": [
     "hide-cell"
    ]
   },
   "outputs": [
    {
     "data": {
      "text/html": [
       "<div>\n",
       "<style scoped>\n",
       "    .dataframe tbody tr th:only-of-type {\n",
       "        vertical-align: middle;\n",
       "    }\n",
       "\n",
       "    .dataframe tbody tr th {\n",
       "        vertical-align: top;\n",
       "    }\n",
       "\n",
       "    .dataframe thead th {\n",
       "        text-align: right;\n",
       "    }\n",
       "</style>\n",
       "<table border=\"1\" class=\"dataframe\">\n",
       "  <thead>\n",
       "    <tr style=\"text-align: right;\">\n",
       "      <th></th>\n",
       "      <th>n_socks</th>\n",
       "      <th>n_pairs</th>\n",
       "      <th>n_odds</th>\n",
       "    </tr>\n",
       "  </thead>\n",
       "  <tbody>\n",
       "    <tr>\n",
       "      <th>0</th>\n",
       "      <td>52</td>\n",
       "      <td>25.0</td>\n",
       "      <td>2.0</td>\n",
       "    </tr>\n",
       "    <tr>\n",
       "      <th>1</th>\n",
       "      <td>54</td>\n",
       "      <td>26.0</td>\n",
       "      <td>2.0</td>\n",
       "    </tr>\n",
       "    <tr>\n",
       "      <th>2</th>\n",
       "      <td>41</td>\n",
       "      <td>18.0</td>\n",
       "      <td>5.0</td>\n",
       "    </tr>\n",
       "    <tr>\n",
       "      <th>3</th>\n",
       "      <td>35</td>\n",
       "      <td>14.0</td>\n",
       "      <td>7.0</td>\n",
       "    </tr>\n",
       "    <tr>\n",
       "      <th>4</th>\n",
       "      <td>57</td>\n",
       "      <td>19.0</td>\n",
       "      <td>19.0</td>\n",
       "    </tr>\n",
       "  </tbody>\n",
       "</table>\n",
       "</div>"
      ],
      "text/plain": [
       "   n_socks  n_pairs  n_odds\n",
       "0       52     25.0     2.0\n",
       "1       54     26.0     2.0\n",
       "2       41     18.0     5.0\n",
       "3       35     14.0     7.0\n",
       "4       57     19.0    19.0"
      ]
     },
     "execution_count": 67,
     "metadata": {},
     "output_type": "execute_result"
    }
   ],
   "source": [
    "# Solution\n",
    "\n",
    "columns = ['n_socks', 'n_pairs', 'n_odds']\n",
    "results = pd.DataFrame(res, columns=columns)\n",
    "results.head()"
   ]
  },
  {
   "cell_type": "code",
   "execution_count": 68,
   "metadata": {
    "execution": {
     "iopub.execute_input": "2021-04-16T19:42:10.474896Z",
     "iopub.status.busy": "2021-04-16T19:42:10.472460Z",
     "iopub.status.idle": "2021-04-16T19:42:10.477967Z",
     "shell.execute_reply": "2021-04-16T19:42:10.477410Z"
    },
    "tags": [
     "hide-cell"
    ]
   },
   "outputs": [
    {
     "name": "stdout",
     "output_type": "stream",
     "text": [
      "44.0 [27. 74.]\n"
     ]
    }
   ],
   "source": [
    "# Solution\n",
    "\n",
    "qs = np.arange(15, 100)\n",
    "posterior_n_socks = Pmf.from_seq(results['n_socks'])\n",
    "print(posterior_n_socks.median(),\n",
    "      posterior_n_socks.credible_interval(0.9))"
   ]
  },
  {
   "cell_type": "code",
   "execution_count": 69,
   "metadata": {
    "execution": {
     "iopub.execute_input": "2021-04-16T19:42:10.498627Z",
     "iopub.status.busy": "2021-04-16T19:42:10.497929Z",
     "iopub.status.idle": "2021-04-16T19:42:10.659185Z",
     "shell.execute_reply": "2021-04-16T19:42:10.658762Z"
    },
    "tags": [
     "hide-cell"
    ]
   },
   "outputs": [
    {
     "data": {
      "image/png": "[encoded data removed]",
      "text/plain": [
       "<Figure size 432x288 with 1 Axes>"
      ]
     },
     "metadata": {
      "needs_background": "light"
     },
     "output_type": "display_data"
    }
   ],
   "source": [
    "# Solution\n",
    "\n",
    "posterior_n_socks.plot(label='posterior', drawstyle='steps')\n",
    "\n",
    "decorate(xlabel='Number of socks',\n",
    "         ylabel='PMF')"
   ]
  },
  {
   "cell_type": "code",
   "execution_count": null,
   "metadata": {},
   "outputs": [],
   "source": []
  }
 ],
 "metadata": {
  "celltoolbar": "Tags",
  "kernelspec": {
   "display_name": "Python 3 (ipykernel)",
   "language": "python",
   "name": "python3"
  },
  "language_info": {
   "codemirror_mode": {
    "name": "ipython",
    "version": 3
   },
   "file_extension": ".py",
   "mimetype": "text/x-python",
   "name": "python",
   "nbconvert_exporter": "python",
   "pygments_lexer": "ipython3",
   "version": "3.8.12"
  }
 },
 "nbformat": 4,
 "nbformat_minor": 4
}
