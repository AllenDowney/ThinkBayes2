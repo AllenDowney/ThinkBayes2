{
 "cells": [
  {
   "cell_type": "markdown",
   "metadata": {},
   "source": [
    "You can order print and ebook versions of *Think Bayes 2e* from\n",
    "[Bookshop.org](https://bookshop.org/a/98697/9781492089469) and\n",
    "[Amazon](https://amzn.to/334eqGo)."
   ]
  },
  {
   "cell_type": "markdown",
   "metadata": {},
   "source": [
    "# Cancer Survival Rates\n",
    "\n",
    "Suppose someone is diagnosed with Stage IV colon cancer and dies soon afterward.\n",
    "And suppose the 5-year survival rate for colon cancer is 91% when it is diagnosed at Stage I.\n",
    "It is tempting to conclude that the person would have had a 91% chance of survival if they had been diagnosed earlier.\n",
    "\n",
    "But that's not true.\n",
    "\n",
    "The actual probability depends on details of how cancer progresses and the effectiveness of treatment.\n",
    "In the limiting case where treatment is ineffective, the actual probability of survival -- in the hypothetical scenario that they had been diagnosed earlier -- is zero.\n",
    "In reality, it is higher than zero, but probably much less than 91%.\n",
    "\n",
    "It's important to get this right, because Stage I survival rates are often used to argue for increased screening.\n",
    "But that's not a valid argument -- we can't tell, just by looking at survival tables, whether screening would improve outcomes at all.\n",
    "\n",
    "To demonstrate this point, I'll model a hypothetical cancer that produces the same survival rates as colon cancer -- high for Stage I and low for Stage IV -- **even though treatment is completely ineffective**.\n",
    "And if treatment is ineffective, screening has no benefit at all."
   ]
  },
  {
   "cell_type": "markdown",
   "metadata": {},
   "source": [
    "## Background\n",
    "\n",
    "In a [recent video](https://www.youtube.com/watch?v=ph2ZeNooFLg), Nassim Taleb and Emi Gal discuss the pros and cons of cancer screening, especially full-body MRIs for people who have no symptoms.\n",
    "\n",
    "At one point they consider this table of survival rates based on stage at diagnosis:\n",
    "\n",
    "<img width=\"600\" src=\"https://github.com/AllenDowney/ThinkBayes2/raw/master/images/cancer_table.png\">\n",
    "\n",
    "They note that survival rates are generally highest if a tumor is detected while localized at the primary site, lower if it has spread regionally, and often much lower if it has spread distantly."
   ]
  },
  {
   "cell_type": "markdown",
   "metadata": {},
   "source": [
    "They take this as evidence that screening for these cancers is beneficial.\n",
    "For example, [at one point](https://youtu.be/ph2ZeNooFLg?t=357) Taleb says, \"Look at the payoff for pancreatic cancer -- 10 times the survival rate.\"\n",
    "\n",
    "And Gal adds, \"Colon cancer, it's like seven times... The overarching insight is that you want to find cancer early... This table makes the case for the importance of finding cancer early.\"\n",
    "\n",
    "Taleb agrees, but I think that conclusion is incorrect. **This table does not make the case that it is better to catch cancer early**."
   ]
  },
  {
   "cell_type": "markdown",
   "metadata": {},
   "source": [
    "To be clear, it is *possible* that catching cancer early is beneficial, but only if (1) the cancers we catch would otherwise cause disease and death, and (2) we have treatments that prevent those outcomes -- and this table does not show that either of those things is true.\n",
    "In fact, it is possible for a cancer to reproduce any row in this table, even if we have no treatment and detection has no effect on the progression of disease.\n",
    "\n",
    "To demonstrate, I'll use a Markov model to reproduce the incidence and survival rates of colon cancer, even if there were no effective treatment.\n",
    "\n",
    "To be clear, I'm not claiming that cancer treatment is not effective -- in many cases we know that it is.\n",
    "My point is that we can't tell, just looking at a survival rates, whether early detection has any benefit at all.\n",
    "\n",
    "That's why [this editorial](https://pmc.ncbi.nlm.nih.gov/articles/PMC2733256/) by Gerd Gigerenzer concludes, \"In the context of screening, survival rates are misleading statistics.\""
   ]
  },
  {
   "cell_type": "markdown",
   "metadata": {},
   "source": [
    "If you want to replicate my analysis, you can [click here to run this notebook on Colab](https://colab.research.google.com/github/AllenDowney/ThinkBayes2/blob/master/examples/cancer.ipynb)."
   ]
  },
  {
   "cell_type": "code",
   "execution_count": 1,
   "metadata": {
    "tags": [
     "remove-cell"
    ]
   },
   "outputs": [],
   "source": [
    "# install empiricaldist if necessary\n",
    "try:\n",
    "    import empiricaldist\n",
    "except ImportError:\n",
    "    !pip install empiricaldist"
   ]
  },
  {
   "cell_type": "code",
   "execution_count": 2,
   "metadata": {
    "execution": {
     "iopub.execute_input": "2021-04-16T19:35:30.756174Z",
     "iopub.status.busy": "2021-04-16T19:35:30.755765Z",
     "iopub.status.idle": "2021-04-16T19:35:30.757511Z",
     "shell.execute_reply": "2021-04-16T19:35:30.757889Z"
    },
    "tags": [
     "remove-cell"
    ]
   },
   "outputs": [],
   "source": [
    "# Get utils.py\n",
    "\n",
    "from os.path import basename, exists\n",
    "\n",
    "def download(url):\n",
    "    filename = basename(url)\n",
    "    if not exists(filename):\n",
    "        from urllib.request import urlretrieve\n",
    "        local, _ = urlretrieve(url, filename)\n",
    "        print('Downloaded ' + local)\n",
    "    \n",
    "download('https://github.com/AllenDowney/ThinkBayes2/raw/master/soln/utils.py')"
   ]
  },
  {
   "cell_type": "code",
   "execution_count": 3,
   "metadata": {
    "execution": {
     "iopub.execute_input": "2021-04-16T19:35:30.760611Z",
     "iopub.status.busy": "2021-04-16T19:35:30.760188Z",
     "iopub.status.idle": "2021-04-16T19:35:31.437686Z",
     "shell.execute_reply": "2021-04-16T19:35:31.438042Z"
    },
    "tags": [
     "remove-cell"
    ]
   },
   "outputs": [],
   "source": [
    "import numpy as np\n",
    "import matplotlib.pyplot as plt\n",
    "import pandas as pd\n",
    "\n",
    "from utils import decorate, set_pyplot_params\n",
    "\n",
    "np.random.seed(0)\n",
    "np.set_printoptions(legacy='1.25')\n",
    "set_pyplot_params()"
   ]
  },
  {
   "cell_type": "markdown",
   "metadata": {},
   "source": [
    "## Data\n",
    "\n",
    "I downloaded 5-year survival rates from [SEER 17](https://canques.seer.cancer.gov/cq_results.php?dir=surv2021&db=101&rpt=TAB&sel=1,2^1,2,3,4,5,6,7,8,9,10,11,12,13,14,15,16,17,18,19,20,21,22,23,24,25,26,27,28,29,30,31,32,33,34,35,36^0^0^0^1,2,3,4^5&y=Stage%20at%20diagnosis^1,2,3,4&x=Site^1,2,3,4,5,6,7,8,9,10,11,12,13,14,15,16,17,18,19,20,21,22,23,24,25,26,27,28,29,30,31,32,33,34,35,36&z=Statistic%20type^1,2&dec=1,0,1&template=null), including diagnoses from 2014-2020, male and female, all races, all ages at diagnosis."
   ]
  },
  {
   "cell_type": "code",
   "execution_count": 4,
   "metadata": {},
   "outputs": [],
   "source": [
    "tables = pd.read_html('CanQues Results.html')"
   ]
  },
  {
   "cell_type": "code",
   "execution_count": 5,
   "metadata": {},
   "outputs": [],
   "source": [
    "def clean_table(df):\n",
    "    df = df.set_index(\"Unnamed: 0\")\n",
    "    df.index.name = 'Site'\n",
    "    df = df.replace({'%': ''}, regex=True).apply(pd.to_numeric, errors='coerce')\n",
    "    return df"
   ]
  },
  {
   "cell_type": "markdown",
   "metadata": {},
   "source": [
    "Here are the first few rows of the 5-year survival table."
   ]
  },
  {
   "cell_type": "code",
   "execution_count": 6,
   "metadata": {},
   "outputs": [
    {
     "data": {
      "text/html": [
       "<div>\n",
       "<style scoped>\n",
       "    .dataframe tbody tr th:only-of-type {\n",
       "        vertical-align: middle;\n",
       "    }\n",
       "\n",
       "    .dataframe tbody tr th {\n",
       "        vertical-align: top;\n",
       "    }\n",
       "\n",
       "    .dataframe thead th {\n",
       "        text-align: right;\n",
       "    }\n",
       "</style>\n",
       "<table border=\"1\" class=\"dataframe\">\n",
       "  <thead>\n",
       "    <tr style=\"text-align: right;\">\n",
       "      <th></th>\n",
       "      <th>Localized</th>\n",
       "      <th>Regional</th>\n",
       "      <th>Distant</th>\n",
       "      <th>Unknown/unstaged</th>\n",
       "    </tr>\n",
       "    <tr>\n",
       "      <th>Site</th>\n",
       "      <th></th>\n",
       "      <th></th>\n",
       "      <th></th>\n",
       "      <th></th>\n",
       "    </tr>\n",
       "  </thead>\n",
       "  <tbody>\n",
       "    <tr>\n",
       "      <th>Oral Cavity and Pharynx</th>\n",
       "      <td>88.2</td>\n",
       "      <td>70.8</td>\n",
       "      <td>38.2</td>\n",
       "      <td>58.8</td>\n",
       "    </tr>\n",
       "    <tr>\n",
       "      <th>Esophagus</th>\n",
       "      <td>48.0</td>\n",
       "      <td>28.1</td>\n",
       "      <td>5.6</td>\n",
       "      <td>13.6</td>\n",
       "    </tr>\n",
       "    <tr>\n",
       "      <th>Stomach</th>\n",
       "      <td>73.8</td>\n",
       "      <td>35.2</td>\n",
       "      <td>6.5</td>\n",
       "      <td>27.7</td>\n",
       "    </tr>\n",
       "    <tr>\n",
       "      <th>Colon and Rectum</th>\n",
       "      <td>91.4</td>\n",
       "      <td>74.0</td>\n",
       "      <td>15.8</td>\n",
       "      <td>42.8</td>\n",
       "    </tr>\n",
       "    <tr>\n",
       "      <th>Liver and Intrahepatic Bile Duct</th>\n",
       "      <td>37.3</td>\n",
       "      <td>13.0</td>\n",
       "      <td>3.2</td>\n",
       "      <td>8.1</td>\n",
       "    </tr>\n",
       "  </tbody>\n",
       "</table>\n",
       "</div>"
      ],
      "text/plain": [
       "                                  Localized  Regional  Distant  \\\n",
       "Site                                                             \n",
       "Oral Cavity and Pharynx                88.2      70.8     38.2   \n",
       "Esophagus                              48.0      28.1      5.6   \n",
       "Stomach                                73.8      35.2      6.5   \n",
       "Colon and Rectum                       91.4      74.0     15.8   \n",
       "Liver and Intrahepatic Bile Duct       37.3      13.0      3.2   \n",
       "\n",
       "                                  Unknown/unstaged  \n",
       "Site                                                \n",
       "Oral Cavity and Pharynx                       58.8  \n",
       "Esophagus                                     13.6  \n",
       "Stomach                                       27.7  \n",
       "Colon and Rectum                              42.8  \n",
       "Liver and Intrahepatic Bile Duct               8.1  "
      ]
     },
     "execution_count": 6,
     "metadata": {},
     "output_type": "execute_result"
    }
   ],
   "source": [
    "df1 = clean_table(tables[0])\n",
    "df1.head()"
   ]
  },
  {
   "cell_type": "markdown",
   "metadata": {},
   "source": [
    "In this data, the 5-year survival rate for colon cancer is 91.4% if it's detected when localized, 74% if it is not detected until it has spread regionally, and 15.8% if it has spread distantly.\n",
    "For this example, I'll assume that the unknown/unstaged cancers are a mixture of the other categories and we'll leave them out of the analysis.\n",
    "\n",
    "The dataset also includes the number of cases diagnosed at each stage."
   ]
  },
  {
   "cell_type": "code",
   "execution_count": 7,
   "metadata": {},
   "outputs": [
    {
     "data": {
      "text/html": [
       "<div>\n",
       "<style scoped>\n",
       "    .dataframe tbody tr th:only-of-type {\n",
       "        vertical-align: middle;\n",
       "    }\n",
       "\n",
       "    .dataframe tbody tr th {\n",
       "        vertical-align: top;\n",
       "    }\n",
       "\n",
       "    .dataframe thead th {\n",
       "        text-align: right;\n",
       "    }\n",
       "</style>\n",
       "<table border=\"1\" class=\"dataframe\">\n",
       "  <thead>\n",
       "    <tr style=\"text-align: right;\">\n",
       "      <th></th>\n",
       "      <th>Localized</th>\n",
       "      <th>Regional</th>\n",
       "      <th>Distant</th>\n",
       "      <th>Unknown/unstaged</th>\n",
       "    </tr>\n",
       "    <tr>\n",
       "      <th>Site</th>\n",
       "      <th></th>\n",
       "      <th></th>\n",
       "      <th></th>\n",
       "      <th></th>\n",
       "    </tr>\n",
       "  </thead>\n",
       "  <tbody>\n",
       "    <tr>\n",
       "      <th>Oral Cavity and Pharynx</th>\n",
       "      <td>16225.0</td>\n",
       "      <td>32154.0</td>\n",
       "      <td>9328.0</td>\n",
       "      <td>3138.0</td>\n",
       "    </tr>\n",
       "    <tr>\n",
       "      <th>Esophagus</th>\n",
       "      <td>3954.0</td>\n",
       "      <td>7071.0</td>\n",
       "      <td>8722.0</td>\n",
       "      <td>2062.0</td>\n",
       "    </tr>\n",
       "    <tr>\n",
       "      <th>Stomach</th>\n",
       "      <td>10613.0</td>\n",
       "      <td>9131.0</td>\n",
       "      <td>13737.0</td>\n",
       "      <td>3371.0</td>\n",
       "    </tr>\n",
       "    <tr>\n",
       "      <th>Colon and Rectum</th>\n",
       "      <td>72619.0</td>\n",
       "      <td>72115.0</td>\n",
       "      <td>46247.0</td>\n",
       "      <td>10184.0</td>\n",
       "    </tr>\n",
       "    <tr>\n",
       "      <th>Liver and Intrahepatic Bile Duct</th>\n",
       "      <td>24061.0</td>\n",
       "      <td>13361.0</td>\n",
       "      <td>10622.0</td>\n",
       "      <td>5459.0</td>\n",
       "    </tr>\n",
       "  </tbody>\n",
       "</table>\n",
       "</div>"
      ],
      "text/plain": [
       "                                  Localized  Regional  Distant  \\\n",
       "Site                                                             \n",
       "Oral Cavity and Pharynx             16225.0   32154.0   9328.0   \n",
       "Esophagus                            3954.0    7071.0   8722.0   \n",
       "Stomach                             10613.0    9131.0  13737.0   \n",
       "Colon and Rectum                    72619.0   72115.0  46247.0   \n",
       "Liver and Intrahepatic Bile Duct    24061.0   13361.0  10622.0   \n",
       "\n",
       "                                  Unknown/unstaged  \n",
       "Site                                                \n",
       "Oral Cavity and Pharynx                     3138.0  \n",
       "Esophagus                                   2062.0  \n",
       "Stomach                                     3371.0  \n",
       "Colon and Rectum                           10184.0  \n",
       "Liver and Intrahepatic Bile Duct            5459.0  "
      ]
     },
     "execution_count": 7,
     "metadata": {},
     "output_type": "execute_result"
    }
   ],
   "source": [
    "df2 = clean_table(tables[1])\n",
    "df2.head()"
   ]
  },
  {
   "cell_type": "markdown",
   "metadata": {},
   "source": [
    "I'll normalize the rows so we have the percentage of cancers diagnosed at each stage."
   ]
  },
  {
   "cell_type": "code",
   "execution_count": 8,
   "metadata": {},
   "outputs": [
    {
     "data": {
      "text/html": [
       "<div>\n",
       "<style scoped>\n",
       "    .dataframe tbody tr th:only-of-type {\n",
       "        vertical-align: middle;\n",
       "    }\n",
       "\n",
       "    .dataframe tbody tr th {\n",
       "        vertical-align: top;\n",
       "    }\n",
       "\n",
       "    .dataframe thead th {\n",
       "        text-align: right;\n",
       "    }\n",
       "</style>\n",
       "<table border=\"1\" class=\"dataframe\">\n",
       "  <thead>\n",
       "    <tr style=\"text-align: right;\">\n",
       "      <th></th>\n",
       "      <th>Localized</th>\n",
       "      <th>Regional</th>\n",
       "      <th>Distant</th>\n",
       "    </tr>\n",
       "    <tr>\n",
       "      <th>Site</th>\n",
       "      <th></th>\n",
       "      <th></th>\n",
       "      <th></th>\n",
       "    </tr>\n",
       "  </thead>\n",
       "  <tbody>\n",
       "    <tr>\n",
       "      <th>Oral Cavity and Pharynx</th>\n",
       "      <td>28.116173</td>\n",
       "      <td>55.719410</td>\n",
       "      <td>16.164417</td>\n",
       "    </tr>\n",
       "    <tr>\n",
       "      <th>Esophagus</th>\n",
       "      <td>20.023295</td>\n",
       "      <td>35.807971</td>\n",
       "      <td>44.168734</td>\n",
       "    </tr>\n",
       "    <tr>\n",
       "      <th>Stomach</th>\n",
       "      <td>31.698575</td>\n",
       "      <td>27.272184</td>\n",
       "      <td>41.029240</td>\n",
       "    </tr>\n",
       "    <tr>\n",
       "      <th>Colon and Rectum</th>\n",
       "      <td>38.024201</td>\n",
       "      <td>37.760301</td>\n",
       "      <td>24.215498</td>\n",
       "    </tr>\n",
       "    <tr>\n",
       "      <th>Liver and Intrahepatic Bile Duct</th>\n",
       "      <td>50.081176</td>\n",
       "      <td>27.809924</td>\n",
       "      <td>22.108900</td>\n",
       "    </tr>\n",
       "  </tbody>\n",
       "</table>\n",
       "</div>"
      ],
      "text/plain": [
       "                                  Localized   Regional    Distant\n",
       "Site                                                             \n",
       "Oral Cavity and Pharynx           28.116173  55.719410  16.164417\n",
       "Esophagus                         20.023295  35.807971  44.168734\n",
       "Stomach                           31.698575  27.272184  41.029240\n",
       "Colon and Rectum                  38.024201  37.760301  24.215498\n",
       "Liver and Intrahepatic Bile Duct  50.081176  27.809924  22.108900"
      ]
     },
     "execution_count": 8,
     "metadata": {},
     "output_type": "execute_result"
    }
   ],
   "source": [
    "cols = ['Localized', 'Regional', 'Distant']\n",
    "subset = df2[cols]\n",
    "incidence = subset.div(subset.sum(axis=1), axis=0) * 100\n",
    "incidence.head()"
   ]
  },
  {
   "cell_type": "markdown",
   "metadata": {},
   "source": [
    "Here are the statistics we'll try to replicate in the model:\n",
    "\n",
    "* Five-year survival rates: 91% if localized / 74% if regional / 16% if distant\n",
    "\n",
    "* Distribution of stage at diagnosis: 38% localized / 38% regional / 24% distant\n",
    "\n",
    "Note that there are only five degrees of freedom because the second row has to add up to 100%."
   ]
  },
  {
   "cell_type": "markdown",
   "metadata": {},
   "source": [
    "## Markov Model\n",
    "\n",
    "We'll model cancer progression using a Markov chain with these states:\n",
    "\n",
    "* `U1`, `U2`, and `U3` represent cancers that are undetected at each stage: local, regional, and distant.\n",
    "\n",
    "* `D1`, `D2`, `D3` represent cancers that were detected/diagnosed at each stage.\n",
    "\n",
    "* And `M` represents mortality.\n",
    "\n",
    "The following function builds the model."
   ]
  },
  {
   "cell_type": "code",
   "execution_count": 9,
   "metadata": {},
   "outputs": [],
   "source": [
    "import networkx as nx\n",
    "\n",
    "def make_graph(lams, kappas, mu, gamma=0):\n",
    "    G = nx.DiGraph()\n",
    "\n",
    "    for i, lam in enumerate(lams):\n",
    "        G.add_edge(f'U{i+1}', f'U{i+2}', p=lam)\n",
    "        G.add_edge(f'D{i+1}', f'D{i+2}', p=(1 - gamma) * lam)\n",
    "\n",
    "    for i, kappa in enumerate(kappas):\n",
    "        G.add_edge(f'U{i+1}', f'D{i+1}', p=kappa)\n",
    "\n",
    "    \n",
    "    G.add_edge('D3', 'M', p=mu)\n",
    "    return G"
   ]
  },
  {
   "cell_type": "markdown",
   "metadata": {},
   "source": [
    "The transition probabilities are:\n",
    "\n",
    "* `lams`, two values that represent transition rates between stages,\n",
    "\n",
    "* `kappas`, three values that represent detection rates at each state,\n",
    "\n",
    "* `mu` the mortality rate from `D3`,\n",
    "\n",
    "* `gamma` the effectiveness of treatment.\n",
    "\n",
    "If `gamma > 0`, the treatment is effective by decreasing the probability of progression to the next stage.\n",
    "In the models we'll run for this example, `gamma=0`, which means that detection has no effect on progression.\n",
    "In reality, `gamma=0` could mean either:\n",
    "\n",
    "* There is no effective treatment, or\n",
    "\n",
    "* The benefit of treatment is offset by the negative implication of detection.\n",
    "\n",
    "To explain the second point, detection might be more likely if a cancer causes symptoms, and a cancer that causes symptoms might be more likely to progress, compared to an asymptomatic cancer at the same stage.\n",
    "\n",
    "So, in the absence of effective treatment, we might expect `gamma < 0`.\n",
    "A moderately effective treatment would have to overcome this effect to bring `gamma` up to 0.\n",
    "\n",
    "Here are the values of these parameters I chose to fit the data."
   ]
  },
  {
   "cell_type": "code",
   "execution_count": 10,
   "metadata": {},
   "outputs": [],
   "source": [
    "lams = [0.15, 0.16]\n",
    "kappas = [0.09, 0.18, 0.80]\n",
    "mu = 0.3\n",
    "\n",
    "G = make_graph(lams, kappas, mu, gamma=0)"
   ]
  },
  {
   "cell_type": "markdown",
   "metadata": {},
   "source": [
    "Overall, these values are within the range we observe in real cancers.\n",
    "\n",
    "* The transition rates are close to 1/6, which means the average time at each stage is 6 simulated years.\n",
    "\n",
    "* The detection rate is low at the first stage, higher at the second, and much higher at the third.\n",
    "\n",
    "* The mortality rate is close to 1/3, so the average survival after diagnosis at the third stage is about 3 years."
   ]
  },
  {
   "cell_type": "markdown",
   "metadata": {},
   "source": [
    "The following figure shows the states and transition rates of the model."
   ]
  },
  {
   "cell_type": "code",
   "execution_count": 11,
   "metadata": {},
   "outputs": [
    {
     "data": {
      "image/png": "[encoded data removed]",
      "text/plain": [
       "<Figure size 450x300 with 1 Axes>"
      ]
     },
     "metadata": {},
     "output_type": "display_data"
    }
   ],
   "source": [
    "edge_labels = {(u, v): f\"{d['p']:.2f}\" \n",
    "               for u, v, d in G.edges(data=True)}\n",
    "pos = {}\n",
    "\n",
    "for i, state in enumerate(['U1', 'U2', 'U3']):\n",
    "    pos[state] = (i, 1)\n",
    "\n",
    "for i, state in enumerate(['D1', 'D2', 'D3']):\n",
    "    pos[state] = (i, 0)\n",
    "\n",
    "pos['M'] = (3, 0)\n",
    "\n",
    "nx.draw_networkx(G, pos=pos, node_color='lightblue', node_size=500)\n",
    "                             \n",
    "nx.draw_networkx_edge_labels(G, pos, \n",
    "                             edge_labels=edge_labels,\n",
    "                             font_size=11,\n",
    "                             font_color='C0')\n",
    "plt.axis('equal')\n",
    "plt.tight_layout()"
   ]
  },
  {
   "cell_type": "markdown",
   "metadata": {},
   "source": [
    "In this model, death is only possible after a cancer has progressed to the third stage and been detected.\n",
    "That's obviously not realistic -- in reality deaths can occur at any stage, due to cancer or other causes.\n",
    "\n",
    "But adding more transitions would not make make the model better.\n",
    "The goal is to show that we can reproduce survival rates even with restrictive assumptions, so we'll minimize the number of parameters.\n",
    "\n",
    "It might also help to think of the states more abstractly.\n",
    "For example, a transition from `D2` to `D3` might literally represent a cancer that progresses from one stage to another, but it could also include someone whose risk of mortality has increased to be comparable to someone at the next stage, due to other causes."
   ]
  },
  {
   "cell_type": "markdown",
   "metadata": {},
   "source": [
    "## Simulation\n",
    "\n",
    "To simulate the model, we'll use the Markov chain implementation in the [QuantEcon package](https://quanteconpy.readthedocs.io/en/latest/)).\n",
    "\n",
    "The following function extracts the probabilities in the graph and makes a transition matrix we can use with QuantEcon."
   ]
  },
  {
   "cell_type": "code",
   "execution_count": 12,
   "metadata": {},
   "outputs": [],
   "source": [
    "def make_transition_matrix(G, states):\n",
    "    n_states = len(states)\n",
    "\n",
    "    # Create a mapping from state names to indices\n",
    "    state_to_idx = {state: i for i, state in enumerate(states)}\n",
    "\n",
    "    # Initialize the transition matrix with zeros\n",
    "    P = np.zeros((n_states, n_states))\n",
    "\n",
    "    # Fill in the transition probabilities from the graph\n",
    "    for i, state in enumerate(states):\n",
    "\n",
    "        total_prob = 0\n",
    "        for neighbor in G.successors(state):\n",
    "            j = state_to_idx[neighbor]\n",
    "            prob = G[state][neighbor]['p']\n",
    "            P[i, j] = prob\n",
    "            total_prob += prob\n",
    "\n",
    "        # Add self-loop probability (staying in the same state)\n",
    "        P[i, i] = 1 - total_prob\n",
    "\n",
    "    # For absorbing state 'M', set self-transition to 1\n",
    "    M_idx = state_to_idx['M']\n",
    "    P[M_idx, M_idx] = 1\n",
    "    return P"
   ]
  },
  {
   "cell_type": "code",
   "execution_count": 13,
   "metadata": {},
   "outputs": [
    {
     "data": {
      "text/html": [
       "<div>\n",
       "<style scoped>\n",
       "    .dataframe tbody tr th:only-of-type {\n",
       "        vertical-align: middle;\n",
       "    }\n",
       "\n",
       "    .dataframe tbody tr th {\n",
       "        vertical-align: top;\n",
       "    }\n",
       "\n",
       "    .dataframe thead th {\n",
       "        text-align: right;\n",
       "    }\n",
       "</style>\n",
       "<table border=\"1\" class=\"dataframe\">\n",
       "  <thead>\n",
       "    <tr style=\"text-align: right;\">\n",
       "      <th></th>\n",
       "      <th>U1</th>\n",
       "      <th>U2</th>\n",
       "      <th>U3</th>\n",
       "      <th>D1</th>\n",
       "      <th>D2</th>\n",
       "      <th>D3</th>\n",
       "      <th>M</th>\n",
       "    </tr>\n",
       "  </thead>\n",
       "  <tbody>\n",
       "    <tr>\n",
       "      <th>U1</th>\n",
       "      <td>0.76</td>\n",
       "      <td>0.15</td>\n",
       "      <td>0.00</td>\n",
       "      <td>0.09</td>\n",
       "      <td>0.00</td>\n",
       "      <td>0.00</td>\n",
       "      <td>0.0</td>\n",
       "    </tr>\n",
       "    <tr>\n",
       "      <th>U2</th>\n",
       "      <td>0.00</td>\n",
       "      <td>0.66</td>\n",
       "      <td>0.16</td>\n",
       "      <td>0.00</td>\n",
       "      <td>0.18</td>\n",
       "      <td>0.00</td>\n",
       "      <td>0.0</td>\n",
       "    </tr>\n",
       "    <tr>\n",
       "      <th>U3</th>\n",
       "      <td>0.00</td>\n",
       "      <td>0.00</td>\n",
       "      <td>0.20</td>\n",
       "      <td>0.00</td>\n",
       "      <td>0.00</td>\n",
       "      <td>0.80</td>\n",
       "      <td>0.0</td>\n",
       "    </tr>\n",
       "    <tr>\n",
       "      <th>D1</th>\n",
       "      <td>0.00</td>\n",
       "      <td>0.00</td>\n",
       "      <td>0.00</td>\n",
       "      <td>0.85</td>\n",
       "      <td>0.15</td>\n",
       "      <td>0.00</td>\n",
       "      <td>0.0</td>\n",
       "    </tr>\n",
       "    <tr>\n",
       "      <th>D2</th>\n",
       "      <td>0.00</td>\n",
       "      <td>0.00</td>\n",
       "      <td>0.00</td>\n",
       "      <td>0.00</td>\n",
       "      <td>0.84</td>\n",
       "      <td>0.16</td>\n",
       "      <td>0.0</td>\n",
       "    </tr>\n",
       "    <tr>\n",
       "      <th>D3</th>\n",
       "      <td>0.00</td>\n",
       "      <td>0.00</td>\n",
       "      <td>0.00</td>\n",
       "      <td>0.00</td>\n",
       "      <td>0.00</td>\n",
       "      <td>0.70</td>\n",
       "      <td>0.3</td>\n",
       "    </tr>\n",
       "    <tr>\n",
       "      <th>M</th>\n",
       "      <td>0.00</td>\n",
       "      <td>0.00</td>\n",
       "      <td>0.00</td>\n",
       "      <td>0.00</td>\n",
       "      <td>0.00</td>\n",
       "      <td>0.00</td>\n",
       "      <td>1.0</td>\n",
       "    </tr>\n",
       "  </tbody>\n",
       "</table>\n",
       "</div>"
      ],
      "text/plain": [
       "      U1    U2    U3    D1    D2    D3    M\n",
       "U1  0.76  0.15  0.00  0.09  0.00  0.00  0.0\n",
       "U2  0.00  0.66  0.16  0.00  0.18  0.00  0.0\n",
       "U3  0.00  0.00  0.20  0.00  0.00  0.80  0.0\n",
       "D1  0.00  0.00  0.00  0.85  0.15  0.00  0.0\n",
       "D2  0.00  0.00  0.00  0.00  0.84  0.16  0.0\n",
       "D3  0.00  0.00  0.00  0.00  0.00  0.70  0.3\n",
       "M   0.00  0.00  0.00  0.00  0.00  0.00  1.0"
      ]
     },
     "execution_count": 13,
     "metadata": {},
     "output_type": "execute_result"
    }
   ],
   "source": [
    "states = ['U1', 'U2', 'U3', 'D1', 'D2', 'D3', 'M']\n",
    "P = make_transition_matrix(G, states)\n",
    "pd.DataFrame(P, index=states, columns=states)"
   ]
  },
  {
   "cell_type": "markdown",
   "metadata": {},
   "source": [
    "Now we can make a `MarkovChain` object."
   ]
  },
  {
   "cell_type": "code",
   "execution_count": 14,
   "metadata": {},
   "outputs": [],
   "source": [
    "from quantecon import MarkovChain\n",
    "\n",
    "mc = MarkovChain(P, state_values=states)"
   ]
  },
  {
   "cell_type": "markdown",
   "metadata": {},
   "source": [
    "We'll run 100 simulated years so we have survival times for all cases (with high probability)."
   ]
  },
  {
   "cell_type": "code",
   "execution_count": 15,
   "metadata": {},
   "outputs": [
    {
     "data": {
      "text/plain": [
       "array(['U1', 'U1', 'U1', 'U1', 'U1', 'U1', 'U1', 'U1', 'U2', 'D2', 'D2',\n",
       "       'D2', 'D2', 'D2', 'D3', 'D3', 'D3', 'D3', 'M', 'M', 'M', 'M', 'M',\n",
       "       'M', 'M', 'M', 'M', 'M', 'M', 'M', 'M', 'M', 'M', 'M', 'M', 'M',\n",
       "       'M', 'M', 'M', 'M', 'M', 'M', 'M', 'M', 'M', 'M', 'M', 'M', 'M',\n",
       "       'M', 'M', 'M', 'M', 'M', 'M', 'M', 'M', 'M', 'M', 'M', 'M', 'M',\n",
       "       'M', 'M', 'M', 'M', 'M', 'M', 'M', 'M', 'M', 'M', 'M', 'M', 'M',\n",
       "       'M', 'M', 'M', 'M', 'M', 'M', 'M', 'M', 'M', 'M', 'M', 'M', 'M',\n",
       "       'M', 'M', 'M', 'M', 'M', 'M', 'M', 'M', 'M', 'M', 'M', 'M'],\n",
       "      dtype='<U2')"
      ]
     },
     "execution_count": 15,
     "metadata": {},
     "output_type": "execute_result"
    }
   ],
   "source": [
    "state_seq = mc.simulate(ts_length=100, init='U1')\n",
    "state_seq"
   ]
  },
  {
   "cell_type": "markdown",
   "metadata": {},
   "source": [
    "To analyze the results, we'll use the following function, which takes a state sequence and returns the time of diagnosis and stage at diagnosis."
   ]
  },
  {
   "cell_type": "code",
   "execution_count": 16,
   "metadata": {},
   "outputs": [],
   "source": [
    "def diagnosed(state_seq):\n",
    "    for i, state in enumerate(state_seq):\n",
    "        if state.startswith('D'):\n",
    "            return i, state\n",
    "    return None, None"
   ]
  },
  {
   "cell_type": "code",
   "execution_count": 17,
   "metadata": {},
   "outputs": [
    {
     "data": {
      "text/plain": [
       "(9, 'D2')"
      ]
     },
     "execution_count": 17,
     "metadata": {},
     "output_type": "execute_result"
    }
   ],
   "source": [
    "diagnosis_index, stage = diagnosed(state_seq)\n",
    "diagnosis_index, stage"
   ]
  },
  {
   "cell_type": "markdown",
   "metadata": {},
   "source": [
    "And we'll use the following function to check 5-year survival after diagnosis.\n",
    "In the rare case where we reach the end of the sequence, that case is counted as a survival."
   ]
  },
  {
   "cell_type": "code",
   "execution_count": 18,
   "metadata": {},
   "outputs": [],
   "source": [
    "def survived(state_seq, diagnosis_index, duration=5):\n",
    "    idx = diagnosis_index + duration\n",
    "    if idx < len(state_seq):\n",
    "        return state_seq[idx] != 'M'\n",
    "    else:\n",
    "        return True"
   ]
  },
  {
   "cell_type": "code",
   "execution_count": 19,
   "metadata": {},
   "outputs": [
    {
     "data": {
      "text/plain": [
       "True"
      ]
     },
     "execution_count": 19,
     "metadata": {},
     "output_type": "execute_result"
    }
   ],
   "source": [
    "survived(state_seq, diagnosis_index)"
   ]
  },
  {
   "cell_type": "markdown",
   "metadata": {},
   "source": [
    "Now we'll run many simulations and collect the results.\n",
    "If a case is never diagnosed, it is omitted -- but that never happens in this example."
   ]
  },
  {
   "cell_type": "code",
   "execution_count": 20,
   "metadata": {},
   "outputs": [
    {
     "data": {
      "text/plain": [
       "10000"
      ]
     },
     "execution_count": 20,
     "metadata": {},
     "output_type": "execute_result"
    }
   ],
   "source": [
    "n_simulations = 10000\n",
    "results = []\n",
    "\n",
    "for _ in range(n_simulations):\n",
    "    state_seq = mc.simulate(ts_length=100, init='U1')\n",
    "    diagnosis_index, stage = diagnosed(state_seq)\n",
    "    if diagnosis_index is not None:\n",
    "        flag = survived(state_seq, diagnosis_index)\n",
    "        results.append((diagnosis_index, stage, flag))\n",
    "        \n",
    "len(results)"
   ]
  },
  {
   "cell_type": "markdown",
   "metadata": {},
   "source": [
    "Here are the first few rows."
   ]
  },
  {
   "cell_type": "code",
   "execution_count": 21,
   "metadata": {},
   "outputs": [
    {
     "data": {
      "text/html": [
       "<div>\n",
       "<style scoped>\n",
       "    .dataframe tbody tr th:only-of-type {\n",
       "        vertical-align: middle;\n",
       "    }\n",
       "\n",
       "    .dataframe tbody tr th {\n",
       "        vertical-align: top;\n",
       "    }\n",
       "\n",
       "    .dataframe thead th {\n",
       "        text-align: right;\n",
       "    }\n",
       "</style>\n",
       "<table border=\"1\" class=\"dataframe\">\n",
       "  <thead>\n",
       "    <tr style=\"text-align: right;\">\n",
       "      <th></th>\n",
       "      <th>age</th>\n",
       "      <th>stage</th>\n",
       "      <th>survived</th>\n",
       "    </tr>\n",
       "  </thead>\n",
       "  <tbody>\n",
       "    <tr>\n",
       "      <th>0</th>\n",
       "      <td>5</td>\n",
       "      <td>D1</td>\n",
       "      <td>True</td>\n",
       "    </tr>\n",
       "    <tr>\n",
       "      <th>1</th>\n",
       "      <td>13</td>\n",
       "      <td>D2</td>\n",
       "      <td>True</td>\n",
       "    </tr>\n",
       "    <tr>\n",
       "      <th>2</th>\n",
       "      <td>2</td>\n",
       "      <td>D2</td>\n",
       "      <td>False</td>\n",
       "    </tr>\n",
       "    <tr>\n",
       "      <th>3</th>\n",
       "      <td>6</td>\n",
       "      <td>D1</td>\n",
       "      <td>True</td>\n",
       "    </tr>\n",
       "    <tr>\n",
       "      <th>4</th>\n",
       "      <td>11</td>\n",
       "      <td>D1</td>\n",
       "      <td>True</td>\n",
       "    </tr>\n",
       "  </tbody>\n",
       "</table>\n",
       "</div>"
      ],
      "text/plain": [
       "   age stage  survived\n",
       "0    5    D1      True\n",
       "1   13    D2      True\n",
       "2    2    D2     False\n",
       "3    6    D1      True\n",
       "4   11    D1      True"
      ]
     },
     "execution_count": 21,
     "metadata": {},
     "output_type": "execute_result"
    }
   ],
   "source": [
    "df = pd.DataFrame(results, columns=['age', 'stage', 'survived'])\n",
    "df.head()"
   ]
  },
  {
   "cell_type": "markdown",
   "metadata": {},
   "source": [
    "For the hypothetical cancer, the overall 5-year survival rate is about 64%, the same as colon cancer in reality."
   ]
  },
  {
   "cell_type": "code",
   "execution_count": 22,
   "metadata": {},
   "outputs": [
    {
     "data": {
      "text/plain": [
       "0.6425"
      ]
     },
     "execution_count": 22,
     "metadata": {},
     "output_type": "execute_result"
    }
   ],
   "source": [
    "df['survived'].mean()"
   ]
  },
  {
   "cell_type": "markdown",
   "metadata": {},
   "source": [
    "Here are the survival rates by stage."
   ]
  },
  {
   "cell_type": "code",
   "execution_count": 23,
   "metadata": {},
   "outputs": [
    {
     "data": {
      "text/html": [
       "<div>\n",
       "<style scoped>\n",
       "    .dataframe tbody tr th:only-of-type {\n",
       "        vertical-align: middle;\n",
       "    }\n",
       "\n",
       "    .dataframe tbody tr th {\n",
       "        vertical-align: top;\n",
       "    }\n",
       "\n",
       "    .dataframe thead th {\n",
       "        text-align: right;\n",
       "    }\n",
       "</style>\n",
       "<table border=\"1\" class=\"dataframe\">\n",
       "  <thead>\n",
       "    <tr style=\"text-align: right;\">\n",
       "      <th></th>\n",
       "      <th>rates</th>\n",
       "    </tr>\n",
       "    <tr>\n",
       "      <th>stage</th>\n",
       "      <th></th>\n",
       "    </tr>\n",
       "  </thead>\n",
       "  <tbody>\n",
       "    <tr>\n",
       "      <th>D1</th>\n",
       "      <td>94.700399</td>\n",
       "    </tr>\n",
       "    <tr>\n",
       "      <th>D2</th>\n",
       "      <td>71.687292</td>\n",
       "    </tr>\n",
       "    <tr>\n",
       "      <th>D3</th>\n",
       "      <td>16.848568</td>\n",
       "    </tr>\n",
       "  </tbody>\n",
       "</table>\n",
       "</div>"
      ],
      "text/plain": [
       "           rates\n",
       "stage           \n",
       "D1     94.700399\n",
       "D2     71.687292\n",
       "D3     16.848568"
      ]
     },
     "execution_count": 23,
     "metadata": {},
     "output_type": "execute_result"
    }
   ],
   "source": [
    "rates = df.groupby('stage')['survived'].mean() * 100\n",
    "pd.DataFrame(dict(rates=rates))"
   ]
  },
  {
   "cell_type": "markdown",
   "metadata": {},
   "source": [
    "The actual survival rates for colon cancer are 91% if localized, 74% if regional, and 16% if distant.\n",
    "So the simulation results are not exactly the same, but they are close.\n",
    "\n",
    "And here is the distribution of stage at diagnosis."
   ]
  },
  {
   "cell_type": "code",
   "execution_count": 24,
   "metadata": {},
   "outputs": [
    {
     "data": {
      "text/html": [
       "<div>\n",
       "<style scoped>\n",
       "    .dataframe tbody tr th:only-of-type {\n",
       "        vertical-align: middle;\n",
       "    }\n",
       "\n",
       "    .dataframe tbody tr th {\n",
       "        vertical-align: top;\n",
       "    }\n",
       "\n",
       "    .dataframe thead th {\n",
       "        text-align: right;\n",
       "    }\n",
       "</style>\n",
       "<table border=\"1\" class=\"dataframe\">\n",
       "  <thead>\n",
       "    <tr style=\"text-align: right;\">\n",
       "      <th></th>\n",
       "      <th>probs</th>\n",
       "    </tr>\n",
       "    <tr>\n",
       "      <th>stage</th>\n",
       "      <th></th>\n",
       "    </tr>\n",
       "  </thead>\n",
       "  <tbody>\n",
       "    <tr>\n",
       "      <th>D1</th>\n",
       "      <td>37.55</td>\n",
       "    </tr>\n",
       "    <tr>\n",
       "      <th>D2</th>\n",
       "      <td>33.13</td>\n",
       "    </tr>\n",
       "    <tr>\n",
       "      <th>D3</th>\n",
       "      <td>29.32</td>\n",
       "    </tr>\n",
       "  </tbody>\n",
       "</table>\n",
       "</div>"
      ],
      "text/plain": [
       "stage\n",
       "D1    37.55\n",
       "D2    33.13\n",
       "D3    29.32\n",
       "Name: incidence, dtype: float64"
      ]
     },
     "execution_count": 24,
     "metadata": {},
     "output_type": "execute_result"
    }
   ],
   "source": [
    "from empiricaldist import Pmf\n",
    "\n",
    "Pmf.from_seq(df['stage'], name='incidence') * 100"
   ]
  },
  {
   "cell_type": "markdown",
   "metadata": {},
   "source": [
    "The actual distribution for colon cancer is 38% localized, 38% regional, and 24% distant.\n",
    "Again, the simulation results are not exactly the same, but close.\n",
    "\n",
    "With more trial and error, I could probably find parameters that reproduce the results exactly.\n",
    "That would not be surprising, because even though the model is meant to be parsimonious, it has seven parameters (not counting `gamma`, which we fixed at 0) and we are matching observations with only five degrees of freedom.\n",
    "\n",
    "That might seem unfair, but it makes the point that there are not enough numbers in the survival table -- even if we also consider the distribution of stages -- to conclude that early detection would have any benefit.\n",
    "\n",
    "The model we constructed has almost the same survival rates as colon cancer, but detection has no effect on survival time.\n",
    "Therefore, **survival rates do not make the case that it is better to find cancer early**.\n",
    "\n",
    "Again, it *might* be better to find cancer early, if the benefit of treatment outweighs the costs of false discovery and overdiagnosis -- but that's a more complicated analysis, and 5-year survival rates aren't part of it."
   ]
  },
  {
   "cell_type": "markdown",
   "metadata": {},
   "source": [
    "## Counterfactuals\n",
    "\n",
    "[Later in the video](https://youtu.be/ph2ZeNooFLg?t=836), Taleb says, \"Your mother, had she had a colonoscopy, she would be alive today... she's no longer with us because it was detected when it was stage IV, right?\" And Gal agrees.\n",
    "\n",
    "That *might* be true, if treatment would have prevented the cancer from progressing.\n",
    "But this conclusion is not supported by the data in the survival table.\n",
    "\n",
    "If someone is diagnosed with stage IV colon cancer and dies, it is tempting to look at the survival table and think there's a 91% chance they would have survived if they had been diagnosed earlier.\n",
    "\n",
    "But that's not true -- it's probably not even close to true. \n",
    "\n",
    "* First, that 91% includes cancers that would have progressed slowly or never, even without treatment. In the case of someone who died, we know their cancer was not one of those.\n",
    "\n",
    "* Also, surviving five years after stage I is more likely than surviving five years after stage IV, even without treatment.\n",
    "\n",
    "The five-year survival rate answers the question, \"Of all people diagnosed at stage I, how many survive five years?\" That is a straightforward statistic to compute.\n",
    "\n",
    "But the hypothetical asks a different question: \"Of all people who died [during a particular interval] after being diagnosed at stage IV, how many would be alive [at some later point] if the tumor had been detected by a screening test when it was stage I?\" That is a *much* harder question to answer -- and the five-year survival rate provides little or no help.\n",
    "\n",
    "In general, we don't know whether someone would not have died if they had been diagnosed earlier.\n",
    "The actual probability depends on progression rates with and without treatment.\n",
    "In the limiting cases:\n",
    "\n",
    "* If treatment is ineffective, as in the hypothetical cancer we simulated, the probability is zero.\n",
    "\n",
    "* If treatment is perfectly effective, the probability is 100%.\n",
    "\n",
    "In reality, it could be anywhere in between."
   ]
  },
  {
   "cell_type": "markdown",
   "metadata": {},
   "source": [
    "## Markov analysis with PyMC\n",
    "\n",
    "Instead of QuantEcon, we could have used PyMC to simulate the Markov chain."
   ]
  },
  {
   "cell_type": "code",
   "execution_count": 25,
   "metadata": {},
   "outputs": [],
   "source": [
    "# pip install pymc pymc-extras\n",
    "\n",
    "import pymc as pm\n",
    "import pymc_extras as pmx\n",
    "\n",
    "# map labels <-> ints\n",
    "state_to_idx = {s: i for i, s in enumerate(states)}\n",
    "idx_to_state = np.array(states)\n",
    "\n",
    "# initial distribution: start in 'U1'\n",
    "init_probs = np.zeros(len(states))\n",
    "init_probs[state_to_idx['U1']] = 1.0"
   ]
  },
  {
   "cell_type": "code",
   "execution_count": 26,
   "metadata": {},
   "outputs": [],
   "source": [
    "T = 100    # number of time steps     \n",
    "N = 10     # number of trajectories\n",
    "\n",
    "with pm.Model():\n",
    "    init_dist = pm.Categorical.dist(p=init_probs)\n",
    "    chain_rv = pmx.DiscreteMarkovChain(\"chain\", P=P, init_dist=init_dist, shape=(T,))\n",
    "\n",
    "# Fast, no idata:\n",
    "traj = pm.draw(chain_rv, draws=N)"
   ]
  },
  {
   "cell_type": "code",
   "execution_count": 27,
   "metadata": {},
   "outputs": [
    {
     "data": {
      "text/plain": [
       "array(['U1', 'U2', 'U2', 'U3', 'U3', 'D3', 'D3', 'M', 'M', 'M', 'M', 'M',\n",
       "       'M', 'M', 'M', 'M', 'M', 'M', 'M', 'M', 'M', 'M', 'M', 'M', 'M',\n",
       "       'M', 'M', 'M', 'M', 'M', 'M', 'M', 'M', 'M', 'M', 'M', 'M', 'M',\n",
       "       'M', 'M', 'M', 'M', 'M', 'M', 'M', 'M', 'M', 'M', 'M', 'M', 'M',\n",
       "       'M', 'M', 'M', 'M', 'M', 'M', 'M', 'M', 'M', 'M', 'M', 'M', 'M',\n",
       "       'M', 'M', 'M', 'M', 'M', 'M', 'M', 'M', 'M', 'M', 'M', 'M', 'M',\n",
       "       'M', 'M', 'M', 'M', 'M', 'M', 'M', 'M', 'M', 'M', 'M', 'M', 'M',\n",
       "       'M', 'M', 'M', 'M', 'M', 'M', 'M', 'M', 'M', 'M'], dtype='<U2')"
      ]
     },
     "execution_count": 27,
     "metadata": {},
     "output_type": "execute_result"
    }
   ],
   "source": [
    "traj_labels = idx_to_state[traj]\n",
    "traj_labels[0]"
   ]
  },
  {
   "cell_type": "markdown",
   "metadata": {
    "tags": [
     "remove-print"
    ]
   },
   "source": [
    "Copyright 2025 Allen B. Downey\n",
    "\n",
    "License: [Attribution-NonCommercial-ShareAlike 4.0 International (CC BY-NC-SA 4.0)](https://creativecommons.org/licenses/by-nc-sa/4.0/)"
   ]
  },
  {
   "cell_type": "code",
   "execution_count": null,
   "metadata": {},
   "outputs": [],
   "source": []
  }
 ],
 "metadata": {
  "celltoolbar": "Tags",
  "kernelspec": {
   "display_name": "Python 3 (ipykernel)",
   "language": "python",
   "name": "python3"
  },
  "language_info": {
   "codemirror_mode": {
    "name": "ipython",
    "version": 3
   },
   "file_extension": ".py",
   "mimetype": "text/x-python",
   "name": "python",
   "nbconvert_exporter": "python",
   "pygments_lexer": "ipython3",
   "version": "3.11.13"
  }
 },
 "nbformat": 4,
 "nbformat_minor": 4
}
