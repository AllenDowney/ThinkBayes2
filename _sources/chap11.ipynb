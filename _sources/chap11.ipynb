{
 "cells": [
  {
   "cell_type": "markdown",
   "metadata": {},
   "source": [
    "# Comparison"
   ]
  },
  {
   "cell_type": "markdown",
   "metadata": {
    "tags": [
     "remove-cell"
    ]
   },
   "source": [
    "Think Bayes, Second Edition\n",
    "\n",
    "Copyright 2020 Allen B. Downey\n",
    "\n",
    "License: [Attribution-NonCommercial-ShareAlike 4.0 International (CC BY-NC-SA 4.0)](https://creativecommons.org/licenses/by-nc-sa/4.0/)"
   ]
  },
  {
   "cell_type": "code",
   "execution_count": 1,
   "metadata": {
    "execution": {
     "iopub.execute_input": "2021-04-16T19:37:12.234088Z",
     "iopub.status.busy": "2021-04-16T19:37:12.233652Z",
     "iopub.status.idle": "2021-04-16T19:37:12.235885Z",
     "shell.execute_reply": "2021-04-16T19:37:12.235454Z"
    },
    "tags": [
     "remove-cell"
    ]
   },
   "outputs": [],
   "source": [
    "# If we're running on Colab, install empiricaldist\n",
    "# https://pypi.org/project/empiricaldist/\n",
    "\n",
    "import sys\n",
    "IN_COLAB = 'google.colab' in sys.modules\n",
    "\n",
    "if IN_COLAB:\n",
    "    !pip install empiricaldist"
   ]
  },
  {
   "cell_type": "code",
   "execution_count": 2,
   "metadata": {
    "execution": {
     "iopub.execute_input": "2021-04-16T19:37:12.239747Z",
     "iopub.status.busy": "2021-04-16T19:37:12.239319Z",
     "iopub.status.idle": "2021-04-16T19:37:12.241356Z",
     "shell.execute_reply": "2021-04-16T19:37:12.240953Z"
    },
    "tags": [
     "remove-cell"
    ]
   },
   "outputs": [],
   "source": [
    "# Get utils.py\n",
    "\n",
    "from os.path import basename, exists\n",
    "\n",
    "def download(url):\n",
    "    filename = basename(url)\n",
    "    if not exists(filename):\n",
    "        from urllib.request import urlretrieve\n",
    "        local, _ = urlretrieve(url, filename)\n",
    "        print('Downloaded ' + local)\n",
    "    \n",
    "download('https://github.com/AllenDowney/ThinkBayes2/raw/master/soln/utils.py')"
   ]
  },
  {
   "cell_type": "code",
   "execution_count": 3,
   "metadata": {
    "execution": {
     "iopub.execute_input": "2021-04-16T19:37:12.244102Z",
     "iopub.status.busy": "2021-04-16T19:37:12.243682Z",
     "iopub.status.idle": "2021-04-16T19:37:12.920327Z",
     "shell.execute_reply": "2021-04-16T19:37:12.920694Z"
    },
    "tags": [
     "remove-cell"
    ]
   },
   "outputs": [],
   "source": [
    "from utils import set_pyplot_params\n",
    "set_pyplot_params()"
   ]
  },
  {
   "cell_type": "markdown",
   "metadata": {},
   "source": [
    "This chapter introduces joint distributions, which are an essential tool for working with distributions of more than one variable.\n",
    "\n",
    "We'll use them to solve a silly problem on our way to solving a real problem.\n",
    "The silly problem is figuring out how tall two people are, given only that one is taller than the other.\n",
    "The real problem is rating chess players (or participants in other kinds of competition) based on the outcome of a game.\n",
    "\n",
    "To construct joint distributions and compute likelihoods for these problems, we will use outer products and similar operations.  And that's where we'll start."
   ]
  },
  {
   "cell_type": "markdown",
   "metadata": {},
   "source": [
    "## Outer Operations\n",
    "\n",
    "Many useful operations can be expressed as the \"outer product\" of two sequences, or another kind of \"outer\" operation.\n",
    "Suppose you have sequences like `x` and `y`:"
   ]
  },
  {
   "cell_type": "code",
   "execution_count": 4,
   "metadata": {
    "execution": {
     "iopub.execute_input": "2021-04-16T19:37:12.923867Z",
     "iopub.status.busy": "2021-04-16T19:37:12.923379Z",
     "iopub.status.idle": "2021-04-16T19:37:12.925164Z",
     "shell.execute_reply": "2021-04-16T19:37:12.925562Z"
    }
   },
   "outputs": [],
   "source": [
    "x = [1, 3, 5]\n",
    "y = [2, 4]"
   ]
  },
  {
   "cell_type": "markdown",
   "metadata": {},
   "source": [
    "The outer product of these sequences is an array that contains the product of every pair of values, one from each sequence.\n",
    "There are several ways to compute outer products, but the one I think is the most versatile is a \"mesh grid\".\n",
    "\n",
    "NumPy provides a function called `meshgrid` that computes a mesh grid.  If we give it two sequences, it returns two arrays."
   ]
  },
  {
   "cell_type": "code",
   "execution_count": 5,
   "metadata": {
    "execution": {
     "iopub.execute_input": "2021-04-16T19:37:12.928585Z",
     "iopub.status.busy": "2021-04-16T19:37:12.928155Z",
     "iopub.status.idle": "2021-04-16T19:37:12.929813Z",
     "shell.execute_reply": "2021-04-16T19:37:12.930151Z"
    }
   },
   "outputs": [],
   "source": [
    "import numpy as np\n",
    "\n",
    "X, Y = np.meshgrid(x, y)"
   ]
  },
  {
   "cell_type": "markdown",
   "metadata": {},
   "source": [
    "The first array contains copies of `x` arranged in rows, where the number of rows is the length of `y`."
   ]
  },
  {
   "cell_type": "code",
   "execution_count": 6,
   "metadata": {
    "execution": {
     "iopub.execute_input": "2021-04-16T19:37:12.935088Z",
     "iopub.status.busy": "2021-04-16T19:37:12.934570Z",
     "iopub.status.idle": "2021-04-16T19:37:12.937438Z",
     "shell.execute_reply": "2021-04-16T19:37:12.937057Z"
    }
   },
   "outputs": [
    {
     "data": {
      "text/plain": [
       "array([[1, 3, 5],\n",
       "       [1, 3, 5]])"
      ]
     },
     "execution_count": 6,
     "metadata": {},
     "output_type": "execute_result"
    }
   ],
   "source": [
    "X"
   ]
  },
  {
   "cell_type": "markdown",
   "metadata": {},
   "source": [
    "The second array contains copies of `y` arranged in columns, where the number of columns is the length of `x`."
   ]
  },
  {
   "cell_type": "code",
   "execution_count": 7,
   "metadata": {
    "execution": {
     "iopub.execute_input": "2021-04-16T19:37:12.940916Z",
     "iopub.status.busy": "2021-04-16T19:37:12.940298Z",
     "iopub.status.idle": "2021-04-16T19:37:12.943428Z",
     "shell.execute_reply": "2021-04-16T19:37:12.942892Z"
    }
   },
   "outputs": [
    {
     "data": {
      "text/plain": [
       "array([[2, 2, 2],\n",
       "       [4, 4, 4]])"
      ]
     },
     "execution_count": 7,
     "metadata": {},
     "output_type": "execute_result"
    }
   ],
   "source": [
    "Y"
   ]
  },
  {
   "cell_type": "markdown",
   "metadata": {},
   "source": [
    "Because the two arrays are the same size, we can use them as operands for arithmetic functions like multiplication."
   ]
  },
  {
   "cell_type": "code",
   "execution_count": 8,
   "metadata": {
    "execution": {
     "iopub.execute_input": "2021-04-16T19:37:12.947253Z",
     "iopub.status.busy": "2021-04-16T19:37:12.946619Z",
     "iopub.status.idle": "2021-04-16T19:37:12.949435Z",
     "shell.execute_reply": "2021-04-16T19:37:12.949886Z"
    }
   },
   "outputs": [
    {
     "data": {
      "text/plain": [
       "array([[ 2,  6, 10],\n",
       "       [ 4, 12, 20]])"
      ]
     },
     "execution_count": 8,
     "metadata": {},
     "output_type": "execute_result"
    }
   ],
   "source": [
    "X * Y"
   ]
  },
  {
   "cell_type": "markdown",
   "metadata": {},
   "source": [
    "This is result is the outer product of `x` and `y`.\n",
    "We can see that more clearly if we put it in a `DataFrame`:"
   ]
  },
  {
   "cell_type": "code",
   "execution_count": 9,
   "metadata": {
    "execution": {
     "iopub.execute_input": "2021-04-16T19:37:12.957805Z",
     "iopub.status.busy": "2021-04-16T19:37:12.955256Z",
     "iopub.status.idle": "2021-04-16T19:37:12.962953Z",
     "shell.execute_reply": "2021-04-16T19:37:12.962527Z"
    }
   },
   "outputs": [
    {
     "data": {
      "text/html": [
       "<div>\n",
       "<style scoped>\n",
       "    .dataframe tbody tr th:only-of-type {\n",
       "        vertical-align: middle;\n",
       "    }\n",
       "\n",
       "    .dataframe tbody tr th {\n",
       "        vertical-align: top;\n",
       "    }\n",
       "\n",
       "    .dataframe thead th {\n",
       "        text-align: right;\n",
       "    }\n",
       "</style>\n",
       "<table border=\"1\" class=\"dataframe\">\n",
       "  <thead>\n",
       "    <tr style=\"text-align: right;\">\n",
       "      <th></th>\n",
       "      <th>1</th>\n",
       "      <th>3</th>\n",
       "      <th>5</th>\n",
       "    </tr>\n",
       "  </thead>\n",
       "  <tbody>\n",
       "    <tr>\n",
       "      <th>2</th>\n",
       "      <td>2</td>\n",
       "      <td>6</td>\n",
       "      <td>10</td>\n",
       "    </tr>\n",
       "    <tr>\n",
       "      <th>4</th>\n",
       "      <td>4</td>\n",
       "      <td>12</td>\n",
       "      <td>20</td>\n",
       "    </tr>\n",
       "  </tbody>\n",
       "</table>\n",
       "</div>"
      ],
      "text/plain": [
       "   1   3   5\n",
       "2  2   6  10\n",
       "4  4  12  20"
      ]
     },
     "execution_count": 9,
     "metadata": {},
     "output_type": "execute_result"
    }
   ],
   "source": [
    "import pandas as pd\n",
    "\n",
    "df = pd.DataFrame(X * Y, columns=x, index=y)\n",
    "df"
   ]
  },
  {
   "cell_type": "markdown",
   "metadata": {},
   "source": [
    "The values from `x` appear as column names; the values from `y` appear as row labels.\n",
    "Each element is the product of a value from `x` and a value from `y`.\n",
    "\n",
    "We can use mesh grids to compute other operations, like the outer sum, which is an array that contains the *sum* of elements from `x` and elements from `y`."
   ]
  },
  {
   "cell_type": "code",
   "execution_count": 10,
   "metadata": {
    "execution": {
     "iopub.execute_input": "2021-04-16T19:37:12.966338Z",
     "iopub.status.busy": "2021-04-16T19:37:12.965732Z",
     "iopub.status.idle": "2021-04-16T19:37:12.967963Z",
     "shell.execute_reply": "2021-04-16T19:37:12.968307Z"
    },
    "scrolled": true
   },
   "outputs": [
    {
     "data": {
      "text/plain": [
       "array([[3, 5, 7],\n",
       "       [5, 7, 9]])"
      ]
     },
     "execution_count": 10,
     "metadata": {},
     "output_type": "execute_result"
    }
   ],
   "source": [
    "X + Y"
   ]
  },
  {
   "cell_type": "markdown",
   "metadata": {},
   "source": [
    "We can also use comparison operators to compare elements from `x` with elements from `y`."
   ]
  },
  {
   "cell_type": "code",
   "execution_count": 11,
   "metadata": {
    "execution": {
     "iopub.execute_input": "2021-04-16T19:37:12.971598Z",
     "iopub.status.busy": "2021-04-16T19:37:12.971039Z",
     "iopub.status.idle": "2021-04-16T19:37:12.973749Z",
     "shell.execute_reply": "2021-04-16T19:37:12.974184Z"
    }
   },
   "outputs": [
    {
     "data": {
      "text/plain": [
       "array([[False,  True,  True],\n",
       "       [False, False,  True]])"
      ]
     },
     "execution_count": 11,
     "metadata": {},
     "output_type": "execute_result"
    }
   ],
   "source": [
    "X > Y"
   ]
  },
  {
   "cell_type": "markdown",
   "metadata": {},
   "source": [
    "The result is an array of Boolean values.\n",
    "\n",
    "It might not be obvious yet why these operations are useful, but we'll see examples soon.\n",
    "With that, we are ready to take on a new Bayesian problem."
   ]
  },
  {
   "cell_type": "markdown",
   "metadata": {},
   "source": [
    "## How Tall Is A?\n",
    "\n",
    "Suppose I choose two people from the population of adult males in the U.S.; I'll call them A and B.  If we see that A taller than B, how tall is A?\n",
    "\n",
    "To answer this question:\n",
    "\n",
    "1. I'll use background information about the height of men in the U.S. to form a prior distribution of height,\n",
    "\n",
    "2. I'll construct a joint prior distribution of height for A and B (and I'll explain what that is),\n",
    "\n",
    "3. Then I'll update the prior with the information that A is taller, and \n",
    "\n",
    "4. From the joint posterior distribution I'll extract the posterior distribution of height for A."
   ]
  },
  {
   "cell_type": "markdown",
   "metadata": {},
   "source": [
    "In the U.S. the average height of male adults is 178 cm and the standard deviation is 7.7 cm.  The distribution is not exactly normal, because nothing in the real world is, but the normal distribution is a pretty good model of the actual distribution, so we can use it as a prior distribution for A and B.\n",
    "\n",
    "Here's an array of equally-spaced values from 3 standard deviations below the mean to 3 standard deviations above (rounded up a little)."
   ]
  },
  {
   "cell_type": "code",
   "execution_count": 12,
   "metadata": {
    "execution": {
     "iopub.execute_input": "2021-04-16T19:37:12.977864Z",
     "iopub.status.busy": "2021-04-16T19:37:12.977335Z",
     "iopub.status.idle": "2021-04-16T19:37:12.979235Z",
     "shell.execute_reply": "2021-04-16T19:37:12.979676Z"
    }
   },
   "outputs": [],
   "source": [
    "mean = 178\n",
    "qs = np.arange(mean-24, mean+24, 0.5)"
   ]
  },
  {
   "cell_type": "markdown",
   "metadata": {},
   "source": [
    "SciPy provides a function called `norm` that represents a normal distribution with a given mean and standard deviation, and provides `pdf`, which evaluates the probability density function (PDF) of the normal distribution:"
   ]
  },
  {
   "cell_type": "code",
   "execution_count": 13,
   "metadata": {
    "execution": {
     "iopub.execute_input": "2021-04-16T19:37:12.985155Z",
     "iopub.status.busy": "2021-04-16T19:37:12.984522Z",
     "iopub.status.idle": "2021-04-16T19:37:12.987136Z",
     "shell.execute_reply": "2021-04-16T19:37:12.986632Z"
    }
   },
   "outputs": [],
   "source": [
    "from scipy.stats import norm\n",
    "\n",
    "std = 7.7\n",
    "ps = norm(mean, std).pdf(qs)"
   ]
  },
  {
   "cell_type": "markdown",
   "metadata": {},
   "source": [
    "Probability densities are not probabilities, but if we put them in a `Pmf` and normalize it, the result is a discrete approximation of the normal distribution."
   ]
  },
  {
   "cell_type": "code",
   "execution_count": 14,
   "metadata": {
    "execution": {
     "iopub.execute_input": "2021-04-16T19:37:12.991976Z",
     "iopub.status.busy": "2021-04-16T19:37:12.991379Z",
     "iopub.status.idle": "2021-04-16T19:37:12.998548Z",
     "shell.execute_reply": "2021-04-16T19:37:12.998069Z"
    },
    "tags": [
     "hide-output"
    ]
   },
   "outputs": [
    {
     "data": {
      "text/plain": [
       "1.9963309462450582"
      ]
     },
     "execution_count": 14,
     "metadata": {},
     "output_type": "execute_result"
    }
   ],
   "source": [
    "from empiricaldist import Pmf\n",
    "\n",
    "prior = Pmf(ps, qs)\n",
    "prior.normalize()"
   ]
  },
  {
   "cell_type": "markdown",
   "metadata": {},
   "source": [
    "Here's what it looks like."
   ]
  },
  {
   "cell_type": "code",
   "execution_count": 15,
   "metadata": {
    "execution": {
     "iopub.execute_input": "2021-04-16T19:37:13.001742Z",
     "iopub.status.busy": "2021-04-16T19:37:13.001307Z",
     "iopub.status.idle": "2021-04-16T19:37:13.165738Z",
     "shell.execute_reply": "2021-04-16T19:37:13.166387Z"
    },
    "tags": [
     "hide-input"
    ]
   },
   "outputs": [
    {
     "data": {
      "image/png": "[encoded data removed]",
      "text/plain": [
       "<Figure size 432x288 with 1 Axes>"
      ]
     },
     "metadata": {
      "needs_background": "light"
     },
     "output_type": "display_data"
    }
   ],
   "source": [
    "from utils import decorate\n",
    "\n",
    "prior.plot(style='--', color='C5')\n",
    "\n",
    "decorate(xlabel='Height in cm',\n",
    "         ylabel='PDF',\n",
    "         title='Approximate distribution of height for men in U.S.')"
   ]
  },
  {
   "cell_type": "markdown",
   "metadata": {},
   "source": [
    "This distribution represents what we believe about the heights of `A` and `B` before we take into account the data that `A` is taller."
   ]
  },
  {
   "cell_type": "markdown",
   "metadata": {},
   "source": [
    "## Joint Distribution\n",
    "\n",
    "The next step is to construct a distribution that represents the probability of every pair of heights, which is called a joint distribution. The elements of the joint distribution are\n",
    "\n",
    "$$P(A_x~\\mathrm{and}~B_y)$$\n",
    "\n",
    "which is the probability that `A` is $x$ cm tall and `B` is $y$ cm tall, for all values of $x$ and $y$.\n",
    "\n",
    "At this point all we know about `A` and `B` is that they are male residents of the U.S., so their heights are independent; that is, knowing the height of `A` provides no additional information about the height of `B`.\n",
    "\n",
    "In that case, we can compute the joint probabilities like this:\n",
    "\n",
    "$$P(A_x~\\mathrm{and}~B_y) = P(A_x)~P(B_y)$$\n",
    "\n",
    "Each joint probability is the product of one element from the distribution of `x` and one element from the distribution of `y`.\n",
    "\n",
    "So if we have `Pmf` objects that represent the distribution of height for `A` and `B`, we can compute the joint distribution by computing the outer product of the probabilities in each `Pmf`.\n",
    "\n",
    "The following function takes two `Pmf` objects and returns a `DataFrame` that represents the joint distribution."
   ]
  },
  {
   "cell_type": "code",
   "execution_count": 16,
   "metadata": {
    "execution": {
     "iopub.execute_input": "2021-04-16T19:37:13.170345Z",
     "iopub.status.busy": "2021-04-16T19:37:13.169922Z",
     "iopub.status.idle": "2021-04-16T19:37:13.171677Z",
     "shell.execute_reply": "2021-04-16T19:37:13.172081Z"
    }
   },
   "outputs": [],
   "source": [
    "def make_joint(pmf1, pmf2):\n",
    "    \"\"\"Compute the outer product of two Pmfs.\"\"\"\n",
    "    X, Y = np.meshgrid(pmf1, pmf2)\n",
    "    return pd.DataFrame(X * Y, columns=pmf1.qs, index=pmf2.qs)"
   ]
  },
  {
   "cell_type": "markdown",
   "metadata": {},
   "source": [
    "The column names in the result are the quantities from `pmf1`; the row labels are the quantities from `pmf2`.\n",
    "\n",
    "In this example, the prior distributions for `A` and `B` are the same, so we can compute the joint prior distribution like this:"
   ]
  },
  {
   "cell_type": "code",
   "execution_count": 17,
   "metadata": {
    "execution": {
     "iopub.execute_input": "2021-04-16T19:37:13.175627Z",
     "iopub.status.busy": "2021-04-16T19:37:13.174787Z",
     "iopub.status.idle": "2021-04-16T19:37:13.178139Z",
     "shell.execute_reply": "2021-04-16T19:37:13.178561Z"
    }
   },
   "outputs": [
    {
     "data": {
      "text/plain": [
       "(96, 96)"
      ]
     },
     "execution_count": 17,
     "metadata": {},
     "output_type": "execute_result"
    }
   ],
   "source": [
    "joint = make_joint(prior, prior)\n",
    "joint.shape"
   ]
  },
  {
   "cell_type": "markdown",
   "metadata": {},
   "source": [
    "The result is a `DataFrame` with possible heights of `A` along the columns, heights of `B` along the rows, and the joint probabilities as elements.\n",
    "\n",
    "If the prior is normalized, the joint prior is also be normalized."
   ]
  },
  {
   "cell_type": "code",
   "execution_count": 18,
   "metadata": {
    "execution": {
     "iopub.execute_input": "2021-04-16T19:37:13.182094Z",
     "iopub.status.busy": "2021-04-16T19:37:13.181501Z",
     "iopub.status.idle": "2021-04-16T19:37:13.184649Z",
     "shell.execute_reply": "2021-04-16T19:37:13.184985Z"
    }
   },
   "outputs": [
    {
     "data": {
      "text/plain": [
       "1.0"
      ]
     },
     "execution_count": 18,
     "metadata": {},
     "output_type": "execute_result"
    }
   ],
   "source": [
    "joint.to_numpy().sum()"
   ]
  },
  {
   "cell_type": "markdown",
   "metadata": {},
   "source": [
    "To add up all of the elements, we convert the `DataFrame` to a NumPy array before calling `sum`.  Otherwise, `DataFrame.sum` would compute the sums of the columns and return a `Series`."
   ]
  },
  {
   "cell_type": "code",
   "execution_count": 19,
   "metadata": {
    "execution": {
     "iopub.execute_input": "2021-04-16T19:37:13.189433Z",
     "iopub.status.busy": "2021-04-16T19:37:13.188369Z",
     "iopub.status.idle": "2021-04-16T19:37:13.191945Z",
     "shell.execute_reply": "2021-04-16T19:37:13.192519Z"
    },
    "tags": [
     "hide-cell"
    ]
   },
   "outputs": [
    {
     "data": {
      "text/plain": [
       "(96,)"
      ]
     },
     "execution_count": 19,
     "metadata": {},
     "output_type": "execute_result"
    }
   ],
   "source": [
    "series = joint.sum()\n",
    "series.shape"
   ]
  },
  {
   "cell_type": "markdown",
   "metadata": {},
   "source": [
    "## Visualizing the Joint Distribution\n",
    "\n",
    "The following function uses `pcolormesh` to plot the joint distribution."
   ]
  },
  {
   "cell_type": "code",
   "execution_count": 20,
   "metadata": {
    "execution": {
     "iopub.execute_input": "2021-04-16T19:37:13.198043Z",
     "iopub.status.busy": "2021-04-16T19:37:13.197221Z",
     "iopub.status.idle": "2021-04-16T19:37:13.198818Z",
     "shell.execute_reply": "2021-04-16T19:37:13.199406Z"
    }
   },
   "outputs": [],
   "source": [
    "import matplotlib.pyplot as plt\n",
    "\n",
    "def plot_joint(joint, cmap='Blues'):\n",
    "    \"\"\"Plot a joint distribution with a color mesh.\"\"\"\n",
    "    vmax = joint.to_numpy().max() * 1.1\n",
    "    plt.pcolormesh(joint.columns, joint.index, joint, \n",
    "                   cmap=cmap,\n",
    "                   vmax=vmax,\n",
    "                   shading='nearest')\n",
    "    plt.colorbar()\n",
    "    \n",
    "    decorate(xlabel='A height in cm',\n",
    "             ylabel='B height in cm')"
   ]
  },
  {
   "cell_type": "markdown",
   "metadata": {},
   "source": [
    "Here's what the joint prior distribution looks like."
   ]
  },
  {
   "cell_type": "code",
   "execution_count": 21,
   "metadata": {
    "execution": {
     "iopub.execute_input": "2021-04-16T19:37:13.219149Z",
     "iopub.status.busy": "2021-04-16T19:37:13.216689Z",
     "iopub.status.idle": "2021-04-16T19:37:13.406121Z",
     "shell.execute_reply": "2021-04-16T19:37:13.405672Z"
    },
    "tags": [
     "hide-input"
    ]
   },
   "outputs": [
    {
     "data": {
      "image/png": "[encoded data removed]",
      "text/plain": [
       "<Figure size 432x288 with 2 Axes>"
      ]
     },
     "metadata": {
      "needs_background": "light"
     },
     "output_type": "display_data"
    }
   ],
   "source": [
    "plot_joint(joint)\n",
    "decorate(title='Joint prior distribution of height for A and B')"
   ]
  },
  {
   "cell_type": "markdown",
   "metadata": {},
   "source": [
    "As you might expect, the probability is highest (darkest) near the mean and drops off farther from the mean.\n",
    "\n",
    "Another way to visualize the joint distribution is a contour plot."
   ]
  },
  {
   "cell_type": "code",
   "execution_count": 22,
   "metadata": {
    "execution": {
     "iopub.execute_input": "2021-04-16T19:37:13.409482Z",
     "iopub.status.busy": "2021-04-16T19:37:13.409038Z",
     "iopub.status.idle": "2021-04-16T19:37:13.410692Z",
     "shell.execute_reply": "2021-04-16T19:37:13.411052Z"
    }
   },
   "outputs": [],
   "source": [
    "def plot_contour(joint):\n",
    "    \"\"\"Plot a joint distribution with a contour.\"\"\"\n",
    "    plt.contour(joint.columns, joint.index, joint,\n",
    "                linewidths=2)\n",
    "    decorate(xlabel='A height in cm',\n",
    "             ylabel='B height in cm')"
   ]
  },
  {
   "cell_type": "code",
   "execution_count": 23,
   "metadata": {
    "execution": {
     "iopub.execute_input": "2021-04-16T19:37:13.428423Z",
     "iopub.status.busy": "2021-04-16T19:37:13.427777Z",
     "iopub.status.idle": "2021-04-16T19:37:13.579769Z",
     "shell.execute_reply": "2021-04-16T19:37:13.580115Z"
    },
    "tags": [
     "hide-input"
    ]
   },
   "outputs": [
    {
     "data": {
      "image/png": "[encoded data removed]",
      "text/plain": [
       "<Figure size 432x288 with 1 Axes>"
      ]
     },
     "metadata": {
      "needs_background": "light"
     },
     "output_type": "display_data"
    }
   ],
   "source": [
    "plot_contour(joint)\n",
    "decorate(title='Joint prior distribution of height for A and B')"
   ]
  },
  {
   "cell_type": "markdown",
   "metadata": {},
   "source": [
    "Each line represents a level of equal probability.  "
   ]
  },
  {
   "cell_type": "markdown",
   "metadata": {},
   "source": [
    "## Likelihood\n",
    "\n",
    "Now that we have a joint prior distribution, we can update it with the data, which is that `A` is taller than `B`.\n",
    "\n",
    "Each element in the joint distribution represents a hypothesis about the heights of `A` and `B`.\n",
    "To compute the likelihood of every pair of quantities, we can extract the column names and row labels from the prior, like this:"
   ]
  },
  {
   "cell_type": "code",
   "execution_count": 24,
   "metadata": {
    "execution": {
     "iopub.execute_input": "2021-04-16T19:37:13.583188Z",
     "iopub.status.busy": "2021-04-16T19:37:13.582665Z",
     "iopub.status.idle": "2021-04-16T19:37:13.584893Z",
     "shell.execute_reply": "2021-04-16T19:37:13.584505Z"
    }
   },
   "outputs": [],
   "source": [
    "x = joint.columns\n",
    "y = joint.index"
   ]
  },
  {
   "cell_type": "markdown",
   "metadata": {},
   "source": [
    "And use them to compute a mesh grid."
   ]
  },
  {
   "cell_type": "code",
   "execution_count": 25,
   "metadata": {
    "execution": {
     "iopub.execute_input": "2021-04-16T19:37:13.587763Z",
     "iopub.status.busy": "2021-04-16T19:37:13.587339Z",
     "iopub.status.idle": "2021-04-16T19:37:13.589419Z",
     "shell.execute_reply": "2021-04-16T19:37:13.589756Z"
    }
   },
   "outputs": [],
   "source": [
    "X, Y = np.meshgrid(x, y)"
   ]
  },
  {
   "cell_type": "markdown",
   "metadata": {},
   "source": [
    "`X` contains copies of the quantities in `x`, which are possible heights for `A`.   `Y` contains copies of the quantities in `y`, which are possible heights for `B`.\n",
    "\n",
    "If we compare `X` and `Y`, the result is a Boolean array:"
   ]
  },
  {
   "cell_type": "code",
   "execution_count": 26,
   "metadata": {
    "execution": {
     "iopub.execute_input": "2021-04-16T19:37:13.593011Z",
     "iopub.status.busy": "2021-04-16T19:37:13.592506Z",
     "iopub.status.idle": "2021-04-16T19:37:13.594840Z",
     "shell.execute_reply": "2021-04-16T19:37:13.595182Z"
    }
   },
   "outputs": [
    {
     "data": {
      "text/plain": [
       "dtype('bool')"
      ]
     },
     "execution_count": 26,
     "metadata": {},
     "output_type": "execute_result"
    }
   ],
   "source": [
    "A_taller = (X > Y)\n",
    "A_taller.dtype"
   ]
  },
  {
   "cell_type": "markdown",
   "metadata": {},
   "source": [
    "To compute likelihoods, I'll use `np.where` to make an array with `1` where `A_taller` is `True` and 0 elsewhere."
   ]
  },
  {
   "cell_type": "code",
   "execution_count": 27,
   "metadata": {
    "execution": {
     "iopub.execute_input": "2021-04-16T19:37:13.598426Z",
     "iopub.status.busy": "2021-04-16T19:37:13.597979Z",
     "iopub.status.idle": "2021-04-16T19:37:13.599545Z",
     "shell.execute_reply": "2021-04-16T19:37:13.599909Z"
    }
   },
   "outputs": [],
   "source": [
    "a = np.where(A_taller, 1, 0)"
   ]
  },
  {
   "cell_type": "markdown",
   "metadata": {},
   "source": [
    "To visualize this array of likelihoods, I'll put in a `DataFrame` with the values of `x` as column names and the values of `y` as row labels."
   ]
  },
  {
   "cell_type": "code",
   "execution_count": 28,
   "metadata": {
    "execution": {
     "iopub.execute_input": "2021-04-16T19:37:13.603311Z",
     "iopub.status.busy": "2021-04-16T19:37:13.602824Z",
     "iopub.status.idle": "2021-04-16T19:37:13.604475Z",
     "shell.execute_reply": "2021-04-16T19:37:13.604839Z"
    }
   },
   "outputs": [],
   "source": [
    "likelihood = pd.DataFrame(a, index=x, columns=y)"
   ]
  },
  {
   "cell_type": "markdown",
   "metadata": {},
   "source": [
    "Here's what it looks like:"
   ]
  },
  {
   "cell_type": "code",
   "execution_count": 29,
   "metadata": {
    "execution": {
     "iopub.execute_input": "2021-04-16T19:37:13.624746Z",
     "iopub.status.busy": "2021-04-16T19:37:13.624058Z",
     "iopub.status.idle": "2021-04-16T19:37:13.833801Z",
     "shell.execute_reply": "2021-04-16T19:37:13.834149Z"
    },
    "tags": [
     "hide-input"
    ]
   },
   "outputs": [
    {
     "data": {
      "image/png": "[encoded data removed]",
      "text/plain": [
       "<Figure size 432x288 with 2 Axes>"
      ]
     },
     "metadata": {
      "needs_background": "light"
     },
     "output_type": "display_data"
    }
   ],
   "source": [
    "plot_joint(likelihood, cmap='Oranges')\n",
    "decorate(title='Likelihood of A>B')"
   ]
  },
  {
   "cell_type": "markdown",
   "metadata": {},
   "source": [
    "The likelihood of the data is 1 where `X > Y` and 0 elsewhere."
   ]
  },
  {
   "cell_type": "markdown",
   "metadata": {},
   "source": [
    "## The Update\n",
    "\n",
    "We have a prior, we have a likelihood, and we are ready for the update.  As usual, the unnormalized posterior is the product of the prior and the likelihood."
   ]
  },
  {
   "cell_type": "code",
   "execution_count": 30,
   "metadata": {
    "execution": {
     "iopub.execute_input": "2021-04-16T19:37:13.837820Z",
     "iopub.status.busy": "2021-04-16T19:37:13.837348Z",
     "iopub.status.idle": "2021-04-16T19:37:13.839577Z",
     "shell.execute_reply": "2021-04-16T19:37:13.839223Z"
    }
   },
   "outputs": [],
   "source": [
    "posterior = joint * likelihood"
   ]
  },
  {
   "cell_type": "markdown",
   "metadata": {},
   "source": [
    "I'll use the following function to normalize the posterior:"
   ]
  },
  {
   "cell_type": "code",
   "execution_count": 31,
   "metadata": {
    "execution": {
     "iopub.execute_input": "2021-04-16T19:37:13.842923Z",
     "iopub.status.busy": "2021-04-16T19:37:13.842446Z",
     "iopub.status.idle": "2021-04-16T19:37:13.844834Z",
     "shell.execute_reply": "2021-04-16T19:37:13.844237Z"
    }
   },
   "outputs": [],
   "source": [
    "def normalize(joint):\n",
    "    \"\"\"Normalize a joint distribution.\"\"\"\n",
    "    prob_data = joint.to_numpy().sum()\n",
    "    joint /= prob_data\n",
    "    return prob_data"
   ]
  },
  {
   "cell_type": "code",
   "execution_count": 32,
   "metadata": {
    "execution": {
     "iopub.execute_input": "2021-04-16T19:37:13.849600Z",
     "iopub.status.busy": "2021-04-16T19:37:13.848930Z",
     "iopub.status.idle": "2021-04-16T19:37:13.852266Z",
     "shell.execute_reply": "2021-04-16T19:37:13.852749Z"
    },
    "tags": [
     "hide-output"
    ]
   },
   "outputs": [
    {
     "data": {
      "text/plain": [
       "0.49080747821526977"
      ]
     },
     "execution_count": 32,
     "metadata": {},
     "output_type": "execute_result"
    }
   ],
   "source": [
    "normalize(posterior)"
   ]
  },
  {
   "cell_type": "markdown",
   "metadata": {},
   "source": [
    "And here's what it looks like."
   ]
  },
  {
   "cell_type": "code",
   "execution_count": 33,
   "metadata": {
    "execution": {
     "iopub.execute_input": "2021-04-16T19:37:13.873507Z",
     "iopub.status.busy": "2021-04-16T19:37:13.870130Z",
     "iopub.status.idle": "2021-04-16T19:37:14.086209Z",
     "shell.execute_reply": "2021-04-16T19:37:14.085811Z"
    },
    "tags": [
     "hide-input"
    ]
   },
   "outputs": [
    {
     "data": {
      "image/png": "[encoded data removed]",
      "text/plain": [
       "<Figure size 432x288 with 2 Axes>"
      ]
     },
     "metadata": {
      "needs_background": "light"
     },
     "output_type": "display_data"
    }
   ],
   "source": [
    "plot_joint(posterior)\n",
    "decorate(title='Joint posterior distribution of height for A and B')"
   ]
  },
  {
   "cell_type": "markdown",
   "metadata": {},
   "source": [
    "All pairs where `B` is taller than `A` have been eliminated.  The rest of the posterior looks the same as the prior, except that it has been renormalized."
   ]
  },
  {
   "cell_type": "markdown",
   "metadata": {},
   "source": [
    "## Marginal Distributions\n",
    "\n",
    "The joint posterior distribution represents what we believe about the heights of `A` and `B` given the prior distributions and the information that `A` is taller.\n",
    "\n",
    "From this joint distribution, we can compute the posterior distributions for `A` and `B`.  To see how, let's start with a simpler problem.\n",
    "\n",
    "Suppose we want to know the probability that `A` is 180 cm tall.  We can select the column from the joint distribution where `x=180`."
   ]
  },
  {
   "cell_type": "code",
   "execution_count": 34,
   "metadata": {
    "execution": {
     "iopub.execute_input": "2021-04-16T19:37:14.091246Z",
     "iopub.status.busy": "2021-04-16T19:37:14.090632Z",
     "iopub.status.idle": "2021-04-16T19:37:14.092951Z",
     "shell.execute_reply": "2021-04-16T19:37:14.093320Z"
    }
   },
   "outputs": [
    {
     "data": {
      "text/plain": [
       "154.0    0.000010\n",
       "154.5    0.000013\n",
       "155.0    0.000015\n",
       "155.5    0.000019\n",
       "156.0    0.000022\n",
       "Name: 180.0, dtype: float64"
      ]
     },
     "execution_count": 34,
     "metadata": {},
     "output_type": "execute_result"
    }
   ],
   "source": [
    "column = posterior[180]\n",
    "column.head()"
   ]
  },
  {
   "cell_type": "markdown",
   "metadata": {},
   "source": [
    "This column contains posterior probabilities for all cases where `x=180`; if we add them up, we get the total probability that `A` is 180 cm tall."
   ]
  },
  {
   "cell_type": "code",
   "execution_count": 35,
   "metadata": {
    "execution": {
     "iopub.execute_input": "2021-04-16T19:37:14.096775Z",
     "iopub.status.busy": "2021-04-16T19:37:14.096198Z",
     "iopub.status.idle": "2021-04-16T19:37:14.098952Z",
     "shell.execute_reply": "2021-04-16T19:37:14.098521Z"
    }
   },
   "outputs": [
    {
     "data": {
      "text/plain": [
       "0.03017221271570807"
      ]
     },
     "execution_count": 35,
     "metadata": {},
     "output_type": "execute_result"
    }
   ],
   "source": [
    "column.sum()"
   ]
  },
  {
   "cell_type": "markdown",
   "metadata": {},
   "source": [
    "It's about 3%.\n",
    "\n",
    "Now, to get the posterior distribution of height for `A`, we can add up all of the columns, like this:"
   ]
  },
  {
   "cell_type": "code",
   "execution_count": 36,
   "metadata": {
    "execution": {
     "iopub.execute_input": "2021-04-16T19:37:14.102790Z",
     "iopub.status.busy": "2021-04-16T19:37:14.102086Z",
     "iopub.status.idle": "2021-04-16T19:37:14.107765Z",
     "shell.execute_reply": "2021-04-16T19:37:14.107259Z"
    }
   },
   "outputs": [
    {
     "data": {
      "text/plain": [
       "154.0    0.000000e+00\n",
       "154.5    1.012260e-07\n",
       "155.0    2.736152e-07\n",
       "155.5    5.532519e-07\n",
       "156.0    9.915650e-07\n",
       "dtype: float64"
      ]
     },
     "execution_count": 36,
     "metadata": {},
     "output_type": "execute_result"
    }
   ],
   "source": [
    "column_sums = posterior.sum(axis=0)\n",
    "column_sums.head()"
   ]
  },
  {
   "cell_type": "markdown",
   "metadata": {},
   "source": [
    "The argument `axis=0` means we want to add up the columns.\n",
    "\n",
    "The result is a `Series` that contains every possible height for `A` and its probability.  In other words, it is the distribution of heights for `A`.\n",
    "\n",
    "We can put it in a `Pmf` like this:"
   ]
  },
  {
   "cell_type": "code",
   "execution_count": 37,
   "metadata": {
    "execution": {
     "iopub.execute_input": "2021-04-16T19:37:14.110910Z",
     "iopub.status.busy": "2021-04-16T19:37:14.110414Z",
     "iopub.status.idle": "2021-04-16T19:37:14.112108Z",
     "shell.execute_reply": "2021-04-16T19:37:14.112454Z"
    }
   },
   "outputs": [],
   "source": [
    "marginal_A = Pmf(column_sums)"
   ]
  },
  {
   "cell_type": "markdown",
   "metadata": {},
   "source": [
    "When we extract the distribution of a single variable from a joint distribution, the result is called a **marginal distribution**.\n",
    "The name comes from a common visualization that shows the joint distribution in the middle and the marginal distributions in the margins.\n",
    "\n",
    "Here's what the marginal distribution for `A` looks like:"
   ]
  },
  {
   "cell_type": "code",
   "execution_count": 38,
   "metadata": {
    "execution": {
     "iopub.execute_input": "2021-04-16T19:37:14.143739Z",
     "iopub.status.busy": "2021-04-16T19:37:14.133803Z",
     "iopub.status.idle": "2021-04-16T19:37:14.276533Z",
     "shell.execute_reply": "2021-04-16T19:37:14.276901Z"
    },
    "tags": [
     "hide-input"
    ]
   },
   "outputs": [
    {
     "data": {
      "image/png": "[encoded data removed]",
      "text/plain": [
       "<Figure size 432x288 with 1 Axes>"
      ]
     },
     "metadata": {
      "needs_background": "light"
     },
     "output_type": "display_data"
    }
   ],
   "source": [
    "marginal_A.plot(label='Posterior for A')\n",
    "\n",
    "decorate(xlabel='Height in cm',\n",
    "         ylabel='PDF',\n",
    "         title='Posterior distribution for A')"
   ]
  },
  {
   "cell_type": "markdown",
   "metadata": {},
   "source": [
    "Similarly, we can get the posterior distribution of height for `B` by adding up the rows and putting the result in a `Pmf`."
   ]
  },
  {
   "cell_type": "code",
   "execution_count": 39,
   "metadata": {
    "execution": {
     "iopub.execute_input": "2021-04-16T19:37:14.280603Z",
     "iopub.status.busy": "2021-04-16T19:37:14.280182Z",
     "iopub.status.idle": "2021-04-16T19:37:14.282246Z",
     "shell.execute_reply": "2021-04-16T19:37:14.281765Z"
    }
   },
   "outputs": [],
   "source": [
    "row_sums = posterior.sum(axis=1)\n",
    "marginal_B = Pmf(row_sums)"
   ]
  },
  {
   "cell_type": "markdown",
   "metadata": {},
   "source": [
    "Here's what it looks like."
   ]
  },
  {
   "cell_type": "code",
   "execution_count": 40,
   "metadata": {
    "execution": {
     "iopub.execute_input": "2021-04-16T19:37:14.312921Z",
     "iopub.status.busy": "2021-04-16T19:37:14.303267Z",
     "iopub.status.idle": "2021-04-16T19:37:14.452646Z",
     "shell.execute_reply": "2021-04-16T19:37:14.453000Z"
    }
   },
   "outputs": [
    {
     "data": {
      "image/png": "[encoded data removed]",
      "text/plain": [
       "<Figure size 432x288 with 1 Axes>"
      ]
     },
     "metadata": {
      "needs_background": "light"
     },
     "output_type": "display_data"
    }
   ],
   "source": [
    "marginal_B.plot(label='Posterior for B', color='C1')\n",
    "\n",
    "decorate(xlabel='Height in cm',\n",
    "         ylabel='PDF',\n",
    "         title='Posterior distribution for B')"
   ]
  },
  {
   "cell_type": "markdown",
   "metadata": {},
   "source": [
    "Let's put the code from this section in a function:"
   ]
  },
  {
   "cell_type": "code",
   "execution_count": 41,
   "metadata": {
    "execution": {
     "iopub.execute_input": "2021-04-16T19:37:14.456347Z",
     "iopub.status.busy": "2021-04-16T19:37:14.455851Z",
     "iopub.status.idle": "2021-04-16T19:37:14.457849Z",
     "shell.execute_reply": "2021-04-16T19:37:14.457483Z"
    }
   },
   "outputs": [],
   "source": [
    "def marginal(joint, axis):\n",
    "    \"\"\"Compute a marginal distribution.\"\"\"\n",
    "    return Pmf(joint.sum(axis=axis))"
   ]
  },
  {
   "cell_type": "markdown",
   "metadata": {},
   "source": [
    "`marginal` takes as parameters a joint distribution and an axis number:\n",
    "\n",
    "* If `axis=0`, it returns the marginal of the first variable (the one on the x-axis);\n",
    "\n",
    "* If `axis=1`, it returns the marginal of the second variable (the one on the y-axis).\n",
    "    \n",
    "So we can compute both marginals like this:"
   ]
  },
  {
   "cell_type": "code",
   "execution_count": 42,
   "metadata": {
    "execution": {
     "iopub.execute_input": "2021-04-16T19:37:14.462131Z",
     "iopub.status.busy": "2021-04-16T19:37:14.461642Z",
     "iopub.status.idle": "2021-04-16T19:37:14.463730Z",
     "shell.execute_reply": "2021-04-16T19:37:14.464120Z"
    }
   },
   "outputs": [],
   "source": [
    "marginal_A = marginal(posterior, axis=0)\n",
    "marginal_B = marginal(posterior, axis=1)"
   ]
  },
  {
   "cell_type": "markdown",
   "metadata": {},
   "source": [
    "Here's what they look like, along with the prior."
   ]
  },
  {
   "cell_type": "code",
   "execution_count": 43,
   "metadata": {
    "execution": {
     "iopub.execute_input": "2021-04-16T19:37:14.485633Z",
     "iopub.status.busy": "2021-04-16T19:37:14.479057Z",
     "iopub.status.idle": "2021-04-16T19:37:14.656053Z",
     "shell.execute_reply": "2021-04-16T19:37:14.656400Z"
    },
    "tags": [
     "hide-input"
    ]
   },
   "outputs": [
    {
     "data": {
      "image/png": "[encoded data removed]",
      "text/plain": [
       "<Figure size 432x288 with 1 Axes>"
      ]
     },
     "metadata": {
      "needs_background": "light"
     },
     "output_type": "display_data"
    }
   ],
   "source": [
    "prior.plot(style='--', label='Prior', color='C5')\n",
    "marginal_A.plot(label='Posterior for A')\n",
    "marginal_B.plot(label='Posterior for B')\n",
    "\n",
    "decorate(xlabel='Height in cm',\n",
    "         ylabel='PDF',\n",
    "         title='Prior and posterior distributions for A and B')"
   ]
  },
  {
   "cell_type": "markdown",
   "metadata": {},
   "source": [
    "As you might expect, the posterior distribution for `A` is shifted to the right and the posterior distribution for `B` is shifted to the left.\n",
    "\n",
    "We can summarize the results by computing the posterior means:"
   ]
  },
  {
   "cell_type": "code",
   "execution_count": 44,
   "metadata": {
    "execution": {
     "iopub.execute_input": "2021-04-16T19:37:14.659636Z",
     "iopub.status.busy": "2021-04-16T19:37:14.659185Z",
     "iopub.status.idle": "2021-04-16T19:37:14.662014Z",
     "shell.execute_reply": "2021-04-16T19:37:14.661466Z"
    }
   },
   "outputs": [
    {
     "data": {
      "text/plain": [
       "177.99516026921506"
      ]
     },
     "execution_count": 44,
     "metadata": {},
     "output_type": "execute_result"
    }
   ],
   "source": [
    "prior.mean()"
   ]
  },
  {
   "cell_type": "code",
   "execution_count": 45,
   "metadata": {
    "execution": {
     "iopub.execute_input": "2021-04-16T19:37:14.665158Z",
     "iopub.status.busy": "2021-04-16T19:37:14.664691Z",
     "iopub.status.idle": "2021-04-16T19:37:14.667693Z",
     "shell.execute_reply": "2021-04-16T19:37:14.667213Z"
    }
   },
   "outputs": [
    {
     "name": "stdout",
     "output_type": "stream",
     "text": [
      "182.3872812342168 173.6028600023339\n"
     ]
    }
   ],
   "source": [
    "print(marginal_A.mean(), marginal_B.mean())"
   ]
  },
  {
   "cell_type": "markdown",
   "metadata": {},
   "source": [
    "Based on the observation that `A` is taller than `B`, we are inclined to believe that `A` is a little taller than average, and `B` is a little shorter.\n",
    "\n",
    "Notice that the posterior distributions are a little narrower than the prior.  We can quantify that by computing their standard deviations."
   ]
  },
  {
   "cell_type": "code",
   "execution_count": 46,
   "metadata": {
    "execution": {
     "iopub.execute_input": "2021-04-16T19:37:14.672064Z",
     "iopub.status.busy": "2021-04-16T19:37:14.671255Z",
     "iopub.status.idle": "2021-04-16T19:37:14.674246Z",
     "shell.execute_reply": "2021-04-16T19:37:14.674701Z"
    }
   },
   "outputs": [
    {
     "data": {
      "text/plain": [
       "7.624924796641578"
      ]
     },
     "execution_count": 46,
     "metadata": {},
     "output_type": "execute_result"
    }
   ],
   "source": [
    "prior.std()"
   ]
  },
  {
   "cell_type": "code",
   "execution_count": 47,
   "metadata": {
    "execution": {
     "iopub.execute_input": "2021-04-16T19:37:14.679033Z",
     "iopub.status.busy": "2021-04-16T19:37:14.678359Z",
     "iopub.status.idle": "2021-04-16T19:37:14.680852Z",
     "shell.execute_reply": "2021-04-16T19:37:14.681285Z"
    }
   },
   "outputs": [
    {
     "name": "stdout",
     "output_type": "stream",
     "text": [
      "6.270461177645469 6.280513548175111\n"
     ]
    }
   ],
   "source": [
    "print(marginal_A.std(), marginal_B.std())"
   ]
  },
  {
   "cell_type": "markdown",
   "metadata": {},
   "source": [
    "The standard deviations of the posterior distributions are a little smaller, which means we are more certain about the heights of `A` and `B` after we compare them."
   ]
  },
  {
   "cell_type": "markdown",
   "metadata": {},
   "source": [
    "## Conditional Posteriors\n",
    "\n",
    "Now suppose we measure `A` and find that he is 170 cm tall.  What does that tell us about `B`?\n",
    "\n",
    "In the joint distribution, each column corresponds a possible height for `A`.  We can select the column that corresponds to height 170 cm like this:"
   ]
  },
  {
   "cell_type": "code",
   "execution_count": 48,
   "metadata": {
    "execution": {
     "iopub.execute_input": "2021-04-16T19:37:14.684345Z",
     "iopub.status.busy": "2021-04-16T19:37:14.683917Z",
     "iopub.status.idle": "2021-04-16T19:37:14.686093Z",
     "shell.execute_reply": "2021-04-16T19:37:14.685655Z"
    }
   },
   "outputs": [],
   "source": [
    "column_170 = posterior[170]"
   ]
  },
  {
   "cell_type": "markdown",
   "metadata": {},
   "source": [
    "The result is a `Series` that represents possible heights for `B` and their relative likelihoods.\n",
    "These likelihoods are not normalized, but we can normalize them like this:"
   ]
  },
  {
   "cell_type": "code",
   "execution_count": 49,
   "metadata": {
    "execution": {
     "iopub.execute_input": "2021-04-16T19:37:14.690189Z",
     "iopub.status.busy": "2021-04-16T19:37:14.689583Z",
     "iopub.status.idle": "2021-04-16T19:37:14.692630Z",
     "shell.execute_reply": "2021-04-16T19:37:14.692118Z"
    }
   },
   "outputs": [
    {
     "data": {
      "text/plain": [
       "0.004358061205454471"
      ]
     },
     "execution_count": 49,
     "metadata": {},
     "output_type": "execute_result"
    }
   ],
   "source": [
    "cond_B = Pmf(column_170)\n",
    "cond_B.normalize()"
   ]
  },
  {
   "cell_type": "markdown",
   "metadata": {},
   "source": [
    "Making a `Pmf` copies the data by default, so we can normalize `cond_B` without affecting `column_170` or `posterior`.\n",
    "The result is the conditional distribution of height for `B` given that `A` is 170 cm tall.\n",
    "\n",
    "Here's what it looks like:"
   ]
  },
  {
   "cell_type": "code",
   "execution_count": 50,
   "metadata": {
    "execution": {
     "iopub.execute_input": "2021-04-16T19:37:14.738894Z",
     "iopub.status.busy": "2021-04-16T19:37:14.733435Z",
     "iopub.status.idle": "2021-04-16T19:37:14.897210Z",
     "shell.execute_reply": "2021-04-16T19:37:14.896787Z"
    },
    "tags": [
     "hide-input"
    ]
   },
   "outputs": [
    {
     "data": {
      "image/png": "[encoded data removed]",
      "text/plain": [
       "<Figure size 432x288 with 1 Axes>"
      ]
     },
     "metadata": {
      "needs_background": "light"
     },
     "output_type": "display_data"
    }
   ],
   "source": [
    "prior.plot(style='--', label='Prior', color='C5')\n",
    "marginal_B.plot(label='Posterior for B', color='C1')\n",
    "cond_B.plot(label='Conditional posterior for B', \n",
    "            color='C4')\n",
    "\n",
    "decorate(xlabel='Height in cm',\n",
    "         ylabel='PDF',\n",
    "         title='Prior, posterior and conditional distribution for B')"
   ]
  },
  {
   "cell_type": "markdown",
   "metadata": {},
   "source": [
    "The conditional posterior distribution is cut off at 170 cm, because we have established that `B` is shorter than `A`, and `A` is 170 cm.\n"
   ]
  },
  {
   "cell_type": "markdown",
   "metadata": {},
   "source": [
    "## Dependence and Independence\n",
    "\n",
    "When we constructed the joint prior distribution, I said that the heights of `A` and `B` were independent, which means that knowing one of them provides no information about the other.\n",
    "In other words, the conditional probability $P(A_x | B_y)$ is the same as the unconditional probability $P(A_x)$.\n",
    "\n",
    "But in the posterior distribution, $A$ and $B$ are not independent.\n",
    "If we know that `A` is taller than `B`, and we know how tall `A` is, that gives us information about `B`.\n",
    "\n",
    "The conditional distribution we just computed demonstrates this dependence."
   ]
  },
  {
   "cell_type": "markdown",
   "metadata": {},
   "source": [
    "## Summary\n",
    "\n",
    "In this chapter we started with the \"outer\" operations, like outer product, which we used to construct a joint distribution.\n",
    "\n",
    "In general, you cannot construct a joint distribution from two marginal distributions, but in the special case where the distributions are independent, you can.\n",
    "\n",
    "We extended the Bayesian update process and applied it to a joint distribution.  Then from the posterior joint distribution we extracted marginal posterior distributions and conditional posterior distributions.\n",
    "\n",
    "As an exercise, you'll have a chance to apply the same process to a problem that's a little more difficult and a lot more useful, updating a chess player's rating based on the outcome of a game."
   ]
  },
  {
   "cell_type": "markdown",
   "metadata": {},
   "source": [
    "## Exercises"
   ]
  },
  {
   "cell_type": "markdown",
   "metadata": {},
   "source": [
    "**Exercise:** Based on the results of the previous example, compute the posterior conditional distribution for `A` given that `B` is 180 cm.\n",
    "\n",
    "Hint: Use `loc` to select a row from a `DataFrame`."
   ]
  },
  {
   "cell_type": "code",
   "execution_count": 51,
   "metadata": {
    "execution": {
     "iopub.execute_input": "2021-04-16T19:37:14.902190Z",
     "iopub.status.busy": "2021-04-16T19:37:14.901564Z",
     "iopub.status.idle": "2021-04-16T19:37:14.904372Z",
     "shell.execute_reply": "2021-04-16T19:37:14.903938Z"
    },
    "tags": [
     "hide-cell"
    ]
   },
   "outputs": [
    {
     "data": {
      "text/plain": [
       "0.019669089649708035"
      ]
     },
     "execution_count": 51,
     "metadata": {},
     "output_type": "execute_result"
    }
   ],
   "source": [
    "# Solution\n",
    "\n",
    "# Select a row from the posterior and normalize it\n",
    "\n",
    "row_180 = posterior.loc[180]\n",
    "cond_A = Pmf(row_180)\n",
    "cond_A.normalize()"
   ]
  },
  {
   "cell_type": "code",
   "execution_count": 52,
   "metadata": {
    "execution": {
     "iopub.execute_input": "2021-04-16T19:37:14.926280Z",
     "iopub.status.busy": "2021-04-16T19:37:14.919274Z",
     "iopub.status.idle": "2021-04-16T19:37:15.070233Z",
     "shell.execute_reply": "2021-04-16T19:37:15.070616Z"
    },
    "tags": [
     "hide-cell"
    ]
   },
   "outputs": [
    {
     "data": {
      "image/png": "[encoded data removed]",
      "text/plain": [
       "<Figure size 432x288 with 1 Axes>"
      ]
     },
     "metadata": {
      "needs_background": "light"
     },
     "output_type": "display_data"
    }
   ],
   "source": [
    "# Solution\n",
    "\n",
    "# Here's what it looks like\n",
    "\n",
    "cond_A.plot(label='Posterior for A given B=180', color='C4')\n",
    "decorate(xlabel='Height in cm',\n",
    "         ylabel='PDF',\n",
    "         title='Conditional distribution for A')"
   ]
  },
  {
   "cell_type": "markdown",
   "metadata": {},
   "source": [
    "**Exercise:** Suppose we have established that `A` is taller than `B`, but we don't know how tall `B` is.\n",
    "Now we choose a random woman, `C`, and find that she is shorter than `A` by at least 15 cm.  Compute posterior distributions for the heights of `A` and `C`.\n",
    "\n",
    "The average height for women in the U.S. is 163 cm; the standard deviation is 7.3 cm."
   ]
  },
  {
   "cell_type": "code",
   "execution_count": 53,
   "metadata": {
    "execution": {
     "iopub.execute_input": "2021-04-16T19:37:15.076625Z",
     "iopub.status.busy": "2021-04-16T19:37:15.076106Z",
     "iopub.status.idle": "2021-04-16T19:37:15.079213Z",
     "shell.execute_reply": "2021-04-16T19:37:15.078768Z"
    },
    "tags": [
     "hide-cell"
    ]
   },
   "outputs": [
    {
     "data": {
      "text/plain": [
       "1.997970387889823"
      ]
     },
     "execution_count": 53,
     "metadata": {},
     "output_type": "execute_result"
    }
   ],
   "source": [
    "# Solution\n",
    "\n",
    "# Here's a prior distribution for the height of\n",
    "# a randomly chosen woman\n",
    "\n",
    "mean = 163\n",
    "qs = np.arange(mean-24, mean+24, 0.5)\n",
    "\n",
    "std = 7.3\n",
    "ps = norm(mean, std).pdf(qs)\n",
    "\n",
    "prior_C = Pmf(ps, qs)\n",
    "prior_C.normalize()"
   ]
  },
  {
   "cell_type": "code",
   "execution_count": 54,
   "metadata": {
    "execution": {
     "iopub.execute_input": "2021-04-16T19:37:15.083752Z",
     "iopub.status.busy": "2021-04-16T19:37:15.083179Z",
     "iopub.status.idle": "2021-04-16T19:37:15.085907Z",
     "shell.execute_reply": "2021-04-16T19:37:15.086333Z"
    },
    "tags": [
     "hide-cell"
    ]
   },
   "outputs": [
    {
     "data": {
      "text/plain": [
       "(96, 96)"
      ]
     },
     "execution_count": 54,
     "metadata": {},
     "output_type": "execute_result"
    }
   ],
   "source": [
    "# Solution\n",
    "\n",
    "# Here's the joint prior for A and C\n",
    "\n",
    "joint_AC = make_joint(marginal_A, prior_C)\n",
    "joint_AC.shape"
   ]
  },
  {
   "cell_type": "code",
   "execution_count": 55,
   "metadata": {
    "execution": {
     "iopub.execute_input": "2021-04-16T19:37:15.091456Z",
     "iopub.status.busy": "2021-04-16T19:37:15.090664Z",
     "iopub.status.idle": "2021-04-16T19:37:15.093434Z",
     "shell.execute_reply": "2021-04-16T19:37:15.092837Z"
    },
    "tags": [
     "hide-cell"
    ]
   },
   "outputs": [],
   "source": [
    "# Solution\n",
    "\n",
    "# To compute the likelihood of the data, we'll\n",
    "# use a meshgrid\n",
    "\n",
    "x = joint_AC.columns\n",
    "y = joint_AC.index\n",
    "X, Y = np.meshgrid(x, y)\n",
    "a = np.where(X-Y>=15, 1, 0)\n",
    "likelihood_AC = pd.DataFrame(a, index=y, columns=x)"
   ]
  },
  {
   "cell_type": "code",
   "execution_count": 56,
   "metadata": {
    "execution": {
     "iopub.execute_input": "2021-04-16T19:37:15.162435Z",
     "iopub.status.busy": "2021-04-16T19:37:15.158331Z",
     "iopub.status.idle": "2021-04-16T19:37:15.366230Z",
     "shell.execute_reply": "2021-04-16T19:37:15.365597Z"
    },
    "tags": [
     "hide-cell"
    ]
   },
   "outputs": [
    {
     "data": {
      "image/png": "[encoded data removed]",
      "text/plain": [
       "<Figure size 432x288 with 2 Axes>"
      ]
     },
     "metadata": {
      "needs_background": "light"
     },
     "output_type": "display_data"
    }
   ],
   "source": [
    "# Solution\n",
    "\n",
    "# Here's what the likelihood looks like\n",
    "\n",
    "plot_joint(likelihood_AC, cmap='Oranges')\n",
    "decorate(ylabel='C height in cm',\n",
    "         title='Likelihood of A-C>=15')"
   ]
  },
  {
   "cell_type": "code",
   "execution_count": 57,
   "metadata": {
    "execution": {
     "iopub.execute_input": "2021-04-16T19:37:15.370720Z",
     "iopub.status.busy": "2021-04-16T19:37:15.369998Z",
     "iopub.status.idle": "2021-04-16T19:37:15.374184Z",
     "shell.execute_reply": "2021-04-16T19:37:15.373573Z"
    },
    "tags": [
     "hide-cell"
    ]
   },
   "outputs": [
    {
     "data": {
      "text/plain": [
       "0.6839061829242195"
      ]
     },
     "execution_count": 57,
     "metadata": {},
     "output_type": "execute_result"
    }
   ],
   "source": [
    "# Solution\n",
    "\n",
    "# Here's the update\n",
    "\n",
    "posterior_AC = joint_AC * likelihood_AC\n",
    "normalize(posterior_AC)"
   ]
  },
  {
   "cell_type": "code",
   "execution_count": 58,
   "metadata": {
    "execution": {
     "iopub.execute_input": "2021-04-16T19:37:15.394900Z",
     "iopub.status.busy": "2021-04-16T19:37:15.392244Z",
     "iopub.status.idle": "2021-04-16T19:37:15.582113Z",
     "shell.execute_reply": "2021-04-16T19:37:15.582461Z"
    },
    "tags": [
     "hide-cell"
    ]
   },
   "outputs": [
    {
     "data": {
      "image/png": "[encoded data removed]",
      "text/plain": [
       "<Figure size 432x288 with 2 Axes>"
      ]
     },
     "metadata": {
      "needs_background": "light"
     },
     "output_type": "display_data"
    }
   ],
   "source": [
    "# Solution\n",
    "\n",
    "# And the joint posterior\n",
    "\n",
    "plot_joint(posterior_AC)\n",
    "decorate(ylabel='C height in cm',\n",
    "         title='Joint posterior distribution of height for A and C')"
   ]
  },
  {
   "cell_type": "code",
   "execution_count": 59,
   "metadata": {
    "execution": {
     "iopub.execute_input": "2021-04-16T19:37:15.586967Z",
     "iopub.status.busy": "2021-04-16T19:37:15.586467Z",
     "iopub.status.idle": "2021-04-16T19:37:15.588994Z",
     "shell.execute_reply": "2021-04-16T19:37:15.588504Z"
    },
    "tags": [
     "hide-cell"
    ]
   },
   "outputs": [],
   "source": [
    "# Solution\n",
    "\n",
    "# Here are the marginal posterior distributions\n",
    "\n",
    "marginal_AC = marginal(posterior_AC, axis=0)\n",
    "marginal_C = marginal(posterior_AC, axis=1)"
   ]
  },
  {
   "cell_type": "code",
   "execution_count": 60,
   "metadata": {
    "execution": {
     "iopub.execute_input": "2021-04-16T19:37:15.619711Z",
     "iopub.status.busy": "2021-04-16T19:37:15.606442Z",
     "iopub.status.idle": "2021-04-16T19:37:15.802358Z",
     "shell.execute_reply": "2021-04-16T19:37:15.801891Z"
    },
    "tags": [
     "hide-cell"
    ]
   },
   "outputs": [
    {
     "data": {
      "image/png": "[encoded data removed]",
      "text/plain": [
       "<Figure size 432x288 with 1 Axes>"
      ]
     },
     "metadata": {
      "needs_background": "light"
     },
     "output_type": "display_data"
    }
   ],
   "source": [
    "# Solution\n",
    "\n",
    "# And here's what they look like\n",
    "\n",
    "prior_C.plot(style='--', label='Prior for C', color='C5')\n",
    "marginal_C.plot(label='Posterior for C', color='C2')\n",
    "marginal_AC.plot(label='Posterior for A', color='C0')\n",
    "\n",
    "decorate(xlabel='Height in cm',\n",
    "         ylabel='PDF',\n",
    "         title='Prior and posterior distributions for A and C')"
   ]
  },
  {
   "cell_type": "markdown",
   "metadata": {},
   "source": [
    "**Exercise:** [The Elo rating system](https://en.wikipedia.org/wiki/Elo_rating_system) is a way to quantify the skill level of players for games like chess.\n",
    "\n",
    "It is based on a model of the relationship between the ratings of players and the outcome of a game.  Specifically, if $R_A$ is the rating of player `A` and $R_B$ is the rating of player `B`, the probability that `A` beats `B` is given by the [logistic function](https://en.wikipedia.org/wiki/Logistic_function):\n",
    "\n",
    "$$P(\\mathrm{A~beats~B}) = \\frac{1}{1 + 10^{(R_B-R_A)/400}}$$\n",
    "\n",
    "The parameters 10 and 400 are arbitrary choices that determine the range of the ratings.  In chess, the range is from 100 to 2800.\n",
    "\n",
    "Notice that the probability of winning depends only on the difference in rankings.  As an example, if $R_A$ exceeds $R_B$ by 100 points, the probability that `A` wins is"
   ]
  },
  {
   "cell_type": "code",
   "execution_count": 61,
   "metadata": {
    "execution": {
     "iopub.execute_input": "2021-04-16T19:37:15.806027Z",
     "iopub.status.busy": "2021-04-16T19:37:15.805493Z",
     "iopub.status.idle": "2021-04-16T19:37:15.808012Z",
     "shell.execute_reply": "2021-04-16T19:37:15.808378Z"
    }
   },
   "outputs": [
    {
     "data": {
      "text/plain": [
       "0.6400649998028851"
      ]
     },
     "execution_count": 61,
     "metadata": {},
     "output_type": "execute_result"
    }
   ],
   "source": [
    "1 / (1 + 10**(-100/400))"
   ]
  },
  {
   "cell_type": "markdown",
   "metadata": {},
   "source": [
    "Suppose `A` has a current rating of 1600, but we are not sure it is accurate.  We could describe their true rating with a normal distribution with mean 1600 and standard deviation 100, to indicate our uncertainty.\n",
    "\n",
    "And suppose `B` has a current rating of 1800, with the same level of uncertainty.\n",
    "\n",
    "Then `A` and `B` play and `A` wins.  How should we update their ratings?"
   ]
  },
  {
   "cell_type": "markdown",
   "metadata": {
    "tags": [
     "hide-cell"
    ]
   },
   "source": [
    "To answer this question:\n",
    "\n",
    "1. Construct prior distributions for `A` and `B`.\n",
    "\n",
    "2. Use them to construct a joint distribution, assuming that the prior distributions are independent.\n",
    "\n",
    "3. Use the logistic function above to compute the likelihood of the outcome under each joint hypothesis.  \n",
    "\n",
    "4. Use the joint prior and likelihood to compute the joint posterior. \n",
    "\n",
    "5. Extract and plot the marginal posteriors for `A` and `B`.\n",
    "\n",
    "6. Compute the posterior means for `A` and `B`.  How much should their ratings change based on this outcome?"
   ]
  },
  {
   "cell_type": "code",
   "execution_count": 62,
   "metadata": {
    "execution": {
     "iopub.execute_input": "2021-04-16T19:37:15.816170Z",
     "iopub.status.busy": "2021-04-16T19:37:15.815710Z",
     "iopub.status.idle": "2021-04-16T19:37:15.818046Z",
     "shell.execute_reply": "2021-04-16T19:37:15.818384Z"
    },
    "tags": [
     "hide-cell"
    ]
   },
   "outputs": [
    {
     "data": {
      "text/plain": [
       "0.09972780668486173"
      ]
     },
     "execution_count": 62,
     "metadata": {},
     "output_type": "execute_result"
    }
   ],
   "source": [
    "# Solution\n",
    "\n",
    "# Here are the priors for A and B\n",
    "\n",
    "qs = np.arange(1300, 1900, 10)\n",
    "ps = norm(1600, 100).pdf(qs)\n",
    "prior_A_elo = Pmf(ps, qs)\n",
    "prior_A_elo.normalize()\n",
    "\n",
    "qs = np.arange(1500, 2100, 10)\n",
    "ps = norm(1800, 100).pdf(qs)\n",
    "prior_B_elo = Pmf(ps, qs)\n",
    "prior_B_elo.normalize()"
   ]
  },
  {
   "cell_type": "code",
   "execution_count": 63,
   "metadata": {
    "execution": {
     "iopub.execute_input": "2021-04-16T19:37:15.851120Z",
     "iopub.status.busy": "2021-04-16T19:37:15.834077Z",
     "iopub.status.idle": "2021-04-16T19:37:15.989146Z",
     "shell.execute_reply": "2021-04-16T19:37:15.989631Z"
    },
    "tags": [
     "hide-cell"
    ]
   },
   "outputs": [
    {
     "data": {
      "image/png": "[encoded data removed]",
      "text/plain": [
       "<Figure size 432x288 with 1 Axes>"
      ]
     },
     "metadata": {
      "needs_background": "light"
     },
     "output_type": "display_data"
    }
   ],
   "source": [
    "# Solution\n",
    "\n",
    "# Here's what the priors look like\n",
    "\n",
    "prior_A_elo.plot(style='--', label='Prior for A')\n",
    "prior_B_elo.plot(style='--', label='Prior for B')\n",
    "\n",
    "decorate(xlabel='Elo rating',\n",
    "         ylabel='PDF',\n",
    "         title='Prior distributions for A and B')"
   ]
  },
  {
   "cell_type": "code",
   "execution_count": 64,
   "metadata": {
    "execution": {
     "iopub.execute_input": "2021-04-16T19:37:15.993523Z",
     "iopub.status.busy": "2021-04-16T19:37:15.992973Z",
     "iopub.status.idle": "2021-04-16T19:37:15.996645Z",
     "shell.execute_reply": "2021-04-16T19:37:15.996224Z"
    },
    "tags": [
     "hide-cell"
    ]
   },
   "outputs": [
    {
     "data": {
      "text/plain": [
       "(60, 60)"
      ]
     },
     "execution_count": 64,
     "metadata": {},
     "output_type": "execute_result"
    }
   ],
   "source": [
    "# Solution\n",
    "\n",
    "# Here is the joint prior distribution\n",
    "\n",
    "joint_elo = make_joint(prior_A_elo, prior_B_elo)\n",
    "joint_elo.shape"
   ]
  },
  {
   "cell_type": "code",
   "execution_count": 65,
   "metadata": {
    "execution": {
     "iopub.execute_input": "2021-04-16T19:37:16.014095Z",
     "iopub.status.busy": "2021-04-16T19:37:16.012105Z",
     "iopub.status.idle": "2021-04-16T19:37:16.232836Z",
     "shell.execute_reply": "2021-04-16T19:37:16.233211Z"
    },
    "tags": [
     "hide-cell"
    ]
   },
   "outputs": [
    {
     "data": {
      "image/png": "[encoded data removed]",
      "text/plain": [
       "<Figure size 432x288 with 2 Axes>"
      ]
     },
     "metadata": {
      "needs_background": "light"
     },
     "output_type": "display_data"
    }
   ],
   "source": [
    "# Solution\n",
    "\n",
    "# And here's what it looks like\n",
    "\n",
    "plot_joint(joint_elo)\n",
    "decorate(xlabel='A rating',\n",
    "         ylabel='B rating')"
   ]
  },
  {
   "cell_type": "code",
   "execution_count": 66,
   "metadata": {
    "execution": {
     "iopub.execute_input": "2021-04-16T19:37:16.236688Z",
     "iopub.status.busy": "2021-04-16T19:37:16.236258Z",
     "iopub.status.idle": "2021-04-16T19:37:16.237976Z",
     "shell.execute_reply": "2021-04-16T19:37:16.238330Z"
    },
    "tags": [
     "hide-cell"
    ]
   },
   "outputs": [],
   "source": [
    "# Solution\n",
    "\n",
    "# Here's a meshgrid we can use to compute differences in rank\n",
    "\n",
    "x = joint_elo.columns\n",
    "y = joint_elo.index\n",
    "X, Y = np.meshgrid(x, y)\n",
    "diff = X - Y"
   ]
  },
  {
   "cell_type": "code",
   "execution_count": 67,
   "metadata": {
    "execution": {
     "iopub.execute_input": "2021-04-16T19:37:16.241756Z",
     "iopub.status.busy": "2021-04-16T19:37:16.241271Z",
     "iopub.status.idle": "2021-04-16T19:37:16.448965Z",
     "shell.execute_reply": "2021-04-16T19:37:16.448521Z"
    },
    "tags": [
     "hide-cell"
    ]
   },
   "outputs": [
    {
     "data": {
      "image/png": "[encoded data removed]",
      "text/plain": [
       "<Figure size 432x288 with 2 Axes>"
      ]
     },
     "metadata": {
      "needs_background": "light"
     },
     "output_type": "display_data"
    }
   ],
   "source": [
    "# Solution\n",
    "\n",
    "# And here are the likelihoods\n",
    "\n",
    "a = 1 / (1 + 10**(-diff/400))\n",
    "likelihood_elo = pd.DataFrame(a, columns=x, index=y)\n",
    "\n",
    "plot_joint(likelihood_elo, cmap='Oranges')   \n",
    "decorate(xlabel='A rating',\n",
    "         ylabel='B rating')"
   ]
  },
  {
   "cell_type": "code",
   "execution_count": 68,
   "metadata": {
    "execution": {
     "iopub.execute_input": "2021-04-16T19:37:16.453782Z",
     "iopub.status.busy": "2021-04-16T19:37:16.453006Z",
     "iopub.status.idle": "2021-04-16T19:37:16.455514Z",
     "shell.execute_reply": "2021-04-16T19:37:16.455856Z"
    },
    "tags": [
     "hide-cell"
    ]
   },
   "outputs": [
    {
     "data": {
      "text/plain": [
       "0.2660426288107942"
      ]
     },
     "execution_count": 68,
     "metadata": {},
     "output_type": "execute_result"
    }
   ],
   "source": [
    "# Solution\n",
    "\n",
    "# Here's the update\n",
    "\n",
    "posterior_elo = joint_elo * likelihood_elo\n",
    "normalize(posterior_elo)"
   ]
  },
  {
   "cell_type": "code",
   "execution_count": 69,
   "metadata": {
    "execution": {
     "iopub.execute_input": "2021-04-16T19:37:16.473897Z",
     "iopub.status.busy": "2021-04-16T19:37:16.473446Z",
     "iopub.status.idle": "2021-04-16T19:37:16.681321Z",
     "shell.execute_reply": "2021-04-16T19:37:16.681674Z"
    },
    "tags": [
     "hide-cell"
    ]
   },
   "outputs": [
    {
     "data": {
      "image/png": "[encoded data removed]",
      "text/plain": [
       "<Figure size 432x288 with 2 Axes>"
      ]
     },
     "metadata": {
      "needs_background": "light"
     },
     "output_type": "display_data"
    }
   ],
   "source": [
    "# Solution\n",
    "\n",
    "# Here's what the joint posterior looks like\n",
    "\n",
    "plot_joint(posterior_elo)   \n",
    "decorate(xlabel='A rating',\n",
    "         ylabel='B rating')"
   ]
  },
  {
   "cell_type": "code",
   "execution_count": 70,
   "metadata": {
    "execution": {
     "iopub.execute_input": "2021-04-16T19:37:16.686287Z",
     "iopub.status.busy": "2021-04-16T19:37:16.685833Z",
     "iopub.status.idle": "2021-04-16T19:37:16.688351Z",
     "shell.execute_reply": "2021-04-16T19:37:16.687912Z"
    },
    "tags": [
     "hide-cell"
    ]
   },
   "outputs": [],
   "source": [
    "# Solution\n",
    "\n",
    "# Here are the marginal posterior distributions\n",
    "\n",
    "marginal_A_elo = marginal(posterior_elo, axis=0)\n",
    "marginal_B_elo = marginal(posterior_elo, axis=1)"
   ]
  },
  {
   "cell_type": "code",
   "execution_count": 71,
   "metadata": {
    "execution": {
     "iopub.execute_input": "2021-04-16T19:37:16.732433Z",
     "iopub.status.busy": "2021-04-16T19:37:16.724165Z",
     "iopub.status.idle": "2021-04-16T19:37:16.887776Z",
     "shell.execute_reply": "2021-04-16T19:37:16.888403Z"
    },
    "tags": [
     "hide-cell"
    ]
   },
   "outputs": [
    {
     "data": {
      "image/png": "[encoded data removed]",
      "text/plain": [
       "<Figure size 432x288 with 1 Axes>"
      ]
     },
     "metadata": {
      "needs_background": "light"
     },
     "output_type": "display_data"
    }
   ],
   "source": [
    "# Solution\n",
    "\n",
    "# Here's what they look like\n",
    "\n",
    "marginal_A_elo.plot(label='Posterior for A')\n",
    "marginal_B_elo.plot(label='Posterior for B')\n",
    "\n",
    "decorate(xlabel='Elo rating',\n",
    "         ylabel='PDF',\n",
    "         title='Posterior distributions for A and B')"
   ]
  },
  {
   "cell_type": "code",
   "execution_count": 72,
   "metadata": {
    "execution": {
     "iopub.execute_input": "2021-04-16T19:37:16.891897Z",
     "iopub.status.busy": "2021-04-16T19:37:16.891441Z",
     "iopub.status.idle": "2021-04-16T19:37:16.894147Z",
     "shell.execute_reply": "2021-04-16T19:37:16.893786Z"
    },
    "scrolled": true,
    "tags": [
     "hide-cell"
    ]
   },
   "outputs": [
    {
     "data": {
      "text/plain": [
       "(1636.648345528236, 1763.0203078793095)"
      ]
     },
     "execution_count": 72,
     "metadata": {},
     "output_type": "execute_result"
    }
   ],
   "source": [
    "# Solution\n",
    "\n",
    "# Posterior means\n",
    "\n",
    "marginal_A_elo.mean(), marginal_B_elo.mean()"
   ]
  },
  {
   "cell_type": "code",
   "execution_count": 73,
   "metadata": {
    "execution": {
     "iopub.execute_input": "2021-04-16T19:37:16.897707Z",
     "iopub.status.busy": "2021-04-16T19:37:16.897067Z",
     "iopub.status.idle": "2021-04-16T19:37:16.899765Z",
     "shell.execute_reply": "2021-04-16T19:37:16.899397Z"
    },
    "tags": [
     "hide-cell"
    ]
   },
   "outputs": [
    {
     "data": {
      "text/plain": [
       "(95.34063582447712, 95.61569535990881)"
      ]
     },
     "execution_count": 73,
     "metadata": {},
     "output_type": "execute_result"
    }
   ],
   "source": [
    "# Solution\n",
    "\n",
    "# Posterior standard deviation\n",
    "\n",
    "marginal_A_elo.std(), marginal_B_elo.std()"
   ]
  },
  {
   "cell_type": "code",
   "execution_count": null,
   "metadata": {},
   "outputs": [],
   "source": []
  }
 ],
 "metadata": {
  "celltoolbar": "Tags",
  "kernelspec": {
   "display_name": "Python 3",
   "language": "python",
   "name": "python3"
  },
  "language_info": {
   "codemirror_mode": {
    "name": "ipython",
    "version": 3
   },
   "file_extension": ".py",
   "mimetype": "text/x-python",
   "name": "python",
   "nbconvert_exporter": "python",
   "pygments_lexer": "ipython3",
   "version": "3.8.8"
  }
 },
 "nbformat": 4,
 "nbformat_minor": 4
}
