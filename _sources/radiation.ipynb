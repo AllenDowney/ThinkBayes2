{
 "cells": [
  {
   "cell_type": "markdown",
   "metadata": {},
   "source": [
    "# The Emitter-Detector Problem"
   ]
  },
  {
   "cell_type": "markdown",
   "metadata": {
    "tags": [
     "remove-cell"
    ]
   },
   "source": [
    "Think Bayes, Second Edition\n",
    "\n",
    "Copyright 2021 Allen B. Downey\n",
    "\n",
    "License: [Attribution-NonCommercial-ShareAlike 4.0 International (CC BY-NC-SA 4.0)](https://creativecommons.org/licenses/by-nc-sa/4.0/)"
   ]
  },
  {
   "cell_type": "code",
   "execution_count": 1,
   "metadata": {
    "tags": [
     "remove-cell"
    ]
   },
   "outputs": [],
   "source": [
    "# If we're running on Colab, install empiricaldist\n",
    "# https://pypi.org/project/empiricaldist/\n",
    "\n",
    "import sys\n",
    "IN_COLAB = 'google.colab' in sys.modules\n",
    "\n",
    "if IN_COLAB:\n",
    "    !pip install empiricaldist"
   ]
  },
  {
   "cell_type": "code",
   "execution_count": 2,
   "metadata": {
    "tags": [
     "remove-cell"
    ]
   },
   "outputs": [],
   "source": [
    "# Get utils.py\n",
    "\n",
    "from os.path import basename, exists\n",
    "\n",
    "def download(url):\n",
    "    filename = basename(url)\n",
    "    if not exists(filename):\n",
    "        from urllib.request import urlretrieve\n",
    "        local, _ = urlretrieve(url, filename)\n",
    "        print('Downloaded ' + local)\n",
    "    \n",
    "download('https://github.com/AllenDowney/ThinkBayes2/raw/master/soln/utils.py')"
   ]
  },
  {
   "cell_type": "markdown",
   "metadata": {},
   "source": [
    "[Click here to run this notebook on Colab](https://colab.research.google.com/github/AllenDowney/ThinkBayes2/blob/master/examples/radiation.ipynb)"
   ]
  },
  {
   "cell_type": "markdown",
   "metadata": {},
   "source": [
    "## Modeling a radiation sensor\n",
    "\n",
    "Here's an example from Jaynes, *Probability Theory*, page 168:\n",
    "\n",
    "> We have a radioactive source ... which is emitting particles of some sort ... There is a rate $p$, in particles per second, at which a radioactive nucleus sends particles through our counter; and each particle passing through produces counts at the rate $\\theta$. From measuring the number {c1 , c2 , . . .} of counts in different seconds, what can we say about the numbers {n1 , n2 , . . .} actually passing through the counter in each second, and\n",
    "what can we say about the strength of the source?\n",
    "\n",
    "I presented a [version of this problem](https://www.greenteapress.com/thinkbayes/html/thinkbayes015.html#sec130) in the first edition of *Think Bayes*, but I don't think I explained it well, and my solution was a bit of a mess.\n",
    "In the second edition, I use more NumPy and SciPy, which makes it possible to express the solution more clearly and concisely, so let me give it another try.\n",
    "\n",
    "As a model of the radioactive source, Jaynes suggests we imagine \"$N$ nuclei, each of which has independently the probability $r$ of sending a particle through our counter in any one second\".\n",
    "If $N$ is large and $r$ is small, the number or particles emitted in a given second is well modeled by a Poisson distribution with parameter $s = N r$, where $s$ is the strength of the source. \n",
    "\n",
    "As a model of the sensor, we'll assume that \"each particle passing through the counter\n",
    "has independently the probability $\\phi$ of making a count\".\n",
    "So if we know the actual number of particles, $n$, and the efficiency of the sensor, $\\phi$, the distribution of the count is $\\mathrm{Binomial}(n, \\phi)$.\n",
    "\n",
    "With that, we are ready to solve the problem, but first, an aside: I am not sure why Jaynes states the problem in terms of $p$ and $\\theta$, and then solves it in terms of $s$ and $\\phi$.\n",
    "It might have been an oversight, or there might be subtle distinction he intended to draw the reader's attention to.\n",
    "The book is full of dire warnings about distinctions like this, but in this case I don't see an explanation.\n",
    "\n",
    "Anyway, following Jaynes, I'll start with a uniform prior for $s$, over a range of values wide enough to cover the region where the likelihood of the data is non-negligible."
   ]
  },
  {
   "cell_type": "code",
   "execution_count": 3,
   "metadata": {},
   "outputs": [
    {
     "data": {
      "text/html": [
       "<div>\n",
       "<style scoped>\n",
       "    .dataframe tbody tr th:only-of-type {\n",
       "        vertical-align: middle;\n",
       "    }\n",
       "\n",
       "    .dataframe tbody tr th {\n",
       "        vertical-align: top;\n",
       "    }\n",
       "\n",
       "    .dataframe thead th {\n",
       "        text-align: right;\n",
       "    }\n",
       "</style>\n",
       "<table border=\"1\" class=\"dataframe\">\n",
       "  <thead>\n",
       "    <tr style=\"text-align: right;\">\n",
       "      <th></th>\n",
       "      <th>probs</th>\n",
       "    </tr>\n",
       "  </thead>\n",
       "  <tbody>\n",
       "    <tr>\n",
       "      <th>0.0</th>\n",
       "      <td>1</td>\n",
       "    </tr>\n",
       "    <tr>\n",
       "      <th>3.5</th>\n",
       "      <td>1</td>\n",
       "    </tr>\n",
       "    <tr>\n",
       "      <th>7.0</th>\n",
       "      <td>1</td>\n",
       "    </tr>\n",
       "  </tbody>\n",
       "</table>\n",
       "</div>"
      ],
      "text/plain": [
       "0.0    1\n",
       "3.5    1\n",
       "7.0    1\n",
       "Name: , dtype: int64"
      ]
     },
     "execution_count": 3,
     "metadata": {},
     "output_type": "execute_result"
    }
   ],
   "source": [
    "import numpy as np\n",
    "from empiricaldist import Pmf\n",
    "\n",
    "ss = np.linspace(0, 350, 101)\n",
    "prior_s = Pmf(1, ss)\n",
    "prior_s.head()"
   ]
  },
  {
   "cell_type": "markdown",
   "metadata": {},
   "source": [
    "For each value of $s$, the distribution of $n$ is Poisson, so we can form the joint prior of $s$ and $n$ using the `poisson` function from SciPy.\n",
    "I'll use a range of values for $n$ that, again, covers the region where the likelihood of the data is non-negligible."
   ]
  },
  {
   "cell_type": "code",
   "execution_count": 4,
   "metadata": {},
   "outputs": [
    {
     "data": {
      "text/plain": [
       "(350, 101)"
      ]
     },
     "execution_count": 4,
     "metadata": {},
     "output_type": "execute_result"
    }
   ],
   "source": [
    "from scipy.stats import poisson\n",
    "\n",
    "ns = np.arange(0, 350)\n",
    "S, N = np.meshgrid(ss, ns)\n",
    "ps = poisson(S).pmf(N)\n",
    "ps.shape"
   ]
  },
  {
   "cell_type": "markdown",
   "metadata": {},
   "source": [
    "The result is an array with one row for each value of $n$ and one column for each value of $s$.\n",
    "To get the prior probability for each pair, we multiply each row by the prior probabilities of $s$.\n",
    "The following function encapsulates this computation and puts the result in a Pandas `DataFrame` that represents the joint prior."
   ]
  },
  {
   "cell_type": "code",
   "execution_count": 5,
   "metadata": {},
   "outputs": [],
   "source": [
    "import pandas as pd\n",
    "\n",
    "def make_joint(prior_s, ns):\n",
    "    ss = prior_s.qs\n",
    "    S, N = np.meshgrid(ss, ns)\n",
    "    ps = poisson(S).pmf(N) * prior_s.ps\n",
    "    joint = pd.DataFrame(ps, index=ns, columns=ss)\n",
    "    joint.index.name = 'n'\n",
    "    joint.columns.name = 's'\n",
    "    return joint"
   ]
  },
  {
   "cell_type": "markdown",
   "metadata": {},
   "source": [
    "Here's the joint prior: "
   ]
  },
  {
   "cell_type": "code",
   "execution_count": 6,
   "metadata": {},
   "outputs": [
    {
     "data": {
      "text/html": [
       "<div>\n",
       "<style scoped>\n",
       "    .dataframe tbody tr th:only-of-type {\n",
       "        vertical-align: middle;\n",
       "    }\n",
       "\n",
       "    .dataframe tbody tr th {\n",
       "        vertical-align: top;\n",
       "    }\n",
       "\n",
       "    .dataframe thead th {\n",
       "        text-align: right;\n",
       "    }\n",
       "</style>\n",
       "<table border=\"1\" class=\"dataframe\">\n",
       "  <thead>\n",
       "    <tr style=\"text-align: right;\">\n",
       "      <th>s</th>\n",
       "      <th>0.0</th>\n",
       "      <th>3.5</th>\n",
       "      <th>7.0</th>\n",
       "      <th>10.5</th>\n",
       "      <th>14.0</th>\n",
       "      <th>17.5</th>\n",
       "      <th>21.0</th>\n",
       "      <th>24.5</th>\n",
       "      <th>28.0</th>\n",
       "      <th>31.5</th>\n",
       "      <th>...</th>\n",
       "      <th>318.5</th>\n",
       "      <th>322.0</th>\n",
       "      <th>325.5</th>\n",
       "      <th>329.0</th>\n",
       "      <th>332.5</th>\n",
       "      <th>336.0</th>\n",
       "      <th>339.5</th>\n",
       "      <th>343.0</th>\n",
       "      <th>346.5</th>\n",
       "      <th>350.0</th>\n",
       "    </tr>\n",
       "    <tr>\n",
       "      <th>n</th>\n",
       "      <th></th>\n",
       "      <th></th>\n",
       "      <th></th>\n",
       "      <th></th>\n",
       "      <th></th>\n",
       "      <th></th>\n",
       "      <th></th>\n",
       "      <th></th>\n",
       "      <th></th>\n",
       "      <th></th>\n",
       "      <th></th>\n",
       "      <th></th>\n",
       "      <th></th>\n",
       "      <th></th>\n",
       "      <th></th>\n",
       "      <th></th>\n",
       "      <th></th>\n",
       "      <th></th>\n",
       "      <th></th>\n",
       "      <th></th>\n",
       "      <th></th>\n",
       "    </tr>\n",
       "  </thead>\n",
       "  <tbody>\n",
       "    <tr>\n",
       "      <th>0</th>\n",
       "      <td>1.0</td>\n",
       "      <td>0.030197</td>\n",
       "      <td>0.000912</td>\n",
       "      <td>0.000028</td>\n",
       "      <td>8.315287e-07</td>\n",
       "      <td>2.510999e-08</td>\n",
       "      <td>7.582560e-10</td>\n",
       "      <td>2.289735e-11</td>\n",
       "      <td>6.914400e-13</td>\n",
       "      <td>2.087968e-14</td>\n",
       "      <td>...</td>\n",
       "      <td>4.755624e-139</td>\n",
       "      <td>1.436074e-140</td>\n",
       "      <td>4.336568e-142</td>\n",
       "      <td>1.309530e-143</td>\n",
       "      <td>3.954438e-145</td>\n",
       "      <td>1.194137e-146</td>\n",
       "      <td>3.605981e-148</td>\n",
       "      <td>1.088912e-149</td>\n",
       "      <td>3.288229e-151</td>\n",
       "      <td>9.929590e-153</td>\n",
       "    </tr>\n",
       "    <tr>\n",
       "      <th>1</th>\n",
       "      <td>0.0</td>\n",
       "      <td>0.105691</td>\n",
       "      <td>0.006383</td>\n",
       "      <td>0.000289</td>\n",
       "      <td>1.164140e-05</td>\n",
       "      <td>4.394249e-07</td>\n",
       "      <td>1.592338e-08</td>\n",
       "      <td>5.609850e-10</td>\n",
       "      <td>1.936032e-11</td>\n",
       "      <td>6.577099e-13</td>\n",
       "      <td>...</td>\n",
       "      <td>1.514666e-136</td>\n",
       "      <td>4.624158e-138</td>\n",
       "      <td>1.411553e-139</td>\n",
       "      <td>4.308354e-141</td>\n",
       "      <td>1.314851e-142</td>\n",
       "      <td>4.012300e-144</td>\n",
       "      <td>1.224230e-145</td>\n",
       "      <td>3.734968e-147</td>\n",
       "      <td>1.139371e-148</td>\n",
       "      <td>3.475357e-150</td>\n",
       "    </tr>\n",
       "    <tr>\n",
       "      <th>2</th>\n",
       "      <td>0.0</td>\n",
       "      <td>0.184959</td>\n",
       "      <td>0.022341</td>\n",
       "      <td>0.001518</td>\n",
       "      <td>8.148981e-05</td>\n",
       "      <td>3.844967e-06</td>\n",
       "      <td>1.671955e-07</td>\n",
       "      <td>6.872067e-09</td>\n",
       "      <td>2.710445e-10</td>\n",
       "      <td>1.035893e-11</td>\n",
       "      <td>...</td>\n",
       "      <td>2.412106e-134</td>\n",
       "      <td>7.444895e-136</td>\n",
       "      <td>2.297302e-137</td>\n",
       "      <td>7.087242e-139</td>\n",
       "      <td>2.185939e-140</td>\n",
       "      <td>6.740663e-142</td>\n",
       "      <td>2.078131e-143</td>\n",
       "      <td>6.405469e-145</td>\n",
       "      <td>1.973961e-146</td>\n",
       "      <td>6.081874e-148</td>\n",
       "    </tr>\n",
       "    <tr>\n",
       "      <th>3</th>\n",
       "      <td>0.0</td>\n",
       "      <td>0.215785</td>\n",
       "      <td>0.052129</td>\n",
       "      <td>0.005313</td>\n",
       "      <td>3.802858e-04</td>\n",
       "      <td>2.242898e-05</td>\n",
       "      <td>1.170368e-06</td>\n",
       "      <td>5.612188e-08</td>\n",
       "      <td>2.529749e-09</td>\n",
       "      <td>1.087688e-10</td>\n",
       "      <td>...</td>\n",
       "      <td>2.560853e-132</td>\n",
       "      <td>7.990854e-134</td>\n",
       "      <td>2.492573e-135</td>\n",
       "      <td>7.772342e-137</td>\n",
       "      <td>2.422749e-138</td>\n",
       "      <td>7.549543e-140</td>\n",
       "      <td>2.351752e-141</td>\n",
       "      <td>7.323587e-143</td>\n",
       "      <td>2.279925e-144</td>\n",
       "      <td>7.095520e-146</td>\n",
       "    </tr>\n",
       "    <tr>\n",
       "      <th>4</th>\n",
       "      <td>0.0</td>\n",
       "      <td>0.188812</td>\n",
       "      <td>0.091226</td>\n",
       "      <td>0.013946</td>\n",
       "      <td>1.331000e-03</td>\n",
       "      <td>9.812677e-05</td>\n",
       "      <td>6.144433e-06</td>\n",
       "      <td>3.437465e-07</td>\n",
       "      <td>1.770824e-08</td>\n",
       "      <td>8.565541e-10</td>\n",
       "      <td>...</td>\n",
       "      <td>2.039079e-130</td>\n",
       "      <td>6.432637e-132</td>\n",
       "      <td>2.028331e-133</td>\n",
       "      <td>6.392751e-135</td>\n",
       "      <td>2.013910e-136</td>\n",
       "      <td>6.341616e-138</td>\n",
       "      <td>1.996049e-139</td>\n",
       "      <td>6.279975e-141</td>\n",
       "      <td>1.974985e-142</td>\n",
       "      <td>6.208580e-144</td>\n",
       "    </tr>\n",
       "  </tbody>\n",
       "</table>\n",
       "<p>5 rows × 101 columns</p>\n",
       "</div>"
      ],
      "text/plain": [
       "s  0.0       3.5       7.0       10.5          14.0          17.5   \\\n",
       "n                                                                    \n",
       "0    1.0  0.030197  0.000912  0.000028  8.315287e-07  2.510999e-08   \n",
       "1    0.0  0.105691  0.006383  0.000289  1.164140e-05  4.394249e-07   \n",
       "2    0.0  0.184959  0.022341  0.001518  8.148981e-05  3.844967e-06   \n",
       "3    0.0  0.215785  0.052129  0.005313  3.802858e-04  2.242898e-05   \n",
       "4    0.0  0.188812  0.091226  0.013946  1.331000e-03  9.812677e-05   \n",
       "\n",
       "s         21.0          24.5          28.0          31.5   ...          318.5  \\\n",
       "n                                                          ...                  \n",
       "0  7.582560e-10  2.289735e-11  6.914400e-13  2.087968e-14  ...  4.755624e-139   \n",
       "1  1.592338e-08  5.609850e-10  1.936032e-11  6.577099e-13  ...  1.514666e-136   \n",
       "2  1.671955e-07  6.872067e-09  2.710445e-10  1.035893e-11  ...  2.412106e-134   \n",
       "3  1.170368e-06  5.612188e-08  2.529749e-09  1.087688e-10  ...  2.560853e-132   \n",
       "4  6.144433e-06  3.437465e-07  1.770824e-08  8.565541e-10  ...  2.039079e-130   \n",
       "\n",
       "s          322.0          325.5          329.0          332.5          336.0  \\\n",
       "n                                                                              \n",
       "0  1.436074e-140  4.336568e-142  1.309530e-143  3.954438e-145  1.194137e-146   \n",
       "1  4.624158e-138  1.411553e-139  4.308354e-141  1.314851e-142  4.012300e-144   \n",
       "2  7.444895e-136  2.297302e-137  7.087242e-139  2.185939e-140  6.740663e-142   \n",
       "3  7.990854e-134  2.492573e-135  7.772342e-137  2.422749e-138  7.549543e-140   \n",
       "4  6.432637e-132  2.028331e-133  6.392751e-135  2.013910e-136  6.341616e-138   \n",
       "\n",
       "s          339.5          343.0          346.5          350.0  \n",
       "n                                                              \n",
       "0  3.605981e-148  1.088912e-149  3.288229e-151  9.929590e-153  \n",
       "1  1.224230e-145  3.734968e-147  1.139371e-148  3.475357e-150  \n",
       "2  2.078131e-143  6.405469e-145  1.973961e-146  6.081874e-148  \n",
       "3  2.351752e-141  7.323587e-143  2.279925e-144  7.095520e-146  \n",
       "4  1.996049e-139  6.279975e-141  1.974985e-142  6.208580e-144  \n",
       "\n",
       "[5 rows x 101 columns]"
      ]
     },
     "execution_count": 6,
     "metadata": {},
     "output_type": "execute_result"
    }
   ],
   "source": [
    "joint = make_joint(prior_s, ns)\n",
    "joint.head()"
   ]
  },
  {
   "cell_type": "markdown",
   "metadata": {},
   "source": [
    "Now we're ready to compute the likelihood of the data.\n",
    "In this problem, it depends only on $n$, regardless of $s$, so we only have to compute it once for each value of $n$."
   ]
  },
  {
   "cell_type": "code",
   "execution_count": 7,
   "metadata": {},
   "outputs": [
    {
     "data": {
      "text/plain": [
       "(350,)"
      ]
     },
     "execution_count": 7,
     "metadata": {},
     "output_type": "execute_result"
    }
   ],
   "source": [
    "from scipy.stats import binom\n",
    "\n",
    "phi = 0.1\n",
    "c = 10\n",
    "likelihood = binom(ns, phi).pmf(c)\n",
    "likelihood.shape"
   ]
  },
  {
   "cell_type": "markdown",
   "metadata": {},
   "source": [
    "The result is an array of likelihoods, one for each value of $n$.\n",
    "To do the Bayesian update, we need to multiply each column in the prior by this array of likelihoods.\n",
    "We can do that using the `multiply` method with the `axis` argument."
   ]
  },
  {
   "cell_type": "code",
   "execution_count": 8,
   "metadata": {},
   "outputs": [
    {
     "data": {
      "text/html": [
       "<div>\n",
       "<style scoped>\n",
       "    .dataframe tbody tr th:only-of-type {\n",
       "        vertical-align: middle;\n",
       "    }\n",
       "\n",
       "    .dataframe tbody tr th {\n",
       "        vertical-align: top;\n",
       "    }\n",
       "\n",
       "    .dataframe thead th {\n",
       "        text-align: right;\n",
       "    }\n",
       "</style>\n",
       "<table border=\"1\" class=\"dataframe\">\n",
       "  <thead>\n",
       "    <tr style=\"text-align: right;\">\n",
       "      <th>s</th>\n",
       "      <th>0.0</th>\n",
       "      <th>3.5</th>\n",
       "      <th>7.0</th>\n",
       "      <th>10.5</th>\n",
       "      <th>14.0</th>\n",
       "      <th>17.5</th>\n",
       "      <th>21.0</th>\n",
       "      <th>24.5</th>\n",
       "      <th>28.0</th>\n",
       "      <th>31.5</th>\n",
       "      <th>...</th>\n",
       "      <th>318.5</th>\n",
       "      <th>322.0</th>\n",
       "      <th>325.5</th>\n",
       "      <th>329.0</th>\n",
       "      <th>332.5</th>\n",
       "      <th>336.0</th>\n",
       "      <th>339.5</th>\n",
       "      <th>343.0</th>\n",
       "      <th>346.5</th>\n",
       "      <th>350.0</th>\n",
       "    </tr>\n",
       "    <tr>\n",
       "      <th>n</th>\n",
       "      <th></th>\n",
       "      <th></th>\n",
       "      <th></th>\n",
       "      <th></th>\n",
       "      <th></th>\n",
       "      <th></th>\n",
       "      <th></th>\n",
       "      <th></th>\n",
       "      <th></th>\n",
       "      <th></th>\n",
       "      <th></th>\n",
       "      <th></th>\n",
       "      <th></th>\n",
       "      <th></th>\n",
       "      <th></th>\n",
       "      <th></th>\n",
       "      <th></th>\n",
       "      <th></th>\n",
       "      <th></th>\n",
       "      <th></th>\n",
       "      <th></th>\n",
       "    </tr>\n",
       "  </thead>\n",
       "  <tbody>\n",
       "    <tr>\n",
       "      <th>0</th>\n",
       "      <td>0.0</td>\n",
       "      <td>0.0</td>\n",
       "      <td>0.0</td>\n",
       "      <td>0.0</td>\n",
       "      <td>0.0</td>\n",
       "      <td>0.0</td>\n",
       "      <td>0.0</td>\n",
       "      <td>0.0</td>\n",
       "      <td>0.0</td>\n",
       "      <td>0.0</td>\n",
       "      <td>...</td>\n",
       "      <td>0.0</td>\n",
       "      <td>0.0</td>\n",
       "      <td>0.0</td>\n",
       "      <td>0.0</td>\n",
       "      <td>0.0</td>\n",
       "      <td>0.0</td>\n",
       "      <td>0.0</td>\n",
       "      <td>0.0</td>\n",
       "      <td>0.0</td>\n",
       "      <td>0.0</td>\n",
       "    </tr>\n",
       "    <tr>\n",
       "      <th>1</th>\n",
       "      <td>0.0</td>\n",
       "      <td>0.0</td>\n",
       "      <td>0.0</td>\n",
       "      <td>0.0</td>\n",
       "      <td>0.0</td>\n",
       "      <td>0.0</td>\n",
       "      <td>0.0</td>\n",
       "      <td>0.0</td>\n",
       "      <td>0.0</td>\n",
       "      <td>0.0</td>\n",
       "      <td>...</td>\n",
       "      <td>0.0</td>\n",
       "      <td>0.0</td>\n",
       "      <td>0.0</td>\n",
       "      <td>0.0</td>\n",
       "      <td>0.0</td>\n",
       "      <td>0.0</td>\n",
       "      <td>0.0</td>\n",
       "      <td>0.0</td>\n",
       "      <td>0.0</td>\n",
       "      <td>0.0</td>\n",
       "    </tr>\n",
       "    <tr>\n",
       "      <th>2</th>\n",
       "      <td>0.0</td>\n",
       "      <td>0.0</td>\n",
       "      <td>0.0</td>\n",
       "      <td>0.0</td>\n",
       "      <td>0.0</td>\n",
       "      <td>0.0</td>\n",
       "      <td>0.0</td>\n",
       "      <td>0.0</td>\n",
       "      <td>0.0</td>\n",
       "      <td>0.0</td>\n",
       "      <td>...</td>\n",
       "      <td>0.0</td>\n",
       "      <td>0.0</td>\n",
       "      <td>0.0</td>\n",
       "      <td>0.0</td>\n",
       "      <td>0.0</td>\n",
       "      <td>0.0</td>\n",
       "      <td>0.0</td>\n",
       "      <td>0.0</td>\n",
       "      <td>0.0</td>\n",
       "      <td>0.0</td>\n",
       "    </tr>\n",
       "    <tr>\n",
       "      <th>3</th>\n",
       "      <td>0.0</td>\n",
       "      <td>0.0</td>\n",
       "      <td>0.0</td>\n",
       "      <td>0.0</td>\n",
       "      <td>0.0</td>\n",
       "      <td>0.0</td>\n",
       "      <td>0.0</td>\n",
       "      <td>0.0</td>\n",
       "      <td>0.0</td>\n",
       "      <td>0.0</td>\n",
       "      <td>...</td>\n",
       "      <td>0.0</td>\n",
       "      <td>0.0</td>\n",
       "      <td>0.0</td>\n",
       "      <td>0.0</td>\n",
       "      <td>0.0</td>\n",
       "      <td>0.0</td>\n",
       "      <td>0.0</td>\n",
       "      <td>0.0</td>\n",
       "      <td>0.0</td>\n",
       "      <td>0.0</td>\n",
       "    </tr>\n",
       "    <tr>\n",
       "      <th>4</th>\n",
       "      <td>0.0</td>\n",
       "      <td>0.0</td>\n",
       "      <td>0.0</td>\n",
       "      <td>0.0</td>\n",
       "      <td>0.0</td>\n",
       "      <td>0.0</td>\n",
       "      <td>0.0</td>\n",
       "      <td>0.0</td>\n",
       "      <td>0.0</td>\n",
       "      <td>0.0</td>\n",
       "      <td>...</td>\n",
       "      <td>0.0</td>\n",
       "      <td>0.0</td>\n",
       "      <td>0.0</td>\n",
       "      <td>0.0</td>\n",
       "      <td>0.0</td>\n",
       "      <td>0.0</td>\n",
       "      <td>0.0</td>\n",
       "      <td>0.0</td>\n",
       "      <td>0.0</td>\n",
       "      <td>0.0</td>\n",
       "    </tr>\n",
       "  </tbody>\n",
       "</table>\n",
       "<p>5 rows × 101 columns</p>\n",
       "</div>"
      ],
      "text/plain": [
       "s  0.0    3.5    7.0    10.5   14.0   17.5   21.0   24.5   28.0   31.5   ...  \\\n",
       "n                                                                        ...   \n",
       "0    0.0    0.0    0.0    0.0    0.0    0.0    0.0    0.0    0.0    0.0  ...   \n",
       "1    0.0    0.0    0.0    0.0    0.0    0.0    0.0    0.0    0.0    0.0  ...   \n",
       "2    0.0    0.0    0.0    0.0    0.0    0.0    0.0    0.0    0.0    0.0  ...   \n",
       "3    0.0    0.0    0.0    0.0    0.0    0.0    0.0    0.0    0.0    0.0  ...   \n",
       "4    0.0    0.0    0.0    0.0    0.0    0.0    0.0    0.0    0.0    0.0  ...   \n",
       "\n",
       "s  318.5  322.0  325.5  329.0  332.5  336.0  339.5  343.0  346.5  350.0  \n",
       "n                                                                        \n",
       "0    0.0    0.0    0.0    0.0    0.0    0.0    0.0    0.0    0.0    0.0  \n",
       "1    0.0    0.0    0.0    0.0    0.0    0.0    0.0    0.0    0.0    0.0  \n",
       "2    0.0    0.0    0.0    0.0    0.0    0.0    0.0    0.0    0.0    0.0  \n",
       "3    0.0    0.0    0.0    0.0    0.0    0.0    0.0    0.0    0.0    0.0  \n",
       "4    0.0    0.0    0.0    0.0    0.0    0.0    0.0    0.0    0.0    0.0  \n",
       "\n",
       "[5 rows x 101 columns]"
      ]
     },
     "execution_count": 8,
     "metadata": {},
     "output_type": "execute_result"
    }
   ],
   "source": [
    "product = joint.multiply(likelihood, axis=0)\n",
    "product.head()"
   ]
  },
  {
   "cell_type": "markdown",
   "metadata": {},
   "source": [
    "The following function encapsulates this computation, normalizes the result, and returns the posterior distribution."
   ]
  },
  {
   "cell_type": "code",
   "execution_count": 9,
   "metadata": {},
   "outputs": [],
   "source": [
    "from utils import normalize\n",
    "\n",
    "def update(joint, phi, c):\n",
    "    ns = joint.index\n",
    "    likelihood = binom(ns, phi).pmf(c)\n",
    "    posterior = joint.multiply(likelihood, axis=0)\n",
    "    normalize(posterior)\n",
    "    return posterior"
   ]
  },
  {
   "cell_type": "markdown",
   "metadata": {},
   "source": [
    "## First update\n",
    "\n",
    "Let's test the update function with the first example, on page 178 of *Probability Theory*:\n",
    "\n",
    "> During the first second, `c1 = 10` counts are registered. What can [we] say about the number `n1` of particles?\n",
    "\n",
    "Here's the update:"
   ]
  },
  {
   "cell_type": "code",
   "execution_count": 10,
   "metadata": {},
   "outputs": [
    {
     "data": {
      "text/html": [
       "<div>\n",
       "<style scoped>\n",
       "    .dataframe tbody tr th:only-of-type {\n",
       "        vertical-align: middle;\n",
       "    }\n",
       "\n",
       "    .dataframe tbody tr th {\n",
       "        vertical-align: top;\n",
       "    }\n",
       "\n",
       "    .dataframe thead th {\n",
       "        text-align: right;\n",
       "    }\n",
       "</style>\n",
       "<table border=\"1\" class=\"dataframe\">\n",
       "  <thead>\n",
       "    <tr style=\"text-align: right;\">\n",
       "      <th>s</th>\n",
       "      <th>0.0</th>\n",
       "      <th>3.5</th>\n",
       "      <th>7.0</th>\n",
       "      <th>10.5</th>\n",
       "      <th>14.0</th>\n",
       "      <th>17.5</th>\n",
       "      <th>21.0</th>\n",
       "      <th>24.5</th>\n",
       "      <th>28.0</th>\n",
       "      <th>31.5</th>\n",
       "      <th>...</th>\n",
       "      <th>318.5</th>\n",
       "      <th>322.0</th>\n",
       "      <th>325.5</th>\n",
       "      <th>329.0</th>\n",
       "      <th>332.5</th>\n",
       "      <th>336.0</th>\n",
       "      <th>339.5</th>\n",
       "      <th>343.0</th>\n",
       "      <th>346.5</th>\n",
       "      <th>350.0</th>\n",
       "    </tr>\n",
       "    <tr>\n",
       "      <th>n</th>\n",
       "      <th></th>\n",
       "      <th></th>\n",
       "      <th></th>\n",
       "      <th></th>\n",
       "      <th></th>\n",
       "      <th></th>\n",
       "      <th></th>\n",
       "      <th></th>\n",
       "      <th></th>\n",
       "      <th></th>\n",
       "      <th></th>\n",
       "      <th></th>\n",
       "      <th></th>\n",
       "      <th></th>\n",
       "      <th></th>\n",
       "      <th></th>\n",
       "      <th></th>\n",
       "      <th></th>\n",
       "      <th></th>\n",
       "      <th></th>\n",
       "      <th></th>\n",
       "    </tr>\n",
       "  </thead>\n",
       "  <tbody>\n",
       "    <tr>\n",
       "      <th>0</th>\n",
       "      <td>0.0</td>\n",
       "      <td>0.0</td>\n",
       "      <td>0.0</td>\n",
       "      <td>0.0</td>\n",
       "      <td>0.0</td>\n",
       "      <td>0.0</td>\n",
       "      <td>0.0</td>\n",
       "      <td>0.0</td>\n",
       "      <td>0.0</td>\n",
       "      <td>0.0</td>\n",
       "      <td>...</td>\n",
       "      <td>0.0</td>\n",
       "      <td>0.0</td>\n",
       "      <td>0.0</td>\n",
       "      <td>0.0</td>\n",
       "      <td>0.0</td>\n",
       "      <td>0.0</td>\n",
       "      <td>0.0</td>\n",
       "      <td>0.0</td>\n",
       "      <td>0.0</td>\n",
       "      <td>0.0</td>\n",
       "    </tr>\n",
       "    <tr>\n",
       "      <th>1</th>\n",
       "      <td>0.0</td>\n",
       "      <td>0.0</td>\n",
       "      <td>0.0</td>\n",
       "      <td>0.0</td>\n",
       "      <td>0.0</td>\n",
       "      <td>0.0</td>\n",
       "      <td>0.0</td>\n",
       "      <td>0.0</td>\n",
       "      <td>0.0</td>\n",
       "      <td>0.0</td>\n",
       "      <td>...</td>\n",
       "      <td>0.0</td>\n",
       "      <td>0.0</td>\n",
       "      <td>0.0</td>\n",
       "      <td>0.0</td>\n",
       "      <td>0.0</td>\n",
       "      <td>0.0</td>\n",
       "      <td>0.0</td>\n",
       "      <td>0.0</td>\n",
       "      <td>0.0</td>\n",
       "      <td>0.0</td>\n",
       "    </tr>\n",
       "    <tr>\n",
       "      <th>2</th>\n",
       "      <td>0.0</td>\n",
       "      <td>0.0</td>\n",
       "      <td>0.0</td>\n",
       "      <td>0.0</td>\n",
       "      <td>0.0</td>\n",
       "      <td>0.0</td>\n",
       "      <td>0.0</td>\n",
       "      <td>0.0</td>\n",
       "      <td>0.0</td>\n",
       "      <td>0.0</td>\n",
       "      <td>...</td>\n",
       "      <td>0.0</td>\n",
       "      <td>0.0</td>\n",
       "      <td>0.0</td>\n",
       "      <td>0.0</td>\n",
       "      <td>0.0</td>\n",
       "      <td>0.0</td>\n",
       "      <td>0.0</td>\n",
       "      <td>0.0</td>\n",
       "      <td>0.0</td>\n",
       "      <td>0.0</td>\n",
       "    </tr>\n",
       "    <tr>\n",
       "      <th>3</th>\n",
       "      <td>0.0</td>\n",
       "      <td>0.0</td>\n",
       "      <td>0.0</td>\n",
       "      <td>0.0</td>\n",
       "      <td>0.0</td>\n",
       "      <td>0.0</td>\n",
       "      <td>0.0</td>\n",
       "      <td>0.0</td>\n",
       "      <td>0.0</td>\n",
       "      <td>0.0</td>\n",
       "      <td>...</td>\n",
       "      <td>0.0</td>\n",
       "      <td>0.0</td>\n",
       "      <td>0.0</td>\n",
       "      <td>0.0</td>\n",
       "      <td>0.0</td>\n",
       "      <td>0.0</td>\n",
       "      <td>0.0</td>\n",
       "      <td>0.0</td>\n",
       "      <td>0.0</td>\n",
       "      <td>0.0</td>\n",
       "    </tr>\n",
       "    <tr>\n",
       "      <th>4</th>\n",
       "      <td>0.0</td>\n",
       "      <td>0.0</td>\n",
       "      <td>0.0</td>\n",
       "      <td>0.0</td>\n",
       "      <td>0.0</td>\n",
       "      <td>0.0</td>\n",
       "      <td>0.0</td>\n",
       "      <td>0.0</td>\n",
       "      <td>0.0</td>\n",
       "      <td>0.0</td>\n",
       "      <td>...</td>\n",
       "      <td>0.0</td>\n",
       "      <td>0.0</td>\n",
       "      <td>0.0</td>\n",
       "      <td>0.0</td>\n",
       "      <td>0.0</td>\n",
       "      <td>0.0</td>\n",
       "      <td>0.0</td>\n",
       "      <td>0.0</td>\n",
       "      <td>0.0</td>\n",
       "      <td>0.0</td>\n",
       "    </tr>\n",
       "  </tbody>\n",
       "</table>\n",
       "<p>5 rows × 101 columns</p>\n",
       "</div>"
      ],
      "text/plain": [
       "s  0.0    3.5    7.0    10.5   14.0   17.5   21.0   24.5   28.0   31.5   ...  \\\n",
       "n                                                                        ...   \n",
       "0    0.0    0.0    0.0    0.0    0.0    0.0    0.0    0.0    0.0    0.0  ...   \n",
       "1    0.0    0.0    0.0    0.0    0.0    0.0    0.0    0.0    0.0    0.0  ...   \n",
       "2    0.0    0.0    0.0    0.0    0.0    0.0    0.0    0.0    0.0    0.0  ...   \n",
       "3    0.0    0.0    0.0    0.0    0.0    0.0    0.0    0.0    0.0    0.0  ...   \n",
       "4    0.0    0.0    0.0    0.0    0.0    0.0    0.0    0.0    0.0    0.0  ...   \n",
       "\n",
       "s  318.5  322.0  325.5  329.0  332.5  336.0  339.5  343.0  346.5  350.0  \n",
       "n                                                                        \n",
       "0    0.0    0.0    0.0    0.0    0.0    0.0    0.0    0.0    0.0    0.0  \n",
       "1    0.0    0.0    0.0    0.0    0.0    0.0    0.0    0.0    0.0    0.0  \n",
       "2    0.0    0.0    0.0    0.0    0.0    0.0    0.0    0.0    0.0    0.0  \n",
       "3    0.0    0.0    0.0    0.0    0.0    0.0    0.0    0.0    0.0    0.0  \n",
       "4    0.0    0.0    0.0    0.0    0.0    0.0    0.0    0.0    0.0    0.0  \n",
       "\n",
       "[5 rows x 101 columns]"
      ]
     },
     "execution_count": 10,
     "metadata": {},
     "output_type": "execute_result"
    }
   ],
   "source": [
    "c1 = 10\n",
    "phi = 0.1\n",
    "posterior = update(joint, phi, c1)\n",
    "posterior.head()"
   ]
  },
  {
   "cell_type": "markdown",
   "metadata": {},
   "source": [
    "The following figure is a contour plot of the joint posterior distribution.\n",
    "As you might expect, $s$ and $n$ are highly correlated; that is, if we believe $s$ is low, we should believe that $n$ is low, and contrariwise if $s$ is high."
   ]
  },
  {
   "cell_type": "code",
   "execution_count": 11,
   "metadata": {},
   "outputs": [
    {
     "data": {
      "image/png": "[encoded data removed]",
      "text/plain": [
       "<Figure size 432x288 with 1 Axes>"
      ]
     },
     "metadata": {
      "needs_background": "light"
     },
     "output_type": "display_data"
    }
   ],
   "source": [
    "from utils import plot_contour\n",
    "\n",
    "plot_contour(posterior);"
   ]
  },
  {
   "cell_type": "markdown",
   "metadata": {},
   "source": [
    "From the posterior distribution, we can extract the marginal distributions of $s$ and $n$."
   ]
  },
  {
   "cell_type": "code",
   "execution_count": 12,
   "metadata": {},
   "outputs": [
    {
     "data": {
      "text/plain": [
       "109.99983355767465"
      ]
     },
     "execution_count": 12,
     "metadata": {},
     "output_type": "execute_result"
    },
    {
     "data": {
      "image/png": "[encoded data removed]",
      "text/plain": [
       "<Figure size 432x288 with 1 Axes>"
      ]
     },
     "metadata": {
      "needs_background": "light"
     },
     "output_type": "display_data"
    }
   ],
   "source": [
    "from utils import marginal\n",
    "\n",
    "posterior_s = marginal(posterior, 0)\n",
    "posterior_s.plot()\n",
    "posterior_s.mean()"
   ]
  },
  {
   "cell_type": "code",
   "execution_count": 13,
   "metadata": {},
   "outputs": [
    {
     "data": {
      "text/plain": [
       "108.99984691276569"
      ]
     },
     "execution_count": 13,
     "metadata": {},
     "output_type": "execute_result"
    },
    {
     "data": {
      "image/png": "[encoded data removed]",
      "text/plain": [
       "<Figure size 432x288 with 1 Axes>"
      ]
     },
     "metadata": {
      "needs_background": "light"
     },
     "output_type": "display_data"
    }
   ],
   "source": [
    "posterior_n = marginal(posterior, 1)\n",
    "posterior_n.plot()\n",
    "posterior_n.mean()"
   ]
  },
  {
   "cell_type": "markdown",
   "metadata": {},
   "source": [
    "The posterior mean of $n$ is close to 109, which is consistent with Equation 6.116. "
   ]
  },
  {
   "cell_type": "code",
   "execution_count": 14,
   "metadata": {},
   "outputs": [
    {
     "data": {
      "text/plain": [
       "(99, 100.0)"
      ]
     },
     "execution_count": 14,
     "metadata": {},
     "output_type": "execute_result"
    }
   ],
   "source": [
    "posterior_n.idxmax(), c/phi"
   ]
  },
  {
   "cell_type": "markdown",
   "metadata": {},
   "source": [
    "The MAP is 99, which is one less than the analytic result in Equation 6.113, which is 100.\n",
    "It looks like the posterior probabilities for 99 and 100 are the same, but the floating-point results differ slightly."
   ]
  },
  {
   "cell_type": "code",
   "execution_count": 15,
   "metadata": {},
   "outputs": [
    {
     "data": {
      "text/plain": [
       "5.065392549852277e-16"
      ]
     },
     "execution_count": 15,
     "metadata": {},
     "output_type": "execute_result"
    }
   ],
   "source": [
    "posterior_n[99] - posterior_n[100]"
   ]
  },
  {
   "cell_type": "markdown",
   "metadata": {},
   "source": [
    "## Jeffreys prior\n",
    "\n",
    "Instead of a uniform prior for $s$, we can use a Jeffreys prior, in which the prior probability for each value of $s$ is proportional to $1/s$.\n",
    "This has the advantage of \"invariance under certain changes of parameters\", which is \"the only correct way to express complete ignorance of a scale parameter.\" \n",
    "However, Jaynes suggests that it is not clear \"whether $s$ can properly be regarded as a scale parameter in this problem.\"\n",
    "\n",
    "Nevertheless, he suggests we try it and see what happens.\n",
    "Here's the Jeffreys prior for $s$."
   ]
  },
  {
   "cell_type": "code",
   "execution_count": 16,
   "metadata": {},
   "outputs": [
    {
     "data": {
      "text/html": [
       "<div>\n",
       "<style scoped>\n",
       "    .dataframe tbody tr th:only-of-type {\n",
       "        vertical-align: middle;\n",
       "    }\n",
       "\n",
       "    .dataframe tbody tr th {\n",
       "        vertical-align: top;\n",
       "    }\n",
       "\n",
       "    .dataframe thead th {\n",
       "        text-align: right;\n",
       "    }\n",
       "</style>\n",
       "<table border=\"1\" class=\"dataframe\">\n",
       "  <thead>\n",
       "    <tr style=\"text-align: right;\">\n",
       "      <th></th>\n",
       "      <th>probs</th>\n",
       "    </tr>\n",
       "  </thead>\n",
       "  <tbody>\n",
       "    <tr>\n",
       "      <th>3.5</th>\n",
       "      <td>0.285714</td>\n",
       "    </tr>\n",
       "    <tr>\n",
       "      <th>7.0</th>\n",
       "      <td>0.142857</td>\n",
       "    </tr>\n",
       "    <tr>\n",
       "      <th>10.5</th>\n",
       "      <td>0.095238</td>\n",
       "    </tr>\n",
       "  </tbody>\n",
       "</table>\n",
       "</div>"
      ],
      "text/plain": [
       "3.5     0.285714\n",
       "7.0     0.142857\n",
       "10.5    0.095238\n",
       "Name: , dtype: float64"
      ]
     },
     "execution_count": 16,
     "metadata": {},
     "output_type": "execute_result"
    }
   ],
   "source": [
    "prior_jeff = Pmf(1/ss[1:], ss[1:])\n",
    "prior_jeff.head()"
   ]
  },
  {
   "cell_type": "markdown",
   "metadata": {},
   "source": [
    "We can use it to compute the joint prior of $s$ and $n$, and update it with `c1`."
   ]
  },
  {
   "cell_type": "code",
   "execution_count": 17,
   "metadata": {},
   "outputs": [],
   "source": [
    "joint_jeff = make_joint(prior_jeff, ns)\n",
    "posterior_jeff = update(joint_jeff, phi, c1)"
   ]
  },
  {
   "cell_type": "markdown",
   "metadata": {},
   "source": [
    "Here's the marginal posterior distribution of $n$:"
   ]
  },
  {
   "cell_type": "code",
   "execution_count": 18,
   "metadata": {},
   "outputs": [
    {
     "data": {
      "text/plain": [
       "99.99995605790188"
      ]
     },
     "execution_count": 18,
     "metadata": {},
     "output_type": "execute_result"
    },
    {
     "data": {
      "image/png": "[encoded data removed]",
      "text/plain": [
       "<Figure size 432x288 with 1 Axes>"
      ]
     },
     "metadata": {
      "needs_background": "light"
     },
     "output_type": "display_data"
    }
   ],
   "source": [
    "posterior_n = marginal(posterior_jeff, 1)\n",
    "posterior_n.plot()\n",
    "posterior_n.mean()"
   ]
  },
  {
   "cell_type": "code",
   "execution_count": 19,
   "metadata": {},
   "outputs": [
    {
     "data": {
      "text/plain": [
       "91"
      ]
     },
     "execution_count": 19,
     "metadata": {},
     "output_type": "execute_result"
    }
   ],
   "source": [
    "posterior_n.idxmax()"
   ]
  },
  {
   "cell_type": "markdown",
   "metadata": {},
   "source": [
    "The posterior mean is close to 100 and the MAP is 91; both are consistent with the results in Equation 6.122."
   ]
  },
  {
   "cell_type": "markdown",
   "metadata": {},
   "source": [
    "## Robot A\n",
    "\n",
    "Now we get to what I think is the most interesting part of this example, which is to take into account a second observation under two models of the scenario:\n",
    "\n",
    "> Two robots, [A and B], have different prior information about the source of the particles.\n",
    "The source is hidden in another room which A and B are not allowed to enter.\n",
    "A has no knowledge at all about the source of particles; for all [it] knows, ... the other room might be full of little [people] who run back and forth, holding first one radioactive source, then another, up to the exit window. \n",
    ">\n",
    "> B has one additional qualitative fact: [it] knows that the source is a radioactive sample of long lifetime, in a fixed position.\n",
    "\n",
    "In other words, B has reason to believe that the source strength $s$ is constant from one interval to the next, while A admits the possibility that $s$ is different for each interval.\n",
    "\n",
    "The following figure, from Jaynes, represents these models graphically (Jaynes calls them \"logical situations\" because he seems to be allergic to the word \"model\").\n",
    "\n",
    "<img src=\"https://github.com/AllenDowney/ThinkBayes2/raw/master/examples/jaynes177.png\" width=\"400\">\n",
    "\n",
    "For A, the \"different intervals are logically independent\", so the update with `c2 = 16` starts with the same prior."
   ]
  },
  {
   "cell_type": "code",
   "execution_count": 20,
   "metadata": {},
   "outputs": [],
   "source": [
    "c2 = 16\n",
    "posterior2 = update(joint, phi, c2)"
   ]
  },
  {
   "cell_type": "markdown",
   "metadata": {},
   "source": [
    "Here's the posterior marginal distribution of `n2`."
   ]
  },
  {
   "cell_type": "code",
   "execution_count": 21,
   "metadata": {},
   "outputs": [
    {
     "data": {
      "text/plain": [
       "168.947980523708"
      ]
     },
     "execution_count": 21,
     "metadata": {},
     "output_type": "execute_result"
    },
    {
     "data": {
      "image/png": "[encoded data removed]",
      "text/plain": [
       "<Figure size 432x288 with 1 Axes>"
      ]
     },
     "metadata": {
      "needs_background": "light"
     },
     "output_type": "display_data"
    }
   ],
   "source": [
    "posterior_n2 = marginal(posterior2, 1)\n",
    "posterior_n2.plot()\n",
    "posterior_n2.mean()"
   ]
  },
  {
   "cell_type": "code",
   "execution_count": 22,
   "metadata": {},
   "outputs": [
    {
     "data": {
      "text/plain": [
       "160"
      ]
     },
     "execution_count": 22,
     "metadata": {},
     "output_type": "execute_result"
    }
   ],
   "source": [
    "posterior_n2.idxmax()"
   ]
  },
  {
   "cell_type": "markdown",
   "metadata": {},
   "source": [
    "The posterior mean is close to 169, which is consistent with the result in Equation 6.124.\n",
    "The MAP is 160, which is consistent with 6.123."
   ]
  },
  {
   "cell_type": "markdown",
   "metadata": {},
   "source": [
    "## Robot B\n",
    "\n",
    "For B, the \"logical situation\" is different. If we consider $s$ to be constant, we can -- and should! -- take the information from the first update into account when we perform the second update.\n",
    "We can do that by using the posterior distribution of $s$ from the first update to form the joint prior for the second update, like this:"
   ]
  },
  {
   "cell_type": "code",
   "execution_count": 23,
   "metadata": {},
   "outputs": [
    {
     "data": {
      "text/plain": [
       "137.499999315101"
      ]
     },
     "execution_count": 23,
     "metadata": {},
     "output_type": "execute_result"
    },
    {
     "data": {
      "image/png": "[encoded data removed]",
      "text/plain": [
       "<Figure size 432x288 with 1 Axes>"
      ]
     },
     "metadata": {
      "needs_background": "light"
     },
     "output_type": "display_data"
    }
   ],
   "source": [
    "joint = make_joint(posterior_s, ns)\n",
    "posterior = update(joint, phi, c2)\n",
    "posterior_n = marginal(posterior, 1)\n",
    "posterior_n.plot()\n",
    "posterior_n.mean()"
   ]
  },
  {
   "cell_type": "markdown",
   "metadata": {},
   "source": [
    "The posterior mean of $n$ is close to 137.5, which is consistent with Equation 6.134.\n",
    "The MAP is 132, which is one less than the analytic result, 133.\n",
    "But again, there are two values with the same probability except for floating-point errors."
   ]
  },
  {
   "cell_type": "code",
   "execution_count": 24,
   "metadata": {},
   "outputs": [
    {
     "data": {
      "text/plain": [
       "132"
      ]
     },
     "execution_count": 24,
     "metadata": {},
     "output_type": "execute_result"
    }
   ],
   "source": [
    "posterior_n.idxmax()"
   ]
  },
  {
   "cell_type": "code",
   "execution_count": 25,
   "metadata": {},
   "outputs": [
    {
     "data": {
      "text/plain": [
       "2.914335439641036e-16"
      ]
     },
     "execution_count": 25,
     "metadata": {},
     "output_type": "execute_result"
    }
   ],
   "source": [
    "posterior_n[132] - posterior_n[133]"
   ]
  },
  {
   "cell_type": "markdown",
   "metadata": {},
   "source": [
    "Under B's model, the data from the first interval updates our belief about $s$, which influences what we believe about `n2`."
   ]
  },
  {
   "cell_type": "markdown",
   "metadata": {},
   "source": [
    "## Going the other way\n",
    "\n",
    "That might not seem surprising, but there is an additional point Jaynes makes with this example, which is that it also works the other way around: Having seen `c2`, we have more information about $s$, which means we can -- and should! -- go back and reconsider what we concluded about `n1`.\n",
    "\n",
    "We can do that by imagining we did the experiments in the opposite order, so\n",
    "\n",
    "1. We'll start again with a joint prior based on a uniform distribution for $s$,\n",
    "\n",
    "2. Update it based on `c2`,\n",
    "\n",
    "3. Use the posterior distribution of $s$ to form a new joint prior,\n",
    "\n",
    "4. Update it based on `c1`, and\n",
    "\n",
    "5. Extract the marginal posterior for `n1`."
   ]
  },
  {
   "cell_type": "code",
   "execution_count": 26,
   "metadata": {},
   "outputs": [
    {
     "data": {
      "text/plain": [
       "169.94393251129674"
      ]
     },
     "execution_count": 26,
     "metadata": {},
     "output_type": "execute_result"
    }
   ],
   "source": [
    "joint = make_joint(prior_s, ns)\n",
    "posterior = update(joint, phi, c2)\n",
    "posterior_s = marginal(posterior, 0)\n",
    "posterior_s.mean()"
   ]
  },
  {
   "cell_type": "code",
   "execution_count": 27,
   "metadata": {},
   "outputs": [
    {
     "data": {
      "text/plain": [
       "131.49999935386944"
      ]
     },
     "execution_count": 27,
     "metadata": {},
     "output_type": "execute_result"
    }
   ],
   "source": [
    "joint = make_joint(posterior_s, ns)\n",
    "posterior = update(joint, phi, c1)\n",
    "posterior_n2 = marginal(posterior, 1)\n",
    "posterior_n2.mean()"
   ]
  },
  {
   "cell_type": "markdown",
   "metadata": {},
   "source": [
    "The posterior mean is close to 131.5, which is consistent with Equation 6.133.\n",
    "And the MAP is 126, which is one less than the result in Equation 6.132, again due to floating-point error."
   ]
  },
  {
   "cell_type": "code",
   "execution_count": 28,
   "metadata": {},
   "outputs": [
    {
     "data": {
      "text/plain": [
       "126"
      ]
     },
     "execution_count": 28,
     "metadata": {},
     "output_type": "execute_result"
    }
   ],
   "source": [
    "posterior_n2.idxmax()"
   ]
  },
  {
   "cell_type": "code",
   "execution_count": 29,
   "metadata": {},
   "outputs": [
    {
     "data": {
      "text/plain": [
       "3.8163916471489756e-16"
      ]
     },
     "execution_count": 29,
     "metadata": {},
     "output_type": "execute_result"
    }
   ],
   "source": [
    "posterior_n2[126] - posterior_n2[127]"
   ]
  },
  {
   "cell_type": "markdown",
   "metadata": {},
   "source": [
    "Here's what the new distribution of `n1` looks like compared to the original, which was based on `c1` only."
   ]
  },
  {
   "cell_type": "code",
   "execution_count": 30,
   "metadata": {},
   "outputs": [],
   "source": [
    "joint = make_joint(prior_s, ns)\n",
    "posterior = update(joint, phi, c1)\n",
    "posterior_n = marginal(posterior, 1)"
   ]
  },
  {
   "cell_type": "code",
   "execution_count": 31,
   "metadata": {},
   "outputs": [
    {
     "data": {
      "image/png": "[encoded data removed]",
      "text/plain": [
       "<Figure size 432x288 with 1 Axes>"
      ]
     },
     "metadata": {
      "needs_background": "light"
     },
     "output_type": "display_data"
    }
   ],
   "source": [
    "from utils import decorate\n",
    "\n",
    "posterior_n.plot(label='Model A')\n",
    "posterior_n2.plot(label='Model B')\n",
    "decorate(title='Posterior distributions of n1 under different models')"
   ]
  },
  {
   "cell_type": "markdown",
   "metadata": {},
   "source": [
    "With the additional information from `c2`:\n",
    "\n",
    "* We give higher probability to large values of $s$, so we also give higher probability to large values of `n1`, and\n",
    "\n",
    "* The width of the distribution is narrower, which shows that with more information about $s$, we have more information about `n1`.\n",
    "\n",
    "This is one of several examples Jaynes uses to distinguish between \"logical and causal dependence.\" In this example, causal dependence only goes in the forward direction: \"$s$ is the physical cause which partially determines $n$; and then $n$ in turn is the physical cause which partially determines $c$\".\n",
    "\n",
    "Therefore, `c1` and `c2` are causally independent: if the number of particles counted in one interval is unusually high (or low), that does not cause the number of particles during any other interval to be higher or lower.\n",
    "\n",
    "But if $s$ is unknown, they are not *logically* independent. For example, if `c1` is lower than expected, that implies that lower values of $s$ are more likely, which implies that lower values of `n2` are more likely, which implies that lower values of `c2` are more likely.\n",
    "\n",
    "And, as we've seen, it works the other way, too.\n",
    "For example, if `c2` is higher than expected, that implies that higher values of $s$, `n1`, and `c1` are more likely.\n",
    "\n",
    "If you find the second result more surprising -- that is, if you think it's weird that `c2` changes what we believe about `n1` -- that implies that you are not (yet) distinguishing between logical and causal dependence."
   ]
  },
  {
   "cell_type": "code",
   "execution_count": null,
   "metadata": {},
   "outputs": [],
   "source": []
  }
 ],
 "metadata": {
  "celltoolbar": "Tags",
  "kernelspec": {
   "display_name": "Python 3",
   "language": "python",
   "name": "python3"
  },
  "language_info": {
   "codemirror_mode": {
    "name": "ipython",
    "version": 3
   },
   "file_extension": ".py",
   "mimetype": "text/x-python",
   "name": "python",
   "nbconvert_exporter": "python",
   "pygments_lexer": "ipython3",
   "version": "3.8.8"
  }
 },
 "nbformat": 4,
 "nbformat_minor": 2
}
