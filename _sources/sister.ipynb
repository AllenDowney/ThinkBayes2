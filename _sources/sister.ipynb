{
 "cells": [
  {
   "cell_type": "markdown",
   "metadata": {},
   "source": [
    "# The Left Handed Sister Problem"
   ]
  },
  {
   "cell_type": "markdown",
   "metadata": {
    "tags": [
     "remove-cell"
    ]
   },
   "source": [
    "Think Bayes, Second Edition\n",
    "\n",
    "Copyright 2021 Allen B. Downey\n",
    "\n",
    "License: [Attribution-NonCommercial-ShareAlike 4.0 International (CC BY-NC-SA 4.0)](https://creativecommons.org/licenses/by-nc-sa/4.0/)"
   ]
  },
  {
   "cell_type": "markdown",
   "metadata": {},
   "source": [
    "Suppose you meet someone who looks like the brother of your friend Mary. \n",
    "You ask if he has a sister named Mary, and he says \"Yes I do, but I don't think I know you.\"\n",
    "\n",
    "You remember that Mary has a sister who is left-handed, but you don't remember her name.\n",
    "So you ask your new friend if he has another sister who is left-handed.\n",
    "\n",
    "If he does, how much evidence does that provide that he is the brother of your friend, rather than a random person who coincidentally has a sister named Mary and another sister who is left-handed. In other words, what is the Bayes factor of the left-handed sister?\n",
    "\n",
    "Let's assume:\n",
    "\n",
    "* Out of 100 families with children, 20 have one child, 30 have two children, 40 have three children, and 10 have four children.\n",
    "\n",
    "* All children are either boys or girls with equal probability, one girl in 10 is left-handed, and one girl in 100 is named Mary.\n",
    "\n",
    "* Name, sex, and handedness are independent, so every child has the same probability of being a girl, left-handed, or named Mary.\n",
    "\n",
    "* If the person you met had more than one sister named Mary, he would have said so, but he could have more than one sister who is left handed."
   ]
  },
  {
   "cell_type": "markdown",
   "metadata": {},
   "source": [
    "I'll use the following function to do Bayesian updates."
   ]
  },
  {
   "cell_type": "code",
   "execution_count": 1,
   "metadata": {},
   "outputs": [],
   "source": [
    "import pandas as pd\n",
    "\n",
    "def make_table(prior, likelihood):\n",
    "    \"\"\"Make a DataFrame representing a Bayesian update.\"\"\"\n",
    "    table = pd.DataFrame(index=[1, 2, 3, 4])\n",
    "    table.index.name = '# children'\n",
    "    table['Prior'] = prior\n",
    "    table['Likelihood'] = likelihood\n",
    "    table['Product'] = (table['Prior'] * table['Likelihood'])\n",
    "    total = table['Product'].sum()\n",
    "    table['Posterior'] = table['Product'] / total\n",
    "    return table"
   ]
  },
  {
   "cell_type": "markdown",
   "metadata": {},
   "source": [
    "## The first update\n",
    "\n",
    "Due to [length-biased sampling](https://towardsdatascience.com/the-inspection-paradox-is-everywhere-2ef1c2e9d709), the person you met is more likely to come from a big family.\n",
    "Specifically, the likelihood of meeting someone from a family with size $n$ is proportional to $n$.\n",
    "So when we meet a person, we have to update our belief about the size of their family."
   ]
  },
  {
   "cell_type": "code",
   "execution_count": 2,
   "metadata": {},
   "outputs": [
    {
     "data": {
      "text/html": [
       "<div>\n",
       "<style scoped>\n",
       "    .dataframe tbody tr th:only-of-type {\n",
       "        vertical-align: middle;\n",
       "    }\n",
       "\n",
       "    .dataframe tbody tr th {\n",
       "        vertical-align: top;\n",
       "    }\n",
       "\n",
       "    .dataframe thead th {\n",
       "        text-align: right;\n",
       "    }\n",
       "</style>\n",
       "<table border=\"1\" class=\"dataframe\">\n",
       "  <thead>\n",
       "    <tr style=\"text-align: right;\">\n",
       "      <th></th>\n",
       "      <th>Prior</th>\n",
       "      <th>Likelihood</th>\n",
       "      <th>Product</th>\n",
       "      <th>Posterior</th>\n",
       "    </tr>\n",
       "    <tr>\n",
       "      <th># children</th>\n",
       "      <th></th>\n",
       "      <th></th>\n",
       "      <th></th>\n",
       "      <th></th>\n",
       "    </tr>\n",
       "  </thead>\n",
       "  <tbody>\n",
       "    <tr>\n",
       "      <th>1</th>\n",
       "      <td>20</td>\n",
       "      <td>1</td>\n",
       "      <td>20</td>\n",
       "      <td>0.083333</td>\n",
       "    </tr>\n",
       "    <tr>\n",
       "      <th>2</th>\n",
       "      <td>30</td>\n",
       "      <td>2</td>\n",
       "      <td>60</td>\n",
       "      <td>0.250000</td>\n",
       "    </tr>\n",
       "    <tr>\n",
       "      <th>3</th>\n",
       "      <td>40</td>\n",
       "      <td>3</td>\n",
       "      <td>120</td>\n",
       "      <td>0.500000</td>\n",
       "    </tr>\n",
       "    <tr>\n",
       "      <th>4</th>\n",
       "      <td>10</td>\n",
       "      <td>4</td>\n",
       "      <td>40</td>\n",
       "      <td>0.166667</td>\n",
       "    </tr>\n",
       "  </tbody>\n",
       "</table>\n",
       "</div>"
      ],
      "text/plain": [
       "            Prior  Likelihood  Product  Posterior\n",
       "# children                                       \n",
       "1              20           1       20   0.083333\n",
       "2              30           2       60   0.250000\n",
       "3              40           3      120   0.500000\n",
       "4              10           4       40   0.166667"
      ]
     },
     "execution_count": 2,
     "metadata": {},
     "output_type": "execute_result"
    }
   ],
   "source": [
    "prior = [20, 30, 40, 10]\n",
    "likelihood1 = [1, 2, 3, 4]\n",
    "table1 = make_table(prior, likelihood1)\n",
    "table1"
   ]
  },
  {
   "cell_type": "markdown",
   "metadata": {},
   "source": [
    "The posterior probabilities for families with one or two children are smaller than the priors; for families with three or four children, they are larger."
   ]
  },
  {
   "cell_type": "markdown",
   "metadata": {},
   "source": [
    "## The second update\n",
    "\n",
    "The likelihood that a person has exactly one sister named Mary is given by the binomial distribution where `n` is the number of siblings and `p` is the probability that a sibling is a girl named Mary."
   ]
  },
  {
   "cell_type": "code",
   "execution_count": 3,
   "metadata": {},
   "outputs": [
    {
     "data": {
      "text/plain": [
       "array([0.        , 0.005     , 0.00995   , 0.01485038])"
      ]
     },
     "execution_count": 3,
     "metadata": {},
     "output_type": "execute_result"
    }
   ],
   "source": [
    "from scipy.stats import binom\n",
    "\n",
    "p = 1 / 200\n",
    "n = [0, 1, 2, 3]  # number of siblings\n",
    "k = 1\n",
    "\n",
    "likelihood2 = binom.pmf(k, n, p)\n",
    "likelihood2"
   ]
  },
  {
   "cell_type": "markdown",
   "metadata": {},
   "source": [
    "Here's the second update."
   ]
  },
  {
   "cell_type": "code",
   "execution_count": 4,
   "metadata": {},
   "outputs": [
    {
     "data": {
      "text/html": [
       "<div>\n",
       "<style scoped>\n",
       "    .dataframe tbody tr th:only-of-type {\n",
       "        vertical-align: middle;\n",
       "    }\n",
       "\n",
       "    .dataframe tbody tr th {\n",
       "        vertical-align: top;\n",
       "    }\n",
       "\n",
       "    .dataframe thead th {\n",
       "        text-align: right;\n",
       "    }\n",
       "</style>\n",
       "<table border=\"1\" class=\"dataframe\">\n",
       "  <thead>\n",
       "    <tr style=\"text-align: right;\">\n",
       "      <th></th>\n",
       "      <th>Prior</th>\n",
       "      <th>Likelihood</th>\n",
       "      <th>Product</th>\n",
       "      <th>Posterior</th>\n",
       "    </tr>\n",
       "    <tr>\n",
       "      <th># children</th>\n",
       "      <th></th>\n",
       "      <th></th>\n",
       "      <th></th>\n",
       "      <th></th>\n",
       "    </tr>\n",
       "  </thead>\n",
       "  <tbody>\n",
       "    <tr>\n",
       "      <th>1</th>\n",
       "      <td>0.083333</td>\n",
       "      <td>0.00000</td>\n",
       "      <td>0.000000</td>\n",
       "      <td>0.000000</td>\n",
       "    </tr>\n",
       "    <tr>\n",
       "      <th>2</th>\n",
       "      <td>0.250000</td>\n",
       "      <td>0.00500</td>\n",
       "      <td>0.001250</td>\n",
       "      <td>0.143677</td>\n",
       "    </tr>\n",
       "    <tr>\n",
       "      <th>3</th>\n",
       "      <td>0.500000</td>\n",
       "      <td>0.00995</td>\n",
       "      <td>0.004975</td>\n",
       "      <td>0.571835</td>\n",
       "    </tr>\n",
       "    <tr>\n",
       "      <th>4</th>\n",
       "      <td>0.166667</td>\n",
       "      <td>0.01485</td>\n",
       "      <td>0.002475</td>\n",
       "      <td>0.284488</td>\n",
       "    </tr>\n",
       "  </tbody>\n",
       "</table>\n",
       "</div>"
      ],
      "text/plain": [
       "               Prior  Likelihood   Product  Posterior\n",
       "# children                                           \n",
       "1           0.083333     0.00000  0.000000   0.000000\n",
       "2           0.250000     0.00500  0.001250   0.143677\n",
       "3           0.500000     0.00995  0.004975   0.571835\n",
       "4           0.166667     0.01485  0.002475   0.284488"
      ]
     },
     "execution_count": 4,
     "metadata": {},
     "output_type": "execute_result"
    }
   ],
   "source": [
    "prior = table1['Posterior']\n",
    "table2 = make_table(prior, likelihood2)\n",
    "table2"
   ]
  },
  {
   "cell_type": "markdown",
   "metadata": {},
   "source": [
    "Based on the sister named Mary, we can rule out the possibility that the person you met is an only child, and the probability is higher that your interlocutor comes from a big family."
   ]
  },
  {
   "cell_type": "markdown",
   "metadata": {},
   "source": [
    "## Probability of a left-handed sister\n",
    "\n",
    "Finally, we can compute the probability that he has at least one left-handed sister.\n",
    "The likelihood comes from the binomial distribution again, this time using the survival function to compute the probability of one or more."
   ]
  },
  {
   "cell_type": "code",
   "execution_count": 5,
   "metadata": {},
   "outputs": [
    {
     "data": {
      "text/plain": [
       "array([0.    , 0.    , 0.05  , 0.0975])"
      ]
     },
     "execution_count": 5,
     "metadata": {},
     "output_type": "execute_result"
    }
   ],
   "source": [
    "p = 1 / 20\n",
    "n = [0, 0, 1, 2]\n",
    "k = 1\n",
    "\n",
    "likelihood3 = binom.sf(k-1, n, p)\n",
    "likelihood3"
   ]
  },
  {
   "cell_type": "markdown",
   "metadata": {},
   "source": [
    "A convenient way to compute the total probability of an outcome is to do an update as if it happened, ignore the posterior probabilities, and compute the sum of the products. "
   ]
  },
  {
   "cell_type": "code",
   "execution_count": 6,
   "metadata": {},
   "outputs": [
    {
     "data": {
      "text/html": [
       "<div>\n",
       "<style scoped>\n",
       "    .dataframe tbody tr th:only-of-type {\n",
       "        vertical-align: middle;\n",
       "    }\n",
       "\n",
       "    .dataframe tbody tr th {\n",
       "        vertical-align: top;\n",
       "    }\n",
       "\n",
       "    .dataframe thead th {\n",
       "        text-align: right;\n",
       "    }\n",
       "</style>\n",
       "<table border=\"1\" class=\"dataframe\">\n",
       "  <thead>\n",
       "    <tr style=\"text-align: right;\">\n",
       "      <th></th>\n",
       "      <th>Prior</th>\n",
       "      <th>Likelihood</th>\n",
       "      <th>Product</th>\n",
       "      <th>Posterior</th>\n",
       "    </tr>\n",
       "    <tr>\n",
       "      <th># children</th>\n",
       "      <th></th>\n",
       "      <th></th>\n",
       "      <th></th>\n",
       "      <th></th>\n",
       "    </tr>\n",
       "  </thead>\n",
       "  <tbody>\n",
       "    <tr>\n",
       "      <th>1</th>\n",
       "      <td>0.000000</td>\n",
       "      <td>0.0000</td>\n",
       "      <td>0.000000</td>\n",
       "      <td>0.000000</td>\n",
       "    </tr>\n",
       "    <tr>\n",
       "      <th>2</th>\n",
       "      <td>0.143677</td>\n",
       "      <td>0.0000</td>\n",
       "      <td>0.000000</td>\n",
       "      <td>0.000000</td>\n",
       "    </tr>\n",
       "    <tr>\n",
       "      <th>3</th>\n",
       "      <td>0.571835</td>\n",
       "      <td>0.0500</td>\n",
       "      <td>0.028592</td>\n",
       "      <td>0.507582</td>\n",
       "    </tr>\n",
       "    <tr>\n",
       "      <th>4</th>\n",
       "      <td>0.284488</td>\n",
       "      <td>0.0975</td>\n",
       "      <td>0.027738</td>\n",
       "      <td>0.492418</td>\n",
       "    </tr>\n",
       "  </tbody>\n",
       "</table>\n",
       "</div>"
      ],
      "text/plain": [
       "               Prior  Likelihood   Product  Posterior\n",
       "# children                                           \n",
       "1           0.000000      0.0000  0.000000   0.000000\n",
       "2           0.143677      0.0000  0.000000   0.000000\n",
       "3           0.571835      0.0500  0.028592   0.507582\n",
       "4           0.284488      0.0975  0.027738   0.492418"
      ]
     },
     "execution_count": 6,
     "metadata": {},
     "output_type": "execute_result"
    }
   ],
   "source": [
    "prior = table2['Posterior']\n",
    "table3 = make_table(prior, likelihood3)\n",
    "table3"
   ]
  },
  {
   "cell_type": "markdown",
   "metadata": {},
   "source": [
    "Here's the total probability that your new friend has a left-handed sister."
   ]
  },
  {
   "cell_type": "code",
   "execution_count": 7,
   "metadata": {},
   "outputs": [
    {
     "data": {
      "text/plain": [
       "0.05632931875489403"
      ]
     },
     "execution_count": 7,
     "metadata": {},
     "output_type": "execute_result"
    }
   ],
   "source": [
    "p = table3['Product'].sum()\n",
    "p"
   ]
  },
  {
   "cell_type": "markdown",
   "metadata": {},
   "source": [
    "## The Bayes factor\n",
    "\n",
    "If your interlocutor is the brother of your friend, the probability is 1 that he has a left-handed sister.\n",
    "If he is not the brother of your friend, the probability is about 0.056.\n",
    "So the Bayes factor is the ratio of these probabilities."
   ]
  },
  {
   "cell_type": "code",
   "execution_count": 8,
   "metadata": {},
   "outputs": [
    {
     "data": {
      "text/plain": [
       "17.752744434054023"
      ]
     },
     "execution_count": 8,
     "metadata": {},
     "output_type": "execute_result"
    }
   ],
   "source": [
    "1/p"
   ]
  },
  {
   "cell_type": "markdown",
   "metadata": {},
   "source": [
    "## Now with rational numbers\n",
    "\n",
    "Some people solved the problem in terms of rational numbers, so I'll do the same calculation with `Fraction` objects."
   ]
  },
  {
   "cell_type": "code",
   "execution_count": 9,
   "metadata": {},
   "outputs": [
    {
     "data": {
      "text/html": [
       "<div>\n",
       "<style scoped>\n",
       "    .dataframe tbody tr th:only-of-type {\n",
       "        vertical-align: middle;\n",
       "    }\n",
       "\n",
       "    .dataframe tbody tr th {\n",
       "        vertical-align: top;\n",
       "    }\n",
       "\n",
       "    .dataframe thead th {\n",
       "        text-align: right;\n",
       "    }\n",
       "</style>\n",
       "<table border=\"1\" class=\"dataframe\">\n",
       "  <thead>\n",
       "    <tr style=\"text-align: right;\">\n",
       "      <th></th>\n",
       "      <th>Prior</th>\n",
       "      <th>Likelihood</th>\n",
       "      <th>Product</th>\n",
       "      <th>Posterior</th>\n",
       "    </tr>\n",
       "    <tr>\n",
       "      <th># children</th>\n",
       "      <th></th>\n",
       "      <th></th>\n",
       "      <th></th>\n",
       "      <th></th>\n",
       "    </tr>\n",
       "  </thead>\n",
       "  <tbody>\n",
       "    <tr>\n",
       "      <th>1</th>\n",
       "      <td>20</td>\n",
       "      <td>1</td>\n",
       "      <td>20</td>\n",
       "      <td>1/12</td>\n",
       "    </tr>\n",
       "    <tr>\n",
       "      <th>2</th>\n",
       "      <td>30</td>\n",
       "      <td>2</td>\n",
       "      <td>60</td>\n",
       "      <td>1/4</td>\n",
       "    </tr>\n",
       "    <tr>\n",
       "      <th>3</th>\n",
       "      <td>40</td>\n",
       "      <td>3</td>\n",
       "      <td>120</td>\n",
       "      <td>1/2</td>\n",
       "    </tr>\n",
       "    <tr>\n",
       "      <th>4</th>\n",
       "      <td>10</td>\n",
       "      <td>4</td>\n",
       "      <td>40</td>\n",
       "      <td>1/6</td>\n",
       "    </tr>\n",
       "  </tbody>\n",
       "</table>\n",
       "</div>"
      ],
      "text/plain": [
       "           Prior  Likelihood Product Posterior\n",
       "# children                                    \n",
       "1             20           1      20      1/12\n",
       "2             30           2      60       1/4\n",
       "3             40           3     120       1/2\n",
       "4             10           4      40       1/6"
      ]
     },
     "execution_count": 9,
     "metadata": {},
     "output_type": "execute_result"
    }
   ],
   "source": [
    "from fractions import Fraction\n",
    "\n",
    "prior = [Fraction(x) for x in [20, 30, 40, 10]]\n",
    "likelihood1 = [1, 2, 3, 4]\n",
    "table1 = make_table(prior, likelihood1)\n",
    "table1"
   ]
  },
  {
   "cell_type": "markdown",
   "metadata": {},
   "source": [
    "We can't use Scipy to compute the binomial distribution, but we can do it ourselves."
   ]
  },
  {
   "cell_type": "code",
   "execution_count": 10,
   "metadata": {},
   "outputs": [
    {
     "data": {
      "text/plain": [
       "[Fraction(0, 1),\n",
       " Fraction(1, 200),\n",
       " Fraction(199, 20000),\n",
       " Fraction(118803, 8000000)]"
      ]
     },
     "execution_count": 10,
     "metadata": {},
     "output_type": "execute_result"
    }
   ],
   "source": [
    "p = Fraction(1, 200)\n",
    "ns = [0, 1, 2, 3]\n",
    "k = 1\n",
    "\n",
    "likelihood2 = [n * p**k * (1-p)**(n-k) for n in ns]\n",
    "likelihood2"
   ]
  },
  {
   "cell_type": "markdown",
   "metadata": {},
   "source": [
    "Here's the first update."
   ]
  },
  {
   "cell_type": "code",
   "execution_count": 11,
   "metadata": {},
   "outputs": [
    {
     "data": {
      "text/html": [
       "<div>\n",
       "<style scoped>\n",
       "    .dataframe tbody tr th:only-of-type {\n",
       "        vertical-align: middle;\n",
       "    }\n",
       "\n",
       "    .dataframe tbody tr th {\n",
       "        vertical-align: top;\n",
       "    }\n",
       "\n",
       "    .dataframe thead th {\n",
       "        text-align: right;\n",
       "    }\n",
       "</style>\n",
       "<table border=\"1\" class=\"dataframe\">\n",
       "  <thead>\n",
       "    <tr style=\"text-align: right;\">\n",
       "      <th></th>\n",
       "      <th>Prior</th>\n",
       "      <th>Likelihood</th>\n",
       "      <th>Product</th>\n",
       "      <th>Posterior</th>\n",
       "    </tr>\n",
       "    <tr>\n",
       "      <th># children</th>\n",
       "      <th></th>\n",
       "      <th></th>\n",
       "      <th></th>\n",
       "      <th></th>\n",
       "    </tr>\n",
       "  </thead>\n",
       "  <tbody>\n",
       "    <tr>\n",
       "      <th>1</th>\n",
       "      <td>1/12</td>\n",
       "      <td>0</td>\n",
       "      <td>0</td>\n",
       "      <td>0</td>\n",
       "    </tr>\n",
       "    <tr>\n",
       "      <th>2</th>\n",
       "      <td>1/4</td>\n",
       "      <td>1/200</td>\n",
       "      <td>1/800</td>\n",
       "      <td>20000/139201</td>\n",
       "    </tr>\n",
       "    <tr>\n",
       "      <th>3</th>\n",
       "      <td>1/2</td>\n",
       "      <td>199/20000</td>\n",
       "      <td>199/40000</td>\n",
       "      <td>79600/139201</td>\n",
       "    </tr>\n",
       "    <tr>\n",
       "      <th>4</th>\n",
       "      <td>1/6</td>\n",
       "      <td>118803/8000000</td>\n",
       "      <td>39601/16000000</td>\n",
       "      <td>39601/139201</td>\n",
       "    </tr>\n",
       "  </tbody>\n",
       "</table>\n",
       "</div>"
      ],
      "text/plain": [
       "           Prior      Likelihood         Product     Posterior\n",
       "# children                                                    \n",
       "1           1/12               0               0             0\n",
       "2            1/4           1/200           1/800  20000/139201\n",
       "3            1/2       199/20000       199/40000  79600/139201\n",
       "4            1/6  118803/8000000  39601/16000000  39601/139201"
      ]
     },
     "execution_count": 11,
     "metadata": {},
     "output_type": "execute_result"
    }
   ],
   "source": [
    "prior = table1['Posterior']\n",
    "table2 = make_table(prior, likelihood2)\n",
    "table2"
   ]
  },
  {
   "cell_type": "markdown",
   "metadata": {},
   "source": [
    "Here's the second update. Again, we have to compute the binomial distribution ourselves."
   ]
  },
  {
   "cell_type": "code",
   "execution_count": 12,
   "metadata": {},
   "outputs": [
    {
     "data": {
      "text/plain": [
       "[Fraction(0, 1), Fraction(0, 1), Fraction(1, 20), Fraction(39, 400)]"
      ]
     },
     "execution_count": 12,
     "metadata": {},
     "output_type": "execute_result"
    }
   ],
   "source": [
    "p = Fraction(1, 20)\n",
    "ns = [0, 0, 1, 2]\n",
    "k = 1\n",
    "\n",
    "likelihood3 = [1 - (1-p)**n for n in ns]\n",
    "likelihood3"
   ]
  },
  {
   "cell_type": "markdown",
   "metadata": {},
   "source": [
    "And the pseudo-update as if your new friend has a left-handed sister."
   ]
  },
  {
   "cell_type": "code",
   "execution_count": 13,
   "metadata": {},
   "outputs": [
    {
     "data": {
      "text/html": [
       "<div>\n",
       "<style scoped>\n",
       "    .dataframe tbody tr th:only-of-type {\n",
       "        vertical-align: middle;\n",
       "    }\n",
       "\n",
       "    .dataframe tbody tr th {\n",
       "        vertical-align: top;\n",
       "    }\n",
       "\n",
       "    .dataframe thead th {\n",
       "        text-align: right;\n",
       "    }\n",
       "</style>\n",
       "<table border=\"1\" class=\"dataframe\">\n",
       "  <thead>\n",
       "    <tr style=\"text-align: right;\">\n",
       "      <th></th>\n",
       "      <th>Prior</th>\n",
       "      <th>Likelihood</th>\n",
       "      <th>Product</th>\n",
       "      <th>Posterior</th>\n",
       "    </tr>\n",
       "    <tr>\n",
       "      <th># children</th>\n",
       "      <th></th>\n",
       "      <th></th>\n",
       "      <th></th>\n",
       "      <th></th>\n",
       "    </tr>\n",
       "  </thead>\n",
       "  <tbody>\n",
       "    <tr>\n",
       "      <th>1</th>\n",
       "      <td>0</td>\n",
       "      <td>0</td>\n",
       "      <td>0</td>\n",
       "      <td>0</td>\n",
       "    </tr>\n",
       "    <tr>\n",
       "      <th>2</th>\n",
       "      <td>20000/139201</td>\n",
       "      <td>0</td>\n",
       "      <td>0</td>\n",
       "      <td>0</td>\n",
       "    </tr>\n",
       "    <tr>\n",
       "      <th>3</th>\n",
       "      <td>79600/139201</td>\n",
       "      <td>1/20</td>\n",
       "      <td>3980/139201</td>\n",
       "      <td>8000/15761</td>\n",
       "    </tr>\n",
       "    <tr>\n",
       "      <th>4</th>\n",
       "      <td>39601/139201</td>\n",
       "      <td>39/400</td>\n",
       "      <td>1544439/55680400</td>\n",
       "      <td>7761/15761</td>\n",
       "    </tr>\n",
       "  </tbody>\n",
       "</table>\n",
       "</div>"
      ],
      "text/plain": [
       "                   Prior Likelihood           Product   Posterior\n",
       "# children                                                       \n",
       "1                      0          0                 0           0\n",
       "2           20000/139201          0                 0           0\n",
       "3           79600/139201       1/20       3980/139201  8000/15761\n",
       "4           39601/139201     39/400  1544439/55680400  7761/15761"
      ]
     },
     "execution_count": 13,
     "metadata": {},
     "output_type": "execute_result"
    }
   ],
   "source": [
    "prior = table2['Posterior']\n",
    "table3 = make_table(prior, likelihood3)\n",
    "table3"
   ]
  },
  {
   "cell_type": "markdown",
   "metadata": {},
   "source": [
    "Here's the total probability as a rational number."
   ]
  },
  {
   "cell_type": "code",
   "execution_count": 14,
   "metadata": {},
   "outputs": [
    {
     "name": "stdout",
     "output_type": "stream",
     "text": [
      "3136439/55680400\n"
     ]
    }
   ],
   "source": [
    "p = table3['Product'].sum()\n",
    "print(p)"
   ]
  },
  {
   "cell_type": "markdown",
   "metadata": {},
   "source": [
    "And here's the Bayes factor."
   ]
  },
  {
   "cell_type": "code",
   "execution_count": 15,
   "metadata": {},
   "outputs": [
    {
     "name": "stdout",
     "output_type": "stream",
     "text": [
      "55680400/3136439\n"
     ]
    }
   ],
   "source": [
    "print(1/p)"
   ]
  },
  {
   "cell_type": "markdown",
   "metadata": {},
   "source": [
    "Converting to floating-point, it's consistent with the previous result. "
   ]
  },
  {
   "cell_type": "code",
   "execution_count": 16,
   "metadata": {},
   "outputs": [
    {
     "data": {
      "text/plain": [
       "17.752744434054033"
      ]
     },
     "execution_count": 16,
     "metadata": {},
     "output_type": "execute_result"
    }
   ],
   "source": [
    "float(1/p)"
   ]
  },
  {
   "cell_type": "markdown",
   "metadata": {},
   "source": [
    "If you like this article, you might like the [new second edition of *Think Bayes*](https://thinkbayes.com)."
   ]
  },
  {
   "cell_type": "code",
   "execution_count": null,
   "metadata": {},
   "outputs": [],
   "source": []
  }
 ],
 "metadata": {
  "celltoolbar": "Tags",
  "kernelspec": {
   "display_name": "Python 3",
   "language": "python",
   "name": "python3"
  },
  "language_info": {
   "codemirror_mode": {
    "name": "ipython",
    "version": 3
   },
   "file_extension": ".py",
   "mimetype": "text/x-python",
   "name": "python",
   "nbconvert_exporter": "python",
   "pygments_lexer": "ipython3",
   "version": "3.8.8"
  }
 },
 "nbformat": 4,
 "nbformat_minor": 2
}
