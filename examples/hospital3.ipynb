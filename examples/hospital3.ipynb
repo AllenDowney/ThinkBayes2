{
 "cells": [
  {
   "cell_type": "markdown",
   "metadata": {},
   "source": [
    "# Grid algorithm for a beta-binomial hierarchical model\n",
    "\n",
    "[Bayesian Inference with PyMC](https://allendowney.github.io/BayesianInferencePyMC)\n",
    "\n",
    "Copyright 2021 Allen B. Downey\n",
    "\n",
    "License: [Attribution-NonCommercial-ShareAlike 4.0 International (CC BY-NC-SA 4.0)](https://creativecommons.org/licenses/by-nc-sa/4.0/)"
   ]
  },
  {
   "cell_type": "code",
   "execution_count": 20,
   "metadata": {},
   "outputs": [],
   "source": [
    "# If we're running on Colab, install libraries\n",
    "import sys\n",
    "IN_COLAB = 'google.colab' in sys.modules\n",
    "\n",
    "if IN_COLAB:\n",
    "    !pip install pymc3\n",
    "    !pip install arviz\n",
    "    !pip install empiricaldist"
   ]
  },
  {
   "cell_type": "code",
   "execution_count": 21,
   "metadata": {},
   "outputs": [],
   "source": [
    "# PyMC generates a FutureWarning we don't need to deal with yet\n",
    "\n",
    "import warnings\n",
    "warnings.filterwarnings(\"ignore\", category=FutureWarning)"
   ]
  },
  {
   "cell_type": "code",
   "execution_count": 22,
   "metadata": {},
   "outputs": [],
   "source": [
    "import matplotlib.pyplot as plt\n",
    "\n",
    "def legend(**options):\n",
    "    \"\"\"Make a legend only if there are labels.\"\"\"\n",
    "    handles, labels = plt.gca().get_legend_handles_labels()\n",
    "    if len(labels):\n",
    "        plt.legend(**options)"
   ]
  },
  {
   "cell_type": "code",
   "execution_count": 23,
   "metadata": {},
   "outputs": [],
   "source": [
    "def decorate(**options):\n",
    "    plt.gca().set(**options)\n",
    "    legend()\n",
    "    plt.tight_layout()"
   ]
  },
  {
   "cell_type": "code",
   "execution_count": 24,
   "metadata": {},
   "outputs": [],
   "source": [
    "from empiricaldist import Cdf\n",
    "\n",
    "def compare_cdf(pmf, sample):\n",
    "    pmf.make_cdf().plot(label='grid')\n",
    "    Cdf.from_seq(sample).plot(label='mcmc')\n",
    "    print(pmf.mean(), sample.mean())\n",
    "    decorate()"
   ]
  },
  {
   "cell_type": "code",
   "execution_count": 25,
   "metadata": {},
   "outputs": [],
   "source": [
    "from empiricaldist import Pmf\n",
    "\n",
    "def make_pmf(ps, qs, name):\n",
    "    pmf = Pmf(ps, qs)\n",
    "    pmf.normalize()\n",
    "    pmf.index.name = name\n",
    "    return pmf"
   ]
  },
  {
   "cell_type": "markdown",
   "metadata": {},
   "source": [
    "## Heart Attack Data\n",
    "\n",
    "This example is based on [Chapter 10 of *Probability and Bayesian Modeling*](https://bayesball.github.io/BOOK/bayesian-hierarchical-modeling.html#example-deaths-after-heart-attack); it uses data on death rates due to heart attack for patients treated at various hospitals in New York City.\n",
    "\n",
    "We can use Pandas to read the data into a `DataFrame`."
   ]
  },
  {
   "cell_type": "code",
   "execution_count": 26,
   "metadata": {},
   "outputs": [],
   "source": [
    "import os\n",
    "\n",
    "filename = 'DeathHeartAttackManhattan.csv'\n",
    "if not os.path.exists(filename):\n",
    "    !wget https://github.com/AllenDowney/BayesianInferencePyMC/raw/main/DeathHeartAttackManhattan.csv"
   ]
  },
  {
   "cell_type": "code",
   "execution_count": 27,
   "metadata": {},
   "outputs": [
    {
     "data": {
      "text/html": [
       "<div>\n",
       "<style scoped>\n",
       "    .dataframe tbody tr th:only-of-type {\n",
       "        vertical-align: middle;\n",
       "    }\n",
       "\n",
       "    .dataframe tbody tr th {\n",
       "        vertical-align: top;\n",
       "    }\n",
       "\n",
       "    .dataframe thead th {\n",
       "        text-align: right;\n",
       "    }\n",
       "</style>\n",
       "<table border=\"1\" class=\"dataframe\">\n",
       "  <thead>\n",
       "    <tr style=\"text-align: right;\">\n",
       "      <th></th>\n",
       "      <th>Hospital</th>\n",
       "      <th>Cases</th>\n",
       "      <th>Deaths</th>\n",
       "      <th>Death %</th>\n",
       "    </tr>\n",
       "  </thead>\n",
       "  <tbody>\n",
       "    <tr>\n",
       "      <th>0</th>\n",
       "      <td>Bellevue Hospital Center</td>\n",
       "      <td>129</td>\n",
       "      <td>4</td>\n",
       "      <td>3.101</td>\n",
       "    </tr>\n",
       "    <tr>\n",
       "      <th>1</th>\n",
       "      <td>Harlem Hospital Center</td>\n",
       "      <td>35</td>\n",
       "      <td>1</td>\n",
       "      <td>2.857</td>\n",
       "    </tr>\n",
       "    <tr>\n",
       "      <th>2</th>\n",
       "      <td>Lenox Hill Hospital</td>\n",
       "      <td>228</td>\n",
       "      <td>18</td>\n",
       "      <td>7.894</td>\n",
       "    </tr>\n",
       "    <tr>\n",
       "      <th>3</th>\n",
       "      <td>Metropolitan Hospital Center</td>\n",
       "      <td>84</td>\n",
       "      <td>7</td>\n",
       "      <td>8.333</td>\n",
       "    </tr>\n",
       "    <tr>\n",
       "      <th>4</th>\n",
       "      <td>Mount Sinai Beth Israel</td>\n",
       "      <td>291</td>\n",
       "      <td>24</td>\n",
       "      <td>8.247</td>\n",
       "    </tr>\n",
       "    <tr>\n",
       "      <th>5</th>\n",
       "      <td>Mount Sinai Hospital</td>\n",
       "      <td>270</td>\n",
       "      <td>16</td>\n",
       "      <td>5.926</td>\n",
       "    </tr>\n",
       "    <tr>\n",
       "      <th>6</th>\n",
       "      <td>Mount Sinai Roosevelt</td>\n",
       "      <td>46</td>\n",
       "      <td>6</td>\n",
       "      <td>13.043</td>\n",
       "    </tr>\n",
       "    <tr>\n",
       "      <th>7</th>\n",
       "      <td>Mount Sinai St. Luke’s</td>\n",
       "      <td>293</td>\n",
       "      <td>19</td>\n",
       "      <td>6.485</td>\n",
       "    </tr>\n",
       "    <tr>\n",
       "      <th>8</th>\n",
       "      <td>NYU Hospitals Center</td>\n",
       "      <td>241</td>\n",
       "      <td>15</td>\n",
       "      <td>6.224</td>\n",
       "    </tr>\n",
       "    <tr>\n",
       "      <th>9</th>\n",
       "      <td>NYP Hospital - Allen Hospital</td>\n",
       "      <td>105</td>\n",
       "      <td>13</td>\n",
       "      <td>12.381</td>\n",
       "    </tr>\n",
       "    <tr>\n",
       "      <th>10</th>\n",
       "      <td>NYP Hospital - Columbia Presbyterian Center</td>\n",
       "      <td>353</td>\n",
       "      <td>25</td>\n",
       "      <td>7.082</td>\n",
       "    </tr>\n",
       "    <tr>\n",
       "      <th>11</th>\n",
       "      <td>NYP Hospital - New York Weill Cornell Center</td>\n",
       "      <td>250</td>\n",
       "      <td>11</td>\n",
       "      <td>4.400</td>\n",
       "    </tr>\n",
       "    <tr>\n",
       "      <th>12</th>\n",
       "      <td>NYP/Lower Manhattan Hospital</td>\n",
       "      <td>41</td>\n",
       "      <td>4</td>\n",
       "      <td>9.756</td>\n",
       "    </tr>\n",
       "  </tbody>\n",
       "</table>\n",
       "</div>"
      ],
      "text/plain": [
       "                                        Hospital  Cases  Deaths  Death %\n",
       "0                       Bellevue Hospital Center    129       4    3.101\n",
       "1                         Harlem Hospital Center     35       1    2.857\n",
       "2                            Lenox Hill Hospital    228      18    7.894\n",
       "3                   Metropolitan Hospital Center     84       7    8.333\n",
       "4                        Mount Sinai Beth Israel    291      24    8.247\n",
       "5                           Mount Sinai Hospital    270      16    5.926\n",
       "6                          Mount Sinai Roosevelt     46       6   13.043\n",
       "7                         Mount Sinai St. Luke’s    293      19    6.485\n",
       "8                           NYU Hospitals Center    241      15    6.224\n",
       "9                  NYP Hospital - Allen Hospital    105      13   12.381\n",
       "10   NYP Hospital - Columbia Presbyterian Center    353      25    7.082\n",
       "11  NYP Hospital - New York Weill Cornell Center    250      11    4.400\n",
       "12                  NYP/Lower Manhattan Hospital     41       4    9.756"
      ]
     },
     "execution_count": 27,
     "metadata": {},
     "output_type": "execute_result"
    }
   ],
   "source": [
    "import pandas as pd\n",
    "\n",
    "df = pd.read_csv(filename)\n",
    "df"
   ]
  },
  {
   "cell_type": "markdown",
   "metadata": {},
   "source": [
    "The columns we need are `Cases`, which is the number of patients treated at each hospital, and `Deaths`, which is the number of those patients who died."
   ]
  },
  {
   "cell_type": "code",
   "execution_count": 28,
   "metadata": {},
   "outputs": [],
   "source": [
    "data_ns = df['Cases'].values\n",
    "data_ks = df['Deaths'].values"
   ]
  },
  {
   "cell_type": "code",
   "execution_count": 78,
   "metadata": {},
   "outputs": [
    {
     "data": {
      "text/plain": [
       "4.605170185988092"
      ]
     },
     "execution_count": 78,
     "metadata": {},
     "output_type": "execute_result"
    }
   ],
   "source": [
    "import numpy as np\n",
    "\n",
    "logn = np.log(np.max(data_ns))\n",
    "logn = np.log(100)\n",
    "logn"
   ]
  },
  {
   "cell_type": "markdown",
   "metadata": {
    "tags": []
   },
   "source": [
    "## Hospital Data with PyMC\n",
    "\n",
    "Here's a hierarchical model that estimates the death rate for each hospital, and simultaneously estimates the distribution of rates across hospitals."
   ]
  },
  {
   "cell_type": "code",
   "execution_count": 79,
   "metadata": {
    "tags": [
     "fill-in"
    ]
   },
   "outputs": [],
   "source": [
    "import pymc3 as pm\n",
    "import theano.tensor as tt\n",
    "\n",
    "def make_model():\n",
    "    with pm.Model() as model:\n",
    "        mu = pm.Beta('mu', alpha=1, beta=1)\n",
    "        logeta = pm.Logistic('logeta', mu=logn, s=1)\n",
    "        eta = pm.Deterministic('eta', tt.exp(logeta))\n",
    "        alpha = pm.Deterministic('alpha', mu * eta)\n",
    "        beta = pm.Deterministic('beta', (1-mu) * eta)\n",
    "        xs = pm.Beta('xs', alpha, beta, shape=len(data_ns))\n",
    "        ks = pm.Binomial('ks', n=data_ns, p=xs, observed=data_ks)\n",
    "    return model"
   ]
  },
  {
   "cell_type": "code",
   "execution_count": 80,
   "metadata": {
    "tags": [
     "fill-in"
    ]
   },
   "outputs": [
    {
     "name": "stdout",
     "output_type": "stream",
     "text": [
      "CPU times: user 869 ms, sys: 2.44 ms, total: 871 ms\n",
      "Wall time: 870 ms\n"
     ]
    },
    {
     "data": {
      "image/svg+xml": [
       "<?xml version=\"1.0\" encoding=\"UTF-8\" standalone=\"no\"?>\n",
       "<!DOCTYPE svg PUBLIC \"-//W3C//DTD SVG 1.1//EN\"\n",
       " \"http://www.w3.org/Graphics/SVG/1.1/DTD/svg11.dtd\">\n",
       "<!-- Generated by graphviz version 2.49.0 (20210829.0051)\n",
       " -->\n",
       "<!-- Pages: 1 -->\n",
       "<svg width=\"254pt\" height=\"544pt\"\n",
       " viewBox=\"0.00 0.00 254.00 543.81\" xmlns=\"http://www.w3.org/2000/svg\" xmlns:xlink=\"http://www.w3.org/1999/xlink\">\n",
       "<g id=\"graph0\" class=\"graph\" transform=\"scale(1 1) rotate(0) translate(4 539.81)\">\n",
       "<polygon fill=\"white\" stroke=\"transparent\" points=\"-4,4 -4,-539.81 250,-539.81 250,4 -4,4\"/>\n",
       "<g id=\"clust1\" class=\"cluster\">\n",
       "<title>cluster13</title>\n",
       "<path fill=\"none\" stroke=\"black\" d=\"M70,-8C70,-8 176,-8 176,-8 182,-8 188,-14 188,-20 188,-20 188,-220.91 188,-220.91 188,-226.91 182,-232.91 176,-232.91 176,-232.91 70,-232.91 70,-232.91 64,-232.91 58,-226.91 58,-220.91 58,-220.91 58,-20 58,-20 58,-14 64,-8 70,-8\"/>\n",
       "<text text-anchor=\"middle\" x=\"170.5\" y=\"-15.8\" font-family=\"Times,serif\" font-size=\"14.00\">13</text>\n",
       "</g>\n",
       "<!-- logeta -->\n",
       "<g id=\"node1\" class=\"node\">\n",
       "<title>logeta</title>\n",
       "<ellipse fill=\"none\" stroke=\"black\" cx=\"68\" cy=\"-498.34\" rx=\"51.74\" ry=\"37.45\"/>\n",
       "<text text-anchor=\"middle\" x=\"68\" y=\"-509.64\" font-family=\"Times,serif\" font-size=\"14.00\">logeta</text>\n",
       "<text text-anchor=\"middle\" x=\"68\" y=\"-494.64\" font-family=\"Times,serif\" font-size=\"14.00\">~</text>\n",
       "<text text-anchor=\"middle\" x=\"68\" y=\"-479.64\" font-family=\"Times,serif\" font-size=\"14.00\">Logistic</text>\n",
       "</g>\n",
       "<!-- eta -->\n",
       "<g id=\"node4\" class=\"node\">\n",
       "<title>eta</title>\n",
       "<polygon fill=\"none\" stroke=\"black\" points=\"125,-413.88 11,-413.88 11,-360.88 125,-360.88 125,-413.88\"/>\n",
       "<text text-anchor=\"middle\" x=\"68\" y=\"-398.68\" font-family=\"Times,serif\" font-size=\"14.00\">eta</text>\n",
       "<text text-anchor=\"middle\" x=\"68\" y=\"-383.68\" font-family=\"Times,serif\" font-size=\"14.00\">~</text>\n",
       "<text text-anchor=\"middle\" x=\"68\" y=\"-368.68\" font-family=\"Times,serif\" font-size=\"14.00\">Deterministic</text>\n",
       "</g>\n",
       "<!-- logeta&#45;&gt;eta -->\n",
       "<g id=\"edge1\" class=\"edge\">\n",
       "<title>logeta&#45;&gt;eta</title>\n",
       "<path fill=\"none\" stroke=\"black\" d=\"M68,-460.75C68,-449.02 68,-436.03 68,-424.34\"/>\n",
       "<polygon fill=\"black\" stroke=\"black\" points=\"71.5,-424.04 68,-414.04 64.5,-424.04 71.5,-424.04\"/>\n",
       "</g>\n",
       "<!-- beta -->\n",
       "<g id=\"node2\" class=\"node\">\n",
       "<title>beta</title>\n",
       "<polygon fill=\"none\" stroke=\"black\" points=\"114,-313.91 0,-313.91 0,-260.91 114,-260.91 114,-313.91\"/>\n",
       "<text text-anchor=\"middle\" x=\"57\" y=\"-298.71\" font-family=\"Times,serif\" font-size=\"14.00\">beta</text>\n",
       "<text text-anchor=\"middle\" x=\"57\" y=\"-283.71\" font-family=\"Times,serif\" font-size=\"14.00\">~</text>\n",
       "<text text-anchor=\"middle\" x=\"57\" y=\"-268.71\" font-family=\"Times,serif\" font-size=\"14.00\">Deterministic</text>\n",
       "</g>\n",
       "<!-- xs -->\n",
       "<g id=\"node6\" class=\"node\">\n",
       "<title>xs</title>\n",
       "<ellipse fill=\"none\" stroke=\"black\" cx=\"123\" cy=\"-187.43\" rx=\"35.21\" ry=\"37.45\"/>\n",
       "<text text-anchor=\"middle\" x=\"123\" y=\"-198.73\" font-family=\"Times,serif\" font-size=\"14.00\">xs</text>\n",
       "<text text-anchor=\"middle\" x=\"123\" y=\"-183.73\" font-family=\"Times,serif\" font-size=\"14.00\">~</text>\n",
       "<text text-anchor=\"middle\" x=\"123\" y=\"-168.73\" font-family=\"Times,serif\" font-size=\"14.00\">Beta</text>\n",
       "</g>\n",
       "<!-- beta&#45;&gt;xs -->\n",
       "<g id=\"edge6\" class=\"edge\">\n",
       "<title>beta&#45;&gt;xs</title>\n",
       "<path fill=\"none\" stroke=\"black\" d=\"M74.34,-260.66C81.28,-250.36 89.42,-238.28 97.04,-226.97\"/>\n",
       "<polygon fill=\"black\" stroke=\"black\" points=\"100.05,-228.77 102.73,-218.52 94.24,-224.86 100.05,-228.77\"/>\n",
       "</g>\n",
       "<!-- alpha -->\n",
       "<g id=\"node3\" class=\"node\">\n",
       "<title>alpha</title>\n",
       "<polygon fill=\"none\" stroke=\"black\" points=\"246,-313.91 132,-313.91 132,-260.91 246,-260.91 246,-313.91\"/>\n",
       "<text text-anchor=\"middle\" x=\"189\" y=\"-298.71\" font-family=\"Times,serif\" font-size=\"14.00\">alpha</text>\n",
       "<text text-anchor=\"middle\" x=\"189\" y=\"-283.71\" font-family=\"Times,serif\" font-size=\"14.00\">~</text>\n",
       "<text text-anchor=\"middle\" x=\"189\" y=\"-268.71\" font-family=\"Times,serif\" font-size=\"14.00\">Deterministic</text>\n",
       "</g>\n",
       "<!-- alpha&#45;&gt;xs -->\n",
       "<g id=\"edge7\" class=\"edge\">\n",
       "<title>alpha&#45;&gt;xs</title>\n",
       "<path fill=\"none\" stroke=\"black\" d=\"M171.66,-260.66C164.72,-250.36 156.58,-238.28 148.96,-226.97\"/>\n",
       "<polygon fill=\"black\" stroke=\"black\" points=\"151.76,-224.86 143.27,-218.52 145.95,-228.77 151.76,-224.86\"/>\n",
       "</g>\n",
       "<!-- eta&#45;&gt;beta -->\n",
       "<g id=\"edge5\" class=\"edge\">\n",
       "<title>eta&#45;&gt;beta</title>\n",
       "<path fill=\"none\" stroke=\"black\" d=\"M65.11,-360.64C63.86,-349.5 62.37,-336.28 61.02,-324.21\"/>\n",
       "<polygon fill=\"black\" stroke=\"black\" points=\"64.46,-323.52 59.87,-313.98 57.51,-324.31 64.46,-323.52\"/>\n",
       "</g>\n",
       "<!-- eta&#45;&gt;alpha -->\n",
       "<g id=\"edge3\" class=\"edge\">\n",
       "<title>eta&#45;&gt;alpha</title>\n",
       "<path fill=\"none\" stroke=\"black\" d=\"M99.79,-360.64C114.94,-348.38 133.21,-333.58 149.26,-320.59\"/>\n",
       "<polygon fill=\"black\" stroke=\"black\" points=\"151.85,-322.99 157.42,-313.98 147.45,-317.55 151.85,-322.99\"/>\n",
       "</g>\n",
       "<!-- mu -->\n",
       "<g id=\"node5\" class=\"node\">\n",
       "<title>mu</title>\n",
       "<ellipse fill=\"none\" stroke=\"black\" cx=\"183\" cy=\"-387.38\" rx=\"35.21\" ry=\"37.45\"/>\n",
       "<text text-anchor=\"middle\" x=\"183\" y=\"-398.68\" font-family=\"Times,serif\" font-size=\"14.00\">mu</text>\n",
       "<text text-anchor=\"middle\" x=\"183\" y=\"-383.68\" font-family=\"Times,serif\" font-size=\"14.00\">~</text>\n",
       "<text text-anchor=\"middle\" x=\"183\" y=\"-368.68\" font-family=\"Times,serif\" font-size=\"14.00\">Beta</text>\n",
       "</g>\n",
       "<!-- mu&#45;&gt;beta -->\n",
       "<g id=\"edge4\" class=\"edge\">\n",
       "<title>mu&#45;&gt;beta</title>\n",
       "<path fill=\"none\" stroke=\"black\" d=\"M154.72,-364.4C138.11,-351.48 116.82,-334.92 98.35,-320.56\"/>\n",
       "<polygon fill=\"black\" stroke=\"black\" points=\"100.13,-317.51 90.09,-314.14 95.84,-323.04 100.13,-317.51\"/>\n",
       "</g>\n",
       "<!-- mu&#45;&gt;alpha -->\n",
       "<g id=\"edge2\" class=\"edge\">\n",
       "<title>mu&#45;&gt;alpha</title>\n",
       "<path fill=\"none\" stroke=\"black\" d=\"M185.23,-349.9C185.75,-341.48 186.3,-332.54 186.81,-324.16\"/>\n",
       "<polygon fill=\"black\" stroke=\"black\" points=\"190.32,-324.11 187.44,-313.92 183.33,-323.68 190.32,-324.11\"/>\n",
       "</g>\n",
       "<!-- ks -->\n",
       "<g id=\"node7\" class=\"node\">\n",
       "<title>ks</title>\n",
       "<ellipse fill=\"lightgrey\" stroke=\"black\" cx=\"123\" cy=\"-76.48\" rx=\"56.64\" ry=\"37.45\"/>\n",
       "<text text-anchor=\"middle\" x=\"123\" y=\"-87.78\" font-family=\"Times,serif\" font-size=\"14.00\">ks</text>\n",
       "<text text-anchor=\"middle\" x=\"123\" y=\"-72.78\" font-family=\"Times,serif\" font-size=\"14.00\">~</text>\n",
       "<text text-anchor=\"middle\" x=\"123\" y=\"-57.78\" font-family=\"Times,serif\" font-size=\"14.00\">Binomial</text>\n",
       "</g>\n",
       "<!-- xs&#45;&gt;ks -->\n",
       "<g id=\"edge8\" class=\"edge\">\n",
       "<title>xs&#45;&gt;ks</title>\n",
       "<path fill=\"none\" stroke=\"black\" d=\"M123,-149.85C123,-141.67 123,-132.89 123,-124.37\"/>\n",
       "<polygon fill=\"black\" stroke=\"black\" points=\"126.5,-124.15 123,-114.15 119.5,-124.15 126.5,-124.15\"/>\n",
       "</g>\n",
       "</g>\n",
       "</svg>\n"
      ],
      "text/plain": [
       "<graphviz.dot.Digraph at 0x7fc520a25d00>"
      ]
     },
     "execution_count": 80,
     "metadata": {},
     "output_type": "execute_result"
    }
   ],
   "source": [
    "%time model = make_model()\n",
    "pm.model_to_graphviz(model)"
   ]
  },
  {
   "cell_type": "code",
   "execution_count": 81,
   "metadata": {
    "tags": [
     "fill-in"
    ]
   },
   "outputs": [
    {
     "name": "stderr",
     "output_type": "stream",
     "text": [
      "Auto-assigning NUTS sampler...\n",
      "Initializing NUTS using jitter+adapt_diag...\n",
      "Multiprocess sampling (4 chains in 4 jobs)\n",
      "NUTS: [xs, logeta, mu]\n"
     ]
    },
    {
     "data": {
      "text/html": [
       "\n",
       "    <div>\n",
       "        <style>\n",
       "            /* Turns off some styling */\n",
       "            progress {\n",
       "                /* gets rid of default border in Firefox and Opera. */\n",
       "                border: none;\n",
       "                /* Needs to be in here for Safari polyfill so background images work as expected. */\n",
       "                background-size: auto;\n",
       "            }\n",
       "            .progress-bar-interrupted, .progress-bar-interrupted::-webkit-progress-bar {\n",
       "                background: #F44336;\n",
       "            }\n",
       "        </style>\n",
       "      <progress value='6000' class='' max='6000' style='width:300px; height:20px; vertical-align: middle;'></progress>\n",
       "      100.00% [6000/6000 00:02<00:00 Sampling 4 chains, 11 divergences]\n",
       "    </div>\n",
       "    "
      ],
      "text/plain": [
       "<IPython.core.display.HTML object>"
      ]
     },
     "metadata": {},
     "output_type": "display_data"
    },
    {
     "name": "stderr",
     "output_type": "stream",
     "text": [
      "Sampling 4 chains for 1_000 tune and 500 draw iterations (4_000 + 2_000 draws total) took 2 seconds.\n",
      "There was 1 divergence after tuning. Increase `target_accept` or reparameterize.\n",
      "There were 4 divergences after tuning. Increase `target_accept` or reparameterize.\n",
      "There were 4 divergences after tuning. Increase `target_accept` or reparameterize.\n",
      "There were 2 divergences after tuning. Increase `target_accept` or reparameterize.\n",
      "The number of effective samples is smaller than 25% for some parameters.\n"
     ]
    },
    {
     "name": "stdout",
     "output_type": "stream",
     "text": [
      "CPU times: user 6.33 s, sys: 164 ms, total: 6.49 s\n",
      "Wall time: 7.8 s\n"
     ]
    }
   ],
   "source": [
    "with model:\n",
    "    pred = pm.sample_prior_predictive(1000)\n",
    "    %time trace = pm.sample(500)"
   ]
  },
  {
   "cell_type": "markdown",
   "metadata": {},
   "source": [
    "Here are the posterior distributions of the hyperparameters"
   ]
  },
  {
   "cell_type": "code",
   "execution_count": 82,
   "metadata": {},
   "outputs": [
    {
     "data": {
      "image/png": "[encoded data removed]",
      "text/plain": [
       "<Figure size 993.6x331.2 with 2 Axes>"
      ]
     },
     "metadata": {
      "needs_background": "light"
     },
     "output_type": "display_data"
    }
   ],
   "source": [
    "import arviz as az\n",
    "\n",
    "with model:\n",
    "    az.plot_posterior(trace, var_names=['mu', 'logeta'])"
   ]
  },
  {
   "cell_type": "markdown",
   "metadata": {},
   "source": [
    "And we can extract the posterior distributions of the xs."
   ]
  },
  {
   "cell_type": "code",
   "execution_count": 83,
   "metadata": {},
   "outputs": [
    {
     "data": {
      "text/plain": [
       "(13, 2000)"
      ]
     },
     "execution_count": 83,
     "metadata": {},
     "output_type": "execute_result"
    }
   ],
   "source": [
    "trace_xs = trace['xs'].transpose()\n",
    "trace_xs.shape"
   ]
  },
  {
   "cell_type": "markdown",
   "metadata": {},
   "source": [
    "As an example, here's the posterior distribution of x for the first hospital."
   ]
  },
  {
   "cell_type": "code",
   "execution_count": 84,
   "metadata": {},
   "outputs": [
    {
     "data": {
      "image/png": "[encoded data removed]",
      "text/plain": [
       "<Figure size 432x288 with 1 Axes>"
      ]
     },
     "metadata": {
      "needs_background": "light"
     },
     "output_type": "display_data"
    }
   ],
   "source": [
    "with model:\n",
    "    az.plot_posterior(trace_xs[0])"
   ]
  },
  {
   "cell_type": "markdown",
   "metadata": {},
   "source": [
    "## Just one update"
   ]
  },
  {
   "cell_type": "code",
   "execution_count": 85,
   "metadata": {},
   "outputs": [],
   "source": [
    "i = 3\n",
    "data_n = data_ns[i]\n",
    "data_k = data_ks[i]"
   ]
  },
  {
   "cell_type": "code",
   "execution_count": 86,
   "metadata": {},
   "outputs": [],
   "source": [
    "def make_model1():\n",
    "    with pm.Model() as model1:\n",
    "        mu = pm.Beta('mu', alpha=1, beta=1)\n",
    "        logeta = pm.Logistic('logeta', mu=logn, s=1)\n",
    "        eta = pm.Deterministic('eta', tt.exp(logeta))\n",
    "        alpha = pm.Deterministic('alpha', mu * eta)\n",
    "        beta = pm.Deterministic('beta', (1-mu) * eta)\n",
    "        x = pm.Beta('x', alpha, beta)\n",
    "        k = pm.Binomial('k', n=data_n, p=x, observed=data_k)\n",
    "    return model1"
   ]
  },
  {
   "cell_type": "code",
   "execution_count": 87,
   "metadata": {},
   "outputs": [
    {
     "data": {
      "image/svg+xml": [
       "<?xml version=\"1.0\" encoding=\"UTF-8\" standalone=\"no\"?>\n",
       "<!DOCTYPE svg PUBLIC \"-//W3C//DTD SVG 1.1//EN\"\n",
       " \"http://www.w3.org/Graphics/SVG/1.1/DTD/svg11.dtd\">\n",
       "<!-- Generated by graphviz version 2.49.0 (20210829.0051)\n",
       " -->\n",
       "<!-- Pages: 1 -->\n",
       "<svg width=\"254pt\" height=\"505pt\"\n",
       " viewBox=\"0.00 0.00 254.00 504.81\" xmlns=\"http://www.w3.org/2000/svg\" xmlns:xlink=\"http://www.w3.org/1999/xlink\">\n",
       "<g id=\"graph0\" class=\"graph\" transform=\"scale(1 1) rotate(0) translate(4 500.81)\">\n",
       "<polygon fill=\"white\" stroke=\"transparent\" points=\"-4,4 -4,-500.81 250,-500.81 250,4 -4,4\"/>\n",
       "<!-- logeta -->\n",
       "<g id=\"node1\" class=\"node\">\n",
       "<title>logeta</title>\n",
       "<ellipse fill=\"none\" stroke=\"black\" cx=\"62\" cy=\"-459.34\" rx=\"51.74\" ry=\"37.45\"/>\n",
       "<text text-anchor=\"middle\" x=\"62\" y=\"-470.64\" font-family=\"Times,serif\" font-size=\"14.00\">logeta</text>\n",
       "<text text-anchor=\"middle\" x=\"62\" y=\"-455.64\" font-family=\"Times,serif\" font-size=\"14.00\">~</text>\n",
       "<text text-anchor=\"middle\" x=\"62\" y=\"-440.64\" font-family=\"Times,serif\" font-size=\"14.00\">Logistic</text>\n",
       "</g>\n",
       "<!-- eta -->\n",
       "<g id=\"node4\" class=\"node\">\n",
       "<title>eta</title>\n",
       "<polygon fill=\"none\" stroke=\"black\" points=\"119,-374.88 5,-374.88 5,-321.88 119,-321.88 119,-374.88\"/>\n",
       "<text text-anchor=\"middle\" x=\"62\" y=\"-359.68\" font-family=\"Times,serif\" font-size=\"14.00\">eta</text>\n",
       "<text text-anchor=\"middle\" x=\"62\" y=\"-344.68\" font-family=\"Times,serif\" font-size=\"14.00\">~</text>\n",
       "<text text-anchor=\"middle\" x=\"62\" y=\"-329.68\" font-family=\"Times,serif\" font-size=\"14.00\">Deterministic</text>\n",
       "</g>\n",
       "<!-- logeta&#45;&gt;eta -->\n",
       "<g id=\"edge1\" class=\"edge\">\n",
       "<title>logeta&#45;&gt;eta</title>\n",
       "<path fill=\"none\" stroke=\"black\" d=\"M62,-421.75C62,-410.02 62,-397.03 62,-385.34\"/>\n",
       "<polygon fill=\"black\" stroke=\"black\" points=\"65.5,-385.04 62,-375.04 58.5,-385.04 65.5,-385.04\"/>\n",
       "</g>\n",
       "<!-- beta -->\n",
       "<g id=\"node2\" class=\"node\">\n",
       "<title>beta</title>\n",
       "<polygon fill=\"none\" stroke=\"black\" points=\"114,-274.91 0,-274.91 0,-221.91 114,-221.91 114,-274.91\"/>\n",
       "<text text-anchor=\"middle\" x=\"57\" y=\"-259.71\" font-family=\"Times,serif\" font-size=\"14.00\">beta</text>\n",
       "<text text-anchor=\"middle\" x=\"57\" y=\"-244.71\" font-family=\"Times,serif\" font-size=\"14.00\">~</text>\n",
       "<text text-anchor=\"middle\" x=\"57\" y=\"-229.71\" font-family=\"Times,serif\" font-size=\"14.00\">Deterministic</text>\n",
       "</g>\n",
       "<!-- x -->\n",
       "<g id=\"node6\" class=\"node\">\n",
       "<title>x</title>\n",
       "<ellipse fill=\"none\" stroke=\"black\" cx=\"123\" cy=\"-148.43\" rx=\"35.21\" ry=\"37.45\"/>\n",
       "<text text-anchor=\"middle\" x=\"123\" y=\"-159.73\" font-family=\"Times,serif\" font-size=\"14.00\">x</text>\n",
       "<text text-anchor=\"middle\" x=\"123\" y=\"-144.73\" font-family=\"Times,serif\" font-size=\"14.00\">~</text>\n",
       "<text text-anchor=\"middle\" x=\"123\" y=\"-129.73\" font-family=\"Times,serif\" font-size=\"14.00\">Beta</text>\n",
       "</g>\n",
       "<!-- beta&#45;&gt;x -->\n",
       "<g id=\"edge6\" class=\"edge\">\n",
       "<title>beta&#45;&gt;x</title>\n",
       "<path fill=\"none\" stroke=\"black\" d=\"M74.34,-221.66C81.28,-211.36 89.42,-199.28 97.04,-187.97\"/>\n",
       "<polygon fill=\"black\" stroke=\"black\" points=\"100.05,-189.77 102.73,-179.52 94.24,-185.86 100.05,-189.77\"/>\n",
       "</g>\n",
       "<!-- alpha -->\n",
       "<g id=\"node3\" class=\"node\">\n",
       "<title>alpha</title>\n",
       "<polygon fill=\"none\" stroke=\"black\" points=\"246,-274.91 132,-274.91 132,-221.91 246,-221.91 246,-274.91\"/>\n",
       "<text text-anchor=\"middle\" x=\"189\" y=\"-259.71\" font-family=\"Times,serif\" font-size=\"14.00\">alpha</text>\n",
       "<text text-anchor=\"middle\" x=\"189\" y=\"-244.71\" font-family=\"Times,serif\" font-size=\"14.00\">~</text>\n",
       "<text text-anchor=\"middle\" x=\"189\" y=\"-229.71\" font-family=\"Times,serif\" font-size=\"14.00\">Deterministic</text>\n",
       "</g>\n",
       "<!-- alpha&#45;&gt;x -->\n",
       "<g id=\"edge7\" class=\"edge\">\n",
       "<title>alpha&#45;&gt;x</title>\n",
       "<path fill=\"none\" stroke=\"black\" d=\"M171.66,-221.66C164.72,-211.36 156.58,-199.28 148.96,-187.97\"/>\n",
       "<polygon fill=\"black\" stroke=\"black\" points=\"151.76,-185.86 143.27,-179.52 145.95,-189.77 151.76,-185.86\"/>\n",
       "</g>\n",
       "<!-- eta&#45;&gt;beta -->\n",
       "<g id=\"edge5\" class=\"edge\">\n",
       "<title>eta&#45;&gt;beta</title>\n",
       "<path fill=\"none\" stroke=\"black\" d=\"M60.69,-321.64C60.12,-310.5 59.44,-297.28 58.83,-285.21\"/>\n",
       "<polygon fill=\"black\" stroke=\"black\" points=\"62.31,-284.79 58.3,-274.98 55.32,-285.14 62.31,-284.79\"/>\n",
       "</g>\n",
       "<!-- eta&#45;&gt;alpha -->\n",
       "<g id=\"edge3\" class=\"edge\">\n",
       "<title>eta&#45;&gt;alpha</title>\n",
       "<path fill=\"none\" stroke=\"black\" d=\"M95.37,-321.64C111.41,-309.27 130.79,-294.31 147.75,-281.23\"/>\n",
       "<polygon fill=\"black\" stroke=\"black\" points=\"150.08,-283.86 155.86,-274.98 145.8,-278.31 150.08,-283.86\"/>\n",
       "</g>\n",
       "<!-- mu -->\n",
       "<g id=\"node5\" class=\"node\">\n",
       "<title>mu</title>\n",
       "<ellipse fill=\"none\" stroke=\"black\" cx=\"183\" cy=\"-348.38\" rx=\"35.21\" ry=\"37.45\"/>\n",
       "<text text-anchor=\"middle\" x=\"183\" y=\"-359.68\" font-family=\"Times,serif\" font-size=\"14.00\">mu</text>\n",
       "<text text-anchor=\"middle\" x=\"183\" y=\"-344.68\" font-family=\"Times,serif\" font-size=\"14.00\">~</text>\n",
       "<text text-anchor=\"middle\" x=\"183\" y=\"-329.68\" font-family=\"Times,serif\" font-size=\"14.00\">Beta</text>\n",
       "</g>\n",
       "<!-- mu&#45;&gt;beta -->\n",
       "<g id=\"edge4\" class=\"edge\">\n",
       "<title>mu&#45;&gt;beta</title>\n",
       "<path fill=\"none\" stroke=\"black\" d=\"M154.72,-325.4C138.11,-312.48 116.82,-295.92 98.35,-281.56\"/>\n",
       "<polygon fill=\"black\" stroke=\"black\" points=\"100.13,-278.51 90.09,-275.14 95.84,-284.04 100.13,-278.51\"/>\n",
       "</g>\n",
       "<!-- mu&#45;&gt;alpha -->\n",
       "<g id=\"edge2\" class=\"edge\">\n",
       "<title>mu&#45;&gt;alpha</title>\n",
       "<path fill=\"none\" stroke=\"black\" d=\"M185.23,-310.9C185.75,-302.48 186.3,-293.54 186.81,-285.16\"/>\n",
       "<polygon fill=\"black\" stroke=\"black\" points=\"190.32,-285.11 187.44,-274.92 183.33,-284.68 190.32,-285.11\"/>\n",
       "</g>\n",
       "<!-- k -->\n",
       "<g id=\"node7\" class=\"node\">\n",
       "<title>k</title>\n",
       "<ellipse fill=\"lightgrey\" stroke=\"black\" cx=\"123\" cy=\"-37.48\" rx=\"56.64\" ry=\"37.45\"/>\n",
       "<text text-anchor=\"middle\" x=\"123\" y=\"-48.78\" font-family=\"Times,serif\" font-size=\"14.00\">k</text>\n",
       "<text text-anchor=\"middle\" x=\"123\" y=\"-33.78\" font-family=\"Times,serif\" font-size=\"14.00\">~</text>\n",
       "<text text-anchor=\"middle\" x=\"123\" y=\"-18.78\" font-family=\"Times,serif\" font-size=\"14.00\">Binomial</text>\n",
       "</g>\n",
       "<!-- x&#45;&gt;k -->\n",
       "<g id=\"edge8\" class=\"edge\">\n",
       "<title>x&#45;&gt;k</title>\n",
       "<path fill=\"none\" stroke=\"black\" d=\"M123,-110.85C123,-102.67 123,-93.89 123,-85.37\"/>\n",
       "<polygon fill=\"black\" stroke=\"black\" points=\"126.5,-85.15 123,-75.15 119.5,-85.15 126.5,-85.15\"/>\n",
       "</g>\n",
       "</g>\n",
       "</svg>\n"
      ],
      "text/plain": [
       "<graphviz.dot.Digraph at 0x7fc53170ee20>"
      ]
     },
     "execution_count": 87,
     "metadata": {},
     "output_type": "execute_result"
    }
   ],
   "source": [
    "model1 = make_model1()\n",
    "pm.model_to_graphviz(model1)"
   ]
  },
  {
   "cell_type": "code",
   "execution_count": 88,
   "metadata": {},
   "outputs": [
    {
     "name": "stderr",
     "output_type": "stream",
     "text": [
      "Auto-assigning NUTS sampler...\n",
      "Initializing NUTS using jitter+adapt_diag...\n",
      "Multiprocess sampling (4 chains in 4 jobs)\n",
      "NUTS: [x, logeta, mu]\n"
     ]
    },
    {
     "data": {
      "text/html": [
       "\n",
       "    <div>\n",
       "        <style>\n",
       "            /* Turns off some styling */\n",
       "            progress {\n",
       "                /* gets rid of default border in Firefox and Opera. */\n",
       "                border: none;\n",
       "                /* Needs to be in here for Safari polyfill so background images work as expected. */\n",
       "                background-size: auto;\n",
       "            }\n",
       "            .progress-bar-interrupted, .progress-bar-interrupted::-webkit-progress-bar {\n",
       "                background: #F44336;\n",
       "            }\n",
       "        </style>\n",
       "      <progress value='6000' class='' max='6000' style='width:300px; height:20px; vertical-align: middle;'></progress>\n",
       "      100.00% [6000/6000 00:01<00:00 Sampling 4 chains, 157 divergences]\n",
       "    </div>\n",
       "    "
      ],
      "text/plain": [
       "<IPython.core.display.HTML object>"
      ]
     },
     "metadata": {},
     "output_type": "display_data"
    },
    {
     "name": "stderr",
     "output_type": "stream",
     "text": [
      "Sampling 4 chains for 1_000 tune and 500 draw iterations (4_000 + 2_000 draws total) took 2 seconds.\n",
      "There were 77 divergences after tuning. Increase `target_accept` or reparameterize.\n",
      "The acceptance probability does not match the target. It is 0.5516602192663524, but should be close to 0.8. Try to increase the number of tuning steps.\n",
      "There were 32 divergences after tuning. Increase `target_accept` or reparameterize.\n",
      "There were 33 divergences after tuning. Increase `target_accept` or reparameterize.\n",
      "There were 15 divergences after tuning. Increase `target_accept` or reparameterize.\n",
      "The estimated number of effective samples is smaller than 200 for some parameters.\n"
     ]
    }
   ],
   "source": [
    "with model1:\n",
    "    pred1 = pm.sample_prior_predictive(1000)\n",
    "    trace1 = pm.sample(500)"
   ]
  },
  {
   "cell_type": "code",
   "execution_count": 89,
   "metadata": {},
   "outputs": [
    {
     "data": {
      "image/png": "[encoded data removed]",
      "text/plain": [
       "<Figure size 432x288 with 1 Axes>"
      ]
     },
     "metadata": {
      "needs_background": "light"
     },
     "output_type": "display_data"
    }
   ],
   "source": [
    "Cdf.from_seq(pred1['mu']).plot(label='prior', color='gray')\n",
    "Cdf.from_seq(trace1['mu']).plot(label='posterior')\n",
    "decorate(title='Distribution of mu')"
   ]
  },
  {
   "cell_type": "code",
   "execution_count": 90,
   "metadata": {},
   "outputs": [
    {
     "data": {
      "image/png": "[encoded data removed]",
      "text/plain": [
       "<Figure size 432x288 with 1 Axes>"
      ]
     },
     "metadata": {
      "needs_background": "light"
     },
     "output_type": "display_data"
    }
   ],
   "source": [
    "Cdf.from_seq(pred1['logeta']).plot(label='prior', color='gray')\n",
    "Cdf.from_seq(trace1['logeta']).plot(label='posterior')\n",
    "decorate(title='Distribution of logeta')"
   ]
  },
  {
   "cell_type": "code",
   "execution_count": 91,
   "metadata": {},
   "outputs": [
    {
     "data": {
      "image/png": "[encoded data removed]",
      "text/plain": [
       "<Figure size 432x288 with 1 Axes>"
      ]
     },
     "metadata": {
      "needs_background": "light"
     },
     "output_type": "display_data"
    }
   ],
   "source": [
    "Cdf.from_seq(pred1['x']).plot(label='prior', color='gray')\n",
    "Cdf.from_seq(trace1['x']).plot(label='posterior')\n",
    "decorate(title='Distribution of x')"
   ]
  },
  {
   "cell_type": "markdown",
   "metadata": {},
   "source": [
    "## The grid priors"
   ]
  },
  {
   "cell_type": "code",
   "execution_count": 118,
   "metadata": {},
   "outputs": [
    {
     "data": {
      "image/png": "[encoded data removed]",
      "text/plain": [
       "<Figure size 432x288 with 1 Axes>"
      ]
     },
     "metadata": {
      "needs_background": "light"
     },
     "output_type": "display_data"
    }
   ],
   "source": [
    "from scipy.stats import beta as betadist\n",
    "\n",
    "mus = np.linspace(0.01, 0.99, 101)\n",
    "ps = betadist.pdf(mus, 1, 1)\n",
    "prior_mu = make_pmf(ps, mus, 'mu')\n",
    "\n",
    "prior_mu.plot()\n",
    "decorate(title='Prior distribution of mu')"
   ]
  },
  {
   "cell_type": "code",
   "execution_count": 119,
   "metadata": {},
   "outputs": [
    {
     "data": {
      "image/png": "[encoded data removed]",
      "text/plain": [
       "<Figure size 432x288 with 1 Axes>"
      ]
     },
     "metadata": {
      "needs_background": "light"
     },
     "output_type": "display_data"
    }
   ],
   "source": [
    "from scipy.stats import logistic\n",
    "\n",
    "logetas = np.linspace(0.1, 2*logn, 90)\n",
    "ps = logistic.pdf(logetas, loc=logn, scale=1)\n",
    "prior_logeta = make_pmf(ps, logetas, 'logeta')\n",
    "\n",
    "prior_logeta.plot()\n",
    "decorate(title='Prior distribution of logeta')"
   ]
  },
  {
   "cell_type": "code",
   "execution_count": 120,
   "metadata": {},
   "outputs": [
    {
     "name": "stdout",
     "output_type": "stream",
     "text": [
      "0.49999999999999994 0.5083188286330487\n"
     ]
    },
    {
     "data": {
      "image/png": "[encoded data removed]",
      "text/plain": [
       "<Figure size 432x288 with 1 Axes>"
      ]
     },
     "metadata": {
      "needs_background": "light"
     },
     "output_type": "display_data"
    }
   ],
   "source": [
    "compare_cdf(prior_mu, pred1['mu'])\n",
    "decorate(title='Prior distribution of mu')"
   ]
  },
  {
   "cell_type": "code",
   "execution_count": 121,
   "metadata": {},
   "outputs": [
    {
     "name": "stdout",
     "output_type": "stream",
     "text": [
      "4.609771582860065 4.562741091382068\n"
     ]
    },
    {
     "data": {
      "image/png": "[encoded data removed]",
      "text/plain": [
       "<Figure size 432x288 with 1 Axes>"
      ]
     },
     "metadata": {
      "needs_background": "light"
     },
     "output_type": "display_data"
    }
   ],
   "source": [
    "compare_cdf(prior_logeta, pred1['logeta'])\n",
    "decorate(title='Prior distribution of logeta')"
   ]
  },
  {
   "cell_type": "markdown",
   "metadata": {},
   "source": [
    "## The joint distribution of hyperparameters"
   ]
  },
  {
   "cell_type": "code",
   "execution_count": 122,
   "metadata": {},
   "outputs": [],
   "source": [
    "# TODO: Change these variable names\n",
    "def make_hyper(prior_alpha, prior_beta):\n",
    "    PA, PB = np.meshgrid(prior_alpha.ps, prior_beta.ps, indexing='ij')\n",
    "    hyper = PA * PB\n",
    "    return hyper"
   ]
  },
  {
   "cell_type": "code",
   "execution_count": 123,
   "metadata": {},
   "outputs": [
    {
     "data": {
      "text/plain": [
       "(101, 90)"
      ]
     },
     "execution_count": 123,
     "metadata": {},
     "output_type": "execute_result"
    }
   ],
   "source": [
    "prior_hyper = make_hyper(prior_mu, prior_logeta)\n",
    "prior_hyper.shape"
   ]
  },
  {
   "cell_type": "code",
   "execution_count": 124,
   "metadata": {},
   "outputs": [
    {
     "data": {
      "image/png": "[encoded data removed]",
      "text/plain": [
       "<Figure size 432x288 with 1 Axes>"
      ]
     },
     "metadata": {
      "needs_background": "light"
     },
     "output_type": "display_data"
    }
   ],
   "source": [
    "import pandas as pd\n",
    "from utils import plot_contour\n",
    "\n",
    "plot_contour(pd.DataFrame(prior_hyper, index=mus, columns=logetas))\n",
    "decorate(title=\"Joint prior of mu and logeta\")"
   ]
  },
  {
   "cell_type": "markdown",
   "metadata": {},
   "source": [
    "## Joint prior of alpha, beta, and x"
   ]
  },
  {
   "cell_type": "code",
   "execution_count": 131,
   "metadata": {},
   "outputs": [],
   "source": [
    "M, L = np.meshgrid(mus, logetas, indexing='ij')"
   ]
  },
  {
   "cell_type": "code",
   "execution_count": 132,
   "metadata": {},
   "outputs": [
    {
     "data": {
      "text/html": [
       "<div>\n",
       "<style scoped>\n",
       "    .dataframe tbody tr th:only-of-type {\n",
       "        vertical-align: middle;\n",
       "    }\n",
       "\n",
       "    .dataframe tbody tr th {\n",
       "        vertical-align: top;\n",
       "    }\n",
       "\n",
       "    .dataframe thead th {\n",
       "        text-align: right;\n",
       "    }\n",
       "</style>\n",
       "<table border=\"1\" class=\"dataframe\">\n",
       "  <thead>\n",
       "    <tr style=\"text-align: right;\">\n",
       "      <th></th>\n",
       "      <th>0</th>\n",
       "      <th>1</th>\n",
       "      <th>2</th>\n",
       "      <th>3</th>\n",
       "      <th>4</th>\n",
       "      <th>5</th>\n",
       "      <th>6</th>\n",
       "      <th>7</th>\n",
       "      <th>8</th>\n",
       "      <th>9</th>\n",
       "      <th>...</th>\n",
       "      <th>80</th>\n",
       "      <th>81</th>\n",
       "      <th>82</th>\n",
       "      <th>83</th>\n",
       "      <th>84</th>\n",
       "      <th>85</th>\n",
       "      <th>86</th>\n",
       "      <th>87</th>\n",
       "      <th>88</th>\n",
       "      <th>89</th>\n",
       "    </tr>\n",
       "  </thead>\n",
       "  <tbody>\n",
       "    <tr>\n",
       "      <th>count</th>\n",
       "      <td>101.000000</td>\n",
       "      <td>101.000000</td>\n",
       "      <td>101.000000</td>\n",
       "      <td>101.000000</td>\n",
       "      <td>101.000000</td>\n",
       "      <td>101.000000</td>\n",
       "      <td>101.000000</td>\n",
       "      <td>101.000000</td>\n",
       "      <td>101.000000</td>\n",
       "      <td>101.000000</td>\n",
       "      <td>...</td>\n",
       "      <td>101.000000</td>\n",
       "      <td>101.000000</td>\n",
       "      <td>101.000000</td>\n",
       "      <td>101.000000</td>\n",
       "      <td>101.000000</td>\n",
       "      <td>101.000000</td>\n",
       "      <td>101.000000</td>\n",
       "      <td>101.000000</td>\n",
       "      <td>101.000000</td>\n",
       "      <td>101.000000</td>\n",
       "    </tr>\n",
       "    <tr>\n",
       "      <th>mean</th>\n",
       "      <td>0.552585</td>\n",
       "      <td>0.612146</td>\n",
       "      <td>0.678127</td>\n",
       "      <td>0.751220</td>\n",
       "      <td>0.832191</td>\n",
       "      <td>0.921889</td>\n",
       "      <td>1.021256</td>\n",
       "      <td>1.131333</td>\n",
       "      <td>1.253275</td>\n",
       "      <td>1.388360</td>\n",
       "      <td>...</td>\n",
       "      <td>1990.065470</td>\n",
       "      <td>2204.566548</td>\n",
       "      <td>2442.187826</td>\n",
       "      <td>2705.421337</td>\n",
       "      <td>2997.027720</td>\n",
       "      <td>3320.065171</td>\n",
       "      <td>3677.921517</td>\n",
       "      <td>4074.349746</td>\n",
       "      <td>4513.507365</td>\n",
       "      <td>5000.000000</td>\n",
       "    </tr>\n",
       "    <tr>\n",
       "      <th>std</th>\n",
       "      <td>0.317341</td>\n",
       "      <td>0.351545</td>\n",
       "      <td>0.389437</td>\n",
       "      <td>0.431413</td>\n",
       "      <td>0.477913</td>\n",
       "      <td>0.529426</td>\n",
       "      <td>0.586490</td>\n",
       "      <td>0.649706</td>\n",
       "      <td>0.719735</td>\n",
       "      <td>0.797312</td>\n",
       "      <td>...</td>\n",
       "      <td>1142.861454</td>\n",
       "      <td>1266.045851</td>\n",
       "      <td>1402.507793</td>\n",
       "      <td>1553.678415</td>\n",
       "      <td>1721.143103</td>\n",
       "      <td>1906.658131</td>\n",
       "      <td>2112.169070</td>\n",
       "      <td>2339.831200</td>\n",
       "      <td>2592.032106</td>\n",
       "      <td>2871.416724</td>\n",
       "    </tr>\n",
       "    <tr>\n",
       "      <th>min</th>\n",
       "      <td>0.011052</td>\n",
       "      <td>0.012243</td>\n",
       "      <td>0.013563</td>\n",
       "      <td>0.015024</td>\n",
       "      <td>0.016644</td>\n",
       "      <td>0.018438</td>\n",
       "      <td>0.020425</td>\n",
       "      <td>0.022627</td>\n",
       "      <td>0.025065</td>\n",
       "      <td>0.027767</td>\n",
       "      <td>...</td>\n",
       "      <td>39.801309</td>\n",
       "      <td>44.091331</td>\n",
       "      <td>48.843757</td>\n",
       "      <td>54.108427</td>\n",
       "      <td>59.940554</td>\n",
       "      <td>66.401303</td>\n",
       "      <td>73.558430</td>\n",
       "      <td>81.486995</td>\n",
       "      <td>90.270147</td>\n",
       "      <td>100.000000</td>\n",
       "    </tr>\n",
       "    <tr>\n",
       "      <th>25%</th>\n",
       "      <td>0.281819</td>\n",
       "      <td>0.312195</td>\n",
       "      <td>0.345845</td>\n",
       "      <td>0.383122</td>\n",
       "      <td>0.424417</td>\n",
       "      <td>0.470163</td>\n",
       "      <td>0.520840</td>\n",
       "      <td>0.576980</td>\n",
       "      <td>0.639170</td>\n",
       "      <td>0.708064</td>\n",
       "      <td>...</td>\n",
       "      <td>1014.933390</td>\n",
       "      <td>1124.328939</td>\n",
       "      <td>1245.515791</td>\n",
       "      <td>1379.764882</td>\n",
       "      <td>1528.484137</td>\n",
       "      <td>1693.233237</td>\n",
       "      <td>1875.739974</td>\n",
       "      <td>2077.918371</td>\n",
       "      <td>2301.888756</td>\n",
       "      <td>2550.000000</td>\n",
       "    </tr>\n",
       "    <tr>\n",
       "      <th>50%</th>\n",
       "      <td>0.552585</td>\n",
       "      <td>0.612146</td>\n",
       "      <td>0.678127</td>\n",
       "      <td>0.751220</td>\n",
       "      <td>0.832191</td>\n",
       "      <td>0.921889</td>\n",
       "      <td>1.021256</td>\n",
       "      <td>1.131333</td>\n",
       "      <td>1.253275</td>\n",
       "      <td>1.388360</td>\n",
       "      <td>...</td>\n",
       "      <td>1990.065470</td>\n",
       "      <td>2204.566548</td>\n",
       "      <td>2442.187826</td>\n",
       "      <td>2705.421337</td>\n",
       "      <td>2997.027720</td>\n",
       "      <td>3320.065171</td>\n",
       "      <td>3677.921517</td>\n",
       "      <td>4074.349746</td>\n",
       "      <td>4513.507365</td>\n",
       "      <td>5000.000000</td>\n",
       "    </tr>\n",
       "    <tr>\n",
       "      <th>75%</th>\n",
       "      <td>0.823352</td>\n",
       "      <td>0.912098</td>\n",
       "      <td>1.010409</td>\n",
       "      <td>1.119317</td>\n",
       "      <td>1.239964</td>\n",
       "      <td>1.373615</td>\n",
       "      <td>1.521671</td>\n",
       "      <td>1.685686</td>\n",
       "      <td>1.867379</td>\n",
       "      <td>2.068656</td>\n",
       "      <td>...</td>\n",
       "      <td>2965.197550</td>\n",
       "      <td>3284.804157</td>\n",
       "      <td>3638.859861</td>\n",
       "      <td>4031.077793</td>\n",
       "      <td>4465.571303</td>\n",
       "      <td>4946.897105</td>\n",
       "      <td>5480.103061</td>\n",
       "      <td>6070.781122</td>\n",
       "      <td>6725.125973</td>\n",
       "      <td>7450.000000</td>\n",
       "    </tr>\n",
       "    <tr>\n",
       "      <th>max</th>\n",
       "      <td>1.094119</td>\n",
       "      <td>1.212050</td>\n",
       "      <td>1.342692</td>\n",
       "      <td>1.487415</td>\n",
       "      <td>1.647738</td>\n",
       "      <td>1.825340</td>\n",
       "      <td>2.022087</td>\n",
       "      <td>2.240039</td>\n",
       "      <td>2.481484</td>\n",
       "      <td>2.748953</td>\n",
       "      <td>...</td>\n",
       "      <td>3940.329631</td>\n",
       "      <td>4365.041765</td>\n",
       "      <td>4835.531896</td>\n",
       "      <td>5356.734248</td>\n",
       "      <td>5934.114886</td>\n",
       "      <td>6573.729039</td>\n",
       "      <td>7282.284604</td>\n",
       "      <td>8067.212498</td>\n",
       "      <td>8936.744582</td>\n",
       "      <td>9900.000000</td>\n",
       "    </tr>\n",
       "  </tbody>\n",
       "</table>\n",
       "<p>8 rows × 90 columns</p>\n",
       "</div>"
      ],
      "text/plain": [
       "               0           1           2           3           4           5   \\\n",
       "count  101.000000  101.000000  101.000000  101.000000  101.000000  101.000000   \n",
       "mean     0.552585    0.612146    0.678127    0.751220    0.832191    0.921889   \n",
       "std      0.317341    0.351545    0.389437    0.431413    0.477913    0.529426   \n",
       "min      0.011052    0.012243    0.013563    0.015024    0.016644    0.018438   \n",
       "25%      0.281819    0.312195    0.345845    0.383122    0.424417    0.470163   \n",
       "50%      0.552585    0.612146    0.678127    0.751220    0.832191    0.921889   \n",
       "75%      0.823352    0.912098    1.010409    1.119317    1.239964    1.373615   \n",
       "max      1.094119    1.212050    1.342692    1.487415    1.647738    1.825340   \n",
       "\n",
       "               6           7           8           9   ...           80  \\\n",
       "count  101.000000  101.000000  101.000000  101.000000  ...   101.000000   \n",
       "mean     1.021256    1.131333    1.253275    1.388360  ...  1990.065470   \n",
       "std      0.586490    0.649706    0.719735    0.797312  ...  1142.861454   \n",
       "min      0.020425    0.022627    0.025065    0.027767  ...    39.801309   \n",
       "25%      0.520840    0.576980    0.639170    0.708064  ...  1014.933390   \n",
       "50%      1.021256    1.131333    1.253275    1.388360  ...  1990.065470   \n",
       "75%      1.521671    1.685686    1.867379    2.068656  ...  2965.197550   \n",
       "max      2.022087    2.240039    2.481484    2.748953  ...  3940.329631   \n",
       "\n",
       "                81           82           83           84           85  \\\n",
       "count   101.000000   101.000000   101.000000   101.000000   101.000000   \n",
       "mean   2204.566548  2442.187826  2705.421337  2997.027720  3320.065171   \n",
       "std    1266.045851  1402.507793  1553.678415  1721.143103  1906.658131   \n",
       "min      44.091331    48.843757    54.108427    59.940554    66.401303   \n",
       "25%    1124.328939  1245.515791  1379.764882  1528.484137  1693.233237   \n",
       "50%    2204.566548  2442.187826  2705.421337  2997.027720  3320.065171   \n",
       "75%    3284.804157  3638.859861  4031.077793  4465.571303  4946.897105   \n",
       "max    4365.041765  4835.531896  5356.734248  5934.114886  6573.729039   \n",
       "\n",
       "                86           87           88           89  \n",
       "count   101.000000   101.000000   101.000000   101.000000  \n",
       "mean   3677.921517  4074.349746  4513.507365  5000.000000  \n",
       "std    2112.169070  2339.831200  2592.032106  2871.416724  \n",
       "min      73.558430    81.486995    90.270147   100.000000  \n",
       "25%    1875.739974  2077.918371  2301.888756  2550.000000  \n",
       "50%    3677.921517  4074.349746  4513.507365  5000.000000  \n",
       "75%    5480.103061  6070.781122  6725.125973  7450.000000  \n",
       "max    7282.284604  8067.212498  8936.744582  9900.000000  \n",
       "\n",
       "[8 rows x 90 columns]"
      ]
     },
     "execution_count": 132,
     "metadata": {},
     "output_type": "execute_result"
    }
   ],
   "source": [
    "import pandas as pd\n",
    "\n",
    "pd.DataFrame(A).describe()"
   ]
  },
  {
   "cell_type": "code",
   "execution_count": 135,
   "metadata": {},
   "outputs": [],
   "source": [
    "xs = np.linspace(0.01, 0.99, 99)\n",
    "M, L, X = np.meshgrid(mus, logetas, xs, indexing='ij')"
   ]
  },
  {
   "cell_type": "code",
   "execution_count": 136,
   "metadata": {},
   "outputs": [],
   "source": [
    "E = np.exp(L)\n",
    "A = M * E\n",
    "B = (1-M) * E"
   ]
  },
  {
   "cell_type": "code",
   "execution_count": 137,
   "metadata": {},
   "outputs": [
    {
     "data": {
      "text/plain": [
       "513779743.8067446"
      ]
     },
     "execution_count": 137,
     "metadata": {},
     "output_type": "execute_result"
    }
   ],
   "source": [
    "B.sum()"
   ]
  },
  {
   "cell_type": "code",
   "execution_count": 138,
   "metadata": {},
   "outputs": [
    {
     "name": "stdout",
     "output_type": "stream",
     "text": [
      "CPU times: user 423 ms, sys: 11.6 ms, total: 434 ms\n",
      "Wall time: 433 ms\n"
     ]
    },
    {
     "data": {
      "text/plain": [
       "881056.3544591597"
      ]
     },
     "execution_count": 138,
     "metadata": {},
     "output_type": "execute_result"
    }
   ],
   "source": [
    "from scipy.stats import beta as betadist\n",
    "\n",
    "%time betapdf = betadist.pdf(X, A, B)\n",
    "betapdf.sum()"
   ]
  },
  {
   "cell_type": "markdown",
   "metadata": {},
   "source": [
    "We can speed this up by computing just $x^{\\alpha-1} (1-x)^{\\beta-1}$ and skipping the terms that don't depend on x"
   ]
  },
  {
   "cell_type": "code",
   "execution_count": 139,
   "metadata": {},
   "outputs": [],
   "source": [
    "logx = np.log(xs)\n",
    "logy = np.log(1-xs)"
   ]
  },
  {
   "cell_type": "code",
   "execution_count": 140,
   "metadata": {},
   "outputs": [
    {
     "data": {
      "text/plain": [
       "273720.6027955034"
      ]
     },
     "execution_count": 140,
     "metadata": {},
     "output_type": "execute_result"
    }
   ],
   "source": [
    "logpdf = (A-1) * logx + (B-1) * logy\n",
    "betapdf = np.exp(logpdf)\n",
    "betapdf.sum()"
   ]
  },
  {
   "cell_type": "code",
   "execution_count": 141,
   "metadata": {},
   "outputs": [
    {
     "data": {
      "text/plain": [
       "273720.6027955031"
      ]
     },
     "execution_count": 141,
     "metadata": {},
     "output_type": "execute_result"
    }
   ],
   "source": [
    "totals = betapdf.sum(axis=2)\n",
    "totals.sum()"
   ]
  },
  {
   "cell_type": "code",
   "execution_count": 144,
   "metadata": {},
   "outputs": [
    {
     "data": {
      "text/plain": [
       "array([[4.89166505e+002, 4.72178006e+002, 4.55639947e+002, ...,\n",
       "        6.58509827e-197, 2.86364503e-218, 6.20570778e-242],\n",
       "       [4.77146830e+002, 4.58877476e+002, 4.40973240e+002, ...,\n",
       "        0.00000000e+000, 0.00000000e+000, 0.00000000e+000],\n",
       "       [4.65611809e+002, 4.46159331e+002, 4.27006575e+002, ...,\n",
       "        0.00000000e+000, 0.00000000e+000, 0.00000000e+000],\n",
       "       ...,\n",
       "       [4.65611809e+002, 4.46159331e+002, 4.27006575e+002, ...,\n",
       "        0.00000000e+000, 0.00000000e+000, 0.00000000e+000],\n",
       "       [4.77146830e+002, 4.58877476e+002, 4.40973240e+002, ...,\n",
       "        0.00000000e+000, 0.00000000e+000, 0.00000000e+000],\n",
       "       [4.89166505e+002, 4.72178006e+002, 4.55639947e+002, ...,\n",
       "        6.58509827e-197, 2.86364503e-218, 6.20570778e-242]])"
      ]
     },
     "execution_count": 144,
     "metadata": {},
     "output_type": "execute_result"
    }
   ],
   "source": [
    "totals"
   ]
  },
  {
   "cell_type": "code",
   "execution_count": 143,
   "metadata": {},
   "outputs": [
    {
     "data": {
      "text/plain": [
       "(1826, 7264)"
      ]
     },
     "execution_count": 143,
     "metadata": {},
     "output_type": "execute_result"
    }
   ],
   "source": [
    "(totals==0).sum(), (totals!=0).sum(), "
   ]
  },
  {
   "cell_type": "code",
   "execution_count": 113,
   "metadata": {},
   "outputs": [
    {
     "name": "stderr",
     "output_type": "stream",
     "text": [
      "/tmp/ipykernel_325165/991674067.py:2: RuntimeWarning: overflow encountered in true_divide\n",
      "  betapdf /= totals.reshape(shape)\n",
      "/home/downey/anaconda3/envs/ThinkBayes2/lib/python3.9/site-packages/numpy/core/_methods.py:48: RuntimeWarning: overflow encountered in reduce\n",
      "  return umr_sum(a, axis, dtype, out, keepdims, initial, where)\n"
     ]
    },
    {
     "data": {
      "text/plain": [
       "nan"
      ]
     },
     "execution_count": 113,
     "metadata": {},
     "output_type": "execute_result"
    }
   ],
   "source": [
    "shape = totals.shape + (1,)\n",
    "betapdf /= totals.reshape(shape)\n",
    "betapdf.sum()"
   ]
  },
  {
   "cell_type": "code",
   "execution_count": null,
   "metadata": {},
   "outputs": [],
   "source": [
    "def make_prior(hyper):\n",
    "\n",
    "    # reshape hyper so we can multiply along axis 0\n",
    "    shape = hyper.shape + (1,)\n",
    "    prior = betapdf * hyper.reshape(shape)\n",
    "\n",
    "    return prior"
   ]
  },
  {
   "cell_type": "code",
   "execution_count": null,
   "metadata": {},
   "outputs": [],
   "source": [
    "%time prior = make_prior(prior_hyper)\n",
    "prior.sum()"
   ]
  },
  {
   "cell_type": "markdown",
   "metadata": {},
   "source": [
    "The following function computes the marginal distributions."
   ]
  },
  {
   "cell_type": "code",
   "execution_count": null,
   "metadata": {},
   "outputs": [],
   "source": [
    "def marginal(joint, axis):\n",
    "    axes = [i for i in range(3) if i != axis]\n",
    "    return joint.sum(axis=tuple(axes))"
   ]
  },
  {
   "cell_type": "markdown",
   "metadata": {},
   "source": [
    "And let's confirm that the marginal distributions are what they are supposed to be."
   ]
  },
  {
   "cell_type": "code",
   "execution_count": null,
   "metadata": {},
   "outputs": [],
   "source": [
    "prior_mu.plot()\n",
    "marginal_mu = Pmf(marginal(prior, 0), mus)\n",
    "marginal_mu.plot()\n",
    "decorate(title='Checking the marginal distribution of mu')"
   ]
  },
  {
   "cell_type": "code",
   "execution_count": null,
   "metadata": {},
   "outputs": [],
   "source": [
    "prior_logeta.plot()\n",
    "marginal_eta = Pmf(marginal(prior, 1), logetas)\n",
    "marginal_eta.plot()\n",
    "decorate(title='Checking the marginal distribution of eta')"
   ]
  },
  {
   "cell_type": "code",
   "execution_count": null,
   "metadata": {},
   "outputs": [],
   "source": [
    "prior_x = Pmf(marginal(prior, 2), xs)\n",
    "prior_x.plot()\n",
    "decorate(title='Prior distribution of x')"
   ]
  },
  {
   "cell_type": "code",
   "execution_count": null,
   "metadata": {},
   "outputs": [],
   "source": [
    "# TODO: Compare to predictive distribution from PyMC\n",
    "#marginal_x = Pmf(marginal(prior, 2), xs)\n",
    "#compare_cdf(marginal_x, pred1['x'])\n",
    "#decorate(title='Checking the marginal distribution of x')"
   ]
  },
  {
   "cell_type": "code",
   "execution_count": null,
   "metadata": {},
   "outputs": [],
   "source": [
    "def get_hyper(joint):\n",
    "    return joint.sum(axis=2)"
   ]
  },
  {
   "cell_type": "code",
   "execution_count": null,
   "metadata": {},
   "outputs": [],
   "source": [
    "hyper = get_hyper(prior)"
   ]
  },
  {
   "cell_type": "code",
   "execution_count": null,
   "metadata": {},
   "outputs": [],
   "source": [
    "plot_contour(pd.DataFrame(hyper, \n",
    "                          index=mus, \n",
    "                          columns=logetas))\n",
    "decorate(title=\"Joint prior of mu and eta\")"
   ]
  },
  {
   "cell_type": "markdown",
   "metadata": {},
   "source": [
    "## The Update"
   ]
  },
  {
   "cell_type": "code",
   "execution_count": null,
   "metadata": {},
   "outputs": [],
   "source": [
    "from scipy.stats import binom\n",
    "\n",
    "like_x = binom.pmf(data_k, data_n, xs)\n",
    "like_x.shape"
   ]
  },
  {
   "cell_type": "code",
   "execution_count": null,
   "metadata": {},
   "outputs": [],
   "source": [
    "plt.plot(xs, like_x)\n",
    "decorate(title='Likelihood of the data')"
   ]
  },
  {
   "cell_type": "code",
   "execution_count": null,
   "metadata": {},
   "outputs": [],
   "source": [
    "def update(prior, data):\n",
    "    n, k = data\n",
    "    like_x = binom.pmf(k, n, xs)\n",
    "\n",
    "    posterior = prior * like_x\n",
    "    posterior /= posterior.sum()\n",
    "    return posterior"
   ]
  },
  {
   "cell_type": "code",
   "execution_count": null,
   "metadata": {},
   "outputs": [],
   "source": [
    "data = data_n, data_k\n",
    "%time posterior = update(prior, data)"
   ]
  },
  {
   "cell_type": "code",
   "execution_count": null,
   "metadata": {},
   "outputs": [],
   "source": [
    "marginal_mu = Pmf(marginal(posterior, 0), mus)\n",
    "compare_cdf(marginal_mu, trace1['mu'])"
   ]
  },
  {
   "cell_type": "code",
   "execution_count": null,
   "metadata": {},
   "outputs": [],
   "source": [
    "marginal_eta = Pmf(marginal(posterior, 1), prior_logeta.qs)\n",
    "compare_cdf(marginal_eta, trace1['eta'])"
   ]
  },
  {
   "cell_type": "code",
   "execution_count": null,
   "metadata": {},
   "outputs": [],
   "source": [
    "marginal_x = Pmf(marginal(posterior, 2), xs)\n",
    "compare_cdf(marginal_x, trace1['x'])\n",
    "marginal_x.mean(), trace1['x'].mean()"
   ]
  },
  {
   "cell_type": "code",
   "execution_count": null,
   "metadata": {},
   "outputs": [],
   "source": [
    "posterior_hyper = get_hyper(posterior)"
   ]
  },
  {
   "cell_type": "code",
   "execution_count": null,
   "metadata": {},
   "outputs": [],
   "source": [
    "plot_contour(pd.DataFrame(posterior_hyper, \n",
    "                          index=mus, \n",
    "                          columns=logetas))\n",
    "decorate(title=\"Joint posterior of alpha and beta\")"
   ]
  },
  {
   "cell_type": "code",
   "execution_count": null,
   "metadata": {},
   "outputs": [],
   "source": [
    "like_hyper = posterior_hyper / prior_hyper"
   ]
  },
  {
   "cell_type": "code",
   "execution_count": null,
   "metadata": {},
   "outputs": [],
   "source": [
    "plot_contour(pd.DataFrame(like_hyper, \n",
    "                          index=mus, \n",
    "                          columns=logetas))\n",
    "decorate(title=\"Likelihood of mu and eta\")"
   ]
  },
  {
   "cell_type": "markdown",
   "metadata": {},
   "source": [
    "## Multiple updates"
   ]
  },
  {
   "cell_type": "code",
   "execution_count": null,
   "metadata": {},
   "outputs": [],
   "source": [
    "prior = make_prior(prior_hyper)\n",
    "prior.shape"
   ]
  },
  {
   "cell_type": "code",
   "execution_count": null,
   "metadata": {},
   "outputs": [],
   "source": [
    "def multiple_updates(prior, ns, ks, xs):\n",
    "    for data in zip(ns, ks):\n",
    "        print(data)\n",
    "        posterior = update(prior, data)\n",
    "        hyper = get_hyper(posterior)\n",
    "        prior = make_prior(hyper)\n",
    "    return posterior"
   ]
  },
  {
   "cell_type": "code",
   "execution_count": null,
   "metadata": {},
   "outputs": [],
   "source": [
    "%time posterior = multiple_updates(prior, data_ns, data_ks, xs)"
   ]
  },
  {
   "cell_type": "code",
   "execution_count": null,
   "metadata": {},
   "outputs": [],
   "source": [
    "marginal_mu = Pmf(marginal(posterior, 0), mus)\n",
    "compare_cdf(marginal_mu, trace['mu'])"
   ]
  },
  {
   "cell_type": "code",
   "execution_count": null,
   "metadata": {},
   "outputs": [],
   "source": [
    "marginal_eta = Pmf(marginal(posterior, 1), logetas)\n",
    "compare_cdf(marginal_eta, trace['eta'])"
   ]
  },
  {
   "cell_type": "code",
   "execution_count": null,
   "metadata": {},
   "outputs": [],
   "source": [
    "marginal_x = Pmf(marginal(posterior, 2), prior_x.qs)\n",
    "compare_cdf(marginal_x, trace_xs[-1])"
   ]
  },
  {
   "cell_type": "code",
   "execution_count": null,
   "metadata": {},
   "outputs": [],
   "source": [
    "posterior_hyper = get_hyper(posterior)"
   ]
  },
  {
   "cell_type": "code",
   "execution_count": null,
   "metadata": {},
   "outputs": [],
   "source": [
    "plot_contour(pd.DataFrame(posterior_hyper, \n",
    "                          index=mus, \n",
    "                          columns=logetas))\n",
    "decorate(title=\"Joint posterior of mu and eta\")"
   ]
  },
  {
   "cell_type": "code",
   "execution_count": null,
   "metadata": {},
   "outputs": [],
   "source": [
    "like_hyper = posterior_hyper / prior_hyper"
   ]
  },
  {
   "cell_type": "code",
   "execution_count": null,
   "metadata": {},
   "outputs": [],
   "source": [
    "plot_contour(pd.DataFrame(like_hyper, \n",
    "                          index=mus, \n",
    "                          columns=logetas))\n",
    "decorate(title=\"Likelihood of mu and eta\")"
   ]
  },
  {
   "cell_type": "markdown",
   "metadata": {},
   "source": [
    "## One at a time"
   ]
  },
  {
   "cell_type": "code",
   "execution_count": null,
   "metadata": {},
   "outputs": [],
   "source": [
    "def compute_likes_hyper(ns, ks):\n",
    "    shape = ns.shape + mus.shape + logetas.shape\n",
    "    likes_hyper = np.empty(shape)\n",
    "    \n",
    "    for i, data in enumerate(zip(ns, ks)):\n",
    "        print(data)\n",
    "        n, k = data\n",
    "        like_x = binom.pmf(k, n, xs)\n",
    "        posterior = betapdf * like_x\n",
    "        likes_hyper[i] = posterior.sum(axis=2)\n",
    "        print(likes_hyper[i].sum())\n",
    "    return likes_hyper"
   ]
  },
  {
   "cell_type": "code",
   "execution_count": null,
   "metadata": {},
   "outputs": [],
   "source": [
    "%time likes_hyper = compute_likes_hyper(data_ns, data_ks)"
   ]
  },
  {
   "cell_type": "code",
   "execution_count": null,
   "metadata": {},
   "outputs": [],
   "source": [
    "likes_hyper.sum()"
   ]
  },
  {
   "cell_type": "code",
   "execution_count": null,
   "metadata": {},
   "outputs": [],
   "source": [
    "like_hyper_all = likes_hyper.prod(axis=0)\n",
    "like_hyper_all.sum()"
   ]
  },
  {
   "cell_type": "code",
   "execution_count": null,
   "metadata": {},
   "outputs": [],
   "source": [
    "plot_contour(pd.DataFrame(like_hyper_all, \n",
    "                          index=mus, \n",
    "                          columns=logetas))\n",
    "decorate(title=\"Likelihood of mu and eta\")"
   ]
  },
  {
   "cell_type": "code",
   "execution_count": null,
   "metadata": {},
   "outputs": [],
   "source": [
    "posterior_hyper_all = prior_hyper * like_hyper_all\n",
    "posterior_hyper_all /= posterior_hyper_all.sum()\n",
    "\n",
    "np.allclose(posterior_hyper_all, posterior_hyper)"
   ]
  },
  {
   "cell_type": "code",
   "execution_count": null,
   "metadata": {},
   "outputs": [],
   "source": [
    "marginal_mu2 = Pmf(posterior_hyper_all.sum(axis=1), mus)\n",
    "marginal_mu2.make_cdf().plot()\n",
    "marginal_mu.make_cdf().plot()\n",
    "np.allclose(marginal_mu, marginal_mu2)"
   ]
  },
  {
   "cell_type": "code",
   "execution_count": null,
   "metadata": {},
   "outputs": [],
   "source": [
    "marginal_eta2 = Pmf(posterior_hyper_all.sum(axis=0), logetas)\n",
    "marginal_eta2.make_cdf().plot()\n",
    "marginal_eta.make_cdf().plot()\n",
    "np.allclose(marginal_eta, marginal_eta2)"
   ]
  },
  {
   "cell_type": "code",
   "execution_count": null,
   "metadata": {},
   "outputs": [],
   "source": [
    "plot_contour(pd.DataFrame(posterior_hyper_all, \n",
    "                          index=mus, \n",
    "                          columns=logetas))\n",
    "decorate(title=\"Joint posterior of mu and eta\")"
   ]
  },
  {
   "cell_type": "code",
   "execution_count": null,
   "metadata": {},
   "outputs": [],
   "source": [
    "i = 3\n",
    "data = data_ns[i], data_ks[i]\n",
    "data"
   ]
  },
  {
   "cell_type": "code",
   "execution_count": null,
   "metadata": {},
   "outputs": [],
   "source": [
    "hyper_i = prior_hyper * like_hyper_all / likes_hyper[i]\n",
    "hyper_i.sum()"
   ]
  },
  {
   "cell_type": "code",
   "execution_count": null,
   "metadata": {},
   "outputs": [],
   "source": [
    "prior_i = make_prior(hyper_i) "
   ]
  },
  {
   "cell_type": "code",
   "execution_count": null,
   "metadata": {},
   "outputs": [],
   "source": [
    "posterior_i = update(prior_i, data)"
   ]
  },
  {
   "cell_type": "code",
   "execution_count": null,
   "metadata": {},
   "outputs": [],
   "source": [
    "Pmf(marginal(posterior_i, 0), mus).make_cdf().plot()\n",
    "marginal_mu.make_cdf().plot()"
   ]
  },
  {
   "cell_type": "code",
   "execution_count": null,
   "metadata": {},
   "outputs": [],
   "source": [
    "Pmf(marginal(posterior_i, 1), logetas).make_cdf().plot()\n",
    "marginal_eta.make_cdf().plot()"
   ]
  },
  {
   "cell_type": "code",
   "execution_count": null,
   "metadata": {},
   "outputs": [],
   "source": [
    "marginal_mu = Pmf(marginal(posterior_i, 0), mus)\n",
    "marginal_eta = Pmf(marginal(posterior_i, 1), logetas)\n",
    "marginal_x = Pmf(marginal(posterior_i, 2), xs)"
   ]
  },
  {
   "cell_type": "code",
   "execution_count": null,
   "metadata": {},
   "outputs": [],
   "source": [
    "compare_cdf(marginal_mu, trace['mu'])"
   ]
  },
  {
   "cell_type": "code",
   "execution_count": null,
   "metadata": {},
   "outputs": [],
   "source": [
    "compare_cdf(marginal_eta, trace['eta'])"
   ]
  },
  {
   "cell_type": "code",
   "execution_count": null,
   "metadata": {},
   "outputs": [],
   "source": [
    "compare_cdf(marginal_x, trace_xs[i])"
   ]
  },
  {
   "cell_type": "code",
   "execution_count": null,
   "metadata": {},
   "outputs": [],
   "source": []
  },
  {
   "cell_type": "code",
   "execution_count": null,
   "metadata": {},
   "outputs": [],
   "source": [
    "def compute_all_marginals(ns, ks):\n",
    "    prior = prior_hyper * like_hyper_all\n",
    "    \n",
    "    for i, data in enumerate(zip(ns, ks)):\n",
    "        print(data)\n",
    "        n, k = data\n",
    "        hyper_i = prior / likes_hyper[i]\n",
    "        prior_i = make_prior(hyper_i) \n",
    "        posterior_i = update(prior_i, data)\n",
    "        marginal_x = Pmf(marginal(posterior_i, 2), xs)\n",
    "        marginal_x.make_cdf().plot()"
   ]
  },
  {
   "cell_type": "code",
   "execution_count": null,
   "metadata": {},
   "outputs": [],
   "source": [
    "%time compute_all_marginals(data_ns, data_ks)"
   ]
  },
  {
   "cell_type": "code",
   "execution_count": null,
   "metadata": {},
   "outputs": [],
   "source": []
  },
  {
   "cell_type": "code",
   "execution_count": null,
   "metadata": {},
   "outputs": [],
   "source": []
  }
 ],
 "metadata": {
  "celltoolbar": "Tags",
  "kernelspec": {
   "display_name": "Python 3 (ipykernel)",
   "language": "python",
   "name": "python3"
  },
  "language_info": {
   "codemirror_mode": {
    "name": "ipython",
    "version": 3
   },
   "file_extension": ".py",
   "mimetype": "text/x-python",
   "name": "python",
   "nbconvert_exporter": "python",
   "pygments_lexer": "ipython3",
   "version": "3.9.7"
  }
 },
 "nbformat": 4,
 "nbformat_minor": 4
}
