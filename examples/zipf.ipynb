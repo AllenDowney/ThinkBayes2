{
 "cells": [
  {
   "cell_type": "markdown",
   "metadata": {},
   "source": [
    "You can order print and ebook versions of *Think Bayes 2e* from\n",
    "[Bookshop.org](https://bookshop.org/a/98697/9781492089469) and\n",
    "[Amazon](https://amzn.to/334eqGo)."
   ]
  },
  {
   "cell_type": "markdown",
   "metadata": {},
   "source": [
    "# What's a chartist?\n",
    "\n",
    "Recently I heard the word \"chartist\" for the first time in my life (that I recall).\n",
    "And then later the same day, I heard it again.\n",
    "So that raises two questions:\n",
    "\n",
    "* What are the chances of going 57 years without hearing a word, and then hearing it twice in one day?\n",
    "\n",
    "* Also, what's a chartist?\n",
    "\n",
    "To answer the second question first, it's someone who supported chartism, which was \"a working-class movement for political reform in the United Kingdom that erupted from 1838 to 1857\", quoth [Wikipedia](https://en.wikipedia.org/wiki/Chartism).  The name comes from the People's Charter of 1838, which called for voting rights for unpropertied men.\n",
    "\n",
    "To answer the first question, we'll do some Bayesian statistics.\n",
    "My solution is based on a model that's not very realistic, so we should not take the result too seriously.\n",
    "But it demonstrates some interesting methods, I think -- and as you'll see, there is a connection to Zipf's law, [which I wrote about last week](https://www.allendowney.com/blog/2024/11/10/zipfs-law/)."
   ]
  },
  {
   "cell_type": "code",
   "execution_count": 251,
   "metadata": {},
   "outputs": [
    {
     "data": {
      "application/javascript": [
       "\n",
       "            setTimeout(function() {\n",
       "                var nbb_cell_id = 251;\n",
       "                var nbb_unformatted_code = \"%load_ext nb_black\";\n",
       "                var nbb_formatted_code = \"%load_ext nb_black\";\n",
       "                var nbb_cells = Jupyter.notebook.get_cells();\n",
       "                for (var i = 0; i < nbb_cells.length; ++i) {\n",
       "                    if (nbb_cells[i].input_prompt_number == nbb_cell_id) {\n",
       "                        if (nbb_cells[i].get_text() == nbb_unformatted_code) {\n",
       "                             nbb_cells[i].set_text(nbb_formatted_code);\n",
       "                        }\n",
       "                        break;\n",
       "                    }\n",
       "                }\n",
       "            }, 500);\n",
       "            "
      ],
      "text/plain": [
       "<IPython.core.display.Javascript object>"
      ]
     },
     "metadata": {},
     "output_type": "display_data"
    }
   ],
   "source": [
    "%load_ext nb_black"
   ]
  },
  {
   "cell_type": "code",
   "execution_count": 252,
   "metadata": {},
   "outputs": [
    {
     "data": {
      "application/javascript": [
       "\n",
       "            setTimeout(function() {\n",
       "                var nbb_cell_id = 252;\n",
       "                var nbb_unformatted_code = \"try:\\n    import empiricaldist\\nexcept ImportError:\\n    !pip install empiricaldist\";\n",
       "                var nbb_formatted_code = \"try:\\n    import empiricaldist\\nexcept ImportError:\\n    !pip install empiricaldist\";\n",
       "                var nbb_cells = Jupyter.notebook.get_cells();\n",
       "                for (var i = 0; i < nbb_cells.length; ++i) {\n",
       "                    if (nbb_cells[i].input_prompt_number == nbb_cell_id) {\n",
       "                        if (nbb_cells[i].get_text() == nbb_unformatted_code) {\n",
       "                             nbb_cells[i].set_text(nbb_formatted_code);\n",
       "                        }\n",
       "                        break;\n",
       "                    }\n",
       "                }\n",
       "            }, 500);\n",
       "            "
      ],
      "text/plain": [
       "<IPython.core.display.Javascript object>"
      ]
     },
     "metadata": {},
     "output_type": "display_data"
    }
   ],
   "source": [
    "try:\n",
    "    import empiricaldist\n",
    "except ImportError:\n",
    "    !pip install empiricaldist"
   ]
  },
  {
   "cell_type": "code",
   "execution_count": 253,
   "metadata": {},
   "outputs": [
    {
     "data": {
      "application/javascript": [
       "\n",
       "            setTimeout(function() {\n",
       "                var nbb_cell_id = 253;\n",
       "                var nbb_unformatted_code = \"# download thinkdsp.py\\n\\nfrom os.path import basename, exists\\n\\ndef download(url):\\n    filename = basename(url)\\n    if not exists(filename):\\n        from urllib.request import urlretrieve\\n        local, _ = urlretrieve(url, filename)\\n        print('Downloaded ' + local)\\n        \\ndownload(\\\"https://github.com/AllenDowney/ThinkBayes2/raw/master/soln/utils.py\\\")\";\n",
       "                var nbb_formatted_code = \"# download thinkdsp.py\\n\\nfrom os.path import basename, exists\\n\\n\\ndef download(url):\\n    filename = basename(url)\\n    if not exists(filename):\\n        from urllib.request import urlretrieve\\n\\n        local, _ = urlretrieve(url, filename)\\n        print(\\\"Downloaded \\\" + local)\\n\\n\\ndownload(\\\"https://github.com/AllenDowney/ThinkBayes2/raw/master/soln/utils.py\\\")\";\n",
       "                var nbb_cells = Jupyter.notebook.get_cells();\n",
       "                for (var i = 0; i < nbb_cells.length; ++i) {\n",
       "                    if (nbb_cells[i].input_prompt_number == nbb_cell_id) {\n",
       "                        if (nbb_cells[i].get_text() == nbb_unformatted_code) {\n",
       "                             nbb_cells[i].set_text(nbb_formatted_code);\n",
       "                        }\n",
       "                        break;\n",
       "                    }\n",
       "                }\n",
       "            }, 500);\n",
       "            "
      ],
      "text/plain": [
       "<IPython.core.display.Javascript object>"
      ]
     },
     "metadata": {},
     "output_type": "display_data"
    }
   ],
   "source": [
    "# download thinkdsp.py\n",
    "\n",
    "from os.path import basename, exists\n",
    "\n",
    "\n",
    "def download(url):\n",
    "    filename = basename(url)\n",
    "    if not exists(filename):\n",
    "        from urllib.request import urlretrieve\n",
    "\n",
    "        local, _ = urlretrieve(url, filename)\n",
    "        print(\"Downloaded \" + local)\n",
    "\n",
    "\n",
    "download(\"https://github.com/AllenDowney/ThinkBayes2/raw/master/soln/utils.py\")"
   ]
  },
  {
   "cell_type": "code",
   "execution_count": 254,
   "metadata": {},
   "outputs": [
    {
     "data": {
      "application/javascript": [
       "\n",
       "            setTimeout(function() {\n",
       "                var nbb_cell_id = 254;\n",
       "                var nbb_unformatted_code = \"import numpy as np\\nimport pandas as pd\\nimport matplotlib.pyplot as plt\\n\\nfrom empiricaldist import Pmf\\nfrom utils import decorate\\n\\nplt.rcParams['figure.dpi'] = 75\\nplt.rcParams['figure.figsize'] = [6, 3.5]\";\n",
       "                var nbb_formatted_code = \"import numpy as np\\nimport pandas as pd\\nimport matplotlib.pyplot as plt\\n\\nfrom empiricaldist import Pmf\\nfrom utils import decorate\\n\\nplt.rcParams[\\\"figure.dpi\\\"] = 75\\nplt.rcParams[\\\"figure.figsize\\\"] = [6, 3.5]\";\n",
       "                var nbb_cells = Jupyter.notebook.get_cells();\n",
       "                for (var i = 0; i < nbb_cells.length; ++i) {\n",
       "                    if (nbb_cells[i].input_prompt_number == nbb_cell_id) {\n",
       "                        if (nbb_cells[i].get_text() == nbb_unformatted_code) {\n",
       "                             nbb_cells[i].set_text(nbb_formatted_code);\n",
       "                        }\n",
       "                        break;\n",
       "                    }\n",
       "                }\n",
       "            }, 500);\n",
       "            "
      ],
      "text/plain": [
       "<IPython.core.display.Javascript object>"
      ]
     },
     "metadata": {},
     "output_type": "display_data"
    }
   ],
   "source": [
    "import numpy as np\n",
    "import pandas as pd\n",
    "import matplotlib.pyplot as plt\n",
    "\n",
    "from empiricaldist import Pmf\n",
    "from utils import decorate\n",
    "\n",
    "plt.rcParams[\"figure.dpi\"] = 75\n",
    "plt.rcParams[\"figure.figsize\"] = [6, 3.5]"
   ]
  },
  {
   "cell_type": "markdown",
   "metadata": {},
   "source": [
    "## Word Frequencies\n",
    "\n",
    "If you don't hear a word for more than 50 years, that suggests it is not a common word.\n",
    "We can use Bayes's theorem to quantify this intuition.\n",
    "First we'll compute the posterior distribution of the word's frequency, then the posterior predictive distribution of hearing it again within a day.\n",
    "\n",
    "Because we have only one piece of data -- the time until first appearance -- we'll need a good prior distribution.\n",
    "Which means we'll need a large, good quality sample of English text.\n",
    "For that, I'll use a free sample of the COCA dataset from [CorpusData.org](https://www.corpusdata.org/formats.asp). The following cells download and read the data."
   ]
  },
  {
   "cell_type": "code",
   "execution_count": 255,
   "metadata": {},
   "outputs": [
    {
     "data": {
      "application/javascript": [
       "\n",
       "            setTimeout(function() {\n",
       "                var nbb_cell_id = 255;\n",
       "                var nbb_unformatted_code = \"download('https://www.corpusdata.org/coca/samples/coca-samples-text.zip')\";\n",
       "                var nbb_formatted_code = \"download(\\\"https://www.corpusdata.org/coca/samples/coca-samples-text.zip\\\")\";\n",
       "                var nbb_cells = Jupyter.notebook.get_cells();\n",
       "                for (var i = 0; i < nbb_cells.length; ++i) {\n",
       "                    if (nbb_cells[i].input_prompt_number == nbb_cell_id) {\n",
       "                        if (nbb_cells[i].get_text() == nbb_unformatted_code) {\n",
       "                             nbb_cells[i].set_text(nbb_formatted_code);\n",
       "                        }\n",
       "                        break;\n",
       "                    }\n",
       "                }\n",
       "            }, 500);\n",
       "            "
      ],
      "text/plain": [
       "<IPython.core.display.Javascript object>"
      ]
     },
     "metadata": {},
     "output_type": "display_data"
    }
   ],
   "source": [
    "download(\"https://www.corpusdata.org/coca/samples/coca-samples-text.zip\")"
   ]
  },
  {
   "cell_type": "code",
   "execution_count": 256,
   "metadata": {},
   "outputs": [
    {
     "data": {
      "application/javascript": [
       "\n",
       "            setTimeout(function() {\n",
       "                var nbb_cell_id = 256;\n",
       "                var nbb_unformatted_code = \"import zipfile\\n\\ndef generate_lines(zip_path='coca-samples-text.zip'):\\n    with zipfile.ZipFile(zip_path, 'r') as zip_file:\\n        file_list = zip_file.namelist()\\n        for file_name in file_list:\\n            with zip_file.open(file_name) as file:\\n                lines = file.readlines()\\n                for line in lines:\\n                    yield(line.decode('utf-8'))\";\n",
       "                var nbb_formatted_code = \"import zipfile\\n\\n\\ndef generate_lines(zip_path=\\\"coca-samples-text.zip\\\"):\\n    with zipfile.ZipFile(zip_path, \\\"r\\\") as zip_file:\\n        file_list = zip_file.namelist()\\n        for file_name in file_list:\\n            with zip_file.open(file_name) as file:\\n                lines = file.readlines()\\n                for line in lines:\\n                    yield (line.decode(\\\"utf-8\\\"))\";\n",
       "                var nbb_cells = Jupyter.notebook.get_cells();\n",
       "                for (var i = 0; i < nbb_cells.length; ++i) {\n",
       "                    if (nbb_cells[i].input_prompt_number == nbb_cell_id) {\n",
       "                        if (nbb_cells[i].get_text() == nbb_unformatted_code) {\n",
       "                             nbb_cells[i].set_text(nbb_formatted_code);\n",
       "                        }\n",
       "                        break;\n",
       "                    }\n",
       "                }\n",
       "            }, 500);\n",
       "            "
      ],
      "text/plain": [
       "<IPython.core.display.Javascript object>"
      ]
     },
     "metadata": {},
     "output_type": "display_data"
    }
   ],
   "source": [
    "import zipfile\n",
    "\n",
    "\n",
    "def generate_lines(zip_path=\"coca-samples-text.zip\"):\n",
    "    with zipfile.ZipFile(zip_path, \"r\") as zip_file:\n",
    "        file_list = zip_file.namelist()\n",
    "        for file_name in file_list:\n",
    "            with zip_file.open(file_name) as file:\n",
    "                lines = file.readlines()\n",
    "                for line in lines:\n",
    "                    yield (line.decode(\"utf-8\"))"
   ]
  },
  {
   "cell_type": "markdown",
   "metadata": {},
   "source": [
    "We'll use a `Counter` to count the number of times each word appears."
   ]
  },
  {
   "cell_type": "code",
   "execution_count": 257,
   "metadata": {},
   "outputs": [
    {
     "data": {
      "application/javascript": [
       "\n",
       "            setTimeout(function() {\n",
       "                var nbb_cell_id = 257;\n",
       "                var nbb_unformatted_code = \"import re\\nfrom collections import Counter\\n\\ncounter = Counter()\\n\\npattern = r\\\"[ /\\\\n]+|--\\\"\\n\\nfor line in generate_lines():\\n    words = re.split(pattern, line)[1:]\\n    counter.update(word.lower() for word in words if word)\";\n",
       "                var nbb_formatted_code = \"import re\\nfrom collections import Counter\\n\\ncounter = Counter()\\n\\npattern = r\\\"[ /\\\\n]+|--\\\"\\n\\nfor line in generate_lines():\\n    words = re.split(pattern, line)[1:]\\n    counter.update(word.lower() for word in words if word)\";\n",
       "                var nbb_cells = Jupyter.notebook.get_cells();\n",
       "                for (var i = 0; i < nbb_cells.length; ++i) {\n",
       "                    if (nbb_cells[i].input_prompt_number == nbb_cell_id) {\n",
       "                        if (nbb_cells[i].get_text() == nbb_unformatted_code) {\n",
       "                             nbb_cells[i].set_text(nbb_formatted_code);\n",
       "                        }\n",
       "                        break;\n",
       "                    }\n",
       "                }\n",
       "            }, 500);\n",
       "            "
      ],
      "text/plain": [
       "<IPython.core.display.Javascript object>"
      ]
     },
     "metadata": {},
     "output_type": "display_data"
    }
   ],
   "source": [
    "import re\n",
    "from collections import Counter\n",
    "\n",
    "counter = Counter()\n",
    "\n",
    "pattern = r\"[ /\\n]+|--\"\n",
    "\n",
    "for line in generate_lines():\n",
    "    words = re.split(pattern, line)[1:]\n",
    "    counter.update(word.lower() for word in words if word)"
   ]
  },
  {
   "cell_type": "markdown",
   "metadata": {},
   "source": [
    "The dataset includes more than 190,000 unique strings, but not all of them are what we would consider words."
   ]
  },
  {
   "cell_type": "code",
   "execution_count": 258,
   "metadata": {},
   "outputs": [
    {
     "data": {
      "text/plain": [
       "(188086, 11503819)"
      ]
     },
     "execution_count": 258,
     "metadata": {},
     "output_type": "execute_result"
    },
    {
     "data": {
      "application/javascript": [
       "\n",
       "            setTimeout(function() {\n",
       "                var nbb_cell_id = 258;\n",
       "                var nbb_unformatted_code = \"num_words = counter.total()\\nlen(counter), num_words\";\n",
       "                var nbb_formatted_code = \"num_words = counter.total()\\nlen(counter), num_words\";\n",
       "                var nbb_cells = Jupyter.notebook.get_cells();\n",
       "                for (var i = 0; i < nbb_cells.length; ++i) {\n",
       "                    if (nbb_cells[i].input_prompt_number == nbb_cell_id) {\n",
       "                        if (nbb_cells[i].get_text() == nbb_unformatted_code) {\n",
       "                             nbb_cells[i].set_text(nbb_formatted_code);\n",
       "                        }\n",
       "                        break;\n",
       "                    }\n",
       "                }\n",
       "            }, 500);\n",
       "            "
      ],
      "text/plain": [
       "<IPython.core.display.Javascript object>"
      ]
     },
     "metadata": {},
     "output_type": "display_data"
    }
   ],
   "source": [
    "num_words = counter.total()\n",
    "len(counter), num_words"
   ]
  },
  {
   "cell_type": "markdown",
   "metadata": {},
   "source": [
    "To narrow it down, I'll remove anything that starts or ends with a non-alphabetical character -- so hyphens and apostrophes are allowed in the middle of a word."
   ]
  },
  {
   "cell_type": "code",
   "execution_count": 259,
   "metadata": {},
   "outputs": [
    {
     "data": {
      "application/javascript": [
       "\n",
       "            setTimeout(function() {\n",
       "                var nbb_cell_id = 259;\n",
       "                var nbb_unformatted_code = \"for s in list(counter.keys()):\\n    if not s[0].isalpha() or not s[-1].isalpha():\\n        del counter[s]\";\n",
       "                var nbb_formatted_code = \"for s in list(counter.keys()):\\n    if not s[0].isalpha() or not s[-1].isalpha():\\n        del counter[s]\";\n",
       "                var nbb_cells = Jupyter.notebook.get_cells();\n",
       "                for (var i = 0; i < nbb_cells.length; ++i) {\n",
       "                    if (nbb_cells[i].input_prompt_number == nbb_cell_id) {\n",
       "                        if (nbb_cells[i].get_text() == nbb_unformatted_code) {\n",
       "                             nbb_cells[i].set_text(nbb_formatted_code);\n",
       "                        }\n",
       "                        break;\n",
       "                    }\n",
       "                }\n",
       "            }, 500);\n",
       "            "
      ],
      "text/plain": [
       "<IPython.core.display.Javascript object>"
      ]
     },
     "metadata": {},
     "output_type": "display_data"
    }
   ],
   "source": [
    "for s in list(counter.keys()):\n",
    "    if not s[0].isalpha() or not s[-1].isalpha():\n",
    "        del counter[s]"
   ]
  },
  {
   "cell_type": "markdown",
   "metadata": {},
   "source": [
    "This filter reduces the number of unique words to about 154,000."
   ]
  },
  {
   "cell_type": "code",
   "execution_count": 260,
   "metadata": {},
   "outputs": [
    {
     "data": {
      "text/plain": [
       "(151414, 8889694)"
      ]
     },
     "execution_count": 260,
     "metadata": {},
     "output_type": "execute_result"
    },
    {
     "data": {
      "application/javascript": [
       "\n",
       "            setTimeout(function() {\n",
       "                var nbb_cell_id = 260;\n",
       "                var nbb_unformatted_code = \"num_words = counter.total()\\nlen(counter), num_words\";\n",
       "                var nbb_formatted_code = \"num_words = counter.total()\\nlen(counter), num_words\";\n",
       "                var nbb_cells = Jupyter.notebook.get_cells();\n",
       "                for (var i = 0; i < nbb_cells.length; ++i) {\n",
       "                    if (nbb_cells[i].input_prompt_number == nbb_cell_id) {\n",
       "                        if (nbb_cells[i].get_text() == nbb_unformatted_code) {\n",
       "                             nbb_cells[i].set_text(nbb_formatted_code);\n",
       "                        }\n",
       "                        break;\n",
       "                    }\n",
       "                }\n",
       "            }, 500);\n",
       "            "
      ],
      "text/plain": [
       "<IPython.core.display.Javascript object>"
      ]
     },
     "metadata": {},
     "output_type": "display_data"
    }
   ],
   "source": [
    "num_words = counter.total()\n",
    "len(counter), num_words"
   ]
  },
  {
   "cell_type": "markdown",
   "metadata": {},
   "source": [
    "The most common words are what you would expect, with the exception of \"n't\", which is there because the COCA corpus treats it as a separate word."
   ]
  },
  {
   "cell_type": "code",
   "execution_count": 261,
   "metadata": {},
   "outputs": [
    {
     "data": {
      "text/plain": [
       "[('the', 461991),\n",
       " ('to', 237929),\n",
       " ('and', 231459),\n",
       " ('of', 217363),\n",
       " ('a', 203302),\n",
       " ('in', 153323),\n",
       " ('i', 137931),\n",
       " ('that', 123818),\n",
       " ('you', 109635),\n",
       " ('it', 103712),\n",
       " ('is', 93996),\n",
       " ('for', 78755),\n",
       " ('on', 64869),\n",
       " ('was', 64388),\n",
       " ('with', 59724),\n",
       " ('he', 57684),\n",
       " ('this', 51879),\n",
       " ('as', 51202),\n",
       " (\"n't\", 49291),\n",
       " ('we', 47694)]"
      ]
     },
     "execution_count": 261,
     "metadata": {},
     "output_type": "execute_result"
    },
    {
     "data": {
      "application/javascript": [
       "\n",
       "            setTimeout(function() {\n",
       "                var nbb_cell_id = 261;\n",
       "                var nbb_unformatted_code = \"counter.most_common(20)\";\n",
       "                var nbb_formatted_code = \"counter.most_common(20)\";\n",
       "                var nbb_cells = Jupyter.notebook.get_cells();\n",
       "                for (var i = 0; i < nbb_cells.length; ++i) {\n",
       "                    if (nbb_cells[i].input_prompt_number == nbb_cell_id) {\n",
       "                        if (nbb_cells[i].get_text() == nbb_unformatted_code) {\n",
       "                             nbb_cells[i].set_text(nbb_formatted_code);\n",
       "                        }\n",
       "                        break;\n",
       "                    }\n",
       "                }\n",
       "            }, 500);\n",
       "            "
      ],
      "text/plain": [
       "<IPython.core.display.Javascript object>"
      ]
     },
     "metadata": {},
     "output_type": "display_data"
    }
   ],
   "source": [
    "counter.most_common(20)"
   ]
  },
  {
   "cell_type": "markdown",
   "metadata": {},
   "source": [
    "There are about 72,000 words that only appear once in the corpus, technically known as [hapax legomena](https://en.wikipedia.org/wiki/Hapax_legomenon)."
   ]
  },
  {
   "cell_type": "code",
   "execution_count": 322,
   "metadata": {},
   "outputs": [
    {
     "data": {
      "text/plain": [
       "(72159, 0.811715228893143)"
      ]
     },
     "execution_count": 322,
     "metadata": {},
     "output_type": "execute_result"
    },
    {
     "data": {
      "application/javascript": [
       "\n",
       "            setTimeout(function() {\n",
       "                var nbb_cell_id = 322;\n",
       "                var nbb_unformatted_code = \"singletons = [word for (word, freq) in counter.items() if freq == 1]\\nlen(singletons), len(singletons) / counter.total() * 100\";\n",
       "                var nbb_formatted_code = \"singletons = [word for (word, freq) in counter.items() if freq == 1]\\nlen(singletons), len(singletons) / counter.total() * 100\";\n",
       "                var nbb_cells = Jupyter.notebook.get_cells();\n",
       "                for (var i = 0; i < nbb_cells.length; ++i) {\n",
       "                    if (nbb_cells[i].input_prompt_number == nbb_cell_id) {\n",
       "                        if (nbb_cells[i].get_text() == nbb_unformatted_code) {\n",
       "                             nbb_cells[i].set_text(nbb_formatted_code);\n",
       "                        }\n",
       "                        break;\n",
       "                    }\n",
       "                }\n",
       "            }, 500);\n",
       "            "
      ],
      "text/plain": [
       "<IPython.core.display.Javascript object>"
      ]
     },
     "metadata": {},
     "output_type": "display_data"
    }
   ],
   "source": [
    "singletons = [word for (word, freq) in counter.items() if freq == 1]\n",
    "len(singletons), len(singletons) / counter.total() * 100"
   ]
  },
  {
   "cell_type": "markdown",
   "metadata": {},
   "source": [
    "Here's a random selection of them. Many are proper names, typos, or other non-words, but some are legitimate but rare words."
   ]
  },
  {
   "cell_type": "code",
   "execution_count": 263,
   "metadata": {},
   "outputs": [
    {
     "data": {
      "text/plain": [
       "array(['perfact', 'feidhauses', 'laven', 'osmany', 'nnessee', 'baccardi',\n",
       "       'eventuate', 'pagando', 'capsulate', 'r-miami', 'soyrizo',\n",
       "       'narcotic-analgesic', 'phanar', 'midwater', 'chalker', 'fittv',\n",
       "       'diplomatie', 'queso-broccoli', 'session-and', 'caricaturistes',\n",
       "       'reverand', 'mesdames', 'flender', 'synchronistic', 'boom-era',\n",
       "       'litvak', 'skowhegan', 'wailers', 'ambroeus', 'treximet', 'jonell',\n",
       "       'soundwriters', 'pre-oiled', 'brimless', 'meta-billboard',\n",
       "       'leather-strapped', 'ludvigsen', 'half-indian', 'bandmembers',\n",
       "       'pinky-ness', 'pro-marriage-equality', 'bbed', 'sgarlatti',\n",
       "       'flash-free', 'satelitte', 'goheen', 'med-school', 'lune',\n",
       "       'remuddled', 'work-rule', 'seawolf', 'instuments', 'gaudiest',\n",
       "       \"they'lltell\", 'bahrainis', 'deacetylation', 'birth-and-being',\n",
       "       'captionrodeo', 'cropper', 'dry-mounting', 'marijuana-related',\n",
       "       'sidelining', 'forexpros', 'aisa', 'naxos', 'g6pd', 'extirpation',\n",
       "       'colonising', 'faux-relationship', 'peditrician', 'fanboyism',\n",
       "       'fartlek', 'deacetylation', 'shityou', 'undeservedly', 'budman',\n",
       "       'upheaving', 'al-fatwa', 'orange-toothed', 'lehy',\n",
       "       'psychodynamically', 'toys-toys', 'unreason', 'mattatuck',\n",
       "       'decalogue', 'ritcheychrtien', 'silents', 'scythes', 'bothsighing',\n",
       "       'dabbler', 'cyclicals', 'mussed', 'odour', 'skandalakis',\n",
       "       'rayograph', 'boastfulness', 'electro-optical', 'loogierules',\n",
       "       'wows', 'kornberg'], dtype='<U24')"
      ]
     },
     "execution_count": 263,
     "metadata": {},
     "output_type": "execute_result"
    },
    {
     "data": {
      "application/javascript": [
       "\n",
       "            setTimeout(function() {\n",
       "                var nbb_cell_id = 263;\n",
       "                var nbb_unformatted_code = \"np.random.choice(singletons, 100)\";\n",
       "                var nbb_formatted_code = \"np.random.choice(singletons, 100)\";\n",
       "                var nbb_cells = Jupyter.notebook.get_cells();\n",
       "                for (var i = 0; i < nbb_cells.length; ++i) {\n",
       "                    if (nbb_cells[i].input_prompt_number == nbb_cell_id) {\n",
       "                        if (nbb_cells[i].get_text() == nbb_unformatted_code) {\n",
       "                             nbb_cells[i].set_text(nbb_formatted_code);\n",
       "                        }\n",
       "                        break;\n",
       "                    }\n",
       "                }\n",
       "            }, 500);\n",
       "            "
      ],
      "text/plain": [
       "<IPython.core.display.Javascript object>"
      ]
     },
     "metadata": {},
     "output_type": "display_data"
    }
   ],
   "source": [
    "np.random.choice(singletons, 100)"
   ]
  },
  {
   "cell_type": "markdown",
   "metadata": {},
   "source": [
    "Now let's see what the distribution of word frequencies looks like."
   ]
  },
  {
   "cell_type": "markdown",
   "metadata": {},
   "source": [
    "## Zipf's Law\n",
    "\n",
    "One way to visualize the distribution is a Zipf plot, which shows the ranks on the x-axis and the frequencies on the y-axis."
   ]
  },
  {
   "cell_type": "code",
   "execution_count": 331,
   "metadata": {},
   "outputs": [
    {
     "data": {
      "application/javascript": [
       "\n",
       "            setTimeout(function() {\n",
       "                var nbb_cell_id = 331;\n",
       "                var nbb_unformatted_code = \"freqs = sorted(counter.values(), reverse=True)\";\n",
       "                var nbb_formatted_code = \"freqs = sorted(counter.values(), reverse=True)\";\n",
       "                var nbb_cells = Jupyter.notebook.get_cells();\n",
       "                for (var i = 0; i < nbb_cells.length; ++i) {\n",
       "                    if (nbb_cells[i].input_prompt_number == nbb_cell_id) {\n",
       "                        if (nbb_cells[i].get_text() == nbb_unformatted_code) {\n",
       "                             nbb_cells[i].set_text(nbb_formatted_code);\n",
       "                        }\n",
       "                        break;\n",
       "                    }\n",
       "                }\n",
       "            }, 500);\n",
       "            "
      ],
      "text/plain": [
       "<IPython.core.display.Javascript object>"
      ]
     },
     "metadata": {},
     "output_type": "display_data"
    }
   ],
   "source": [
    "freqs = sorted(counter.values(), reverse=True)"
   ]
  },
  {
   "cell_type": "code",
   "execution_count": 332,
   "metadata": {},
   "outputs": [
    {
     "data": {
      "application/javascript": [
       "\n",
       "            setTimeout(function() {\n",
       "                var nbb_cell_id = 332;\n",
       "                var nbb_unformatted_code = \"n = len(freqs)\\nranks = range(1, n + 1)\";\n",
       "                var nbb_formatted_code = \"n = len(freqs)\\nranks = range(1, n + 1)\";\n",
       "                var nbb_cells = Jupyter.notebook.get_cells();\n",
       "                for (var i = 0; i < nbb_cells.length; ++i) {\n",
       "                    if (nbb_cells[i].input_prompt_number == nbb_cell_id) {\n",
       "                        if (nbb_cells[i].get_text() == nbb_unformatted_code) {\n",
       "                             nbb_cells[i].set_text(nbb_formatted_code);\n",
       "                        }\n",
       "                        break;\n",
       "                    }\n",
       "                }\n",
       "            }, 500);\n",
       "            "
      ],
      "text/plain": [
       "<IPython.core.display.Javascript object>"
      ]
     },
     "metadata": {},
     "output_type": "display_data"
    }
   ],
   "source": [
    "n = len(freqs)\n",
    "ranks = range(1, n + 1)"
   ]
  },
  {
   "cell_type": "markdown",
   "metadata": {},
   "source": [
    "Here's what it looks like on a log-log scale."
   ]
  },
  {
   "cell_type": "code",
   "execution_count": 333,
   "metadata": {},
   "outputs": [
    {
     "data": {
      "image/png": "[encoded data removed]",
      "text/plain": [
       "<Figure size 450x262.5 with 1 Axes>"
      ]
     },
     "metadata": {},
     "output_type": "display_data"
    },
    {
     "data": {
      "application/javascript": [
       "\n",
       "            setTimeout(function() {\n",
       "                var nbb_cell_id = 333;\n",
       "                var nbb_unformatted_code = \"plt.plot(ranks, freqs)\\n\\ndecorate(\\n    title=\\\"Zipf plot\\\", xlabel=\\\"Rank\\\", ylabel=\\\"Frequency\\\", xscale=\\\"log\\\", yscale=\\\"log\\\"\\n)\";\n",
       "                var nbb_formatted_code = \"plt.plot(ranks, freqs)\\n\\ndecorate(\\n    title=\\\"Zipf plot\\\", xlabel=\\\"Rank\\\", ylabel=\\\"Frequency\\\", xscale=\\\"log\\\", yscale=\\\"log\\\"\\n)\";\n",
       "                var nbb_cells = Jupyter.notebook.get_cells();\n",
       "                for (var i = 0; i < nbb_cells.length; ++i) {\n",
       "                    if (nbb_cells[i].input_prompt_number == nbb_cell_id) {\n",
       "                        if (nbb_cells[i].get_text() == nbb_unformatted_code) {\n",
       "                             nbb_cells[i].set_text(nbb_formatted_code);\n",
       "                        }\n",
       "                        break;\n",
       "                    }\n",
       "                }\n",
       "            }, 500);\n",
       "            "
      ],
      "text/plain": [
       "<IPython.core.display.Javascript object>"
      ]
     },
     "metadata": {},
     "output_type": "display_data"
    }
   ],
   "source": [
    "plt.plot(ranks, freqs)\n",
    "\n",
    "decorate(\n",
    "    title=\"Zipf plot\", xlabel=\"Rank\", ylabel=\"Frequency\", xscale=\"log\", yscale=\"log\"\n",
    ")"
   ]
  },
  {
   "cell_type": "markdown",
   "metadata": {},
   "source": [
    "Zipf's law suggest that the result should be a straight line with slope close to -1.\n",
    "It's not exactly a straight line, but it's close, and the slope is about -1.1."
   ]
  },
  {
   "cell_type": "code",
   "execution_count": 334,
   "metadata": {},
   "outputs": [
    {
     "data": {
      "text/plain": [
       "-5.664633515191604"
      ]
     },
     "execution_count": 334,
     "metadata": {},
     "output_type": "execute_result"
    },
    {
     "data": {
      "application/javascript": [
       "\n",
       "            setTimeout(function() {\n",
       "                var nbb_cell_id = 334;\n",
       "                var nbb_unformatted_code = \"rise = np.log10(freqs[-1]) - np.log10(freqs[0])\\nrise\";\n",
       "                var nbb_formatted_code = \"rise = np.log10(freqs[-1]) - np.log10(freqs[0])\\nrise\";\n",
       "                var nbb_cells = Jupyter.notebook.get_cells();\n",
       "                for (var i = 0; i < nbb_cells.length; ++i) {\n",
       "                    if (nbb_cells[i].input_prompt_number == nbb_cell_id) {\n",
       "                        if (nbb_cells[i].get_text() == nbb_unformatted_code) {\n",
       "                             nbb_cells[i].set_text(nbb_formatted_code);\n",
       "                        }\n",
       "                        break;\n",
       "                    }\n",
       "                }\n",
       "            }, 500);\n",
       "            "
      ],
      "text/plain": [
       "<IPython.core.display.Javascript object>"
      ]
     },
     "metadata": {},
     "output_type": "display_data"
    }
   ],
   "source": [
    "rise = np.log10(freqs[-1]) - np.log10(freqs[0])\n",
    "rise"
   ]
  },
  {
   "cell_type": "code",
   "execution_count": 335,
   "metadata": {},
   "outputs": [
    {
     "data": {
      "text/plain": [
       "5.180166032638616"
      ]
     },
     "execution_count": 335,
     "metadata": {},
     "output_type": "execute_result"
    },
    {
     "data": {
      "application/javascript": [
       "\n",
       "            setTimeout(function() {\n",
       "                var nbb_cell_id = 335;\n",
       "                var nbb_unformatted_code = \"run = np.log10(ranks[-1]) - np.log10(ranks[0])\\nrun\";\n",
       "                var nbb_formatted_code = \"run = np.log10(ranks[-1]) - np.log10(ranks[0])\\nrun\";\n",
       "                var nbb_cells = Jupyter.notebook.get_cells();\n",
       "                for (var i = 0; i < nbb_cells.length; ++i) {\n",
       "                    if (nbb_cells[i].input_prompt_number == nbb_cell_id) {\n",
       "                        if (nbb_cells[i].get_text() == nbb_unformatted_code) {\n",
       "                             nbb_cells[i].set_text(nbb_formatted_code);\n",
       "                        }\n",
       "                        break;\n",
       "                    }\n",
       "                }\n",
       "            }, 500);\n",
       "            "
      ],
      "text/plain": [
       "<IPython.core.display.Javascript object>"
      ]
     },
     "metadata": {},
     "output_type": "display_data"
    }
   ],
   "source": [
    "run = np.log10(ranks[-1]) - np.log10(ranks[0])\n",
    "run"
   ]
  },
  {
   "cell_type": "code",
   "execution_count": 336,
   "metadata": {},
   "outputs": [
    {
     "data": {
      "text/plain": [
       "-1.0935235433575892"
      ]
     },
     "execution_count": 336,
     "metadata": {},
     "output_type": "execute_result"
    },
    {
     "data": {
      "application/javascript": [
       "\n",
       "            setTimeout(function() {\n",
       "                var nbb_cell_id = 336;\n",
       "                var nbb_unformatted_code = \"rise / run\";\n",
       "                var nbb_formatted_code = \"rise / run\";\n",
       "                var nbb_cells = Jupyter.notebook.get_cells();\n",
       "                for (var i = 0; i < nbb_cells.length; ++i) {\n",
       "                    if (nbb_cells[i].input_prompt_number == nbb_cell_id) {\n",
       "                        if (nbb_cells[i].get_text() == nbb_unformatted_code) {\n",
       "                             nbb_cells[i].set_text(nbb_formatted_code);\n",
       "                        }\n",
       "                        break;\n",
       "                    }\n",
       "                }\n",
       "            }, 500);\n",
       "            "
      ],
      "text/plain": [
       "<IPython.core.display.Javascript object>"
      ]
     },
     "metadata": {},
     "output_type": "display_data"
    }
   ],
   "source": [
    "rise / run"
   ]
  },
  {
   "cell_type": "markdown",
   "metadata": {},
   "source": [
    "The Zipf plot is a well-known visual representation of the distribution of frequencies, but for the current problem, we'll switch to a different representation."
   ]
  },
  {
   "cell_type": "markdown",
   "metadata": {},
   "source": [
    "## Tail Distribution\n",
    "\n",
    "Given the number of times each word appear in the corpus, we can compute the rates, which is the number of times we expect each word to appear in a sample of a given size, and the inverse rates, which are the number of words we need to see before we expect a given word to appear.\n",
    "\n",
    "We will find it most convenient to work with the distribution of inverse rates on a log scale.\n",
    "Here are the inverse rates:"
   ]
  },
  {
   "cell_type": "code",
   "execution_count": 267,
   "metadata": {},
   "outputs": [
    {
     "data": {
      "application/javascript": [
       "\n",
       "            setTimeout(function() {\n",
       "                var nbb_cell_id = 267;\n",
       "                var nbb_unformatted_code = \"def describe(seq):\\n    return pd.Series(seq).describe()\";\n",
       "                var nbb_formatted_code = \"def describe(seq):\\n    return pd.Series(seq).describe()\";\n",
       "                var nbb_cells = Jupyter.notebook.get_cells();\n",
       "                for (var i = 0; i < nbb_cells.length; ++i) {\n",
       "                    if (nbb_cells[i].input_prompt_number == nbb_cell_id) {\n",
       "                        if (nbb_cells[i].get_text() == nbb_unformatted_code) {\n",
       "                             nbb_cells[i].set_text(nbb_formatted_code);\n",
       "                        }\n",
       "                        break;\n",
       "                    }\n",
       "                }\n",
       "            }, 500);\n",
       "            "
      ],
      "text/plain": [
       "<IPython.core.display.Javascript object>"
      ]
     },
     "metadata": {},
     "output_type": "display_data"
    }
   ],
   "source": [
    "def describe(seq):\n",
    "    return pd.Series(seq).describe()"
   ]
  },
  {
   "cell_type": "code",
   "execution_count": 268,
   "metadata": {},
   "outputs": [
    {
     "data": {
      "text/plain": [
       "count    151414.000000\n",
       "mean          6.604409\n",
       "std         221.228503\n",
       "min           0.112490\n",
       "25%           0.112490\n",
       "50%           0.224980\n",
       "75%           0.674939\n",
       "max       51969.280382\n",
       "dtype: float64"
      ]
     },
     "execution_count": 268,
     "metadata": {},
     "output_type": "execute_result"
    },
    {
     "data": {
      "application/javascript": [
       "\n",
       "            setTimeout(function() {\n",
       "                var nbb_cell_id = 268;\n",
       "                var nbb_unformatted_code = \"n = counter.total()\\nrates = np.array(freqs) / n\\ninverse_rate = 1 / rates\\ndescribe(inverse_rates)\";\n",
       "                var nbb_formatted_code = \"n = counter.total()\\nrates = np.array(freqs) / n\\ninverse_rate = 1 / rates\\ndescribe(inverse_rates)\";\n",
       "                var nbb_cells = Jupyter.notebook.get_cells();\n",
       "                for (var i = 0; i < nbb_cells.length; ++i) {\n",
       "                    if (nbb_cells[i].input_prompt_number == nbb_cell_id) {\n",
       "                        if (nbb_cells[i].get_text() == nbb_unformatted_code) {\n",
       "                             nbb_cells[i].set_text(nbb_formatted_code);\n",
       "                        }\n",
       "                        break;\n",
       "                    }\n",
       "                }\n",
       "            }, 500);\n",
       "            "
      ],
      "text/plain": [
       "<IPython.core.display.Javascript object>"
      ]
     },
     "metadata": {},
     "output_type": "display_data"
    }
   ],
   "source": [
    "n = counter.total()\n",
    "rates = np.array(freqs) / n\n",
    "inverse_rate = 1 / rates\n",
    "describe(inverse_rates)"
   ]
  },
  {
   "cell_type": "markdown",
   "metadata": {},
   "source": [
    "And here are their magnitudes, expressed as logarithms base 10."
   ]
  },
  {
   "cell_type": "code",
   "execution_count": 278,
   "metadata": {},
   "outputs": [
    {
     "data": {
      "text/plain": [
       "count    151414.000000\n",
       "mean          6.341648\n",
       "std           0.673543\n",
       "min           1.285082\n",
       "25%           6.062383\n",
       "50%           6.456414\n",
       "75%           6.758455\n",
       "max           9.275781\n",
       "dtype: float64"
      ]
     },
     "execution_count": 278,
     "metadata": {},
     "output_type": "execute_result"
    },
    {
     "data": {
      "application/javascript": [
       "\n",
       "            setTimeout(function() {\n",
       "                var nbb_cell_id = 278;\n",
       "                var nbb_unformatted_code = \"mags = np.log10(inverse_rates)\\ndescribe(mags)\";\n",
       "                var nbb_formatted_code = \"mags = np.log10(inverse_rates)\\ndescribe(mags)\";\n",
       "                var nbb_cells = Jupyter.notebook.get_cells();\n",
       "                for (var i = 0; i < nbb_cells.length; ++i) {\n",
       "                    if (nbb_cells[i].input_prompt_number == nbb_cell_id) {\n",
       "                        if (nbb_cells[i].get_text() == nbb_unformatted_code) {\n",
       "                             nbb_cells[i].set_text(nbb_formatted_code);\n",
       "                        }\n",
       "                        break;\n",
       "                    }\n",
       "                }\n",
       "            }, 500);\n",
       "            "
      ],
      "text/plain": [
       "<IPython.core.display.Javascript object>"
      ]
     },
     "metadata": {},
     "output_type": "display_data"
    }
   ],
   "source": [
    "mags = np.log10(inverse_rates)\n",
    "describe(mags)"
   ]
  },
  {
   "cell_type": "markdown",
   "metadata": {},
   "source": [
    "From the `empiricaldist` library, we'll use the `Surv` object, which represents survival functions, but we'll use a variation of the survival function which is the probability that a randomly-chosen value is greater than or equal to a given quantity.\n",
    "The following function computes this version of a survival function, which is called a tail probability."
   ]
  },
  {
   "cell_type": "code",
   "execution_count": 279,
   "metadata": {},
   "outputs": [
    {
     "data": {
      "application/javascript": [
       "\n",
       "            setTimeout(function() {\n",
       "                var nbb_cell_id = 279;\n",
       "                var nbb_unformatted_code = \"from empiricaldist import Surv\\n\\n\\ndef make_surv(seq):\\n    \\\"\\\"\\\"Make a non-standard survival function, P(X>=x)\\\"\\\"\\\"\\n    pmf = Pmf.from_seq(seq)\\n    surv = pmf.make_surv() + pmf\\n\\n    # correct for numerical error\\n    surv.iloc[0] = 1\\n    return Surv(surv)\";\n",
       "                var nbb_formatted_code = \"from empiricaldist import Surv\\n\\n\\ndef make_surv(seq):\\n    \\\"\\\"\\\"Make a non-standard survival function, P(X>=x)\\\"\\\"\\\"\\n    pmf = Pmf.from_seq(seq)\\n    surv = pmf.make_surv() + pmf\\n\\n    # correct for numerical error\\n    surv.iloc[0] = 1\\n    return Surv(surv)\";\n",
       "                var nbb_cells = Jupyter.notebook.get_cells();\n",
       "                for (var i = 0; i < nbb_cells.length; ++i) {\n",
       "                    if (nbb_cells[i].input_prompt_number == nbb_cell_id) {\n",
       "                        if (nbb_cells[i].get_text() == nbb_unformatted_code) {\n",
       "                             nbb_cells[i].set_text(nbb_formatted_code);\n",
       "                        }\n",
       "                        break;\n",
       "                    }\n",
       "                }\n",
       "            }, 500);\n",
       "            "
      ],
      "text/plain": [
       "<IPython.core.display.Javascript object>"
      ]
     },
     "metadata": {},
     "output_type": "display_data"
    }
   ],
   "source": [
    "from empiricaldist import Surv\n",
    "\n",
    "\n",
    "def make_surv(seq):\n",
    "    \"\"\"Make a non-standard survival function, P(X>=x)\"\"\"\n",
    "    pmf = Pmf.from_seq(seq)\n",
    "    surv = pmf.make_surv() + pmf\n",
    "\n",
    "    # correct for numerical error\n",
    "    surv.iloc[0] = 1\n",
    "    return Surv(surv)"
   ]
  },
  {
   "cell_type": "markdown",
   "metadata": {},
   "source": [
    "Here's how we make the survival function."
   ]
  },
  {
   "cell_type": "code",
   "execution_count": 318,
   "metadata": {},
   "outputs": [
    {
     "data": {
      "application/javascript": [
       "\n",
       "            setTimeout(function() {\n",
       "                var nbb_cell_id = 318;\n",
       "                var nbb_unformatted_code = \"surv = make_surv(mags)\";\n",
       "                var nbb_formatted_code = \"surv = make_surv(mags)\";\n",
       "                var nbb_cells = Jupyter.notebook.get_cells();\n",
       "                for (var i = 0; i < nbb_cells.length; ++i) {\n",
       "                    if (nbb_cells[i].input_prompt_number == nbb_cell_id) {\n",
       "                        if (nbb_cells[i].get_text() == nbb_unformatted_code) {\n",
       "                             nbb_cells[i].set_text(nbb_formatted_code);\n",
       "                        }\n",
       "                        break;\n",
       "                    }\n",
       "                }\n",
       "            }, 500);\n",
       "            "
      ],
      "text/plain": [
       "<IPython.core.display.Javascript object>"
      ]
     },
     "metadata": {},
     "output_type": "display_data"
    }
   ],
   "source": [
    "surv = make_surv(mags)"
   ]
  },
  {
   "cell_type": "markdown",
   "metadata": {},
   "source": [
    "And here's what it looks like."
   ]
  },
  {
   "cell_type": "code",
   "execution_count": 319,
   "metadata": {},
   "outputs": [
    {
     "data": {
      "image/png": "[encoded data removed]",
      "text/plain": [
       "<Figure size 450x262.5 with 1 Axes>"
      ]
     },
     "metadata": {},
     "output_type": "display_data"
    },
    {
     "data": {
      "application/javascript": [
       "\n",
       "            setTimeout(function() {\n",
       "                var nbb_cell_id = 319;\n",
       "                var nbb_unformatted_code = \"surv.plot(marker=\\\".\\\", ms=1, lw=0.2, label=\\\"data\\\")\\ndecorate(xlabel=\\\"Inverse rate (log10 words per appearance)\\\", ylabel=\\\"Tail probability\\\")\";\n",
       "                var nbb_formatted_code = \"surv.plot(marker=\\\".\\\", ms=1, lw=0.2, label=\\\"data\\\")\\ndecorate(xlabel=\\\"Inverse rate (log10 words per appearance)\\\", ylabel=\\\"Tail probability\\\")\";\n",
       "                var nbb_cells = Jupyter.notebook.get_cells();\n",
       "                for (var i = 0; i < nbb_cells.length; ++i) {\n",
       "                    if (nbb_cells[i].input_prompt_number == nbb_cell_id) {\n",
       "                        if (nbb_cells[i].get_text() == nbb_unformatted_code) {\n",
       "                             nbb_cells[i].set_text(nbb_formatted_code);\n",
       "                        }\n",
       "                        break;\n",
       "                    }\n",
       "                }\n",
       "            }, 500);\n",
       "            "
      ],
      "text/plain": [
       "<IPython.core.display.Javascript object>"
      ]
     },
     "metadata": {},
     "output_type": "display_data"
    }
   ],
   "source": [
    "surv.plot(marker=\".\", ms=1, lw=0.2, label=\"data\")\n",
    "decorate(xlabel=\"Inverse rate (log10 words per appearance)\", ylabel=\"Tail probability\")"
   ]
  },
  {
   "cell_type": "markdown",
   "metadata": {},
   "source": [
    "The tail distribution has the sigmoid shape that is characteristic of normal distributions and $t$ distributions, although it is notably asymmetric.\n",
    "\n",
    "And here's what the tail probabilities look like on a log-y scale."
   ]
  },
  {
   "cell_type": "code",
   "execution_count": 320,
   "metadata": {},
   "outputs": [
    {
     "data": {
      "image/png": "[encoded data removed]",
      "text/plain": [
       "<Figure size 450x262.5 with 1 Axes>"
      ]
     },
     "metadata": {},
     "output_type": "display_data"
    },
    {
     "data": {
      "application/javascript": [
       "\n",
       "            setTimeout(function() {\n",
       "                var nbb_cell_id = 320;\n",
       "                var nbb_unformatted_code = \"surv.plot(marker=\\\".\\\", ms=1, lw=0.2, label=\\\"data\\\")\\ndecorate(xlabel=\\\"Inverse rate (words per appearance)\\\", yscale=\\\"log\\\")\";\n",
       "                var nbb_formatted_code = \"surv.plot(marker=\\\".\\\", ms=1, lw=0.2, label=\\\"data\\\")\\ndecorate(xlabel=\\\"Inverse rate (words per appearance)\\\", yscale=\\\"log\\\")\";\n",
       "                var nbb_cells = Jupyter.notebook.get_cells();\n",
       "                for (var i = 0; i < nbb_cells.length; ++i) {\n",
       "                    if (nbb_cells[i].input_prompt_number == nbb_cell_id) {\n",
       "                        if (nbb_cells[i].get_text() == nbb_unformatted_code) {\n",
       "                             nbb_cells[i].set_text(nbb_formatted_code);\n",
       "                        }\n",
       "                        break;\n",
       "                    }\n",
       "                }\n",
       "            }, 500);\n",
       "            "
      ],
      "text/plain": [
       "<IPython.core.display.Javascript object>"
      ]
     },
     "metadata": {},
     "output_type": "display_data"
    }
   ],
   "source": [
    "surv.plot(marker=\".\", ms=1, lw=0.2, label=\"data\")\n",
    "decorate(xlabel=\"Inverse rate (words per appearance)\", yscale=\"log\")"
   ]
  },
  {
   "cell_type": "markdown",
   "metadata": {},
   "source": [
    "If this distribution were normal, we would expect this curve to drop off with increasing slope.\n",
    "But for the words with the lowest frequencies -- that is, the highest inverse rates -- it is almost a straight line.\n",
    "And that suggests that a $t$ distribution might be a good model for this data."
   ]
  },
  {
   "cell_type": "markdown",
   "metadata": {},
   "source": [
    "## Fitting a Model\n",
    "\n",
    "To estimate the frequency of rare words, we will need to model the tail behavior of this distribution and extrapolate it beyond the data.\n",
    "So let's fit a $t$ distribution and see how it looks.\n",
    "I'll use code from Chapter 8 of *Probably Overthinking It*, which is all about these long-tailed distributions.\n",
    "\n",
    "The following function makes a `Surv` object that represents a $t$ distribution with the given parameters."
   ]
  },
  {
   "cell_type": "code",
   "execution_count": 291,
   "metadata": {},
   "outputs": [
    {
     "data": {
      "application/javascript": [
       "\n",
       "            setTimeout(function() {\n",
       "                var nbb_cell_id = 291;\n",
       "                var nbb_unformatted_code = \"from scipy.stats import t as t_dist\\n\\ndef truncated_t_sf(qs, df, mu, sigma):\\n    ps = t_dist.sf(qs, df, mu, sigma)\\n    surv_model = Surv(ps / ps[0], qs)\\n    return surv_model\";\n",
       "                var nbb_formatted_code = \"from scipy.stats import t as t_dist\\n\\n\\ndef truncated_t_sf(qs, df, mu, sigma):\\n    ps = t_dist.sf(qs, df, mu, sigma)\\n    surv_model = Surv(ps / ps[0], qs)\\n    return surv_model\";\n",
       "                var nbb_cells = Jupyter.notebook.get_cells();\n",
       "                for (var i = 0; i < nbb_cells.length; ++i) {\n",
       "                    if (nbb_cells[i].input_prompt_number == nbb_cell_id) {\n",
       "                        if (nbb_cells[i].get_text() == nbb_unformatted_code) {\n",
       "                             nbb_cells[i].set_text(nbb_formatted_code);\n",
       "                        }\n",
       "                        break;\n",
       "                    }\n",
       "                }\n",
       "            }, 500);\n",
       "            "
      ],
      "text/plain": [
       "<IPython.core.display.Javascript object>"
      ]
     },
     "metadata": {},
     "output_type": "display_data"
    }
   ],
   "source": [
    "from scipy.stats import t as t_dist\n",
    "\n",
    "\n",
    "def truncated_t_sf(qs, df, mu, sigma):\n",
    "    ps = t_dist.sf(qs, df, mu, sigma)\n",
    "    surv_model = Surv(ps / ps[0], qs)\n",
    "    return surv_model"
   ]
  },
  {
   "cell_type": "markdown",
   "metadata": {},
   "source": [
    "If we are given the `df` parameter, we can use the following function to find the values of `mu` and `sigma` that best fit the data, focusing on the central part of the distribution."
   ]
  },
  {
   "cell_type": "code",
   "execution_count": 292,
   "metadata": {},
   "outputs": [
    {
     "data": {
      "application/javascript": [
       "\n",
       "            setTimeout(function() {\n",
       "                var nbb_cell_id = 292;\n",
       "                var nbb_unformatted_code = \"from scipy.optimize import least_squares\\n\\ndef fit_truncated_t(df, surv):\\n    \\\"\\\"\\\"Given df, find the best values of mu and sigma.\\\"\\\"\\\"\\n    low, high = surv.qs.min(), surv.qs.max()\\n    qs_model = np.linspace(low, high, 1000)\\n    ps = np.linspace(0.01, 0.8, 20)\\n    qs = surv.inverse(ps)\\n\\n    def error_func_t(params, df, surv):\\n        # print(params)\\n        mu, sigma = params\\n        surv_model = truncated_t_sf(qs_model, df, mu, sigma)\\n\\n        error = surv(qs) - surv_model(qs)\\n        return error\\n\\n    pmf = surv.make_pmf()\\n    pmf.normalize()\\n    params = pmf.mean(), pmf.std()\\n    res = least_squares(error_func_t, x0=params, args=(df, surv), xtol=1e-3)\\n    assert res.success\\n    return res.x\";\n",
       "                var nbb_formatted_code = \"from scipy.optimize import least_squares\\n\\n\\ndef fit_truncated_t(df, surv):\\n    \\\"\\\"\\\"Given df, find the best values of mu and sigma.\\\"\\\"\\\"\\n    low, high = surv.qs.min(), surv.qs.max()\\n    qs_model = np.linspace(low, high, 1000)\\n    ps = np.linspace(0.01, 0.8, 20)\\n    qs = surv.inverse(ps)\\n\\n    def error_func_t(params, df, surv):\\n        # print(params)\\n        mu, sigma = params\\n        surv_model = truncated_t_sf(qs_model, df, mu, sigma)\\n\\n        error = surv(qs) - surv_model(qs)\\n        return error\\n\\n    pmf = surv.make_pmf()\\n    pmf.normalize()\\n    params = pmf.mean(), pmf.std()\\n    res = least_squares(error_func_t, x0=params, args=(df, surv), xtol=1e-3)\\n    assert res.success\\n    return res.x\";\n",
       "                var nbb_cells = Jupyter.notebook.get_cells();\n",
       "                for (var i = 0; i < nbb_cells.length; ++i) {\n",
       "                    if (nbb_cells[i].input_prompt_number == nbb_cell_id) {\n",
       "                        if (nbb_cells[i].get_text() == nbb_unformatted_code) {\n",
       "                             nbb_cells[i].set_text(nbb_formatted_code);\n",
       "                        }\n",
       "                        break;\n",
       "                    }\n",
       "                }\n",
       "            }, 500);\n",
       "            "
      ],
      "text/plain": [
       "<IPython.core.display.Javascript object>"
      ]
     },
     "metadata": {},
     "output_type": "display_data"
    }
   ],
   "source": [
    "from scipy.optimize import least_squares\n",
    "\n",
    "\n",
    "def fit_truncated_t(df, surv):\n",
    "    \"\"\"Given df, find the best values of mu and sigma.\"\"\"\n",
    "    low, high = surv.qs.min(), surv.qs.max()\n",
    "    qs_model = np.linspace(low, high, 1000)\n",
    "    ps = np.linspace(0.01, 0.8, 20)\n",
    "    qs = surv.inverse(ps)\n",
    "\n",
    "    def error_func_t(params, df, surv):\n",
    "        mu, sigma = params\n",
    "        surv_model = truncated_t_sf(qs_model, df, mu, sigma)\n",
    "\n",
    "        error = surv(qs) - surv_model(qs)\n",
    "        return error\n",
    "\n",
    "    pmf = surv.make_pmf()\n",
    "    pmf.normalize()\n",
    "    params = pmf.mean(), pmf.std()\n",
    "    res = least_squares(error_func_t, x0=params, args=(df, surv), xtol=1e-3)\n",
    "    assert res.success\n",
    "    return res.x"
   ]
  },
  {
   "cell_type": "markdown",
   "metadata": {},
   "source": [
    "But since we are not given `df`, we can use the following function to search for the value that best fits the tail of the distribution."
   ]
  },
  {
   "cell_type": "code",
   "execution_count": 293,
   "metadata": {},
   "outputs": [
    {
     "data": {
      "application/javascript": [
       "\n",
       "            setTimeout(function() {\n",
       "                var nbb_cell_id = 293;\n",
       "                var nbb_unformatted_code = \"from scipy.optimize import minimize\\n\\ndef minimize_df(df0, surv, bounds=[(1, 1e3)], ps=None):\\n    low, high = surv.qs.min(), surv.qs.max()\\n    qs_model = np.linspace(low, high * 1.2, 2000)\\n\\n    if ps is None:\\n        t = surv.ps[0], surv.ps[-5]\\n        low, high = np.log10(t)\\n        ps = np.logspace(low, high, 30, endpoint=False)\\n\\n    qs = surv.inverse(ps)\\n\\n    def error_func_tail(params):\\n        (df,) = params\\n        print(df)\\n        mu, sigma = fit_truncated_t(df, surv)\\n        surv_model = truncated_t_sf(qs_model, df, mu, sigma)\\n\\n        errors = np.log10(surv(qs)) - np.log10(surv_model(qs))\\n        return np.sum(errors ** 2)\\n\\n    params = (df0,)\\n    res = minimize(error_func_tail, x0=params, bounds=bounds, tol=1e-3, method=\\\"Powell\\\")\\n    assert res.success\\n    return res.x\";\n",
       "                var nbb_formatted_code = \"from scipy.optimize import minimize\\n\\n\\ndef minimize_df(df0, surv, bounds=[(1, 1e3)], ps=None):\\n    low, high = surv.qs.min(), surv.qs.max()\\n    qs_model = np.linspace(low, high * 1.2, 2000)\\n\\n    if ps is None:\\n        t = surv.ps[0], surv.ps[-5]\\n        low, high = np.log10(t)\\n        ps = np.logspace(low, high, 30, endpoint=False)\\n\\n    qs = surv.inverse(ps)\\n\\n    def error_func_tail(params):\\n        (df,) = params\\n        print(df)\\n        mu, sigma = fit_truncated_t(df, surv)\\n        surv_model = truncated_t_sf(qs_model, df, mu, sigma)\\n\\n        errors = np.log10(surv(qs)) - np.log10(surv_model(qs))\\n        return np.sum(errors**2)\\n\\n    params = (df0,)\\n    res = minimize(error_func_tail, x0=params, bounds=bounds, tol=1e-3, method=\\\"Powell\\\")\\n    assert res.success\\n    return res.x\";\n",
       "                var nbb_cells = Jupyter.notebook.get_cells();\n",
       "                for (var i = 0; i < nbb_cells.length; ++i) {\n",
       "                    if (nbb_cells[i].input_prompt_number == nbb_cell_id) {\n",
       "                        if (nbb_cells[i].get_text() == nbb_unformatted_code) {\n",
       "                             nbb_cells[i].set_text(nbb_formatted_code);\n",
       "                        }\n",
       "                        break;\n",
       "                    }\n",
       "                }\n",
       "            }, 500);\n",
       "            "
      ],
      "text/plain": [
       "<IPython.core.display.Javascript object>"
      ]
     },
     "metadata": {},
     "output_type": "display_data"
    }
   ],
   "source": [
    "from scipy.optimize import minimize\n",
    "\n",
    "\n",
    "def minimize_df(df0, surv, bounds=[(1, 1e3)], ps=None):\n",
    "    low, high = surv.qs.min(), surv.qs.max()\n",
    "    qs_model = np.linspace(low, high * 1.2, 2000)\n",
    "\n",
    "    if ps is None:\n",
    "        t = surv.ps[0], surv.ps[-5]\n",
    "        low, high = np.log10(t)\n",
    "        ps = np.logspace(low, high, 30, endpoint=False)\n",
    "\n",
    "    qs = surv.inverse(ps)\n",
    "\n",
    "    def error_func_tail(params):\n",
    "        (df,) = params\n",
    "        print(df)\n",
    "        mu, sigma = fit_truncated_t(df, surv)\n",
    "        surv_model = truncated_t_sf(qs_model, df, mu, sigma)\n",
    "\n",
    "        errors = np.log10(surv(qs)) - np.log10(surv_model(qs))\n",
    "        return np.sum(errors**2)\n",
    "\n",
    "    params = (df0,)\n",
    "    res = minimize(error_func_tail, x0=params, bounds=bounds, tol=1e-3, method=\"Powell\")\n",
    "    assert res.success\n",
    "    return res.x"
   ]
  },
  {
   "cell_type": "code",
   "execution_count": 307,
   "metadata": {},
   "outputs": [
    {
     "name": "stdout",
     "output_type": "stream",
     "text": [
      "25.0\n",
      "382.58404523885497\n",
      "618.4159547611448\n",
      "236.8319095222899\n",
      "146.75213571656514\n",
      "91.07977380572478\n",
      "56.67236191084039\n",
      "35.407411894884405\n",
      "22.26495001595599\n",
      "14.142461878928419\n",
      "26.396431469641538\n",
      "22.378315526830374\n",
      "23.37711806078531\n",
      "24.53039316028008\n",
      "23.209065736046366\n",
      "23.229227282976307\n",
      "23.225700629153852\n",
      "23.225367269503405\n",
      "23.226033988804296\n",
      "21.451401258307705\n",
      "382.58404523885497\n",
      "618.4159547611448\n",
      "236.83190952228992\n",
      "146.75213571656516\n",
      "91.07977380572477\n",
      "56.67236191084038\n",
      "35.407411894884405\n",
      "22.26495001595599\n",
      "14.142461878928419\n",
      "26.396431469641538\n",
      "22.378315526830374\n",
      "23.37711806078531\n",
      "24.53039316028008\n",
      "23.209065736046366\n",
      "23.229227282976307\n",
      "23.225700629153852\n",
      "23.22536729582052\n",
      "23.22503396248224\n"
     ]
    },
    {
     "data": {
      "text/plain": [
       "array([23.2253673])"
      ]
     },
     "execution_count": 307,
     "metadata": {},
     "output_type": "execute_result"
    },
    {
     "data": {
      "application/javascript": [
       "\n",
       "            setTimeout(function() {\n",
       "                var nbb_cell_id = 307;\n",
       "                var nbb_unformatted_code = \"df = minimize_df(25, surv)\\ndf\";\n",
       "                var nbb_formatted_code = \"df = minimize_df(25, surv)\\ndf\";\n",
       "                var nbb_cells = Jupyter.notebook.get_cells();\n",
       "                for (var i = 0; i < nbb_cells.length; ++i) {\n",
       "                    if (nbb_cells[i].input_prompt_number == nbb_cell_id) {\n",
       "                        if (nbb_cells[i].get_text() == nbb_unformatted_code) {\n",
       "                             nbb_cells[i].set_text(nbb_formatted_code);\n",
       "                        }\n",
       "                        break;\n",
       "                    }\n",
       "                }\n",
       "            }, 500);\n",
       "            "
      ],
      "text/plain": [
       "<IPython.core.display.Javascript object>"
      ]
     },
     "metadata": {},
     "output_type": "display_data"
    }
   ],
   "source": [
    "df = minimize_df(25, surv)\n",
    "df"
   ]
  },
  {
   "cell_type": "code",
   "execution_count": 308,
   "metadata": {},
   "outputs": [
    {
     "data": {
      "text/plain": [
       "(array([23.2253673]), 6.431987258334933, 0.4916380552135185)"
      ]
     },
     "execution_count": 308,
     "metadata": {},
     "output_type": "execute_result"
    },
    {
     "data": {
      "application/javascript": [
       "\n",
       "            setTimeout(function() {\n",
       "                var nbb_cell_id = 308;\n",
       "                var nbb_unformatted_code = \"mu, sigma = fit_truncated_t(df, surv)\\ndf, mu, sigma\";\n",
       "                var nbb_formatted_code = \"mu, sigma = fit_truncated_t(df, surv)\\ndf, mu, sigma\";\n",
       "                var nbb_cells = Jupyter.notebook.get_cells();\n",
       "                for (var i = 0; i < nbb_cells.length; ++i) {\n",
       "                    if (nbb_cells[i].input_prompt_number == nbb_cell_id) {\n",
       "                        if (nbb_cells[i].get_text() == nbb_unformatted_code) {\n",
       "                             nbb_cells[i].set_text(nbb_formatted_code);\n",
       "                        }\n",
       "                        break;\n",
       "                    }\n",
       "                }\n",
       "            }, 500);\n",
       "            "
      ],
      "text/plain": [
       "<IPython.core.display.Javascript object>"
      ]
     },
     "metadata": {},
     "output_type": "display_data"
    }
   ],
   "source": [
    "mu, sigma = fit_truncated_t(df, surv)\n",
    "df, mu, sigma"
   ]
  },
  {
   "cell_type": "markdown",
   "metadata": {},
   "source": [
    "Here's the `t` distribution that best fits the data."
   ]
  },
  {
   "cell_type": "code",
   "execution_count": 389,
   "metadata": {},
   "outputs": [
    {
     "data": {
      "application/javascript": [
       "\n",
       "            setTimeout(function() {\n",
       "                var nbb_cell_id = 389;\n",
       "                var nbb_unformatted_code = \"low, high = surv.qs.min(), surv.qs.max()\\nqs = np.linspace(low, 1.1 * high, 2000)\\nsurv_model = truncated_t_sf(qs, df, mu, sigma)\";\n",
       "                var nbb_formatted_code = \"low, high = surv.qs.min(), surv.qs.max()\\nqs = np.linspace(low, 1.1 * high, 2000)\\nsurv_model = truncated_t_sf(qs, df, mu, sigma)\";\n",
       "                var nbb_cells = Jupyter.notebook.get_cells();\n",
       "                for (var i = 0; i < nbb_cells.length; ++i) {\n",
       "                    if (nbb_cells[i].input_prompt_number == nbb_cell_id) {\n",
       "                        if (nbb_cells[i].get_text() == nbb_unformatted_code) {\n",
       "                             nbb_cells[i].set_text(nbb_formatted_code);\n",
       "                        }\n",
       "                        break;\n",
       "                    }\n",
       "                }\n",
       "            }, 500);\n",
       "            "
      ],
      "text/plain": [
       "<IPython.core.display.Javascript object>"
      ]
     },
     "metadata": {},
     "output_type": "display_data"
    }
   ],
   "source": [
    "low, high = surv.qs.min(), surv.qs.max()\n",
    "qs = np.linspace(low, 1.1 * high, 2000)\n",
    "surv_model = truncated_t_sf(qs, df, mu, sigma)"
   ]
  },
  {
   "cell_type": "code",
   "execution_count": 390,
   "metadata": {},
   "outputs": [
    {
     "data": {
      "image/png": "[encoded data removed]",
      "text/plain": [
       "<Figure size 450x262.5 with 1 Axes>"
      ]
     },
     "metadata": {},
     "output_type": "display_data"
    },
    {
     "data": {
      "application/javascript": [
       "\n",
       "            setTimeout(function() {\n",
       "                var nbb_cell_id = 390;\n",
       "                var nbb_unformatted_code = \"surv_model.plot(color=\\\"gray\\\", alpha=0.4, label=\\\"model\\\")\\nsurv.plot(marker=\\\".\\\", ms=1, lw=0.2, label=\\\"data\\\")\\ndecorate(xlabel=\\\"Inverse rate (log10 words per appearance)\\\", ylabel=\\\"Tail probability\\\")\";\n",
       "                var nbb_formatted_code = \"surv_model.plot(color=\\\"gray\\\", alpha=0.4, label=\\\"model\\\")\\nsurv.plot(marker=\\\".\\\", ms=1, lw=0.2, label=\\\"data\\\")\\ndecorate(xlabel=\\\"Inverse rate (log10 words per appearance)\\\", ylabel=\\\"Tail probability\\\")\";\n",
       "                var nbb_cells = Jupyter.notebook.get_cells();\n",
       "                for (var i = 0; i < nbb_cells.length; ++i) {\n",
       "                    if (nbb_cells[i].input_prompt_number == nbb_cell_id) {\n",
       "                        if (nbb_cells[i].get_text() == nbb_unformatted_code) {\n",
       "                             nbb_cells[i].set_text(nbb_formatted_code);\n",
       "                        }\n",
       "                        break;\n",
       "                    }\n",
       "                }\n",
       "            }, 500);\n",
       "            "
      ],
      "text/plain": [
       "<IPython.core.display.Javascript object>"
      ]
     },
     "metadata": {},
     "output_type": "display_data"
    }
   ],
   "source": [
    "surv_model.plot(color=\"gray\", alpha=0.4, label=\"model\")\n",
    "surv.plot(marker=\".\", ms=1, lw=0.2, label=\"data\")\n",
    "decorate(xlabel=\"Inverse rate (log10 words per appearance)\", ylabel=\"Tail probability\")"
   ]
  },
  {
   "cell_type": "markdown",
   "metadata": {},
   "source": [
    "With the y-axis on a linear scale, we can see that the model fits the data reasonably well, except for a range in the middle of the distribution -- the words that are not common or rare.\n",
    "\n",
    "And here's what the model looks like on a log-y scale."
   ]
  },
  {
   "cell_type": "code",
   "execution_count": 391,
   "metadata": {},
   "outputs": [
    {
     "data": {
      "image/png": "[encoded data removed]",
      "text/plain": [
       "<Figure size 450x262.5 with 1 Axes>"
      ]
     },
     "metadata": {},
     "output_type": "display_data"
    },
    {
     "data": {
      "application/javascript": [
       "\n",
       "            setTimeout(function() {\n",
       "                var nbb_cell_id = 391;\n",
       "                var nbb_unformatted_code = \"surv_model.plot(color=\\\"gray\\\", alpha=0.4, label=\\\"model\\\")\\nsurv.plot(marker=\\\".\\\", ms=1, lw=0.2, label=\\\"data\\\")\\ndecorate(\\n    xlabel=\\\"Inverse rate (log10 words per appearance)\\\",\\n    ylabel=\\\"Tail probability\\\",\\n    yscale=\\\"log\\\",\\n)\";\n",
       "                var nbb_formatted_code = \"surv_model.plot(color=\\\"gray\\\", alpha=0.4, label=\\\"model\\\")\\nsurv.plot(marker=\\\".\\\", ms=1, lw=0.2, label=\\\"data\\\")\\ndecorate(\\n    xlabel=\\\"Inverse rate (log10 words per appearance)\\\",\\n    ylabel=\\\"Tail probability\\\",\\n    yscale=\\\"log\\\",\\n)\";\n",
       "                var nbb_cells = Jupyter.notebook.get_cells();\n",
       "                for (var i = 0; i < nbb_cells.length; ++i) {\n",
       "                    if (nbb_cells[i].input_prompt_number == nbb_cell_id) {\n",
       "                        if (nbb_cells[i].get_text() == nbb_unformatted_code) {\n",
       "                             nbb_cells[i].set_text(nbb_formatted_code);\n",
       "                        }\n",
       "                        break;\n",
       "                    }\n",
       "                }\n",
       "            }, 500);\n",
       "            "
      ],
      "text/plain": [
       "<IPython.core.display.Javascript object>"
      ]
     },
     "metadata": {},
     "output_type": "display_data"
    }
   ],
   "source": [
    "surv_model.plot(color=\"gray\", alpha=0.4, label=\"model\")\n",
    "surv.plot(marker=\".\", ms=1, lw=0.2, label=\"data\")\n",
    "decorate(\n",
    "    xlabel=\"Inverse rate (log10 words per appearance)\",\n",
    "    ylabel=\"Tail probability\",\n",
    "    yscale=\"log\",\n",
    ")"
   ]
  },
  {
   "cell_type": "markdown",
   "metadata": {},
   "source": [
    "## Make a Prior"
   ]
  },
  {
   "cell_type": "code",
   "execution_count": 394,
   "metadata": {},
   "outputs": [
    {
     "data": {
      "text/plain": [
       "<Axes: >"
      ]
     },
     "execution_count": 394,
     "metadata": {},
     "output_type": "execute_result"
    },
    {
     "data": {
      "image/png": "[encoded data removed]",
      "text/plain": [
       "<Figure size 450x262.5 with 1 Axes>"
      ]
     },
     "metadata": {},
     "output_type": "display_data"
    },
    {
     "data": {
      "application/javascript": [
       "\n",
       "            setTimeout(function() {\n",
       "                var nbb_cell_id = 394;\n",
       "                var nbb_unformatted_code = \"prior = surv_model.make_pmf()\\nprior.plot()\";\n",
       "                var nbb_formatted_code = \"prior = surv_model.make_pmf()\\nprior.plot()\";\n",
       "                var nbb_cells = Jupyter.notebook.get_cells();\n",
       "                for (var i = 0; i < nbb_cells.length; ++i) {\n",
       "                    if (nbb_cells[i].input_prompt_number == nbb_cell_id) {\n",
       "                        if (nbb_cells[i].get_text() == nbb_unformatted_code) {\n",
       "                             nbb_cells[i].set_text(nbb_formatted_code);\n",
       "                        }\n",
       "                        break;\n",
       "                    }\n",
       "                }\n",
       "            }, 500);\n",
       "            "
      ],
      "text/plain": [
       "<IPython.core.display.Javascript object>"
      ]
     },
     "metadata": {},
     "output_type": "display_data"
    }
   ],
   "source": [
    "prior = surv_model.make_pmf()\n",
    "prior.plot()"
   ]
  },
  {
   "cell_type": "markdown",
   "metadata": {},
   "source": [
    "## Update It"
   ]
  },
  {
   "cell_type": "code",
   "execution_count": 384,
   "metadata": {},
   "outputs": [
    {
     "data": {
      "text/plain": [
       "count    2.000000e+03\n",
       "mean     2.753817e-03\n",
       "std      8.012930e-03\n",
       "min      3.162278e-10\n",
       "25%      3.578765e-08\n",
       "50%      4.050083e-06\n",
       "75%      4.583447e-04\n",
       "max      5.187022e-02\n",
       "dtype: float64"
      ]
     },
     "execution_count": 384,
     "metadata": {},
     "output_type": "execute_result"
    },
    {
     "data": {
      "application/javascript": [
       "\n",
       "            setTimeout(function() {\n",
       "                var nbb_cell_id = 384;\n",
       "                var nbb_unformatted_code = \"ps = 1 / np.power(10, prior.qs)\\ndescribe(ps)\";\n",
       "                var nbb_formatted_code = \"ps = 1 / np.power(10, prior.qs)\\ndescribe(ps)\";\n",
       "                var nbb_cells = Jupyter.notebook.get_cells();\n",
       "                for (var i = 0; i < nbb_cells.length; ++i) {\n",
       "                    if (nbb_cells[i].input_prompt_number == nbb_cell_id) {\n",
       "                        if (nbb_cells[i].get_text() == nbb_unformatted_code) {\n",
       "                             nbb_cells[i].set_text(nbb_formatted_code);\n",
       "                        }\n",
       "                        break;\n",
       "                    }\n",
       "                }\n",
       "            }, 500);\n",
       "            "
      ],
      "text/plain": [
       "<IPython.core.display.Javascript object>"
      ]
     },
     "metadata": {},
     "output_type": "display_data"
    }
   ],
   "source": [
    "ps = 1 / np.power(10, prior.qs)\n",
    "describe(ps)"
   ]
  },
  {
   "cell_type": "code",
   "execution_count": 385,
   "metadata": {},
   "outputs": [
    {
     "data": {
      "text/plain": [
       "182500000"
      ]
     },
     "execution_count": 385,
     "metadata": {},
     "output_type": "execute_result"
    },
    {
     "data": {
      "application/javascript": [
       "\n",
       "            setTimeout(function() {\n",
       "                var nbb_cell_id = 385;\n",
       "                var nbb_unformatted_code = \"words_per_day = 10_000\\ndays = 50 * 365\\ndays * words_per_day\";\n",
       "                var nbb_formatted_code = \"words_per_day = 10_000\\ndays = 50 * 365\\ndays * words_per_day\";\n",
       "                var nbb_cells = Jupyter.notebook.get_cells();\n",
       "                for (var i = 0; i < nbb_cells.length; ++i) {\n",
       "                    if (nbb_cells[i].input_prompt_number == nbb_cell_id) {\n",
       "                        if (nbb_cells[i].get_text() == nbb_unformatted_code) {\n",
       "                             nbb_cells[i].set_text(nbb_formatted_code);\n",
       "                        }\n",
       "                        break;\n",
       "                    }\n",
       "                }\n",
       "            }, 500);\n",
       "            "
      ],
      "text/plain": [
       "<IPython.core.display.Javascript object>"
      ]
     },
     "metadata": {},
     "output_type": "display_data"
    }
   ],
   "source": [
    "words_per_day = 10_000\n",
    "days = 50 * 365\n",
    "days * words_per_day"
   ]
  },
  {
   "cell_type": "code",
   "execution_count": 386,
   "metadata": {},
   "outputs": [
    {
     "data": {
      "text/plain": [
       "count    2.000000e+03\n",
       "mean     2.733730e-10\n",
       "std      5.653541e-10\n",
       "min      0.000000e+00\n",
       "25%      0.000000e+00\n",
       "50%      0.000000e+00\n",
       "75%      5.216238e-11\n",
       "max      2.015761e-09\n",
       "dtype: float64"
      ]
     },
     "execution_count": 386,
     "metadata": {},
     "output_type": "execute_result"
    },
    {
     "data": {
      "application/javascript": [
       "\n",
       "            setTimeout(function() {\n",
       "                var nbb_cell_id = 386;\n",
       "                var nbb_unformatted_code = \"from scipy.stats import nbinom\\n\\nk = days * words_per_day\\nn = 1\\n\\nlikelihood = nbinom.pmf(k, n, ps)\\ndescribe(likelihood)\";\n",
       "                var nbb_formatted_code = \"from scipy.stats import nbinom\\n\\nk = days * words_per_day\\nn = 1\\n\\nlikelihood = nbinom.pmf(k, n, ps)\\ndescribe(likelihood)\";\n",
       "                var nbb_cells = Jupyter.notebook.get_cells();\n",
       "                for (var i = 0; i < nbb_cells.length; ++i) {\n",
       "                    if (nbb_cells[i].input_prompt_number == nbb_cell_id) {\n",
       "                        if (nbb_cells[i].get_text() == nbb_unformatted_code) {\n",
       "                             nbb_cells[i].set_text(nbb_formatted_code);\n",
       "                        }\n",
       "                        break;\n",
       "                    }\n",
       "                }\n",
       "            }, 500);\n",
       "            "
      ],
      "text/plain": [
       "<IPython.core.display.Javascript object>"
      ]
     },
     "metadata": {},
     "output_type": "display_data"
    }
   ],
   "source": [
    "from scipy.stats import nbinom\n",
    "\n",
    "k = days * words_per_day\n",
    "n = 1\n",
    "\n",
    "likelihood = nbinom.pmf(k, n, ps)\n",
    "describe(likelihood)"
   ]
  },
  {
   "cell_type": "code",
   "execution_count": 387,
   "metadata": {},
   "outputs": [
    {
     "data": {
      "text/plain": [
       "1.3558684208624722e-11"
      ]
     },
     "execution_count": 387,
     "metadata": {},
     "output_type": "execute_result"
    },
    {
     "data": {
      "application/javascript": [
       "\n",
       "            setTimeout(function() {\n",
       "                var nbb_cell_id = 387;\n",
       "                var nbb_unformatted_code = \"posterior = prior * likelihood\\nposterior.normalize()\";\n",
       "                var nbb_formatted_code = \"posterior = prior * likelihood\\nposterior.normalize()\";\n",
       "                var nbb_cells = Jupyter.notebook.get_cells();\n",
       "                for (var i = 0; i < nbb_cells.length; ++i) {\n",
       "                    if (nbb_cells[i].input_prompt_number == nbb_cell_id) {\n",
       "                        if (nbb_cells[i].get_text() == nbb_unformatted_code) {\n",
       "                             nbb_cells[i].set_text(nbb_formatted_code);\n",
       "                        }\n",
       "                        break;\n",
       "                    }\n",
       "                }\n",
       "            }, 500);\n",
       "            "
      ],
      "text/plain": [
       "<IPython.core.display.Javascript object>"
      ]
     },
     "metadata": {},
     "output_type": "display_data"
    }
   ],
   "source": [
    "posterior = prior * likelihood\n",
    "posterior.normalize()"
   ]
  },
  {
   "cell_type": "code",
   "execution_count": 388,
   "metadata": {},
   "outputs": [
    {
     "data": {
      "text/plain": [
       "<Axes: >"
      ]
     },
     "execution_count": 388,
     "metadata": {},
     "output_type": "execute_result"
    },
    {
     "data": {
      "image/png": "[encoded data removed]",
      "text/plain": [
       "<Figure size 450x262.5 with 1 Axes>"
      ]
     },
     "metadata": {},
     "output_type": "display_data"
    },
    {
     "data": {
      "application/javascript": [
       "\n",
       "            setTimeout(function() {\n",
       "                var nbb_cell_id = 388;\n",
       "                var nbb_unformatted_code = \"posterior.plot()\";\n",
       "                var nbb_formatted_code = \"posterior.plot()\";\n",
       "                var nbb_cells = Jupyter.notebook.get_cells();\n",
       "                for (var i = 0; i < nbb_cells.length; ++i) {\n",
       "                    if (nbb_cells[i].input_prompt_number == nbb_cell_id) {\n",
       "                        if (nbb_cells[i].get_text() == nbb_unformatted_code) {\n",
       "                             nbb_cells[i].set_text(nbb_formatted_code);\n",
       "                        }\n",
       "                        break;\n",
       "                    }\n",
       "                }\n",
       "            }, 500);\n",
       "            "
      ],
      "text/plain": [
       "<IPython.core.display.Javascript object>"
      ]
     },
     "metadata": {},
     "output_type": "display_data"
    }
   ],
   "source": [
    "posterior.plot()"
   ]
  },
  {
   "cell_type": "markdown",
   "metadata": {},
   "source": [
    "## Make a Prediction"
   ]
  },
  {
   "cell_type": "code",
   "execution_count": 357,
   "metadata": {},
   "outputs": [
    {
     "data": {
      "application/javascript": [
       "\n",
       "            setTimeout(function() {\n",
       "                var nbb_cell_id = 357;\n",
       "                var nbb_unformatted_code = \"n_pred = words_per_day\\nps_pred = binom.sf(0, n_pred, ps)\";\n",
       "                var nbb_formatted_code = \"n_pred = words_per_day\\nps_pred = binom.sf(0, n_pred, ps)\";\n",
       "                var nbb_cells = Jupyter.notebook.get_cells();\n",
       "                for (var i = 0; i < nbb_cells.length; ++i) {\n",
       "                    if (nbb_cells[i].input_prompt_number == nbb_cell_id) {\n",
       "                        if (nbb_cells[i].get_text() == nbb_unformatted_code) {\n",
       "                             nbb_cells[i].set_text(nbb_formatted_code);\n",
       "                        }\n",
       "                        break;\n",
       "                    }\n",
       "                }\n",
       "            }, 500);\n",
       "            "
      ],
      "text/plain": [
       "<IPython.core.display.Javascript object>"
      ]
     },
     "metadata": {},
     "output_type": "display_data"
    }
   ],
   "source": [
    "n_pred = words_per_day\n",
    "ps_pred = binom.sf(0, n_pred, ps)"
   ]
  },
  {
   "cell_type": "code",
   "execution_count": 358,
   "metadata": {},
   "outputs": [
    {
     "data": {
      "text/plain": [
       "(0.00016066773432600893, 6224.0250302584855)"
      ]
     },
     "execution_count": 358,
     "metadata": {},
     "output_type": "execute_result"
    },
    {
     "data": {
      "application/javascript": [
       "\n",
       "            setTimeout(function() {\n",
       "                var nbb_cell_id = 358;\n",
       "                var nbb_unformatted_code = \"p = np.sum(posterior * ps_pred)\\np, 1 / p\";\n",
       "                var nbb_formatted_code = \"p = np.sum(posterior * ps_pred)\\np, 1 / p\";\n",
       "                var nbb_cells = Jupyter.notebook.get_cells();\n",
       "                for (var i = 0; i < nbb_cells.length; ++i) {\n",
       "                    if (nbb_cells[i].input_prompt_number == nbb_cell_id) {\n",
       "                        if (nbb_cells[i].get_text() == nbb_unformatted_code) {\n",
       "                             nbb_cells[i].set_text(nbb_formatted_code);\n",
       "                        }\n",
       "                        break;\n",
       "                    }\n",
       "                }\n",
       "            }, 500);\n",
       "            "
      ],
      "text/plain": [
       "<IPython.core.display.Javascript object>"
      ]
     },
     "metadata": {},
     "output_type": "display_data"
    }
   ],
   "source": [
    "p = np.sum(posterior * ps_pred)\n",
    "p, 1 / p"
   ]
  },
  {
   "cell_type": "markdown",
   "metadata": {},
   "source": [
    "Copyright 2024 Allen B. Downey\n",
    "\n",
    "License: [Attribution-NonCommercial-ShareAlike 4.0 International (CC BY-NC-SA 4.0)](https://creativecommons.org/licenses/by-nc-sa/4.0/)"
   ]
  },
  {
   "cell_type": "code",
   "execution_count": null,
   "metadata": {},
   "outputs": [],
   "source": []
  }
 ],
 "metadata": {
  "kernelspec": {
   "display_name": "Python 3 (ipykernel)",
   "language": "python",
   "name": "python3"
  },
  "language_info": {
   "codemirror_mode": {
    "name": "ipython",
    "version": 3
   },
   "file_extension": ".py",
   "mimetype": "text/x-python",
   "name": "python",
   "nbconvert_exporter": "python",
   "pygments_lexer": "ipython3",
   "version": "3.10.12"
  }
 },
 "nbformat": 4,
 "nbformat_minor": 4
}
