{
 "cells": [
  {
   "cell_type": "markdown",
   "metadata": {},
   "source": [
    "# What's a chartist?\n",
    "\n",
    "Recently I heard the word \"chartist\" for the first time in my life (that I recall).\n",
    "And then later the same day, I heard it again.\n",
    "So that raises two questions:\n",
    "\n",
    "* What are the chances of going 57 years without hearing a word, and then hearing it twice in one day?\n",
    "\n",
    "* Also, what's a chartist?\n",
    "\n",
    "To answer the second question first, it's someone who supported chartism, which was \"a working-class movement for political reform in the United Kingdom that erupted from 1838 to 1857\", quoth [Wikipedia](https://en.wikipedia.org/wiki/Chartism).  The name comes from the People's Charter of 1838, which called for voting rights for unpropertied men, among other reforms.\n",
    "\n",
    "To answer the first question, we'll do some Bayesian statistics.\n",
    "My solution is based on a model that's not very realistic, so we should not take the result too seriously, but it demonstrates some interesting methods, I think.\n",
    "And as you'll see, there is a connection to Zipf's law, [which I wrote about last week](https://www.allendowney.com/blog/2024/11/10/zipfs-law/).\n",
    "\n",
    "Since last week's post was at the beginner level, I should warn you that this one is more advanced -- in rapid succession, it involves the beta distribution, the $t$ distribution, the negative binomial, and the binomial."
   ]
  },
  {
   "cell_type": "markdown",
   "metadata": {},
   "source": [
    "This post is based on *Think Bayes 2e*, which is available from\n",
    "[Bookshop.org](https://bookshop.org/a/98697/9781492089469) and\n",
    "[Amazon](https://amzn.to/334eqGo).\n",
    "\n",
    "[Click here to run this notebook on Colab](https://colab.research.google.com/github/AllenDowney/ThinkBayes2/blob/master/examples/zipf.ipynb)."
   ]
  },
  {
   "cell_type": "code",
   "execution_count": 1,
   "metadata": {
    "tags": [
     "hide-cell"
    ]
   },
   "outputs": [],
   "source": [
    "try:\n",
    "    import empiricaldist\n",
    "except ImportError:\n",
    "    !pip install empiricaldist"
   ]
  },
  {
   "cell_type": "code",
   "execution_count": 2,
   "metadata": {
    "tags": [
     "hide-cell"
    ]
   },
   "outputs": [],
   "source": [
    "# download thinkdsp.py\n",
    "\n",
    "from os.path import basename, exists\n",
    "\n",
    "\n",
    "def download(url):\n",
    "    filename = basename(url)\n",
    "    if not exists(filename):\n",
    "        from urllib.request import urlretrieve\n",
    "\n",
    "        local, _ = urlretrieve(url, filename)\n",
    "        print(\"Downloaded \" + local)\n",
    "\n",
    "\n",
    "download(\"https://github.com/AllenDowney/ThinkBayes2/raw/master/soln/utils.py\")"
   ]
  },
  {
   "cell_type": "code",
   "execution_count": 3,
   "metadata": {
    "tags": [
     "hide-cell"
    ]
   },
   "outputs": [],
   "source": [
    "import numpy as np\n",
    "import pandas as pd\n",
    "import matplotlib.pyplot as plt\n",
    "\n",
    "from empiricaldist import Pmf\n",
    "from utils import decorate\n",
    "\n",
    "plt.rcParams[\"figure.dpi\"] = 75\n",
    "plt.rcParams[\"figure.figsize\"] = [6, 3.5]"
   ]
  },
  {
   "cell_type": "markdown",
   "metadata": {},
   "source": [
    "## Word Frequencies\n",
    "\n",
    "If you don't hear a word for more than 50 years, that suggests it is not a common word.\n",
    "We can use Bayes's theorem to quantify this intuition.\n",
    "First we'll compute the posterior distribution of the word's frequency, then the posterior predictive distribution of hearing it again within a day.\n",
    "\n",
    "Because we have only one piece of data -- the time until first appearance -- we'll need a good prior distribution.\n",
    "Which means we'll need a large, good quality sample of English text.\n",
    "For that, I'll use a free sample of the COCA dataset from [CorpusData.org](https://www.corpusdata.org/formats.asp). The following cells download and read the data."
   ]
  },
  {
   "cell_type": "code",
   "execution_count": 4,
   "metadata": {},
   "outputs": [],
   "source": [
    "download(\"https://www.corpusdata.org/coca/samples/coca-samples-text.zip\")"
   ]
  },
  {
   "cell_type": "code",
   "execution_count": 5,
   "metadata": {},
   "outputs": [],
   "source": [
    "import zipfile\n",
    "\n",
    "\n",
    "def generate_lines(zip_path=\"coca-samples-text.zip\"):\n",
    "    with zipfile.ZipFile(zip_path, \"r\") as zip_file:\n",
    "        file_list = zip_file.namelist()\n",
    "        for file_name in file_list:\n",
    "            with zip_file.open(file_name) as file:\n",
    "                lines = file.readlines()\n",
    "                for line in lines:\n",
    "                    yield (line.decode(\"utf-8\"))"
   ]
  },
  {
   "cell_type": "markdown",
   "metadata": {},
   "source": [
    "We'll use a `Counter` to count the number of times each word appears."
   ]
  },
  {
   "cell_type": "code",
   "execution_count": 6,
   "metadata": {},
   "outputs": [],
   "source": [
    "import re\n",
    "from collections import Counter\n",
    "\n",
    "pattern = r\"[ /\\n]+|--\"\n",
    "\n",
    "counter = Counter()\n",
    "for line in generate_lines():\n",
    "    words = re.split(pattern, line)[1:]\n",
    "    counter.update(word.lower() for word in words if word)"
   ]
  },
  {
   "cell_type": "markdown",
   "metadata": {},
   "source": [
    "The dataset includes about 188,000 unique strings, but not all of them are what we would consider words."
   ]
  },
  {
   "cell_type": "code",
   "execution_count": 7,
   "metadata": {},
   "outputs": [
    {
     "data": {
      "text/plain": [
       "(188086, 11503819)"
      ]
     },
     "execution_count": 7,
     "metadata": {},
     "output_type": "execute_result"
    }
   ],
   "source": [
    "len(counter), counter.total()"
   ]
  },
  {
   "cell_type": "markdown",
   "metadata": {},
   "source": [
    "To narrow it down, I'll remove anything that starts or ends with a non-alphabetical character -- so hyphens and apostrophes are allowed in the middle of a word."
   ]
  },
  {
   "cell_type": "code",
   "execution_count": 8,
   "metadata": {},
   "outputs": [],
   "source": [
    "for s in list(counter.keys()):\n",
    "    if not s[0].isalpha() or not s[-1].isalpha():\n",
    "        del counter[s]"
   ]
  },
  {
   "cell_type": "markdown",
   "metadata": {},
   "source": [
    "This filter reduces the number of unique words to about 151,000."
   ]
  },
  {
   "cell_type": "code",
   "execution_count": 9,
   "metadata": {},
   "outputs": [
    {
     "data": {
      "text/plain": [
       "(151414, 8889694)"
      ]
     },
     "execution_count": 9,
     "metadata": {},
     "output_type": "execute_result"
    }
   ],
   "source": [
    "num_words = counter.total()\n",
    "len(counter), num_words"
   ]
  },
  {
   "cell_type": "markdown",
   "metadata": {},
   "source": [
    "The most common words are what you would expect, with the exception of \"n't\", which is there because the COCA corpus treats it as a separate word."
   ]
  },
  {
   "cell_type": "code",
   "execution_count": 10,
   "metadata": {},
   "outputs": [
    {
     "data": {
      "text/plain": [
       "[('the', 461991),\n",
       " ('to', 237929),\n",
       " ('and', 231459),\n",
       " ('of', 217363),\n",
       " ('a', 203302),\n",
       " ('in', 153323),\n",
       " ('i', 137931),\n",
       " ('that', 123818),\n",
       " ('you', 109635),\n",
       " ('it', 103712),\n",
       " ('is', 93996),\n",
       " ('for', 78755),\n",
       " ('on', 64869),\n",
       " ('was', 64388),\n",
       " ('with', 59724),\n",
       " ('he', 57684),\n",
       " ('this', 51879),\n",
       " ('as', 51202),\n",
       " (\"n't\", 49291),\n",
       " ('we', 47694)]"
      ]
     },
     "execution_count": 10,
     "metadata": {},
     "output_type": "execute_result"
    }
   ],
   "source": [
    "counter.most_common(20)"
   ]
  },
  {
   "cell_type": "markdown",
   "metadata": {},
   "source": [
    "There are about 72,000 words that only appear once in the corpus, technically known as [hapax legomena](https://en.wikipedia.org/wiki/Hapax_legomenon)."
   ]
  },
  {
   "cell_type": "code",
   "execution_count": 11,
   "metadata": {},
   "outputs": [
    {
     "data": {
      "text/plain": [
       "(72159, 0.811715228893143)"
      ]
     },
     "execution_count": 11,
     "metadata": {},
     "output_type": "execute_result"
    }
   ],
   "source": [
    "singletons = [word for (word, freq) in counter.items() if freq == 1]\n",
    "len(singletons), len(singletons) / counter.total() * 100"
   ]
  },
  {
   "cell_type": "markdown",
   "metadata": {},
   "source": [
    "Here's a random selection of them. Many are proper names, typos, or other non-words, but some are legitimate but rare words."
   ]
  },
  {
   "cell_type": "code",
   "execution_count": 12,
   "metadata": {},
   "outputs": [
    {
     "data": {
      "text/plain": [
       "array(['xcor', 'metress', 'commonspace', 'attilan', 'nutritus',\n",
       "       'under-estimated', 'danci', 'thoughness', 'gmulder', 'multigrade',\n",
       "       'tazzarine', 'well-remembered', 'snapchat', 'yt',\n",
       "       \"everything'sback\", 'moonclown', 'maschek', 'infront', 'meowing',\n",
       "       'unhorses', 'waitressed', 'getbuckyballs.com', 'eye-rolling',\n",
       "       'right.follow', 'al-maliki', 'where-it', 'candelabras',\n",
       "       'trillion-dollar', 'poltically', 'way-stone', 'end-of-empire',\n",
       "       'antiforgiveness', 'noncommunicative', 'astronomical-sized',\n",
       "       'ms-like', 'colicky', 'mightly', 'lynsey', 'fifield',\n",
       "       'consummately', 'oursega', 'steplewski', 'businessleaders',\n",
       "       'pacifies', 'post-linsanity', 'high-born', 'okay.bye', 'mini-camp',\n",
       "       'than-expected', 'x-lab', 'www.visitturin2006.com',\n",
       "       'decreasing-there', 'kleiner', 'cosher', 'drm', 'castleman',\n",
       "       'treelet', 'ostapowicz', 'gerrymander', 'kibitzing', 'resequenced',\n",
       "       'goat-man', 'drenaje', 'tionist', 'betrothed', 'cannondale.com',\n",
       "       'praddock', 'napoleanic', 'tiltfilter', 'gowe', 'marchev', 'fugly',\n",
       "       'mouthit', 'blumberg', 'langone', 'self-superiority', 'etsu',\n",
       "       'friesian', 'blixt', 'couzens', 'firestorms', 'headachy',\n",
       "       'bisected', 'reel-to-reel', 'obscurant', 'with.the', 'yelp.com',\n",
       "       'frostily', 'hemsehus', 'pa-lin', 'sun-blocking', 'baerga',\n",
       "       'rightinfrontofyou', 'guangxi', 'jeiky', 'babbacombe',\n",
       "       'deborahlchamberlain', 'counterbalancing', 'baupoint', 'gowned'],\n",
       "      dtype='<U24')"
      ]
     },
     "execution_count": 12,
     "metadata": {},
     "output_type": "execute_result"
    }
   ],
   "source": [
    "np.random.choice(singletons, 100)"
   ]
  },
  {
   "cell_type": "markdown",
   "metadata": {},
   "source": [
    "Now let's see what the distribution of word frequencies looks like."
   ]
  },
  {
   "cell_type": "markdown",
   "metadata": {},
   "source": [
    "## Zipf's Law\n",
    "\n",
    "One way to visualize the distribution is a Zipf plot, which shows the ranks on the x-axis and the frequencies on the y-axis."
   ]
  },
  {
   "cell_type": "code",
   "execution_count": 13,
   "metadata": {},
   "outputs": [],
   "source": [
    "freqs = np.array(sorted(counter.values(), reverse=True))"
   ]
  },
  {
   "cell_type": "code",
   "execution_count": 14,
   "metadata": {},
   "outputs": [],
   "source": [
    "n = len(freqs)\n",
    "ranks = range(1, n + 1)"
   ]
  },
  {
   "cell_type": "markdown",
   "metadata": {},
   "source": [
    "Here's what it looks like on a log-log scale."
   ]
  },
  {
   "cell_type": "code",
   "execution_count": 15,
   "metadata": {},
   "outputs": [
    {
     "data": {
      "image/png": "[encoded data removed]",
      "text/plain": [
       "<Figure size 450x262.5 with 1 Axes>"
      ]
     },
     "metadata": {},
     "output_type": "display_data"
    }
   ],
   "source": [
    "plt.plot(ranks, freqs)\n",
    "\n",
    "decorate(\n",
    "    title=\"Zipf plot\", xlabel=\"Rank\", ylabel=\"Frequency\", xscale=\"log\", yscale=\"log\"\n",
    ")"
   ]
  },
  {
   "cell_type": "markdown",
   "metadata": {},
   "source": [
    "Zipf's law suggest that the result should be a straight line with slope close to -1.\n",
    "It's not exactly a straight line, but it's close, and the slope is about -1.1."
   ]
  },
  {
   "cell_type": "code",
   "execution_count": 16,
   "metadata": {},
   "outputs": [
    {
     "data": {
      "text/plain": [
       "-5.664633515191604"
      ]
     },
     "execution_count": 16,
     "metadata": {},
     "output_type": "execute_result"
    }
   ],
   "source": [
    "rise = np.log10(freqs[-1]) - np.log10(freqs[0])\n",
    "rise"
   ]
  },
  {
   "cell_type": "code",
   "execution_count": 17,
   "metadata": {},
   "outputs": [
    {
     "data": {
      "text/plain": [
       "5.180166032638616"
      ]
     },
     "execution_count": 17,
     "metadata": {},
     "output_type": "execute_result"
    }
   ],
   "source": [
    "run = np.log10(ranks[-1]) - np.log10(ranks[0])\n",
    "run"
   ]
  },
  {
   "cell_type": "code",
   "execution_count": 18,
   "metadata": {},
   "outputs": [
    {
     "data": {
      "text/plain": [
       "-1.0935235433575892"
      ]
     },
     "execution_count": 18,
     "metadata": {},
     "output_type": "execute_result"
    }
   ],
   "source": [
    "rise / run"
   ]
  },
  {
   "cell_type": "markdown",
   "metadata": {},
   "source": [
    "The Zipf plot is a well-known visual representation of the distribution of frequencies, but for the current problem, we'll switch to a different representation."
   ]
  },
  {
   "cell_type": "markdown",
   "metadata": {},
   "source": [
    "## Tail Distribution\n",
    "\n",
    "Given the number of times each word appear in the corpus, we can compute the rates, which is the number of times we expect each word to appear in a sample of a given size, and the inverse rates, which are the number of words we need to see before we expect a given word to appear.\n",
    "\n",
    "We will find it most convenient to work with the distribution of inverse rates on a log scale.\n",
    "The first step is to use the observed frequencies to estimate word rates -- we'll estimate the rate at which each word would appear in a random sample. \n",
    "\n",
    "We'll do that by creating a beta distribution that represents the posterior distribution of word rates, given the observed frequencies (see [this section of *Think Bayes*](https://allendowney.github.io/ThinkBayes2/chap18.html#the-conjugate-prior)) -- and then drawing a random sample from the posterior.\n",
    "So words that have the same frequency will not generally have the same inferred rate."
   ]
  },
  {
   "cell_type": "code",
   "execution_count": 19,
   "metadata": {},
   "outputs": [],
   "source": [
    "from scipy.stats import beta\n",
    "\n",
    "np.random.seed(17)\n",
    "alphas = freqs + 1\n",
    "betas = num_words - freqs + 1\n",
    "inferred_rates = beta(alphas, betas).rvs()"
   ]
  },
  {
   "cell_type": "markdown",
   "metadata": {},
   "source": [
    "Now we can compute the inverse rates, which are the number of words we have to sample before we expect to see each word once."
   ]
  },
  {
   "cell_type": "code",
   "execution_count": 20,
   "metadata": {},
   "outputs": [],
   "source": [
    "inverse_rates = 1 / inferred_rates"
   ]
  },
  {
   "cell_type": "code",
   "execution_count": 21,
   "metadata": {
    "tags": [
     "remove-cell"
    ]
   },
   "outputs": [],
   "source": [
    "def describe(seq):\n",
    "    return pd.Series(seq).describe()"
   ]
  },
  {
   "cell_type": "code",
   "execution_count": 22,
   "metadata": {
    "tags": [
     "remove-cell"
    ]
   },
   "outputs": [
    {
     "data": {
      "text/plain": [
       "count    1.514140e+05\n",
       "mean     5.232601e+06\n",
       "std      1.229446e+07\n",
       "min      1.922305e+01\n",
       "25%      1.155947e+06\n",
       "50%      2.857156e+06\n",
       "75%      5.699856e+06\n",
       "max      1.359491e+09\n",
       "dtype: float64"
      ]
     },
     "execution_count": 22,
     "metadata": {},
     "output_type": "execute_result"
    }
   ],
   "source": [
    "describe(inverse_rates)"
   ]
  },
  {
   "cell_type": "markdown",
   "metadata": {},
   "source": [
    "And here are their magnitudes, expressed as logarithms base 10."
   ]
  },
  {
   "cell_type": "code",
   "execution_count": 23,
   "metadata": {},
   "outputs": [],
   "source": [
    "mags = np.log10(inverse_rates)"
   ]
  },
  {
   "cell_type": "code",
   "execution_count": 24,
   "metadata": {
    "tags": [
     "remove-cell"
    ]
   },
   "outputs": [
    {
     "data": {
      "text/plain": [
       "count    151414.000000\n",
       "mean          6.340519\n",
       "std           0.672521\n",
       "min           1.283822\n",
       "25%           6.062938\n",
       "50%           6.455934\n",
       "75%           6.755864\n",
       "max           9.133376\n",
       "dtype: float64"
      ]
     },
     "execution_count": 24,
     "metadata": {},
     "output_type": "execute_result"
    }
   ],
   "source": [
    "describe(mags)"
   ]
  },
  {
   "cell_type": "markdown",
   "metadata": {},
   "source": [
    "To represent the distribution of these magnitudes, we'll use a `Surv` object, which represents survival functions, but we'll use a variation of the survival function which is the probability that a randomly-chosen value is greater than or equal to a given quantity.\n",
    "The following function computes this version of a survival function, which is called a tail probability."
   ]
  },
  {
   "cell_type": "code",
   "execution_count": 25,
   "metadata": {},
   "outputs": [],
   "source": [
    "from empiricaldist import Surv\n",
    "\n",
    "\n",
    "def make_surv(seq):\n",
    "    \"\"\"Make a non-standard survival function, P(X>=x)\"\"\"\n",
    "    pmf = Pmf.from_seq(seq)\n",
    "    surv = pmf.make_surv() + pmf\n",
    "\n",
    "    # correct for numerical error\n",
    "    surv.iloc[0] = 1\n",
    "    return Surv(surv)"
   ]
  },
  {
   "cell_type": "markdown",
   "metadata": {},
   "source": [
    "Here's how we make the survival function."
   ]
  },
  {
   "cell_type": "code",
   "execution_count": 26,
   "metadata": {},
   "outputs": [],
   "source": [
    "surv = make_surv(mags)"
   ]
  },
  {
   "cell_type": "markdown",
   "metadata": {},
   "source": [
    "And here's what it looks like."
   ]
  },
  {
   "cell_type": "code",
   "execution_count": 27,
   "metadata": {},
   "outputs": [
    {
     "data": {
      "image/png": "[encoded data removed]",
      "text/plain": [
       "<Figure size 450x262.5 with 1 Axes>"
      ]
     },
     "metadata": {},
     "output_type": "display_data"
    }
   ],
   "source": [
    "surv.plot(marker=\".\", ms=1, lw=0.2, label=\"data\")\n",
    "decorate(xlabel=\"Inverse rate (log10 words per appearance)\", ylabel=\"Tail probability\")"
   ]
  },
  {
   "cell_type": "markdown",
   "metadata": {},
   "source": [
    "The tail distribution has the sigmoid shape that is characteristic of normal distributions and $t$ distributions, although it is notably asymmetric.\n",
    "\n",
    "And here's what the tail probabilities look like on a log-y scale."
   ]
  },
  {
   "cell_type": "code",
   "execution_count": 28,
   "metadata": {},
   "outputs": [
    {
     "data": {
      "image/png": "[encoded data removed]",
      "text/plain": [
       "<Figure size 450x262.5 with 1 Axes>"
      ]
     },
     "metadata": {},
     "output_type": "display_data"
    }
   ],
   "source": [
    "surv.plot(marker=\".\", ms=1, lw=0.2, label=\"data\")\n",
    "decorate(xlabel=\"Inverse rate (words per appearance)\", yscale=\"log\")"
   ]
  },
  {
   "cell_type": "markdown",
   "metadata": {},
   "source": [
    "If this distribution were normal, we would expect this curve to drop off with increasing slope.\n",
    "But for the words with the lowest frequencies -- that is, the highest inverse rates -- it is almost a straight line.\n",
    "And that suggests that a $t$ distribution might be a good model for this data."
   ]
  },
  {
   "cell_type": "markdown",
   "metadata": {},
   "source": [
    "## Fitting a Model\n",
    "\n",
    "To estimate the frequency of rare words, we will need to model the tail behavior of this distribution and extrapolate it beyond the data.\n",
    "So let's fit a $t$ distribution and see how it looks.\n",
    "I'll use code from [Chapter 8 of *Probably Overthinking It*](https://allendowney.github.io/ProbablyOverthinkingIt/longtail.html), which is all about these long-tailed distributions.\n",
    "\n",
    "The following function makes a `Surv` object that represents a $t$ distribution with the given parameters."
   ]
  },
  {
   "cell_type": "code",
   "execution_count": 29,
   "metadata": {},
   "outputs": [],
   "source": [
    "from scipy.stats import t as t_dist\n",
    "\n",
    "\n",
    "def truncated_t_sf(qs, df, mu, sigma):\n",
    "    ps = t_dist.sf(qs, df, mu, sigma)\n",
    "    surv_model = Surv(ps / ps[0], qs)\n",
    "    return surv_model"
   ]
  },
  {
   "cell_type": "markdown",
   "metadata": {},
   "source": [
    "If we are given the `df` parameter, we can use the following function to find the values of `mu` and `sigma` that best fit the data, focusing on the central part of the distribution."
   ]
  },
  {
   "cell_type": "code",
   "execution_count": 30,
   "metadata": {},
   "outputs": [],
   "source": [
    "from scipy.optimize import least_squares\n",
    "\n",
    "\n",
    "def fit_truncated_t(df, surv):\n",
    "    \"\"\"Given df, find the best values of mu and sigma.\"\"\"\n",
    "    low, high = surv.qs.min(), surv.qs.max()\n",
    "    qs_model = np.linspace(low, high, 1000)\n",
    "    ps = np.linspace(0.1, 0.8, 20)\n",
    "    qs = surv.inverse(ps)\n",
    "\n",
    "    def error_func_t(params, df, surv):\n",
    "        mu, sigma = params\n",
    "        surv_model = truncated_t_sf(qs_model, df, mu, sigma)\n",
    "\n",
    "        error = surv(qs) - surv_model(qs)\n",
    "        return error\n",
    "\n",
    "    pmf = surv.make_pmf()\n",
    "    pmf.normalize()\n",
    "    params = pmf.mean(), pmf.std()\n",
    "    res = least_squares(error_func_t, x0=params, args=(df, surv), xtol=1e-3)\n",
    "    assert res.success\n",
    "    return res.x"
   ]
  },
  {
   "cell_type": "markdown",
   "metadata": {},
   "source": [
    "But since we are not given `df`, we can use the following function to search for the value that best fits the tail of the distribution."
   ]
  },
  {
   "cell_type": "code",
   "execution_count": 31,
   "metadata": {},
   "outputs": [],
   "source": [
    "from scipy.optimize import minimize\n",
    "\n",
    "\n",
    "def minimize_df(df0, surv, bounds=[(1, 1e3)], ps=None):\n",
    "    low, high = surv.qs.min(), surv.qs.max()\n",
    "    qs_model = np.linspace(low, high * 1.2, 2000)\n",
    "\n",
    "    if ps is None:\n",
    "        t = surv.ps[0], surv.ps[-5]\n",
    "        low, high = np.log10(t)\n",
    "        ps = np.logspace(low, high, 30, endpoint=False)\n",
    "\n",
    "    qs = surv.inverse(ps)\n",
    "\n",
    "    def error_func_tail(params):\n",
    "        (df,) = params\n",
    "        print(df)\n",
    "        mu, sigma = fit_truncated_t(df, surv)\n",
    "        surv_model = truncated_t_sf(qs_model, df, mu, sigma)\n",
    "\n",
    "        errors = np.log10(surv(qs)) - np.log10(surv_model(qs))\n",
    "        return np.sum(errors**2)\n",
    "\n",
    "    params = (df0,)\n",
    "    res = minimize(error_func_tail, x0=params, bounds=bounds, tol=1e-3, method=\"Powell\")\n",
    "    assert res.success\n",
    "    return res.x"
   ]
  },
  {
   "cell_type": "code",
   "execution_count": 32,
   "metadata": {},
   "outputs": [
    {
     "name": "stdout",
     "output_type": "stream",
     "text": [
      "25.0\n",
      "382.58404523885497\n",
      "618.4159547611448\n",
      "236.8319095222899\n",
      "146.75213571656514\n",
      "91.07977380572478\n",
      "56.67236191084039\n",
      "35.407411894884405\n",
      "22.26495001595599\n",
      "14.142461878928419\n",
      "25.697947062229677\n",
      "20.707337220921392\n",
      "22.572143210805486\n",
      "22.390897998699558\n",
      "22.387674578312218\n",
      "22.38696883830132\n",
      "22.386635466210475\n",
      "22.38630209411468\n",
      "19.77327093242095\n",
      "382.58404523885497\n",
      "618.4159547611448\n",
      "236.8319095222899\n",
      "146.75213571656516\n",
      "91.0797738057248\n",
      "56.672361910840394\n",
      "35.40741189488441\n",
      "22.264950015955993\n",
      "14.142461878928424\n",
      "25.697947054112568\n",
      "20.7073371943388\n",
      "22.572143293741753\n",
      "22.390897870539447\n",
      "22.38767398796015\n",
      "22.386983906149368\n",
      "22.386650572810865\n",
      "22.38731723948787\n"
     ]
    },
    {
     "data": {
      "text/plain": [
       "array([22.38698391])"
      ]
     },
     "execution_count": 32,
     "metadata": {},
     "output_type": "execute_result"
    }
   ],
   "source": [
    "df = minimize_df(25, surv)\n",
    "df"
   ]
  },
  {
   "cell_type": "code",
   "execution_count": 33,
   "metadata": {},
   "outputs": [
    {
     "data": {
      "text/plain": [
       "(array([22.38698391]), 6.430702047528606, 0.490849531484811)"
      ]
     },
     "execution_count": 33,
     "metadata": {},
     "output_type": "execute_result"
    }
   ],
   "source": [
    "mu, sigma = fit_truncated_t(df, surv)\n",
    "df, mu, sigma"
   ]
  },
  {
   "cell_type": "markdown",
   "metadata": {},
   "source": [
    "Here's the `t` distribution that best fits the data."
   ]
  },
  {
   "cell_type": "code",
   "execution_count": 34,
   "metadata": {},
   "outputs": [],
   "source": [
    "low, high = surv.qs.min(), surv.qs.max()\n",
    "qs = np.linspace(low, 10, 2000)\n",
    "surv_model = truncated_t_sf(qs, df, mu, sigma)"
   ]
  },
  {
   "cell_type": "code",
   "execution_count": 35,
   "metadata": {},
   "outputs": [
    {
     "data": {
      "image/png": "[encoded data removed]",
      "text/plain": [
       "<Figure size 450x262.5 with 1 Axes>"
      ]
     },
     "metadata": {},
     "output_type": "display_data"
    }
   ],
   "source": [
    "surv_model.plot(color=\"gray\", alpha=0.4, label=\"model\")\n",
    "surv.plot(marker=\".\", ms=1, lw=0.2, label=\"data\")\n",
    "decorate(xlabel=\"Inverse rate (log10 words per appearance)\", ylabel=\"Tail probability\")"
   ]
  },
  {
   "cell_type": "markdown",
   "metadata": {},
   "source": [
    "With the y-axis on a linear scale, we can see that the model fits the data reasonably well, except for a range between 5 and 6 -- that is for words that appear about 1 time in a million.\n",
    "\n",
    "Here's what the model looks like on a log-y scale."
   ]
  },
  {
   "cell_type": "code",
   "execution_count": 36,
   "metadata": {},
   "outputs": [
    {
     "data": {
      "image/png": "[encoded data removed]",
      "text/plain": [
       "<Figure size 450x262.5 with 1 Axes>"
      ]
     },
     "metadata": {},
     "output_type": "display_data"
    }
   ],
   "source": [
    "surv_model.plot(color=\"gray\", alpha=0.4, label=\"model\")\n",
    "surv.plot(marker=\".\", ms=1, lw=0.2, label=\"data\")\n",
    "decorate(\n",
    "    xlabel=\"Inverse rate (log10 words per appearance)\",\n",
    "    ylabel=\"Tail probability\",\n",
    "    yscale=\"log\",\n",
    ")"
   ]
  },
  {
   "cell_type": "markdown",
   "metadata": {},
   "source": [
    "The model fits the data well in the extreme tail, which is exactly where we need it.\n",
    "And we can use the model to extrapolate a little beyond the data, to make sure we cover the range that will turn out to be likely in the scenario where we hear a word for this first time after 50 years."
   ]
  },
  {
   "cell_type": "markdown",
   "metadata": {},
   "source": [
    "## The Update\n",
    "\n",
    "The model we've developed is the distribution of inverse rates for the words that appear in the corpus and, by extrapolation, for additional rare words that didn't appear in the corpus.\n",
    "This distribution will be the prior for the Bayesian update.\n",
    "We just have to convert it from a survival function to a PMF (remembering that these are equivalent representations of the same distribution)."
   ]
  },
  {
   "cell_type": "code",
   "execution_count": 37,
   "metadata": {},
   "outputs": [
    {
     "data": {
      "image/png": "[encoded data removed]",
      "text/plain": [
       "<Figure size 450x262.5 with 1 Axes>"
      ]
     },
     "metadata": {},
     "output_type": "display_data"
    }
   ],
   "source": [
    "prior = surv_model.make_pmf()\n",
    "prior.plot(label=\"prior\")\n",
    "decorate(\n",
    "    xlabel=\"Inverse rate (log10 words per appearance)\",\n",
    "    ylabel=\"Density\",\n",
    ")"
   ]
  },
  {
   "cell_type": "markdown",
   "metadata": {},
   "source": [
    "To compute the likelihood of the observation, we have to transform the inverse rates to probabilities."
   ]
  },
  {
   "cell_type": "code",
   "execution_count": 38,
   "metadata": {},
   "outputs": [],
   "source": [
    "ps = 1 / np.power(10, prior.qs)"
   ]
  },
  {
   "cell_type": "markdown",
   "metadata": {},
   "source": [
    "Now suppose that in a given day, you read or hear 10,000 words in a context where you would notice if you heard a word for the first time.\n",
    "Here's the number of words you would hear in 50 years."
   ]
  },
  {
   "cell_type": "code",
   "execution_count": 39,
   "metadata": {},
   "outputs": [
    {
     "data": {
      "text/plain": [
       "182500000"
      ]
     },
     "execution_count": 39,
     "metadata": {},
     "output_type": "execute_result"
    }
   ],
   "source": [
    "words_per_day = 10_000\n",
    "days = 50 * 365\n",
    "k = days * words_per_day\n",
    "k"
   ]
  },
  {
   "cell_type": "markdown",
   "metadata": {},
   "source": [
    "Now, what's the probability that you fail to encounter a word in `k` attempts and then encounter it on the next attempt?\n",
    "We can answer that with the negative binomial distribution, which computes the probability of getting the `n`th success after `k` failures, for a given probability -- or in this case, for  a sequence of possible probabilities."
   ]
  },
  {
   "cell_type": "code",
   "execution_count": 40,
   "metadata": {},
   "outputs": [],
   "source": [
    "from scipy.stats import nbinom\n",
    "\n",
    "n = 1\n",
    "likelihood = nbinom.pmf(k, n, ps)"
   ]
  },
  {
   "cell_type": "markdown",
   "metadata": {},
   "source": [
    "With this likelihood and the prior, we can compute the posterior distribution in the usual way."
   ]
  },
  {
   "cell_type": "code",
   "execution_count": 41,
   "metadata": {},
   "outputs": [
    {
     "data": {
      "text/plain": [
       "1.3581072166387401e-11"
      ]
     },
     "execution_count": 41,
     "metadata": {},
     "output_type": "execute_result"
    }
   ],
   "source": [
    "posterior = prior * likelihood\n",
    "posterior.normalize()"
   ]
  },
  {
   "cell_type": "markdown",
   "metadata": {},
   "source": [
    "And here's what it looks like."
   ]
  },
  {
   "cell_type": "code",
   "execution_count": 42,
   "metadata": {},
   "outputs": [
    {
     "data": {
      "image/png": "[encoded data removed]",
      "text/plain": [
       "<Figure size 450x262.5 with 1 Axes>"
      ]
     },
     "metadata": {},
     "output_type": "display_data"
    }
   ],
   "source": [
    "prior.plot(alpha=0.5, label=\"prior\")\n",
    "posterior.plot(label=\"posterior\")\n",
    "decorate(\n",
    "    xlabel=\"Inverse rate (log10 words per appearance)\",\n",
    "    ylabel=\"Density\",\n",
    ")"
   ]
  },
  {
   "cell_type": "markdown",
   "metadata": {},
   "source": [
    "If you go 50 years without hearing a word, that suggests that it is a rare word, and the posterior distribution reflects that logic.\n",
    "\n",
    "The posterior distribution represents a range of possible values for the inverse rate of the word you heard.\n",
    "Now we can use it to answer the question we started with: what is the probability of hearing the same word again on the same day -- that is, within the next 10,000 words you hear?\n",
    "\n",
    "To answer that, we can use the survival function of the [binomial distribution](https://allendowney.github.io/ThinkBayes2/chap18.html?highlight=binomial#binomial-likelihood) to compute the probability of more than 0 successes in the next `n_pred` attempts.\n",
    "We'll compute this probability for each of the `ps` that correspond to the inverse rates in the posterior."
   ]
  },
  {
   "cell_type": "code",
   "execution_count": 43,
   "metadata": {},
   "outputs": [],
   "source": [
    "from scipy.stats import binom\n",
    "\n",
    "n_pred = words_per_day\n",
    "ps_pred = binom.sf(0, n_pred, ps)"
   ]
  },
  {
   "cell_type": "markdown",
   "metadata": {},
   "source": [
    "And we can use the probabilities in the posterior to compute the expected value -- by the law of total probability, the result is the probability of hearing the same word again within a day."
   ]
  },
  {
   "cell_type": "code",
   "execution_count": 44,
   "metadata": {},
   "outputs": [
    {
     "data": {
      "text/plain": [
       "(0.00016009921991573168, 6246.1266240169725)"
      ]
     },
     "execution_count": 44,
     "metadata": {},
     "output_type": "execute_result"
    }
   ],
   "source": [
    "p = np.sum(posterior * ps_pred)\n",
    "p, 1 / p"
   ]
  },
  {
   "cell_type": "markdown",
   "metadata": {},
   "source": [
    "The result is about 1 in 6000.\n",
    "\n",
    "With all of the assumptions we made in this calculation, there's no reason to be more precise than that.\n",
    "And as I mentioned at the beginning, we should probably not take this conclusion to seriously.\n",
    "If you hear a word for the first time after 50 years, there's a good chance the word is \"having a moment\", which greatly increases the chance you'll hear it again.\n",
    "I can't think of why chartism might be in the news at the moment, but maybe this post will go viral and make it happen."
   ]
  },
  {
   "cell_type": "markdown",
   "metadata": {
    "tags": [
     "remove-cell"
    ]
   },
   "source": [
    "Copyright 2024 Allen B. Downey\n",
    "\n",
    "License: [Attribution-NonCommercial-ShareAlike 4.0 International (CC BY-NC-SA 4.0)](https://creativecommons.org/licenses/by-nc-sa/4.0/)"
   ]
  },
  {
   "cell_type": "code",
   "execution_count": null,
   "metadata": {},
   "outputs": [],
   "source": []
  }
 ],
 "metadata": {
  "celltoolbar": "Tags",
  "kernelspec": {
   "display_name": "Python 3 (ipykernel)",
   "language": "python",
   "name": "python3"
  },
  "language_info": {
   "codemirror_mode": {
    "name": "ipython",
    "version": 3
   },
   "file_extension": ".py",
   "mimetype": "text/x-python",
   "name": "python",
   "nbconvert_exporter": "python",
   "pygments_lexer": "ipython3",
   "version": "3.10.12"
  }
 },
 "nbformat": 4,
 "nbformat_minor": 4
}
