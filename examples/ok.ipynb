{
 "cells": [
  {
   "cell_type": "markdown",
   "metadata": {},
   "source": [
    "# How Many Typos?\n",
    "\n",
    "When I started work at [Brilliant](https://brilliant.org) a couple of weeks ago, I learned that one of my new colleagues, Michelle McSweeney, just published [a book called *OK*](https://www.goodreads.com/book/show/58380165-ok), which is all about the word OK.\n",
    "\n",
    "As we discussed the joys and miseries of publishing, Michelle mentioned that she had found a typo in the book after publication.\n",
    "So naturally I took it as a challenge to find the typo.\n",
    "While I was searching, I enjoyed the book very much.\n",
    "If you are interested in etymology, linguistics, and history, I recommend it!\n",
    "\n",
    "As it turned out, I found exactly one typo.\n",
    "When I told Michelle, she asked me nervously which page it was on. Page 17. She looked disappointed -- that was not the same typo she found.\n",
    "\n",
    "Now, for people who like Bayesian statistics, this scenario raises some questions:\n",
    "\n",
    "1) After our conversation, how many additional typos should we expect there to be?\n",
    "\n",
    "2) If she and I had found the same typo, instead of different ones, how many typos would we expect?\n",
    "\n",
    "As it happens, I used a similar scenario as [an example in *Think Bayes*](https://allendowney.github.io/ThinkBayes2/chap15.html#the-lincoln-index-problem). This notebook is based on the code I presented there. If there's anything here that's not clear, you could read the chapter for more details.\n",
    "\n",
    "[You can also click here to run this notebook on Colab](https://colab.research.google.com/github/AllenDowney/ThinkBayes2/blob/master/examples/ok.ipynb)."
   ]
  },
  {
   "cell_type": "code",
   "execution_count": 1,
   "metadata": {
    "execution": {
     "iopub.execute_input": "2021-04-16T19:37:47.028418Z",
     "iopub.status.busy": "2021-04-16T19:37:47.027988Z",
     "iopub.status.idle": "2021-04-16T19:37:47.030142Z",
     "shell.execute_reply": "2021-04-16T19:37:47.029674Z"
    },
    "tags": [
     "remove-cell"
    ]
   },
   "outputs": [],
   "source": [
    "# If we're running on Colab, install empiricaldist\n",
    "# https://pypi.org/project/empiricaldist/\n",
    "\n",
    "import sys\n",
    "IN_COLAB = 'google.colab' in sys.modules\n",
    "\n",
    "if IN_COLAB:\n",
    "    !pip install empiricaldist"
   ]
  },
  {
   "cell_type": "code",
   "execution_count": 2,
   "metadata": {
    "execution": {
     "iopub.execute_input": "2021-04-16T19:37:47.033444Z",
     "iopub.status.busy": "2021-04-16T19:37:47.033007Z",
     "iopub.status.idle": "2021-04-16T19:37:47.034750Z",
     "shell.execute_reply": "2021-04-16T19:37:47.035100Z"
    },
    "tags": [
     "remove-cell"
    ]
   },
   "outputs": [],
   "source": [
    "# Get utils.py\n",
    "\n",
    "from os.path import basename, exists\n",
    "\n",
    "def download(url):\n",
    "    filename = basename(url)\n",
    "    if not exists(filename):\n",
    "        from urllib.request import urlretrieve\n",
    "        local, _ = urlretrieve(url, filename)\n",
    "        print('Downloaded ' + local)\n",
    "    \n",
    "download('https://github.com/AllenDowney/ThinkBayes2/raw/master/soln/utils.py')"
   ]
  },
  {
   "cell_type": "code",
   "execution_count": 3,
   "metadata": {
    "execution": {
     "iopub.execute_input": "2021-04-16T19:37:47.038782Z",
     "iopub.status.busy": "2021-04-16T19:37:47.038205Z",
     "iopub.status.idle": "2021-04-16T19:37:47.706520Z",
     "shell.execute_reply": "2021-04-16T19:37:47.706106Z"
    },
    "tags": [
     "remove-cell"
    ]
   },
   "outputs": [],
   "source": [
    "import numpy as np\n",
    "import pandas as pd\n",
    "import matplotlib.pyplot as plt\n",
    "\n",
    "from utils import decorate"
   ]
  },
  {
   "cell_type": "markdown",
   "metadata": {},
   "source": [
    "## A Warm-up Problem\n",
    "\n",
    "Starting with a simple version of the problem, let's assume that we know `p0` and `p1`, which are the probabilities, respectively, that the first and second readers find any given typo.\n",
    "\n",
    "For example, let's assume that Michelle has a 66% chance of finding a typo and I have a 50% chance."
   ]
  },
  {
   "cell_type": "code",
   "execution_count": 4,
   "metadata": {
    "execution": {
     "iopub.execute_input": "2021-04-16T19:37:53.982038Z",
     "iopub.status.busy": "2021-04-16T19:37:53.981602Z",
     "iopub.status.idle": "2021-04-16T19:37:53.984284Z",
     "shell.execute_reply": "2021-04-16T19:37:53.983762Z"
    }
   },
   "outputs": [],
   "source": [
    "p0, p1 = 0.66, 0.5"
   ]
  },
  {
   "cell_type": "markdown",
   "metadata": {},
   "source": [
    "With these assumptions, we can compute an array that contains (in order) the probability that neither of us find a typo, the probability that only the second reader does, the probability that the first reader does, and the probability that we both do."
   ]
  },
  {
   "cell_type": "code",
   "execution_count": 5,
   "metadata": {
    "execution": {
     "iopub.execute_input": "2021-04-16T19:37:53.988890Z",
     "iopub.status.busy": "2021-04-16T19:37:53.988165Z",
     "iopub.status.idle": "2021-04-16T19:37:53.990550Z",
     "shell.execute_reply": "2021-04-16T19:37:53.990104Z"
    }
   },
   "outputs": [],
   "source": [
    "def compute_probs(p0, p1):\n",
    "    \"\"\"Computes the probability for each of 4 categories.\"\"\"\n",
    "    q0 = 1-p0\n",
    "    q1 = 1-p1\n",
    "    return [q0*q1, q0*p1, p0*q1, p0*p1]"
   ]
  },
  {
   "cell_type": "code",
   "execution_count": 6,
   "metadata": {
    "execution": {
     "iopub.execute_input": "2021-04-16T19:37:53.994239Z",
     "iopub.status.busy": "2021-04-16T19:37:53.993623Z",
     "iopub.status.idle": "2021-04-16T19:37:53.997022Z",
     "shell.execute_reply": "2021-04-16T19:37:53.996576Z"
    }
   },
   "outputs": [
    {
     "data": {
      "text/plain": [
       "[0.16999999999999998, 0.16999999999999998, 0.33, 0.33]"
      ]
     },
     "execution_count": 6,
     "metadata": {},
     "output_type": "execute_result"
    }
   ],
   "source": [
    "y = compute_probs(p0, p1)\n",
    "y"
   ]
  },
  {
   "cell_type": "markdown",
   "metadata": {},
   "source": [
    "With the assumed probabilities, there is a 33% chance that we both find a typo and a 17% chance that neither of us do."
   ]
  },
  {
   "cell_type": "markdown",
   "metadata": {},
   "source": [
    "## The Prior\n",
    "\n",
    "Next we need to choose a prior for the total number of typos. I'll use a Poisson distribution, which is a reasonable default for values that are counts. And I'll set the mean to 2, which means that before either of us read the book, we would have expected about two typos."
   ]
  },
  {
   "cell_type": "code",
   "execution_count": 7,
   "metadata": {
    "execution": {
     "iopub.execute_input": "2021-04-16T19:37:54.005383Z",
     "iopub.status.busy": "2021-04-16T19:37:54.004613Z",
     "iopub.status.idle": "2021-04-16T19:37:54.008366Z",
     "shell.execute_reply": "2021-04-16T19:37:54.007866Z"
    }
   },
   "outputs": [
    {
     "data": {
      "text/plain": [
       "1.9999236196641172"
      ]
     },
     "execution_count": 7,
     "metadata": {},
     "output_type": "execute_result"
    }
   ],
   "source": [
    "from utils import make_poisson_pmf\n",
    "\n",
    "qs = np.arange(0, 11) \n",
    "lam = 2\n",
    "prior_N = make_poisson_pmf(lam, qs)\n",
    "prior_N.index.name = 'N'\n",
    "prior_N.mean()"
   ]
  },
  {
   "cell_type": "markdown",
   "metadata": {},
   "source": [
    "Here's what the prior looks like."
   ]
  },
  {
   "cell_type": "code",
   "execution_count": 8,
   "metadata": {
    "execution": {
     "iopub.execute_input": "2021-04-16T19:37:54.066285Z",
     "iopub.status.busy": "2021-04-16T19:37:54.054991Z",
     "iopub.status.idle": "2021-04-16T19:37:54.200634Z",
     "shell.execute_reply": "2021-04-16T19:37:54.200132Z"
    },
    "tags": [
     "hide-input"
    ]
   },
   "outputs": [
    {
     "data": {
      "image/png": "[encoded data removed]",
      "text/plain": [
       "<Figure size 640x480 with 1 Axes>"
      ]
     },
     "metadata": {},
     "output_type": "display_data"
    }
   ],
   "source": [
    "prior_N.plot(color='C7')\n",
    "\n",
    "decorate(xlabel='Number of typos (N)',\n",
    "         ylabel='PMF',\n",
    "         title='Prior distribution')"
   ]
  },
  {
   "cell_type": "markdown",
   "metadata": {},
   "source": [
    "## The Update (Simple Version)\n",
    "\n",
    "To represent the data, I'll create these variables:\n",
    "\n",
    "* `k10`: the number of typos found by the first reader but not the second\n",
    "* `k01`: the number of typos found by the second reader but not the first\n",
    "* `k11`: the number of typos found by both readers"
   ]
  },
  {
   "cell_type": "code",
   "execution_count": 9,
   "metadata": {
    "execution": {
     "iopub.execute_input": "2021-04-16T19:37:53.977529Z",
     "iopub.status.busy": "2021-04-16T19:37:53.977079Z",
     "iopub.status.idle": "2021-04-16T19:37:53.979111Z",
     "shell.execute_reply": "2021-04-16T19:37:53.978757Z"
    }
   },
   "outputs": [],
   "source": [
    "k10 = 1\n",
    "k01 = 1\n",
    "k11 = 0"
   ]
  },
  {
   "cell_type": "markdown",
   "metadata": {},
   "source": [
    "I'll put the data in an array, with 0 as a place-keeper for the unknown value `k00`, which is the number of typos neither of us found."
   ]
  },
  {
   "cell_type": "code",
   "execution_count": 10,
   "metadata": {
    "execution": {
     "iopub.execute_input": "2021-04-16T19:37:54.012337Z",
     "iopub.status.busy": "2021-04-16T19:37:54.011753Z",
     "iopub.status.idle": "2021-04-16T19:37:54.014357Z",
     "shell.execute_reply": "2021-04-16T19:37:54.013863Z"
    }
   },
   "outputs": [],
   "source": [
    "data = np.array([0, k01, k10, k11])"
   ]
  },
  {
   "cell_type": "markdown",
   "metadata": {},
   "source": [
    "Now we can use the multinomial distribution to compute the likelihood of the data for each hypothetical value of `N` (assuming for now that the probabilities in `y` are known)."
   ]
  },
  {
   "cell_type": "code",
   "execution_count": 11,
   "metadata": {
    "execution": {
     "iopub.execute_input": "2021-04-16T19:37:54.024013Z",
     "iopub.status.busy": "2021-04-16T19:37:54.023587Z",
     "iopub.status.idle": "2021-04-16T19:37:54.025396Z",
     "shell.execute_reply": "2021-04-16T19:37:54.025737Z"
    }
   },
   "outputs": [],
   "source": [
    "from scipy.stats import multinomial\n",
    "\n",
    "likelihood = prior_N.copy()\n",
    "observed = data.sum()\n",
    "x = data.copy()\n",
    "\n",
    "for N in prior_N.qs:\n",
    "    x[0] = N - observed\n",
    "    likelihood[N] = multinomial.pmf(x, N, y)"
   ]
  },
  {
   "cell_type": "markdown",
   "metadata": {},
   "source": [
    "We can compute the posterior in the usual way."
   ]
  },
  {
   "cell_type": "code",
   "execution_count": 12,
   "metadata": {
    "execution": {
     "iopub.execute_input": "2021-04-16T19:37:54.029826Z",
     "iopub.status.busy": "2021-04-16T19:37:54.029301Z",
     "iopub.status.idle": "2021-04-16T19:37:54.031611Z",
     "shell.execute_reply": "2021-04-16T19:37:54.032006Z"
    }
   },
   "outputs": [
    {
     "data": {
      "text/plain": [
       "0.0426675416210306"
      ]
     },
     "execution_count": 12,
     "metadata": {},
     "output_type": "execute_result"
    }
   ],
   "source": [
    "posterior_N = prior_N * likelihood\n",
    "posterior_N.normalize()"
   ]
  },
  {
   "cell_type": "markdown",
   "metadata": {},
   "source": [
    "And here's what it looks like."
   ]
  },
  {
   "cell_type": "code",
   "execution_count": 13,
   "metadata": {
    "execution": {
     "iopub.execute_input": "2021-04-16T19:37:54.066285Z",
     "iopub.status.busy": "2021-04-16T19:37:54.054991Z",
     "iopub.status.idle": "2021-04-16T19:37:54.200634Z",
     "shell.execute_reply": "2021-04-16T19:37:54.200132Z"
    },
    "tags": [
     "hide-input"
    ]
   },
   "outputs": [
    {
     "data": {
      "image/png": "[encoded data removed]",
      "text/plain": [
       "<Figure size 640x480 with 1 Axes>"
      ]
     },
     "metadata": {},
     "output_type": "display_data"
    }
   ],
   "source": [
    "prior_N.plot(color='C7', alpha=0.4, label='prior')\n",
    "posterior_N.plot(color='C4', label='posterior')\n",
    "\n",
    "decorate(xlabel='Number of typos (N)',\n",
    "         ylabel='PMF',\n",
    "         title='Prior distribution')"
   ]
  },
  {
   "cell_type": "markdown",
   "metadata": {},
   "source": [
    "The most likely value is 2, and the posterior mean is about 2.3, just a little higher than the prior mean."
   ]
  },
  {
   "cell_type": "code",
   "execution_count": 14,
   "metadata": {
    "execution": {
     "iopub.execute_input": "2021-04-16T19:37:54.204715Z",
     "iopub.status.busy": "2021-04-16T19:37:54.204282Z",
     "iopub.status.idle": "2021-04-16T19:37:54.206388Z",
     "shell.execute_reply": "2021-04-16T19:37:54.206734Z"
    },
    "tags": [
     "hide-cell"
    ]
   },
   "outputs": [
    {
     "name": "stdout",
     "output_type": "stream",
     "text": [
      "2.3399999989281604 [2. 3.]\n"
     ]
    }
   ],
   "source": [
    "print(posterior_N.mean(), \n",
    "      posterior_N.credible_interval(0.9))"
   ]
  },
  {
   "cell_type": "markdown",
   "metadata": {},
   "source": [
    "But remember that this is based on the assumption that we know `p0` and `p1`. In reality, they are unknown, but we can estimate them from the data."
   ]
  },
  {
   "cell_type": "markdown",
   "metadata": {},
   "source": [
    "## Three-Parameter Model\n",
    "\n",
    "What we need is a model with three parameters: `N`, `p0`, and `p1`.\n",
    "We'll use `prior_N` again for the prior distribution of `N`, and here are the priors for `p0` and `p1`:"
   ]
  },
  {
   "cell_type": "code",
   "execution_count": 15,
   "metadata": {},
   "outputs": [],
   "source": [
    "from empiricaldist import Pmf\n",
    "from scipy.stats import beta as beta_dist\n",
    "\n",
    "def make_beta(qs, alpha, beta, name=\"\"):\n",
    "    ps = beta_dist.pdf(qs, alpha, beta)\n",
    "    pmf = Pmf(ps, qs)\n",
    "    pmf.normalize()\n",
    "    pmf.index.name = name\n",
    "    return pmf"
   ]
  },
  {
   "cell_type": "code",
   "execution_count": 16,
   "metadata": {
    "execution": {
     "iopub.execute_input": "2021-04-16T19:37:54.211539Z",
     "iopub.status.busy": "2021-04-16T19:37:54.211111Z",
     "iopub.status.idle": "2021-04-16T19:37:54.213388Z",
     "shell.execute_reply": "2021-04-16T19:37:54.212835Z"
    }
   },
   "outputs": [],
   "source": [
    "qs = np.linspace(0, 1, num=51)\n",
    "prior_p0 = make_beta(qs, 3, 2, name='p0')\n",
    "prior_p1 = make_beta(qs, 2, 2, name='p1')"
   ]
  },
  {
   "cell_type": "code",
   "execution_count": 17,
   "metadata": {},
   "outputs": [
    {
     "data": {
      "image/png": "[encoded data removed]",
      "text/plain": [
       "<Figure size 640x480 with 1 Axes>"
      ]
     },
     "metadata": {},
     "output_type": "display_data"
    }
   ],
   "source": [
    "prior_p0.plot()\n",
    "prior_p1.plot()\n",
    "\n",
    "decorate(xlabel='Probability of finding a typo',\n",
    "         ylabel='PMF',\n",
    "         title='Prior distributions')"
   ]
  },
  {
   "cell_type": "markdown",
   "metadata": {},
   "source": [
    "I used beta distributions to construct weakly informative priors for `p0` and `p1`, with means `0.66` and `0.5` respectively."
   ]
  },
  {
   "cell_type": "markdown",
   "metadata": {},
   "source": [
    "## The Joint Prior\n",
    "\n",
    "Now we have to assemble the marginal priors into a joint distribution.\n",
    "I'll start by putting the first two into a `DataFrame`."
   ]
  },
  {
   "cell_type": "code",
   "execution_count": 18,
   "metadata": {
    "execution": {
     "iopub.execute_input": "2021-04-16T19:37:54.217788Z",
     "iopub.status.busy": "2021-04-16T19:37:54.217207Z",
     "iopub.status.idle": "2021-04-16T19:37:54.219947Z",
     "shell.execute_reply": "2021-04-16T19:37:54.220378Z"
    }
   },
   "outputs": [
    {
     "data": {
      "text/plain": [
       "(11, 51)"
      ]
     },
     "execution_count": 18,
     "metadata": {},
     "output_type": "execute_result"
    }
   ],
   "source": [
    "from utils import make_joint\n",
    "\n",
    "joint2 = make_joint(prior_p0, prior_N)\n",
    "joint2.shape"
   ]
  },
  {
   "cell_type": "markdown",
   "metadata": {},
   "source": [
    "Now I'll stack them and put the result in a `Pmf`."
   ]
  },
  {
   "cell_type": "code",
   "execution_count": 19,
   "metadata": {
    "execution": {
     "iopub.execute_input": "2021-04-16T19:37:54.225352Z",
     "iopub.status.busy": "2021-04-16T19:37:54.224407Z",
     "iopub.status.idle": "2021-04-16T19:37:54.234609Z",
     "shell.execute_reply": "2021-04-16T19:37:54.233999Z"
    }
   },
   "outputs": [
    {
     "data": {
      "text/html": [
       "<div>\n",
       "<style scoped>\n",
       "    .dataframe tbody tr th:only-of-type {\n",
       "        vertical-align: middle;\n",
       "    }\n",
       "\n",
       "    .dataframe tbody tr th {\n",
       "        vertical-align: top;\n",
       "    }\n",
       "\n",
       "    .dataframe thead th {\n",
       "        text-align: right;\n",
       "    }\n",
       "</style>\n",
       "<table border=\"1\" class=\"dataframe\">\n",
       "  <thead>\n",
       "    <tr style=\"text-align: right;\">\n",
       "      <th></th>\n",
       "      <th></th>\n",
       "      <th>probs</th>\n",
       "    </tr>\n",
       "    <tr>\n",
       "      <th>N</th>\n",
       "      <th>p0</th>\n",
       "      <th></th>\n",
       "    </tr>\n",
       "  </thead>\n",
       "  <tbody>\n",
       "    <tr>\n",
       "      <th rowspan=\"3\" valign=\"top\">0</th>\n",
       "      <th>0.00</th>\n",
       "      <td>0.000000</td>\n",
       "    </tr>\n",
       "    <tr>\n",
       "      <th>0.02</th>\n",
       "      <td>0.000013</td>\n",
       "    </tr>\n",
       "    <tr>\n",
       "      <th>0.04</th>\n",
       "      <td>0.000050</td>\n",
       "    </tr>\n",
       "  </tbody>\n",
       "</table>\n",
       "</div>"
      ],
      "text/plain": [
       "N  p0  \n",
       "0  0.00    0.000000\n",
       "   0.02    0.000013\n",
       "   0.04    0.000050\n",
       "Name: , dtype: float64"
      ]
     },
     "execution_count": 19,
     "metadata": {},
     "output_type": "execute_result"
    }
   ],
   "source": [
    "joint2_pmf = Pmf(joint2.stack())\n",
    "joint2_pmf.head(3)"
   ]
  },
  {
   "cell_type": "markdown",
   "metadata": {},
   "source": [
    "We can use `make_joint` again to add in the third parameter."
   ]
  },
  {
   "cell_type": "code",
   "execution_count": 20,
   "metadata": {
    "execution": {
     "iopub.execute_input": "2021-04-16T19:37:54.238175Z",
     "iopub.status.busy": "2021-04-16T19:37:54.237718Z",
     "iopub.status.idle": "2021-04-16T19:37:54.242307Z",
     "shell.execute_reply": "2021-04-16T19:37:54.242651Z"
    }
   },
   "outputs": [
    {
     "data": {
      "text/plain": [
       "(561, 51)"
      ]
     },
     "execution_count": 20,
     "metadata": {},
     "output_type": "execute_result"
    }
   ],
   "source": [
    "joint3 = make_joint(prior_p1, joint2_pmf)\n",
    "joint3.shape"
   ]
  },
  {
   "cell_type": "markdown",
   "metadata": {},
   "source": [
    "The result is a `DataFrame` with values of `N` and `p0` in a `MultiIndex` that goes down the rows and values of `p1` in an index that goes across the columns."
   ]
  },
  {
   "cell_type": "code",
   "execution_count": 21,
   "metadata": {
    "execution": {
     "iopub.execute_input": "2021-04-16T19:37:54.247118Z",
     "iopub.status.busy": "2021-04-16T19:37:54.246694Z",
     "iopub.status.idle": "2021-04-16T19:37:54.266251Z",
     "shell.execute_reply": "2021-04-16T19:37:54.265904Z"
    }
   },
   "outputs": [
    {
     "data": {
      "text/html": [
       "<div>\n",
       "<style scoped>\n",
       "    .dataframe tbody tr th:only-of-type {\n",
       "        vertical-align: middle;\n",
       "    }\n",
       "\n",
       "    .dataframe tbody tr th {\n",
       "        vertical-align: top;\n",
       "    }\n",
       "\n",
       "    .dataframe thead th {\n",
       "        text-align: right;\n",
       "    }\n",
       "</style>\n",
       "<table border=\"1\" class=\"dataframe\">\n",
       "  <thead>\n",
       "    <tr style=\"text-align: right;\">\n",
       "      <th></th>\n",
       "      <th>p1</th>\n",
       "      <th>0.00</th>\n",
       "      <th>0.02</th>\n",
       "      <th>0.04</th>\n",
       "      <th>0.06</th>\n",
       "      <th>0.08</th>\n",
       "      <th>0.10</th>\n",
       "      <th>0.12</th>\n",
       "      <th>0.14</th>\n",
       "      <th>0.16</th>\n",
       "      <th>0.18</th>\n",
       "      <th>...</th>\n",
       "      <th>0.82</th>\n",
       "      <th>0.84</th>\n",
       "      <th>0.86</th>\n",
       "      <th>0.88</th>\n",
       "      <th>0.90</th>\n",
       "      <th>0.92</th>\n",
       "      <th>0.94</th>\n",
       "      <th>0.96</th>\n",
       "      <th>0.98</th>\n",
       "      <th>1.00</th>\n",
       "    </tr>\n",
       "    <tr>\n",
       "      <th>N</th>\n",
       "      <th>p0</th>\n",
       "      <th></th>\n",
       "      <th></th>\n",
       "      <th></th>\n",
       "      <th></th>\n",
       "      <th></th>\n",
       "      <th></th>\n",
       "      <th></th>\n",
       "      <th></th>\n",
       "      <th></th>\n",
       "      <th></th>\n",
       "      <th></th>\n",
       "      <th></th>\n",
       "      <th></th>\n",
       "      <th></th>\n",
       "      <th></th>\n",
       "      <th></th>\n",
       "      <th></th>\n",
       "      <th></th>\n",
       "      <th></th>\n",
       "      <th></th>\n",
       "      <th></th>\n",
       "    </tr>\n",
       "  </thead>\n",
       "  <tbody>\n",
       "    <tr>\n",
       "      <th rowspan=\"3\" valign=\"top\">0</th>\n",
       "      <th>0.00</th>\n",
       "      <td>0.0</td>\n",
       "      <td>0.000000e+00</td>\n",
       "      <td>0.000000e+00</td>\n",
       "      <td>0.000000e+00</td>\n",
       "      <td>0.000000e+00</td>\n",
       "      <td>0.000000e+00</td>\n",
       "      <td>0.000000e+00</td>\n",
       "      <td>0.000000e+00</td>\n",
       "      <td>0.000000e+00</td>\n",
       "      <td>0.000000e+00</td>\n",
       "      <td>...</td>\n",
       "      <td>0.000000e+00</td>\n",
       "      <td>0.000000e+00</td>\n",
       "      <td>0.000000e+00</td>\n",
       "      <td>0.000000e+00</td>\n",
       "      <td>0.000000e+00</td>\n",
       "      <td>0.000000e+00</td>\n",
       "      <td>0.000000e+00</td>\n",
       "      <td>0.000000e+00</td>\n",
       "      <td>0.000000e+00</td>\n",
       "      <td>0.0</td>\n",
       "    </tr>\n",
       "    <tr>\n",
       "      <th>0.02</th>\n",
       "      <td>0.0</td>\n",
       "      <td>2.997069e-08</td>\n",
       "      <td>5.871809e-08</td>\n",
       "      <td>8.624220e-08</td>\n",
       "      <td>1.125430e-07</td>\n",
       "      <td>1.376205e-07</td>\n",
       "      <td>1.614748e-07</td>\n",
       "      <td>1.841057e-07</td>\n",
       "      <td>2.055133e-07</td>\n",
       "      <td>2.256977e-07</td>\n",
       "      <td>...</td>\n",
       "      <td>2.256977e-07</td>\n",
       "      <td>2.055133e-07</td>\n",
       "      <td>1.841057e-07</td>\n",
       "      <td>1.614748e-07</td>\n",
       "      <td>1.376205e-07</td>\n",
       "      <td>1.125430e-07</td>\n",
       "      <td>8.624220e-08</td>\n",
       "      <td>5.871809e-08</td>\n",
       "      <td>2.997069e-08</td>\n",
       "      <td>0.0</td>\n",
       "    </tr>\n",
       "    <tr>\n",
       "      <th>0.04</th>\n",
       "      <td>0.0</td>\n",
       "      <td>1.174362e-07</td>\n",
       "      <td>2.300791e-07</td>\n",
       "      <td>3.379286e-07</td>\n",
       "      <td>4.409848e-07</td>\n",
       "      <td>5.392478e-07</td>\n",
       "      <td>6.327174e-07</td>\n",
       "      <td>7.213937e-07</td>\n",
       "      <td>8.052767e-07</td>\n",
       "      <td>8.843664e-07</td>\n",
       "      <td>...</td>\n",
       "      <td>8.843664e-07</td>\n",
       "      <td>8.052767e-07</td>\n",
       "      <td>7.213937e-07</td>\n",
       "      <td>6.327174e-07</td>\n",
       "      <td>5.392478e-07</td>\n",
       "      <td>4.409848e-07</td>\n",
       "      <td>3.379286e-07</td>\n",
       "      <td>2.300791e-07</td>\n",
       "      <td>1.174362e-07</td>\n",
       "      <td>0.0</td>\n",
       "    </tr>\n",
       "  </tbody>\n",
       "</table>\n",
       "<p>3 rows × 51 columns</p>\n",
       "</div>"
      ],
      "text/plain": [
       "p1      0.00          0.02          0.04          0.06          0.08  \\\n",
       "N p0                                                                   \n",
       "0 0.00   0.0  0.000000e+00  0.000000e+00  0.000000e+00  0.000000e+00   \n",
       "  0.02   0.0  2.997069e-08  5.871809e-08  8.624220e-08  1.125430e-07   \n",
       "  0.04   0.0  1.174362e-07  2.300791e-07  3.379286e-07  4.409848e-07   \n",
       "\n",
       "p1              0.10          0.12          0.14          0.16          0.18  \\\n",
       "N p0                                                                           \n",
       "0 0.00  0.000000e+00  0.000000e+00  0.000000e+00  0.000000e+00  0.000000e+00   \n",
       "  0.02  1.376205e-07  1.614748e-07  1.841057e-07  2.055133e-07  2.256977e-07   \n",
       "  0.04  5.392478e-07  6.327174e-07  7.213937e-07  8.052767e-07  8.843664e-07   \n",
       "\n",
       "p1      ...          0.82          0.84          0.86          0.88  \\\n",
       "N p0    ...                                                           \n",
       "0 0.00  ...  0.000000e+00  0.000000e+00  0.000000e+00  0.000000e+00   \n",
       "  0.02  ...  2.256977e-07  2.055133e-07  1.841057e-07  1.614748e-07   \n",
       "  0.04  ...  8.843664e-07  8.052767e-07  7.213937e-07  6.327174e-07   \n",
       "\n",
       "p1              0.90          0.92          0.94          0.96          0.98  \\\n",
       "N p0                                                                           \n",
       "0 0.00  0.000000e+00  0.000000e+00  0.000000e+00  0.000000e+00  0.000000e+00   \n",
       "  0.02  1.376205e-07  1.125430e-07  8.624220e-08  5.871809e-08  2.997069e-08   \n",
       "  0.04  5.392478e-07  4.409848e-07  3.379286e-07  2.300791e-07  1.174362e-07   \n",
       "\n",
       "p1      1.00  \n",
       "N p0          \n",
       "0 0.00   0.0  \n",
       "  0.02   0.0  \n",
       "  0.04   0.0  \n",
       "\n",
       "[3 rows x 51 columns]"
      ]
     },
     "execution_count": 21,
     "metadata": {},
     "output_type": "execute_result"
    }
   ],
   "source": [
    "joint3.head(3)"
   ]
  },
  {
   "cell_type": "markdown",
   "metadata": {},
   "source": [
    "Now I'll apply `stack` again:"
   ]
  },
  {
   "cell_type": "code",
   "execution_count": 22,
   "metadata": {
    "execution": {
     "iopub.execute_input": "2021-04-16T19:37:54.271012Z",
     "iopub.status.busy": "2021-04-16T19:37:54.270430Z",
     "iopub.status.idle": "2021-04-16T19:37:54.281206Z",
     "shell.execute_reply": "2021-04-16T19:37:54.280739Z"
    }
   },
   "outputs": [
    {
     "data": {
      "text/html": [
       "<div>\n",
       "<style scoped>\n",
       "    .dataframe tbody tr th:only-of-type {\n",
       "        vertical-align: middle;\n",
       "    }\n",
       "\n",
       "    .dataframe tbody tr th {\n",
       "        vertical-align: top;\n",
       "    }\n",
       "\n",
       "    .dataframe thead th {\n",
       "        text-align: right;\n",
       "    }\n",
       "</style>\n",
       "<table border=\"1\" class=\"dataframe\">\n",
       "  <thead>\n",
       "    <tr style=\"text-align: right;\">\n",
       "      <th></th>\n",
       "      <th></th>\n",
       "      <th></th>\n",
       "      <th>probs</th>\n",
       "    </tr>\n",
       "    <tr>\n",
       "      <th>N</th>\n",
       "      <th>p0</th>\n",
       "      <th>p1</th>\n",
       "      <th></th>\n",
       "    </tr>\n",
       "  </thead>\n",
       "  <tbody>\n",
       "    <tr>\n",
       "      <th rowspan=\"3\" valign=\"top\">0</th>\n",
       "      <th rowspan=\"3\" valign=\"top\">0.0</th>\n",
       "      <th>0.00</th>\n",
       "      <td>0.0</td>\n",
       "    </tr>\n",
       "    <tr>\n",
       "      <th>0.02</th>\n",
       "      <td>0.0</td>\n",
       "    </tr>\n",
       "    <tr>\n",
       "      <th>0.04</th>\n",
       "      <td>0.0</td>\n",
       "    </tr>\n",
       "  </tbody>\n",
       "</table>\n",
       "</div>"
      ],
      "text/plain": [
       "N  p0   p1  \n",
       "0  0.0  0.00    0.0\n",
       "        0.02    0.0\n",
       "        0.04    0.0\n",
       "Name: , dtype: float64"
      ]
     },
     "execution_count": 22,
     "metadata": {},
     "output_type": "execute_result"
    }
   ],
   "source": [
    "joint3_pmf = Pmf(joint3.stack())\n",
    "joint3_pmf.head(3)"
   ]
  },
  {
   "cell_type": "markdown",
   "metadata": {},
   "source": [
    "The result is a `Pmf` with a three-column `MultiIndex` containing all possible triplets of parameters.\n",
    "\n",
    "The number of rows is the product of the number of values in all three priors:"
   ]
  },
  {
   "cell_type": "code",
   "execution_count": 23,
   "metadata": {
    "execution": {
     "iopub.execute_input": "2021-04-16T19:37:54.284532Z",
     "iopub.status.busy": "2021-04-16T19:37:54.283882Z",
     "iopub.status.idle": "2021-04-16T19:37:54.286757Z",
     "shell.execute_reply": "2021-04-16T19:37:54.286325Z"
    }
   },
   "outputs": [
    {
     "data": {
      "text/plain": [
       "(28611,)"
      ]
     },
     "execution_count": 23,
     "metadata": {},
     "output_type": "execute_result"
    }
   ],
   "source": [
    "joint3_pmf.shape"
   ]
  },
  {
   "cell_type": "markdown",
   "metadata": {},
   "source": [
    "That's still small enough to be practical, but it will take longer to compute the likelihoods than in the previous example."
   ]
  },
  {
   "cell_type": "markdown",
   "metadata": {},
   "source": [
    "## The Update (Three-Parameter Version)\n",
    "\n",
    "Here's the loop that computes the likelihoods.\n",
    "It's similar to the one in the previous section, except that `y` is no longer constant; we compute it each time through the loop from hypothetical values of `p0` and `p1`."
   ]
  },
  {
   "cell_type": "code",
   "execution_count": 24,
   "metadata": {
    "execution": {
     "iopub.execute_input": "2021-04-16T19:37:54.291184Z",
     "iopub.status.busy": "2021-04-16T19:37:54.290454Z",
     "iopub.status.idle": "2021-04-16T19:38:12.997223Z",
     "shell.execute_reply": "2021-04-16T19:38:12.996695Z"
    }
   },
   "outputs": [
    {
     "name": "stderr",
     "output_type": "stream",
     "text": [
      "/home/downey/miniconda3/envs/ThinkBayes2/lib/python3.10/site-packages/scipy/stats/_multivariate.py:3190: RuntimeWarning: invalid value encountered in subtract\n",
      "  return gammaln(n+1) + np.sum(xlogy(x, p) - gammaln(x+1), axis=-1)\n"
     ]
    }
   ],
   "source": [
    "likelihood = joint3_pmf.copy()\n",
    "observed = data.sum()\n",
    "x = data.copy()\n",
    "\n",
    "for N, p0, p1 in joint3_pmf.index:\n",
    "    x[0] = N - observed\n",
    "    y = compute_probs(p0, p1)\n",
    "    likelihood[N, p0, p1] = multinomial.pmf(x, N, y)"
   ]
  },
  {
   "cell_type": "markdown",
   "metadata": {},
   "source": [
    "We can compute the posterior in the usual way."
   ]
  },
  {
   "cell_type": "code",
   "execution_count": 25,
   "metadata": {
    "execution": {
     "iopub.execute_input": "2021-04-16T19:38:13.000759Z",
     "iopub.status.busy": "2021-04-16T19:38:13.000131Z",
     "iopub.status.idle": "2021-04-16T19:38:13.006898Z",
     "shell.execute_reply": "2021-04-16T19:38:13.006422Z"
    }
   },
   "outputs": [
    {
     "data": {
      "text/plain": [
       "0.03437554251769621"
      ]
     },
     "execution_count": 25,
     "metadata": {},
     "output_type": "execute_result"
    }
   ],
   "source": [
    "posterior_pmf = joint3_pmf * likelihood\n",
    "posterior_pmf.normalize()"
   ]
  },
  {
   "cell_type": "markdown",
   "metadata": {},
   "source": [
    "Here's the posterior marginal distribution `N`."
   ]
  },
  {
   "cell_type": "code",
   "execution_count": 26,
   "metadata": {
    "execution": {
     "iopub.execute_input": "2021-04-16T19:38:13.010138Z",
     "iopub.status.busy": "2021-04-16T19:38:13.009641Z",
     "iopub.status.idle": "2021-04-16T19:38:13.015759Z",
     "shell.execute_reply": "2021-04-16T19:38:13.015325Z"
    }
   },
   "outputs": [],
   "source": [
    "posterior_N = posterior_pmf.marginal(0)"
   ]
  },
  {
   "cell_type": "code",
   "execution_count": 27,
   "metadata": {
    "execution": {
     "iopub.execute_input": "2021-04-16T19:38:13.040703Z",
     "iopub.status.busy": "2021-04-16T19:38:13.030126Z",
     "iopub.status.idle": "2021-04-16T19:38:13.177605Z",
     "shell.execute_reply": "2021-04-16T19:38:13.177145Z"
    }
   },
   "outputs": [
    {
     "data": {
      "image/png": "[encoded data removed]",
      "text/plain": [
       "<Figure size 640x480 with 1 Axes>"
      ]
     },
     "metadata": {},
     "output_type": "display_data"
    }
   ],
   "source": [
    "prior_N.plot(color='C7', alpha=0.4, label='prior')\n",
    "posterior_N.plot(color='C4', label='posterior')\n",
    "\n",
    "decorate(xlabel='Number of bugs (N)',\n",
    "         ylabel='PDF',\n",
    "         title='Posterior marginal distributions of N')"
   ]
  },
  {
   "cell_type": "markdown",
   "metadata": {},
   "source": [
    "To compute the probability that there is at least one undiscovered typo, we can convert the posterior distribution to a survival function (complementary CDF):"
   ]
  },
  {
   "cell_type": "code",
   "execution_count": 28,
   "metadata": {},
   "outputs": [
    {
     "data": {
      "text/plain": [
       "0.369576444173048"
      ]
     },
     "execution_count": 28,
     "metadata": {},
     "output_type": "execute_result"
    }
   ],
   "source": [
    "posterior_N.make_surv()[observed]"
   ]
  },
  {
   "cell_type": "markdown",
   "metadata": {},
   "source": [
    "The probability is about 37% that there's another typo -- so that's good news!\n",
    "\n",
    "The posterior mean is about 2.5, which is a little higher than what we got with the simple model."
   ]
  },
  {
   "cell_type": "code",
   "execution_count": 29,
   "metadata": {
    "execution": {
     "iopub.execute_input": "2021-04-16T19:38:13.181343Z",
     "iopub.status.busy": "2021-04-16T19:38:13.180742Z",
     "iopub.status.idle": "2021-04-16T19:38:13.183133Z",
     "shell.execute_reply": "2021-04-16T19:38:13.183477Z"
    }
   },
   "outputs": [
    {
     "data": {
      "text/plain": [
       "2.4963989774563107"
      ]
     },
     "execution_count": 29,
     "metadata": {},
     "output_type": "execute_result"
    }
   ],
   "source": [
    "posterior_N.mean()"
   ]
  },
  {
   "cell_type": "markdown",
   "metadata": {},
   "source": [
    "Apparently our uncertainty about `p0` and `p1` leaves open the possibility that there are more typos and we are not very good at finding them.\n",
    "Here's what the posterior distributions look like for `p0` and `p1`. "
   ]
  },
  {
   "cell_type": "code",
   "execution_count": 30,
   "metadata": {
    "execution": {
     "iopub.execute_input": "2021-04-16T19:38:13.187388Z",
     "iopub.status.busy": "2021-04-16T19:38:13.186841Z",
     "iopub.status.idle": "2021-04-16T19:38:13.340072Z",
     "shell.execute_reply": "2021-04-16T19:38:13.339679Z"
    },
    "tags": [
     "hide-input"
    ]
   },
   "outputs": [
    {
     "data": {
      "image/png": "[encoded data removed]",
      "text/plain": [
       "<Figure size 640x480 with 1 Axes>"
      ]
     },
     "metadata": {},
     "output_type": "display_data"
    }
   ],
   "source": [
    "posterior_p1 = posterior_pmf.marginal(1)\n",
    "posterior_p2 = posterior_pmf.marginal(2)\n",
    "\n",
    "posterior_p1.plot(label='p1')\n",
    "posterior_p2.plot(label='p2')\n",
    "\n",
    "decorate(xlabel='Probability of finding a bug',\n",
    "         ylabel='PDF',\n",
    "         title='Posterior marginal distributions of p1 and p2')"
   ]
  },
  {
   "cell_type": "markdown",
   "metadata": {},
   "source": [
    "With so little data, the posterior distributions are still quite wide, but the posterior means are a little smaller than the priors."
   ]
  },
  {
   "cell_type": "code",
   "execution_count": 31,
   "metadata": {
    "execution": {
     "iopub.execute_input": "2021-04-16T19:38:13.344502Z",
     "iopub.status.busy": "2021-04-16T19:38:13.344075Z",
     "iopub.status.idle": "2021-04-16T19:38:13.348520Z",
     "shell.execute_reply": "2021-04-16T19:38:13.348155Z"
    }
   },
   "outputs": [
    {
     "data": {
      "text/plain": [
       "(0.5383375553393667, array([0.24, 0.82]))"
      ]
     },
     "execution_count": 31,
     "metadata": {},
     "output_type": "execute_result"
    }
   ],
   "source": [
    "posterior_p1.mean(), posterior_p1.credible_interval(0.9)"
   ]
  },
  {
   "cell_type": "code",
   "execution_count": 32,
   "metadata": {
    "execution": {
     "iopub.execute_input": "2021-04-16T19:38:13.352681Z",
     "iopub.status.busy": "2021-04-16T19:38:13.352235Z",
     "iopub.status.idle": "2021-04-16T19:38:13.356101Z",
     "shell.execute_reply": "2021-04-16T19:38:13.355713Z"
    }
   },
   "outputs": [
    {
     "data": {
      "text/plain": [
       "(0.46718395159883724, array([0.16, 0.78]))"
      ]
     },
     "execution_count": 32,
     "metadata": {},
     "output_type": "execute_result"
    }
   ],
   "source": [
    "posterior_p2.mean(), posterior_p2.credible_interval(0.9)"
   ]
  },
  {
   "cell_type": "markdown",
   "metadata": {},
   "source": [
    "The fact that Michelle and I found only two typos is weak evidence that we are not as good at finding them as the priors implied."
   ]
  },
  {
   "cell_type": "markdown",
   "metadata": {},
   "source": [
    "At this point, we've answered the first question: given that Michelle and I found different bugs, the expected value for the number of remaining typos is about 0.5.\n",
    "\n",
    "In the counterfactual case, if we had found the same typo, we would represent the data like this:"
   ]
  },
  {
   "cell_type": "code",
   "execution_count": 33,
   "metadata": {},
   "outputs": [],
   "source": [
    "k10 = 0\n",
    "k01 = 0\n",
    "k11 = 1"
   ]
  },
  {
   "cell_type": "markdown",
   "metadata": {},
   "source": [
    "If we run the analysis with this data, we find:\n",
    "\n",
    "* The expected number of remaining typos is about 0.3 (compared to 0.5), \n",
    "\n",
    "* there would be only a 25% chance that there is at least one undiscovered typo, and\n",
    "\n",
    "* we would conclude that Michelle and I are slightly better at finding typos."
   ]
  },
  {
   "cell_type": "markdown",
   "metadata": {},
   "source": [
    "This notebook is based on [this chapter of *Think Bayes*, Second Edition](https://allendowney.github.io/ThinkBayes2/chap15.html#the-lincoln-index-problem).\n",
    "\n",
    "Copyright 2023 Allen B. Downey\n",
    "\n",
    "License: [Attribution-NonCommercial-ShareAlike 4.0 International (CC BY-NC-SA 4.0)](https://creativecommons.org/licenses/by-nc-sa/4.0/)"
   ]
  },
  {
   "cell_type": "code",
   "execution_count": null,
   "metadata": {},
   "outputs": [],
   "source": []
  }
 ],
 "metadata": {
  "celltoolbar": "Tags",
  "kernelspec": {
   "display_name": "Python 3 (ipykernel)",
   "language": "python",
   "name": "python3"
  },
  "language_info": {
   "codemirror_mode": {
    "name": "ipython",
    "version": 3
   },
   "file_extension": ".py",
   "mimetype": "text/x-python",
   "name": "python",
   "nbconvert_exporter": "python",
   "pygments_lexer": "ipython3",
   "version": "3.10.9"
  }
 },
 "nbformat": 4,
 "nbformat_minor": 1
}
