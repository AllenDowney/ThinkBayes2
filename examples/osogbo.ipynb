{
 "cells": [
  {
   "cell_type": "markdown",
   "metadata": {},
   "source": [
    "# Survival Analysis"
   ]
  },
  {
   "cell_type": "code",
   "execution_count": 1,
   "metadata": {
    "execution": {
     "iopub.execute_input": "2021-04-16T19:37:27.970806Z",
     "iopub.status.busy": "2021-04-16T19:37:27.970215Z",
     "iopub.status.idle": "2021-04-16T19:37:27.972416Z",
     "shell.execute_reply": "2021-04-16T19:37:27.971942Z"
    },
    "tags": []
   },
   "outputs": [],
   "source": [
    "# If we're running on Colab, install empiricaldist\n",
    "# https://pypi.org/project/empiricaldist/\n",
    "\n",
    "import sys\n",
    "IN_COLAB = 'google.colab' in sys.modules\n",
    "\n",
    "if IN_COLAB:\n",
    "    !pip install empiricaldist"
   ]
  },
  {
   "cell_type": "code",
   "execution_count": 2,
   "metadata": {
    "execution": {
     "iopub.execute_input": "2021-04-16T19:37:27.976032Z",
     "iopub.status.busy": "2021-04-16T19:37:27.975593Z",
     "iopub.status.idle": "2021-04-16T19:37:27.977681Z",
     "shell.execute_reply": "2021-04-16T19:37:27.977307Z"
    },
    "tags": []
   },
   "outputs": [],
   "source": [
    "# Get utils.py\n",
    "\n",
    "from os.path import basename, exists\n",
    "\n",
    "def download(url):\n",
    "    filename = basename(url)\n",
    "    if not exists(filename):\n",
    "        from urllib.request import urlretrieve\n",
    "        local, _ = urlretrieve(url, filename)\n",
    "        print('Downloaded ' + local)\n",
    "    \n",
    "download('https://github.com/AllenDowney/ThinkBayes2/raw/master/soln/utils.py')"
   ]
  },
  {
   "cell_type": "code",
   "execution_count": 3,
   "metadata": {
    "execution": {
     "iopub.execute_input": "2021-04-16T19:37:27.980924Z",
     "iopub.status.busy": "2021-04-16T19:37:27.980273Z",
     "iopub.status.idle": "2021-04-16T19:37:28.658584Z",
     "shell.execute_reply": "2021-04-16T19:37:28.659033Z"
    },
    "tags": []
   },
   "outputs": [],
   "source": [
    "from utils import set_pyplot_params\n",
    "set_pyplot_params()"
   ]
  },
  {
   "cell_type": "markdown",
   "metadata": {
    "tags": []
   },
   "source": [
    "The following cell downloads the data."
   ]
  },
  {
   "cell_type": "code",
   "execution_count": 4,
   "metadata": {
    "execution": {
     "iopub.execute_input": "2021-04-16T19:37:28.662755Z",
     "iopub.status.busy": "2021-04-16T19:37:28.662317Z",
     "iopub.status.idle": "2021-04-16T19:37:28.664128Z",
     "shell.execute_reply": "2021-04-16T19:37:28.664481Z"
    },
    "tags": []
   },
   "outputs": [],
   "source": [
    "download('https://github.com/AllenDowney/ThinkBayes2/raw/master/examples/Osogbo2021.csv')"
   ]
  },
  {
   "cell_type": "markdown",
   "metadata": {},
   "source": [
    "I'll use Pandas to load the data into a `DataFrame`."
   ]
  },
  {
   "cell_type": "code",
   "execution_count": 5,
   "metadata": {
    "execution": {
     "iopub.execute_input": "2021-04-16T19:37:28.669139Z",
     "iopub.status.busy": "2021-04-16T19:37:28.668327Z",
     "iopub.status.idle": "2021-04-16T19:37:28.679256Z",
     "shell.execute_reply": "2021-04-16T19:37:28.678840Z"
    }
   },
   "outputs": [
    {
     "data": {
      "text/html": [
       "<div>\n",
       "<style scoped>\n",
       "    .dataframe tbody tr th:only-of-type {\n",
       "        vertical-align: middle;\n",
       "    }\n",
       "\n",
       "    .dataframe tbody tr th {\n",
       "        vertical-align: top;\n",
       "    }\n",
       "\n",
       "    .dataframe thead th {\n",
       "        text-align: right;\n",
       "    }\n",
       "</style>\n",
       "<table border=\"1\" class=\"dataframe\">\n",
       "  <thead>\n",
       "    <tr style=\"text-align: right;\">\n",
       "      <th></th>\n",
       "      <th>TIME(In Days)</th>\n",
       "      <th>AGE OF PATIENTS</th>\n",
       "      <th>CENSOR</th>\n",
       "      <th>AGE AT MENARACHE</th>\n",
       "      <th>BREASTFEED</th>\n",
       "      <th>CONTRACEPT</th>\n",
       "      <th>DETECTION</th>\n",
       "      <th>NEOADJUVANT</th>\n",
       "    </tr>\n",
       "  </thead>\n",
       "  <tbody>\n",
       "    <tr>\n",
       "      <th>0</th>\n",
       "      <td>48</td>\n",
       "      <td>44</td>\n",
       "      <td>1</td>\n",
       "      <td>18</td>\n",
       "      <td>1.5</td>\n",
       "      <td>2</td>\n",
       "      <td>1</td>\n",
       "      <td>2</td>\n",
       "    </tr>\n",
       "    <tr>\n",
       "      <th>1</th>\n",
       "      <td>898</td>\n",
       "      <td>43</td>\n",
       "      <td>0</td>\n",
       "      <td>17</td>\n",
       "      <td>1.0</td>\n",
       "      <td>1</td>\n",
       "      <td>1</td>\n",
       "      <td>2</td>\n",
       "    </tr>\n",
       "    <tr>\n",
       "      <th>2</th>\n",
       "      <td>36</td>\n",
       "      <td>40</td>\n",
       "      <td>0</td>\n",
       "      <td>15</td>\n",
       "      <td>2.0</td>\n",
       "      <td>2</td>\n",
       "      <td>1</td>\n",
       "      <td>2</td>\n",
       "    </tr>\n",
       "    <tr>\n",
       "      <th>3</th>\n",
       "      <td>23</td>\n",
       "      <td>56</td>\n",
       "      <td>1</td>\n",
       "      <td>15</td>\n",
       "      <td>1.5</td>\n",
       "      <td>1</td>\n",
       "      <td>1</td>\n",
       "      <td>1</td>\n",
       "    </tr>\n",
       "    <tr>\n",
       "      <th>4</th>\n",
       "      <td>300</td>\n",
       "      <td>53</td>\n",
       "      <td>0</td>\n",
       "      <td>12</td>\n",
       "      <td>1.0</td>\n",
       "      <td>2</td>\n",
       "      <td>1</td>\n",
       "      <td>2</td>\n",
       "    </tr>\n",
       "  </tbody>\n",
       "</table>\n",
       "</div>"
      ],
      "text/plain": [
       "   TIME(In Days)  AGE OF PATIENTS  CENSOR  AGE AT MENARACHE  BREASTFEED  \\\n",
       "0             48               44       1                18         1.5   \n",
       "1            898               43       0                17         1.0   \n",
       "2             36               40       0                15         2.0   \n",
       "3             23               56       1                15         1.5   \n",
       "4            300               53       0                12         1.0   \n",
       "\n",
       "   CONTRACEPT  DETECTION  NEOADJUVANT  \n",
       "0           2          1            2  \n",
       "1           1          1            2  \n",
       "2           2          1            2  \n",
       "3           1          1            1  \n",
       "4           2          1            2  "
      ]
     },
     "execution_count": 5,
     "metadata": {},
     "output_type": "execute_result"
    }
   ],
   "source": [
    "import pandas as pd\n",
    "\n",
    "df = pd.read_csv('Osogbo2021.csv')\n",
    "df.head()"
   ]
  },
  {
   "cell_type": "code",
   "execution_count": 7,
   "metadata": {},
   "outputs": [],
   "source": [
    "duration = df['TIME(In Days)']"
   ]
  },
  {
   "cell_type": "code",
   "execution_count": 8,
   "metadata": {},
   "outputs": [],
   "source": [
    "import numpy as np\n",
    "\n",
    "log_duration = np.log10(duration)"
   ]
  },
  {
   "cell_type": "code",
   "execution_count": 9,
   "metadata": {
    "execution": {
     "iopub.execute_input": "2021-04-16T19:37:28.691538Z",
     "iopub.status.busy": "2021-04-16T19:37:28.691003Z",
     "iopub.status.idle": "2021-04-16T19:37:28.894479Z",
     "shell.execute_reply": "2021-04-16T19:37:28.894857Z"
    }
   },
   "outputs": [
    {
     "data": {
      "image/png": "[encoded data removed]",
      "text/plain": [
       "<Figure size 432x288 with 1 Axes>"
      ]
     },
     "metadata": {
      "needs_background": "light"
     },
     "output_type": "display_data"
    }
   ],
   "source": [
    "from empiricaldist import Cdf\n",
    "from utils import decorate\n",
    "\n",
    "cdf = Cdf.from_seq(log_duration)\n",
    "cdf.plot()\n",
    "    \n",
    "decorate(xlabel='Survival time (log10 days)', \n",
    "         ylabel='CDF',\n",
    "         title='Distribution raw survival times')"
   ]
  },
  {
   "cell_type": "code",
   "execution_count": 10,
   "metadata": {},
   "outputs": [
    {
     "data": {
      "text/plain": [
       "(2.064186566935665, 0.849952354519006)"
      ]
     },
     "execution_count": 10,
     "metadata": {},
     "output_type": "execute_result"
    }
   ],
   "source": [
    "mu = log_duration.mean()\n",
    "sigma = log_duration.std()\n",
    "mu, sigma"
   ]
  },
  {
   "cell_type": "code",
   "execution_count": 11,
   "metadata": {
    "execution": {
     "iopub.execute_input": "2021-04-16T19:37:28.898796Z",
     "iopub.status.busy": "2021-04-16T19:37:28.898324Z",
     "iopub.status.idle": "2021-04-16T19:37:28.900180Z",
     "shell.execute_reply": "2021-04-16T19:37:28.900554Z"
    }
   },
   "outputs": [],
   "source": [
    "from empiricaldist import Pmf\n",
    "\n",
    "def make_uniform(qs, name=None, **options):\n",
    "    \"\"\"Make a Pmf that represents a uniform distribution.\"\"\"\n",
    "    pmf = Pmf(1.0, qs, **options)\n",
    "    pmf.normalize()\n",
    "    if name:\n",
    "        pmf.index.name = name\n",
    "    return pmf"
   ]
  },
  {
   "cell_type": "code",
   "execution_count": 12,
   "metadata": {
    "execution": {
     "iopub.execute_input": "2021-04-16T19:37:28.905031Z",
     "iopub.status.busy": "2021-04-16T19:37:28.904601Z",
     "iopub.status.idle": "2021-04-16T19:37:28.906705Z",
     "shell.execute_reply": "2021-04-16T19:37:28.907185Z"
    }
   },
   "outputs": [],
   "source": [
    "import numpy as np\n",
    "\n",
    "qs = np.linspace(2, 4, num=101)\n",
    "prior_mu = make_uniform(qs, name='mean')"
   ]
  },
  {
   "cell_type": "markdown",
   "metadata": {},
   "source": [
    "I chose the lower and upper bounds by trial and error.\n",
    "I'll explain how when we look at the posterior distribution.\n",
    "\n",
    "Here's the prior distribution for `sigma`:"
   ]
  },
  {
   "cell_type": "code",
   "execution_count": 13,
   "metadata": {
    "execution": {
     "iopub.execute_input": "2021-04-16T19:37:28.912722Z",
     "iopub.status.busy": "2021-04-16T19:37:28.912090Z",
     "iopub.status.idle": "2021-04-16T19:37:28.914846Z",
     "shell.execute_reply": "2021-04-16T19:37:28.914286Z"
    }
   },
   "outputs": [],
   "source": [
    "qs = np.linspace(0.01, 1, num=90)\n",
    "prior_sigma = make_uniform(qs, name='std')"
   ]
  },
  {
   "cell_type": "markdown",
   "metadata": {},
   "source": [
    "Now we can use `make_joint` to make the joint prior distribution."
   ]
  },
  {
   "cell_type": "code",
   "execution_count": 14,
   "metadata": {
    "execution": {
     "iopub.execute_input": "2021-04-16T19:37:28.918892Z",
     "iopub.status.busy": "2021-04-16T19:37:28.918336Z",
     "iopub.status.idle": "2021-04-16T19:37:28.920584Z",
     "shell.execute_reply": "2021-04-16T19:37:28.921030Z"
    }
   },
   "outputs": [],
   "source": [
    "from utils import make_joint\n",
    "\n",
    "prior = make_joint(prior_mu, prior_sigma)"
   ]
  },
  {
   "cell_type": "markdown",
   "metadata": {},
   "source": [
    "And we'll start by working with the data from the control group."
   ]
  },
  {
   "cell_type": "code",
   "execution_count": 15,
   "metadata": {
    "execution": {
     "iopub.execute_input": "2021-04-16T19:37:28.924782Z",
     "iopub.status.busy": "2021-04-16T19:37:28.924226Z",
     "iopub.status.idle": "2021-04-16T19:37:28.926918Z",
     "shell.execute_reply": "2021-04-16T19:37:28.927340Z"
    }
   },
   "outputs": [
    {
     "data": {
      "text/plain": [
       "(38, 51)"
      ]
     },
     "execution_count": 15,
     "metadata": {},
     "output_type": "execute_result"
    }
   ],
   "source": [
    "complete = (df['CENSOR'] == 0)\n",
    "data_complete = log_duration[complete]\n",
    "data_ongoing = log_duration[~complete]\n",
    "\n",
    "len(data_complete), len(data_ongoing)"
   ]
  },
  {
   "cell_type": "markdown",
   "metadata": {},
   "source": [
    "## Likelihood\n",
    "\n",
    "First update"
   ]
  },
  {
   "cell_type": "code",
   "execution_count": 16,
   "metadata": {
    "execution": {
     "iopub.execute_input": "2021-04-16T19:37:28.931426Z",
     "iopub.status.busy": "2021-04-16T19:37:28.930801Z",
     "iopub.status.idle": "2021-04-16T19:37:28.936844Z",
     "shell.execute_reply": "2021-04-16T19:37:28.937332Z"
    }
   },
   "outputs": [
    {
     "data": {
      "text/plain": [
       "(90, 101, 38)"
      ]
     },
     "execution_count": 16,
     "metadata": {},
     "output_type": "execute_result"
    }
   ],
   "source": [
    "mu_mesh, sigma_mesh, data_mesh = np.meshgrid(\n",
    "    prior.columns, prior.index, data_complete)\n",
    "\n",
    "mu_mesh.shape"
   ]
  },
  {
   "cell_type": "code",
   "execution_count": 17,
   "metadata": {
    "execution": {
     "iopub.execute_input": "2021-04-16T19:37:28.942522Z",
     "iopub.status.busy": "2021-04-16T19:37:28.941934Z",
     "iopub.status.idle": "2021-04-16T19:37:28.966243Z",
     "shell.execute_reply": "2021-04-16T19:37:28.965778Z"
    }
   },
   "outputs": [
    {
     "data": {
      "text/plain": [
       "(90, 101, 38)"
      ]
     },
     "execution_count": 17,
     "metadata": {},
     "output_type": "execute_result"
    }
   ],
   "source": [
    "from scipy.stats import norm\n",
    "\n",
    "densities = norm(mu_mesh, sigma_mesh).pdf(data_mesh)\n",
    "densities.shape"
   ]
  },
  {
   "cell_type": "code",
   "execution_count": 18,
   "metadata": {
    "execution": {
     "iopub.execute_input": "2021-04-16T19:37:28.969673Z",
     "iopub.status.busy": "2021-04-16T19:37:28.968985Z",
     "iopub.status.idle": "2021-04-16T19:37:28.973058Z",
     "shell.execute_reply": "2021-04-16T19:37:28.972560Z"
    }
   },
   "outputs": [
    {
     "data": {
      "text/plain": [
       "(90, 101)"
      ]
     },
     "execution_count": 18,
     "metadata": {},
     "output_type": "execute_result"
    }
   ],
   "source": [
    "likelihood = densities.prod(axis=2)\n",
    "likelihood.shape"
   ]
  },
  {
   "cell_type": "code",
   "execution_count": 19,
   "metadata": {
    "execution": {
     "iopub.execute_input": "2021-04-16T19:37:28.978511Z",
     "iopub.status.busy": "2021-04-16T19:37:28.977443Z",
     "iopub.status.idle": "2021-04-16T19:37:28.981763Z",
     "shell.execute_reply": "2021-04-16T19:37:28.981310Z"
    }
   },
   "outputs": [
    {
     "data": {
      "text/plain": [
       "(90, 101)"
      ]
     },
     "execution_count": 19,
     "metadata": {},
     "output_type": "execute_result"
    }
   ],
   "source": [
    "from utils import normalize\n",
    "\n",
    "posterior = prior * likelihood\n",
    "normalize(posterior)\n",
    "posterior.shape"
   ]
  },
  {
   "cell_type": "markdown",
   "metadata": {},
   "source": [
    "Second update"
   ]
  },
  {
   "cell_type": "code",
   "execution_count": 20,
   "metadata": {
    "execution": {
     "iopub.execute_input": "2021-04-16T19:37:28.931426Z",
     "iopub.status.busy": "2021-04-16T19:37:28.930801Z",
     "iopub.status.idle": "2021-04-16T19:37:28.936844Z",
     "shell.execute_reply": "2021-04-16T19:37:28.937332Z"
    }
   },
   "outputs": [
    {
     "data": {
      "text/plain": [
       "(90, 101, 51)"
      ]
     },
     "execution_count": 20,
     "metadata": {},
     "output_type": "execute_result"
    }
   ],
   "source": [
    "mu_mesh, sigma_mesh, data_mesh = np.meshgrid(\n",
    "    prior.columns, prior.index, data_ongoing)\n",
    "\n",
    "mu_mesh.shape"
   ]
  },
  {
   "cell_type": "code",
   "execution_count": 21,
   "metadata": {
    "execution": {
     "iopub.execute_input": "2021-04-16T19:37:28.942522Z",
     "iopub.status.busy": "2021-04-16T19:37:28.941934Z",
     "iopub.status.idle": "2021-04-16T19:37:28.966243Z",
     "shell.execute_reply": "2021-04-16T19:37:28.965778Z"
    }
   },
   "outputs": [
    {
     "data": {
      "text/plain": [
       "(90, 101, 51)"
      ]
     },
     "execution_count": 21,
     "metadata": {},
     "output_type": "execute_result"
    }
   ],
   "source": [
    "from scipy.stats import norm\n",
    "\n",
    "densities = norm(mu_mesh, sigma_mesh).sf(data_mesh)\n",
    "densities.shape"
   ]
  },
  {
   "cell_type": "code",
   "execution_count": 22,
   "metadata": {
    "execution": {
     "iopub.execute_input": "2021-04-16T19:37:28.969673Z",
     "iopub.status.busy": "2021-04-16T19:37:28.968985Z",
     "iopub.status.idle": "2021-04-16T19:37:28.973058Z",
     "shell.execute_reply": "2021-04-16T19:37:28.972560Z"
    }
   },
   "outputs": [
    {
     "data": {
      "text/plain": [
       "(90, 101)"
      ]
     },
     "execution_count": 22,
     "metadata": {},
     "output_type": "execute_result"
    }
   ],
   "source": [
    "likelihood = densities.prod(axis=2)\n",
    "likelihood.shape"
   ]
  },
  {
   "cell_type": "code",
   "execution_count": 23,
   "metadata": {
    "execution": {
     "iopub.execute_input": "2021-04-16T19:37:28.978511Z",
     "iopub.status.busy": "2021-04-16T19:37:28.977443Z",
     "iopub.status.idle": "2021-04-16T19:37:28.981763Z",
     "shell.execute_reply": "2021-04-16T19:37:28.981310Z"
    }
   },
   "outputs": [
    {
     "data": {
      "text/plain": [
       "(90, 101)"
      ]
     },
     "execution_count": 23,
     "metadata": {},
     "output_type": "execute_result"
    }
   ],
   "source": [
    "from utils import normalize\n",
    "\n",
    "posterior2 = posterior * likelihood\n",
    "normalize(posterior2)\n",
    "posterior2.shape"
   ]
  },
  {
   "cell_type": "code",
   "execution_count": 24,
   "metadata": {
    "execution": {
     "iopub.execute_input": "2021-04-16T19:37:29.059387Z",
     "iopub.status.busy": "2021-04-16T19:37:29.048016Z",
     "iopub.status.idle": "2021-04-16T19:37:29.235472Z",
     "shell.execute_reply": "2021-04-16T19:37:29.235823Z"
    },
    "tags": []
   },
   "outputs": [
    {
     "data": {
      "image/png": "[encoded data removed]",
      "text/plain": [
       "<Figure size 432x288 with 1 Axes>"
      ]
     },
     "metadata": {
      "needs_background": "light"
     },
     "output_type": "display_data"
    }
   ],
   "source": [
    "import matplotlib.pyplot as plt\n",
    "from utils import plot_contour\n",
    "\n",
    "plot_contour(posterior2, cmap='Blues')\n",
    "\n",
    "decorate(xlabel='Mean (mu)', \n",
    "         ylabel='Standard deviation (sigma)',\n",
    "         title='Joint posterior distributions of mu and sigma')"
   ]
  },
  {
   "cell_type": "markdown",
   "metadata": {},
   "source": [
    "## Posterior Marginal Distributions\n",
    "\n",
    "I'll use `marginal`, which we saw in <<_MarginalDistributions>>, to extract the posterior marginal distributions for the population means."
   ]
  },
  {
   "cell_type": "code",
   "execution_count": 25,
   "metadata": {
    "execution": {
     "iopub.execute_input": "2021-04-16T19:37:29.239347Z",
     "iopub.status.busy": "2021-04-16T19:37:29.238897Z",
     "iopub.status.idle": "2021-04-16T19:37:29.243057Z",
     "shell.execute_reply": "2021-04-16T19:37:29.242677Z"
    }
   },
   "outputs": [],
   "source": [
    "from utils import marginal\n",
    "\n"
   ]
  },
  {
   "cell_type": "markdown",
   "metadata": {},
   "source": [
    "Here's what they look like:"
   ]
  },
  {
   "cell_type": "code",
   "execution_count": 26,
   "metadata": {
    "execution": {
     "iopub.execute_input": "2021-04-16T19:37:29.283479Z",
     "iopub.status.busy": "2021-04-16T19:37:29.263758Z",
     "iopub.status.idle": "2021-04-16T19:37:29.391453Z",
     "shell.execute_reply": "2021-04-16T19:37:29.390972Z"
    },
    "scrolled": true
   },
   "outputs": [
    {
     "data": {
      "image/png": "[encoded data removed]",
      "text/plain": [
       "<Figure size 432x288 with 1 Axes>"
      ]
     },
     "metadata": {
      "needs_background": "light"
     },
     "output_type": "display_data"
    }
   ],
   "source": [
    "pmf_mean = marginal(posterior, 0)\n",
    "pmf_mean.plot()\n",
    "\n",
    "pmf_mean2 = marginal(posterior2, 0)\n",
    "pmf_mean2.plot()\n",
    "\n",
    "decorate(xlabel='Population mean (mu)', \n",
    "         ylabel='PDF', \n",
    "         title='Posterior distributions of mu')"
   ]
  },
  {
   "cell_type": "code",
   "execution_count": 27,
   "metadata": {
    "execution": {
     "iopub.execute_input": "2021-04-16T19:37:29.283479Z",
     "iopub.status.busy": "2021-04-16T19:37:29.263758Z",
     "iopub.status.idle": "2021-04-16T19:37:29.391453Z",
     "shell.execute_reply": "2021-04-16T19:37:29.390972Z"
    }
   },
   "outputs": [
    {
     "data": {
      "image/png": "[encoded data removed]",
      "text/plain": [
       "<Figure size 432x288 with 1 Axes>"
      ]
     },
     "metadata": {
      "needs_background": "light"
     },
     "output_type": "display_data"
    }
   ],
   "source": [
    "pmf_std = marginal(posterior, 1)\n",
    "pmf_std.plot()\n",
    "\n",
    "pmf_std2 = marginal(posterior2, 1)\n",
    "pmf_std2.plot()\n",
    "\n",
    "decorate(xlabel='Population std (sigma)', \n",
    "         ylabel='PDF')"
   ]
  },
  {
   "cell_type": "code",
   "execution_count": 29,
   "metadata": {},
   "outputs": [
    {
     "data": {
      "text/plain": [
       "(2.7800000000000002, 0.4660674157303371)"
      ]
     },
     "execution_count": 29,
     "metadata": {},
     "output_type": "execute_result"
    }
   ],
   "source": [
    "pmf_mean2.idxmax(), pmf_std2.idxmax()"
   ]
  },
  {
   "cell_type": "code",
   "execution_count": 30,
   "metadata": {},
   "outputs": [
    {
     "ename": "ModuleNotFoundError",
     "evalue": "No module named 'lifelines'",
     "output_type": "error",
     "traceback": [
      "\u001b[0;31m---------------------------------------------------------------------------\u001b[0m",
      "\u001b[0;31mModuleNotFoundError\u001b[0m                       Traceback (most recent call last)",
      "\u001b[0;32m/tmp/ipykernel_195977/4180200288.py\u001b[0m in \u001b[0;36m<module>\u001b[0;34m\u001b[0m\n\u001b[0;32m----> 1\u001b[0;31m \u001b[0;32mimport\u001b[0m \u001b[0mlifelines\u001b[0m\u001b[0;34m\u001b[0m\u001b[0;34m\u001b[0m\u001b[0m\n\u001b[0m",
      "\u001b[0;31mModuleNotFoundError\u001b[0m: No module named 'lifelines'"
     ]
    }
   ],
   "source": []
  },
  {
   "cell_type": "markdown",
   "metadata": {
    "tags": []
   },
   "source": [
    "Think Bayes, Second Edition\n",
    "\n",
    "Copyright 2020 Allen B. Downey\n",
    "\n",
    "License: [Attribution-NonCommercial-ShareAlike 4.0 International (CC BY-NC-SA 4.0)](https://creativecommons.org/licenses/by-nc-sa/4.0/)"
   ]
  }
 ],
 "metadata": {
  "celltoolbar": "Tags",
  "kernelspec": {
   "display_name": "Python 3 (ipykernel)",
   "language": "python",
   "name": "python3"
  },
  "language_info": {
   "codemirror_mode": {
    "name": "ipython",
    "version": 3
   },
   "file_extension": ".py",
   "mimetype": "text/x-python",
   "name": "python",
   "nbconvert_exporter": "python",
   "pygments_lexer": "ipython3",
   "version": "3.9.7"
  }
 },
 "nbformat": 4,
 "nbformat_minor": 4
}
