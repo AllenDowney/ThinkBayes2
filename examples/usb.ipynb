{
 "cells": [
  {
   "cell_type": "markdown",
   "metadata": {},
   "source": [
    "# Flipping USB Connectors\n"
   ]
  },
  {
   "cell_type": "markdown",
   "metadata": {},
   "source": [
    "This notebook is one of the examples in the second edition of [*Think Bayes*](https://greenteapress.com/wp/think-bayes/).\n",
    "\n",
    "[Click here to run this notebook on Colab](https://colab.research.google.com/github/AllenDowney/ThinkBayes2/blob/master/examples/usb.ipynb)."
   ]
  },
  {
   "cell_type": "markdown",
   "metadata": {},
   "source": [
    "I am not the first person to observe that it sometimes takes several tries to plug in a USB connector (specifically the rectangular [Type A connector](https://en.wikipedia.org/wiki/USB), which is not reversible).\n",
    "There are [memes about it](https://knowyourmeme.com/memes/usb-insertion-issues), there are [cartoons about it](https://www.smbc-comics.com/?id=2388), and on Quora alone,\n",
    "[people](https://www.quora.com/Why-do-you-always-have-to-flip-a-USB-twice-when-trying-to-plug-it-in-Shouldn-t-it-have-gone-in-the-first-time-when-you-had-it-the-right-way)\n",
    "[have](https://www.quora.com/There-is-a-50-chance-of-plugging-in-a-USB-cable-the-right-way-on-the-first-try-Why-does-it-only-happen-20-of-the-time-when-I-do-it)\n",
    "[asked](https://www.quora.com/Why-doesnt-the-USB-go-in-the-first-time-but-does-after-youve-turn-it-a-few-times)\n",
    "[about](https://www.quora.com/People-that-can-plug-the-USB-in-on-their-first-try-How)\n",
    "[it](https://www.quora.com/Why-cant-we-plug-in-USB-devices-correctly-the-first-time) more than once.\n",
    "\n",
    "But I might be the first to use Bayesian decision analysis to figure out the optimal strategy for plugging in a USB connector. Specifically, I have worked out how long you should try on the first side before flipping, how long you should try on the second side before flipping again, how long you should try on the third side, and so on."
   ]
  },
  {
   "cell_type": "markdown",
   "metadata": {},
   "source": [
    "Of course, my analysis is based on some modeling assumptions:\n",
    "\n",
    "1. Initially, the probability is 0.5 that the connector is in the right orientation.\n",
    "\n",
    "2. If it is, the time it takes to succeed follows an exponential distribution with a mean of 1.1 seconds.\n",
    "\n",
    "3. Flipping the connector takes 0.1 seconds.\n",
    "\n",
    "With that, we are ready to get started."
   ]
  },
  {
   "cell_type": "markdown",
   "metadata": {},
   "source": [
    "## Continuous Updates\n",
    "\n",
    "The first step is to figure out the probability that the connector is in the right orientation as a function of how long you have been trying.\n",
    "For that, we can use a Bayes table, which is a form of Bayes's Theorem I use in [Chapter 2 of *Think Bayes*](https://allendowney.github.io/ThinkBayes2/chap02.html#bayes-tables).\n",
    "\n",
    "The following function takes a sequence of hypotheses, prior probabilities, and likelihoods, and returns a pandas `DataFrame` that represents a Bayes table."
   ]
  },
  {
   "cell_type": "code",
   "execution_count": 1,
   "metadata": {},
   "outputs": [],
   "source": [
    "import pandas as pd\n",
    "\n",
    "def bayes_table(hypos, prior, likelihood):\n",
    "    \"\"\"Make a table showing a Bayesian update.\"\"\"\n",
    "    table = pd.DataFrame(dict(prior=prior, likelihood=likelihood), index=hypos)\n",
    "    table['unnorm'] = table['prior'] * table['likelihood']\n",
    "    prob_data = table['unnorm'].sum()\n",
    "    table['posterior'] = table['unnorm'] / prob_data\n",
    "    return table"
   ]
  },
  {
   "cell_type": "markdown",
   "metadata": {},
   "source": [
    "Now suppose that the prior probability is 0.5 that the orientation of the connector is correct, and you have been trying for 0.9 seconds.\n",
    "What is the likelihood that you would have to try so long?\n",
    "\n",
    "* If you are on the wrong side, it is 100%.\n",
    "\n",
    "* If you are on the right side, it's given by the survival function (complementary CDF) of the exponential distribution, which is $\\exp(-\\lambda t)$, where $\\lambda$ is the rate parameter and $t$ is time.\n",
    "\n",
    "The following function computes this likelihood:"
   ]
  },
  {
   "cell_type": "code",
   "execution_count": 2,
   "metadata": {},
   "outputs": [],
   "source": [
    "import numpy as np\n",
    "\n",
    "def expo_sf(t, lam):\n",
    "    \"\"\"Survival function of the exponential distribution.\"\"\"\n",
    "    return np.exp(-lam * t)"
   ]
  },
  {
   "cell_type": "markdown",
   "metadata": {},
   "source": [
    "We can use this function to compute the likelihood of trying for 0.9 seconds or more, given an exponential distribution with mean 1.1."
   ]
  },
  {
   "cell_type": "code",
   "execution_count": 3,
   "metadata": {},
   "outputs": [
    {
     "data": {
      "text/plain": [
       "0.441233167759984"
      ]
     },
     "execution_count": 3,
     "metadata": {},
     "output_type": "execute_result"
    }
   ],
   "source": [
    "t = 0.9\n",
    "mu = 1.1\n",
    "lam = 1/mu\n",
    "\n",
    "expo_sf(t, lam)"
   ]
  },
  {
   "cell_type": "markdown",
   "metadata": {},
   "source": [
    "The result is the likelihood of the data, given that the orientation of the connector is correct.\n",
    "\n",
    "Now let's make a Bayes table with two hypotheses -- the connector is either the right way or the wrong way -- with equal prior probabilities."
   ]
  },
  {
   "cell_type": "code",
   "execution_count": 4,
   "metadata": {},
   "outputs": [],
   "source": [
    "hypos = ['Right way', 'Wrong way']\n",
    "prior = [1/2, 1/2]"
   ]
  },
  {
   "cell_type": "markdown",
   "metadata": {},
   "source": [
    "And here is the likelihood of the data for each hypothesis:"
   ]
  },
  {
   "cell_type": "code",
   "execution_count": 5,
   "metadata": {},
   "outputs": [],
   "source": [
    "likelihood = [expo_sf(t, lam), 1]"
   ]
  },
  {
   "cell_type": "markdown",
   "metadata": {},
   "source": [
    "Putting it together, here's the Bayes table."
   ]
  },
  {
   "cell_type": "code",
   "execution_count": 6,
   "metadata": {},
   "outputs": [
    {
     "data": {
      "text/html": [
       "<div>\n",
       "<style scoped>\n",
       "    .dataframe tbody tr th:only-of-type {\n",
       "        vertical-align: middle;\n",
       "    }\n",
       "\n",
       "    .dataframe tbody tr th {\n",
       "        vertical-align: top;\n",
       "    }\n",
       "\n",
       "    .dataframe thead th {\n",
       "        text-align: right;\n",
       "    }\n",
       "</style>\n",
       "<table border=\"1\" class=\"dataframe\">\n",
       "  <thead>\n",
       "    <tr style=\"text-align: right;\">\n",
       "      <th></th>\n",
       "      <th>prior</th>\n",
       "      <th>likelihood</th>\n",
       "      <th>unnorm</th>\n",
       "      <th>posterior</th>\n",
       "    </tr>\n",
       "  </thead>\n",
       "  <tbody>\n",
       "    <tr>\n",
       "      <th>Right way</th>\n",
       "      <td>0.5</td>\n",
       "      <td>0.441233</td>\n",
       "      <td>0.220617</td>\n",
       "      <td>0.30615</td>\n",
       "    </tr>\n",
       "    <tr>\n",
       "      <th>Wrong way</th>\n",
       "      <td>0.5</td>\n",
       "      <td>1.000000</td>\n",
       "      <td>0.500000</td>\n",
       "      <td>0.69385</td>\n",
       "    </tr>\n",
       "  </tbody>\n",
       "</table>\n",
       "</div>"
      ],
      "text/plain": [
       "           prior  likelihood    unnorm  posterior\n",
       "Right way    0.5    0.441233  0.220617    0.30615\n",
       "Wrong way    0.5    1.000000  0.500000    0.69385"
      ]
     },
     "execution_count": 6,
     "metadata": {},
     "output_type": "execute_result"
    }
   ],
   "source": [
    "bayes_table(hypos, prior, likelihood)"
   ]
  },
  {
   "cell_type": "markdown",
   "metadata": {},
   "source": [
    "After 0.9 seconds, the probability is about 69% that the orientation of the connector is wrong, so you might want to think about trying the other side.\n",
    "\n",
    "But if it takes 0.1 seconds to flip, maybe you should keep trying a little longer. To figure out when to flip, let's do the same analysis again for general values of $\\lambda$ and $t$."
   ]
  },
  {
   "cell_type": "markdown",
   "metadata": {},
   "source": [
    "## Generalization\n",
    "\n",
    "To minimize human error, I'll use Sympy to do the algebra. Here are the symbols I'll use."
   ]
  },
  {
   "cell_type": "code",
   "execution_count": 7,
   "metadata": {},
   "outputs": [],
   "source": [
    "from sympy import symbols, exp\n",
    "\n",
    "t, lam, p, q, r = symbols('t lam p q r')"
   ]
  },
  {
   "cell_type": "markdown",
   "metadata": {},
   "source": [
    "Here's the likelihood again, using the symbols."
   ]
  },
  {
   "cell_type": "code",
   "execution_count": 8,
   "metadata": {},
   "outputs": [
    {
     "data": {
      "text/plain": [
       "[exp(-lam*t), 1]"
      ]
     },
     "execution_count": 8,
     "metadata": {},
     "output_type": "execute_result"
    }
   ],
   "source": [
    "likelihood = [exp(-lam * t), 1]\n",
    "likelihood"
   ]
  },
  {
   "cell_type": "markdown",
   "metadata": {},
   "source": [
    "And here's the Bayes table, using $p$ and $q$ for the prior probabilities of the hypotheses."
   ]
  },
  {
   "cell_type": "code",
   "execution_count": 9,
   "metadata": {},
   "outputs": [
    {
     "data": {
      "text/html": [
       "<div>\n",
       "<style scoped>\n",
       "    .dataframe tbody tr th:only-of-type {\n",
       "        vertical-align: middle;\n",
       "    }\n",
       "\n",
       "    .dataframe tbody tr th {\n",
       "        vertical-align: top;\n",
       "    }\n",
       "\n",
       "    .dataframe thead th {\n",
       "        text-align: right;\n",
       "    }\n",
       "</style>\n",
       "<table border=\"1\" class=\"dataframe\">\n",
       "  <thead>\n",
       "    <tr style=\"text-align: right;\">\n",
       "      <th></th>\n",
       "      <th>prior</th>\n",
       "      <th>likelihood</th>\n",
       "      <th>unnorm</th>\n",
       "      <th>posterior</th>\n",
       "    </tr>\n",
       "  </thead>\n",
       "  <tbody>\n",
       "    <tr>\n",
       "      <th>Right way</th>\n",
       "      <td>p</td>\n",
       "      <td>exp(-lam*t)</td>\n",
       "      <td>p*exp(-lam*t)</td>\n",
       "      <td>p*exp(-lam*t)/(p*exp(-lam*t) + q)</td>\n",
       "    </tr>\n",
       "    <tr>\n",
       "      <th>Wrong way</th>\n",
       "      <td>q</td>\n",
       "      <td>1</td>\n",
       "      <td>q</td>\n",
       "      <td>q/(p*exp(-lam*t) + q)</td>\n",
       "    </tr>\n",
       "  </tbody>\n",
       "</table>\n",
       "</div>"
      ],
      "text/plain": [
       "          prior   likelihood         unnorm                          posterior\n",
       "Right way     p  exp(-lam*t)  p*exp(-lam*t)  p*exp(-lam*t)/(p*exp(-lam*t) + q)\n",
       "Wrong way     q            1              q              q/(p*exp(-lam*t) + q)"
      ]
     },
     "execution_count": 9,
     "metadata": {},
     "output_type": "execute_result"
    }
   ],
   "source": [
    "prior = [p, q]\n",
    "table = bayes_table(hypos, prior, likelihood)\n",
    "table"
   ]
  },
  {
   "cell_type": "markdown",
   "metadata": {},
   "source": [
    "From the table I'll select the posterior probability that the orientation is correct."
   ]
  },
  {
   "cell_type": "code",
   "execution_count": 10,
   "metadata": {},
   "outputs": [
    {
     "data": {
      "text/latex": [
       "$\\displaystyle \\frac{p}{p + q e^{lam t}}$"
      ],
      "text/plain": [
       "p/(p + q*exp(lam*t))"
      ]
     },
     "execution_count": 10,
     "metadata": {},
     "output_type": "execute_result"
    }
   ],
   "source": [
    "expr = table.loc['Right way', 'posterior']\n",
    "expr.simplify()"
   ]
  },
  {
   "cell_type": "markdown",
   "metadata": {},
   "source": [
    "You might recognize this as a form of the [logistic function](https://en.wikipedia.org/wiki/Logistic_function); we can compute it like this:"
   ]
  },
  {
   "cell_type": "code",
   "execution_count": 11,
   "metadata": {},
   "outputs": [],
   "source": [
    "def logistic(p, lam, t):\n",
    "    q = 1-p\n",
    "    return p / (p + q * np.exp(lam * t))"
   ]
  },
  {
   "cell_type": "markdown",
   "metadata": {},
   "source": [
    "Let's see what that looks like for a range of values of `t`, assuming that the prior probability is `p=0.5`."
   ]
  },
  {
   "cell_type": "code",
   "execution_count": 12,
   "metadata": {},
   "outputs": [
    {
     "data": {
      "image/png": "[encoded data removed]",
      "text/plain": [
       "<Figure size 432x288 with 1 Axes>"
      ]
     },
     "metadata": {
      "needs_background": "light"
     },
     "output_type": "display_data"
    }
   ],
   "source": [
    "import matplotlib.pyplot as plt\n",
    "\n",
    "ts = np.linspace(0, 4)\n",
    "ps = logistic(p=0.5, lam=1/mu, t=ts)\n",
    "\n",
    "plt.plot(ts, ps)\n",
    "plt.xlabel(\"How long you've been trying (seconds)\")\n",
    "plt.ylabel(\"Probability the orientation is right\");"
   ]
  },
  {
   "cell_type": "markdown",
   "metadata": {},
   "source": [
    "After a few seconds of fiddling, you should be reasonably convinced that the orientation is wrong."
   ]
  },
  {
   "cell_type": "markdown",
   "metadata": {},
   "source": [
    "## Strategy\n",
    "\n",
    "Now, let's think about turning belief into action. Let me start with a conjecture: I suspect that the best strategy is to try on the first side until the probability of correct orientation drops below some threshold (to be determined), then try on the second side until the probability drops below that threshold again, and repeat until success.\n",
    "\n",
    "To test this strategy, we will have to figure out how long to try as a function of the prior probability, `p`, and the threshold probability, `r`. Again, I'll make Sympy do the work.\n",
    "\n",
    "Here's the equation that sets the posterior probability, which we computed in the previous section, to `r`."
   ]
  },
  {
   "cell_type": "code",
   "execution_count": 13,
   "metadata": {},
   "outputs": [
    {
     "data": {
      "text/latex": [
       "$\\displaystyle \\frac{p e^{- lam t}}{p e^{- lam t} + q} = r$"
      ],
      "text/plain": [
       "Eq(p*exp(-lam*t)/(p*exp(-lam*t) + q), r)"
      ]
     },
     "execution_count": 13,
     "metadata": {},
     "output_type": "execute_result"
    }
   ],
   "source": [
    "from sympy import Eq, solve\n",
    "\n",
    "eqn = Eq(expr, r)\n",
    "eqn"
   ]
  },
  {
   "cell_type": "markdown",
   "metadata": {},
   "source": [
    "And here's the solution for `t` in terms of `p`, `q`, `r`, and `lam`."
   ]
  },
  {
   "cell_type": "code",
   "execution_count": 14,
   "metadata": {},
   "outputs": [
    {
     "data": {
      "text/latex": [
       "$\\displaystyle \\frac{\\log{\\left(\\frac{p \\left(1 - r\\right)}{q r} \\right)}}{lam}$"
      ],
      "text/plain": [
       "log(p*(1 - r)/(q*r))/lam"
      ]
     },
     "execution_count": 14,
     "metadata": {},
     "output_type": "execute_result"
    }
   ],
   "source": [
    "solve(eqn, t)[0]"
   ]
  },
  {
   "cell_type": "markdown",
   "metadata": {},
   "source": [
    "And here's how we can express this solution in terms of the prior and posterior odds."
   ]
  },
  {
   "cell_type": "code",
   "execution_count": 15,
   "metadata": {},
   "outputs": [],
   "source": [
    "def wait_time(p, lam, r):\n",
    "    q = 1-p\n",
    "    prior_odds = p / q\n",
    "    posterior_odds = r / (1-r)\n",
    "    return np.log(prior_odds / posterior_odds) / lam"
   ]
  },
  {
   "cell_type": "markdown",
   "metadata": {},
   "source": [
    "Let's see what that looks like for a range of values of `r`, assuming that the prior probability is `p=0.5`."
   ]
  },
  {
   "cell_type": "code",
   "execution_count": 16,
   "metadata": {},
   "outputs": [
    {
     "data": {
      "image/png": "[encoded data removed]",
      "text/plain": [
       "<Figure size 432x288 with 1 Axes>"
      ]
     },
     "metadata": {
      "needs_background": "light"
     },
     "output_type": "display_data"
    }
   ],
   "source": [
    "rs = np.linspace(0.05, 0.5)\n",
    "ts = wait_time(p=0.5, lam=1/mu, r=rs)\n",
    "\n",
    "plt.plot(rs, ts, color='C2')\n",
    "plt.xlabel(\"Probability the orientation is right\")\n",
    "plt.ylabel(\"How long to keep trying (seconds)\");"
   ]
  },
  {
   "cell_type": "markdown",
   "metadata": {},
   "source": [
    "When the threshold is low, we have to wait a few seconds to reach it. As the threshold increases, the time to reach it decreases.\n",
    "We'll use this function in the next section to simulate the strategy."
   ]
  },
  {
   "cell_type": "markdown",
   "metadata": {},
   "source": [
    "## Simulation\n",
    "\n",
    "As a step toward optimization, let's run a simulation. The following function takes as parameters:\n",
    "\n",
    "* `correct`: A Boolean indicating if the orientation is correct.\n",
    "* `p`: The prior probability that the orientation is correct.\n",
    "* `lam`: The rate parameter for the distribution of time until success.\n",
    "* `r`: The threshold for the posterior probability.\n",
    "* `flip`: The time it takes to flip the connector, in seconds.\n",
    "* `trace`: A list that indicates how much time we have spent, so far, trying and flipping.\n",
    "\n",
    "It runs the simulation and returns a sequence of waiting and flipping times. The sum of this sequence is the total time it took to connect. And we can use the length of the sequence to figure out how many times we had to flip."
   ]
  },
  {
   "cell_type": "code",
   "execution_count": 17,
   "metadata": {},
   "outputs": [],
   "source": [
    "def simulate(correct, p, lam, r, flip, trace):\n",
    "    # figure out the maximum time we should try before flipping\n",
    "    wait = wait_time(p, lam, r)\n",
    "    \n",
    "    # if we're on the correct side, see if we succeed before time's up\n",
    "    if correct:\n",
    "        t = np.random.exponential(1/lam)\n",
    "        if t < wait:\n",
    "            # if so, update and return the trace\n",
    "            return trace + [t]\n",
    "    \n",
    "    # if time expired, add the wait time and flip time to the trace  \n",
    "    # and make a recursive call to continue the simulation\n",
    "    return simulate(not correct, 1-r, lam, r, flip, trace + [wait, flip])"
   ]
  },
  {
   "cell_type": "markdown",
   "metadata": {},
   "source": [
    "Here's a test run, starting on the correct side."
   ]
  },
  {
   "cell_type": "code",
   "execution_count": 18,
   "metadata": {},
   "outputs": [
    {
     "data": {
      "text/plain": [
       "[0.24846062544031747]"
      ]
     },
     "execution_count": 18,
     "metadata": {},
     "output_type": "execute_result"
    }
   ],
   "source": [
    "simulate(correct=True, p=0.5, lam=1/mu, r=0.2, flip=0.1, trace=[])"
   ]
  },
  {
   "cell_type": "markdown",
   "metadata": {},
   "source": [
    "And here's a run where we start on the wrong side."
   ]
  },
  {
   "cell_type": "code",
   "execution_count": 19,
   "metadata": {},
   "outputs": [
    {
     "data": {
      "text/plain": [
       "[1.5249237972318797, 0.1, 0.8563018209476607]"
      ]
     },
     "execution_count": 19,
     "metadata": {},
     "output_type": "execute_result"
    }
   ],
   "source": [
    "simulate(correct=False, p=0.5, lam=1/mu, r=0.2, flip=0.1, trace=[])"
   ]
  },
  {
   "cell_type": "markdown",
   "metadata": {},
   "source": [
    "The following function runs the simulation many times with initial probability `p=0.5`, starting in the right orientation half the time.\n",
    "\n",
    "It returns two arrays, containing the length of the trace and the total duration for each simulation."
   ]
  },
  {
   "cell_type": "code",
   "execution_count": 20,
   "metadata": {},
   "outputs": [],
   "source": [
    "def run_simulations(lam, r, flip, iters=20000, flag=None):\n",
    "    res = []\n",
    "    for i in range(iters):\n",
    "        correct = i%2 if flag is None else flag\n",
    "        trace = simulate(correct, 0.5, lam, r, flip, [])\n",
    "        res.append((len(trace), sum(trace)))\n",
    "        \n",
    "    return np.transpose(res)"
   ]
  },
  {
   "cell_type": "markdown",
   "metadata": {},
   "source": [
    "Here's the average total duration with threshold probability `r=0.25`."
   ]
  },
  {
   "cell_type": "code",
   "execution_count": 21,
   "metadata": {},
   "outputs": [
    {
     "data": {
      "text/plain": [
       "2.4265255008111306"
      ]
     },
     "execution_count": 21,
     "metadata": {},
     "output_type": "execute_result"
    }
   ],
   "source": [
    "lengths, totals = run_simulations(lam=1/mu, r=0.25, flip=0.1)\n",
    "totals.mean()"
   ]
  },
  {
   "cell_type": "markdown",
   "metadata": {},
   "source": [
    "With this threshold, it takes about 2 seconds to connect, on average."
   ]
  },
  {
   "cell_type": "markdown",
   "metadata": {},
   "source": [
    "## Optimization\n",
    "\n",
    "Now let's see how the average duration varies as we sweep through a range of values for the threshold probability, `r`:"
   ]
  },
  {
   "cell_type": "code",
   "execution_count": 22,
   "metadata": {},
   "outputs": [
    {
     "data": {
      "text/plain": [
       "array([0.15  , 0.1625, 0.175 , 0.1875, 0.2   , 0.2125, 0.225 , 0.2375,\n",
       "       0.25  , 0.2625, 0.275 , 0.2875, 0.3   , 0.3125, 0.325 , 0.3375,\n",
       "       0.35  , 0.3625, 0.375 , 0.3875, 0.4   ])"
      ]
     },
     "execution_count": 22,
     "metadata": {},
     "output_type": "execute_result"
    }
   ],
   "source": [
    "rs = np.linspace(0.15, 0.4, 21)\n",
    "rs"
   ]
  },
  {
   "cell_type": "code",
   "execution_count": 23,
   "metadata": {},
   "outputs": [],
   "source": [
    "np.random.seed(17)\n",
    "\n",
    "res = []\n",
    "for r in rs:\n",
    "    lengths, totals = run_simulations(lam=1/mu, r=r, flip=0.1)\n",
    "    res.append((r, totals.mean()))"
   ]
  },
  {
   "cell_type": "code",
   "execution_count": 24,
   "metadata": {
    "tags": [
     "hide-cell"
    ]
   },
   "outputs": [],
   "source": [
    "from statsmodels.nonparametric.smoothers_lowess import lowess\n",
    "\n",
    "def make_lowess(series):\n",
    "    \"\"\"Use LOWESS to compute a smooth line.\n",
    "\n",
    "    series: pd.Series\n",
    "\n",
    "    returns: pd.Series\n",
    "    \"\"\"\n",
    "    endog = series.values\n",
    "    exog = series.index.values\n",
    "\n",
    "    smooth = lowess(endog, exog)\n",
    "    index, data = np.transpose(smooth)\n",
    "\n",
    "    return pd.Series(data, index=index)"
   ]
  },
  {
   "cell_type": "code",
   "execution_count": 25,
   "metadata": {
    "tags": [
     "hide-cell"
    ]
   },
   "outputs": [],
   "source": [
    "def plot_series_lowess(series, color):\n",
    "    \"\"\"Plots a series of data points and a smooth line.\n",
    "\n",
    "    series: pd.Series\n",
    "    color: string or tuple\n",
    "    \"\"\"\n",
    "    series.plot(lw=0, marker='o', color=color, alpha=0.5)\n",
    "    smooth = make_lowess(series)\n",
    "    smooth.plot(label='_', color=color)"
   ]
  },
  {
   "cell_type": "markdown",
   "metadata": {},
   "source": [
    "Here's what the results look like."
   ]
  },
  {
   "cell_type": "code",
   "execution_count": 26,
   "metadata": {},
   "outputs": [
    {
     "data": {
      "image/png": "[encoded data removed]",
      "text/plain": [
       "<Figure size 432x288 with 1 Axes>"
      ]
     },
     "metadata": {
      "needs_background": "light"
     },
     "output_type": "display_data"
    }
   ],
   "source": [
    "rs, ts = np.transpose(res)\n",
    "series = pd.Series(ts, rs)\n",
    "\n",
    "plot_series_lowess(series, 'C1')\n",
    "\n",
    "plt.xlabel(\"Threshold probability where you flip (r)\")\n",
    "plt.ylabel(\"Average total duration (seconds)\");"
   ]
  },
  {
   "cell_type": "markdown",
   "metadata": {},
   "source": [
    "The optimal value of `r` is close to `0.3`. With that threshold we can see how long we should try on the first side, starting with prior probability `p=0.5`."
   ]
  },
  {
   "cell_type": "code",
   "execution_count": 27,
   "metadata": {},
   "outputs": [
    {
     "data": {
      "text/plain": [
       "0.9320276464259238"
      ]
     },
     "execution_count": 27,
     "metadata": {},
     "output_type": "execute_result"
    }
   ],
   "source": [
    "r_opt = 0.3\n",
    "wait_time(p=0.5, lam=1/mu, r=r_opt)"
   ]
  },
  {
   "cell_type": "markdown",
   "metadata": {},
   "source": [
    "With the given values of `lam` and `flip`, it turns out the optimal time to wait is about `0.9` seconds.\n",
    "\n",
    "If we have to flip, the prior probability for the second side is `p=1-r`, so we have to wait twice as long for the posterior probability to get down to `r`."
   ]
  },
  {
   "cell_type": "code",
   "execution_count": 28,
   "metadata": {},
   "outputs": [
    {
     "data": {
      "text/plain": [
       "1.864055292851848"
      ]
     },
     "execution_count": 28,
     "metadata": {},
     "output_type": "execute_result"
    }
   ],
   "source": [
    "wait_time(p=1-r_opt, lam=1/mu, r=r_opt)"
   ]
  },
  {
   "cell_type": "markdown",
   "metadata": {},
   "source": [
    "## How many flips?\n",
    "\n",
    "Now let's run the simulations with the optimal value of `r` and see what the distributions look like for the total time and the number of flips."
   ]
  },
  {
   "cell_type": "code",
   "execution_count": 29,
   "metadata": {},
   "outputs": [],
   "source": [
    "lengths1, totals1 = run_simulations(lam=1/mu, r=r_opt, flip=0.1, flag=True)\n",
    "lengths2, totals2 = run_simulations(lam=1/mu, r=r_opt, flip=0.1, flag=False)"
   ]
  },
  {
   "cell_type": "markdown",
   "metadata": {},
   "source": [
    "Here's the distribution of total time, represented as a CDF."
   ]
  },
  {
   "cell_type": "code",
   "execution_count": 30,
   "metadata": {
    "tags": [
     "hide-cell"
    ]
   },
   "outputs": [],
   "source": [
    "try:\n",
    "    import empiricaldist\n",
    "except ImportError:\n",
    "    !pip install empiricaldist"
   ]
  },
  {
   "cell_type": "code",
   "execution_count": 31,
   "metadata": {},
   "outputs": [
    {
     "data": {
      "image/png": "[encoded data removed]",
      "text/plain": [
       "<Figure size 432x288 with 1 Axes>"
      ]
     },
     "metadata": {
      "needs_background": "light"
     },
     "output_type": "display_data"
    }
   ],
   "source": [
    "from empiricaldist import Cdf\n",
    "\n",
    "Cdf.from_seq(totals1).plot(lw=2, label='Right the first time')\n",
    "Cdf.from_seq(totals2).plot(lw=2, label='Wrong the first time')\n",
    "\n",
    "plt.xlabel('Total time to connect (seconds)')\n",
    "plt.ylabel('CDF')\n",
    "plt.title('Distribution of total time to connect')\n",
    "plt.legend();"
   ]
  },
  {
   "cell_type": "code",
   "execution_count": 32,
   "metadata": {},
   "outputs": [
    {
     "data": {
      "text/plain": [
       "(2.2006236558767154, 2.616228241925388)"
      ]
     },
     "execution_count": 32,
     "metadata": {},
     "output_type": "execute_result"
    }
   ],
   "source": [
    "totals1.mean(), totals2.mean()"
   ]
  },
  {
   "cell_type": "code",
   "execution_count": 33,
   "metadata": {},
   "outputs": [
    {
     "data": {
      "text/plain": [
       "(4.601034595944718, 5.636579992175272)"
      ]
     },
     "execution_count": 33,
     "metadata": {},
     "output_type": "execute_result"
    }
   ],
   "source": [
    "np.percentile(totals1, 90), np.percentile(totals2, 90)"
   ]
  },
  {
   "cell_type": "code",
   "execution_count": 34,
   "metadata": {},
   "outputs": [
    {
     "data": {
      "text/plain": [
       "2.4084259489010518"
      ]
     },
     "execution_count": 34,
     "metadata": {},
     "output_type": "execute_result"
    }
   ],
   "source": [
    "np.append(totals1, totals2).mean()"
   ]
  },
  {
   "cell_type": "markdown",
   "metadata": {},
   "source": [
    "The average is about 2.4 seconds, but occasionally it takes much longer!\n",
    "\n",
    "And here's the distribution for the total number of flips."
   ]
  },
  {
   "cell_type": "code",
   "execution_count": 35,
   "metadata": {},
   "outputs": [
    {
     "data": {
      "image/png": "[encoded data removed]",
      "text/plain": [
       "<Figure size 432x288 with 1 Axes>"
      ]
     },
     "metadata": {
      "needs_background": "light"
     },
     "output_type": "display_data"
    }
   ],
   "source": [
    "from empiricaldist import Pmf\n",
    "\n",
    "flips1 = (lengths1-1) // 2\n",
    "pmf1 = Pmf.from_seq(flips1) / 2\n",
    "pmf1.bar(alpha=0.7, label='Right the first time')\n",
    "\n",
    "flips2 = (lengths2-1) // 2\n",
    "pmf2 = Pmf.from_seq(flips2) / 2\n",
    "pmf2.bar(alpha=0.7, label='Right the second time')\n",
    "\n",
    "plt.xlabel('How many times you have to flip')\n",
    "plt.ylabel('PMF')\n",
    "plt.title('Distribution of number of flips')\n",
    "plt.legend();"
   ]
  },
  {
   "cell_type": "code",
   "execution_count": 36,
   "metadata": {},
   "outputs": [
    {
     "data": {
      "text/html": [
       "<div>\n",
       "<style scoped>\n",
       "    .dataframe tbody tr th:only-of-type {\n",
       "        vertical-align: middle;\n",
       "    }\n",
       "\n",
       "    .dataframe tbody tr th {\n",
       "        vertical-align: top;\n",
       "    }\n",
       "\n",
       "    .dataframe thead th {\n",
       "        text-align: right;\n",
       "    }\n",
       "</style>\n",
       "<table border=\"1\" class=\"dataframe\">\n",
       "  <thead>\n",
       "    <tr style=\"text-align: right;\">\n",
       "      <th></th>\n",
       "      <th>probs</th>\n",
       "    </tr>\n",
       "  </thead>\n",
       "  <tbody>\n",
       "    <tr>\n",
       "      <th>0.0</th>\n",
       "      <td>0.282925</td>\n",
       "    </tr>\n",
       "    <tr>\n",
       "      <th>1.0</th>\n",
       "      <td>0.407050</td>\n",
       "    </tr>\n",
       "    <tr>\n",
       "      <th>2.0</th>\n",
       "      <td>0.177200</td>\n",
       "    </tr>\n",
       "    <tr>\n",
       "      <th>3.0</th>\n",
       "      <td>0.075200</td>\n",
       "    </tr>\n",
       "    <tr>\n",
       "      <th>4.0</th>\n",
       "      <td>0.032575</td>\n",
       "    </tr>\n",
       "  </tbody>\n",
       "</table>\n",
       "</div>"
      ],
      "text/plain": [
       "0.0    0.282925\n",
       "1.0    0.407050\n",
       "2.0    0.177200\n",
       "3.0    0.075200\n",
       "4.0    0.032575\n",
       "Name: , dtype: float64"
      ]
     },
     "execution_count": 36,
     "metadata": {},
     "output_type": "execute_result"
    }
   ],
   "source": [
    "lengths = np.append(lengths1, lengths2)\n",
    "flips = (lengths-1) // 2\n",
    "Pmf.from_seq(flips).head(5)"
   ]
  },
  {
   "cell_type": "markdown",
   "metadata": {},
   "source": [
    "The probability of getting it right on the first try is only about 28%. That might seem low, because the chance of starting in the right orientation is 50%, but remember that we have a substantial chance of flipping even if we start in the right orientation (and in that case, we have to flip at least twice).\n",
    "\n",
    "The most common outcome is that we have to flip once, about 40% of the time. And the probability of the notorious double flip is about 18%. \n",
    "\n",
    "Fortunately, it is rare to flip three or more times."
   ]
  },
  {
   "cell_type": "markdown",
   "metadata": {},
   "source": [
    "## Summary\n",
    "\n",
    "With that, I think we have solved the USB connector problem.\n",
    "\n",
    "1. For given parameters `lam` and `flip`, we can find the threshold probability, `r`, that minimizes the average time to connect.\n",
    "\n",
    "2. Given this optimal value, we can estimate the distribution of total time and the number of times we have to flip.\n",
    "\n",
    "Sadly, all of this fun is gradually being spoiled by the encroachment of the [USB-C](https://en.wikipedia.org/wiki/USB-C) connector, which is reversible."
   ]
  },
  {
   "cell_type": "markdown",
   "metadata": {},
   "source": [
    "*If you like this article, you might also like the second edition of [*Think Bayes*](https://greenteapress.com/wp/think-bayes/).*\n",
    "\n",
    "Copyright 2021 Allen Downey\n",
    "\n",
    "Code: [MIT License](https://opensource.org/licenses/MIT)\n",
    "\n",
    "Text: [Attribution-NonCommercial-ShareAlike 4.0 International (CC BY-NC-SA 4.0)](https://creativecommons.org/licenses/by-nc-sa/4.0/)"
   ]
  },
  {
   "cell_type": "code",
   "execution_count": null,
   "metadata": {},
   "outputs": [],
   "source": []
  }
 ],
 "metadata": {
  "celltoolbar": "Tags",
  "kernelspec": {
   "display_name": "Python 3",
   "language": "python",
   "name": "python3"
  },
  "language_info": {
   "codemirror_mode": {
    "name": "ipython",
    "version": 3
   },
   "file_extension": ".py",
   "mimetype": "text/x-python",
   "name": "python",
   "nbconvert_exporter": "python",
   "pygments_lexer": "ipython3",
   "version": "3.8.8"
  }
 },
 "nbformat": 4,
 "nbformat_minor": 4
}
