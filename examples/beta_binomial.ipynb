{
 "cells": [
  {
   "cell_type": "markdown",
   "id": "89c73067",
   "metadata": {},
   "source": [
    "# The All-Knowing Cube of Probability\n",
    "\n",
    "> This example uses array computations to explore the concept of conjugate distributions.\n",
    "It is an extension of *[Think Bayes](https://greenteapress.com/wp/think-bayes/)*, [Chapter 18](https://allendowney.github.io/ThinkBayes2/chap18.html), which explains how to use conjugate priors to do Bayesian updates with very little computation. \n",
    "\n",
    "The all-knowing cube of probability is an 3-D array that contains the past, the present, and the probabilistic future.\n",
    "\n",
    "At first, the cube appears to be a collection of binomial PMFs, but if we turn it sideways, we see that it is also a collection of negative binomial PMFs, and if we turn it sideways again, it is also a collection of grid-approximated beta distributions.\n",
    "\n",
    "This tripartite nature is the source of its uncanny ability to perform Bayesian updates, which I will demonstrate."
   ]
  },
  {
   "cell_type": "code",
   "execution_count": 1,
   "id": "f24d9f87",
   "metadata": {},
   "outputs": [],
   "source": [
    "import numpy as np\n",
    "import pandas as pd\n",
    "import matplotlib.pyplot as plt"
   ]
  },
  {
   "cell_type": "markdown",
   "id": "4fb82f00",
   "metadata": {},
   "source": [
    "## Making the cube\n",
    "\n",
    "Suppose you run $n$ trials where the probability of success is $p$.\n",
    "To compute the probability of $k$ successes, we can use the binomial distribution.\n",
    "\n",
    "For example, here's a range of values for $k$ and $n$, and a discrete grid of values for $p$."
   ]
  },
  {
   "cell_type": "code",
   "execution_count": 2,
   "id": "58f25a33",
   "metadata": {},
   "outputs": [],
   "source": [
    "ks = np.arange(101)\n",
    "ns = np.arange(101)\n",
    "ps = np.linspace(0, 1, 101)"
   ]
  },
  {
   "cell_type": "markdown",
   "id": "cdcb4bc0",
   "metadata": {},
   "source": [
    "We can use `meshgrid` to make a 3-D grid of $k$, $n$, and $p$, and `binom` to evaluate the binomial PMF at each point."
   ]
  },
  {
   "cell_type": "code",
   "execution_count": 3,
   "id": "bacdd002",
   "metadata": {},
   "outputs": [
    {
     "data": {
      "text/plain": [
       "(101, 101, 101)"
      ]
     },
     "execution_count": 3,
     "metadata": {},
     "output_type": "execute_result"
    }
   ],
   "source": [
    "from scipy.stats import binom\n",
    "\n",
    "K, N, P = np.meshgrid(ks, ns, ps, indexing='ij')\n",
    "cube = binom.pmf(K, N, P)\n",
    "cube.shape"
   ]
  },
  {
   "cell_type": "markdown",
   "id": "e5bf8bf0",
   "metadata": {},
   "source": [
    "The result is the **all-knowing cube of probability**, so-called because it can answer all of our questions about Bernoulli trials.\n",
    "Allow me to demonstrate."
   ]
  },
  {
   "cell_type": "markdown",
   "id": "7de075fe",
   "metadata": {},
   "source": [
    "## The binomial distribution\n",
    "\n",
    "Suppose we are given $n$ and $p$, and we would like to know the distribution of $k$.\n",
    "We can answer that question by selecting a vector from the cube along the $k$ axis."
   ]
  },
  {
   "cell_type": "code",
   "execution_count": 4,
   "id": "a5ab6a2c",
   "metadata": {},
   "outputs": [],
   "source": [
    "n = 50\n",
    "p = 50\n",
    "pmf_k = cube[:, n, p]"
   ]
  },
  {
   "cell_type": "markdown",
   "id": "9374bc05",
   "metadata": {},
   "source": [
    "The result is a normalized PMF."
   ]
  },
  {
   "cell_type": "code",
   "execution_count": 5,
   "id": "0c728977",
   "metadata": {},
   "outputs": [
    {
     "data": {
      "text/plain": [
       "0.9999999999999996"
      ]
     },
     "execution_count": 5,
     "metadata": {},
     "output_type": "execute_result"
    }
   ],
   "source": [
    "pmf_k.sum()"
   ]
  },
  {
   "cell_type": "markdown",
   "id": "1ece73cc",
   "metadata": {},
   "source": [
    "Here's what it looks like."
   ]
  },
  {
   "cell_type": "code",
   "execution_count": 6,
   "id": "19a9791b",
   "metadata": {},
   "outputs": [
    {
     "data": {
      "image/png": "[encoded data removed]",
      "text/plain": [
       "<Figure size 640x480 with 1 Axes>"
      ]
     },
     "metadata": {},
     "output_type": "display_data"
    }
   ],
   "source": [
    "plt.plot(ks, pmf_k)\n",
    "plt.xlabel('k')\n",
    "plt.ylabel('PMF')\n",
    "plt.title('Binomial distribution of $k$');"
   ]
  },
  {
   "cell_type": "markdown",
   "id": "76d9eefb",
   "metadata": {},
   "source": [
    "Because we used `binom` to compute the cube, we should not be surprised to find that this slice from the cube is a binomial PMF.\n",
    "But just to make sure, we can use `binom` again to confirm it."
   ]
  },
  {
   "cell_type": "code",
   "execution_count": 7,
   "id": "86a96168",
   "metadata": {},
   "outputs": [],
   "source": [
    "pmf_binom = binom.pmf(ks, n, p/100)"
   ]
  },
  {
   "cell_type": "markdown",
   "id": "c40c6631",
   "metadata": {},
   "source": [
    "And we can check that the results are consistent."
   ]
  },
  {
   "cell_type": "code",
   "execution_count": 8,
   "id": "7772b040",
   "metadata": {},
   "outputs": [
    {
     "data": {
      "text/plain": [
       "True"
      ]
     },
     "execution_count": 8,
     "metadata": {},
     "output_type": "execute_result"
    }
   ],
   "source": [
    "np.allclose(pmf_k, pmf_binom)"
   ]
  },
  {
   "cell_type": "markdown",
   "id": "61ae1c86",
   "metadata": {},
   "source": [
    "So we can think of the cube as a collection of binomial PMFs.\n",
    "But we can also think of it as a joint distribution of $k$, $n$, and $p$, which raises the question: what do we get if we select a vector along the $n$ and $p$ axes?"
   ]
  },
  {
   "cell_type": "markdown",
   "id": "1fe61840",
   "metadata": {},
   "source": [
    "## The negative binomial distribution\n",
    "\n",
    "Suppose we plan to run Bernoulli trials with probability $p$ until we see $k$ successes.\n",
    "How many trials will it take?\n",
    "\n",
    "We can answer this question by selecting a vector from the cube along the $n$ axis."
   ]
  },
  {
   "cell_type": "code",
   "execution_count": 9,
   "id": "a23bff39",
   "metadata": {},
   "outputs": [],
   "source": [
    "k = 25\n",
    "p = 50\n",
    "pmf_n = cube[k, :, p].copy()"
   ]
  },
  {
   "cell_type": "markdown",
   "id": "fcaaf97c",
   "metadata": {},
   "source": [
    "The result is close to the answer we want, but there's something we have to fix.\n",
    "Remember that the values in the cube come from the binomial PMF, which looks like this.\n",
    "\n",
    "$$Pr(k; n, p) = \\binom{n}{k} p^{k} (1-p)^{n-k}$$\n",
    "\n",
    "The first term is the binomial coefficient, which indicates that there are $n$ places we could find $k$ successes.\n",
    "But if we keep running trials until we see $k$ successes, we know the last trial will be a success, which means there are only $n-1$ places we could find the other $k-1$ successes.\n",
    "\n",
    "So we have to adjust the values from the cube by dividing the elements by $n/k$."
   ]
  },
  {
   "cell_type": "code",
   "execution_count": 10,
   "id": "4957a477",
   "metadata": {},
   "outputs": [],
   "source": [
    "np.seterr(divide='ignore', invalid='ignore')\n",
    "\n",
    "pmf_n /= (ns / k)\n",
    "pmf_n[0] = 0"
   ]
  },
  {
   "cell_type": "markdown",
   "id": "64a7194a",
   "metadata": {},
   "source": [
    "And normalize the results to get a proper PMF."
   ]
  },
  {
   "cell_type": "code",
   "execution_count": 11,
   "id": "58be38fc",
   "metadata": {},
   "outputs": [],
   "source": [
    "pmf_n /= pmf_n.sum()"
   ]
  },
  {
   "cell_type": "markdown",
   "id": "d85e8909",
   "metadata": {},
   "source": [
    "Here's what it looks like."
   ]
  },
  {
   "cell_type": "code",
   "execution_count": 12,
   "id": "ea70deff",
   "metadata": {},
   "outputs": [
    {
     "data": {
      "image/png": "[encoded data removed]",
      "text/plain": [
       "<Figure size 640x480 with 1 Axes>"
      ]
     },
     "metadata": {},
     "output_type": "display_data"
    }
   ],
   "source": [
    "plt.plot(ns, pmf_n)\n",
    "plt.xlabel('n')\n",
    "plt.ylabel('PMF')\n",
    "plt.title('Negative binomial distribution of $n$');"
   ]
  },
  {
   "cell_type": "markdown",
   "id": "261cc2ed",
   "metadata": {},
   "source": [
    "This is a negative binomial distribution, which we can confirm using `scipy.stats.nbinom`."
   ]
  },
  {
   "cell_type": "code",
   "execution_count": 13,
   "id": "c80264b5",
   "metadata": {},
   "outputs": [
    {
     "data": {
      "text/plain": [
       "0.9999999094998685"
      ]
     },
     "execution_count": 13,
     "metadata": {},
     "output_type": "execute_result"
    }
   ],
   "source": [
    "from scipy.stats import nbinom\n",
    "\n",
    "pmf_nbinom = nbinom.pmf(ns-k, k, p/100)\n",
    "pmf_nbinom.sum()"
   ]
  },
  {
   "cell_type": "code",
   "execution_count": 14,
   "id": "f1edea40",
   "metadata": {},
   "outputs": [
    {
     "data": {
      "text/plain": [
       "True"
      ]
     },
     "execution_count": 14,
     "metadata": {},
     "output_type": "execute_result"
    }
   ],
   "source": [
    "np.allclose(pmf_n, pmf_nbinom)"
   ]
  },
  {
   "cell_type": "markdown",
   "id": "456a0e2f",
   "metadata": {},
   "source": [
    "To see why this works we can compare the binomial PMF, which is a distribution over $k$ with $n$ and $p$ as parameters:\n",
    "\n",
    "$$Pr(k; n, p) = \\binom{n}{k} p^{k} (1-p)^{n-k}$$\n",
    "\n",
    "And the negative binomial PMF, which I've written as a distribution over $n$ with $k$ and $p$ as parameters:\n",
    "\n",
    "$$Pr(n; k, p) = \\binom{n-1}{k-1} p^k (1-p)^{n-k}$$\n",
    "\n",
    "This is not the most common way to parameterize the negative binomial distribution, but it shows that the only difference is in the binomial coefficient, because we know that the last trial is a success."
   ]
  },
  {
   "cell_type": "markdown",
   "id": "60cf707b",
   "metadata": {},
   "source": [
    "## The beta distribution\n",
    "\n",
    "Suppose we have 101 devices that perform Bernoulli trials with different probabilities.\n",
    "The first device has $p=0$, the second has $p=0.01$, and so on up to the last device with $p=1$.\n",
    "\n",
    "Now suppose we choose one of the devices so that all values of $p$ are equally likely.\n",
    "If we run $n$ trials and see $k$ successes, what is the distribution of $p$?\n",
    "\n",
    "We can answer this question by selecting a vector from the cube along the $p$ axis."
   ]
  },
  {
   "cell_type": "code",
   "execution_count": 15,
   "id": "ba38e2ee",
   "metadata": {},
   "outputs": [],
   "source": [
    "k = 25\n",
    "n = 50\n",
    "\n",
    "pdf_p = cube[k, n, :].copy()"
   ]
  },
  {
   "cell_type": "markdown",
   "id": "f34bb5f2",
   "metadata": {},
   "source": [
    "The result is not normalized."
   ]
  },
  {
   "cell_type": "code",
   "execution_count": 16,
   "id": "0e414602",
   "metadata": {},
   "outputs": [
    {
     "data": {
      "text/plain": [
       "1.96078431372549"
      ]
     },
     "execution_count": 16,
     "metadata": {},
     "output_type": "execute_result"
    }
   ],
   "source": [
    "pdf_p.sum()"
   ]
  },
  {
   "cell_type": "markdown",
   "id": "8bc36c8b",
   "metadata": {},
   "source": [
    "But we can normalize it like this."
   ]
  },
  {
   "cell_type": "code",
   "execution_count": 17,
   "id": "b1a13ea4",
   "metadata": {},
   "outputs": [],
   "source": [
    "pdf_p /= pdf_p.sum()"
   ]
  },
  {
   "cell_type": "markdown",
   "id": "5c7f9c1f",
   "metadata": {},
   "source": [
    "And here's what it looks like."
   ]
  },
  {
   "cell_type": "code",
   "execution_count": 18,
   "id": "d6725de7",
   "metadata": {},
   "outputs": [
    {
     "data": {
      "image/png": "[encoded data removed]",
      "text/plain": [
       "<Figure size 640x480 with 1 Axes>"
      ]
     },
     "metadata": {},
     "output_type": "display_data"
    }
   ],
   "source": [
    "plt.plot(ps, pdf_p)\n",
    "plt.xlabel('p')\n",
    "plt.ylabel('PMF')\n",
    "plt.title('Beta distribution of $p$');"
   ]
  },
  {
   "cell_type": "markdown",
   "id": "d95ca672",
   "metadata": {},
   "source": [
    "This is a beta distribution, which we can confirm by running `scipy.stats.beta` with a change of variables, $a = k+1$ and $b = n-k+1$."
   ]
  },
  {
   "cell_type": "code",
   "execution_count": 19,
   "id": "085631c9",
   "metadata": {},
   "outputs": [
    {
     "data": {
      "text/plain": [
       "(26, 26)"
      ]
     },
     "execution_count": 19,
     "metadata": {},
     "output_type": "execute_result"
    }
   ],
   "source": [
    "from scipy.stats import beta\n",
    "\n",
    "a = k + 1\n",
    "b = n - k + 1\n",
    "a, b"
   ]
  },
  {
   "cell_type": "code",
   "execution_count": 20,
   "id": "b81b5fab",
   "metadata": {},
   "outputs": [],
   "source": [
    "pdf_beta = beta.pdf(ps, a, b)\n",
    "pdf_beta /= pdf_beta.sum()"
   ]
  },
  {
   "cell_type": "code",
   "execution_count": 21,
   "id": "2bbc7562",
   "metadata": {},
   "outputs": [
    {
     "data": {
      "text/plain": [
       "True"
      ]
     },
     "execution_count": 21,
     "metadata": {},
     "output_type": "execute_result"
    }
   ],
   "source": [
    "np.allclose(pdf_p, pdf_beta)"
   ]
  },
  {
   "cell_type": "markdown",
   "id": "cfda31fb",
   "metadata": {},
   "source": [
    "To see why this works, let's compare the PDF of the beta distribution\n",
    "\n",
    "$$f(p, a, b) = \\frac{1}{B(a, b)} p^{a-1} (1-p)^{b-1} $$\n",
    "\n",
    "And the PMF of the binomial distribution.\n",
    "\n",
    "$$Pr(k; n, p) = \\binom{n}{k} p^{k} (1-p)^{n-k}$$\n",
    "\n",
    "With the change of variables, they are identical except for the first term, which normalizes the distributions."
   ]
  },
  {
   "cell_type": "markdown",
   "id": "190d7793",
   "metadata": {},
   "source": [
    "## Conjugate priors\n",
    "\n",
    "This similarity is the reason the beta and binomial are conjugate distributions, which means they are joined together.\n",
    "This relationship has a useful property for Bayesian statistics: if the prior distribution of $p$ is beta and the likelihood of the data is binomial, the posterior distribution is also beta.\n",
    "\n",
    "To see how that works, here is the PDF of the a beta prior distribution with parameters $a$ and $b$.\n",
    "\n",
    "$$p^{a-1} (1-p)^{b-1}$$\n",
    "\n",
    "I have omitted the normalizing factor -- we don't need it because we are going to normalize the distribution after the update.\n",
    "\n",
    "Now suppose we see $k$ successes in $n$ trials.\n",
    "The likelihood of this data is given by the binomial distribution, which has this PMF.\n",
    "\n",
    "$$p^{k} (1-p)^{n-k}$$\n",
    "\n",
    "Again, I have omitted the normalizing factor.\n",
    "Now to get the unnormalized posterior, we multiply the beta prior and the binomial likelihood. The result is\n",
    "\n",
    "$$p^{a-1+k} (1-p)^{b-1+n-k}$$\n",
    "\n",
    "which we recognize as an unnormalized beta distribution with parameters $a+k$ and $b+n-k$.\n",
    "\n",
    "So if we observe $k$ successes in $n$ trials, we can do the update by making a beta posterior with parameters $a+k$ and $b+n-k$.\n",
    "\n",
    "As an example, suppose the prior is a beta distribution with parameters $a=2$ and $b=3$."
   ]
  },
  {
   "cell_type": "code",
   "execution_count": 22,
   "id": "3c6d91dd",
   "metadata": {},
   "outputs": [],
   "source": [
    "a = 2\n",
    "b = 3\n",
    "\n",
    "prior = beta.pdf(ps, a, b)"
   ]
  },
  {
   "cell_type": "markdown",
   "id": "8e5573f4",
   "metadata": {},
   "source": [
    "And suppose we see $k=5$ successes in $n=10$ attempts."
   ]
  },
  {
   "cell_type": "code",
   "execution_count": 23,
   "id": "e915b7a6",
   "metadata": {},
   "outputs": [],
   "source": [
    "k = 5\n",
    "n = 10\n",
    "\n",
    "like = binom.pmf(k, n, ps)"
   ]
  },
  {
   "cell_type": "markdown",
   "id": "641f80cf",
   "metadata": {},
   "source": [
    "We can compute the posterior by multiplying the prior and the likelihood, then normalizing the results."
   ]
  },
  {
   "cell_type": "code",
   "execution_count": 24,
   "id": "206ee73f",
   "metadata": {},
   "outputs": [],
   "source": [
    "posterior = prior * like\n",
    "posterior /= posterior.sum()"
   ]
  },
  {
   "cell_type": "markdown",
   "id": "899bdd2b",
   "metadata": {},
   "source": [
    "Or we can compute a beta distribution with the updated parameters."
   ]
  },
  {
   "cell_type": "code",
   "execution_count": 25,
   "id": "a3e1de63",
   "metadata": {},
   "outputs": [],
   "source": [
    "posterior_beta = beta.pdf(ps, a+k, b+n-k)\n",
    "posterior_beta /= posterior_beta.sum()"
   ]
  },
  {
   "cell_type": "markdown",
   "id": "99c746f1",
   "metadata": {},
   "source": [
    "The result is the same either way."
   ]
  },
  {
   "cell_type": "code",
   "execution_count": 26,
   "id": "edd20fc0",
   "metadata": {},
   "outputs": [
    {
     "data": {
      "text/plain": [
       "True"
      ]
     },
     "execution_count": 26,
     "metadata": {},
     "output_type": "execute_result"
    }
   ],
   "source": [
    "np.allclose(posterior, posterior_beta)"
   ]
  },
  {
   "cell_type": "markdown",
   "id": "b6106b93",
   "metadata": {},
   "source": [
    "But we don't have to compute the posterior by doing an explicit update, or by computing a beta distribution, because the all-knowing cube of probability already knows the answer -- we just have to ask.\n",
    "\n",
    "The following function takes the parameters $a$ and $b$ and looks up the corresponding beta distribution already computed in the cube."
   ]
  },
  {
   "cell_type": "code",
   "execution_count": 27,
   "id": "d74d2aa4",
   "metadata": {},
   "outputs": [],
   "source": [
    "def get_beta(a, b, cube):\n",
    "    k = a - 1\n",
    "    n = b + k - 1\n",
    "\n",
    "    pdf = cube[k, n, :].copy()\n",
    "    pdf /= pdf.sum()\n",
    "    return pdf"
   ]
  },
  {
   "cell_type": "markdown",
   "id": "54a38ea4",
   "metadata": {},
   "source": [
    "We can use it to get the posterior distribution of $p$ from the cube."
   ]
  },
  {
   "cell_type": "code",
   "execution_count": 28,
   "id": "c7611ca6",
   "metadata": {},
   "outputs": [],
   "source": [
    "posterior_cube = get_beta(a + k, b + n - k, cube)"
   ]
  },
  {
   "cell_type": "markdown",
   "id": "09eec658",
   "metadata": {},
   "source": [
    "And confirm that we get the same result."
   ]
  },
  {
   "cell_type": "code",
   "execution_count": 29,
   "id": "b1f1b76f",
   "metadata": {},
   "outputs": [
    {
     "data": {
      "text/plain": [
       "True"
      ]
     },
     "execution_count": 29,
     "metadata": {},
     "output_type": "execute_result"
    }
   ],
   "source": [
    "np.allclose(posterior_beta, posterior_cube)"
   ]
  },
  {
   "cell_type": "markdown",
   "id": "9732d125",
   "metadata": {},
   "source": [
    "Here's what it looks like."
   ]
  },
  {
   "cell_type": "code",
   "execution_count": 30,
   "id": "fd959935",
   "metadata": {},
   "outputs": [
    {
     "data": {
      "image/png": "[encoded data removed]",
      "text/plain": [
       "<Figure size 640x480 with 1 Axes>"
      ]
     },
     "metadata": {},
     "output_type": "display_data"
    }
   ],
   "source": [
    "plt.plot(ps, posterior_cube)\n",
    "\n",
    "plt.xlabel('p')\n",
    "plt.ylabel('PMF')\n",
    "plt.title('Posterior distribution of p');"
   ]
  },
  {
   "cell_type": "markdown",
   "id": "11e2b2a3",
   "metadata": {},
   "source": [
    "## Update with nbinom\n",
    "\n",
    "\n",
    "Now suppose that instead of running $n$ trials, we keep running trials until we see $k$ successes -- and suppose it takes $n$ trials.\n",
    "\n",
    "In this case, we can use the negative binomial distribution to compute the likelihood of the data."
   ]
  },
  {
   "cell_type": "code",
   "execution_count": 31,
   "id": "6b135be5",
   "metadata": {},
   "outputs": [],
   "source": [
    "like2 = nbinom.pmf(n-k, k, ps)\n",
    "like2[0] = 0"
   ]
  },
  {
   "cell_type": "markdown",
   "id": "931cd775",
   "metadata": {},
   "source": [
    "And we can do the update in the usual way."
   ]
  },
  {
   "cell_type": "code",
   "execution_count": 32,
   "id": "a74f074f",
   "metadata": {},
   "outputs": [],
   "source": [
    "posterior2 = prior * like2\n",
    "posterior2 /= posterior2.sum()"
   ]
  },
  {
   "cell_type": "markdown",
   "id": "adfb562c",
   "metadata": {},
   "source": [
    "It turns out that the result is the same in both cases:\n",
    "\n",
    "* If we decide ahead of time to run $n$ trials, and see $k$ successes, or\n",
    "\n",
    "* If we run until we see $k$ successes, and it takes $n$ trials."
   ]
  },
  {
   "cell_type": "code",
   "execution_count": 33,
   "id": "d16e727e",
   "metadata": {},
   "outputs": [
    {
     "data": {
      "text/plain": [
       "True"
      ]
     },
     "execution_count": 33,
     "metadata": {},
     "output_type": "execute_result"
    }
   ],
   "source": [
    "np.allclose(posterior, posterior2)"
   ]
  },
  {
   "cell_type": "markdown",
   "id": "7509811c",
   "metadata": {},
   "source": [
    "Bayesian inference only depends on the data, not the stopping condition.\n",
    "Or, as my friend Ted Bunn put it: [Who knows what evil lurks in the hearts of men? The Bayesian doesn't care.](https://blog.richmond.edu/physicsbunn/2012/01/05/who-knows-what-evil-lurks-in-the-hearts-of-men-the-bayesian-doesnt-care/)"
   ]
  },
  {
   "cell_type": "markdown",
   "id": "30ce208a",
   "metadata": {},
   "source": [
    "## Posterior predictive distributions\n",
    "\n",
    "The all-knowing cube of probability knows what we should believe in the light of new data, but that's not all.\n",
    "It also knows the future, at least probabilistically.\n",
    "\n",
    "After an update, we can get posterior predictive distribution by computing a weighted mixture of binomial distributions with different values of $p$, weighted by the posterior probabilities.\n",
    "\n",
    "We can do that by selecting the $(k, p)$ plane from the cube, multiplying by the posterior and summing away the $p$ axis."
   ]
  },
  {
   "cell_type": "code",
   "execution_count": 34,
   "id": "a1fb858f",
   "metadata": {},
   "outputs": [],
   "source": [
    "post_pred_k = (cube[:, n, :] * posterior).sum(axis=1)"
   ]
  },
  {
   "cell_type": "markdown",
   "id": "7d9998e1",
   "metadata": {},
   "source": [
    "The result is a distribution over $k$. Here's what it looks like (dropping values of $k$ greater than $n$)."
   ]
  },
  {
   "cell_type": "code",
   "execution_count": 35,
   "id": "22bfde12",
   "metadata": {},
   "outputs": [
    {
     "data": {
      "image/png": "[encoded data removed]",
      "text/plain": [
       "<Figure size 640x480 with 1 Axes>"
      ]
     },
     "metadata": {},
     "output_type": "display_data"
    }
   ],
   "source": [
    "plt.bar(ks[:n+1], post_pred_k[:n+1])\n",
    "\n",
    "plt.xlabel('k')\n",
    "plt.ylabel('PMF')\n",
    "plt.title('Posterior predictive distribution of k');"
   ]
  },
  {
   "cell_type": "markdown",
   "id": "c941a2cf",
   "metadata": {},
   "source": [
    "A beta mixture of binomials is a beta-binomial distribution, and it has a PMF we can compute analytically."
   ]
  },
  {
   "cell_type": "code",
   "execution_count": 36,
   "id": "578e47ac",
   "metadata": {},
   "outputs": [],
   "source": [
    "from scipy.stats import betabinom\n",
    "\n",
    "post_pred_bb = betabinom.pmf(ks, n, a+k, b+n-k)"
   ]
  },
  {
   "cell_type": "markdown",
   "id": "24c67390",
   "metadata": {},
   "source": [
    "So we can confirm that the all-knowing cube was correct."
   ]
  },
  {
   "cell_type": "code",
   "execution_count": 37,
   "id": "f799f7b0",
   "metadata": {},
   "outputs": [
    {
     "data": {
      "text/plain": [
       "True"
      ]
     },
     "execution_count": 37,
     "metadata": {},
     "output_type": "execute_result"
    }
   ],
   "source": [
    "np.allclose(post_pred_k, post_pred_bb)"
   ]
  },
  {
   "cell_type": "markdown",
   "id": "9f69bbc1",
   "metadata": {},
   "source": [
    "## The other posterior predictive\n",
    "\n",
    "We can also use the cube to compute the posterior predictive distribution of $n$ given a required number of successes, $k$.\n",
    "\n",
    "We start by selecting the $(n, p)$ plane from the cube, which is a collection of negative binomials distributions, except that we have to correct them by dividing through by $n/k$, as we did above.\n",
    "\n",
    "Actually, we only have to divide by $n$ because $k$ is a constant that will get normalized away."
   ]
  },
  {
   "cell_type": "code",
   "execution_count": 38,
   "id": "b841fa39",
   "metadata": {},
   "outputs": [],
   "source": [
    "plane = cube[k, :, :] / ns[:, None]\n",
    "plane[0] = 0"
   ]
  },
  {
   "cell_type": "markdown",
   "id": "f8c8bcbe",
   "metadata": {},
   "source": [
    "Now we can compute a weighted sum as in the previous example, multiplying by the posterior and summing away the $p$ axis."
   ]
  },
  {
   "cell_type": "code",
   "execution_count": 39,
   "id": "07b4ea99",
   "metadata": {},
   "outputs": [],
   "source": [
    "post_pred_n = (plane * posterior).sum(axis=1)\n",
    "post_pred_n /= post_pred_n.sum()"
   ]
  },
  {
   "cell_type": "markdown",
   "id": "1c1fb4c2",
   "metadata": {},
   "source": [
    "Here's what it looks like."
   ]
  },
  {
   "cell_type": "code",
   "execution_count": 40,
   "id": "ecc53a89",
   "metadata": {},
   "outputs": [
    {
     "data": {
      "image/png": "[encoded data removed]",
      "text/plain": [
       "<Figure size 640x480 with 1 Axes>"
      ]
     },
     "metadata": {},
     "output_type": "display_data"
    }
   ],
   "source": [
    "plt.plot(ns, post_pred_n)\n",
    "\n",
    "plt.xlabel('n')\n",
    "plt.ylabel('PMF')\n",
    "plt.title('Posterior predictive distribution of n');"
   ]
  },
  {
   "cell_type": "markdown",
   "id": "eee755c8",
   "metadata": {},
   "source": [
    "A beta-weighted mixture of negative binomials is a beta-negative binomial distribution, and it has a PMF we can compute analytically.\n",
    "SciPy doesn't have a function to do it, but we can write our own using functions in `scipy.special`."
   ]
  },
  {
   "cell_type": "code",
   "execution_count": 41,
   "id": "a809f9c5",
   "metadata": {},
   "outputs": [],
   "source": [
    "import scipy.special as sps\n",
    "\n",
    "def betanegbinom_pmf(n, r, a, b):\n",
    "    \"\"\"Compute the PMF of the beta-negative binomial distribution.\n",
    "    \n",
    "    Generated by ChatGPT, revised based on\n",
    "    https://en.wikipedia.org/wiki/Beta_negative_binomial_distribution\n",
    "\n",
    "    Parameters:\n",
    "    - n: Number of trials before stopping.\n",
    "    - r: Number of successes required.\n",
    "    - a: Shape parameter of the beta distribution.\n",
    "    - b: Shape parameter of the beta distribution.\n",
    "\n",
    "    Returns:\n",
    "    - PMF value for the given parameters.\n",
    "    \"\"\"\n",
    "    k = n - r\n",
    "    binomial_coefficient = sps.comb(r + k - 1, k)\n",
    "    beta_num = sps.beta(a + r, b + k)\n",
    "    beta_den = sps.beta(a, b)\n",
    "\n",
    "    pmf = binomial_coefficient * (beta_num / beta_den)\n",
    "    return pmf"
   ]
  },
  {
   "cell_type": "markdown",
   "id": "6b2edd2f",
   "metadata": {},
   "source": [
    "The conventional parameterization of the beta-negative binomial uses $k$ for the number of failures and $r$ for the number of required successes, so we have to change some variables to get a distribution over $n$. "
   ]
  },
  {
   "cell_type": "code",
   "execution_count": 42,
   "id": "b95c23eb",
   "metadata": {},
   "outputs": [],
   "source": [
    "post_pred_bnb = betanegbinom_pmf(ns, k, a+k, b+n-k)\n",
    "post_pred_bnb /= post_pred_bnb.sum()"
   ]
  },
  {
   "cell_type": "markdown",
   "id": "4cb5368c",
   "metadata": {},
   "source": [
    "But we can confirm that the result from the cube is consistent with the analytic PMF."
   ]
  },
  {
   "cell_type": "code",
   "execution_count": 43,
   "id": "4afe58dc",
   "metadata": {},
   "outputs": [
    {
     "data": {
      "text/plain": [
       "True"
      ]
     },
     "execution_count": 43,
     "metadata": {},
     "output_type": "execute_result"
    }
   ],
   "source": [
    "np.allclose(post_pred_n, post_pred_bnb)"
   ]
  },
  {
   "cell_type": "markdown",
   "id": "4c27c68d",
   "metadata": {},
   "source": [
    "In conclusion, the all-knowing cube of probability contains the past (the prior distributions), the present (the posterior distributions), and the future (the posterior predictive distributions)."
   ]
  },
  {
   "cell_type": "markdown",
   "id": "002acd95",
   "metadata": {},
   "source": [
    "Think Bayes, Second Edition\n",
    "\n",
    "Copyright 2020 Allen B. Downey\n",
    "\n",
    "License: [Attribution-NonCommercial-ShareAlike 4.0 International (CC BY-NC-SA 4.0)](https://creativecommons.org/licenses/by-nc-sa/4.0/)"
   ]
  },
  {
   "cell_type": "code",
   "execution_count": null,
   "id": "bb266f18",
   "metadata": {},
   "outputs": [],
   "source": []
  }
 ],
 "metadata": {
  "kernelspec": {
   "display_name": "Python 3 (ipykernel)",
   "language": "python",
   "name": "python3"
  },
  "language_info": {
   "codemirror_mode": {
    "name": "ipython",
    "version": 3
   },
   "file_extension": ".py",
   "mimetype": "text/x-python",
   "name": "python",
   "nbconvert_exporter": "python",
   "pygments_lexer": "ipython3",
   "version": "3.10.12"
  }
 },
 "nbformat": 4,
 "nbformat_minor": 5
}
