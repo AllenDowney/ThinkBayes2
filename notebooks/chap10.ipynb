{
 "cells": [
  {
   "cell_type": "markdown",
   "id": "1331faa1",
   "metadata": {},
   "source": [
    "You can order print and ebook versions of *Think Bayes 2e* from\n",
    "[Bookshop.org](https://bookshop.org/a/98697/9781492089469) and\n",
    "[Amazon](https://amzn.to/334eqGo)."
   ]
  },
  {
   "cell_type": "markdown",
   "metadata": {},
   "source": [
    "# Testing"
   ]
  },
  {
   "cell_type": "markdown",
   "metadata": {
    "tags": []
   },
   "source": [
    "Think Bayes, Second Edition\n",
    "\n",
    "Copyright 2020 Allen B. Downey\n",
    "\n",
    "License: [Attribution-NonCommercial-ShareAlike 4.0 International (CC BY-NC-SA 4.0)](https://creativecommons.org/licenses/by-nc-sa/4.0/)"
   ]
  },
  {
   "cell_type": "code",
   "execution_count": 1,
   "metadata": {
    "execution": {
     "iopub.execute_input": "2021-04-16T19:35:57.008876Z",
     "iopub.status.busy": "2021-04-16T19:35:57.008345Z",
     "iopub.status.idle": "2021-04-16T19:35:57.010962Z",
     "shell.execute_reply": "2021-04-16T19:35:57.010380Z"
    },
    "tags": []
   },
   "outputs": [],
   "source": [
    "# If we're running on Colab, install empiricaldist\n",
    "# https://pypi.org/project/empiricaldist/\n",
    "\n",
    "import sys\n",
    "IN_COLAB = 'google.colab' in sys.modules\n",
    "\n",
    "if IN_COLAB:\n",
    "    !pip install empiricaldist"
   ]
  },
  {
   "cell_type": "code",
   "execution_count": 2,
   "metadata": {
    "execution": {
     "iopub.execute_input": "2021-04-16T19:35:57.015477Z",
     "iopub.status.busy": "2021-04-16T19:35:57.014870Z",
     "iopub.status.idle": "2021-04-16T19:35:57.017060Z",
     "shell.execute_reply": "2021-04-16T19:35:57.017656Z"
    },
    "tags": []
   },
   "outputs": [],
   "source": [
    "# Get utils.py\n",
    "\n",
    "from os.path import basename, exists\n",
    "\n",
    "def download(url):\n",
    "    filename = basename(url)\n",
    "    if not exists(filename):\n",
    "        from urllib.request import urlretrieve\n",
    "        local, _ = urlretrieve(url, filename)\n",
    "        print('Downloaded ' + local)\n",
    "    \n",
    "download('https://github.com/AllenDowney/ThinkBayes2/raw/master/soln/utils.py')"
   ]
  },
  {
   "cell_type": "code",
   "execution_count": 3,
   "metadata": {
    "execution": {
     "iopub.execute_input": "2021-04-16T19:35:57.022776Z",
     "iopub.status.busy": "2021-04-16T19:35:57.021815Z",
     "iopub.status.idle": "2021-04-16T19:35:57.803761Z",
     "shell.execute_reply": "2021-04-16T19:35:57.802992Z"
    },
    "tags": []
   },
   "outputs": [],
   "source": [
    "from utils import set_pyplot_params\n",
    "set_pyplot_params()"
   ]
  },
  {
   "cell_type": "markdown",
   "metadata": {},
   "source": [
    "In <<_TheEuroProblem>> I presented a problem from David MacKay's book, [*Information Theory, Inference, and Learning Algorithms*](http://www.inference.org.uk/mackay/itila/p0.html):\n",
    "\n",
    "\"A statistical statement appeared in *The Guardian* on Friday January 4, 2002:\n",
    "\n",
    "> When spun on edge 250 times, a Belgian one-euro coin came up heads 140 times and tails 110.  \\`It looks very suspicious to me,' said Barry Blight, a statistics lecturer at the London School of Economics.  \\`If the coin were unbiased, the chance of getting a result as extreme as that would be less than 7%.'\n",
    "\n",
    "\"But [MacKay asks] do these data give evidence that the coin is biased rather than fair?\"\n",
    "\n",
    "We started to answer this question in <<_EstimatingProportions>>; to review, our answer was based on these modeling decisions:\n",
    "\n",
    "* If you spin a coin on edge, there is some probability, $x$, that it will land heads up.\n",
    "\n",
    "* The value of $x$ varies from one coin to the next, depending on how the coin is balanced and possibly other factors.\n",
    "\n",
    "Starting with a uniform prior distribution for $x$, we updated it with the given data, 140 heads and 110 tails.  Then we used the posterior distribution to compute the most likely value of $x$, the posterior mean, and a credible interval.\n",
    "\n",
    "But we never really answered MacKay's question: \"Do these data give evidence that the coin is biased rather than fair?\"\n",
    "\n",
    "In this chapter, finally, we will."
   ]
  },
  {
   "cell_type": "markdown",
   "metadata": {},
   "source": [
    "## Estimation\n",
    "\n",
    "Let's review the solution to the Euro problem from <<_TheBinomialLikelihoodFunction>>.  We started with a uniform prior."
   ]
  },
  {
   "cell_type": "code",
   "execution_count": 4,
   "metadata": {
    "execution": {
     "iopub.execute_input": "2021-04-16T19:35:57.810691Z",
     "iopub.status.busy": "2021-04-16T19:35:57.810259Z",
     "iopub.status.idle": "2021-04-16T19:35:57.812763Z",
     "shell.execute_reply": "2021-04-16T19:35:57.812378Z"
    }
   },
   "outputs": [],
   "source": [
    "import numpy as np\n",
    "from empiricaldist import Pmf\n",
    "\n",
    "xs = np.linspace(0, 1, 101)\n",
    "uniform = Pmf(1, xs)"
   ]
  },
  {
   "cell_type": "markdown",
   "metadata": {},
   "source": [
    "And we used the binomial distribution to compute the probability of the data for each possible value of $x$."
   ]
  },
  {
   "cell_type": "code",
   "execution_count": 5,
   "metadata": {
    "execution": {
     "iopub.execute_input": "2021-04-16T19:35:57.816818Z",
     "iopub.status.busy": "2021-04-16T19:35:57.816328Z",
     "iopub.status.idle": "2021-04-16T19:35:57.818361Z",
     "shell.execute_reply": "2021-04-16T19:35:57.817986Z"
    }
   },
   "outputs": [],
   "source": [
    "from scipy.stats import binom\n",
    "\n",
    "k, n = 140, 250\n",
    "likelihood = binom.pmf(k, n, xs)"
   ]
  },
  {
   "cell_type": "markdown",
   "metadata": {},
   "source": [
    "We computed the posterior distribution in the usual way."
   ]
  },
  {
   "cell_type": "code",
   "execution_count": 6,
   "metadata": {
    "execution": {
     "iopub.execute_input": "2021-04-16T19:35:57.823943Z",
     "iopub.status.busy": "2021-04-16T19:35:57.823225Z",
     "iopub.status.idle": "2021-04-16T19:35:57.833447Z",
     "shell.execute_reply": "2021-04-16T19:35:57.833883Z"
    },
    "tags": []
   },
   "outputs": [],
   "source": [
    "posterior = uniform * likelihood\n",
    "posterior.normalize()"
   ]
  },
  {
   "cell_type": "markdown",
   "metadata": {},
   "source": [
    "And here's what it looks like."
   ]
  },
  {
   "cell_type": "code",
   "execution_count": 7,
   "metadata": {
    "execution": {
     "iopub.execute_input": "2021-04-16T19:35:57.838678Z",
     "iopub.status.busy": "2021-04-16T19:35:57.837996Z",
     "iopub.status.idle": "2021-04-16T19:35:58.041887Z",
     "shell.execute_reply": "2021-04-16T19:35:58.042248Z"
    },
    "tags": []
   },
   "outputs": [],
   "source": [
    "from utils import decorate\n",
    "\n",
    "posterior.plot(label='140 heads out of 250')\n",
    "\n",
    "decorate(xlabel='Proportion of heads (x)',\n",
    "         ylabel='Probability',\n",
    "         title='Posterior distribution of x')"
   ]
  },
  {
   "cell_type": "markdown",
   "metadata": {},
   "source": [
    "Again, the posterior mean is about 0.56, with a 90% credible interval from 0.51 to 0.61."
   ]
  },
  {
   "cell_type": "code",
   "execution_count": 8,
   "metadata": {
    "execution": {
     "iopub.execute_input": "2021-04-16T19:35:58.046639Z",
     "iopub.status.busy": "2021-04-16T19:35:58.046025Z",
     "iopub.status.idle": "2021-04-16T19:35:58.048789Z",
     "shell.execute_reply": "2021-04-16T19:35:58.048386Z"
    }
   },
   "outputs": [],
   "source": [
    "print(posterior.mean(), \n",
    "      posterior.credible_interval(0.9))"
   ]
  },
  {
   "cell_type": "markdown",
   "metadata": {},
   "source": [
    "The prior mean was 0.5, and the posterior mean is 0.56, so it seems like the data is evidence that the coin is biased.\n",
    "\n",
    "But, it turns out not to be that simple."
   ]
  },
  {
   "cell_type": "markdown",
   "metadata": {},
   "source": [
    "## Evidence\n",
    "\n",
    "In <<_OliversBlood>>, I said that data are considered evidence in favor of a hypothesis, $A$, if the data are more likely under $A$ than under the alternative, $B$; that is if\n",
    "\n",
    "$$P(D|A) > P(D|B)$$\n",
    "\n",
    "Furthermore, we can quantify the strength of the evidence by computing the ratio of these likelihoods, which is known as the [Bayes factor](https://en.wikipedia.org/wiki/Bayes_factor) and often denoted $K$:\n",
    "\n",
    "$$K = \\frac{P(D|A)}{P(D|B)}$$\n",
    "\n",
    "So, for the Euro problem, let's consider two hypotheses, `fair` and `biased`, and compute the likelihood of the data under each hypothesis.\n",
    "\n",
    "If the coin is fair, the probability of heads is 50%, and we can compute the probability of the data (140 heads out of 250 spins) using the binomial distribution:"
   ]
  },
  {
   "cell_type": "code",
   "execution_count": 9,
   "metadata": {
    "execution": {
     "iopub.execute_input": "2021-04-16T19:35:58.053831Z",
     "iopub.status.busy": "2021-04-16T19:35:58.053237Z",
     "iopub.status.idle": "2021-04-16T19:35:58.057509Z",
     "shell.execute_reply": "2021-04-16T19:35:58.057086Z"
    }
   },
   "outputs": [],
   "source": [
    "k = 140\n",
    "n = 250\n",
    "\n",
    "like_fair = binom.pmf(k, n, p=0.5)\n",
    "like_fair"
   ]
  },
  {
   "cell_type": "markdown",
   "metadata": {},
   "source": [
    "That's the probability of the data, given that the coin is fair.\n",
    "\n",
    "But if the coin is biased, what's the probability of the data?  That depends on what \"biased\" means.\n",
    "If we know ahead of time that \"biased\" means the probability of heads is 56%, we can use the binomial distribution again:"
   ]
  },
  {
   "cell_type": "code",
   "execution_count": 10,
   "metadata": {
    "execution": {
     "iopub.execute_input": "2021-04-16T19:35:58.061641Z",
     "iopub.status.busy": "2021-04-16T19:35:58.061171Z",
     "iopub.status.idle": "2021-04-16T19:35:58.063847Z",
     "shell.execute_reply": "2021-04-16T19:35:58.064196Z"
    }
   },
   "outputs": [],
   "source": [
    "like_biased = binom.pmf(k, n, p=0.56)\n",
    "like_biased"
   ]
  },
  {
   "cell_type": "markdown",
   "metadata": {},
   "source": [
    "Now we can compute the likelihood ratio:"
   ]
  },
  {
   "cell_type": "code",
   "execution_count": 11,
   "metadata": {
    "execution": {
     "iopub.execute_input": "2021-04-16T19:35:58.067262Z",
     "iopub.status.busy": "2021-04-16T19:35:58.066813Z",
     "iopub.status.idle": "2021-04-16T19:35:58.069918Z",
     "shell.execute_reply": "2021-04-16T19:35:58.069347Z"
    }
   },
   "outputs": [],
   "source": [
    "K = like_biased / like_fair\n",
    "K"
   ]
  },
  {
   "cell_type": "markdown",
   "metadata": {},
   "source": [
    "The data are about 6 times more likely if the coin is biased, by this definition, than if it is fair.\n",
    "\n",
    "But we used the data to define the hypothesis, which seems like cheating.  To be fair, we should define \"biased\" before we see the data."
   ]
  },
  {
   "cell_type": "markdown",
   "metadata": {},
   "source": [
    "## Uniformly Distributed Bias\n",
    "\n",
    "Suppose \"biased\" means that the probability of heads is anything except 50%, and all other values are equally likely.\n",
    "\n",
    "We can represent that definition by making a uniform distribution and removing 50%."
   ]
  },
  {
   "cell_type": "code",
   "execution_count": 12,
   "metadata": {
    "execution": {
     "iopub.execute_input": "2021-04-16T19:35:58.074465Z",
     "iopub.status.busy": "2021-04-16T19:35:58.073171Z",
     "iopub.status.idle": "2021-04-16T19:35:58.077599Z",
     "shell.execute_reply": "2021-04-16T19:35:58.077998Z"
    },
    "tags": []
   },
   "outputs": [],
   "source": [
    "biased_uniform = uniform.copy()\n",
    "biased_uniform[0.5] = 0\n",
    "biased_uniform.normalize()"
   ]
  },
  {
   "cell_type": "markdown",
   "metadata": {},
   "source": [
    "To compute the total probability of the data under this hypothesis, we compute the conditional probability of the data for each value of $x$."
   ]
  },
  {
   "cell_type": "code",
   "execution_count": 13,
   "metadata": {
    "execution": {
     "iopub.execute_input": "2021-04-16T19:35:58.081758Z",
     "iopub.status.busy": "2021-04-16T19:35:58.081326Z",
     "iopub.status.idle": "2021-04-16T19:35:58.082976Z",
     "shell.execute_reply": "2021-04-16T19:35:58.083364Z"
    }
   },
   "outputs": [],
   "source": [
    "xs = biased_uniform.qs\n",
    "likelihood = binom.pmf(k, n, xs)"
   ]
  },
  {
   "cell_type": "markdown",
   "metadata": {},
   "source": [
    "Then multiply by the prior probabilities and add up the products:"
   ]
  },
  {
   "cell_type": "code",
   "execution_count": 14,
   "metadata": {
    "execution": {
     "iopub.execute_input": "2021-04-16T19:35:58.088242Z",
     "iopub.status.busy": "2021-04-16T19:35:58.087311Z",
     "iopub.status.idle": "2021-04-16T19:35:58.093392Z",
     "shell.execute_reply": "2021-04-16T19:35:58.092951Z"
    }
   },
   "outputs": [],
   "source": [
    "like_uniform = np.sum(biased_uniform * likelihood)\n",
    "like_uniform"
   ]
  },
  {
   "cell_type": "markdown",
   "metadata": {},
   "source": [
    "So that's the probability of the data under the \"biased uniform\" hypothesis.\n",
    "\n",
    "Now we can compute the likelihood ratio of the data under the `fair` and `biased uniform` hypotheses:"
   ]
  },
  {
   "cell_type": "code",
   "execution_count": 15,
   "metadata": {
    "execution": {
     "iopub.execute_input": "2021-04-16T19:35:58.098055Z",
     "iopub.status.busy": "2021-04-16T19:35:58.097522Z",
     "iopub.status.idle": "2021-04-16T19:35:58.100321Z",
     "shell.execute_reply": "2021-04-16T19:35:58.100683Z"
    }
   },
   "outputs": [],
   "source": [
    "K = like_fair / like_uniform\n",
    "K"
   ]
  },
  {
   "cell_type": "markdown",
   "metadata": {},
   "source": [
    "The data are about two times more likely if the coin is fair than if it is biased, by this definition of \"biased\".\n",
    "\n",
    "To get a sense of how strong that evidence is, we can apply Bayes's rule.\n",
    "For example, if the prior probability is 50% that the coin is biased, the prior odds are 1, so the posterior odds are about 2.1 to 1 and the posterior probability is about 68%."
   ]
  },
  {
   "cell_type": "code",
   "execution_count": 16,
   "metadata": {
    "execution": {
     "iopub.execute_input": "2021-04-16T19:35:58.105140Z",
     "iopub.status.busy": "2021-04-16T19:35:58.104540Z",
     "iopub.status.idle": "2021-04-16T19:35:58.107287Z",
     "shell.execute_reply": "2021-04-16T19:35:58.107715Z"
    }
   },
   "outputs": [],
   "source": [
    "prior_odds = 1\n",
    "posterior_odds = prior_odds * K\n",
    "posterior_odds"
   ]
  },
  {
   "cell_type": "code",
   "execution_count": 17,
   "metadata": {
    "execution": {
     "iopub.execute_input": "2021-04-16T19:35:58.112140Z",
     "iopub.status.busy": "2021-04-16T19:35:58.111425Z",
     "iopub.status.idle": "2021-04-16T19:35:58.114066Z",
     "shell.execute_reply": "2021-04-16T19:35:58.113607Z"
    }
   },
   "outputs": [],
   "source": [
    "def prob(o):\n",
    "    return o / (o+1)"
   ]
  },
  {
   "cell_type": "code",
   "execution_count": 18,
   "metadata": {
    "execution": {
     "iopub.execute_input": "2021-04-16T19:35:58.118640Z",
     "iopub.status.busy": "2021-04-16T19:35:58.117930Z",
     "iopub.status.idle": "2021-04-16T19:35:58.121841Z",
     "shell.execute_reply": "2021-04-16T19:35:58.121067Z"
    }
   },
   "outputs": [],
   "source": [
    "posterior_probability = prob(posterior_odds)\n",
    "posterior_probability"
   ]
  },
  {
   "cell_type": "markdown",
   "metadata": {},
   "source": [
    "Evidence that \"moves the needle\" from 50% to 68% is not very strong."
   ]
  },
  {
   "cell_type": "markdown",
   "metadata": {},
   "source": [
    "Now suppose \"biased\" doesn't mean every value of $x$ is equally likely.  Maybe values near 50% are more likely and values near the extremes are less likely.\n",
    "We could use a triangle-shaped distribution to represent this alternative definition of \"biased\":"
   ]
  },
  {
   "cell_type": "code",
   "execution_count": 19,
   "metadata": {
    "execution": {
     "iopub.execute_input": "2021-04-16T19:35:58.129005Z",
     "iopub.status.busy": "2021-04-16T19:35:58.128299Z",
     "iopub.status.idle": "2021-04-16T19:35:58.130682Z",
     "shell.execute_reply": "2021-04-16T19:35:58.131027Z"
    },
    "tags": []
   },
   "outputs": [],
   "source": [
    "ramp_up = np.arange(50)\n",
    "ramp_down = np.arange(50, -1, -1)\n",
    "a = np.append(ramp_up, ramp_down)\n",
    "\n",
    "triangle = Pmf(a, xs, name='triangle')\n",
    "triangle.normalize()"
   ]
  },
  {
   "cell_type": "markdown",
   "metadata": {},
   "source": [
    "As we did with the uniform distribution, we can remove 50% as a possible value of $x$ (but it doesn't make much difference if we skip this detail)."
   ]
  },
  {
   "cell_type": "code",
   "execution_count": 20,
   "metadata": {
    "execution": {
     "iopub.execute_input": "2021-04-16T19:35:58.135933Z",
     "iopub.status.busy": "2021-04-16T19:35:58.135294Z",
     "iopub.status.idle": "2021-04-16T19:35:58.138207Z",
     "shell.execute_reply": "2021-04-16T19:35:58.137815Z"
    },
    "tags": []
   },
   "outputs": [],
   "source": [
    "biased_triangle = triangle.copy()\n",
    "biased_triangle[0.5] = 0\n",
    "biased_triangle.normalize()"
   ]
  },
  {
   "cell_type": "markdown",
   "metadata": {},
   "source": [
    "Here's what the triangle prior looks like, compared to the uniform prior."
   ]
  },
  {
   "cell_type": "code",
   "execution_count": 21,
   "metadata": {
    "execution": {
     "iopub.execute_input": "2021-04-16T19:35:58.173569Z",
     "iopub.status.busy": "2021-04-16T19:35:58.156145Z",
     "iopub.status.idle": "2021-04-16T19:35:58.338847Z",
     "shell.execute_reply": "2021-04-16T19:35:58.337549Z"
    }
   },
   "outputs": [],
   "source": [
    "biased_uniform.plot(label='uniform prior')\n",
    "biased_triangle.plot(label='triangle prior')\n",
    "\n",
    "decorate(xlabel='Proportion of heads (x)',\n",
    "         ylabel='Probability',\n",
    "         title='Uniform and triangle prior distributions')"
   ]
  },
  {
   "cell_type": "markdown",
   "metadata": {},
   "source": [
    "**Exercise:** Now compute the total probability of the data under this definition of \"biased\" and compute the Bayes factor, compared with the fair hypothesis.\n",
    "Is the data evidence that the coin is biased?"
   ]
  },
  {
   "cell_type": "code",
   "execution_count": 22,
   "metadata": {
    "execution": {
     "iopub.execute_input": "2021-04-16T19:35:58.343799Z",
     "iopub.status.busy": "2021-04-16T19:35:58.343267Z",
     "iopub.status.idle": "2021-04-16T19:35:58.345785Z",
     "shell.execute_reply": "2021-04-16T19:35:58.346132Z"
    }
   },
   "outputs": [],
   "source": [
    "# Solution goes here"
   ]
  },
  {
   "cell_type": "code",
   "execution_count": 23,
   "metadata": {
    "execution": {
     "iopub.execute_input": "2021-04-16T19:35:58.349999Z",
     "iopub.status.busy": "2021-04-16T19:35:58.349509Z",
     "iopub.status.idle": "2021-04-16T19:35:58.352346Z",
     "shell.execute_reply": "2021-04-16T19:35:58.352665Z"
    }
   },
   "outputs": [],
   "source": [
    "# Solution goes here"
   ]
  },
  {
   "cell_type": "code",
   "execution_count": 24,
   "metadata": {
    "execution": {
     "iopub.execute_input": "2021-04-16T19:35:58.356295Z",
     "iopub.status.busy": "2021-04-16T19:35:58.355503Z",
     "iopub.status.idle": "2021-04-16T19:35:58.357268Z",
     "shell.execute_reply": "2021-04-16T19:35:58.357642Z"
    }
   },
   "outputs": [],
   "source": [
    "# Solution goes here"
   ]
  },
  {
   "cell_type": "markdown",
   "metadata": {},
   "source": [
    "## Bayesian Hypothesis Testing\n",
    "\n",
    "What we've done so far in this chapter is sometimes called \"Bayesian hypothesis testing\" in contrast with [statistical hypothesis testing](https://en.wikipedia.org/wiki/Statistical_hypothesis_testing).\n",
    "\n",
    "In statistical hypothesis testing, we compute a p-value, which is hard to define concisely, and use it to determine whether the results are \"statistically significant\", which is also  hard to define concisely.\n",
    "\n",
    "The Bayesian alternative is to report the Bayes factor, $K$, which summarizes the strength of the evidence in favor of one hypothesis or the other.\n",
    "\n",
    "Some people think it is better to report $K$ than a posterior probability because $K$ does not depend on a prior probability.\n",
    "But as we saw in this example, $K$ often depends on a precise definition of the hypotheses, which can be just as controversial as a prior probability.\n",
    "\n",
    "In my opinion, Bayesian hypothesis testing is better because it measures the strength of the evidence on a continuum, rather that trying to make a binary determination.\n",
    "But it doesn't solve what I think is the fundamental problem, which is that hypothesis testing is not asking the question we really care about."
   ]
  },
  {
   "cell_type": "markdown",
   "metadata": {},
   "source": [
    "To see why, suppose you test the coin and decide that it is biased after all.  What can you do with this answer?  In my opinion, not much.\n",
    "In contrast, there are two questions I think are more useful (and therefore more meaningful):\n",
    "\n",
    "* Prediction: Based on what we know about the coin, what should we expect to happen in the future?\n",
    "\n",
    "* Decision-making: Can we use those predictions to make better decisions?\n",
    "\n",
    "At this point, we've seen a few examples of prediction.  For example, in <<_PoissonProcesses>> we used the posterior distribution of goal-scoring rates to predict the outcome of soccer games.\n",
    "\n",
    "And we've seen one previous example of decision analysis: In <<_DecisionAnalysis>> we used the distribution of prices to choose an optimal bid on *The Price is Right*.\n",
    "\n",
    "So let's finish this chapter with another example of Bayesian decision analysis, the Bayesian Bandit strategy."
   ]
  },
  {
   "cell_type": "markdown",
   "metadata": {},
   "source": [
    "## Bayesian Bandits\n",
    "\n",
    "If you have ever been to a casino, you have probably seen a slot machine, which is sometimes called a \"one-armed bandit\" because it has a handle like an arm and the ability to take money like a bandit.\n",
    "\n",
    "The Bayesian Bandit strategy is named after one-armed bandits because it solves a problem based on a simplified version of a slot machine.\n",
    "\n",
    "Suppose that each time you play a slot machine, there is a fixed probability that you win.  And suppose that different machines give you different probabilities of winning, but you don't know what the probabilities are.\n",
    "\n",
    "Initially, you have the same prior belief about each of the machines, so you have no reason to prefer one over the others.  But if you play each machine a few times, you can use the results to estimate the probabilities.  And you can use the estimated probabilities to decide which machine to play next.\n",
    "\n",
    "At a high level, that's the Bayesian bandit strategy.  Now let's see the details."
   ]
  },
  {
   "cell_type": "markdown",
   "metadata": {},
   "source": [
    "## Prior Beliefs\n",
    "\n",
    "If we know nothing about the probability of winning, we can start with a uniform prior."
   ]
  },
  {
   "cell_type": "code",
   "execution_count": 25,
   "metadata": {
    "execution": {
     "iopub.execute_input": "2021-04-16T19:35:58.362415Z",
     "iopub.status.busy": "2021-04-16T19:35:58.361811Z",
     "iopub.status.idle": "2021-04-16T19:35:58.364588Z",
     "shell.execute_reply": "2021-04-16T19:35:58.364200Z"
    },
    "tags": []
   },
   "outputs": [],
   "source": [
    "xs = np.linspace(0, 1, 101)\n",
    "prior = Pmf(1, xs)\n",
    "prior.normalize()"
   ]
  },
  {
   "cell_type": "markdown",
   "metadata": {},
   "source": [
    "Supposing we are choosing from four slot machines, I'll make four copies of the prior, one for each machine."
   ]
  },
  {
   "cell_type": "code",
   "execution_count": 26,
   "metadata": {
    "execution": {
     "iopub.execute_input": "2021-04-16T19:35:58.368917Z",
     "iopub.status.busy": "2021-04-16T19:35:58.368277Z",
     "iopub.status.idle": "2021-04-16T19:35:58.372099Z",
     "shell.execute_reply": "2021-04-16T19:35:58.372588Z"
    }
   },
   "outputs": [],
   "source": [
    "beliefs = [prior.copy() for i in range(4)]"
   ]
  },
  {
   "cell_type": "markdown",
   "metadata": {
    "tags": []
   },
   "source": [
    "This function displays four distributions in a grid."
   ]
  },
  {
   "cell_type": "code",
   "execution_count": 27,
   "metadata": {
    "execution": {
     "iopub.execute_input": "2021-04-16T19:35:58.378500Z",
     "iopub.status.busy": "2021-04-16T19:35:58.377897Z",
     "iopub.status.idle": "2021-04-16T19:35:58.379963Z",
     "shell.execute_reply": "2021-04-16T19:35:58.380451Z"
    },
    "tags": []
   },
   "outputs": [],
   "source": [
    "import matplotlib.pyplot as plt\n",
    "\n",
    "options = dict(xticklabels='invisible', yticklabels='invisible')\n",
    "\n",
    "def plot(beliefs, **options):\n",
    "    for i, pmf in enumerate(beliefs):\n",
    "        plt.subplot(2, 2, i+1)\n",
    "        pmf.plot(label='Machine %s' % i)\n",
    "        decorate(yticklabels=[])\n",
    "        \n",
    "        if i in [0, 2]:\n",
    "            decorate(ylabel='PDF')\n",
    "        \n",
    "        if i in [2, 3]:\n",
    "            decorate(xlabel='Probability of winning')\n",
    "        \n",
    "    plt.tight_layout()"
   ]
  },
  {
   "cell_type": "markdown",
   "metadata": {},
   "source": [
    "Here's what the prior distributions look like for the four machines."
   ]
  },
  {
   "cell_type": "code",
   "execution_count": 28,
   "metadata": {
    "execution": {
     "iopub.execute_input": "2021-04-16T19:35:58.416688Z",
     "iopub.status.busy": "2021-04-16T19:35:58.402941Z",
     "iopub.status.idle": "2021-04-16T19:35:59.013473Z",
     "shell.execute_reply": "2021-04-16T19:35:59.013020Z"
    },
    "scrolled": false
   },
   "outputs": [],
   "source": [
    "plot(beliefs)"
   ]
  },
  {
   "cell_type": "markdown",
   "metadata": {},
   "source": [
    "## The Update\n",
    "\n",
    "Each time we play a machine, we can use the outcome to update our beliefs.  The following function does the update."
   ]
  },
  {
   "cell_type": "code",
   "execution_count": 29,
   "metadata": {
    "execution": {
     "iopub.execute_input": "2021-04-16T19:35:59.016676Z",
     "iopub.status.busy": "2021-04-16T19:35:59.016156Z",
     "iopub.status.idle": "2021-04-16T19:35:59.017869Z",
     "shell.execute_reply": "2021-04-16T19:35:59.018210Z"
    }
   },
   "outputs": [],
   "source": [
    "likelihood = {\n",
    "    'W': xs,\n",
    "    'L': 1 - xs\n",
    "}"
   ]
  },
  {
   "cell_type": "code",
   "execution_count": 30,
   "metadata": {
    "execution": {
     "iopub.execute_input": "2021-04-16T19:35:59.022657Z",
     "iopub.status.busy": "2021-04-16T19:35:59.022046Z",
     "iopub.status.idle": "2021-04-16T19:35:59.024564Z",
     "shell.execute_reply": "2021-04-16T19:35:59.024066Z"
    }
   },
   "outputs": [],
   "source": [
    "def update(pmf, data):\n",
    "    \"\"\"Update the probability of winning.\"\"\"\n",
    "    pmf *= likelihood[data]\n",
    "    pmf.normalize()"
   ]
  },
  {
   "cell_type": "markdown",
   "metadata": {},
   "source": [
    "This function updates the prior distribution in place.\n",
    "`pmf` is a `Pmf` that represents the prior distribution of `x`, which is the probability of winning.\n",
    "\n",
    "`data` is a string, either `W` if the outcome is a win or `L` if the outcome is a loss.\n",
    "\n",
    "The likelihood of the data is either `xs` or `1-xs`, depending on the outcome.\n",
    "\n",
    "Suppose we choose a machine, play 10 times, and win once.  We can compute the posterior distribution of `x`, based on this outcome, like this:"
   ]
  },
  {
   "cell_type": "code",
   "execution_count": 31,
   "metadata": {
    "execution": {
     "iopub.execute_input": "2021-04-16T19:35:59.028218Z",
     "iopub.status.busy": "2021-04-16T19:35:59.027687Z",
     "iopub.status.idle": "2021-04-16T19:35:59.030098Z",
     "shell.execute_reply": "2021-04-16T19:35:59.029565Z"
    },
    "tags": []
   },
   "outputs": [],
   "source": [
    "np.random.seed(17)"
   ]
  },
  {
   "cell_type": "code",
   "execution_count": 32,
   "metadata": {
    "execution": {
     "iopub.execute_input": "2021-04-16T19:35:59.042870Z",
     "iopub.status.busy": "2021-04-16T19:35:59.042257Z",
     "iopub.status.idle": "2021-04-16T19:35:59.044114Z",
     "shell.execute_reply": "2021-04-16T19:35:59.044493Z"
    }
   },
   "outputs": [],
   "source": [
    "bandit = prior.copy()\n",
    "\n",
    "for outcome in 'WLLLLLLLLL':\n",
    "    update(bandit, outcome)"
   ]
  },
  {
   "cell_type": "markdown",
   "metadata": {},
   "source": [
    "Here's what the posterior looks like."
   ]
  },
  {
   "cell_type": "code",
   "execution_count": 33,
   "metadata": {
    "execution": {
     "iopub.execute_input": "2021-04-16T19:35:59.067179Z",
     "iopub.status.busy": "2021-04-16T19:35:59.058633Z",
     "iopub.status.idle": "2021-04-16T19:35:59.174296Z",
     "shell.execute_reply": "2021-04-16T19:35:59.173745Z"
    },
    "scrolled": true,
    "tags": []
   },
   "outputs": [],
   "source": [
    "bandit.plot()\n",
    "decorate(xlabel='Probability of winning',\n",
    "         ylabel='PDF',\n",
    "         title='Posterior distribution, nine losses, one win')"
   ]
  },
  {
   "cell_type": "markdown",
   "metadata": {},
   "source": [
    "## Multiple Bandits"
   ]
  },
  {
   "cell_type": "markdown",
   "metadata": {},
   "source": [
    "Now suppose we have four machines with these probabilities:"
   ]
  },
  {
   "cell_type": "code",
   "execution_count": 34,
   "metadata": {
    "execution": {
     "iopub.execute_input": "2021-04-16T19:35:59.177407Z",
     "iopub.status.busy": "2021-04-16T19:35:59.176903Z",
     "iopub.status.idle": "2021-04-16T19:35:59.180228Z",
     "shell.execute_reply": "2021-04-16T19:35:59.179776Z"
    }
   },
   "outputs": [],
   "source": [
    "actual_probs = [0.10, 0.20, 0.30, 0.40]"
   ]
  },
  {
   "cell_type": "markdown",
   "metadata": {},
   "source": [
    "Remember that as a player, we don't know these probabilities.\n",
    "\n",
    "The following function takes the index of a machine, simulates playing the machine once, and returns the outcome, `W` or `L`."
   ]
  },
  {
   "cell_type": "code",
   "execution_count": 35,
   "metadata": {
    "execution": {
     "iopub.execute_input": "2021-04-16T19:35:59.184112Z",
     "iopub.status.busy": "2021-04-16T19:35:59.183689Z",
     "iopub.status.idle": "2021-04-16T19:35:59.186969Z",
     "shell.execute_reply": "2021-04-16T19:35:59.186469Z"
    }
   },
   "outputs": [],
   "source": [
    "from collections import Counter\n",
    "\n",
    "# count how many times we've played each machine\n",
    "counter = Counter()\n",
    "\n",
    "def play(i):\n",
    "    \"\"\"Play machine i.\n",
    "    \n",
    "    i: index of the machine to play\n",
    "    \n",
    "    returns: string 'W' or 'L'\n",
    "    \"\"\"\n",
    "    counter[i] += 1\n",
    "    p = actual_probs[i]\n",
    "    if np.random.random() < p:\n",
    "        return 'W'\n",
    "    else:\n",
    "        return 'L'"
   ]
  },
  {
   "cell_type": "markdown",
   "metadata": {},
   "source": [
    "`counter` is a `Counter`, which is a kind of dictionary we'll use to keep track of how many times each machine is played.\n",
    "\n",
    "Here's a test that plays each machine 10 times."
   ]
  },
  {
   "cell_type": "code",
   "execution_count": 36,
   "metadata": {
    "execution": {
     "iopub.execute_input": "2021-04-16T19:35:59.214098Z",
     "iopub.status.busy": "2021-04-16T19:35:59.213601Z",
     "iopub.status.idle": "2021-04-16T19:35:59.215958Z",
     "shell.execute_reply": "2021-04-16T19:35:59.215585Z"
    }
   },
   "outputs": [],
   "source": [
    "for i in range(4):\n",
    "    for _ in range(10):\n",
    "        outcome = play(i)\n",
    "        update(beliefs[i], outcome)"
   ]
  },
  {
   "cell_type": "markdown",
   "metadata": {},
   "source": [
    "Each time through the inner loop, we play one machine and update our beliefs.\n",
    "\n",
    "Here's what our posterior beliefs look like."
   ]
  },
  {
   "cell_type": "code",
   "execution_count": 37,
   "metadata": {
    "execution": {
     "iopub.execute_input": "2021-04-16T19:35:59.228398Z",
     "iopub.status.busy": "2021-04-16T19:35:59.227960Z",
     "iopub.status.idle": "2021-04-16T19:35:59.826737Z",
     "shell.execute_reply": "2021-04-16T19:35:59.827463Z"
    }
   },
   "outputs": [],
   "source": [
    "plot(beliefs)"
   ]
  },
  {
   "cell_type": "markdown",
   "metadata": {},
   "source": [
    "Here are the actual probabilities, posterior means, and 90% credible intervals."
   ]
  },
  {
   "cell_type": "code",
   "execution_count": 38,
   "metadata": {
    "execution": {
     "iopub.execute_input": "2021-04-16T19:35:59.834767Z",
     "iopub.status.busy": "2021-04-16T19:35:59.833729Z",
     "iopub.status.idle": "2021-04-16T19:35:59.838437Z",
     "shell.execute_reply": "2021-04-16T19:35:59.838980Z"
    },
    "tags": []
   },
   "outputs": [],
   "source": [
    "import pandas as pd\n",
    "\n",
    "def summarize_beliefs(beliefs):\n",
    "    \"\"\"Compute means and credible intervals.\n",
    "    \n",
    "    beliefs: sequence of Pmf\n",
    "    \n",
    "    returns: DataFrame\n",
    "    \"\"\"\n",
    "    columns = ['Actual P(win)', \n",
    "               'Posterior mean', \n",
    "               'Credible interval']\n",
    "    \n",
    "    df = pd.DataFrame(columns=columns)\n",
    "    for i, b in enumerate(beliefs):\n",
    "        mean = np.round(b.mean(), 3)\n",
    "        ci = b.credible_interval(0.9)\n",
    "        ci = np.round(ci, 3)\n",
    "        df.loc[i] = actual_probs[i], mean, ci\n",
    "    return df"
   ]
  },
  {
   "cell_type": "code",
   "execution_count": 39,
   "metadata": {
    "execution": {
     "iopub.execute_input": "2021-04-16T19:35:59.866461Z",
     "iopub.status.busy": "2021-04-16T19:35:59.865346Z",
     "iopub.status.idle": "2021-04-16T19:35:59.891615Z",
     "shell.execute_reply": "2021-04-16T19:35:59.891015Z"
    },
    "tags": []
   },
   "outputs": [],
   "source": [
    "summarize_beliefs(beliefs)"
   ]
  },
  {
   "cell_type": "markdown",
   "metadata": {},
   "source": [
    "We expect the credible intervals to contain the actual probabilities most of the time."
   ]
  },
  {
   "cell_type": "markdown",
   "metadata": {},
   "source": [
    "## Explore and Exploit\n",
    "\n",
    "Based on these posterior distributions, which machine do you think we should play next?  One option would be to choose the machine with the highest posterior mean.  \n",
    "\n",
    "That would not be a bad idea, but it has a drawback: since we have only played each machine a few times, the posterior distributions are wide and overlapping, which means we are not sure which machine is the best; if we focus on one machine too soon, we might choose the wrong machine and play it more than we should.\n",
    "\n",
    "To avoid that problem, we could go to the other extreme and play all machines equally until we are confident we have identified the best machine, and then play it exclusively.\n",
    "\n",
    "That's not a bad idea either, but it has a drawback: while we are gathering data, we are not making good use of it; until we're sure which machine is the best, we are playing the others more than we should."
   ]
  },
  {
   "cell_type": "markdown",
   "metadata": {},
   "source": [
    "The Bayesian Bandits strategy avoids both drawbacks by gathering and using data at the same time.  In other words, it balances exploration and exploitation.\n",
    "\n",
    "The kernel of the idea is called [Thompson sampling](https://en.wikipedia.org/wiki/Thompson_sampling): when we choose a machine, we choose at random so that the probability of choosing each machine is proportional to the probability that it is the best.\n",
    "\n",
    "Given the posterior distributions, we can compute the \"probability of superiority\" for each machine.\n",
    "\n",
    "Here's one way to do it.  We can draw a sample of 1000 values from each posterior distribution, like this:"
   ]
  },
  {
   "cell_type": "code",
   "execution_count": 40,
   "metadata": {
    "execution": {
     "iopub.execute_input": "2021-04-16T19:35:59.897634Z",
     "iopub.status.busy": "2021-04-16T19:35:59.896107Z",
     "iopub.status.idle": "2021-04-16T19:35:59.904029Z",
     "shell.execute_reply": "2021-04-16T19:35:59.903164Z"
    }
   },
   "outputs": [],
   "source": [
    "samples = np.array([b.choice(1000) \n",
    "                    for b in beliefs])\n",
    "samples.shape"
   ]
  },
  {
   "cell_type": "markdown",
   "metadata": {},
   "source": [
    "The result has 4 rows and 1000 columns.  We can use `argmax` to find the index of the largest value in each column:"
   ]
  },
  {
   "cell_type": "code",
   "execution_count": 41,
   "metadata": {
    "execution": {
     "iopub.execute_input": "2021-04-16T19:35:59.909255Z",
     "iopub.status.busy": "2021-04-16T19:35:59.908170Z",
     "iopub.status.idle": "2021-04-16T19:35:59.916958Z",
     "shell.execute_reply": "2021-04-16T19:35:59.916095Z"
    }
   },
   "outputs": [],
   "source": [
    "indices = np.argmax(samples, axis=0)\n",
    "indices.shape"
   ]
  },
  {
   "cell_type": "markdown",
   "metadata": {},
   "source": [
    "The `Pmf` of these indices is the fraction of times each machine yielded the highest values."
   ]
  },
  {
   "cell_type": "code",
   "execution_count": 42,
   "metadata": {
    "execution": {
     "iopub.execute_input": "2021-04-16T19:35:59.926458Z",
     "iopub.status.busy": "2021-04-16T19:35:59.925706Z",
     "iopub.status.idle": "2021-04-16T19:35:59.932359Z",
     "shell.execute_reply": "2021-04-16T19:35:59.931702Z"
    }
   },
   "outputs": [],
   "source": [
    "pmf = Pmf.from_seq(indices)\n",
    "pmf"
   ]
  },
  {
   "cell_type": "markdown",
   "metadata": {},
   "source": [
    "These fractions approximate the probability of superiority for each machine.  So we could choose the next machine by choosing a value from this `Pmf`."
   ]
  },
  {
   "cell_type": "code",
   "execution_count": 43,
   "metadata": {
    "execution": {
     "iopub.execute_input": "2021-04-16T19:35:59.938638Z",
     "iopub.status.busy": "2021-04-16T19:35:59.936984Z",
     "iopub.status.idle": "2021-04-16T19:35:59.941814Z",
     "shell.execute_reply": "2021-04-16T19:35:59.942478Z"
    }
   },
   "outputs": [],
   "source": [
    "pmf.choice()"
   ]
  },
  {
   "cell_type": "markdown",
   "metadata": {},
   "source": [
    "But that's a lot of work to choose a single value, and it's not really necessary, because there's a shortcut.\n",
    "\n",
    "If we draw a single random value from each posterior distribution and select the machine that yields the highest value, it turns out that we'll select each machine in proportion to its probability of superiority.\n",
    "\n",
    "That's what the following function does."
   ]
  },
  {
   "cell_type": "code",
   "execution_count": 44,
   "metadata": {
    "execution": {
     "iopub.execute_input": "2021-04-16T19:35:59.949635Z",
     "iopub.status.busy": "2021-04-16T19:35:59.948833Z",
     "iopub.status.idle": "2021-04-16T19:35:59.950888Z",
     "shell.execute_reply": "2021-04-16T19:35:59.950296Z"
    }
   },
   "outputs": [],
   "source": [
    "def choose(beliefs):\n",
    "    \"\"\"Use Thompson sampling to choose a machine.\n",
    "    \n",
    "    Draws a single sample from each distribution.\n",
    "    \n",
    "    returns: index of the machine that yielded the highest value\n",
    "    \"\"\"\n",
    "    ps = [b.choice() for b in beliefs]\n",
    "    return np.argmax(ps)"
   ]
  },
  {
   "cell_type": "markdown",
   "metadata": {},
   "source": [
    "This function chooses one value from the posterior distribution of each machine and then uses `argmax` to find the index of the machine that yielded the highest value.\n",
    "\n",
    "Here's an example."
   ]
  },
  {
   "cell_type": "code",
   "execution_count": 45,
   "metadata": {
    "execution": {
     "iopub.execute_input": "2021-04-16T19:35:59.958607Z",
     "iopub.status.busy": "2021-04-16T19:35:59.957868Z",
     "iopub.status.idle": "2021-04-16T19:35:59.960724Z",
     "shell.execute_reply": "2021-04-16T19:35:59.959178Z"
    }
   },
   "outputs": [],
   "source": [
    "choose(beliefs)"
   ]
  },
  {
   "cell_type": "markdown",
   "metadata": {},
   "source": [
    "## The Strategy\n",
    "\n",
    "Putting it all together, the following function chooses a machine, plays once, and updates `beliefs`:"
   ]
  },
  {
   "cell_type": "code",
   "execution_count": 46,
   "metadata": {
    "execution": {
     "iopub.execute_input": "2021-04-16T19:35:59.965882Z",
     "iopub.status.busy": "2021-04-16T19:35:59.965161Z",
     "iopub.status.idle": "2021-04-16T19:35:59.971103Z",
     "shell.execute_reply": "2021-04-16T19:35:59.970557Z"
    }
   },
   "outputs": [],
   "source": [
    "def choose_play_update(beliefs):\n",
    "    \"\"\"Choose a machine, play it, and update beliefs.\"\"\"\n",
    "    \n",
    "    # choose a machine\n",
    "    machine = choose(beliefs)\n",
    "    \n",
    "    # play it\n",
    "    outcome = play(machine)\n",
    "    \n",
    "    # update beliefs\n",
    "    update(beliefs[machine], outcome)"
   ]
  },
  {
   "cell_type": "markdown",
   "metadata": {},
   "source": [
    "To test it out, let's start again with a fresh set of beliefs and an empty `Counter`."
   ]
  },
  {
   "cell_type": "code",
   "execution_count": 47,
   "metadata": {
    "execution": {
     "iopub.execute_input": "2021-04-16T19:35:59.976029Z",
     "iopub.status.busy": "2021-04-16T19:35:59.975106Z",
     "iopub.status.idle": "2021-04-16T19:35:59.978061Z",
     "shell.execute_reply": "2021-04-16T19:35:59.978970Z"
    }
   },
   "outputs": [],
   "source": [
    "beliefs = [prior.copy() for i in range(4)]\n",
    "counter = Counter()"
   ]
  },
  {
   "cell_type": "markdown",
   "metadata": {},
   "source": [
    "If we run the bandit algorithm 100 times, we can see how `beliefs` gets updated:"
   ]
  },
  {
   "cell_type": "code",
   "execution_count": 48,
   "metadata": {
    "execution": {
     "iopub.execute_input": "2021-04-16T19:35:59.982092Z",
     "iopub.status.busy": "2021-04-16T19:35:59.981421Z",
     "iopub.status.idle": "2021-04-16T19:36:00.969027Z",
     "shell.execute_reply": "2021-04-16T19:36:00.969685Z"
    }
   },
   "outputs": [],
   "source": [
    "num_plays = 100\n",
    "\n",
    "for i in range(num_plays):\n",
    "    choose_play_update(beliefs)\n",
    "    \n",
    "plot(beliefs)"
   ]
  },
  {
   "cell_type": "markdown",
   "metadata": {},
   "source": [
    "The following table summarizes the results."
   ]
  },
  {
   "cell_type": "code",
   "execution_count": 49,
   "metadata": {
    "execution": {
     "iopub.execute_input": "2021-04-16T19:36:00.997808Z",
     "iopub.status.busy": "2021-04-16T19:36:00.997037Z",
     "iopub.status.idle": "2021-04-16T19:36:01.000101Z",
     "shell.execute_reply": "2021-04-16T19:36:01.000816Z"
    },
    "tags": []
   },
   "outputs": [],
   "source": [
    "summarize_beliefs(beliefs)"
   ]
  },
  {
   "cell_type": "markdown",
   "metadata": {},
   "source": [
    "The credible intervals usually contain the actual probabilities of winning.\n",
    "The estimates are still rough, especially for the lower-probability machines.  But that's a feature, not a bug: the goal is to play the high-probability machines most often.  Making the estimates more precise is a means to that end, but not an end itself.\n",
    "\n",
    "More importantly, let's see how many times each machine got played.  "
   ]
  },
  {
   "cell_type": "code",
   "execution_count": 50,
   "metadata": {
    "execution": {
     "iopub.execute_input": "2021-04-16T19:36:01.007207Z",
     "iopub.status.busy": "2021-04-16T19:36:01.006002Z",
     "iopub.status.idle": "2021-04-16T19:36:01.012730Z",
     "shell.execute_reply": "2021-04-16T19:36:01.011748Z"
    },
    "tags": []
   },
   "outputs": [],
   "source": [
    "def summarize_counter(counter):\n",
    "    \"\"\"Report the number of times each machine was played.\n",
    "    \n",
    "    counter: Collections.Counter\n",
    "    \n",
    "    returns: DataFrame\n",
    "    \"\"\"\n",
    "    index = range(4)\n",
    "    columns = ['Actual P(win)', 'Times played']\n",
    "    df = pd.DataFrame(index=index, columns=columns)\n",
    "    for i, count in counter.items():\n",
    "        df.loc[i] = actual_probs[i], count\n",
    "    return df"
   ]
  },
  {
   "cell_type": "code",
   "execution_count": 51,
   "metadata": {
    "execution": {
     "iopub.execute_input": "2021-04-16T19:36:01.028250Z",
     "iopub.status.busy": "2021-04-16T19:36:01.026782Z",
     "iopub.status.idle": "2021-04-16T19:36:01.031917Z",
     "shell.execute_reply": "2021-04-16T19:36:01.029480Z"
    },
    "tags": []
   },
   "outputs": [],
   "source": [
    "summarize_counter(counter)"
   ]
  },
  {
   "cell_type": "markdown",
   "metadata": {},
   "source": [
    "If things go according to plan, the machines with higher probabilities should get played more often."
   ]
  },
  {
   "cell_type": "markdown",
   "metadata": {},
   "source": [
    "## Summary\n",
    "\n",
    "In this chapter we finally solved the Euro problem, determining whether the data support the hypothesis that the coin is fair or biased.  We found that the answer depends on how we define \"biased\".  And we summarized the results using a Bayes factor, which quantifies the strength of the evidence.\n",
    "\n",
    "But the answer wasn't satisfying because, in my opinion, the question wasn't interesting.  Knowing whether the coin is biased is not useful unless it helps us make better predictions and better decisions.\n",
    "\n",
    "As an example of a more interesting question, we looked at the \"one-armed bandit\" problem and a strategy for solving it, the Bayesian bandit algorithm, which tries to balance exploration and exploitation, that is, gathering more information and making the best use of the information we have.\n",
    "\n",
    "As an exercise, you'll have a chance to explore adaptive strategies for standardized testing.\n",
    "\n",
    "Bayesian bandits and adaptive testing are examples of [Bayesian decision theory](https://wiki.lesswrong.com/wiki/Bayesian_decision_theory), which is the idea of using a posterior distribution as part of a decision-making process, often by choosing an action that minimizes the costs we expect on average (or maximizes a benefit).\n",
    "\n",
    "The strategy we used in <<_MaximizingExpectedGain>> to bid on *The Price is Right* is another example.\n",
    "\n",
    "These strategies demonstrate what I think is the biggest advantage of Bayesian methods over classical statistics.  When we represent knowledge in the form of probability distributions, Bayes's theorem tells us how to change our beliefs as we get more data, and Bayesian decision theory tells us how to make that knowledge actionable."
   ]
  },
  {
   "cell_type": "markdown",
   "metadata": {},
   "source": [
    "## Exercises\n",
    "\n",
    "**Exercise:** Standardized tests like the [SAT](https://en.wikipedia.org/wiki/SAT) are often used as part of the admission process at colleges and universities.\n",
    "The goal of the SAT is to measure the academic preparation of the test-takers; if it is accurate, their scores should reflect their actual ability in the domain of the test.\n",
    "\n",
    "Until recently, tests like the SAT were taken with paper and pencil, but now students have the option of taking the test online.  In the online format, it is possible for the test to be \"adaptive\", which means that it can [choose each question based on responses to previous questions](https://www.nytimes.com/2018/04/05/education/learning/tests-act-sat.html).\n",
    "\n",
    "If a student gets the first few questions right, the test can challenge them with harder questions.  If they are struggling, it can give them easier questions.\n",
    "Adaptive testing has the potential to be more \"efficient\", meaning that with the same number of questions an adaptive test could measure the ability of a tester more precisely.\n",
    "\n",
    "To see whether this is true, we will develop a model of an adaptive test and quantify the precision of its measurements.\n",
    "\n",
    "Details of this exercise are in the notebook."
   ]
  },
  {
   "cell_type": "markdown",
   "metadata": {
    "tags": []
   },
   "source": [
    "## The Model\n",
    "\n",
    "The model we'll use is based on [item response theory](https://en.wikipedia.org/wiki/Item_response_theory), which assumes that we can quantify the difficulty of each question and the ability of each test-taker, and that the probability of a correct response is a function of difficulty and ability.\n",
    "\n",
    "Specifically, a common assumption is that this function is a three-parameter logistic function:\n",
    "\n",
    "$$\\mathrm{p} = c + \\frac{1-c}{1 + e^{-a (\\theta-b)}}$$\n",
    "\n",
    "where $\\theta$ is the ability of the test-taker and $b$ is the difficulty of the question.\n",
    "\n",
    "$c$ is the lowest probability of getting a question right, supposing the test-taker with the lowest ability tries to answer the hardest question.  On a multiple-choice test with four responses, $c$ might be 0.25, which is the probability of getting the right answer by guessing at random.\n",
    "\n",
    "$a$ controls the shape of the curve.\n",
    "\n",
    "The following function computes the probability of a correct answer, given `ability` and `difficulty`:"
   ]
  },
  {
   "cell_type": "code",
   "execution_count": 52,
   "metadata": {
    "execution": {
     "iopub.execute_input": "2021-04-16T19:36:01.036525Z",
     "iopub.status.busy": "2021-04-16T19:36:01.035610Z",
     "iopub.status.idle": "2021-04-16T19:36:01.043010Z",
     "shell.execute_reply": "2021-04-16T19:36:01.042192Z"
    },
    "tags": []
   },
   "outputs": [],
   "source": [
    "def prob_correct(ability, difficulty):\n",
    "    \"\"\"Probability of a correct response.\"\"\"\n",
    "    a = 100\n",
    "    c = 0.25\n",
    "    x = (ability - difficulty) / a\n",
    "    p = c + (1-c) / (1 + np.exp(-x))\n",
    "    return p"
   ]
  },
  {
   "cell_type": "markdown",
   "metadata": {
    "tags": []
   },
   "source": [
    "I chose `a` to make the range of scores comparable to the SAT, which reports scores from 200 to 800.\n",
    "\n",
    "Here's what the logistic curve looks like for a question with difficulty 500 and a range of abilities."
   ]
  },
  {
   "cell_type": "code",
   "execution_count": 53,
   "metadata": {
    "execution": {
     "iopub.execute_input": "2021-04-16T19:36:01.051026Z",
     "iopub.status.busy": "2021-04-16T19:36:01.049832Z",
     "iopub.status.idle": "2021-04-16T19:36:01.055461Z",
     "shell.execute_reply": "2021-04-16T19:36:01.054373Z"
    },
    "tags": []
   },
   "outputs": [],
   "source": [
    "abilities = np.linspace(100, 900)\n",
    "diff = 500\n",
    "ps = prob_correct(abilities, diff)"
   ]
  },
  {
   "cell_type": "code",
   "execution_count": 54,
   "metadata": {
    "execution": {
     "iopub.execute_input": "2021-04-16T19:36:01.065949Z",
     "iopub.status.busy": "2021-04-16T19:36:01.064663Z",
     "iopub.status.idle": "2021-04-16T19:36:01.256592Z",
     "shell.execute_reply": "2021-04-16T19:36:01.257891Z"
    },
    "tags": []
   },
   "outputs": [],
   "source": [
    "plt.plot(abilities, ps)\n",
    "decorate(xlabel='Ability',\n",
    "         ylabel='Probability correct',\n",
    "         title='Probability of correct answer, difficulty=500',\n",
    "         ylim=[0, 1.05])"
   ]
  },
  {
   "cell_type": "markdown",
   "metadata": {
    "tags": []
   },
   "source": [
    "Someone with `ability=900` is nearly certain to get the right answer.\n",
    "Someone with `ability=100` has about a 25% change of getting the right answer by guessing."
   ]
  },
  {
   "cell_type": "markdown",
   "metadata": {
    "tags": []
   },
   "source": [
    "## Simulating the Test\n",
    "\n",
    "To simulate the test, we'll use the same structure we used for the bandit strategy:\n",
    "\n",
    "* A function called `play` that simulates a test-taker answering one question.\n",
    "\n",
    "* A function called `choose` that chooses the next question to pose.\n",
    "\n",
    "* A function called `update` that uses the outcome (a correct response or not) to update the estimate of the test-taker's ability.\n",
    "\n",
    "Here's `play`, which takes `ability` and `difficulty` as parameters."
   ]
  },
  {
   "cell_type": "code",
   "execution_count": 55,
   "metadata": {
    "execution": {
     "iopub.execute_input": "2021-04-16T19:36:01.265718Z",
     "iopub.status.busy": "2021-04-16T19:36:01.264868Z",
     "iopub.status.idle": "2021-04-16T19:36:01.267337Z",
     "shell.execute_reply": "2021-04-16T19:36:01.268087Z"
    },
    "tags": []
   },
   "outputs": [],
   "source": [
    "def play(ability, difficulty):\n",
    "    \"\"\"Simulate a test-taker answering a question.\"\"\"\n",
    "    p = prob_correct(ability, difficulty)\n",
    "    return np.random.random() < p"
   ]
  },
  {
   "cell_type": "markdown",
   "metadata": {
    "tags": []
   },
   "source": [
    "`play` uses `prob_correct` to compute the probability of a correct answer and `np.random.random` to generate a random value between 0 and 1.  The return value is `True` for a correct response and `False` otherwise.\n",
    "\n",
    "As a test, let's simulate a test-taker with `ability=600` answering a question with `difficulty=500`.  The probability of a correct response is about 80%."
   ]
  },
  {
   "cell_type": "code",
   "execution_count": 56,
   "metadata": {
    "execution": {
     "iopub.execute_input": "2021-04-16T19:36:01.276639Z",
     "iopub.status.busy": "2021-04-16T19:36:01.275174Z",
     "iopub.status.idle": "2021-04-16T19:36:01.278834Z",
     "shell.execute_reply": "2021-04-16T19:36:01.279603Z"
    },
    "tags": []
   },
   "outputs": [],
   "source": [
    "prob_correct(600, 500)"
   ]
  },
  {
   "cell_type": "markdown",
   "metadata": {
    "tags": []
   },
   "source": [
    "Suppose this person takes a test with 51 questions, all with the same difficulty, `500`.\n",
    "We expect them to get about 80% of the questions correct.\n",
    "\n",
    "Here's the result of one simulation."
   ]
  },
  {
   "cell_type": "code",
   "execution_count": 57,
   "metadata": {
    "execution": {
     "iopub.execute_input": "2021-04-16T19:36:01.282857Z",
     "iopub.status.busy": "2021-04-16T19:36:01.282096Z",
     "iopub.status.idle": "2021-04-16T19:36:01.286226Z",
     "shell.execute_reply": "2021-04-16T19:36:01.287063Z"
    },
    "tags": []
   },
   "outputs": [],
   "source": [
    "np.random.seed(18)"
   ]
  },
  {
   "cell_type": "code",
   "execution_count": 58,
   "metadata": {
    "execution": {
     "iopub.execute_input": "2021-04-16T19:36:01.291285Z",
     "iopub.status.busy": "2021-04-16T19:36:01.290391Z",
     "iopub.status.idle": "2021-04-16T19:36:01.298808Z",
     "shell.execute_reply": "2021-04-16T19:36:01.299584Z"
    },
    "tags": []
   },
   "outputs": [],
   "source": [
    "num_questions = 51\n",
    "outcomes = [play(600, 500) for _ in range(num_questions)]\n",
    "np.mean(outcomes)"
   ]
  },
  {
   "cell_type": "markdown",
   "metadata": {
    "tags": []
   },
   "source": [
    "We expect them to get about 80% of the questions right.\n",
    "\n",
    "Now let's suppose we don't know the test-taker's ability.  We can use the data we just generated to estimate it.\n",
    "And that's what we'll do next."
   ]
  },
  {
   "cell_type": "markdown",
   "metadata": {
    "tags": []
   },
   "source": [
    "## The Prior\n",
    "\n",
    "The SAT is designed so the distribution of scores is roughly normal, with mean 500 and standard deviation 100.\n",
    "So the lowest score, 200, is three standard deviations below the mean, and the highest score, 800, is three standard deviations above.\n",
    "\n",
    "We could use that distribution as a prior, but it would tend to cut off the low and high ends of the distribution.\n",
    "Instead, I'll inflate the standard deviation to 300, to leave open the possibility that `ability` can be less than 200 or more than 800.\n",
    "\n",
    "Here's a `Pmf` that represents the prior distribution."
   ]
  },
  {
   "cell_type": "code",
   "execution_count": 59,
   "metadata": {
    "execution": {
     "iopub.execute_input": "2021-04-16T19:36:01.306918Z",
     "iopub.status.busy": "2021-04-16T19:36:01.306067Z",
     "iopub.status.idle": "2021-04-16T19:36:01.319073Z",
     "shell.execute_reply": "2021-04-16T19:36:01.318203Z"
    },
    "tags": []
   },
   "outputs": [],
   "source": [
    "from scipy.stats import norm\n",
    "\n",
    "mean = 500\n",
    "std = 300\n",
    "\n",
    "qs = np.linspace(0, 1000)\n",
    "ps = norm(mean, std).pdf(qs)\n",
    "\n",
    "prior = Pmf(ps, qs)\n",
    "prior.normalize()"
   ]
  },
  {
   "cell_type": "markdown",
   "metadata": {
    "tags": []
   },
   "source": [
    "And here's what it looks like."
   ]
  },
  {
   "cell_type": "code",
   "execution_count": 60,
   "metadata": {
    "execution": {
     "iopub.execute_input": "2021-04-16T19:36:01.327517Z",
     "iopub.status.busy": "2021-04-16T19:36:01.326687Z",
     "iopub.status.idle": "2021-04-16T19:36:01.602546Z",
     "shell.execute_reply": "2021-04-16T19:36:01.602989Z"
    },
    "tags": []
   },
   "outputs": [],
   "source": [
    "prior.plot(label='std=300', color='C5')\n",
    "\n",
    "decorate(xlabel='Ability',\n",
    "         ylabel='PDF',\n",
    "         title='Prior distribution of ability',\n",
    "         ylim=[0, 0.032])"
   ]
  },
  {
   "cell_type": "markdown",
   "metadata": {
    "tags": []
   },
   "source": [
    "## The Update\n",
    "\n",
    "The following function takes a prior `Pmf` and the outcome of a single question, and updates the `Pmf` in place."
   ]
  },
  {
   "cell_type": "code",
   "execution_count": 61,
   "metadata": {
    "execution": {
     "iopub.execute_input": "2021-04-16T19:36:01.607271Z",
     "iopub.status.busy": "2021-04-16T19:36:01.606844Z",
     "iopub.status.idle": "2021-04-16T19:36:01.608679Z",
     "shell.execute_reply": "2021-04-16T19:36:01.609044Z"
    },
    "tags": []
   },
   "outputs": [],
   "source": [
    "def update_ability(pmf, data):\n",
    "    \"\"\"Update the distribution of ability.\"\"\"\n",
    "    difficulty, outcome = data\n",
    "    \n",
    "    abilities = pmf.qs\n",
    "    ps = prob_correct(abilities, difficulty)\n",
    "    \n",
    "    if outcome:\n",
    "        pmf *= ps\n",
    "    else:\n",
    "        pmf *= 1 - ps\n",
    "        \n",
    "    pmf.normalize()"
   ]
  },
  {
   "cell_type": "markdown",
   "metadata": {
    "tags": []
   },
   "source": [
    "`data` is a tuple that contains the difficulty of a question and the outcome: `True` if the response was correct and `False` otherwise.\n",
    "\n",
    "As a test, let's do an update based on the outcomes we simulated previously, based on a person with `ability=600` answering 51 questions with `difficulty=500`."
   ]
  },
  {
   "cell_type": "code",
   "execution_count": 62,
   "metadata": {
    "execution": {
     "iopub.execute_input": "2021-04-16T19:36:01.654214Z",
     "iopub.status.busy": "2021-04-16T19:36:01.653478Z",
     "iopub.status.idle": "2021-04-16T19:36:01.656020Z",
     "shell.execute_reply": "2021-04-16T19:36:01.655560Z"
    },
    "tags": []
   },
   "outputs": [],
   "source": [
    "actual_600 = prior.copy()\n",
    "\n",
    "for outcome in outcomes:\n",
    "    data = (500, outcome)\n",
    "    update_ability(actual_600, data)"
   ]
  },
  {
   "cell_type": "markdown",
   "metadata": {
    "tags": []
   },
   "source": [
    "Here's what the posterior distribution looks like."
   ]
  },
  {
   "cell_type": "code",
   "execution_count": 63,
   "metadata": {
    "execution": {
     "iopub.execute_input": "2021-04-16T19:36:01.678509Z",
     "iopub.status.busy": "2021-04-16T19:36:01.663304Z",
     "iopub.status.idle": "2021-04-16T19:36:01.832256Z",
     "shell.execute_reply": "2021-04-16T19:36:01.832886Z"
    },
    "tags": []
   },
   "outputs": [],
   "source": [
    "actual_600.plot(color='C4')\n",
    "\n",
    "decorate(xlabel='Ability',\n",
    "         ylabel='PDF',\n",
    "         title='Posterior distribution of ability')"
   ]
  },
  {
   "cell_type": "markdown",
   "metadata": {
    "tags": []
   },
   "source": [
    "The posterior mean is pretty close to the test-taker's actual ability, which is 600."
   ]
  },
  {
   "cell_type": "code",
   "execution_count": 64,
   "metadata": {
    "execution": {
     "iopub.execute_input": "2021-04-16T19:36:01.838050Z",
     "iopub.status.busy": "2021-04-16T19:36:01.837246Z",
     "iopub.status.idle": "2021-04-16T19:36:01.840157Z",
     "shell.execute_reply": "2021-04-16T19:36:01.840790Z"
    },
    "tags": []
   },
   "outputs": [],
   "source": [
    "actual_600.mean()"
   ]
  },
  {
   "cell_type": "markdown",
   "metadata": {
    "tags": []
   },
   "source": [
    "If we run this simulation again, we'll get different results."
   ]
  },
  {
   "cell_type": "markdown",
   "metadata": {
    "tags": []
   },
   "source": [
    "## Adaptation\n",
    "\n",
    "Now let's simulate an adaptive test.\n",
    "I'll use the following function to choose questions, starting with the simplest strategy: all questions have the same difficulty."
   ]
  },
  {
   "cell_type": "code",
   "execution_count": 65,
   "metadata": {
    "execution": {
     "iopub.execute_input": "2021-04-16T19:36:01.844976Z",
     "iopub.status.busy": "2021-04-16T19:36:01.844147Z",
     "iopub.status.idle": "2021-04-16T19:36:01.846868Z",
     "shell.execute_reply": "2021-04-16T19:36:01.846106Z"
    },
    "tags": []
   },
   "outputs": [],
   "source": [
    "def choose(i, belief):\n",
    "    \"\"\"Choose the difficulty of the next question.\"\"\"\n",
    "    return 500"
   ]
  },
  {
   "cell_type": "markdown",
   "metadata": {
    "tags": []
   },
   "source": [
    "As parameters, `choose` takes `i`, which is the index of the question, and `belief`, which is a `Pmf` representing the posterior distribution of `ability`, based on responses to previous questions.\n",
    "\n",
    "This version of `choose` doesn't use these parameters; they are there so we can test other strategies (see the exercises at the end of the chapter).\n",
    "\n",
    "The following function simulates a person taking a test, given that we know their actual ability."
   ]
  },
  {
   "cell_type": "code",
   "execution_count": 66,
   "metadata": {
    "execution": {
     "iopub.execute_input": "2021-04-16T19:36:01.855382Z",
     "iopub.status.busy": "2021-04-16T19:36:01.854536Z",
     "iopub.status.idle": "2021-04-16T19:36:01.859080Z",
     "shell.execute_reply": "2021-04-16T19:36:01.859755Z"
    },
    "tags": []
   },
   "outputs": [],
   "source": [
    "def simulate_test(actual_ability):\n",
    "    \"\"\"Simulate a person taking a test.\"\"\"\n",
    "    belief = prior.copy()\n",
    "    trace = pd.DataFrame(columns=['difficulty', 'outcome'])\n",
    "\n",
    "    for i in range(num_questions):\n",
    "        difficulty = choose(i, belief)\n",
    "        outcome = play(actual_ability, difficulty)\n",
    "        data = (difficulty, outcome)\n",
    "        update_ability(belief, data)\n",
    "        trace.loc[i] = difficulty, outcome\n",
    "        \n",
    "    return belief, trace"
   ]
  },
  {
   "cell_type": "markdown",
   "metadata": {
    "tags": []
   },
   "source": [
    "The return values are a `Pmf` representing the posterior distribution of ability and a `DataFrame` containing the difficulty of the questions and the outcomes.\n",
    "\n",
    "Here's an example, again for a test-taker with `ability=600`."
   ]
  },
  {
   "cell_type": "code",
   "execution_count": 67,
   "metadata": {
    "execution": {
     "iopub.execute_input": "2021-04-16T19:36:02.065735Z",
     "iopub.status.busy": "2021-04-16T19:36:01.972864Z",
     "iopub.status.idle": "2021-04-16T19:36:02.073027Z",
     "shell.execute_reply": "2021-04-16T19:36:02.073660Z"
    },
    "tags": []
   },
   "outputs": [],
   "source": [
    "belief, trace = simulate_test(600)"
   ]
  },
  {
   "cell_type": "markdown",
   "metadata": {
    "tags": []
   },
   "source": [
    "We can use the trace to see how many responses were correct."
   ]
  },
  {
   "cell_type": "code",
   "execution_count": 68,
   "metadata": {
    "execution": {
     "iopub.execute_input": "2021-04-16T19:36:02.078607Z",
     "iopub.status.busy": "2021-04-16T19:36:02.077821Z",
     "iopub.status.idle": "2021-04-16T19:36:02.080643Z",
     "shell.execute_reply": "2021-04-16T19:36:02.081214Z"
    },
    "tags": []
   },
   "outputs": [],
   "source": [
    "trace['outcome'].sum()"
   ]
  },
  {
   "cell_type": "markdown",
   "metadata": {
    "tags": []
   },
   "source": [
    "And here's what the posterior looks like."
   ]
  },
  {
   "cell_type": "code",
   "execution_count": 69,
   "metadata": {
    "execution": {
     "iopub.execute_input": "2021-04-16T19:36:02.102082Z",
     "iopub.status.busy": "2021-04-16T19:36:02.100560Z",
     "iopub.status.idle": "2021-04-16T19:36:02.262629Z",
     "shell.execute_reply": "2021-04-16T19:36:02.262216Z"
    },
    "tags": []
   },
   "outputs": [],
   "source": [
    "belief.plot(color='C4', label='ability=600')\n",
    "\n",
    "decorate(xlabel='Ability',\n",
    "         ylabel='PDF',\n",
    "         title='Posterior distribution of ability')"
   ]
  },
  {
   "cell_type": "markdown",
   "metadata": {
    "tags": []
   },
   "source": [
    "Again, the posterior distribution represents a pretty good estimate of the test-taker's actual ability."
   ]
  },
  {
   "cell_type": "markdown",
   "metadata": {
    "tags": []
   },
   "source": [
    "## Quantifying Precision\n",
    "\n",
    "To quantify the precision of the estimates, I'll use the standard deviation of the posterior distribution.  The standard deviation measures the spread of the distribution, so higher value indicates more uncertainty about the ability of the test-taker.\n",
    "\n",
    "In the previous example, the standard deviation of the posterior distribution is about 40."
   ]
  },
  {
   "cell_type": "code",
   "execution_count": 70,
   "metadata": {
    "execution": {
     "iopub.execute_input": "2021-04-16T19:36:02.267364Z",
     "iopub.status.busy": "2021-04-16T19:36:02.266590Z",
     "iopub.status.idle": "2021-04-16T19:36:02.270685Z",
     "shell.execute_reply": "2021-04-16T19:36:02.271080Z"
    },
    "tags": []
   },
   "outputs": [],
   "source": [
    "belief.mean(), belief.std()"
   ]
  },
  {
   "cell_type": "markdown",
   "metadata": {
    "tags": []
   },
   "source": [
    "For an exam where all questions have the same difficulty, the precision of the estimate depends strongly on the ability of the test-taker.  To show that, I'll loop through a range of abilities and simulate a test using the version of `choice` that always returns `difficulty=500`."
   ]
  },
  {
   "cell_type": "code",
   "execution_count": 71,
   "metadata": {
    "execution": {
     "iopub.execute_input": "2021-04-16T19:36:02.629755Z",
     "iopub.status.busy": "2021-04-16T19:36:02.453372Z",
     "iopub.status.idle": "2021-04-16T19:36:11.198947Z",
     "shell.execute_reply": "2021-04-16T19:36:11.198539Z"
    },
    "tags": []
   },
   "outputs": [],
   "source": [
    "actual_abilities = np.linspace(200, 800)\n",
    "results = pd.DataFrame(columns=['ability', 'posterior_std'])\n",
    "series = pd.Series(index=actual_abilities, dtype=float, name='std')\n",
    "\n",
    "for actual_ability in actual_abilities:\n",
    "    belief, trace = simulate_test(actual_ability)\n",
    "    series[actual_ability] = belief.std()"
   ]
  },
  {
   "cell_type": "markdown",
   "metadata": {
    "tags": []
   },
   "source": [
    "The following plot shows the standard deviation of the posterior distribution for one simulation at each level of ability.\n",
    "\n",
    "The results are noisy, so I also plot a curve fitted to the data by [local regression](https://en.wikipedia.org/wiki/Local_regression)."
   ]
  },
  {
   "cell_type": "code",
   "execution_count": 72,
   "metadata": {
    "execution": {
     "iopub.execute_input": "2021-04-16T19:36:11.221079Z",
     "iopub.status.busy": "2021-04-16T19:36:11.215993Z",
     "iopub.status.idle": "2021-04-16T19:36:11.368244Z",
     "shell.execute_reply": "2021-04-16T19:36:11.367858Z"
    },
    "tags": []
   },
   "outputs": [],
   "source": [
    "from utils import plot_series_lowess\n",
    "\n",
    "plot_series_lowess(series, 'C1')\n",
    "\n",
    "decorate(xlabel='Actual ability',\n",
    "         ylabel='Standard deviation of posterior')"
   ]
  },
  {
   "cell_type": "markdown",
   "metadata": {
    "tags": []
   },
   "source": [
    "The test is most precise for people with ability between `500` and `600`, less precise for people at the high end of the range, and even worse for people at the low end.\n",
    "\n",
    "When all the questions have difficulty `500`, a person with `ability=800` has a high probability of getting them right.  So when they do, we don't learn very much about them.\n",
    "\n",
    "If the test includes questions with a range of difficulty, it provides more information about people at the high and low ends of the range.\n",
    "\n",
    "As an exercise at the end of the chapter, you'll have a chance to try out other strategies, including adaptive strategies that choose each question based on previous outcomes."
   ]
  },
  {
   "cell_type": "markdown",
   "metadata": {
    "tags": []
   },
   "source": [
    "## Discriminatory Power\n",
    "\n",
    "In the previous section we used the standard deviation of the posterior distribution to quantify the precision of the estimates.  Another way to describe the performance of the test (as opposed to the performance of the test-takers) is to measure \"discriminatory power\", which is the ability of the test to distinguish correctly between test-takers with different ability.\n",
    "\n",
    "To measure discriminatory power, I'll simulate a person taking the test 100 times; after each simulation, I'll use the mean of the posterior distribution as their \"score\"."
   ]
  },
  {
   "cell_type": "code",
   "execution_count": 73,
   "metadata": {
    "execution": {
     "iopub.execute_input": "2021-04-16T19:36:11.372059Z",
     "iopub.status.busy": "2021-04-16T19:36:11.371637Z",
     "iopub.status.idle": "2021-04-16T19:36:11.374597Z",
     "shell.execute_reply": "2021-04-16T19:36:11.374249Z"
    },
    "tags": []
   },
   "outputs": [],
   "source": [
    "def sample_posterior(actual_ability, iters):\n",
    "    \"\"\"Simulate multiple tests and compute posterior means.\n",
    "    \n",
    "    actual_ability: number\n",
    "    iters: number of simulated tests\n",
    "    \n",
    "    returns: array of scores\n",
    "    \"\"\"\n",
    "    scores = []\n",
    "\n",
    "    for i in range(iters):\n",
    "        belief, trace = simulate_test(actual_ability)\n",
    "        score = belief.mean()\n",
    "        scores.append(score)\n",
    "        \n",
    "    return np.array(scores)"
   ]
  },
  {
   "cell_type": "markdown",
   "metadata": {
    "tags": []
   },
   "source": [
    "Here are samples of scores for people with several levels of ability."
   ]
  },
  {
   "cell_type": "code",
   "execution_count": 74,
   "metadata": {
    "execution": {
     "iopub.execute_input": "2021-04-16T19:36:11.466656Z",
     "iopub.status.busy": "2021-04-16T19:36:11.457736Z",
     "iopub.status.idle": "2021-04-16T19:36:25.733528Z",
     "shell.execute_reply": "2021-04-16T19:36:25.733071Z"
    },
    "tags": []
   },
   "outputs": [],
   "source": [
    "sample_500 = sample_posterior(500, iters=100)"
   ]
  },
  {
   "cell_type": "code",
   "execution_count": 75,
   "metadata": {
    "execution": {
     "iopub.execute_input": "2021-04-16T19:36:25.831461Z",
     "iopub.status.busy": "2021-04-16T19:36:25.740146Z",
     "iopub.status.idle": "2021-04-16T19:36:40.662218Z",
     "shell.execute_reply": "2021-04-16T19:36:40.661661Z"
    },
    "tags": []
   },
   "outputs": [],
   "source": [
    "sample_600 = sample_posterior(600, iters=100)"
   ]
  },
  {
   "cell_type": "code",
   "execution_count": 76,
   "metadata": {
    "execution": {
     "iopub.execute_input": "2021-04-16T19:36:40.901415Z",
     "iopub.status.busy": "2021-04-16T19:36:40.815282Z",
     "iopub.status.idle": "2021-04-16T19:36:55.401985Z",
     "shell.execute_reply": "2021-04-16T19:36:55.401400Z"
    },
    "tags": []
   },
   "outputs": [],
   "source": [
    "sample_700 = sample_posterior(700, iters=100)"
   ]
  },
  {
   "cell_type": "code",
   "execution_count": 77,
   "metadata": {
    "execution": {
     "iopub.execute_input": "2021-04-16T19:36:55.608897Z",
     "iopub.status.busy": "2021-04-16T19:36:55.579517Z",
     "iopub.status.idle": "2021-04-16T19:37:09.906444Z",
     "shell.execute_reply": "2021-04-16T19:37:09.905877Z"
    },
    "tags": []
   },
   "outputs": [],
   "source": [
    "sample_800 = sample_posterior(800, iters=100)"
   ]
  },
  {
   "cell_type": "markdown",
   "metadata": {
    "tags": []
   },
   "source": [
    "Here's what the distributions of scores look like."
   ]
  },
  {
   "cell_type": "code",
   "execution_count": 78,
   "metadata": {
    "execution": {
     "iopub.execute_input": "2021-04-16T19:37:09.914937Z",
     "iopub.status.busy": "2021-04-16T19:37:09.914449Z",
     "iopub.status.idle": "2021-04-16T19:37:09.916439Z",
     "shell.execute_reply": "2021-04-16T19:37:09.916075Z"
    },
    "tags": []
   },
   "outputs": [],
   "source": [
    "from empiricaldist import Cdf\n",
    "\n",
    "cdf_500 = Cdf.from_seq(sample_500)\n",
    "cdf_600 = Cdf.from_seq(sample_600)\n",
    "cdf_700 = Cdf.from_seq(sample_700)\n",
    "cdf_800 = Cdf.from_seq(sample_800)"
   ]
  },
  {
   "cell_type": "code",
   "execution_count": 79,
   "metadata": {
    "execution": {
     "iopub.execute_input": "2021-04-16T19:37:09.950414Z",
     "iopub.status.busy": "2021-04-16T19:37:09.932705Z",
     "iopub.status.idle": "2021-04-16T19:37:10.124621Z",
     "shell.execute_reply": "2021-04-16T19:37:10.124994Z"
    },
    "tags": []
   },
   "outputs": [],
   "source": [
    "cdf_500.plot(label='ability=500', color='C1',\n",
    "            linestyle='dashed')\n",
    "cdf_600.plot(label='ability=600', color='C3')\n",
    "cdf_700.plot(label='ability=700', color='C2',\n",
    "            linestyle='dashed')\n",
    "cdf_800.plot(label='ability=800', color='C0')\n",
    "\n",
    "decorate(xlabel='Test score',\n",
    "         ylabel='CDF',\n",
    "         title='Sampling distribution of test scores')"
   ]
  },
  {
   "cell_type": "markdown",
   "metadata": {
    "tags": []
   },
   "source": [
    "On average, people with higher ability get higher scores, but anyone can have a bad day, or a good day, so there is some overlap between the distributions.\n",
    "\n",
    "For people with ability between `500` and `600`, where the precision of the test is highest, the discriminatory power of the test is also high.\n",
    "\n",
    "If people with abilities `500` and `600` take the test, it is almost certain that the person with higher ability will get a higher score."
   ]
  },
  {
   "cell_type": "code",
   "execution_count": 80,
   "metadata": {
    "execution": {
     "iopub.execute_input": "2021-04-16T19:37:10.128844Z",
     "iopub.status.busy": "2021-04-16T19:37:10.128345Z",
     "iopub.status.idle": "2021-04-16T19:37:10.130952Z",
     "shell.execute_reply": "2021-04-16T19:37:10.130569Z"
    },
    "tags": []
   },
   "outputs": [],
   "source": [
    "np.mean(sample_600 > sample_500)"
   ]
  },
  {
   "cell_type": "markdown",
   "metadata": {
    "tags": []
   },
   "source": [
    "Between people with abilities `600` and `700`, it is less certain."
   ]
  },
  {
   "cell_type": "code",
   "execution_count": 81,
   "metadata": {
    "execution": {
     "iopub.execute_input": "2021-04-16T19:37:10.134774Z",
     "iopub.status.busy": "2021-04-16T19:37:10.134201Z",
     "iopub.status.idle": "2021-04-16T19:37:10.136839Z",
     "shell.execute_reply": "2021-04-16T19:37:10.137320Z"
    },
    "tags": []
   },
   "outputs": [],
   "source": [
    "np.mean(sample_700 > sample_600)"
   ]
  },
  {
   "cell_type": "markdown",
   "metadata": {
    "tags": []
   },
   "source": [
    "And between people with abilities `700` and `800`, it is not certain at all."
   ]
  },
  {
   "cell_type": "code",
   "execution_count": 82,
   "metadata": {
    "execution": {
     "iopub.execute_input": "2021-04-16T19:37:10.141908Z",
     "iopub.status.busy": "2021-04-16T19:37:10.141293Z",
     "iopub.status.idle": "2021-04-16T19:37:10.144428Z",
     "shell.execute_reply": "2021-04-16T19:37:10.143952Z"
    },
    "tags": []
   },
   "outputs": [],
   "source": [
    "np.mean(sample_800 > sample_700)"
   ]
  },
  {
   "cell_type": "markdown",
   "metadata": {
    "tags": []
   },
   "source": [
    "But remember that these results are based on a test where all questions are equally difficult.\n",
    "If you do the exercises at the end of the chapter, you'll see that the performance of the test is better if it includes questions with a range of difficulties, and even better if the test it is adaptive."
   ]
  },
  {
   "cell_type": "markdown",
   "metadata": {
    "tags": []
   },
   "source": [
    " Go back and modify `choose`, which is the function that chooses the difficulty of the next question.\n",
    "\n",
    "1. Write a version of `choose` that returns a range of difficulties by using `i` as an index into a sequence of difficulties.\n",
    "\n",
    "2. Write a version of `choose` that is adaptive, so it choose the difficulty of the next question based `belief`, which is the posterior distribution of the test-taker's ability, based on the outcome of previous responses.\n",
    "\n",
    "For both new versions, run the simulations again to quantify the precision of the test and its discriminatory power.\n",
    "\n",
    "For the first version of `choose`, what is the ideal distribution of difficulties?\n",
    "\n",
    "For the second version, what is the adaptive strategy that maximizes the precision of the test over the range of abilities?"
   ]
  },
  {
   "cell_type": "code",
   "execution_count": 83,
   "metadata": {
    "execution": {
     "iopub.execute_input": "2021-04-16T19:37:10.149351Z",
     "iopub.status.busy": "2021-04-16T19:37:10.148492Z",
     "iopub.status.idle": "2021-04-16T19:37:10.150584Z",
     "shell.execute_reply": "2021-04-16T19:37:10.151025Z"
    }
   },
   "outputs": [],
   "source": [
    "# Solution goes here"
   ]
  },
  {
   "cell_type": "code",
   "execution_count": 84,
   "metadata": {
    "execution": {
     "iopub.execute_input": "2021-04-16T19:37:10.154839Z",
     "iopub.status.busy": "2021-04-16T19:37:10.154301Z",
     "iopub.status.idle": "2021-04-16T19:37:10.157011Z",
     "shell.execute_reply": "2021-04-16T19:37:10.156470Z"
    }
   },
   "outputs": [],
   "source": [
    "# Solution goes here"
   ]
  },
  {
   "cell_type": "code",
   "execution_count": null,
   "metadata": {},
   "outputs": [],
   "source": []
  }
 ],
 "metadata": {
  "celltoolbar": "Tags",
  "kernelspec": {
   "display_name": "Python 3 (ipykernel)",
   "language": "python",
   "name": "python3"
  },
  "language_info": {
   "codemirror_mode": {
    "name": "ipython",
    "version": 3
   },
   "file_extension": ".py",
   "mimetype": "text/x-python",
   "name": "python",
   "nbconvert_exporter": "python",
   "pygments_lexer": "ipython3",
   "version": "3.9.7"
  }
 },
 "nbformat": 4,
 "nbformat_minor": 4
}
