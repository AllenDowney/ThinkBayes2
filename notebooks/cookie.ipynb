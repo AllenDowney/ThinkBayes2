{
 "cells": [
  {
   "cell_type": "markdown",
   "metadata": {},
   "source": [
    "# Think Bayes\n",
    "\n",
    "This notebook presents example code and exercise solutions for Think Bayes.\n",
    "\n",
    "Copyright 2018 Allen B. Downey\n",
    "\n",
    "MIT License: https://opensource.org/licenses/MIT"
   ]
  },
  {
   "cell_type": "code",
   "execution_count": 1,
   "metadata": {},
   "outputs": [],
   "source": [
    "# Configure Jupyter so figures appear in the notebook\n",
    "%matplotlib inline\n",
    "\n",
    "# Configure Jupyter to display the assigned value after an assignment\n",
    "%config InteractiveShell.ast_node_interactivity='last_expr_or_assign'\n",
    "\n",
    "# import classes from thinkbayes2\n",
    "from thinkbayes2 import Hist, Pmf, Suite"
   ]
  },
  {
   "cell_type": "markdown",
   "metadata": {},
   "source": [
    "## The cookie problem\n",
    "\n",
    "Here's the original statement of the cookie problem:\n",
    "\n",
    "> Suppose there are two bowls of cookies. Bowl 1 contains 30 vanilla cookies and 10 chocolate cookies. Bowl 2 contains 20 of each.\n",
    "\n",
    "> Now suppose you choose one of the bowls at random and, without looking, select a cookie at random. The cookie is vanilla. What is the probability that it came from Bowl 1?\n",
    "\n",
    "If we only draw one cookie, this problem is simple, but if we draw more than one cookie, there is a complication: do we replace the cookie after each draw, or not?\n",
    "\n",
    "If we replace the cookie, the proportion of vanilla and chocolate cookies stays the same, and we can perform multiple updates with the same likelihood function.\n",
    "\n",
    "If we *don't* replace the cookie, the proportions change and we have to keep track of the number of cookies in each bowl.\n",
    "\n",
    "**Exercise:**\n",
    "\n",
    "Modify the solution from the book to handle selection without replacement.\n",
    "\n",
    "Hint: Add instance variables to the `Cookie` class to represent the hypothetical state of the bowls, and modify the `Likelihood` function accordingly.\n",
    "\n",
    "To represent the state of a Bowl, you might want to use the `Hist` class from `thinkbayes2`."
   ]
  },
  {
   "cell_type": "markdown",
   "metadata": {},
   "source": [
    "**Solution:**\n",
    "\n",
    "substitute the bowls in `mixes` as `Hist`s and use `Hist.Subtract()` to update the composition."
   ]
  },
  {
   "cell_type": "code",
   "execution_count": 2,
   "metadata": {},
   "outputs": [],
   "source": [
    "### copied from code/chap02.ipynb and modified\n",
    "class Cookie(Pmf):\n",
    "    \"\"\"A map from string bowl ID to probablity.\"\"\"\n",
    "    \n",
    "    def __init__(self, hypos):\n",
    "        \"\"\"Initialize self.\n",
    "\n",
    "        hypos: sequence of string bowl IDs\n",
    "        \"\"\"\n",
    "        Pmf.__init__(self)\n",
    "        for hypo in hypos:\n",
    "            self.Set(hypo, 1)\n",
    "        self.Normalize()\n",
    "\n",
    "    def Update(self, data):\n",
    "        \"\"\"Updates the PMF with new data.\n",
    "\n",
    "        data: string cookie type\n",
    "        \"\"\"\n",
    "        for hypo in self.Values():\n",
    "            self[hypo] *= self.Likelihood(data, hypo)\n",
    "        self.Normalize()\n",
    "\n",
    "    \n",
    "    mixes = {\n",
    "        'Bowl 1': Hist(dict(vanilla=30, chocolate=10)),\n",
    "        'Bowl 2': Hist(dict(vanilla=20, chocolate=20))\n",
    "    }\n",
    "\n",
    "    def Likelihood(self, data, hypo):\n",
    "        \"\"\"The likelihood of the data under the hypothesis.\n",
    "\n",
    "        data: string cookie type\n",
    "        hypo: string bowl ID\n",
    "        \"\"\"\n",
    "        mix = self.mixes[hypo]\n",
    "        like = mix[data]\n",
    "        \n",
    "        ### update the composition of the bowl\n",
    "        mix.Subtract( Hist({data:1}) )\n",
    "        \n",
    "        return like"
   ]
  },
  {
   "cell_type": "code",
   "execution_count": 3,
   "metadata": {},
   "outputs": [
    {
     "name": "stdout",
     "output_type": "stream",
     "text": [
      "{'Bowl 1': Hist({'vanilla': 30, 'chocolate': 10}), 'Bowl 2': Hist({'vanilla': 20, 'chocolate': 20})}\n"
     ]
    }
   ],
   "source": [
    "pmf = Cookie(['Bowl 1', 'Bowl 2'])\n",
    "print(pmf.mixes)"
   ]
  },
  {
   "cell_type": "code",
   "execution_count": 4,
   "metadata": {},
   "outputs": [
    {
     "name": "stdout",
     "output_type": "stream",
     "text": [
      "Bowl 1 0.6\n",
      "Bowl 2 0.4\n",
      "{'Bowl 1': Hist({'vanilla': 29, 'chocolate': 10}), 'Bowl 2': Hist({'vanilla': 19, 'chocolate': 20})}\n"
     ]
    }
   ],
   "source": [
    "pmf.Update('vanilla')\n",
    "pmf.Print()\n",
    "print(pmf.mixes)"
   ]
  },
  {
   "cell_type": "code",
   "execution_count": 5,
   "metadata": {},
   "outputs": [
    {
     "name": "stdout",
     "output_type": "stream",
     "text": [
      "Bowl 1 0.42857142857142855\n",
      "Bowl 2 0.5714285714285714\n",
      "{'Bowl 1': Hist({'vanilla': 29, 'chocolate': 9}), 'Bowl 2': Hist({'vanilla': 19, 'chocolate': 19})}\n"
     ]
    }
   ],
   "source": [
    "pmf.Update('chocolate')\n",
    "pmf.Print()\n",
    "print(pmf.mixes)"
   ]
  },
  {
   "cell_type": "code",
   "execution_count": 6,
   "metadata": {},
   "outputs": [
    {
     "name": "stdout",
     "output_type": "stream",
     "text": [
      "Bowl 1 0.2621359223300971\n",
      "Bowl 2 0.7378640776699029\n",
      "Hist({'vanilla': 29, 'chocolate': 8})\n",
      "Bowl 1 0.13636363636363635\n",
      "Bowl 2 0.8636363636363636\n",
      "Hist({'vanilla': 29, 'chocolate': 7})\n",
      "Bowl 1 0.061046511627906974\n",
      "Bowl 2 0.938953488372093\n",
      "Hist({'vanilla': 29, 'chocolate': 6})\n",
      "Bowl 1 0.023800528900642236\n",
      "Bowl 2 0.9761994710993578\n",
      "Hist({'vanilla': 29, 'chocolate': 5})\n",
      "Bowl 1 0.008061420345489444\n",
      "Bowl 2 0.9919385796545106\n",
      "Hist({'vanilla': 29, 'chocolate': 4})\n",
      "Bowl 1 0.0023166023166023165\n",
      "Bowl 2 0.9976833976833976\n",
      "Hist({'vanilla': 29, 'chocolate': 3})\n",
      "Bowl 1 0.0005355548943766736\n",
      "Bowl 2 0.9994644451056233\n",
      "Hist({'vanilla': 29, 'chocolate': 2})\n",
      "Bowl 1 8.929900282780175e-05\n",
      "Bowl 2 0.9999107009971722\n",
      "Hist({'vanilla': 29, 'chocolate': 1})\n",
      "Bowl 1 8.118750253710948e-06\n",
      "Bowl 2 0.9999918812497465\n",
      "Hist({'vanilla': 29, 'chocolate': 0})\n",
      "Bowl 1 0.0\n",
      "Bowl 2 1.0\n",
      "Hist({'vanilla': 29, 'chocolate': -1})\n"
     ]
    }
   ],
   "source": [
    "for _ in range(10):\n",
    "    pmf.Update('chocolate')\n",
    "    pmf.Print()\n",
    "    print(pmf.mixes)"
   ]
  },
  {
   "cell_type": "markdown",
   "metadata": {},
   "source": [
    "**Comments:**  \n",
    "This is weird: the composition of the bowls is updated at the same way, i.e. if a `data` is \"chocolate\" a chocolate cookie is removed from *both* bowls. I think that it should be done as follows:\n",
    "\n",
    "* we start with B1 = {30V, 10C} and B2 = {20V, 20C}\n",
    "* we get a vanilla cookie\n",
    "\n",
    "At this point, in the hypothesis that we are \"extracting\" from B1, we should have B1 = {29V, 10C} **and** B2 = {20V, 20C}, while in the hypothesis that we are \"extracting\" from B2, we should have B1 = {20V, 10C} **and** B2 = {19V, 20C}.\n",
    "\n",
    "**Answer (after some thinking):** It is not like that since the bowl we extract from is always the same! The problem would need a treatment like the one outlined here if the bowls were randomly selected after each extraction. Of course in this case the composition would change, but the priors would \"reset\" each time."
   ]
  },
  {
   "cell_type": "code",
   "execution_count": null,
   "metadata": {},
   "outputs": [],
   "source": []
  }
 ],
 "metadata": {
  "kernelspec": {
   "display_name": "Python 3",
   "language": "python",
   "name": "python3"
  },
  "language_info": {
   "codemirror_mode": {
    "name": "ipython",
    "version": 3
   },
   "file_extension": ".py",
   "mimetype": "text/x-python",
   "name": "python",
   "nbconvert_exporter": "python",
   "pygments_lexer": "ipython3",
   "version": "3.7.7"
  }
 },
 "nbformat": 4,
 "nbformat_minor": 2
}
