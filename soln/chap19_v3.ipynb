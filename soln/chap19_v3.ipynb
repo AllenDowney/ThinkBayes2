{
 "cells": [
  {
   "cell_type": "markdown",
   "metadata": {},
   "source": [
    "You can order print and ebook versions of *Think Bayes 2e* from\n",
    "[Bookshop.org](https://bookshop.org/a/98697/9781492089469) and\n",
    "[Amazon](https://amzn.to/334eqGo)."
   ]
  },
  {
   "cell_type": "markdown",
   "metadata": {
    "id": "MSp-NuHq537L"
   },
   "source": [
    "# MCMC\n",
    "\n",
    "[NOTE: this online version of Chapter 19 has been updated for PyMC version 5]\n",
    "\n",
    "For most of this book we've used grid methods to approximate posterior distributions.\n",
    "For models with one or two parameters, grid algorithms are fast and the results are precise enough for most practical purposes.\n",
    "With three parameters, they start to be slow, and with more than three they are usually not practical.\n",
    "\n",
    "In the previous chapter we saw that we can solve some problems using conjugate priors.\n",
    "But the problems we can solve this way tend to be the same ones we can solve with grid algorithms.\n",
    "\n",
    "For problems with more than a few parameters, the most powerful tool we have is MCMC, which stands for \"Markov chain Monte Carlo\".\n",
    "In this context, \"Monte Carlo\" refers to methods that generate random samples from a distribution.\n",
    "Unlike grid methods, MCMC methods don't try to compute the posterior distribution; they sample from it instead.\n",
    "\n",
    "It might seem strange that you can generate a sample without ever computing the distribution, but that's the magic of MCMC.\n",
    "\n",
    "To demonstrate, we'll start by solving the World Cup problem.\n",
    "Yes, again."
   ]
  },
  {
   "cell_type": "code",
   "execution_count": 1,
   "metadata": {
    "colab": {
     "base_uri": "https://localhost:8080/"
    },
    "execution": {
     "iopub.execute_input": "2021-04-16T19:40:57.828409Z",
     "iopub.status.busy": "2021-04-16T19:40:57.827951Z",
     "iopub.status.idle": "2021-04-16T19:40:57.830329Z",
     "shell.execute_reply": "2021-04-16T19:40:57.829814Z"
    },
    "id": "H6uVPmSU537N",
    "outputId": "956ccb0a-198a-4375-8458-be4d8628ba1c",
    "tags": []
   },
   "outputs": [],
   "source": [
    "# install empiricaldist if necessary\n",
    "\n",
    "try:\n",
    "    import empiricaldist\n",
    "except ImportError:\n",
    "    !pip install empiricaldist\n",
    "    import empiricaldist"
   ]
  },
  {
   "cell_type": "code",
   "execution_count": 2,
   "metadata": {
    "colab": {
     "base_uri": "https://localhost:8080/"
    },
    "execution": {
     "iopub.execute_input": "2021-04-16T19:40:57.835008Z",
     "iopub.status.busy": "2021-04-16T19:40:57.833918Z",
     "iopub.status.idle": "2021-04-16T19:40:57.836443Z",
     "shell.execute_reply": "2021-04-16T19:40:57.837069Z"
    },
    "id": "gxC5h0D7537N",
    "outputId": "564c4a51-63e1-45db-c774-627d34d1b080",
    "tags": []
   },
   "outputs": [],
   "source": [
    "# Get utils.py\n",
    "\n",
    "from os.path import basename, exists\n",
    "\n",
    "def download(url):\n",
    "    filename = basename(url)\n",
    "    if not exists(filename):\n",
    "        from urllib.request import urlretrieve\n",
    "        local, _ = urlretrieve(url, filename)\n",
    "        print('Downloaded ' + local)\n",
    "\n",
    "download('https://github.com/AllenDowney/ThinkBayes2/raw/master/soln/utils.py')"
   ]
  },
  {
   "cell_type": "code",
   "execution_count": 3,
   "metadata": {
    "execution": {
     "iopub.execute_input": "2021-04-16T19:40:57.842270Z",
     "iopub.status.busy": "2021-04-16T19:40:57.841230Z",
     "iopub.status.idle": "2021-04-16T19:40:58.518519Z",
     "shell.execute_reply": "2021-04-16T19:40:58.517820Z"
    },
    "id": "opldA-cI537O",
    "tags": []
   },
   "outputs": [],
   "source": [
    "from utils import set_pyplot_params\n",
    "set_pyplot_params()"
   ]
  },
  {
   "cell_type": "markdown",
   "metadata": {
    "id": "PgNbyCjQ537P"
   },
   "source": [
    "## The World Cup Problem\n",
    "\n",
    "In <<_PoissonProcesses>> we modeled goal scoring in football (soccer) as a Poisson process characterized by a goal-scoring rate, denoted $\\lambda$.\n",
    "\n",
    "We used a gamma distribution to represent the prior distribution of $\\lambda$, then we used the outcome of the game to compute the posterior distribution for both teams.\n",
    "\n",
    "To answer the first question, we used the posterior distributions to compute the \"probability of superiority\" for France.\n",
    "\n",
    "To answer the second question, we computed the posterior predictive distributions for each team, that is, the distribution of goals we expect in a rematch.\n",
    "\n",
    "In this chapter we'll solve this problem again using PyMC, which is a library that provide implementations of several MCMC methods.\n",
    "But we'll start by reviewing the grid approximation of the prior and the prior predictive distribution."
   ]
  },
  {
   "cell_type": "markdown",
   "metadata": {
    "id": "qUU1Er-7537Q"
   },
   "source": [
    "## Grid Approximation\n",
    "\n",
    "As we did in <<_TheGammaDistribution>> we'll use a gamma distribution with parameter $\\alpha=1.4$ to represent the prior."
   ]
  },
  {
   "cell_type": "code",
   "execution_count": 4,
   "metadata": {
    "execution": {
     "iopub.execute_input": "2021-04-16T19:40:58.522840Z",
     "iopub.status.busy": "2021-04-16T19:40:58.522336Z",
     "iopub.status.idle": "2021-04-16T19:40:58.524833Z",
     "shell.execute_reply": "2021-04-16T19:40:58.524280Z"
    },
    "id": "VuNeFAEM537Q"
   },
   "outputs": [],
   "source": [
    "from scipy.stats import gamma\n",
    "\n",
    "alpha = 1.4\n",
    "prior_dist = gamma(alpha)"
   ]
  },
  {
   "cell_type": "markdown",
   "metadata": {
    "id": "99_x5XOE537R"
   },
   "source": [
    "I'll use `linspace` to generate possible values for $\\lambda$, and `pmf_from_dist` to compute a discrete approximation of the prior."
   ]
  },
  {
   "cell_type": "code",
   "execution_count": 5,
   "metadata": {
    "execution": {
     "iopub.execute_input": "2021-04-16T19:40:58.530316Z",
     "iopub.status.busy": "2021-04-16T19:40:58.529152Z",
     "iopub.status.idle": "2021-04-16T19:40:58.536917Z",
     "shell.execute_reply": "2021-04-16T19:40:58.537517Z"
    },
    "id": "gH1wnFDd537R"
   },
   "outputs": [],
   "source": [
    "import numpy as np\n",
    "from utils import pmf_from_dist\n",
    "\n",
    "lams = np.linspace(0, 10, 101)\n",
    "prior_pmf = pmf_from_dist(prior_dist, lams)"
   ]
  },
  {
   "cell_type": "markdown",
   "metadata": {
    "id": "wp0wXKR8537S"
   },
   "source": [
    "We can use the Poisson distribution to compute the likelihood of the data; as an example, we'll use 4 goals."
   ]
  },
  {
   "cell_type": "code",
   "execution_count": 6,
   "metadata": {
    "execution": {
     "iopub.execute_input": "2021-04-16T19:40:58.542627Z",
     "iopub.status.busy": "2021-04-16T19:40:58.541642Z",
     "iopub.status.idle": "2021-04-16T19:40:58.544536Z",
     "shell.execute_reply": "2021-04-16T19:40:58.543934Z"
    },
    "id": "pBxD200w537S"
   },
   "outputs": [],
   "source": [
    "from scipy.stats import poisson\n",
    "\n",
    "data = 4\n",
    "likelihood = poisson.pmf(data, lams)"
   ]
  },
  {
   "cell_type": "markdown",
   "metadata": {
    "id": "V6dS5w1F537S"
   },
   "source": [
    "Now we can do the update in the usual way."
   ]
  },
  {
   "cell_type": "code",
   "execution_count": 7,
   "metadata": {
    "colab": {
     "base_uri": "https://localhost:8080/"
    },
    "execution": {
     "iopub.execute_input": "2021-04-16T19:40:58.551782Z",
     "iopub.status.busy": "2021-04-16T19:40:58.551285Z",
     "iopub.status.idle": "2021-04-16T19:40:58.553598Z",
     "shell.execute_reply": "2021-04-16T19:40:58.553975Z"
    },
    "id": "IVpr3iY9537T",
    "outputId": "ecb23825-dd68-475e-e8a3-45a87175a42d"
   },
   "outputs": [
    {
     "data": {
      "text/plain": [
       "np.float64(0.05015532557804499)"
      ]
     },
     "execution_count": 7,
     "metadata": {},
     "output_type": "execute_result"
    }
   ],
   "source": [
    "posterior = prior_pmf * likelihood\n",
    "posterior.normalize()"
   ]
  },
  {
   "cell_type": "markdown",
   "metadata": {
    "id": "2YpibwXC537T"
   },
   "source": [
    "Soon we will solve the same problem with PyMC, but first it will be useful to introduce something new: the prior predictive distribution."
   ]
  },
  {
   "cell_type": "markdown",
   "metadata": {
    "id": "V3Kwle0t537T"
   },
   "source": [
    "## Prior Predictive Distribution\n",
    "\n",
    "We have seen the posterior predictive distribution in previous chapters; the prior predictive distribution is similar except that (as you might have guessed) it is based on the prior.\n",
    "\n",
    "To estimate the prior predictive distribution, we'll start by drawing a sample from the prior."
   ]
  },
  {
   "cell_type": "code",
   "execution_count": 8,
   "metadata": {
    "execution": {
     "iopub.execute_input": "2021-04-16T19:40:58.557520Z",
     "iopub.status.busy": "2021-04-16T19:40:58.556939Z",
     "iopub.status.idle": "2021-04-16T19:40:58.559446Z",
     "shell.execute_reply": "2021-04-16T19:40:58.558925Z"
    },
    "id": "3YS46qbA537U"
   },
   "outputs": [],
   "source": [
    "sample_prior = prior_dist.rvs(1000)"
   ]
  },
  {
   "cell_type": "markdown",
   "metadata": {
    "id": "JP-bDFGk537U"
   },
   "source": [
    "The result is an array of possible values for the goal-scoring rate, $\\lambda$.\n",
    "For each value in `sample_prior`, I'll generate one value from a Poisson distribution."
   ]
  },
  {
   "cell_type": "code",
   "execution_count": 9,
   "metadata": {
    "execution": {
     "iopub.execute_input": "2021-04-16T19:40:58.563762Z",
     "iopub.status.busy": "2021-04-16T19:40:58.563104Z",
     "iopub.status.idle": "2021-04-16T19:40:58.566161Z",
     "shell.execute_reply": "2021-04-16T19:40:58.565628Z"
    },
    "id": "BHv-Hgw2537U"
   },
   "outputs": [],
   "source": [
    "from scipy.stats import poisson\n",
    "\n",
    "sample_prior_pred = poisson.rvs(sample_prior)"
   ]
  },
  {
   "cell_type": "markdown",
   "metadata": {
    "id": "-5fP5jK8537U"
   },
   "source": [
    "`sample_prior_pred` is a sample from the prior predictive distribution.\n",
    "To see what it looks like, we'll compute the PMF of the sample."
   ]
  },
  {
   "cell_type": "code",
   "execution_count": 10,
   "metadata": {
    "execution": {
     "iopub.execute_input": "2021-04-16T19:40:58.571692Z",
     "iopub.status.busy": "2021-04-16T19:40:58.570985Z",
     "iopub.status.idle": "2021-04-16T19:40:58.573549Z",
     "shell.execute_reply": "2021-04-16T19:40:58.572993Z"
    },
    "id": "B60c-M26537V"
   },
   "outputs": [],
   "source": [
    "from empiricaldist import Pmf\n",
    "\n",
    "pmf_prior_pred = Pmf.from_seq(sample_prior_pred)"
   ]
  },
  {
   "cell_type": "markdown",
   "metadata": {
    "id": "jMAgk17i537V"
   },
   "source": [
    "And here's what it looks like:"
   ]
  },
  {
   "cell_type": "code",
   "execution_count": 11,
   "metadata": {
    "colab": {
     "base_uri": "https://localhost:8080/",
     "height": 487
    },
    "execution": {
     "iopub.execute_input": "2021-04-16T19:40:58.577871Z",
     "iopub.status.busy": "2021-04-16T19:40:58.577249Z",
     "iopub.status.idle": "2021-04-16T19:40:58.774734Z",
     "shell.execute_reply": "2021-04-16T19:40:58.774256Z"
    },
    "id": "40XPwr8A537V",
    "outputId": "56662308-29a1-4d14-b297-1d6d09a46795",
    "tags": []
   },
   "outputs": [
    {
     "data": {
      "image/png": "[encoded data removed]",
      "text/plain": [
       "<Figure size 480x360 with 1 Axes>"
      ]
     },
     "metadata": {},
     "output_type": "display_data"
    }
   ],
   "source": [
    "from utils import decorate\n",
    "\n",
    "pmf_prior_pred.bar()\n",
    "decorate(xlabel='Number of goals',\n",
    "         ylabel='PMF',\n",
    "         title='Prior Predictive Distribution')"
   ]
  },
  {
   "cell_type": "markdown",
   "metadata": {
    "id": "14wUAEzy537W"
   },
   "source": [
    "One reason to compute the prior predictive distribution is to check whether our model of the system seems reasonable.\n",
    "In this case, the distribution of goals seems consistent with what we know about World Cup football.\n",
    "\n",
    "But in this chapter we have another reason: computing the prior predictive distribution is a first step toward using MCMC."
   ]
  },
  {
   "cell_type": "markdown",
   "metadata": {
    "id": "chFWh7Oy537W"
   },
   "source": [
    "## Introducing PyMC\n",
    "\n",
    "PyMC is a Python library that provides several MCMC methods.\n",
    "To use PyMC, we have to specify a model of the process that generates the data.\n",
    "In this example, the model has two steps:\n",
    "\n",
    "* First we draw a goal-scoring rate from the prior distribution,\n",
    "\n",
    "* Then we draw a number of goals from a Poisson distribution.\n",
    "\n",
    "Here's how we specify this model in PyMC:"
   ]
  },
  {
   "cell_type": "code",
   "execution_count": 12,
   "metadata": {
    "execution": {
     "iopub.execute_input": "2021-04-16T19:40:58.778444Z",
     "iopub.status.busy": "2021-04-16T19:40:58.777838Z",
     "iopub.status.idle": "2021-04-16T19:41:00.953859Z",
     "shell.execute_reply": "2021-04-16T19:41:00.954208Z"
    },
    "id": "_VLkblWj537W"
   },
   "outputs": [],
   "source": [
    "import pymc as pm\n",
    "\n",
    "with pm.Model() as model:\n",
    "    lam = pm.Gamma('lam', alpha=1.4, beta=1.0)\n",
    "    goals = pm.Poisson('goals', lam)"
   ]
  },
  {
   "cell_type": "markdown",
   "metadata": {
    "id": "AePRz69r537W"
   },
   "source": [
    "After importing `PyMC`, we create a `Model` object named `model`.\n",
    "\n",
    "If you are not familiar with the `with` statement in Python, it is a way to associate a block of statements with an object.\n",
    "In this example, the two indented statements are associated with the new `Model` object.  As a result, when we create the distribution objects, `Gamma` and `Poisson`, they are added to the `Model`.\n",
    "\n",
    "Inside the `with` statement:\n",
    "\n",
    "* The first line creates the prior, which is a gamma distribution with the given parameters.\n",
    "\n",
    "* The second line creates the prior predictive, which is a Poisson distribution with the parameter `lam`.\n",
    "\n",
    "The first parameter of `Gamma` and `Poisson` is a string variable name."
   ]
  },
  {
   "cell_type": "markdown",
   "metadata": {
    "id": "WtwUgOrD537X",
    "tags": []
   },
   "source": [
    "PyMC provides a function that generates a visual representation of the model."
   ]
  },
  {
   "cell_type": "code",
   "execution_count": 13,
   "metadata": {
    "colab": {
     "base_uri": "https://localhost:8080/",
     "height": 280
    },
    "execution": {
     "iopub.execute_input": "2021-04-16T19:41:00.957698Z",
     "iopub.status.busy": "2021-04-16T19:41:00.957214Z",
     "iopub.status.idle": "2021-04-16T19:41:01.379401Z",
     "shell.execute_reply": "2021-04-16T19:41:01.379760Z"
    },
    "id": "4xa-pGxB537X",
    "outputId": "15c8f246-fbc2-4fac-f392-fd2b73a331c2",
    "tags": []
   },
   "outputs": [
    {
     "data": {
      "image/svg+xml": [
       "<?xml version=\"1.0\" encoding=\"UTF-8\" standalone=\"no\"?>\n",
       "<!DOCTYPE svg PUBLIC \"-//W3C//DTD SVG 1.1//EN\"\n",
       " \"http://www.w3.org/Graphics/SVG/1.1/DTD/svg11.dtd\">\n",
       "<!-- Generated by graphviz version 13.1.2 (20250809.0930)\n",
       " -->\n",
       "<!-- Pages: 1 -->\n",
       "<svg width=\"108pt\" height=\"213pt\"\n",
       " viewBox=\"0.00 0.00 108.00 213.00\" xmlns=\"http://www.w3.org/2000/svg\" xmlns:xlink=\"http://www.w3.org/1999/xlink\">\n",
       "<g id=\"graph0\" class=\"graph\" transform=\"scale(1 1) rotate(0) translate(4 209)\">\n",
       "<polygon fill=\"white\" stroke=\"none\" points=\"-4,4 -4,-209 104.06,-209 104.06,4 -4,4\"/>\n",
       "<!-- lam -->\n",
       "<g id=\"node1\" class=\"node\">\n",
       "<title>lam</title>\n",
       "<ellipse fill=\"none\" stroke=\"black\" cx=\"50.03\" cy=\"-162.75\" rx=\"50.03\" ry=\"42.25\"/>\n",
       "<text xml:space=\"preserve\" text-anchor=\"middle\" x=\"50.03\" y=\"-175.32\" font-family=\"Times,serif\" font-size=\"14.00\">lam</text>\n",
       "<text xml:space=\"preserve\" text-anchor=\"middle\" x=\"50.03\" y=\"-158.07\" font-family=\"Times,serif\" font-size=\"14.00\">~</text>\n",
       "<text xml:space=\"preserve\" text-anchor=\"middle\" x=\"50.03\" y=\"-140.82\" font-family=\"Times,serif\" font-size=\"14.00\">Gamma</text>\n",
       "</g>\n",
       "<!-- goals -->\n",
       "<g id=\"node2\" class=\"node\">\n",
       "<title>goals</title>\n",
       "<ellipse fill=\"none\" stroke=\"black\" cx=\"50.03\" cy=\"-42.25\" rx=\"49.5\" ry=\"42.25\"/>\n",
       "<text xml:space=\"preserve\" text-anchor=\"middle\" x=\"50.03\" y=\"-54.82\" font-family=\"Times,serif\" font-size=\"14.00\">goals</text>\n",
       "<text xml:space=\"preserve\" text-anchor=\"middle\" x=\"50.03\" y=\"-37.57\" font-family=\"Times,serif\" font-size=\"14.00\">~</text>\n",
       "<text xml:space=\"preserve\" text-anchor=\"middle\" x=\"50.03\" y=\"-20.32\" font-family=\"Times,serif\" font-size=\"14.00\">Poisson</text>\n",
       "</g>\n",
       "<!-- lam&#45;&gt;goals -->\n",
       "<g id=\"edge1\" class=\"edge\">\n",
       "<title>lam&#45;&gt;goals</title>\n",
       "<path fill=\"none\" stroke=\"black\" d=\"M50.03,-120.3C50.03,-112.5 50.03,-104.24 50.03,-96.15\"/>\n",
       "<polygon fill=\"black\" stroke=\"black\" points=\"53.53,-96.39 50.03,-86.39 46.53,-96.39 53.53,-96.39\"/>\n",
       "</g>\n",
       "</g>\n",
       "</svg>\n"
      ],
      "text/plain": [
       "<graphviz.graphs.Digraph at 0x7f111bb82810>"
      ]
     },
     "execution_count": 13,
     "metadata": {},
     "output_type": "execute_result"
    }
   ],
   "source": [
    "pm.model_to_graphviz(model)"
   ]
  },
  {
   "cell_type": "markdown",
   "metadata": {
    "id": "hY5b2hiQ537X",
    "tags": []
   },
   "source": [
    "In this visualization, the ovals show that `lam` is drawn from a gamma distribution and `goals` is drawn from a Poisson distribution.\n",
    "The arrow shows that the values of `lam` are used as parameters for the distribution of `goals`."
   ]
  },
  {
   "cell_type": "markdown",
   "metadata": {
    "id": "fTFcDQim537X"
   },
   "source": [
    "## Sampling the Prior\n",
    "\n",
    "PyMC provides a function that generates samples from the prior and prior predictive distributions.\n",
    "We can use a `with` statement to run this function in the context of the model."
   ]
  },
  {
   "cell_type": "code",
   "execution_count": 14,
   "metadata": {
    "execution": {
     "iopub.execute_input": "2021-04-16T19:41:01.385816Z",
     "iopub.status.busy": "2021-04-16T19:41:01.385296Z",
     "iopub.status.idle": "2021-04-16T19:41:01.391249Z",
     "shell.execute_reply": "2021-04-16T19:41:01.390881Z"
    },
    "id": "c3IBAhhJ537X"
   },
   "outputs": [
    {
     "name": "stderr",
     "output_type": "stream",
     "text": [
      "Sampling: [goals, lam]\n"
     ]
    }
   ],
   "source": [
    "with model:\n",
    "    idata = pm.sample_prior_predictive(1000)"
   ]
  },
  {
   "cell_type": "code",
   "execution_count": 15,
   "metadata": {},
   "outputs": [
    {
     "data": {
      "text/plain": [
       "arviz.data.inference_data.InferenceData"
      ]
     },
     "execution_count": 15,
     "metadata": {},
     "output_type": "execute_result"
    }
   ],
   "source": [
    "type(idata)"
   ]
  },
  {
   "cell_type": "markdown",
   "metadata": {
    "id": "a0CiSJ-n537Y"
   },
   "source": [
    "The result is an `InferenceData` object that contains information about the sampling process and the results.\n",
    "We can extract the sample of `lam` like this:"
   ]
  },
  {
   "cell_type": "code",
   "execution_count": 16,
   "metadata": {
    "id": "jGgZwe4HCERw"
   },
   "outputs": [],
   "source": [
    "def get_values(array):\n",
    "    return array.values.flatten()"
   ]
  },
  {
   "cell_type": "code",
   "execution_count": 17,
   "metadata": {
    "colab": {
     "base_uri": "https://localhost:8080/"
    },
    "execution": {
     "iopub.execute_input": "2021-04-16T19:41:01.394627Z",
     "iopub.status.busy": "2021-04-16T19:41:01.394223Z",
     "iopub.status.idle": "2021-04-16T19:41:01.398265Z",
     "shell.execute_reply": "2021-04-16T19:41:01.397755Z"
    },
    "id": "xM5rekER537Y",
    "outputId": "18d7e132-3965-4db4-fedb-5dad6814259c"
   },
   "outputs": [
    {
     "data": {
      "text/plain": [
       "(1000,)"
      ]
     },
     "execution_count": 17,
     "metadata": {},
     "output_type": "execute_result"
    }
   ],
   "source": [
    "sample_prior_pymc = get_values(idata.prior['lam'])\n",
    "sample_prior_pymc.shape"
   ]
  },
  {
   "cell_type": "markdown",
   "metadata": {
    "id": "1Ohq8I-C537Y"
   },
   "source": [
    "The following figure compares the CDF of this sample to the CDF of the sample we generated using the `gamma` object from SciPy."
   ]
  },
  {
   "cell_type": "code",
   "execution_count": 18,
   "metadata": {
    "execution": {
     "iopub.execute_input": "2021-04-16T19:41:01.401875Z",
     "iopub.status.busy": "2021-04-16T19:41:01.401445Z",
     "iopub.status.idle": "2021-04-16T19:41:01.403133Z",
     "shell.execute_reply": "2021-04-16T19:41:01.403491Z"
    },
    "id": "tKYXaHP3537Z",
    "tags": []
   },
   "outputs": [],
   "source": [
    "from empiricaldist import Cdf\n",
    "\n",
    "def plot_cdf(sample, **options):\n",
    "    \"\"\"Plot the CDF of a sample.\n",
    "\n",
    "    sample: sequence of quantities\n",
    "    \"\"\"\n",
    "    Cdf.from_seq(sample).plot(**options)"
   ]
  },
  {
   "cell_type": "code",
   "execution_count": 19,
   "metadata": {
    "colab": {
     "base_uri": "https://localhost:8080/",
     "height": 487
    },
    "execution": {
     "iopub.execute_input": "2021-04-16T19:41:01.407672Z",
     "iopub.status.busy": "2021-04-16T19:41:01.407023Z",
     "iopub.status.idle": "2021-04-16T19:41:01.777287Z",
     "shell.execute_reply": "2021-04-16T19:41:01.776638Z"
    },
    "id": "palWF0Xp537Z",
    "outputId": "e571e0e2-a37d-426f-ed23-e5a26dbdcb30",
    "tags": []
   },
   "outputs": [
    {
     "data": {
      "image/png": "[encoded data removed]",
      "text/plain": [
       "<Figure size 480x360 with 1 Axes>"
      ]
     },
     "metadata": {},
     "output_type": "display_data"
    }
   ],
   "source": [
    "plot_cdf(sample_prior,\n",
    "         label='SciPy sample',\n",
    "         color='C5')\n",
    "plot_cdf(sample_prior_pymc,\n",
    "         label='PyMC sample',\n",
    "         color='C0')\n",
    "decorate(xlabel=r'Goals per game ($\\lambda$)',\n",
    "         ylabel='CDF',\n",
    "         title='Prior distribution')"
   ]
  },
  {
   "cell_type": "markdown",
   "metadata": {
    "id": "GSINo4Uh537Z"
   },
   "source": [
    "The results are similar, which confirms that the specification of the model is correct and the sampler works as advertised.\n",
    "\n",
    "From the inference data we can also extract `goals`, which is a sample from the prior predictive distribution."
   ]
  },
  {
   "cell_type": "code",
   "execution_count": 20,
   "metadata": {
    "colab": {
     "base_uri": "https://localhost:8080/"
    },
    "execution": {
     "iopub.execute_input": "2021-04-16T19:41:01.781338Z",
     "iopub.status.busy": "2021-04-16T19:41:01.780658Z",
     "iopub.status.idle": "2021-04-16T19:41:01.783489Z",
     "shell.execute_reply": "2021-04-16T19:41:01.783901Z"
    },
    "id": "Ob-B1IHn537Z",
    "outputId": "3f096055-aff1-464c-c454-13dedc6c8383"
   },
   "outputs": [
    {
     "data": {
      "text/plain": [
       "(1000,)"
      ]
     },
     "execution_count": 20,
     "metadata": {},
     "output_type": "execute_result"
    }
   ],
   "source": [
    "sample_prior_pred_pymc = get_values(idata.prior['goals'])\n",
    "sample_prior_pred_pymc.shape"
   ]
  },
  {
   "cell_type": "markdown",
   "metadata": {
    "id": "bmrOxcLF537a"
   },
   "source": [
    "And we can compare it to the sample we generated using the `poisson` object from SciPy.\n",
    "\n",
    "Because the quantities in the posterior predictive distribution are discrete (number of goals) I'll plot the CDFs as step functions."
   ]
  },
  {
   "cell_type": "code",
   "execution_count": 21,
   "metadata": {
    "execution": {
     "iopub.execute_input": "2021-04-16T19:41:01.787812Z",
     "iopub.status.busy": "2021-04-16T19:41:01.787094Z",
     "iopub.status.idle": "2021-04-16T19:41:01.791170Z",
     "shell.execute_reply": "2021-04-16T19:41:01.791710Z"
    },
    "id": "GvBh6shO537a",
    "tags": []
   },
   "outputs": [],
   "source": [
    "def plot_pred(sample, **options):\n",
    "    Cdf.from_seq(sample).step(**options)"
   ]
  },
  {
   "cell_type": "code",
   "execution_count": 22,
   "metadata": {
    "colab": {
     "base_uri": "https://localhost:8080/",
     "height": 487
    },
    "execution": {
     "iopub.execute_input": "2021-04-16T19:41:01.822726Z",
     "iopub.status.busy": "2021-04-16T19:41:01.820731Z",
     "iopub.status.idle": "2021-04-16T19:41:01.989979Z",
     "shell.execute_reply": "2021-04-16T19:41:01.989620Z"
    },
    "id": "T6F-xDub537a",
    "outputId": "8dbf6fd3-9b13-48b6-bbfc-455b7663fcff",
    "tags": []
   },
   "outputs": [
    {
     "data": {
      "image/png": "[encoded data removed]",
      "text/plain": [
       "<Figure size 480x360 with 1 Axes>"
      ]
     },
     "metadata": {},
     "output_type": "display_data"
    }
   ],
   "source": [
    "plot_pred(sample_prior_pred,\n",
    "          label='SciPy sample',\n",
    "          color='C5')\n",
    "plot_pred(sample_prior_pred_pymc,\n",
    "          label='PyMC sample',\n",
    "          color='C13')\n",
    "decorate(xlabel='Number of goals',\n",
    "         ylabel='PMF',\n",
    "         title='Prior Predictive Distribution')"
   ]
  },
  {
   "cell_type": "markdown",
   "metadata": {
    "id": "5yHrFCR6537a"
   },
   "source": [
    "Again, the results are similar, so we have some confidence we are using PyMC right."
   ]
  },
  {
   "cell_type": "markdown",
   "metadata": {
    "id": "jsHTHiGi537a"
   },
   "source": [
    "## When Do We Get to Inference?\n",
    "\n",
    "Finally, we are ready for actual inference.  We just have to make one small change.\n",
    "Here is the model we used to generate the prior predictive distribution:"
   ]
  },
  {
   "cell_type": "code",
   "execution_count": 23,
   "metadata": {
    "execution": {
     "iopub.execute_input": "2021-04-16T19:41:02.063426Z",
     "iopub.status.busy": "2021-04-16T19:41:02.027745Z",
     "iopub.status.idle": "2021-04-16T19:41:02.188439Z",
     "shell.execute_reply": "2021-04-16T19:41:02.188864Z"
    },
    "id": "uDVYlqVj537b"
   },
   "outputs": [],
   "source": [
    "with pm.Model() as model:\n",
    "    lam = pm.Gamma('lam', alpha=1.4, beta=1.0)\n",
    "    goals = pm.Poisson('goals', lam)"
   ]
  },
  {
   "cell_type": "markdown",
   "metadata": {
    "id": "wNh_P886537b"
   },
   "source": [
    "And here is the model we'll use to compute the posterior distribution."
   ]
  },
  {
   "cell_type": "code",
   "execution_count": 24,
   "metadata": {
    "execution": {
     "iopub.execute_input": "2021-04-16T19:41:02.242432Z",
     "iopub.status.busy": "2021-04-16T19:41:02.206543Z",
     "iopub.status.idle": "2021-04-16T19:41:02.796228Z",
     "shell.execute_reply": "2021-04-16T19:41:02.796642Z"
    },
    "id": "0FccpyAk537c"
   },
   "outputs": [],
   "source": [
    "with pm.Model() as model2:\n",
    "    lam = pm.Gamma('lam', alpha=1.4, beta=1.0)\n",
    "    goals = pm.Poisson('goals', lam, observed=4)"
   ]
  },
  {
   "cell_type": "markdown",
   "metadata": {
    "id": "jWedLbJC537c"
   },
   "source": [
    "The difference is that we mark goals as `observed` and provide the observed data, `4`.\n",
    "\n",
    "And instead of calling `sample_prior_predictive`, we'll call `sample`, which is understood to sample from the posterior distribution of `lam`."
   ]
  },
  {
   "cell_type": "code",
   "execution_count": 25,
   "metadata": {
    "colab": {
     "base_uri": "https://localhost:8080/",
     "height": 57
    },
    "execution": {
     "iopub.execute_input": "2021-04-16T19:41:02.802159Z",
     "iopub.status.busy": "2021-04-16T19:41:02.801689Z",
     "iopub.status.idle": "2021-04-16T19:41:05.675467Z",
     "shell.execute_reply": "2021-04-16T19:41:05.675832Z"
    },
    "id": "UAjsqXMk537c",
    "outputId": "0979edf9-b37f-4f7c-c6e1-66488bad98c0",
    "tags": []
   },
   "outputs": [
    {
     "name": "stderr",
     "output_type": "stream",
     "text": [
      "Initializing NUTS using jitter+adapt_diag...\n",
      "Multiprocess sampling (4 chains in 4 jobs)\n",
      "NUTS: [lam]\n"
     ]
    },
    {
     "data": {
      "application/vnd.jupyter.widget-view+json": {
       "model_id": "5d83bd4498ea4806ad0a9b63a060bec5",
       "version_major": 2,
       "version_minor": 0
      },
      "text/plain": [
       "Output()"
      ]
     },
     "metadata": {},
     "output_type": "display_data"
    },
    {
     "data": {
      "text/html": [
       "<pre style=\"white-space:pre;overflow-x:auto;line-height:normal;font-family:Menlo,'DejaVu Sans Mono',consolas,'Courier New',monospace\"></pre>\n"
      ],
      "text/plain": []
     },
     "metadata": {},
     "output_type": "display_data"
    },
    {
     "name": "stderr",
     "output_type": "stream",
     "text": [
      "Sampling 4 chains for 1_000 tune and 500 draw iterations (4_000 + 2_000 draws total) took 1 seconds.\n"
     ]
    }
   ],
   "source": [
    "options = dict()\n",
    "\n",
    "with model2:\n",
    "    idata2 = pm.sample(500, **options)"
   ]
  },
  {
   "cell_type": "markdown",
   "metadata": {
    "id": "q4Iu1faW537d"
   },
   "source": [
    "Although the specification of these models is similar, the sampling process is very different.\n",
    "I won't go into the details of how PyMC works, but here are a few things you should be aware of:\n",
    "\n",
    "* Depending on the model, PyMC uses one of several MCMC methods; in this example, it uses the [No U-Turn Sampler](https://en.wikipedia.org/wiki/Hamiltonian_Monte_Carlo#No_U-Turn_Sampler) (NUTS), which is one of the most efficient and reliable methods we have.\n",
    "\n",
    "* When the sampler starts, the first values it generates are usually not a representative sample from the posterior distribution, so these values are discarded.  This process is called \"tuning\".\n",
    "\n",
    "* Instead of using a single Markov chain, PyMC uses multiple chains.  Then we can compare results from multiple chains to make sure they are consistent.\n",
    "\n",
    "Although we asked for a sample of 500, PyMC generated two samples of 1000, discarded half of each, and returned the remaining 1000.\n",
    "From `idata2` we can extract a sample from the posterior distribution, like this:"
   ]
  },
  {
   "cell_type": "code",
   "execution_count": 26,
   "metadata": {
    "execution": {
     "iopub.execute_input": "2021-04-16T19:41:05.679251Z",
     "iopub.status.busy": "2021-04-16T19:41:05.678795Z",
     "iopub.status.idle": "2021-04-16T19:41:05.680963Z",
     "shell.execute_reply": "2021-04-16T19:41:05.680587Z"
    },
    "id": "iBvLUny7537d"
   },
   "outputs": [],
   "source": [
    "sample_post_pymc = get_values(idata2.posterior['lam'])"
   ]
  },
  {
   "cell_type": "code",
   "execution_count": 27,
   "metadata": {
    "colab": {
     "base_uri": "https://localhost:8080/"
    },
    "execution": {
     "iopub.execute_input": "2021-04-16T19:41:05.684868Z",
     "iopub.status.busy": "2021-04-16T19:41:05.684026Z",
     "iopub.status.idle": "2021-04-16T19:41:05.687100Z",
     "shell.execute_reply": "2021-04-16T19:41:05.687569Z"
    },
    "id": "myUg9ab2537d",
    "outputId": "8af1ba27-c14c-48d1-9aa1-0d968ce8ae63",
    "tags": []
   },
   "outputs": [
    {
     "data": {
      "text/plain": [
       "(2000,)"
      ]
     },
     "execution_count": 27,
     "metadata": {},
     "output_type": "execute_result"
    }
   ],
   "source": [
    "sample_post_pymc.shape"
   ]
  },
  {
   "cell_type": "markdown",
   "metadata": {
    "id": "SzWPI9tv537e"
   },
   "source": [
    "And we can compare the CDF of this sample to the posterior we computed by grid approximation:"
   ]
  },
  {
   "cell_type": "code",
   "execution_count": 28,
   "metadata": {
    "colab": {
     "base_uri": "https://localhost:8080/",
     "height": 487
    },
    "execution": {
     "iopub.execute_input": "2021-04-16T19:41:05.714538Z",
     "iopub.status.busy": "2021-04-16T19:41:05.698613Z",
     "iopub.status.idle": "2021-04-16T19:41:05.894399Z",
     "shell.execute_reply": "2021-04-16T19:41:05.894029Z"
    },
    "id": "SHh3BxBr537e",
    "outputId": "90bbd79b-ed62-4a23-81fe-b1eddbf94c1f",
    "tags": []
   },
   "outputs": [
    {
     "data": {
      "image/png": "[encoded data removed]",
      "text/plain": [
       "<Figure size 480x360 with 1 Axes>"
      ]
     },
     "metadata": {},
     "output_type": "display_data"
    }
   ],
   "source": [
    "posterior.make_cdf().plot(label='posterior grid',\n",
    "                          color='C5')\n",
    "plot_cdf(sample_post_pymc,\n",
    "         label='PyMC sample',\n",
    "         color='C4')\n",
    "\n",
    "decorate(xlabel=r'Goals per game ($\\lambda$)',\n",
    "         ylabel='CDF',\n",
    "         title='Posterior distribution')"
   ]
  },
  {
   "cell_type": "markdown",
   "metadata": {
    "id": "CTyGLkNS537e"
   },
   "source": [
    "The results from PyMC are consistent with the results from the grid approximation."
   ]
  },
  {
   "cell_type": "markdown",
   "metadata": {
    "id": "j8CH_ZVG537e"
   },
   "source": [
    "## Posterior Predictive Distribution\n",
    "\n",
    "Finally, to sample from the posterior predictive distribution, we can use `sample_posterior_predictive`:"
   ]
  },
  {
   "cell_type": "code",
   "execution_count": 29,
   "metadata": {
    "colab": {
     "base_uri": "https://localhost:8080/",
     "height": 37
    },
    "execution": {
     "iopub.execute_input": "2021-04-16T19:41:05.898318Z",
     "iopub.status.busy": "2021-04-16T19:41:05.897656Z",
     "iopub.status.idle": "2021-04-16T19:41:06.230240Z",
     "shell.execute_reply": "2021-04-16T19:41:06.229840Z"
    },
    "id": "FpSj7K2G537e",
    "outputId": "0cb47073-a681-455a-f772-a99158b8f102",
    "tags": []
   },
   "outputs": [
    {
     "name": "stderr",
     "output_type": "stream",
     "text": [
      "Sampling: [goals]\n"
     ]
    },
    {
     "data": {
      "application/vnd.jupyter.widget-view+json": {
       "model_id": "42334df362c442e1a923c5755e216d43",
       "version_major": 2,
       "version_minor": 0
      },
      "text/plain": [
       "Output()"
      ]
     },
     "metadata": {},
     "output_type": "display_data"
    },
    {
     "data": {
      "text/html": [
       "<pre style=\"white-space:pre;overflow-x:auto;line-height:normal;font-family:Menlo,'DejaVu Sans Mono',consolas,'Courier New',monospace\"></pre>\n"
      ],
      "text/plain": []
     },
     "metadata": {},
     "output_type": "display_data"
    }
   ],
   "source": [
    "with model2:\n",
    "    idata2_pred = pm.sample_posterior_predictive(idata2)"
   ]
  },
  {
   "cell_type": "markdown",
   "metadata": {
    "id": "n2jFN9PM537f"
   },
   "source": [
    "The result is an `InferenceData` object that contains a sample of `goals`."
   ]
  },
  {
   "cell_type": "code",
   "execution_count": 30,
   "metadata": {
    "execution": {
     "iopub.execute_input": "2021-04-16T19:41:06.233351Z",
     "iopub.status.busy": "2021-04-16T19:41:06.232879Z",
     "iopub.status.idle": "2021-04-16T19:41:06.235150Z",
     "shell.execute_reply": "2021-04-16T19:41:06.234700Z"
    },
    "id": "b4Ex1vyR537f"
   },
   "outputs": [],
   "source": [
    "sample_post_pred_pymc = get_values(idata2_pred.posterior_predictive['goals'])"
   ]
  },
  {
   "cell_type": "code",
   "execution_count": 31,
   "metadata": {
    "colab": {
     "base_uri": "https://localhost:8080/"
    },
    "execution": {
     "iopub.execute_input": "2021-04-16T19:41:06.239228Z",
     "iopub.status.busy": "2021-04-16T19:41:06.238417Z",
     "iopub.status.idle": "2021-04-16T19:41:06.241964Z",
     "shell.execute_reply": "2021-04-16T19:41:06.241391Z"
    },
    "id": "hpm_XFCZ537f",
    "outputId": "df45f7ff-728b-4d69-9851-1550cc1f6c5b",
    "tags": []
   },
   "outputs": [
    {
     "data": {
      "text/plain": [
       "(2000,)"
      ]
     },
     "execution_count": 31,
     "metadata": {},
     "output_type": "execute_result"
    }
   ],
   "source": [
    "sample_post_pred_pymc.shape"
   ]
  },
  {
   "cell_type": "markdown",
   "metadata": {
    "id": "xlemTQV9537f"
   },
   "source": [
    "I'll also generate a sample from the posterior distribution we computed by grid approximation."
   ]
  },
  {
   "cell_type": "code",
   "execution_count": 32,
   "metadata": {
    "execution": {
     "iopub.execute_input": "2021-04-16T19:41:06.248078Z",
     "iopub.status.busy": "2021-04-16T19:41:06.247489Z",
     "iopub.status.idle": "2021-04-16T19:41:06.250383Z",
     "shell.execute_reply": "2021-04-16T19:41:06.249716Z"
    },
    "id": "56sU4ZTW537g"
   },
   "outputs": [],
   "source": [
    "sample_post = posterior.sample(1000)\n",
    "sample_post_pred = poisson(sample_post).rvs()"
   ]
  },
  {
   "cell_type": "markdown",
   "metadata": {
    "id": "dTGIXtzL537g"
   },
   "source": [
    "And we can compare the two samples."
   ]
  },
  {
   "cell_type": "code",
   "execution_count": 33,
   "metadata": {
    "colab": {
     "base_uri": "https://localhost:8080/",
     "height": 487
    },
    "execution": {
     "iopub.execute_input": "2021-04-16T19:41:06.297071Z",
     "iopub.status.busy": "2021-04-16T19:41:06.291526Z",
     "iopub.status.idle": "2021-04-16T19:41:06.436262Z",
     "shell.execute_reply": "2021-04-16T19:41:06.435875Z"
    },
    "id": "d3zOeQVZ537g",
    "outputId": "c75cb351-f3b5-41b0-ab6f-76e26b73cd5c",
    "tags": []
   },
   "outputs": [
    {
     "data": {
      "image/png": "[encoded data removed]",
      "text/plain": [
       "<Figure size 480x360 with 1 Axes>"
      ]
     },
     "metadata": {},
     "output_type": "display_data"
    }
   ],
   "source": [
    "plot_pred(sample_post_pred,\n",
    "          label='grid sample',\n",
    "          color='C5')\n",
    "plot_pred(sample_post_pred_pymc,\n",
    "          label='PyMC sample',\n",
    "          color='C12')\n",
    "\n",
    "decorate(xlabel='Number of goals',\n",
    "         ylabel='PMF',\n",
    "         title='Posterior Predictive Distribution')"
   ]
  },
  {
   "cell_type": "markdown",
   "metadata": {
    "id": "gE6U5wb4537g"
   },
   "source": [
    "Again, the results are consistent.\n",
    "So we've established that we can compute the same results using a grid approximation or PyMC.\n",
    "\n",
    "But it might not be clear why.\n",
    "In this example, the grid algorithm requires less computation than MCMC, and the result is a pretty good approximation of the posterior distribution, rather than a sample.\n",
    "\n",
    "However, this is a simple model with just one parameter.\n",
    "In fact, we could have solved it with even less computation, using a conjugate prior.\n",
    "The power of PyMC will be clearer with a more complex model."
   ]
  },
  {
   "cell_type": "markdown",
   "metadata": {
    "id": "NAHZTs4d537g"
   },
   "source": [
    "## Happiness\n",
    "\n",
    "Recently I read [\"Happiness and Life Satisfaction\"](https://ourworldindata.org/happiness-and-life-satisfaction)\n",
    "by Esteban Ortiz-Ospina and Max Roser, which discusses (among many other things) the relationship between income and happiness, both between countries, within countries, and over time.\n",
    "\n",
    "It cites the [\"World Happiness Report\"](https://worldhappiness.report/), which includes [results of a multiple regression analysis](https://worldhappiness.report/ed/2020/social-environments-for-world-happiness/) that explores the relationship between happiness and six potentially predictive factors:\n",
    "\n",
    "* Income as represented by per capita GDP\n",
    "\n",
    "* Social support\n",
    "\n",
    "* Healthy life expectancy at birth\n",
    "\n",
    "* Freedom to make life choices\n",
    "\n",
    "* Generosity\n",
    "\n",
    "* Perceptions of corruption\n"
   ]
  },
  {
   "cell_type": "markdown",
   "metadata": {
    "id": "bEWrDtjz537g"
   },
   "source": [
    "The dependent variable is the national average of responses to the \"Cantril ladder question\" used by the [Gallup World Poll](https://news.gallup.com/poll/122453/understanding-gallup-uses-cantril-scale.aspx):\n",
    "\n",
    "> Please imagine a ladder with steps numbered from zero at the bottom to 10 at the top. The top of the ladder represents the best possible life for you and the bottom of the ladder represents the worst possible life for you. On which step of the ladder would you say you personally feel you stand at this time?\n",
    "\n",
    "I'll refer to the responses as \"happiness\", but it might be more precise to think of them as a measure of satisfaction with quality of life.\n",
    "\n",
    "In the next few sections we'll replicate the analysis in this report using Bayesian regression."
   ]
  },
  {
   "cell_type": "markdown",
   "metadata": {
    "id": "PA13rW79537g",
    "tags": []
   },
   "source": [
    "The data from this report can be [downloaded from here](https://happiness-report.s3.amazonaws.com/2020/WHR20_DataForFigure2.1.xls)."
   ]
  },
  {
   "cell_type": "code",
   "execution_count": 34,
   "metadata": {
    "colab": {
     "base_uri": "https://localhost:8080/"
    },
    "execution": {
     "iopub.execute_input": "2021-04-16T19:41:06.440323Z",
     "iopub.status.busy": "2021-04-16T19:41:06.439795Z",
     "iopub.status.idle": "2021-04-16T19:41:06.441446Z",
     "shell.execute_reply": "2021-04-16T19:41:06.441799Z"
    },
    "id": "5hu64X5G537g",
    "outputId": "1635984e-3140-4914-fe58-dee2d8ea5289",
    "tags": []
   },
   "outputs": [],
   "source": [
    "# Get the data file\n",
    "\n",
    "download('https://happiness-report.s3.amazonaws.com/2020/WHR20_DataForFigure2.1.xls')"
   ]
  },
  {
   "cell_type": "markdown",
   "metadata": {
    "id": "xn4IpGc0537h"
   },
   "source": [
    "We can use Pandas to read the data into a `DataFrame`."
   ]
  },
  {
   "cell_type": "code",
   "execution_count": 35,
   "metadata": {
    "execution": {
     "iopub.execute_input": "2021-04-16T19:41:06.445302Z",
     "iopub.status.busy": "2021-04-16T19:41:06.444699Z",
     "iopub.status.idle": "2021-04-16T19:41:06.467314Z",
     "shell.execute_reply": "2021-04-16T19:41:06.466802Z"
    },
    "id": "nGDHbLZe537h"
   },
   "outputs": [],
   "source": [
    "import pandas as pd\n",
    "\n",
    "filename = 'WHR20_DataForFigure2.1.xls'\n",
    "df = pd.read_excel(filename)"
   ]
  },
  {
   "cell_type": "code",
   "execution_count": 36,
   "metadata": {
    "colab": {
     "base_uri": "https://localhost:8080/",
     "height": 302
    },
    "execution": {
     "iopub.execute_input": "2021-04-16T19:41:06.470988Z",
     "iopub.status.busy": "2021-04-16T19:41:06.470564Z",
     "iopub.status.idle": "2021-04-16T19:41:06.487892Z",
     "shell.execute_reply": "2021-04-16T19:41:06.488317Z"
    },
    "id": "s058_95g537h",
    "outputId": "a73ab45b-2ed3-4ead-a5c7-17aae2cefa11",
    "tags": []
   },
   "outputs": [
    {
     "data": {
      "text/html": [
       "<div>\n",
       "<style scoped>\n",
       "    .dataframe tbody tr th:only-of-type {\n",
       "        vertical-align: middle;\n",
       "    }\n",
       "\n",
       "    .dataframe tbody tr th {\n",
       "        vertical-align: top;\n",
       "    }\n",
       "\n",
       "    .dataframe thead th {\n",
       "        text-align: right;\n",
       "    }\n",
       "</style>\n",
       "<table border=\"1\" class=\"dataframe\">\n",
       "  <thead>\n",
       "    <tr style=\"text-align: right;\">\n",
       "      <th></th>\n",
       "      <th>Country name</th>\n",
       "      <th>Regional indicator</th>\n",
       "      <th>Ladder score</th>\n",
       "      <th>Standard error of ladder score</th>\n",
       "      <th>upperwhisker</th>\n",
       "      <th>lowerwhisker</th>\n",
       "      <th>Logged GDP per capita</th>\n",
       "      <th>Social support</th>\n",
       "      <th>Healthy life expectancy</th>\n",
       "      <th>Freedom to make life choices</th>\n",
       "      <th>Generosity</th>\n",
       "      <th>Perceptions of corruption</th>\n",
       "      <th>Ladder score in Dystopia</th>\n",
       "      <th>Explained by: Log GDP per capita</th>\n",
       "      <th>Explained by: Social support</th>\n",
       "      <th>Explained by: Healthy life expectancy</th>\n",
       "      <th>Explained by: Freedom to make life choices</th>\n",
       "      <th>Explained by: Generosity</th>\n",
       "      <th>Explained by: Perceptions of corruption</th>\n",
       "      <th>Dystopia + residual</th>\n",
       "    </tr>\n",
       "  </thead>\n",
       "  <tbody>\n",
       "    <tr>\n",
       "      <th>0</th>\n",
       "      <td>Finland</td>\n",
       "      <td>Western Europe</td>\n",
       "      <td>7.8087</td>\n",
       "      <td>0.031156</td>\n",
       "      <td>7.869766</td>\n",
       "      <td>7.747634</td>\n",
       "      <td>10.639267</td>\n",
       "      <td>0.954330</td>\n",
       "      <td>71.900826</td>\n",
       "      <td>0.949172</td>\n",
       "      <td>-0.059482</td>\n",
       "      <td>0.195445</td>\n",
       "      <td>1.972317</td>\n",
       "      <td>1.285190</td>\n",
       "      <td>1.499526</td>\n",
       "      <td>0.961271</td>\n",
       "      <td>0.662317</td>\n",
       "      <td>0.159670</td>\n",
       "      <td>0.477857</td>\n",
       "      <td>2.762835</td>\n",
       "    </tr>\n",
       "    <tr>\n",
       "      <th>1</th>\n",
       "      <td>Denmark</td>\n",
       "      <td>Western Europe</td>\n",
       "      <td>7.6456</td>\n",
       "      <td>0.033492</td>\n",
       "      <td>7.711245</td>\n",
       "      <td>7.579955</td>\n",
       "      <td>10.774001</td>\n",
       "      <td>0.955991</td>\n",
       "      <td>72.402504</td>\n",
       "      <td>0.951444</td>\n",
       "      <td>0.066202</td>\n",
       "      <td>0.168489</td>\n",
       "      <td>1.972317</td>\n",
       "      <td>1.326949</td>\n",
       "      <td>1.503449</td>\n",
       "      <td>0.979333</td>\n",
       "      <td>0.665040</td>\n",
       "      <td>0.242793</td>\n",
       "      <td>0.495260</td>\n",
       "      <td>2.432741</td>\n",
       "    </tr>\n",
       "    <tr>\n",
       "      <th>2</th>\n",
       "      <td>Switzerland</td>\n",
       "      <td>Western Europe</td>\n",
       "      <td>7.5599</td>\n",
       "      <td>0.035014</td>\n",
       "      <td>7.628528</td>\n",
       "      <td>7.491272</td>\n",
       "      <td>10.979933</td>\n",
       "      <td>0.942847</td>\n",
       "      <td>74.102448</td>\n",
       "      <td>0.921337</td>\n",
       "      <td>0.105911</td>\n",
       "      <td>0.303728</td>\n",
       "      <td>1.972317</td>\n",
       "      <td>1.390774</td>\n",
       "      <td>1.472403</td>\n",
       "      <td>1.040533</td>\n",
       "      <td>0.628954</td>\n",
       "      <td>0.269056</td>\n",
       "      <td>0.407946</td>\n",
       "      <td>2.350267</td>\n",
       "    </tr>\n",
       "  </tbody>\n",
       "</table>\n",
       "</div>"
      ],
      "text/plain": [
       "  Country name Regional indicator  Ladder score  \\\n",
       "0      Finland     Western Europe        7.8087   \n",
       "1      Denmark     Western Europe        7.6456   \n",
       "2  Switzerland     Western Europe        7.5599   \n",
       "\n",
       "   Standard error of ladder score  upperwhisker  lowerwhisker  \\\n",
       "0                        0.031156      7.869766      7.747634   \n",
       "1                        0.033492      7.711245      7.579955   \n",
       "2                        0.035014      7.628528      7.491272   \n",
       "\n",
       "   Logged GDP per capita  Social support  Healthy life expectancy  \\\n",
       "0              10.639267        0.954330                71.900826   \n",
       "1              10.774001        0.955991                72.402504   \n",
       "2              10.979933        0.942847                74.102448   \n",
       "\n",
       "   Freedom to make life choices  Generosity  Perceptions of corruption  \\\n",
       "0                      0.949172   -0.059482                   0.195445   \n",
       "1                      0.951444    0.066202                   0.168489   \n",
       "2                      0.921337    0.105911                   0.303728   \n",
       "\n",
       "   Ladder score in Dystopia  Explained by: Log GDP per capita  \\\n",
       "0                  1.972317                          1.285190   \n",
       "1                  1.972317                          1.326949   \n",
       "2                  1.972317                          1.390774   \n",
       "\n",
       "   Explained by: Social support  Explained by: Healthy life expectancy  \\\n",
       "0                      1.499526                               0.961271   \n",
       "1                      1.503449                               0.979333   \n",
       "2                      1.472403                               1.040533   \n",
       "\n",
       "   Explained by: Freedom to make life choices  Explained by: Generosity  \\\n",
       "0                                    0.662317                  0.159670   \n",
       "1                                    0.665040                  0.242793   \n",
       "2                                    0.628954                  0.269056   \n",
       "\n",
       "   Explained by: Perceptions of corruption  Dystopia + residual  \n",
       "0                                 0.477857             2.762835  \n",
       "1                                 0.495260             2.432741  \n",
       "2                                 0.407946             2.350267  "
      ]
     },
     "execution_count": 36,
     "metadata": {},
     "output_type": "execute_result"
    }
   ],
   "source": [
    "df.head(3)"
   ]
  },
  {
   "cell_type": "code",
   "execution_count": 37,
   "metadata": {
    "colab": {
     "base_uri": "https://localhost:8080/"
    },
    "execution": {
     "iopub.execute_input": "2021-04-16T19:41:06.493716Z",
     "iopub.status.busy": "2021-04-16T19:41:06.493151Z",
     "iopub.status.idle": "2021-04-16T19:41:06.497428Z",
     "shell.execute_reply": "2021-04-16T19:41:06.496945Z"
    },
    "id": "1QihC3Ln537h",
    "outputId": "1b0d73e1-0d70-43ff-d867-aa01780a35fc",
    "tags": []
   },
   "outputs": [
    {
     "data": {
      "text/plain": [
       "(153, 20)"
      ]
     },
     "execution_count": 37,
     "metadata": {},
     "output_type": "execute_result"
    }
   ],
   "source": [
    "df.shape"
   ]
  },
  {
   "cell_type": "markdown",
   "metadata": {
    "id": "tT0jfEdp537i"
   },
   "source": [
    "The `DataFrame` has one row for each of 153 countries and one column for each of 20 variables.\n",
    "\n",
    "The column called `'Ladder score'` contains the measurements of happiness we will try to predict."
   ]
  },
  {
   "cell_type": "code",
   "execution_count": 38,
   "metadata": {
    "execution": {
     "iopub.execute_input": "2021-04-16T19:41:06.502090Z",
     "iopub.status.busy": "2021-04-16T19:41:06.501638Z",
     "iopub.status.idle": "2021-04-16T19:41:06.504464Z",
     "shell.execute_reply": "2021-04-16T19:41:06.503904Z"
    },
    "id": "NF3coipg537i"
   },
   "outputs": [],
   "source": [
    "score = df['Ladder score']"
   ]
  },
  {
   "cell_type": "markdown",
   "metadata": {
    "id": "upCnxhkN537i"
   },
   "source": [
    "## Simple Regression\n",
    "\n",
    "To get started, let's look at the relationship between happiness and income as represented by gross domestic product (GDP) per person.\n",
    "\n",
    "The column named `'Logged GDP per capita'` represents the natural logarithm of GDP for each country, divided by population, corrected for [purchasing power parity](https://en.wikipedia.org/wiki/Purchasing_power_parity) (PPP)."
   ]
  },
  {
   "cell_type": "code",
   "execution_count": 39,
   "metadata": {
    "execution": {
     "iopub.execute_input": "2021-04-16T19:41:06.507842Z",
     "iopub.status.busy": "2021-04-16T19:41:06.507415Z",
     "iopub.status.idle": "2021-04-16T19:41:06.509570Z",
     "shell.execute_reply": "2021-04-16T19:41:06.509076Z"
    },
    "id": "9H8dBS2a537i"
   },
   "outputs": [],
   "source": [
    "log_gdp = df['Logged GDP per capita']"
   ]
  },
  {
   "cell_type": "markdown",
   "metadata": {
    "id": "7nz9BrHa537i"
   },
   "source": [
    "The following figure is a scatter plot of `score` versus `log_gdp`, with one marker for each country."
   ]
  },
  {
   "cell_type": "code",
   "execution_count": 40,
   "metadata": {
    "colab": {
     "base_uri": "https://localhost:8080/",
     "height": 486
    },
    "execution": {
     "iopub.execute_input": "2021-04-16T19:41:06.540094Z",
     "iopub.status.busy": "2021-04-16T19:41:06.539604Z",
     "iopub.status.idle": "2021-04-16T19:41:06.660297Z",
     "shell.execute_reply": "2021-04-16T19:41:06.659541Z"
    },
    "id": "RNsdXkTc537j",
    "outputId": "7058aec2-4bc2-40cc-89d1-028152be33b5",
    "tags": []
   },
   "outputs": [
    {
     "data": {
      "image/png": "[encoded data removed]",
      "text/plain": [
       "<Figure size 480x360 with 1 Axes>"
      ]
     },
     "metadata": {},
     "output_type": "display_data"
    }
   ],
   "source": [
    "import matplotlib.pyplot as plt\n",
    "\n",
    "plt.plot(log_gdp, score, '.')\n",
    "\n",
    "decorate(xlabel='Log GDP per capita at PPP',\n",
    "         ylabel='Happiness ladder score')"
   ]
  },
  {
   "cell_type": "markdown",
   "metadata": {
    "id": "j8h191R9537j"
   },
   "source": [
    "It's clear that there is a relationship between these variables: people in countries with higher GDP generally report higher levels of happiness.\n",
    "\n",
    "We can use `linregress` from SciPy to compute a simple regression of these variables."
   ]
  },
  {
   "cell_type": "code",
   "execution_count": 41,
   "metadata": {
    "execution": {
     "iopub.execute_input": "2021-04-16T19:41:06.665805Z",
     "iopub.status.busy": "2021-04-16T19:41:06.665013Z",
     "iopub.status.idle": "2021-04-16T19:41:06.667050Z",
     "shell.execute_reply": "2021-04-16T19:41:06.667407Z"
    },
    "id": "5C4OdONY537j"
   },
   "outputs": [],
   "source": [
    "from scipy.stats import linregress\n",
    "\n",
    "result = linregress(log_gdp, score)"
   ]
  },
  {
   "cell_type": "markdown",
   "metadata": {
    "id": "gfd22xMr537j"
   },
   "source": [
    "And here are the results."
   ]
  },
  {
   "cell_type": "code",
   "execution_count": 42,
   "metadata": {
    "colab": {
     "base_uri": "https://localhost:8080/",
     "height": 94
    },
    "execution": {
     "iopub.execute_input": "2021-04-16T19:41:06.674538Z",
     "iopub.status.busy": "2021-04-16T19:41:06.673896Z",
     "iopub.status.idle": "2021-04-16T19:41:06.676890Z",
     "shell.execute_reply": "2021-04-16T19:41:06.676435Z"
    },
    "id": "79RQouEi537k",
    "outputId": "844ebd18-4dce-41d0-ab0a-6c5a7e011b97",
    "tags": []
   },
   "outputs": [
    {
     "data": {
      "text/html": [
       "<div>\n",
       "<style scoped>\n",
       "    .dataframe tbody tr th:only-of-type {\n",
       "        vertical-align: middle;\n",
       "    }\n",
       "\n",
       "    .dataframe tbody tr th {\n",
       "        vertical-align: top;\n",
       "    }\n",
       "\n",
       "    .dataframe thead th {\n",
       "        text-align: right;\n",
       "    }\n",
       "</style>\n",
       "<table border=\"1\" class=\"dataframe\">\n",
       "  <thead>\n",
       "    <tr style=\"text-align: right;\">\n",
       "      <th></th>\n",
       "      <th></th>\n",
       "    </tr>\n",
       "  </thead>\n",
       "  <tbody>\n",
       "    <tr>\n",
       "      <th>Slope</th>\n",
       "      <td>0.717738</td>\n",
       "    </tr>\n",
       "    <tr>\n",
       "      <th>Intercept</th>\n",
       "      <td>-1.198646</td>\n",
       "    </tr>\n",
       "  </tbody>\n",
       "</table>\n",
       "</div>"
      ],
      "text/plain": [
       "                   \n",
       "Slope      0.717738\n",
       "Intercept -1.198646"
      ]
     },
     "execution_count": 42,
     "metadata": {},
     "output_type": "execute_result"
    }
   ],
   "source": [
    "pd.DataFrame([result.slope, result.intercept],\n",
    "             index=['Slope', 'Intercept'],\n",
    "             columns=[''])"
   ]
  },
  {
   "cell_type": "markdown",
   "metadata": {
    "id": "btW5mtdt537k"
   },
   "source": [
    "The estimated slope is about 0.72, which suggests that an increase of one unit in log-GDP, which is a factor of $e \\approx 2.7$ in GDP, is associated with an increase of 0.72 units on the happiness ladder.\n",
    "\n",
    "Now let's estimate the same parameters using PyMC.\n",
    "We'll use the same regression model as in Section <<_RegressionModel>>:\n",
    "\n",
    "$$y = a x + b + \\epsilon$$\n",
    "\n",
    "where $y$ is the dependent variable (ladder score), $x$ is the predictive variable (log GDP) and $\\epsilon$ is a series of values from a normal distribution with standard deviation $\\sigma$.\n",
    "\n",
    "$a$ and $b$ are the slope and intercept of the regression line.\n",
    "They are unknown parameters, so we will use the data to estimate them.\n",
    "\n",
    "The following is the PyMC specification of this model."
   ]
  },
  {
   "cell_type": "code",
   "execution_count": 43,
   "metadata": {
    "execution": {
     "iopub.execute_input": "2021-04-16T19:41:06.684220Z",
     "iopub.status.busy": "2021-04-16T19:41:06.683776Z",
     "iopub.status.idle": "2021-04-16T19:41:07.363472Z",
     "shell.execute_reply": "2021-04-16T19:41:07.363009Z"
    },
    "id": "tghD301t537k"
   },
   "outputs": [],
   "source": [
    "x_data = log_gdp\n",
    "y_data = score\n",
    "\n",
    "with pm.Model() as model3:\n",
    "    a = pm.Uniform('a', 0, 4)\n",
    "    b = pm.Uniform('b', -4, 4)\n",
    "    sigma = pm.Uniform('sigma', 0, 2)\n",
    "\n",
    "    y_est = a * x_data + b\n",
    "    y = pm.Normal('y',\n",
    "                  mu=y_est, sigma=sigma,\n",
    "                  observed=y_data)"
   ]
  },
  {
   "cell_type": "markdown",
   "metadata": {
    "id": "Vdv6pg3e537l"
   },
   "source": [
    "The prior distributions for the parameters `a`, `b`, and `sigma` are uniform with ranges that are wide enough to cover the posterior distributions.\n",
    "\n",
    "`y_est` is the estimated value of the dependent variable, based on the regression equation.\n",
    "And `y` is a normal distribution with mean `y_est` and standard deviation `sigma`."
   ]
  },
  {
   "cell_type": "markdown",
   "metadata": {
    "id": "3xNQ-ue-537l"
   },
   "source": [
    "Notice how the data are included in the model:\n",
    "\n",
    "* The values of the predictive variable, `x_data`, are used to compute `y_est`.\n",
    "\n",
    "* The values of the dependent variable, `y_data`, are provided as the observed values of `y`.\n",
    "\n",
    "Now we can use this model to generate a sample from the posterior distribution."
   ]
  },
  {
   "cell_type": "code",
   "execution_count": 44,
   "metadata": {
    "colab": {
     "base_uri": "https://localhost:8080/",
     "height": 57
    },
    "execution": {
     "iopub.execute_input": "2021-04-16T19:41:07.367187Z",
     "iopub.status.busy": "2021-04-16T19:41:07.366757Z",
     "iopub.status.idle": "2021-04-16T19:41:15.020714Z",
     "shell.execute_reply": "2021-04-16T19:41:15.020271Z"
    },
    "id": "400xtRjH537l",
    "outputId": "362ff411-2821-4645-e267-9d7da0075fdf",
    "tags": []
   },
   "outputs": [
    {
     "name": "stderr",
     "output_type": "stream",
     "text": [
      "Initializing NUTS using jitter+adapt_diag...\n",
      "Multiprocess sampling (4 chains in 4 jobs)\n",
      "NUTS: [a, b, sigma]\n"
     ]
    },
    {
     "data": {
      "application/vnd.jupyter.widget-view+json": {
       "model_id": "7f4aeebd048741ae9453ec05ccfb8347",
       "version_major": 2,
       "version_minor": 0
      },
      "text/plain": [
       "Output()"
      ]
     },
     "metadata": {},
     "output_type": "display_data"
    },
    {
     "data": {
      "text/html": [
       "<pre style=\"white-space:pre;overflow-x:auto;line-height:normal;font-family:Menlo,'DejaVu Sans Mono',consolas,'Courier New',monospace\"></pre>\n"
      ],
      "text/plain": []
     },
     "metadata": {},
     "output_type": "display_data"
    },
    {
     "name": "stderr",
     "output_type": "stream",
     "text": [
      "Sampling 4 chains for 1_000 tune and 500 draw iterations (4_000 + 2_000 draws total) took 4 seconds.\n"
     ]
    }
   ],
   "source": [
    "with model3:\n",
    "    idata3 = pm.sample(500, **options)"
   ]
  },
  {
   "cell_type": "markdown",
   "metadata": {
    "id": "mE1dE4E8537l"
   },
   "source": [
    "When you run the sampler, you might get warning messages about \"divergences\" and the \"acceptance probability\".\n",
    "You can ignore them for now.\n",
    "\n",
    "The result is an object that contains samples from the joint posterior distribution of `a`, `b`, and `sigma`.\n",
    "\n",
    "ArviZ provides `plot_posterior`, which we can use to plot the posterior distributions of the parameters.\n",
    "Here are the posterior distributions of slope, `a`, and intercept, `b`."
   ]
  },
  {
   "cell_type": "code",
   "execution_count": 45,
   "metadata": {
    "colab": {
     "base_uri": "https://localhost:8080/",
     "height": 569
    },
    "execution": {
     "iopub.execute_input": "2021-04-16T19:41:15.030443Z",
     "iopub.status.busy": "2021-04-16T19:41:15.029834Z",
     "iopub.status.idle": "2021-04-16T19:41:15.579861Z",
     "shell.execute_reply": "2021-04-16T19:41:15.579358Z"
    },
    "id": "1rfyISwY537m",
    "outputId": "8f43a364-c981-45ab-a169-1cc9e5bf66d7"
   },
   "outputs": [
    {
     "data": {
      "image/png": "[encoded data removed]",
      "text/plain": [
       "<Figure size 1104x414 with 2 Axes>"
      ]
     },
     "metadata": {},
     "output_type": "display_data"
    }
   ],
   "source": [
    "import arviz as az\n",
    "\n",
    "with model3:\n",
    "    az.plot_posterior(idata3, var_names=['a', 'b']);"
   ]
  },
  {
   "cell_type": "markdown",
   "metadata": {
    "id": "pqMZyPKF537m"
   },
   "source": [
    "The graphs show the distributions of the samples, estimated by KDE, and 94% credible intervals.  In the figure, \"HDI\" stands for [\"highest-density interval\"](https://www.sciencedirect.com/topics/mathematics/highest-density-interval).\n",
    "\n",
    "The means of these samples are consistent with the parameters we estimated with `linregress`."
   ]
  },
  {
   "cell_type": "code",
   "execution_count": 46,
   "metadata": {
    "colab": {
     "base_uri": "https://localhost:8080/"
    },
    "execution": {
     "iopub.execute_input": "2021-04-16T19:41:15.583372Z",
     "iopub.status.busy": "2021-04-16T19:41:15.582956Z",
     "iopub.status.idle": "2021-04-16T19:41:15.587444Z",
     "shell.execute_reply": "2021-04-16T19:41:15.587099Z"
    },
    "id": "nirrUmKn537n",
    "outputId": "0c869ab7-a336-4e04-d0b6-82004da11591",
    "tags": []
   },
   "outputs": [
    {
     "name": "stdout",
     "output_type": "stream",
     "text": [
      "Sample mean: [0.71690396]\n",
      "Regression slope: 0.717738495630452\n"
     ]
    }
   ],
   "source": [
    "print('Sample mean:', get_values(idata3.posterior['a'].mean()))\n",
    "print('Regression slope:', result.slope)"
   ]
  },
  {
   "cell_type": "code",
   "execution_count": 47,
   "metadata": {
    "colab": {
     "base_uri": "https://localhost:8080/"
    },
    "execution": {
     "iopub.execute_input": "2021-04-16T19:41:15.590879Z",
     "iopub.status.busy": "2021-04-16T19:41:15.590413Z",
     "iopub.status.idle": "2021-04-16T19:41:15.594593Z",
     "shell.execute_reply": "2021-04-16T19:41:15.594966Z"
    },
    "id": "lXO3N_Ld537n",
    "outputId": "fc84d3e6-3d64-43ec-8235-c77d3719c36e",
    "tags": []
   },
   "outputs": [
    {
     "name": "stdout",
     "output_type": "stream",
     "text": [
      "Sample mean: [-1.19223158]\n",
      "Regression intercept: -1.1986460618088843\n"
     ]
    }
   ],
   "source": [
    "print('Sample mean:', get_values(idata3.posterior['b'].mean()))\n",
    "print('Regression intercept:', result.intercept)"
   ]
  },
  {
   "cell_type": "markdown",
   "metadata": {
    "id": "P6o76ZO1537n",
    "tags": []
   },
   "source": [
    "Finally, we can check the marginal posterior distribution of `sigma`"
   ]
  },
  {
   "cell_type": "code",
   "execution_count": 48,
   "metadata": {
    "colab": {
     "base_uri": "https://localhost:8080/",
     "height": 458
    },
    "execution": {
     "iopub.execute_input": "2021-04-16T19:41:15.613846Z",
     "iopub.status.busy": "2021-04-16T19:41:15.609720Z",
     "iopub.status.idle": "2021-04-16T19:41:15.763792Z",
     "shell.execute_reply": "2021-04-16T19:41:15.764315Z"
    },
    "id": "7oUfm1XN537o",
    "outputId": "c1c521a7-fb85-4954-f818-19fbb2099744",
    "tags": []
   },
   "outputs": [
    {
     "data": {
      "image/png": "[encoded data removed]",
      "text/plain": [
       "<Figure size 480x360 with 1 Axes>"
      ]
     },
     "metadata": {},
     "output_type": "display_data"
    }
   ],
   "source": [
    "az.plot_posterior(get_values(idata3.posterior['sigma']));"
   ]
  },
  {
   "cell_type": "markdown",
   "metadata": {
    "id": "2cJS1cdg537o",
    "tags": []
   },
   "source": [
    "The values in the posterior distribution of `sigma` seem plausible."
   ]
  },
  {
   "cell_type": "markdown",
   "metadata": {
    "id": "H8_Aj7BU537p"
   },
   "source": [
    "The simple regression model has only three parameters, so we could have used a grid algorithm.\n",
    "But the regression model in the happiness report has six predictive variables, so it has eight parameters in total, including the intercept and `sigma`.\n",
    "\n",
    "It is not practical to compute a grid approximation for a model with eight parameters.\n",
    "Even a coarse grid, with 20 points along each dimension, would have more than 25 billion points.\n",
    "And with 153 countries, we would have to compute almost 4 trillion likelihoods.\n",
    "\n",
    "But PyMC can handle a model with eight parameters comfortably, as we'll see in the next section."
   ]
  },
  {
   "cell_type": "code",
   "execution_count": 49,
   "metadata": {
    "colab": {
     "base_uri": "https://localhost:8080/"
    },
    "execution": {
     "iopub.execute_input": "2021-04-16T19:41:15.768514Z",
     "iopub.status.busy": "2021-04-16T19:41:15.767885Z",
     "iopub.status.idle": "2021-04-16T19:41:15.773083Z",
     "shell.execute_reply": "2021-04-16T19:41:15.773624Z"
    },
    "id": "_lymlFnk537p",
    "outputId": "cb65ae15-f67c-4939-8ebd-405f4b61ec12",
    "tags": []
   },
   "outputs": [
    {
     "data": {
      "text/plain": [
       "25.6"
      ]
     },
     "execution_count": 49,
     "metadata": {},
     "output_type": "execute_result"
    }
   ],
   "source": [
    "20 ** 8 / 1e9"
   ]
  },
  {
   "cell_type": "code",
   "execution_count": 50,
   "metadata": {
    "colab": {
     "base_uri": "https://localhost:8080/"
    },
    "execution": {
     "iopub.execute_input": "2021-04-16T19:41:15.777533Z",
     "iopub.status.busy": "2021-04-16T19:41:15.776895Z",
     "iopub.status.idle": "2021-04-16T19:41:15.780315Z",
     "shell.execute_reply": "2021-04-16T19:41:15.780960Z"
    },
    "id": "dB7zHMWs537p",
    "outputId": "0fdf9849-91e2-42bc-8be0-46417c4077c8",
    "tags": []
   },
   "outputs": [
    {
     "data": {
      "text/plain": [
       "3.9168"
      ]
     },
     "execution_count": 50,
     "metadata": {},
     "output_type": "execute_result"
    }
   ],
   "source": [
    "153 * 20 ** 8 / 1e12"
   ]
  },
  {
   "cell_type": "markdown",
   "metadata": {
    "id": "jDTE2gz1537p"
   },
   "source": [
    "## Multiple Regression\n",
    "\n",
    "Before we implement the multiple regression model, I'll select the columns we need from the `DataFrame`."
   ]
  },
  {
   "cell_type": "code",
   "execution_count": 51,
   "metadata": {
    "execution": {
     "iopub.execute_input": "2021-04-16T19:41:15.786510Z",
     "iopub.status.busy": "2021-04-16T19:41:15.785684Z",
     "iopub.status.idle": "2021-04-16T19:41:15.789253Z",
     "shell.execute_reply": "2021-04-16T19:41:15.789857Z"
    },
    "id": "rfHQX3pp537p"
   },
   "outputs": [],
   "source": [
    "columns = ['Ladder score',\n",
    "           'Logged GDP per capita',\n",
    "           'Social support',\n",
    "           'Healthy life expectancy',\n",
    "           'Freedom to make life choices',\n",
    "           'Generosity',\n",
    "           'Perceptions of corruption']\n",
    "\n",
    "subset = df[columns]"
   ]
  },
  {
   "cell_type": "code",
   "execution_count": 52,
   "metadata": {
    "colab": {
     "base_uri": "https://localhost:8080/",
     "height": 161
    },
    "execution": {
     "iopub.execute_input": "2021-04-16T19:41:15.802047Z",
     "iopub.status.busy": "2021-04-16T19:41:15.801366Z",
     "iopub.status.idle": "2021-04-16T19:41:15.805038Z",
     "shell.execute_reply": "2021-04-16T19:41:15.804531Z"
    },
    "id": "p0HZKVa-537p",
    "outputId": "f42c4ef1-afd2-4fad-9e09-1a9f97069f2f",
    "tags": []
   },
   "outputs": [
    {
     "data": {
      "text/html": [
       "<div>\n",
       "<style scoped>\n",
       "    .dataframe tbody tr th:only-of-type {\n",
       "        vertical-align: middle;\n",
       "    }\n",
       "\n",
       "    .dataframe tbody tr th {\n",
       "        vertical-align: top;\n",
       "    }\n",
       "\n",
       "    .dataframe thead th {\n",
       "        text-align: right;\n",
       "    }\n",
       "</style>\n",
       "<table border=\"1\" class=\"dataframe\">\n",
       "  <thead>\n",
       "    <tr style=\"text-align: right;\">\n",
       "      <th></th>\n",
       "      <th>Ladder score</th>\n",
       "      <th>Logged GDP per capita</th>\n",
       "      <th>Social support</th>\n",
       "      <th>Healthy life expectancy</th>\n",
       "      <th>Freedom to make life choices</th>\n",
       "      <th>Generosity</th>\n",
       "      <th>Perceptions of corruption</th>\n",
       "    </tr>\n",
       "  </thead>\n",
       "  <tbody>\n",
       "    <tr>\n",
       "      <th>0</th>\n",
       "      <td>7.8087</td>\n",
       "      <td>10.639267</td>\n",
       "      <td>0.954330</td>\n",
       "      <td>71.900826</td>\n",
       "      <td>0.949172</td>\n",
       "      <td>-0.059482</td>\n",
       "      <td>0.195445</td>\n",
       "    </tr>\n",
       "    <tr>\n",
       "      <th>1</th>\n",
       "      <td>7.6456</td>\n",
       "      <td>10.774001</td>\n",
       "      <td>0.955991</td>\n",
       "      <td>72.402504</td>\n",
       "      <td>0.951444</td>\n",
       "      <td>0.066202</td>\n",
       "      <td>0.168489</td>\n",
       "    </tr>\n",
       "    <tr>\n",
       "      <th>2</th>\n",
       "      <td>7.5599</td>\n",
       "      <td>10.979933</td>\n",
       "      <td>0.942847</td>\n",
       "      <td>74.102448</td>\n",
       "      <td>0.921337</td>\n",
       "      <td>0.105911</td>\n",
       "      <td>0.303728</td>\n",
       "    </tr>\n",
       "  </tbody>\n",
       "</table>\n",
       "</div>"
      ],
      "text/plain": [
       "   Ladder score  Logged GDP per capita  Social support  \\\n",
       "0        7.8087              10.639267        0.954330   \n",
       "1        7.6456              10.774001        0.955991   \n",
       "2        7.5599              10.979933        0.942847   \n",
       "\n",
       "   Healthy life expectancy  Freedom to make life choices  Generosity  \\\n",
       "0                71.900826                      0.949172   -0.059482   \n",
       "1                72.402504                      0.951444    0.066202   \n",
       "2                74.102448                      0.921337    0.105911   \n",
       "\n",
       "   Perceptions of corruption  \n",
       "0                   0.195445  \n",
       "1                   0.168489  \n",
       "2                   0.303728  "
      ]
     },
     "execution_count": 52,
     "metadata": {},
     "output_type": "execute_result"
    }
   ],
   "source": [
    "subset.head(3)"
   ]
  },
  {
   "cell_type": "markdown",
   "metadata": {
    "id": "yY2wwnAW537p"
   },
   "source": [
    "The predictive variables have different units: log-GDP is in log-dollars, life expectancy is in years, and the other variables are on arbitrary scales.\n",
    "To make these factors comparable, I'll standardize the data so that each variable has mean 0 and standard deviation 1."
   ]
  },
  {
   "cell_type": "code",
   "execution_count": 53,
   "metadata": {
    "execution": {
     "iopub.execute_input": "2021-04-16T19:41:15.811549Z",
     "iopub.status.busy": "2021-04-16T19:41:15.811070Z",
     "iopub.status.idle": "2021-04-16T19:41:15.814510Z",
     "shell.execute_reply": "2021-04-16T19:41:15.814081Z"
    },
    "id": "DC7l_ZKV537q"
   },
   "outputs": [],
   "source": [
    "standardized = (subset - subset.mean()) / subset.std()"
   ]
  },
  {
   "cell_type": "markdown",
   "metadata": {
    "id": "65K1Ci0H537q"
   },
   "source": [
    "Now let's build the model.\n",
    "I'll extract the dependent variable."
   ]
  },
  {
   "cell_type": "code",
   "execution_count": 54,
   "metadata": {
    "execution": {
     "iopub.execute_input": "2021-04-16T19:41:15.817882Z",
     "iopub.status.busy": "2021-04-16T19:41:15.817327Z",
     "iopub.status.idle": "2021-04-16T19:41:15.819820Z",
     "shell.execute_reply": "2021-04-16T19:41:15.819299Z"
    },
    "id": "eMPcDlr2537r"
   },
   "outputs": [],
   "source": [
    "y_data = standardized['Ladder score']"
   ]
  },
  {
   "cell_type": "markdown",
   "metadata": {
    "id": "XBsMswKH537w"
   },
   "source": [
    "And the dependent variables."
   ]
  },
  {
   "cell_type": "code",
   "execution_count": 55,
   "metadata": {
    "execution": {
     "iopub.execute_input": "2021-04-16T19:41:15.823853Z",
     "iopub.status.busy": "2021-04-16T19:41:15.823309Z",
     "iopub.status.idle": "2021-04-16T19:41:15.825155Z",
     "shell.execute_reply": "2021-04-16T19:41:15.825583Z"
    },
    "id": "_RvlQLbH537w"
   },
   "outputs": [],
   "source": [
    "x1 = standardized[columns[1]]\n",
    "x2 = standardized[columns[2]]\n",
    "x3 = standardized[columns[3]]\n",
    "x4 = standardized[columns[4]]\n",
    "x5 = standardized[columns[5]]\n",
    "x6 = standardized[columns[6]]"
   ]
  },
  {
   "cell_type": "markdown",
   "metadata": {
    "id": "QqvxPY3Y537w"
   },
   "source": [
    "And here's the model.  `b0` is the intercept; `b1` through `b6` are the parameters associated with the predictive variables."
   ]
  },
  {
   "cell_type": "code",
   "execution_count": 56,
   "metadata": {
    "execution": {
     "iopub.execute_input": "2021-04-16T19:41:16.041184Z",
     "iopub.status.busy": "2021-04-16T19:41:16.005365Z",
     "iopub.status.idle": "2021-04-16T19:41:16.685422Z",
     "shell.execute_reply": "2021-04-16T19:41:16.684886Z"
    },
    "id": "HnWsoPkh537w"
   },
   "outputs": [],
   "source": [
    "with pm.Model() as model4:\n",
    "    b0 = pm.Uniform('b0', -4, 4)\n",
    "    b1 = pm.Uniform('b1', -4, 4)\n",
    "    b2 = pm.Uniform('b2', -4, 4)\n",
    "    b3 = pm.Uniform('b3', -4, 4)\n",
    "    b4 = pm.Uniform('b4', -4, 4)\n",
    "    b5 = pm.Uniform('b5', -4, 4)\n",
    "    b6 = pm.Uniform('b6', -4, 4)\n",
    "    sigma = pm.Uniform('sigma', 0, 2)\n",
    "\n",
    "    y_est = b0 + b1*x1 + b2*x2 + b3*x3 + b4*x4 + b5*x5 + b6*x6\n",
    "    y = pm.Normal('y',\n",
    "                  mu=y_est, sigma=sigma,\n",
    "                  observed=y_data)"
   ]
  },
  {
   "cell_type": "markdown",
   "metadata": {
    "id": "S-syk4zw537w"
   },
   "source": [
    "We could express this model more concisely using a vector of predictive variables and a vector of parameters, but I decided to keep it simple.\n",
    "\n",
    "Now we can sample from the joint posterior distribution."
   ]
  },
  {
   "cell_type": "code",
   "execution_count": 57,
   "metadata": {
    "colab": {
     "base_uri": "https://localhost:8080/",
     "height": 57
    },
    "execution": {
     "iopub.execute_input": "2021-04-16T19:41:16.688589Z",
     "iopub.status.busy": "2021-04-16T19:41:16.688165Z",
     "iopub.status.idle": "2021-04-16T19:41:27.081040Z",
     "shell.execute_reply": "2021-04-16T19:41:27.080524Z"
    },
    "id": "isu4ACk5537w",
    "outputId": "99c56e9b-6baa-4623-dfcb-651c4a521b4f",
    "tags": []
   },
   "outputs": [
    {
     "name": "stderr",
     "output_type": "stream",
     "text": [
      "Initializing NUTS using jitter+adapt_diag...\n",
      "Multiprocess sampling (4 chains in 4 jobs)\n",
      "NUTS: [b0, b1, b2, b3, b4, b5, b6, sigma]\n"
     ]
    },
    {
     "data": {
      "application/vnd.jupyter.widget-view+json": {
       "model_id": "eef7da85e99d40eca084198df3893f13",
       "version_major": 2,
       "version_minor": 0
      },
      "text/plain": [
       "Output()"
      ]
     },
     "metadata": {},
     "output_type": "display_data"
    },
    {
     "data": {
      "text/html": [
       "<pre style=\"white-space:pre;overflow-x:auto;line-height:normal;font-family:Menlo,'DejaVu Sans Mono',consolas,'Courier New',monospace\"></pre>\n"
      ],
      "text/plain": []
     },
     "metadata": {},
     "output_type": "display_data"
    },
    {
     "name": "stderr",
     "output_type": "stream",
     "text": [
      "Sampling 4 chains for 1_000 tune and 500 draw iterations (4_000 + 2_000 draws total) took 4 seconds.\n"
     ]
    }
   ],
   "source": [
    "with model4:\n",
    "    idata4 = pm.sample(500, **options)"
   ]
  },
  {
   "cell_type": "markdown",
   "metadata": {
    "id": "YTBi-RMa537w",
    "tags": []
   },
   "source": [
    "Because we standardized the data, we expect the intercept to be 0, and in fact the posterior mean of `b0` is close to 0."
   ]
  },
  {
   "cell_type": "code",
   "execution_count": 58,
   "metadata": {
    "colab": {
     "base_uri": "https://localhost:8080/"
    },
    "execution": {
     "iopub.execute_input": "2021-04-16T19:41:27.085454Z",
     "iopub.status.busy": "2021-04-16T19:41:27.084839Z",
     "iopub.status.idle": "2021-04-16T19:41:27.087318Z",
     "shell.execute_reply": "2021-04-16T19:41:27.087694Z"
    },
    "id": "5_busZQ8537x",
    "outputId": "86a1482b-9a8d-4091-fba5-591069bd1c42",
    "tags": []
   },
   "outputs": [
    {
     "data": {
      "text/plain": [
       "np.float64(0.001014408542637)"
      ]
     },
     "execution_count": 58,
     "metadata": {},
     "output_type": "execute_result"
    }
   ],
   "source": [
    "get_values(idata4.posterior['b0']).mean()"
   ]
  },
  {
   "cell_type": "markdown",
   "metadata": {
    "id": "QbDAUvHF537x",
    "tags": []
   },
   "source": [
    "We can also check the posterior mean of `sigma`:"
   ]
  },
  {
   "cell_type": "code",
   "execution_count": 59,
   "metadata": {
    "colab": {
     "base_uri": "https://localhost:8080/"
    },
    "execution": {
     "iopub.execute_input": "2021-04-16T19:41:27.091318Z",
     "iopub.status.busy": "2021-04-16T19:41:27.090756Z",
     "iopub.status.idle": "2021-04-16T19:41:27.093519Z",
     "shell.execute_reply": "2021-04-16T19:41:27.093939Z"
    },
    "id": "pVHIH642537x",
    "outputId": "baab49b7-a379-460d-bc4e-21487c7d7605",
    "tags": []
   },
   "outputs": [
    {
     "data": {
      "text/plain": [
       "np.float64(0.517165987897353)"
      ]
     },
     "execution_count": 59,
     "metadata": {},
     "output_type": "execute_result"
    }
   ],
   "source": [
    "get_values(idata4.posterior['sigma']).mean()"
   ]
  },
  {
   "cell_type": "markdown",
   "metadata": {
    "id": "w5FlgYcw537y"
   },
   "source": [
    "From `idata4` we can extract samples from the posterior distributions of the parameters and compute their means."
   ]
  },
  {
   "cell_type": "code",
   "execution_count": 60,
   "metadata": {
    "execution": {
     "iopub.execute_input": "2021-04-16T19:41:27.098653Z",
     "iopub.status.busy": "2021-04-16T19:41:27.097926Z",
     "iopub.status.idle": "2021-04-16T19:41:27.099882Z",
     "shell.execute_reply": "2021-04-16T19:41:27.100306Z"
    },
    "id": "GHCBzG2s537y"
   },
   "outputs": [],
   "source": [
    "param_names = ['b1', 'b3', 'b3', 'b4', 'b5', 'b6']\n",
    "\n",
    "means = [get_values(idata4.posterior[name]).mean()\n",
    "         for name in param_names]"
   ]
  },
  {
   "cell_type": "markdown",
   "metadata": {
    "id": "I757TTZr537y"
   },
   "source": [
    "We can also compute 94% credible intervals (between the 3rd and 97th percentiles)."
   ]
  },
  {
   "cell_type": "code",
   "execution_count": 61,
   "metadata": {
    "execution": {
     "iopub.execute_input": "2021-04-16T19:41:27.105382Z",
     "iopub.status.busy": "2021-04-16T19:41:27.104682Z",
     "iopub.status.idle": "2021-04-16T19:41:27.107505Z",
     "shell.execute_reply": "2021-04-16T19:41:27.107872Z"
    },
    "id": "s6JIkqB4537y"
   },
   "outputs": [],
   "source": [
    "def credible_interval(sample):\n",
    "    \"\"\"Compute 94% credible interval.\"\"\"\n",
    "    ci = np.percentile(sample, [3, 97])\n",
    "    return np.round(ci, 3)\n",
    "\n",
    "cis = [credible_interval(get_values(idata4.posterior[name]))\n",
    "       for name in param_names]"
   ]
  },
  {
   "cell_type": "markdown",
   "metadata": {
    "id": "Lwns55Gm537y"
   },
   "source": [
    "The following table summarizes the results."
   ]
  },
  {
   "cell_type": "code",
   "execution_count": 62,
   "metadata": {
    "colab": {
     "base_uri": "https://localhost:8080/",
     "height": 237
    },
    "execution": {
     "iopub.execute_input": "2021-04-16T19:41:27.118557Z",
     "iopub.status.busy": "2021-04-16T19:41:27.118072Z",
     "iopub.status.idle": "2021-04-16T19:41:27.120981Z",
     "shell.execute_reply": "2021-04-16T19:41:27.120550Z"
    },
    "id": "aDOrjBOG537y",
    "outputId": "297b4eff-702f-4f05-d00c-b16daba250e8",
    "tags": []
   },
   "outputs": [
    {
     "data": {
      "text/html": [
       "<div>\n",
       "<style scoped>\n",
       "    .dataframe tbody tr th:only-of-type {\n",
       "        vertical-align: middle;\n",
       "    }\n",
       "\n",
       "    .dataframe tbody tr th {\n",
       "        vertical-align: top;\n",
       "    }\n",
       "\n",
       "    .dataframe thead th {\n",
       "        text-align: right;\n",
       "    }\n",
       "</style>\n",
       "<table border=\"1\" class=\"dataframe\">\n",
       "  <thead>\n",
       "    <tr style=\"text-align: right;\">\n",
       "      <th></th>\n",
       "      <th>Posterior mean</th>\n",
       "      <th>94% CI</th>\n",
       "    </tr>\n",
       "  </thead>\n",
       "  <tbody>\n",
       "    <tr>\n",
       "      <th>Logged GDP per capita</th>\n",
       "      <td>0.255</td>\n",
       "      <td>[0.091, 0.429]</td>\n",
       "    </tr>\n",
       "    <tr>\n",
       "      <th>Social support</th>\n",
       "      <td>0.222</td>\n",
       "      <td>[0.066, 0.373]</td>\n",
       "    </tr>\n",
       "    <tr>\n",
       "      <th>Healthy life expectancy</th>\n",
       "      <td>0.222</td>\n",
       "      <td>[0.066, 0.373]</td>\n",
       "    </tr>\n",
       "    <tr>\n",
       "      <th>Freedom to make life choices</th>\n",
       "      <td>0.191</td>\n",
       "      <td>[0.09, 0.294]</td>\n",
       "    </tr>\n",
       "    <tr>\n",
       "      <th>Generosity</th>\n",
       "      <td>0.056</td>\n",
       "      <td>[-0.031, 0.147]</td>\n",
       "    </tr>\n",
       "    <tr>\n",
       "      <th>Perceptions of corruption</th>\n",
       "      <td>-0.098</td>\n",
       "      <td>[-0.194, -0.004]</td>\n",
       "    </tr>\n",
       "  </tbody>\n",
       "</table>\n",
       "</div>"
      ],
      "text/plain": [
       "                              Posterior mean            94% CI\n",
       "Logged GDP per capita                  0.255    [0.091, 0.429]\n",
       "Social support                         0.222    [0.066, 0.373]\n",
       "Healthy life expectancy                0.222    [0.066, 0.373]\n",
       "Freedom to make life choices           0.191     [0.09, 0.294]\n",
       "Generosity                             0.056   [-0.031, 0.147]\n",
       "Perceptions of corruption             -0.098  [-0.194, -0.004]"
      ]
     },
     "execution_count": 62,
     "metadata": {},
     "output_type": "execute_result"
    }
   ],
   "source": [
    "index = columns[1:]\n",
    "table = pd.DataFrame(index=index)\n",
    "table['Posterior mean'] = np.round(means, 3)\n",
    "table['94% CI'] = cis\n",
    "table"
   ]
  },
  {
   "cell_type": "markdown",
   "metadata": {
    "id": "NNHJYVEL537y"
   },
   "source": [
    "It looks like GDP has the strongest association with happiness (or satisfaction), followed by social support, life expectancy, and freedom.\n",
    "\n",
    "After controlling for those other factors, the parameters of the other factors are substantially smaller, and since the CI for generosity includes 0, it is plausible that generosity is not substantially related to happiness, at least as they were measured in this study.\n",
    "\n",
    "This example demonstrates the power of MCMC to handle models with more than a few parameters.\n",
    "But it does not really demonstrate the power of Bayesian regression.\n",
    "\n",
    "If the goal of a regression model is to estimate parameters, there is no great advantage to Bayesian regression compared to conventional least squares regression.\n",
    "\n",
    "Bayesian methods are more useful if we plan to use the posterior distribution of the parameters as part of a decision analysis process."
   ]
  },
  {
   "cell_type": "markdown",
   "metadata": {
    "id": "iIARfHy3537z"
   },
   "source": [
    "## Summary\n",
    "\n",
    "In this chapter we used PyMC to implement two models we've seen before: a Poisson model of goal-scoring in soccer and a simple regression model.\n",
    "Then we implemented a multiple regression model that would not have been possible to compute with a grid approximation.\n",
    "\n",
    "MCMC is more powerful than grid methods, but that power comes with some disadvantages:\n",
    "\n",
    "* MCMC algorithms are fiddly.  The same model might behave well with some priors and less well with others.  And the sampling process often produces warnings about tuning steps, divergences, \"r-hat statistics\", acceptance rates, and effective samples.  It takes some expertise to diagnose and correct these issues.\n",
    "\n",
    "* I find it easier to develop models incrementally using grid algorithms, checking intermediate results along the way.  With PyMC, it is not as easy to be confident that you have specified a model correctly.\n",
    "\n",
    "For these reasons, I recommend a model development process that starts with grid algorithms and resorts to MCMC if necessary.\n",
    "As we saw in the previous chapters, you can solve a lot of real-world problems with grid methods.\n",
    "But when you need MCMC, it is useful to have a grid algorithm to compare to (even if it is based on a simpler model).\n",
    "\n",
    "All of the models in this book can be implemented in PyMC, but some of them are easier to translate than others.\n",
    "In the exercises, you will have a chance to practice."
   ]
  },
  {
   "cell_type": "markdown",
   "metadata": {
    "id": "fKoBM_8Z537z"
   },
   "source": [
    "## Exercises"
   ]
  },
  {
   "cell_type": "markdown",
   "metadata": {
    "id": "l5iw1CKE537z"
   },
   "source": [
    "**Exercise:** As a warmup, let's use PyMC to solve the Euro problem.\n",
    "Suppose we spin a coin 250 times and it comes up heads 140 times.\n",
    "What is the posterior distribution of $x$, the probability of heads?\n",
    "\n",
    "For the prior, use a beta distribution with parameters $\\alpha=1$ and $\\beta=1$.\n",
    "\n",
    "See [the PyMC documentation](https://docs.pymc.io/api/distributions/continuous.html) for the list of continuous distributions."
   ]
  },
  {
   "cell_type": "code",
   "execution_count": 63,
   "metadata": {
    "execution": {
     "iopub.execute_input": "2021-04-16T19:41:27.133262Z",
     "iopub.status.busy": "2021-04-16T19:41:27.132650Z",
     "iopub.status.idle": "2021-04-16T19:41:30.707962Z",
     "shell.execute_reply": "2021-04-16T19:41:30.708574Z"
    },
    "id": "zmQ3gkqA537z"
   },
   "outputs": [
    {
     "name": "stderr",
     "output_type": "stream",
     "text": [
      "Initializing NUTS using jitter+adapt_diag...\n",
      "Multiprocess sampling (4 chains in 4 jobs)\n",
      "NUTS: [x]\n"
     ]
    },
    {
     "data": {
      "application/vnd.jupyter.widget-view+json": {
       "model_id": "bb96b5eed4754944b09e5797b4fdf9a5",
       "version_major": 2,
       "version_minor": 0
      },
      "text/plain": [
       "Output()"
      ]
     },
     "metadata": {},
     "output_type": "display_data"
    },
    {
     "data": {
      "text/html": [
       "<pre style=\"white-space:pre;overflow-x:auto;line-height:normal;font-family:Menlo,'DejaVu Sans Mono',consolas,'Courier New',monospace\"></pre>\n"
      ],
      "text/plain": []
     },
     "metadata": {},
     "output_type": "display_data"
    },
    {
     "name": "stderr",
     "output_type": "stream",
     "text": [
      "Sampling 4 chains for 1_000 tune and 500 draw iterations (4_000 + 2_000 draws total) took 2 seconds.\n"
     ]
    },
    {
     "data": {
      "image/png": "[encoded data removed]",
      "text/plain": [
       "<Figure size 480x360 with 1 Axes>"
      ]
     },
     "metadata": {},
     "output_type": "display_data"
    }
   ],
   "source": [
    "# Solution\n",
    "\n",
    "n = 250\n",
    "k_obs = 140\n",
    "\n",
    "with pm.Model() as model5:\n",
    "    x = pm.Beta('x', alpha=1, beta=1)\n",
    "    k = pm.Binomial('k', n=n, p=x, observed=k_obs)\n",
    "    idata5 = pm.sample(500, **options)\n",
    "    az.plot_posterior(idata5)"
   ]
  },
  {
   "cell_type": "markdown",
   "metadata": {
    "id": "ZZ0HpRRt537z"
   },
   "source": [
    "**Exercise:** Now let's use PyMC to replicate the solution to the Grizzly Bear problem in <<_TheGrizzlyBearProblem>>, which is based on the hypergeometric distribution.\n",
    "\n",
    "I'll present the problem with slightly different notation, to make it consistent with PyMC.\n",
    "\n",
    "Suppose that during the first session, `k=23` bears are tagged.  During the second session, `n=19` bears are identified, of which `x=4` had been tagged.\n",
    "\n",
    "Estimate the posterior distribution of `N`, the number of bears in the environment.\n",
    "\n",
    "For the prior, use a discrete uniform distribution from 50 to 500.\n",
    "\n",
    "See [the PyMC documentation](https://docs.pymc.io/api/distributions/discrete.html) for the list of discrete distributions.\n",
    "\n",
    "Note: `HyperGeometric` was added to PyMC after version 3.8, so you might need to update your installation to do this exercise."
   ]
  },
  {
   "cell_type": "code",
   "execution_count": 64,
   "metadata": {
    "execution": {
     "iopub.execute_input": "2021-04-16T19:41:30.711903Z",
     "iopub.status.busy": "2021-04-16T19:41:30.711230Z",
     "iopub.status.idle": "2021-04-16T19:41:32.224305Z",
     "shell.execute_reply": "2021-04-16T19:41:32.224808Z"
    },
    "id": "9n58fq1R5370"
   },
   "outputs": [
    {
     "name": "stderr",
     "output_type": "stream",
     "text": [
      "Multiprocess sampling (4 chains in 4 jobs)\n",
      "Metropolis: [N]\n"
     ]
    },
    {
     "data": {
      "application/vnd.jupyter.widget-view+json": {
       "model_id": "a137a88e4a34437d991131f075751d10",
       "version_major": 2,
       "version_minor": 0
      },
      "text/plain": [
       "Output()"
      ]
     },
     "metadata": {},
     "output_type": "display_data"
    },
    {
     "data": {
      "text/html": [
       "<pre style=\"white-space:pre;overflow-x:auto;line-height:normal;font-family:Menlo,'DejaVu Sans Mono',consolas,'Courier New',monospace\"></pre>\n"
      ],
      "text/plain": []
     },
     "metadata": {},
     "output_type": "display_data"
    },
    {
     "name": "stderr",
     "output_type": "stream",
     "text": [
      "Sampling 4 chains for 1_000 tune and 1_000 draw iterations (4_000 + 4_000 draws total) took 1 seconds.\n",
      "The rhat statistic is larger than 1.01 for some parameters. This indicates problems during sampling. See https://arxiv.org/abs/1903.08008 for details\n"
     ]
    },
    {
     "data": {
      "image/png": "[encoded data removed]",
      "text/plain": [
       "<Figure size 480x360 with 1 Axes>"
      ]
     },
     "metadata": {},
     "output_type": "display_data"
    }
   ],
   "source": [
    "# Solution\n",
    "\n",
    "k = 23\n",
    "n = 19\n",
    "x = 4\n",
    "\n",
    "with pm.Model() as model6:\n",
    "    N = pm.DiscreteUniform('N', 50, 500)\n",
    "    y = pm.HyperGeometric('y', N=N, k=k, n=n, observed=x)\n",
    "    idata6 = pm.sample(1000, **options)\n",
    "    az.plot_posterior(idata6)"
   ]
  },
  {
   "cell_type": "markdown",
   "metadata": {
    "id": "7TdpQGrY5370"
   },
   "source": [
    "**Exercise:** In <<_TheWeibullDistribution>> we generated a sample from a Weibull distribution with $\\lambda=3$ and $k=0.8$.\n",
    "Then we used the data to compute a grid approximation of the posterior distribution of those parameters.\n",
    "\n",
    "Now let's do the same with PyMC.\n",
    "\n",
    "For the priors, you can use uniform distributions as we did in <<_SurvivalAnalysis>>, or you could use `HalfNormal` distributions provided by PyMC.\n",
    "\n",
    "Note: The `Weibull` class in PyMC uses different parameters than SciPy.  The parameter `alpha` in PyMC corresponds to $k$, and `beta` corresponds to $\\lambda$."
   ]
  },
  {
   "cell_type": "markdown",
   "metadata": {
    "id": "WfuYdqlG5370",
    "tags": []
   },
   "source": [
    "Here's the data again:"
   ]
  },
  {
   "cell_type": "code",
   "execution_count": 65,
   "metadata": {
    "execution": {
     "iopub.execute_input": "2021-04-16T19:41:32.228096Z",
     "iopub.status.busy": "2021-04-16T19:41:32.227685Z",
     "iopub.status.idle": "2021-04-16T19:41:32.230867Z",
     "shell.execute_reply": "2021-04-16T19:41:32.230365Z"
    },
    "id": "HSX2b70U5370",
    "tags": []
   },
   "outputs": [],
   "source": [
    "data = [0.80497283, 2.11577082, 0.43308797, 0.10862644, 5.17334866,\n",
    "       3.25745053, 3.05555883, 2.47401062, 0.05340806, 1.08386395]"
   ]
  },
  {
   "cell_type": "code",
   "execution_count": 66,
   "metadata": {
    "execution": {
     "iopub.execute_input": "2021-04-16T19:41:32.301762Z",
     "iopub.status.busy": "2021-04-16T19:41:32.266235Z",
     "iopub.status.idle": "2021-04-16T19:41:37.508294Z",
     "shell.execute_reply": "2021-04-16T19:41:37.508668Z"
    },
    "id": "SfbYKgw-5370"
   },
   "outputs": [
    {
     "name": "stderr",
     "output_type": "stream",
     "text": [
      "Initializing NUTS using jitter+adapt_diag...\n",
      "Multiprocess sampling (4 chains in 4 jobs)\n",
      "NUTS: [lam, k]\n"
     ]
    },
    {
     "data": {
      "application/vnd.jupyter.widget-view+json": {
       "model_id": "83b3eab6de46411c9bcc50bdb7dee17c",
       "version_major": 2,
       "version_minor": 0
      },
      "text/plain": [
       "Output()"
      ]
     },
     "metadata": {},
     "output_type": "display_data"
    },
    {
     "data": {
      "text/html": [
       "<pre style=\"white-space:pre;overflow-x:auto;line-height:normal;font-family:Menlo,'DejaVu Sans Mono',consolas,'Courier New',monospace\"></pre>\n"
      ],
      "text/plain": []
     },
     "metadata": {},
     "output_type": "display_data"
    },
    {
     "name": "stderr",
     "output_type": "stream",
     "text": [
      "Sampling 4 chains for 1_000 tune and 1_000 draw iterations (4_000 + 4_000 draws total) took 2 seconds.\n",
      "There was 1 divergence after tuning. Increase `target_accept` or reparameterize.\n"
     ]
    },
    {
     "data": {
      "image/png": "[encoded data removed]",
      "text/plain": [
       "<Figure size 1104x414 with 2 Axes>"
      ]
     },
     "metadata": {},
     "output_type": "display_data"
    }
   ],
   "source": [
    "# Solution\n",
    "\n",
    "with pm.Model() as model7:\n",
    "    lam = pm.Uniform('lam', 0.1, 10.1)\n",
    "    k = pm.Uniform('k', 0.1, 5.1)\n",
    "    y = pm.Weibull('y', alpha=k, beta=lam, observed=data)\n",
    "    idata7 = pm.sample(1000, **options)\n",
    "    az.plot_posterior(idata7)"
   ]
  },
  {
   "cell_type": "markdown",
   "metadata": {
    "id": "HIv4c-V75371"
   },
   "source": [
    "**Exercise:** In <<_ImprovingReadingAbility>> we used data from a reading test to estimate the parameters of a normal distribution.\n",
    "\n",
    "Make a model that defines uniform prior distributions for `mu` and `sigma` and uses the data to estimate their posterior distributions."
   ]
  },
  {
   "cell_type": "markdown",
   "metadata": {
    "id": "P4-SBExc5371",
    "tags": []
   },
   "source": [
    "Here's the data again."
   ]
  },
  {
   "cell_type": "code",
   "execution_count": 67,
   "metadata": {
    "execution": {
     "iopub.execute_input": "2021-04-16T19:41:37.512718Z",
     "iopub.status.busy": "2021-04-16T19:41:37.512209Z",
     "iopub.status.idle": "2021-04-16T19:41:37.514759Z",
     "shell.execute_reply": "2021-04-16T19:41:37.514134Z"
    },
    "id": "uoqe3pjb5371",
    "tags": []
   },
   "outputs": [],
   "source": [
    "download('https://github.com/AllenDowney/ThinkBayes2/raw/master/data/drp_scores.csv')"
   ]
  },
  {
   "cell_type": "code",
   "execution_count": 68,
   "metadata": {
    "execution": {
     "iopub.execute_input": "2021-04-16T19:41:37.518571Z",
     "iopub.status.busy": "2021-04-16T19:41:37.518135Z",
     "iopub.status.idle": "2021-04-16T19:41:37.527057Z",
     "shell.execute_reply": "2021-04-16T19:41:37.526638Z"
    },
    "id": "oO7Vihs35371",
    "tags": []
   },
   "outputs": [
    {
     "data": {
      "text/html": [
       "<div>\n",
       "<style scoped>\n",
       "    .dataframe tbody tr th:only-of-type {\n",
       "        vertical-align: middle;\n",
       "    }\n",
       "\n",
       "    .dataframe tbody tr th {\n",
       "        vertical-align: top;\n",
       "    }\n",
       "\n",
       "    .dataframe thead th {\n",
       "        text-align: right;\n",
       "    }\n",
       "</style>\n",
       "<table border=\"1\" class=\"dataframe\">\n",
       "  <thead>\n",
       "    <tr style=\"text-align: right;\">\n",
       "      <th></th>\n",
       "      <th>Treatment</th>\n",
       "      <th>Response</th>\n",
       "    </tr>\n",
       "  </thead>\n",
       "  <tbody>\n",
       "    <tr>\n",
       "      <th>0</th>\n",
       "      <td>Treated</td>\n",
       "      <td>24</td>\n",
       "    </tr>\n",
       "    <tr>\n",
       "      <th>1</th>\n",
       "      <td>Treated</td>\n",
       "      <td>43</td>\n",
       "    </tr>\n",
       "    <tr>\n",
       "      <th>2</th>\n",
       "      <td>Treated</td>\n",
       "      <td>58</td>\n",
       "    </tr>\n",
       "    <tr>\n",
       "      <th>3</th>\n",
       "      <td>Treated</td>\n",
       "      <td>71</td>\n",
       "    </tr>\n",
       "    <tr>\n",
       "      <th>4</th>\n",
       "      <td>Treated</td>\n",
       "      <td>43</td>\n",
       "    </tr>\n",
       "  </tbody>\n",
       "</table>\n",
       "</div>"
      ],
      "text/plain": [
       "  Treatment  Response\n",
       "0   Treated        24\n",
       "1   Treated        43\n",
       "2   Treated        58\n",
       "3   Treated        71\n",
       "4   Treated        43"
      ]
     },
     "execution_count": 68,
     "metadata": {},
     "output_type": "execute_result"
    }
   ],
   "source": [
    "import pandas as pd\n",
    "\n",
    "df = pd.read_csv('drp_scores.csv', skiprows=21, delimiter='\\t')\n",
    "df.head()"
   ]
  },
  {
   "cell_type": "markdown",
   "metadata": {
    "id": "HtzBjF5P5371",
    "tags": []
   },
   "source": [
    "I'll use `groupby` to separate the treated group from the control group."
   ]
  },
  {
   "cell_type": "code",
   "execution_count": 69,
   "metadata": {
    "execution": {
     "iopub.execute_input": "2021-04-16T19:41:37.532174Z",
     "iopub.status.busy": "2021-04-16T19:41:37.531673Z",
     "iopub.status.idle": "2021-04-16T19:41:37.533335Z",
     "shell.execute_reply": "2021-04-16T19:41:37.533679Z"
    },
    "id": "zZWD_l-15372",
    "tags": []
   },
   "outputs": [],
   "source": [
    "grouped = df.groupby('Treatment')\n",
    "responses = {}\n",
    "\n",
    "for name, group in grouped:\n",
    "    responses[name] = group['Response']"
   ]
  },
  {
   "cell_type": "markdown",
   "metadata": {
    "id": "Sy0Dq_NG5372",
    "tags": []
   },
   "source": [
    "Now estimate the parameters for the treated group."
   ]
  },
  {
   "cell_type": "code",
   "execution_count": 70,
   "metadata": {
    "execution": {
     "iopub.execute_input": "2021-04-16T19:41:37.537069Z",
     "iopub.status.busy": "2021-04-16T19:41:37.536501Z",
     "iopub.status.idle": "2021-04-16T19:41:37.538674Z",
     "shell.execute_reply": "2021-04-16T19:41:37.539148Z"
    },
    "id": "mrZQMqZI5372",
    "tags": []
   },
   "outputs": [],
   "source": [
    "data = responses['Treated']"
   ]
  },
  {
   "cell_type": "code",
   "execution_count": 71,
   "metadata": {
    "execution": {
     "iopub.execute_input": "2021-04-16T19:41:37.761659Z",
     "iopub.status.busy": "2021-04-16T19:41:37.582037Z",
     "iopub.status.idle": "2021-04-16T19:41:41.394038Z",
     "shell.execute_reply": "2021-04-16T19:41:41.394468Z"
    },
    "id": "YzwAwYsj5372",
    "tags": []
   },
   "outputs": [
    {
     "name": "stderr",
     "output_type": "stream",
     "text": [
      "Initializing NUTS using jitter+adapt_diag...\n",
      "Multiprocess sampling (4 chains in 4 jobs)\n",
      "NUTS: [mu, sigma]\n"
     ]
    },
    {
     "data": {
      "application/vnd.jupyter.widget-view+json": {
       "model_id": "ab25ecc957ae422aba5986fea554af3f",
       "version_major": 2,
       "version_minor": 0
      },
      "text/plain": [
       "Output()"
      ]
     },
     "metadata": {},
     "output_type": "display_data"
    },
    {
     "data": {
      "text/html": [
       "<pre style=\"white-space:pre;overflow-x:auto;line-height:normal;font-family:Menlo,'DejaVu Sans Mono',consolas,'Courier New',monospace\"></pre>\n"
      ],
      "text/plain": []
     },
     "metadata": {},
     "output_type": "display_data"
    },
    {
     "name": "stderr",
     "output_type": "stream",
     "text": [
      "Sampling 4 chains for 1_000 tune and 500 draw iterations (4_000 + 2_000 draws total) took 1 seconds.\n"
     ]
    }
   ],
   "source": [
    "# Solution\n",
    "\n",
    "with pm.Model() as model8:\n",
    "    mu = pm.Uniform('mu', 20, 80)\n",
    "    sigma = pm.Uniform('sigma', 5, 30)\n",
    "    y = pm.Normal('y', mu, sigma, observed=data)\n",
    "    idata8 = pm.sample(500, **options)"
   ]
  },
  {
   "cell_type": "code",
   "execution_count": 72,
   "metadata": {
    "execution": {
     "iopub.execute_input": "2021-04-16T19:41:41.403790Z",
     "iopub.status.busy": "2021-04-16T19:41:41.397823Z",
     "iopub.status.idle": "2021-04-16T19:41:41.871273Z",
     "shell.execute_reply": "2021-04-16T19:41:41.871849Z"
    },
    "id": "ielGqH4D5372",
    "tags": []
   },
   "outputs": [
    {
     "data": {
      "image/png": "[encoded data removed]",
      "text/plain": [
       "<Figure size 1104x414 with 2 Axes>"
      ]
     },
     "metadata": {},
     "output_type": "display_data"
    }
   ],
   "source": [
    "# Solution\n",
    "\n",
    "with model8:\n",
    "    az.plot_posterior(idata8)"
   ]
  },
  {
   "cell_type": "markdown",
   "metadata": {
    "id": "vuQwMDMZ5372"
   },
   "source": [
    "**Exercise:** In <<_TheLincolnIndexProblem>> we used a grid algorithm to solve the Lincoln Index problem as presented by John D. Cook:\n",
    "\n",
    "> \"Suppose you have a tester who finds 20 bugs in your program. You want to estimate how many bugs are really in the program. You know there are at least 20 bugs, and if you have supreme confidence in your tester, you may suppose there are around 20 bugs. But maybe your tester isn't very good. Maybe there are hundreds of bugs. How can you have any idea how many bugs there are? There's no way to know with one tester. But if you have two testers, you can get a good idea, even if you don't know how skilled the testers are.\"\n",
    "\n",
    "Suppose the first tester finds 20 bugs, the second finds 15, and they\n",
    "find 3 in common; use PyMC to estimate the number of bugs."
   ]
  },
  {
   "cell_type": "markdown",
   "metadata": {
    "id": "1EXGXu-l5373",
    "tags": []
   },
   "source": [
    "I'll use the following notation for the data:\n",
    "\n",
    "* k11 is the number of bugs found by both testers,\n",
    "\n",
    "* k10 is the number of bugs found by the first tester but not the second,\n",
    "\n",
    "* k01 is the number of bugs found by the second tester but not the first, and\n",
    "\n",
    "* k00 is the unknown number of undiscovered bugs.\n",
    "\n",
    "Here are the values for all but `k00`:"
   ]
  },
  {
   "cell_type": "code",
   "execution_count": 73,
   "metadata": {
    "execution": {
     "iopub.execute_input": "2021-04-16T19:41:41.876696Z",
     "iopub.status.busy": "2021-04-16T19:41:41.876100Z",
     "iopub.status.idle": "2021-04-16T19:41:41.879450Z",
     "shell.execute_reply": "2021-04-16T19:41:41.880294Z"
    },
    "id": "bK88WnVY5373",
    "tags": []
   },
   "outputs": [],
   "source": [
    "k10 = 20 - 3\n",
    "k01 = 15 - 3\n",
    "k11 = 3"
   ]
  },
  {
   "cell_type": "markdown",
   "metadata": {
    "id": "nsHCf9k25373",
    "tags": []
   },
   "source": [
    "In total, 32 bugs have been discovered:"
   ]
  },
  {
   "cell_type": "code",
   "execution_count": 74,
   "metadata": {
    "execution": {
     "iopub.execute_input": "2021-04-16T19:41:41.885825Z",
     "iopub.status.busy": "2021-04-16T19:41:41.882837Z",
     "iopub.status.idle": "2021-04-16T19:41:41.890562Z",
     "shell.execute_reply": "2021-04-16T19:41:41.891055Z"
    },
    "id": "s_ixg2rG5373",
    "tags": []
   },
   "outputs": [
    {
     "data": {
      "text/plain": [
       "np.int64(32)"
      ]
     },
     "execution_count": 74,
     "metadata": {},
     "output_type": "execute_result"
    }
   ],
   "source": [
    "k_obs = [k01, k10, k11]\n",
    "n_obs = np.sum(k_obs)\n",
    "n_obs"
   ]
  },
  {
   "cell_type": "markdown",
   "metadata": {
    "id": "DahQIZ9i5373"
   },
   "source": [
    "Note: This exercise is more difficult that some of the previous ones, and the solution that appeared in previous versions of this notebook doesn't work in recent versions of PyMC.\n",
    "Here are some suggestions that might help.\n",
    "\n",
    "* Define priors for `p0`, `p1`, and `N`.\n",
    "\n",
    "* Compute the complementary probabilities, `q1` and `q2`, well as the probability of being seen, `p_seen`, and the probabilities of being seen by the first, second, or both testers, given that a bug is discovered.\n",
    "\n",
    "```\n",
    "q0 = 1-p0\n",
    "q1 = 1-p1\n",
    "p_seen = 1 - q0*q1\n",
    "ps = pm.math.stack([q0*p1, p0*q1, p0*p1]) / p_seen\n",
    "```\n",
    "\n",
    "* Compute *two* likelihoods: the probability of finding `n_obs` bugs given `N` and `p_seen`, and the probability of `k_obs` given `n_obs` and `ps`."
   ]
  },
  {
   "cell_type": "code",
   "execution_count": 76,
   "metadata": {
    "execution": {
     "iopub.execute_input": "2021-04-16T19:41:41.964715Z",
     "iopub.status.busy": "2021-04-16T19:41:41.928965Z",
     "iopub.status.idle": "2021-04-16T19:41:42.965606Z",
     "shell.execute_reply": "2021-04-16T19:41:42.965954Z"
    },
    "id": "OOu4Eh2w5373"
   },
   "outputs": [],
   "source": [
    "# Solution\n",
    "\n",
    "with pm.Model() as model9:\n",
    "    p0 = pm.Beta('p0', alpha=1, beta=1)\n",
    "    p1 = pm.Beta('p1', alpha=1, beta=1)\n",
    "    N = pm.DiscreteUniform('N', n_obs, 350)\n",
    "    \n",
    "    q0 = 1-p0\n",
    "    q1 = 1-p1\n",
    "    p_seen = 1 - q0*q1\n",
    "    ps = pm.math.stack([q0*p1, p0*q1, p0*p1]) / p_seen\n",
    "    \n",
    "    pm.Binomial(\"n_obs\", n=N, p=p_seen, observed=n_obs)\n",
    "    pm.Multinomial('k_obs', n=n_obs, p=ps, observed=k_obs)"
   ]
  },
  {
   "cell_type": "code",
   "execution_count": 77,
   "metadata": {
    "execution": {
     "iopub.execute_input": "2021-04-16T19:41:42.969634Z",
     "iopub.status.busy": "2021-04-16T19:41:42.969200Z",
     "iopub.status.idle": "2021-04-16T19:41:49.207311Z",
     "shell.execute_reply": "2021-04-16T19:41:49.206851Z"
    },
    "id": "rDS3t8Wt5374"
   },
   "outputs": [
    {
     "name": "stderr",
     "output_type": "stream",
     "text": [
      "Multiprocess sampling (4 chains in 4 jobs)\n",
      "CompoundStep\n",
      ">NUTS: [p0, p1]\n",
      ">Metropolis: [N]\n"
     ]
    },
    {
     "data": {
      "application/vnd.jupyter.widget-view+json": {
       "model_id": "000184340e2a4ebb8ea58848bf258416",
       "version_major": 2,
       "version_minor": 0
      },
      "text/plain": [
       "Output()"
      ]
     },
     "metadata": {},
     "output_type": "display_data"
    },
    {
     "data": {
      "text/html": [
       "<pre style=\"white-space:pre;overflow-x:auto;line-height:normal;font-family:Menlo,'DejaVu Sans Mono',consolas,'Courier New',monospace\"></pre>\n"
      ],
      "text/plain": []
     },
     "metadata": {},
     "output_type": "display_data"
    },
    {
     "name": "stderr",
     "output_type": "stream",
     "text": [
      "Sampling 4 chains for 1_000 tune and 1_000 draw iterations (4_000 + 4_000 draws total) took 3 seconds.\n",
      "The rhat statistic is larger than 1.01 for some parameters. This indicates problems during sampling. See https://arxiv.org/abs/1903.08008 for details\n",
      "The effective sample size per chain is smaller than 100 for some parameters.  A higher number is needed for reliable rhat and ess computation. See https://arxiv.org/abs/1903.08008 for details\n"
     ]
    }
   ],
   "source": [
    "# Solution\n",
    "\n",
    "with model9:\n",
    "    idata9 = pm.sample(1000)"
   ]
  },
  {
   "cell_type": "code",
   "execution_count": 78,
   "metadata": {},
   "outputs": [
    {
     "data": {
      "text/html": [
       "<div>\n",
       "<style scoped>\n",
       "    .dataframe tbody tr th:only-of-type {\n",
       "        vertical-align: middle;\n",
       "    }\n",
       "\n",
       "    .dataframe tbody tr th {\n",
       "        vertical-align: top;\n",
       "    }\n",
       "\n",
       "    .dataframe thead th {\n",
       "        text-align: right;\n",
       "    }\n",
       "</style>\n",
       "<table border=\"1\" class=\"dataframe\">\n",
       "  <thead>\n",
       "    <tr style=\"text-align: right;\">\n",
       "      <th></th>\n",
       "      <th>mean</th>\n",
       "      <th>sd</th>\n",
       "      <th>hdi_3%</th>\n",
       "      <th>hdi_97%</th>\n",
       "      <th>mcse_mean</th>\n",
       "      <th>mcse_sd</th>\n",
       "      <th>ess_bulk</th>\n",
       "      <th>ess_tail</th>\n",
       "      <th>r_hat</th>\n",
       "    </tr>\n",
       "  </thead>\n",
       "  <tbody>\n",
       "    <tr>\n",
       "      <th>N</th>\n",
       "      <td>116.376</td>\n",
       "      <td>58.896</td>\n",
       "      <td>41.000</td>\n",
       "      <td>233.000</td>\n",
       "      <td>9.702</td>\n",
       "      <td>6.701</td>\n",
       "      <td>38.0</td>\n",
       "      <td>84.0</td>\n",
       "      <td>1.08</td>\n",
       "    </tr>\n",
       "    <tr>\n",
       "      <th>p0</th>\n",
       "      <td>0.216</td>\n",
       "      <td>0.099</td>\n",
       "      <td>0.059</td>\n",
       "      <td>0.393</td>\n",
       "      <td>0.015</td>\n",
       "      <td>0.005</td>\n",
       "      <td>44.0</td>\n",
       "      <td>142.0</td>\n",
       "      <td>1.07</td>\n",
       "    </tr>\n",
       "    <tr>\n",
       "      <th>p1</th>\n",
       "      <td>0.165</td>\n",
       "      <td>0.079</td>\n",
       "      <td>0.040</td>\n",
       "      <td>0.311</td>\n",
       "      <td>0.011</td>\n",
       "      <td>0.004</td>\n",
       "      <td>48.0</td>\n",
       "      <td>137.0</td>\n",
       "      <td>1.06</td>\n",
       "    </tr>\n",
       "  </tbody>\n",
       "</table>\n",
       "</div>"
      ],
      "text/plain": [
       "       mean      sd  hdi_3%  hdi_97%  mcse_mean  mcse_sd  ess_bulk  ess_tail  \\\n",
       "N   116.376  58.896  41.000  233.000      9.702    6.701      38.0      84.0   \n",
       "p0    0.216   0.099   0.059    0.393      0.015    0.005      44.0     142.0   \n",
       "p1    0.165   0.079   0.040    0.311      0.011    0.004      48.0     137.0   \n",
       "\n",
       "    r_hat  \n",
       "N    1.08  \n",
       "p0   1.07  \n",
       "p1   1.06  "
      ]
     },
     "execution_count": 78,
     "metadata": {},
     "output_type": "execute_result"
    }
   ],
   "source": [
    "# Solution\n",
    "\n",
    "az.summary(idata9)"
   ]
  },
  {
   "cell_type": "code",
   "execution_count": 79,
   "metadata": {
    "execution": {
     "iopub.execute_input": "2021-04-16T19:41:49.210957Z",
     "iopub.status.busy": "2021-04-16T19:41:49.210459Z",
     "iopub.status.idle": "2021-04-16T19:41:49.940432Z",
     "shell.execute_reply": "2021-04-16T19:41:49.940010Z"
    },
    "id": "ZCh3DbFk5374"
   },
   "outputs": [
    {
     "data": {
      "image/png": "[encoded data removed]",
      "text/plain": [
       "<Figure size 1656x414 with 3 Axes>"
      ]
     },
     "metadata": {},
     "output_type": "display_data"
    }
   ],
   "source": [
    "# Solution\n",
    "\n",
    "with model9:\n",
    "    az.plot_posterior(idata9)"
   ]
  },
  {
   "cell_type": "markdown",
   "metadata": {
    "tags": [
     "remove-print"
    ]
   },
   "source": [
    "*Think Bayes*, Second Edition\n",
    "\n",
    "Copyright 2020 Allen B. Downey\n",
    "\n",
    "License: [Attribution-NonCommercial-ShareAlike 4.0 International (CC BY-NC-SA 4.0)](https://creativecommons.org/licenses/by-nc-sa/4.0/)"
   ]
  }
 ],
 "metadata": {
  "celltoolbar": "Tags",
  "colab": {
   "provenance": []
  },
  "kernelspec": {
   "display_name": "Python 3 (ipykernel)",
   "language": "python",
   "name": "python3"
  },
  "language_info": {
   "codemirror_mode": {
    "name": "ipython",
    "version": 3
   },
   "file_extension": ".py",
   "mimetype": "text/x-python",
   "name": "python",
   "nbconvert_exporter": "python",
   "pygments_lexer": "ipython3",
   "version": "3.11.13"
  }
 },
 "nbformat": 4,
 "nbformat_minor": 1
}
