{
 "cells": [
  {
   "cell_type": "markdown",
   "metadata": {},
   "source": [
    "You can order print and ebook versions of *Think Bayes 2e* from\n",
    "[Bookshop.org](https://bookshop.org/a/98697/9781492089469) and\n",
    "[Amazon](https://amzn.to/334eqGo)."
   ]
  },
  {
   "cell_type": "markdown",
   "metadata": {},
   "source": [
    "# Logistic Regression"
   ]
  },
  {
   "cell_type": "code",
   "execution_count": 1,
   "metadata": {
    "execution": {
     "iopub.execute_input": "2021-04-16T19:38:25.545197Z",
     "iopub.status.busy": "2021-04-16T19:38:25.544638Z",
     "iopub.status.idle": "2021-04-16T19:38:25.546736Z",
     "shell.execute_reply": "2021-04-16T19:38:25.546255Z"
    },
    "tags": [
     "remove-cell"
    ]
   },
   "outputs": [],
   "source": [
    "# install empiricaldist if necessary\n",
    "\n",
    "try:\n",
    "    import empiricaldist\n",
    "except ImportError:\n",
    "    !pip install empiricaldist\n",
    "    import empiricaldist"
   ]
  },
  {
   "cell_type": "code",
   "execution_count": 2,
   "metadata": {
    "execution": {
     "iopub.execute_input": "2021-04-16T19:38:25.552170Z",
     "iopub.status.busy": "2021-04-16T19:38:25.551039Z",
     "iopub.status.idle": "2021-04-16T19:38:25.562705Z",
     "shell.execute_reply": "2021-04-16T19:38:25.562078Z"
    },
    "tags": [
     "remove-cell"
    ]
   },
   "outputs": [],
   "source": [
    "# Get utils.py\n",
    "\n",
    "from os.path import basename, exists\n",
    "\n",
    "def download(url):\n",
    "    filename = basename(url)\n",
    "    if not exists(filename):\n",
    "        from urllib.request import urlretrieve\n",
    "        local, _ = urlretrieve(url, filename)\n",
    "        print('Downloaded ' + local)\n",
    "    \n",
    "download('https://github.com/AllenDowney/ThinkBayes2/raw/master/soln/utils.py')"
   ]
  },
  {
   "cell_type": "code",
   "execution_count": 3,
   "metadata": {
    "execution": {
     "iopub.execute_input": "2021-04-16T19:38:25.567210Z",
     "iopub.status.busy": "2021-04-16T19:38:25.565476Z",
     "iopub.status.idle": "2021-04-16T19:38:26.260756Z",
     "shell.execute_reply": "2021-04-16T19:38:26.260177Z"
    },
    "tags": [
     "remove-cell"
    ]
   },
   "outputs": [],
   "source": [
    "from utils import set_pyplot_params\n",
    "set_pyplot_params()"
   ]
  },
  {
   "cell_type": "markdown",
   "metadata": {},
   "source": [
    "This chapter introduces two related topics: log odds and logistic regression.\n",
    "\n",
    "In <<_BayessRule>>, we rewrote Bayes's Theorem in terms of odds and derived Bayes's Rule, which can be a convenient way to do a Bayesian update on paper or in your head.\n",
    "In this chapter, we'll look at Bayes's Rule on a logarithmic scale, which provides insight into how we accumulate evidence through successive updates.\n",
    "\n",
    "That leads directly to logistic regression, which is based on a linear model of the relationship between evidence and the log odds of a hypothesis.\n",
    "As an example, we'll use data from the Space Shuttle to explore the relationship between temperature and the probability of damage to the O-rings.\n",
    "\n",
    "As an exercise, you'll have a chance to model the relationship between a child's age when they start school and their probability of being diagnosed with Attention Deficit Hyperactivity Disorder (ADHD)."
   ]
  },
  {
   "cell_type": "markdown",
   "metadata": {},
   "source": [
    "## Log Odds\n",
    "\n",
    "When I was in grad school, I signed up for a class on the Theory of Computation.\n",
    "On the first day of class, I was the first to arrive.\n",
    "A few minutes later, another student arrived.\n",
    "\n",
    "At the time, about 83% of the students in the computer science program [were male](https://www.aps.org/programs/education/statistics/fraction-phd.cfm), so I was mildly surprised to note that the other student was female.\n",
    "\n",
    "When another female student arrived a few minutes later, I started to think I was in the wrong room.\n",
    "When third female student arrived, I was confident I was in the wrong room.\n",
    "And as it turned out, I was."
   ]
  },
  {
   "cell_type": "markdown",
   "metadata": {},
   "source": [
    "I'll use this anecdote to demonstrate Bayes's Rule on a logarithmic scale and show how it relates to logistic regression.\n",
    "\n",
    "Using $H$ to represent the hypothesis that I was in the right room, and $F$ to represent the observation that the first other student was female, we can write Bayes's Rule like this:\n",
    "\n",
    "$$O(H|F) = O(H) \\frac{P(F|H)}{P(F|not H)}$$\n",
    "\n",
    "Before I saw the other students, I was confident I was in the right room, so I might assign prior odds of 10:1 in favor:\n",
    "\n",
    "$$O(H) = 10$$\n"
   ]
  },
  {
   "cell_type": "markdown",
   "metadata": {},
   "source": [
    "If I was in the right room, the likelihood of the first female student was about 17%.\n",
    "If I was not in the right room, the likelihood of the first female student was more like 50%, \n",
    "\n",
    "$$\\frac{P(F|H)}{P(F|not H)} = 17 / 50$$\n",
    "\n",
    "So the likelihood ratio is close to 1/3.  Applying Bayes's Rule, the posterior odds were\n",
    "\n",
    "$$O(H|F) = 10 / 3$$\n",
    "\n",
    "After two students, the posterior odds were\n",
    "\n",
    "$$O(H|FF) = 10 / 9$$\n",
    "\n",
    "And after three students:\n",
    "\n",
    "$$O(H|FFF) = 10 / 27$$\n",
    "\n",
    "At that point, I was right to suspect I was in the wrong room."
   ]
  },
  {
   "cell_type": "markdown",
   "metadata": {},
   "source": [
    "The following table shows the odds after each update, the corresponding probabilities, and the change in probability after each step, expressed in percentage points."
   ]
  },
  {
   "cell_type": "code",
   "execution_count": 4,
   "metadata": {
    "execution": {
     "iopub.execute_input": "2021-04-16T19:38:26.264047Z",
     "iopub.status.busy": "2021-04-16T19:38:26.263541Z",
     "iopub.status.idle": "2021-04-16T19:38:26.265938Z",
     "shell.execute_reply": "2021-04-16T19:38:26.265434Z"
    },
    "tags": [
     "hide-cell"
    ]
   },
   "outputs": [],
   "source": [
    "def prob(o):\n",
    "    return o / (o+1)"
   ]
  },
  {
   "cell_type": "code",
   "execution_count": 5,
   "metadata": {
    "execution": {
     "iopub.execute_input": "2021-04-16T19:38:26.272676Z",
     "iopub.status.busy": "2021-04-16T19:38:26.271676Z",
     "iopub.status.idle": "2021-04-16T19:38:26.289015Z",
     "shell.execute_reply": "2021-04-16T19:38:26.289404Z"
    },
    "tags": [
     "hide-input"
    ]
   },
   "outputs": [
    {
     "data": {
      "text/html": [
       "<div>\n",
       "<style scoped>\n",
       "    .dataframe tbody tr th:only-of-type {\n",
       "        vertical-align: middle;\n",
       "    }\n",
       "\n",
       "    .dataframe tbody tr th {\n",
       "        vertical-align: top;\n",
       "    }\n",
       "\n",
       "    .dataframe thead th {\n",
       "        text-align: right;\n",
       "    }\n",
       "</style>\n",
       "<table border=\"1\" class=\"dataframe\">\n",
       "  <thead>\n",
       "    <tr style=\"text-align: right;\">\n",
       "      <th></th>\n",
       "      <th>odds</th>\n",
       "      <th>prob</th>\n",
       "      <th>prob diff</th>\n",
       "    </tr>\n",
       "  </thead>\n",
       "  <tbody>\n",
       "    <tr>\n",
       "      <th>prior</th>\n",
       "      <td>10.000000</td>\n",
       "      <td>0.909091</td>\n",
       "      <td>--</td>\n",
       "    </tr>\n",
       "    <tr>\n",
       "      <th>1 student</th>\n",
       "      <td>3.333333</td>\n",
       "      <td>0.769231</td>\n",
       "      <td>-13.986014</td>\n",
       "    </tr>\n",
       "    <tr>\n",
       "      <th>2 students</th>\n",
       "      <td>1.111111</td>\n",
       "      <td>0.526316</td>\n",
       "      <td>-24.291498</td>\n",
       "    </tr>\n",
       "    <tr>\n",
       "      <th>3 students</th>\n",
       "      <td>0.370370</td>\n",
       "      <td>0.270270</td>\n",
       "      <td>-25.604552</td>\n",
       "    </tr>\n",
       "  </tbody>\n",
       "</table>\n",
       "</div>"
      ],
      "text/plain": [
       "                 odds      prob  prob diff\n",
       "prior       10.000000  0.909091         --\n",
       "1 student    3.333333  0.769231 -13.986014\n",
       "2 students   1.111111  0.526316 -24.291498\n",
       "3 students   0.370370  0.270270 -25.604552"
      ]
     },
     "execution_count": 5,
     "metadata": {},
     "output_type": "execute_result"
    }
   ],
   "source": [
    "import pandas as pd\n",
    "\n",
    "index = ['prior', '1 student', '2 students', '3 students']\n",
    "\n",
    "table = pd.DataFrame(index=index)\n",
    "table['odds'] = [10, 10/3, 10/9, 10/27]\n",
    "table['prob'] = prob(table['odds'])\n",
    "table['prob diff'] = table['prob'].diff() * 100\n",
    "table.fillna('--')"
   ]
  },
  {
   "cell_type": "markdown",
   "metadata": {},
   "source": [
    "Each update uses the same likelihood, but the changes in probability are not the same.  The first update decreases the probability by about 14 percentage points, the second by 24, and the third by 26.\n",
    "That's normal for this kind of update, and in fact it's necessary; if the changes were the same size, we would quickly get into negative probabilities.\n",
    "\n",
    "The odds follow a more obvious pattern.  Because each update multiplies the odds by the same likelihood ratio, the odds form a geometric sequence.\n",
    "And that brings us to consider another way to represent uncertainty: **log odds**, which is the logarithm of odds, usually expressed using the natural log (base $e$).\n",
    "\n",
    "Adding log odds to the table:"
   ]
  },
  {
   "cell_type": "code",
   "execution_count": 6,
   "metadata": {
    "execution": {
     "iopub.execute_input": "2021-04-16T19:38:26.300548Z",
     "iopub.status.busy": "2021-04-16T19:38:26.300020Z",
     "iopub.status.idle": "2021-04-16T19:38:26.302679Z",
     "shell.execute_reply": "2021-04-16T19:38:26.303028Z"
    },
    "tags": [
     "hide-input"
    ]
   },
   "outputs": [
    {
     "data": {
      "text/html": [
       "<div>\n",
       "<style scoped>\n",
       "    .dataframe tbody tr th:only-of-type {\n",
       "        vertical-align: middle;\n",
       "    }\n",
       "\n",
       "    .dataframe tbody tr th {\n",
       "        vertical-align: top;\n",
       "    }\n",
       "\n",
       "    .dataframe thead th {\n",
       "        text-align: right;\n",
       "    }\n",
       "</style>\n",
       "<table border=\"1\" class=\"dataframe\">\n",
       "  <thead>\n",
       "    <tr style=\"text-align: right;\">\n",
       "      <th></th>\n",
       "      <th>odds</th>\n",
       "      <th>prob</th>\n",
       "      <th>prob diff</th>\n",
       "      <th>log odds</th>\n",
       "      <th>log odds diff</th>\n",
       "    </tr>\n",
       "  </thead>\n",
       "  <tbody>\n",
       "    <tr>\n",
       "      <th>prior</th>\n",
       "      <td>10.000000</td>\n",
       "      <td>0.909091</td>\n",
       "      <td>--</td>\n",
       "      <td>2.302585</td>\n",
       "      <td>--</td>\n",
       "    </tr>\n",
       "    <tr>\n",
       "      <th>1 student</th>\n",
       "      <td>3.333333</td>\n",
       "      <td>0.769231</td>\n",
       "      <td>-13.986014</td>\n",
       "      <td>1.203973</td>\n",
       "      <td>-1.098612</td>\n",
       "    </tr>\n",
       "    <tr>\n",
       "      <th>2 students</th>\n",
       "      <td>1.111111</td>\n",
       "      <td>0.526316</td>\n",
       "      <td>-24.291498</td>\n",
       "      <td>0.105361</td>\n",
       "      <td>-1.098612</td>\n",
       "    </tr>\n",
       "    <tr>\n",
       "      <th>3 students</th>\n",
       "      <td>0.370370</td>\n",
       "      <td>0.270270</td>\n",
       "      <td>-25.604552</td>\n",
       "      <td>-0.993252</td>\n",
       "      <td>-1.098612</td>\n",
       "    </tr>\n",
       "  </tbody>\n",
       "</table>\n",
       "</div>"
      ],
      "text/plain": [
       "                 odds      prob  prob diff  log odds log odds diff\n",
       "prior       10.000000  0.909091         --  2.302585            --\n",
       "1 student    3.333333  0.769231 -13.986014  1.203973     -1.098612\n",
       "2 students   1.111111  0.526316 -24.291498  0.105361     -1.098612\n",
       "3 students   0.370370  0.270270 -25.604552 -0.993252     -1.098612"
      ]
     },
     "execution_count": 6,
     "metadata": {},
     "output_type": "execute_result"
    }
   ],
   "source": [
    "import numpy as np\n",
    "\n",
    "table['log odds'] = np.log(table['odds'])\n",
    "table['log odds diff'] = table['log odds'].diff()\n",
    "table.fillna('--')"
   ]
  },
  {
   "cell_type": "markdown",
   "metadata": {},
   "source": [
    "You might notice:\n",
    "\n",
    "* When probability is greater than 0.5, odds are greater than 1, and log odds are positive.\n",
    "\n",
    "* When probability is less than 0.5, odds are less than 1, and log odds are negative.\n",
    "\n",
    "You might also notice that the log odds are equally spaced.\n",
    "The change in log odds after each update is the logarithm of the likelihood ratio."
   ]
  },
  {
   "cell_type": "code",
   "execution_count": 7,
   "metadata": {
    "execution": {
     "iopub.execute_input": "2021-04-16T19:38:26.307047Z",
     "iopub.status.busy": "2021-04-16T19:38:26.306449Z",
     "iopub.status.idle": "2021-04-16T19:38:26.308826Z",
     "shell.execute_reply": "2021-04-16T19:38:26.309204Z"
    }
   },
   "outputs": [
    {
     "data": {
      "text/plain": [
       "-1.0986122886681098"
      ]
     },
     "execution_count": 7,
     "metadata": {},
     "output_type": "execute_result"
    }
   ],
   "source": [
    "np.log(1/3)"
   ]
  },
  {
   "cell_type": "markdown",
   "metadata": {},
   "source": [
    "That's true in this example, and we can show that it's true in general by taking the log of both sides of Bayes's Rule.\n",
    "\n",
    "$$\\log O(H|F) = \\log O(H) + \\log \\frac{P(F|H)}{P(F|not H)}$$\n",
    "\n",
    "On a log odds scale, a Bayesian update is additive.  So if $F^x$ means that $x$ female students arrive while I am waiting, the posterior log odds that I am in the right room are:\n",
    "\n",
    "$$\\log O(H|F^x) = \\log O(H) + x \\log \\frac{P(F|H)}{P(F|not H)}$$\n",
    "\n",
    "This equation represents a linear relationship between the log likelihood ratio and the posterior log odds.  "
   ]
  },
  {
   "cell_type": "markdown",
   "metadata": {},
   "source": [
    "In this example the linear equation is exact, but even when it's not, it is common to use a linear function to model the relationship between an explanatory variable, $x$, and a dependent variable expressed in log odds, like this:\n",
    "\n",
    "$$\\log O(H | x) = \\beta_0 + \\beta_1 x$$\n",
    "\n",
    "where $\\beta_0$ and $\\beta_1$ are unknown parameters:\n",
    "\n",
    "* The intercept, $\\beta_0$, is the log odds of the hypothesis when $x$ is 0.\n",
    "\n",
    "* The slope, $\\beta_1$, is the log of the likelihood ratio.\n",
    "\n",
    "This equation is the basis of logistic regression."
   ]
  },
  {
   "cell_type": "markdown",
   "metadata": {},
   "source": [
    "## The Space Shuttle Problem\n",
    "\n",
    "As an example of logistic regression, I'll solve a problem from Cameron Davidson-Pilon's book, [*Bayesian Methods for Hackers*](http://nbviewer.jupyter.org/github/CamDavidsonPilon/Probabilistic-Programming-and-Bayesian-Methods-for-Hackers/blob/master/Chapter2_MorePyMC/Ch2_MorePyMC_PyMC2.ipynb).  He writes:\n",
    "\n",
    "> \"On January 28, 1986, the twenty-fifth flight of the U.S. space shuttle program ended in disaster when one of the rocket boosters of the Shuttle Challenger exploded shortly after lift-off, killing all seven crew members. The presidential commission on the accident concluded that it was caused by the failure of an O-ring in a field joint on the rocket booster, and that this failure was due to a faulty design that made the O-ring unacceptably sensitive to a number of factors including outside temperature. Of the previous 24 flights, data were available on failures of O-rings on 23 (one was lost at sea), and these data were discussed on the evening preceding the Challenger launch, but unfortunately only the data corresponding to the 7 flights on which there was a damage incident were considered important and these were thought to show no obvious trend.\"\n",
    "\n",
    "The dataset is originally from [this paper](https://amstat.tandfonline.com/doi/abs/10.1080/01621459.1989.10478858), but also available from [Davidson-Pilon](https://raw.githubusercontent.com/CamDavidsonPilon/Probabilistic-Programming-and-Bayesian-Methods-for-Hackers/master/Chapter2_MorePyMC/data/challenger_data.csv)."
   ]
  },
  {
   "cell_type": "code",
   "execution_count": 8,
   "metadata": {
    "execution": {
     "iopub.execute_input": "2021-04-16T19:38:26.312879Z",
     "iopub.status.busy": "2021-04-16T19:38:26.312460Z",
     "iopub.status.idle": "2021-04-16T19:38:26.314626Z",
     "shell.execute_reply": "2021-04-16T19:38:26.314204Z"
    },
    "tags": [
     "hide-cell"
    ]
   },
   "outputs": [],
   "source": [
    "download('https://raw.githubusercontent.com/CamDavidsonPilon/Probabilistic-Programming-and-Bayesian-Methods-for-Hackers/master/Chapter2_MorePyMC/data/challenger_data.csv')"
   ]
  },
  {
   "cell_type": "markdown",
   "metadata": {
    "tags": [
     "hide-cell"
    ]
   },
   "source": [
    "I'll read the data and do some cleaning."
   ]
  },
  {
   "cell_type": "code",
   "execution_count": 9,
   "metadata": {
    "execution": {
     "iopub.execute_input": "2021-04-16T19:38:26.319012Z",
     "iopub.status.busy": "2021-04-16T19:38:26.318271Z",
     "iopub.status.idle": "2021-04-16T19:38:26.331731Z",
     "shell.execute_reply": "2021-04-16T19:38:26.332080Z"
    },
    "tags": [
     "hide-cell"
    ]
   },
   "outputs": [
    {
     "data": {
      "text/html": [
       "<div>\n",
       "<style scoped>\n",
       "    .dataframe tbody tr th:only-of-type {\n",
       "        vertical-align: middle;\n",
       "    }\n",
       "\n",
       "    .dataframe tbody tr th {\n",
       "        vertical-align: top;\n",
       "    }\n",
       "\n",
       "    .dataframe thead th {\n",
       "        text-align: right;\n",
       "    }\n",
       "</style>\n",
       "<table border=\"1\" class=\"dataframe\">\n",
       "  <thead>\n",
       "    <tr style=\"text-align: right;\">\n",
       "      <th></th>\n",
       "      <th>Date</th>\n",
       "      <th>Temperature</th>\n",
       "      <th>Damage</th>\n",
       "    </tr>\n",
       "  </thead>\n",
       "  <tbody>\n",
       "    <tr>\n",
       "      <th>0</th>\n",
       "      <td>04/12/1981</td>\n",
       "      <td>66</td>\n",
       "      <td>0</td>\n",
       "    </tr>\n",
       "    <tr>\n",
       "      <th>1</th>\n",
       "      <td>11/12/1981</td>\n",
       "      <td>70</td>\n",
       "      <td>1</td>\n",
       "    </tr>\n",
       "    <tr>\n",
       "      <th>2</th>\n",
       "      <td>3/22/82</td>\n",
       "      <td>69</td>\n",
       "      <td>0</td>\n",
       "    </tr>\n",
       "    <tr>\n",
       "      <th>4</th>\n",
       "      <td>01/11/1982</td>\n",
       "      <td>68</td>\n",
       "      <td>0</td>\n",
       "    </tr>\n",
       "    <tr>\n",
       "      <th>5</th>\n",
       "      <td>04/04/1983</td>\n",
       "      <td>67</td>\n",
       "      <td>0</td>\n",
       "    </tr>\n",
       "    <tr>\n",
       "      <th>6</th>\n",
       "      <td>6/18/83</td>\n",
       "      <td>72</td>\n",
       "      <td>0</td>\n",
       "    </tr>\n",
       "    <tr>\n",
       "      <th>7</th>\n",
       "      <td>8/30/83</td>\n",
       "      <td>73</td>\n",
       "      <td>0</td>\n",
       "    </tr>\n",
       "    <tr>\n",
       "      <th>8</th>\n",
       "      <td>11/28/83</td>\n",
       "      <td>70</td>\n",
       "      <td>0</td>\n",
       "    </tr>\n",
       "    <tr>\n",
       "      <th>9</th>\n",
       "      <td>02/03/1984</td>\n",
       "      <td>57</td>\n",
       "      <td>1</td>\n",
       "    </tr>\n",
       "    <tr>\n",
       "      <th>10</th>\n",
       "      <td>04/06/1984</td>\n",
       "      <td>63</td>\n",
       "      <td>1</td>\n",
       "    </tr>\n",
       "    <tr>\n",
       "      <th>11</th>\n",
       "      <td>8/30/84</td>\n",
       "      <td>70</td>\n",
       "      <td>1</td>\n",
       "    </tr>\n",
       "    <tr>\n",
       "      <th>12</th>\n",
       "      <td>10/05/1984</td>\n",
       "      <td>78</td>\n",
       "      <td>0</td>\n",
       "    </tr>\n",
       "    <tr>\n",
       "      <th>13</th>\n",
       "      <td>11/08/1984</td>\n",
       "      <td>67</td>\n",
       "      <td>0</td>\n",
       "    </tr>\n",
       "    <tr>\n",
       "      <th>14</th>\n",
       "      <td>1/24/85</td>\n",
       "      <td>53</td>\n",
       "      <td>1</td>\n",
       "    </tr>\n",
       "    <tr>\n",
       "      <th>15</th>\n",
       "      <td>04/12/1985</td>\n",
       "      <td>67</td>\n",
       "      <td>0</td>\n",
       "    </tr>\n",
       "    <tr>\n",
       "      <th>16</th>\n",
       "      <td>4/29/85</td>\n",
       "      <td>75</td>\n",
       "      <td>0</td>\n",
       "    </tr>\n",
       "    <tr>\n",
       "      <th>17</th>\n",
       "      <td>6/17/85</td>\n",
       "      <td>70</td>\n",
       "      <td>0</td>\n",
       "    </tr>\n",
       "    <tr>\n",
       "      <th>18</th>\n",
       "      <td>7/29/85</td>\n",
       "      <td>81</td>\n",
       "      <td>0</td>\n",
       "    </tr>\n",
       "    <tr>\n",
       "      <th>19</th>\n",
       "      <td>8/27/85</td>\n",
       "      <td>76</td>\n",
       "      <td>0</td>\n",
       "    </tr>\n",
       "    <tr>\n",
       "      <th>20</th>\n",
       "      <td>10/03/1985</td>\n",
       "      <td>79</td>\n",
       "      <td>0</td>\n",
       "    </tr>\n",
       "    <tr>\n",
       "      <th>21</th>\n",
       "      <td>10/30/85</td>\n",
       "      <td>75</td>\n",
       "      <td>1</td>\n",
       "    </tr>\n",
       "    <tr>\n",
       "      <th>22</th>\n",
       "      <td>11/26/85</td>\n",
       "      <td>76</td>\n",
       "      <td>0</td>\n",
       "    </tr>\n",
       "    <tr>\n",
       "      <th>23</th>\n",
       "      <td>01/12/1986</td>\n",
       "      <td>58</td>\n",
       "      <td>1</td>\n",
       "    </tr>\n",
       "  </tbody>\n",
       "</table>\n",
       "</div>"
      ],
      "text/plain": [
       "          Date  Temperature  Damage\n",
       "0   04/12/1981           66       0\n",
       "1   11/12/1981           70       1\n",
       "2      3/22/82           69       0\n",
       "4   01/11/1982           68       0\n",
       "5   04/04/1983           67       0\n",
       "6      6/18/83           72       0\n",
       "7      8/30/83           73       0\n",
       "8     11/28/83           70       0\n",
       "9   02/03/1984           57       1\n",
       "10  04/06/1984           63       1\n",
       "11     8/30/84           70       1\n",
       "12  10/05/1984           78       0\n",
       "13  11/08/1984           67       0\n",
       "14     1/24/85           53       1\n",
       "15  04/12/1985           67       0\n",
       "16     4/29/85           75       0\n",
       "17     6/17/85           70       0\n",
       "18     7/29/85           81       0\n",
       "19     8/27/85           76       0\n",
       "20  10/03/1985           79       0\n",
       "21    10/30/85           75       1\n",
       "22    11/26/85           76       0\n",
       "23  01/12/1986           58       1"
      ]
     },
     "execution_count": 9,
     "metadata": {},
     "output_type": "execute_result"
    }
   ],
   "source": [
    "data = pd.read_csv('challenger_data.csv', parse_dates=[0])\n",
    "\n",
    "# avoiding column names with spaces\n",
    "data.rename(columns={'Damage Incident': 'Damage'}, inplace=True)\n",
    "\n",
    "# dropping row 3, in which Damage Incident is NaN,\n",
    "# and row 24, which is the record for the Challenger\n",
    "data.drop(labels=[3, 24], inplace=True)\n",
    "\n",
    "# convert the Damage column to integer\n",
    "data['Damage'] = data['Damage'].astype(int)\n",
    "\n",
    "data"
   ]
  },
  {
   "cell_type": "markdown",
   "metadata": {},
   "source": [
    "Here are the first few rows:"
   ]
  },
  {
   "cell_type": "code",
   "execution_count": 10,
   "metadata": {
    "execution": {
     "iopub.execute_input": "2021-04-16T19:38:26.338568Z",
     "iopub.status.busy": "2021-04-16T19:38:26.338104Z",
     "iopub.status.idle": "2021-04-16T19:38:26.340474Z",
     "shell.execute_reply": "2021-04-16T19:38:26.340834Z"
    },
    "tags": [
     "hide-input"
    ]
   },
   "outputs": [
    {
     "data": {
      "text/html": [
       "<div>\n",
       "<style scoped>\n",
       "    .dataframe tbody tr th:only-of-type {\n",
       "        vertical-align: middle;\n",
       "    }\n",
       "\n",
       "    .dataframe tbody tr th {\n",
       "        vertical-align: top;\n",
       "    }\n",
       "\n",
       "    .dataframe thead th {\n",
       "        text-align: right;\n",
       "    }\n",
       "</style>\n",
       "<table border=\"1\" class=\"dataframe\">\n",
       "  <thead>\n",
       "    <tr style=\"text-align: right;\">\n",
       "      <th></th>\n",
       "      <th>Date</th>\n",
       "      <th>Temperature</th>\n",
       "      <th>Damage</th>\n",
       "    </tr>\n",
       "  </thead>\n",
       "  <tbody>\n",
       "    <tr>\n",
       "      <th>0</th>\n",
       "      <td>04/12/1981</td>\n",
       "      <td>66</td>\n",
       "      <td>0</td>\n",
       "    </tr>\n",
       "    <tr>\n",
       "      <th>1</th>\n",
       "      <td>11/12/1981</td>\n",
       "      <td>70</td>\n",
       "      <td>1</td>\n",
       "    </tr>\n",
       "    <tr>\n",
       "      <th>2</th>\n",
       "      <td>3/22/82</td>\n",
       "      <td>69</td>\n",
       "      <td>0</td>\n",
       "    </tr>\n",
       "    <tr>\n",
       "      <th>4</th>\n",
       "      <td>01/11/1982</td>\n",
       "      <td>68</td>\n",
       "      <td>0</td>\n",
       "    </tr>\n",
       "    <tr>\n",
       "      <th>5</th>\n",
       "      <td>04/04/1983</td>\n",
       "      <td>67</td>\n",
       "      <td>0</td>\n",
       "    </tr>\n",
       "  </tbody>\n",
       "</table>\n",
       "</div>"
      ],
      "text/plain": [
       "         Date  Temperature  Damage\n",
       "0  04/12/1981           66       0\n",
       "1  11/12/1981           70       1\n",
       "2     3/22/82           69       0\n",
       "4  01/11/1982           68       0\n",
       "5  04/04/1983           67       0"
      ]
     },
     "execution_count": 10,
     "metadata": {},
     "output_type": "execute_result"
    }
   ],
   "source": [
    "data.head()"
   ]
  },
  {
   "cell_type": "markdown",
   "metadata": {},
   "source": [
    "The columns are:\n",
    "\n",
    "* `Date`: The date of launch,\n",
    "\n",
    "* `Temperature`: Outside temperature in Fahrenheit, and\n",
    "\n",
    "* `Damage`: `1` if there was a damage incident and `0` otherwise.\n",
    "\n",
    "There are 23 launches in the dataset, 7 with damage incidents."
   ]
  },
  {
   "cell_type": "code",
   "execution_count": 11,
   "metadata": {
    "execution": {
     "iopub.execute_input": "2021-04-16T19:38:26.344781Z",
     "iopub.status.busy": "2021-04-16T19:38:26.344171Z",
     "iopub.status.idle": "2021-04-16T19:38:26.346506Z",
     "shell.execute_reply": "2021-04-16T19:38:26.346873Z"
    },
    "tags": [
     "hide-cell"
    ]
   },
   "outputs": [
    {
     "data": {
      "text/plain": [
       "(23, 7)"
      ]
     },
     "execution_count": 11,
     "metadata": {},
     "output_type": "execute_result"
    }
   ],
   "source": [
    "len(data), data['Damage'].sum()"
   ]
  },
  {
   "cell_type": "markdown",
   "metadata": {},
   "source": [
    "The following figure shows the relationship between damage and temperature."
   ]
  },
  {
   "cell_type": "code",
   "execution_count": 12,
   "metadata": {
    "execution": {
     "iopub.execute_input": "2021-04-16T19:38:26.351213Z",
     "iopub.status.busy": "2021-04-16T19:38:26.350559Z",
     "iopub.status.idle": "2021-04-16T19:38:26.352430Z",
     "shell.execute_reply": "2021-04-16T19:38:26.352901Z"
    },
    "tags": [
     "hide-input"
    ]
   },
   "outputs": [],
   "source": [
    "import matplotlib.pyplot as plt\n",
    "from utils import decorate\n",
    "\n",
    "def plot_data(data):\n",
    "    \"\"\"Plot damage as a function of temperature.\n",
    "    \n",
    "    data: DataFrame\n",
    "    \"\"\"\n",
    "    plt.plot(data['Temperature'], data['Damage'], 'o', \n",
    "             label='data', color='C0', alpha=0.4)\n",
    "\n",
    "    decorate(ylabel=\"Probability of damage\",\n",
    "         xlabel=\"Outside temperature (deg F)\",\n",
    "         title=\"Damage to O-Rings vs Temperature\")"
   ]
  },
  {
   "cell_type": "code",
   "execution_count": 13,
   "metadata": {
    "execution": {
     "iopub.execute_input": "2021-04-16T19:38:26.377386Z",
     "iopub.status.busy": "2021-04-16T19:38:26.375736Z",
     "iopub.status.idle": "2021-04-16T19:38:26.539333Z",
     "shell.execute_reply": "2021-04-16T19:38:26.539705Z"
    },
    "tags": [
     "hide-input"
    ]
   },
   "outputs": [
    {
     "data": {
      "image/png": "[encoded data removed]",
      "text/plain": [
       "<Figure size 480x360 with 1 Axes>"
      ]
     },
     "metadata": {},
     "output_type": "display_data"
    }
   ],
   "source": [
    "plot_data(data)"
   ]
  },
  {
   "cell_type": "markdown",
   "metadata": {},
   "source": [
    "When the outside temperature was below 65 degrees, there was always damage to the O-rings.  When the temperature was above 65 degrees, there was usually no damage.  \n",
    "\n",
    "Based on this figure, it seems plausible that the probability of damage is related to temperature.  If we assume this probability follows a logistic model, we can write:\n",
    "\n",
    "$$\\log O(H | x) = \\beta_0 + \\beta_1 x$$\n",
    "\n",
    "where $H$ is the hypothesis that the O-rings will be damaged, $x$ is temperature, and $\\beta_0$ and $\\beta_1$ are the parameters we will estimate. \n",
    "For reasons I'll explain soon, I'll define $x$ to be temperature shifted by an offset so its mean is 0."
   ]
  },
  {
   "cell_type": "code",
   "execution_count": 14,
   "metadata": {
    "execution": {
     "iopub.execute_input": "2021-04-16T19:38:26.544959Z",
     "iopub.status.busy": "2021-04-16T19:38:26.544346Z",
     "iopub.status.idle": "2021-04-16T19:38:26.546780Z",
     "shell.execute_reply": "2021-04-16T19:38:26.547156Z"
    }
   },
   "outputs": [
    {
     "data": {
      "text/plain": [
       "70.0"
      ]
     },
     "execution_count": 14,
     "metadata": {},
     "output_type": "execute_result"
    }
   ],
   "source": [
    "offset = data['Temperature'].mean().round()\n",
    "data['x'] = data['Temperature'] - offset\n",
    "offset"
   ]
  },
  {
   "cell_type": "markdown",
   "metadata": {},
   "source": [
    "And for consistency I'll create a copy of the `Damage` columns called `y`."
   ]
  },
  {
   "cell_type": "code",
   "execution_count": 15,
   "metadata": {
    "execution": {
     "iopub.execute_input": "2021-04-16T19:38:26.551824Z",
     "iopub.status.busy": "2021-04-16T19:38:26.551182Z",
     "iopub.status.idle": "2021-04-16T19:38:26.553050Z",
     "shell.execute_reply": "2021-04-16T19:38:26.552686Z"
    }
   },
   "outputs": [],
   "source": [
    "data['y'] = data['Damage']"
   ]
  },
  {
   "cell_type": "markdown",
   "metadata": {},
   "source": [
    "Before doing a Bayesian update, I'll use `statsmodels` to run a conventional (non-Bayesian) logistic regression."
   ]
  },
  {
   "cell_type": "code",
   "execution_count": 16,
   "metadata": {
    "execution": {
     "iopub.execute_input": "2021-04-16T19:38:26.556723Z",
     "iopub.status.busy": "2021-04-16T19:38:26.556283Z",
     "iopub.status.idle": "2021-04-16T19:38:26.653752Z",
     "shell.execute_reply": "2021-04-16T19:38:26.654444Z"
    }
   },
   "outputs": [
    {
     "data": {
      "text/plain": [
       "Intercept   -1.208490\n",
       "x           -0.232163\n",
       "dtype: float64"
      ]
     },
     "execution_count": 16,
     "metadata": {},
     "output_type": "execute_result"
    }
   ],
   "source": [
    "import statsmodels.formula.api as smf\n",
    "\n",
    "formula = 'y ~ x'\n",
    "results = smf.logit(formula, data=data).fit(disp=False)\n",
    "results.params"
   ]
  },
  {
   "cell_type": "markdown",
   "metadata": {},
   "source": [
    "`results` contains a \"point estimate\" for each parameter, that is, a single value rather than a posterior distribution.\n",
    "\n",
    "The intercept is about -1.2, and the estimated slope is about -0.23.\n",
    "To see what these parameters mean, I'll use them to compute probabilities for a range of temperatures.\n",
    "Here's the range:"
   ]
  },
  {
   "cell_type": "code",
   "execution_count": 17,
   "metadata": {
    "execution": {
     "iopub.execute_input": "2021-04-16T19:38:26.658872Z",
     "iopub.status.busy": "2021-04-16T19:38:26.658212Z",
     "iopub.status.idle": "2021-04-16T19:38:26.659739Z",
     "shell.execute_reply": "2021-04-16T19:38:26.660206Z"
    }
   },
   "outputs": [],
   "source": [
    "inter = results.params['Intercept']\n",
    "slope = results.params['x']\n",
    "xs = np.arange(53, 83) - offset"
   ]
  },
  {
   "cell_type": "markdown",
   "metadata": {},
   "source": [
    "We can use the logistic regression equation to compute log odds:"
   ]
  },
  {
   "cell_type": "code",
   "execution_count": 18,
   "metadata": {
    "execution": {
     "iopub.execute_input": "2021-04-16T19:38:26.663361Z",
     "iopub.status.busy": "2021-04-16T19:38:26.662872Z",
     "iopub.status.idle": "2021-04-16T19:38:26.664680Z",
     "shell.execute_reply": "2021-04-16T19:38:26.665027Z"
    }
   },
   "outputs": [],
   "source": [
    "log_odds = inter + slope * xs"
   ]
  },
  {
   "cell_type": "markdown",
   "metadata": {},
   "source": [
    "And then convert to probabilities."
   ]
  },
  {
   "cell_type": "code",
   "execution_count": 19,
   "metadata": {
    "execution": {
     "iopub.execute_input": "2021-04-16T19:38:26.669129Z",
     "iopub.status.busy": "2021-04-16T19:38:26.668548Z",
     "iopub.status.idle": "2021-04-16T19:38:26.670462Z",
     "shell.execute_reply": "2021-04-16T19:38:26.670813Z"
    }
   },
   "outputs": [],
   "source": [
    "odds = np.exp(log_odds)\n",
    "ps = odds / (odds + 1)"
   ]
  },
  {
   "cell_type": "code",
   "execution_count": 20,
   "metadata": {
    "execution": {
     "iopub.execute_input": "2021-04-16T19:38:26.674977Z",
     "iopub.status.busy": "2021-04-16T19:38:26.674329Z",
     "iopub.status.idle": "2021-04-16T19:38:26.677300Z",
     "shell.execute_reply": "2021-04-16T19:38:26.676899Z"
    },
    "tags": [
     "hide-cell"
    ]
   },
   "outputs": [
    {
     "data": {
      "text/plain": [
       "0.4155141126966854"
      ]
     },
     "execution_count": 20,
     "metadata": {},
     "output_type": "execute_result"
    }
   ],
   "source": [
    "ps.mean()"
   ]
  },
  {
   "cell_type": "markdown",
   "metadata": {},
   "source": [
    "Converting log odds to probabilities is a common enough operation that it has a name, `expit`, and SciPy provides a function that computes it."
   ]
  },
  {
   "cell_type": "code",
   "execution_count": 21,
   "metadata": {
    "execution": {
     "iopub.execute_input": "2021-04-16T19:38:26.680515Z",
     "iopub.status.busy": "2021-04-16T19:38:26.679998Z",
     "iopub.status.idle": "2021-04-16T19:38:26.681836Z",
     "shell.execute_reply": "2021-04-16T19:38:26.682186Z"
    }
   },
   "outputs": [],
   "source": [
    "from scipy.special import expit\n",
    "\n",
    "ps = expit(inter + slope * xs)"
   ]
  },
  {
   "cell_type": "code",
   "execution_count": 22,
   "metadata": {
    "execution": {
     "iopub.execute_input": "2021-04-16T19:38:26.686495Z",
     "iopub.status.busy": "2021-04-16T19:38:26.685764Z",
     "iopub.status.idle": "2021-04-16T19:38:26.688417Z",
     "shell.execute_reply": "2021-04-16T19:38:26.688761Z"
    },
    "tags": [
     "hide-cell"
    ]
   },
   "outputs": [
    {
     "data": {
      "text/plain": [
       "0.4155141126966854"
      ]
     },
     "execution_count": 22,
     "metadata": {},
     "output_type": "execute_result"
    }
   ],
   "source": [
    "ps.mean()"
   ]
  },
  {
   "cell_type": "markdown",
   "metadata": {},
   "source": [
    "Here's what the logistic model looks like with these estimated parameters."
   ]
  },
  {
   "cell_type": "code",
   "execution_count": 23,
   "metadata": {
    "execution": {
     "iopub.execute_input": "2021-04-16T19:38:26.721519Z",
     "iopub.status.busy": "2021-04-16T19:38:26.713387Z",
     "iopub.status.idle": "2021-04-16T19:38:26.868735Z",
     "shell.execute_reply": "2021-04-16T19:38:26.869085Z"
    },
    "tags": [
     "hide-input"
    ]
   },
   "outputs": [
    {
     "data": {
      "image/png": "[encoded data removed]",
      "text/plain": [
       "<Figure size 480x360 with 1 Axes>"
      ]
     },
     "metadata": {},
     "output_type": "display_data"
    }
   ],
   "source": [
    "plt.plot(xs+offset, ps, label='model', color='C1')\n",
    "\n",
    "plot_data(data)"
   ]
  },
  {
   "cell_type": "markdown",
   "metadata": {},
   "source": [
    "At low temperatures, the probability of damage is high; at high temperatures, it drops off to near 0.\n",
    "\n",
    "But that's based on conventional logistic regression.\n",
    "Now we'll do the Bayesian version."
   ]
  },
  {
   "cell_type": "markdown",
   "metadata": {},
   "source": [
    "## Prior Distribution\n",
    "\n",
    "I'll use uniform distributions for both parameters, using the point estimates from the previous section to help me choose the upper and lower bounds."
   ]
  },
  {
   "cell_type": "code",
   "execution_count": 24,
   "metadata": {
    "execution": {
     "iopub.execute_input": "2021-04-16T19:38:26.873506Z",
     "iopub.status.busy": "2021-04-16T19:38:26.873050Z",
     "iopub.status.idle": "2021-04-16T19:38:26.874679Z",
     "shell.execute_reply": "2021-04-16T19:38:26.875082Z"
    }
   },
   "outputs": [],
   "source": [
    "from utils import make_uniform\n",
    "\n",
    "qs = np.linspace(-5, 1, num=101)\n",
    "prior_inter = make_uniform(qs, 'Intercept')"
   ]
  },
  {
   "cell_type": "code",
   "execution_count": 25,
   "metadata": {
    "execution": {
     "iopub.execute_input": "2021-04-16T19:38:26.879810Z",
     "iopub.status.busy": "2021-04-16T19:38:26.879215Z",
     "iopub.status.idle": "2021-04-16T19:38:26.881814Z",
     "shell.execute_reply": "2021-04-16T19:38:26.881223Z"
    }
   },
   "outputs": [],
   "source": [
    "qs = np.linspace(-0.8, 0.1, num=101)\n",
    "prior_slope = make_uniform(qs, 'Slope')"
   ]
  },
  {
   "cell_type": "markdown",
   "metadata": {},
   "source": [
    "We can use `make_joint` to construct the joint prior distribution."
   ]
  },
  {
   "cell_type": "code",
   "execution_count": 26,
   "metadata": {
    "execution": {
     "iopub.execute_input": "2021-04-16T19:38:26.886165Z",
     "iopub.status.busy": "2021-04-16T19:38:26.885306Z",
     "iopub.status.idle": "2021-04-16T19:38:26.888349Z",
     "shell.execute_reply": "2021-04-16T19:38:26.888913Z"
    }
   },
   "outputs": [],
   "source": [
    "from utils import make_joint\n",
    "\n",
    "joint = make_joint(prior_inter, prior_slope)"
   ]
  },
  {
   "cell_type": "markdown",
   "metadata": {},
   "source": [
    "The values of `intercept` run across the columns, the values of `slope` run down the rows. \n",
    "\n",
    "For this problem, it will be convenient to \"stack\" the prior so the parameters are levels in a `MultiIndex`, and put the result in a `Pmf`."
   ]
  },
  {
   "cell_type": "code",
   "execution_count": 27,
   "metadata": {
    "execution": {
     "iopub.execute_input": "2021-04-16T19:38:26.893411Z",
     "iopub.status.busy": "2021-04-16T19:38:26.892775Z",
     "iopub.status.idle": "2021-04-16T19:38:26.903269Z",
     "shell.execute_reply": "2021-04-16T19:38:26.903689Z"
    },
    "scrolled": true
   },
   "outputs": [
    {
     "data": {
      "text/html": [
       "<div>\n",
       "<style scoped>\n",
       "    .dataframe tbody tr th:only-of-type {\n",
       "        vertical-align: middle;\n",
       "    }\n",
       "\n",
       "    .dataframe tbody tr th {\n",
       "        vertical-align: top;\n",
       "    }\n",
       "\n",
       "    .dataframe thead th {\n",
       "        text-align: right;\n",
       "    }\n",
       "</style>\n",
       "<table border=\"1\" class=\"dataframe\">\n",
       "  <thead>\n",
       "    <tr style=\"text-align: right;\">\n",
       "      <th></th>\n",
       "      <th></th>\n",
       "      <th>probs</th>\n",
       "    </tr>\n",
       "    <tr>\n",
       "      <th>Slope</th>\n",
       "      <th>Intercept</th>\n",
       "      <th></th>\n",
       "    </tr>\n",
       "  </thead>\n",
       "  <tbody>\n",
       "    <tr>\n",
       "      <th rowspan=\"3\" valign=\"top\">-0.8</th>\n",
       "      <th>-5.00</th>\n",
       "      <td>0.000098</td>\n",
       "    </tr>\n",
       "    <tr>\n",
       "      <th>-4.94</th>\n",
       "      <td>0.000098</td>\n",
       "    </tr>\n",
       "    <tr>\n",
       "      <th>-4.88</th>\n",
       "      <td>0.000098</td>\n",
       "    </tr>\n",
       "  </tbody>\n",
       "</table>\n",
       "</div>"
      ],
      "text/plain": [
       "Slope  Intercept\n",
       "-0.8   -5.00        0.000098\n",
       "       -4.94        0.000098\n",
       "       -4.88        0.000098\n",
       "dtype: float64"
      ]
     },
     "execution_count": 27,
     "metadata": {},
     "output_type": "execute_result"
    }
   ],
   "source": [
    "from empiricaldist import Pmf\n",
    "\n",
    "joint_pmf = Pmf(joint.stack())\n",
    "joint_pmf.head()"
   ]
  },
  {
   "cell_type": "markdown",
   "metadata": {},
   "source": [
    "`joint_pmf` is a `Pmf` with two levels in the index, one for each parameter.  That makes it easy to loop through possible pairs of parameters, as we'll see in the next section."
   ]
  },
  {
   "cell_type": "markdown",
   "metadata": {},
   "source": [
    "## Likelihood\n",
    "\n",
    "To do the update, we have to compute the likelihood of the data for each possible pair of parameters.  \n",
    "\n",
    "To make that easier, I'm going to group the data by temperature, `x`, and count the number of launches and damage incidents at each temperature."
   ]
  },
  {
   "cell_type": "code",
   "execution_count": 28,
   "metadata": {
    "execution": {
     "iopub.execute_input": "2021-04-16T19:38:26.912916Z",
     "iopub.status.busy": "2021-04-16T19:38:26.912220Z",
     "iopub.status.idle": "2021-04-16T19:38:26.914799Z",
     "shell.execute_reply": "2021-04-16T19:38:26.915141Z"
    }
   },
   "outputs": [
    {
     "data": {
      "text/html": [
       "<div>\n",
       "<style scoped>\n",
       "    .dataframe tbody tr th:only-of-type {\n",
       "        vertical-align: middle;\n",
       "    }\n",
       "\n",
       "    .dataframe tbody tr th {\n",
       "        vertical-align: top;\n",
       "    }\n",
       "\n",
       "    .dataframe thead th {\n",
       "        text-align: right;\n",
       "    }\n",
       "</style>\n",
       "<table border=\"1\" class=\"dataframe\">\n",
       "  <thead>\n",
       "    <tr style=\"text-align: right;\">\n",
       "      <th></th>\n",
       "      <th>count</th>\n",
       "      <th>sum</th>\n",
       "    </tr>\n",
       "    <tr>\n",
       "      <th>x</th>\n",
       "      <th></th>\n",
       "      <th></th>\n",
       "    </tr>\n",
       "  </thead>\n",
       "  <tbody>\n",
       "    <tr>\n",
       "      <th>-17.0</th>\n",
       "      <td>1</td>\n",
       "      <td>1</td>\n",
       "    </tr>\n",
       "    <tr>\n",
       "      <th>-13.0</th>\n",
       "      <td>1</td>\n",
       "      <td>1</td>\n",
       "    </tr>\n",
       "    <tr>\n",
       "      <th>-12.0</th>\n",
       "      <td>1</td>\n",
       "      <td>1</td>\n",
       "    </tr>\n",
       "    <tr>\n",
       "      <th>-7.0</th>\n",
       "      <td>1</td>\n",
       "      <td>1</td>\n",
       "    </tr>\n",
       "    <tr>\n",
       "      <th>-4.0</th>\n",
       "      <td>1</td>\n",
       "      <td>0</td>\n",
       "    </tr>\n",
       "  </tbody>\n",
       "</table>\n",
       "</div>"
      ],
      "text/plain": [
       "       count  sum\n",
       "x                \n",
       "-17.0      1    1\n",
       "-13.0      1    1\n",
       "-12.0      1    1\n",
       "-7.0       1    1\n",
       "-4.0       1    0"
      ]
     },
     "execution_count": 28,
     "metadata": {},
     "output_type": "execute_result"
    }
   ],
   "source": [
    "grouped = data.groupby('x')['y'].agg(['count', 'sum'])\n",
    "grouped.head()"
   ]
  },
  {
   "cell_type": "markdown",
   "metadata": {},
   "source": [
    "The result is a `DataFrame` with two columns: `count` is the number of launches at each temperature; `sum` is the number of damage incidents.\n",
    "To be consistent with the parameters of the binomial distributions, I'll assign them to variables named `ns` and `ks`."
   ]
  },
  {
   "cell_type": "code",
   "execution_count": 29,
   "metadata": {
    "execution": {
     "iopub.execute_input": "2021-04-16T19:38:26.918795Z",
     "iopub.status.busy": "2021-04-16T19:38:26.918351Z",
     "iopub.status.idle": "2021-04-16T19:38:26.921291Z",
     "shell.execute_reply": "2021-04-16T19:38:26.921680Z"
    }
   },
   "outputs": [],
   "source": [
    "ns = grouped['count']\n",
    "ks = grouped['sum']"
   ]
  },
  {
   "cell_type": "markdown",
   "metadata": {},
   "source": [
    "To compute the likelihood of the data, let's assume temporarily that the parameters we just estimated, `slope` and `inter`,  are correct.\n",
    "\n",
    "We can use them to compute the probability of damage at each launch temperature, like this:"
   ]
  },
  {
   "cell_type": "code",
   "execution_count": 30,
   "metadata": {
    "execution": {
     "iopub.execute_input": "2021-04-16T19:38:26.926525Z",
     "iopub.status.busy": "2021-04-16T19:38:26.925797Z",
     "iopub.status.idle": "2021-04-16T19:38:26.928357Z",
     "shell.execute_reply": "2021-04-16T19:38:26.927886Z"
    }
   },
   "outputs": [],
   "source": [
    "xs = grouped.index\n",
    "ps = expit(inter + slope * xs)"
   ]
  },
  {
   "cell_type": "markdown",
   "metadata": {},
   "source": [
    "`ps` contains the probability of damage for each launch temperature, according to the model.\n",
    "\n",
    "Now, for each temperature we have `ns`, `ps`, and `ks`;\n",
    "we can use the binomial distribution to compute the likelihood of the data."
   ]
  },
  {
   "cell_type": "code",
   "execution_count": 31,
   "metadata": {
    "execution": {
     "iopub.execute_input": "2021-04-16T19:38:26.933354Z",
     "iopub.status.busy": "2021-04-16T19:38:26.932684Z",
     "iopub.status.idle": "2021-04-16T19:38:26.936244Z",
     "shell.execute_reply": "2021-04-16T19:38:26.935625Z"
    }
   },
   "outputs": [
    {
     "data": {
      "text/plain": [
       "array([0.93924781, 0.85931657, 0.82884484, 0.60268105, 0.56950687,\n",
       "       0.24446388, 0.67790595, 0.72637895, 0.18815003, 0.8419509 ,\n",
       "       0.87045398, 0.15645171, 0.86667894, 0.95545945, 0.96435859,\n",
       "       0.97729671])"
      ]
     },
     "execution_count": 31,
     "metadata": {},
     "output_type": "execute_result"
    }
   ],
   "source": [
    "from scipy.stats import binom\n",
    "\n",
    "likes = binom.pmf(ks, ns, ps)\n",
    "likes"
   ]
  },
  {
   "cell_type": "markdown",
   "metadata": {},
   "source": [
    "Each element of `likes` is the probability of seeing `k` damage incidents in `n` launches if the probability of damage is `p`. \n",
    "The likelihood of the whole dataset is the product of this array."
   ]
  },
  {
   "cell_type": "code",
   "execution_count": 32,
   "metadata": {
    "execution": {
     "iopub.execute_input": "2021-04-16T19:38:26.940573Z",
     "iopub.status.busy": "2021-04-16T19:38:26.939892Z",
     "iopub.status.idle": "2021-04-16T19:38:26.942720Z",
     "shell.execute_reply": "2021-04-16T19:38:26.942333Z"
    }
   },
   "outputs": [
    {
     "data": {
      "text/plain": [
       "0.0004653644508250075"
      ]
     },
     "execution_count": 32,
     "metadata": {},
     "output_type": "execute_result"
    }
   ],
   "source": [
    "likes.prod()"
   ]
  },
  {
   "cell_type": "markdown",
   "metadata": {},
   "source": [
    "That's how we compute the likelihood of the data for a particular pair of parameters.\n",
    "Now we can compute the likelihood of the data for all possible pairs:"
   ]
  },
  {
   "cell_type": "code",
   "execution_count": 33,
   "metadata": {
    "execution": {
     "iopub.execute_input": "2021-04-16T19:38:26.946360Z",
     "iopub.status.busy": "2021-04-16T19:38:26.945917Z",
     "iopub.status.idle": "2021-04-16T19:38:34.860085Z",
     "shell.execute_reply": "2021-04-16T19:38:34.860511Z"
    }
   },
   "outputs": [],
   "source": [
    "likelihood = joint_pmf.copy()\n",
    "for slope, inter in joint_pmf.index:\n",
    "    ps = expit(inter + slope * xs)\n",
    "    likes = binom.pmf(ks, ns, ps)\n",
    "    likelihood[slope, inter] = likes.prod() "
   ]
  },
  {
   "cell_type": "markdown",
   "metadata": {},
   "source": [
    "To initialize `likelihood`, we make a copy of `joint_pmf`, which is a convenient way to make sure that `likelihood` has the same type, index, and data type as `joint_pmf`.\n",
    "\n",
    "The loop iterates through the parameters.  For each possible pair, it uses the logistic model to compute `ps`, computes the likelihood of the data, and assigns the result to a row in `likelihood`."
   ]
  },
  {
   "cell_type": "markdown",
   "metadata": {},
   "source": [
    "## The Update\n",
    "\n",
    "Now we can compute the posterior distribution in the usual way."
   ]
  },
  {
   "cell_type": "code",
   "execution_count": 34,
   "metadata": {
    "execution": {
     "iopub.execute_input": "2021-04-16T19:38:34.863714Z",
     "iopub.status.busy": "2021-04-16T19:38:34.863152Z",
     "iopub.status.idle": "2021-04-16T19:38:34.867418Z",
     "shell.execute_reply": "2021-04-16T19:38:34.867814Z"
    },
    "tags": [
     "remove-output"
    ]
   },
   "outputs": [
    {
     "data": {
      "text/plain": [
       "3.508992289655618e-05"
      ]
     },
     "execution_count": 34,
     "metadata": {},
     "output_type": "execute_result"
    }
   ],
   "source": [
    "posterior_pmf = joint_pmf * likelihood\n",
    "posterior_pmf.normalize()"
   ]
  },
  {
   "cell_type": "markdown",
   "metadata": {
    "tags": [
     "hide-cell"
    ]
   },
   "source": [
    "Because we used a uniform prior, the parameter pair with the highest likelihood is also the pair with maximum posterior probability:"
   ]
  },
  {
   "cell_type": "code",
   "execution_count": 35,
   "metadata": {
    "execution": {
     "iopub.execute_input": "2021-04-16T19:38:34.872485Z",
     "iopub.status.busy": "2021-04-16T19:38:34.872013Z",
     "iopub.status.idle": "2021-04-16T19:38:34.874484Z",
     "shell.execute_reply": "2021-04-16T19:38:34.874945Z"
    },
    "tags": [
     "hide-cell"
    ]
   },
   "outputs": [
    {
     "data": {
      "text/plain": [
       "slope   -0.233\n",
       "inter   -1.220\n",
       "dtype: float64"
      ]
     },
     "execution_count": 35,
     "metadata": {},
     "output_type": "execute_result"
    }
   ],
   "source": [
    "pd.Series(posterior_pmf.max_prob(),\n",
    "          index=['slope', 'inter'])"
   ]
  },
  {
   "cell_type": "markdown",
   "metadata": {
    "tags": [
     "hide-cell"
    ]
   },
   "source": [
    "So we can confirm that the results of the Bayesian update are consistent with the maximum likelihood estimate computed by StatsModels:"
   ]
  },
  {
   "cell_type": "code",
   "execution_count": 36,
   "metadata": {
    "execution": {
     "iopub.execute_input": "2021-04-16T19:38:34.880523Z",
     "iopub.status.busy": "2021-04-16T19:38:34.879715Z",
     "iopub.status.idle": "2021-04-16T19:38:34.883154Z",
     "shell.execute_reply": "2021-04-16T19:38:34.882675Z"
    },
    "tags": [
     "hide-cell"
    ]
   },
   "outputs": [
    {
     "data": {
      "text/plain": [
       "Intercept   -1.208490\n",
       "x           -0.232163\n",
       "dtype: float64"
      ]
     },
     "execution_count": 36,
     "metadata": {},
     "output_type": "execute_result"
    }
   ],
   "source": [
    "results.params"
   ]
  },
  {
   "cell_type": "markdown",
   "metadata": {
    "tags": [
     "hide-cell"
    ]
   },
   "source": [
    "They are approximately the same, within the precision of the grid we're using."
   ]
  },
  {
   "cell_type": "markdown",
   "metadata": {},
   "source": [
    "If we unstack the posterior `Pmf` we can make a contour plot of the joint posterior distribution."
   ]
  },
  {
   "cell_type": "code",
   "execution_count": 37,
   "metadata": {
    "execution": {
     "iopub.execute_input": "2021-04-16T19:38:34.886928Z",
     "iopub.status.busy": "2021-04-16T19:38:34.886352Z",
     "iopub.status.idle": "2021-04-16T19:38:35.067060Z",
     "shell.execute_reply": "2021-04-16T19:38:35.066613Z"
    }
   },
   "outputs": [
    {
     "data": {
      "image/png": "[encoded data removed]",
      "text/plain": [
       "<Figure size 480x360 with 1 Axes>"
      ]
     },
     "metadata": {},
     "output_type": "display_data"
    }
   ],
   "source": [
    "from utils import plot_contour\n",
    "\n",
    "joint_posterior = posterior_pmf.unstack()\n",
    "plot_contour(joint_posterior)\n",
    "decorate(title='Joint posterior distribution')"
   ]
  },
  {
   "cell_type": "markdown",
   "metadata": {},
   "source": [
    "The ovals in the contour plot are aligned along a diagonal, which indicates that there is some correlation between `slope` and `inter` in the posterior distribution.\n",
    "\n",
    "But the correlation is weak, which is one of the reasons we subtracted off the mean launch temperature when we computed `x`; centering the data minimizes the correlation between the parameters."
   ]
  },
  {
   "cell_type": "markdown",
   "metadata": {},
   "source": [
    "**Exercise:** To see why this matters, go back and set `offset=60` and run the analysis again.\n",
    "The slope should be the same, but the intercept will be different.  And if you plot the joint distribution, the contours you get will be elongated, indicating stronger correlation between the estimated parameters.  \n",
    "\n",
    "In theory, this correlation is not a problem, but in practice it is.  With uncentered data, the posterior distribution is more spread out, so it's harder to cover with the joint prior distribution.\n",
    "Centering the data maximizes the precision of the estimates; with uncentered data, we have to do more computation to get the same precision."
   ]
  },
  {
   "cell_type": "markdown",
   "metadata": {},
   "source": [
    "## Marginal Distributions\n",
    "\n",
    "Finally, we can extract the marginal distributions."
   ]
  },
  {
   "cell_type": "code",
   "execution_count": 38,
   "metadata": {
    "execution": {
     "iopub.execute_input": "2021-04-16T19:38:35.070494Z",
     "iopub.status.busy": "2021-04-16T19:38:35.069973Z",
     "iopub.status.idle": "2021-04-16T19:38:35.073573Z",
     "shell.execute_reply": "2021-04-16T19:38:35.073138Z"
    }
   },
   "outputs": [],
   "source": [
    "from utils import marginal\n",
    "\n",
    "marginal_inter = marginal(joint_posterior, 0)\n",
    "marginal_slope = marginal(joint_posterior, 1)"
   ]
  },
  {
   "cell_type": "markdown",
   "metadata": {},
   "source": [
    "Here's the posterior distribution of `inter`."
   ]
  },
  {
   "cell_type": "code",
   "execution_count": 39,
   "metadata": {
    "execution": {
     "iopub.execute_input": "2021-04-16T19:38:35.077181Z",
     "iopub.status.busy": "2021-04-16T19:38:35.076447Z",
     "iopub.status.idle": "2021-04-16T19:38:35.253563Z",
     "shell.execute_reply": "2021-04-16T19:38:35.253980Z"
    },
    "tags": [
     "hide-input"
    ]
   },
   "outputs": [
    {
     "data": {
      "image/png": "[encoded data removed]",
      "text/plain": [
       "<Figure size 480x360 with 1 Axes>"
      ]
     },
     "metadata": {},
     "output_type": "display_data"
    }
   ],
   "source": [
    "\n",
    "marginal_inter.plot(label='intercept', color='C4')\n",
    "\n",
    "decorate(xlabel='Intercept',\n",
    "         ylabel='PDF',\n",
    "         title='Posterior marginal distribution of intercept')"
   ]
  },
  {
   "cell_type": "markdown",
   "metadata": {},
   "source": [
    "And here's the posterior distribution of `slope`."
   ]
  },
  {
   "cell_type": "code",
   "execution_count": 40,
   "metadata": {
    "execution": {
     "iopub.execute_input": "2021-04-16T19:38:35.271746Z",
     "iopub.status.busy": "2021-04-16T19:38:35.269364Z",
     "iopub.status.idle": "2021-04-16T19:38:35.390642Z",
     "shell.execute_reply": "2021-04-16T19:38:35.390282Z"
    },
    "tags": [
     "hide-input"
    ]
   },
   "outputs": [
    {
     "data": {
      "image/png": "[encoded data removed]",
      "text/plain": [
       "<Figure size 480x360 with 1 Axes>"
      ]
     },
     "metadata": {},
     "output_type": "display_data"
    }
   ],
   "source": [
    "marginal_slope.plot(label='slope', color='C2')\n",
    "\n",
    "decorate(xlabel='Slope',\n",
    "         ylabel='PDF',\n",
    "         title='Posterior marginal distribution of slope')"
   ]
  },
  {
   "cell_type": "markdown",
   "metadata": {
    "tags": [
     "hide-cell"
    ]
   },
   "source": [
    "Here are the posterior means."
   ]
  },
  {
   "cell_type": "code",
   "execution_count": 41,
   "metadata": {
    "execution": {
     "iopub.execute_input": "2021-04-16T19:38:35.395199Z",
     "iopub.status.busy": "2021-04-16T19:38:35.394775Z",
     "iopub.status.idle": "2021-04-16T19:38:35.399340Z",
     "shell.execute_reply": "2021-04-16T19:38:35.399833Z"
    },
    "tags": [
     "hide-cell"
    ]
   },
   "outputs": [
    {
     "data": {
      "text/plain": [
       "inter   -1.376107\n",
       "slope   -0.289795\n",
       "dtype: float64"
      ]
     },
     "execution_count": 41,
     "metadata": {},
     "output_type": "execute_result"
    }
   ],
   "source": [
    "pd.Series([marginal_inter.mean(), marginal_slope.mean()],\n",
    "          index=['inter', 'slope'])"
   ]
  },
  {
   "cell_type": "markdown",
   "metadata": {
    "tags": [
     "hide-cell"
    ]
   },
   "source": [
    "Both marginal distributions are moderately skewed, so the posterior means are somewhat different from the point estimates."
   ]
  },
  {
   "cell_type": "code",
   "execution_count": 42,
   "metadata": {
    "execution": {
     "iopub.execute_input": "2021-04-16T19:38:35.405207Z",
     "iopub.status.busy": "2021-04-16T19:38:35.404499Z",
     "iopub.status.idle": "2021-04-16T19:38:35.410903Z",
     "shell.execute_reply": "2021-04-16T19:38:35.410418Z"
    },
    "tags": [
     "hide-cell"
    ]
   },
   "outputs": [
    {
     "data": {
      "text/plain": [
       "Intercept   -1.208490\n",
       "x           -0.232163\n",
       "dtype: float64"
      ]
     },
     "execution_count": 42,
     "metadata": {},
     "output_type": "execute_result"
    }
   ],
   "source": [
    "results.params"
   ]
  },
  {
   "cell_type": "markdown",
   "metadata": {},
   "source": [
    "## Transforming Distributions\n",
    "\n",
    "Let's interpret these parameters.  Recall that the intercept is the log odds of the hypothesis when $x$ is 0, which is when temperature is about 70 degrees F (the value of `offset`).\n",
    "So we can interpret the quantities in `marginal_inter` as log odds.\n",
    "\n",
    "To convert them to probabilities, I'll use the following function, which transforms the quantities in a `Pmf` by applying a given function:"
   ]
  },
  {
   "cell_type": "code",
   "execution_count": 43,
   "metadata": {
    "execution": {
     "iopub.execute_input": "2021-04-16T19:38:35.414509Z",
     "iopub.status.busy": "2021-04-16T19:38:35.414021Z",
     "iopub.status.idle": "2021-04-16T19:38:35.415544Z",
     "shell.execute_reply": "2021-04-16T19:38:35.415908Z"
    }
   },
   "outputs": [],
   "source": [
    "def transform(pmf, func):\n",
    "    \"\"\"Transform the quantities in a Pmf.\"\"\"\n",
    "    ps = pmf.ps\n",
    "    qs = func(pmf.qs)\n",
    "    return Pmf(ps, qs, copy=True)"
   ]
  },
  {
   "cell_type": "markdown",
   "metadata": {},
   "source": [
    "If we call `transform` and pass `expit` as a parameter, it transforms the log odds in `marginal_inter` into probabilities and returns the posterior distribution of `inter` expressed in terms of probabilities."
   ]
  },
  {
   "cell_type": "code",
   "execution_count": 44,
   "metadata": {
    "execution": {
     "iopub.execute_input": "2021-04-16T19:38:35.419349Z",
     "iopub.status.busy": "2021-04-16T19:38:35.418710Z",
     "iopub.status.idle": "2021-04-16T19:38:35.420387Z",
     "shell.execute_reply": "2021-04-16T19:38:35.420760Z"
    }
   },
   "outputs": [],
   "source": [
    "marginal_probs = transform(marginal_inter, expit)"
   ]
  },
  {
   "cell_type": "markdown",
   "metadata": {},
   "source": [
    "`Pmf` provides a `transform` method that does the same thing."
   ]
  },
  {
   "cell_type": "code",
   "execution_count": 45,
   "metadata": {
    "execution": {
     "iopub.execute_input": "2021-04-16T19:38:35.424448Z",
     "iopub.status.busy": "2021-04-16T19:38:35.423970Z",
     "iopub.status.idle": "2021-04-16T19:38:35.425719Z",
     "shell.execute_reply": "2021-04-16T19:38:35.426098Z"
    }
   },
   "outputs": [],
   "source": [
    "marginal_probs = marginal_inter.transform(expit)"
   ]
  },
  {
   "cell_type": "markdown",
   "metadata": {},
   "source": [
    "Here's the posterior distribution for the probability of damage at 70 degrees F."
   ]
  },
  {
   "cell_type": "code",
   "execution_count": 46,
   "metadata": {
    "execution": {
     "iopub.execute_input": "2021-04-16T19:38:35.460126Z",
     "iopub.status.busy": "2021-04-16T19:38:35.447693Z",
     "iopub.status.idle": "2021-04-16T19:38:35.601203Z",
     "shell.execute_reply": "2021-04-16T19:38:35.600469Z"
    },
    "scrolled": true,
    "tags": [
     "hide-input"
    ]
   },
   "outputs": [
    {
     "data": {
      "image/png": "[encoded data removed]",
      "text/plain": [
       "<Figure size 480x360 with 1 Axes>"
      ]
     },
     "metadata": {},
     "output_type": "display_data"
    }
   ],
   "source": [
    "marginal_probs.plot(color='C1')\n",
    "\n",
    "decorate(xlabel='Probability of damage at 70 deg F',\n",
    "         ylabel='PDF',\n",
    "         title='Posterior marginal distribution of probabilities')"
   ]
  },
  {
   "cell_type": "markdown",
   "metadata": {},
   "source": [
    "The mean of this distribution is about 22%, which is the probability of damage at 70 degrees F, according to the model."
   ]
  },
  {
   "cell_type": "code",
   "execution_count": 47,
   "metadata": {
    "execution": {
     "iopub.execute_input": "2021-04-16T19:38:35.606484Z",
     "iopub.status.busy": "2021-04-16T19:38:35.605881Z",
     "iopub.status.idle": "2021-04-16T19:38:35.611081Z",
     "shell.execute_reply": "2021-04-16T19:38:35.611456Z"
    },
    "tags": [
     "hide-cell"
    ]
   },
   "outputs": [
    {
     "data": {
      "text/plain": [
       "0.2201937884647988"
      ]
     },
     "execution_count": 47,
     "metadata": {},
     "output_type": "execute_result"
    }
   ],
   "source": [
    "mean_prob = marginal_probs.mean()\n",
    "mean_prob"
   ]
  },
  {
   "cell_type": "markdown",
   "metadata": {},
   "source": [
    "This result shows the second reason I defined `x` to be zero when temperature is 70 degrees F; this way, the intercept corresponds to the probability of damage at a relevant temperature, rather than 0 degrees F."
   ]
  },
  {
   "cell_type": "markdown",
   "metadata": {},
   "source": [
    "Now let's look more closely at the estimated slope.  In the logistic model, the parameter $\\beta_1$ is the log of the likelihood ratio.  \n",
    "\n",
    "So we can interpret the quantities in `marginal_slope` as log likelihood ratios, and we can use `exp` to transform them to likelihood ratios (also known as Bayes factors)."
   ]
  },
  {
   "cell_type": "code",
   "execution_count": 48,
   "metadata": {
    "execution": {
     "iopub.execute_input": "2021-04-16T19:38:35.618565Z",
     "iopub.status.busy": "2021-04-16T19:38:35.617954Z",
     "iopub.status.idle": "2021-04-16T19:38:35.619587Z",
     "shell.execute_reply": "2021-04-16T19:38:35.620090Z"
    }
   },
   "outputs": [],
   "source": [
    "marginal_lr = marginal_slope.transform(np.exp)"
   ]
  },
  {
   "cell_type": "markdown",
   "metadata": {},
   "source": [
    "The result is the posterior distribution of likelihood ratios; here's what it looks like."
   ]
  },
  {
   "cell_type": "code",
   "execution_count": 49,
   "metadata": {
    "execution": {
     "iopub.execute_input": "2021-04-16T19:38:35.683087Z",
     "iopub.status.busy": "2021-04-16T19:38:35.679755Z",
     "iopub.status.idle": "2021-04-16T19:38:35.829499Z",
     "shell.execute_reply": "2021-04-16T19:38:35.829008Z"
    },
    "tags": [
     "hide-input"
    ]
   },
   "outputs": [
    {
     "data": {
      "image/png": "[encoded data removed]",
      "text/plain": [
       "<Figure size 480x360 with 1 Axes>"
      ]
     },
     "metadata": {},
     "output_type": "display_data"
    }
   ],
   "source": [
    "marginal_lr.plot(color='C3')\n",
    "\n",
    "decorate(xlabel='Likelihood ratio of 1 deg F',\n",
    "         ylabel='PDF',\n",
    "         title='Posterior marginal distribution of likelihood ratios')"
   ]
  },
  {
   "cell_type": "code",
   "execution_count": 50,
   "metadata": {
    "execution": {
     "iopub.execute_input": "2021-04-16T19:38:35.832809Z",
     "iopub.status.busy": "2021-04-16T19:38:35.832305Z",
     "iopub.status.idle": "2021-04-16T19:38:35.835119Z",
     "shell.execute_reply": "2021-04-16T19:38:35.834739Z"
    },
    "tags": [
     "hide-cell"
    ]
   },
   "outputs": [
    {
     "data": {
      "text/plain": [
       "0.7542914170110268"
      ]
     },
     "execution_count": 50,
     "metadata": {},
     "output_type": "execute_result"
    }
   ],
   "source": [
    "mean_lr = marginal_lr.mean()\n",
    "mean_lr"
   ]
  },
  {
   "cell_type": "markdown",
   "metadata": {},
   "source": [
    "The mean of this distribution is about 0.75, which means that each additional degree Fahrenheit provides evidence against the possibility of damage, with a likelihood ratio (Bayes factor) of 0.75."
   ]
  },
  {
   "cell_type": "markdown",
   "metadata": {},
   "source": [
    "Notice:\n",
    "\n",
    "* I computed the posterior mean of the probability of damage at 70 deg F by transforming the marginal distribution of the intercept to the marginal distribution of probability, and then computing the mean.\n",
    "\n",
    "* I computed the posterior mean of the likelihood ratio by transforming the marginal distribution of slope to the marginal distribution of likelihood ratios, and then computing the mean.\n",
    "\n",
    "This is the correct order of operations, as opposed to computing the posterior means first and then transforming them.  "
   ]
  },
  {
   "cell_type": "markdown",
   "metadata": {
    "tags": [
     "hide-cell"
    ]
   },
   "source": [
    "To see the difference, let's compute both values the other way around. \n",
    "Here's the posterior mean of `marginal_inter`, transformed to a probability, compared to the mean of `marginal_probs`."
   ]
  },
  {
   "cell_type": "code",
   "execution_count": 51,
   "metadata": {
    "execution": {
     "iopub.execute_input": "2021-04-16T19:38:35.838826Z",
     "iopub.status.busy": "2021-04-16T19:38:35.838265Z",
     "iopub.status.idle": "2021-04-16T19:38:35.840357Z",
     "shell.execute_reply": "2021-04-16T19:38:35.840710Z"
    },
    "tags": [
     "hide-cell"
    ]
   },
   "outputs": [
    {
     "data": {
      "text/plain": [
       "(0.2016349762400815, 0.2201937884647988)"
      ]
     },
     "execution_count": 51,
     "metadata": {},
     "output_type": "execute_result"
    }
   ],
   "source": [
    "expit(marginal_inter.mean()), marginal_probs.mean()"
   ]
  },
  {
   "cell_type": "markdown",
   "metadata": {
    "tags": [
     "hide-cell"
    ]
   },
   "source": [
    "And here's the posterior mean of `marginal_slope`, transformed to a likelihood ratio, compared to the mean `marginal_lr`."
   ]
  },
  {
   "cell_type": "code",
   "execution_count": 52,
   "metadata": {
    "execution": {
     "iopub.execute_input": "2021-04-16T19:38:35.844515Z",
     "iopub.status.busy": "2021-04-16T19:38:35.843948Z",
     "iopub.status.idle": "2021-04-16T19:38:35.846851Z",
     "shell.execute_reply": "2021-04-16T19:38:35.846402Z"
    },
    "tags": [
     "hide-cell"
    ]
   },
   "outputs": [
    {
     "data": {
      "text/plain": [
       "(0.7484167954660071, 0.7542914170110268)"
      ]
     },
     "execution_count": 52,
     "metadata": {},
     "output_type": "execute_result"
    }
   ],
   "source": [
    "np.exp(marginal_slope.mean()), marginal_lr.mean()"
   ]
  },
  {
   "cell_type": "markdown",
   "metadata": {
    "tags": [
     "hide-cell"
    ]
   },
   "source": [
    "In this example, the differences are not huge, but they can be.\n",
    "As a general rule, transform first, then compute summary statistics."
   ]
  },
  {
   "cell_type": "markdown",
   "metadata": {},
   "source": [
    "## Predictive Distributions\n",
    "\n",
    "In the logistic model, the parameters are interpretable, at least after transformation.  But often what we care about are predictions, not parameters.  In the Space Shuttle problem, the most important prediction is, \"What is the probability of O-ring damage if the outside temperature is 31 degrees F?\"\n",
    "\n",
    "To make that prediction, I'll draw a sample of parameter pairs from the posterior distribution."
   ]
  },
  {
   "cell_type": "code",
   "execution_count": 53,
   "metadata": {
    "execution": {
     "iopub.execute_input": "2021-04-16T19:38:35.849767Z",
     "iopub.status.busy": "2021-04-16T19:38:35.849348Z",
     "iopub.status.idle": "2021-04-16T19:38:35.851390Z",
     "shell.execute_reply": "2021-04-16T19:38:35.851031Z"
    },
    "tags": [
     "remove-cell"
    ]
   },
   "outputs": [],
   "source": [
    "np.random.seed(17)"
   ]
  },
  {
   "cell_type": "code",
   "execution_count": 54,
   "metadata": {
    "execution": {
     "iopub.execute_input": "2021-04-16T19:38:35.854366Z",
     "iopub.status.busy": "2021-04-16T19:38:35.853943Z",
     "iopub.status.idle": "2021-04-16T19:38:35.856263Z",
     "shell.execute_reply": "2021-04-16T19:38:35.855904Z"
    }
   },
   "outputs": [],
   "source": [
    "sample = posterior_pmf.choice(101)"
   ]
  },
  {
   "cell_type": "markdown",
   "metadata": {},
   "source": [
    "The result is an array of 101 tuples, each representing a possible pair of parameters.\n",
    "I chose this sample size to make the computation fast.\n",
    "Increasing it would not change the results much, but they would be a little more precise."
   ]
  },
  {
   "cell_type": "code",
   "execution_count": 55,
   "metadata": {
    "execution": {
     "iopub.execute_input": "2021-04-16T19:38:35.859324Z",
     "iopub.status.busy": "2021-04-16T19:38:35.858810Z",
     "iopub.status.idle": "2021-04-16T19:38:35.861198Z",
     "shell.execute_reply": "2021-04-16T19:38:35.861563Z"
    },
    "tags": [
     "hide-cell"
    ]
   },
   "outputs": [
    {
     "data": {
      "text/plain": [
       "(101,)"
      ]
     },
     "execution_count": 55,
     "metadata": {},
     "output_type": "execute_result"
    }
   ],
   "source": [
    "sample.shape"
   ]
  },
  {
   "cell_type": "code",
   "execution_count": 56,
   "metadata": {
    "execution": {
     "iopub.execute_input": "2021-04-16T19:38:35.864670Z",
     "iopub.status.busy": "2021-04-16T19:38:35.864203Z",
     "iopub.status.idle": "2021-04-16T19:38:35.867044Z",
     "shell.execute_reply": "2021-04-16T19:38:35.866664Z"
    },
    "tags": [
     "hide-cell"
    ]
   },
   "outputs": [
    {
     "data": {
      "text/plain": [
       "dtype('O')"
      ]
     },
     "execution_count": 56,
     "metadata": {},
     "output_type": "execute_result"
    }
   ],
   "source": [
    "sample.dtype"
   ]
  },
  {
   "cell_type": "code",
   "execution_count": 57,
   "metadata": {
    "execution": {
     "iopub.execute_input": "2021-04-16T19:38:35.870385Z",
     "iopub.status.busy": "2021-04-16T19:38:35.869872Z",
     "iopub.status.idle": "2021-04-16T19:38:35.872461Z",
     "shell.execute_reply": "2021-04-16T19:38:35.872886Z"
    },
    "tags": [
     "hide-cell"
    ]
   },
   "outputs": [
    {
     "data": {
      "text/plain": [
       "tuple"
      ]
     },
     "execution_count": 57,
     "metadata": {},
     "output_type": "execute_result"
    }
   ],
   "source": [
    "type(sample[0])"
   ]
  },
  {
   "cell_type": "markdown",
   "metadata": {},
   "source": [
    "To generate predictions, I'll use a range of temperatures from 31 degrees F (the temperature when the Challenger launched) to 82 degrees F (the highest observed temperature)."
   ]
  },
  {
   "cell_type": "code",
   "execution_count": 58,
   "metadata": {
    "execution": {
     "iopub.execute_input": "2021-04-16T19:38:35.876864Z",
     "iopub.status.busy": "2021-04-16T19:38:35.876071Z",
     "iopub.status.idle": "2021-04-16T19:38:35.878632Z",
     "shell.execute_reply": "2021-04-16T19:38:35.878183Z"
    }
   },
   "outputs": [],
   "source": [
    "temps = np.arange(31, 83)\n",
    "xs = temps - offset"
   ]
  },
  {
   "cell_type": "markdown",
   "metadata": {},
   "source": [
    "The following loop uses `xs` and the sample of parameters to construct an array of predicted probabilities."
   ]
  },
  {
   "cell_type": "code",
   "execution_count": 59,
   "metadata": {
    "execution": {
     "iopub.execute_input": "2021-04-16T19:38:35.883361Z",
     "iopub.status.busy": "2021-04-16T19:38:35.882812Z",
     "iopub.status.idle": "2021-04-16T19:38:35.885351Z",
     "shell.execute_reply": "2021-04-16T19:38:35.884844Z"
    }
   },
   "outputs": [],
   "source": [
    "pred = np.empty((len(sample), len(xs)))\n",
    "\n",
    "for i, (slope, inter) in enumerate(sample):\n",
    "    pred[i] = expit(inter + slope * xs)"
   ]
  },
  {
   "cell_type": "markdown",
   "metadata": {},
   "source": [
    "The result has one column for each value in `xs` and one row for each element of `sample`.  "
   ]
  },
  {
   "cell_type": "markdown",
   "metadata": {
    "tags": [
     "hide-cell"
    ]
   },
   "source": [
    "To get a quick sense of what the predictions look like, we can loop through the rows and plot them."
   ]
  },
  {
   "cell_type": "code",
   "execution_count": 60,
   "metadata": {
    "execution": {
     "iopub.execute_input": "2021-04-16T19:38:35.900156Z",
     "iopub.status.busy": "2021-04-16T19:38:35.896762Z",
     "iopub.status.idle": "2021-04-16T19:38:36.281668Z",
     "shell.execute_reply": "2021-04-16T19:38:36.282322Z"
    },
    "tags": [
     "hide-cell"
    ]
   },
   "outputs": [
    {
     "data": {
      "image/png": "[encoded data removed]",
      "text/plain": [
       "<Figure size 480x360 with 1 Axes>"
      ]
     },
     "metadata": {},
     "output_type": "display_data"
    }
   ],
   "source": [
    "for ps in pred:\n",
    "    plt.plot(temps, ps, color='C1', lw=0.5, alpha=0.4)\n",
    "    \n",
    "plot_data(data)"
   ]
  },
  {
   "cell_type": "markdown",
   "metadata": {
    "tags": [
     "hide-cell"
    ]
   },
   "source": [
    "The overlapping lines in this figure give a sense of the most likely value at each temperature and the degree of uncertainty."
   ]
  },
  {
   "cell_type": "markdown",
   "metadata": {},
   "source": [
    "In each column, I'll compute the median to quantify the central tendency and a 90% credible interval to quantify the uncertainty.\n",
    "\n",
    "`np.percentile` computes the given percentiles; with the argument `axis=0`, it computes them for each column."
   ]
  },
  {
   "cell_type": "code",
   "execution_count": 61,
   "metadata": {
    "execution": {
     "iopub.execute_input": "2021-04-16T19:38:36.287031Z",
     "iopub.status.busy": "2021-04-16T19:38:36.286288Z",
     "iopub.status.idle": "2021-04-16T19:38:36.290768Z",
     "shell.execute_reply": "2021-04-16T19:38:36.291400Z"
    }
   },
   "outputs": [],
   "source": [
    "low, median, high = np.percentile(pred, [5, 50, 95], axis=0)"
   ]
  },
  {
   "cell_type": "markdown",
   "metadata": {},
   "source": [
    "The results are arrays containing predicted probabilities for the lower bound of the 90% CI, the median, and the upper bound of the CI.\n",
    "\n",
    "Here's what they look like:"
   ]
  },
  {
   "cell_type": "code",
   "execution_count": 62,
   "metadata": {
    "execution": {
     "iopub.execute_input": "2021-04-16T19:38:36.309405Z",
     "iopub.status.busy": "2021-04-16T19:38:36.307477Z",
     "iopub.status.idle": "2021-04-16T19:38:36.481810Z",
     "shell.execute_reply": "2021-04-16T19:38:36.481306Z"
    },
    "tags": [
     "hide-input"
    ]
   },
   "outputs": [
    {
     "data": {
      "image/png": "[encoded data removed]",
      "text/plain": [
       "<Figure size 480x360 with 1 Axes>"
      ]
     },
     "metadata": {},
     "output_type": "display_data"
    }
   ],
   "source": [
    "plt.fill_between(temps, low, high, color='C1', alpha=0.2)\n",
    "plt.plot(temps, median, color='C1', label='logistic model')\n",
    "\n",
    "plot_data(data)"
   ]
  },
  {
   "cell_type": "markdown",
   "metadata": {},
   "source": [
    "According to these results, the probability of damage to the O-rings at 80 degrees F is near 2%, but there is some uncertainty about that prediction; the upper bound of the CI is around 10%.\n",
    "\n",
    "At 60 degrees, the probability of damage is near 80%, but the CI is even wider, from 48% to 97%.\n",
    "\n",
    "But the primary goal of the model is to predict the probability of damage at 31 degrees F, and the answer is at least 97%, and more likely to be more than 99.9%."
   ]
  },
  {
   "cell_type": "code",
   "execution_count": 63,
   "metadata": {
    "execution": {
     "iopub.execute_input": "2021-04-16T19:38:36.485532Z",
     "iopub.status.busy": "2021-04-16T19:38:36.485085Z",
     "iopub.status.idle": "2021-04-16T19:38:36.486972Z",
     "shell.execute_reply": "2021-04-16T19:38:36.487403Z"
    },
    "tags": [
     "hide-cell"
    ]
   },
   "outputs": [],
   "source": [
    "low = pd.Series(low, temps)\n",
    "median = pd.Series(median, temps)\n",
    "high = pd.Series(high, temps)"
   ]
  },
  {
   "cell_type": "code",
   "execution_count": 64,
   "metadata": {
    "execution": {
     "iopub.execute_input": "2021-04-16T19:38:36.490962Z",
     "iopub.status.busy": "2021-04-16T19:38:36.490473Z",
     "iopub.status.idle": "2021-04-16T19:38:36.492541Z",
     "shell.execute_reply": "2021-04-16T19:38:36.492902Z"
    },
    "tags": [
     "hide-cell"
    ]
   },
   "outputs": [
    {
     "name": "stdout",
     "output_type": "stream",
     "text": [
      "0.016956535510200765 (0.000563939208692237, 0.1335417225332125)\n"
     ]
    }
   ],
   "source": [
    "t = 80\n",
    "print(median[t], (low[t], high[t]))"
   ]
  },
  {
   "cell_type": "code",
   "execution_count": 65,
   "metadata": {
    "execution": {
     "iopub.execute_input": "2021-04-16T19:38:36.496381Z",
     "iopub.status.busy": "2021-04-16T19:38:36.495805Z",
     "iopub.status.idle": "2021-04-16T19:38:36.498175Z",
     "shell.execute_reply": "2021-04-16T19:38:36.498636Z"
    },
    "tags": [
     "hide-cell"
    ]
   },
   "outputs": [
    {
     "name": "stdout",
     "output_type": "stream",
     "text": [
      "0.7738185742694538 (0.45512110762641983, 0.9654437697137236)\n"
     ]
    }
   ],
   "source": [
    "t = 60\n",
    "print(median[t], (low[t], high[t]))"
   ]
  },
  {
   "cell_type": "code",
   "execution_count": 66,
   "metadata": {
    "execution": {
     "iopub.execute_input": "2021-04-16T19:38:36.502644Z",
     "iopub.status.busy": "2021-04-16T19:38:36.502058Z",
     "iopub.status.idle": "2021-04-16T19:38:36.504722Z",
     "shell.execute_reply": "2021-04-16T19:38:36.505194Z"
    },
    "tags": [
     "hide-cell"
    ]
   },
   "outputs": [
    {
     "name": "stdout",
     "output_type": "stream",
     "text": [
      "0.9998129598124814 (0.97280101769455, 0.999999987740933)\n"
     ]
    }
   ],
   "source": [
    "t = 31\n",
    "print(median[t], (low[t], high[t]))"
   ]
  },
  {
   "cell_type": "markdown",
   "metadata": {},
   "source": [
    "One conclusion we might draw is this:  If the people responsible for the Challenger launch had taken into account all of the data, and not just the seven damage incidents, they could have predicted that the probability of damage at 31 degrees F was nearly certain.  If they had, it seems likely they would have postponed the launch.\n",
    "\n",
    "At the same time, if they considered the previous figure, they might have realized that the model makes predictions that extend far beyond the data.  When we extrapolate like that, we have to remember not just the uncertainty quantified by the model, which we expressed as a credible interval; we also have to consider the possibility that the model itself is unreliable.\n",
    "\n",
    "This example is based on a logistic model, which assumes that each additional degree of temperature contributes the same amount of evidence in favor of (or against) the possibility of damage.  Within a narrow range of temperatures, that might be a reasonable assumption, especially if it is supported by data.  But over a wider range, and beyond the bounds of the data, reality has no obligation to stick to the model."
   ]
  },
  {
   "cell_type": "markdown",
   "metadata": {},
   "source": [
    "## Empirical Bayes\n",
    "\n",
    "In this chapter I used StatsModels to compute the parameters that maximize the probability of the data, and then used those estimates to choose the bounds of the uniform prior distributions.\n",
    "It might have occurred to you that this process uses the data twice, once to choose the priors and again to do the update.  If that bothers you, you are not alone.\n",
    "The process I used is an example of what's called the [Empirical Bayes method](https://en.wikipedia.org/wiki/Empirical_Bayes_method), although I don't think that's a particularly good name for it.\n",
    "\n",
    "Although it might seem problematic to use the data twice, in these examples, it is not.  To see why, consider an alternative: instead of using the estimated parameters to choose the bounds of the prior distribution, I could have used uniform distributions with much wider ranges.\n",
    "In that case, the results would be the same; the only difference is that I would spend more time computing likelihoods for parameters where the posterior probabilities are negligibly small.\n",
    "\n",
    "So you can think of this version of Empirical Bayes as an optimization that minimizes computation by putting the prior distributions where the likelihood of the data is worth computing.\n",
    "This optimization doesn't affect the results, so it doesn't \"double-count\" the data."
   ]
  },
  {
   "cell_type": "markdown",
   "metadata": {},
   "source": [
    "## Summary\n",
    "\n",
    "So far we have seen three ways to represent degrees of confidence in a hypothesis: probability, odds, and log odds.\n",
    "When we write Bayes's Rule in terms of log odds, a Bayesian update is the sum of the prior and the likelihood; in this sense, Bayesian statistics is the arithmetic of hypotheses and evidence.\n",
    "\n",
    "This form of Bayes's Theorem is also the foundation of logistic regression, which we used to infer parameters and make predictions.  In the Space Shuttle problem, we modeled the relationship between temperature and the probability of damage, and showed that the Challenger disaster might have been predictable.  But this example is also a warning about the hazards of using a model to extrapolate far beyond the data.\n",
    "\n",
    "In the exercises below you'll have a chance to practice the material in this chapter, using log odds to evaluate a political pundit and using logistic regression to model diagnosis rates for Attention Deficit Hyperactivity Disorder (ADHD).\n",
    "\n",
    "In the next chapter we'll move from logistic regression to linear regression, which we will use to model changes over time in temperature, snowfall, and the marathon world record."
   ]
  },
  {
   "cell_type": "markdown",
   "metadata": {},
   "source": [
    "## Exercises"
   ]
  },
  {
   "cell_type": "markdown",
   "metadata": {},
   "source": [
    "**Exercise:** Suppose a political pundit claims to be able to predict the outcome of elections, but instead of picking a winner, they give each candidate a probability of winning.\n",
    "With that kind of prediction, it can be hard to say whether it is right or wrong. \n",
    "\n",
    "For example, suppose the pundit says that Alice has a 70% chance of beating Bob, and then Bob wins the election.  Does that mean the pundit was wrong?"
   ]
  },
  {
   "cell_type": "markdown",
   "metadata": {},
   "source": [
    "One way to answer this question is to consider two hypotheses:\n",
    "\n",
    "* `H`: The pundit's algorithm is legitimate; the probabilities it produces are correct in the sense that they accurately reflect the candidates' probabilities of winning.\n",
    "\n",
    "* `not H`: The pundit's algorithm is bogus; the probabilities it produces are random values with a mean of 50%.\n",
    "\n",
    "If the pundit says Alice has a 70% chance of winning, and she does, that provides evidence in favor of `H` with likelihood ratio 70/50.\n",
    "\n",
    "If the pundit says Alice has a 70% chance of winning, and she loses, that's evidence against `H` with a likelihood ratio of 50/30."
   ]
  },
  {
   "cell_type": "markdown",
   "metadata": {},
   "source": [
    "Suppose we start with some confidence in the algorithm, so the prior odds are 4 to 1.  And suppose the pundit generates predictions for three elections:\n",
    "\n",
    "* In the first election, the pundit says Alice has a 70% chance of winning and she does.\n",
    "\n",
    "* In the second election, the pundit says Bob has a 30% chance of winning and he does.\n",
    "\n",
    "* In the third election, the pundit says Carol has an 90% chance of winning and she does.\n",
    "\n",
    "What is the log likelihood ratio for each of these outcomes?  Use the log-odds form of Bayes's Rule to compute the posterior log odds for `H` after these outcomes.  In total, do these outcomes increase or decrease your confidence in the pundit?\n",
    "\n",
    "If you are interested in this topic, you can [read more about it in this blog post](http://allendowney.blogspot.com/2016/11/why-are-we-so-surprised.html)."
   ]
  },
  {
   "cell_type": "code",
   "execution_count": 67,
   "metadata": {
    "execution": {
     "iopub.execute_input": "2021-04-16T19:38:36.509640Z",
     "iopub.status.busy": "2021-04-16T19:38:36.508944Z",
     "iopub.status.idle": "2021-04-16T19:38:36.511818Z",
     "shell.execute_reply": "2021-04-16T19:38:36.512257Z"
    }
   },
   "outputs": [
    {
     "data": {
      "text/plain": [
       "1.3862943611198906"
      ]
     },
     "execution_count": 67,
     "metadata": {},
     "output_type": "execute_result"
    }
   ],
   "source": [
    "# Solution\n",
    "\n",
    "prior_log_odds = np.log(4)\n",
    "prior_log_odds"
   ]
  },
  {
   "cell_type": "code",
   "execution_count": 68,
   "metadata": {
    "execution": {
     "iopub.execute_input": "2021-04-16T19:38:36.517044Z",
     "iopub.status.busy": "2021-04-16T19:38:36.516465Z",
     "iopub.status.idle": "2021-04-16T19:38:36.519014Z",
     "shell.execute_reply": "2021-04-16T19:38:36.519425Z"
    }
   },
   "outputs": [
    {
     "data": {
      "text/plain": [
       "(0.3364722366212129, -0.5108256237659907, 0.5877866649021191)"
      ]
     },
     "execution_count": 68,
     "metadata": {},
     "output_type": "execute_result"
    }
   ],
   "source": [
    "# Solution\n",
    "\n",
    "lr1 = np.log(7/5)\n",
    "lr2 = np.log(3/5)\n",
    "lr3 = np.log(9/5)\n",
    "\n",
    "lr1, lr2, lr3"
   ]
  },
  {
   "cell_type": "code",
   "execution_count": 69,
   "metadata": {
    "execution": {
     "iopub.execute_input": "2021-04-16T19:38:36.523042Z",
     "iopub.status.busy": "2021-04-16T19:38:36.522420Z",
     "iopub.status.idle": "2021-04-16T19:38:36.525403Z",
     "shell.execute_reply": "2021-04-16T19:38:36.524907Z"
    }
   },
   "outputs": [
    {
     "data": {
      "text/plain": [
       "1.7997276388772319"
      ]
     },
     "execution_count": 69,
     "metadata": {},
     "output_type": "execute_result"
    }
   ],
   "source": [
    "# Solution\n",
    "\n",
    "# In total, these three outcomes provide evidence that the\n",
    "# pundit's algorithm is legitmate, although with K=1.8,\n",
    "# it is weak evidence.\n",
    "\n",
    "posterior_log_odds = prior_log_odds + lr1 + lr2 + lr3\n",
    "posterior_log_odds"
   ]
  },
  {
   "cell_type": "markdown",
   "metadata": {},
   "source": [
    "**Exercise:**  An article in the *New England Journal of Medicine* reports results from a study that looked at the diagnosis rate of Attention Deficit Hyperactivity Disorder (ADHD) as a function of birth month: [\"Attention Deficit–Hyperactivity Disorder and Month of School Enrollment\"](https://www.nejm.org/doi/10.1056/NEJMoa1806828).\n",
    "\n",
    "They found that children born in June, July, and August were substantially more likely to be diagnosed with ADHD, compared to children born in September, but only in states that use a September cutoff for children to enter kindergarten.  In these states, children born in August start school almost a year younger than children born in September.  The authors of the study suggest that the cause is \"age-based variation in behavior that may be attributed to ADHD rather than to the younger age of the children\". \n",
    "\n",
    "Use the methods in this chapter to estimate the probability of diagnosis as a function of birth month.\n",
    "The notebook for this chapter provides the data and some suggestions for getting started."
   ]
  },
  {
   "cell_type": "markdown",
   "metadata": {
    "tags": [
     "hide-cell"
    ]
   },
   "source": [
    "The paper includes this figure:\n",
    "\n",
    "<img width=\"500\" src=\"https://www.nejm.org/na101/home/literatum/publisher/mms/journals/content/nejm/2018/nejm_2018.379.issue-22/nejmoa1806828/20190131/images/img_xlarge/nejmoa1806828_f1.jpeg\">\n",
    "\n",
    "In my opinion, this representation of the data does not show the effect as clearly as it could.\n",
    "\n",
    "But the figure includes the raw data, so we can analyze it ourselves.\n",
    "\n",
    "Note: there is an error in the figure, confirmed by personal correspondence:\n",
    "\n",
    "> The May and June [diagnoses] are reversed. May should be 317 (not 287) and June should be 287 (not 317).\n",
    "\n",
    "So here is the corrected data, where `n` is the number of children born in each month, starting with January, and `k` is the number of children diagnosed with ADHD."
   ]
  },
  {
   "cell_type": "code",
   "execution_count": 70,
   "metadata": {
    "execution": {
     "iopub.execute_input": "2021-04-16T19:38:36.529394Z",
     "iopub.status.busy": "2021-04-16T19:38:36.528786Z",
     "iopub.status.idle": "2021-04-16T19:38:36.530689Z",
     "shell.execute_reply": "2021-04-16T19:38:36.531193Z"
    },
    "tags": [
     "hide-cell"
    ]
   },
   "outputs": [],
   "source": [
    "n = np.array([32690, 31238, 34405, 34565, 34977, 34415, \n",
    "                   36577, 36319, 35353, 34405, 31285, 31617])\n",
    "\n",
    "k = np.array([265, 280, 307, 312, 317, 287, \n",
    "                      320, 309, 225, 240, 232, 243])"
   ]
  },
  {
   "cell_type": "markdown",
   "metadata": {
    "tags": [
     "hide-cell"
    ]
   },
   "source": [
    "First, I'm going to \"roll\" the data so it starts in September rather than January."
   ]
  },
  {
   "cell_type": "code",
   "execution_count": 71,
   "metadata": {
    "execution": {
     "iopub.execute_input": "2021-04-16T19:38:36.535769Z",
     "iopub.status.busy": "2021-04-16T19:38:36.535172Z",
     "iopub.status.idle": "2021-04-16T19:38:36.537724Z",
     "shell.execute_reply": "2021-04-16T19:38:36.537153Z"
    },
    "tags": [
     "hide-cell"
    ]
   },
   "outputs": [],
   "source": [
    "x = np.arange(12)\n",
    "n = np.roll(n, -8)\n",
    "k = np.roll(k, -8)"
   ]
  },
  {
   "cell_type": "markdown",
   "metadata": {
    "tags": [
     "hide-cell"
    ]
   },
   "source": [
    "And I'll put it in a `DataFrame` with one row for each month and the diagnosis rate per 10,000."
   ]
  },
  {
   "cell_type": "code",
   "execution_count": 72,
   "metadata": {
    "execution": {
     "iopub.execute_input": "2021-04-16T19:38:36.548689Z",
     "iopub.status.busy": "2021-04-16T19:38:36.548222Z",
     "iopub.status.idle": "2021-04-16T19:38:36.551146Z",
     "shell.execute_reply": "2021-04-16T19:38:36.550790Z"
    },
    "tags": [
     "hide-cell"
    ]
   },
   "outputs": [
    {
     "data": {
      "text/html": [
       "<div>\n",
       "<style scoped>\n",
       "    .dataframe tbody tr th:only-of-type {\n",
       "        vertical-align: middle;\n",
       "    }\n",
       "\n",
       "    .dataframe tbody tr th {\n",
       "        vertical-align: top;\n",
       "    }\n",
       "\n",
       "    .dataframe thead th {\n",
       "        text-align: right;\n",
       "    }\n",
       "</style>\n",
       "<table border=\"1\" class=\"dataframe\">\n",
       "  <thead>\n",
       "    <tr style=\"text-align: right;\">\n",
       "      <th></th>\n",
       "      <th>x</th>\n",
       "      <th>k</th>\n",
       "      <th>n</th>\n",
       "      <th>rate</th>\n",
       "    </tr>\n",
       "  </thead>\n",
       "  <tbody>\n",
       "    <tr>\n",
       "      <th>0</th>\n",
       "      <td>0</td>\n",
       "      <td>225</td>\n",
       "      <td>35353</td>\n",
       "      <td>63.643821</td>\n",
       "    </tr>\n",
       "    <tr>\n",
       "      <th>1</th>\n",
       "      <td>1</td>\n",
       "      <td>240</td>\n",
       "      <td>34405</td>\n",
       "      <td>69.757303</td>\n",
       "    </tr>\n",
       "    <tr>\n",
       "      <th>2</th>\n",
       "      <td>2</td>\n",
       "      <td>232</td>\n",
       "      <td>31285</td>\n",
       "      <td>74.156944</td>\n",
       "    </tr>\n",
       "    <tr>\n",
       "      <th>3</th>\n",
       "      <td>3</td>\n",
       "      <td>243</td>\n",
       "      <td>31617</td>\n",
       "      <td>76.857387</td>\n",
       "    </tr>\n",
       "    <tr>\n",
       "      <th>4</th>\n",
       "      <td>4</td>\n",
       "      <td>265</td>\n",
       "      <td>32690</td>\n",
       "      <td>81.064546</td>\n",
       "    </tr>\n",
       "    <tr>\n",
       "      <th>5</th>\n",
       "      <td>5</td>\n",
       "      <td>280</td>\n",
       "      <td>31238</td>\n",
       "      <td>89.634420</td>\n",
       "    </tr>\n",
       "    <tr>\n",
       "      <th>6</th>\n",
       "      <td>6</td>\n",
       "      <td>307</td>\n",
       "      <td>34405</td>\n",
       "      <td>89.231216</td>\n",
       "    </tr>\n",
       "    <tr>\n",
       "      <th>7</th>\n",
       "      <td>7</td>\n",
       "      <td>312</td>\n",
       "      <td>34565</td>\n",
       "      <td>90.264719</td>\n",
       "    </tr>\n",
       "    <tr>\n",
       "      <th>8</th>\n",
       "      <td>8</td>\n",
       "      <td>317</td>\n",
       "      <td>34977</td>\n",
       "      <td>90.630986</td>\n",
       "    </tr>\n",
       "    <tr>\n",
       "      <th>9</th>\n",
       "      <td>9</td>\n",
       "      <td>287</td>\n",
       "      <td>34415</td>\n",
       "      <td>83.393869</td>\n",
       "    </tr>\n",
       "    <tr>\n",
       "      <th>10</th>\n",
       "      <td>10</td>\n",
       "      <td>320</td>\n",
       "      <td>36577</td>\n",
       "      <td>87.486672</td>\n",
       "    </tr>\n",
       "    <tr>\n",
       "      <th>11</th>\n",
       "      <td>11</td>\n",
       "      <td>309</td>\n",
       "      <td>36319</td>\n",
       "      <td>85.079435</td>\n",
       "    </tr>\n",
       "  </tbody>\n",
       "</table>\n",
       "</div>"
      ],
      "text/plain": [
       "     x    k      n       rate\n",
       "0    0  225  35353  63.643821\n",
       "1    1  240  34405  69.757303\n",
       "2    2  232  31285  74.156944\n",
       "3    3  243  31617  76.857387\n",
       "4    4  265  32690  81.064546\n",
       "5    5  280  31238  89.634420\n",
       "6    6  307  34405  89.231216\n",
       "7    7  312  34565  90.264719\n",
       "8    8  317  34977  90.630986\n",
       "9    9  287  34415  83.393869\n",
       "10  10  320  36577  87.486672\n",
       "11  11  309  36319  85.079435"
      ]
     },
     "execution_count": 72,
     "metadata": {},
     "output_type": "execute_result"
    }
   ],
   "source": [
    "adhd = pd.DataFrame(dict(x=x, k=k, n=n))\n",
    "adhd['rate'] = adhd['k'] / adhd['n'] * 10000\n",
    "adhd"
   ]
  },
  {
   "cell_type": "markdown",
   "metadata": {
    "tags": [
     "hide-cell"
    ]
   },
   "source": [
    "Here's what the diagnosis rates look like."
   ]
  },
  {
   "cell_type": "code",
   "execution_count": 73,
   "metadata": {
    "execution": {
     "iopub.execute_input": "2021-04-16T19:38:36.555166Z",
     "iopub.status.busy": "2021-04-16T19:38:36.554705Z",
     "iopub.status.idle": "2021-04-16T19:38:36.556398Z",
     "shell.execute_reply": "2021-04-16T19:38:36.556755Z"
    },
    "tags": [
     "hide-cell"
    ]
   },
   "outputs": [],
   "source": [
    "def plot_adhd(adhd):\n",
    "    plt.plot(adhd['x'], adhd['rate'], 'o', \n",
    "             label='data', color='C0', alpha=0.4)\n",
    "    \n",
    "    plt.axvline(5.5, color='gray', alpha=0.2)\n",
    "    plt.text(6, 64, 'Younger than average')\n",
    "    plt.text(5, 64, 'Older than average', horizontalalignment='right')\n",
    "\n",
    "    decorate(xlabel='Birth date, months after cutoff',\n",
    "             ylabel='Diagnosis rate per 10,000')"
   ]
  },
  {
   "cell_type": "code",
   "execution_count": 74,
   "metadata": {
    "execution": {
     "iopub.execute_input": "2021-04-16T19:38:36.583061Z",
     "iopub.status.busy": "2021-04-16T19:38:36.573462Z",
     "iopub.status.idle": "2021-04-16T19:38:36.735252Z",
     "shell.execute_reply": "2021-04-16T19:38:36.734743Z"
    },
    "tags": [
     "hide-cell"
    ]
   },
   "outputs": [
    {
     "data": {
      "image/png": "[encoded data removed]",
      "text/plain": [
       "<Figure size 480x360 with 1 Axes>"
      ]
     },
     "metadata": {},
     "output_type": "display_data"
    }
   ],
   "source": [
    "plot_adhd(adhd)"
   ]
  },
  {
   "cell_type": "markdown",
   "metadata": {
    "tags": [
     "hide-cell"
    ]
   },
   "source": [
    "For the first 9 months, from September to May, we see what we would expect if some of the excess diagnoses are due to \"age-based variation in behavior\".  For each month of difference in age, we see an increase in the number of diagnoses.\n",
    "\n",
    "This pattern breaks down for the last three months, June, July, and August.  This might be explained by random variation, but it also might be due to parental manipulation; if some parents hold back children born near the deadline, the observations for these month would include a mixture of children who are relatively old for their grade and therefore less likely to be diagnosed.\n",
    "\n",
    "Unfortunately, the dataset includes only month of birth, not year, so we don't know the actual ages of these students when they started school.  However, we can use the first nine months to estimate the effect of age on diagnosis rate; then we can think about what to do with the other three months.\n",
    "\n",
    "Use the methods in this chapter to estimate the probability of diagnosis as a function of birth month.\n",
    "Start with the following prior distributions."
   ]
  },
  {
   "cell_type": "code",
   "execution_count": 75,
   "metadata": {
    "execution": {
     "iopub.execute_input": "2021-04-16T19:38:36.739452Z",
     "iopub.status.busy": "2021-04-16T19:38:36.738890Z",
     "iopub.status.idle": "2021-04-16T19:38:36.741277Z",
     "shell.execute_reply": "2021-04-16T19:38:36.740761Z"
    },
    "tags": [
     "hide-cell"
    ]
   },
   "outputs": [],
   "source": [
    "qs = np.linspace(-5.2, -4.6, num=51)\n",
    "prior_inter = make_uniform(qs, 'Intercept')"
   ]
  },
  {
   "cell_type": "code",
   "execution_count": 76,
   "metadata": {
    "execution": {
     "iopub.execute_input": "2021-04-16T19:38:36.746301Z",
     "iopub.status.busy": "2021-04-16T19:38:36.745755Z",
     "iopub.status.idle": "2021-04-16T19:38:36.747981Z",
     "shell.execute_reply": "2021-04-16T19:38:36.748393Z"
    },
    "tags": [
     "hide-cell"
    ]
   },
   "outputs": [],
   "source": [
    "qs = np.linspace(0.0, 0.08, num=51)\n",
    "prior_slope = make_uniform(qs, 'Slope')"
   ]
  },
  {
   "cell_type": "markdown",
   "metadata": {
    "tags": [
     "hide-cell"
    ]
   },
   "source": [
    "1. Make a joint prior distribution and update it using the data for the first nine months.\n",
    "\n",
    "2. Then draw a sample from the posterior distribution and use it to compute the median probability of diagnosis for each month and a 90% credible interval.\n",
    "\n",
    "3. As a bonus exercise, do a second update using the data from the last three months, but treating the observed number of diagnoses as a lower bound on the number of diagnoses there would be if no children were kept back."
   ]
  },
  {
   "cell_type": "code",
   "execution_count": 77,
   "metadata": {
    "execution": {
     "iopub.execute_input": "2021-04-16T19:38:36.767887Z",
     "iopub.status.busy": "2021-04-16T19:38:36.767431Z",
     "iopub.status.idle": "2021-04-16T19:38:36.770403Z",
     "shell.execute_reply": "2021-04-16T19:38:36.769898Z"
    }
   },
   "outputs": [
    {
     "data": {
      "text/html": [
       "<div>\n",
       "<style scoped>\n",
       "    .dataframe tbody tr th:only-of-type {\n",
       "        vertical-align: middle;\n",
       "    }\n",
       "\n",
       "    .dataframe tbody tr th {\n",
       "        vertical-align: top;\n",
       "    }\n",
       "\n",
       "    .dataframe thead th {\n",
       "        text-align: right;\n",
       "    }\n",
       "</style>\n",
       "<table border=\"1\" class=\"dataframe\">\n",
       "  <thead>\n",
       "    <tr style=\"text-align: right;\">\n",
       "      <th>Intercept</th>\n",
       "      <th>-5.200</th>\n",
       "      <th>-5.188</th>\n",
       "      <th>-5.176</th>\n",
       "      <th>-5.164</th>\n",
       "      <th>-5.152</th>\n",
       "      <th>-5.140</th>\n",
       "      <th>-5.128</th>\n",
       "      <th>-5.116</th>\n",
       "      <th>-5.104</th>\n",
       "      <th>-5.092</th>\n",
       "      <th>...</th>\n",
       "      <th>-4.708</th>\n",
       "      <th>-4.696</th>\n",
       "      <th>-4.684</th>\n",
       "      <th>-4.672</th>\n",
       "      <th>-4.660</th>\n",
       "      <th>-4.648</th>\n",
       "      <th>-4.636</th>\n",
       "      <th>-4.624</th>\n",
       "      <th>-4.612</th>\n",
       "      <th>-4.600</th>\n",
       "    </tr>\n",
       "    <tr>\n",
       "      <th>Slope</th>\n",
       "      <th></th>\n",
       "      <th></th>\n",
       "      <th></th>\n",
       "      <th></th>\n",
       "      <th></th>\n",
       "      <th></th>\n",
       "      <th></th>\n",
       "      <th></th>\n",
       "      <th></th>\n",
       "      <th></th>\n",
       "      <th></th>\n",
       "      <th></th>\n",
       "      <th></th>\n",
       "      <th></th>\n",
       "      <th></th>\n",
       "      <th></th>\n",
       "      <th></th>\n",
       "      <th></th>\n",
       "      <th></th>\n",
       "      <th></th>\n",
       "      <th></th>\n",
       "    </tr>\n",
       "  </thead>\n",
       "  <tbody>\n",
       "    <tr>\n",
       "      <th>0.0000</th>\n",
       "      <td>0.000384</td>\n",
       "      <td>0.000384</td>\n",
       "      <td>0.000384</td>\n",
       "      <td>0.000384</td>\n",
       "      <td>0.000384</td>\n",
       "      <td>0.000384</td>\n",
       "      <td>0.000384</td>\n",
       "      <td>0.000384</td>\n",
       "      <td>0.000384</td>\n",
       "      <td>0.000384</td>\n",
       "      <td>...</td>\n",
       "      <td>0.000384</td>\n",
       "      <td>0.000384</td>\n",
       "      <td>0.000384</td>\n",
       "      <td>0.000384</td>\n",
       "      <td>0.000384</td>\n",
       "      <td>0.000384</td>\n",
       "      <td>0.000384</td>\n",
       "      <td>0.000384</td>\n",
       "      <td>0.000384</td>\n",
       "      <td>0.000384</td>\n",
       "    </tr>\n",
       "    <tr>\n",
       "      <th>0.0016</th>\n",
       "      <td>0.000384</td>\n",
       "      <td>0.000384</td>\n",
       "      <td>0.000384</td>\n",
       "      <td>0.000384</td>\n",
       "      <td>0.000384</td>\n",
       "      <td>0.000384</td>\n",
       "      <td>0.000384</td>\n",
       "      <td>0.000384</td>\n",
       "      <td>0.000384</td>\n",
       "      <td>0.000384</td>\n",
       "      <td>...</td>\n",
       "      <td>0.000384</td>\n",
       "      <td>0.000384</td>\n",
       "      <td>0.000384</td>\n",
       "      <td>0.000384</td>\n",
       "      <td>0.000384</td>\n",
       "      <td>0.000384</td>\n",
       "      <td>0.000384</td>\n",
       "      <td>0.000384</td>\n",
       "      <td>0.000384</td>\n",
       "      <td>0.000384</td>\n",
       "    </tr>\n",
       "    <tr>\n",
       "      <th>0.0032</th>\n",
       "      <td>0.000384</td>\n",
       "      <td>0.000384</td>\n",
       "      <td>0.000384</td>\n",
       "      <td>0.000384</td>\n",
       "      <td>0.000384</td>\n",
       "      <td>0.000384</td>\n",
       "      <td>0.000384</td>\n",
       "      <td>0.000384</td>\n",
       "      <td>0.000384</td>\n",
       "      <td>0.000384</td>\n",
       "      <td>...</td>\n",
       "      <td>0.000384</td>\n",
       "      <td>0.000384</td>\n",
       "      <td>0.000384</td>\n",
       "      <td>0.000384</td>\n",
       "      <td>0.000384</td>\n",
       "      <td>0.000384</td>\n",
       "      <td>0.000384</td>\n",
       "      <td>0.000384</td>\n",
       "      <td>0.000384</td>\n",
       "      <td>0.000384</td>\n",
       "    </tr>\n",
       "    <tr>\n",
       "      <th>0.0048</th>\n",
       "      <td>0.000384</td>\n",
       "      <td>0.000384</td>\n",
       "      <td>0.000384</td>\n",
       "      <td>0.000384</td>\n",
       "      <td>0.000384</td>\n",
       "      <td>0.000384</td>\n",
       "      <td>0.000384</td>\n",
       "      <td>0.000384</td>\n",
       "      <td>0.000384</td>\n",
       "      <td>0.000384</td>\n",
       "      <td>...</td>\n",
       "      <td>0.000384</td>\n",
       "      <td>0.000384</td>\n",
       "      <td>0.000384</td>\n",
       "      <td>0.000384</td>\n",
       "      <td>0.000384</td>\n",
       "      <td>0.000384</td>\n",
       "      <td>0.000384</td>\n",
       "      <td>0.000384</td>\n",
       "      <td>0.000384</td>\n",
       "      <td>0.000384</td>\n",
       "    </tr>\n",
       "    <tr>\n",
       "      <th>0.0064</th>\n",
       "      <td>0.000384</td>\n",
       "      <td>0.000384</td>\n",
       "      <td>0.000384</td>\n",
       "      <td>0.000384</td>\n",
       "      <td>0.000384</td>\n",
       "      <td>0.000384</td>\n",
       "      <td>0.000384</td>\n",
       "      <td>0.000384</td>\n",
       "      <td>0.000384</td>\n",
       "      <td>0.000384</td>\n",
       "      <td>...</td>\n",
       "      <td>0.000384</td>\n",
       "      <td>0.000384</td>\n",
       "      <td>0.000384</td>\n",
       "      <td>0.000384</td>\n",
       "      <td>0.000384</td>\n",
       "      <td>0.000384</td>\n",
       "      <td>0.000384</td>\n",
       "      <td>0.000384</td>\n",
       "      <td>0.000384</td>\n",
       "      <td>0.000384</td>\n",
       "    </tr>\n",
       "  </tbody>\n",
       "</table>\n",
       "<p>5 rows × 51 columns</p>\n",
       "</div>"
      ],
      "text/plain": [
       "Intercept    -5.200    -5.188    -5.176    -5.164    -5.152    -5.140  \\\n",
       "Slope                                                                   \n",
       "0.0000     0.000384  0.000384  0.000384  0.000384  0.000384  0.000384   \n",
       "0.0016     0.000384  0.000384  0.000384  0.000384  0.000384  0.000384   \n",
       "0.0032     0.000384  0.000384  0.000384  0.000384  0.000384  0.000384   \n",
       "0.0048     0.000384  0.000384  0.000384  0.000384  0.000384  0.000384   \n",
       "0.0064     0.000384  0.000384  0.000384  0.000384  0.000384  0.000384   \n",
       "\n",
       "Intercept    -5.128    -5.116    -5.104    -5.092  ...    -4.708    -4.696  \\\n",
       "Slope                                              ...                       \n",
       "0.0000     0.000384  0.000384  0.000384  0.000384  ...  0.000384  0.000384   \n",
       "0.0016     0.000384  0.000384  0.000384  0.000384  ...  0.000384  0.000384   \n",
       "0.0032     0.000384  0.000384  0.000384  0.000384  ...  0.000384  0.000384   \n",
       "0.0048     0.000384  0.000384  0.000384  0.000384  ...  0.000384  0.000384   \n",
       "0.0064     0.000384  0.000384  0.000384  0.000384  ...  0.000384  0.000384   \n",
       "\n",
       "Intercept    -4.684    -4.672    -4.660    -4.648    -4.636    -4.624  \\\n",
       "Slope                                                                   \n",
       "0.0000     0.000384  0.000384  0.000384  0.000384  0.000384  0.000384   \n",
       "0.0016     0.000384  0.000384  0.000384  0.000384  0.000384  0.000384   \n",
       "0.0032     0.000384  0.000384  0.000384  0.000384  0.000384  0.000384   \n",
       "0.0048     0.000384  0.000384  0.000384  0.000384  0.000384  0.000384   \n",
       "0.0064     0.000384  0.000384  0.000384  0.000384  0.000384  0.000384   \n",
       "\n",
       "Intercept    -4.612    -4.600  \n",
       "Slope                          \n",
       "0.0000     0.000384  0.000384  \n",
       "0.0016     0.000384  0.000384  \n",
       "0.0032     0.000384  0.000384  \n",
       "0.0048     0.000384  0.000384  \n",
       "0.0064     0.000384  0.000384  \n",
       "\n",
       "[5 rows x 51 columns]"
      ]
     },
     "execution_count": 77,
     "metadata": {},
     "output_type": "execute_result"
    }
   ],
   "source": [
    "# Solution\n",
    "\n",
    "joint = make_joint(prior_inter, prior_slope)\n",
    "joint.head()"
   ]
  },
  {
   "cell_type": "code",
   "execution_count": 78,
   "metadata": {
    "execution": {
     "iopub.execute_input": "2021-04-16T19:38:36.773920Z",
     "iopub.status.busy": "2021-04-16T19:38:36.773475Z",
     "iopub.status.idle": "2021-04-16T19:38:36.780606Z",
     "shell.execute_reply": "2021-04-16T19:38:36.780990Z"
    }
   },
   "outputs": [
    {
     "data": {
      "text/html": [
       "<div>\n",
       "<style scoped>\n",
       "    .dataframe tbody tr th:only-of-type {\n",
       "        vertical-align: middle;\n",
       "    }\n",
       "\n",
       "    .dataframe tbody tr th {\n",
       "        vertical-align: top;\n",
       "    }\n",
       "\n",
       "    .dataframe thead th {\n",
       "        text-align: right;\n",
       "    }\n",
       "</style>\n",
       "<table border=\"1\" class=\"dataframe\">\n",
       "  <thead>\n",
       "    <tr style=\"text-align: right;\">\n",
       "      <th></th>\n",
       "      <th></th>\n",
       "      <th>probs</th>\n",
       "    </tr>\n",
       "    <tr>\n",
       "      <th>Slope</th>\n",
       "      <th>Intercept</th>\n",
       "      <th></th>\n",
       "    </tr>\n",
       "  </thead>\n",
       "  <tbody>\n",
       "    <tr>\n",
       "      <th rowspan=\"3\" valign=\"top\">0.0</th>\n",
       "      <th>-5.200</th>\n",
       "      <td>0.000384</td>\n",
       "    </tr>\n",
       "    <tr>\n",
       "      <th>-5.188</th>\n",
       "      <td>0.000384</td>\n",
       "    </tr>\n",
       "    <tr>\n",
       "      <th>-5.176</th>\n",
       "      <td>0.000384</td>\n",
       "    </tr>\n",
       "  </tbody>\n",
       "</table>\n",
       "</div>"
      ],
      "text/plain": [
       "Slope  Intercept\n",
       "0.0    -5.200       0.000384\n",
       "       -5.188       0.000384\n",
       "       -5.176       0.000384\n",
       "dtype: float64"
      ]
     },
     "execution_count": 78,
     "metadata": {},
     "output_type": "execute_result"
    }
   ],
   "source": [
    "# Solution\n",
    "\n",
    "joint_pmf = Pmf(joint.stack())\n",
    "joint_pmf.head()"
   ]
  },
  {
   "cell_type": "code",
   "execution_count": 79,
   "metadata": {
    "execution": {
     "iopub.execute_input": "2021-04-16T19:38:36.788317Z",
     "iopub.status.busy": "2021-04-16T19:38:36.787684Z",
     "iopub.status.idle": "2021-04-16T19:38:36.790769Z",
     "shell.execute_reply": "2021-04-16T19:38:36.791255Z"
    }
   },
   "outputs": [
    {
     "data": {
      "text/html": [
       "<div>\n",
       "<style scoped>\n",
       "    .dataframe tbody tr th:only-of-type {\n",
       "        vertical-align: middle;\n",
       "    }\n",
       "\n",
       "    .dataframe tbody tr th {\n",
       "        vertical-align: top;\n",
       "    }\n",
       "\n",
       "    .dataframe thead th {\n",
       "        text-align: right;\n",
       "    }\n",
       "</style>\n",
       "<table border=\"1\" class=\"dataframe\">\n",
       "  <thead>\n",
       "    <tr style=\"text-align: right;\">\n",
       "      <th></th>\n",
       "      <th>x</th>\n",
       "      <th>k</th>\n",
       "      <th>n</th>\n",
       "      <th>rate</th>\n",
       "    </tr>\n",
       "  </thead>\n",
       "  <tbody>\n",
       "    <tr>\n",
       "      <th>0</th>\n",
       "      <td>0</td>\n",
       "      <td>225</td>\n",
       "      <td>35353</td>\n",
       "      <td>63.643821</td>\n",
       "    </tr>\n",
       "    <tr>\n",
       "      <th>1</th>\n",
       "      <td>1</td>\n",
       "      <td>240</td>\n",
       "      <td>34405</td>\n",
       "      <td>69.757303</td>\n",
       "    </tr>\n",
       "    <tr>\n",
       "      <th>2</th>\n",
       "      <td>2</td>\n",
       "      <td>232</td>\n",
       "      <td>31285</td>\n",
       "      <td>74.156944</td>\n",
       "    </tr>\n",
       "    <tr>\n",
       "      <th>3</th>\n",
       "      <td>3</td>\n",
       "      <td>243</td>\n",
       "      <td>31617</td>\n",
       "      <td>76.857387</td>\n",
       "    </tr>\n",
       "    <tr>\n",
       "      <th>4</th>\n",
       "      <td>4</td>\n",
       "      <td>265</td>\n",
       "      <td>32690</td>\n",
       "      <td>81.064546</td>\n",
       "    </tr>\n",
       "    <tr>\n",
       "      <th>5</th>\n",
       "      <td>5</td>\n",
       "      <td>280</td>\n",
       "      <td>31238</td>\n",
       "      <td>89.634420</td>\n",
       "    </tr>\n",
       "    <tr>\n",
       "      <th>6</th>\n",
       "      <td>6</td>\n",
       "      <td>307</td>\n",
       "      <td>34405</td>\n",
       "      <td>89.231216</td>\n",
       "    </tr>\n",
       "    <tr>\n",
       "      <th>7</th>\n",
       "      <td>7</td>\n",
       "      <td>312</td>\n",
       "      <td>34565</td>\n",
       "      <td>90.264719</td>\n",
       "    </tr>\n",
       "    <tr>\n",
       "      <th>8</th>\n",
       "      <td>8</td>\n",
       "      <td>317</td>\n",
       "      <td>34977</td>\n",
       "      <td>90.630986</td>\n",
       "    </tr>\n",
       "  </tbody>\n",
       "</table>\n",
       "</div>"
      ],
      "text/plain": [
       "   x    k      n       rate\n",
       "0  0  225  35353  63.643821\n",
       "1  1  240  34405  69.757303\n",
       "2  2  232  31285  74.156944\n",
       "3  3  243  31617  76.857387\n",
       "4  4  265  32690  81.064546\n",
       "5  5  280  31238  89.634420\n",
       "6  6  307  34405  89.231216\n",
       "7  7  312  34565  90.264719\n",
       "8  8  317  34977  90.630986"
      ]
     },
     "execution_count": 79,
     "metadata": {},
     "output_type": "execute_result"
    }
   ],
   "source": [
    "# Solution\n",
    "\n",
    "num_legit = 9\n",
    "adhd1 = adhd.loc[0:num_legit-1]\n",
    "adhd2 = adhd.loc[num_legit:]\n",
    "adhd1"
   ]
  },
  {
   "cell_type": "code",
   "execution_count": 80,
   "metadata": {
    "execution": {
     "iopub.execute_input": "2021-04-16T19:38:36.798743Z",
     "iopub.status.busy": "2021-04-16T19:38:36.798206Z",
     "iopub.status.idle": "2021-04-16T19:38:36.800565Z",
     "shell.execute_reply": "2021-04-16T19:38:36.800910Z"
    }
   },
   "outputs": [
    {
     "data": {
      "text/html": [
       "<div>\n",
       "<style scoped>\n",
       "    .dataframe tbody tr th:only-of-type {\n",
       "        vertical-align: middle;\n",
       "    }\n",
       "\n",
       "    .dataframe tbody tr th {\n",
       "        vertical-align: top;\n",
       "    }\n",
       "\n",
       "    .dataframe thead th {\n",
       "        text-align: right;\n",
       "    }\n",
       "</style>\n",
       "<table border=\"1\" class=\"dataframe\">\n",
       "  <thead>\n",
       "    <tr style=\"text-align: right;\">\n",
       "      <th></th>\n",
       "      <th>x</th>\n",
       "      <th>k</th>\n",
       "      <th>n</th>\n",
       "      <th>rate</th>\n",
       "    </tr>\n",
       "  </thead>\n",
       "  <tbody>\n",
       "    <tr>\n",
       "      <th>9</th>\n",
       "      <td>9</td>\n",
       "      <td>287</td>\n",
       "      <td>34415</td>\n",
       "      <td>83.393869</td>\n",
       "    </tr>\n",
       "    <tr>\n",
       "      <th>10</th>\n",
       "      <td>10</td>\n",
       "      <td>320</td>\n",
       "      <td>36577</td>\n",
       "      <td>87.486672</td>\n",
       "    </tr>\n",
       "    <tr>\n",
       "      <th>11</th>\n",
       "      <td>11</td>\n",
       "      <td>309</td>\n",
       "      <td>36319</td>\n",
       "      <td>85.079435</td>\n",
       "    </tr>\n",
       "  </tbody>\n",
       "</table>\n",
       "</div>"
      ],
      "text/plain": [
       "     x    k      n       rate\n",
       "9    9  287  34415  83.393869\n",
       "10  10  320  36577  87.486672\n",
       "11  11  309  36319  85.079435"
      ]
     },
     "execution_count": 80,
     "metadata": {},
     "output_type": "execute_result"
    }
   ],
   "source": [
    "# Solution\n",
    "\n",
    "adhd2"
   ]
  },
  {
   "cell_type": "code",
   "execution_count": 81,
   "metadata": {
    "execution": {
     "iopub.execute_input": "2021-04-16T19:38:36.806843Z",
     "iopub.status.busy": "2021-04-16T19:38:36.805135Z",
     "iopub.status.idle": "2021-04-16T19:38:38.346001Z",
     "shell.execute_reply": "2021-04-16T19:38:38.345516Z"
    }
   },
   "outputs": [
    {
     "data": {
      "text/plain": [
       "3.543685818699967e-14"
      ]
     },
     "execution_count": 81,
     "metadata": {},
     "output_type": "execute_result"
    }
   ],
   "source": [
    "# Solution\n",
    "\n",
    "from scipy.stats import binom\n",
    "\n",
    "likelihood1 = joint_pmf.copy()\n",
    "\n",
    "xs = adhd1['x']\n",
    "ks = adhd1['k']\n",
    "ns = adhd1['n']\n",
    "\n",
    "for slope, inter in joint_pmf.index:\n",
    "    ps = expit(inter + slope * xs)\n",
    "    likes = binom.pmf(ks, ns, ps)\n",
    "    likelihood1[slope, inter] = likes.prod()\n",
    "\n",
    "likelihood1.sum()"
   ]
  },
  {
   "cell_type": "code",
   "execution_count": 82,
   "metadata": {
    "execution": {
     "iopub.execute_input": "2021-04-16T19:38:38.351187Z",
     "iopub.status.busy": "2021-04-16T19:38:38.350748Z",
     "iopub.status.idle": "2021-04-16T19:38:39.846618Z",
     "shell.execute_reply": "2021-04-16T19:38:39.846238Z"
    }
   },
   "outputs": [
    {
     "data": {
      "text/plain": [
       "1905.3511925074408"
      ]
     },
     "execution_count": 82,
     "metadata": {},
     "output_type": "execute_result"
    }
   ],
   "source": [
    "# Solution\n",
    "\n",
    "# This update uses the binomial survival function to compute\n",
    "# the probability that the number of cases *exceeds* `ks`.\n",
    "\n",
    "likelihood2 = joint_pmf.copy()\n",
    "\n",
    "xs = adhd2['x']\n",
    "ks = adhd2['k']\n",
    "ns = adhd2['n']\n",
    "\n",
    "for slope, inter in joint_pmf.index:\n",
    "    ps = expit(inter + slope * xs)\n",
    "    likes = binom.sf(ks, ns, ps)\n",
    "    likelihood2[slope, inter] = likes.prod()\n",
    "\n",
    "likelihood2.sum()"
   ]
  },
  {
   "cell_type": "code",
   "execution_count": 83,
   "metadata": {
    "execution": {
     "iopub.execute_input": "2021-04-16T19:38:39.851505Z",
     "iopub.status.busy": "2021-04-16T19:38:39.850946Z",
     "iopub.status.idle": "2021-04-16T19:38:39.853660Z",
     "shell.execute_reply": "2021-04-16T19:38:39.854038Z"
    }
   },
   "outputs": [
    {
     "data": {
      "text/plain": [
       "1.3624320717800717e-17"
      ]
     },
     "execution_count": 83,
     "metadata": {},
     "output_type": "execute_result"
    }
   ],
   "source": [
    "# Solution\n",
    "\n",
    "posterior_pmf = joint_pmf * likelihood1\n",
    "posterior_pmf.normalize()"
   ]
  },
  {
   "cell_type": "code",
   "execution_count": 84,
   "metadata": {
    "execution": {
     "iopub.execute_input": "2021-04-16T19:38:39.857722Z",
     "iopub.status.busy": "2021-04-16T19:38:39.857177Z",
     "iopub.status.idle": "2021-04-16T19:38:39.859880Z",
     "shell.execute_reply": "2021-04-16T19:38:39.859517Z"
    }
   },
   "outputs": [
    {
     "data": {
      "text/plain": [
       "(0.0448, -4.996)"
      ]
     },
     "execution_count": 84,
     "metadata": {},
     "output_type": "execute_result"
    }
   ],
   "source": [
    "# Solution\n",
    "\n",
    "posterior_pmf.max_prob()"
   ]
  },
  {
   "cell_type": "code",
   "execution_count": 85,
   "metadata": {
    "execution": {
     "iopub.execute_input": "2021-04-16T19:38:39.864013Z",
     "iopub.status.busy": "2021-04-16T19:38:39.863045Z",
     "iopub.status.idle": "2021-04-16T19:38:39.867007Z",
     "shell.execute_reply": "2021-04-16T19:38:39.866633Z"
    }
   },
   "outputs": [
    {
     "data": {
      "text/plain": [
       "1.3403142132512741e-17"
      ]
     },
     "execution_count": 85,
     "metadata": {},
     "output_type": "execute_result"
    }
   ],
   "source": [
    "# Solution\n",
    "\n",
    "posterior_pmf = joint_pmf * likelihood1 * likelihood2\n",
    "posterior_pmf.normalize()"
   ]
  },
  {
   "cell_type": "code",
   "execution_count": 86,
   "metadata": {
    "execution": {
     "iopub.execute_input": "2021-04-16T19:38:39.870323Z",
     "iopub.status.busy": "2021-04-16T19:38:39.869817Z",
     "iopub.status.idle": "2021-04-16T19:38:39.872641Z",
     "shell.execute_reply": "2021-04-16T19:38:39.872277Z"
    }
   },
   "outputs": [
    {
     "data": {
      "text/plain": [
       "(0.0448, -4.996)"
      ]
     },
     "execution_count": 86,
     "metadata": {},
     "output_type": "execute_result"
    }
   ],
   "source": [
    "# Solution\n",
    "\n",
    "posterior_pmf.max_prob()"
   ]
  },
  {
   "cell_type": "code",
   "execution_count": 87,
   "metadata": {
    "execution": {
     "iopub.execute_input": "2021-04-16T19:38:39.876431Z",
     "iopub.status.busy": "2021-04-16T19:38:39.875576Z",
     "iopub.status.idle": "2021-04-16T19:38:40.019952Z",
     "shell.execute_reply": "2021-04-16T19:38:40.019387Z"
    }
   },
   "outputs": [
    {
     "data": {
      "image/png": "[encoded data removed]",
      "text/plain": [
       "<Figure size 480x360 with 1 Axes>"
      ]
     },
     "metadata": {},
     "output_type": "display_data"
    }
   ],
   "source": [
    "# Solution\n",
    "\n",
    "joint_posterior = posterior_pmf.unstack()\n",
    "\n",
    "plot_contour(joint_posterior)\n",
    "decorate(title='Joint posterior distribution')"
   ]
  },
  {
   "cell_type": "code",
   "execution_count": 88,
   "metadata": {
    "execution": {
     "iopub.execute_input": "2021-04-16T19:38:40.024861Z",
     "iopub.status.busy": "2021-04-16T19:38:40.023989Z",
     "iopub.status.idle": "2021-04-16T19:38:40.027814Z",
     "shell.execute_reply": "2021-04-16T19:38:40.027306Z"
    }
   },
   "outputs": [
    {
     "data": {
      "text/plain": [
       "(-4.999322906782618, 0.04460761677198374)"
      ]
     },
     "execution_count": 88,
     "metadata": {},
     "output_type": "execute_result"
    }
   ],
   "source": [
    "# Solution\n",
    "\n",
    "marginal_inter = marginal(joint_posterior, 0)\n",
    "marginal_slope = marginal(joint_posterior, 1)\n",
    "\n",
    "marginal_inter.mean(), marginal_slope.mean()"
   ]
  },
  {
   "cell_type": "code",
   "execution_count": 89,
   "metadata": {
    "execution": {
     "iopub.execute_input": "2021-04-16T19:38:40.048678Z",
     "iopub.status.busy": "2021-04-16T19:38:40.047994Z",
     "iopub.status.idle": "2021-04-16T19:38:40.158530Z",
     "shell.execute_reply": "2021-04-16T19:38:40.159184Z"
    }
   },
   "outputs": [
    {
     "data": {
      "image/png": "[encoded data removed]",
      "text/plain": [
       "<Figure size 480x360 with 1 Axes>"
      ]
     },
     "metadata": {},
     "output_type": "display_data"
    }
   ],
   "source": [
    "# Solution\n",
    "\n",
    "marginal_inter.plot(color='C4')\n",
    "decorate(xlabel='Intercept',\n",
    "         ylabel='PDF',\n",
    "         title='Posterior marginal distribution of intercept')"
   ]
  },
  {
   "cell_type": "code",
   "execution_count": 90,
   "metadata": {
    "execution": {
     "iopub.execute_input": "2021-04-16T19:38:40.176075Z",
     "iopub.status.busy": "2021-04-16T19:38:40.175096Z",
     "iopub.status.idle": "2021-04-16T19:38:40.292872Z",
     "shell.execute_reply": "2021-04-16T19:38:40.292362Z"
    }
   },
   "outputs": [
    {
     "data": {
      "image/png": "[encoded data removed]",
      "text/plain": [
       "<Figure size 480x360 with 1 Axes>"
      ]
     },
     "metadata": {},
     "output_type": "display_data"
    }
   ],
   "source": [
    "# Solution\n",
    "\n",
    "marginal_slope.plot(color='C2')\n",
    "\n",
    "decorate(xlabel='Slope',\n",
    "         ylabel='PDF',\n",
    "         title='Posterior marginal distribution of slope')"
   ]
  },
  {
   "cell_type": "code",
   "execution_count": 91,
   "metadata": {
    "execution": {
     "iopub.execute_input": "2021-04-16T19:38:40.335257Z",
     "iopub.status.busy": "2021-04-16T19:38:40.296345Z",
     "iopub.status.idle": "2021-04-16T19:38:40.338152Z",
     "shell.execute_reply": "2021-04-16T19:38:40.337742Z"
    }
   },
   "outputs": [
    {
     "data": {
      "text/plain": [
       "(101, 12)"
      ]
     },
     "execution_count": 91,
     "metadata": {},
     "output_type": "execute_result"
    }
   ],
   "source": [
    "# Solution\n",
    "\n",
    "sample = posterior_pmf.choice(101)\n",
    "xs = adhd['x']\n",
    "ps = np.empty((len(sample), len(xs)))\n",
    "\n",
    "for i, (slope, inter) in enumerate(sample):\n",
    "    ps[i] = expit(inter + slope * xs)\n",
    "    \n",
    "ps.shape"
   ]
  },
  {
   "cell_type": "code",
   "execution_count": 92,
   "metadata": {
    "execution": {
     "iopub.execute_input": "2021-04-16T19:38:40.343227Z",
     "iopub.status.busy": "2021-04-16T19:38:40.342513Z",
     "iopub.status.idle": "2021-04-16T19:38:40.345053Z",
     "shell.execute_reply": "2021-04-16T19:38:40.345643Z"
    }
   },
   "outputs": [
    {
     "data": {
      "text/plain": [
       "array([0.00663988, 0.00695303, 0.00728085, 0.00762401, 0.00798321,\n",
       "       0.00835919, 0.00875272, 0.00915734, 0.00955774, 0.00997548,\n",
       "       0.01043603, 0.01094356])"
      ]
     },
     "execution_count": 92,
     "metadata": {},
     "output_type": "execute_result"
    }
   ],
   "source": [
    "# Solution\n",
    "\n",
    "low, median, high = np.percentile(ps, [2.5, 50, 97.5], axis=0)\n",
    "median"
   ]
  },
  {
   "cell_type": "code",
   "execution_count": 93,
   "metadata": {
    "execution": {
     "iopub.execute_input": "2021-04-16T19:38:40.363493Z",
     "iopub.status.busy": "2021-04-16T19:38:40.362517Z",
     "iopub.status.idle": "2021-04-16T19:38:40.544013Z",
     "shell.execute_reply": "2021-04-16T19:38:40.544361Z"
    },
    "scrolled": true
   },
   "outputs": [
    {
     "data": {
      "image/png": "[encoded data removed]",
      "text/plain": [
       "<Figure size 480x360 with 1 Axes>"
      ]
     },
     "metadata": {},
     "output_type": "display_data"
    }
   ],
   "source": [
    "# Solution\n",
    "\n",
    "plt.fill_between(xs, low*10000, high*10000, \n",
    "                 color='C1', alpha=0.2)\n",
    "\n",
    "plt.plot(xs, median*10000, label='model',\n",
    "         color='C1', alpha=0.5)\n",
    "\n",
    "plot_adhd(adhd)"
   ]
  },
  {
   "cell_type": "markdown",
   "metadata": {
    "tags": [
     "remove-print"
    ]
   },
   "source": [
    "*Think Bayes*, Second Edition\n",
    "\n",
    "Copyright 2020 Allen B. Downey\n",
    "\n",
    "License: [Attribution-NonCommercial-ShareAlike 4.0 International (CC BY-NC-SA 4.0)](https://creativecommons.org/licenses/by-nc-sa/4.0/)"
   ]
  }
 ],
 "metadata": {
  "celltoolbar": "Tags",
  "kernelspec": {
   "display_name": "Python 3 (ipykernel)",
   "language": "python",
   "name": "python3"
  },
  "language_info": {
   "codemirror_mode": {
    "name": "ipython",
    "version": 3
   },
   "file_extension": ".py",
   "mimetype": "text/x-python",
   "name": "python",
   "nbconvert_exporter": "python",
   "pygments_lexer": "ipython3",
   "version": "3.11.11"
  }
 },
 "nbformat": 4,
 "nbformat_minor": 1
}
