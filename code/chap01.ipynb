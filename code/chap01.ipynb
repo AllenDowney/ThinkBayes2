{
 "cells": [
  {
   "cell_type": "markdown",
   "metadata": {},
   "source": [
    "# Think Bayes\n",
    "\n",
    "Second Edition\n",
    "\n",
    "Copyright 2020 Allen B. Downey\n",
    "\n",
    "License: [Attribution-NonCommercial-ShareAlike 4.0 International (CC BY-NC-SA 4.0)](https://creativecommons.org/licenses/by-nc-sa/4.0/)"
   ]
  },
  {
   "cell_type": "code",
   "execution_count": null,
   "metadata": {},
   "outputs": [],
   "source": [
    "import numpy as np\n",
    "import pandas as pd"
   ]
  },
  {
   "cell_type": "markdown",
   "metadata": {},
   "source": [
    "## Bayes's Theorem\n",
    "\n",
    "Bayes's Theorem states:\n",
    "\n",
    "$P(H|D) = P(H) ~ P(D|H) ~/~ P(D)$\n",
    "\n",
    "where\n",
    "\n",
    "* $H$ stands for \"hypothesis\", and\n",
    "\n",
    "* $D$ stands for \"data\".\n",
    "\n",
    "Each term in this equation has a name:\n",
    "\n",
    "* $P(H)$ is the \"prior probability\" of the hypothesis, which represents how confident you are that $H$ is true prior to seeing the data,\n",
    "\n",
    "* $P(D|H)$ is the \"likelihood\" of the data, which is the probability of seeing $D$ if the hypothesis is true,\n",
    "\n",
    "* $P(D)$ is the \"total probability of the data\", that is, the chance of seeing $D$ regardless of whether $H$ is true or not.\n",
    "\n",
    "* $P(H|D)$ is the \"posterior probability\" of the hypothesis, which indicates how confident you should be that $H$ is true after taking the data into account."
   ]
  },
  {
   "cell_type": "markdown",
   "metadata": {},
   "source": [
    "## The cookie problem\n",
    "\n",
    "Here's a problem I got from Wikipedia a long time ago:\n",
    "\n",
    "> Suppose you have two bowls of cookies.  Bowl 1 contains 30 vanilla and 10 chocolate cookies.  Bowl 2 contains 20 of each kind.\n",
    ">\n",
    "> You choose one of the bowls at random and, without looking into the bowl, choose one of the cookies at random.  It turns out to be a vanilla cookie.\n",
    ">\n",
    "> What is the chance that you chose Bowl 1?\n",
    "\n",
    "We'll assume that there was an equal chance of choosing either bowl and an equal chance of choosing any cookie in the bowl."
   ]
  },
  {
   "cell_type": "markdown",
   "metadata": {},
   "source": [
    "We can solve this problem using Bayes's Theorem.  First, I'll define $H$ and $D$:\n",
    "\n",
    "* $H$ is the hypothesis that the bowl you chose is Bowl 1.\n",
    "\n",
    "* $D$ is the datum that the cookie is vanilla (\"datum\" is the rarely-used singular form of \"data\").\n",
    "\n",
    "What we want is the posterior probability of $H$, which is $P(H|D)$.  It is not obvious how to compute it directly, but if we can figure out the terms on the right-hand side of Bayes's Theorem, we can get to it indirectly."
   ]
  },
  {
   "cell_type": "markdown",
   "metadata": {},
   "source": [
    "1. $P(H)$ is the prior probability of $H$, which is the probability of choosing Bowl 1 before we see the data.  If there was an equal chance of choosing either bowl, $P(H)$ is $1/2$.\n",
    "\n",
    "2. $P(D|H)$ is the likelihood of the data, which is the chance of getting a vanilla cookie if $H$ is true, in other words, the chance of getting a vanilla cookie from Bowl 1, which is $30/40$ or $3/4$.\n",
    "\n",
    "3. $P(D)$ is the total probability of the data, which is the chance of getting a vanilla cookie whether $H$ is true or not.  In this example, we can figure out $P(D)$ directly: because the bowls are equally likely, and they contain the same number of cookies, you were equally likely to choose any cookie.  Combining the two bowls, there are 50 vanilla and 30 chocolate cookies, so the probability of choosing a vanilla cookie is $50/80$ or $5/8$.\n",
    "\n",
    "Now that we have the terms on the right-hand side, we can use Bayes's Theorem to combine them."
   ]
  },
  {
   "cell_type": "code",
   "execution_count": null,
   "metadata": {},
   "outputs": [],
   "source": [
    "prior = 1/2\n",
    "prior"
   ]
  },
  {
   "cell_type": "code",
   "execution_count": null,
   "metadata": {},
   "outputs": [],
   "source": [
    "likelihood = 3/4\n",
    "likelihood"
   ]
  },
  {
   "cell_type": "code",
   "execution_count": null,
   "metadata": {},
   "outputs": [],
   "source": [
    "prob_data = 5/8\n",
    "prob_data"
   ]
  },
  {
   "cell_type": "code",
   "execution_count": null,
   "metadata": {},
   "outputs": [],
   "source": [
    "posterior = prior * likelihood / prob_data\n",
    "posterior"
   ]
  },
  {
   "cell_type": "markdown",
   "metadata": {},
   "source": [
    "The posterior probability is $0.6$, a little higher than the prior, which was $0.5$.  \n",
    "\n",
    "So the vanilla cookie makes us a little more certain that we chose Bowl 1."
   ]
  },
  {
   "cell_type": "markdown",
   "metadata": {},
   "source": [
    "**Exercise:** What if we had chosen a chocolate cookie instead; what would be the posterior probability of Bowl 1?"
   ]
  },
  {
   "cell_type": "code",
   "execution_count": null,
   "metadata": {},
   "outputs": [],
   "source": [
    "prior = 1/2\n",
    "likelihood = 1/4 # 10 chocolate cookies in 40\n",
    "prob_data = 3/8 # 30 chocolate cookies in 80\n",
    "posterior = prior * likelihood / prob_data\n",
    "posterior"
   ]
  },
  {
   "cell_type": "markdown",
   "metadata": {},
   "source": [
    "## The Bayes table\n",
    "\n",
    "In the cookie problem we were able to compute the probability of the data directly, but that's not always the case.  In fact, computing the total probability of the data is often the hardest part of the problem.\n",
    "\n",
    "Fortunately, there is another way to solve problems like this that makes it easier: the Bayes table.\n",
    "\n",
    "You can write a Bayes table on paper or use a spreadsheet, but in this notebook I'll use a Pandas DataFrame.\n",
    "\n",
    "Here's an empty DataFrame with one row for each hypothesis:"
   ]
  },
  {
   "cell_type": "code",
   "execution_count": null,
   "metadata": {},
   "outputs": [],
   "source": [
    "import pandas as pd\n",
    "\n",
    "table = pd.DataFrame(index=['Bowl 1', 'Bowl 2'])"
   ]
  },
  {
   "cell_type": "markdown",
   "metadata": {},
   "source": [
    "Now I'll add a column to represent the priors:"
   ]
  },
  {
   "cell_type": "code",
   "execution_count": null,
   "metadata": {},
   "outputs": [],
   "source": [
    "table['prior'] = 1/2, 1/2\n",
    "table"
   ]
  },
  {
   "cell_type": "markdown",
   "metadata": {},
   "source": [
    "And a column for the likelihoods:"
   ]
  },
  {
   "cell_type": "code",
   "execution_count": null,
   "metadata": {
    "scrolled": true
   },
   "outputs": [],
   "source": [
    "table['likelihood'] = 3/4, 1/2\n",
    "table"
   ]
  },
  {
   "cell_type": "markdown",
   "metadata": {},
   "source": [
    "Here we see a difference from the previous method: we compute likelihoods for both hypotheses, not just Bowl 1:\n",
    "\n",
    "* The chance of getting a vanilla cookie from Bowl 1 is 3/4.\n",
    "\n",
    "* The chance of getting a vanilla cookie from Bowl 2 is 1/2."
   ]
  },
  {
   "cell_type": "markdown",
   "metadata": {},
   "source": [
    "The following cells write the Bayes table to a file."
   ]
  },
  {
   "cell_type": "code",
   "execution_count": null,
   "metadata": {},
   "outputs": [],
   "source": [
    "# Get utils.py\n",
    "\n",
    "import os\n",
    "\n",
    "if not os.path.exists('utils.py'):\n",
    "    !wget https://github.com/AllenDowney/ThinkBayes2/raw/master/code/soln/utils.py\n",
    "        \n",
    "if not os.path.exists('tables'):\n",
    "    !mkdir tables"
   ]
  },
  {
   "cell_type": "code",
   "execution_count": null,
   "metadata": {},
   "outputs": [],
   "source": [
    "from utils import write_table\n",
    "\n",
    "write_table(table, 'table01-01')"
   ]
  },
  {
   "cell_type": "markdown",
   "metadata": {},
   "source": [
    "The next step is similar to what we did with Bayes's Theorem; we multiply the priors by the likelihoods:"
   ]
  },
  {
   "cell_type": "code",
   "execution_count": null,
   "metadata": {},
   "outputs": [],
   "source": [
    "table['unnorm'] = table['prior'] * table['likelihood']\n",
    "table"
   ]
  },
  {
   "cell_type": "markdown",
   "metadata": {},
   "source": [
    "I called the result `unnorm` because it is an \"unnormalized posterior\".  To see what that means, let's compare the right-hand side of Bayes's Theorem:\n",
    "\n",
    "$P(H) P(D|H)~/~P(D)$\n",
    "\n",
    "To what we have computed so far:\n",
    "\n",
    "$P(H) P(D|H)$\n",
    "\n",
    "The difference is that we have not divided through by $P(D)$, the total probability of the data.  So let's do that."
   ]
  },
  {
   "cell_type": "markdown",
   "metadata": {},
   "source": [
    "There are two ways to compute $P(D)$:\n",
    "\n",
    "1. Sometimes we can figure it out directly.\n",
    "\n",
    "2. Otherwise, we can compute it by adding up the unnormalized posteriors.\n",
    "\n",
    "Here's the total of the unnormalized posteriors:"
   ]
  },
  {
   "cell_type": "code",
   "execution_count": null,
   "metadata": {},
   "outputs": [],
   "source": [
    "prob_data = table['unnorm'].sum()\n",
    "prob_data"
   ]
  },
  {
   "cell_type": "markdown",
   "metadata": {},
   "source": [
    "Notice that we get 5/8, which is what we got by computing $P(D)$ directly.\n",
    "\n",
    "Now we divide by $P(D)$ to get the posteriors:"
   ]
  },
  {
   "cell_type": "code",
   "execution_count": null,
   "metadata": {},
   "outputs": [],
   "source": [
    "table['posterior'] = table['unnorm'] / prob_data\n",
    "table"
   ]
  },
  {
   "cell_type": "markdown",
   "metadata": {},
   "source": [
    "The posterior probability for Bowl 1 is 0.6, which is what we got using Bayes's Theorem explicitly.\n",
    "\n",
    "As a bonus, we also get the posterior probability of Bowl 2, which is 0.4.\n",
    "\n",
    "The posterior probabilities add up to 1, which they should, because the hypotheses are \"complementary\"; that is, either one of them is true or the other, but not both.  So their probabilities have to add up to 1.\n",
    "\n",
    "When we add up the unnormalized posteriors and divide through, we force the posteriors to add up to 1.  This process is called \"normalization\", which is why the total probability of the data is also called the \"[normalizing constant](https://en.wikipedia.org/wiki/Normalizing_constant#Bayes'_theorem)\""
   ]
  },
  {
   "cell_type": "code",
   "execution_count": null,
   "metadata": {},
   "outputs": [],
   "source": [
    "write_table(table, 'table01-02')"
   ]
  },
  {
   "cell_type": "markdown",
   "metadata": {},
   "source": [
    "## The dice problem\n",
    "\n",
    "Suppose I have a box with a 6-sided die, an 8-sided die, and a 12-sided die.\n",
    "I choose one of the dice at random, roll it, and report that the outcome is a 1.\n",
    "What is the probability that I chose the 6-sided die?\n",
    "\n",
    "Here's a solution using a Bayes table:"
   ]
  },
  {
   "cell_type": "code",
   "execution_count": null,
   "metadata": {},
   "outputs": [],
   "source": [
    "table2 = pd.DataFrame(index=[6, 8, 12])"
   ]
  },
  {
   "cell_type": "markdown",
   "metadata": {},
   "source": [
    "I'll use fractions to represent the prior probabilities and the likelihoods.  That way they don't get rounded off to floating-point numbers."
   ]
  },
  {
   "cell_type": "code",
   "execution_count": null,
   "metadata": {},
   "outputs": [],
   "source": [
    "from fractions import Fraction\n",
    "\n",
    "table2['prior'] = Fraction(1, 3)\n",
    "table2['likelihood'] = Fraction(1, 6), Fraction(1, 8), Fraction(1, 12)\n",
    "table2"
   ]
  },
  {
   "cell_type": "markdown",
   "metadata": {},
   "source": [
    "Once you have priors and likelhoods, the remaining steps are always the same."
   ]
  },
  {
   "cell_type": "code",
   "execution_count": null,
   "metadata": {},
   "outputs": [],
   "source": [
    "table2['unnorm'] = table2['prior'] * table2['likelihood']\n",
    "prob_data2 = table2['unnorm'].sum()\n",
    "table2['posterior'] = table2['unnorm'] / prob_data2\n",
    "table2"
   ]
  },
  {
   "cell_type": "markdown",
   "metadata": {},
   "source": [
    "The posterior probability of the 6-sided die is 4/9."
   ]
  },
  {
   "cell_type": "code",
   "execution_count": null,
   "metadata": {},
   "outputs": [],
   "source": [
    "write_table(table2, 'table01-03')"
   ]
  },
  {
   "cell_type": "markdown",
   "metadata": {},
   "source": [
    "## The Monty Hall problem\n",
    "\n",
    "The [Monty Hall problem](https://en.wikipedia.org/wiki/Monty_Hall_problem) is based on one of the regular\n",
    "games on a television show called \"The Price is Right\".  \n",
    "If you are a contestant on the show, here's how the game works:\n",
    "\n",
    "* Monty shows you three closed doors numbered 1, 2, and 3. He tells you that there is a prize behind each door.\n",
    "\n",
    "* One prize is valuable (traditionally a car), the other two are less valuable (traditionally goats).\n",
    "\n",
    "* The object of the game is to guess which door has the car. If you guess right, you get to keep the car.\n",
    "\n",
    "Suppose you pick Door 1.\n",
    "Before opening the door you chose, Monty opens Door 3 and reveals a\n",
    "goat.\n",
    "Then Monty offers you the option to stick with your original\n",
    "choice or switch to the remaining unopened door.\n",
    "\n",
    "To maximize your chance of winning the car, should you stick with Door 1 or switch to Door 2?\n",
    "\n",
    "To answer this question, we have to make some assumptions about the behavior of the host:\n",
    "\n",
    "* Monty always opens a door and offers you the option to switch.\n",
    "\n",
    "* He never opens the door you picked or the door with the car.\n",
    "\n",
    "* If you choose the door with the car, he chooses one of the other doors at random.\n",
    "\n",
    "Here's a Bayes table that represent the hypotheses."
   ]
  },
  {
   "cell_type": "code",
   "execution_count": null,
   "metadata": {},
   "outputs": [],
   "source": [
    "table3 = pd.DataFrame(index=['Door 1', 'Door 2', 'Door 3'])"
   ]
  },
  {
   "cell_type": "markdown",
   "metadata": {},
   "source": [
    "And here are the priors and likelihoods."
   ]
  },
  {
   "cell_type": "code",
   "execution_count": null,
   "metadata": {},
   "outputs": [],
   "source": [
    "table3['prior'] = Fraction(1, 3)\n",
    "table3['likelihood'] = Fraction(1, 2), 1, 0\n",
    "table3"
   ]
  },
  {
   "cell_type": "markdown",
   "metadata": {},
   "source": [
    "The next step is always the same."
   ]
  },
  {
   "cell_type": "code",
   "execution_count": null,
   "metadata": {},
   "outputs": [],
   "source": [
    "table3['unnorm'] = table3['prior'] * table3['likelihood']\n",
    "prob_data3 = table3['unnorm'].sum()\n",
    "table3['posterior'] = table3['unnorm'] / prob_data3\n",
    "table3"
   ]
  },
  {
   "cell_type": "markdown",
   "metadata": {},
   "source": [
    "The posterior probability for Door 2 is 2/3, so you are better off switching."
   ]
  },
  {
   "cell_type": "code",
   "execution_count": null,
   "metadata": {},
   "outputs": [],
   "source": [
    "write_table(table3, 'table01-04')"
   ]
  },
  {
   "cell_type": "markdown",
   "metadata": {},
   "source": [
    "## Exercises"
   ]
  },
  {
   "cell_type": "markdown",
   "metadata": {},
   "source": [
    "**Exercise:** Suppose you have two coins in a box.\n",
    "One is a normal coin with heads on one side and tails on the other, and one is a trick coin with heads on both sides.  You choose a coin at random and see that one of the sides is heads.\n",
    "What is the probability that you chose the trick coin?"
   ]
  },
  {
   "cell_type": "code",
   "execution_count": null,
   "metadata": {},
   "outputs": [],
   "source": [
    "table4 = pd.DataFrame(index=['fair','biased'])\n",
    "table4['prior'] = Fraction(1, 2), Fraction(1, 2)  # probability that the coin is fair or biased\n",
    "table4['likelihood'] = Fraction(1, 2), 1  # probability of getting heads\n",
    "table4['unnorm'] = table4['prior'] * table4['likelihood']\n",
    "prob_data4 = table4['unnorm'].sum()\n",
    "table4['posterior'] = table4['unnorm'] / prob_data4\n",
    "table4"
   ]
  },
  {
   "cell_type": "markdown",
   "metadata": {},
   "source": [
    "**Exercise:** Suppose you meet someone and learn that they have two children.\n",
    "You ask if either child is a girl and they say yes.\n",
    "What is the probability that both children are girls?\n",
    "\n",
    "Hint: Start with four equally likely hypotheses."
   ]
  },
  {
   "cell_type": "code",
   "execution_count": null,
   "metadata": {},
   "outputs": [],
   "source": [
    "table5 = pd.DataFrame(index=['boy_girl','boy_boy','girl_girl','girl_boy'])\n",
    "table5['prior'] = Fraction(1, 4)\n",
    "table5['likelihood'] = 1, 0, 1, 1\n",
    "table5['unnorm'] = table5['prior'] * table5['likelihood']\n",
    "prob_data5 = table5['unnorm'].sum()\n",
    "table5['posterior'] = table5['unnorm'] / prob_data5\n",
    "table5"
   ]
  },
  {
   "cell_type": "markdown",
   "metadata": {},
   "source": [
    "**Exercise:** There are many variations of the [Monty Hall problem](https://en.wikipedia.org/wiki/Monty_Hall_problem}).  \n",
    "For example, suppose Monty always chooses Door 2 if he can and\n",
    "only chooses Door 3 if he has to (because the car is behind Door 2).\n",
    "\n",
    "If you choose Door 1 and Monty opens Door 2, what is the probability the car is behind Door 3?\n",
    "\n",
    "If you choose Door 1 and Monty opens Door 3, what is the probability the car is behind Door 2?"
   ]
  },
  {
   "cell_type": "code",
   "execution_count": null,
   "metadata": {},
   "outputs": [],
   "source": [
    "# Solution goes here"
   ]
  },
  {
   "cell_type": "code",
   "execution_count": null,
   "metadata": {},
   "outputs": [],
   "source": [
    "# Solution goes here"
   ]
  },
  {
   "cell_type": "markdown",
   "metadata": {},
   "source": [
    "**Exercise:** M&M's are small candy-coated chocolates that come in a variety of\n",
    "colors.  Mars, Inc., which makes M&M's, changes the mixture of colors from time to time.\n",
    "In 1995, they introduced blue M&M's.  \n",
    "\n",
    "* In 1994, the color mix in a bag of plain M&M's was 30\\% Brown, 20\\% Yellow, 20\\% Red, 10\\% Green, 10\\% Orange, 10\\% Tan.  \n",
    "\n",
    "* In 1996, it was 24\\% Blue , 20\\% Green, 16\\% Orange, 14\\% Yellow, 13\\% Red, 13\\% Brown.\n",
    "\n",
    "Suppose a friend of mine has two bags of M&M's, and he tells me\n",
    "that one is from 1994 and one from 1996.  He won't tell me which is\n",
    "which, but he gives me one M&M from each bag.  One is yellow and\n",
    "one is green.  What is the probability that the yellow one came\n",
    "from the 1994 bag?\n",
    "\n",
    "Hint: The trick to this question is to define the hypotheses and the data carefully."
   ]
  },
  {
   "cell_type": "code",
   "execution_count": null,
   "metadata": {},
   "outputs": [],
   "source": [
    "# Solution goes here"
   ]
  },
  {
   "cell_type": "code",
   "execution_count": null,
   "metadata": {},
   "outputs": [],
   "source": []
  }
 ],
 "metadata": {
  "kernelspec": {
   "display_name": "Python 3",
   "language": "python",
   "name": "python3"
  },
  "language_info": {
   "codemirror_mode": {
    "name": "ipython",
    "version": 3
   },
   "file_extension": ".py",
   "mimetype": "text/x-python",
   "name": "python",
   "nbconvert_exporter": "python",
   "pygments_lexer": "ipython3",
   "version": "3.6.10"
  }
 },
 "nbformat": 4,
 "nbformat_minor": 2
}
